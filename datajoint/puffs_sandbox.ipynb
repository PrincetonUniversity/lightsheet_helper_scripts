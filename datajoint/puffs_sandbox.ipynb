{
 "cells": [
  {
   "cell_type": "markdown",
   "metadata": {},
   "source": [
    "# puffs_sandbox\n",
    "A sandbox for testing puffs datajoint database"
   ]
  },
  {
   "cell_type": "code",
   "execution_count": 1,
   "metadata": {},
   "outputs": [],
   "source": [
    "import pandas as pd\n",
    "import numpy as np\n",
    "import os\n",
    "import datajoint as dj\n",
    "import matplotlib\n",
    "import matplotlib.pyplot as plt\n",
    "from datetime import datetime\n",
    "matplotlib.style.use('ggplot')\n",
    "%matplotlib inline"
   ]
  },
  {
   "cell_type": "markdown",
   "metadata": {},
   "source": [
    "<a id='connect'></a>\n",
    "# Connect to the datajoint00 database\n",
    "Username and password are same as Princeton login.\n",
    "\n",
    "**Note**: You need to be on campus or using a VPN to connect to the database."
   ]
  },
  {
   "cell_type": "code",
   "execution_count": 2,
   "metadata": {},
   "outputs": [
    {
     "name": "stdout",
     "output_type": "stream",
     "text": [
      "Connecting ahoag@datajoint00.pni.princeton.edu:3306\n"
     ]
    },
    {
     "data": {
      "text/plain": [
       "DataJoint connection (connected) ahoag@datajoint00.pni.princeton.edu:3306"
      ]
     },
     "execution_count": 2,
     "metadata": {},
     "output_type": "execute_result"
    }
   ],
   "source": [
    "dj.config['database.host'] = 'datajoint00.pni.princeton.edu'\n",
    "dj.config['database.user'] = os.environ.get('DJ_DB_USER')\n",
    "dj.config['database.password'] = os.environ.get('DJ_DB_PASS')\n",
    "dj.conn()"
   ]
  },
  {
   "cell_type": "code",
   "execution_count": 3,
   "metadata": {},
   "outputs": [],
   "source": [
    "db_puffs = dj.create_virtual_module('puffs','u19_puffs')\n",
    "db_acq = dj.create_virtual_module('puffs','u19_acquisition')\n",
    "# db_spockadmin = dj.create_virtual_module('ahoag_spockadmin_demo','ahoag_spockadmin_demo')\n",
    "# db_lightsheet = dj.create_virtual_module('a','u19lightserv_lightsheet')"
   ]
  },
  {
   "cell_type": "code",
   "execution_count": 4,
   "metadata": {},
   "outputs": [
    {
     "data": {
      "text/html": [
       "\n",
       "        \n",
       "        <style type=\"text/css\">\n",
       "            .Relation{\n",
       "                border-collapse:collapse;\n",
       "            }\n",
       "            .Relation th{\n",
       "                background: #A0A0A0; color: #ffffff; padding:4px; border:#f0e0e0 1px solid;\n",
       "                font-weight: normal; font-family: monospace; font-size: 100%;\n",
       "            }\n",
       "            .Relation td{\n",
       "                padding:4px; border:#f0e0e0 1px solid; font-size:100%;\n",
       "            }\n",
       "            .Relation tr:nth-child(odd){\n",
       "                background: #ffffff;\n",
       "            }\n",
       "            .Relation tr:nth-child(even){\n",
       "                background: #f3f1ff;\n",
       "            }\n",
       "            /* Tooltip container */\n",
       "            .djtooltip {\n",
       "            }\n",
       "            /* Tooltip text */\n",
       "            .djtooltip .djtooltiptext {\n",
       "                visibility: hidden;\n",
       "                width: 120px;\n",
       "                background-color: black;\n",
       "                color: #fff;\n",
       "                text-align: center;\n",
       "                padding: 5px 0;\n",
       "                border-radius: 6px;\n",
       "                /* Position the tooltip text - see examples below! */\n",
       "                position: absolute;\n",
       "                z-index: 1;\n",
       "            }\n",
       "            #primary {\n",
       "                font-weight: bold;\n",
       "                color: black;\n",
       "            }\n",
       "\n",
       "            #nonprimary {\n",
       "                font-weight: normal;\n",
       "                color: white;\n",
       "            }\n",
       "\n",
       "            /* Show the tooltip text when you mouse over the tooltip container */\n",
       "            .djtooltip:hover .djtooltiptext {\n",
       "                visibility: visible;\n",
       "            }\n",
       "        </style>\n",
       "        \n",
       "        <b></b>\n",
       "            <div style=\"max-height:1000px;max-width:1500px;overflow:auto;\">\n",
       "            <table border=\"1\" class=\"Relation\">\n",
       "                <thead> <tr style=\"text-align: right;\"> <th> <div class=\"djtooltip\">\n",
       "                                <p id=\"primary\">subject_fullname</p>\n",
       "                                <span class=\"djtooltiptext\">username_mouse_nickname</span>\n",
       "                            </div></th><th><div class=\"djtooltip\">\n",
       "                                <p id=\"primary\">session_date</p>\n",
       "                                <span class=\"djtooltiptext\">date of experiment</span>\n",
       "                            </div></th><th><div class=\"djtooltip\">\n",
       "                                <p id=\"primary\">session_number</p>\n",
       "                                <span class=\"djtooltiptext\">number</span>\n",
       "                            </div></th><th><div class=\"djtooltip\">\n",
       "                                <p id=\"primary\">trial_idx</p>\n",
       "                                <span class=\"djtooltiptext\">trial index, keep the original number in the file</span>\n",
       "                            </div></th><th><div class=\"djtooltip\">\n",
       "                                <p id=\"nonprimary\">task</p>\n",
       "                                <span class=\"djtooltiptext\"></span>\n",
       "                            </div></th><th><div class=\"djtooltip\">\n",
       "                                <p id=\"nonprimary\">level</p>\n",
       "                                <span class=\"djtooltiptext\">difficulty level</span>\n",
       "                            </div></th><th><div class=\"djtooltip\">\n",
       "                                <p id=\"nonprimary\">set_id</p>\n",
       "                                <span class=\"djtooltiptext\">parameter set id</span>\n",
       "                            </div></th><th><div class=\"djtooltip\">\n",
       "                                <p id=\"nonprimary\">trial_type</p>\n",
       "                                <span class=\"djtooltiptext\">answer of this trial, left or right</span>\n",
       "                            </div></th><th><div class=\"djtooltip\">\n",
       "                                <p id=\"nonprimary\">choice</p>\n",
       "                                <span class=\"djtooltiptext\">choice of this trial, left or right</span>\n",
       "                            </div></th><th><div class=\"djtooltip\">\n",
       "                                <p id=\"nonprimary\">answered_correct</p>\n",
       "                                <span class=\"djtooltiptext\"></span>\n",
       "                            </div></th><th><div class=\"djtooltip\">\n",
       "                                <p id=\"nonprimary\">trial_prior_p_left</p>\n",
       "                                <span class=\"djtooltiptext\">prior probablity of this trial for left</span>\n",
       "                            </div></th><th><div class=\"djtooltip\">\n",
       "                                <p id=\"nonprimary\">trial_rel_start</p>\n",
       "                                <span class=\"djtooltiptext\">start time of the trial relative to the beginning of the session [seconds]</span>\n",
       "                            </div></th><th><div class=\"djtooltip\">\n",
       "                                <p id=\"nonprimary\">trial_rel_finish</p>\n",
       "                                <span class=\"djtooltiptext\">end time of the trial relative to the beginning of the session [seconds]</span>\n",
       "                            </div></th><th><div class=\"djtooltip\">\n",
       "                                <p id=\"nonprimary\">trial_duration</p>\n",
       "                                <span class=\"djtooltiptext\">duration of the trial [seconds]</span>\n",
       "                            </div></th><th><div class=\"djtooltip\">\n",
       "                                <p id=\"nonprimary\">cue_period</p>\n",
       "                                <span class=\"djtooltiptext\">duration of cue period [seconds]</span>\n",
       "                            </div></th><th><div class=\"djtooltip\">\n",
       "                                <p id=\"nonprimary\">num_puffs_intended_l</p>\n",
       "                                <span class=\"djtooltiptext\">number of puffs intended on the left side</span>\n",
       "                            </div></th><th><div class=\"djtooltip\">\n",
       "                                <p id=\"nonprimary\">num_puffs_received_r</p>\n",
       "                                <span class=\"djtooltiptext\">number of puffs actually received on the right side</span>\n",
       "                            </div></th><th><div class=\"djtooltip\">\n",
       "                                <p id=\"nonprimary\">num_puffs_intended_r</p>\n",
       "                                <span class=\"djtooltiptext\">number of puffs intended on the right side</span>\n",
       "                            </div></th><th><div class=\"djtooltip\">\n",
       "                                <p id=\"nonprimary\">num_puffs_received_l</p>\n",
       "                                <span class=\"djtooltiptext\">number of puffs actually received on the left side</span>\n",
       "                            </div></th><th><div class=\"djtooltip\">\n",
       "                                <p id=\"nonprimary\">reward_rel_start</p>\n",
       "                                <span class=\"djtooltiptext\">timing of reward relative to the beginning of the session [seconds]</span>\n",
       "                            </div></th><th><div class=\"djtooltip\">\n",
       "                                <p id=\"nonprimary\">reward_scale</p>\n",
       "                                <span class=\"djtooltiptext\">subject is given 4 microliters * reward_scale as a reward</span>\n",
       "                            </div></th><th><div class=\"djtooltip\">\n",
       "                                <p id=\"nonprimary\">rule</p>\n",
       "                                <span class=\"djtooltiptext\"></span>\n",
       "                            </div> </th> </tr> </thead>\n",
       "                <tbody> <tr> <td>oostland_Tsc1_evidence_accumulation_48</td>\n",
       "<td>2019-12-28</td>\n",
       "<td>0</td>\n",
       "<td>0</td>\n",
       "<td>AirPuffs</td>\n",
       "<td>4</td>\n",
       "<td>1</td>\n",
       "<td>R</td>\n",
       "<td>R</td>\n",
       "<td>1</td>\n",
       "<td>0.5</td>\n",
       "<td>91.8706</td>\n",
       "<td>104.329</td>\n",
       "<td>12.4581</td>\n",
       "<td>3.8</td>\n",
       "<td>2</td>\n",
       "<td>13</td>\n",
       "<td>13</td>\n",
       "<td>2</td>\n",
       "<td>97.8268</td>\n",
       "<td>1.0</td>\n",
       "<td>0</td></tr><tr><td>oostland_Tsc1_evidence_accumulation_48</td>\n",
       "<td>2019-12-28</td>\n",
       "<td>0</td>\n",
       "<td>1</td>\n",
       "<td>AirPuffs</td>\n",
       "<td>4</td>\n",
       "<td>1</td>\n",
       "<td>R</td>\n",
       "<td>R</td>\n",
       "<td>1</td>\n",
       "<td>0.5</td>\n",
       "<td>104.416</td>\n",
       "<td>116.824</td>\n",
       "<td>12.4074</td>\n",
       "<td>3.8</td>\n",
       "<td>2</td>\n",
       "<td>15</td>\n",
       "<td>15</td>\n",
       "<td>2</td>\n",
       "<td>110.308</td>\n",
       "<td>1.0</td>\n",
       "<td>0</td></tr><tr><td>oostland_Tsc1_evidence_accumulation_48</td>\n",
       "<td>2019-12-28</td>\n",
       "<td>0</td>\n",
       "<td>2</td>\n",
       "<td>AirPuffs</td>\n",
       "<td>4</td>\n",
       "<td>1</td>\n",
       "<td>L</td>\n",
       "<td>L</td>\n",
       "<td>1</td>\n",
       "<td>0.5</td>\n",
       "<td>116.93</td>\n",
       "<td>129.738</td>\n",
       "<td>12.8076</td>\n",
       "<td>3.8</td>\n",
       "<td>10</td>\n",
       "<td>2</td>\n",
       "<td>2</td>\n",
       "<td>10</td>\n",
       "<td>123.224</td>\n",
       "<td>1.0</td>\n",
       "<td>0</td></tr><tr><td>oostland_Tsc1_evidence_accumulation_48</td>\n",
       "<td>2019-12-28</td>\n",
       "<td>0</td>\n",
       "<td>3</td>\n",
       "<td>AirPuffs</td>\n",
       "<td>4</td>\n",
       "<td>1</td>\n",
       "<td>R</td>\n",
       "<td>L</td>\n",
       "<td>0</td>\n",
       "<td>0.5</td>\n",
       "<td>129.85</td>\n",
       "<td>148.228</td>\n",
       "<td>18.3784</td>\n",
       "<td>3.8</td>\n",
       "<td>2</td>\n",
       "<td>10</td>\n",
       "<td>10</td>\n",
       "<td>2</td>\n",
       "<td>0.0</td>\n",
       "<td>1.0</td>\n",
       "<td>0</td></tr><tr><td>oostland_Tsc1_evidence_accumulation_48</td>\n",
       "<td>2019-12-28</td>\n",
       "<td>0</td>\n",
       "<td>4</td>\n",
       "<td>AirPuffs</td>\n",
       "<td>4</td>\n",
       "<td>1</td>\n",
       "<td>L</td>\n",
       "<td>L</td>\n",
       "<td>1</td>\n",
       "<td>0.5</td>\n",
       "<td>148.336</td>\n",
       "<td>161.066</td>\n",
       "<td>12.7304</td>\n",
       "<td>3.8</td>\n",
       "<td>8</td>\n",
       "<td>2</td>\n",
       "<td>2</td>\n",
       "<td>8</td>\n",
       "<td>154.547</td>\n",
       "<td>1.0</td>\n",
       "<td>0</td></tr><tr><td>oostland_Tsc1_evidence_accumulation_48</td>\n",
       "<td>2019-12-28</td>\n",
       "<td>0</td>\n",
       "<td>5</td>\n",
       "<td>AirPuffs</td>\n",
       "<td>4</td>\n",
       "<td>1</td>\n",
       "<td>R</td>\n",
       "<td>L</td>\n",
       "<td>0</td>\n",
       "<td>0.5</td>\n",
       "<td>161.165</td>\n",
       "<td>179.548</td>\n",
       "<td>18.3829</td>\n",
       "<td>3.8</td>\n",
       "<td>2</td>\n",
       "<td>7</td>\n",
       "<td>7</td>\n",
       "<td>2</td>\n",
       "<td>0.0</td>\n",
       "<td>1.0</td>\n",
       "<td>0</td></tr><tr><td>oostland_Tsc1_evidence_accumulation_48</td>\n",
       "<td>2019-12-28</td>\n",
       "<td>0</td>\n",
       "<td>6</td>\n",
       "<td>AirPuffs</td>\n",
       "<td>4</td>\n",
       "<td>1</td>\n",
       "<td>L</td>\n",
       "<td>L</td>\n",
       "<td>1</td>\n",
       "<td>0.5</td>\n",
       "<td>179.664</td>\n",
       "<td>192.438</td>\n",
       "<td>12.7741</td>\n",
       "<td>3.8</td>\n",
       "<td>12</td>\n",
       "<td>2</td>\n",
       "<td>2</td>\n",
       "<td>12</td>\n",
       "<td>185.921</td>\n",
       "<td>1.0</td>\n",
       "<td>0</td></tr><tr><td>oostland_Tsc1_evidence_accumulation_48</td>\n",
       "<td>2019-12-28</td>\n",
       "<td>0</td>\n",
       "<td>7</td>\n",
       "<td>AirPuffs</td>\n",
       "<td>4</td>\n",
       "<td>1</td>\n",
       "<td>R</td>\n",
       "<td>L</td>\n",
       "<td>0</td>\n",
       "<td>0.5</td>\n",
       "<td>192.549</td>\n",
       "<td>210.941</td>\n",
       "<td>18.392</td>\n",
       "<td>3.8</td>\n",
       "<td>2</td>\n",
       "<td>9</td>\n",
       "<td>9</td>\n",
       "<td>2</td>\n",
       "<td>0.0</td>\n",
       "<td>1.0</td>\n",
       "<td>0</td></tr><tr><td>oostland_Tsc1_evidence_accumulation_48</td>\n",
       "<td>2019-12-28</td>\n",
       "<td>0</td>\n",
       "<td>8</td>\n",
       "<td>AirPuffs</td>\n",
       "<td>4</td>\n",
       "<td>1</td>\n",
       "<td>L</td>\n",
       "<td>L</td>\n",
       "<td>1</td>\n",
       "<td>0.5</td>\n",
       "<td>211.042</td>\n",
       "<td>221.284</td>\n",
       "<td>10.2413</td>\n",
       "<td>1.5</td>\n",
       "<td>7</td>\n",
       "<td>2</td>\n",
       "<td>2</td>\n",
       "<td>7</td>\n",
       "<td>214.764</td>\n",
       "<td>1.0</td>\n",
       "<td>0</td></tr><tr><td>oostland_Tsc1_evidence_accumulation_48</td>\n",
       "<td>2019-12-28</td>\n",
       "<td>0</td>\n",
       "<td>9</td>\n",
       "<td>AirPuffs</td>\n",
       "<td>4</td>\n",
       "<td>1</td>\n",
       "<td>R</td>\n",
       "<td>L</td>\n",
       "<td>0</td>\n",
       "<td>0.5</td>\n",
       "<td>221.392</td>\n",
       "<td>239.863</td>\n",
       "<td>18.4705</td>\n",
       "<td>3.8</td>\n",
       "<td>2</td>\n",
       "<td>12</td>\n",
       "<td>12</td>\n",
       "<td>2</td>\n",
       "<td>0.0</td>\n",
       "<td>1.0</td>\n",
       "<td>0</td></tr><tr><td>oostland_Tsc1_evidence_accumulation_48</td>\n",
       "<td>2019-12-28</td>\n",
       "<td>0</td>\n",
       "<td>10</td>\n",
       "<td>AirPuffs</td>\n",
       "<td>5</td>\n",
       "<td>1</td>\n",
       "<td>L</td>\n",
       "<td>L</td>\n",
       "<td>1</td>\n",
       "<td>0.5</td>\n",
       "<td>239.988</td>\n",
       "<td>252.723</td>\n",
       "<td>12.7354</td>\n",
       "<td>3.8</td>\n",
       "<td>7</td>\n",
       "<td>2</td>\n",
       "<td>2</td>\n",
       "<td>7</td>\n",
       "<td>246.205</td>\n",
       "<td>1.0</td>\n",
       "<td>0</td></tr><tr><td>oostland_Tsc1_evidence_accumulation_48</td>\n",
       "<td>2019-12-28</td>\n",
       "<td>0</td>\n",
       "<td>11</td>\n",
       "<td>AirPuffs</td>\n",
       "<td>5</td>\n",
       "<td>1</td>\n",
       "<td>R</td>\n",
       "<td>L</td>\n",
       "<td>0</td>\n",
       "<td>0.5</td>\n",
       "<td>252.839</td>\n",
       "<td>271.489</td>\n",
       "<td>18.6496</td>\n",
       "<td>3.8</td>\n",
       "<td>2</td>\n",
       "<td>8</td>\n",
       "<td>8</td>\n",
       "<td>2</td>\n",
       "<td>0.0</td>\n",
       "<td>1.0</td>\n",
       "<td>0</td> </tr> </tbody>\n",
       "            </table>\n",
       "            <p>...</p>\n",
       "            <p>Total: 1264</p></div>\n",
       "            "
      ],
      "text/plain": [
       "*subject_fulln *session_date  *session_numbe *trial_idx    task         level     set_id     trial_type     choice     answered_corre trial_prior_p_ trial_rel_star trial_rel_fini trial_duration cue_period     num_puffs_inte num_puffs_rece num_puffs_inte num_puffs_rece reward_rel_sta reward_scale   rule    \n",
       "+------------+ +------------+ +------------+ +-----------+ +----------+ +-------+ +--------+ +------------+ +--------+ +------------+ +------------+ +------------+ +------------+ +------------+ +------------+ +------------+ +------------+ +------------+ +------------+ +------------+ +------------+ +------+\n",
       "oostland_Tsc1_ 2019-12-28     0              0             AirPuffs     4         1          R              R          1              0.5            91.8706        104.329        12.4581        3.8            2              13             13             2              97.8268        1.0            0       \n",
       "oostland_Tsc1_ 2019-12-28     0              1             AirPuffs     4         1          R              R          1              0.5            104.416        116.824        12.4074        3.8            2              15             15             2              110.308        1.0            0       \n",
       "oostland_Tsc1_ 2019-12-28     0              2             AirPuffs     4         1          L              L          1              0.5            116.93         129.738        12.8076        3.8            10             2              2              10             123.224        1.0            0       \n",
       "oostland_Tsc1_ 2019-12-28     0              3             AirPuffs     4         1          R              L          0              0.5            129.85         148.228        18.3784        3.8            2              10             10             2              0.0            1.0            0       \n",
       "oostland_Tsc1_ 2019-12-28     0              4             AirPuffs     4         1          L              L          1              0.5            148.336        161.066        12.7304        3.8            8              2              2              8              154.547        1.0            0       \n",
       "oostland_Tsc1_ 2019-12-28     0              5             AirPuffs     4         1          R              L          0              0.5            161.165        179.548        18.3829        3.8            2              7              7              2              0.0            1.0            0       \n",
       "oostland_Tsc1_ 2019-12-28     0              6             AirPuffs     4         1          L              L          1              0.5            179.664        192.438        12.7741        3.8            12             2              2              12             185.921        1.0            0       \n",
       "oostland_Tsc1_ 2019-12-28     0              7             AirPuffs     4         1          R              L          0              0.5            192.549        210.941        18.392         3.8            2              9              9              2              0.0            1.0            0       \n",
       "oostland_Tsc1_ 2019-12-28     0              8             AirPuffs     4         1          L              L          1              0.5            211.042        221.284        10.2413        1.5            7              2              2              7              214.764        1.0            0       \n",
       "oostland_Tsc1_ 2019-12-28     0              9             AirPuffs     4         1          R              L          0              0.5            221.392        239.863        18.4705        3.8            2              12             12             2              0.0            1.0            0       \n",
       "oostland_Tsc1_ 2019-12-28     0              10            AirPuffs     5         1          L              L          1              0.5            239.988        252.723        12.7354        3.8            7              2              2              7              246.205        1.0            0       \n",
       "oostland_Tsc1_ 2019-12-28     0              11            AirPuffs     5         1          R              L          0              0.5            252.839        271.489        18.6496        3.8            2              8              8              2              0.0            1.0            0       \n",
       "   ...\n",
       " (Total: 1264)"
      ]
     },
     "execution_count": 4,
     "metadata": {},
     "output_type": "execute_result"
    }
   ],
   "source": [
    "db_puffs.PuffsSession.Trial()"
   ]
  },
  {
   "cell_type": "markdown",
   "metadata": {},
   "source": [
    "# Make psychometric curve.\n",
    "To do that need to:\n",
    "1. Select all trials for a given session \n",
    "2. Make a new column that is num_puffs_received_r - num_puffs_received_l\n",
    "3. For each distinct value of #R-#L figure out the fraction of decisions to go R"
   ]
  },
  {
   "cell_type": "code",
   "execution_count": 5,
   "metadata": {},
   "outputs": [
    {
     "data": {
      "text/html": [
       "\n",
       "        \n",
       "        <style type=\"text/css\">\n",
       "            .Relation{\n",
       "                border-collapse:collapse;\n",
       "            }\n",
       "            .Relation th{\n",
       "                background: #A0A0A0; color: #ffffff; padding:4px; border:#f0e0e0 1px solid;\n",
       "                font-weight: normal; font-family: monospace; font-size: 100%;\n",
       "            }\n",
       "            .Relation td{\n",
       "                padding:4px; border:#f0e0e0 1px solid; font-size:100%;\n",
       "            }\n",
       "            .Relation tr:nth-child(odd){\n",
       "                background: #ffffff;\n",
       "            }\n",
       "            .Relation tr:nth-child(even){\n",
       "                background: #f3f1ff;\n",
       "            }\n",
       "            /* Tooltip container */\n",
       "            .djtooltip {\n",
       "            }\n",
       "            /* Tooltip text */\n",
       "            .djtooltip .djtooltiptext {\n",
       "                visibility: hidden;\n",
       "                width: 120px;\n",
       "                background-color: black;\n",
       "                color: #fff;\n",
       "                text-align: center;\n",
       "                padding: 5px 0;\n",
       "                border-radius: 6px;\n",
       "                /* Position the tooltip text - see examples below! */\n",
       "                position: absolute;\n",
       "                z-index: 1;\n",
       "            }\n",
       "            #primary {\n",
       "                font-weight: bold;\n",
       "                color: black;\n",
       "            }\n",
       "\n",
       "            #nonprimary {\n",
       "                font-weight: normal;\n",
       "                color: white;\n",
       "            }\n",
       "\n",
       "            /* Show the tooltip text when you mouse over the tooltip container */\n",
       "            .djtooltip:hover .djtooltiptext {\n",
       "                visibility: visible;\n",
       "            }\n",
       "        </style>\n",
       "        \n",
       "        <b></b>\n",
       "            <div style=\"max-height:1000px;max-width:1500px;overflow:auto;\">\n",
       "            <table border=\"1\" class=\"Relation\">\n",
       "                <thead> <tr style=\"text-align: right;\"> <th> <div class=\"djtooltip\">\n",
       "                                <p id=\"primary\">subject_fullname</p>\n",
       "                                <span class=\"djtooltiptext\">username_mouse_nickname</span>\n",
       "                            </div></th><th><div class=\"djtooltip\">\n",
       "                                <p id=\"primary\">session_date</p>\n",
       "                                <span class=\"djtooltiptext\">date of experiment</span>\n",
       "                            </div></th><th><div class=\"djtooltip\">\n",
       "                                <p id=\"primary\">session_number</p>\n",
       "                                <span class=\"djtooltiptext\">number</span>\n",
       "                            </div></th><th><div class=\"djtooltip\">\n",
       "                                <p id=\"nonprimary\">session_start_time</p>\n",
       "                                <span class=\"djtooltiptext\">start time</span>\n",
       "                            </div></th><th><div class=\"djtooltip\">\n",
       "                                <p id=\"nonprimary\">session_end_time</p>\n",
       "                                <span class=\"djtooltiptext\">end time</span>\n",
       "                            </div></th><th><div class=\"djtooltip\">\n",
       "                                <p id=\"nonprimary\">session_location</p>\n",
       "                                <span class=\"djtooltiptext\"></span>\n",
       "                            </div></th><th><div class=\"djtooltip\">\n",
       "                                <p id=\"nonprimary\">task</p>\n",
       "                                <span class=\"djtooltiptext\"></span>\n",
       "                            </div></th><th><div class=\"djtooltip\">\n",
       "                                <p id=\"nonprimary\">level</p>\n",
       "                                <span class=\"djtooltiptext\">difficulty level</span>\n",
       "                            </div></th><th><div class=\"djtooltip\">\n",
       "                                <p id=\"nonprimary\">set_id</p>\n",
       "                                <span class=\"djtooltiptext\">parameter set id</span>\n",
       "                            </div></th><th><div class=\"djtooltip\">\n",
       "                                <p id=\"nonprimary\">stimulus_bank</p>\n",
       "                                <span class=\"djtooltiptext\">path to the function to generate the stimulus</span>\n",
       "                            </div></th><th><div class=\"djtooltip\">\n",
       "                                <p id=\"nonprimary\">stimulus_commit</p>\n",
       "                                <span class=\"djtooltiptext\">git hash for the version of the function</span>\n",
       "                            </div></th><th><div class=\"djtooltip\">\n",
       "                                <p id=\"nonprimary\">session_performance</p>\n",
       "                                <span class=\"djtooltiptext\">percentage correct on this session</span>\n",
       "                            </div></th><th><div class=\"djtooltip\">\n",
       "                                <p id=\"nonprimary\">num_trials</p>\n",
       "                                <span class=\"djtooltiptext\">Number of trials for the session</span>\n",
       "                            </div></th><th><div class=\"djtooltip\">\n",
       "                                <p id=\"nonprimary\">num_trials_try</p>\n",
       "                                <span class=\"djtooltiptext\">Accumulative number of trials for each try of the session</span>\n",
       "                            </div></th><th><div class=\"djtooltip\">\n",
       "                                <p id=\"nonprimary\">session_narrative</p>\n",
       "                                <span class=\"djtooltiptext\"></span>\n",
       "                            </div></th><th><div class=\"djtooltip\">\n",
       "                                <p id=\"nonprimary\">session_protocol</p>\n",
       "                                <span class=\"djtooltiptext\">function and parameters to generate the stimulus</span>\n",
       "                            </div></th><th><div class=\"djtooltip\">\n",
       "                                <p id=\"nonprimary\">session_code_version</p>\n",
       "                                <span class=\"djtooltiptext\">code version of the stimulus, maybe a version number, or a githash</span>\n",
       "                            </div></th><th><div class=\"djtooltip\">\n",
       "                                <p id=\"nonprimary\">is_bad_session</p>\n",
       "                                <span class=\"djtooltiptext\">Flag that indicates if this session had any issues</span>\n",
       "                            </div></th><th><div class=\"djtooltip\">\n",
       "                                <p id=\"nonprimary\">session_comments</p>\n",
       "                                <span class=\"djtooltiptext\">Text to indicate some particularity of the session (e.g. state the issues in a bad session)</span>\n",
       "                            </div> </th> </tr> </thead>\n",
       "                <tbody> <tr> <td>oostland_Tsc1_evidence_accumulation_48</td>\n",
       "<td>2019-12-28</td>\n",
       "<td>0</td>\n",
       "<td>2019-12-28 11:49:26</td>\n",
       "<td>2019-12-28 12:57:10</td>\n",
       "<td>pni-ltl016-05</td>\n",
       "<td>AirPuffs</td>\n",
       "<td>9</td>\n",
       "<td>1</td>\n",
       "<td></td>\n",
       "<td></td>\n",
       "<td>34.8</td>\n",
       "<td>270</td>\n",
       "<td>=BLOB=</td>\n",
       "<td></td>\n",
       "<td>None</td>\n",
       "<td>=BLOB=</td>\n",
       "<td>0</td>\n",
       "<td></td> </tr> </tbody>\n",
       "            </table>\n",
       "            \n",
       "            <p>Total: 1</p></div>\n",
       "            "
      ],
      "text/plain": [
       "*subject_fulln *session_date  *session_numbe session_start_ session_end_ti session_locati task         level     set_id     stimulus_bank  stimulus_commi session_perfor num_trials     num_trials session_narrat session_protoc session_co is_bad_session session_commen\n",
       "+------------+ +------------+ +------------+ +------------+ +------------+ +------------+ +----------+ +-------+ +--------+ +------------+ +------------+ +------------+ +------------+ +--------+ +------------+ +------------+ +--------+ +------------+ +------------+\n",
       "oostland_Tsc1_ 2019-12-28     0              2019-12-28 11: 2019-12-28 12: pni-ltl016-05  AirPuffs     9         1                                        34.8           270            =BLOB=                    None           =BLOB=     0                            \n",
       " (Total: 1)"
      ]
     },
     "execution_count": 5,
     "metadata": {},
     "output_type": "execute_result"
    }
   ],
   "source": [
    "db_acq.Session() & {'subject_fullname':'oostland_Tsc1_evidence_accumulation_48',\n",
    "                                'session_date':'2019-12-28'}"
   ]
  },
  {
   "cell_type": "code",
   "execution_count": 6,
   "metadata": {},
   "outputs": [
    {
     "data": {
      "text/html": [
       "\n",
       "        \n",
       "        <style type=\"text/css\">\n",
       "            .Relation{\n",
       "                border-collapse:collapse;\n",
       "            }\n",
       "            .Relation th{\n",
       "                background: #A0A0A0; color: #ffffff; padding:4px; border:#f0e0e0 1px solid;\n",
       "                font-weight: normal; font-family: monospace; font-size: 100%;\n",
       "            }\n",
       "            .Relation td{\n",
       "                padding:4px; border:#f0e0e0 1px solid; font-size:100%;\n",
       "            }\n",
       "            .Relation tr:nth-child(odd){\n",
       "                background: #ffffff;\n",
       "            }\n",
       "            .Relation tr:nth-child(even){\n",
       "                background: #f3f1ff;\n",
       "            }\n",
       "            /* Tooltip container */\n",
       "            .djtooltip {\n",
       "            }\n",
       "            /* Tooltip text */\n",
       "            .djtooltip .djtooltiptext {\n",
       "                visibility: hidden;\n",
       "                width: 120px;\n",
       "                background-color: black;\n",
       "                color: #fff;\n",
       "                text-align: center;\n",
       "                padding: 5px 0;\n",
       "                border-radius: 6px;\n",
       "                /* Position the tooltip text - see examples below! */\n",
       "                position: absolute;\n",
       "                z-index: 1;\n",
       "            }\n",
       "            #primary {\n",
       "                font-weight: bold;\n",
       "                color: black;\n",
       "            }\n",
       "\n",
       "            #nonprimary {\n",
       "                font-weight: normal;\n",
       "                color: white;\n",
       "            }\n",
       "\n",
       "            /* Show the tooltip text when you mouse over the tooltip container */\n",
       "            .djtooltip:hover .djtooltiptext {\n",
       "                visibility: visible;\n",
       "            }\n",
       "        </style>\n",
       "        \n",
       "        <b></b>\n",
       "            <div style=\"max-height:1000px;max-width:1500px;overflow:auto;\">\n",
       "            <table border=\"1\" class=\"Relation\">\n",
       "                <thead> <tr style=\"text-align: right;\"> <th> <div class=\"djtooltip\">\n",
       "                                <p id=\"primary\">subject_fullname</p>\n",
       "                                <span class=\"djtooltiptext\">username_mouse_nickname</span>\n",
       "                            </div></th><th><div class=\"djtooltip\">\n",
       "                                <p id=\"primary\">session_date</p>\n",
       "                                <span class=\"djtooltiptext\">date of experiment</span>\n",
       "                            </div></th><th><div class=\"djtooltip\">\n",
       "                                <p id=\"primary\">session_number</p>\n",
       "                                <span class=\"djtooltiptext\">number</span>\n",
       "                            </div></th><th><div class=\"djtooltip\">\n",
       "                                <p id=\"primary\">trial_idx</p>\n",
       "                                <span class=\"djtooltiptext\">trial index, keep the original number in the file</span>\n",
       "                            </div></th><th><div class=\"djtooltip\">\n",
       "                                <p id=\"nonprimary\">task</p>\n",
       "                                <span class=\"djtooltiptext\"></span>\n",
       "                            </div></th><th><div class=\"djtooltip\">\n",
       "                                <p id=\"nonprimary\">level</p>\n",
       "                                <span class=\"djtooltiptext\">difficulty level</span>\n",
       "                            </div></th><th><div class=\"djtooltip\">\n",
       "                                <p id=\"nonprimary\">set_id</p>\n",
       "                                <span class=\"djtooltiptext\">parameter set id</span>\n",
       "                            </div></th><th><div class=\"djtooltip\">\n",
       "                                <p id=\"nonprimary\">trial_type</p>\n",
       "                                <span class=\"djtooltiptext\">answer of this trial, left or right</span>\n",
       "                            </div></th><th><div class=\"djtooltip\">\n",
       "                                <p id=\"nonprimary\">choice</p>\n",
       "                                <span class=\"djtooltiptext\">choice of this trial, left or right</span>\n",
       "                            </div></th><th><div class=\"djtooltip\">\n",
       "                                <p id=\"nonprimary\">answered_correct</p>\n",
       "                                <span class=\"djtooltiptext\"></span>\n",
       "                            </div></th><th><div class=\"djtooltip\">\n",
       "                                <p id=\"nonprimary\">trial_prior_p_left</p>\n",
       "                                <span class=\"djtooltiptext\">prior probablity of this trial for left</span>\n",
       "                            </div></th><th><div class=\"djtooltip\">\n",
       "                                <p id=\"nonprimary\">trial_rel_start</p>\n",
       "                                <span class=\"djtooltiptext\">start time of the trial relative to the beginning of the session [seconds]</span>\n",
       "                            </div></th><th><div class=\"djtooltip\">\n",
       "                                <p id=\"nonprimary\">trial_rel_finish</p>\n",
       "                                <span class=\"djtooltiptext\">end time of the trial relative to the beginning of the session [seconds]</span>\n",
       "                            </div></th><th><div class=\"djtooltip\">\n",
       "                                <p id=\"nonprimary\">trial_duration</p>\n",
       "                                <span class=\"djtooltiptext\">duration of the trial [seconds]</span>\n",
       "                            </div></th><th><div class=\"djtooltip\">\n",
       "                                <p id=\"nonprimary\">cue_period</p>\n",
       "                                <span class=\"djtooltiptext\">duration of cue period [seconds]</span>\n",
       "                            </div></th><th><div class=\"djtooltip\">\n",
       "                                <p id=\"nonprimary\">num_puffs_intended_l</p>\n",
       "                                <span class=\"djtooltiptext\">number of puffs intended on the left side</span>\n",
       "                            </div></th><th><div class=\"djtooltip\">\n",
       "                                <p id=\"nonprimary\">num_puffs_received_r</p>\n",
       "                                <span class=\"djtooltiptext\">number of puffs actually received on the right side</span>\n",
       "                            </div></th><th><div class=\"djtooltip\">\n",
       "                                <p id=\"nonprimary\">num_puffs_intended_r</p>\n",
       "                                <span class=\"djtooltiptext\">number of puffs intended on the right side</span>\n",
       "                            </div></th><th><div class=\"djtooltip\">\n",
       "                                <p id=\"nonprimary\">num_puffs_received_l</p>\n",
       "                                <span class=\"djtooltiptext\">number of puffs actually received on the left side</span>\n",
       "                            </div></th><th><div class=\"djtooltip\">\n",
       "                                <p id=\"nonprimary\">reward_rel_start</p>\n",
       "                                <span class=\"djtooltiptext\">timing of reward relative to the beginning of the session [seconds]</span>\n",
       "                            </div></th><th><div class=\"djtooltip\">\n",
       "                                <p id=\"nonprimary\">reward_scale</p>\n",
       "                                <span class=\"djtooltiptext\">subject is given 4 microliters * reward_scale as a reward</span>\n",
       "                            </div></th><th><div class=\"djtooltip\">\n",
       "                                <p id=\"nonprimary\">rule</p>\n",
       "                                <span class=\"djtooltiptext\"></span>\n",
       "                            </div> </th> </tr> </thead>\n",
       "                <tbody> <tr> <td>oostland_Tsc1_evidence_accumulation_48</td>\n",
       "<td>2019-12-28</td>\n",
       "<td>0</td>\n",
       "<td>0</td>\n",
       "<td>AirPuffs</td>\n",
       "<td>4</td>\n",
       "<td>1</td>\n",
       "<td>R</td>\n",
       "<td>R</td>\n",
       "<td>1</td>\n",
       "<td>0.5</td>\n",
       "<td>91.8706</td>\n",
       "<td>104.329</td>\n",
       "<td>12.4581</td>\n",
       "<td>3.8</td>\n",
       "<td>2</td>\n",
       "<td>13</td>\n",
       "<td>13</td>\n",
       "<td>2</td>\n",
       "<td>97.8268</td>\n",
       "<td>1.0</td>\n",
       "<td>0</td></tr><tr><td>oostland_Tsc1_evidence_accumulation_48</td>\n",
       "<td>2019-12-28</td>\n",
       "<td>0</td>\n",
       "<td>1</td>\n",
       "<td>AirPuffs</td>\n",
       "<td>4</td>\n",
       "<td>1</td>\n",
       "<td>R</td>\n",
       "<td>R</td>\n",
       "<td>1</td>\n",
       "<td>0.5</td>\n",
       "<td>104.416</td>\n",
       "<td>116.824</td>\n",
       "<td>12.4074</td>\n",
       "<td>3.8</td>\n",
       "<td>2</td>\n",
       "<td>15</td>\n",
       "<td>15</td>\n",
       "<td>2</td>\n",
       "<td>110.308</td>\n",
       "<td>1.0</td>\n",
       "<td>0</td></tr><tr><td>oostland_Tsc1_evidence_accumulation_48</td>\n",
       "<td>2019-12-28</td>\n",
       "<td>0</td>\n",
       "<td>2</td>\n",
       "<td>AirPuffs</td>\n",
       "<td>4</td>\n",
       "<td>1</td>\n",
       "<td>L</td>\n",
       "<td>L</td>\n",
       "<td>1</td>\n",
       "<td>0.5</td>\n",
       "<td>116.93</td>\n",
       "<td>129.738</td>\n",
       "<td>12.8076</td>\n",
       "<td>3.8</td>\n",
       "<td>10</td>\n",
       "<td>2</td>\n",
       "<td>2</td>\n",
       "<td>10</td>\n",
       "<td>123.224</td>\n",
       "<td>1.0</td>\n",
       "<td>0</td></tr><tr><td>oostland_Tsc1_evidence_accumulation_48</td>\n",
       "<td>2019-12-28</td>\n",
       "<td>0</td>\n",
       "<td>3</td>\n",
       "<td>AirPuffs</td>\n",
       "<td>4</td>\n",
       "<td>1</td>\n",
       "<td>R</td>\n",
       "<td>L</td>\n",
       "<td>0</td>\n",
       "<td>0.5</td>\n",
       "<td>129.85</td>\n",
       "<td>148.228</td>\n",
       "<td>18.3784</td>\n",
       "<td>3.8</td>\n",
       "<td>2</td>\n",
       "<td>10</td>\n",
       "<td>10</td>\n",
       "<td>2</td>\n",
       "<td>0.0</td>\n",
       "<td>1.0</td>\n",
       "<td>0</td></tr><tr><td>oostland_Tsc1_evidence_accumulation_48</td>\n",
       "<td>2019-12-28</td>\n",
       "<td>0</td>\n",
       "<td>4</td>\n",
       "<td>AirPuffs</td>\n",
       "<td>4</td>\n",
       "<td>1</td>\n",
       "<td>L</td>\n",
       "<td>L</td>\n",
       "<td>1</td>\n",
       "<td>0.5</td>\n",
       "<td>148.336</td>\n",
       "<td>161.066</td>\n",
       "<td>12.7304</td>\n",
       "<td>3.8</td>\n",
       "<td>8</td>\n",
       "<td>2</td>\n",
       "<td>2</td>\n",
       "<td>8</td>\n",
       "<td>154.547</td>\n",
       "<td>1.0</td>\n",
       "<td>0</td></tr><tr><td>oostland_Tsc1_evidence_accumulation_48</td>\n",
       "<td>2019-12-28</td>\n",
       "<td>0</td>\n",
       "<td>5</td>\n",
       "<td>AirPuffs</td>\n",
       "<td>4</td>\n",
       "<td>1</td>\n",
       "<td>R</td>\n",
       "<td>L</td>\n",
       "<td>0</td>\n",
       "<td>0.5</td>\n",
       "<td>161.165</td>\n",
       "<td>179.548</td>\n",
       "<td>18.3829</td>\n",
       "<td>3.8</td>\n",
       "<td>2</td>\n",
       "<td>7</td>\n",
       "<td>7</td>\n",
       "<td>2</td>\n",
       "<td>0.0</td>\n",
       "<td>1.0</td>\n",
       "<td>0</td></tr><tr><td>oostland_Tsc1_evidence_accumulation_48</td>\n",
       "<td>2019-12-28</td>\n",
       "<td>0</td>\n",
       "<td>6</td>\n",
       "<td>AirPuffs</td>\n",
       "<td>4</td>\n",
       "<td>1</td>\n",
       "<td>L</td>\n",
       "<td>L</td>\n",
       "<td>1</td>\n",
       "<td>0.5</td>\n",
       "<td>179.664</td>\n",
       "<td>192.438</td>\n",
       "<td>12.7741</td>\n",
       "<td>3.8</td>\n",
       "<td>12</td>\n",
       "<td>2</td>\n",
       "<td>2</td>\n",
       "<td>12</td>\n",
       "<td>185.921</td>\n",
       "<td>1.0</td>\n",
       "<td>0</td></tr><tr><td>oostland_Tsc1_evidence_accumulation_48</td>\n",
       "<td>2019-12-28</td>\n",
       "<td>0</td>\n",
       "<td>7</td>\n",
       "<td>AirPuffs</td>\n",
       "<td>4</td>\n",
       "<td>1</td>\n",
       "<td>R</td>\n",
       "<td>L</td>\n",
       "<td>0</td>\n",
       "<td>0.5</td>\n",
       "<td>192.549</td>\n",
       "<td>210.941</td>\n",
       "<td>18.392</td>\n",
       "<td>3.8</td>\n",
       "<td>2</td>\n",
       "<td>9</td>\n",
       "<td>9</td>\n",
       "<td>2</td>\n",
       "<td>0.0</td>\n",
       "<td>1.0</td>\n",
       "<td>0</td></tr><tr><td>oostland_Tsc1_evidence_accumulation_48</td>\n",
       "<td>2019-12-28</td>\n",
       "<td>0</td>\n",
       "<td>8</td>\n",
       "<td>AirPuffs</td>\n",
       "<td>4</td>\n",
       "<td>1</td>\n",
       "<td>L</td>\n",
       "<td>L</td>\n",
       "<td>1</td>\n",
       "<td>0.5</td>\n",
       "<td>211.042</td>\n",
       "<td>221.284</td>\n",
       "<td>10.2413</td>\n",
       "<td>1.5</td>\n",
       "<td>7</td>\n",
       "<td>2</td>\n",
       "<td>2</td>\n",
       "<td>7</td>\n",
       "<td>214.764</td>\n",
       "<td>1.0</td>\n",
       "<td>0</td></tr><tr><td>oostland_Tsc1_evidence_accumulation_48</td>\n",
       "<td>2019-12-28</td>\n",
       "<td>0</td>\n",
       "<td>9</td>\n",
       "<td>AirPuffs</td>\n",
       "<td>4</td>\n",
       "<td>1</td>\n",
       "<td>R</td>\n",
       "<td>L</td>\n",
       "<td>0</td>\n",
       "<td>0.5</td>\n",
       "<td>221.392</td>\n",
       "<td>239.863</td>\n",
       "<td>18.4705</td>\n",
       "<td>3.8</td>\n",
       "<td>2</td>\n",
       "<td>12</td>\n",
       "<td>12</td>\n",
       "<td>2</td>\n",
       "<td>0.0</td>\n",
       "<td>1.0</td>\n",
       "<td>0</td></tr><tr><td>oostland_Tsc1_evidence_accumulation_48</td>\n",
       "<td>2019-12-28</td>\n",
       "<td>0</td>\n",
       "<td>10</td>\n",
       "<td>AirPuffs</td>\n",
       "<td>5</td>\n",
       "<td>1</td>\n",
       "<td>L</td>\n",
       "<td>L</td>\n",
       "<td>1</td>\n",
       "<td>0.5</td>\n",
       "<td>239.988</td>\n",
       "<td>252.723</td>\n",
       "<td>12.7354</td>\n",
       "<td>3.8</td>\n",
       "<td>7</td>\n",
       "<td>2</td>\n",
       "<td>2</td>\n",
       "<td>7</td>\n",
       "<td>246.205</td>\n",
       "<td>1.0</td>\n",
       "<td>0</td></tr><tr><td>oostland_Tsc1_evidence_accumulation_48</td>\n",
       "<td>2019-12-28</td>\n",
       "<td>0</td>\n",
       "<td>11</td>\n",
       "<td>AirPuffs</td>\n",
       "<td>5</td>\n",
       "<td>1</td>\n",
       "<td>R</td>\n",
       "<td>L</td>\n",
       "<td>0</td>\n",
       "<td>0.5</td>\n",
       "<td>252.839</td>\n",
       "<td>271.489</td>\n",
       "<td>18.6496</td>\n",
       "<td>3.8</td>\n",
       "<td>2</td>\n",
       "<td>8</td>\n",
       "<td>8</td>\n",
       "<td>2</td>\n",
       "<td>0.0</td>\n",
       "<td>1.0</td>\n",
       "<td>0</td> </tr> </tbody>\n",
       "            </table>\n",
       "            <p>...</p>\n",
       "            <p>Total: 1264</p></div>\n",
       "            "
      ],
      "text/plain": [
       "*subject_fulln *session_date  *session_numbe *trial_idx    task         level     set_id     trial_type     choice     answered_corre trial_prior_p_ trial_rel_star trial_rel_fini trial_duration cue_period     num_puffs_inte num_puffs_rece num_puffs_inte num_puffs_rece reward_rel_sta reward_scale   rule    \n",
       "+------------+ +------------+ +------------+ +-----------+ +----------+ +-------+ +--------+ +------------+ +--------+ +------------+ +------------+ +------------+ +------------+ +------------+ +------------+ +------------+ +------------+ +------------+ +------------+ +------------+ +------------+ +------+\n",
       "oostland_Tsc1_ 2019-12-28     0              0             AirPuffs     4         1          R              R          1              0.5            91.8706        104.329        12.4581        3.8            2              13             13             2              97.8268        1.0            0       \n",
       "oostland_Tsc1_ 2019-12-28     0              1             AirPuffs     4         1          R              R          1              0.5            104.416        116.824        12.4074        3.8            2              15             15             2              110.308        1.0            0       \n",
       "oostland_Tsc1_ 2019-12-28     0              2             AirPuffs     4         1          L              L          1              0.5            116.93         129.738        12.8076        3.8            10             2              2              10             123.224        1.0            0       \n",
       "oostland_Tsc1_ 2019-12-28     0              3             AirPuffs     4         1          R              L          0              0.5            129.85         148.228        18.3784        3.8            2              10             10             2              0.0            1.0            0       \n",
       "oostland_Tsc1_ 2019-12-28     0              4             AirPuffs     4         1          L              L          1              0.5            148.336        161.066        12.7304        3.8            8              2              2              8              154.547        1.0            0       \n",
       "oostland_Tsc1_ 2019-12-28     0              5             AirPuffs     4         1          R              L          0              0.5            161.165        179.548        18.3829        3.8            2              7              7              2              0.0            1.0            0       \n",
       "oostland_Tsc1_ 2019-12-28     0              6             AirPuffs     4         1          L              L          1              0.5            179.664        192.438        12.7741        3.8            12             2              2              12             185.921        1.0            0       \n",
       "oostland_Tsc1_ 2019-12-28     0              7             AirPuffs     4         1          R              L          0              0.5            192.549        210.941        18.392         3.8            2              9              9              2              0.0            1.0            0       \n",
       "oostland_Tsc1_ 2019-12-28     0              8             AirPuffs     4         1          L              L          1              0.5            211.042        221.284        10.2413        1.5            7              2              2              7              214.764        1.0            0       \n",
       "oostland_Tsc1_ 2019-12-28     0              9             AirPuffs     4         1          R              L          0              0.5            221.392        239.863        18.4705        3.8            2              12             12             2              0.0            1.0            0       \n",
       "oostland_Tsc1_ 2019-12-28     0              10            AirPuffs     5         1          L              L          1              0.5            239.988        252.723        12.7354        3.8            7              2              2              7              246.205        1.0            0       \n",
       "oostland_Tsc1_ 2019-12-28     0              11            AirPuffs     5         1          R              L          0              0.5            252.839        271.489        18.6496        3.8            2              8              8              2              0.0            1.0            0       \n",
       "   ...\n",
       " (Total: 1264)"
      ]
     },
     "execution_count": 6,
     "metadata": {},
     "output_type": "execute_result"
    }
   ],
   "source": [
    "alltrials=db_puffs.PuffsSession.Trial()\n",
    "alltrials"
   ]
  },
  {
   "cell_type": "code",
   "execution_count": 11,
   "metadata": {},
   "outputs": [
    {
     "data": {
      "text/html": [
       "\n",
       "        \n",
       "        <style type=\"text/css\">\n",
       "            .Relation{\n",
       "                border-collapse:collapse;\n",
       "            }\n",
       "            .Relation th{\n",
       "                background: #A0A0A0; color: #ffffff; padding:4px; border:#f0e0e0 1px solid;\n",
       "                font-weight: normal; font-family: monospace; font-size: 100%;\n",
       "            }\n",
       "            .Relation td{\n",
       "                padding:4px; border:#f0e0e0 1px solid; font-size:100%;\n",
       "            }\n",
       "            .Relation tr:nth-child(odd){\n",
       "                background: #ffffff;\n",
       "            }\n",
       "            .Relation tr:nth-child(even){\n",
       "                background: #f3f1ff;\n",
       "            }\n",
       "            /* Tooltip container */\n",
       "            .djtooltip {\n",
       "            }\n",
       "            /* Tooltip text */\n",
       "            .djtooltip .djtooltiptext {\n",
       "                visibility: hidden;\n",
       "                width: 120px;\n",
       "                background-color: black;\n",
       "                color: #fff;\n",
       "                text-align: center;\n",
       "                padding: 5px 0;\n",
       "                border-radius: 6px;\n",
       "                /* Position the tooltip text - see examples below! */\n",
       "                position: absolute;\n",
       "                z-index: 1;\n",
       "            }\n",
       "            #primary {\n",
       "                font-weight: bold;\n",
       "                color: black;\n",
       "            }\n",
       "\n",
       "            #nonprimary {\n",
       "                font-weight: normal;\n",
       "                color: white;\n",
       "            }\n",
       "\n",
       "            /* Show the tooltip text when you mouse over the tooltip container */\n",
       "            .djtooltip:hover .djtooltiptext {\n",
       "                visibility: visible;\n",
       "            }\n",
       "        </style>\n",
       "        \n",
       "        \n",
       "            <div style=\"max-height:1000px;max-width:1500px;overflow:auto;\">\n",
       "            <table border=\"1\" class=\"Relation\">\n",
       "                <thead> <tr style=\"text-align: right;\"> <th> <div class=\"djtooltip\">\n",
       "                                <p id=\"primary\">subject_fullname</p>\n",
       "                                <span class=\"djtooltiptext\">username_mouse_nickname</span>\n",
       "                            </div></th><th><div class=\"djtooltip\">\n",
       "                                <p id=\"primary\">session_date</p>\n",
       "                                <span class=\"djtooltiptext\">date of experiment</span>\n",
       "                            </div></th><th><div class=\"djtooltip\">\n",
       "                                <p id=\"primary\">session_number</p>\n",
       "                                <span class=\"djtooltiptext\">number</span>\n",
       "                            </div></th><th><div class=\"djtooltip\">\n",
       "                                <p id=\"primary\">trial_idx</p>\n",
       "                                <span class=\"djtooltiptext\">trial index, keep the original number in the file</span>\n",
       "                            </div></th><th><div class=\"djtooltip\">\n",
       "                                <p id=\"nonprimary\">level</p>\n",
       "                                <span class=\"djtooltiptext\">difficulty level</span>\n",
       "                            </div></th><th><div class=\"djtooltip\">\n",
       "                                <p id=\"nonprimary\">choice</p>\n",
       "                                <span class=\"djtooltiptext\">choice of this trial, left or right</span>\n",
       "                            </div></th><th><div class=\"djtooltip\">\n",
       "                                <p id=\"nonprimary\">num_puffs_received_r</p>\n",
       "                                <span class=\"djtooltiptext\">number of puffs actually received on the right side</span>\n",
       "                            </div></th><th><div class=\"djtooltip\">\n",
       "                                <p id=\"nonprimary\">num_puffs_received_l</p>\n",
       "                                <span class=\"djtooltiptext\">number of puffs actually received on the left side</span>\n",
       "                            </div></th><th><div class=\"djtooltip\">\n",
       "                                <p id=\"nonprimary\">nRminusnL</p>\n",
       "                                <span class=\"djtooltiptext\">calculated attribute</span>\n",
       "                            </div> </th> </tr> </thead>\n",
       "                <tbody> <tr> <td>oostland_Tsc1_evidence_accumulation_48</td>\n",
       "<td>2019-12-28</td>\n",
       "<td>0</td>\n",
       "<td>0</td>\n",
       "<td>4</td>\n",
       "<td>R</td>\n",
       "<td>13</td>\n",
       "<td>2</td>\n",
       "<td>11</td></tr><tr><td>oostland_Tsc1_evidence_accumulation_48</td>\n",
       "<td>2019-12-28</td>\n",
       "<td>0</td>\n",
       "<td>1</td>\n",
       "<td>4</td>\n",
       "<td>R</td>\n",
       "<td>15</td>\n",
       "<td>2</td>\n",
       "<td>13</td></tr><tr><td>oostland_Tsc1_evidence_accumulation_48</td>\n",
       "<td>2019-12-28</td>\n",
       "<td>0</td>\n",
       "<td>2</td>\n",
       "<td>4</td>\n",
       "<td>L</td>\n",
       "<td>2</td>\n",
       "<td>10</td>\n",
       "<td>-8</td></tr><tr><td>oostland_Tsc1_evidence_accumulation_48</td>\n",
       "<td>2019-12-28</td>\n",
       "<td>0</td>\n",
       "<td>3</td>\n",
       "<td>4</td>\n",
       "<td>L</td>\n",
       "<td>10</td>\n",
       "<td>2</td>\n",
       "<td>8</td></tr><tr><td>oostland_Tsc1_evidence_accumulation_48</td>\n",
       "<td>2019-12-28</td>\n",
       "<td>0</td>\n",
       "<td>4</td>\n",
       "<td>4</td>\n",
       "<td>L</td>\n",
       "<td>2</td>\n",
       "<td>8</td>\n",
       "<td>-6</td></tr><tr><td>oostland_Tsc1_evidence_accumulation_48</td>\n",
       "<td>2019-12-28</td>\n",
       "<td>0</td>\n",
       "<td>5</td>\n",
       "<td>4</td>\n",
       "<td>L</td>\n",
       "<td>7</td>\n",
       "<td>2</td>\n",
       "<td>5</td></tr><tr><td>oostland_Tsc1_evidence_accumulation_48</td>\n",
       "<td>2019-12-28</td>\n",
       "<td>0</td>\n",
       "<td>6</td>\n",
       "<td>4</td>\n",
       "<td>L</td>\n",
       "<td>2</td>\n",
       "<td>12</td>\n",
       "<td>-10</td></tr><tr><td>oostland_Tsc1_evidence_accumulation_48</td>\n",
       "<td>2019-12-28</td>\n",
       "<td>0</td>\n",
       "<td>7</td>\n",
       "<td>4</td>\n",
       "<td>L</td>\n",
       "<td>9</td>\n",
       "<td>2</td>\n",
       "<td>7</td></tr><tr><td>oostland_Tsc1_evidence_accumulation_48</td>\n",
       "<td>2019-12-28</td>\n",
       "<td>0</td>\n",
       "<td>8</td>\n",
       "<td>4</td>\n",
       "<td>L</td>\n",
       "<td>2</td>\n",
       "<td>7</td>\n",
       "<td>-5</td></tr><tr><td>oostland_Tsc1_evidence_accumulation_48</td>\n",
       "<td>2019-12-28</td>\n",
       "<td>0</td>\n",
       "<td>9</td>\n",
       "<td>4</td>\n",
       "<td>L</td>\n",
       "<td>12</td>\n",
       "<td>2</td>\n",
       "<td>10</td></tr><tr><td>oostland_Tsc1_evidence_accumulation_48</td>\n",
       "<td>2019-12-28</td>\n",
       "<td>0</td>\n",
       "<td>10</td>\n",
       "<td>5</td>\n",
       "<td>L</td>\n",
       "<td>2</td>\n",
       "<td>7</td>\n",
       "<td>-5</td></tr><tr><td>oostland_Tsc1_evidence_accumulation_48</td>\n",
       "<td>2019-12-28</td>\n",
       "<td>0</td>\n",
       "<td>11</td>\n",
       "<td>5</td>\n",
       "<td>L</td>\n",
       "<td>8</td>\n",
       "<td>2</td>\n",
       "<td>6</td> </tr> </tbody>\n",
       "            </table>\n",
       "            <p>...</p>\n",
       "            <p>Total: 1264</p></div>\n",
       "            "
      ],
      "text/plain": [
       "*subject_fulln *session_date  *session_numbe *trial_idx    level     choice     num_puffs_rece num_puffs_rece nRminusnL    \n",
       "+------------+ +------------+ +------------+ +-----------+ +-------+ +--------+ +------------+ +------------+ +-----------+\n",
       "oostland_Tsc1_ 2019-12-28     0              0             4         R          13             2              11           \n",
       "oostland_Tsc1_ 2019-12-28     0              1             4         R          15             2              13           \n",
       "oostland_Tsc1_ 2019-12-28     0              2             4         L          2              10             -8           \n",
       "oostland_Tsc1_ 2019-12-28     0              3             4         L          10             2              8            \n",
       "oostland_Tsc1_ 2019-12-28     0              4             4         L          2              8              -6           \n",
       "oostland_Tsc1_ 2019-12-28     0              5             4         L          7              2              5            \n",
       "oostland_Tsc1_ 2019-12-28     0              6             4         L          2              12             -10          \n",
       "oostland_Tsc1_ 2019-12-28     0              7             4         L          9              2              7            \n",
       "oostland_Tsc1_ 2019-12-28     0              8             4         L          2              7              -5           \n",
       "oostland_Tsc1_ 2019-12-28     0              9             4         L          12             2              10           \n",
       "oostland_Tsc1_ 2019-12-28     0              10            5         L          2              7              -5           \n",
       "oostland_Tsc1_ 2019-12-28     0              11            5         L          8              2              6            \n",
       "   ...\n",
       " (Total: 1264)"
      ]
     },
     "execution_count": 11,
     "metadata": {},
     "output_type": "execute_result"
    }
   ],
   "source": [
    "psychometric_data = alltrials.proj('level','choice',\n",
    "                                   'num_puffs_received_l',\n",
    "                                   'num_puffs_received_r',\n",
    "                                   nRminusnL='num_puffs_received_r-num_puffs_received_l')\n",
    "psychometric_data"
   ]
  },
  {
   "cell_type": "code",
   "execution_count": 12,
   "metadata": {},
   "outputs": [],
   "source": [
    "df=psychometric_data.fetch(format=\"frame\")"
   ]
  },
  {
   "cell_type": "code",
   "execution_count": 13,
   "metadata": {},
   "outputs": [],
   "source": [
    "df['boolean_choice']=df['choice'].apply(lambda x: int(x == 'R'))"
   ]
  },
  {
   "cell_type": "code",
   "execution_count": 14,
   "metadata": {},
   "outputs": [
    {
     "data": {
      "text/html": [
       "<div>\n",
       "<style scoped>\n",
       "    .dataframe tbody tr th:only-of-type {\n",
       "        vertical-align: middle;\n",
       "    }\n",
       "\n",
       "    .dataframe tbody tr th {\n",
       "        vertical-align: top;\n",
       "    }\n",
       "\n",
       "    .dataframe thead th {\n",
       "        text-align: right;\n",
       "    }\n",
       "</style>\n",
       "<table border=\"1\" class=\"dataframe\">\n",
       "  <thead>\n",
       "    <tr style=\"text-align: right;\">\n",
       "      <th></th>\n",
       "      <th></th>\n",
       "      <th></th>\n",
       "      <th></th>\n",
       "      <th>level</th>\n",
       "      <th>choice</th>\n",
       "      <th>num_puffs_received_r</th>\n",
       "      <th>num_puffs_received_l</th>\n",
       "      <th>nRminusnL</th>\n",
       "      <th>boolean_choice</th>\n",
       "    </tr>\n",
       "    <tr>\n",
       "      <th>subject_fullname</th>\n",
       "      <th>session_date</th>\n",
       "      <th>session_number</th>\n",
       "      <th>trial_idx</th>\n",
       "      <th></th>\n",
       "      <th></th>\n",
       "      <th></th>\n",
       "      <th></th>\n",
       "      <th></th>\n",
       "      <th></th>\n",
       "    </tr>\n",
       "  </thead>\n",
       "  <tbody>\n",
       "    <tr>\n",
       "      <th rowspan=\"5\" valign=\"top\">oostland_Tsc1_evidence_accumulation_48</th>\n",
       "      <th rowspan=\"5\" valign=\"top\">2019-12-28</th>\n",
       "      <th rowspan=\"5\" valign=\"top\">0</th>\n",
       "      <th>0</th>\n",
       "      <td>4</td>\n",
       "      <td>R</td>\n",
       "      <td>13</td>\n",
       "      <td>2</td>\n",
       "      <td>11</td>\n",
       "      <td>1</td>\n",
       "    </tr>\n",
       "    <tr>\n",
       "      <th>1</th>\n",
       "      <td>4</td>\n",
       "      <td>R</td>\n",
       "      <td>15</td>\n",
       "      <td>2</td>\n",
       "      <td>13</td>\n",
       "      <td>1</td>\n",
       "    </tr>\n",
       "    <tr>\n",
       "      <th>2</th>\n",
       "      <td>4</td>\n",
       "      <td>L</td>\n",
       "      <td>2</td>\n",
       "      <td>10</td>\n",
       "      <td>-8</td>\n",
       "      <td>0</td>\n",
       "    </tr>\n",
       "    <tr>\n",
       "      <th>3</th>\n",
       "      <td>4</td>\n",
       "      <td>L</td>\n",
       "      <td>10</td>\n",
       "      <td>2</td>\n",
       "      <td>8</td>\n",
       "      <td>0</td>\n",
       "    </tr>\n",
       "    <tr>\n",
       "      <th>4</th>\n",
       "      <td>4</td>\n",
       "      <td>L</td>\n",
       "      <td>2</td>\n",
       "      <td>8</td>\n",
       "      <td>-6</td>\n",
       "      <td>0</td>\n",
       "    </tr>\n",
       "    <tr>\n",
       "      <th>...</th>\n",
       "      <th>...</th>\n",
       "      <th>...</th>\n",
       "      <th>...</th>\n",
       "      <td>...</td>\n",
       "      <td>...</td>\n",
       "      <td>...</td>\n",
       "      <td>...</td>\n",
       "      <td>...</td>\n",
       "      <td>...</td>\n",
       "    </tr>\n",
       "    <tr>\n",
       "      <th rowspan=\"5\" valign=\"top\">oostland_Tsc1_evidence_accumulation_53</th>\n",
       "      <th rowspan=\"5\" valign=\"top\">2019-12-28</th>\n",
       "      <th rowspan=\"5\" valign=\"top\">0</th>\n",
       "      <th>247</th>\n",
       "      <td>6</td>\n",
       "      <td>R</td>\n",
       "      <td>11</td>\n",
       "      <td>3</td>\n",
       "      <td>8</td>\n",
       "      <td>1</td>\n",
       "    </tr>\n",
       "    <tr>\n",
       "      <th>248</th>\n",
       "      <td>6</td>\n",
       "      <td>R</td>\n",
       "      <td>2</td>\n",
       "      <td>8</td>\n",
       "      <td>-6</td>\n",
       "      <td>1</td>\n",
       "    </tr>\n",
       "    <tr>\n",
       "      <th>249</th>\n",
       "      <td>6</td>\n",
       "      <td>R</td>\n",
       "      <td>2</td>\n",
       "      <td>10</td>\n",
       "      <td>-8</td>\n",
       "      <td>1</td>\n",
       "    </tr>\n",
       "    <tr>\n",
       "      <th>250</th>\n",
       "      <td>6</td>\n",
       "      <td>R</td>\n",
       "      <td>9</td>\n",
       "      <td>3</td>\n",
       "      <td>6</td>\n",
       "      <td>1</td>\n",
       "    </tr>\n",
       "    <tr>\n",
       "      <th>251</th>\n",
       "      <td>6</td>\n",
       "      <td>L</td>\n",
       "      <td>3</td>\n",
       "      <td>2</td>\n",
       "      <td>1</td>\n",
       "      <td>0</td>\n",
       "    </tr>\n",
       "  </tbody>\n",
       "</table>\n",
       "<p>1264 rows × 6 columns</p>\n",
       "</div>"
      ],
      "text/plain": [
       "                                                                              level  \\\n",
       "subject_fullname                       session_date session_number trial_idx          \n",
       "oostland_Tsc1_evidence_accumulation_48 2019-12-28   0              0              4   \n",
       "                                                                   1              4   \n",
       "                                                                   2              4   \n",
       "                                                                   3              4   \n",
       "                                                                   4              4   \n",
       "...                                                                             ...   \n",
       "oostland_Tsc1_evidence_accumulation_53 2019-12-28   0              247            6   \n",
       "                                                                   248            6   \n",
       "                                                                   249            6   \n",
       "                                                                   250            6   \n",
       "                                                                   251            6   \n",
       "\n",
       "                                                                             choice  \\\n",
       "subject_fullname                       session_date session_number trial_idx          \n",
       "oostland_Tsc1_evidence_accumulation_48 2019-12-28   0              0              R   \n",
       "                                                                   1              R   \n",
       "                                                                   2              L   \n",
       "                                                                   3              L   \n",
       "                                                                   4              L   \n",
       "...                                                                             ...   \n",
       "oostland_Tsc1_evidence_accumulation_53 2019-12-28   0              247            R   \n",
       "                                                                   248            R   \n",
       "                                                                   249            R   \n",
       "                                                                   250            R   \n",
       "                                                                   251            L   \n",
       "\n",
       "                                                                              num_puffs_received_r  \\\n",
       "subject_fullname                       session_date session_number trial_idx                         \n",
       "oostland_Tsc1_evidence_accumulation_48 2019-12-28   0              0                            13   \n",
       "                                                                   1                            15   \n",
       "                                                                   2                             2   \n",
       "                                                                   3                            10   \n",
       "                                                                   4                             2   \n",
       "...                                                                                            ...   \n",
       "oostland_Tsc1_evidence_accumulation_53 2019-12-28   0              247                          11   \n",
       "                                                                   248                           2   \n",
       "                                                                   249                           2   \n",
       "                                                                   250                           9   \n",
       "                                                                   251                           3   \n",
       "\n",
       "                                                                              num_puffs_received_l  \\\n",
       "subject_fullname                       session_date session_number trial_idx                         \n",
       "oostland_Tsc1_evidence_accumulation_48 2019-12-28   0              0                             2   \n",
       "                                                                   1                             2   \n",
       "                                                                   2                            10   \n",
       "                                                                   3                             2   \n",
       "                                                                   4                             8   \n",
       "...                                                                                            ...   \n",
       "oostland_Tsc1_evidence_accumulation_53 2019-12-28   0              247                           3   \n",
       "                                                                   248                           8   \n",
       "                                                                   249                          10   \n",
       "                                                                   250                           3   \n",
       "                                                                   251                           2   \n",
       "\n",
       "                                                                             nRminusnL  \\\n",
       "subject_fullname                       session_date session_number trial_idx             \n",
       "oostland_Tsc1_evidence_accumulation_48 2019-12-28   0              0                11   \n",
       "                                                                   1                13   \n",
       "                                                                   2                -8   \n",
       "                                                                   3                 8   \n",
       "                                                                   4                -6   \n",
       "...                                                                                ...   \n",
       "oostland_Tsc1_evidence_accumulation_53 2019-12-28   0              247               8   \n",
       "                                                                   248              -6   \n",
       "                                                                   249              -8   \n",
       "                                                                   250               6   \n",
       "                                                                   251               1   \n",
       "\n",
       "                                                                              boolean_choice  \n",
       "subject_fullname                       session_date session_number trial_idx                  \n",
       "oostland_Tsc1_evidence_accumulation_48 2019-12-28   0              0                       1  \n",
       "                                                                   1                       1  \n",
       "                                                                   2                       0  \n",
       "                                                                   3                       0  \n",
       "                                                                   4                       0  \n",
       "...                                                                                      ...  \n",
       "oostland_Tsc1_evidence_accumulation_53 2019-12-28   0              247                     1  \n",
       "                                                                   248                     1  \n",
       "                                                                   249                     1  \n",
       "                                                                   250                     1  \n",
       "                                                                   251                     0  \n",
       "\n",
       "[1264 rows x 6 columns]"
      ]
     },
     "execution_count": 14,
     "metadata": {},
     "output_type": "execute_result"
    }
   ],
   "source": [
    "df"
   ]
  },
  {
   "cell_type": "code",
   "execution_count": 15,
   "metadata": {},
   "outputs": [
    {
     "data": {
      "text/plain": [
       "nRminusnL\n",
       "-14    1.000000\n",
       "-13    0.285714\n",
       "-12    0.250000\n",
       "-11    0.421053\n",
       "-10    0.416667\n",
       "-9     0.387755\n",
       "-8     0.388889\n",
       "-7     0.276923\n",
       "-6     0.272727\n",
       "-5     0.304348\n",
       "-4     0.206897\n",
       "-3     0.267857\n",
       "-2     0.333333\n",
       "-1     0.309524\n",
       " 1     0.263158\n",
       " 2     0.339623\n",
       " 3     0.466667\n",
       " 4     0.625000\n",
       " 5     0.602740\n",
       " 6     0.594937\n",
       " 7     0.750000\n",
       " 8     0.685185\n",
       " 9     0.592593\n",
       " 10    0.615385\n",
       " 11    0.909091\n",
       " 12    0.857143\n",
       " 13    0.800000\n",
       " 14    1.000000\n",
       " 15    1.000000\n",
       "Name: boolean_choice, dtype: float64"
      ]
     },
     "execution_count": 15,
     "metadata": {},
     "output_type": "execute_result"
    }
   ],
   "source": [
    "df.groupby('nRminusnL')['boolean_choice'].agg(lambda x: sum(x)/len(x))"
   ]
  },
  {
   "cell_type": "code",
   "execution_count": 20,
   "metadata": {},
   "outputs": [
    {
     "data": {
      "text/plain": [
       "(-12.0, 12.0)"
      ]
     },
     "execution_count": 20,
     "metadata": {},
     "output_type": "execute_result"
    },
    {
     "data": {
      "image/png": "[encoded data removed]",
      "text/plain": [
       "<Figure size 432x288 with 1 Axes>"
      ]
     },
     "metadata": {
      "needs_background": "light"
     },
     "output_type": "display_data"
    }
   ],
   "source": [
    "num_choices = df.groupby('nRminusnL').count()['boolean_choice']\n",
    "num_R_choices = df.groupby('nRminusnL').sum()['boolean_choice']\n",
    "\n",
    "fractionR_choices = num_R_choices/num_choices\n",
    "\n",
    "fig=plt.figure()\n",
    "ax=fig.add_subplot(111)\n",
    "ax.scatter(fractionR_choices.index,fractionR_choices)\n",
    "ax.set_xlabel('#R-#L')\n",
    "ax.set_ylabel('fraction R choices')\n",
    "ax.set_xlim(-12,12)"
   ]
  },
  {
   "cell_type": "code",
   "execution_count": 27,
   "metadata": {},
   "outputs": [],
   "source": [
    "df_highlevels = df[df.loc[:,'level']>6]"
   ]
  },
  {
   "cell_type": "code",
   "execution_count": 28,
   "metadata": {},
   "outputs": [
    {
     "data": {
      "text/plain": [
       "(-12.0, 12.0)"
      ]
     },
     "execution_count": 28,
     "metadata": {},
     "output_type": "execute_result"
    },
    {
     "data": {
      "image/png": "[encoded data removed]",
      "text/plain": [
       "<Figure size 432x288 with 1 Axes>"
      ]
     },
     "metadata": {
      "needs_background": "light"
     },
     "output_type": "display_data"
    }
   ],
   "source": [
    "num_choices =df_highlevels.groupby('nRminusnL').count()['boolean_choice']\n",
    "num_R_choices = df_highlevels.groupby('nRminusnL').sum()['boolean_choice']\n",
    "\n",
    "fractionR_choices = num_R_choices/num_choices\n",
    "\n",
    "fig=plt.figure()\n",
    "ax=fig.add_subplot(111)\n",
    "ax.scatter(fractionR_choices.index,fractionR_choices)\n",
    "ax.set_xlabel('#R-#L')\n",
    "ax.set_ylabel('fraction R choices')\n",
    "ax.set_xlim(-12,12)"
   ]
  },
  {
   "cell_type": "code",
   "execution_count": null,
   "metadata": {},
   "outputs": [],
   "source": [
    "trials_single_session = db_puffs.PuffsSession.Trial() & {'subject_fullname':'oostland_Tsc1_evidence_accumulation_48',\n",
    "                                'session_date':'2019-12-28'}\n",
    "trials_single_session"
   ]
  },
  {
   "cell_type": "code",
   "execution_count": null,
   "metadata": {},
   "outputs": [],
   "source": [
    "psychometric_data = trials_single_session.proj('level','choice',nRminusnL='num_puffs_received_r-num_puffs_received_l')\n",
    "psychometric_data"
   ]
  },
  {
   "cell_type": "code",
   "execution_count": null,
   "metadata": {},
   "outputs": [],
   "source": [
    "df=psychometric_data.fetch(format=\"frame\")"
   ]
  },
  {
   "cell_type": "code",
   "execution_count": null,
   "metadata": {},
   "outputs": [],
   "source": [
    "df"
   ]
  },
  {
   "cell_type": "code",
   "execution_count": null,
   "metadata": {},
   "outputs": [],
   "source": [
    "df['boolean_choice']=df['choice'].apply(lambda x: int(x == 'R'))"
   ]
  },
  {
   "cell_type": "code",
   "execution_count": null,
   "metadata": {},
   "outputs": [],
   "source": [
    "num_choices = df.groupby('nRminusnL').count()['boolean_choice']\n",
    "num_R_choices = df.groupby('nRminusnL').sum()['boolean_choice']"
   ]
  },
  {
   "cell_type": "code",
   "execution_count": null,
   "metadata": {},
   "outputs": [],
   "source": [
    "fraction_R_choices = (num_R_choices/num_choices)"
   ]
  },
  {
   "cell_type": "code",
   "execution_count": null,
   "metadata": {},
   "outputs": [],
   "source": [
    "fraction_R_choices.index"
   ]
  },
  {
   "cell_type": "code",
   "execution_count": null,
   "metadata": {},
   "outputs": [],
   "source": [
    "fig=plt.figure()\n",
    "ax=fig.add_subplot(111)\n",
    "ax.scatter(fraction_R_choices.index,fraction_R_choices)"
   ]
  },
  {
   "cell_type": "markdown",
   "metadata": {},
   "source": [
    "## Sandbox begins"
   ]
  },
  {
   "cell_type": "code",
   "execution_count": null,
   "metadata": {},
   "outputs": [],
   "source": [
    "username='lightserv-test'"
   ]
  },
  {
   "cell_type": "code",
   "execution_count": null,
   "metadata": {},
   "outputs": [],
   "source": [
    "request_contents = db_lightsheet.Request()\n",
    "clearing_batch_contents = db_lightsheet.Request.ClearingBatch()\n",
    "imaging_request_contents = db_lightsheet.Request.ImagingRequest()\n",
    "processing_request_contents = db_lightsheet.Request.ProcessingRequest()"
   ]
  },
  {
   "cell_type": "code",
   "execution_count": null,
   "metadata": {},
   "outputs": [],
   "source": [
    "restrict_OR_list = [{\"username\":username},{\"auditor\":username}]\n",
    "request_contents = request_contents & restrict_OR_list\n",
    "imaging_request_contents = (request_contents*imaging_request_contents & restrict_OR_list).proj('imager',\n",
    "                              'imaging_request_date_submitted',\n",
    "                              'imaging_request_time_submitted',\n",
    "                              'imaging_performed_date',\n",
    "                              'imaging_progress')\n",
    "processing_request_contents = (request_contents*processing_request_contents & restrict_OR_list).proj(\n",
    "                            'processing_progress',\n",
    "                            'processor')"
   ]
  },
  {
   "cell_type": "code",
   "execution_count": null,
   "metadata": {},
   "outputs": [],
   "source": [
    "replicated_args = dict(is_archival='is_archival',number_of_samples='number_of_samples',description='description',\n",
    "        species='species',datetime_submitted='datetime_submitted')"
   ]
  },
  {
   "cell_type": "code",
   "execution_count": null,
   "metadata": {},
   "outputs": [],
   "source": [
    "sample_joined_contents = dj.U('username','request_name').aggr(\n",
    "        request_contents * clearing_batch_contents,\n",
    "        is_archival='is_archival',\n",
    "        number_of_samples='number_of_samples',\n",
    "        number_in_batch='number_in_batch',\n",
    "        description='description',\n",
    "        species='species',\n",
    "        datetime_submitted='TIMESTAMP(date_submitted,time_submitted)',\n",
    "        n_cleared='CONVERT(SUM(IF(clearing_progress=\"complete\",number_in_batch,0)),char)').proj(\n",
    "        **replicated_args,\n",
    "            fraction_cleared='CONCAT(n_cleared,\"/\",CONVERT(number_of_samples,char))')"
   ]
  },
  {
   "cell_type": "code",
   "execution_count": null,
   "metadata": {},
   "outputs": [],
   "source": [
    "imaging_joined_contents = sample_joined_contents.aggr(\n",
    "    imaging_request_contents,\n",
    "    **replicated_args,\n",
    "    fraction_cleared='fraction_cleared',\n",
    "    n_imaged='CONVERT(SUM(imaging_progress=\"complete\"),char)',\n",
    "    total_imaging_requests='CONVERT(COUNT(*),char)',\n",
    "    keep_all_rows=True\n",
    "    ).proj(**replicated_args,\n",
    "        fraction_cleared='fraction_cleared',\n",
    "        # fraction_imaged='CONCAT(n_imaged,\"/\",total_imaging_requests)'\n",
    "        fraction_imaged='IF(n_imaged is NULL,\"0/0\",CONCAT(n_imaged,\"/\",total_imaging_requests))' \n",
    "        )"
   ]
  },
  {
   "cell_type": "code",
   "execution_count": null,
   "metadata": {},
   "outputs": [],
   "source": [
    "processing_joined_contents = (dj.U('username','request_name') * imaging_joined_contents).aggr(   \n",
    "    processing_request_contents,\n",
    "    **replicated_args,\n",
    "    fraction_cleared='fraction_cleared',\n",
    "    fraction_imaged='fraction_imaged',\n",
    "    n_processed='CONVERT(SUM(processing_progress=\"complete\"),char)',\n",
    "    total_processing_requests='CONVERT(COUNT(processing_progress),char)',\n",
    "    keep_all_rows=True\n",
    "    ).proj(\n",
    "        **replicated_args,\n",
    "        fraction_cleared='fraction_cleared',\n",
    "        fraction_imaged='fraction_imaged',\n",
    "        fraction_processed='IF(n_processed is NULL,\"0/0\",CONCAT(n_processed,\"/\",total_processing_requests))' \n",
    "        )"
   ]
  },
  {
   "cell_type": "code",
   "execution_count": null,
   "metadata": {},
   "outputs": [],
   "source": [
    "processing_joined_contents"
   ]
  },
  {
   "cell_type": "markdown",
   "metadata": {},
   "source": [
    "## Debugging all samples with auditor"
   ]
  },
  {
   "cell_type": "code",
   "execution_count": null,
   "metadata": {},
   "outputs": [],
   "source": [
    "request_contents = db_lightsheet.Request()\n",
    "request_contents = request_contents.proj('description','species','number_of_samples',\n",
    "        'is_archival','auditor',\n",
    "        datetime_submitted='TIMESTAMP(date_submitted,time_submitted)')\n",
    "sample_contents = db_lightsheet.Request.Sample()\n",
    "clearing_batch_contents = db_lightsheet.Request.ClearingBatch()\n",
    "imaging_request_contents = db_lightsheet.Request.ImagingRequest()\n",
    "processing_request_contents = db_lightsheet.Request.ProcessingRequest()\n",
    "\n",
    "restrict_OR_list = [{\"username\":username},{\"auditor\":username}]\n",
    "request_contents = request_contents & restrict_OR_list\n",
    "sample_contents = (request_contents*sample_contents & restrict_OR_list).proj()\n",
    "\n",
    "clearing_batch_contents = (request_contents*clearing_batch_contents & restrict_OR_list).proj(\n",
    "    'clearer','clearing_progress','link_to_clearing_spreadsheet')\n",
    "imaging_request_contents = (request_contents*imaging_request_contents & restrict_OR_list).proj(\n",
    "    'imager','imaging_progress')\n",
    "processing_request_contents = (request_contents*processing_request_contents & restrict_OR_list).proj(\n",
    "    'processor','processing_progress')\n",
    "sample_joined_contents = request_contents * sample_contents * clearing_batch_contents\n",
    "replicated_args = dict(number_of_samples='number_of_samples',description='description',\n",
    "        species='species',datetime_submitted='datetime_submitted',\n",
    "        clearer='clearer',\n",
    "        clearing_progress='clearing_progress',\n",
    "        imager='imager',imaging_progress='imaging_progress',\n",
    "        is_archival='is_archival',\n",
    "        link_to_clearing_spreadsheet='link_to_clearing_spreadsheet')"
   ]
  },
  {
   "cell_type": "code",
   "execution_count": null,
   "metadata": {},
   "outputs": [],
   "source": [
    "imaging_joined_contents = sample_joined_contents.aggr(\n",
    "        imaging_request_contents,\n",
    "        **replicated_args,\n",
    "        imaging_request_number='imaging_request_number',\n",
    "        n_imaged='CONVERT(SUM(imaging_progress=\"complete\"),char)',\n",
    "        total_imaging_requests='COUNT(*)',\n",
    "        keep_all_rows=True\n",
    "        ).proj(**replicated_args,\n",
    "               total_imaging_requests='IF(n_imaged is NULL, \"0\",total_imaging_requests)',\n",
    "               imaging_request_number='IF(imaging_request_number is NULL, \"N/A\",imaging_request_number)'\n",
    "            # fraction_imaged='CONCAT(n_imaged,\"/\",total_imaging_requests)'\n",
    "            )"
   ]
  },
  {
   "cell_type": "code",
   "execution_count": null,
   "metadata": {},
   "outputs": [],
   "source": [
    "processing_joined_contents = (dj.U('username','request_name') * imaging_joined_contents).aggr(   \n",
    "        processing_request_contents,\n",
    "        **replicated_args,\n",
    "        imaging_request_number='imaging_request_number',\n",
    "        processing_request_number='processing_request_number',\n",
    "        processor='processor',\n",
    "        processing_progress='processing_progress',\n",
    "        total_imaging_requests='total_imaging_requests',\n",
    "        n_processed='CONVERT(SUM(processing_progress=\"complete\"),char)',\n",
    "        total_processing_requests='CONVERT(COUNT(processing_progress),char)',\n",
    "        keep_all_rows=True\n",
    "        ).proj(\n",
    "            **replicated_args,\n",
    "            processing_request_number='IF(processing_request_number is NULL, \"N/A\",processing_request_number)',\n",
    "            processor='processor',\n",
    "            processing_progress='processing_progress',\n",
    "            total_imaging_requests='total_imaging_requests',\n",
    "            total_processing_requests='IF(n_processed is NULL,0,total_processing_requests)', \n",
    "            )"
   ]
  },
  {
   "cell_type": "code",
   "execution_count": null,
   "metadata": {},
   "outputs": [],
   "source": [
    "processing_joined_contents"
   ]
  },
  {
   "cell_type": "code",
   "execution_count": null,
   "metadata": {},
   "outputs": [],
   "source": []
  },
  {
   "cell_type": "code",
   "execution_count": null,
   "metadata": {},
   "outputs": [],
   "source": []
  },
  {
   "cell_type": "code",
   "execution_count": null,
   "metadata": {},
   "outputs": [],
   "source": [
    "contents = db_lightsheet.Request() & [{\"username\":username},{\"auditor\":username}]\n",
    "contents"
   ]
  },
  {
   "cell_type": "code",
   "execution_count": null,
   "metadata": {},
   "outputs": [],
   "source": [
    "imaging_batch_restrict_dict = dict(username=username,request_name=request_name,\n",
    "    imaging_batch_number=imaging_batch_number,\n",
    "    imaging_request_number=imaging_request_number)\n",
    "sample_contents = db_lightsheet.Request.ImagingBatchSample() & imaging_batch_restrict_dict"
   ]
  },
  {
   "cell_type": "code",
   "execution_count": null,
   "metadata": {},
   "outputs": [],
   "source": [
    "sample_contents"
   ]
  },
  {
   "cell_type": "code",
   "execution_count": null,
   "metadata": {},
   "outputs": [],
   "source": [
    "restrict_dict = {'username':'lightserv-test','request_name':'test_new_imaging_request'}\n",
    "db_lightsheet.Request() & restrict_dict"
   ]
  },
  {
   "cell_type": "code",
   "execution_count": null,
   "metadata": {},
   "outputs": [],
   "source": [
    "db_lightsheet.Request.ImagingRequest & restrict_dict"
   ]
  },
  {
   "cell_type": "code",
   "execution_count": null,
   "metadata": {},
   "outputs": [],
   "source": [
    "db_lightsheet.Request.ImagingBatch() & restrict_dict"
   ]
  },
  {
   "cell_type": "code",
   "execution_count": null,
   "metadata": {},
   "outputs": [],
   "source": [
    "request_contents = db_lightsheet.Request()\n",
    "sample_contents = db_lightsheet.Request.Sample()\n",
    "clearing_batch_contents = db_lightsheet.Request.ClearingBatch()\n",
    "imaging_batch_contents = db_lightsheet.Request.ImagingBatch()\n",
    "\n",
    "imaging_request_contents = (clearing_batch_contents * sample_contents * \\\n",
    "    request_contents * imaging_batch_contents).\\\n",
    "    proj('clearer','clearing_progress',\n",
    "    'imaging_request_date_submitted','imaging_request_time_submitted',\n",
    "    'imaging_progress','imager','species','number_in_imaging_batch',\n",
    "    datetime_submitted='TIMESTAMP(imaging_request_date_submitted,imaging_request_time_submitted)')"
   ]
  },
  {
   "cell_type": "code",
   "execution_count": null,
   "metadata": {},
   "outputs": [],
   "source": [
    "imaging_request_contents = dj.U('username','request_name',\n",
    "                                'imaging_batch_number',\n",
    "                                'imaging_request_number').aggr(\n",
    "    imaging_request_contents,clearer='clearer',\n",
    "    clearing_progress='clearing_progress',\n",
    "    datetime_submitted='datetime_submitted',\n",
    "    imaging_progress='imaging_progress',imager='imager',\n",
    "    species='species',number_in_imaging_batch='number_in_imaging_batch',\n",
    "    all_samples_cleared='SUM(IF(clearing_progress=\"complete\",1,0))=count(*)')"
   ]
  },
  {
   "cell_type": "code",
   "execution_count": null,
   "metadata": {
    "scrolled": false
   },
   "outputs": [],
   "source": [
    "imaging_request_contents & restrict_dict"
   ]
  },
  {
   "cell_type": "code",
   "execution_count": null,
   "metadata": {},
   "outputs": [],
   "source": [
    "imaging_request_contents & restrict_dict"
   ]
  },
  {
   "cell_type": "code",
   "execution_count": null,
   "metadata": {},
   "outputs": [],
   "source": [
    "contents_being_imaged = imaging_request_contents & 'all_samples_cleared=1' & \\\n",
    "    'imaging_progress=\"in progress\"'"
   ]
  },
  {
   "cell_type": "code",
   "execution_count": null,
   "metadata": {},
   "outputs": [],
   "source": [
    "contents_being_imaged & restrict_dict"
   ]
  },
  {
   "cell_type": "code",
   "execution_count": null,
   "metadata": {},
   "outputs": [],
   "source": [
    "imaging_request_contents & 'imaging_request_number=2'"
   ]
  },
  {
   "cell_type": "code",
   "execution_count": null,
   "metadata": {},
   "outputs": [],
   "source": [
    "sample_restrict_dict = \\\n",
    "    {'sample_name': 'test-001', 'imaging_request_number': '2', 'imaging_batch_number': '1'}"
   ]
  },
  {
   "cell_type": "code",
   "execution_count": null,
   "metadata": {},
   "outputs": [],
   "source": [
    "db_lightsheet.Request.ClearingBatchSample()"
   ]
  },
  {
   "cell_type": "code",
   "execution_count": null,
   "metadata": {},
   "outputs": [],
   "source": []
  },
  {
   "cell_type": "code",
   "execution_count": null,
   "metadata": {},
   "outputs": [],
   "source": [
    "(db_lightsheet.Request() & 'username=\"pbibawi\"').fetch('request_name')"
   ]
  },
  {
   "cell_type": "code",
   "execution_count": null,
   "metadata": {},
   "outputs": [],
   "source": [
    "username='willmore'\n",
    "request_name='201106_willmore'\n",
    "sample_name = '201106_willmore-303'\n",
    "imaging_request_number=1\n",
    "processing_request_number=1\n",
    "processing_restrict_dict = dict(username=username,request_name=request_name,\n",
    "                sample_name=sample_name,imaging_request_number=imaging_request_number,\n",
    "                processing_request_number=processing_request_number)\n",
    "\n",
    "processing_request_contents = db_lightsheet.Request.ProcessingRequest() & processing_restrict_dict\n",
    "\n",
    "processing_resolution_request_contents = db_lightsheet.Request.ProcessingResolutionRequest() & \\\n",
    "    processing_restrict_dict\n",
    "\n",
    "processing_channel_contents = db_lightsheet.Request.ProcessingChannel() & processing_restrict_dict\n",
    "image_resolution='1.1x'\n",
    "processing_channel_contents_this_resolution = (processing_channel_contents & \\\n",
    "            f'image_resolution=\"{image_resolution}\"')\n",
    "restrict_dict = {'channel_name':'488','ventral_up':0}\n",
    "this_processing_channel_content = (processing_channel_contents_this_resolution & \\\n",
    "                    restrict_dict)\n",
    "this_processing_channel_content"
   ]
  },
  {
   "cell_type": "code",
   "execution_count": null,
   "metadata": {},
   "outputs": [],
   "source": [
    "username='willmore'\n",
    "request_name='201106_willmore'\n",
    "imaging_batch_number=1\n",
    "imaging_request_number=1\n",
    "\n",
    "restrict_dict = dict(username=username,request_name=request_name,\n",
    "                imaging_batch_number=imaging_batch_number)\n",
    "\n",
    "channel_contents_all_samples = (db_lightsheet.Request.ImagingChannel() & f'request_name=\"{request_name}\"' & \\\n",
    "    f'username=\"{username}\"' )\n",
    "imaging_request_contents = db_lightsheet.Request.ImagingRequest() & \\\n",
    "    restrict_dict\n",
    "imaging_resolution_contents = db_lightsheet.Request.ImagingResolutionRequest() & \\\n",
    "    restrict_dict\n",
    "imaging_resolution_contents"
   ]
  },
  {
   "cell_type": "code",
   "execution_count": null,
   "metadata": {},
   "outputs": [],
   "source": [
    "channel_contents_all_samples"
   ]
  },
  {
   "cell_type": "code",
   "execution_count": null,
   "metadata": {},
   "outputs": [],
   "source": [
    "image_resolutions_no_processing = [\"2x\",\"3.6x\",\"15x\"]"
   ]
  },
  {
   "cell_type": "code",
   "execution_count": null,
   "metadata": {},
   "outputs": [],
   "source": [
    "batch_unique_image_resolutions = set(imaging_resolution_contents.fetch('image_resolution'))\n",
    "# batch_unique_image_re?solutions = set(['1.1x','3.6x'])"
   ]
  },
  {
   "cell_type": "code",
   "execution_count": null,
   "metadata": {},
   "outputs": [],
   "source": [
    "have_processing_requests = any([x not in image_resolutions_no_processing for x in batch_unique_image_resolutions])\n",
    "have_processing_requests"
   ]
  },
  {
   "cell_type": "code",
   "execution_count": null,
   "metadata": {},
   "outputs": [],
   "source": [
    "set(imaging_request_contents.fetch('sample_name'))\n"
   ]
  },
  {
   "cell_type": "code",
   "execution_count": null,
   "metadata": {},
   "outputs": [],
   "source": [
    "sample_names = set(imaging_resolution_contents.fetch('sample_name'))\n",
    "sample_names"
   ]
  },
  {
   "cell_type": "code",
   "execution_count": null,
   "metadata": {},
   "outputs": [],
   "source": [
    "data_rootpath = '/jukebox/LightSheetData/lightserv'"
   ]
  },
  {
   "cell_type": "code",
   "execution_count": null,
   "metadata": {},
   "outputs": [],
   "source": [
    "message_body = ('Hello!\\n\\nThis is an automated email sent from lightserv, '\n",
    "                        'the Light Sheet Microscopy portal at the Histology and Brain Registration Core Facility. '\n",
    "                        'The raw data your request:\\n'\n",
    "                        f'request_name: \"my-request\"\\n'\n",
    "                        f'are now available on bucket here: \\n\\n')\n",
    "for sample_name in sample_names:\n",
    "    sample_basepath = os.path.join(data_rootpath,username,request_name,\n",
    "    sample_name,f'imaging_request_number_{imaging_request_number}',  \n",
    "    'rawdata')\n",
    "    channel_contents_this_sample = channel_contents_all_samples & f'sample_name=\"{sample_name}\"' \n",
    "    message_body += f'Sample name: {sample_name}:\\n'\n",
    "    for channel_dict in channel_contents_this_sample:\n",
    "        channel_name = channel_dict['channel_name']\n",
    "        image_resolution = channel_dict['image_resolution']\n",
    "        ventral_up = channel_dict['ventral_up']\n",
    "        rawdata_subfolder = channel_dict['rawdata_subfolder']\n",
    "        if ventral_up:\n",
    "            rawdata_fullpath = os.path.join(\n",
    "                data_rootpath,username,request_name,sample_name,\n",
    "                f'imaging_request_{imaging_request_number}',\n",
    "                'rawdata',f'resolution_{image_resolution}_ventral_up',\n",
    "                rawdata_subfolder)\n",
    "            message_body += f'\\tchannel {channel_name} (ventral up): {rawdata_fullpath}\\n'\n",
    "        else:\n",
    "            rawdata_fullpath = os.path.join(\n",
    "                data_rootpath,username,request_name,sample_name,\n",
    "                f'imaging_request_{imaging_request_number}',\n",
    "                'rawdata',f'resolution_{image_resolution}',\n",
    "                rawdata_subfolder)\n",
    "            message_body += f'\\tchannel {channel_name}: {rawdata_fullpath}\\n'\n",
    "    message_body += '\\n'\n",
    "message_body += '\\n'\n",
    "if have_processing_requests:\n",
    "    message_body += ('To start processing your data, '\n",
    "            f'go to the processing management GUI: /some/path '\n",
    "            'and find your sample to process.\\n\\n')\n",
    "message_body += 'Thanks,\\n\\nThe Core Facility'\n",
    "print(message_body)"
   ]
  },
  {
   "cell_type": "code",
   "execution_count": null,
   "metadata": {},
   "outputs": [],
   "source": [
    "this_processing_channel_content_dict = this_processing_channel_content.fetch1()\n",
    "this_processing_channel_content_dict"
   ]
  },
  {
   "cell_type": "code",
   "execution_count": null,
   "metadata": {},
   "outputs": [],
   "source": [
    "processing_channel_contents_this_resolution"
   ]
  },
  {
   "cell_type": "code",
   "execution_count": null,
   "metadata": {},
   "outputs": [],
   "source": [
    "db_lightsheet.Request.ProcessingResolutionRequest().fetch('atlas_name',limit=1)[0]"
   ]
  },
  {
   "cell_type": "code",
   "execution_count": null,
   "metadata": {},
   "outputs": [],
   "source": [
    "processing_resolution_request_contents"
   ]
  },
  {
   "cell_type": "code",
   "execution_count": null,
   "metadata": {},
   "outputs": [],
   "source": [
    "request_contents = db_lightsheet.Request()\n",
    "sample_contents = db_lightsheet.Request.Sample()\n",
    "clearing_batch_contents = db_lightsheet.Request.ClearingBatch()\n",
    "imaging_request_contents = db_lightsheet.Request.ImagingRequest()\n",
    "imaging_channel_contents = db_lightsheet.Request.ImagingChannel()"
   ]
  },
  {
   "cell_type": "code",
   "execution_count": null,
   "metadata": {},
   "outputs": [],
   "source": [
    "imaging_channel_contents & 'ventral_up=1'"
   ]
  },
  {
   "cell_type": "code",
   "execution_count": null,
   "metadata": {},
   "outputs": [],
   "source": [
    "processing_resolution_contents = db_lightsheet.Request.ProcessingResolutionRequest() & {'username':'willmore'}\n",
    "processing_resolution_contents "
   ]
  },
  {
   "cell_type": "code",
   "execution_count": null,
   "metadata": {},
   "outputs": [],
   "source": [
    "dj.Table._update(processing_resolution_contents,'atlas_name','allen_2017')"
   ]
  },
  {
   "cell_type": "code",
   "execution_count": null,
   "metadata": {},
   "outputs": [],
   "source": [
    "clearing_batch_contents"
   ]
  },
  {
   "cell_type": "code",
   "execution_count": null,
   "metadata": {},
   "outputs": [],
   "source": [
    "combined_contents = (clearing_batch_contents * request_contents).proj(\n",
    "'description','number_in_batch','expected_handoff_date',\n",
    "'clearing_protocol','species',\n",
    "'clearer','clearing_progress','clearing_protocol','antibody1','antibody2',\n",
    "datetime_submitted='TIMESTAMP(date_submitted,time_submitted)')\n",
    "''' First get all entities that are currently being cleared '''"
   ]
  },
  {
   "cell_type": "code",
   "execution_count": null,
   "metadata": {},
   "outputs": [],
   "source": [
    "idiscoplus_cleared_contents = combined_contents & 'clearing_protocol=\"iDISCO+_immuno\"' & 'clearing_progress=\"complete\"'\n",
    "idiscoplus_cleared_contents"
   ]
  },
  {
   "cell_type": "code",
   "execution_count": null,
   "metadata": {},
   "outputs": [],
   "source": [
    "df_idiscoplus_cleared = (idiscoplus_cleared_contents).fetch(\n",
    "format='frame',order_by='datetime_submitted DESC')"
   ]
  },
  {
   "cell_type": "code",
   "execution_count": null,
   "metadata": {},
   "outputs": [],
   "source": [
    "df_idiscoplus_cleared.to_csv(\"idiscoplus_already_cleared_asof_2020Nov12.csv\")"
   ]
  },
  {
   "cell_type": "code",
   "execution_count": null,
   "metadata": {},
   "outputs": [],
   "source": [
    "idisco_contents = db_lightsheet.Request.IdiscoPlusClearing()\n",
    "idisco_contents"
   ]
  },
  {
   "cell_type": "code",
   "execution_count": null,
   "metadata": {},
   "outputs": [],
   "source": [
    "idisco_website_cleared_contents = idisco_contents * idiscoplus_cleared_contents\n",
    "idisco_website_cleared_contents"
   ]
  },
  {
   "cell_type": "code",
   "execution_count": null,
   "metadata": {},
   "outputs": [],
   "source": [
    "idisco_results=idisco_website_cleared_contents.fetch(as_dict=True)\n",
    "idisco_results"
   ]
  },
  {
   "cell_type": "code",
   "execution_count": null,
   "metadata": {},
   "outputs": [],
   "source": [
    "df_idisco=pd.DataFrame(idisco_results)\n",
    "df_idisco"
   ]
  },
  {
   "cell_type": "code",
   "execution_count": null,
   "metadata": {},
   "outputs": [],
   "source": [
    "df_idisco.to_csv('idiscoplus_antibody_notes_already_cleared_asof_2020Nov12.csv')"
   ]
  },
  {
   "cell_type": "code",
   "execution_count": null,
   "metadata": {},
   "outputs": [],
   "source": [
    "imaging_channel_contents & \\\n",
    "    {'username': 'ahoag',\n",
    "     'request_name': 'test123',\n",
    "     'sample_name': 'test123-001',\n",
    "     'imaging_request_number': 1,\n",
    "     'image_resolution': '1.3x',\n",
    "     'channel_name': '488'}"
   ]
  },
  {
   "cell_type": "code",
   "execution_count": null,
   "metadata": {},
   "outputs": [],
   "source": [
    "clearing_batch_contents.fetch(as_dict=True,limit=2)"
   ]
  },
  {
   "cell_type": "code",
   "execution_count": null,
   "metadata": {},
   "outputs": [],
   "source": [
    "clearing_batch_contents.fetch?"
   ]
  },
  {
   "cell_type": "code",
   "execution_count": null,
   "metadata": {},
   "outputs": [],
   "source": [
    "imaging_channel_contents & 'request_name=\"test_many_samples4\"' "
   ]
  },
  {
   "cell_type": "code",
   "execution_count": null,
   "metadata": {},
   "outputs": [],
   "source": [
    "insert_dict = {'username': 'ahoag', 'request_name': 'test_many_samples4',\n",
    "               'imaging_request_number': 1, 'image_resolution': '1.1x',\n",
    "               'channel_name': '555',\n",
    "               'injection_detection': 1,\n",
    "               'sample_name': 'test_many_samples4-001'}\n"
   ]
  },
  {
   "cell_type": "code",
   "execution_count": null,
   "metadata": {},
   "outputs": [],
   "source": [
    "imaging_merged_contents = (imaging_request_contents \\\n",
    "    * clearing_batch_contents * sample_contents * request_contents * imaging_channel_contents).\\\n",
    "    proj('clearer','clearing_progress',\n",
    "    'imaging_request_date_submitted','imaging_request_time_submitted',\n",
    "    'imaging_progress','imager','species',\n",
    "    'image_resolution','channel_name',\n",
    "    datetime_submitted='TIMESTAMP(imaging_request_date_submitted,imaging_request_time_submitted)') & \\\n",
    "    {'username':'ahoag',}"
   ]
  },
  {
   "cell_type": "code",
   "execution_count": null,
   "metadata": {},
   "outputs": [],
   "source": [
    "replicated_args = dict(username='username',species='species',\n",
    "                       datetime_submitted='datetime_submitted',\n",
    "                       imager='imager',imaging_progress='imaging_progress')"
   ]
  },
  {
   "cell_type": "code",
   "execution_count": null,
   "metadata": {},
   "outputs": [],
   "source": [
    "interm=dj.U(\"username\",\"request_name\",\"sample_name\",\"imaging_request_number\").aggr(\n",
    "    imaging_merged_contents,new_col='GROUP_CONCAT(channel_name ORDER BY channel_name)',**replicated_args,\n",
    "    image_resolution='image_resolution').\\\n",
    "    proj(comb_col='CONCAT(image_resolution,\",\",new_col)',**replicated_args,)\n",
    "interm"
   ]
  },
  {
   "cell_type": "code",
   "execution_count": null,
   "metadata": {},
   "outputs": [],
   "source": [
    "interm2=dj.U('request_name','sample_name','imaging_request_number').aggr(interm,\n",
    "    **replicated_args,\n",
    "    final_col='GROUP_CONCAT(comb_col)')\n",
    "interm2"
   ]
  },
  {
   "cell_type": "code",
   "execution_count": null,
   "metadata": {},
   "outputs": [],
   "source": [
    "dj.U('request_name','imaging_request_number','final_col').aggr(interm2,                               \n",
    "    **replicated_args,\n",
    "    number_in_batch='COUNT(*)')"
   ]
  },
  {
   "cell_type": "code",
   "execution_count": null,
   "metadata": {},
   "outputs": [],
   "source": []
  },
  {
   "cell_type": "code",
   "execution_count": null,
   "metadata": {},
   "outputs": [],
   "source": [
    "replicated_args = dict(username='username',\n",
    "                       imager='imager',imaging_progress='imaging_progress')"
   ]
  },
  {
   "cell_type": "code",
   "execution_count": null,
   "metadata": {},
   "outputs": [],
   "source": [
    "interm=dj.U(\"username\",\"request_name\",\"sample_name\",\"imaging_request_number\").aggr(\n",
    "                        imaging_channel_contents,new_col='GROUP_CONCAT(channel_name ORDER BY channel_name)',\n",
    "                        image_resolution='image_resolution').\\\n",
    "                        proj(comb_col='CONCAT(image_resolution,\",\",new_col)')\n",
    "interm"
   ]
  },
  {
   "cell_type": "code",
   "execution_count": null,
   "metadata": {},
   "outputs": [],
   "source": [
    "interm2=dj.U('request_name','sample_name','imaging_request_number').aggr(interm,\n",
    "    sample_name='MIN(sample_name)',imaging_str='GROUP_CONCAT(comb_col)')\n",
    "interm2"
   ]
  },
  {
   "cell_type": "code",
   "execution_count": null,
   "metadata": {},
   "outputs": [],
   "source": [
    "interm3=dj.U('request_name','imaging_request_number','imaging_str').aggr(interm2,                               \n",
    "    number_in_batch='COUNT(*)',).proj('request_name','number_in_batch')\n",
    "interm3"
   ]
  },
  {
   "cell_type": "code",
   "execution_count": null,
   "metadata": {},
   "outputs": [],
   "source": [
    "request_counter_dict = {}"
   ]
  },
  {
   "cell_type": "code",
   "execution_count": null,
   "metadata": {},
   "outputs": [],
   "source": [
    "interm3.fetch(as_dict=True)"
   ]
  },
  {
   "cell_type": "code",
   "execution_count": null,
   "metadata": {},
   "outputs": [],
   "source": [
    "imaging_channel_contents & 'request_name=\"test_many_samples3\"'"
   ]
  },
  {
   "cell_type": "code",
   "execution_count": null,
   "metadata": {},
   "outputs": [],
   "source": [
    "db_lightsheet.Request.ImagingChannel() & 'request_name=\"test_many_samples2\"'"
   ]
  },
  {
   "cell_type": "code",
   "execution_count": null,
   "metadata": {},
   "outputs": [],
   "source": [
    "db_lightsheet.Request.ImagingRequest() & 'request_name=\"test_many_samples2\"'"
   ]
  },
  {
   "cell_type": "code",
   "execution_count": null,
   "metadata": {},
   "outputs": [],
   "source": [
    "db_lightsheet.Request.ImagingResolutionRequest() & 'request_name=\"test_many_samples2\"'"
   ]
  },
  {
   "cell_type": "code",
   "execution_count": null,
   "metadata": {},
   "outputs": [],
   "source": [
    "db_lightsheet.Request.ImagingChannel() & 'request_name=\"test_many_samples2\"'"
   ]
  },
  {
   "cell_type": "code",
   "execution_count": null,
   "metadata": {},
   "outputs": [],
   "source": [
    "contents = db_lightsheet.Request.ImagingChannel() & 'request_name=\"test_many_samples2\"'"
   ]
  },
  {
   "cell_type": "code",
   "execution_count": null,
   "metadata": {},
   "outputs": [],
   "source": [
    "contents.fetch?"
   ]
  },
  {
   "cell_type": "code",
   "execution_count": null,
   "metadata": {},
   "outputs": [],
   "source": [
    "db_lightsheet.Request.ImagingChannel().insert(channel_entry_dicts,skip_duplicates=True)"
   ]
  },
  {
   "cell_type": "code",
   "execution_count": null,
   "metadata": {},
   "outputs": [],
   "source": [
    "db_lightsheet.Request.ImagingChannel() & 'request_name=\"test_many_samples2\"'"
   ]
  },
  {
   "cell_type": "code",
   "execution_count": null,
   "metadata": {},
   "outputs": [],
   "source": [
    "sorted(set([\"a\",\"b\",\"a\",\"a\"]))"
   ]
  },
  {
   "cell_type": "code",
   "execution_count": null,
   "metadata": {},
   "outputs": [],
   "source": [
    "db_lightsheet.Request.ProcessingResolutionRequest() & 'request_name=\"test_many_samples2\"'"
   ]
  },
  {
   "cell_type": "code",
   "execution_count": null,
   "metadata": {},
   "outputs": [],
   "source": [
    "db_lightsheet.Request.ProcessingChannel() & 'request_name=\"test_many_samples2\"'"
   ]
  },
  {
   "cell_type": "code",
   "execution_count": null,
   "metadata": {},
   "outputs": [],
   "source": [
    "contents "
   ]
  },
  {
   "cell_type": "code",
   "execution_count": null,
   "metadata": {},
   "outputs": [],
   "source": []
  },
  {
   "cell_type": "code",
   "execution_count": null,
   "metadata": {},
   "outputs": [],
   "source": [
    "var=4\n",
    "s = f'{{var}} is the number'\n",
    "s"
   ]
  },
  {
   "cell_type": "code",
   "execution_count": null,
   "metadata": {},
   "outputs": [],
   "source": [
    "b = '1.3x_ventral_up'"
   ]
  },
  {
   "cell_type": "code",
   "execution_count": null,
   "metadata": {},
   "outputs": [],
   "source": [
    "b if 'ventral_up' not in b else b.strip(\"_ventral_up\")"
   ]
  },
  {
   "cell_type": "code",
   "execution_count": null,
   "metadata": {},
   "outputs": [],
   "source": [
    "b.strip(\"_ventral_up\")"
   ]
  },
  {
   "cell_type": "code",
   "execution_count": null,
   "metadata": {},
   "outputs": [],
   "source": [
    "l=[{'id':'A','image_resolution':'4x','ventral_up':True},\n",
    "   {'id':'B','image_resolution':'4x','ventral_up':False},\n",
    "    {'id':'C','image_resolution':'1.3x','ventral_up':False},\n",
    "    {'id':'D','image_resolution':'1.3x','ventral_up':False},\n",
    "    {'id':'E','image_resolution':'1.3x','ventral_up':True}\n",
    "  ]\n",
    "tup_list = [(d['image_resolution'],d['ventral_up']) for d in l]\n",
    "sorted(set(tup_list))"
   ]
  },
  {
   "cell_type": "code",
   "execution_count": null,
   "metadata": {},
   "outputs": [],
   "source": [
    "all_channel_contents = imaging_channel_contents & 'request_name=\"test_dorsal_ventral\"'"
   ]
  },
  {
   "cell_type": "code",
   "execution_count": null,
   "metadata": {},
   "outputs": [],
   "source": [
    "results_list=all_channel_contents.fetch('image_resolution','ventral_up',as_dict=True)\n",
    "tup_list = [(d['image_resolution'],d['ventral_up']) for d in results_list]\n",
    "set(tup_list)\n",
    "# all_channel_contents.fetch"
   ]
  },
  {
   "cell_type": "code",
   "execution_count": null,
   "metadata": {},
   "outputs": [],
   "source": [
    "for a,b, in tup_list:\n",
    "    print(a,b)"
   ]
  },
  {
   "cell_type": "code",
   "execution_count": null,
   "metadata": {},
   "outputs": [],
   "source": [
    "bool(int('0'))"
   ]
  },
  {
   "cell_type": "code",
   "execution_count": null,
   "metadata": {},
   "outputs": [],
   "source": [
    "job_contents = db_spockadmin.ProcessingPipelineSpockJob()\n",
    "job_contents"
   ]
  },
  {
   "cell_type": "code",
   "execution_count": null,
   "metadata": {},
   "outputs": [],
   "source": [
    "unique_contents = dj.U('jobid_step0','username',).aggr(\n",
    "\t\tjob_contents,timestamp='max(timestamp)')*job_contents\n",
    "unique_contents"
   ]
  },
  {
   "cell_type": "code",
   "execution_count": null,
   "metadata": {},
   "outputs": [],
   "source": [
    "int(False)"
   ]
  },
  {
   "cell_type": "code",
   "execution_count": null,
   "metadata": {},
   "outputs": [],
   "source": [
    "int(bool(\"False\"))"
   ]
  },
  {
   "cell_type": "code",
   "execution_count": null,
   "metadata": {},
   "outputs": [],
   "source": [
    "bool(\"False\")"
   ]
  },
  {
   "cell_type": "code",
   "execution_count": null,
   "metadata": {},
   "outputs": [],
   "source": []
  }
 ],
 "metadata": {
  "anaconda-cloud": {},
  "kernelspec": {
   "display_name": "dj",
   "language": "python",
   "name": "dj"
  },
  "language_info": {
   "codemirror_mode": {
    "name": "ipython",
    "version": 3
   },
   "file_extension": ".py",
   "mimetype": "text/x-python",
   "name": "python",
   "nbconvert_exporter": "python",
   "pygments_lexer": "ipython3",
   "version": "3.8.5"
  }
 },
 "nbformat": 4,
 "nbformat_minor": 2
}
