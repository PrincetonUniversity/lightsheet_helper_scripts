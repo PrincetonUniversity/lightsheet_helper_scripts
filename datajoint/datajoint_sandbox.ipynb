{
 "cells": [
  {
   "cell_type": "markdown",
   "metadata": {},
   "source": [
    "# Datajoint_sandbox\n"
   ]
  },
  {
   "cell_type": "code",
   "execution_count": 1,
   "metadata": {},
   "outputs": [],
   "source": [
    "import pandas as pd\n",
    "import numpy as np\n",
    "import os\n",
    "import datajoint as dj\n",
    "import matplotlib\n",
    "import matplotlib.pyplot as plt\n",
    "from datetime import datetime\n",
    "matplotlib.style.use('ggplot')\n",
    "%matplotlib inline"
   ]
  },
  {
   "cell_type": "markdown",
   "metadata": {},
   "source": [
    "<a id='connect'></a>\n",
    "# Connect to the datajoint00 database\n",
    "Username and password are same as Princeton login.\n",
    "\n",
    "**Note**: You need to be on campus or using a VPN to connect to the database."
   ]
  },
  {
   "cell_type": "code",
   "execution_count": 4,
   "metadata": {},
   "outputs": [
    {
     "name": "stdout",
     "output_type": "stream",
     "text": [
      "Connecting ahoag@datajoint00.pni.princeton.edu:3306\n"
     ]
    },
    {
     "data": {
      "text/plain": [
       "DataJoint connection (connected) ahoag@datajoint00.pni.princeton.edu:3306"
      ]
     },
     "execution_count": 4,
     "metadata": {},
     "output_type": "execute_result"
    }
   ],
   "source": [
    "dj.config['database.host'] = 'datajoint00.pni.princeton.edu'\n",
    "dj.config['database.user'] = os.environ.get('DJ_DB_USER')\n",
    "dj.config['database.password'] = os.environ.get('DJ_DB_PASS')\n",
    "dj.conn()"
   ]
  },
  {
   "cell_type": "code",
   "execution_count": 5,
   "metadata": {},
   "outputs": [],
   "source": [
    "# db_lightsheet = dj.create_virtual_module('ahoag_lightsheet_demo','ahoag_lightsheet_demo')\n",
    "# db_spockadmin = dj.create_virtual_module('ahoag_spockadmin_demo','ahoag_spockadmin_demo')\n",
    "db_lightsheet = dj.create_virtual_module('a','u19lightserv_lightsheet')"
   ]
  },
  {
   "cell_type": "markdown",
   "metadata": {},
   "source": [
    "## Sandbox begins"
   ]
  },
  {
   "cell_type": "code",
   "execution_count": 6,
   "metadata": {},
   "outputs": [
    {
     "data": {
      "text/html": [
       "\n",
       "        \n",
       "        <style type=\"text/css\">\n",
       "            .Relation{\n",
       "                border-collapse:collapse;\n",
       "            }\n",
       "            .Relation th{\n",
       "                background: #A0A0A0; color: #ffffff; padding:4px; border:#f0e0e0 1px solid;\n",
       "                font-weight: normal; font-family: monospace; font-size: 100%;\n",
       "            }\n",
       "            .Relation td{\n",
       "                padding:4px; border:#f0e0e0 1px solid; font-size:100%;\n",
       "            }\n",
       "            .Relation tr:nth-child(odd){\n",
       "                background: #ffffff;\n",
       "            }\n",
       "            .Relation tr:nth-child(even){\n",
       "                background: #f3f1ff;\n",
       "            }\n",
       "            /* Tooltip container */\n",
       "            .djtooltip {\n",
       "            }\n",
       "            /* Tooltip text */\n",
       "            .djtooltip .djtooltiptext {\n",
       "                visibility: hidden;\n",
       "                width: 120px;\n",
       "                background-color: black;\n",
       "                color: #fff;\n",
       "                text-align: center;\n",
       "                padding: 5px 0;\n",
       "                border-radius: 6px;\n",
       "                /* Position the tooltip text - see examples below! */\n",
       "                position: absolute;\n",
       "                z-index: 1;\n",
       "            }\n",
       "            #primary {\n",
       "                font-weight: bold;\n",
       "                color: black;\n",
       "            }\n",
       "\n",
       "            #nonprimary {\n",
       "                font-weight: normal;\n",
       "                color: white;\n",
       "            }\n",
       "\n",
       "            /* Show the tooltip text when you mouse over the tooltip container */\n",
       "            .djtooltip:hover .djtooltiptext {\n",
       "                visibility: visible;\n",
       "            }\n",
       "        </style>\n",
       "        \n",
       "        <b>Samples from a particular request</b>\n",
       "            <div style=\"max-height:1000px;max-width:1500px;overflow:auto;\">\n",
       "            <table border=\"1\" class=\"Relation\">\n",
       "                <thead> <tr style=\"text-align: right;\"> <th> <div class=\"djtooltip\">\n",
       "                                <p id=\"primary\">username</p>\n",
       "                                <span class=\"djtooltiptext\">user in the lab</span>\n",
       "                            </div></th><th><div class=\"djtooltip\">\n",
       "                                <p id=\"primary\">request_name</p>\n",
       "                                <span class=\"djtooltiptext\"></span>\n",
       "                            </div></th><th><div class=\"djtooltip\">\n",
       "                                <p id=\"primary\">clearing_batch_number</p>\n",
       "                                <span class=\"djtooltiptext\"></span>\n",
       "                            </div></th><th><div class=\"djtooltip\">\n",
       "                                <p id=\"nonprimary\">clearing_protocol</p>\n",
       "                                <span class=\"djtooltiptext\"></span>\n",
       "                            </div></th><th><div class=\"djtooltip\">\n",
       "                                <p id=\"nonprimary\">antibody1</p>\n",
       "                                <span class=\"djtooltiptext\"></span>\n",
       "                            </div></th><th><div class=\"djtooltip\">\n",
       "                                <p id=\"nonprimary\">antibody2</p>\n",
       "                                <span class=\"djtooltiptext\"></span>\n",
       "                            </div></th><th><div class=\"djtooltip\">\n",
       "                                <p id=\"nonprimary\">antibody1_lot</p>\n",
       "                                <span class=\"djtooltiptext\"></span>\n",
       "                            </div></th><th><div class=\"djtooltip\">\n",
       "                                <p id=\"nonprimary\">antibody2_lot</p>\n",
       "                                <span class=\"djtooltiptext\"></span>\n",
       "                            </div></th><th><div class=\"djtooltip\">\n",
       "                                <p id=\"nonprimary\">clearing_progress</p>\n",
       "                                <span class=\"djtooltiptext\"></span>\n",
       "                            </div></th><th><div class=\"djtooltip\">\n",
       "                                <p id=\"nonprimary\">number_in_batch</p>\n",
       "                                <span class=\"djtooltiptext\"></span>\n",
       "                            </div></th><th><div class=\"djtooltip\">\n",
       "                                <p id=\"nonprimary\">perfusion_date</p>\n",
       "                                <span class=\"djtooltiptext\"></span>\n",
       "                            </div></th><th><div class=\"djtooltip\">\n",
       "                                <p id=\"nonprimary\">expected_handoff_date</p>\n",
       "                                <span class=\"djtooltiptext\"></span>\n",
       "                            </div></th><th><div class=\"djtooltip\">\n",
       "                                <p id=\"nonprimary\">clearer</p>\n",
       "                                <span class=\"djtooltiptext\">user in the lab</span>\n",
       "                            </div></th><th><div class=\"djtooltip\">\n",
       "                                <p id=\"nonprimary\">notes_for_clearer</p>\n",
       "                                <span class=\"djtooltiptext\"></span>\n",
       "                            </div></th><th><div class=\"djtooltip\">\n",
       "                                <p id=\"nonprimary\">link_to_clearing_spreadsheet</p>\n",
       "                                <span class=\"djtooltiptext\"></span>\n",
       "                            </div> </th> </tr> </thead>\n",
       "                <tbody> <tr> <td>hboele</td>\n",
       "<td>HJB_DCN_YFP</td>\n",
       "<td>1</td>\n",
       "<td>iDISCO+_immuno</td>\n",
       "<td>chicken antiGFP, Aves 1:500</td>\n",
       "<td>Donkey antiChicken 647, 1:500</td>\n",
       "<td>Aves GFP-1020 lot GFP879484</td>\n",
       "<td>Jackson ImmunoResearch lot 136608</td>\n",
       "<td>complete</td>\n",
       "<td>2</td>\n",
       "<td>2020-11-01</td>\n",
       "<td>2020-11-16</td>\n",
       "<td>ll3</td>\n",
       "<td>We can try this in two animals and see how it looks like. (for sample: 20-MI-16684-01M)\n",
       "We can try this in two animals and see how it looks like (for sample: 20-MI-16684-02M)\n",
       "</td>\n",
       "<td>None</td></tr><tr><td>hboele</td>\n",
       "<td>HJB_DCN_YFP</td>\n",
       "<td>2</td>\n",
       "<td>iDISCO+_immuno</td>\n",
       "<td>To be determined, maybe: chicken antiGFP, Aves 1:500</td>\n",
       "<td>To be determined, maybe: Donkey antiChicken 647, 1:500</td>\n",
       "<td>None</td>\n",
       "<td>None</td>\n",
       "<td>incomplete</td>\n",
       "<td>6</td>\n",
       "<td>2020-11-01</td>\n",
       "<td>2020-11-16</td>\n",
       "<td>ll3</td>\n",
       "<td>We can start clearing for this brain and decide on antibodies later? (for sample: 20-MI-16685-01M)\n",
       "We can start clearing for this brain and decide on antibodies later? (for sample: 20-MI-16685-02M)\n",
       "We can start clearing for this brain and decide on antibodies later? (for sample: 20-MI-16686-01F)\n",
       "We can start clearing for this brain and decide on antibodies later? (for sample: 20-MI-16686-02F)\n",
       "We can start clearing for this brain and decide on antibodies later? (for sample: 20-MI-16687-01F)\n",
       "We can start clearing for this brain and decide on antibodies later? (for sample: 20-MI-16687-02F)\n",
       "</td>\n",
       "<td>None</td> </tr> </tbody>\n",
       "            </table>\n",
       "            \n",
       "            <p>Total: 2</p></div>\n",
       "            "
      ],
      "text/plain": [
       "*username    *request_name  *clearing_batc clearing_proto antibody1      antibody2      antibody1_lot  antibody2_lot  clearing_progr number_in_batc perfusion_date expected_hando clearer     notes_for_clea link_to_cleari\n",
       "+----------+ +------------+ +------------+ +------------+ +------------+ +------------+ +------------+ +------------+ +------------+ +------------+ +------------+ +------------+ +---------+ +------------+ +------------+\n",
       "hboele       HJB_DCN_YFP    1              iDISCO+_immuno chicken antiGF Donkey antiChi Aves GFP-1020  Jackson Immuno complete       2              2020-11-01     2020-11-16     ll3         We can try thi None          \n",
       "hboele       HJB_DCN_YFP    2              iDISCO+_immuno To be determin To be determin None           None           incomplete     6              2020-11-01     2020-11-16     ll3         We can start c None          \n",
       " (Total: 2)"
      ]
     },
     "execution_count": 6,
     "metadata": {},
     "output_type": "execute_result"
    }
   ],
   "source": [
    "db_lightsheet.Request.ClearingBatch() & {'username':'hboele'}"
   ]
  },
  {
   "cell_type": "code",
   "execution_count": 7,
   "metadata": {},
   "outputs": [
    {
     "data": {
      "text/html": [
       "\n",
       "        \n",
       "        <style type=\"text/css\">\n",
       "            .Relation{\n",
       "                border-collapse:collapse;\n",
       "            }\n",
       "            .Relation th{\n",
       "                background: #A0A0A0; color: #ffffff; padding:4px; border:#f0e0e0 1px solid;\n",
       "                font-weight: normal; font-family: monospace; font-size: 100%;\n",
       "            }\n",
       "            .Relation td{\n",
       "                padding:4px; border:#f0e0e0 1px solid; font-size:100%;\n",
       "            }\n",
       "            .Relation tr:nth-child(odd){\n",
       "                background: #ffffff;\n",
       "            }\n",
       "            .Relation tr:nth-child(even){\n",
       "                background: #f3f1ff;\n",
       "            }\n",
       "            /* Tooltip container */\n",
       "            .djtooltip {\n",
       "            }\n",
       "            /* Tooltip text */\n",
       "            .djtooltip .djtooltiptext {\n",
       "                visibility: hidden;\n",
       "                width: 120px;\n",
       "                background-color: black;\n",
       "                color: #fff;\n",
       "                text-align: center;\n",
       "                padding: 5px 0;\n",
       "                border-radius: 6px;\n",
       "                /* Position the tooltip text - see examples below! */\n",
       "                position: absolute;\n",
       "                z-index: 1;\n",
       "            }\n",
       "            #primary {\n",
       "                font-weight: bold;\n",
       "                color: black;\n",
       "            }\n",
       "\n",
       "            #nonprimary {\n",
       "                font-weight: normal;\n",
       "                color: white;\n",
       "            }\n",
       "\n",
       "            /* Show the tooltip text when you mouse over the tooltip container */\n",
       "            .djtooltip:hover .djtooltiptext {\n",
       "                visibility: visible;\n",
       "            }\n",
       "        </style>\n",
       "        \n",
       "        <b>Samples in a ClearingBatch</b>\n",
       "            <div style=\"max-height:1000px;max-width:1500px;overflow:auto;\">\n",
       "            <table border=\"1\" class=\"Relation\">\n",
       "                <thead> <tr style=\"text-align: right;\"> <th> <div class=\"djtooltip\">\n",
       "                                <p id=\"primary\">username</p>\n",
       "                                <span class=\"djtooltiptext\">user in the lab</span>\n",
       "                            </div></th><th><div class=\"djtooltip\">\n",
       "                                <p id=\"primary\">request_name</p>\n",
       "                                <span class=\"djtooltiptext\"></span>\n",
       "                            </div></th><th><div class=\"djtooltip\">\n",
       "                                <p id=\"primary\">sample_name</p>\n",
       "                                <span class=\"djtooltiptext\"></span>\n",
       "                            </div></th><th><div class=\"djtooltip\">\n",
       "                                <p id=\"primary\">clearing_batch_number</p>\n",
       "                                <span class=\"djtooltiptext\"></span>\n",
       "                            </div></th><th><div class=\"djtooltip\">\n",
       "                                <p id=\"nonprimary\">clearing_protocol</p>\n",
       "                                <span class=\"djtooltiptext\"></span>\n",
       "                            </div></th><th><div class=\"djtooltip\">\n",
       "                                <p id=\"nonprimary\">antibody1</p>\n",
       "                                <span class=\"djtooltiptext\"></span>\n",
       "                            </div></th><th><div class=\"djtooltip\">\n",
       "                                <p id=\"nonprimary\">antibody2</p>\n",
       "                                <span class=\"djtooltiptext\"></span>\n",
       "                            </div> </th> </tr> </thead>\n",
       "                <tbody> <tr> <td>hboele</td>\n",
       "<td>HJB_DCN_YFP</td>\n",
       "<td>20-MI-16684-01M</td>\n",
       "<td>1</td>\n",
       "<td>iDISCO+_immuno</td>\n",
       "<td>chicken antiGFP, Aves 1:500</td>\n",
       "<td>Donkey antiChicken 647, 1:500</td></tr><tr><td>hboele</td>\n",
       "<td>HJB_DCN_YFP</td>\n",
       "<td>20-MI-16684-02M</td>\n",
       "<td>1</td>\n",
       "<td>iDISCO+_immuno</td>\n",
       "<td>chicken antiGFP, Aves 1:500</td>\n",
       "<td>Donkey antiChicken 647, 1:500</td></tr><tr><td>hboele</td>\n",
       "<td>HJB_DCN_YFP</td>\n",
       "<td>20-MI-16685-01M</td>\n",
       "<td>2</td>\n",
       "<td>iDISCO+_immuno</td>\n",
       "<td>To be determined, maybe: chicken antiGFP, Aves 1:500</td>\n",
       "<td>To be determined, maybe: Donkey antiChicken 647, 1:500</td></tr><tr><td>hboele</td>\n",
       "<td>HJB_DCN_YFP</td>\n",
       "<td>20-MI-16685-02M</td>\n",
       "<td>2</td>\n",
       "<td>iDISCO+_immuno</td>\n",
       "<td>To be determined, maybe: chicken antiGFP, Aves 1:500</td>\n",
       "<td>To be determined, maybe: Donkey antiChicken 647, 1:500</td></tr><tr><td>hboele</td>\n",
       "<td>HJB_DCN_YFP</td>\n",
       "<td>20-MI-16686-01F</td>\n",
       "<td>2</td>\n",
       "<td>iDISCO+_immuno</td>\n",
       "<td>To be determined, maybe: chicken antiGFP, Aves 1:500</td>\n",
       "<td>To be determined, maybe: Donkey antiChicken 647, 1:500</td></tr><tr><td>hboele</td>\n",
       "<td>HJB_DCN_YFP</td>\n",
       "<td>20-MI-16686-02F</td>\n",
       "<td>2</td>\n",
       "<td>iDISCO+_immuno</td>\n",
       "<td>To be determined, maybe: chicken antiGFP, Aves 1:500</td>\n",
       "<td>To be determined, maybe: Donkey antiChicken 647, 1:500</td></tr><tr><td>hboele</td>\n",
       "<td>HJB_DCN_YFP</td>\n",
       "<td>20-MI-16687-01F</td>\n",
       "<td>2</td>\n",
       "<td>iDISCO+_immuno</td>\n",
       "<td>To be determined, maybe: chicken antiGFP, Aves 1:500</td>\n",
       "<td>To be determined, maybe: Donkey antiChicken 647, 1:500</td></tr><tr><td>hboele</td>\n",
       "<td>HJB_DCN_YFP</td>\n",
       "<td>20-MI-16687-02F</td>\n",
       "<td>2</td>\n",
       "<td>iDISCO+_immuno</td>\n",
       "<td>To be determined, maybe: chicken antiGFP, Aves 1:500</td>\n",
       "<td>To be determined, maybe: Donkey antiChicken 647, 1:500</td> </tr> </tbody>\n",
       "            </table>\n",
       "            \n",
       "            <p>Total: 8</p></div>\n",
       "            "
      ],
      "text/plain": [
       "*username    *request_name  *sample_name   *clearing_batc clearing_proto antibody1      antibody2     \n",
       "+----------+ +------------+ +------------+ +------------+ +------------+ +------------+ +------------+\n",
       "hboele       HJB_DCN_YFP    20-MI-16684-01 1              iDISCO+_immuno chicken antiGF Donkey antiChi\n",
       "hboele       HJB_DCN_YFP    20-MI-16684-02 1              iDISCO+_immuno chicken antiGF Donkey antiChi\n",
       "hboele       HJB_DCN_YFP    20-MI-16685-01 2              iDISCO+_immuno To be determin To be determin\n",
       "hboele       HJB_DCN_YFP    20-MI-16685-02 2              iDISCO+_immuno To be determin To be determin\n",
       "hboele       HJB_DCN_YFP    20-MI-16686-01 2              iDISCO+_immuno To be determin To be determin\n",
       "hboele       HJB_DCN_YFP    20-MI-16686-02 2              iDISCO+_immuno To be determin To be determin\n",
       "hboele       HJB_DCN_YFP    20-MI-16687-01 2              iDISCO+_immuno To be determin To be determin\n",
       "hboele       HJB_DCN_YFP    20-MI-16687-02 2              iDISCO+_immuno To be determin To be determin\n",
       " (Total: 8)"
      ]
     },
     "execution_count": 7,
     "metadata": {},
     "output_type": "execute_result"
    }
   ],
   "source": [
    "db_lightsheet.Request.ClearingBatchSample() & {'username':'hboele'}"
   ]
  },
  {
   "cell_type": "code",
   "execution_count": 9,
   "metadata": {},
   "outputs": [
    {
     "ename": "AttributeError",
     "evalue": "type object 'Request' has no attribute 'IdiscoPlusImmunoClearing'",
     "output_type": "error",
     "traceback": [
      "\u001b[0;31m---------------------------------------------------------------------------\u001b[0m",
      "\u001b[0;31mAttributeError\u001b[0m                            Traceback (most recent call last)",
      "\u001b[0;32m<ipython-input-9-9dea384915c0>\u001b[0m in \u001b[0;36m<module>\u001b[0;34m\u001b[0m\n\u001b[0;32m----> 1\u001b[0;31m \u001b[0mdb_lightsheet\u001b[0m\u001b[0;34m.\u001b[0m\u001b[0mRequest\u001b[0m\u001b[0;34m.\u001b[0m\u001b[0mIdiscoPlusImmunoClearing\u001b[0m\u001b[0;34m(\u001b[0m\u001b[0;34m)\u001b[0m\u001b[0;34m\u001b[0m\u001b[0;34m\u001b[0m\u001b[0m\n\u001b[0m",
      "\u001b[0;32m~/anaconda3/envs/dj/lib/python3.8/site-packages/datajoint/user_tables.py\u001b[0m in \u001b[0;36m__getattribute__\u001b[0;34m(cls, name)\u001b[0m\n\u001b[1;32m     43\u001b[0m         \u001b[0;31m# trigger instantiation for supported class attrs\u001b[0m\u001b[0;34m\u001b[0m\u001b[0;34m\u001b[0m\u001b[0;34m\u001b[0m\u001b[0m\n\u001b[1;32m     44\u001b[0m         return (cls().__getattribute__(name) if name in supported_class_attrs\n\u001b[0;32m---> 45\u001b[0;31m                 else super().__getattribute__(name))\n\u001b[0m\u001b[1;32m     46\u001b[0m \u001b[0;34m\u001b[0m\u001b[0m\n\u001b[1;32m     47\u001b[0m     \u001b[0;32mdef\u001b[0m \u001b[0m__and__\u001b[0m\u001b[0;34m(\u001b[0m\u001b[0mcls\u001b[0m\u001b[0;34m,\u001b[0m \u001b[0marg\u001b[0m\u001b[0;34m)\u001b[0m\u001b[0;34m:\u001b[0m\u001b[0;34m\u001b[0m\u001b[0;34m\u001b[0m\u001b[0m\n",
      "\u001b[0;31mAttributeError\u001b[0m: type object 'Request' has no attribute 'IdiscoPlusImmunoClearing'"
     ]
    }
   ],
   "source": [
    "db_lightsheet.Request.IdiscoPlusImmunoClearing()"
   ]
  },
  {
   "cell_type": "code",
   "execution_count": 8,
   "metadata": {},
   "outputs": [
    {
     "data": {
      "text/html": [
       "\n",
       "        \n",
       "        <style type=\"text/css\">\n",
       "            .Relation{\n",
       "                border-collapse:collapse;\n",
       "            }\n",
       "            .Relation th{\n",
       "                background: #A0A0A0; color: #ffffff; padding:4px; border:#f0e0e0 1px solid;\n",
       "                font-weight: normal; font-family: monospace; font-size: 100%;\n",
       "            }\n",
       "            .Relation td{\n",
       "                padding:4px; border:#f0e0e0 1px solid; font-size:100%;\n",
       "            }\n",
       "            .Relation tr:nth-child(odd){\n",
       "                background: #ffffff;\n",
       "            }\n",
       "            .Relation tr:nth-child(even){\n",
       "                background: #f3f1ff;\n",
       "            }\n",
       "            /* Tooltip container */\n",
       "            .djtooltip {\n",
       "            }\n",
       "            /* Tooltip text */\n",
       "            .djtooltip .djtooltiptext {\n",
       "                visibility: hidden;\n",
       "                width: 120px;\n",
       "                background-color: black;\n",
       "                color: #fff;\n",
       "                text-align: center;\n",
       "                padding: 5px 0;\n",
       "                border-radius: 6px;\n",
       "                /* Position the tooltip text - see examples below! */\n",
       "                position: absolute;\n",
       "                z-index: 1;\n",
       "            }\n",
       "            #primary {\n",
       "                font-weight: bold;\n",
       "                color: black;\n",
       "            }\n",
       "\n",
       "            #nonprimary {\n",
       "                font-weight: normal;\n",
       "                color: white;\n",
       "            }\n",
       "\n",
       "            /* Show the tooltip text when you mouse over the tooltip container */\n",
       "            .djtooltip:hover .djtooltiptext {\n",
       "                visibility: visible;\n",
       "            }\n",
       "        </style>\n",
       "        \n",
       "        <b>Samples in an ImagingBatch</b>\n",
       "            <div style=\"max-height:1000px;max-width:1500px;overflow:auto;\">\n",
       "            <table border=\"1\" class=\"Relation\">\n",
       "                <thead> <tr style=\"text-align: right;\"> <th> <div class=\"djtooltip\">\n",
       "                                <p id=\"primary\">username</p>\n",
       "                                <span class=\"djtooltiptext\">user in the lab</span>\n",
       "                            </div></th><th><div class=\"djtooltip\">\n",
       "                                <p id=\"primary\">request_name</p>\n",
       "                                <span class=\"djtooltiptext\"></span>\n",
       "                            </div></th><th><div class=\"djtooltip\">\n",
       "                                <p id=\"primary\">sample_name</p>\n",
       "                                <span class=\"djtooltiptext\"></span>\n",
       "                            </div></th><th><div class=\"djtooltip\">\n",
       "                                <p id=\"primary\">clearing_batch_number</p>\n",
       "                                <span class=\"djtooltiptext\"></span>\n",
       "                            </div></th><th><div class=\"djtooltip\">\n",
       "                                <p id=\"primary\">imaging_batch_number</p>\n",
       "                                <span class=\"djtooltiptext\"></span>\n",
       "                            </div></th><th><div class=\"djtooltip\">\n",
       "                                <p id=\"primary\">imaging_request_number</p>\n",
       "                                <span class=\"djtooltiptext\"></span>\n",
       "                            </div> </th> </tr> </thead>\n",
       "                <tbody> <tr> <td>hboele</td>\n",
       "<td>HJB_DCN_YFP</td>\n",
       "<td>20-MI-16684-01M</td>\n",
       "<td>2</td>\n",
       "<td>1</td>\n",
       "<td>1</td></tr><tr><td>hboele</td>\n",
       "<td>HJB_DCN_YFP</td>\n",
       "<td>20-MI-16684-02M</td>\n",
       "<td>2</td>\n",
       "<td>1</td>\n",
       "<td>1</td></tr><tr><td>hboele</td>\n",
       "<td>HJB_DCN_YFP</td>\n",
       "<td>20-MI-16685-01M</td>\n",
       "<td>1</td>\n",
       "<td>1</td>\n",
       "<td>1</td></tr><tr><td>hboele</td>\n",
       "<td>HJB_DCN_YFP</td>\n",
       "<td>20-MI-16685-02M</td>\n",
       "<td>1</td>\n",
       "<td>1</td>\n",
       "<td>1</td></tr><tr><td>hboele</td>\n",
       "<td>HJB_DCN_YFP</td>\n",
       "<td>20-MI-16686-01F</td>\n",
       "<td>1</td>\n",
       "<td>1</td>\n",
       "<td>1</td></tr><tr><td>hboele</td>\n",
       "<td>HJB_DCN_YFP</td>\n",
       "<td>20-MI-16686-02F</td>\n",
       "<td>1</td>\n",
       "<td>1</td>\n",
       "<td>1</td></tr><tr><td>hboele</td>\n",
       "<td>HJB_DCN_YFP</td>\n",
       "<td>20-MI-16687-01F</td>\n",
       "<td>1</td>\n",
       "<td>1</td>\n",
       "<td>1</td></tr><tr><td>hboele</td>\n",
       "<td>HJB_DCN_YFP</td>\n",
       "<td>20-MI-16687-02F</td>\n",
       "<td>1</td>\n",
       "<td>1</td>\n",
       "<td>1</td> </tr> </tbody>\n",
       "            </table>\n",
       "            \n",
       "            <p>Total: 8</p></div>\n",
       "            "
      ],
      "text/plain": [
       "*username    *request_name  *sample_name   *clearing_batc *imaging_batch *imaging_reque\n",
       "+----------+ +------------+ +------------+ +------------+ +------------+ +------------+\n",
       "hboele       HJB_DCN_YFP    20-MI-16684-01 2              1              1             \n",
       "hboele       HJB_DCN_YFP    20-MI-16684-02 2              1              1             \n",
       "hboele       HJB_DCN_YFP    20-MI-16685-01 1              1              1             \n",
       "hboele       HJB_DCN_YFP    20-MI-16685-02 1              1              1             \n",
       "hboele       HJB_DCN_YFP    20-MI-16686-01 1              1              1             \n",
       "hboele       HJB_DCN_YFP    20-MI-16686-02 1              1              1             \n",
       "hboele       HJB_DCN_YFP    20-MI-16687-01 1              1              1             \n",
       "hboele       HJB_DCN_YFP    20-MI-16687-02 1              1              1             \n",
       " (Total: 8)"
      ]
     },
     "execution_count": 8,
     "metadata": {},
     "output_type": "execute_result"
    }
   ],
   "source": [
    "db_lightsheet.Request.ImagingBatchSample() & {'username':'hboele'}"
   ]
  },
  {
   "cell_type": "code",
   "execution_count": null,
   "metadata": {},
   "outputs": [],
   "source": [
    "job_contents = db_spockadmin.ProcessingPipelineSpockJob()\n",
    "unique_contents = dj.U('jobid_step0','username',).aggr(\n",
    "    job_contents,timestamp='max(timestamp)')*job_contents"
   ]
  },
  {
   "cell_type": "code",
   "execution_count": null,
   "metadata": {},
   "outputs": [],
   "source": [
    "unique_contents"
   ]
  },
  {
   "cell_type": "code",
   "execution_count": null,
   "metadata": {},
   "outputs": [],
   "source": [
    "request_contents = db_lightsheet.Request()\n",
    "clearing_batch_contents = request_contents.ClearingBatch()\n",
    "combined_contents = request_contents *clearing_batch_contents"
   ]
  },
  {
   "cell_type": "code",
   "execution_count": null,
   "metadata": {},
   "outputs": [],
   "source": [
    "combined_contents"
   ]
  },
  {
   "cell_type": "code",
   "execution_count": null,
   "metadata": {},
   "outputs": [],
   "source": [
    "username='soline'"
   ]
  },
  {
   "cell_type": "code",
   "execution_count": null,
   "metadata": {},
   "outputs": [],
   "source": [
    "db_lightsheet.Request.ImagingChannel() & {'username':username}"
   ]
  },
  {
   "cell_type": "code",
   "execution_count": null,
   "metadata": {},
   "outputs": [],
   "source": [
    "db_lightsheet.Request.ProcessingResolutionRequest() & {'username':username}"
   ]
  },
  {
   "cell_type": "code",
   "execution_count": null,
   "metadata": {},
   "outputs": [],
   "source": [
    "db_lightsheet.Request.ImagingChannel() & {'username':username}"
   ]
  },
  {
   "cell_type": "code",
   "execution_count": null,
   "metadata": {},
   "outputs": [],
   "source": [
    "request_contents = db_lightsheet.Request()\n",
    "clearing_batch_contents = db_lightsheet.Request.ClearingBatch()\n",
    "imaging_request_contents = db_lightsheet.Request.ImagingRequest()\n",
    "processing_request_contents = db_lightsheet.Request.ProcessingRequest()"
   ]
  },
  {
   "cell_type": "code",
   "execution_count": null,
   "metadata": {},
   "outputs": [],
   "source": [
    "restrict_OR_list = [{\"username\":username},{\"auditor\":username}]\n",
    "request_contents = request_contents & restrict_OR_list\n",
    "imaging_request_contents = (request_contents*imaging_request_contents & restrict_OR_list).proj('imager',\n",
    "                              'imaging_request_date_submitted',\n",
    "                              'imaging_request_time_submitted',\n",
    "                              'imaging_performed_date',\n",
    "                              'imaging_progress')\n",
    "processing_request_contents = (request_contents*processing_request_contents & restrict_OR_list).proj(\n",
    "                            'processing_progress',\n",
    "                            'processor')"
   ]
  },
  {
   "cell_type": "code",
   "execution_count": null,
   "metadata": {},
   "outputs": [],
   "source": [
    "replicated_args = dict(is_archival='is_archival',number_of_samples='number_of_samples',description='description',\n",
    "        species='species',datetime_submitted='datetime_submitted')"
   ]
  },
  {
   "cell_type": "code",
   "execution_count": null,
   "metadata": {},
   "outputs": [],
   "source": [
    "sample_joined_contents = dj.U('username','request_name').aggr(\n",
    "        request_contents * clearing_batch_contents,\n",
    "        is_archival='is_archival',\n",
    "        number_of_samples='number_of_samples',\n",
    "        number_in_batch='number_in_batch',\n",
    "        description='description',\n",
    "        species='species',\n",
    "        datetime_submitted='TIMESTAMP(date_submitted,time_submitted)',\n",
    "        n_cleared='CONVERT(SUM(IF(clearing_progress=\"complete\",number_in_batch,0)),char)').proj(\n",
    "        **replicated_args,\n",
    "            fraction_cleared='CONCAT(n_cleared,\"/\",CONVERT(number_of_samples,char))')"
   ]
  },
  {
   "cell_type": "code",
   "execution_count": null,
   "metadata": {},
   "outputs": [],
   "source": [
    "imaging_joined_contents = sample_joined_contents.aggr(\n",
    "    imaging_request_contents,\n",
    "    **replicated_args,\n",
    "    fraction_cleared='fraction_cleared',\n",
    "    n_imaged='CONVERT(SUM(imaging_progress=\"complete\"),char)',\n",
    "    total_imaging_requests='CONVERT(COUNT(*),char)',\n",
    "    keep_all_rows=True\n",
    "    ).proj(**replicated_args,\n",
    "        fraction_cleared='fraction_cleared',\n",
    "        # fraction_imaged='CONCAT(n_imaged,\"/\",total_imaging_requests)'\n",
    "        fraction_imaged='IF(n_imaged is NULL,\"0/0\",CONCAT(n_imaged,\"/\",total_imaging_requests))' \n",
    "        )"
   ]
  },
  {
   "cell_type": "code",
   "execution_count": null,
   "metadata": {},
   "outputs": [],
   "source": [
    "processing_joined_contents = (dj.U('username','request_name') * imaging_joined_contents).aggr(   \n",
    "    processing_request_contents,\n",
    "    **replicated_args,\n",
    "    fraction_cleared='fraction_cleared',\n",
    "    fraction_imaged='fraction_imaged',\n",
    "    n_processed='CONVERT(SUM(processing_progress=\"complete\"),char)',\n",
    "    total_processing_requests='CONVERT(COUNT(processing_progress),char)',\n",
    "    keep_all_rows=True\n",
    "    ).proj(\n",
    "        **replicated_args,\n",
    "        fraction_cleared='fraction_cleared',\n",
    "        fraction_imaged='fraction_imaged',\n",
    "        fraction_processed='IF(n_processed is NULL,\"0/0\",CONCAT(n_processed,\"/\",total_processing_requests))' \n",
    "        )"
   ]
  },
  {
   "cell_type": "code",
   "execution_count": null,
   "metadata": {},
   "outputs": [],
   "source": [
    "processing_joined_contents"
   ]
  },
  {
   "cell_type": "markdown",
   "metadata": {},
   "source": [
    "## Debugging all samples with auditor"
   ]
  },
  {
   "cell_type": "code",
   "execution_count": null,
   "metadata": {},
   "outputs": [],
   "source": [
    "request_contents = db_lightsheet.Request()\n",
    "request_contents = request_contents.proj('description','species','number_of_samples',\n",
    "        'is_archival','auditor',\n",
    "        datetime_submitted='TIMESTAMP(date_submitted,time_submitted)')\n",
    "sample_contents = db_lightsheet.Request.Sample()\n",
    "clearing_batch_contents = db_lightsheet.Request.ClearingBatch()\n",
    "imaging_request_contents = db_lightsheet.Request.ImagingRequest()\n",
    "processing_request_contents = db_lightsheet.Request.ProcessingRequest()\n",
    "\n",
    "restrict_OR_list = [{\"username\":username},{\"auditor\":username}]\n",
    "request_contents = request_contents & restrict_OR_list\n",
    "sample_contents = (request_contents*sample_contents & restrict_OR_list).proj()\n",
    "\n",
    "clearing_batch_contents = (request_contents*clearing_batch_contents & restrict_OR_list).proj(\n",
    "    'clearer','clearing_progress','link_to_clearing_spreadsheet')\n",
    "imaging_request_contents = (request_contents*imaging_request_contents & restrict_OR_list).proj(\n",
    "    'imager','imaging_progress')\n",
    "processing_request_contents = (request_contents*processing_request_contents & restrict_OR_list).proj(\n",
    "    'processor','processing_progress')\n",
    "sample_joined_contents = request_contents * sample_contents * clearing_batch_contents\n",
    "replicated_args = dict(number_of_samples='number_of_samples',description='description',\n",
    "        species='species',datetime_submitted='datetime_submitted',\n",
    "        clearer='clearer',\n",
    "        clearing_progress='clearing_progress',\n",
    "        imager='imager',imaging_progress='imaging_progress',\n",
    "        is_archival='is_archival',\n",
    "        link_to_clearing_spreadsheet='link_to_clearing_spreadsheet')"
   ]
  },
  {
   "cell_type": "code",
   "execution_count": null,
   "metadata": {},
   "outputs": [],
   "source": [
    "imaging_joined_contents = sample_joined_contents.aggr(\n",
    "        imaging_request_contents,\n",
    "        **replicated_args,\n",
    "        imaging_request_number='imaging_request_number',\n",
    "        n_imaged='CONVERT(SUM(imaging_progress=\"complete\"),char)',\n",
    "        total_imaging_requests='COUNT(*)',\n",
    "        keep_all_rows=True\n",
    "        ).proj(**replicated_args,\n",
    "               total_imaging_requests='IF(n_imaged is NULL, \"0\",total_imaging_requests)',\n",
    "               imaging_request_number='IF(imaging_request_number is NULL, \"N/A\",imaging_request_number)'\n",
    "            # fraction_imaged='CONCAT(n_imaged,\"/\",total_imaging_requests)'\n",
    "            )"
   ]
  },
  {
   "cell_type": "code",
   "execution_count": null,
   "metadata": {},
   "outputs": [],
   "source": [
    "processing_joined_contents = (dj.U('username','request_name') * imaging_joined_contents).aggr(   \n",
    "        processing_request_contents,\n",
    "        **replicated_args,\n",
    "        imaging_request_number='imaging_request_number',\n",
    "        processing_request_number='processing_request_number',\n",
    "        processor='processor',\n",
    "        processing_progress='processing_progress',\n",
    "        total_imaging_requests='total_imaging_requests',\n",
    "        n_processed='CONVERT(SUM(processing_progress=\"complete\"),char)',\n",
    "        total_processing_requests='CONVERT(COUNT(processing_progress),char)',\n",
    "        keep_all_rows=True\n",
    "        ).proj(\n",
    "            **replicated_args,\n",
    "            processing_request_number='IF(processing_request_number is NULL, \"N/A\",processing_request_number)',\n",
    "            processor='processor',\n",
    "            processing_progress='processing_progress',\n",
    "            total_imaging_requests='total_imaging_requests',\n",
    "            total_processing_requests='IF(n_processed is NULL,0,total_processing_requests)', \n",
    "            )"
   ]
  },
  {
   "cell_type": "code",
   "execution_count": null,
   "metadata": {},
   "outputs": [],
   "source": [
    "processing_joined_contents"
   ]
  },
  {
   "cell_type": "code",
   "execution_count": null,
   "metadata": {},
   "outputs": [],
   "source": []
  },
  {
   "cell_type": "code",
   "execution_count": null,
   "metadata": {},
   "outputs": [],
   "source": []
  },
  {
   "cell_type": "code",
   "execution_count": null,
   "metadata": {},
   "outputs": [],
   "source": [
    "contents = db_lightsheet.Request() & [{\"username\":username},{\"auditor\":username}]\n",
    "contents"
   ]
  },
  {
   "cell_type": "code",
   "execution_count": null,
   "metadata": {},
   "outputs": [],
   "source": [
    "imaging_batch_restrict_dict = dict(username=username,request_name=request_name,\n",
    "    imaging_batch_number=imaging_batch_number,\n",
    "    imaging_request_number=imaging_request_number)\n",
    "sample_contents = db_lightsheet.Request.ImagingBatchSample() & imaging_batch_restrict_dict"
   ]
  },
  {
   "cell_type": "code",
   "execution_count": null,
   "metadata": {},
   "outputs": [],
   "source": [
    "sample_contents"
   ]
  },
  {
   "cell_type": "code",
   "execution_count": null,
   "metadata": {},
   "outputs": [],
   "source": [
    "restrict_dict = {'username':'lightserv-test','request_name':'test_new_imaging_request'}\n",
    "db_lightsheet.Request() & restrict_dict"
   ]
  },
  {
   "cell_type": "code",
   "execution_count": null,
   "metadata": {},
   "outputs": [],
   "source": [
    "db_lightsheet.Request.ImagingRequest & restrict_dict"
   ]
  },
  {
   "cell_type": "code",
   "execution_count": null,
   "metadata": {},
   "outputs": [],
   "source": [
    "db_lightsheet.Request.ImagingBatch() & restrict_dict"
   ]
  },
  {
   "cell_type": "code",
   "execution_count": null,
   "metadata": {},
   "outputs": [],
   "source": [
    "request_contents = db_lightsheet.Request()\n",
    "sample_contents = db_lightsheet.Request.Sample()\n",
    "clearing_batch_contents = db_lightsheet.Request.ClearingBatch()\n",
    "imaging_batch_contents = db_lightsheet.Request.ImagingBatch()\n",
    "\n",
    "imaging_request_contents = (clearing_batch_contents * sample_contents * \\\n",
    "    request_contents * imaging_batch_contents).\\\n",
    "    proj('clearer','clearing_progress',\n",
    "    'imaging_request_date_submitted','imaging_request_time_submitted',\n",
    "    'imaging_progress','imager','species','number_in_imaging_batch',\n",
    "    datetime_submitted='TIMESTAMP(imaging_request_date_submitted,imaging_request_time_submitted)')"
   ]
  },
  {
   "cell_type": "code",
   "execution_count": null,
   "metadata": {},
   "outputs": [],
   "source": [
    "imaging_request_contents = dj.U('username','request_name',\n",
    "                                'imaging_batch_number',\n",
    "                                'imaging_request_number').aggr(\n",
    "    imaging_request_contents,clearer='clearer',\n",
    "    clearing_progress='clearing_progress',\n",
    "    datetime_submitted='datetime_submitted',\n",
    "    imaging_progress='imaging_progress',imager='imager',\n",
    "    species='species',number_in_imaging_batch='number_in_imaging_batch',\n",
    "    all_samples_cleared='SUM(IF(clearing_progress=\"complete\",1,0))=count(*)')"
   ]
  },
  {
   "cell_type": "code",
   "execution_count": null,
   "metadata": {
    "scrolled": false
   },
   "outputs": [],
   "source": [
    "imaging_request_contents & restrict_dict"
   ]
  },
  {
   "cell_type": "code",
   "execution_count": null,
   "metadata": {},
   "outputs": [],
   "source": [
    "imaging_request_contents & restrict_dict"
   ]
  },
  {
   "cell_type": "code",
   "execution_count": null,
   "metadata": {},
   "outputs": [],
   "source": [
    "contents_being_imaged = imaging_request_contents & 'all_samples_cleared=1' & \\\n",
    "    'imaging_progress=\"in progress\"'"
   ]
  },
  {
   "cell_type": "code",
   "execution_count": null,
   "metadata": {},
   "outputs": [],
   "source": [
    "contents_being_imaged & restrict_dict"
   ]
  },
  {
   "cell_type": "code",
   "execution_count": null,
   "metadata": {},
   "outputs": [],
   "source": [
    "imaging_request_contents & 'imaging_request_number=2'"
   ]
  },
  {
   "cell_type": "code",
   "execution_count": null,
   "metadata": {},
   "outputs": [],
   "source": [
    "sample_restrict_dict = \\\n",
    "    {'sample_name': 'test-001', 'imaging_request_number': '2', 'imaging_batch_number': '1'}"
   ]
  },
  {
   "cell_type": "code",
   "execution_count": null,
   "metadata": {},
   "outputs": [],
   "source": [
    "db_lightsheet.Request.ClearingBatchSample()"
   ]
  },
  {
   "cell_type": "code",
   "execution_count": null,
   "metadata": {},
   "outputs": [],
   "source": []
  },
  {
   "cell_type": "code",
   "execution_count": null,
   "metadata": {},
   "outputs": [],
   "source": [
    "(db_lightsheet.Request() & 'username=\"pbibawi\"').fetch('request_name')"
   ]
  },
  {
   "cell_type": "code",
   "execution_count": null,
   "metadata": {},
   "outputs": [],
   "source": [
    "username='willmore'\n",
    "request_name='201106_willmore'\n",
    "sample_name = '201106_willmore-303'\n",
    "imaging_request_number=1\n",
    "processing_request_number=1\n",
    "processing_restrict_dict = dict(username=username,request_name=request_name,\n",
    "                sample_name=sample_name,imaging_request_number=imaging_request_number,\n",
    "                processing_request_number=processing_request_number)\n",
    "\n",
    "processing_request_contents = db_lightsheet.Request.ProcessingRequest() & processing_restrict_dict\n",
    "\n",
    "processing_resolution_request_contents = db_lightsheet.Request.ProcessingResolutionRequest() & \\\n",
    "    processing_restrict_dict\n",
    "\n",
    "processing_channel_contents = db_lightsheet.Request.ProcessingChannel() & processing_restrict_dict\n",
    "image_resolution='1.1x'\n",
    "processing_channel_contents_this_resolution = (processing_channel_contents & \\\n",
    "            f'image_resolution=\"{image_resolution}\"')\n",
    "restrict_dict = {'channel_name':'488','ventral_up':0}\n",
    "this_processing_channel_content = (processing_channel_contents_this_resolution & \\\n",
    "                    restrict_dict)\n",
    "this_processing_channel_content"
   ]
  },
  {
   "cell_type": "code",
   "execution_count": null,
   "metadata": {},
   "outputs": [],
   "source": [
    "username='willmore'\n",
    "request_name='201106_willmore'\n",
    "imaging_batch_number=1\n",
    "imaging_request_number=1\n",
    "\n",
    "restrict_dict = dict(username=username,request_name=request_name,\n",
    "                imaging_batch_number=imaging_batch_number)\n",
    "\n",
    "channel_contents_all_samples = (db_lightsheet.Request.ImagingChannel() & f'request_name=\"{request_name}\"' & \\\n",
    "    f'username=\"{username}\"' )\n",
    "imaging_request_contents = db_lightsheet.Request.ImagingRequest() & \\\n",
    "    restrict_dict\n",
    "imaging_resolution_contents = db_lightsheet.Request.ImagingResolutionRequest() & \\\n",
    "    restrict_dict\n",
    "imaging_resolution_contents"
   ]
  },
  {
   "cell_type": "code",
   "execution_count": null,
   "metadata": {},
   "outputs": [],
   "source": [
    "channel_contents_all_samples"
   ]
  },
  {
   "cell_type": "code",
   "execution_count": null,
   "metadata": {},
   "outputs": [],
   "source": [
    "image_resolutions_no_processing = [\"2x\",\"3.6x\",\"15x\"]"
   ]
  },
  {
   "cell_type": "code",
   "execution_count": null,
   "metadata": {},
   "outputs": [],
   "source": [
    "batch_unique_image_resolutions = set(imaging_resolution_contents.fetch('image_resolution'))\n",
    "# batch_unique_image_re?solutions = set(['1.1x','3.6x'])"
   ]
  },
  {
   "cell_type": "code",
   "execution_count": null,
   "metadata": {},
   "outputs": [],
   "source": [
    "have_processing_requests = any([x not in image_resolutions_no_processing for x in batch_unique_image_resolutions])\n",
    "have_processing_requests"
   ]
  },
  {
   "cell_type": "code",
   "execution_count": null,
   "metadata": {},
   "outputs": [],
   "source": [
    "set(imaging_request_contents.fetch('sample_name'))\n"
   ]
  },
  {
   "cell_type": "code",
   "execution_count": null,
   "metadata": {},
   "outputs": [],
   "source": [
    "sample_names = set(imaging_resolution_contents.fetch('sample_name'))\n",
    "sample_names"
   ]
  },
  {
   "cell_type": "code",
   "execution_count": null,
   "metadata": {},
   "outputs": [],
   "source": [
    "data_rootpath = '/jukebox/LightSheetData/lightserv'"
   ]
  },
  {
   "cell_type": "code",
   "execution_count": null,
   "metadata": {},
   "outputs": [],
   "source": [
    "message_body = ('Hello!\\n\\nThis is an automated email sent from lightserv, '\n",
    "                        'the Light Sheet Microscopy portal at the Histology and Brain Registration Core Facility. '\n",
    "                        'The raw data your request:\\n'\n",
    "                        f'request_name: \"my-request\"\\n'\n",
    "                        f'are now available on bucket here: \\n\\n')\n",
    "for sample_name in sample_names:\n",
    "    sample_basepath = os.path.join(data_rootpath,username,request_name,\n",
    "    sample_name,f'imaging_request_number_{imaging_request_number}',  \n",
    "    'rawdata')\n",
    "    channel_contents_this_sample = channel_contents_all_samples & f'sample_name=\"{sample_name}\"' \n",
    "    message_body += f'Sample name: {sample_name}:\\n'\n",
    "    for channel_dict in channel_contents_this_sample:\n",
    "        channel_name = channel_dict['channel_name']\n",
    "        image_resolution = channel_dict['image_resolution']\n",
    "        ventral_up = channel_dict['ventral_up']\n",
    "        rawdata_subfolder = channel_dict['rawdata_subfolder']\n",
    "        if ventral_up:\n",
    "            rawdata_fullpath = os.path.join(\n",
    "                data_rootpath,username,request_name,sample_name,\n",
    "                f'imaging_request_{imaging_request_number}',\n",
    "                'rawdata',f'resolution_{image_resolution}_ventral_up',\n",
    "                rawdata_subfolder)\n",
    "            message_body += f'\\tchannel {channel_name} (ventral up): {rawdata_fullpath}\\n'\n",
    "        else:\n",
    "            rawdata_fullpath = os.path.join(\n",
    "                data_rootpath,username,request_name,sample_name,\n",
    "                f'imaging_request_{imaging_request_number}',\n",
    "                'rawdata',f'resolution_{image_resolution}',\n",
    "                rawdata_subfolder)\n",
    "            message_body += f'\\tchannel {channel_name}: {rawdata_fullpath}\\n'\n",
    "    message_body += '\\n'\n",
    "message_body += '\\n'\n",
    "if have_processing_requests:\n",
    "    message_body += ('To start processing your data, '\n",
    "            f'go to the processing management GUI: /some/path '\n",
    "            'and find your sample to process.\\n\\n')\n",
    "message_body += 'Thanks,\\n\\nThe Core Facility'\n",
    "print(message_body)"
   ]
  },
  {
   "cell_type": "code",
   "execution_count": null,
   "metadata": {},
   "outputs": [],
   "source": [
    "this_processing_channel_content_dict = this_processing_channel_content.fetch1()\n",
    "this_processing_channel_content_dict"
   ]
  },
  {
   "cell_type": "code",
   "execution_count": null,
   "metadata": {},
   "outputs": [],
   "source": [
    "processing_channel_contents_this_resolution"
   ]
  },
  {
   "cell_type": "code",
   "execution_count": null,
   "metadata": {},
   "outputs": [],
   "source": [
    "db_lightsheet.Request.ProcessingResolutionRequest().fetch('atlas_name',limit=1)[0]"
   ]
  },
  {
   "cell_type": "code",
   "execution_count": null,
   "metadata": {},
   "outputs": [],
   "source": [
    "processing_resolution_request_contents"
   ]
  },
  {
   "cell_type": "code",
   "execution_count": null,
   "metadata": {},
   "outputs": [],
   "source": [
    "request_contents = db_lightsheet.Request()\n",
    "sample_contents = db_lightsheet.Request.Sample()\n",
    "clearing_batch_contents = db_lightsheet.Request.ClearingBatch()\n",
    "imaging_request_contents = db_lightsheet.Request.ImagingRequest()\n",
    "imaging_channel_contents = db_lightsheet.Request.ImagingChannel()"
   ]
  },
  {
   "cell_type": "code",
   "execution_count": null,
   "metadata": {},
   "outputs": [],
   "source": [
    "imaging_channel_contents & 'ventral_up=1'"
   ]
  },
  {
   "cell_type": "code",
   "execution_count": null,
   "metadata": {},
   "outputs": [],
   "source": [
    "processing_resolution_contents = db_lightsheet.Request.ProcessingResolutionRequest() & {'username':'willmore'}\n",
    "processing_resolution_contents "
   ]
  },
  {
   "cell_type": "code",
   "execution_count": null,
   "metadata": {},
   "outputs": [],
   "source": [
    "dj.Table._update(processing_resolution_contents,'atlas_name','allen_2017')"
   ]
  },
  {
   "cell_type": "code",
   "execution_count": null,
   "metadata": {},
   "outputs": [],
   "source": [
    "clearing_batch_contents"
   ]
  },
  {
   "cell_type": "code",
   "execution_count": null,
   "metadata": {},
   "outputs": [],
   "source": [
    "combined_contents = (clearing_batch_contents * request_contents).proj(\n",
    "'description','number_in_batch','expected_handoff_date',\n",
    "'clearing_protocol','species',\n",
    "'clearer','clearing_progress','clearing_protocol','antibody1','antibody2',\n",
    "datetime_submitted='TIMESTAMP(date_submitted,time_submitted)')\n",
    "''' First get all entities that are currently being cleared '''"
   ]
  },
  {
   "cell_type": "code",
   "execution_count": null,
   "metadata": {},
   "outputs": [],
   "source": [
    "idiscoplus_cleared_contents = combined_contents & 'clearing_protocol=\"iDISCO+_immuno\"' & 'clearing_progress=\"complete\"'\n",
    "idiscoplus_cleared_contents"
   ]
  },
  {
   "cell_type": "code",
   "execution_count": null,
   "metadata": {},
   "outputs": [],
   "source": [
    "df_idiscoplus_cleared = (idiscoplus_cleared_contents).fetch(\n",
    "format='frame',order_by='datetime_submitted DESC')"
   ]
  },
  {
   "cell_type": "code",
   "execution_count": null,
   "metadata": {},
   "outputs": [],
   "source": [
    "df_idiscoplus_cleared.to_csv(\"idiscoplus_already_cleared_asof_2020Nov12.csv\")"
   ]
  },
  {
   "cell_type": "code",
   "execution_count": null,
   "metadata": {},
   "outputs": [],
   "source": [
    "idisco_contents = db_lightsheet.Request.IdiscoPlusClearing()\n",
    "idisco_contents"
   ]
  },
  {
   "cell_type": "code",
   "execution_count": null,
   "metadata": {},
   "outputs": [],
   "source": [
    "idisco_website_cleared_contents = idisco_contents * idiscoplus_cleared_contents\n",
    "idisco_website_cleared_contents"
   ]
  },
  {
   "cell_type": "code",
   "execution_count": null,
   "metadata": {},
   "outputs": [],
   "source": [
    "idisco_results=idisco_website_cleared_contents.fetch(as_dict=True)\n",
    "idisco_results"
   ]
  },
  {
   "cell_type": "code",
   "execution_count": null,
   "metadata": {},
   "outputs": [],
   "source": [
    "df_idisco=pd.DataFrame(idisco_results)\n",
    "df_idisco"
   ]
  },
  {
   "cell_type": "code",
   "execution_count": null,
   "metadata": {},
   "outputs": [],
   "source": [
    "df_idisco.to_csv('idiscoplus_antibody_notes_already_cleared_asof_2020Nov12.csv')"
   ]
  },
  {
   "cell_type": "code",
   "execution_count": null,
   "metadata": {},
   "outputs": [],
   "source": [
    "imaging_channel_contents & \\\n",
    "    {'username': 'ahoag',\n",
    "     'request_name': 'test123',\n",
    "     'sample_name': 'test123-001',\n",
    "     'imaging_request_number': 1,\n",
    "     'image_resolution': '1.3x',\n",
    "     'channel_name': '488'}"
   ]
  },
  {
   "cell_type": "code",
   "execution_count": null,
   "metadata": {},
   "outputs": [],
   "source": [
    "clearing_batch_contents.fetch(as_dict=True,limit=2)"
   ]
  },
  {
   "cell_type": "code",
   "execution_count": null,
   "metadata": {},
   "outputs": [],
   "source": [
    "clearing_batch_contents.fetch?"
   ]
  },
  {
   "cell_type": "code",
   "execution_count": null,
   "metadata": {},
   "outputs": [],
   "source": [
    "imaging_channel_contents & 'request_name=\"test_many_samples4\"' "
   ]
  },
  {
   "cell_type": "code",
   "execution_count": null,
   "metadata": {},
   "outputs": [],
   "source": [
    "insert_dict = {'username': 'ahoag', 'request_name': 'test_many_samples4',\n",
    "               'imaging_request_number': 1, 'image_resolution': '1.1x',\n",
    "               'channel_name': '555',\n",
    "               'injection_detection': 1,\n",
    "               'sample_name': 'test_many_samples4-001'}\n"
   ]
  },
  {
   "cell_type": "code",
   "execution_count": null,
   "metadata": {},
   "outputs": [],
   "source": [
    "imaging_merged_contents = (imaging_request_contents \\\n",
    "    * clearing_batch_contents * sample_contents * request_contents * imaging_channel_contents).\\\n",
    "    proj('clearer','clearing_progress',\n",
    "    'imaging_request_date_submitted','imaging_request_time_submitted',\n",
    "    'imaging_progress','imager','species',\n",
    "    'image_resolution','channel_name',\n",
    "    datetime_submitted='TIMESTAMP(imaging_request_date_submitted,imaging_request_time_submitted)') & \\\n",
    "    {'username':'ahoag',}"
   ]
  },
  {
   "cell_type": "code",
   "execution_count": null,
   "metadata": {},
   "outputs": [],
   "source": [
    "replicated_args = dict(username='username',species='species',\n",
    "                       datetime_submitted='datetime_submitted',\n",
    "                       imager='imager',imaging_progress='imaging_progress')"
   ]
  },
  {
   "cell_type": "code",
   "execution_count": null,
   "metadata": {},
   "outputs": [],
   "source": [
    "interm=dj.U(\"username\",\"request_name\",\"sample_name\",\"imaging_request_number\").aggr(\n",
    "    imaging_merged_contents,new_col='GROUP_CONCAT(channel_name ORDER BY channel_name)',**replicated_args,\n",
    "    image_resolution='image_resolution').\\\n",
    "    proj(comb_col='CONCAT(image_resolution,\",\",new_col)',**replicated_args,)\n",
    "interm"
   ]
  },
  {
   "cell_type": "code",
   "execution_count": null,
   "metadata": {},
   "outputs": [],
   "source": [
    "interm2=dj.U('request_name','sample_name','imaging_request_number').aggr(interm,\n",
    "    **replicated_args,\n",
    "    final_col='GROUP_CONCAT(comb_col)')\n",
    "interm2"
   ]
  },
  {
   "cell_type": "code",
   "execution_count": null,
   "metadata": {},
   "outputs": [],
   "source": [
    "dj.U('request_name','imaging_request_number','final_col').aggr(interm2,                               \n",
    "    **replicated_args,\n",
    "    number_in_batch='COUNT(*)')"
   ]
  },
  {
   "cell_type": "code",
   "execution_count": null,
   "metadata": {},
   "outputs": [],
   "source": []
  },
  {
   "cell_type": "code",
   "execution_count": null,
   "metadata": {},
   "outputs": [],
   "source": [
    "replicated_args = dict(username='username',\n",
    "                       imager='imager',imaging_progress='imaging_progress')"
   ]
  },
  {
   "cell_type": "code",
   "execution_count": null,
   "metadata": {},
   "outputs": [],
   "source": [
    "interm=dj.U(\"username\",\"request_name\",\"sample_name\",\"imaging_request_number\").aggr(\n",
    "                        imaging_channel_contents,new_col='GROUP_CONCAT(channel_name ORDER BY channel_name)',\n",
    "                        image_resolution='image_resolution').\\\n",
    "                        proj(comb_col='CONCAT(image_resolution,\",\",new_col)')\n",
    "interm"
   ]
  },
  {
   "cell_type": "code",
   "execution_count": null,
   "metadata": {},
   "outputs": [],
   "source": [
    "interm2=dj.U('request_name','sample_name','imaging_request_number').aggr(interm,\n",
    "    sample_name='MIN(sample_name)',imaging_str='GROUP_CONCAT(comb_col)')\n",
    "interm2"
   ]
  },
  {
   "cell_type": "code",
   "execution_count": null,
   "metadata": {},
   "outputs": [],
   "source": [
    "interm3=dj.U('request_name','imaging_request_number','imaging_str').aggr(interm2,                               \n",
    "    number_in_batch='COUNT(*)',).proj('request_name','number_in_batch')\n",
    "interm3"
   ]
  },
  {
   "cell_type": "code",
   "execution_count": null,
   "metadata": {},
   "outputs": [],
   "source": [
    "request_counter_dict = {}"
   ]
  },
  {
   "cell_type": "code",
   "execution_count": null,
   "metadata": {},
   "outputs": [],
   "source": [
    "interm3.fetch(as_dict=True)"
   ]
  },
  {
   "cell_type": "code",
   "execution_count": null,
   "metadata": {},
   "outputs": [],
   "source": [
    "imaging_channel_contents & 'request_name=\"test_many_samples3\"'"
   ]
  },
  {
   "cell_type": "code",
   "execution_count": null,
   "metadata": {},
   "outputs": [],
   "source": [
    "db_lightsheet.Request.ImagingChannel() & 'request_name=\"test_many_samples2\"'"
   ]
  },
  {
   "cell_type": "code",
   "execution_count": null,
   "metadata": {},
   "outputs": [],
   "source": [
    "db_lightsheet.Request.ImagingRequest() & 'request_name=\"test_many_samples2\"'"
   ]
  },
  {
   "cell_type": "code",
   "execution_count": null,
   "metadata": {},
   "outputs": [],
   "source": [
    "db_lightsheet.Request.ImagingResolutionRequest() & 'request_name=\"test_many_samples2\"'"
   ]
  },
  {
   "cell_type": "code",
   "execution_count": null,
   "metadata": {},
   "outputs": [],
   "source": [
    "db_lightsheet.Request.ImagingChannel() & 'request_name=\"test_many_samples2\"'"
   ]
  },
  {
   "cell_type": "code",
   "execution_count": null,
   "metadata": {},
   "outputs": [],
   "source": [
    "contents = db_lightsheet.Request.ImagingChannel() & 'request_name=\"test_many_samples2\"'"
   ]
  },
  {
   "cell_type": "code",
   "execution_count": null,
   "metadata": {},
   "outputs": [],
   "source": [
    "contents.fetch?"
   ]
  },
  {
   "cell_type": "code",
   "execution_count": null,
   "metadata": {},
   "outputs": [],
   "source": [
    "db_lightsheet.Request.ImagingChannel().insert(channel_entry_dicts,skip_duplicates=True)"
   ]
  },
  {
   "cell_type": "code",
   "execution_count": null,
   "metadata": {},
   "outputs": [],
   "source": [
    "db_lightsheet.Request.ImagingChannel() & 'request_name=\"test_many_samples2\"'"
   ]
  },
  {
   "cell_type": "code",
   "execution_count": null,
   "metadata": {},
   "outputs": [],
   "source": [
    "sorted(set([\"a\",\"b\",\"a\",\"a\"]))"
   ]
  },
  {
   "cell_type": "code",
   "execution_count": null,
   "metadata": {},
   "outputs": [],
   "source": [
    "db_lightsheet.Request.ProcessingResolutionRequest() & 'request_name=\"test_many_samples2\"'"
   ]
  },
  {
   "cell_type": "code",
   "execution_count": null,
   "metadata": {},
   "outputs": [],
   "source": [
    "db_lightsheet.Request.ProcessingChannel() & 'request_name=\"test_many_samples2\"'"
   ]
  },
  {
   "cell_type": "code",
   "execution_count": null,
   "metadata": {},
   "outputs": [],
   "source": [
    "contents "
   ]
  },
  {
   "cell_type": "code",
   "execution_count": null,
   "metadata": {},
   "outputs": [],
   "source": []
  },
  {
   "cell_type": "code",
   "execution_count": null,
   "metadata": {},
   "outputs": [],
   "source": [
    "var=4\n",
    "s = f'{{var}} is the number'\n",
    "s"
   ]
  },
  {
   "cell_type": "code",
   "execution_count": null,
   "metadata": {},
   "outputs": [],
   "source": [
    "b = '1.3x_ventral_up'"
   ]
  },
  {
   "cell_type": "code",
   "execution_count": null,
   "metadata": {},
   "outputs": [],
   "source": [
    "b if 'ventral_up' not in b else b.strip(\"_ventral_up\")"
   ]
  },
  {
   "cell_type": "code",
   "execution_count": null,
   "metadata": {},
   "outputs": [],
   "source": [
    "b.strip(\"_ventral_up\")"
   ]
  },
  {
   "cell_type": "code",
   "execution_count": null,
   "metadata": {},
   "outputs": [],
   "source": [
    "l=[{'id':'A','image_resolution':'4x','ventral_up':True},\n",
    "   {'id':'B','image_resolution':'4x','ventral_up':False},\n",
    "    {'id':'C','image_resolution':'1.3x','ventral_up':False},\n",
    "    {'id':'D','image_resolution':'1.3x','ventral_up':False},\n",
    "    {'id':'E','image_resolution':'1.3x','ventral_up':True}\n",
    "  ]\n",
    "tup_list = [(d['image_resolution'],d['ventral_up']) for d in l]\n",
    "sorted(set(tup_list))"
   ]
  },
  {
   "cell_type": "code",
   "execution_count": null,
   "metadata": {},
   "outputs": [],
   "source": [
    "all_channel_contents = imaging_channel_contents & 'request_name=\"test_dorsal_ventral\"'"
   ]
  },
  {
   "cell_type": "code",
   "execution_count": null,
   "metadata": {},
   "outputs": [],
   "source": [
    "results_list=all_channel_contents.fetch('image_resolution','ventral_up',as_dict=True)\n",
    "tup_list = [(d['image_resolution'],d['ventral_up']) for d in results_list]\n",
    "set(tup_list)\n",
    "# all_channel_contents.fetch"
   ]
  },
  {
   "cell_type": "code",
   "execution_count": null,
   "metadata": {},
   "outputs": [],
   "source": [
    "for a,b, in tup_list:\n",
    "    print(a,b)"
   ]
  },
  {
   "cell_type": "code",
   "execution_count": null,
   "metadata": {},
   "outputs": [],
   "source": [
    "bool(int('0'))"
   ]
  },
  {
   "cell_type": "code",
   "execution_count": null,
   "metadata": {},
   "outputs": [],
   "source": [
    "job_contents = db_spockadmin.ProcessingPipelineSpockJob()\n",
    "job_contents"
   ]
  },
  {
   "cell_type": "code",
   "execution_count": null,
   "metadata": {},
   "outputs": [],
   "source": [
    "unique_contents = dj.U('jobid_step0','username',).aggr(\n",
    "\t\tjob_contents,timestamp='max(timestamp)')*job_contents\n",
    "unique_contents"
   ]
  },
  {
   "cell_type": "code",
   "execution_count": null,
   "metadata": {},
   "outputs": [],
   "source": [
    "int(False)"
   ]
  },
  {
   "cell_type": "code",
   "execution_count": null,
   "metadata": {},
   "outputs": [],
   "source": [
    "int(bool(\"False\"))"
   ]
  },
  {
   "cell_type": "code",
   "execution_count": null,
   "metadata": {},
   "outputs": [],
   "source": [
    "bool(\"False\")"
   ]
  },
  {
   "cell_type": "code",
   "execution_count": null,
   "metadata": {},
   "outputs": [],
   "source": [
    "s='Invitrogen rabbit polyclonal aldolase C'\n",
    "len(s)"
   ]
  },
  {
   "cell_type": "code",
   "execution_count": null,
   "metadata": {},
   "outputs": [],
   "source": [
    "b='Invitrogen donkey anti rabbit AlexaFluor 647'\n",
    "len(b)"
   ]
  },
  {
   "cell_type": "code",
   "execution_count": null,
   "metadata": {},
   "outputs": [],
   "source": [
    "c='1:50, 1:100, 1:200'\n",
    "len(c)"
   ]
  },
  {
   "cell_type": "code",
   "execution_count": null,
   "metadata": {},
   "outputs": [],
   "source": [
    "d={\n",
    "    'date': datetime.date(2021, 1, 25),\n",
    "    'brief_descriptor': 'aldolase C titration',\n",
    "    'animal_model': 'mouse',\n",
    "    'primary_antibody': 'Invitrogen rabbit polyclonal aldolase C',\n",
    "    'primary_concentration': '1:50, 1:100, 1:200',\n",
    "    'primary_order_info': 'Invitrogen PA512317, lot V13073112', 'secondary_antibody': 'Invitrogen donkey anti rabbit AlexaFluor 647', 'secondary_concentration': '1:200', 'secondary_order_info': 'Invitrogen A-31573', 'notes': 'waiting for titration decision'}"
   ]
  },
  {
   "cell_type": "code",
   "execution_count": null,
   "metadata": {},
   "outputs": [],
   "source": [
    "date = '2020-02-01'\n",
    "datetime.strptime(date,'%Y-%m-%d')"
   ]
  },
  {
   "cell_type": "code",
   "execution_count": null,
   "metadata": {},
   "outputs": [],
   "source": [
    "[1,2]+[3]"
   ]
  },
  {
   "cell_type": "code",
   "execution_count": null,
   "metadata": {},
   "outputs": [],
   "source": [
    "sample_imaging_dict = {}"
   ]
  },
  {
   "cell_type": "markdown",
   "metadata": {},
   "source": [
    "## Debugging request_overview "
   ]
  },
  {
   "cell_type": "code",
   "execution_count": null,
   "metadata": {},
   "outputs": [],
   "source": [
    "username='ahoag'\n",
    "request_name='test_imaging_batches_clearing_batches'\n",
    "request_contents = db_lightsheet.Request() & f'request_name=\"{request_name}\"' & \\\n",
    "            f'username=\"{username}\"'\n",
    "request_contents = request_contents.proj('description','species','number_of_samples',\n",
    "    'is_archival',datetime_submitted='TIMESTAMP(date_submitted,time_submitted)')\n",
    "sample_contents = db_lightsheet.Request.Sample() & f'request_name=\"{request_name}\"' & f'username=\"{username}\"' \n",
    "clearing_batch_contents = db_lightsheet.Request.ClearingBatch() & \\\n",
    "f'request_name=\"{request_name}\"' & f'username=\"{username}\"'\n",
    "clearing_batch_sample_contents = db_lightsheet.Request.ClearingBatchSample() & \\\n",
    "f'request_name=\"{request_name}\"' & f'username=\"{username}\"' \n",
    "imaging_request_contents = db_lightsheet.Request.ImagingRequest() & \\\n",
    " f'request_name=\"{request_name}\"' & f'username=\"{username}\"' \n",
    "processing_request_contents = db_lightsheet.Request.ProcessingRequest() & \\\n",
    " f'request_name=\"{request_name}\"' & f'username=\"{username}\"' "
   ]
  },
  {
   "cell_type": "code",
   "execution_count": null,
   "metadata": {},
   "outputs": [],
   "source": [
    "replicated_args = dict(number_of_samples='number_of_samples',description='description',\n",
    "        species='species',clearing_progress='clearing_progress',\n",
    "        clearer='clearer',\n",
    "        imaging_progress='imaging_progress',imager='imager',\n",
    "        is_archival='is_archival',\n",
    "        link_to_clearing_spreadsheet='link_to_clearing_spreadsheet')"
   ]
  },
  {
   "cell_type": "code",
   "execution_count": null,
   "metadata": {},
   "outputs": [],
   "source": [
    "sample_joined_contents = request_contents * clearing_batch_sample_contents * clearing_batch_contents.proj(\n",
    "    'clearing_progress','clearer','link_to_clearing_spreadsheet')\n",
    "imaging_joined_contents = sample_joined_contents.aggr(\n",
    "        imaging_request_contents,\n",
    "        **replicated_args,\n",
    "        imaging_request_number='imaging_request_number',\n",
    "        n_imaged='CONVERT(SUM(imaging_progress=\"complete\"),char)',\n",
    "        total_imaging_requests='COUNT(*)',\n",
    "        keep_all_rows=True\n",
    "        ).proj(**replicated_args,\n",
    "               total_imaging_requests='IF(n_imaged is NULL, \"0\",total_imaging_requests)',\n",
    "               imaging_request_number='IF(imaging_request_number is NULL, \"N/A\",imaging_request_number)'\n",
    "            # fraction_imaged='CONCAT(n_imaged,\"/\",total_imaging_requests)'\n",
    "            )\n",
    "processing_joined_contents = (dj.U('username','request_name') * imaging_joined_contents).aggr(   \n",
    "        processing_request_contents,\n",
    "        **replicated_args,\n",
    "        imaging_request_number='imaging_request_number',\n",
    "        processing_request_number='processing_request_number',\n",
    "        processor='processor',\n",
    "        processing_progress='processing_progress',\n",
    "        total_imaging_requests='total_imaging_requests',\n",
    "        n_processed='CONVERT(SUM(processing_progress=\"complete\"),char)',\n",
    "        total_processing_requests='CONVERT(COUNT(processing_progress),char)',\n",
    "        keep_all_rows=True\n",
    "        ).proj(\n",
    "            **replicated_args,\n",
    "            processing_request_number='IF(processing_request_number is NULL, \"N/A\",processing_request_number)',\n",
    "            processor='processor',\n",
    "            processing_progress='processing_progress',\n",
    "            total_imaging_requests='total_imaging_requests',\n",
    "            total_processing_requests='IF(n_processed is NULL,0,total_processing_requests)', \n",
    "            )"
   ]
  },
  {
   "cell_type": "code",
   "execution_count": null,
   "metadata": {},
   "outputs": [],
   "source": [
    "sample_joined_contents"
   ]
  },
  {
   "cell_type": "code",
   "execution_count": null,
   "metadata": {},
   "outputs": [],
   "source": [
    "imaging_joined_contents"
   ]
  },
  {
   "cell_type": "code",
   "execution_count": null,
   "metadata": {},
   "outputs": [],
   "source": [
    "processing_joined_contents"
   ]
  },
  {
   "cell_type": "code",
   "execution_count": null,
   "metadata": {},
   "outputs": [],
   "source": []
  }
 ],
 "metadata": {
  "anaconda-cloud": {},
  "kernelspec": {
   "display_name": "dj",
   "language": "python",
   "name": "dj"
  },
  "language_info": {
   "codemirror_mode": {
    "name": "ipython",
    "version": 3
   },
   "file_extension": ".py",
   "mimetype": "text/x-python",
   "name": "python",
   "nbconvert_exporter": "python",
   "pygments_lexer": "ipython3",
   "version": "3.8.5"
  }
 },
 "nbformat": 4,
 "nbformat_minor": 2
}
