{
 "cells": [
  {
   "cell_type": "markdown",
   "metadata": {},
   "source": [
    "## Ingest_clearing_spreadsheets\n",
    "The idea here is to use the google sheets API to ingest the information stored in the core facility clearing google sheets into the braincogs00 database. We will be making a new database table for each clearing protocol spreadsheet. These will be linked to the Experiments() table in the database by the experiment_id primary key."
   ]
  },
  {
   "cell_type": "code",
   "execution_count": null,
   "metadata": {},
   "outputs": [],
   "source": [
    "import pickle\n",
    "import os.path\n",
    "from datetime import datetime\n",
    "from googleapiclient.discovery import build\n",
    "from google_auth_oauthlib.flow import InstalledAppFlow\n",
    "from google.auth.transport.requests import Request\n",
    "import pandas as pd\n",
    "import datajoint as dj"
   ]
  },
  {
   "cell_type": "markdown",
   "metadata": {},
   "source": [
    "## Google Spreadsheet API setup\n",
    "\n",
    "We will be using the Google Sheets API: https://developers.google.com/sheets/api/quickstart/python\n",
    "\n",
    "For details on how to set this up on your machine, see this notebook: [Microscope_management.ipynb](Microscope_management.ipynb)."
   ]
  },
  {
   "cell_type": "code",
   "execution_count": 2,
   "metadata": {},
   "outputs": [],
   "source": [
    "# Set the scope to be read only since we are not adding anything to the google sheet, just reading it\n",
    "SCOPES = ['https://www.googleapis.com/auth/spreadsheets.readonly']\n",
    "\n",
    "secrets_file = 'credentials.json' # Has to be called \"credentials.json\"  \n",
    "assert os.path.exists(secrets_file)"
   ]
  },
  {
   "cell_type": "code",
   "execution_count": 3,
   "metadata": {},
   "outputs": [],
   "source": [
    "def retrieve_google_sheet(spreadsheet_id,range_query):\n",
    "    \"\"\"\n",
    "    ---PURPOSE---\n",
    "    Gets the data from the range of cells in the google sheet specified.\n",
    "    \"\"\"\n",
    "    creds = None\n",
    "    # The file token.pickle stores the user's access and refresh tokens, and is\n",
    "    # created automatically when the authorization flow completes for the first\n",
    "    # time.\n",
    "    if os.path.exists('token.pickle'):\n",
    "        with open('token.pickle', 'rb') as token:\n",
    "            creds = pickle.load(token)\n",
    "    # If there are no (valid) credentials available, let the user log in.\n",
    "    if not creds or not creds.valid:\n",
    "        if creds and creds.expired and creds.refresh_token:\n",
    "            creds.refresh(Request())\n",
    "        else:\n",
    "            flow = InstalledAppFlow.from_client_secrets_file(\n",
    "                secrets_file, SCOPES)\n",
    "            creds = flow.run_local_server(port=0)\n",
    "        # Save the credentials for the next run\n",
    "        with open('token.pickle', 'wb') as token:\n",
    "            pickle.dump(creds, token)\n",
    "\n",
    "    service = build('sheets', 'v4', credentials=creds)\n",
    "\n",
    "    # Call the Sheets API\n",
    "    sheet = service.spreadsheets()\n",
    "    result = sheet.values().get(spreadsheetId=spreadsheet_id,\n",
    "                                range=range_query).execute()\n",
    "    values = result.get('values', [])\n",
    "\n",
    "    return values"
   ]
  },
  {
   "cell_type": "markdown",
   "metadata": {},
   "source": [
    "## Defining the database table\n",
    "Since we are going to be adding a table to an existing database in datajoint, we will first need to connect to the database"
   ]
  },
  {
   "cell_type": "code",
   "execution_count": 10,
   "metadata": {},
   "outputs": [],
   "source": [
    "# Need to port forward 3306 from jtb3-dev@pni.princeton.edu first (set this up externally on the machine)\n",
    "db = dj.create_virtual_module(module_name='lightsheet',schema_name='ahoag_test',create_schema=False,\n",
    "                                 create_tables=True)"
   ]
  },
  {
   "cell_type": "code",
   "execution_count": 11,
   "metadata": {},
   "outputs": [
    {
     "data": {
      "image/svg+xml": [
       "<svg height=\"114pt\" viewBox=\"0.00 0.00 213.50 114.00\" width=\"214pt\" xmlns=\"http://www.w3.org/2000/svg\" xmlns:xlink=\"http://www.w3.org/1999/xlink\">\n",
       "<g class=\"graph\" id=\"graph0\" transform=\"scale(1 1) rotate(0) translate(4 110)\">\n",
       "<title>%3</title>\n",
       "<polygon fill=\"white\" points=\"-4,4 -4,-110 209.5,-110 209.5,4 -4,4\" stroke=\"none\"/>\n",
       "<!-- db.Microscope -->\n",
       "<g class=\"node\" id=\"node1\"><title>db.Microscope</title>\n",
       "<g id=\"a_node1\"><a xlink:title=\"entrynum             \r",
       "------------------------------\r",
       "→ db.User\r",
       "date                 \r",
       "old_objective        \r",
       "new_objective        \r",
       "swapper              \r",
       "calibration          \r",
       "notes                \r",
       "\">\n",
       "<polygon fill=\"#00ff00\" fill-opacity=\"0.188235\" points=\"95,-35 0,-35 0,-0 95,-0 95,-35\" stroke=\"#00ff00\" stroke-opacity=\"0.188235\"/>\n",
       "<text fill=\"darkgreen\" font-family=\"arial\" font-size=\"12.00\" text-anchor=\"start\" text-decoration=\"underline\" x=\"8\" y=\"-15.4\">db.Microscope</text>\n",
       "</a>\n",
       "</g>\n",
       "</g>\n",
       "<!-- db.User -->\n",
       "<g class=\"node\" id=\"node2\"><title>db.User</title>\n",
       "<g id=\"a_node2\"><a xlink:title=\"username             \r",
       "------------------------------\r",
       "email                \r",
       "\">\n",
       "<polygon fill=\"#000000\" fill-opacity=\"0.125490\" points=\"128.5,-106 78.5,-106 78.5,-71 128.5,-71 128.5,-106\" stroke=\"none\"/>\n",
       "<text font-family=\"arial\" font-size=\"10.00\" text-anchor=\"start\" text-decoration=\"underline\" x=\"86.5\" y=\"-87\">db.User</text>\n",
       "</a>\n",
       "</g>\n",
       "</g>\n",
       "<!-- db.User&#45;&gt;db.Microscope -->\n",
       "<g class=\"edge\" id=\"edge1\"><title>db.User-&gt;db.Microscope</title>\n",
       "<path d=\"M89.944,-70.797C81.1394,-59.9485 69.7108,-45.8669 60.9312,-35.0492\" fill=\"none\" stroke=\"#000000\" stroke-dasharray=\"5,2\" stroke-opacity=\"0.250980\" stroke-width=\"0.75\"/>\n",
       "</g>\n",
       "<!-- db.Experiment -->\n",
       "<g class=\"node\" id=\"node3\"><title>db.Experiment</title>\n",
       "<g id=\"a_node3\"><a xlink:title=\"experiment_id        \r",
       "------------------------------\r",
       "→ db.User\r",
       "title                \r",
       "description          \r",
       "notes=&quot;&quot;             \r",
       "species              \r",
       "clearing_protocol    \r",
       "clearing_progress    \r",
       "fluorophores         \r",
       "primary_antibody     \r",
       "secondary_antibody   \r",
       "image_resolution     \r",
       "cell_detection       \r",
       "registration         \r",
       "probe_detection      \r",
       "injection_detection  \r",
       "\">\n",
       "<polygon fill=\"#00ff00\" fill-opacity=\"0.188235\" points=\"205.5,-35 113.5,-35 113.5,-0 205.5,-0 205.5,-35\" stroke=\"#00ff00\" stroke-opacity=\"0.188235\"/>\n",
       "<text fill=\"darkgreen\" font-family=\"arial\" font-size=\"12.00\" text-anchor=\"start\" text-decoration=\"underline\" x=\"121.5\" y=\"-15.4\">db.Experiment</text>\n",
       "</a>\n",
       "</g>\n",
       "</g>\n",
       "<!-- db.User&#45;&gt;db.Experiment -->\n",
       "<g class=\"edge\" id=\"edge2\"><title>db.User-&gt;db.Experiment</title>\n",
       "<path d=\"M117.056,-70.797C125.861,-59.9485 137.289,-45.8669 146.069,-35.0492\" fill=\"none\" stroke=\"#000000\" stroke-dasharray=\"5,2\" stroke-opacity=\"0.250980\" stroke-width=\"0.75\"/>\n",
       "</g>\n",
       "</g>\n",
       "</svg>"
      ],
      "text/plain": [
       "<datajoint.diagram.Diagram at 0x7f0a8ffd2828>"
      ]
     },
     "execution_count": 11,
     "metadata": {},
     "output_type": "execute_result"
    }
   ],
   "source": [
    "# Show the current structure of the database via the \"Entity Relationship Diagram (ERD)\"\n",
    "dj.ERD(db)"
   ]
  },
  {
   "cell_type": "code",
   "execution_count": 12,
   "metadata": {},
   "outputs": [
    {
     "data": {
      "text/html": [
       "\n",
       "        \n",
       "        <style type=\"text/css\">\n",
       "            .Relation{\n",
       "                border-collapse:collapse;\n",
       "            }\n",
       "            .Relation th{\n",
       "                background: #A0A0A0; color: #ffffff; padding:4px; border:#f0e0e0 1px solid;\n",
       "                font-weight: normal; font-family: monospace; font-size: 100%;\n",
       "            }\n",
       "            .Relation td{\n",
       "                padding:4px; border:#f0e0e0 1px solid; font-size:100%;\n",
       "            }\n",
       "            .Relation tr:nth-child(odd){\n",
       "                background: #ffffff;\n",
       "            }\n",
       "            .Relation tr:nth-child(even){\n",
       "                background: #f3f1ff;\n",
       "            }\n",
       "            /* Tooltip container */\n",
       "            .djtooltip {\n",
       "            }\n",
       "            /* Tooltip text */\n",
       "            .djtooltip .djtooltiptext {\n",
       "                visibility: hidden;\n",
       "                width: 120px;\n",
       "                background-color: black;\n",
       "                color: #fff;\n",
       "                text-align: center;\n",
       "                padding: 5px 0;\n",
       "                border-radius: 6px;\n",
       "                /* Position the tooltip text - see examples below! */\n",
       "                position: absolute;\n",
       "                z-index: 1;\n",
       "            }\n",
       "            #primary {\n",
       "                font-weight: bold;\n",
       "                color: black;\n",
       "            }\n",
       "\n",
       "            #nonprimary {\n",
       "                font-weight: normal;\n",
       "                color: white;\n",
       "            }\n",
       "\n",
       "            /* Show the tooltip text when you mouse over the tooltip container */\n",
       "            .djtooltip:hover .djtooltiptext {\n",
       "                visibility: visible;\n",
       "            }\n",
       "        </style>\n",
       "        \n",
       "        <b>Users of the light sheet microscope</b>\n",
       "            <div style=\"max-height:1000px;max-width:1500px;overflow:auto;\">\n",
       "            <table border=\"1\" class=\"Relation\">\n",
       "                <thead> <tr style=\"text-align: right;\"> <th> <div class=\"djtooltip\">\n",
       "                                <p id=\"primary\">username</p>\n",
       "                                <span class=\"djtooltiptext\">user in the lab</span>\n",
       "                            </div></th><th><div class=\"djtooltip\">\n",
       "                                <p id=\"nonprimary\">email</p>\n",
       "                                <span class=\"djtooltiptext\"></span>\n",
       "                            </div> </th> </tr> </thead>\n",
       "                <tbody> <tr> <td>apv2</td>\n",
       "<td>apv2@princeton.edu</td></tr><tr><td>ejdennis</td>\n",
       "<td>Ejdennis@princeton.edu</td></tr><tr><td>jverpeut</td>\n",
       "<td>jverpeut@princeton.edu</td></tr><tr><td>marlies.oostland</td>\n",
       "<td>marlies.oostland@princeton.edu</td></tr><tr><td>mioffe</td>\n",
       "<td>mioffe@princeton.edu</td></tr><tr><td>pbibawi</td>\n",
       "<td>pbibawi@princeton.edu</td></tr><tr><td>rmallarino</td>\n",
       "<td>rmallarino@princeton.edu</td></tr><tr><td>soline</td>\n",
       "<td>soline@princeton.edu</td></tr><tr><td>willmore</td>\n",
       "<td>Willmore@princeton.edu</td></tr><tr><td>zhihaoz</td>\n",
       "<td>zhihaoz@princeton.edu</td></tr><tr><td>zmd</td>\n",
       "<td>zahra.dhanerawala@gmail.com</td> </tr> </tbody>\n",
       "            </table>\n",
       "            \n",
       "            <p>Total: 11</p></div>\n",
       "            "
      ],
      "text/plain": [
       "*username      email         \n",
       "+------------+ +------------+\n",
       "apv2           apv2@princeton\n",
       "ejdennis       Ejdennis@princ\n",
       "jverpeut       jverpeut@princ\n",
       "marlies.oostla marlies.oostla\n",
       "mioffe         mioffe@princet\n",
       "pbibawi        pbibawi@prince\n",
       "rmallarino     rmallarino@pri\n",
       "soline         soline@princet\n",
       "willmore       Willmore@princ\n",
       "zhihaoz        zhihaoz@prince\n",
       "zmd            zahra.dhaneraw\n",
       " (Total: 11)"
      ]
     },
     "execution_count": 12,
     "metadata": {},
     "output_type": "execute_result"
    }
   ],
   "source": [
    "db.User()"
   ]
  },
  {
   "cell_type": "code",
   "execution_count": null,
   "metadata": {},
   "outputs": [],
   "source": [
    "@db.schema #  \n",
    "class IdiscoPlusClearing(dj.Manual): # dj.Manual is one of the 4 datajoint table types - Manual corresponds to externally inputted data\n",
    "    definition = \"\"\" # iDISCO+ clearing logs \n",
    "    -> db.Experiment                     # experiment_id, the primary key from the Experiment() table\n",
    "    ----\n",
    "    -> db.User                           # username, the researcher's netid from the User() table\n",
    "    clearer                              :   varchar(20)   # the netid of the person who entered the row\n",
    "    exp_notes                            :   varchar(200)  # Note anything unusual that happened to subject that could affect clearing\n",
    "    perfusion_date                       :   date \n",
    "    time_dehydration_step1               :   datetime\n",
    "    time_dehydration_step2               :   datetime\n",
    "    time_dehydration_step3               :   datetime\n",
    "    time_dehydration_step4               :   datetime\n",
    "    time_dehydration_step5               :   datetime\n",
    "    time_dehydration_step6               :   datetime\n",
    "    time_dehydration_step7               :   datetime\n",
    "    time_dehydration_step8               :   datetime\n",
    "    time_dehydration_step9               :   datetime\n",
    "    time_rehydration_step1               :   datetime\n",
    "    time_rehydration_step2               :   datetime\n",
    "    time_rehydration_step3               :   datetime\n",
    "    time_rehydration_step4               :   datetime\n",
    "    time_rehydration_step5               :   datetime\n",
    "    time_rehydration_step6               :   datetime\n",
    "    time_rehydration_step7               :   datetime\n",
    "    time_rehydration_step8               :   datetime\n",
    "    time_rehydration_step9               :   datetime\n",
    "    time_blocking_step1                  :   datetime\n",
    "    time_blocking_step2                  :   datetime\n",
    "    time_primary_antibody_step1          :   datetime\n",
    "    time_primary_antibody_step2          :   datetime\n",
    "    time_primary_antibody_step3          :   datetime\n",
    "    primary_antibody_notes               :   varchar(500)\n",
    "    time_wash1_step1                     :   datetime\n",
    "    time_wash1_step2                     :   datetime\n",
    "    time_wash1_step3                     :   datetime\n",
    "    time_wash1_step4                     :   datetime\n",
    "    time_wash1_step5                     :   datetime\n",
    "    time_wash1_step6                     :   datetime    \n",
    "    time_secondary_antibodies_step1      :   datetime\n",
    "    secondary_antibody_notes             :   varchar(500)\n",
    "    time_wash2_step1                     :   datetime\n",
    "    time_wash2_step2                     :   datetime\n",
    "    time_wash2_step3                     :   datetime\n",
    "    time_wash2_step4                     :   datetime\n",
    "    time_wash2_step5                     :   datetime\n",
    "    time_wash2_step6                     :   datetime    \n",
    "    time_clearing_step1                  :   datetime\n",
    "    time_clearing_step2                  :   datetime\n",
    "    time_clearing_step3                  :   datetime\n",
    "    time_clearing_step4                  :   datetime\n",
    "    time_clearing_step5                  :   datetime\n",
    "    time_clearing_step6                  :   datetime  \n",
    "    time_clearing_step7                  :   datetime\n",
    "    time_clearing_step8                  :   datetime\n",
    "    time_clearing_step9                  :   datetime\n",
    "    time_clearing_step10                 :   datetime\n",
    "    time_clearing_step11                 :   datetime\n",
    "    clearing_notes                       : varchar(500)\n",
    "    \"\"\""
   ]
  },
  {
   "cell_type": "code",
   "execution_count": null,
   "metadata": {},
   "outputs": [],
   "source": [
    "IdiscoPlusClearing()"
   ]
  },
  {
   "cell_type": "markdown",
   "metadata": {},
   "source": [
    "## Fill the iDISCO+ table from the Google Sheet"
   ]
  },
  {
   "cell_type": "code",
   "execution_count": null,
   "metadata": {},
   "outputs": [],
   "source": [
    "SPREADSHEET_ID = '1iy4H8kHocnu9sS9P-NZA8qcp6_R4gj0ogwksl3I-suU' # The copy of the clearing spreadsheet, where I made some formatting changes to make it more consistent.\n",
    "# We are in readonly (see SCOPES) so we cannot destroy it by accident.\n",
    "range_query = 'iDISCO+!A5:BF14' # Syntax is Sheet_name!cell_start:cell_end, e.g. \n",
    "values = retrieve_google_sheet(spreadsheet_id=SPREADSHEET_ID,range_query=range_query)"
   ]
  },
  {
   "cell_type": "code",
   "execution_count": 13,
   "metadata": {},
   "outputs": [],
   "source": [
    "# Only does this if the table does not already exist.\n",
    "def fill_iDISCO_table():\n",
    "    if len(IdiscoPlusClearing.fetch()) != 0:\n",
    "        sys.exit(\"Delete contents of table first before repopulating!\")\n",
    "    \n",
    "    column_names = [x for x in IdiscoPlusClearing.heading.attributes.keys()]\n",
    "#     print(len(column_names))\n",
    "    for row in values:\n",
    "        clearer='zmd'\n",
    "        email = row[0]\n",
    "        username = email.split('@')[0].lower() if 'princeton' in email else 'zmd' # zahra is the only one who used her gmail\n",
    "        title, description = row[1:3]\n",
    "        exp_query = db.Experiment() & f'title = \"{title}\"' & f'username = \"{username}\"'\n",
    "        print(exp_query)\n",
    "#         print(description)\n",
    "#         print(row[0:5])\n",
    "#         if len(row) < 2:\n",
    "#             continue\n",
    "#         try:\n",
    "#             date_str = datetime.strptime(row[0], \"%B %d, %Y\").strftime(\"%Y-%m-%d\")\n",
    "#         except:\n",
    "#             date_str = 'unknown'\n",
    "#         for ii in range(len(column_names)-len(row)):\n",
    "#             row.append('')\n",
    "#         insert_row = ['ahoag',date_str] + row[1:]    \n",
    "#         insert_dict = {column_names[ii]:insert_row[ii] for ii in range(len(column_names))}\n",
    "#         Microscope().insert1(insert_dict,skip_duplicates = True)"
   ]
  },
  {
   "cell_type": "code",
   "execution_count": null,
   "metadata": {},
   "outputs": [],
   "source": [
    "fill_iDISCO_table()"
   ]
  },
  {
   "cell_type": "code",
   "execution_count": null,
   "metadata": {},
   "outputs": [],
   "source": [
    "db.Experiment()"
   ]
  },
  {
   "cell_type": "markdown",
   "metadata": {},
   "source": [
    "So we can see that the data were inserted (if you uncommented the line above). "
   ]
  },
  {
   "cell_type": "markdown",
   "metadata": {},
   "source": [
    "## Removing data from the database"
   ]
  },
  {
   "cell_type": "code",
   "execution_count": null,
   "metadata": {},
   "outputs": [],
   "source": [
    "# To delete, simply wrap a query in parentheses whose row results are the ones you want to delete\n",
    "# and use the delete() method\n",
    "\n",
    "(Microscope() & 'swapper=\"Austin\"').delete()"
   ]
  },
  {
   "cell_type": "code",
   "execution_count": null,
   "metadata": {},
   "outputs": [],
   "source": [
    "# Using delete_quick() will override the interactive double-check\n",
    "(Microscope() & 'swapper=\"Austin\"').delete_quick()"
   ]
  }
 ],
 "metadata": {
  "anaconda-cloud": {},
  "kernelspec": {
   "display_name": "ng",
   "language": "python",
   "name": "ng"
  },
  "language_info": {
   "codemirror_mode": {
    "name": "ipython",
    "version": 3
   },
   "file_extension": ".py",
   "mimetype": "text/x-python",
   "name": "python",
   "nbconvert_exporter": "python",
   "pygments_lexer": "ipython3",
   "version": "3.7.3"
  }
 },
 "nbformat": 4,
 "nbformat_minor": 2
}
