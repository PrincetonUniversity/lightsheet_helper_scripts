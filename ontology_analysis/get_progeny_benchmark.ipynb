{
 "cells": [
  {
   "cell_type": "markdown",
   "metadata": {},
   "source": [
    "## get_progeny_benchmark\n",
    "The purpose of this notebook is to speed test getting the list of all progeny (aka descendents) of a given brain region using two different methods. The first method is the old way of looping through the whole graph recursively until hitting the parent node. The second is constructing the relationships between nodes when making the graph. whole graph first and using the node relationships of the graph to get the progeny.\n",
    "\n",
    "Method 2 turns out to be MUCH faster. "
   ]
  },
  {
   "cell_type": "code",
   "execution_count": 40,
   "metadata": {},
   "outputs": [],
   "source": [
    "import json\n",
    "import graphviz\n",
    "import csv\n",
    "import numpy as np\n",
    "%matplotlib inline"
   ]
  },
  {
   "cell_type": "code",
   "execution_count": 42,
   "metadata": {},
   "outputs": [],
   "source": [
    "ontology_file = 'allen_ontology_16bit.json'\n",
    "with open(ontology_file) as json_file:\n",
    "    data = json.load(json_file)"
   ]
  },
  {
   "cell_type": "markdown",
   "metadata": {},
   "source": [
    "## Method 1: Graphviz API"
   ]
  },
  {
   "cell_type": "code",
   "execution_count": 45,
   "metadata": {},
   "outputs": [],
   "source": [
    "def make_graph(dic,graph):\n",
    "    \"\"\" Make a edge-unweighted directed graph from a dictionary\n",
    "    Representing a brain ontology using the graphviz API\n",
    "    \"\"\"\n",
    "    name = dic.get('name')\n",
    "    children = dic.get('children')\n",
    "    for child in children:\n",
    "        child_name = child.get('name')\n",
    "        graph.edge(name,child_name)\n",
    "        make_graph(child,graph)\n",
    "    return "
   ]
  },
  {
   "cell_type": "code",
   "execution_count": 46,
   "metadata": {},
   "outputs": [],
   "source": [
    "G = graphviz.Digraph()\n",
    "make_graph(data,G)"
   ]
  },
  {
   "cell_type": "code",
   "execution_count": 47,
   "metadata": {},
   "outputs": [],
   "source": [
    "# Now write the function to get all progeny of an input nodename\n",
    "def get_progeny(dic,input_nodename,progeny_list):\n",
    "    \"\"\" \n",
    "    \"\"\"\n",
    "    name = dic.get('name')\n",
    "    children = dic.get('children')\n",
    "    if name == input_nodename:\n",
    "        for child in children: # child is a dict\n",
    "            child_name = child.get('name')\n",
    "            progeny_list.append(child_name)\n",
    "            get_progeny(child,input_nodename=child_name,progeny_list=progeny_list)\n",
    "        return\n",
    "    \n",
    "    for child in children:\n",
    "        child_name = child.get('name')\n",
    "        get_progeny(child,input_nodename=input_nodename,progeny_list=progeny_list)\n",
    "    return "
   ]
  },
  {
   "cell_type": "markdown",
   "metadata": {
    "collapsed": true
   },
   "source": [
    "## Method 2: Make a graph object composed of nodes"
   ]
  },
  {
   "cell_type": "code",
   "execution_count": 51,
   "metadata": {},
   "outputs": [],
   "source": [
    "class Node():\n",
    "    \"\"\" The elements in the graph\"\"\"\n",
    "    def __init__(self,name):\n",
    "        self.name = name\n",
    "        self.parent = None\n",
    "        self.children = [] # list of Node objects\n",
    "        self.level = None\n",
    "    def __repr__(self):\n",
    "        return str(self.name)"
   ]
  },
  {
   "cell_type": "code",
   "execution_count": 52,
   "metadata": {},
   "outputs": [],
   "source": [
    "class Graph():\n",
    "    \"\"\" The ontology graph \"\"\"\n",
    "    def __init__(self):\n",
    "        self.nodes = {} # map name to Node object\n",
    "        self.html_str = ''\n",
    "        self.level = 0\n",
    "        self.last_checked_nodename = None\n",
    "    \n",
    "    def make_graph(self,dic):\n",
    "        name = dic.get('name')\n",
    "        if name not in self.nodes:\n",
    "            node = Node(name)\n",
    "            self.nodes[name] = node\n",
    "        else:\n",
    "            node = self.nodes[name]\n",
    "        if name == 'root':\n",
    "            node.level = 0\n",
    "        children = dic.get('children')\n",
    "        self.level += 1\n",
    "        for child in children: # child is a dict\n",
    "            child_name = child.get('name')\n",
    "            child_node = Node(child_name)\n",
    "            child_node.parent = node\n",
    "            child_node.level = self.level \n",
    "            self.nodes[child_name] = child_node\n",
    "            node.children.append(child_node)\n",
    "            self.make_graph(child)\n",
    "        self.level -= 1\n",
    "    \n",
    "    def print_branch(self,nodename,level=0,stoplevel=2):\n",
    "        \"\"\" \n",
    "        ---PURPOSE---\n",
    "        Print out the branch of this ontology, \n",
    "        starting with a parent node name\n",
    "        ---INPUT---\n",
    "        nodename     The parent node you want to start at\n",
    "        level        An internal variable. Do not modify.\n",
    "        stoplevel    The number of levels down from the parent \n",
    "                     node that you want to print. \n",
    "                     Use -1 to print the entire branch out\n",
    "        \"\"\"\n",
    "        if stoplevel == -1:\n",
    "            pass\n",
    "        elif level > stoplevel:\n",
    "            return\n",
    "        \n",
    "        print(\"\\t\"*level,level,nodename)\n",
    "        for child in self.nodes[nodename].children:\n",
    "            self.print_branch(child.name,level+1,stoplevel=stoplevel)\n",
    "        level-=1\n",
    "    \n",
    "    def visualize_graph(self,nodename,stoplevel=-1):\n",
    "        \"\"\" \n",
    "        ---PURPOSE---\n",
    "        Visualize a graph starting at a given node\n",
    "        and stopping at a certain number of levels down \n",
    "        the ontology.\n",
    "        ---INPUT---\n",
    "        nodename     The parent node you want to start at\n",
    "        stoplevel    The number of levels down from the parent \n",
    "                     node that you want to print. -1 shows all\n",
    "        \"\"\"\n",
    "        graph = graphviz.Digraph()\n",
    "        self.visualize_graph_helper(nodename=nodename,graph=graph,level=0,stoplevel=stoplevel)\n",
    "        return graph\n",
    "    \n",
    "    def visualize_graph_helper(self,nodename,graph,level,stoplevel):\n",
    "        if stoplevel == -1:\n",
    "            pass\n",
    "        elif level >= stoplevel:\n",
    "            return\n",
    "        graph.node(nodename)\n",
    "        for child in self.nodes[nodename].children:\n",
    "            graph.edge(nodename,child.name)\n",
    "            self.visualize_graph_helper(child.name,graph=graph,level=level+1,stoplevel=stoplevel)\n",
    "        level-=1\n",
    "        return\n",
    "    \n",
    "    def make_html_ontology(self):\n",
    "        \"\"\" \n",
    "        ---PURPOSE---\n",
    "        Print out the entire ontology\n",
    "        in html format with regions\n",
    "        that are included in the dataframe in bold\n",
    "        ---INPUT---\n",
    "        \"\"\"\n",
    "        # reset html_str\n",
    "        self.html_str = ''\n",
    "        self.html_helper(nodename='root')\n",
    "        return self.html_str\n",
    "\n",
    "    def html_helper(self,nodename):\n",
    "        node = self.nodes[nodename]\n",
    "        level = node.level\n",
    "        \n",
    "        if nodename == 'root':\n",
    "            previous_level = -1\n",
    "        else:\n",
    "            previous_node = self.nodes[self.last_checked_nodename]\n",
    "            previous_level = previous_node.level\n",
    "        \n",
    "        if level > previous_level:\n",
    "            self.html_str += '<ul style=\"list-style-type: none;\">'\n",
    "        elif level == previous_level:\n",
    "            # dont need to do anything\n",
    "            pass\n",
    "        elif level < previous_level:\n",
    "            # then we need to end unordered lists\n",
    "            # the number of which we need to end depends on the difference between\n",
    "            # current and previous level\n",
    "            level_diff = previous_level-level\n",
    "            self.html_str += '</ul>'*level_diff\n",
    "        # Add the actual text to the html string\n",
    "        # use boldface if nodename is in the volume and therefore a dataframe column\n",
    "        if nodename in main_df.columns:\n",
    "            self.html_str += '<li>' + ' '.join([str(level),f'<b>{nodename}</b>','</li>'])\n",
    "        else:\n",
    "            self.html_str += '<li>' + ' '.join([str(level),nodename,'</li>'])\n",
    "        self.last_checked_nodename = nodename\n",
    "        for child in self.nodes[nodename].children:\n",
    "            self.html_helper(child.name,)\n",
    "        return\n",
    "    \n",
    "    def get_progeny(self,nodename):\n",
    "        \"\"\" \n",
    "        ---PURPOSE---\n",
    "        Return a list of progeny of the the given nodename\n",
    "        ---INPUT---\n",
    "        nodename     The parent node whose descendents you want\n",
    "        \"\"\"\n",
    "        progeny_list = []\n",
    "        \n",
    "        self.get_progeny_helper(nodename,progeny_list)\n",
    "        return progeny_list\n",
    "    \n",
    "    def get_progeny_helper(self,nodename,progeny_list):\n",
    "        for child in self.nodes[nodename].children:\n",
    "            progeny_list.append(child.name)\n",
    "            self.get_progeny_helper(child.name,progeny_list)\n",
    "        return"
   ]
  },
  {
   "cell_type": "code",
   "execution_count": 53,
   "metadata": {},
   "outputs": [],
   "source": [
    "graph = Graph()\n",
    "graph.make_graph(data)"
   ]
  },
  {
   "cell_type": "markdown",
   "metadata": {},
   "source": [
    "## Compare methods"
   ]
  },
  {
   "cell_type": "code",
   "execution_count": 69,
   "metadata": {},
   "outputs": [],
   "source": [
    "parent_regions_to_test = ['Thalamus','Striatum ventral region','Hindbrain','Basic cell groups and regions']"
   ]
  },
  {
   "cell_type": "code",
   "execution_count": 78,
   "metadata": {},
   "outputs": [
    {
     "name": "stdout",
     "output_type": "stream",
     "text": [
      "Thalamus\n",
      "Method 1:\n",
      "CPU times: user 2.25 ms, sys: 0 ns, total: 2.25 ms\n",
      "Wall time: 2.26 ms\n",
      "Method 2:\n",
      "CPU times: user 122 µs, sys: 0 ns, total: 122 µs\n",
      "Wall time: 127 µs\n",
      "\n",
      "Striatum ventral region\n",
      "Method 1:\n",
      "CPU times: user 1.77 ms, sys: 0 ns, total: 1.77 ms\n",
      "Wall time: 1.78 ms\n",
      "Method 2:\n",
      "CPU times: user 98 µs, sys: 0 ns, total: 98 µs\n",
      "Wall time: 102 µs\n",
      "\n",
      "Hindbrain\n",
      "Method 1:\n",
      "CPU times: user 1.6 ms, sys: 31 µs, total: 1.63 ms\n",
      "Wall time: 1.64 ms\n",
      "Method 2:\n",
      "CPU times: user 71 µs, sys: 0 ns, total: 71 µs\n",
      "Wall time: 74.6 µs\n",
      "\n",
      "Basic cell groups and regions\n",
      "Method 1:\n",
      "CPU times: user 1.25 ms, sys: 0 ns, total: 1.25 ms\n",
      "Wall time: 1.26 ms\n",
      "Method 2:\n",
      "CPU times: user 64 µs, sys: 0 ns, total: 64 µs\n",
      "Wall time: 66.5 µs\n",
      "\n"
     ]
    }
   ],
   "source": [
    "for parent_region in parent_regions_to_test:\n",
    "    print(parent_region)\n",
    "    print(\"Method 1:\")\n",
    "    progeny_list_method1 = []\n",
    "    %time get_progeny(data,input_nodename='Thalamus',progeny_list=progeny_list_method1)\n",
    "    print(\"Method 2:\")\n",
    "    %time progeny_list_method2 = graph.get_progeny('Thalamus')\n",
    "    assert progeny_list_method2 == progeny_list_method1\n",
    "    print()\n",
    "    "
   ]
  },
  {
   "cell_type": "markdown",
   "metadata": {},
   "source": [
    "# Summary\n",
    "Method 2 is much faster, especially for small brain areas. Method 1 takes approximately constant time for any region because it needs to loop through the whole brain, whereas Method 2 only searches the parent region down.  Both take up approximately the same memory since they must construct the whole graph ahead of time, which is small for these brain atlases. Another advantage of Method 2 is that it does not rely on an external library (like graphviz for Method 1). Another advantage of Method 2 is that it creates and returns the progeny list internally. Method 1 requires a list to be created first and then appends to that list in place, which is less clean."
   ]
  },
  {
   "cell_type": "code",
   "execution_count": null,
   "metadata": {},
   "outputs": [],
   "source": []
  }
 ],
 "metadata": {
  "anaconda-cloud": {},
  "kernelspec": {
   "display_name": "ng",
   "language": "python",
   "name": "ng"
  },
  "language_info": {
   "codemirror_mode": {
    "name": "ipython",
    "version": 3
   },
   "file_extension": ".py",
   "mimetype": "text/x-python",
   "name": "python",
   "nbconvert_exporter": "python",
   "pygments_lexer": "ipython3",
   "version": "3.8.5"
  }
 },
 "nbformat": 4,
 "nbformat_minor": 2
}
