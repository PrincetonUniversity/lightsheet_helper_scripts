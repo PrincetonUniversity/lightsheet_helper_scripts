{
 "cells": [
  {
   "cell_type": "code",
   "execution_count": 6,
   "metadata": {},
   "outputs": [],
   "source": [
    "import neuroglancer as ng"
   ]
  },
  {
   "cell_type": "markdown",
   "metadata": {},
   "source": [
    "## Set the neuroglancer client to be one that is hosted locally\n"
   ]
  },
  {
   "cell_type": "code",
   "execution_count": 7,
   "metadata": {},
   "outputs": [],
   "source": [
    "ng.set_static_content_source(url='http://localhost:8080')"
   ]
  },
  {
   "cell_type": "markdown",
   "metadata": {},
   "source": [
    "# Host the atlas-aligned image data on your machine "
   ]
  },
  {
   "cell_type": "markdown",
   "metadata": {},
   "source": [
    "You will need to host this with cloudvolume, e.g.\n",
    "```python\n",
    "import cloudvolume\n",
    "vol = CloudVolume('file:///home/ahoag/ngdemo/demo_bucket/marlies_m18_probe_ch555')\n",
    "vol.viewer(port=1336) # must be a different port than the raw data\n",
    "```\n",
    "Again, make sure to do this outside of this jupyter notebook"
   ]
  },
  {
   "cell_type": "markdown",
   "metadata": {},
   "source": [
    "## Load in the atlas\n",
    "Load in a segmentation layer (e.g. the raw-space allen atlas) that is being hosted with cloudvolume using the same viewer object that you already made. If you go back to the neuroglancer window after running this it should be there in a new layer"
   ]
  },
  {
   "cell_type": "code",
   "execution_count": 9,
   "metadata": {
    "scrolled": true
   },
   "outputs": [
    {
     "name": "stdout",
     "output_type": "stream",
     "text": [
      "http://127.0.0.1:43150/v/dc01b9e092c47df6218b31e87a871dd3ee70b0a4/\n"
     ]
    }
   ],
   "source": [
    "viewer2 = ng.Viewer()\n",
    "with viewer2.txn() as s:\n",
    "    s.layers['m19 555nm'] = ng.ImageLayer(source='precomputed://http://localhost:1341'\n",
    "    )\n",
    "    s.layers['Princeton Mouse Brain Atlas'] = ng.SegmentationLayer(source='precomputed://http://localhost:1338'\n",
    "    )\n",
    "print(viewer2)"
   ]
  },
  {
   "cell_type": "code",
   "execution_count": 4,
   "metadata": {},
   "outputs": [
    {
     "name": "stdout",
     "output_type": "stream",
     "text": [
      "ViewerState({\"dimensions\": {\"x\": [2e-05, \"m\"], \"y\": [2e-05, \"m\"], \"z\": [2e-05, \"m\"]}, \"position\": [157.8109893798828, 548.4998779296875, 399.8164367675781], \"crossSectionOrientation\": [0, 0, -0.7071067690849304, 0.7071067690849304], \"crossSectionScale\": 0.7672059499758557, \"projectionOrientation\": [0.5, 0.5, 0.5, -0.5], \"projectionScale\": 462.41918456073444, \"layers\": [{\"type\": \"image\", \"source\": \"precomputed://http://localhost:1336\", \"shader\": \"void main() {emitGrayscale(toNormalized(getDataValue())*30.0);}\", \"name\": \"Marlies/m18 555\"}, {\"type\": \"annotation\", \"source\": {\"url\": \"local://annotations\", \"transform\": {\"outputDimensions\": {\"x\": [2e-05, \"m\"], \"y\": [2e-05, \"m\"], \"z\": [2e-05, \"m\"]}}}, \"tool\": \"annotatePoint\", \"annotations\": [{\"point\": [106.14735412597656, 547.5, 381.1506652832031], \"type\": \"point\", \"id\": \"ab982da5f1a47528601c3a9ca74494a3e0dbfcee\"}, {\"point\": [109.43286895751953, 547.5, 381.1506652832031], \"type\": \"point\", \"id\": \"b1ecd88894a2013bdc7ddf140089a77082236d73\"}, {\"point\": [115.8474349975586, 547.5, 381.1506652832031], \"type\": \"point\", \"id\": \"dbb711c8dcbfc873b23ccbe2615ce6c45dcfc4a9\"}, {\"point\": [122.10555267333984, 547.5, 381.46356201171875], \"type\": \"point\", \"id\": \"f9063196a30ba35a8e72785b2c427658ccf850da\"}, {\"point\": [126.32978057861328, 547.5, 381.46356201171875], \"type\": \"point\", \"id\": \"55bb3c61b72205d443137b3b3cb849093fe66de0\"}, {\"point\": [130.39755249023438, 547.5, 381.46356201171875], \"type\": \"point\", \"id\": \"22f91530542302b81f61b0811eaf53e85a8d8972\"}, {\"point\": [106.14735412597656, 547.5, 381.1506652832031], \"type\": \"point\", \"id\": \"0f7082b848c4c56f26af9668e46c4e6f1eb33037\"}, {\"point\": [109.43286895751953, 547.5, 381.1506652832031], \"type\": \"point\", \"id\": \"5b7ed82e0d6647c0fa12424b51b51d5960d2c728\"}, {\"point\": [115.8474349975586, 547.5, 381.1506652832031], \"type\": \"point\", \"id\": \"f3545030e0d1f5302296e2d4a04a3c41c2b0788b\"}, {\"point\": [122.10555267333984, 547.5, 381.46356201171875], \"type\": \"point\", \"id\": \"326ab688c9e32284f643451d5e34ff709d7cfa4a\"}, {\"point\": [126.32978057861328, 547.5, 381.46356201171875], \"type\": \"point\", \"id\": \"8f780d6cb121d0d147b54befb2d6b18471acfc49\"}, {\"point\": [130.39755249023438, 547.5, 381.46356201171875], \"type\": \"point\", \"id\": \"9c246df0cf3a0c9484f62429bf865a7f28117983\"}, {\"point\": [106.3038101196289, 545.5, 381.6200256347656], \"type\": \"point\", \"id\": \"25900beabd114a30fec4a82f61e5f8e9e7aa3c0c\"}, {\"point\": [101.92312622070312, 545.5, 381.6200256347656], \"type\": \"point\", \"id\": \"eb5faa017178310f497c597159e99311eab1e611\"}, {\"point\": [97.8553466796875, 545.5, 381.6200256347656], \"type\": \"point\", \"id\": \"fe602316a3874036ff5aa22813397cfe2206f561\"}, {\"point\": [100.20214080810547, 545.5, 389.44268798828125], \"type\": \"point\", \"id\": \"75c3965f5efafc31b5313d7fd30feb55a3688b47\"}, {\"point\": [112.24901580810547, 545.5, 381.7764892578125], \"type\": \"point\", \"id\": \"ea499d94401c6a2cc086ae69f9ecf0179606ab4c\"}, {\"point\": [118.50713348388672, 545.5, 382.0893859863281], \"type\": \"point\", \"id\": \"ea365a887af1a9786cb320486e488fb2d28b8459\"}, {\"point\": [123.20072174072266, 545.5, 381.7764892578125], \"type\": \"point\", \"id\": \"8b98c966311c456324c918db4daca894c27ac228\"}, {\"point\": [128.20721435546875, 545.5, 382.0893859863281], \"type\": \"point\", \"id\": \"4112a98ec918694041e11786ba0ed7fa87e6cee2\"}, {\"point\": [131.17982482910156, 545.5, 382.40228271484375], \"type\": \"point\", \"id\": \"4190736cf3c1b1f5937ba4969a83927bfc90e1bf\"}, {\"point\": [97.8553466796875, 545.5, 381.6200256347656], \"type\": \"point\", \"id\": \"ad390e962b984ec8e58993d12c02d8cfc64058c4\"}, {\"point\": [101.92312622070312, 545.5, 381.6200256347656], \"type\": \"point\", \"id\": \"bba98bb326bc33bb1241d70566e237cb02d666f7\"}, {\"point\": [106.3038101196289, 545.5, 381.6200256347656], \"type\": \"point\", \"id\": \"13b975e942ab764cb66fdb1674f49431ea399da8\"}, {\"point\": [108.49414825439453, 544.5, 382.40228271484375], \"type\": \"point\", \"id\": \"b1b74a0380fd088cd660d000e3e5ff80679bd8d0\"}, {\"point\": [112.24901580810547, 545.5, 381.7764892578125], \"type\": \"point\", \"id\": \"abb4628300936bceefbfa9b18df7f5c4512059db\"}, {\"point\": [113.81354522705078, 544.5, 382.0893859863281], \"type\": \"point\", \"id\": \"20fc23abdd272cf04625be733e62a5186c51d895\"}, {\"point\": [125.70397186279297, 544.5, 381.46356201171875], \"type\": \"point\", \"id\": \"40a48d6562b0e60283e6933993029bf7807476ae\"}, {\"point\": [131.9620819091797, 544.5, 392.2588195800781], \"type\": \"point\", \"id\": \"898a7ce8f4bf1ddc9641e08413b07954ae0fcb06\"}, {\"point\": [113.18773651123047, 544.5, 398.67340087890625], \"type\": \"point\", \"id\": \"88169b279dd34f2e28f86c712690b4be0be4fb8b\"}, {\"point\": [129.30238342285156, 544.5, 401.8024597167969], \"type\": \"point\", \"id\": \"241d01875ff5b0e8fa46f441a0bbe58e2eabc1b7\"}, {\"point\": [100.04569244384766, 544.5, 396.79595947265625], \"type\": \"point\", \"id\": \"c3234a00772a2eb57f237da9492a4d5c12297c52\"}, {\"point\": [90.18915557861328, 543.5, 382.0893859863281], \"type\": \"point\", \"id\": \"c95fb5eae2ff1ed4fb87989ed2363b17f0b64dad\"}, {\"point\": [96.91663360595703, 543.5, 381.93292236328125], \"type\": \"point\", \"id\": \"cd047c2851acc55b04a39d745da45d87209bbb80\"}, {\"point\": [102.86184692382812, 543.5, 381.46356201171875], \"type\": \"point\", \"id\": \"2d25fa351829274da0c2c7546e1b7cc57330aa30\"}, {\"point\": [108.49414825439453, 544.5, 382.40228271484375], \"type\": \"point\", \"id\": \"44e45bbdfaf68da3c266f68532135afd9808383a\"}, {\"point\": [115.53453063964844, 543.5, 382.0893859863281], \"type\": \"point\", \"id\": \"20fad397ddc1bd01e6abe18edeab67aecffb3bcd\"}, {\"point\": [111.15384674072266, 543.5, 381.93292236328125], \"type\": \"point\", \"id\": \"dd624470f862a59c90e6a60a3a31b99ea7baf3cb\"}, {\"point\": [127.73786163330078, 543.5, 382.7152099609375], \"type\": \"point\", \"id\": \"e9bfffe5d07567e053523cbdea548c2db49f4380\"}, {\"point\": [135.5605010986328, 543.5, 392.5717468261719], \"type\": \"point\", \"id\": \"99c1d21fd15f06a5e063d5c171ddfff4740e0e6c\"}, {\"point\": [129.92819213867188, 543.5, 391.9459228515625], \"type\": \"point\", \"id\": \"44976d57597929c4a6293b2ed9a1796429cd90e3\"}, {\"point\": [115.8474349975586, 543.5, 391.4765625], \"type\": \"point\", \"id\": \"4b43e6759447d89c1bdfe7e61392ee261a708f1d\"}, {\"point\": [99.41987609863281, 543.5, 389.1297607421875], \"type\": \"point\", \"id\": \"7a4fe283f4bac260c986178fe8743d523f6e9956\"}, {\"point\": [110.68448638916016, 543.5, 399.14276123046875], \"type\": \"point\", \"id\": \"057c862e47adfc2fc7b065f2cccc38dfeac8c71f\"}, {\"point\": [98.32470703125, 543.5, 396.6394958496094], \"type\": \"point\", \"id\": \"030d0576f3f2c1c61b5075d3d34820c9adb1ffeb\"}, {\"point\": [130.86691284179688, 543.5, 402.2718200683594], \"type\": \"point\", \"id\": \"bdb3db2e6aa820880d5fb552ef84dccb60fcb27f\"}, {\"point\": [131.4927215576172, 543.5, 411.5025329589844], \"type\": \"point\", \"id\": \"e8d74c3141db667928a853e297d6c76a0151505e\"}, {\"point\": [100.35859680175781, 542.5, 381.7764892578125], \"type\": \"point\", \"id\": \"233720d61cb7df17c13f99dd87c4359f85d36b41\"}, {\"point\": [106.61671447753906, 542.5, 381.93292236328125], \"type\": \"point\", \"id\": \"0614b20a8ce8e2aa6c81db15429c7d6783d37307\"}, {\"point\": [117.56842041015625, 542.5, 383.34100341796875], \"type\": \"point\", \"id\": \"5e8e1002ff4d6cfdc0f84dcc7f55bab20cdf2cf8\"}, {\"point\": [124.45234680175781, 542.5, 383.4974670410156], \"type\": \"point\", \"id\": \"a2281905ff423884b4805449df0f94b02c3fc874\"}, {\"point\": [131.9620819091797, 542.5, 392.5717468261719], \"type\": \"point\", \"id\": \"795f9dfd0d704cdaa946ab9f07f5fa6203bcc0bf\"}, {\"point\": [127.73785400390625, 542.5, 392.415283203125], \"type\": \"point\", \"id\": \"581b9c32922a512cb9f8106843bce2253fbc0df8\"}, {\"point\": [117.09906005859375, 542.5, 391.9459228515625], \"type\": \"point\", \"id\": \"e4feb037ea221047841d3125cb530141da2b6c48\"}, {\"point\": [113.65709686279297, 542.5, 391.0072021484375], \"type\": \"point\", \"id\": \"fc6fc16e28c2cb8e1897e1e6b941a760baf54e6d\"}, {\"point\": [101.29730987548828, 542.5, 389.91204833984375], \"type\": \"point\", \"id\": \"61bebda0d3dcdb61e47a83bb1bd18162818dfd3d\"}, {\"point\": [100.51504516601562, 542.5, 397.4217834472656], \"type\": \"point\", \"id\": \"d48bbe5ecb3e036c3787123debed696d884152ac\"}, {\"point\": [98.32470703125, 543.5, 396.6394958496094], \"type\": \"point\", \"id\": \"a9c83438f1d69b8565f192278a4aef91f80f76d8\"}, {\"point\": [108.02478790283203, 542.5, 398.3605041503906], \"type\": \"point\", \"id\": \"09f77e3610d7638e05767b0cd14c9bfc9e704c4d\"}, {\"point\": [114.4393539428711, 542.5, 399.2991943359375], \"type\": \"point\", \"id\": \"a3458a06c085586f009d557cf4294a52ca478d05\"}, {\"point\": [127.58140563964844, 542.5, 403.5234375], \"type\": \"point\", \"id\": \"86e412917c1c6ced9d3c02825aea89b792ce339e\"}, {\"point\": [133.0572509765625, 542.5, 411.65899658203125], \"type\": \"point\", \"id\": \"50a517e69d70536ca128b41da4777b78b49d62bd\"}, {\"point\": [128.36366271972656, 542.5, 411.5025329589844], \"type\": \"point\", \"id\": \"28a5415ca18b40ec7213df696cac76db29c7561e\"}, {\"point\": [124.13943481445312, 542.5, 410.25091552734375], \"type\": \"point\", \"id\": \"6a39d026ed9b5c9fb9bf488f91f029434fb9536a\"}, {\"point\": [105.05218505859375, 542.5, 405.40087890625], \"type\": \"point\", \"id\": \"d8e617747da21ad662bd78efe7048bc68927d881\"}, {\"point\": [103.64411163330078, 541.5, 381.93292236328125], \"type\": \"point\", \"id\": \"e0de7acba22329edf7f9a354c01f354297891fa0\"}, {\"point\": [99.57633209228516, 541.5, 390.3813781738281], \"type\": \"point\", \"id\": \"9d8747423f2a7c027292b1b6f9581964563f5d41\"}, {\"point\": [103.64410400390625, 541.5, 389.59912109375], \"type\": \"point\", \"id\": \"ede11900b48100fc07bcfb54cf2378aac0a51fe2\"}, {\"point\": [111.15384674072266, 541.5, 400.08148193359375], \"type\": \"point\", \"id\": \"c2a54821d7b08730b021e98307c665ff278c6dcb\"}, {\"point\": [106.46025848388672, 541.5, 406.02667236328125], \"type\": \"point\", \"id\": \"e5d9c7072c0943459741c88c78c7c8eb4c0a3628\"}, {\"point\": [118.82003784179688, 541.5, 409.6250915527344], \"type\": \"point\", \"id\": \"62fed629f333bc3e753e076809f96cb3637463ec\"}, {\"point\": [125.70396423339844, 541.5, 410.0944519042969], \"type\": \"point\", \"id\": \"2b2f7513bc8677f91068d71482e5d0941b3b6fa5\"}, {\"point\": [121.479736328125, 541.5, 409.9380187988281], \"type\": \"point\", \"id\": \"2c609db3d16ad772056b12f2835fbaad3af377a8\"}, {\"point\": [128.36366271972656, 542.5, 411.5025329589844], \"type\": \"point\", \"id\": \"7e1e984cfdfd1c7570ce6e5790b0fa7937b0aa42\"}, {\"point\": [131.80563354492188, 541.5, 410.25091552734375], \"type\": \"point\", \"id\": \"f78b8be42315059ee0f74c0dbe93c138f01cd37d\"}, {\"point\": [129.30238342285156, 541.5, 410.0944519042969], \"type\": \"point\", \"id\": \"fb57269b7aaff7a1afff734ec47cca1f6d5e8ec9\"}, {\"point\": [101.61022186279297, 540.5, 381.1506652832031], \"type\": \"point\", \"id\": \"6a99b4593faa9f212092b17aad0aa470a914cfcc\"}, {\"point\": [101.61022186279297, 540.5, 381.1506652832031], \"type\": \"point\", \"id\": \"6d9f01f04136c66a8fae73da38176eaec4bcc379\"}, {\"point\": [105.05218505859375, 540.5, 381.6200256347656], \"type\": \"point\", \"id\": \"08114f9578b90b0152f1c52a2ff5da770afb14cb\"}, {\"point\": [105.20863342285156, 540.5, 389.2862243652344], \"type\": \"point\", \"id\": \"8e2454a714c5777da53cd9581c66bc420128bc9e\"}, {\"point\": [108.18124389648438, 540.5, 389.44268798828125], \"type\": \"point\", \"id\": \"ce0e78188fd996bccf0bcc8c2fd6e55577a98974\"}, {\"point\": [111.15384674072266, 541.5, 400.08148193359375], \"type\": \"point\", \"id\": \"384f3aeea25d917d2e916bd3a2b521ff6129fea2\"}, {\"point\": [113.03128051757812, 540.5, 400.3943786621094], \"type\": \"point\", \"id\": \"dcd55fdd528384777c101d28427a0e0010c55205\"}, {\"point\": [104.11346435546875, 540.5, 405.08795166015625], \"type\": \"point\", \"id\": \"54b496b4265d57884dfb4634deb0ad6a7d4d06f7\"}, {\"point\": [106.46025848388672, 541.5, 406.02667236328125], \"type\": \"point\", \"id\": \"941e8487c7488ed5331ceffbf0604fe82b8d950f\"}, {\"point\": [117.25550842285156, 540.5, 409.9380187988281], \"type\": \"point\", \"id\": \"3ac4d79736dbaa4cca4cf90f13083f088406c11e\"}, {\"point\": [106.46025848388672, 541.5, 406.02667236328125], \"type\": \"point\", \"id\": \"298d8f871144ec71f3aab6337052114402adb540\"}, {\"point\": [121.479736328125, 541.5, 409.9380187988281], \"type\": \"point\", \"id\": \"318daf8cd2de25c0846008a58ea72c0f7c15226c\"}, {\"point\": [123.04426574707031, 540.5, 410.25091552734375], \"type\": \"point\", \"id\": \"3eeacec27a45bad4b0aa28c1bfb6187424ccc6ba\"}, {\"point\": [127.11204528808594, 540.5, 410.0944519042969], \"type\": \"point\", \"id\": \"fc292a762ba6ce609b3f1846143adfd690b07612\"}, {\"point\": [129.30238342285156, 541.5, 410.0944519042969], \"type\": \"point\", \"id\": \"21849d36d55e0c4f9b0e138c4e993273c9b87458\"}, {\"point\": [133.526611328125, 540.5, 409.9380187988281], \"type\": \"point\", \"id\": \"cc48bd88a397cf7fa71f7e1074de6fed20f6eaff\"}, {\"point\": [109.11995697021484, 539.5, 406.8089599609375], \"type\": \"point\", \"id\": \"c99c809f358bde2edc104ea49cae8520679a2457\"}, {\"point\": [106.77316284179688, 539.5, 405.40087890625], \"type\": \"point\", \"id\": \"d94a29043ba767f52c3028b259c1c078dc379fe8\"}, {\"point\": [106.46025848388672, 539.5, 379.8990478515625], \"type\": \"point\", \"id\": \"6d237aa5eca4002efc27523d8ec0fdf1e010b20c\"}, {\"point\": [103.17475128173828, 539.5, 381.46356201171875], \"type\": \"point\", \"id\": \"c2c3870f54486a83b7f1940ec24eda6573456b93\"}, {\"point\": [108.96350860595703, 539.5, 405.2444152832031], \"type\": \"point\", \"id\": \"e0cb5d487f9a9f08a887b9706eaf0724606a0025\"}, {\"point\": [111.46675109863281, 539.5, 408.0605773925781], \"type\": \"point\", \"id\": \"9dced6cfcdf59a787d27a615fc82bc9c2e74d2b6\"}, {\"point\": [108.96350860595703, 539.5, 405.2444152832031], \"type\": \"point\", \"id\": \"723dbd07290a4ffdfd05ade11871c439d5e3a495\"}, {\"point\": [111.46675109863281, 539.5, 408.0605773925781], \"type\": \"point\", \"id\": \"d9d64b803f85398ba4f9be2d2d02c924292799ba\"}, {\"point\": [109.11995697021484, 539.5, 406.8089599609375], \"type\": \"point\", \"id\": \"20e7cc07473b2d1707f6a3ba44bfeb715b3cf051\"}, {\"point\": [109.12818908691406, 538.5, 408.082275390625], \"type\": \"point\", \"id\": \"9da28037800bd26c9d687baf3f3575f8558b3541\"}, {\"point\": [107.9278793334961, 538.5, 406.4018249511719], \"type\": \"point\", \"id\": \"4785d421b00e34e77445f2bb5ba89f40e358547f\"}, {\"point\": [111.46675109863281, 539.5, 408.0605773925781], \"type\": \"point\", \"id\": \"e78c4193a01df88bcebf16dfd6178c9c79423559\"}, {\"point\": [110.2084732055664, 538.5, 406.6418762207031], \"type\": \"point\", \"id\": \"50903aae732be2e34a9cef16cd8d23dc1717410b\"}], \"name\": \"annotation\"}], \"showAxisLines\": false, \"selectedLayer\": {\"layer\": \"annotation\", \"visible\": true}, \"layout\": \"yz-3d\", \"selection\": {\"layers\": {\"annotation\": {\"annotationId\": \"50903aae732be2e34a9cef16cd8d23dc1717410b\", \"annotationSource\": 0, \"annotationSubsource\": \"default\"}}}})\n"
     ]
    }
   ],
   "source": [
    "with viewer.txn() as s:\n",
    "    print(s)"
   ]
  },
  {
   "cell_type": "code",
   "execution_count": 9,
   "metadata": {},
   "outputs": [],
   "source": [
    "with viewer.txn() as s:\n",
    "    annotations = s.layers[\"annotation\"].annotations"
   ]
  },
  {
   "cell_type": "code",
   "execution_count": 10,
   "metadata": {},
   "outputs": [
    {
     "data": {
      "text/plain": [
       "[{\"point\": [106.14735412597656, 547.5, 381.1506652832031], \"type\": \"point\", \"id\": \"ab982da5f1a47528601c3a9ca74494a3e0dbfcee\"}, {\"point\": [109.43286895751953, 547.5, 381.1506652832031], \"type\": \"point\", \"id\": \"b1ecd88894a2013bdc7ddf140089a77082236d73\"}, {\"point\": [115.8474349975586, 547.5, 381.1506652832031], \"type\": \"point\", \"id\": \"dbb711c8dcbfc873b23ccbe2615ce6c45dcfc4a9\"}, {\"point\": [122.10555267333984, 547.5, 381.46356201171875], \"type\": \"point\", \"id\": \"f9063196a30ba35a8e72785b2c427658ccf850da\"}, {\"point\": [126.32978057861328, 547.5, 381.46356201171875], \"type\": \"point\", \"id\": \"55bb3c61b72205d443137b3b3cb849093fe66de0\"}, {\"point\": [130.39755249023438, 547.5, 381.46356201171875], \"type\": \"point\", \"id\": \"22f91530542302b81f61b0811eaf53e85a8d8972\"}, {\"point\": [106.14735412597656, 547.5, 381.1506652832031], \"type\": \"point\", \"id\": \"0f7082b848c4c56f26af9668e46c4e6f1eb33037\"}, {\"point\": [109.43286895751953, 547.5, 381.1506652832031], \"type\": \"point\", \"id\": \"5b7ed82e0d6647c0fa12424b51b51d5960d2c728\"}, {\"point\": [115.8474349975586, 547.5, 381.1506652832031], \"type\": \"point\", \"id\": \"f3545030e0d1f5302296e2d4a04a3c41c2b0788b\"}, {\"point\": [122.10555267333984, 547.5, 381.46356201171875], \"type\": \"point\", \"id\": \"326ab688c9e32284f643451d5e34ff709d7cfa4a\"}, {\"point\": [126.32978057861328, 547.5, 381.46356201171875], \"type\": \"point\", \"id\": \"8f780d6cb121d0d147b54befb2d6b18471acfc49\"}, {\"point\": [130.39755249023438, 547.5, 381.46356201171875], \"type\": \"point\", \"id\": \"9c246df0cf3a0c9484f62429bf865a7f28117983\"}, {\"point\": [106.3038101196289, 545.5, 381.6200256347656], \"type\": \"point\", \"id\": \"25900beabd114a30fec4a82f61e5f8e9e7aa3c0c\"}, {\"point\": [101.92312622070312, 545.5, 381.6200256347656], \"type\": \"point\", \"id\": \"eb5faa017178310f497c597159e99311eab1e611\"}, {\"point\": [97.8553466796875, 545.5, 381.6200256347656], \"type\": \"point\", \"id\": \"fe602316a3874036ff5aa22813397cfe2206f561\"}, {\"point\": [100.20214080810547, 545.5, 389.44268798828125], \"type\": \"point\", \"id\": \"75c3965f5efafc31b5313d7fd30feb55a3688b47\"}, {\"point\": [112.24901580810547, 545.5, 381.7764892578125], \"type\": \"point\", \"id\": \"ea499d94401c6a2cc086ae69f9ecf0179606ab4c\"}, {\"point\": [118.50713348388672, 545.5, 382.0893859863281], \"type\": \"point\", \"id\": \"ea365a887af1a9786cb320486e488fb2d28b8459\"}, {\"point\": [123.20072174072266, 545.5, 381.7764892578125], \"type\": \"point\", \"id\": \"8b98c966311c456324c918db4daca894c27ac228\"}, {\"point\": [128.20721435546875, 545.5, 382.0893859863281], \"type\": \"point\", \"id\": \"4112a98ec918694041e11786ba0ed7fa87e6cee2\"}, {\"point\": [131.17982482910156, 545.5, 382.40228271484375], \"type\": \"point\", \"id\": \"4190736cf3c1b1f5937ba4969a83927bfc90e1bf\"}, {\"point\": [97.8553466796875, 545.5, 381.6200256347656], \"type\": \"point\", \"id\": \"ad390e962b984ec8e58993d12c02d8cfc64058c4\"}, {\"point\": [101.92312622070312, 545.5, 381.6200256347656], \"type\": \"point\", \"id\": \"bba98bb326bc33bb1241d70566e237cb02d666f7\"}, {\"point\": [106.3038101196289, 545.5, 381.6200256347656], \"type\": \"point\", \"id\": \"13b975e942ab764cb66fdb1674f49431ea399da8\"}, {\"point\": [108.49414825439453, 544.5, 382.40228271484375], \"type\": \"point\", \"id\": \"b1b74a0380fd088cd660d000e3e5ff80679bd8d0\"}, {\"point\": [112.24901580810547, 545.5, 381.7764892578125], \"type\": \"point\", \"id\": \"abb4628300936bceefbfa9b18df7f5c4512059db\"}, {\"point\": [113.81354522705078, 544.5, 382.0893859863281], \"type\": \"point\", \"id\": \"20fc23abdd272cf04625be733e62a5186c51d895\"}, {\"point\": [125.70397186279297, 544.5, 381.46356201171875], \"type\": \"point\", \"id\": \"40a48d6562b0e60283e6933993029bf7807476ae\"}, {\"point\": [131.9620819091797, 544.5, 392.2588195800781], \"type\": \"point\", \"id\": \"898a7ce8f4bf1ddc9641e08413b07954ae0fcb06\"}, {\"point\": [113.18773651123047, 544.5, 398.67340087890625], \"type\": \"point\", \"id\": \"88169b279dd34f2e28f86c712690b4be0be4fb8b\"}, {\"point\": [129.30238342285156, 544.5, 401.8024597167969], \"type\": \"point\", \"id\": \"241d01875ff5b0e8fa46f441a0bbe58e2eabc1b7\"}, {\"point\": [100.04569244384766, 544.5, 396.79595947265625], \"type\": \"point\", \"id\": \"c3234a00772a2eb57f237da9492a4d5c12297c52\"}, {\"point\": [90.18915557861328, 543.5, 382.0893859863281], \"type\": \"point\", \"id\": \"c95fb5eae2ff1ed4fb87989ed2363b17f0b64dad\"}, {\"point\": [96.91663360595703, 543.5, 381.93292236328125], \"type\": \"point\", \"id\": \"cd047c2851acc55b04a39d745da45d87209bbb80\"}, {\"point\": [102.86184692382812, 543.5, 381.46356201171875], \"type\": \"point\", \"id\": \"2d25fa351829274da0c2c7546e1b7cc57330aa30\"}, {\"point\": [108.49414825439453, 544.5, 382.40228271484375], \"type\": \"point\", \"id\": \"44e45bbdfaf68da3c266f68532135afd9808383a\"}, {\"point\": [115.53453063964844, 543.5, 382.0893859863281], \"type\": \"point\", \"id\": \"20fad397ddc1bd01e6abe18edeab67aecffb3bcd\"}, {\"point\": [111.15384674072266, 543.5, 381.93292236328125], \"type\": \"point\", \"id\": \"dd624470f862a59c90e6a60a3a31b99ea7baf3cb\"}, {\"point\": [127.73786163330078, 543.5, 382.7152099609375], \"type\": \"point\", \"id\": \"e9bfffe5d07567e053523cbdea548c2db49f4380\"}, {\"point\": [135.5605010986328, 543.5, 392.5717468261719], \"type\": \"point\", \"id\": \"99c1d21fd15f06a5e063d5c171ddfff4740e0e6c\"}, {\"point\": [129.92819213867188, 543.5, 391.9459228515625], \"type\": \"point\", \"id\": \"44976d57597929c4a6293b2ed9a1796429cd90e3\"}, {\"point\": [115.8474349975586, 543.5, 391.4765625], \"type\": \"point\", \"id\": \"4b43e6759447d89c1bdfe7e61392ee261a708f1d\"}, {\"point\": [99.41987609863281, 543.5, 389.1297607421875], \"type\": \"point\", \"id\": \"7a4fe283f4bac260c986178fe8743d523f6e9956\"}, {\"point\": [110.68448638916016, 543.5, 399.14276123046875], \"type\": \"point\", \"id\": \"057c862e47adfc2fc7b065f2cccc38dfeac8c71f\"}, {\"point\": [98.32470703125, 543.5, 396.6394958496094], \"type\": \"point\", \"id\": \"030d0576f3f2c1c61b5075d3d34820c9adb1ffeb\"}, {\"point\": [130.86691284179688, 543.5, 402.2718200683594], \"type\": \"point\", \"id\": \"bdb3db2e6aa820880d5fb552ef84dccb60fcb27f\"}, {\"point\": [131.4927215576172, 543.5, 411.5025329589844], \"type\": \"point\", \"id\": \"e8d74c3141db667928a853e297d6c76a0151505e\"}, {\"point\": [100.35859680175781, 542.5, 381.7764892578125], \"type\": \"point\", \"id\": \"233720d61cb7df17c13f99dd87c4359f85d36b41\"}, {\"point\": [106.61671447753906, 542.5, 381.93292236328125], \"type\": \"point\", \"id\": \"0614b20a8ce8e2aa6c81db15429c7d6783d37307\"}, {\"point\": [117.56842041015625, 542.5, 383.34100341796875], \"type\": \"point\", \"id\": \"5e8e1002ff4d6cfdc0f84dcc7f55bab20cdf2cf8\"}, {\"point\": [124.45234680175781, 542.5, 383.4974670410156], \"type\": \"point\", \"id\": \"a2281905ff423884b4805449df0f94b02c3fc874\"}, {\"point\": [131.9620819091797, 542.5, 392.5717468261719], \"type\": \"point\", \"id\": \"795f9dfd0d704cdaa946ab9f07f5fa6203bcc0bf\"}, {\"point\": [127.73785400390625, 542.5, 392.415283203125], \"type\": \"point\", \"id\": \"581b9c32922a512cb9f8106843bce2253fbc0df8\"}, {\"point\": [117.09906005859375, 542.5, 391.9459228515625], \"type\": \"point\", \"id\": \"e4feb037ea221047841d3125cb530141da2b6c48\"}, {\"point\": [113.65709686279297, 542.5, 391.0072021484375], \"type\": \"point\", \"id\": \"fc6fc16e28c2cb8e1897e1e6b941a760baf54e6d\"}, {\"point\": [101.29730987548828, 542.5, 389.91204833984375], \"type\": \"point\", \"id\": \"61bebda0d3dcdb61e47a83bb1bd18162818dfd3d\"}, {\"point\": [100.51504516601562, 542.5, 397.4217834472656], \"type\": \"point\", \"id\": \"d48bbe5ecb3e036c3787123debed696d884152ac\"}, {\"point\": [98.32470703125, 543.5, 396.6394958496094], \"type\": \"point\", \"id\": \"a9c83438f1d69b8565f192278a4aef91f80f76d8\"}, {\"point\": [108.02478790283203, 542.5, 398.3605041503906], \"type\": \"point\", \"id\": \"09f77e3610d7638e05767b0cd14c9bfc9e704c4d\"}, {\"point\": [114.4393539428711, 542.5, 399.2991943359375], \"type\": \"point\", \"id\": \"a3458a06c085586f009d557cf4294a52ca478d05\"}, {\"point\": [127.58140563964844, 542.5, 403.5234375], \"type\": \"point\", \"id\": \"86e412917c1c6ced9d3c02825aea89b792ce339e\"}, {\"point\": [133.0572509765625, 542.5, 411.65899658203125], \"type\": \"point\", \"id\": \"50a517e69d70536ca128b41da4777b78b49d62bd\"}, {\"point\": [128.36366271972656, 542.5, 411.5025329589844], \"type\": \"point\", \"id\": \"28a5415ca18b40ec7213df696cac76db29c7561e\"}, {\"point\": [124.13943481445312, 542.5, 410.25091552734375], \"type\": \"point\", \"id\": \"6a39d026ed9b5c9fb9bf488f91f029434fb9536a\"}, {\"point\": [105.05218505859375, 542.5, 405.40087890625], \"type\": \"point\", \"id\": \"d8e617747da21ad662bd78efe7048bc68927d881\"}, {\"point\": [103.64411163330078, 541.5, 381.93292236328125], \"type\": \"point\", \"id\": \"e0de7acba22329edf7f9a354c01f354297891fa0\"}, {\"point\": [99.57633209228516, 541.5, 390.3813781738281], \"type\": \"point\", \"id\": \"9d8747423f2a7c027292b1b6f9581964563f5d41\"}, {\"point\": [103.64410400390625, 541.5, 389.59912109375], \"type\": \"point\", \"id\": \"ede11900b48100fc07bcfb54cf2378aac0a51fe2\"}, {\"point\": [111.15384674072266, 541.5, 400.08148193359375], \"type\": \"point\", \"id\": \"c2a54821d7b08730b021e98307c665ff278c6dcb\"}, {\"point\": [106.46025848388672, 541.5, 406.02667236328125], \"type\": \"point\", \"id\": \"e5d9c7072c0943459741c88c78c7c8eb4c0a3628\"}, {\"point\": [118.82003784179688, 541.5, 409.6250915527344], \"type\": \"point\", \"id\": \"62fed629f333bc3e753e076809f96cb3637463ec\"}, {\"point\": [125.70396423339844, 541.5, 410.0944519042969], \"type\": \"point\", \"id\": \"2b2f7513bc8677f91068d71482e5d0941b3b6fa5\"}, {\"point\": [121.479736328125, 541.5, 409.9380187988281], \"type\": \"point\", \"id\": \"2c609db3d16ad772056b12f2835fbaad3af377a8\"}, {\"point\": [128.36366271972656, 542.5, 411.5025329589844], \"type\": \"point\", \"id\": \"7e1e984cfdfd1c7570ce6e5790b0fa7937b0aa42\"}, {\"point\": [131.80563354492188, 541.5, 410.25091552734375], \"type\": \"point\", \"id\": \"f78b8be42315059ee0f74c0dbe93c138f01cd37d\"}, {\"point\": [129.30238342285156, 541.5, 410.0944519042969], \"type\": \"point\", \"id\": \"fb57269b7aaff7a1afff734ec47cca1f6d5e8ec9\"}, {\"point\": [101.61022186279297, 540.5, 381.1506652832031], \"type\": \"point\", \"id\": \"6a99b4593faa9f212092b17aad0aa470a914cfcc\"}, {\"point\": [101.61022186279297, 540.5, 381.1506652832031], \"type\": \"point\", \"id\": \"6d9f01f04136c66a8fae73da38176eaec4bcc379\"}, {\"point\": [105.05218505859375, 540.5, 381.6200256347656], \"type\": \"point\", \"id\": \"08114f9578b90b0152f1c52a2ff5da770afb14cb\"}, {\"point\": [105.20863342285156, 540.5, 389.2862243652344], \"type\": \"point\", \"id\": \"8e2454a714c5777da53cd9581c66bc420128bc9e\"}, {\"point\": [108.18124389648438, 540.5, 389.44268798828125], \"type\": \"point\", \"id\": \"ce0e78188fd996bccf0bcc8c2fd6e55577a98974\"}, {\"point\": [111.15384674072266, 541.5, 400.08148193359375], \"type\": \"point\", \"id\": \"384f3aeea25d917d2e916bd3a2b521ff6129fea2\"}, {\"point\": [113.03128051757812, 540.5, 400.3943786621094], \"type\": \"point\", \"id\": \"dcd55fdd528384777c101d28427a0e0010c55205\"}, {\"point\": [104.11346435546875, 540.5, 405.08795166015625], \"type\": \"point\", \"id\": \"54b496b4265d57884dfb4634deb0ad6a7d4d06f7\"}, {\"point\": [106.46025848388672, 541.5, 406.02667236328125], \"type\": \"point\", \"id\": \"941e8487c7488ed5331ceffbf0604fe82b8d950f\"}, {\"point\": [117.25550842285156, 540.5, 409.9380187988281], \"type\": \"point\", \"id\": \"3ac4d79736dbaa4cca4cf90f13083f088406c11e\"}, {\"point\": [106.46025848388672, 541.5, 406.02667236328125], \"type\": \"point\", \"id\": \"298d8f871144ec71f3aab6337052114402adb540\"}, {\"point\": [121.479736328125, 541.5, 409.9380187988281], \"type\": \"point\", \"id\": \"318daf8cd2de25c0846008a58ea72c0f7c15226c\"}, {\"point\": [123.04426574707031, 540.5, 410.25091552734375], \"type\": \"point\", \"id\": \"3eeacec27a45bad4b0aa28c1bfb6187424ccc6ba\"}, {\"point\": [127.11204528808594, 540.5, 410.0944519042969], \"type\": \"point\", \"id\": \"fc292a762ba6ce609b3f1846143adfd690b07612\"}, {\"point\": [129.30238342285156, 541.5, 410.0944519042969], \"type\": \"point\", \"id\": \"21849d36d55e0c4f9b0e138c4e993273c9b87458\"}, {\"point\": [133.526611328125, 540.5, 409.9380187988281], \"type\": \"point\", \"id\": \"cc48bd88a397cf7fa71f7e1074de6fed20f6eaff\"}, {\"point\": [109.11995697021484, 539.5, 406.8089599609375], \"type\": \"point\", \"id\": \"c99c809f358bde2edc104ea49cae8520679a2457\"}, {\"point\": [106.77316284179688, 539.5, 405.40087890625], \"type\": \"point\", \"id\": \"d94a29043ba767f52c3028b259c1c078dc379fe8\"}, {\"point\": [106.46025848388672, 539.5, 379.8990478515625], \"type\": \"point\", \"id\": \"6d237aa5eca4002efc27523d8ec0fdf1e010b20c\"}, {\"point\": [103.17475128173828, 539.5, 381.46356201171875], \"type\": \"point\", \"id\": \"c2c3870f54486a83b7f1940ec24eda6573456b93\"}, {\"point\": [108.96350860595703, 539.5, 405.2444152832031], \"type\": \"point\", \"id\": \"e0cb5d487f9a9f08a887b9706eaf0724606a0025\"}, {\"point\": [111.46675109863281, 539.5, 408.0605773925781], \"type\": \"point\", \"id\": \"9dced6cfcdf59a787d27a615fc82bc9c2e74d2b6\"}, {\"point\": [108.96350860595703, 539.5, 405.2444152832031], \"type\": \"point\", \"id\": \"723dbd07290a4ffdfd05ade11871c439d5e3a495\"}, {\"point\": [111.46675109863281, 539.5, 408.0605773925781], \"type\": \"point\", \"id\": \"d9d64b803f85398ba4f9be2d2d02c924292799ba\"}, {\"point\": [109.11995697021484, 539.5, 406.8089599609375], \"type\": \"point\", \"id\": \"20e7cc07473b2d1707f6a3ba44bfeb715b3cf051\"}, {\"point\": [109.12818908691406, 538.5, 408.082275390625], \"type\": \"point\", \"id\": \"9da28037800bd26c9d687baf3f3575f8558b3541\"}, {\"point\": [107.9278793334961, 538.5, 406.4018249511719], \"type\": \"point\", \"id\": \"4785d421b00e34e77445f2bb5ba89f40e358547f\"}, {\"point\": [111.46675109863281, 539.5, 408.0605773925781], \"type\": \"point\", \"id\": \"e78c4193a01df88bcebf16dfd6178c9c79423559\"}, {\"point\": [110.2084732055664, 538.5, 406.6418762207031], \"type\": \"point\", \"id\": \"50903aae732be2e34a9cef16cd8d23dc1717410b\"}]"
      ]
     },
     "execution_count": 10,
     "metadata": {},
     "output_type": "execute_result"
    }
   ],
   "source": [
    "annotations"
   ]
  },
  {
   "cell_type": "code",
   "execution_count": 14,
   "metadata": {},
   "outputs": [],
   "source": [
    "with viewer2.txn() as s:\n",
    "    annotations2 = s.layers[\"annotation\"].annotations"
   ]
  },
  {
   "cell_type": "code",
   "execution_count": 15,
   "metadata": {},
   "outputs": [
    {
     "data": {
      "text/plain": [
       "[{\"point\": [103.9797134399414, 546.5, 381.6834716796875], \"type\": \"point\", \"id\": \"0f3d79d1a85e099dd27c591f9094c3ab201d787d\", \"segments\": [[\"1064\"]]}, {\"point\": [115.26924133300781, 546.5, 381.6834716796875], \"type\": \"point\", \"id\": \"f947cdefb5354b338161d27f9761b4bb126a2618\", \"segments\": [[\"1064\"]]}, {\"point\": [124.11122131347656, 546.5, 381.799072265625], \"type\": \"point\", \"id\": \"fa2f5aefbedc259a3826a5ce48cd369d2f61c7e5\", \"segments\": [[\"1064\"]]}, {\"point\": [131.45254516601562, 546.5, 382.41082763671875], \"type\": \"point\", \"id\": \"19cf5d7ebc8c7107e934d044fc669f8507b559d5\", \"segments\": [[\"1064\"]]}]"
      ]
     },
     "execution_count": 15,
     "metadata": {},
     "output_type": "execute_result"
    }
   ],
   "source": [
    "annotations2"
   ]
  },
  {
   "cell_type": "code",
   "execution_count": 16,
   "metadata": {},
   "outputs": [
    {
     "data": {
      "text/plain": [
       "4"
      ]
     },
     "execution_count": 16,
     "metadata": {},
     "output_type": "execute_result"
    }
   ],
   "source": [
    "len(annotations2)"
   ]
  },
  {
   "cell_type": "code",
   "execution_count": 23,
   "metadata": {},
   "outputs": [
    {
     "name": "stdout",
     "output_type": "stream",
     "text": [
      "ManagedLayer(\"Princeton Mouse Brain Atlas\",{\"type\": \"segmentation\", \"source\": \"precomputed://http://localhost:1338\", \"selectedAlpha\": 0.35, \"name\": \"Princeton Mouse Brain Atlas\"})\n"
     ]
    }
   ],
   "source": [
    "with viewer2.txn() as s:\n",
    "    print(s.layers[\"Princeton Mouse Brain Atlas\"])"
   ]
  },
  {
   "cell_type": "code",
   "execution_count": 18,
   "metadata": {},
   "outputs": [
    {
     "name": "stdout",
     "output_type": "stream",
     "text": [
      "['__class__', '__deepcopy__', '__delattr__', '__dir__', '__doc__', '__eq__', '__format__', '__ge__', '__getattribute__', '__gt__', '__hash__', '__init__', '__init_subclass__', '__le__', '__lt__', '__module__', '__ne__', '__new__', '__reduce__', '__reduce_ex__', '__repr__', '__setattr__', '__sizeof__', '__slots__', '__str__', '__subclasshook__', '_cached_wrappers', '_get_wrapped', '_json_data', '_lock', '_readonly', '_set_wrapped', 'description', 'id', 'point', 'segments', 'supports_readonly', 'to_json', 'type']\n",
      "['__class__', '__deepcopy__', '__delattr__', '__dir__', '__doc__', '__eq__', '__format__', '__ge__', '__getattribute__', '__gt__', '__hash__', '__init__', '__init_subclass__', '__le__', '__lt__', '__module__', '__ne__', '__new__', '__reduce__', '__reduce_ex__', '__repr__', '__setattr__', '__sizeof__', '__slots__', '__str__', '__subclasshook__', '_cached_wrappers', '_get_wrapped', '_json_data', '_lock', '_readonly', '_set_wrapped', 'description', 'id', 'point', 'segments', 'supports_readonly', 'to_json', 'type']\n",
      "['__class__', '__deepcopy__', '__delattr__', '__dir__', '__doc__', '__eq__', '__format__', '__ge__', '__getattribute__', '__gt__', '__hash__', '__init__', '__init_subclass__', '__le__', '__lt__', '__module__', '__ne__', '__new__', '__reduce__', '__reduce_ex__', '__repr__', '__setattr__', '__sizeof__', '__slots__', '__str__', '__subclasshook__', '_cached_wrappers', '_get_wrapped', '_json_data', '_lock', '_readonly', '_set_wrapped', 'description', 'id', 'point', 'segments', 'supports_readonly', 'to_json', 'type']\n",
      "['__class__', '__deepcopy__', '__delattr__', '__dir__', '__doc__', '__eq__', '__format__', '__ge__', '__getattribute__', '__gt__', '__hash__', '__init__', '__init_subclass__', '__le__', '__lt__', '__module__', '__ne__', '__new__', '__reduce__', '__reduce_ex__', '__repr__', '__setattr__', '__sizeof__', '__slots__', '__str__', '__subclasshook__', '_cached_wrappers', '_get_wrapped', '_json_data', '_lock', '_readonly', '_set_wrapped', 'description', 'id', 'point', 'segments', 'supports_readonly', 'to_json', 'type']\n"
     ]
    }
   ],
   "source": [
    "for annotation in annotations2:\n",
    "    print(dir(annotation))"
   ]
  },
  {
   "cell_type": "code",
   "execution_count": 20,
   "metadata": {},
   "outputs": [
    {
     "name": "stdout",
     "output_type": "stream",
     "text": [
      "[103.97971 546.5     381.68347] [[\"1064\"]]\n",
      "[115.26924 546.5     381.68347] [[\"1064\"]]\n",
      "[124.11122 546.5     381.79907] [[\"1064\"]]\n",
      "[131.45255 546.5     382.41083] [[\"1064\"]]\n"
     ]
    }
   ],
   "source": [
    "for annotation in annotations2:\n",
    "    print(annotation.point,annotation.segments)"
   ]
  },
  {
   "cell_type": "code",
   "execution_count": 24,
   "metadata": {},
   "outputs": [
    {
     "name": "stdout",
     "output_type": "stream",
     "text": [
      "Got my-action\n",
      "  Mouse position: None\n",
      "  Layer selected values: Map({})\n",
      "Got my-action\n",
      "  Mouse position: None\n",
      "  Layer selected values: Map({})\n",
      "Got my-action\n",
      "  Mouse position: [114.40497 549.2843  362.64746]\n",
      "  Layer selected values: Map({\"Marlies/m18 555\": {\"value\": 1137}, \"Princeton Mouse Brain Atlas\": {\"value\": {\"key\": \"1064\", \"label\": \"ANcr2: Crus 2\"}}, \"annotation\": {}})\n",
      "Got my-action\n",
      "  Mouse position: [114.40497 552.88275 380.4831 ]\n",
      "  Layer selected values: Map({\"Marlies/m18 555\": {\"value\": 1068}, \"Princeton Mouse Brain Atlas\": {\"value\": {\"key\": \"1064\", \"label\": \"ANcr2: Crus 2\"}}, \"annotation\": {}})\n"
     ]
    }
   ],
   "source": [
    "def my_action(s):\n",
    "    print('Got my-action')\n",
    "    print('  Mouse position: %s' % (s.mouse_voxel_coordinates,))\n",
    "    print('  Layer selected values: %s' % (s.selected_values,))\n",
    "viewer2.actions.add('my-action', my_action)\n",
    "with viewer2.config_state.txn() as s:\n",
    "    s.input_event_bindings.viewer['keyt'] = 'my-action'\n",
    "    s.status_messages['hello'] = 'Welcome to this example'"
   ]
  },
  {
   "cell_type": "code",
   "execution_count": 25,
   "metadata": {},
   "outputs": [
    {
     "data": {
      "text/plain": [
       "'/home/ahoag/Git/lightsheet_helper_scripts/neuroglancer'"
      ]
     },
     "execution_count": 25,
     "metadata": {},
     "output_type": "execute_result"
    }
   ],
   "source": [
    "pwd"
   ]
  },
  {
   "cell_type": "code",
   "execution_count": null,
   "metadata": {},
   "outputs": [],
   "source": [
    "def download_annotations_csv(s):\n",
    "    print(\"Got download_annotations_csv\")\n",
    "    filename='test_annotations.txt'\n",
    "    with open('')\n",
    "    with viewer2.txn() as s:\n",
    "        annotations = s.layers[\"annotation\"].annotations\n",
    "        "
   ]
  },
  {
   "cell_type": "code",
   "execution_count": null,
   "metadata": {},
   "outputs": [],
   "source": [
    "import pandas"
   ]
  }
 ],
 "metadata": {
  "kernelspec": {
   "display_name": "ng",
   "language": "python",
   "name": "ng"
  },
  "language_info": {
   "codemirror_mode": {
    "name": "ipython",
    "version": 3
   },
   "file_extension": ".py",
   "mimetype": "text/x-python",
   "name": "python",
   "nbconvert_exporter": "python",
   "pygments_lexer": "ipython3",
   "version": "3.6.9"
  }
 },
 "nbformat": 4,
 "nbformat_minor": 2
}
