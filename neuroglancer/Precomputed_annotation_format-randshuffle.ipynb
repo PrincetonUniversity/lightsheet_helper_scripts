{
 "cells": [
  {
   "cell_type": "markdown",
   "metadata": {},
   "source": [
    "## Precomputed_annotation_format\n",
    "The purpose of this notebook is to show how to make a precomputed annotation layer from a list of 3d points.\n",
    "Refer to this document: https://github.com/google/neuroglancer/blob/master/src/neuroglancer/datasource/precomputed/annotations.md for general structure (e.g. if you need another type of annotation than points)"
   ]
  },
  {
   "cell_type": "code",
   "execution_count": 1,
   "metadata": {},
   "outputs": [],
   "source": [
    "import numpy as np\n",
    "import os\n",
    "import csv\n",
    "import struct\n",
    "import json\n",
    "from cloudvolume import CloudVolume\n",
    "import matplotlib.pyplot as plt\n",
    "import neuroglancer\n",
    "%matplotlib inline"
   ]
  },
  {
   "cell_type": "code",
   "execution_count": 2,
   "metadata": {},
   "outputs": [],
   "source": [
    "# get the raw-space cells file and load it in\n",
    "animal_id = 4\n",
    "pth=os.path.join('/jukebox/wang/Jess/lightsheet_output',\n",
    "        '201904_ymaze_cfos','processed',f'an{animal_id}','clearmap_cluster_output',\n",
    "        'cells.npy')\n",
    "converted_points = np.load(pth)"
   ]
  },
  {
   "cell_type": "code",
   "execution_count": 3,
   "metadata": {},
   "outputs": [
    {
     "data": {
      "text/plain": [
       "array([[ 459, 1398,   50],\n",
       "       [ 459, 1443,   50],\n",
       "       [ 462, 1412,   49],\n",
       "       ...,\n",
       "       [1546, 1242,  569],\n",
       "       [1547, 1316,  570],\n",
       "       [1646, 1328,  574]])"
      ]
     },
     "execution_count": 3,
     "metadata": {},
     "output_type": "execute_result"
    }
   ],
   "source": [
    "converted_points"
   ]
  },
  {
   "cell_type": "code",
   "execution_count": 4,
   "metadata": {},
   "outputs": [],
   "source": [
    "# Here is a test to show which method is best to use for making the annotation file. \n",
    "# Second method is MUCH faster -- use that one!"
   ]
  },
  {
   "cell_type": "code",
   "execution_count": 10,
   "metadata": {},
   "outputs": [
    {
     "data": {
      "text/plain": [
       "array([[ 495, 1289,   47],\n",
       "       [ 489, 1473,   45],\n",
       "       [ 483, 1453,   49],\n",
       "       [ 467, 1409,   50],\n",
       "       [ 497, 1490,   46],\n",
       "       [ 504, 1293,   45],\n",
       "       [ 459, 1398,   50],\n",
       "       [ 504, 1297,   45],\n",
       "       [ 462, 1412,   49],\n",
       "       [ 478, 1310,   50],\n",
       "       [ 505, 1421,   46],\n",
       "       [ 501, 1244,   50],\n",
       "       [ 506, 1243,   50],\n",
       "       [ 482, 1298,   50],\n",
       "       [ 493, 1503,   47],\n",
       "       [ 509, 1464,   41],\n",
       "       [ 508, 1447,   47],\n",
       "       [ 486, 1406,   45],\n",
       "       [ 507, 1534,   46],\n",
       "       [ 470, 1441,   50],\n",
       "       [ 475, 1447,   46],\n",
       "       [ 506, 1387,   44],\n",
       "       [ 508, 1494,   47],\n",
       "       [ 510, 1232,   50],\n",
       "       [ 484, 1350,   47],\n",
       "       [ 500, 1526,   50],\n",
       "       [ 505, 1565,   50],\n",
       "       [ 503, 1449,   42],\n",
       "       [ 477, 1454,   48],\n",
       "       [ 484, 1344,   46],\n",
       "       [ 502, 1472,   44],\n",
       "       [ 506, 1532,   49],\n",
       "       [ 504, 1396,   42],\n",
       "       [ 475, 1336,   48],\n",
       "       [ 497, 1345,   44],\n",
       "       [ 507, 1226,   50],\n",
       "       [ 480, 1374,   46],\n",
       "       [ 507, 1524,   44],\n",
       "       [ 502, 1382,   43],\n",
       "       [ 505, 1262,   50],\n",
       "       [ 508, 1483,   47],\n",
       "       [ 480, 1347,   49],\n",
       "       [ 506, 1542,   39],\n",
       "       [ 499, 1398,   44],\n",
       "       [ 510, 1262,   48],\n",
       "       [ 487, 1443,   49],\n",
       "       [ 510, 1462,   46],\n",
       "       [ 479, 1429,   46],\n",
       "       [ 499, 1415,   43],\n",
       "       [ 459, 1443,   50],\n",
       "       [ 480, 1443,   48],\n",
       "       [ 497, 1506,   45],\n",
       "       [ 480, 1337,   49],\n",
       "       [ 495, 1328,   45],\n",
       "       [ 489, 1516,   48],\n",
       "       [ 511, 1327,   41],\n",
       "       [ 482, 1448,   46],\n",
       "       [ 504, 1275,   48],\n",
       "       [ 484, 1318,   49],\n",
       "       [ 465, 1434,   49],\n",
       "       [ 506, 1268,   48],\n",
       "       [ 501, 1459,   49],\n",
       "       [ 466, 1423,   48],\n",
       "       [ 489, 1431,   44],\n",
       "       [ 486, 1455,   45],\n",
       "       [ 511, 1365,   42],\n",
       "       [ 471, 1442,   47],\n",
       "       [ 496, 1322,   45],\n",
       "       [ 489, 1338,   47],\n",
       "       [ 509, 1319,   43],\n",
       "       [ 510, 1258,   48],\n",
       "       [ 507, 1353,   42],\n",
       "       [ 499, 1376,   44],\n",
       "       [ 478, 1382,   47],\n",
       "       [ 472, 1329,   47],\n",
       "       [ 497, 1435,   44],\n",
       "       [ 506, 1491,   42],\n",
       "       [ 475, 1493,   50],\n",
       "       [ 490, 1463,   45],\n",
       "       [ 501, 1322,   43],\n",
       "       [ 504, 1358,   42],\n",
       "       [ 509, 1401,   47],\n",
       "       [ 499, 1463,   42],\n",
       "       [ 487, 1323,   48],\n",
       "       [ 490, 1274,   50],\n",
       "       [ 506, 1542,   46],\n",
       "       [ 503, 1466,   41],\n",
       "       [ 484, 1424,   46],\n",
       "       [ 510, 1577,   49],\n",
       "       [ 494, 1462,   46],\n",
       "       [ 488, 1305,   47],\n",
       "       [ 490, 1329,   46],\n",
       "       [ 478, 1356,   48],\n",
       "       [ 476, 1440,   48],\n",
       "       [ 501, 1329,   43],\n",
       "       [ 493, 1338,   45],\n",
       "       [ 510, 1308,   47],\n",
       "       [ 487, 1282,   50],\n",
       "       [ 497, 1272,   50],\n",
       "       [ 508, 1276,   46]])"
      ]
     },
     "execution_count": 10,
     "metadata": {},
     "output_type": "execute_result"
    }
   ],
   "source": [
    "np.random.shuffle(converted_points[0:100])\n",
    "converted_points[0:100]"
   ]
  },
  {
   "cell_type": "code",
   "execution_count": 6,
   "metadata": {},
   "outputs": [],
   "source": [
    "np.random.shuffle(converted_points[0:100])"
   ]
  },
  {
   "cell_type": "code",
   "execution_count": 45,
   "metadata": {},
   "outputs": [
    {
     "name": "stdout",
     "output_type": "stream",
     "text": [
      "wrote /home/ahoag/ngdemo/demo_bucket/201904_ymaze_cfos/rawannotations_an4/spatial0/0_0_0\n",
      "CPU times: user 3.98 s, sys: 16 ms, total: 3.99 s\n",
      "Wall time: 3.97 s\n"
     ]
    }
   ],
   "source": [
    "####################################################\n",
    "### SLOW!! - DO NOT USE - JUST FOR BENCHMARKING! ###\n",
    "####################################################\n",
    "%%time\n",
    "filename = '/home/ahoag/ngdemo/demo_bucket/201904_ymaze_cfos/rawannotations_an4/spatial0/0_0_0'\n",
    "\n",
    "coordinates = converted_points # array like [[x1,y1,z1],[x2,y2,z2],...]\n",
    "total_count = len(coordinates)\n",
    "with open(filename,'wb') as outfile:\n",
    "    buf = struct.pack('<Q',total_count)\n",
    "    for (x,y,z) in coordinates:\n",
    "        pt_buf = struct.pack('<3f',x,y,z)\n",
    "        buf+=pt_buf\n",
    "    id_buf = struct.pack('<%sQ' % len(coordinates), *range(len(coordinates)))\n",
    "    buf+=id_buf\n",
    "    outfile.write(buf)\n",
    "print(f\"wrote {filename}\")"
   ]
  },
  {
   "cell_type": "code",
   "execution_count": 47,
   "metadata": {},
   "outputs": [
    {
     "name": "stdout",
     "output_type": "stream",
     "text": [
      "wrote /home/ahoag/ngdemo/demo_bucket/201904_ymaze_cfos/rawannotations_an4/spatial0/0_0_0\n",
      "CPU times: user 584 ms, sys: 40 ms, total: 624 ms\n",
      "Wall time: 622 ms\n"
     ]
    }
   ],
   "source": [
    "%%time\n",
    "filename = '/home/ahoag/ngdemo/demo_bucket/201904_ymaze_cfos/rawannotations_an4/spatial0/0_0_0'\n",
    "\n",
    "coordinates = converted_points\n",
    "total_count = len(coordinates)\n",
    "with open(filename,'wb') as outfile:\n",
    "    buf = struct.pack('<Q',total_count)\n",
    "    pt_buf = b''.join(struct.pack('<3f',x,y,z) for (x,y,z) in coordinates)\n",
    "    buf += pt_buf\n",
    "    id_buf = struct.pack('<%sQ' % len(coordinates), *range(len(coordinates)))\n",
    "    buf += id_buf\n",
    "    outfile.write(buf)\n",
    "print(f\"wrote {filename}\")"
   ]
  }
 ],
 "metadata": {
  "kernelspec": {
   "display_name": "ng",
   "language": "python",
   "name": "ng"
  },
  "language_info": {
   "codemirror_mode": {
    "name": "ipython",
    "version": 3
   },
   "file_extension": ".py",
   "mimetype": "text/x-python",
   "name": "python",
   "nbconvert_exporter": "python",
   "pygments_lexer": "ipython3",
   "version": "3.8.5"
  }
 },
 "nbformat": 4,
 "nbformat_minor": 2
}
