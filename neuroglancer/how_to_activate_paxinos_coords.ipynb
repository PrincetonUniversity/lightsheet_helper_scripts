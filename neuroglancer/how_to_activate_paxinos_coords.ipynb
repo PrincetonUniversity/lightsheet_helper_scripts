{
 "cells": [
  {
   "cell_type": "markdown",
   "metadata": {},
   "source": [
    "# How to activate paxinos coords\n",
    "\n",
    "\n",
    "It is really straightforward to activate Paxinos coordinates: Simply add the line:\n",
    "```\n",
    "'atlas_type': 'Allen'\n",
    "```\n",
    "to the end of your layer's top level info file. This layer must be aligned to the Allen atlas already in order for the Paxinos coordinates to be meaningful. Here is an example info file which will activate Paxinos coordinates upon being loaded into Neuroglancer:\n",
    "\n",
    "```\n",
    "{\n",
    "  \"data_type\": \"uint16\",\n",
    "  \"num_channels\": 1,\n",
    "  \"scales\": [\n",
    "    {\n",
    "      \"chunk_sizes\": [\n",
    "        [\n",
    "          1024,\n",
    "          1024,\n",
    "          1\n",
    "        ]\n",
    "      ],\n",
    "      \"encoding\": \"raw\",\n",
    "      \"key\": \"25000_25000_25000\",\n",
    "      \"resolution\": [\n",
    "        25000,\n",
    "        25000,\n",
    "        25000\n",
    "      ],\n",
    "      \"size\": [\n",
    "        320,\n",
    "        528,\n",
    "        456\n",
    "      ],\n",
    "      \"voxel_offset\": [\n",
    "        0,\n",
    "        0,\n",
    "        0\n",
    "      ]\n",
    "    }\n",
    "  ],\n",
    "  \"type\": \"image\",\n",
    "  \"atlas_type\": \"Allen\"\n",
    "}\n",
    "```\n",
    "\n",
    "Note: the format of this info file is JSON, and you must have a comma after every key **EXCEPT** the last one. \n",
    "\n",
    "Note: this currently only works for image and segmentation layers. A workaround if you have another type of layer and want to see Paxinos coordiantes is to load the Allen atlas as an extra layer and make it invisible. That should enable Paxinos coordinates. "
   ]
  }
 ],
 "metadata": {
  "kernelspec": {
   "display_name": "ng",
   "language": "python",
   "name": "ng"
  },
  "language_info": {
   "codemirror_mode": {
    "name": "ipython",
    "version": 3
   },
   "file_extension": ".py",
   "mimetype": "text/x-python",
   "name": "python",
   "nbconvert_exporter": "python",
   "pygments_lexer": "ipython3",
   "version": "3.6.9"
  }
 },
 "nbformat": 4,
 "nbformat_minor": 2
}
