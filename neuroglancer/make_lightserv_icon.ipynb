{
 "cells": [
  {
   "cell_type": "code",
   "execution_count": 1,
   "metadata": {},
   "outputs": [],
   "source": [
    "import neuroglancer as ng"
   ]
  },
  {
   "cell_type": "markdown",
   "metadata": {},
   "source": [
    "\n",
    "## Set the neuroglancer client to be one that is hosted locally\n"
   ]
  },
  {
   "cell_type": "code",
   "execution_count": 2,
   "metadata": {},
   "outputs": [],
   "source": [
    "ng.set_static_content_source(url='https://neuroglancer-braincogs.appspot.com')"
   ]
  },
  {
   "cell_type": "markdown",
   "metadata": {},
   "source": [
    "# Load in the raw data into neuroglancer and generate the link"
   ]
  },
  {
   "cell_type": "markdown",
   "metadata": {},
   "source": [
    "## Host the raw-space allen atlas cloudvolume"
   ]
  },
  {
   "cell_type": "markdown",
   "metadata": {},
   "source": [
    "You will need to host this with cloudvolume as was done for the raw data above. Use a different port though, e.g.\n",
    "```python\n",
    "import cloudvolume\n",
    "vol = cloudvolume.Cloudvolume('file:///jukebox/LightSheetTransfer/kelly/neuroglancer/201908_cfos/m61468_observ_rawatlas')\n",
    "vol.viewer(port=1338) # must be a different port than the raw data\n",
    "```\n",
    "Again, make sure to do this outside of this jupyter notebook"
   ]
  },
  {
   "cell_type": "markdown",
   "metadata": {},
   "source": [
    "## Load in the atlas\n",
    "Load in a segmentation layer (e.g. the raw-space allen atlas) that is being hosted with cloudvolume using the same viewer object that you already made. If you go back to the neuroglancer window after running this it should be there in a new layer"
   ]
  },
  {
   "cell_type": "code",
   "execution_count": 3,
   "metadata": {},
   "outputs": [
    {
     "name": "stdout",
     "output_type": "stream",
     "text": [
      "http://127.0.0.1:38859/v/0f9a59e5518cced639c8a8cc7c2b80a5ae461979/\n"
     ]
    }
   ],
   "source": [
    "viewer = ng.Viewer()\n",
    "with viewer.txn() as s:\n",
    "    s.layers['seg'] = ng.SegmentationLayer(source='precomputed://gs://wanglab-pma/allenatlas_2017'\n",
    "    )\n",
    "print(viewer)"
   ]
  },
  {
   "cell_type": "code",
   "execution_count": 4,
   "metadata": {},
   "outputs": [],
   "source": [
    "from PIL import Image"
   ]
  },
  {
   "cell_type": "code",
   "execution_count": 7,
   "metadata": {},
   "outputs": [
    {
     "name": "stdout",
     "output_type": "stream",
     "text": [
      "(1143, 827)\n"
     ]
    }
   ],
   "source": [
    "f='./icon.png'\n",
    "im = Image.open(f)\n",
    "print(im.size)\n",
    "im.thumbnail(size=(50,50))\n",
    "im.save('icon_resized.png')"
   ]
  },
  {
   "cell_type": "code",
   "execution_count": 9,
   "metadata": {},
   "outputs": [
    {
     "name": "stdout",
     "output_type": "stream",
     "text": [
      "(731, 560)\n"
     ]
    }
   ],
   "source": [
    "f='./icon_gs.png'\n",
    "im = Image.open(f)\n",
    "print(im.size)\n",
    "im.thumbnail(size=(60,60))\n",
    "im.save('icon_gs_resized.png')"
   ]
  },
  {
   "cell_type": "code",
   "execution_count": null,
   "metadata": {},
   "outputs": [],
   "source": []
  }
 ],
 "metadata": {
  "kernelspec": {
   "display_name": "ng",
   "language": "python",
   "name": "ng"
  },
  "language_info": {
   "codemirror_mode": {
    "name": "ipython",
    "version": 3
   },
   "file_extension": ".py",
   "mimetype": "text/x-python",
   "name": "python",
   "nbconvert_exporter": "python",
   "pygments_lexer": "ipython3",
   "version": "3.8.5"
  }
 },
 "nbformat": 4,
 "nbformat_minor": 2
}
