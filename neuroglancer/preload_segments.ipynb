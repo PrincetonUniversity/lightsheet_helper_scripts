{
 "cells": [
  {
   "cell_type": "code",
   "execution_count": 4,
   "metadata": {},
   "outputs": [],
   "source": [
    "import neuroglancer\n",
    "import cloudvolume"
   ]
  },
  {
   "cell_type": "code",
   "execution_count": 5,
   "metadata": {},
   "outputs": [],
   "source": [
    "import numpy as np\n",
    "from collections import OrderedDict\n",
    "import webbrowser"
   ]
  },
  {
   "cell_type": "code",
   "execution_count": 6,
   "metadata": {},
   "outputs": [],
   "source": [
    "neuroglancer.set_static_content_source(url='https://neuromancer-seung-import.appspot.com')"
   ]
  },
  {
   "cell_type": "code",
   "execution_count": 10,
   "metadata": {},
   "outputs": [
    {
     "data": {
      "text/plain": [
       "{'data_type': 'uint32',\n",
       " 'mesh': 'mesh_mip_0_err_40',\n",
       " 'num_channels': 1,\n",
       " 'scales': [{'chunk_sizes': [[1024, 1024, 1]],\n",
       "   'encoding': 'raw',\n",
       "   'key': '40000_40000_40000',\n",
       "   'resolution': [40000, 40000, 40000],\n",
       "   'size': [320, 528, 456],\n",
       "   'voxel_offset': [0, 0, 1]}],\n",
       " 'type': 'segmentation'}"
      ]
     },
     "execution_count": 10,
     "metadata": {},
     "output_type": "execute_result"
    }
   ],
   "source": [
    "allen_vol = cloudvolume.CloudVolume('file:///home/ahoag/ngdemo/demo_bucket/atlas/allenatlas/')\n",
    "allen_vol.info"
   ]
  },
  {
   "cell_type": "code",
   "execution_count": 11,
   "metadata": {},
   "outputs": [
    {
     "name": "stderr",
     "output_type": "stream",
     "text": [
      "Downloading: 888it [00:04, 145.28it/s]                         \n"
     ]
    }
   ],
   "source": [
    "allen_data = np.transpose(allen_vol[:][...,0],(2,1,0))"
   ]
  },
  {
   "cell_type": "code",
   "execution_count": 13,
   "metadata": {},
   "outputs": [
    {
     "name": "stdout",
     "output_type": "stream",
     "text": [
      "http://127.0.0.1:33064/v/cb6933ffbdcff6f29e15eaecfdda2bc94691cd74/\n"
     ]
    }
   ],
   "source": [
    "viewer = neuroglancer.Viewer()\n",
    "# This volume handle can be used to notify the viewer that the data has changed.\n",
    "volume = neuroglancer.LocalVolume(\n",
    "         data=allen_data, # need it in z,y,x order, strangely\n",
    "         voxel_size=[25000,25000,25000],\n",
    "         voxel_offset = [0, 0, 500], # x,y,z in nm not voxels\n",
    "         volume_type='segmentation'\n",
    "         )\n",
    "with viewer.txn() as s:\n",
    "    s.layers['segmentation'] = neuroglancer.SegmentationLayer(source=volume\n",
    "    )\n",
    "with viewer.txn() as s:\n",
    "    s.layers[0]._json_data['skeletonRendering']=\\\n",
    "        OrderedDict([('mode2d', 'lines_and_points'), ('mode3d', 'lines')])\n",
    "    s.layers[0]._json_data['segments']=unique_segments\n",
    "print(viewer)"
   ]
  },
  {
   "cell_type": "code",
   "execution_count": 18,
   "metadata": {},
   "outputs": [
    {
     "data": {
      "text/plain": [
       "False"
      ]
     },
     "execution_count": 18,
     "metadata": {},
     "output_type": "execute_result"
    }
   ],
   "source": [
    "688 in unique_segments"
   ]
  },
  {
   "cell_type": "code",
   "execution_count": 19,
   "metadata": {},
   "outputs": [
    {
     "data": {
      "text/plain": [
       "True"
      ]
     },
     "execution_count": 19,
     "metadata": {},
     "output_type": "execute_result"
    }
   ],
   "source": [
    "997 in unique_segments"
   ]
  },
  {
   "cell_type": "code",
   "execution_count": null,
   "metadata": {},
   "outputs": [],
   "source": [
    "viewer"
   ]
  }
 ],
 "metadata": {
  "kernelspec": {
   "display_name": "Python 3",
   "language": "python",
   "name": "python3"
  },
  "language_info": {
   "codemirror_mode": {
    "name": "ipython",
    "version": 2
   },
   "file_extension": ".py",
   "mimetype": "text/x-python",
   "name": "python",
   "nbconvert_exporter": "python",
   "pygments_lexer": "ipython2",
   "version": "2.7.16"
  }
 },
 "nbformat": 4,
 "nbformat_minor": 2
}
