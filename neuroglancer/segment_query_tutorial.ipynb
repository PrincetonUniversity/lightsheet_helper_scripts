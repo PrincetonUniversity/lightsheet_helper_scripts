{
 "cells": [
  {
   "cell_type": "markdown",
   "metadata": {},
   "source": [
    "# segment_query_tutorial\n",
    "This notebook shows how to use the segment query tool from the Neuroglancer Python API "
   ]
  },
  {
   "cell_type": "code",
   "execution_count": 1,
   "metadata": {},
   "outputs": [],
   "source": [
    "import neuroglancer as ng"
   ]
  },
  {
   "cell_type": "code",
   "execution_count": 2,
   "metadata": {},
   "outputs": [],
   "source": [
    "# Use the Princeton neuroglancer client\n",
    "ng.set_static_content_source(url='https://nglancer.pni.princeton.edu')"
   ]
  },
  {
   "cell_type": "code",
   "execution_count": 3,
   "metadata": {
    "scrolled": false
   },
   "outputs": [
    {
     "name": "stdout",
     "output_type": "stream",
     "text": [
      "http://127.0.0.1:37984/v/3f7b29203c91949a82419e378d0ba2ed22998494/\n"
     ]
    }
   ],
   "source": [
    "# Start a web viewer and load in the public Princeton Mouse Atlas layer\n",
    "viewer = ng.Viewer()\n",
    "with viewer.txn() as s:\n",
    "    s.layers['Princeton Mouse Atlas'] = ng.SegmentationLayer(source='precomputed://gs://wanglab-pma/princetonmouse'\n",
    "    )\n",
    "print(viewer)"
   ]
  },
  {
   "cell_type": "code",
   "execution_count": 10,
   "metadata": {},
   "outputs": [],
   "source": [
    "# Click the link above to open up the Neuroglancer web viewer with the Princeton Mouse Atlas loaded in\n",
    "\n",
    "# Make a regex segment query via the API\n",
    "# To select multiple brain regions by their acronyms\n",
    "with viewer.txn() as s:\n",
    "   \n",
    "    # Open up the right hand panel and show the \"Seg.\" tab programmatically\n",
    "    s.selected_layer.layer = 'Princeton Mouse Atlas'\n",
    "    s.selected_layer.visible = True\n",
    "    seglayer = s.layers['Princeton Mouse Atlas']\n",
    "    seglayer.tab = \"segments\"\n",
    "   \n",
    "    # fill the search box programmatically\n",
    "    seglayer.segment_query = \"/^VTA:|^PRNr:|^RN:|^MRN:|^PPN:\"\n"
   ]
  },
  {
   "cell_type": "markdown",
   "metadata": {},
   "source": [
    "After you run the above cell, your viewer should have automatically updated and the search tool bar should be filled with the regex query: \"/^VTA:|^PRNr:|^RN:|^MRN:|^PPN:\". The segments that match the query should be shown below the search bar. If you want to select all of them, check the box to the left of \"5/1330 regexp matches (0 visible)\". To select 1 or several of the five individually, select their checkboxes in the list of matched segments. "
   ]
  },
  {
   "cell_type": "code",
   "execution_count": null,
   "metadata": {},
   "outputs": [],
   "source": []
  }
 ],
 "metadata": {
  "kernelspec": {
   "display_name": "ng",
   "language": "python",
   "name": "ng"
  },
  "language_info": {
   "codemirror_mode": {
    "name": "ipython",
    "version": 3
   },
   "file_extension": ".py",
   "mimetype": "text/x-python",
   "name": "python",
   "nbconvert_exporter": "python",
   "pygments_lexer": "ipython3",
   "version": "3.6.9"
  }
 },
 "nbformat": 4,
 "nbformat_minor": 2
}
