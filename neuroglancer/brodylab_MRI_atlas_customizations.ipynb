{
 "cells": [
  {
   "cell_type": "markdown",
   "metadata": {},
   "source": [
    "# Purpose of this notebook\n",
    "An obstacle for getting started with Neuroglancer is the data formats you can feed it are somewhat unfamiliar. For example, it does not accept TIFF format. It does this for a good reason though which is to be more efficient. One of the formats it accepts is called \"precomputed\" format, and that is the one we will use in this notebook. Fortunately there is a python pipeline for making precomputed data from TIFF files. \n",
    "\n",
    "Neuroglancer also is not set up to read CSV files. Instead, it uses the JSON file format, which essentially look like python dictionaries.\n",
    "\n",
    "This notebook covers how to convert a custom annotated atlas volume (of the same format as the 'WHS_SD_rat_atlas_v3_annotation.tif' file on bucket) to precomputed format so that you can load it in to Neuroglancer. It then covers how to make a 3d mesh from this volume so that the atlas can be viewed in the 3d viewer within Neuroglancer. It also covers how to convert a CSV file formatted like the 'labels_v3.csv' file on bucket containing the region name mapping for the Rat MRI atlas into JSON format so that Neuroglancer can read it and display the region names.\n",
    "\n",
    "In the following I use the original MRI atlas annotation volume and CSV file as an example. To use custom annotation volume and/or custom CSV file, replace the variables at the top of the notebook with your custom ones. The rest of the notebook should not (hopefully!) need to be changed before running.\n",
    "\n",
    "## A quick note about Neuroglancer\n",
    "Neuroglancer loads in datasets in \"layers\". A layer can be of type \"image\" (like what you would get as output from the light sheet microscope) or type \"segmentation\" (like an atlas annotation volume). The naming is a little confusing because both layer types refer to volumes (3-d objects). In this notebook, we are only concerned with a single layer: the annotation volume, which is a segmentation layer. If you were to make multiple annotation volumes (with different boundaries, etc.), each one of those would be a different layer. In Neuroglancer, you can overlay multiple layers or view them side-by-side. "
   ]
  },
  {
   "cell_type": "markdown",
   "metadata": {},
   "source": [
    "# Setup\n",
    "In order to run the code in this notebook, you will need a conda environment with python3 and containing some additional libraries. This environment \"ng_mriatlas\" can be set up in the following way:\n",
    "In terminal:\n",
    "- conda create -n ng_mriatlas python=3.7.4 -y\n",
    "- conda activate ng_mriatlas # (or source activate ng_mriatlas, depending on which version of conda you have)\n",
    "- pip install cloud-volume\n",
    "- pip install SimpleITK\n",
    "- **pip install neuroglancer==2.8** <br>\n",
    "\n",
    "\\# Optional: if you want 3d meshing following the next steps\n",
    "- git clone https://github.com/seung-lab/igneous.git igneous\n",
    "- cd igneous\n",
    "- pip install -r requirements.txt \n",
    "- python setup.py develop\n",
    "\n",
    "\\# To enable you to use jupyter notebooks to work with this environment as a kernel:\n",
    "- pip install --user ipykernel\n",
    "- python -m ipykernel install --user --name=ng_mriatlas\n",
    "\n",
    "Once this is all installed, make sure to select this conda environment as the kernel when running this notebook (you might have to restart the notebook server)"
   ]
  },
  {
   "cell_type": "code",
   "execution_count": 12,
   "metadata": {},
   "outputs": [
    {
     "name": "stdout",
     "output_type": "stream",
     "text": [
      "created /home/ahoag/progs/brodylab/atlas/my_custom_atlas_3d_v2\n",
      "created /home/ahoag/progs/brodylab/atlas/my_custom_atlas_3d_v2/segment_properties\n"
     ]
    }
   ],
   "source": [
    "import os,csv,json\n",
    "import numpy as np\n",
    "from cloudvolume import CloudVolume\n",
    "from cloudvolume.lib import mkdir, touch\n",
    "import SimpleITK as sitk\n",
    "\n",
    "from concurrent.futures import ProcessPoolExecutor\n",
    "\n",
    "import neuroglancer\n",
    "from taskqueue import LocalTaskQueue\n",
    "import igneous.task_creation as tc\n",
    "\n",
    "# Point to the custom annotation volume file that you have modified (in this example we point to the original one) \n",
    "custom_annotation_vol_path = 'WHS_SD_rat_atlas_v3_annotation.tif'\n",
    "\n",
    "# Point to the csv file mapping region id to region name that you have modified (in this example we point to the original one)\n",
    "annotation_csv_file = 'labels_v3.csv'\n",
    "\n",
    "# Decide on a folder name where your layer for this volume is going to live. \n",
    "# IMPORTANT: For each custom atlas you need to change this so you don't \n",
    "# overwrite an old layer. You need the full path here. \n",
    "# In this example my layer folder will be 'my_custom_atlas_3d' saved in the current working directory\n",
    "cwd = os.getcwd()\n",
    "layer_dir = os.path.join(cwd,'my_custom_atlas_3d_v2')\n",
    "# Make the layer directory (mkdir won't overwrite)\n",
    "mkdir(layer_dir)\n",
    "print(f\"created {layer_dir}\")\n",
    "# Make the segment_properties directory as well - needed for our atlas labels later\n",
    "segment_props_dir = os.path.join(layer_dir,'segment_properties')\n",
    "mkdir(segment_props_dir)\n",
    "print(f\"created {segment_props_dir}\")\n",
    "\n",
    "    \n",
    "# Finally, decide how many cpus you are willing and able to use for the parallelized conversion (see step 3)\n",
    "cpus_to_use = 8"
   ]
  },
  {
   "cell_type": "markdown",
   "metadata": {},
   "source": [
    "## Step 1: Convert the CSV annotation file into JSON file that Neuroglancer can read"
   ]
  },
  {
   "cell_type": "markdown",
   "metadata": {},
   "source": [
    "This is an example to illustrate what the format of the final dictionary needs to look like:\n",
    "```python\n",
    "{\"@type\": \"neuroglancer_segment_properties\",\n",
    "    \"inline\": {\"ids\": [\"149\"],\n",
    "               \"properties\":[{\"id\": \"label\", \"type\": \"label\", \"values\":\n",
    "                              [\"PVT: Paraventricular nucleus of the thalamus\"]}]}}\n",
    "```\n",
    "We can use this as a skeleton for our example. The only things we need to change are the \"ids\" and \"properties\" to use our ids and our labels"
   ]
  },
  {
   "cell_type": "code",
   "execution_count": 3,
   "metadata": {},
   "outputs": [],
   "source": [
    "# First let's load our annotations from csv file into a simple dictionary\n",
    "with open(annotation_csv_file,'r') as infile:\n",
    "    reader = csv.reader(infile)\n",
    "    next(reader) # skips the header since we just want the data and we already know what the order of the columns is\n",
    "    annotation_dict = {row[2]:row[1] for row in reader}"
   ]
  },
  {
   "cell_type": "code",
   "execution_count": 4,
   "metadata": {},
   "outputs": [
    {
     "data": {
      "text/plain": [
       "{'0': 'Clear Label',\n",
       " '1': 'descending corticofugal pathways',\n",
       " '2': 'substantia nigra',\n",
       " '3': 'subthalamic nucleus',\n",
       " '4': 'molecular layer of the cerebellum',\n",
       " '5': 'granule cell level of the cerebellum',\n",
       " '6': 'alveus of the hippocampus',\n",
       " '7': 'inferior cerebellar peduncle',\n",
       " '10': 'cingulate cortex, area 2',\n",
       " '30': 'striatum',\n",
       " '31': 'globus pallidus',\n",
       " '32': 'entopeduncular nucleus',\n",
       " '33': 'ventricular system',\n",
       " '34': 'medial lemniscus',\n",
       " '35': 'facial nerve',\n",
       " '36': 'anterior commissure, anterior part',\n",
       " '37': 'anterior commissure, posterior part',\n",
       " '38': 'ventral hippocampal commissure',\n",
       " '39': 'thalamus',\n",
       " '40': 'septal region',\n",
       " '41': 'optic nerve',\n",
       " '42': 'optic tract and optic chiasm',\n",
       " '43': 'pineal gland',\n",
       " '45': 'spinal cord',\n",
       " '46': 'commissure of the superior colliculus',\n",
       " '47': 'brainstem',\n",
       " '48': 'hypothalamic region',\n",
       " '50': 'superficial gray layer of the superior colliculus',\n",
       " '51': 'periaqueductal gray',\n",
       " '52': 'fornix',\n",
       " '53': 'mammillothalamic tract',\n",
       " '54': 'commissural stria terminalis',\n",
       " '55': 'deeper layers of the superior colliculus',\n",
       " '56': 'periventricular gray',\n",
       " '57': 'genu of the facial nerve',\n",
       " '58': 'pontine nuclei',\n",
       " '59': 'fimbria of the hippocampus',\n",
       " '60': 'fasciculus retroflexus',\n",
       " '61': 'stria medullaris of the thalamus',\n",
       " '62': 'stria terminalis',\n",
       " '63': 'posterior commissure',\n",
       " '64': 'glomerular layer of the accessory olfactory bulb',\n",
       " '65': 'glomerular layer of the olfactory bulb',\n",
       " '66': 'olfactory bulb',\n",
       " '67': 'corpus callosum and associated subcortical white matter',\n",
       " '68': 'brachium of the superior colliculus',\n",
       " '69': 'inferior colliculus, commissure',\n",
       " '70': 'central canal',\n",
       " '71': 'interpeduncular nucleus',\n",
       " '72': 'ascending fibers of the facial nerve',\n",
       " '73': 'anterior commissure',\n",
       " '74': 'inferior olive',\n",
       " '75': 'spinal trigeminal nucleus',\n",
       " '76': 'spinal trigeminal tract',\n",
       " '77': 'frontal association cortex',\n",
       " '78': 'middle cerebellar peduncle',\n",
       " '79': 'transverse fibers of the pons',\n",
       " '80': 'habenular commissure',\n",
       " '81': 'nucleus of the stria medullaris',\n",
       " '82': 'basal forebrain region',\n",
       " '83': 'supraoptic decussation',\n",
       " '84': 'medial lemniscus decussation',\n",
       " '85': 'pyramidal decussation',\n",
       " '92': 'neocortex',\n",
       " '93': 'bed nucleus of the stria terminalis',\n",
       " '94': 'pretectal region',\n",
       " '95': 'cornu ammonis 3',\n",
       " '96': 'dentate gyrus',\n",
       " '97': 'cornu ammonis 2',\n",
       " '98': 'cornu ammonis 1',\n",
       " '99': 'fasciola cinereum',\n",
       " '100': 'subiculum',\n",
       " '108': 'postrhinal cortex',\n",
       " '109': 'presubiculum',\n",
       " '110': 'parasubiculum',\n",
       " '112': 'perirhinal area 35',\n",
       " '113': 'perirhinal area 36',\n",
       " '114': 'entorhinal cortex',\n",
       " '115': 'lateral entorhinal cortex',\n",
       " '119': 'vestibular apparatus',\n",
       " '120': 'cochlea',\n",
       " '121': 'cochlear nerve',\n",
       " '122': 'vestibular nerve',\n",
       " '123': 'ventral cochlear nucleus, granule cell layer',\n",
       " '125': '4th ventricle',\n",
       " '126': 'dorsal cochlear nucleus, molecular layer',\n",
       " '127': 'dorsal cochlear nucleus, fusiform and granule layer',\n",
       " '128': 'dorsal cochlear nucleus, deep core',\n",
       " '129': 'acoustic striae',\n",
       " '130': 'trapezoid body',\n",
       " '131': 'nucleus of the trapezoid body',\n",
       " '132': 'superior paraolivary nucleus',\n",
       " '133': 'medial superior olive',\n",
       " '134': 'lateral superior olive',\n",
       " '135': 'superior periolivary region',\n",
       " '136': 'ventral periolivary nuclei',\n",
       " '137': 'lateral lemniscus, ventral nucleus',\n",
       " '138': 'lateral lemniscus, intermediate nucleus',\n",
       " '139': 'lateral lemniscus, dorsal nucleus',\n",
       " '140': 'lateral lemniscus, commissure',\n",
       " '141': 'lateral lemniscus',\n",
       " '142': 'inferior colliculus, dorsal cortex',\n",
       " '143': 'inferior colliculus, central nucleus',\n",
       " '145': 'inferior colliculus, external cortex',\n",
       " '146': 'inferior colliculus, brachium',\n",
       " '147': 'medial geniculate body, medial division',\n",
       " '148': 'medial geniculate body, dorsal division',\n",
       " '149': 'medial geniculate body, ventral division',\n",
       " '150': 'medial geniculate body, marginal zone',\n",
       " '151': 'primary auditory cortex',\n",
       " '152': 'secondary auditory cortex, dorsal area',\n",
       " '153': 'secondary auditory cortex, ventral area',\n",
       " '157': 'auditory radiation',\n",
       " '158': 'ventral cochlear nucleus, anterior part',\n",
       " '159': 'ventral cochlear nucleus, posterior part',\n",
       " '160': 'ventral cochlear nucleus, cap area',\n",
       " '162': 'spiral ganglion',\n",
       " '163': 'nucleus sagulum',\n",
       " '164': 'reticular thalamic nucleus, auditory segment'}"
      ]
     },
     "execution_count": 4,
     "metadata": {},
     "output_type": "execute_result"
    }
   ],
   "source": [
    "# let's look at it to make sure it worked\n",
    "annotation_dict"
   ]
  },
  {
   "cell_type": "markdown",
   "metadata": {},
   "source": [
    "So we see that the IDs are the keys and labels are the values of this dictionary. Now let's make the segment properties dictionary like the skeleton above but now using our proper ids and labels "
   ]
  },
  {
   "cell_type": "code",
   "execution_count": 14,
   "metadata": {},
   "outputs": [],
   "source": [
    "segment_properties_dict = {\"@type\": \"neuroglancer_segment_properties\",\n",
    "    \"inline\": {\"ids\": list(annotation_dict.keys()),\n",
    "               \"properties\":[{\"id\": \"label\", \"type\": \"label\", \"values\":\n",
    "                              list(annotation_dict.values())}]}}"
   ]
  },
  {
   "cell_type": "code",
   "execution_count": 15,
   "metadata": {},
   "outputs": [
    {
     "data": {
      "text/plain": [
       "{'@type': 'neuroglancer_segment_properties',\n",
       " 'inline': {'ids': ['0',\n",
       "   '1',\n",
       "   '2',\n",
       "   '3',\n",
       "   '4',\n",
       "   '5',\n",
       "   '6',\n",
       "   '7',\n",
       "   '10',\n",
       "   '30',\n",
       "   '31',\n",
       "   '32',\n",
       "   '33',\n",
       "   '34',\n",
       "   '35',\n",
       "   '36',\n",
       "   '37',\n",
       "   '38',\n",
       "   '39',\n",
       "   '40',\n",
       "   '41',\n",
       "   '42',\n",
       "   '43',\n",
       "   '45',\n",
       "   '46',\n",
       "   '47',\n",
       "   '48',\n",
       "   '50',\n",
       "   '51',\n",
       "   '52',\n",
       "   '53',\n",
       "   '54',\n",
       "   '55',\n",
       "   '56',\n",
       "   '57',\n",
       "   '58',\n",
       "   '59',\n",
       "   '60',\n",
       "   '61',\n",
       "   '62',\n",
       "   '63',\n",
       "   '64',\n",
       "   '65',\n",
       "   '66',\n",
       "   '67',\n",
       "   '68',\n",
       "   '69',\n",
       "   '70',\n",
       "   '71',\n",
       "   '72',\n",
       "   '73',\n",
       "   '74',\n",
       "   '75',\n",
       "   '76',\n",
       "   '77',\n",
       "   '78',\n",
       "   '79',\n",
       "   '80',\n",
       "   '81',\n",
       "   '82',\n",
       "   '83',\n",
       "   '84',\n",
       "   '85',\n",
       "   '92',\n",
       "   '93',\n",
       "   '94',\n",
       "   '95',\n",
       "   '96',\n",
       "   '97',\n",
       "   '98',\n",
       "   '99',\n",
       "   '100',\n",
       "   '108',\n",
       "   '109',\n",
       "   '110',\n",
       "   '112',\n",
       "   '113',\n",
       "   '114',\n",
       "   '115',\n",
       "   '119',\n",
       "   '120',\n",
       "   '121',\n",
       "   '122',\n",
       "   '123',\n",
       "   '125',\n",
       "   '126',\n",
       "   '127',\n",
       "   '128',\n",
       "   '129',\n",
       "   '130',\n",
       "   '131',\n",
       "   '132',\n",
       "   '133',\n",
       "   '134',\n",
       "   '135',\n",
       "   '136',\n",
       "   '137',\n",
       "   '138',\n",
       "   '139',\n",
       "   '140',\n",
       "   '141',\n",
       "   '142',\n",
       "   '143',\n",
       "   '145',\n",
       "   '146',\n",
       "   '147',\n",
       "   '148',\n",
       "   '149',\n",
       "   '150',\n",
       "   '151',\n",
       "   '152',\n",
       "   '153',\n",
       "   '157',\n",
       "   '158',\n",
       "   '159',\n",
       "   '160',\n",
       "   '162',\n",
       "   '163',\n",
       "   '164'],\n",
       "  'properties': [{'id': 'label',\n",
       "    'type': 'label',\n",
       "    'values': ['Clear Label',\n",
       "     'descending corticofugal pathways',\n",
       "     'substantia nigra',\n",
       "     'subthalamic nucleus',\n",
       "     'molecular layer of the cerebellum',\n",
       "     'granule cell level of the cerebellum',\n",
       "     'alveus of the hippocampus',\n",
       "     'inferior cerebellar peduncle',\n",
       "     'cingulate cortex, area 2',\n",
       "     'striatum',\n",
       "     'globus pallidus',\n",
       "     'entopeduncular nucleus',\n",
       "     'ventricular system',\n",
       "     'medial lemniscus',\n",
       "     'facial nerve',\n",
       "     'anterior commissure, anterior part',\n",
       "     'anterior commissure, posterior part',\n",
       "     'ventral hippocampal commissure',\n",
       "     'thalamus',\n",
       "     'septal region',\n",
       "     'optic nerve',\n",
       "     'optic tract and optic chiasm',\n",
       "     'pineal gland',\n",
       "     'spinal cord',\n",
       "     'commissure of the superior colliculus',\n",
       "     'brainstem',\n",
       "     'hypothalamic region',\n",
       "     'superficial gray layer of the superior colliculus',\n",
       "     'periaqueductal gray',\n",
       "     'fornix',\n",
       "     'mammillothalamic tract',\n",
       "     'commissural stria terminalis',\n",
       "     'deeper layers of the superior colliculus',\n",
       "     'periventricular gray',\n",
       "     'genu of the facial nerve',\n",
       "     'pontine nuclei',\n",
       "     'fimbria of the hippocampus',\n",
       "     'fasciculus retroflexus',\n",
       "     'stria medullaris of the thalamus',\n",
       "     'stria terminalis',\n",
       "     'posterior commissure',\n",
       "     'glomerular layer of the accessory olfactory bulb',\n",
       "     'glomerular layer of the olfactory bulb',\n",
       "     'olfactory bulb',\n",
       "     'corpus callosum and associated subcortical white matter',\n",
       "     'brachium of the superior colliculus',\n",
       "     'inferior colliculus, commissure',\n",
       "     'central canal',\n",
       "     'interpeduncular nucleus',\n",
       "     'ascending fibers of the facial nerve',\n",
       "     'anterior commissure',\n",
       "     'inferior olive',\n",
       "     'spinal trigeminal nucleus',\n",
       "     'spinal trigeminal tract',\n",
       "     'frontal association cortex',\n",
       "     'middle cerebellar peduncle',\n",
       "     'transverse fibers of the pons',\n",
       "     'habenular commissure',\n",
       "     'nucleus of the stria medullaris',\n",
       "     'basal forebrain region',\n",
       "     'supraoptic decussation',\n",
       "     'medial lemniscus decussation',\n",
       "     'pyramidal decussation',\n",
       "     'neocortex',\n",
       "     'bed nucleus of the stria terminalis',\n",
       "     'pretectal region',\n",
       "     'cornu ammonis 3',\n",
       "     'dentate gyrus',\n",
       "     'cornu ammonis 2',\n",
       "     'cornu ammonis 1',\n",
       "     'fasciola cinereum',\n",
       "     'subiculum',\n",
       "     'postrhinal cortex',\n",
       "     'presubiculum',\n",
       "     'parasubiculum',\n",
       "     'perirhinal area 35',\n",
       "     'perirhinal area 36',\n",
       "     'entorhinal cortex',\n",
       "     'lateral entorhinal cortex',\n",
       "     'vestibular apparatus',\n",
       "     'cochlea',\n",
       "     'cochlear nerve',\n",
       "     'vestibular nerve',\n",
       "     'ventral cochlear nucleus, granule cell layer',\n",
       "     '4th ventricle',\n",
       "     'dorsal cochlear nucleus, molecular layer',\n",
       "     'dorsal cochlear nucleus, fusiform and granule layer',\n",
       "     'dorsal cochlear nucleus, deep core',\n",
       "     'acoustic striae',\n",
       "     'trapezoid body',\n",
       "     'nucleus of the trapezoid body',\n",
       "     'superior paraolivary nucleus',\n",
       "     'medial superior olive',\n",
       "     'lateral superior olive',\n",
       "     'superior periolivary region',\n",
       "     'ventral periolivary nuclei',\n",
       "     'lateral lemniscus, ventral nucleus',\n",
       "     'lateral lemniscus, intermediate nucleus',\n",
       "     'lateral lemniscus, dorsal nucleus',\n",
       "     'lateral lemniscus, commissure',\n",
       "     'lateral lemniscus',\n",
       "     'inferior colliculus, dorsal cortex',\n",
       "     'inferior colliculus, central nucleus',\n",
       "     'inferior colliculus, external cortex',\n",
       "     'inferior colliculus, brachium',\n",
       "     'medial geniculate body, medial division',\n",
       "     'medial geniculate body, dorsal division',\n",
       "     'medial geniculate body, ventral division',\n",
       "     'medial geniculate body, marginal zone',\n",
       "     'primary auditory cortex',\n",
       "     'secondary auditory cortex, dorsal area',\n",
       "     'secondary auditory cortex, ventral area',\n",
       "     'auditory radiation',\n",
       "     'ventral cochlear nucleus, anterior part',\n",
       "     'ventral cochlear nucleus, posterior part',\n",
       "     'ventral cochlear nucleus, cap area',\n",
       "     'spiral ganglion',\n",
       "     'nucleus sagulum',\n",
       "     'reticular thalamic nucleus, auditory segment']}]}}"
      ]
     },
     "execution_count": 15,
     "metadata": {},
     "output_type": "execute_result"
    }
   ],
   "source": [
    "# inspect it to make sure it worked\n",
    "segment_properties_dict"
   ]
  },
  {
   "cell_type": "markdown",
   "metadata": {},
   "source": [
    "Now all we need to do is save this as a file called \"info\" in a subfolder of our main layer directory called \"segment_properties\""
   ]
  },
  {
   "cell_type": "code",
   "execution_count": 17,
   "metadata": {},
   "outputs": [
    {
     "name": "stdout",
     "output_type": "stream",
     "text": [
      "Saved /home/ahoag/progs/brodylab/atlas/my_custom_atlas_3d_v2/segment_properties/info\n"
     ]
    }
   ],
   "source": [
    "filename = os.path.join(layer_dir,\"segment_properties\",\"info\")\n",
    "with open(filename,'w') as outfile:\n",
    "    json.dump(segment_properties_dict,outfile,indent=2)\n",
    "print(f\"Saved {filename}\")"
   ]
  },
  {
   "cell_type": "code",
   "execution_count": null,
   "metadata": {},
   "outputs": [],
   "source": [
    "# Feel free to inspect that file yourself to make sure it looks like the segment_properties_dict above"
   ]
  },
  {
   "cell_type": "markdown",
   "metadata": {},
   "source": [
    "## Step 2: Write the instructions (\"info\") file that will tell Neuroglancer about your annotation volume and the annotation label file you just created\n",
    "In the last step we created an info file inside the \"segment_properties\" subdirectory of our layer. Now we need to create an info file in the layer directory itself. This info file is also a JSON file, but it contains more general things about our layer like the shape and physical resolution of the volume. It will also have an instruction on where to find our segment properties info file that we just made. "
   ]
  },
  {
   "cell_type": "code",
   "execution_count": 20,
   "metadata": {},
   "outputs": [],
   "source": [
    "def make_info_file(resolution_xyz,volume_size_xyz,layer_dir):\n",
    "    \"\"\" Make an JSON-formatted file called the \"info\" file\n",
    "    for use with the precomputed data format. \n",
    "    Precomputed is one of the formats that Neuroglancer can read in.  \n",
    "    --- parameters ---\n",
    "    resolution_xyz:      A tuple representing the size of the pixels (dx,dy,dz) \n",
    "                         in nanometers, e.g. (20000,20000,5000) for 20 micron x 20 micron x 5 micron\n",
    "    \n",
    "    volume_size_xyz:     A tuple representing the number of pixels in each dimension (Nx,Ny,Nz)\n",
    "\n",
    "                         \n",
    "    layer_dir:           The directory where the precomputed data will be\n",
    "                         saved\n",
    "    \"\"\"\n",
    "    info = CloudVolume.create_new_info(\n",
    "        num_channels = 1,\n",
    "        layer_type = 'segmentation', # 'image' or 'segmentation'\n",
    "        data_type = 'uint16', # 32-bit not necessary for atlases unless you have > 2^(32)-1 labels. Use smallest possible  \n",
    "        encoding = 'raw', # other options: 'jpeg', 'compressed_segmentation' (req. uint32 or uint64)\n",
    "        resolution = resolution_xyz, # X,Y,Z values in nanometers, 40 microns in each dim\n",
    "        voxel_offset = [ 0, 0, 0 ], # values X,Y,Z values in voxels\n",
    "        chunk_size = [ 1024, 1024, 1 ], # rechunk of image X,Y,Z in voxels.\n",
    "        volume_size = volume_size_xyz, # X,Y,Z size in voxels\n",
    "    )\n",
    "\n",
    "    vol = CloudVolume(f'file://{layer_dir}', info=info)\n",
    "    vol.provenance.description = \"A test info file\" # can change this if you want a description\n",
    "    vol.provenance.owners = [''] # list of contact email addresses\n",
    "    # Saves the info and provenance files for the first time\n",
    "    vol.commit_info() # generates file://bucket/dataset/layer/info json file\n",
    "    vol.commit_provenance() # generates file://bucket/dataset/layer/provenance json file\n",
    "    # add a key for the segment properties that points to the directory that holds the segment properties info file\n",
    "    info_dict = vol.info\n",
    "    info_dict['segment_properties'] = \"segment_properties\"\n",
    "    info_filename = '/'.join(vol.info_cloudpath.split('/')[2:]) \n",
    "    with open(info_filename,'w') as outfile:\n",
    "        json.dump(info_dict,outfile,sort_keys=True,indent=2)\n",
    "    print(\"Created CloudVolume info file: \",vol.info_cloudpath)\n",
    "\n",
    "    return vol"
   ]
  },
  {
   "cell_type": "code",
   "execution_count": 21,
   "metadata": {},
   "outputs": [
    {
     "name": "stdout",
     "output_type": "stream",
     "text": [
      "Created CloudVolume info file:  file:///home/ahoag/progs/brodylab/atlas/my_custom_atlas_3d_v2/info\n"
     ]
    }
   ],
   "source": [
    "## Make the info file\n",
    "\n",
    "# The MRI atlas has 39 micron isotropic resolution - we need nanometers though\n",
    "resolution_xyz = (39000,39000,39000)\n",
    "# Load the MRI annotation volume into memory and get its shape \n",
    "annotation_vol = np.array(sitk.GetArrayFromImage(\n",
    "    sitk.ReadImage(custom_annotation_vol_path)),dtype=np.uint16,order='F')\n",
    "z_dim,y_dim,x_dim = annotation_vol.shape\n",
    "volume_size_xyz = (x_dim,y_dim,z_dim)\n",
    "\n",
    "# Write the info file\n",
    "vol = make_info_file(\n",
    "    resolution_xyz=resolution_xyz,\n",
    "    volume_size_xyz=volume_size_xyz,\n",
    "    layer_dir=layer_dir)\n"
   ]
  },
  {
   "cell_type": "markdown",
   "metadata": {},
   "source": [
    "# Step 3: Convert annotation volume to precomputed data format\n",
    "First we create a directory (the \"progress_dir\") at the same folder level as the layer directory to keep track of the progress of the conversion. \n",
    "All the conversion does is copy the numpy array representing the 3d volume to a new object \"vol\". This is done one plane at a time (although it is parallelized). As each plane is converted, an empty file is created in the progress_dir with the name of the plane. By the end of the conversion, there should be as many files in this progress_dir as there are z planes. "
   ]
  },
  {
   "cell_type": "code",
   "execution_count": 22,
   "metadata": {},
   "outputs": [
    {
     "name": "stdout",
     "output_type": "stream",
     "text": [
      "created directory: /home/ahoag/progs/brodylab/atlas/progress_my_custom_atlas_3d_v2\n"
     ]
    }
   ],
   "source": [
    "layer_name = layer_dir.split('/')[-1]\n",
    "parent_dir = '/'.join(layer_dir.split('/')[:-1])\n",
    "progress_dir = mkdir(parent_dir+ f'/progress_{layer_name}') # unlike os.mkdir doesn't crash on prexisting \n",
    "print(f\"created directory: {progress_dir}\")"
   ]
  },
  {
   "cell_type": "code",
   "execution_count": 23,
   "metadata": {},
   "outputs": [],
   "source": [
    "def process_slice(z):\n",
    "    \"\"\" This function copies a 2d image slice from the atlas volume\n",
    "    to the cloudvolume object, vol. We will run this in parallel over \n",
    "    all z planes\n",
    "    ---parameters---\n",
    "    z:    An integer representing the 0-indexed z plane to be converted\n",
    "    \"\"\"\n",
    "    if os.path.exists(os.path.join(progress_dir, str(z))):\n",
    "        print(f\"Slice {z} already processed, skipping \")\n",
    "        return\n",
    "    if z >= z_dim: # z is zero indexed and runs from 0-(z_dim-1)\n",
    "        print(\"Index {z} >= z_dim of volume, skipping\")\n",
    "        return\n",
    "    print('Processing slice z=',z)\n",
    "    array = annotation_vol[z].reshape((1,y_dim,x_dim)).T\n",
    "    vol[:,:, z] = array\n",
    "    touch(os.path.join(progress_dir, str(z)))\n",
    "    return \"success\"\n"
   ]
  },
  {
   "cell_type": "code",
   "execution_count": 24,
   "metadata": {},
   "outputs": [
    {
     "name": "stdout",
     "output_type": "stream",
     "text": [
      "Have 455 planes to upload\n",
      "Processing slice z= 1\n",
      "Processing slice z= 0\n",
      "Processing slice z= 3\n",
      "Processing slice z= 2\n",
      "Processing slice z= 6\n",
      "Processing slice z= 7\n",
      "Processing slice z= 5\n",
      "Processing slice z= 4\n"
     ]
    },
    {
     "name": "stderr",
     "output_type": "stream",
     "text": [
      "Uploading:   0%|          | 0/1 [00:00<?, ?it/s]\n",
      "Uploading:   0%|          | 0/1 [00:00<?, ?it/s]\u001b[A\n",
      "Uploading:   0%|          | 0/1 [00:00<?, ?it/s]\u001b[A\n",
      "Uploading:   0%|          | 0/1 [00:00<?, ?it/s]\u001b[A\n",
      "Uploading:   0%|          | 0/1 [00:00<?, ?it/s]\u001b[A\n",
      "Uploading:   0%|          | 0/1 [00:00<?, ?it/s]\u001b[A\n",
      "Uploading:   0%|          | 0/1 [00:00<?, ?it/s]\u001b[A\n",
      "Uploading: 100%|██████████| 1/1 [00:00<00:00, 66.58it/s]\n",
      "\n",
      "Uploading: 100%|██████████| 1/1 [00:00<00:00, 59.23it/s]\n",
      "Uploading: 100%|██████████| 1/1 [00:00<00:00, 65.35it/s]\n",
      "Uploading: 100%|██████████| 1/1 [00:00<00:00, 69.79it/s]\n",
      "Uploading: 100%|██████████| 1/1 [00:00<00:00, 72.49it/s]\n",
      "Uploading: 100%|██████████| 1/1 [00:00<00:00, 97.97it/s]\n",
      "Uploading: 100%|██████████| 1/1 [00:00<00:00, 72.63it/s]\n",
      "Uploading: 100%|██████████| 1/1 [00:00<00:00, 20.65it/s]\n",
      "Uploading: 100%|██████████| 1/1 [00:00<00:00, 90.56it/s]"
     ]
    },
    {
     "name": "stdout",
     "output_type": "stream",
     "text": [
      "Processing slice z= 8\n"
     ]
    },
    {
     "name": "stderr",
     "output_type": "stream",
     "text": [
      "\n",
      "Uploading: 100%|██████████| 1/1 [00:00<00:00, 18.52it/s]\n",
      "Uploading: 100%|██████████| 1/1 [00:00<00:00, 15.70it/s]"
     ]
    },
    {
     "name": "stdout",
     "output_type": "stream",
     "text": [
      "Processing slice z= 9\n"
     ]
    },
    {
     "name": "stderr",
     "output_type": "stream",
     "text": [
      "\n",
      "Uploading:   0%|          | 0/1 [00:00<?, ?it/s]"
     ]
    },
    {
     "name": "stdout",
     "output_type": "stream",
     "text": [
      "Processing slice z= 10\n"
     ]
    },
    {
     "name": "stderr",
     "output_type": "stream",
     "text": [
      "Uploading: 100%|██████████| 1/1 [00:00<00:00, 15.28it/s]\n",
      "Uploading: 100%|██████████| 1/1 [00:00<00:00, 15.68it/s]"
     ]
    },
    {
     "name": "stdout",
     "output_type": "stream",
     "text": [
      "Processing slice z= 11\n"
     ]
    },
    {
     "name": "stderr",
     "output_type": "stream",
     "text": [
      "\n"
     ]
    },
    {
     "name": "stdout",
     "output_type": "stream",
     "text": [
      "Processing slice z= 12\n"
     ]
    },
    {
     "name": "stderr",
     "output_type": "stream",
     "text": [
      "Uploading: 100%|██████████| 1/1 [00:00<00:00, 17.69it/s]\n"
     ]
    },
    {
     "name": "stdout",
     "output_type": "stream",
     "text": [
      "Processing slice z= 13\n"
     ]
    },
    {
     "name": "stderr",
     "output_type": "stream",
     "text": [
      "Uploading: 100%|██████████| 1/1 [00:00<00:00, 13.16it/s]\n"
     ]
    },
    {
     "name": "stdout",
     "output_type": "stream",
     "text": [
      "Processing slice z= 14\n"
     ]
    },
    {
     "name": "stderr",
     "output_type": "stream",
     "text": [
      "Uploading: 100%|██████████| 1/1 [00:00<00:00, 14.79it/s]\n",
      "Uploading:   0%|          | 0/1 [00:00<?, ?it/s]"
     ]
    },
    {
     "name": "stdout",
     "output_type": "stream",
     "text": [
      "Processing slice z= 15\n"
     ]
    },
    {
     "name": "stderr",
     "output_type": "stream",
     "text": [
      "Uploading:   0%|          | 0/1 [00:00<?, ?it/s]\n",
      "Uploading: 100%|██████████| 1/1 [00:00<00:00, 142.05it/s]\n",
      "Uploading:   0%|          | 0/1 [00:00<?, ?it/s]\n",
      "Uploading:   0%|          | 0/1 [00:00<?, ?it/s]\u001b[A\n",
      "Uploading:   0%|          | 0/1 [00:00<?, ?it/s]\u001b[A\n",
      "Uploading:   0%|          | 0/1 [00:00<?, ?it/s]\u001b[A\n",
      "Uploading:   0%|          | 0/1 [00:00<?, ?it/s]\u001b[A\n",
      "Uploading: 100%|██████████| 1/1 [00:00<00:00, 17.73it/s]\n"
     ]
    },
    {
     "name": "stdout",
     "output_type": "stream",
     "text": [
      "Processing slice z= 16\n"
     ]
    },
    {
     "name": "stderr",
     "output_type": "stream",
     "text": [
      "Uploading: 100%|██████████| 1/1 [00:00<00:00, 106.30it/s]\n",
      "Uploading: 100%|██████████| 1/1 [00:00<00:00, 76.34it/s]\n",
      "\n",
      "Uploading:   0%|          | 0/1 [00:00<?, ?it/s]\u001b[A\n",
      "Uploading: 100%|██████████| 1/1 [00:00<00:00, 85.39it/s]\n",
      "Uploading: 100%|██████████| 1/1 [00:00<00:00, 39.55it/s]\n",
      "Uploading: 100%|██████████| 1/1 [00:00<00:00, 52.45it/s]\n",
      "Uploading: 100%|██████████| 1/1 [00:00<00:00, 96.87it/s]\n",
      "Uploading: 100%|██████████| 1/1 [00:00<00:00, 17.81it/s]\n",
      "Uploading:   0%|          | 0/1 [00:00<?, ?it/s]"
     ]
    },
    {
     "name": "stdout",
     "output_type": "stream",
     "text": [
      "Processing slice z= 17\n"
     ]
    },
    {
     "name": "stderr",
     "output_type": "stream",
     "text": [
      "Uploading: 100%|██████████| 1/1 [00:00<00:00, 16.15it/s]\n"
     ]
    },
    {
     "name": "stdout",
     "output_type": "stream",
     "text": [
      "Processing slice z= 18\n"
     ]
    },
    {
     "name": "stderr",
     "output_type": "stream",
     "text": [
      "Uploading: 100%|██████████| 1/1 [00:00<00:00, 69.70it/s]\n",
      "Uploading: 100%|██████████| 1/1 [00:00<00:00, 14.98it/s]\n"
     ]
    },
    {
     "name": "stdout",
     "output_type": "stream",
     "text": [
      "Processing slice z= 19\n"
     ]
    },
    {
     "name": "stderr",
     "output_type": "stream",
     "text": [
      "Uploading: 100%|██████████| 1/1 [00:00<00:00, 13.47it/s]\n",
      "Uploading:   0%|          | 0/1 [00:00<?, ?it/s]"
     ]
    },
    {
     "name": "stdout",
     "output_type": "stream",
     "text": [
      "Processing slice z= 20\n"
     ]
    },
    {
     "name": "stderr",
     "output_type": "stream",
     "text": [
      "Uploading: 100%|██████████| 1/1 [00:00<00:00, 13.47it/s]\n"
     ]
    },
    {
     "name": "stdout",
     "output_type": "stream",
     "text": [
      "Processing slice z= 21\n"
     ]
    },
    {
     "name": "stderr",
     "output_type": "stream",
     "text": [
      "Uploading: 100%|██████████| 1/1 [00:00<00:00, 16.05it/s]\n",
      "Uploading:   0%|          | 0/1 [00:00<?, ?it/s]"
     ]
    },
    {
     "name": "stdout",
     "output_type": "stream",
     "text": [
      "Processing slice z= 22\n"
     ]
    },
    {
     "name": "stderr",
     "output_type": "stream",
     "text": [
      "\n",
      "Uploading: 100%|██████████| 1/1 [00:00<00:00, 14.12it/s]\n"
     ]
    },
    {
     "name": "stdout",
     "output_type": "stream",
     "text": [
      "Processing slice z= 23\n"
     ]
    },
    {
     "name": "stderr",
     "output_type": "stream",
     "text": [
      "Uploading:   0%|          | 0/1 [00:00<?, ?it/s]\n",
      "Uploading: 100%|██████████| 1/1 [00:00<00:00, 74.00it/s]\n",
      "\n",
      "Uploading: 100%|██████████| 1/1 [00:00<00:00, 49.72it/s]\n",
      "\n",
      "Uploading:   0%|          | 0/1 [00:00<?, ?it/s]\u001b[A\n",
      "Uploading: 100%|██████████| 1/1 [00:00<00:00, 45.73it/s]\n",
      "\n",
      "Uploading: 100%|██████████| 1/1 [00:00<00:00, 13.71it/s]\n"
     ]
    },
    {
     "name": "stdout",
     "output_type": "stream",
     "text": [
      "Processing slice z= 24\n"
     ]
    },
    {
     "name": "stderr",
     "output_type": "stream",
     "text": [
      "\n",
      "Uploading:   0%|          | 0/1 [00:00<?, ?it/s]\u001b[A\n",
      "Uploading: 100%|██████████| 1/1 [00:00<00:00, 53.23it/s]\n",
      "Uploading: 100%|██████████| 1/1 [00:00<00:00, 14.03it/s]\n",
      "Uploading: 100%|██████████| 1/1 [00:00<00:00, 51.90it/s]\n"
     ]
    },
    {
     "name": "stdout",
     "output_type": "stream",
     "text": [
      "Processing slice z= 25\n"
     ]
    },
    {
     "name": "stderr",
     "output_type": "stream",
     "text": [
      "Uploading: 100%|██████████| 1/1 [00:00<00:00, 64.93it/s]\n",
      "Uploading: 100%|██████████| 1/1 [00:00<00:00, 13.61it/s]\n",
      "Uploading: 100%|██████████| 1/1 [00:00<00:00, 91.14it/s]"
     ]
    },
    {
     "name": "stdout",
     "output_type": "stream",
     "text": [
      "Processing slice z= 26\n"
     ]
    },
    {
     "name": "stderr",
     "output_type": "stream",
     "text": [
      "\n",
      "Uploading: 100%|██████████| 1/1 [00:00<00:00, 46.00it/s]\n",
      "Uploading: 100%|██████████| 1/1 [00:00<00:00, 14.03it/s]\n"
     ]
    },
    {
     "name": "stdout",
     "output_type": "stream",
     "text": [
      "Processing slice z= 27\n"
     ]
    },
    {
     "name": "stderr",
     "output_type": "stream",
     "text": [
      "Uploading: 100%|██████████| 1/1 [00:00<00:00, 13.49it/s]\n"
     ]
    },
    {
     "name": "stdout",
     "output_type": "stream",
     "text": [
      "Processing slice z= 28\n"
     ]
    },
    {
     "name": "stderr",
     "output_type": "stream",
     "text": [
      "Uploading: 100%|██████████| 1/1 [00:00<00:00, 12.68it/s]\n",
      "Uploading: 100%|██████████| 1/1 [00:00<00:00, 14.93it/s]"
     ]
    },
    {
     "name": "stdout",
     "output_type": "stream",
     "text": [
      "Processing slice z= 29\n"
     ]
    },
    {
     "name": "stderr",
     "output_type": "stream",
     "text": [
      "\n",
      "\n"
     ]
    },
    {
     "name": "stdout",
     "output_type": "stream",
     "text": [
      "Processing slice z= 30\n"
     ]
    },
    {
     "name": "stderr",
     "output_type": "stream",
     "text": [
      "Uploading: 100%|██████████| 1/1 [00:00<00:00, 12.49it/s]\n",
      "\n"
     ]
    },
    {
     "name": "stdout",
     "output_type": "stream",
     "text": [
      "Processing slice z= 31\n"
     ]
    },
    {
     "name": "stderr",
     "output_type": "stream",
     "text": [
      "Uploading:   0%|          | 0/1 [00:00<?, ?it/s]\u001b[A\n"
     ]
    },
    {
     "name": "stdout",
     "output_type": "stream",
     "text": [
      "success\n",
      "success\n",
      "success\n",
      "success\n",
      "success\n",
      "success\n",
      "success\n",
      "success\n",
      "success\n",
      "success\n",
      "success\n",
      "success\n",
      "success\n",
      "success\n",
      "success\n",
      "success\n",
      "success\n",
      "success\n",
      "success\n",
      "success\n",
      "success\n",
      "success\n",
      "success\n",
      "success\n"
     ]
    },
    {
     "name": "stderr",
     "output_type": "stream",
     "text": [
      "Uploading: 100%|██████████| 1/1 [00:00<00:00, 66.72it/s]\n",
      "Uploading: 100%|██████████| 1/1 [00:00<00:00, 84.86it/s]\n",
      "Uploading: 100%|██████████| 1/1 [00:00<00:00, 48.55it/s]\n",
      "\n",
      "Uploading: 100%|██████████| 1/1 [00:00<00:00, 15.83it/s]\n"
     ]
    },
    {
     "name": "stdout",
     "output_type": "stream",
     "text": [
      "Processing slice z= 32\n"
     ]
    },
    {
     "name": "stderr",
     "output_type": "stream",
     "text": [
      "\n",
      "Uploading: 100%|██████████| 1/1 [00:00<00:00, 18.13it/s]\n",
      "\n"
     ]
    },
    {
     "name": "stdout",
     "output_type": "stream",
     "text": [
      "Processing slice z= 33\n"
     ]
    },
    {
     "name": "stderr",
     "output_type": "stream",
     "text": [
      "Uploading:   0%|          | 0/1 [00:00<?, ?it/s]\u001b[A\n",
      "Uploading: 100%|██████████| 1/1 [00:00<00:00, 16.39it/s]\n",
      "Uploading: 100%|██████████| 1/1 [00:00<00:00, 65.20it/s]"
     ]
    },
    {
     "name": "stdout",
     "output_type": "stream",
     "text": [
      "Processing slice z= 34\n"
     ]
    },
    {
     "name": "stderr",
     "output_type": "stream",
     "text": [
      "\n",
      "Uploading:   0%|          | 0/1 [00:00<?, ?it/s]\n",
      "Uploading: 100%|██████████| 1/1 [00:00<00:00, 68.15it/s]\n",
      "Uploading: 100%|██████████| 1/1 [00:00<00:00, 62.44it/s]\n",
      "Uploading: 100%|██████████| 1/1 [00:00<00:00, 67.89it/s]\n",
      "Uploading: 100%|██████████| 1/1 [00:00<00:00, 111.09it/s]\n",
      "Uploading: 100%|██████████| 1/1 [00:00<00:00, 14.91it/s]\n"
     ]
    },
    {
     "name": "stdout",
     "output_type": "stream",
     "text": [
      "Processing slice z= 35\n"
     ]
    },
    {
     "name": "stderr",
     "output_type": "stream",
     "text": [
      "Uploading: 100%|██████████| 1/1 [00:00<00:00, 17.66it/s]\n",
      "Uploading: 100%|██████████| 1/1 [00:00<00:00, 13.89it/s]"
     ]
    },
    {
     "name": "stdout",
     "output_type": "stream",
     "text": [
      "Processing slice z= 36\n"
     ]
    },
    {
     "name": "stderr",
     "output_type": "stream",
     "text": [
      "\n"
     ]
    },
    {
     "name": "stdout",
     "output_type": "stream",
     "text": [
      "Processing slice z= 37\n"
     ]
    },
    {
     "name": "stderr",
     "output_type": "stream",
     "text": [
      "Uploading: 100%|██████████| 1/1 [00:00<00:00, 14.98it/s]\n"
     ]
    },
    {
     "name": "stdout",
     "output_type": "stream",
     "text": [
      "Processing slice z= 38\n"
     ]
    },
    {
     "name": "stderr",
     "output_type": "stream",
     "text": [
      "Uploading: 100%|██████████| 1/1 [00:00<00:00, 15.52it/s]\n",
      "\n"
     ]
    },
    {
     "name": "stdout",
     "output_type": "stream",
     "text": [
      "Processing slice z= 39\n"
     ]
    },
    {
     "name": "stderr",
     "output_type": "stream",
     "text": [
      "Uploading:   0%|          | 0/1 [00:00<?, ?it/s]\u001b[A\n",
      "Uploading:   0%|          | 0/1 [00:00<?, ?it/s]\u001b[A\n",
      "Uploading: 100%|██████████| 1/1 [00:00<00:00, 59.66it/s]\n",
      "Uploading: 100%|██████████| 1/1 [00:00<00:00, 63.84it/s]\n",
      "Uploading: 100%|██████████| 1/1 [00:00<00:00, 67.47it/s]\n",
      "\n",
      "Uploading:   0%|          | 0/1 [00:00<?, ?it/s]\u001b[A\n",
      "Uploading:   0%|          | 0/1 [00:00<?, ?it/s]\u001b[A\n",
      "Uploading:   0%|          | 0/1 [00:00<?, ?it/s]\u001b[A\n",
      "Uploading:   0%|          | 0/1 [00:00<?, ?it/s]\u001b[A\n",
      "Uploading: 100%|██████████| 1/1 [00:00<00:00, 144.14it/s]\n",
      "Uploading: 100%|██████████| 1/1 [00:00<00:00, 128.52it/s]\n",
      "Uploading: 100%|██████████| 1/1 [00:00<00:00, 14.45it/s]\n",
      "Uploading: 100%|██████████| 1/1 [00:00<00:00, 112.91it/s]"
     ]
    },
    {
     "name": "stdout",
     "output_type": "stream",
     "text": [
      "Processing slice z= 40\n"
     ]
    },
    {
     "name": "stderr",
     "output_type": "stream",
     "text": [
      "\n",
      "Uploading: 100%|██████████| 1/1 [00:00<00:00, 16.57it/s]\n",
      "Uploading: 100%|██████████| 1/1 [00:00<00:00, 17.02it/s]"
     ]
    },
    {
     "name": "stdout",
     "output_type": "stream",
     "text": [
      "Processing slice z= 41\n"
     ]
    },
    {
     "name": "stderr",
     "output_type": "stream",
     "text": [
      "\n",
      "Uploading: 100%|██████████| 1/1 [00:00<00:00, 92.58it/s]"
     ]
    },
    {
     "name": "stdout",
     "output_type": "stream",
     "text": [
      "Processing slice z= 42\n"
     ]
    },
    {
     "name": "stderr",
     "output_type": "stream",
     "text": [
      "\n",
      "Uploading: 100%|██████████| 1/1 [00:00<00:00, 94.78it/s]\n",
      "Uploading: 100%|██████████| 1/1 [00:00<00:00, 25.83it/s]\n",
      "Uploading: 100%|██████████| 1/1 [00:00<00:00, 26.07it/s]"
     ]
    },
    {
     "name": "stdout",
     "output_type": "stream",
     "text": [
      "Processing slice z= 43\n"
     ]
    },
    {
     "name": "stderr",
     "output_type": "stream",
     "text": [
      "\n"
     ]
    },
    {
     "name": "stdout",
     "output_type": "stream",
     "text": [
      "Processing slice z= 44\n"
     ]
    },
    {
     "name": "stderr",
     "output_type": "stream",
     "text": [
      "Uploading: 100%|██████████| 1/1 [00:00<00:00, 22.88it/s]\n"
     ]
    },
    {
     "name": "stdout",
     "output_type": "stream",
     "text": [
      "Processing slice z= 45\n"
     ]
    },
    {
     "name": "stderr",
     "output_type": "stream",
     "text": [
      "Uploading: 100%|██████████| 1/1 [00:00<00:00, 21.22it/s]\n",
      "Uploading: 100%|██████████| 1/1 [00:00<00:00, 19.69it/s]"
     ]
    },
    {
     "name": "stdout",
     "output_type": "stream",
     "text": [
      "Processing slice z= 46\n"
     ]
    },
    {
     "name": "stderr",
     "output_type": "stream",
     "text": [
      "\n"
     ]
    },
    {
     "name": "stdout",
     "output_type": "stream",
     "text": [
      "Processing slice z= 47\n"
     ]
    },
    {
     "name": "stderr",
     "output_type": "stream",
     "text": [
      "Uploading:   0%|          | 0/1 [00:00<?, ?it/s]\n",
      "Uploading:   0%|          | 0/1 [00:00<?, ?it/s]\u001b[A\n",
      "Uploading:   0%|          | 0/1 [00:00<?, ?it/s]\u001b[A\n",
      "Uploading: 100%|██████████| 1/1 [00:00<00:00, 107.13it/s]\n",
      "Uploading: 100%|██████████| 1/1 [00:00<00:00, 114.50it/s]\n",
      "\n",
      "Uploading: 100%|██████████| 1/1 [00:00<00:00, 91.89it/s]\n",
      "\n",
      "Uploading:   0%|          | 0/1 [00:00<?, ?it/s]\u001b[A\n",
      "Uploading: 100%|██████████| 1/1 [00:00<00:00, 80.83it/s]\n",
      "Uploading: 100%|██████████| 1/1 [00:00<00:00, 20.40it/s]\n"
     ]
    },
    {
     "name": "stdout",
     "output_type": "stream",
     "text": [
      "Processing slice z= 48\n"
     ]
    },
    {
     "name": "stderr",
     "output_type": "stream",
     "text": [
      "\n",
      "Uploading:   0%|          | 0/1 [00:00<?, ?it/s]\u001b[A\n",
      "Uploading: 100%|██████████| 1/1 [00:00<00:00, 77.45it/s]\n",
      "Uploading: 100%|██████████| 1/1 [00:00<00:00, 18.36it/s]\n"
     ]
    },
    {
     "name": "stdout",
     "output_type": "stream",
     "text": [
      "Processing slice z= 49\n"
     ]
    },
    {
     "name": "stderr",
     "output_type": "stream",
     "text": [
      "Uploading: 100%|██████████| 1/1 [00:00<00:00, 18.18it/s]\n",
      "Uploading: 100%|██████████| 1/1 [00:00<00:00, 88.30it/s]"
     ]
    },
    {
     "name": "stdout",
     "output_type": "stream",
     "text": [
      "Processing slice z= 50\n"
     ]
    },
    {
     "name": "stderr",
     "output_type": "stream",
     "text": [
      "\n",
      "Uploading: 100%|██████████| 1/1 [00:00<00:00, 21.98it/s]\n"
     ]
    },
    {
     "name": "stdout",
     "output_type": "stream",
     "text": [
      "Processing slice z= 51\n"
     ]
    },
    {
     "name": "stderr",
     "output_type": "stream",
     "text": [
      "Uploading: 100%|██████████| 1/1 [00:00<00:00, 53.40it/s]\n",
      "Uploading: 100%|██████████| 1/1 [00:00<00:00, 53.94it/s]\n",
      "Uploading: 100%|██████████| 1/1 [00:00<00:00, 20.91it/s]\n"
     ]
    },
    {
     "name": "stdout",
     "output_type": "stream",
     "text": [
      "Processing slice z= 52\n"
     ]
    },
    {
     "name": "stderr",
     "output_type": "stream",
     "text": [
      "Uploading: 100%|██████████| 1/1 [00:00<00:00, 20.54it/s]\n",
      "Uploading:   0%|          | 0/1 [00:00<?, ?it/s]"
     ]
    },
    {
     "name": "stdout",
     "output_type": "stream",
     "text": [
      "Processing slice z= 53\n"
     ]
    },
    {
     "name": "stderr",
     "output_type": "stream",
     "text": [
      "\n",
      "Uploading:   0%|          | 0/1 [00:00<?, ?it/s]\u001b[A\n",
      "Uploading:   0%|          | 0/1 [00:00<?, ?it/s]\u001b[A\n",
      "Uploading: 100%|██████████| 1/1 [00:00<00:00, 17.05it/s]\n",
      "Uploading: 100%|██████████| 1/1 [00:00<00:00, 16.16it/s]"
     ]
    },
    {
     "name": "stdout",
     "output_type": "stream",
     "text": [
      "Processing slice z= 54\n"
     ]
    },
    {
     "name": "stderr",
     "output_type": "stream",
     "text": [
      "\n"
     ]
    },
    {
     "name": "stdout",
     "output_type": "stream",
     "text": [
      "Processing slice z= 55\n"
     ]
    },
    {
     "name": "stderr",
     "output_type": "stream",
     "text": [
      "Uploading: 100%|██████████| 1/1 [00:00<00:00, 54.59it/s]\n",
      "Uploading: 100%|██████████| 1/1 [00:00<00:00, 58.63it/s]\n",
      "\n"
     ]
    },
    {
     "name": "stdout",
     "output_type": "stream",
     "text": [
      "success\n",
      "success\n",
      "success\n",
      "success\n",
      "success\n",
      "success\n",
      "success\n",
      "success\n",
      "success\n",
      "success\n",
      "success\n",
      "success\n",
      "success\n",
      "success\n",
      "success\n",
      "success\n",
      "success\n",
      "success\n",
      "success\n",
      "success\n",
      "success\n",
      "success\n",
      "success\n",
      "success\n"
     ]
    },
    {
     "name": "stderr",
     "output_type": "stream",
     "text": [
      "Uploading: 100%|██████████| 1/1 [00:00<00:00, 62.20it/s]\n",
      "\n",
      "Uploading: 100%|██████████| 1/1 [00:00<00:00, 19.55it/s]\n"
     ]
    },
    {
     "name": "stdout",
     "output_type": "stream",
     "text": [
      "Processing slice z= 56\n"
     ]
    },
    {
     "name": "stderr",
     "output_type": "stream",
     "text": [
      "Uploading: 100%|██████████| 1/1 [00:00<00:00, 17.65it/s]\n"
     ]
    },
    {
     "name": "stdout",
     "output_type": "stream",
     "text": [
      "Processing slice z= 57\n"
     ]
    },
    {
     "name": "stderr",
     "output_type": "stream",
     "text": [
      "\n",
      "Uploading: 100%|██████████| 1/1 [00:00<00:00, 16.01it/s]\n"
     ]
    },
    {
     "name": "stdout",
     "output_type": "stream",
     "text": [
      "Processing slice z= 58\n"
     ]
    },
    {
     "name": "stderr",
     "output_type": "stream",
     "text": [
      "Uploading: 100%|██████████| 1/1 [00:00<00:00, 36.40it/s]\n",
      "Uploading: 100%|██████████| 1/1 [00:00<00:00, 46.77it/s]\n",
      "\n",
      "Uploading:   0%|          | 0/1 [00:00<?, ?it/s]\u001b[A\n",
      "Uploading: 100%|██████████| 1/1 [00:00<00:00, 15.04it/s]\n",
      "Uploading: 100%|██████████| 1/1 [00:00<00:00, 38.09it/s]"
     ]
    },
    {
     "name": "stdout",
     "output_type": "stream",
     "text": [
      "Processing slice z= 59\n"
     ]
    },
    {
     "name": "stderr",
     "output_type": "stream",
     "text": [
      "\n",
      "\n",
      "Uploading: 100%|██████████| 1/1 [00:00<00:00, 12.50it/s]\n"
     ]
    },
    {
     "name": "stdout",
     "output_type": "stream",
     "text": [
      "Processing slice z= 60\n"
     ]
    },
    {
     "name": "stderr",
     "output_type": "stream",
     "text": [
      "Uploading: 100%|██████████| 1/1 [00:00<00:00, 40.47it/s]\n",
      "\n",
      "Uploading:   0%|          | 0/1 [00:00<?, ?it/s]\u001b[A\n",
      "Uploading: 100%|██████████| 1/1 [00:00<00:00, 44.38it/s]\n",
      "Uploading: 100%|██████████| 1/1 [00:00<00:00, 12.27it/s]\n",
      "Uploading: 100%|██████████| 1/1 [00:00<00:00, 41.50it/s]"
     ]
    },
    {
     "name": "stdout",
     "output_type": "stream",
     "text": [
      "Processing slice z= 61\n"
     ]
    },
    {
     "name": "stderr",
     "output_type": "stream",
     "text": [
      "\n",
      "Uploading: 100%|██████████| 1/1 [00:00<00:00, 13.38it/s]\n"
     ]
    },
    {
     "name": "stdout",
     "output_type": "stream",
     "text": [
      "Processing slice z= 62\n"
     ]
    },
    {
     "name": "stderr",
     "output_type": "stream",
     "text": [
      "Uploading: 100%|██████████| 1/1 [00:00<00:00, 13.33it/s]\n"
     ]
    },
    {
     "name": "stdout",
     "output_type": "stream",
     "text": [
      "Processing slice z= 63\n"
     ]
    },
    {
     "name": "stderr",
     "output_type": "stream",
     "text": [
      "\n",
      "Uploading: 100%|██████████| 1/1 [00:00<00:00, 38.28it/s]\n",
      "Uploading: 100%|██████████| 1/1 [00:00<00:00, 42.23it/s]\n",
      "Uploading: 100%|██████████| 1/1 [00:00<00:00, 15.11it/s]\n",
      "Uploading:   0%|          | 0/1 [00:00<?, ?it/s]"
     ]
    },
    {
     "name": "stdout",
     "output_type": "stream",
     "text": [
      "Processing slice z= 64\n"
     ]
    },
    {
     "name": "stderr",
     "output_type": "stream",
     "text": [
      "\n",
      "Uploading: 100%|██████████| 1/1 [00:00<00:00, 12.39it/s]\n"
     ]
    },
    {
     "name": "stdout",
     "output_type": "stream",
     "text": [
      "Processing slice z= 65\n"
     ]
    },
    {
     "name": "stderr",
     "output_type": "stream",
     "text": [
      "\n",
      "Uploading: 100%|██████████| 1/1 [00:00<00:00, 38.50it/s]\n",
      "Uploading: 100%|██████████| 1/1 [00:00<00:00, 13.14it/s]\n"
     ]
    },
    {
     "name": "stdout",
     "output_type": "stream",
     "text": [
      "Processing slice z= 66\n"
     ]
    },
    {
     "name": "stderr",
     "output_type": "stream",
     "text": [
      "Uploading:   0%|          | 0/1 [00:00<?, ?it/s]\n",
      "Uploading: 100%|██████████| 1/1 [00:00<00:00, 36.84it/s]\n",
      "\n",
      "Uploading: 100%|██████████| 1/1 [00:00<00:00, 43.13it/s]\n",
      "Uploading: 100%|██████████| 1/1 [00:00<00:00, 13.21it/s]\n"
     ]
    },
    {
     "name": "stdout",
     "output_type": "stream",
     "text": [
      "Processing slice z= 67\n"
     ]
    },
    {
     "name": "stderr",
     "output_type": "stream",
     "text": [
      "Uploading: 100%|██████████| 1/1 [00:00<00:00, 51.03it/s]\n",
      "\n",
      "Uploading: 100%|██████████| 1/1 [00:00<00:00, 13.56it/s]\n"
     ]
    },
    {
     "name": "stdout",
     "output_type": "stream",
     "text": [
      "Processing slice z= 68\n"
     ]
    },
    {
     "name": "stderr",
     "output_type": "stream",
     "text": [
      "Uploading: 100%|██████████| 1/1 [00:00<00:00, 52.57it/s]\n",
      "\n",
      "Uploading:   0%|          | 0/1 [00:00<?, ?it/s]\u001b[A\n",
      "Uploading: 100%|██████████| 1/1 [00:00<00:00, 14.08it/s]\n"
     ]
    },
    {
     "name": "stdout",
     "output_type": "stream",
     "text": [
      "Processing slice z= 69\n"
     ]
    },
    {
     "name": "stderr",
     "output_type": "stream",
     "text": [
      "Uploading: 100%|██████████| 1/1 [00:00<00:00, 14.23it/s]\n"
     ]
    },
    {
     "name": "stdout",
     "output_type": "stream",
     "text": [
      "Processing slice z= 70\n"
     ]
    },
    {
     "name": "stderr",
     "output_type": "stream",
     "text": [
      "Uploading: 100%|██████████| 1/1 [00:00<00:00, 15.57it/s]\n"
     ]
    },
    {
     "name": "stdout",
     "output_type": "stream",
     "text": [
      "Processing slice z= 71\n"
     ]
    },
    {
     "name": "stderr",
     "output_type": "stream",
     "text": [
      "Uploading: 100%|██████████| 1/1 [00:00<00:00, 38.51it/s]\n",
      "Uploading: 100%|██████████| 1/1 [00:00<00:00, 57.58it/s]\n",
      "\n",
      "Uploading: 100%|██████████| 1/1 [00:00<00:00, 55.55it/s]\n",
      "Uploading:   0%|          | 0/1 [00:00<?, ?it/s]\n",
      "Uploading: 100%|██████████| 1/1 [00:00<00:00, 69.38it/s]\n",
      "Uploading: 100%|██████████| 1/1 [00:00<00:00, 17.25it/s]\n",
      "Uploading: 100%|██████████| 1/1 [00:00<00:00, 13.65it/s]"
     ]
    },
    {
     "name": "stdout",
     "output_type": "stream",
     "text": [
      "Processing slice z= 72\n"
     ]
    },
    {
     "name": "stderr",
     "output_type": "stream",
     "text": [
      "\n"
     ]
    },
    {
     "name": "stdout",
     "output_type": "stream",
     "text": [
      "Processing slice z= 73\n"
     ]
    },
    {
     "name": "stderr",
     "output_type": "stream",
     "text": [
      "Uploading: 100%|██████████| 1/1 [00:00<00:00, 17.89it/s]\n",
      "\n"
     ]
    },
    {
     "name": "stdout",
     "output_type": "stream",
     "text": [
      "Processing slice z= 74\n"
     ]
    },
    {
     "name": "stderr",
     "output_type": "stream",
     "text": [
      "Uploading:   0%|          | 0/1 [00:00<?, ?it/s]\u001b[A\n",
      "Uploading: 100%|██████████| 1/1 [00:00<00:00, 49.05it/s]\n",
      "\n",
      "Uploading: 100%|██████████| 1/1 [00:00<00:00, 18.01it/s]\n"
     ]
    },
    {
     "name": "stdout",
     "output_type": "stream",
     "text": [
      "Processing slice z= 75\n"
     ]
    },
    {
     "name": "stderr",
     "output_type": "stream",
     "text": [
      "Uploading:   0%|          | 0/1 [00:00<?, ?it/s]"
     ]
    },
    {
     "name": "stdout",
     "output_type": "stream",
     "text": [
      "success\n",
      "success\n",
      "success\n",
      "success\n",
      "success\n",
      "success\n",
      "success\n",
      "success\n",
      "success\n",
      "success\n",
      "success\n",
      "success\n",
      "success\n",
      "success\n",
      "success\n",
      "success\n",
      "success\n",
      "success\n",
      "success\n",
      "success\n"
     ]
    },
    {
     "name": "stderr",
     "output_type": "stream",
     "text": [
      "Uploading: 100%|██████████| 1/1 [00:00<00:00, 52.51it/s]\n",
      "Uploading: 100%|██████████| 1/1 [00:00<00:00, 52.57it/s]\n",
      "Uploading: 100%|██████████| 1/1 [00:00<00:00, 56.38it/s]\n",
      "Uploading: 100%|██████████| 1/1 [00:00<00:00, 15.47it/s]\n"
     ]
    },
    {
     "name": "stdout",
     "output_type": "stream",
     "text": [
      "Processing slice z= 76\n"
     ]
    },
    {
     "name": "stderr",
     "output_type": "stream",
     "text": [
      "Uploading:   0%|          | 0/1 [00:00<?, ?it/s]\n",
      "Uploading:   0%|          | 0/1 [00:00<?, ?it/s]\u001b[A\n",
      "Uploading:   0%|          | 0/1 [00:00<?, ?it/s]\u001b[A\n",
      "Uploading: 100%|██████████| 1/1 [00:00<00:00, 18.94it/s]\n"
     ]
    },
    {
     "name": "stdout",
     "output_type": "stream",
     "text": [
      "Processing slice z= 77\n"
     ]
    },
    {
     "name": "stderr",
     "output_type": "stream",
     "text": [
      "Uploading: 100%|██████████| 1/1 [00:00<00:00, 16.92it/s]\n"
     ]
    },
    {
     "name": "stdout",
     "output_type": "stream",
     "text": [
      "Processing slice z= 78\n"
     ]
    },
    {
     "name": "stderr",
     "output_type": "stream",
     "text": [
      "\n",
      "Uploading: 100%|██████████| 1/1 [00:00<00:00, 52.23it/s]\n",
      "Uploading: 100%|██████████| 1/1 [00:00<00:00, 40.63it/s]\n",
      "\n",
      "Uploading: 100%|██████████| 1/1 [00:00<00:00, 13.78it/s]\n",
      "Uploading: 100%|██████████| 1/1 [00:00<00:00, 36.37it/s]\n"
     ]
    },
    {
     "name": "stdout",
     "output_type": "stream",
     "text": [
      "Processing slice z= 79\n"
     ]
    },
    {
     "name": "stderr",
     "output_type": "stream",
     "text": [
      "Uploading: 100%|██████████| 1/1 [00:00<00:00, 55.61it/s]\n",
      "\n",
      "Uploading: 100%|██████████| 1/1 [00:00<00:00, 17.28it/s]\n",
      "\n"
     ]
    },
    {
     "name": "stdout",
     "output_type": "stream",
     "text": [
      "Processing slice z= 80\n"
     ]
    },
    {
     "name": "stderr",
     "output_type": "stream",
     "text": [
      "Uploading: 100%|██████████| 1/1 [00:00<00:00, 16.44it/s]\n",
      "Uploading:   0%|          | 0/1 [00:00<?, ?it/s]"
     ]
    },
    {
     "name": "stdout",
     "output_type": "stream",
     "text": [
      "Processing slice z= 81\n"
     ]
    },
    {
     "name": "stderr",
     "output_type": "stream",
     "text": [
      "Uploading: 100%|██████████| 1/1 [00:00<00:00, 15.98it/s]\n",
      "Uploading: 100%|██████████| 1/1 [00:00<00:00, 60.55it/s]"
     ]
    },
    {
     "name": "stdout",
     "output_type": "stream",
     "text": [
      "Processing slice z= 82\n"
     ]
    },
    {
     "name": "stderr",
     "output_type": "stream",
     "text": [
      "\n",
      "Uploading: 100%|██████████| 1/1 [00:00<00:00, 18.60it/s]\n",
      "Uploading: 100%|██████████| 1/1 [00:00<00:00, 71.15it/s]\n"
     ]
    },
    {
     "name": "stdout",
     "output_type": "stream",
     "text": [
      "Processing slice z= 83\n"
     ]
    },
    {
     "name": "stderr",
     "output_type": "stream",
     "text": [
      "Uploading: 100%|██████████| 1/1 [00:00<00:00, 60.07it/s]\n",
      "Uploading:   0%|          | 0/1 [00:00<?, ?it/s]\n",
      "Uploading:   0%|          | 0/1 [00:00<?, ?it/s]\u001b[A\n",
      "Uploading: 100%|██████████| 1/1 [00:00<00:00, 16.83it/s]\n"
     ]
    },
    {
     "name": "stdout",
     "output_type": "stream",
     "text": [
      "Processing slice z= 84\n"
     ]
    },
    {
     "name": "stderr",
     "output_type": "stream",
     "text": [
      "Uploading: 100%|██████████| 1/1 [00:00<00:00, 18.13it/s]\n"
     ]
    },
    {
     "name": "stdout",
     "output_type": "stream",
     "text": [
      "Processing slice z= 85\n"
     ]
    },
    {
     "name": "stderr",
     "output_type": "stream",
     "text": [
      "\n",
      "Uploading:   0%|          | 0/1 [00:00<?, ?it/s]\u001b[A\n",
      "Uploading:   0%|          | 0/1 [00:00<?, ?it/s]\u001b[A\n",
      "Uploading: 100%|██████████| 1/1 [00:00<00:00, 16.09it/s]\n",
      "Uploading: 100%|██████████| 1/1 [00:00<00:00, 48.17it/s]"
     ]
    },
    {
     "name": "stdout",
     "output_type": "stream",
     "text": [
      "Processing slice z= 86\n"
     ]
    },
    {
     "name": "stderr",
     "output_type": "stream",
     "text": [
      "\n",
      "Uploading: 100%|██████████| 1/1 [00:00<00:00, 50.20it/s]\n",
      "Uploading: 100%|██████████| 1/1 [00:00<00:00, 59.34it/s]\n",
      "Uploading: 100%|██████████| 1/1 [00:00<00:00, 46.47it/s]\n",
      "Uploading: 100%|██████████| 1/1 [00:00<00:00, 18.18it/s]\n",
      "Uploading: 100%|██████████| 1/1 [00:00<00:00, 19.15it/s]"
     ]
    },
    {
     "name": "stdout",
     "output_type": "stream",
     "text": [
      "Processing slice z= 87\n"
     ]
    },
    {
     "name": "stderr",
     "output_type": "stream",
     "text": [
      "\n",
      "\n"
     ]
    },
    {
     "name": "stdout",
     "output_type": "stream",
     "text": [
      "Processing slice z= 88\n"
     ]
    },
    {
     "name": "stderr",
     "output_type": "stream",
     "text": [
      "Uploading: 100%|██████████| 1/1 [00:00<00:00, 40.59it/s]\n",
      "\n",
      "Uploading:   0%|          | 0/1 [00:00<?, ?it/s]\u001b[A\n",
      "Uploading: 100%|██████████| 1/1 [00:00<00:00, 19.82it/s]\n",
      "Uploading:   0%|          | 0/1 [00:00<?, ?it/s]"
     ]
    },
    {
     "name": "stdout",
     "output_type": "stream",
     "text": [
      "Processing slice z= 89\n"
     ]
    },
    {
     "name": "stderr",
     "output_type": "stream",
     "text": [
      "Uploading: 100%|██████████| 1/1 [00:00<00:00, 17.33it/s]\n"
     ]
    },
    {
     "name": "stdout",
     "output_type": "stream",
     "text": [
      "Processing slice z= 90\n"
     ]
    },
    {
     "name": "stderr",
     "output_type": "stream",
     "text": [
      "Uploading: 100%|██████████| 1/1 [00:00<00:00, 16.26it/s]\n",
      "Uploading: 100%|██████████| 1/1 [00:00<00:00, 53.47it/s]"
     ]
    },
    {
     "name": "stdout",
     "output_type": "stream",
     "text": [
      "Processing slice z= 91\n"
     ]
    },
    {
     "name": "stderr",
     "output_type": "stream",
     "text": [
      "\n",
      "\n",
      "Uploading: 100%|██████████| 1/1 [00:00<00:00, 35.49it/s]\n",
      "Uploading: 100%|██████████| 1/1 [00:00<00:00, 42.88it/s]\n",
      "Uploading:   0%|          | 0/1 [00:00<?, ?it/s]\n",
      "Uploading: 100%|██████████| 1/1 [00:00<00:00, 48.87it/s]\n",
      "Uploading: 100%|██████████| 1/1 [00:00<00:00, 15.35it/s]\n",
      "Uploading: 100%|██████████| 1/1 [00:00<00:00, 14.64it/s]"
     ]
    },
    {
     "name": "stdout",
     "output_type": "stream",
     "text": [
      "Processing slice z= 92\n"
     ]
    },
    {
     "name": "stderr",
     "output_type": "stream",
     "text": [
      "\n",
      "Uploading: 100%|██████████| 1/1 [00:00<00:00, 17.09it/s]"
     ]
    },
    {
     "name": "stdout",
     "output_type": "stream",
     "text": [
      "Processing slice z= 93\n"
     ]
    },
    {
     "name": "stderr",
     "output_type": "stream",
     "text": [
      "\n"
     ]
    },
    {
     "name": "stdout",
     "output_type": "stream",
     "text": [
      "Processing slice z= 94\n"
     ]
    },
    {
     "name": "stderr",
     "output_type": "stream",
     "text": [
      "\n",
      "Uploading:   0%|          | 0/1 [00:00<?, ?it/s]\u001b[A\n",
      "Uploading:   0%|          | 0/1 [00:00<?, ?it/s]\u001b[A\n",
      "Uploading: 100%|██████████| 1/1 [00:00<00:00, 41.20it/s]\n",
      "Uploading: 100%|██████████| 1/1 [00:00<00:00, 47.47it/s]\n",
      "Uploading: 100%|██████████| 1/1 [00:00<00:00, 13.89it/s]\n"
     ]
    },
    {
     "name": "stdout",
     "output_type": "stream",
     "text": [
      "Processing slice z= 95\n"
     ]
    },
    {
     "name": "stderr",
     "output_type": "stream",
     "text": [
      "Uploading: 100%|██████████| 1/1 [00:00<00:00, 14.25it/s]\n"
     ]
    },
    {
     "name": "stdout",
     "output_type": "stream",
     "text": [
      "Processing slice z= 96\n"
     ]
    },
    {
     "name": "stderr",
     "output_type": "stream",
     "text": [
      "Uploading: 100%|██████████| 1/1 [00:00<00:00, 42.60it/s]\n",
      "Uploading: 100%|██████████| 1/1 [00:00<00:00, 44.70it/s]\n",
      "\n",
      "Uploading:   0%|          | 0/1 [00:00<?, ?it/s]\u001b[A\n",
      "Uploading:   0%|          | 0/1 [00:00<?, ?it/s]\u001b[A\n",
      "Uploading:   0%|          | 0/1 [00:00<?, ?it/s]\u001b[A"
     ]
    },
    {
     "name": "stdout",
     "output_type": "stream",
     "text": [
      "success\n",
      "success\n",
      "success\n",
      "success\n",
      "success\n",
      "success\n",
      "success\n",
      "success\n",
      "success\n",
      "success\n",
      "success\n",
      "success\n",
      "success\n",
      "success\n",
      "success\n",
      "success\n",
      "success\n",
      "success\n",
      "success\n",
      "success\n",
      "success\n"
     ]
    },
    {
     "name": "stderr",
     "output_type": "stream",
     "text": [
      "Uploading: 100%|██████████| 1/1 [00:00<00:00, 15.37it/s]\n",
      "Uploading: 100%|██████████| 1/1 [00:00<00:00, 15.08it/s]"
     ]
    },
    {
     "name": "stdout",
     "output_type": "stream",
     "text": [
      "Processing slice z= 97\n"
     ]
    },
    {
     "name": "stderr",
     "output_type": "stream",
     "text": [
      "\n"
     ]
    },
    {
     "name": "stdout",
     "output_type": "stream",
     "text": [
      "Processing slice z= 98\n"
     ]
    },
    {
     "name": "stderr",
     "output_type": "stream",
     "text": [
      "Uploading: 100%|██████████| 1/1 [00:00<00:00, 15.53it/s]\n"
     ]
    },
    {
     "name": "stdout",
     "output_type": "stream",
     "text": [
      "Processing slice z= 99\n"
     ]
    },
    {
     "name": "stderr",
     "output_type": "stream",
     "text": [
      "Uploading: 100%|██████████| 1/1 [00:00<00:00, 53.24it/s]\n",
      "Uploading: 100%|██████████| 1/1 [00:00<00:00, 43.61it/s]\n",
      "Uploading:   0%|          | 0/1 [00:00<?, ?it/s]\n",
      "Uploading:   0%|          | 0/1 [00:00<?, ?it/s]\u001b[A\n",
      "Uploading: 100%|██████████| 1/1 [00:00<00:00, 29.87it/s]\n",
      "Uploading: 100%|██████████| 1/1 [00:00<00:00, 15.79it/s]\n",
      "Uploading: 100%|██████████| 1/1 [00:00<00:00, 16.12it/s]"
     ]
    },
    {
     "name": "stdout",
     "output_type": "stream",
     "text": [
      "Processing slice z= 100\n"
     ]
    },
    {
     "name": "stderr",
     "output_type": "stream",
     "text": [
      "\n"
     ]
    },
    {
     "name": "stdout",
     "output_type": "stream",
     "text": [
      "Processing slice z= 101\n"
     ]
    },
    {
     "name": "stderr",
     "output_type": "stream",
     "text": [
      "\n",
      "Uploading:   0%|          | 0/1 [00:00<?, ?it/s]\u001b[A\n",
      "Uploading:   0%|          | 0/1 [00:00<?, ?it/s]\u001b[A\n",
      "Uploading: 100%|██████████| 1/1 [00:00<00:00, 40.91it/s]\n",
      "Uploading: 100%|██████████| 1/1 [00:00<00:00, 45.27it/s]\n",
      "Uploading: 100%|██████████| 1/1 [00:00<00:00, 12.98it/s]\n"
     ]
    },
    {
     "name": "stdout",
     "output_type": "stream",
     "text": [
      "Processing slice z= 102\n"
     ]
    },
    {
     "name": "stderr",
     "output_type": "stream",
     "text": [
      "Uploading: 100%|██████████| 1/1 [00:00<00:00, 16.16it/s]\n"
     ]
    },
    {
     "name": "stdout",
     "output_type": "stream",
     "text": [
      "Processing slice z= 103\n"
     ]
    },
    {
     "name": "stderr",
     "output_type": "stream",
     "text": [
      "Uploading: 100%|██████████| 1/1 [00:00<00:00, 16.14it/s]\n"
     ]
    },
    {
     "name": "stdout",
     "output_type": "stream",
     "text": [
      "Processing slice z= 104\n"
     ]
    },
    {
     "name": "stderr",
     "output_type": "stream",
     "text": [
      "Uploading: 100%|██████████| 1/1 [00:00<00:00, 46.51it/s]\n",
      "Uploading:   0%|          | 0/1 [00:00<?, ?it/s]\n",
      "Uploading:   0%|          | 0/1 [00:00<?, ?it/s]\u001b[A\n",
      "Uploading: 100%|██████████| 1/1 [00:00<00:00, 33.18it/s]\n",
      "Uploading: 100%|██████████| 1/1 [00:00<00:00, 31.63it/s]\n",
      "Uploading:   0%|          | 0/1 [00:00<?, ?it/s]\n",
      "Uploading: 100%|██████████| 1/1 [00:00<00:00, 16.30it/s]\n"
     ]
    },
    {
     "name": "stdout",
     "output_type": "stream",
     "text": [
      "Processing slice z= 105\n"
     ]
    },
    {
     "name": "stderr",
     "output_type": "stream",
     "text": [
      "Uploading: 100%|██████████| 1/1 [00:00<00:00, 13.89it/s]\n",
      "Uploading: 100%|██████████| 1/1 [00:00<00:00, 41.59it/s]"
     ]
    },
    {
     "name": "stdout",
     "output_type": "stream",
     "text": [
      "Processing slice z= 106\n"
     ]
    },
    {
     "name": "stderr",
     "output_type": "stream",
     "text": [
      "\n",
      "Uploading: 100%|██████████| 1/1 [00:00<00:00, 36.36it/s]\n",
      "Uploading: 100%|██████████| 1/1 [00:00<00:00, 12.60it/s]\n"
     ]
    },
    {
     "name": "stdout",
     "output_type": "stream",
     "text": [
      "Processing slice z= 107\n"
     ]
    },
    {
     "name": "stderr",
     "output_type": "stream",
     "text": [
      "\n",
      "Uploading:   0%|          | 0/1 [00:00<?, ?it/s]\u001b[A\n",
      "Uploading: 100%|██████████| 1/1 [00:00<00:00, 32.67it/s]\n",
      "Uploading: 100%|██████████| 1/1 [00:00<00:00, 14.86it/s]\n",
      "Uploading: 100%|██████████| 1/1 [00:00<00:00, 14.32it/s]"
     ]
    },
    {
     "name": "stdout",
     "output_type": "stream",
     "text": [
      "Processing slice z= 108\n"
     ]
    },
    {
     "name": "stderr",
     "output_type": "stream",
     "text": [
      "\n"
     ]
    },
    {
     "name": "stdout",
     "output_type": "stream",
     "text": [
      "Processing slice z= 109\n"
     ]
    },
    {
     "name": "stderr",
     "output_type": "stream",
     "text": [
      "\n",
      "Uploading: 100%|██████████| 1/1 [00:00<00:00, 37.31it/s]\n",
      "Uploading: 100%|██████████| 1/1 [00:00<00:00, 40.96it/s]\n",
      "\n",
      "Uploading: 100%|██████████| 1/1 [00:00<00:00, 14.66it/s]\n",
      "Uploading:   0%|          | 0/1 [00:00<?, ?it/s]"
     ]
    },
    {
     "name": "stdout",
     "output_type": "stream",
     "text": [
      "Processing slice z= 110\n"
     ]
    },
    {
     "name": "stderr",
     "output_type": "stream",
     "text": [
      "\n",
      "Uploading: 100%|██████████| 1/1 [00:00<00:00, 14.06it/s]\n",
      "Uploading:   0%|          | 0/1 [00:00<?, ?it/s]"
     ]
    },
    {
     "name": "stdout",
     "output_type": "stream",
     "text": [
      "Processing slice z= 111\n"
     ]
    },
    {
     "name": "stderr",
     "output_type": "stream",
     "text": [
      "Uploading: 100%|██████████| 1/1 [00:00<00:00, 13.52it/s]\n"
     ]
    },
    {
     "name": "stdout",
     "output_type": "stream",
     "text": [
      "Processing slice z= 112\n"
     ]
    },
    {
     "name": "stderr",
     "output_type": "stream",
     "text": [
      "\n",
      "Uploading: 100%|██████████| 1/1 [00:00<00:00, 30.54it/s]\n",
      "Uploading: 100%|██████████| 1/1 [00:00<00:00, 24.44it/s]\n",
      "Uploading:   0%|          | 0/1 [00:00<?, ?it/s]\n",
      "Uploading: 100%|██████████| 1/1 [00:00<00:00, 29.47it/s]\n",
      "\n",
      "Uploading: 100%|██████████| 1/1 [00:00<00:00, 14.20it/s]\n",
      "Uploading: 100%|██████████| 1/1 [00:00<00:00, 11.86it/s]"
     ]
    },
    {
     "name": "stdout",
     "output_type": "stream",
     "text": [
      "Processing slice z= 113\n"
     ]
    },
    {
     "name": "stderr",
     "output_type": "stream",
     "text": [
      "\n",
      "\n"
     ]
    },
    {
     "name": "stdout",
     "output_type": "stream",
     "text": [
      "Processing slice z= 114\n"
     ]
    },
    {
     "name": "stderr",
     "output_type": "stream",
     "text": [
      "Uploading:   0%|          | 0/1 [00:00<?, ?it/s]\u001b[A\n",
      "Uploading: 100%|██████████| 1/1 [00:00<00:00, 12.14it/s]\n",
      "Uploading: 100%|██████████| 1/1 [00:00<00:00, 33.28it/s]"
     ]
    },
    {
     "name": "stdout",
     "output_type": "stream",
     "text": [
      "Processing slice z= 115\n"
     ]
    },
    {
     "name": "stderr",
     "output_type": "stream",
     "text": [
      "\n",
      "Uploading: 100%|██████████| 1/1 [00:00<00:00, 40.98it/s]\n",
      "Uploading:   0%|          | 0/1 [00:00<?, ?it/s]"
     ]
    },
    {
     "name": "stdout",
     "output_type": "stream",
     "text": [
      "success\n",
      "success\n",
      "success\n",
      "success\n",
      "success\n",
      "success\n",
      "success\n",
      "success\n",
      "success\n",
      "success\n",
      "success\n",
      "success\n",
      "success\n",
      "success\n",
      "success\n",
      "success\n",
      "success\n",
      "success\n",
      "success\n"
     ]
    },
    {
     "name": "stderr",
     "output_type": "stream",
     "text": [
      "Uploading: 100%|██████████| 1/1 [00:00<00:00, 13.36it/s]\n"
     ]
    },
    {
     "name": "stdout",
     "output_type": "stream",
     "text": [
      "Processing slice z= 116\n"
     ]
    },
    {
     "name": "stderr",
     "output_type": "stream",
     "text": [
      "Uploading: 100%|██████████| 1/1 [00:00<00:00, 28.50it/s]\n",
      "Uploading: 100%|██████████| 1/1 [00:00<00:00, 40.77it/s]\n",
      "Uploading: 100%|██████████| 1/1 [00:00<00:00, 13.66it/s]\n",
      "\n"
     ]
    },
    {
     "name": "stdout",
     "output_type": "stream",
     "text": [
      "Processing slice z= 117\n"
     ]
    },
    {
     "name": "stderr",
     "output_type": "stream",
     "text": [
      "Uploading: 100%|██████████| 1/1 [00:00<00:00, 31.04it/s]\n",
      "\n",
      "Uploading: 100%|██████████| 1/1 [00:00<00:00, 12.50it/s]\n",
      "\n"
     ]
    },
    {
     "name": "stdout",
     "output_type": "stream",
     "text": [
      "Processing slice z= 118\n"
     ]
    },
    {
     "name": "stderr",
     "output_type": "stream",
     "text": [
      "Uploading: 100%|██████████| 1/1 [00:00<00:00, 15.05it/s]\n"
     ]
    },
    {
     "name": "stdout",
     "output_type": "stream",
     "text": [
      "Processing slice z= 119\n"
     ]
    },
    {
     "name": "stderr",
     "output_type": "stream",
     "text": [
      "Uploading: 100%|██████████| 1/1 [00:00<00:00, 13.99it/s]\n"
     ]
    },
    {
     "name": "stdout",
     "output_type": "stream",
     "text": [
      "Processing slice z= 120\n"
     ]
    },
    {
     "name": "stderr",
     "output_type": "stream",
     "text": [
      "\n",
      "Uploading:   0%|          | 0/1 [00:00<?, ?it/s]\u001b[A\n",
      "Uploading: 100%|██████████| 1/1 [00:00<00:00, 36.85it/s]\n",
      "Uploading:   0%|          | 0/1 [00:00<?, ?it/s]\n",
      "Uploading: 100%|██████████| 1/1 [00:00<00:00, 29.78it/s]\n",
      "Uploading: 100%|██████████| 1/1 [00:00<00:00, 35.36it/s]\n",
      "\n",
      "Uploading:   0%|          | 0/1 [00:00<?, ?it/s]\u001b[A\n",
      "Uploading: 100%|██████████| 1/1 [00:00<00:00, 14.25it/s]\n",
      "Uploading: 100%|██████████| 1/1 [00:00<00:00, 47.41it/s]"
     ]
    },
    {
     "name": "stdout",
     "output_type": "stream",
     "text": [
      "Processing slice z= 121\n"
     ]
    },
    {
     "name": "stderr",
     "output_type": "stream",
     "text": [
      "\n",
      "Uploading: 100%|██████████| 1/1 [00:00<00:00, 34.65it/s]\n",
      "Uploading: 100%|██████████| 1/1 [00:00<00:00, 11.82it/s]\n"
     ]
    },
    {
     "name": "stdout",
     "output_type": "stream",
     "text": [
      "Processing slice z= 122\n"
     ]
    },
    {
     "name": "stderr",
     "output_type": "stream",
     "text": [
      "Uploading: 100%|██████████| 1/1 [00:00<00:00, 13.52it/s]\n"
     ]
    },
    {
     "name": "stdout",
     "output_type": "stream",
     "text": [
      "Processing slice z= 123\n"
     ]
    },
    {
     "name": "stderr",
     "output_type": "stream",
     "text": [
      "Uploading: 100%|██████████| 1/1 [00:00<00:00, 36.27it/s]\n",
      "\n",
      "Uploading: 100%|██████████| 1/1 [00:00<00:00, 20.55it/s]\n"
     ]
    },
    {
     "name": "stdout",
     "output_type": "stream",
     "text": [
      "Processing slice z= 124\n"
     ]
    },
    {
     "name": "stderr",
     "output_type": "stream",
     "text": [
      "Uploading: 100%|██████████| 1/1 [00:00<00:00, 16.52it/s]\n"
     ]
    },
    {
     "name": "stdout",
     "output_type": "stream",
     "text": [
      "Processing slice z= 125\n"
     ]
    },
    {
     "name": "stderr",
     "output_type": "stream",
     "text": [
      "Uploading: 100%|██████████| 1/1 [00:00<00:00, 42.09it/s]\n",
      "Uploading: 100%|██████████| 1/1 [00:00<00:00, 43.78it/s]\n",
      "Uploading: 100%|██████████| 1/1 [00:00<00:00, 15.35it/s]\n",
      "Uploading: 100%|██████████| 1/1 [00:00<00:00, 19.64it/s]"
     ]
    },
    {
     "name": "stdout",
     "output_type": "stream",
     "text": [
      "Processing slice z= 126\n"
     ]
    },
    {
     "name": "stderr",
     "output_type": "stream",
     "text": [
      "\n"
     ]
    },
    {
     "name": "stdout",
     "output_type": "stream",
     "text": [
      "Processing slice z= 127\n"
     ]
    },
    {
     "name": "stderr",
     "output_type": "stream",
     "text": [
      "\n",
      "Uploading:   0%|          | 0/1 [00:00<?, ?it/s]\u001b[A\n",
      "Uploading:   0%|          | 0/1 [00:00<?, ?it/s]\u001b[A\n",
      "Uploading: 100%|██████████| 1/1 [00:00<00:00, 15.58it/s]\n",
      "Uploading: 100%|██████████| 1/1 [00:00<00:00, 34.72it/s]"
     ]
    },
    {
     "name": "stdout",
     "output_type": "stream",
     "text": [
      "Processing slice z= 128\n"
     ]
    },
    {
     "name": "stderr",
     "output_type": "stream",
     "text": [
      "\n",
      "Uploading:   0%|          | 0/1 [00:00<?, ?it/s]\n",
      "Uploading: 100%|██████████| 1/1 [00:00<00:00, 15.80it/s]\n",
      "Uploading: 100%|██████████| 1/1 [00:00<00:00, 33.69it/s]"
     ]
    },
    {
     "name": "stdout",
     "output_type": "stream",
     "text": [
      "Processing slice z= 129\n"
     ]
    },
    {
     "name": "stderr",
     "output_type": "stream",
     "text": [
      "\n",
      "Uploading: 100%|██████████| 1/1 [00:00<00:00, 37.10it/s]\n",
      "Uploading: 100%|██████████| 1/1 [00:00<00:00, 38.57it/s]\n",
      "\n",
      "Uploading:   0%|          | 0/1 [00:00<?, ?it/s]\u001b[A\n",
      "Uploading:   0%|          | 0/1 [00:00<?, ?it/s]\u001b[A\n",
      "Uploading: 100%|██████████| 1/1 [00:00<00:00, 17.73it/s]\n"
     ]
    },
    {
     "name": "stdout",
     "output_type": "stream",
     "text": [
      "Processing slice z= 130\n"
     ]
    },
    {
     "name": "stderr",
     "output_type": "stream",
     "text": [
      "Uploading: 100%|██████████| 1/1 [00:00<00:00, 16.74it/s]\n"
     ]
    },
    {
     "name": "stdout",
     "output_type": "stream",
     "text": [
      "Processing slice z= 131\n"
     ]
    },
    {
     "name": "stderr",
     "output_type": "stream",
     "text": [
      "Uploading: 100%|██████████| 1/1 [00:00<00:00, 16.67it/s]\n",
      "\n"
     ]
    },
    {
     "name": "stdout",
     "output_type": "stream",
     "text": [
      "Processing slice z= 132\n"
     ]
    },
    {
     "name": "stderr",
     "output_type": "stream",
     "text": [
      "Uploading: 100%|██████████| 1/1 [00:00<00:00, 31.93it/s]\n",
      "Uploading: 100%|██████████| 1/1 [00:00<00:00, 44.22it/s]\n",
      "Uploading: 100%|██████████| 1/1 [00:00<00:00, 13.88it/s]\n"
     ]
    },
    {
     "name": "stdout",
     "output_type": "stream",
     "text": [
      "Processing slice z= 133\n"
     ]
    },
    {
     "name": "stderr",
     "output_type": "stream",
     "text": [
      "Uploading: 100%|██████████| 1/1 [00:00<00:00, 33.81it/s]\n",
      "Uploading: 100%|██████████| 1/1 [00:00<00:00, 29.92it/s]\n",
      "Uploading: 100%|██████████| 1/1 [00:00<00:00, 16.35it/s]\n"
     ]
    },
    {
     "name": "stdout",
     "output_type": "stream",
     "text": [
      "Processing slice z= 134\n"
     ]
    },
    {
     "name": "stderr",
     "output_type": "stream",
     "text": [
      "\n",
      "Uploading:   0%|          | 0/1 [00:00<?, ?it/s]\u001b[A\n",
      "Uploading:   0%|          | 0/1 [00:00<?, ?it/s]\u001b[A\n",
      "Uploading: 100%|██████████| 1/1 [00:00<00:00, 14.42it/s]\n"
     ]
    },
    {
     "name": "stdout",
     "output_type": "stream",
     "text": [
      "Processing slice z= 135\n"
     ]
    },
    {
     "name": "stderr",
     "output_type": "stream",
     "text": [
      "Uploading: 100%|██████████| 1/1 [00:00<00:00, 13.72it/s]\n"
     ]
    },
    {
     "name": "stdout",
     "output_type": "stream",
     "text": [
      "Processing slice z= 136\n"
     ]
    },
    {
     "name": "stderr",
     "output_type": "stream",
     "text": [
      "Uploading: 100%|██████████| 1/1 [00:00<00:00, 30.02it/s]\n",
      "Uploading:   0%|          | 0/1 [00:00<?, ?it/s]\n",
      "Uploading:   0%|          | 0/1 [00:00<?, ?it/s]\u001b[A"
     ]
    },
    {
     "name": "stdout",
     "output_type": "stream",
     "text": [
      "success\n",
      "success\n",
      "success\n",
      "success\n",
      "success\n",
      "success\n",
      "success\n",
      "success\n",
      "success\n",
      "success\n",
      "success\n",
      "success\n",
      "success\n",
      "success\n",
      "success\n",
      "success\n",
      "success\n",
      "success\n",
      "success\n",
      "success\n",
      "success\n"
     ]
    },
    {
     "name": "stderr",
     "output_type": "stream",
     "text": [
      "Uploading: 100%|██████████| 1/1 [00:00<00:00, 37.27it/s]\n",
      "\n",
      "Uploading:   0%|          | 0/1 [00:00<?, ?it/s]\u001b[A\n",
      "Uploading:   0%|          | 0/1 [00:00<?, ?it/s]\u001b[A\n",
      "Uploading: 100%|██████████| 1/1 [00:00<00:00, 31.66it/s]\n",
      "Uploading: 100%|██████████| 1/1 [00:00<00:00, 32.38it/s]\n",
      "Uploading: 100%|██████████| 1/1 [00:00<00:00, 17.51it/s]\n"
     ]
    },
    {
     "name": "stdout",
     "output_type": "stream",
     "text": [
      "Processing slice z= 137\n"
     ]
    },
    {
     "name": "stderr",
     "output_type": "stream",
     "text": [
      "Uploading: 100%|██████████| 1/1 [00:00<00:00, 15.39it/s]\n"
     ]
    },
    {
     "name": "stdout",
     "output_type": "stream",
     "text": [
      "Processing slice z= 138\n"
     ]
    },
    {
     "name": "stderr",
     "output_type": "stream",
     "text": [
      "Uploading: 100%|██████████| 1/1 [00:00<00:00, 34.10it/s]\n",
      "Uploading: 100%|██████████| 1/1 [00:00<00:00, 15.38it/s]\n"
     ]
    },
    {
     "name": "stdout",
     "output_type": "stream",
     "text": [
      "Processing slice z= 139\n"
     ]
    },
    {
     "name": "stderr",
     "output_type": "stream",
     "text": [
      "Uploading:   0%|          | 0/1 [00:00<?, ?it/s]\n",
      "Uploading: 100%|██████████| 1/1 [00:00<00:00, 31.78it/s]\n",
      "Uploading: 100%|██████████| 1/1 [00:00<00:00, 31.50it/s]\n",
      "Uploading: 100%|██████████| 1/1 [00:00<00:00, 27.39it/s]\n",
      "\n",
      "Uploading:   0%|          | 0/1 [00:00<?, ?it/s]\u001b[A\n",
      "Uploading: 100%|██████████| 1/1 [00:00<00:00, 50.36it/s]\n",
      "Uploading: 100%|██████████| 1/1 [00:00<00:00, 16.56it/s]\n"
     ]
    },
    {
     "name": "stdout",
     "output_type": "stream",
     "text": [
      "Processing slice z= 140\n"
     ]
    },
    {
     "name": "stderr",
     "output_type": "stream",
     "text": [
      "Uploading: 100%|██████████| 1/1 [00:00<00:00, 15.92it/s]\n",
      "Uploading: 100%|██████████| 1/1 [00:00<00:00, 14.75it/s]"
     ]
    },
    {
     "name": "stdout",
     "output_type": "stream",
     "text": [
      "Processing slice z= 141\n"
     ]
    },
    {
     "name": "stderr",
     "output_type": "stream",
     "text": [
      "\n"
     ]
    },
    {
     "name": "stdout",
     "output_type": "stream",
     "text": [
      "Processing slice z= 142\n"
     ]
    },
    {
     "name": "stderr",
     "output_type": "stream",
     "text": [
      "Uploading: 100%|██████████| 1/1 [00:00<00:00,  8.32it/s]\n"
     ]
    },
    {
     "name": "stdout",
     "output_type": "stream",
     "text": [
      "Processing slice z= 143\n"
     ]
    },
    {
     "name": "stderr",
     "output_type": "stream",
     "text": [
      "Uploading: 100%|██████████| 1/1 [00:00<00:00, 30.71it/s]\n",
      "Uploading: 100%|██████████| 1/1 [00:00<00:00, 30.55it/s]\n",
      "\n",
      "Uploading:   0%|          | 0/1 [00:00<?, ?it/s]\u001b[A\n",
      "Uploading:   0%|          | 0/1 [00:00<?, ?it/s]\u001b[A\n",
      "Uploading: 100%|██████████| 1/1 [00:00<00:00, 16.06it/s]\n"
     ]
    },
    {
     "name": "stdout",
     "output_type": "stream",
     "text": [
      "Processing slice z= 144\n"
     ]
    },
    {
     "name": "stderr",
     "output_type": "stream",
     "text": [
      "\n",
      "Uploading: 100%|██████████| 1/1 [00:00<00:00, 14.70it/s]\n"
     ]
    },
    {
     "name": "stdout",
     "output_type": "stream",
     "text": [
      "Processing slice z= 145\n"
     ]
    },
    {
     "name": "stderr",
     "output_type": "stream",
     "text": [
      "Uploading: 100%|██████████| 1/1 [00:00<00:00,  8.53it/s]\n",
      "Uploading:   0%|          | 0/1 [00:00<?, ?it/s]"
     ]
    },
    {
     "name": "stdout",
     "output_type": "stream",
     "text": [
      "Processing slice z= 146\n"
     ]
    },
    {
     "name": "stderr",
     "output_type": "stream",
     "text": [
      "Uploading: 100%|██████████| 1/1 [00:00<00:00, 45.36it/s]\n",
      "Uploading: 100%|██████████| 1/1 [00:00<00:00, 33.30it/s]\n",
      "Uploading: 100%|██████████| 1/1 [00:00<00:00, 29.38it/s]\n",
      "\n",
      "Uploading: 100%|██████████| 1/1 [00:00<00:00, 37.33it/s]\n",
      "Uploading: 100%|██████████| 1/1 [00:00<00:00, 16.57it/s]\n",
      "\n"
     ]
    },
    {
     "name": "stdout",
     "output_type": "stream",
     "text": [
      "Processing slice z= 147\n"
     ]
    },
    {
     "name": "stderr",
     "output_type": "stream",
     "text": [
      "Uploading:   0%|          | 0/1 [00:00<?, ?it/s]\u001b[A\n",
      "Uploading: 100%|██████████| 1/1 [00:00<00:00,  8.73it/s]\n",
      "Uploading:   0%|          | 0/1 [00:00<?, ?it/s]"
     ]
    },
    {
     "name": "stdout",
     "output_type": "stream",
     "text": [
      "Processing slice z= 148\n"
     ]
    },
    {
     "name": "stderr",
     "output_type": "stream",
     "text": [
      "Uploading: 100%|██████████| 1/1 [00:00<00:00, 13.78it/s]\n",
      "Uploading: 100%|██████████| 1/1 [00:00<00:00, 13.72it/s]"
     ]
    },
    {
     "name": "stdout",
     "output_type": "stream",
     "text": [
      "Processing slice z= 149\n"
     ]
    },
    {
     "name": "stderr",
     "output_type": "stream",
     "text": [
      "\n"
     ]
    },
    {
     "name": "stdout",
     "output_type": "stream",
     "text": [
      "Processing slice z= 150\n"
     ]
    },
    {
     "name": "stderr",
     "output_type": "stream",
     "text": [
      "Uploading: 100%|██████████| 1/1 [00:00<00:00, 15.90it/s]\n"
     ]
    },
    {
     "name": "stdout",
     "output_type": "stream",
     "text": [
      "Processing slice z= 151\n"
     ]
    },
    {
     "name": "stderr",
     "output_type": "stream",
     "text": [
      "Uploading: 100%|██████████| 1/1 [00:00<00:00, 39.32it/s]\n",
      "Uploading:   0%|          | 0/1 [00:00<?, ?it/s]\n",
      "Uploading: 100%|██████████| 1/1 [00:00<00:00, 40.11it/s]\n",
      "Uploading: 100%|██████████| 1/1 [00:00<00:00, 34.22it/s]\n",
      "\n",
      "Uploading:   0%|          | 0/1 [00:00<?, ?it/s]\u001b[A\n",
      "Uploading: 100%|██████████| 1/1 [00:00<00:00, 14.86it/s]\n"
     ]
    },
    {
     "name": "stdout",
     "output_type": "stream",
     "text": [
      "Processing slice z= 152\n"
     ]
    },
    {
     "name": "stderr",
     "output_type": "stream",
     "text": [
      "\n",
      "Uploading: 100%|██████████| 1/1 [00:00<00:00, 15.02it/s]\n",
      "\n"
     ]
    },
    {
     "name": "stdout",
     "output_type": "stream",
     "text": [
      "Processing slice z= 153\n"
     ]
    },
    {
     "name": "stderr",
     "output_type": "stream",
     "text": [
      "Uploading: 100%|██████████| 1/1 [00:00<00:00, 38.08it/s]\n",
      "Uploading: 100%|██████████| 1/1 [00:00<00:00, 12.37it/s]\n"
     ]
    },
    {
     "name": "stdout",
     "output_type": "stream",
     "text": [
      "Processing slice z= 154\n"
     ]
    },
    {
     "name": "stderr",
     "output_type": "stream",
     "text": [
      "Uploading: 100%|██████████| 1/1 [00:00<00:00, 34.42it/s]\n",
      "Uploading: 100%|██████████| 1/1 [00:00<00:00, 15.84it/s]\n"
     ]
    },
    {
     "name": "stdout",
     "output_type": "stream",
     "text": [
      "Processing slice z= 155\n"
     ]
    },
    {
     "name": "stderr",
     "output_type": "stream",
     "text": [
      "Uploading: 100%|██████████| 1/1 [00:00<00:00, 33.44it/s]\n",
      "\n",
      "Uploading:   0%|          | 0/1 [00:00<?, ?it/s]\u001b[A\n",
      "Uploading: 100%|██████████| 1/1 [00:00<00:00, 31.25it/s]\n",
      "Uploading: 100%|██████████| 1/1 [00:00<00:00, 34.63it/s]\n",
      "Uploading: 100%|██████████| 1/1 [00:00<00:00, 14.19it/s]\n"
     ]
    },
    {
     "name": "stdout",
     "output_type": "stream",
     "text": [
      "Processing slice z= 156\n"
     ]
    },
    {
     "name": "stderr",
     "output_type": "stream",
     "text": [
      "Uploading: 100%|██████████| 1/1 [00:00<00:00, 13.15it/s]\n"
     ]
    },
    {
     "name": "stdout",
     "output_type": "stream",
     "text": [
      "Processing slice z= 157\n"
     ]
    },
    {
     "name": "stderr",
     "output_type": "stream",
     "text": [
      "Uploading: 100%|██████████| 1/1 [00:00<00:00, 40.88it/s]\n",
      "Uploading: 100%|██████████| 1/1 [00:00<00:00, 12.64it/s]\n"
     ]
    },
    {
     "name": "stdout",
     "output_type": "stream",
     "text": [
      "Processing slice z= 158\n"
     ]
    },
    {
     "name": "stderr",
     "output_type": "stream",
     "text": [
      "Uploading: 100%|██████████| 1/1 [00:00<00:00, 13.89it/s]\n",
      "\n"
     ]
    },
    {
     "name": "stdout",
     "output_type": "stream",
     "text": [
      "Processing slice z= 159\n"
     ]
    },
    {
     "name": "stderr",
     "output_type": "stream",
     "text": [
      "Uploading:   0%|          | 0/1 [00:00<?, ?it/s]\u001b[A\n",
      "Uploading: 100%|██████████| 1/1 [00:00<00:00, 30.36it/s]\n",
      "Uploading: 100%|██████████| 1/1 [00:00<00:00, 14.57it/s]\n"
     ]
    },
    {
     "name": "stdout",
     "output_type": "stream",
     "text": [
      "Processing slice z= 160\n"
     ]
    },
    {
     "name": "stderr",
     "output_type": "stream",
     "text": [
      "Uploading: 100%|██████████| 1/1 [00:00<00:00, 13.89it/s]\n"
     ]
    },
    {
     "name": "stdout",
     "output_type": "stream",
     "text": [
      "Processing slice z= 161\n"
     ]
    },
    {
     "name": "stderr",
     "output_type": "stream",
     "text": [
      "Uploading: 100%|██████████| 1/1 [00:00<00:00, 41.57it/s]\n",
      "\n",
      "Uploading:   0%|          | 0/1 [00:00<?, ?it/s]"
     ]
    },
    {
     "name": "stdout",
     "output_type": "stream",
     "text": [
      "success\n",
      "success\n",
      "success\n",
      "success\n",
      "success\n",
      "success\n",
      "success\n",
      "success\n",
      "success\n",
      "success\n",
      "success\n",
      "success\n",
      "success\n",
      "success\n",
      "success\n",
      "success\n",
      "success\n",
      "success\n",
      "success\n",
      "success\n",
      "success\n",
      "success\n",
      "success\n",
      "success\n",
      "success\n"
     ]
    },
    {
     "name": "stderr",
     "output_type": "stream",
     "text": [
      "\u001b[A\n",
      "Uploading:   0%|          | 0/1 [00:00<?, ?it/s]\u001b[A\n",
      "Uploading:   0%|          | 0/1 [00:00<?, ?it/s]\u001b[A\n",
      "Uploading: 100%|██████████| 1/1 [00:00<00:00, 27.17it/s]\n",
      "Uploading: 100%|██████████| 1/1 [00:00<00:00, 13.27it/s]\n"
     ]
    },
    {
     "name": "stdout",
     "output_type": "stream",
     "text": [
      "Processing slice z= 162\n"
     ]
    },
    {
     "name": "stderr",
     "output_type": "stream",
     "text": [
      "Uploading: 100%|██████████| 1/1 [00:00<00:00, 38.61it/s]\n",
      "\n",
      "Uploading:   0%|          | 0/1 [00:00<?, ?it/s]\u001b[A\n",
      "Uploading: 100%|██████████| 1/1 [00:00<00:00, 12.73it/s]\n",
      "Uploading: 100%|██████████| 1/1 [00:00<00:00, 35.20it/s]"
     ]
    },
    {
     "name": "stdout",
     "output_type": "stream",
     "text": [
      "Processing slice z= 163\n"
     ]
    },
    {
     "name": "stderr",
     "output_type": "stream",
     "text": [
      "\n",
      "Uploading: 100%|██████████| 1/1 [00:00<00:00, 33.04it/s]\n",
      "Uploading: 100%|██████████| 1/1 [00:00<00:00, 26.53it/s]\n",
      "\n",
      "Uploading: 100%|██████████| 1/1 [00:00<00:00, 17.24it/s]\n"
     ]
    },
    {
     "name": "stdout",
     "output_type": "stream",
     "text": [
      "Processing slice z= 164\n"
     ]
    },
    {
     "name": "stderr",
     "output_type": "stream",
     "text": [
      "Uploading: 100%|██████████| 1/1 [00:00<00:00, 16.03it/s]\n"
     ]
    },
    {
     "name": "stdout",
     "output_type": "stream",
     "text": [
      "Processing slice z= 165\n"
     ]
    },
    {
     "name": "stderr",
     "output_type": "stream",
     "text": [
      "Uploading: 100%|██████████| 1/1 [00:00<00:00, 11.87it/s]\n"
     ]
    },
    {
     "name": "stdout",
     "output_type": "stream",
     "text": [
      "Processing slice z= 166\n"
     ]
    },
    {
     "name": "stderr",
     "output_type": "stream",
     "text": [
      "Uploading: 100%|██████████| 1/1 [00:00<00:00, 13.26it/s]\n"
     ]
    },
    {
     "name": "stdout",
     "output_type": "stream",
     "text": [
      "Processing slice z= 167\n"
     ]
    },
    {
     "name": "stderr",
     "output_type": "stream",
     "text": [
      "Uploading: 100%|██████████| 1/1 [00:00<00:00, 28.42it/s]\n",
      "\n",
      "Uploading: 100%|██████████| 1/1 [00:00<00:00, 28.05it/s]\n",
      "Uploading:   0%|          | 0/1 [00:00<?, ?it/s]\n",
      "Uploading:   0%|          | 0/1 [00:00<?, ?it/s]\u001b[A\n",
      "Uploading: 100%|██████████| 1/1 [00:00<00:00, 26.89it/s]\n",
      "Uploading: 100%|██████████| 1/1 [00:00<00:00, 12.41it/s]\n",
      "\n"
     ]
    },
    {
     "name": "stdout",
     "output_type": "stream",
     "text": [
      "Processing slice z= 168\n"
     ]
    },
    {
     "name": "stderr",
     "output_type": "stream",
     "text": [
      "Uploading: 100%|██████████| 1/1 [00:00<00:00, 13.07it/s]\n",
      "Uploading: 100%|██████████| 1/1 [00:00<00:00, 40.36it/s]"
     ]
    },
    {
     "name": "stdout",
     "output_type": "stream",
     "text": [
      "Processing slice z= 169\n"
     ]
    },
    {
     "name": "stderr",
     "output_type": "stream",
     "text": [
      "\n",
      "Uploading: 100%|██████████| 1/1 [00:00<00:00, 13.40it/s]\n"
     ]
    },
    {
     "name": "stdout",
     "output_type": "stream",
     "text": [
      "Processing slice z= 170\n"
     ]
    },
    {
     "name": "stderr",
     "output_type": "stream",
     "text": [
      "Uploading: 100%|██████████| 1/1 [00:00<00:00, 29.66it/s]\n",
      "Uploading: 100%|██████████| 1/1 [00:00<00:00, 26.05it/s]\n",
      "\n",
      "Uploading:   0%|          | 0/1 [00:00<?, ?it/s]\u001b[A\n",
      "Uploading:   0%|          | 0/1 [00:00<?, ?it/s]\u001b[A\n",
      "Uploading: 100%|██████████| 1/1 [00:00<00:00, 28.94it/s]\n",
      "Uploading: 100%|██████████| 1/1 [00:00<00:00, 13.95it/s]\n"
     ]
    },
    {
     "name": "stdout",
     "output_type": "stream",
     "text": [
      "Processing slice z= 171\n"
     ]
    },
    {
     "name": "stderr",
     "output_type": "stream",
     "text": [
      "Uploading: 100%|██████████| 1/1 [00:00<00:00, 11.90it/s]\n"
     ]
    },
    {
     "name": "stdout",
     "output_type": "stream",
     "text": [
      "Processing slice z= 172\n"
     ]
    },
    {
     "name": "stderr",
     "output_type": "stream",
     "text": [
      "\n",
      "Uploading: 100%|██████████| 1/1 [00:00<00:00, 13.66it/s]\n"
     ]
    },
    {
     "name": "stdout",
     "output_type": "stream",
     "text": [
      "Processing slice z= 173\n"
     ]
    },
    {
     "name": "stderr",
     "output_type": "stream",
     "text": [
      "Uploading: 100%|██████████| 1/1 [00:00<00:00, 36.95it/s]\n",
      "Uploading: 100%|██████████| 1/1 [00:00<00:00, 35.97it/s]\n",
      "Uploading: 100%|██████████| 1/1 [00:00<00:00, 26.23it/s]\n",
      "Uploading:   0%|          | 0/1 [00:00<?, ?it/s]\n",
      "Uploading: 100%|██████████| 1/1 [00:00<00:00,  8.34it/s]\n"
     ]
    },
    {
     "name": "stdout",
     "output_type": "stream",
     "text": [
      "Processing slice z= 174\n"
     ]
    },
    {
     "name": "stderr",
     "output_type": "stream",
     "text": [
      "\n",
      "Uploading: 100%|██████████| 1/1 [00:00<00:00, 11.46it/s]\n"
     ]
    },
    {
     "name": "stdout",
     "output_type": "stream",
     "text": [
      "Processing slice z= 175\n"
     ]
    },
    {
     "name": "stderr",
     "output_type": "stream",
     "text": [
      "Uploading: 100%|██████████| 1/1 [00:00<00:00, 15.38it/s]\n",
      "\n"
     ]
    },
    {
     "name": "stdout",
     "output_type": "stream",
     "text": [
      "Processing slice z= 176\n"
     ]
    },
    {
     "name": "stderr",
     "output_type": "stream",
     "text": [
      "Uploading: 100%|██████████| 1/1 [00:00<00:00, 26.21it/s]\n",
      "Uploading: 100%|██████████| 1/1 [00:00<00:00, 12.39it/s]\n"
     ]
    },
    {
     "name": "stdout",
     "output_type": "stream",
     "text": [
      "Processing slice z= 177\n"
     ]
    },
    {
     "name": "stderr",
     "output_type": "stream",
     "text": [
      "Uploading: 100%|██████████| 1/1 [00:00<00:00, 15.16it/s]\n"
     ]
    },
    {
     "name": "stdout",
     "output_type": "stream",
     "text": [
      "Processing slice z= 178\n"
     ]
    },
    {
     "name": "stderr",
     "output_type": "stream",
     "text": [
      "\n",
      "Uploading:   0%|          | 0/1 [00:00<?, ?it/s]\u001b[A\n",
      "Uploading:   0%|          | 0/1 [00:00<?, ?it/s]\u001b[A\n",
      "Uploading: 100%|██████████| 1/1 [00:00<00:00, 33.51it/s]\n",
      "Uploading: 100%|██████████| 1/1 [00:00<00:00, 26.26it/s]\n",
      "\n",
      "Uploading: 100%|██████████| 1/1 [00:00<00:00, 20.29it/s]\n",
      "\n",
      "Uploading:   0%|          | 0/1 [00:00<?, ?it/s]\u001b[A"
     ]
    },
    {
     "name": "stdout",
     "output_type": "stream",
     "text": [
      "success\n",
      "success\n",
      "success\n",
      "success\n",
      "success\n",
      "success\n",
      "success\n",
      "success\n",
      "success\n",
      "success\n",
      "success\n",
      "success\n",
      "success\n",
      "success\n",
      "success\n",
      "success\n",
      "success\n"
     ]
    },
    {
     "name": "stderr",
     "output_type": "stream",
     "text": [
      "Uploading: 100%|██████████| 1/1 [00:00<00:00, 16.85it/s]\n"
     ]
    },
    {
     "name": "stdout",
     "output_type": "stream",
     "text": [
      "Processing slice z= 179\n"
     ]
    },
    {
     "name": "stderr",
     "output_type": "stream",
     "text": [
      "Uploading: 100%|██████████| 1/1 [00:00<00:00, 12.56it/s]\n"
     ]
    },
    {
     "name": "stdout",
     "output_type": "stream",
     "text": [
      "Processing slice z= 180\n"
     ]
    },
    {
     "name": "stderr",
     "output_type": "stream",
     "text": [
      "Uploading: 100%|██████████| 1/1 [00:00<00:00, 32.71it/s]\n",
      "Uploading: 100%|██████████| 1/1 [00:00<00:00, 29.21it/s]\n",
      "Uploading: 100%|██████████| 1/1 [00:00<00:00, 29.34it/s]\n",
      "Uploading: 100%|██████████| 1/1 [00:00<00:00, 37.31it/s]\n",
      "\n",
      "Uploading:   0%|          | 0/1 [00:00<?, ?it/s]\u001b[A\n",
      "Uploading: 100%|██████████| 1/1 [00:00<00:00, 33.53it/s]\n",
      "Uploading: 100%|██████████| 1/1 [00:00<00:00,  8.83it/s]\n"
     ]
    },
    {
     "name": "stdout",
     "output_type": "stream",
     "text": [
      "Processing slice z= 181\n"
     ]
    },
    {
     "name": "stderr",
     "output_type": "stream",
     "text": [
      "Uploading: 100%|██████████| 1/1 [00:00<00:00, 17.00it/s]\n"
     ]
    },
    {
     "name": "stdout",
     "output_type": "stream",
     "text": [
      "Processing slice z= 182\n"
     ]
    },
    {
     "name": "stderr",
     "output_type": "stream",
     "text": [
      "Uploading: 100%|██████████| 1/1 [00:00<00:00, 38.31it/s]\n",
      "\n",
      "Uploading:   0%|          | 0/1 [00:00<?, ?it/s]\u001b[A\n",
      "Uploading: 100%|██████████| 1/1 [00:00<00:00, 30.37it/s]\n",
      "Uploading: 100%|██████████| 1/1 [00:00<00:00, 17.73it/s]\n"
     ]
    },
    {
     "name": "stdout",
     "output_type": "stream",
     "text": [
      "Processing slice z= 183\n"
     ]
    },
    {
     "name": "stderr",
     "output_type": "stream",
     "text": [
      "Uploading: 100%|██████████| 1/1 [00:00<00:00, 16.02it/s]\n"
     ]
    },
    {
     "name": "stdout",
     "output_type": "stream",
     "text": [
      "Processing slice z= 184\n"
     ]
    },
    {
     "name": "stderr",
     "output_type": "stream",
     "text": [
      "Uploading: 100%|██████████| 1/1 [00:00<00:00,  8.92it/s]\n",
      "Uploading: 100%|██████████| 1/1 [00:00<00:00,  8.82it/s]"
     ]
    },
    {
     "name": "stdout",
     "output_type": "stream",
     "text": [
      "Processing slice z= 185\n"
     ]
    },
    {
     "name": "stderr",
     "output_type": "stream",
     "text": [
      "\n",
      "\n"
     ]
    },
    {
     "name": "stdout",
     "output_type": "stream",
     "text": [
      "Processing slice z= 186\n"
     ]
    },
    {
     "name": "stderr",
     "output_type": "stream",
     "text": [
      "Uploading: 100%|██████████| 1/1 [00:00<00:00,  8.30it/s]\n"
     ]
    },
    {
     "name": "stdout",
     "output_type": "stream",
     "text": [
      "Processing slice z= 187\n"
     ]
    },
    {
     "name": "stderr",
     "output_type": "stream",
     "text": [
      "Uploading: 100%|██████████| 1/1 [00:00<00:00, 30.04it/s]\n",
      "Uploading: 100%|██████████| 1/1 [00:00<00:00,  7.84it/s]\n"
     ]
    },
    {
     "name": "stdout",
     "output_type": "stream",
     "text": [
      "Processing slice z= 188\n"
     ]
    },
    {
     "name": "stderr",
     "output_type": "stream",
     "text": [
      "Uploading: 100%|██████████| 1/1 [00:00<00:00, 24.79it/s]\n",
      "\n",
      "Uploading:   0%|          | 0/1 [00:00<?, ?it/s]\u001b[A\n",
      "Uploading:   0%|          | 0/1 [00:00<?, ?it/s]\u001b[A\n",
      "Uploading: 100%|██████████| 1/1 [00:00<00:00, 25.98it/s]\n",
      "\n",
      "Uploading:   0%|          | 0/1 [00:00<?, ?it/s]\u001b[A\n",
      "Uploading: 100%|██████████| 1/1 [00:00<00:00, 39.40it/s]\n",
      "Uploading: 100%|██████████| 1/1 [00:00<00:00, 35.59it/s]\n",
      "Uploading: 100%|██████████| 1/1 [00:00<00:00, 15.84it/s]\n"
     ]
    },
    {
     "name": "stdout",
     "output_type": "stream",
     "text": [
      "Processing slice z= 189\n"
     ]
    },
    {
     "name": "stderr",
     "output_type": "stream",
     "text": [
      "Uploading: 100%|██████████| 1/1 [00:00<00:00,  8.82it/s]\n"
     ]
    },
    {
     "name": "stdout",
     "output_type": "stream",
     "text": [
      "Processing slice z= 190\n"
     ]
    },
    {
     "name": "stderr",
     "output_type": "stream",
     "text": [
      "Uploading: 100%|██████████| 1/1 [00:00<00:00,  8.81it/s]\n"
     ]
    },
    {
     "name": "stdout",
     "output_type": "stream",
     "text": [
      "Processing slice z= 191\n"
     ]
    },
    {
     "name": "stderr",
     "output_type": "stream",
     "text": [
      "Uploading: 100%|██████████| 1/1 [00:00<00:00, 16.15it/s]\n",
      "Uploading: 100%|██████████| 1/1 [00:00<00:00, 25.08it/s]"
     ]
    },
    {
     "name": "stdout",
     "output_type": "stream",
     "text": [
      "Processing slice z= 192\n"
     ]
    },
    {
     "name": "stderr",
     "output_type": "stream",
     "text": [
      "\n",
      "Uploading: 100%|██████████| 1/1 [00:00<00:00, 29.94it/s]\n",
      "Uploading: 100%|██████████| 1/1 [00:00<00:00, 29.12it/s]\n",
      "\n",
      "Uploading: 100%|██████████| 1/1 [00:00<00:00, 12.79it/s]\n"
     ]
    },
    {
     "name": "stdout",
     "output_type": "stream",
     "text": [
      "Processing slice z= 193\n"
     ]
    },
    {
     "name": "stderr",
     "output_type": "stream",
     "text": [
      "\n",
      "Uploading:   0%|          | 0/1 [00:00<?, ?it/s]\u001b[A\n",
      "Uploading:   0%|          | 0/1 [00:00<?, ?it/s]\u001b[A\n",
      "Uploading: 100%|██████████| 1/1 [00:00<00:00, 14.07it/s]\n"
     ]
    },
    {
     "name": "stdout",
     "output_type": "stream",
     "text": [
      "Processing slice z= 194\n"
     ]
    },
    {
     "name": "stderr",
     "output_type": "stream",
     "text": [
      "Uploading: 100%|██████████| 1/1 [00:00<00:00, 13.49it/s]\n"
     ]
    },
    {
     "name": "stdout",
     "output_type": "stream",
     "text": [
      "Processing slice z= 195\n"
     ]
    },
    {
     "name": "stderr",
     "output_type": "stream",
     "text": [
      "Uploading: 100%|██████████| 1/1 [00:00<00:00,  8.33it/s]\n"
     ]
    },
    {
     "name": "stdout",
     "output_type": "stream",
     "text": [
      "Processing slice z= 196\n"
     ]
    },
    {
     "name": "stderr",
     "output_type": "stream",
     "text": [
      "Uploading:   0%|          | 0/1 [00:00<?, ?it/s]\n",
      "Uploading:   0%|          | 0/1 [00:00<?, ?it/s]\u001b[A\n",
      "Uploading: 100%|██████████| 1/1 [00:00<00:00, 26.24it/s]\n",
      "\n",
      "Uploading:   0%|          | 0/1 [00:00<?, ?it/s]\u001b[A\n",
      "Uploading: 100%|██████████| 1/1 [00:00<00:00, 27.16it/s]\n",
      "Uploading: 100%|██████████| 1/1 [00:00<00:00, 23.87it/s]\n",
      "Uploading: 100%|██████████| 1/1 [00:00<00:00, 25.39it/s]\n",
      "Uploading: 100%|██████████| 1/1 [00:00<00:00, 15.51it/s]\n"
     ]
    },
    {
     "name": "stdout",
     "output_type": "stream",
     "text": [
      "Processing slice z= 197\n"
     ]
    },
    {
     "name": "stderr",
     "output_type": "stream",
     "text": [
      "Uploading: 100%|██████████| 1/1 [00:00<00:00, 14.46it/s]\n"
     ]
    },
    {
     "name": "stdout",
     "output_type": "stream",
     "text": [
      "success\n",
      "success\n",
      "success\n",
      "success\n",
      "success\n",
      "success\n",
      "success\n",
      "success\n",
      "success\n",
      "success\n",
      "success\n",
      "success\n",
      "success\n",
      "success\n",
      "success\n",
      "success\n",
      "success\n",
      "success\n"
     ]
    },
    {
     "name": "stderr",
     "output_type": "stream",
     "text": [
      "\r",
      "Uploading: 100%|██████████| 1/1 [00:00<00:00, 13.88it/s]"
     ]
    },
    {
     "name": "stdout",
     "output_type": "stream",
     "text": [
      "Processing slice z= 198\n"
     ]
    },
    {
     "name": "stderr",
     "output_type": "stream",
     "text": [
      "\n",
      "Uploading:   0%|          | 0/1 [00:00<?, ?it/s]"
     ]
    },
    {
     "name": "stdout",
     "output_type": "stream",
     "text": [
      "Processing slice z= 199\n"
     ]
    },
    {
     "name": "stderr",
     "output_type": "stream",
     "text": [
      "Uploading: 100%|██████████| 1/1 [00:00<00:00, 27.85it/s]\n",
      "Uploading: 100%|██████████| 1/1 [00:00<00:00, 29.92it/s]\n",
      "Uploading: 100%|██████████| 1/1 [00:00<00:00, 24.38it/s]\n",
      "Uploading: 100%|██████████| 1/1 [00:00<00:00, 24.70it/s]\n",
      "\n",
      "Uploading:   0%|          | 0/1 [00:00<?, ?it/s]\u001b[A\n",
      "Uploading: 100%|██████████| 1/1 [00:00<00:00, 12.94it/s]\n",
      "Uploading: 100%|██████████| 1/1 [00:00<00:00, 13.09it/s]"
     ]
    },
    {
     "name": "stdout",
     "output_type": "stream",
     "text": [
      "Processing slice z= 200\n"
     ]
    },
    {
     "name": "stderr",
     "output_type": "stream",
     "text": [
      "\n",
      "Uploading: 100%|██████████| 1/1 [00:00<00:00,  8.39it/s]"
     ]
    },
    {
     "name": "stdout",
     "output_type": "stream",
     "text": [
      "Processing slice z= 201\n"
     ]
    },
    {
     "name": "stderr",
     "output_type": "stream",
     "text": [
      "\n"
     ]
    },
    {
     "name": "stdout",
     "output_type": "stream",
     "text": [
      "Processing slice z= 202\n"
     ]
    },
    {
     "name": "stderr",
     "output_type": "stream",
     "text": [
      "Uploading: 100%|██████████| 1/1 [00:00<00:00, 12.22it/s]\n",
      "\n"
     ]
    },
    {
     "name": "stdout",
     "output_type": "stream",
     "text": [
      "Processing slice z= 203\n"
     ]
    },
    {
     "name": "stderr",
     "output_type": "stream",
     "text": [
      "Uploading: 100%|██████████| 1/1 [00:00<00:00, 11.53it/s]\n"
     ]
    },
    {
     "name": "stdout",
     "output_type": "stream",
     "text": [
      "Processing slice z= 204\n"
     ]
    },
    {
     "name": "stderr",
     "output_type": "stream",
     "text": [
      "Uploading: 100%|██████████| 1/1 [00:00<00:00, 25.70it/s]\n",
      "Uploading: 100%|██████████| 1/1 [00:00<00:00, 25.82it/s]\n",
      "\n",
      "Uploading:   0%|          | 0/1 [00:00<?, ?it/s]\u001b[A\n",
      "Uploading:   0%|          | 0/1 [00:00<?, ?it/s]\u001b[A\n",
      "Uploading:   0%|          | 0/1 [00:00<?, ?it/s]\u001b[A\n",
      "Uploading:   0%|          | 0/1 [00:00<?, ?it/s]\u001b[A\n",
      "Uploading: 100%|██████████| 1/1 [00:00<00:00, 25.85it/s]\n",
      "Uploading: 100%|██████████| 1/1 [00:00<00:00, 12.30it/s]\n"
     ]
    },
    {
     "name": "stdout",
     "output_type": "stream",
     "text": [
      "Processing slice z= 205\n"
     ]
    },
    {
     "name": "stderr",
     "output_type": "stream",
     "text": [
      "Uploading: 100%|██████████| 1/1 [00:00<00:00, 12.23it/s]\n"
     ]
    },
    {
     "name": "stdout",
     "output_type": "stream",
     "text": [
      "Processing slice z= 206\n"
     ]
    },
    {
     "name": "stderr",
     "output_type": "stream",
     "text": [
      "Uploading: 100%|██████████| 1/1 [00:00<00:00, 12.53it/s]\n"
     ]
    },
    {
     "name": "stdout",
     "output_type": "stream",
     "text": [
      "Processing slice z= 207\n"
     ]
    },
    {
     "name": "stderr",
     "output_type": "stream",
     "text": [
      "Uploading: 100%|██████████| 1/1 [00:00<00:00, 35.06it/s]\n",
      "Uploading: 100%|██████████| 1/1 [00:00<00:00, 35.90it/s]\n",
      "\n",
      "Uploading:   0%|          | 0/1 [00:00<?, ?it/s]\u001b[A\n",
      "Uploading: 100%|██████████| 1/1 [00:00<00:00, 33.37it/s]\n",
      "Uploading: 100%|██████████| 1/1 [00:00<00:00, 33.87it/s]\n",
      "Uploading: 100%|██████████| 1/1 [00:00<00:00, 15.18it/s]\n"
     ]
    },
    {
     "name": "stdout",
     "output_type": "stream",
     "text": [
      "Processing slice z= 208\n"
     ]
    },
    {
     "name": "stderr",
     "output_type": "stream",
     "text": [
      "Uploading: 100%|██████████| 1/1 [00:00<00:00, 13.22it/s]\n"
     ]
    },
    {
     "name": "stdout",
     "output_type": "stream",
     "text": [
      "Processing slice z= 209\n"
     ]
    },
    {
     "name": "stderr",
     "output_type": "stream",
     "text": [
      "Uploading: 100%|██████████| 1/1 [00:00<00:00, 13.35it/s]\n",
      "Uploading: 100%|██████████| 1/1 [00:00<00:00, 22.47it/s]"
     ]
    },
    {
     "name": "stdout",
     "output_type": "stream",
     "text": [
      "Processing slice z= 210\n"
     ]
    },
    {
     "name": "stderr",
     "output_type": "stream",
     "text": [
      "\n",
      "Uploading: 100%|██████████| 1/1 [00:00<00:00, 14.47it/s]\n",
      "\n"
     ]
    },
    {
     "name": "stdout",
     "output_type": "stream",
     "text": [
      "Processing slice z= 211\n"
     ]
    },
    {
     "name": "stderr",
     "output_type": "stream",
     "text": [
      "Uploading: 100%|██████████| 1/1 [00:00<00:00, 35.55it/s]\n",
      "Uploading: 100%|██████████| 1/1 [00:00<00:00, 35.63it/s]\n",
      "Uploading: 100%|██████████| 1/1 [00:00<00:00, 11.87it/s]\n"
     ]
    },
    {
     "name": "stdout",
     "output_type": "stream",
     "text": [
      "Processing slice z= 212\n"
     ]
    },
    {
     "name": "stderr",
     "output_type": "stream",
     "text": [
      "\n",
      "Uploading:   0%|          | 0/1 [00:00<?, ?it/s]\u001b[A\n",
      "Uploading:   0%|          | 0/1 [00:00<?, ?it/s]\u001b[A\n",
      "Uploading:   0%|          | 0/1 [00:00<?, ?it/s]\u001b[A\n",
      "Uploading: 100%|██████████| 1/1 [00:00<00:00, 27.60it/s]\n",
      "\n",
      "Uploading: 100%|██████████| 1/1 [00:00<00:00, 13.86it/s]\n"
     ]
    },
    {
     "name": "stdout",
     "output_type": "stream",
     "text": [
      "Processing slice z= 213\n"
     ]
    },
    {
     "name": "stderr",
     "output_type": "stream",
     "text": [
      "Uploading: 100%|██████████| 1/1 [00:00<00:00, 31.74it/s]\n",
      "Uploading: 100%|██████████| 1/1 [00:00<00:00, 32.15it/s]\n",
      "Uploading: 100%|██████████| 1/1 [00:00<00:00, 24.77it/s]\n",
      "Uploading: 100%|██████████| 1/1 [00:00<00:00, 14.89it/s]\n",
      "Uploading: 100%|██████████| 1/1 [00:00<00:00, 34.82it/s]"
     ]
    },
    {
     "name": "stdout",
     "output_type": "stream",
     "text": [
      "Processing slice z= 214\n"
     ]
    },
    {
     "name": "stderr",
     "output_type": "stream",
     "text": [
      "\n",
      "Uploading: 100%|██████████| 1/1 [00:00<00:00,  8.70it/s]\n"
     ]
    },
    {
     "name": "stdout",
     "output_type": "stream",
     "text": [
      "Processing slice z= 215\n"
     ]
    },
    {
     "name": "stderr",
     "output_type": "stream",
     "text": [
      "Uploading: 100%|██████████| 1/1 [00:00<00:00,  8.68it/s]\n",
      "Uploading: 100%|██████████| 1/1 [00:00<00:00, 15.87it/s]"
     ]
    },
    {
     "name": "stdout",
     "output_type": "stream",
     "text": [
      "Processing slice z= 216\n"
     ]
    },
    {
     "name": "stderr",
     "output_type": "stream",
     "text": [
      "\n"
     ]
    },
    {
     "name": "stdout",
     "output_type": "stream",
     "text": [
      "Processing slice z= 217\n"
     ]
    },
    {
     "name": "stderr",
     "output_type": "stream",
     "text": [
      "\n",
      "Uploading: 100%|██████████| 1/1 [00:00<00:00, 23.27it/s]\n",
      "Uploading: 100%|██████████| 1/1 [00:00<00:00, 12.71it/s]\n",
      "Uploading:   0%|          | 0/1 [00:00<?, ?it/s]"
     ]
    },
    {
     "name": "stdout",
     "output_type": "stream",
     "text": [
      "Processing slice z= 218\n"
     ]
    },
    {
     "name": "stderr",
     "output_type": "stream",
     "text": [
      "Uploading: 100%|██████████| 1/1 [00:00<00:00, 15.15it/s]\n"
     ]
    },
    {
     "name": "stdout",
     "output_type": "stream",
     "text": [
      "Processing slice z= 219\n"
     ]
    },
    {
     "name": "stderr",
     "output_type": "stream",
     "text": [
      "Uploading: 100%|██████████| 1/1 [00:00<00:00, 10.95it/s]\n"
     ]
    },
    {
     "name": "stdout",
     "output_type": "stream",
     "text": [
      "Processing slice z= 220\n"
     ]
    },
    {
     "name": "stderr",
     "output_type": "stream",
     "text": [
      "\n",
      "Uploading:   0%|          | 0/1 [00:00<?, ?it/s]\u001b[A\n",
      "Uploading:   0%|          | 0/1 [00:00<?, ?it/s]\u001b[A\n"
     ]
    },
    {
     "name": "stdout",
     "output_type": "stream",
     "text": [
      "success\n",
      "success\n",
      "success\n",
      "success\n",
      "success\n",
      "success\n",
      "success\n",
      "success\n",
      "success\n",
      "success\n",
      "success\n",
      "success\n",
      "success\n",
      "success\n",
      "success\n",
      "success\n",
      "success\n",
      "success\n",
      "success\n",
      "success\n",
      "success\n",
      "success\n",
      "success\n",
      "success\n"
     ]
    },
    {
     "name": "stderr",
     "output_type": "stream",
     "text": [
      "Uploading:   0%|          | 0/1 [00:00<?, ?it/s]\u001b[A\n",
      "Uploading: 100%|██████████| 1/1 [00:00<00:00, 27.51it/s]\n",
      "Uploading:   0%|          | 0/1 [00:00<?, ?it/s]\n",
      "Uploading:   0%|          | 0/1 [00:00<?, ?it/s]\u001b[A\n",
      "Uploading: 100%|██████████| 1/1 [00:00<00:00, 34.00it/s]\n",
      "\n",
      "Uploading: 100%|██████████| 1/1 [00:00<00:00, 38.41it/s]\n",
      "Uploading: 100%|██████████| 1/1 [00:00<00:00, 28.71it/s]\n",
      "Uploading: 100%|██████████| 1/1 [00:00<00:00, 16.99it/s]\n"
     ]
    },
    {
     "name": "stdout",
     "output_type": "stream",
     "text": [
      "Processing slice z= 221\n"
     ]
    },
    {
     "name": "stderr",
     "output_type": "stream",
     "text": [
      "Uploading: 100%|██████████| 1/1 [00:00<00:00, 28.44it/s]\n",
      "Uploading: 100%|██████████| 1/1 [00:00<00:00, 39.12it/s]\n",
      "Uploading: 100%|██████████| 1/1 [00:00<00:00, 15.11it/s]\n",
      "Uploading: 100%|██████████| 1/1 [00:00<00:00, 31.14it/s]"
     ]
    },
    {
     "name": "stdout",
     "output_type": "stream",
     "text": [
      "Processing slice z= 222\n"
     ]
    },
    {
     "name": "stderr",
     "output_type": "stream",
     "text": [
      "\n",
      "Uploading: 100%|██████████| 1/1 [00:00<00:00, 14.15it/s]\n"
     ]
    },
    {
     "name": "stdout",
     "output_type": "stream",
     "text": [
      "Processing slice z= 223\n"
     ]
    },
    {
     "name": "stderr",
     "output_type": "stream",
     "text": [
      "Uploading: 100%|██████████| 1/1 [00:00<00:00, 12.76it/s]\n"
     ]
    },
    {
     "name": "stdout",
     "output_type": "stream",
     "text": [
      "Processing slice z= 224\n"
     ]
    },
    {
     "name": "stderr",
     "output_type": "stream",
     "text": [
      "\n",
      "Uploading: 100%|██████████| 1/1 [00:00<00:00, 31.39it/s]\n",
      "Uploading: 100%|██████████| 1/1 [00:00<00:00, 15.68it/s]\n"
     ]
    },
    {
     "name": "stdout",
     "output_type": "stream",
     "text": [
      "Processing slice z= 225\n"
     ]
    },
    {
     "name": "stderr",
     "output_type": "stream",
     "text": [
      "Uploading: 100%|██████████| 1/1 [00:00<00:00, 13.42it/s]\n",
      "Uploading: 100%|██████████| 1/1 [00:00<00:00,  8.31it/s]\n"
     ]
    },
    {
     "name": "stdout",
     "output_type": "stream",
     "text": [
      "Processing slice z= 226\n",
      "Processing slice z= 227\n"
     ]
    },
    {
     "name": "stderr",
     "output_type": "stream",
     "text": [
      "\n",
      "Uploading:   0%|          | 0/1 [00:00<?, ?it/s]\u001b[A\n",
      "Uploading: 100%|██████████| 1/1 [00:00<00:00, 12.34it/s]\n"
     ]
    },
    {
     "name": "stdout",
     "output_type": "stream",
     "text": [
      "Processing slice z= 228\n"
     ]
    },
    {
     "name": "stderr",
     "output_type": "stream",
     "text": [
      "Uploading: 100%|██████████| 1/1 [00:00<00:00, 27.84it/s]\n",
      "\n",
      "Uploading:   0%|          | 0/1 [00:00<?, ?it/s]\u001b[A\n",
      "Uploading:   0%|          | 0/1 [00:00<?, ?it/s]\u001b[A\n",
      "Uploading: 100%|██████████| 1/1 [00:00<00:00, 34.55it/s]\n",
      "Uploading: 100%|██████████| 1/1 [00:00<00:00, 14.91it/s]\n"
     ]
    },
    {
     "name": "stdout",
     "output_type": "stream",
     "text": [
      "Processing slice z= 229\n"
     ]
    },
    {
     "name": "stderr",
     "output_type": "stream",
     "text": [
      "Uploading: 100%|██████████| 1/1 [00:00<00:00, 26.49it/s]\n",
      "Uploading: 100%|██████████| 1/1 [00:00<00:00, 14.69it/s]\n"
     ]
    },
    {
     "name": "stdout",
     "output_type": "stream",
     "text": [
      "Processing slice z= 230\n"
     ]
    },
    {
     "name": "stderr",
     "output_type": "stream",
     "text": [
      "\n",
      "Uploading: 100%|██████████| 1/1 [00:00<00:00, 36.07it/s]\n",
      "Uploading:   0%|          | 0/1 [00:00<?, ?it/s]\n",
      "Uploading: 100%|██████████| 1/1 [00:00<00:00, 27.53it/s]\n",
      "Uploading: 100%|██████████| 1/1 [00:00<00:00, 13.22it/s]\n"
     ]
    },
    {
     "name": "stdout",
     "output_type": "stream",
     "text": [
      "Processing slice z= 231\n"
     ]
    },
    {
     "name": "stderr",
     "output_type": "stream",
     "text": [
      "Uploading: 100%|██████████| 1/1 [00:00<00:00, 25.30it/s]\n",
      "Uploading: 100%|██████████| 1/1 [00:00<00:00, 17.63it/s]\n"
     ]
    },
    {
     "name": "stdout",
     "output_type": "stream",
     "text": [
      "Processing slice z= 232\n"
     ]
    },
    {
     "name": "stderr",
     "output_type": "stream",
     "text": [
      "\n",
      "Uploading:   0%|          | 0/1 [00:00<?, ?it/s]\u001b[A\n",
      "Uploading: 100%|██████████| 1/1 [00:00<00:00, 11.16it/s]\n",
      "Uploading: 100%|██████████| 1/1 [00:00<00:00, 12.58it/s]"
     ]
    },
    {
     "name": "stdout",
     "output_type": "stream",
     "text": [
      "Processing slice z= 233\n"
     ]
    },
    {
     "name": "stderr",
     "output_type": "stream",
     "text": [
      "\n"
     ]
    },
    {
     "name": "stdout",
     "output_type": "stream",
     "text": [
      "Processing slice z= 234\n"
     ]
    },
    {
     "name": "stderr",
     "output_type": "stream",
     "text": [
      "Uploading: 100%|██████████| 1/1 [00:00<00:00, 25.35it/s]\n",
      "Uploading: 100%|██████████| 1/1 [00:00<00:00, 27.08it/s]\n",
      "Uploading:   0%|          | 0/1 [00:00<?, ?it/s]\n",
      "Uploading: 100%|██████████| 1/1 [00:00<00:00, 11.76it/s]\n",
      "Uploading: 100%|██████████| 1/1 [00:00<00:00, 24.85it/s]"
     ]
    },
    {
     "name": "stdout",
     "output_type": "stream",
     "text": [
      "Processing slice z= 235\n"
     ]
    },
    {
     "name": "stderr",
     "output_type": "stream",
     "text": [
      "\n",
      "Uploading: 100%|██████████| 1/1 [00:00<00:00, 11.24it/s]\n",
      "\n"
     ]
    },
    {
     "name": "stdout",
     "output_type": "stream",
     "text": [
      "Processing slice z= 236\n"
     ]
    },
    {
     "name": "stderr",
     "output_type": "stream",
     "text": [
      "Uploading: 100%|██████████| 1/1 [00:00<00:00, 23.70it/s]\n",
      "\n",
      "Uploading:   0%|          | 0/1 [00:00<?, ?it/s]\u001b[A\n",
      "Uploading: 100%|██████████| 1/1 [00:00<00:00, 13.66it/s]\n"
     ]
    },
    {
     "name": "stdout",
     "output_type": "stream",
     "text": [
      "Processing slice z= 237\n"
     ]
    },
    {
     "name": "stderr",
     "output_type": "stream",
     "text": [
      "Uploading: 100%|██████████| 1/1 [00:00<00:00, 11.55it/s]\n",
      "Uploading: 100%|██████████| 1/1 [00:00<00:00, 25.44it/s]\n"
     ]
    },
    {
     "name": "stdout",
     "output_type": "stream",
     "text": [
      "Processing slice z= 238\n"
     ]
    },
    {
     "name": "stderr",
     "output_type": "stream",
     "text": [
      "\n",
      "Uploading:   0%|          | 0/1 [00:00<?, ?it/s]\u001b[A\n",
      "Uploading: 100%|██████████| 1/1 [00:00<00:00, 33.17it/s]\n",
      "Uploading: 100%|██████████| 1/1 [00:00<00:00, 28.57it/s]\n",
      "Uploading: 100%|██████████| 1/1 [00:00<00:00, 12.74it/s]\n"
     ]
    },
    {
     "name": "stdout",
     "output_type": "stream",
     "text": [
      "Processing slice z= 239\n"
     ]
    },
    {
     "name": "stderr",
     "output_type": "stream",
     "text": [
      "Uploading: 100%|██████████| 1/1 [00:00<00:00, 24.78it/s]\n",
      "Uploading: 100%|██████████| 1/1 [00:00<00:00, 14.58it/s]\n",
      "Uploading: 100%|██████████| 1/1 [00:00<00:00, 12.70it/s]"
     ]
    },
    {
     "name": "stdout",
     "output_type": "stream",
     "text": [
      "Processing slice z= 240\n"
     ]
    },
    {
     "name": "stderr",
     "output_type": "stream",
     "text": [
      "\n"
     ]
    },
    {
     "name": "stdout",
     "output_type": "stream",
     "text": [
      "Processing slice z= 241\n"
     ]
    },
    {
     "name": "stderr",
     "output_type": "stream",
     "text": [
      "Uploading:   0%|          | 0/1 [00:00<?, ?it/s]\n",
      "Uploading:   0%|          | 0/1 [00:00<?, ?it/s]\u001b[A\n",
      "Uploading: 100%|██████████| 1/1 [00:00<00:00, 32.49it/s]\n",
      "Uploading: 100%|██████████| 1/1 [00:00<00:00, 12.10it/s]\n"
     ]
    },
    {
     "name": "stdout",
     "output_type": "stream",
     "text": [
      "Processing slice z= 242\n",
      "success\n",
      "success\n",
      "success\n",
      "success\n",
      "success\n",
      "success\n",
      "success\n",
      "success\n",
      "success\n",
      "success\n",
      "success\n",
      "success\n",
      "success\n",
      "success\n",
      "success\n",
      "success\n",
      "success\n",
      "success\n",
      "success\n",
      "success\n",
      "success\n",
      "success\n"
     ]
    },
    {
     "name": "stderr",
     "output_type": "stream",
     "text": [
      "Uploading: 100%|██████████| 1/1 [00:00<00:00, 21.63it/s]\n",
      "Uploading: 100%|██████████| 1/1 [00:00<00:00, 13.60it/s]\n",
      "Uploading:   0%|          | 0/1 [00:00<?, ?it/s]"
     ]
    },
    {
     "name": "stdout",
     "output_type": "stream",
     "text": [
      "Processing slice z= 243\n"
     ]
    },
    {
     "name": "stderr",
     "output_type": "stream",
     "text": [
      "\n",
      "Uploading:   0%|          | 0/1 [00:00<?, ?it/s]\u001b[A\n",
      "Uploading:   0%|          | 0/1 [00:00<?, ?it/s]\u001b[A\n",
      "Uploading: 100%|██████████| 1/1 [00:00<00:00, 27.72it/s]\n",
      "Uploading: 100%|██████████| 1/1 [00:00<00:00, 28.48it/s]\n",
      "Uploading: 100%|██████████| 1/1 [00:00<00:00, 11.46it/s]\n",
      "\n"
     ]
    },
    {
     "name": "stdout",
     "output_type": "stream",
     "text": [
      "Processing slice z= 244\n"
     ]
    },
    {
     "name": "stderr",
     "output_type": "stream",
     "text": [
      "Uploading: 100%|██████████| 1/1 [00:00<00:00, 14.86it/s]\n"
     ]
    },
    {
     "name": "stdout",
     "output_type": "stream",
     "text": [
      "Processing slice z= 245\n"
     ]
    },
    {
     "name": "stderr",
     "output_type": "stream",
     "text": [
      "Uploading: 100%|██████████| 1/1 [00:00<00:00, 13.71it/s]\n"
     ]
    },
    {
     "name": "stdout",
     "output_type": "stream",
     "text": [
      "Processing slice z= 246\n"
     ]
    },
    {
     "name": "stderr",
     "output_type": "stream",
     "text": [
      "\n",
      "Uploading:   0%|          | 0/1 [00:00<?, ?it/s]\u001b[A\n",
      "Uploading: 100%|██████████| 1/1 [00:00<00:00, 24.44it/s]\n",
      "Uploading: 100%|██████████| 1/1 [00:00<00:00, 25.48it/s]\n",
      "Uploading: 100%|██████████| 1/1 [00:00<00:00, 21.47it/s]\n",
      "\n",
      "Uploading: 100%|██████████| 1/1 [00:00<00:00, 11.29it/s]\n",
      "Uploading: 100%|██████████| 1/1 [00:00<00:00, 22.94it/s]"
     ]
    },
    {
     "name": "stdout",
     "output_type": "stream",
     "text": [
      "Processing slice z= 247\n"
     ]
    },
    {
     "name": "stderr",
     "output_type": "stream",
     "text": [
      "\n",
      "Uploading: 100%|██████████| 1/1 [00:00<00:00, 12.37it/s]\n",
      "Uploading:   0%|          | 0/1 [00:00<?, ?it/s]"
     ]
    },
    {
     "name": "stdout",
     "output_type": "stream",
     "text": [
      "Processing slice z= 248\n"
     ]
    },
    {
     "name": "stderr",
     "output_type": "stream",
     "text": [
      "\n",
      "Uploading: 100%|██████████| 1/1 [00:00<00:00, 10.86it/s]\n",
      "Uploading: 100%|██████████| 1/1 [00:00<00:00, 26.61it/s]"
     ]
    },
    {
     "name": "stdout",
     "output_type": "stream",
     "text": [
      "Processing slice z= 249\n"
     ]
    },
    {
     "name": "stderr",
     "output_type": "stream",
     "text": [
      "\n",
      "Uploading: 100%|██████████| 1/1 [00:00<00:00, 12.72it/s]\n",
      "Uploading: 100%|██████████| 1/1 [00:00<00:00, 26.02it/s]"
     ]
    },
    {
     "name": "stdout",
     "output_type": "stream",
     "text": [
      "Processing slice z= 250\n"
     ]
    },
    {
     "name": "stderr",
     "output_type": "stream",
     "text": [
      "\n",
      "Uploading:   0%|          | 0/1 [00:00<?, ?it/s]\n",
      "Uploading:   0%|          | 0/1 [00:00<?, ?it/s]\u001b[A\n",
      "Uploading: 100%|██████████| 1/1 [00:00<00:00, 26.05it/s]\n",
      "Uploading: 100%|██████████| 1/1 [00:00<00:00, 11.63it/s]\n"
     ]
    },
    {
     "name": "stdout",
     "output_type": "stream",
     "text": [
      "Processing slice z= 251\n"
     ]
    },
    {
     "name": "stderr",
     "output_type": "stream",
     "text": [
      "Uploading: 100%|██████████| 1/1 [00:00<00:00, 31.02it/s]\n",
      "\n",
      "Uploading:   0%|          | 0/1 [00:00<?, ?it/s]\u001b[A\n",
      "Uploading: 100%|██████████| 1/1 [00:00<00:00, 14.51it/s]\n"
     ]
    },
    {
     "name": "stdout",
     "output_type": "stream",
     "text": [
      "Processing slice z= 252\n"
     ]
    },
    {
     "name": "stderr",
     "output_type": "stream",
     "text": [
      "Uploading: 100%|██████████| 1/1 [00:00<00:00, 16.21it/s]\n"
     ]
    },
    {
     "name": "stdout",
     "output_type": "stream",
     "text": [
      "Processing slice z= 253\n"
     ]
    },
    {
     "name": "stderr",
     "output_type": "stream",
     "text": [
      "Uploading: 100%|██████████| 1/1 [00:00<00:00, 26.50it/s]\n",
      "Uploading: 100%|██████████| 1/1 [00:00<00:00,  8.69it/s]\n"
     ]
    },
    {
     "name": "stdout",
     "output_type": "stream",
     "text": [
      "Processing slice z= 254\n"
     ]
    },
    {
     "name": "stderr",
     "output_type": "stream",
     "text": [
      "Uploading:   0%|          | 0/1 [00:00<?, ?it/s]\n",
      "Uploading: 100%|██████████| 1/1 [00:00<00:00, 23.98it/s]\n",
      "\n",
      "Uploading: 100%|██████████| 1/1 [00:00<00:00, 19.52it/s]\n",
      "Uploading: 100%|██████████| 1/1 [00:00<00:00, 10.74it/s]\n"
     ]
    },
    {
     "name": "stdout",
     "output_type": "stream",
     "text": [
      "Processing slice z= 255\n"
     ]
    },
    {
     "name": "stderr",
     "output_type": "stream",
     "text": [
      "Uploading: 100%|██████████| 1/1 [00:00<00:00, 12.82it/s]\n"
     ]
    },
    {
     "name": "stdout",
     "output_type": "stream",
     "text": [
      "Processing slice z= 256\n"
     ]
    },
    {
     "name": "stderr",
     "output_type": "stream",
     "text": [
      "Uploading: 100%|██████████| 1/1 [00:00<00:00, 19.20it/s]\n",
      "\n",
      "Uploading: 100%|██████████| 1/1 [00:00<00:00, 11.55it/s]\n"
     ]
    },
    {
     "name": "stdout",
     "output_type": "stream",
     "text": [
      "Processing slice z= 257\n"
     ]
    },
    {
     "name": "stderr",
     "output_type": "stream",
     "text": [
      "Uploading: 100%|██████████| 1/1 [00:00<00:00, 26.91it/s]\n",
      "Uploading:   0%|          | 0/1 [00:00<?, ?it/s]\n",
      "Uploading: 100%|██████████| 1/1 [00:00<00:00, 10.02it/s]\n",
      "Uploading: 100%|██████████| 1/1 [00:00<00:00, 25.41it/s]"
     ]
    },
    {
     "name": "stdout",
     "output_type": "stream",
     "text": [
      "Processing slice z= 258\n"
     ]
    },
    {
     "name": "stderr",
     "output_type": "stream",
     "text": [
      "\n",
      "Uploading: 100%|██████████| 1/1 [00:00<00:00, 14.55it/s]\n"
     ]
    },
    {
     "name": "stdout",
     "output_type": "stream",
     "text": [
      "Processing slice z= 259\n"
     ]
    },
    {
     "name": "stderr",
     "output_type": "stream",
     "text": [
      "\n",
      "Uploading:   0%|          | 0/1 [00:00<?, ?it/s]\u001b[A\n"
     ]
    },
    {
     "name": "stdout",
     "output_type": "stream",
     "text": [
      "success\n",
      "success\n",
      "success\n",
      "success\n",
      "success\n",
      "success\n",
      "success\n",
      "success\n",
      "success\n",
      "success\n",
      "success\n",
      "success\n",
      "success\n",
      "success\n",
      "success\n",
      "success\n"
     ]
    },
    {
     "name": "stderr",
     "output_type": "stream",
     "text": [
      "Uploading: 100%|██████████| 1/1 [00:00<00:00, 11.52it/s]\n"
     ]
    },
    {
     "name": "stdout",
     "output_type": "stream",
     "text": [
      "Processing slice z= 260\n"
     ]
    },
    {
     "name": "stderr",
     "output_type": "stream",
     "text": [
      "Uploading: 100%|██████████| 1/1 [00:00<00:00, 32.46it/s]\n",
      "\n",
      "Uploading:   0%|          | 0/1 [00:00<?, ?it/s]\u001b[A\n",
      "Uploading:   0%|          | 0/1 [00:00<?, ?it/s]\u001b[A\n",
      "Uploading: 100%|██████████| 1/1 [00:00<00:00, 27.92it/s]\n",
      "Uploading: 100%|██████████| 1/1 [00:00<00:00, 11.90it/s]\n"
     ]
    },
    {
     "name": "stdout",
     "output_type": "stream",
     "text": [
      "Processing slice z= 261\n"
     ]
    },
    {
     "name": "stderr",
     "output_type": "stream",
     "text": [
      "Uploading: 100%|██████████| 1/1 [00:00<00:00, 13.56it/s]\n"
     ]
    },
    {
     "name": "stdout",
     "output_type": "stream",
     "text": [
      "Processing slice z= 262\n"
     ]
    },
    {
     "name": "stderr",
     "output_type": "stream",
     "text": [
      "Uploading:   0%|          | 0/1 [00:00<?, ?it/s]\n",
      "Uploading: 100%|██████████| 1/1 [00:00<00:00, 22.10it/s]\n",
      "Uploading: 100%|██████████| 1/1 [00:00<00:00, 22.67it/s]\n",
      "\n",
      "Uploading: 100%|██████████| 1/1 [00:00<00:00, 24.57it/s]\n",
      "Uploading: 100%|██████████| 1/1 [00:00<00:00, 25.22it/s]\n",
      "Uploading: 100%|██████████| 1/1 [00:00<00:00, 24.51it/s]\n",
      "Uploading: 100%|██████████| 1/1 [00:00<00:00, 12.37it/s]\n",
      "\n"
     ]
    },
    {
     "name": "stdout",
     "output_type": "stream",
     "text": [
      "Processing slice z= 263\n"
     ]
    },
    {
     "name": "stderr",
     "output_type": "stream",
     "text": [
      "Uploading: 100%|██████████| 1/1 [00:00<00:00, 12.32it/s]\n"
     ]
    },
    {
     "name": "stdout",
     "output_type": "stream",
     "text": [
      "Processing slice z= 264\n"
     ]
    },
    {
     "name": "stderr",
     "output_type": "stream",
     "text": [
      "Uploading: 100%|██████████| 1/1 [00:00<00:00, 13.33it/s]\n",
      "Uploading: 100%|██████████| 1/1 [00:00<00:00, 31.92it/s]"
     ]
    },
    {
     "name": "stdout",
     "output_type": "stream",
     "text": [
      "Processing slice z= 265\n"
     ]
    },
    {
     "name": "stderr",
     "output_type": "stream",
     "text": [
      "\n",
      "Uploading: 100%|██████████| 1/1 [00:00<00:00, 13.19it/s]\n",
      "Uploading: 100%|██████████| 1/1 [00:00<00:00, 12.24it/s]"
     ]
    },
    {
     "name": "stdout",
     "output_type": "stream",
     "text": [
      "Processing slice z= 266\n"
     ]
    },
    {
     "name": "stderr",
     "output_type": "stream",
     "text": [
      "\n",
      "Uploading:   0%|          | 0/1 [00:00<?, ?it/s]"
     ]
    },
    {
     "name": "stdout",
     "output_type": "stream",
     "text": [
      "Processing slice z= 267\n"
     ]
    },
    {
     "name": "stderr",
     "output_type": "stream",
     "text": [
      "Uploading: 100%|██████████| 1/1 [00:00<00:00, 28.89it/s]\n",
      "Uploading: 100%|██████████| 1/1 [00:00<00:00, 13.16it/s]\n",
      "\n"
     ]
    },
    {
     "name": "stdout",
     "output_type": "stream",
     "text": [
      "Processing slice z= 268\n"
     ]
    },
    {
     "name": "stderr",
     "output_type": "stream",
     "text": [
      "Uploading: 100%|██████████| 1/1 [00:00<00:00, 27.05it/s]\n",
      "Uploading: 100%|██████████| 1/1 [00:00<00:00, 14.26it/s]\n"
     ]
    },
    {
     "name": "stdout",
     "output_type": "stream",
     "text": [
      "Processing slice z= 269\n"
     ]
    },
    {
     "name": "stderr",
     "output_type": "stream",
     "text": [
      "\n",
      "Uploading:   0%|          | 0/1 [00:00<?, ?it/s]\u001b[A\n",
      "Uploading: 100%|██████████| 1/1 [00:00<00:00, 13.66it/s]\n"
     ]
    },
    {
     "name": "stdout",
     "output_type": "stream",
     "text": [
      "Processing slice z= 270\n"
     ]
    },
    {
     "name": "stderr",
     "output_type": "stream",
     "text": [
      "Uploading:   0%|          | 0/1 [00:00<?, ?it/s]\n",
      "Uploading:   0%|          | 0/1 [00:00<?, ?it/s]\u001b[A\n",
      "Uploading:   0%|          | 0/1 [00:00<?, ?it/s]\u001b[A\n",
      "Uploading: 100%|██████████| 1/1 [00:00<00:00, 19.80it/s]\n",
      "Uploading: 100%|██████████| 1/1 [00:00<00:00, 24.29it/s]\n",
      "\n",
      "Uploading: 100%|██████████| 1/1 [00:00<00:00, 34.12it/s]\n",
      "\n",
      "Uploading: 100%|██████████| 1/1 [00:00<00:00, 21.49it/s]\n",
      "Uploading: 100%|██████████| 1/1 [00:00<00:00, 10.43it/s]\n"
     ]
    },
    {
     "name": "stdout",
     "output_type": "stream",
     "text": [
      "Processing slice z= 271\n"
     ]
    },
    {
     "name": "stderr",
     "output_type": "stream",
     "text": [
      "Uploading: 100%|██████████| 1/1 [00:00<00:00, 13.89it/s]\n",
      "Uploading: 100%|██████████| 1/1 [00:00<00:00, 10.88it/s]"
     ]
    },
    {
     "name": "stdout",
     "output_type": "stream",
     "text": [
      "Processing slice z= 272\n"
     ]
    },
    {
     "name": "stderr",
     "output_type": "stream",
     "text": [
      "\n",
      "Uploading: 100%|██████████| 1/1 [00:00<00:00, 10.46it/s]"
     ]
    },
    {
     "name": "stdout",
     "output_type": "stream",
     "text": [
      "Processing slice z= 273\n"
     ]
    },
    {
     "name": "stderr",
     "output_type": "stream",
     "text": [
      "\n",
      "Uploading: 100%|██████████| 1/1 [00:00<00:00, 20.82it/s]"
     ]
    },
    {
     "name": "stdout",
     "output_type": "stream",
     "text": [
      "Processing slice z= 274\n"
     ]
    },
    {
     "name": "stderr",
     "output_type": "stream",
     "text": [
      "\n",
      "\n",
      "Uploading: 100%|██████████| 1/1 [00:00<00:00, 26.24it/s]\n",
      "Uploading: 100%|██████████| 1/1 [00:00<00:00, 10.28it/s]\n",
      "Uploading: 100%|██████████| 1/1 [00:00<00:00, 23.05it/s]"
     ]
    },
    {
     "name": "stdout",
     "output_type": "stream",
     "text": [
      "Processing slice z= 275\n"
     ]
    },
    {
     "name": "stderr",
     "output_type": "stream",
     "text": [
      "\n",
      "Uploading: 100%|██████████| 1/1 [00:00<00:00, 24.98it/s]\n"
     ]
    },
    {
     "name": "stdout",
     "output_type": "stream",
     "text": [
      "success\n",
      "success\n",
      "success\n",
      "success\n",
      "success\n",
      "success\n",
      "success\n",
      "success\n",
      "success\n",
      "success\n",
      "success\n",
      "success\n",
      "success\n",
      "success\n",
      "success\n",
      "success\n",
      "success\n"
     ]
    },
    {
     "name": "stderr",
     "output_type": "stream",
     "text": [
      "Uploading: 100%|██████████| 1/1 [00:00<00:00, 10.97it/s]\n",
      "\n"
     ]
    },
    {
     "name": "stdout",
     "output_type": "stream",
     "text": [
      "Processing slice z= 276\n"
     ]
    },
    {
     "name": "stderr",
     "output_type": "stream",
     "text": [
      "Uploading:   0%|          | 0/1 [00:00<?, ?it/s]\u001b[A\n",
      "Uploading:   0%|          | 0/1 [00:00<?, ?it/s]\u001b[A\n",
      "Uploading: 100%|██████████| 1/1 [00:00<00:00, 11.09it/s]\n"
     ]
    },
    {
     "name": "stdout",
     "output_type": "stream",
     "text": [
      "Processing slice z= 277\n"
     ]
    },
    {
     "name": "stderr",
     "output_type": "stream",
     "text": [
      "Uploading: 100%|██████████| 1/1 [00:00<00:00, 24.48it/s]\n",
      "Uploading: 100%|██████████| 1/1 [00:00<00:00, 11.71it/s]\n"
     ]
    },
    {
     "name": "stdout",
     "output_type": "stream",
     "text": [
      "Processing slice z= 278\n"
     ]
    },
    {
     "name": "stderr",
     "output_type": "stream",
     "text": [
      "Uploading:   0%|          | 0/1 [00:00<?, ?it/s]\n",
      "Uploading:   0%|          | 0/1 [00:00<?, ?it/s]\u001b[A\n",
      "Uploading: 100%|██████████| 1/1 [00:00<00:00, 28.85it/s]\n",
      "Uploading: 100%|██████████| 1/1 [00:00<00:00, 26.07it/s]\n",
      "Uploading: 100%|██████████| 1/1 [00:00<00:00, 28.80it/s]\n",
      "\n",
      "Uploading: 100%|██████████| 1/1 [00:00<00:00, 14.01it/s]\n"
     ]
    },
    {
     "name": "stdout",
     "output_type": "stream",
     "text": [
      "Processing slice z= 279\n"
     ]
    },
    {
     "name": "stderr",
     "output_type": "stream",
     "text": [
      "\n",
      "Uploading: 100%|██████████| 1/1 [00:00<00:00, 13.39it/s]\n",
      "Uploading: 100%|██████████| 1/1 [00:00<00:00, 35.08it/s]"
     ]
    },
    {
     "name": "stdout",
     "output_type": "stream",
     "text": [
      "Processing slice z= 280\n"
     ]
    },
    {
     "name": "stderr",
     "output_type": "stream",
     "text": [
      "\n",
      "Uploading: 100%|██████████| 1/1 [00:00<00:00, 12.99it/s]\n"
     ]
    },
    {
     "name": "stdout",
     "output_type": "stream",
     "text": [
      "Processing slice z= 281\n"
     ]
    },
    {
     "name": "stderr",
     "output_type": "stream",
     "text": [
      "Uploading: 100%|██████████| 1/1 [00:00<00:00, 34.64it/s]\n",
      "Uploading: 100%|██████████| 1/1 [00:00<00:00, 15.15it/s]\n"
     ]
    },
    {
     "name": "stdout",
     "output_type": "stream",
     "text": [
      "Processing slice z= 282\n"
     ]
    },
    {
     "name": "stderr",
     "output_type": "stream",
     "text": [
      "Uploading: 100%|██████████| 1/1 [00:00<00:00,  8.79it/s]\n",
      "Uploading: 100%|██████████| 1/1 [00:00<00:00, 14.23it/s]"
     ]
    },
    {
     "name": "stdout",
     "output_type": "stream",
     "text": [
      "Processing slice z= 283\n"
     ]
    },
    {
     "name": "stderr",
     "output_type": "stream",
     "text": [
      "\n"
     ]
    },
    {
     "name": "stdout",
     "output_type": "stream",
     "text": [
      "Processing slice z= 284\n"
     ]
    },
    {
     "name": "stderr",
     "output_type": "stream",
     "text": [
      "Uploading:   0%|          | 0/1 [00:00<?, ?it/s]\n",
      "Uploading:   0%|          | 0/1 [00:00<?, ?it/s]\u001b[A\n",
      "Uploading:   0%|          | 0/1 [00:00<?, ?it/s]\u001b[A\n",
      "Uploading: 100%|██████████| 1/1 [00:00<00:00, 24.28it/s]\n",
      "Uploading: 100%|██████████| 1/1 [00:00<00:00, 26.27it/s]\n",
      "Uploading:   0%|          | 0/1 [00:00<?, ?it/s]\n",
      "Uploading: 100%|██████████| 1/1 [00:00<00:00, 12.24it/s]\n",
      "\n"
     ]
    },
    {
     "name": "stdout",
     "output_type": "stream",
     "text": [
      "Processing slice z= 285\n"
     ]
    },
    {
     "name": "stderr",
     "output_type": "stream",
     "text": [
      "Uploading:   0%|          | 0/1 [00:00<?, ?it/s]\u001b[A\n",
      "Uploading: 100%|██████████| 1/1 [00:00<00:00, 12.22it/s]\n"
     ]
    },
    {
     "name": "stdout",
     "output_type": "stream",
     "text": [
      "Processing slice z= 286\n"
     ]
    },
    {
     "name": "stderr",
     "output_type": "stream",
     "text": [
      "Uploading: 100%|██████████| 1/1 [00:00<00:00, 30.41it/s]\n",
      "Uploading: 100%|██████████| 1/1 [00:00<00:00, 23.03it/s]\n",
      "Uploading: 100%|██████████| 1/1 [00:00<00:00, 23.32it/s]\n",
      "Uploading:   0%|          | 0/1 [00:00<?, ?it/s]\n",
      "Uploading: 100%|██████████| 1/1 [00:00<00:00, 29.22it/s]\n",
      "Uploading: 100%|██████████| 1/1 [00:00<00:00, 12.83it/s]\n",
      "Uploading: 100%|██████████| 1/1 [00:00<00:00, 11.99it/s]"
     ]
    },
    {
     "name": "stdout",
     "output_type": "stream",
     "text": [
      "Processing slice z= 287\n"
     ]
    },
    {
     "name": "stderr",
     "output_type": "stream",
     "text": [
      "\n"
     ]
    },
    {
     "name": "stdout",
     "output_type": "stream",
     "text": [
      "Processing slice z= 288\n"
     ]
    },
    {
     "name": "stderr",
     "output_type": "stream",
     "text": [
      "Uploading: 100%|██████████| 1/1 [00:00<00:00, 26.19it/s]\n",
      "Uploading: 100%|██████████| 1/1 [00:00<00:00, 14.62it/s]\n"
     ]
    },
    {
     "name": "stdout",
     "output_type": "stream",
     "text": [
      "Processing slice z= 289\n"
     ]
    },
    {
     "name": "stderr",
     "output_type": "stream",
     "text": [
      "\n",
      "Uploading: 100%|██████████| 1/1 [00:00<00:00, 24.13it/s]\n",
      "Uploading: 100%|██████████| 1/1 [00:00<00:00, 35.51it/s]\n",
      "Uploading: 100%|██████████| 1/1 [00:00<00:00, 13.40it/s]\n"
     ]
    },
    {
     "name": "stdout",
     "output_type": "stream",
     "text": [
      "Processing slice z= 290\n"
     ]
    },
    {
     "name": "stderr",
     "output_type": "stream",
     "text": [
      "Uploading: 100%|██████████| 1/1 [00:00<00:00, 12.36it/s]\n",
      "\n"
     ]
    },
    {
     "name": "stdout",
     "output_type": "stream",
     "text": [
      "Processing slice z= 291\n"
     ]
    },
    {
     "name": "stderr",
     "output_type": "stream",
     "text": [
      "Uploading: 100%|██████████| 1/1 [00:00<00:00, 17.44it/s]\n",
      "\n"
     ]
    },
    {
     "name": "stdout",
     "output_type": "stream",
     "text": [
      "Processing slice z= 292\n"
     ]
    },
    {
     "name": "stderr",
     "output_type": "stream",
     "text": [
      "Uploading:   0%|          | 0/1 [00:00<?, ?it/s]\u001b[A\n",
      "Uploading: 100%|██████████| 1/1 [00:00<00:00,  8.25it/s]\n",
      "Uploading:   0%|          | 0/1 [00:00<?, ?it/s]"
     ]
    },
    {
     "name": "stdout",
     "output_type": "stream",
     "text": [
      "Processing slice z= 293\n"
     ]
    },
    {
     "name": "stderr",
     "output_type": "stream",
     "text": [
      "Uploading: 100%|██████████| 1/1 [00:00<00:00, 23.86it/s]"
     ]
    },
    {
     "name": "stdout",
     "output_type": "stream",
     "text": [
      "success\n",
      "success\n",
      "success\n",
      "success\n",
      "success\n",
      "success\n",
      "success\n",
      "success\n",
      "success\n",
      "success\n",
      "success\n",
      "success\n",
      "success\n",
      "success\n",
      "success\n",
      "success\n",
      "success\n",
      "success\n"
     ]
    },
    {
     "name": "stderr",
     "output_type": "stream",
     "text": [
      "\n",
      "\n",
      "Uploading:   0%|          | 0/1 [00:00<?, ?it/s]\u001b[A\n",
      "Uploading:   0%|          | 0/1 [00:00<?, ?it/s]\u001b[A\n",
      "Uploading: 100%|██████████| 1/1 [00:00<00:00, 28.05it/s]\n",
      "\n",
      "Uploading: 100%|██████████| 1/1 [00:00<00:00, 11.76it/s]\n"
     ]
    },
    {
     "name": "stdout",
     "output_type": "stream",
     "text": [
      "Processing slice z= 294\n"
     ]
    },
    {
     "name": "stderr",
     "output_type": "stream",
     "text": [
      "Uploading: 100%|██████████| 1/1 [00:00<00:00, 28.54it/s]\n",
      "Uploading: 100%|██████████| 1/1 [00:00<00:00, 24.73it/s]\n",
      "Uploading: 100%|██████████| 1/1 [00:00<00:00, 15.15it/s]\n"
     ]
    },
    {
     "name": "stdout",
     "output_type": "stream",
     "text": [
      "Processing slice z= 295\n"
     ]
    },
    {
     "name": "stderr",
     "output_type": "stream",
     "text": [
      "Uploading: 100%|██████████| 1/1 [00:00<00:00, 31.60it/s]\n",
      "Uploading: 100%|██████████| 1/1 [00:00<00:00, 13.52it/s]\n"
     ]
    },
    {
     "name": "stdout",
     "output_type": "stream",
     "text": [
      "Processing slice z= 296\n"
     ]
    },
    {
     "name": "stderr",
     "output_type": "stream",
     "text": [
      "Uploading: 100%|██████████| 1/1 [00:00<00:00, 13.04it/s]\n",
      "\n"
     ]
    },
    {
     "name": "stdout",
     "output_type": "stream",
     "text": [
      "Processing slice z= 297\n"
     ]
    },
    {
     "name": "stderr",
     "output_type": "stream",
     "text": [
      "Uploading: 100%|██████████| 1/1 [00:00<00:00, 28.04it/s]\n",
      "Uploading: 100%|██████████| 1/1 [00:00<00:00, 32.44it/s]\n",
      "Uploading: 100%|██████████| 1/1 [00:00<00:00, 34.21it/s]\n",
      "Uploading:   0%|          | 0/1 [00:00<?, ?it/s]\n",
      "Uploading: 100%|██████████| 1/1 [00:00<00:00, 15.00it/s]\n"
     ]
    },
    {
     "name": "stdout",
     "output_type": "stream",
     "text": [
      "Processing slice z= 298\n"
     ]
    },
    {
     "name": "stderr",
     "output_type": "stream",
     "text": [
      "Uploading: 100%|██████████| 1/1 [00:00<00:00, 13.94it/s]\n",
      "Uploading: 100%|██████████| 1/1 [00:00<00:00, 13.84it/s]"
     ]
    },
    {
     "name": "stdout",
     "output_type": "stream",
     "text": [
      "Processing slice z= 299\n"
     ]
    },
    {
     "name": "stderr",
     "output_type": "stream",
     "text": [
      "\n",
      "Uploading: 100%|██████████| 1/1 [00:00<00:00, 12.74it/s]\n"
     ]
    },
    {
     "name": "stdout",
     "output_type": "stream",
     "text": [
      "Processing slice z= 300\n"
     ]
    },
    {
     "name": "stderr",
     "output_type": "stream",
     "text": [
      "\r",
      "Uploading: 100%|██████████| 1/1 [00:00<00:00, 37.43it/s]"
     ]
    },
    {
     "name": "stdout",
     "output_type": "stream",
     "text": [
      "Processing slice z= 301\n"
     ]
    },
    {
     "name": "stderr",
     "output_type": "stream",
     "text": [
      "\n",
      "\n",
      "Uploading:   0%|          | 0/1 [00:00<?, ?it/s]\u001b[A\n",
      "Uploading: 100%|██████████| 1/1 [00:00<00:00, 15.02it/s]\n",
      "Uploading: 100%|██████████| 1/1 [00:00<00:00, 27.24it/s]"
     ]
    },
    {
     "name": "stdout",
     "output_type": "stream",
     "text": [
      "Processing slice z= 302\n"
     ]
    },
    {
     "name": "stderr",
     "output_type": "stream",
     "text": [
      "\n",
      "\n",
      "Uploading:   0%|          | 0/1 [00:00<?, ?it/s]\u001b[A\n",
      "Uploading:   0%|          | 0/1 [00:00<?, ?it/s]\u001b[A\n",
      "Uploading: 100%|██████████| 1/1 [00:00<00:00, 29.05it/s]\n",
      "\n",
      "Uploading: 100%|██████████| 1/1 [00:00<00:00, 15.08it/s]\n",
      "Uploading: 100%|██████████| 1/1 [00:00<00:00, 27.41it/s]"
     ]
    },
    {
     "name": "stdout",
     "output_type": "stream",
     "text": [
      "Processing slice z= 303\n"
     ]
    },
    {
     "name": "stderr",
     "output_type": "stream",
     "text": [
      "\n",
      "Uploading: 100%|██████████| 1/1 [00:00<00:00, 15.33it/s]\n"
     ]
    },
    {
     "name": "stdout",
     "output_type": "stream",
     "text": [
      "Processing slice z= 304\n"
     ]
    },
    {
     "name": "stderr",
     "output_type": "stream",
     "text": [
      "\n",
      "Uploading: 100%|██████████| 1/1 [00:00<00:00, 30.84it/s]\n",
      "Uploading: 100%|██████████| 1/1 [00:00<00:00, 12.13it/s]\n",
      "Uploading:   0%|          | 0/1 [00:00<?, ?it/s]"
     ]
    },
    {
     "name": "stdout",
     "output_type": "stream",
     "text": [
      "Processing slice z= 305\n"
     ]
    },
    {
     "name": "stderr",
     "output_type": "stream",
     "text": [
      "\n",
      "Uploading: 100%|██████████| 1/1 [00:00<00:00, 25.88it/s]\n",
      "Uploading: 100%|██████████| 1/1 [00:00<00:00, 21.21it/s]\n",
      "Uploading: 100%|██████████| 1/1 [00:00<00:00, 22.13it/s]\n",
      "Uploading: 100%|██████████| 1/1 [00:00<00:00, 13.02it/s]\n",
      "Uploading:   0%|          | 0/1 [00:00<?, ?it/s]"
     ]
    },
    {
     "name": "stdout",
     "output_type": "stream",
     "text": [
      "Processing slice z= 306\n"
     ]
    },
    {
     "name": "stderr",
     "output_type": "stream",
     "text": [
      "\n",
      "Uploading: 100%|██████████| 1/1 [00:00<00:00, 30.56it/s]\n",
      "Uploading: 100%|██████████| 1/1 [00:00<00:00, 11.82it/s]\n"
     ]
    },
    {
     "name": "stdout",
     "output_type": "stream",
     "text": [
      "Processing slice z= 307\n"
     ]
    },
    {
     "name": "stderr",
     "output_type": "stream",
     "text": [
      "Uploading: 100%|██████████| 1/1 [00:00<00:00, 11.17it/s]\n",
      "Uploading: 100%|██████████| 1/1 [00:00<00:00, 11.22it/s]"
     ]
    },
    {
     "name": "stdout",
     "output_type": "stream",
     "text": [
      "Processing slice z= 308\n"
     ]
    },
    {
     "name": "stderr",
     "output_type": "stream",
     "text": [
      "\n",
      "Uploading: 100%|██████████| 1/1 [00:00<00:00, 32.25it/s]"
     ]
    },
    {
     "name": "stdout",
     "output_type": "stream",
     "text": [
      "Processing slice z= 309\n"
     ]
    },
    {
     "name": "stderr",
     "output_type": "stream",
     "text": [
      "\n",
      "Uploading:   0%|          | 0/1 [00:00<?, ?it/s]\n",
      "Uploading: 100%|██████████| 1/1 [00:00<00:00, 13.30it/s]\n"
     ]
    },
    {
     "name": "stdout",
     "output_type": "stream",
     "text": [
      "Processing slice z= 310\n"
     ]
    },
    {
     "name": "stderr",
     "output_type": "stream",
     "text": [
      "Uploading: 100%|██████████| 1/1 [00:00<00:00, 25.35it/s]\n",
      "\n",
      "Uploading:   0%|          | 0/1 [00:00<?, ?it/s]\u001b[A\n",
      "Uploading:   0%|          | 0/1 [00:00<?, ?it/s]\u001b[A\n",
      "Uploading: 100%|██████████| 1/1 [00:00<00:00, 31.24it/s]\n",
      "Uploading:   0%|          | 0/1 [00:00<?, ?it/s]\n",
      "Uploading: 100%|██████████| 1/1 [00:00<00:00, 13.09it/s]\n"
     ]
    },
    {
     "name": "stdout",
     "output_type": "stream",
     "text": [
      "Processing slice z= 311\n",
      "success\n",
      "success\n",
      "success\n",
      "success\n",
      "success\n",
      "success\n",
      "success\n",
      "success\n",
      "success\n",
      "success\n",
      "success\n",
      "success\n",
      "success\n",
      "success\n",
      "success\n",
      "success\n"
     ]
    },
    {
     "name": "stderr",
     "output_type": "stream",
     "text": [
      "Uploading: 100%|██████████| 1/1 [00:00<00:00, 14.61it/s]\n"
     ]
    },
    {
     "name": "stdout",
     "output_type": "stream",
     "text": [
      "Processing slice z= 312\n"
     ]
    },
    {
     "name": "stderr",
     "output_type": "stream",
     "text": [
      "Uploading: 100%|██████████| 1/1 [00:00<00:00,  8.86it/s]\n",
      "Uploading:   0%|          | 0/1 [00:00<?, ?it/s]"
     ]
    },
    {
     "name": "stdout",
     "output_type": "stream",
     "text": [
      "Processing slice z= 313\n"
     ]
    },
    {
     "name": "stderr",
     "output_type": "stream",
     "text": [
      "\n",
      "Uploading: 100%|██████████| 1/1 [00:00<00:00, 28.64it/s]\n",
      "Uploading: 100%|██████████| 1/1 [00:00<00:00, 25.74it/s]\n",
      "Uploading: 100%|██████████| 1/1 [00:00<00:00, 32.42it/s]\n",
      "Uploading: 100%|██████████| 1/1 [00:00<00:00, 25.56it/s]\n",
      "\n",
      "Uploading: 100%|██████████| 1/1 [00:00<00:00, 39.56it/s]\n",
      "Uploading: 100%|██████████| 1/1 [00:00<00:00, 13.44it/s]\n",
      "Uploading: 100%|██████████| 1/1 [00:00<00:00, 11.47it/s]"
     ]
    },
    {
     "name": "stdout",
     "output_type": "stream",
     "text": [
      "Processing slice z= 314\n"
     ]
    },
    {
     "name": "stderr",
     "output_type": "stream",
     "text": [
      "\n",
      "\n"
     ]
    },
    {
     "name": "stdout",
     "output_type": "stream",
     "text": [
      "Processing slice z= 315\n"
     ]
    },
    {
     "name": "stderr",
     "output_type": "stream",
     "text": [
      "Uploading:   0%|          | 0/1 [00:00<?, ?it/s]\u001b[A\n",
      "Uploading: 100%|██████████| 1/1 [00:00<00:00, 11.92it/s]\n",
      "Uploading: 100%|██████████| 1/1 [00:00<00:00, 11.83it/s]"
     ]
    },
    {
     "name": "stdout",
     "output_type": "stream",
     "text": [
      "Processing slice z= 316\n"
     ]
    },
    {
     "name": "stderr",
     "output_type": "stream",
     "text": [
      "\n"
     ]
    },
    {
     "name": "stdout",
     "output_type": "stream",
     "text": [
      "Processing slice z= 317\n"
     ]
    },
    {
     "name": "stderr",
     "output_type": "stream",
     "text": [
      "Uploading: 100%|██████████| 1/1 [00:00<00:00, 15.79it/s]\n",
      "Uploading:   0%|          | 0/1 [00:00<?, ?it/s]"
     ]
    },
    {
     "name": "stdout",
     "output_type": "stream",
     "text": [
      "Processing slice z= 318\n"
     ]
    },
    {
     "name": "stderr",
     "output_type": "stream",
     "text": [
      "Uploading: 100%|██████████| 1/1 [00:00<00:00, 33.56it/s]\n",
      "Uploading:   0%|          | 0/1 [00:00<?, ?it/s]\n",
      "Uploading: 100%|██████████| 1/1 [00:00<00:00, 29.81it/s]\n",
      "Uploading: 100%|██████████| 1/1 [00:00<00:00, 30.23it/s]\n",
      "\n",
      "Uploading:   0%|          | 0/1 [00:00<?, ?it/s]\u001b[A\n",
      "Uploading:   0%|          | 0/1 [00:00<?, ?it/s]\u001b[A\n",
      "Uploading: 100%|██████████| 1/1 [00:00<00:00, 12.70it/s]\n",
      "\n"
     ]
    },
    {
     "name": "stdout",
     "output_type": "stream",
     "text": [
      "Processing slice z= 319\n"
     ]
    },
    {
     "name": "stderr",
     "output_type": "stream",
     "text": [
      "Uploading: 100%|██████████| 1/1 [00:00<00:00, 14.81it/s]\n"
     ]
    },
    {
     "name": "stdout",
     "output_type": "stream",
     "text": [
      "Processing slice z= 320\n"
     ]
    },
    {
     "name": "stderr",
     "output_type": "stream",
     "text": [
      "Uploading: 100%|██████████| 1/1 [00:00<00:00, 14.89it/s]\n",
      "Uploading:   0%|          | 0/1 [00:00<?, ?it/s]"
     ]
    },
    {
     "name": "stdout",
     "output_type": "stream",
     "text": [
      "Processing slice z= 321\n"
     ]
    },
    {
     "name": "stderr",
     "output_type": "stream",
     "text": [
      "Uploading: 100%|██████████| 1/1 [00:00<00:00, 35.01it/s]\n",
      "Uploading: 100%|██████████| 1/1 [00:00<00:00, 38.57it/s]\n",
      "\n",
      "Uploading:   0%|          | 0/1 [00:00<?, ?it/s]\u001b[A\n",
      "Uploading:   0%|          | 0/1 [00:00<?, ?it/s]\u001b[A\n",
      "Uploading: 100%|██████████| 1/1 [00:00<00:00, 26.32it/s]\n",
      "Uploading: 100%|██████████| 1/1 [00:00<00:00, 27.82it/s]\n",
      "Uploading: 100%|██████████| 1/1 [00:00<00:00, 13.48it/s]\n",
      "Uploading: 100%|██████████| 1/1 [00:00<00:00, 22.12it/s]"
     ]
    },
    {
     "name": "stdout",
     "output_type": "stream",
     "text": [
      "Processing slice z= 322\n"
     ]
    },
    {
     "name": "stderr",
     "output_type": "stream",
     "text": [
      "\n",
      "Uploading: 100%|██████████| 1/1 [00:00<00:00, 12.37it/s]\n"
     ]
    },
    {
     "name": "stdout",
     "output_type": "stream",
     "text": [
      "Processing slice z= 323\n"
     ]
    },
    {
     "name": "stderr",
     "output_type": "stream",
     "text": [
      "Uploading: 100%|██████████| 1/1 [00:00<00:00, 15.49it/s]\n"
     ]
    },
    {
     "name": "stdout",
     "output_type": "stream",
     "text": [
      "Processing slice z= 324\n"
     ]
    },
    {
     "name": "stderr",
     "output_type": "stream",
     "text": [
      "Uploading: 100%|██████████| 1/1 [00:00<00:00, 34.03it/s]\n",
      "Uploading:   0%|          | 0/1 [00:00<?, ?it/s]\n",
      "Uploading: 100%|██████████| 1/1 [00:00<00:00, 29.63it/s]\n",
      "Uploading: 100%|██████████| 1/1 [00:00<00:00, 30.87it/s]\n",
      "\n",
      "Uploading:   0%|          | 0/1 [00:00<?, ?it/s]\u001b[A\n",
      "Uploading: 100%|██████████| 1/1 [00:00<00:00,  8.87it/s]\n"
     ]
    },
    {
     "name": "stdout",
     "output_type": "stream",
     "text": [
      "Processing slice z= 325\n"
     ]
    },
    {
     "name": "stderr",
     "output_type": "stream",
     "text": [
      "Uploading: 100%|██████████| 1/1 [00:00<00:00,  8.80it/s]\n",
      "Uploading: 100%|██████████| 1/1 [00:00<00:00, 33.61it/s]"
     ]
    },
    {
     "name": "stdout",
     "output_type": "stream",
     "text": [
      "Processing slice z= 326\n"
     ]
    },
    {
     "name": "stderr",
     "output_type": "stream",
     "text": [
      "\n",
      "Uploading: 100%|██████████| 1/1 [00:00<00:00, 37.55it/s]\n",
      "\n",
      "Uploading:   0%|          | 0/1 [00:00<?, ?it/s]\u001b[A\n",
      "Uploading: 100%|██████████| 1/1 [00:00<00:00, 28.57it/s]\n",
      "Uploading: 100%|██████████| 1/1 [00:00<00:00, 18.53it/s]\n"
     ]
    },
    {
     "name": "stdout",
     "output_type": "stream",
     "text": [
      "Processing slice z= 327\n"
     ]
    },
    {
     "name": "stderr",
     "output_type": "stream",
     "text": [
      "Uploading: 100%|██████████| 1/1 [00:00<00:00,  9.29it/s]\n"
     ]
    },
    {
     "name": "stdout",
     "output_type": "stream",
     "text": [
      "Processing slice z= 328\n"
     ]
    },
    {
     "name": "stderr",
     "output_type": "stream",
     "text": [
      "\r",
      "Uploading: 100%|██████████| 1/1 [00:00<00:00, 15.34it/s]"
     ]
    },
    {
     "name": "stdout",
     "output_type": "stream",
     "text": [
      "success\n",
      "success\n",
      "success\n",
      "success\n",
      "success\n",
      "success\n",
      "success\n",
      "success\n",
      "success\n",
      "success\n",
      "success\n",
      "success\n",
      "success\n",
      "success\n",
      "success\n",
      "success\n",
      "success\n"
     ]
    },
    {
     "name": "stderr",
     "output_type": "stream",
     "text": [
      "\n"
     ]
    },
    {
     "name": "stdout",
     "output_type": "stream",
     "text": [
      "Processing slice z= 329\n"
     ]
    },
    {
     "name": "stderr",
     "output_type": "stream",
     "text": [
      "Uploading: 100%|██████████| 1/1 [00:00<00:00,  8.54it/s]\n",
      "Uploading:   0%|          | 0/1 [00:00<?, ?it/s]"
     ]
    },
    {
     "name": "stdout",
     "output_type": "stream",
     "text": [
      "Processing slice z= 330\n"
     ]
    },
    {
     "name": "stderr",
     "output_type": "stream",
     "text": [
      "Uploading: 100%|██████████| 1/1 [00:00<00:00,  8.21it/s]\n",
      "\n"
     ]
    },
    {
     "name": "stdout",
     "output_type": "stream",
     "text": [
      "Processing slice z= 331\n"
     ]
    },
    {
     "name": "stderr",
     "output_type": "stream",
     "text": [
      "Uploading: 100%|██████████| 1/1 [00:00<00:00, 32.22it/s]\n",
      "Uploading: 100%|██████████| 1/1 [00:00<00:00, 31.75it/s]\n",
      "Uploading:   0%|          | 0/1 [00:00<?, ?it/s]\n",
      "Uploading:   0%|          | 0/1 [00:00<?, ?it/s]\u001b[A\n",
      "Uploading: 100%|██████████| 1/1 [00:00<00:00, 14.78it/s]\n",
      "Uploading: 100%|██████████| 1/1 [00:00<00:00, 14.62it/s]"
     ]
    },
    {
     "name": "stdout",
     "output_type": "stream",
     "text": [
      "Processing slice z= 332\n"
     ]
    },
    {
     "name": "stderr",
     "output_type": "stream",
     "text": [
      "\n"
     ]
    },
    {
     "name": "stdout",
     "output_type": "stream",
     "text": [
      "Processing slice z= 333\n"
     ]
    },
    {
     "name": "stderr",
     "output_type": "stream",
     "text": [
      "\n",
      "Uploading:   0%|          | 0/1 [00:00<?, ?it/s]\u001b[A\n",
      "Uploading: 100%|██████████| 1/1 [00:00<00:00, 30.13it/s]\n",
      "Uploading: 100%|██████████| 1/1 [00:00<00:00,  7.75it/s]\n"
     ]
    },
    {
     "name": "stdout",
     "output_type": "stream",
     "text": [
      "Processing slice z= 334\n"
     ]
    },
    {
     "name": "stderr",
     "output_type": "stream",
     "text": [
      "Uploading: 100%|██████████| 1/1 [00:00<00:00, 32.90it/s]\n",
      "Uploading: 100%|██████████| 1/1 [00:00<00:00, 28.91it/s]\n",
      "\n",
      "Uploading: 100%|██████████| 1/1 [00:00<00:00, 13.27it/s]\n",
      "Uploading: 100%|██████████| 1/1 [00:00<00:00, 32.69it/s]"
     ]
    },
    {
     "name": "stdout",
     "output_type": "stream",
     "text": [
      "Processing slice z= 335\n"
     ]
    },
    {
     "name": "stderr",
     "output_type": "stream",
     "text": [
      "\n",
      "Uploading: 100%|██████████| 1/1 [00:00<00:00, 15.87it/s]\n",
      "Uploading: 100%|██████████| 1/1 [00:00<00:00, 31.18it/s]"
     ]
    },
    {
     "name": "stdout",
     "output_type": "stream",
     "text": [
      "Processing slice z= 336\n"
     ]
    },
    {
     "name": "stderr",
     "output_type": "stream",
     "text": [
      "\n",
      "\n",
      "Uploading: 100%|██████████| 1/1 [00:00<00:00, 13.48it/s]\n"
     ]
    },
    {
     "name": "stdout",
     "output_type": "stream",
     "text": [
      "Processing slice z= 337\n"
     ]
    },
    {
     "name": "stderr",
     "output_type": "stream",
     "text": [
      "Uploading: 100%|██████████| 1/1 [00:00<00:00, 16.36it/s]\n"
     ]
    },
    {
     "name": "stdout",
     "output_type": "stream",
     "text": [
      "Processing slice z= 338\n"
     ]
    },
    {
     "name": "stderr",
     "output_type": "stream",
     "text": [
      "Uploading: 100%|██████████| 1/1 [00:00<00:00, 13.99it/s]\n"
     ]
    },
    {
     "name": "stdout",
     "output_type": "stream",
     "text": [
      "Processing slice z= 339\n"
     ]
    },
    {
     "name": "stderr",
     "output_type": "stream",
     "text": [
      "Uploading: 100%|██████████| 1/1 [00:00<00:00, 36.10it/s]\n",
      "\n",
      "Uploading:   0%|          | 0/1 [00:00<?, ?it/s]\u001b[A\n",
      "Uploading: 100%|██████████| 1/1 [00:00<00:00, 25.69it/s]\n",
      "Uploading: 100%|██████████| 1/1 [00:00<00:00, 13.62it/s]\n",
      "\n"
     ]
    },
    {
     "name": "stdout",
     "output_type": "stream",
     "text": [
      "Processing slice z= 340\n"
     ]
    },
    {
     "name": "stderr",
     "output_type": "stream",
     "text": [
      "Uploading:   0%|          | 0/1 [00:00<?, ?it/s]\u001b[A\n",
      "Uploading:   0%|          | 0/1 [00:00<?, ?it/s]\u001b[A\n",
      "Uploading: 100%|██████████| 1/1 [00:00<00:00, 29.00it/s]\n",
      "Uploading: 100%|██████████| 1/1 [00:00<00:00, 11.16it/s]\n",
      "\n"
     ]
    },
    {
     "name": "stdout",
     "output_type": "stream",
     "text": [
      "Processing slice z= 341\n"
     ]
    },
    {
     "name": "stderr",
     "output_type": "stream",
     "text": [
      "Uploading: 100%|██████████| 1/1 [00:00<00:00, 30.59it/s]\n",
      "Uploading: 100%|██████████| 1/1 [00:00<00:00, 36.42it/s]\n",
      "Uploading: 100%|██████████| 1/1 [00:00<00:00, 12.12it/s]\n"
     ]
    },
    {
     "name": "stdout",
     "output_type": "stream",
     "text": [
      "Processing slice z= 342\n"
     ]
    },
    {
     "name": "stderr",
     "output_type": "stream",
     "text": [
      "\n",
      "Uploading: 100%|██████████| 1/1 [00:00<00:00, 27.06it/s]\n",
      "Uploading: 100%|██████████| 1/1 [00:00<00:00, 11.46it/s]\n",
      "Uploading: 100%|██████████| 1/1 [00:00<00:00, 28.75it/s]"
     ]
    },
    {
     "name": "stdout",
     "output_type": "stream",
     "text": [
      "Processing slice z= 343\n"
     ]
    },
    {
     "name": "stderr",
     "output_type": "stream",
     "text": [
      "\n",
      "Uploading: 100%|██████████| 1/1 [00:00<00:00, 33.61it/s]\n",
      "Uploading: 100%|██████████| 1/1 [00:00<00:00, 12.80it/s]\n",
      "Uploading:   0%|          | 0/1 [00:00<?, ?it/s]"
     ]
    },
    {
     "name": "stdout",
     "output_type": "stream",
     "text": [
      "Processing slice z= 344\n"
     ]
    },
    {
     "name": "stderr",
     "output_type": "stream",
     "text": [
      "\n",
      "Uploading: 100%|██████████| 1/1 [00:00<00:00, 11.36it/s]\n"
     ]
    },
    {
     "name": "stdout",
     "output_type": "stream",
     "text": [
      "Processing slice z= 345\n"
     ]
    },
    {
     "name": "stderr",
     "output_type": "stream",
     "text": [
      "Uploading: 100%|██████████| 1/1 [00:00<00:00, 11.94it/s]\n",
      "Uploading: 100%|██████████| 1/1 [00:00<00:00, 13.91it/s]"
     ]
    },
    {
     "name": "stdout",
     "output_type": "stream",
     "text": [
      "Processing slice z= 346\n"
     ]
    },
    {
     "name": "stderr",
     "output_type": "stream",
     "text": [
      "\n"
     ]
    },
    {
     "name": "stdout",
     "output_type": "stream",
     "text": [
      "Processing slice z= 347\n"
     ]
    },
    {
     "name": "stderr",
     "output_type": "stream",
     "text": [
      "Uploading: 100%|██████████| 1/1 [00:00<00:00, 34.42it/s]\n",
      "Uploading:   0%|          | 0/1 [00:00<?, ?it/s]\n",
      "Uploading: 100%|██████████| 1/1 [00:00<00:00, 40.15it/s]\n",
      "Uploading:   0%|          | 0/1 [00:00<?, ?it/s]"
     ]
    },
    {
     "name": "stdout",
     "output_type": "stream",
     "text": [
      "success\n",
      "success\n",
      "success\n",
      "success\n",
      "success\n",
      "success\n",
      "success\n",
      "success\n",
      "success\n",
      "success\n",
      "success\n",
      "success\n",
      "success\n",
      "success\n",
      "success\n",
      "success\n",
      "success\n",
      "success\n",
      "success\n",
      "success\n",
      "success\n"
     ]
    },
    {
     "name": "stderr",
     "output_type": "stream",
     "text": [
      "Uploading:   0%|          | 0/1 [00:00<?, ?it/s]\n",
      "Uploading: 100%|██████████| 1/1 [00:00<00:00, 13.11it/s]\n",
      "\n"
     ]
    },
    {
     "name": "stdout",
     "output_type": "stream",
     "text": [
      "Processing slice z= 348\n"
     ]
    },
    {
     "name": "stderr",
     "output_type": "stream",
     "text": [
      "Uploading: 100%|██████████| 1/1 [00:00<00:00, 14.15it/s]\n",
      "\n"
     ]
    },
    {
     "name": "stdout",
     "output_type": "stream",
     "text": [
      "Processing slice z= 349\n"
     ]
    },
    {
     "name": "stderr",
     "output_type": "stream",
     "text": [
      "Uploading:   0%|          | 0/1 [00:00<?, ?it/s]\u001b[A\n",
      "Uploading:   0%|          | 0/1 [00:00<?, ?it/s]\u001b[A\n",
      "Uploading: 100%|██████████| 1/1 [00:00<00:00, 31.48it/s]\n",
      "\n",
      "Uploading: 100%|██████████| 1/1 [00:00<00:00, 40.89it/s]\n",
      "Uploading: 100%|██████████| 1/1 [00:00<00:00, 27.53it/s]\n",
      "Uploading: 100%|██████████| 1/1 [00:00<00:00, 13.29it/s]\n",
      "Uploading: 100%|██████████| 1/1 [00:00<00:00, 38.82it/s]"
     ]
    },
    {
     "name": "stdout",
     "output_type": "stream",
     "text": [
      "Processing slice z= 350\n"
     ]
    },
    {
     "name": "stderr",
     "output_type": "stream",
     "text": [
      "\n",
      "\n",
      "Uploading: 100%|██████████| 1/1 [00:00<00:00, 16.14it/s]\n"
     ]
    },
    {
     "name": "stdout",
     "output_type": "stream",
     "text": [
      "Processing slice z= 351\n"
     ]
    },
    {
     "name": "stderr",
     "output_type": "stream",
     "text": [
      "Uploading: 100%|██████████| 1/1 [00:00<00:00, 13.37it/s]\n",
      "Uploading: 100%|██████████| 1/1 [00:00<00:00, 28.45it/s]"
     ]
    },
    {
     "name": "stdout",
     "output_type": "stream",
     "text": [
      "Processing slice z= 352\n"
     ]
    },
    {
     "name": "stderr",
     "output_type": "stream",
     "text": [
      "\n",
      "Uploading: 100%|██████████| 1/1 [00:00<00:00, 17.00it/s]\n"
     ]
    },
    {
     "name": "stdout",
     "output_type": "stream",
     "text": [
      "Processing slice z= 353\n"
     ]
    },
    {
     "name": "stderr",
     "output_type": "stream",
     "text": [
      "Uploading: 100%|██████████| 1/1 [00:00<00:00, 41.17it/s]\n",
      "Uploading: 100%|██████████| 1/1 [00:00<00:00, 27.14it/s]\n",
      "Uploading:   0%|          | 0/1 [00:00<?, ?it/s]\n",
      "Uploading: 100%|██████████| 1/1 [00:00<00:00, 40.84it/s]\n",
      "Uploading: 100%|██████████| 1/1 [00:00<00:00, 13.52it/s]\n"
     ]
    },
    {
     "name": "stdout",
     "output_type": "stream",
     "text": [
      "Processing slice z= 354\n"
     ]
    },
    {
     "name": "stderr",
     "output_type": "stream",
     "text": [
      "\n",
      "Uploading: 100%|██████████| 1/1 [00:00<00:00, 17.10it/s]\n",
      "Uploading: 100%|██████████| 1/1 [00:00<00:00, 12.31it/s]"
     ]
    },
    {
     "name": "stdout",
     "output_type": "stream",
     "text": [
      "Processing slice z= 355\n"
     ]
    },
    {
     "name": "stderr",
     "output_type": "stream",
     "text": [
      "\n"
     ]
    },
    {
     "name": "stdout",
     "output_type": "stream",
     "text": [
      "Processing slice z= 356\n"
     ]
    },
    {
     "name": "stderr",
     "output_type": "stream",
     "text": [
      "\n",
      "Uploading:   0%|          | 0/1 [00:00<?, ?it/s]\u001b[A\n",
      "Uploading: 100%|██████████| 1/1 [00:00<00:00, 29.68it/s]\n",
      "\n",
      "Uploading: 100%|██████████| 1/1 [00:00<00:00, 32.31it/s]\n",
      "\n",
      "Uploading: 100%|██████████| 1/1 [00:00<00:00, 36.64it/s]\n",
      "\n",
      "Uploading: 100%|██████████| 1/1 [00:00<00:00, 32.28it/s]\n",
      "Uploading: 100%|██████████| 1/1 [00:00<00:00, 14.62it/s]\n"
     ]
    },
    {
     "name": "stdout",
     "output_type": "stream",
     "text": [
      "Processing slice z= 357\n"
     ]
    },
    {
     "name": "stderr",
     "output_type": "stream",
     "text": [
      "Uploading: 100%|██████████| 1/1 [00:00<00:00, 16.21it/s]\n"
     ]
    },
    {
     "name": "stdout",
     "output_type": "stream",
     "text": [
      "Processing slice z= 358\n"
     ]
    },
    {
     "name": "stderr",
     "output_type": "stream",
     "text": [
      "Uploading: 100%|██████████| 1/1 [00:00<00:00, 14.18it/s]\n",
      "Uploading: 100%|██████████| 1/1 [00:00<00:00, 33.92it/s]"
     ]
    },
    {
     "name": "stdout",
     "output_type": "stream",
     "text": [
      "Processing slice z= 359\n"
     ]
    },
    {
     "name": "stderr",
     "output_type": "stream",
     "text": [
      "\n",
      "\n",
      "Uploading:   0%|          | 0/1 [00:00<?, ?it/s]\u001b[A\n",
      "Uploading: 100%|██████████| 1/1 [00:00<00:00,  8.74it/s]\n",
      "Uploading:   0%|          | 0/1 [00:00<?, ?it/s]"
     ]
    },
    {
     "name": "stdout",
     "output_type": "stream",
     "text": [
      "Processing slice z= 360\n"
     ]
    },
    {
     "name": "stderr",
     "output_type": "stream",
     "text": [
      "Uploading: 100%|██████████| 1/1 [00:00<00:00, 27.74it/s]\n",
      "Uploading: 100%|██████████| 1/1 [00:00<00:00, 14.01it/s]\n",
      "Uploading:   0%|          | 0/1 [00:00<?, ?it/s]"
     ]
    },
    {
     "name": "stdout",
     "output_type": "stream",
     "text": [
      "Processing slice z= 361\n"
     ]
    },
    {
     "name": "stderr",
     "output_type": "stream",
     "text": [
      "Uploading: 100%|██████████| 1/1 [00:00<00:00,  8.54it/s]\n",
      "Uploading: 100%|██████████| 1/1 [00:00<00:00, 23.07it/s]"
     ]
    },
    {
     "name": "stdout",
     "output_type": "stream",
     "text": [
      "Processing slice z= 362\n"
     ]
    },
    {
     "name": "stderr",
     "output_type": "stream",
     "text": [
      "\n",
      "\n",
      "Uploading: 100%|██████████| 1/1 [00:00<00:00, 12.62it/s]\n",
      "Uploading: 100%|██████████| 1/1 [00:00<00:00, 34.99it/s]"
     ]
    },
    {
     "name": "stdout",
     "output_type": "stream",
     "text": [
      "Processing slice z= 363\n"
     ]
    },
    {
     "name": "stderr",
     "output_type": "stream",
     "text": [
      "\n",
      "Uploading: 100%|██████████| 1/1 [00:00<00:00, 35.72it/s]\n",
      "Uploading:   0%|          | 0/1 [00:00<?, ?it/s]\n",
      "Uploading: 100%|██████████| 1/1 [00:00<00:00, 11.50it/s]\n"
     ]
    },
    {
     "name": "stdout",
     "output_type": "stream",
     "text": [
      "Processing slice z= 364\n"
     ]
    },
    {
     "name": "stderr",
     "output_type": "stream",
     "text": [
      "Uploading: 100%|██████████| 1/1 [00:00<00:00, 16.83it/s]\n",
      "\n"
     ]
    },
    {
     "name": "stdout",
     "output_type": "stream",
     "text": [
      "Processing slice z= 365\n"
     ]
    },
    {
     "name": "stderr",
     "output_type": "stream",
     "text": [
      "Uploading: 100%|██████████| 1/1 [00:00<00:00, 15.35it/s]\n",
      "Uploading: 100%|██████████| 1/1 [00:00<00:00, 34.97it/s]"
     ]
    },
    {
     "name": "stdout",
     "output_type": "stream",
     "text": [
      "Processing slice z= 366\n"
     ]
    },
    {
     "name": "stderr",
     "output_type": "stream",
     "text": [
      "\n",
      "\n",
      "Uploading:   0%|          | 0/1 [00:00<?, ?it/s]\u001b[A\n"
     ]
    },
    {
     "name": "stdout",
     "output_type": "stream",
     "text": [
      "success\n",
      "success\n",
      "success\n",
      "success\n",
      "success\n",
      "success\n",
      "success\n",
      "success\n",
      "success\n",
      "success\n",
      "success\n",
      "success\n",
      "success\n",
      "success\n",
      "success\n",
      "success\n",
      "success\n",
      "success\n",
      "success\n"
     ]
    },
    {
     "name": "stderr",
     "output_type": "stream",
     "text": [
      "Uploading: 100%|██████████| 1/1 [00:00<00:00, 15.68it/s]\n"
     ]
    },
    {
     "name": "stdout",
     "output_type": "stream",
     "text": [
      "Processing slice z= 367\n"
     ]
    },
    {
     "name": "stderr",
     "output_type": "stream",
     "text": [
      "\n",
      "Uploading:   0%|          | 0/1 [00:00<?, ?it/s]\u001b[A\n",
      "Uploading: 100%|██████████| 1/1 [00:00<00:00, 27.46it/s]\n",
      "\n",
      "Uploading: 100%|██████████| 1/1 [00:00<00:00, 29.22it/s]\n",
      "Uploading: 100%|██████████| 1/1 [00:00<00:00, 35.03it/s]\n",
      "Uploading: 100%|██████████| 1/1 [00:00<00:00, 40.60it/s]\n",
      "Uploading: 100%|██████████| 1/1 [00:00<00:00, 13.29it/s]\n"
     ]
    },
    {
     "name": "stdout",
     "output_type": "stream",
     "text": [
      "Processing slice z= 368\n"
     ]
    },
    {
     "name": "stderr",
     "output_type": "stream",
     "text": [
      "Uploading: 100%|██████████| 1/1 [00:00<00:00, 14.41it/s]\n"
     ]
    },
    {
     "name": "stdout",
     "output_type": "stream",
     "text": [
      "Processing slice z= 369\n"
     ]
    },
    {
     "name": "stderr",
     "output_type": "stream",
     "text": [
      "Uploading: 100%|██████████| 1/1 [00:00<00:00, 14.89it/s]\n",
      "\n"
     ]
    },
    {
     "name": "stdout",
     "output_type": "stream",
     "text": [
      "Processing slice z= 370\n"
     ]
    },
    {
     "name": "stderr",
     "output_type": "stream",
     "text": [
      "Uploading: 100%|██████████| 1/1 [00:00<00:00, 37.12it/s]\n",
      "Uploading: 100%|██████████| 1/1 [00:00<00:00, 16.76it/s]\n",
      "Uploading:   0%|          | 0/1 [00:00<?, ?it/s]"
     ]
    },
    {
     "name": "stdout",
     "output_type": "stream",
     "text": [
      "Processing slice z= 371\n"
     ]
    },
    {
     "name": "stderr",
     "output_type": "stream",
     "text": [
      "Uploading: 100%|██████████| 1/1 [00:00<00:00, 27.82it/s]\n",
      "Uploading: 100%|██████████| 1/1 [00:00<00:00, 29.89it/s]\n",
      "Uploading: 100%|██████████| 1/1 [00:00<00:00, 16.45it/s]\n",
      "\n"
     ]
    },
    {
     "name": "stdout",
     "output_type": "stream",
     "text": [
      "Processing slice z= 372\n"
     ]
    },
    {
     "name": "stderr",
     "output_type": "stream",
     "text": [
      "Uploading: 100%|██████████| 1/1 [00:00<00:00, 14.69it/s]\n",
      "\n"
     ]
    },
    {
     "name": "stdout",
     "output_type": "stream",
     "text": [
      "Processing slice z= 373\n"
     ]
    },
    {
     "name": "stderr",
     "output_type": "stream",
     "text": [
      "Uploading:   0%|          | 0/1 [00:00<?, ?it/s]\u001b[A\n",
      "Uploading:   0%|          | 0/1 [00:00<?, ?it/s]\u001b[A\n",
      "Uploading: 100%|██████████| 1/1 [00:00<00:00, 12.67it/s]\n",
      "Uploading: 100%|██████████| 1/1 [00:00<00:00, 29.02it/s]"
     ]
    },
    {
     "name": "stdout",
     "output_type": "stream",
     "text": [
      "Processing slice z= 374\n"
     ]
    },
    {
     "name": "stderr",
     "output_type": "stream",
     "text": [
      "\n",
      "Uploading:   0%|          | 0/1 [00:00<?, ?it/s]\n",
      "Uploading: 100%|██████████| 1/1 [00:00<00:00, 35.06it/s]\n",
      "\n",
      "Uploading: 100%|██████████| 1/1 [00:00<00:00, 39.74it/s]\n",
      "Uploading: 100%|██████████| 1/1 [00:00<00:00, 31.94it/s]\n",
      "Uploading: 100%|██████████| 1/1 [00:00<00:00, 33.83it/s]\n",
      "\n",
      "Uploading: 100%|██████████| 1/1 [00:00<00:00, 16.50it/s]\n"
     ]
    },
    {
     "name": "stdout",
     "output_type": "stream",
     "text": [
      "Processing slice z= 375\n"
     ]
    },
    {
     "name": "stderr",
     "output_type": "stream",
     "text": [
      "Uploading: 100%|██████████| 1/1 [00:00<00:00, 45.25it/s]\n",
      "Uploading: 100%|██████████| 1/1 [00:00<00:00, 17.49it/s]\n",
      "Uploading: 100%|██████████| 1/1 [00:00<00:00, 48.19it/s]"
     ]
    },
    {
     "name": "stdout",
     "output_type": "stream",
     "text": [
      "Processing slice z= 376\n"
     ]
    },
    {
     "name": "stderr",
     "output_type": "stream",
     "text": [
      "\n",
      "Uploading: 100%|██████████| 1/1 [00:00<00:00, 14.28it/s]\n",
      "Uploading: 100%|██████████| 1/1 [00:00<00:00, 16.47it/s]\n"
     ]
    },
    {
     "name": "stdout",
     "output_type": "stream",
     "text": [
      "Processing slice z= 377\n"
     ]
    },
    {
     "name": "stderr",
     "output_type": "stream",
     "text": [
      "\n"
     ]
    },
    {
     "name": "stdout",
     "output_type": "stream",
     "text": [
      "Processing slice z= 378\n"
     ]
    },
    {
     "name": "stderr",
     "output_type": "stream",
     "text": [
      "Uploading: 100%|██████████| 1/1 [00:00<00:00, 19.24it/s]\n",
      "Uploading:   0%|          | 0/1 [00:00<?, ?it/s]"
     ]
    },
    {
     "name": "stdout",
     "output_type": "stream",
     "text": [
      "Processing slice z= 379\n"
     ]
    },
    {
     "name": "stderr",
     "output_type": "stream",
     "text": [
      "Uploading: 100%|██████████| 1/1 [00:00<00:00, 19.14it/s]\n"
     ]
    },
    {
     "name": "stdout",
     "output_type": "stream",
     "text": [
      "Processing slice z= 380\n"
     ]
    },
    {
     "name": "stderr",
     "output_type": "stream",
     "text": [
      "Uploading: 100%|██████████| 1/1 [00:00<00:00, 32.56it/s]\n",
      "Uploading:   0%|          | 0/1 [00:00<?, ?it/s]\n",
      "Uploading:   0%|          | 0/1 [00:00<?, ?it/s]\u001b[A\n",
      "Uploading: 100%|██████████| 1/1 [00:00<00:00,  8.05it/s]\n"
     ]
    },
    {
     "name": "stdout",
     "output_type": "stream",
     "text": [
      "Processing slice z= 381\n"
     ]
    },
    {
     "name": "stderr",
     "output_type": "stream",
     "text": [
      "Uploading: 100%|██████████| 1/1 [00:00<00:00, 33.04it/s]\n",
      "\n",
      "Uploading: 100%|██████████| 1/1 [00:00<00:00, 14.19it/s]\n"
     ]
    },
    {
     "name": "stdout",
     "output_type": "stream",
     "text": [
      "Processing slice z= 382\n"
     ]
    },
    {
     "name": "stderr",
     "output_type": "stream",
     "text": [
      "\n",
      "Uploading: 100%|██████████| 1/1 [00:00<00:00, 33.73it/s]\n",
      "Uploading: 100%|██████████| 1/1 [00:00<00:00, 28.63it/s]\n",
      "Uploading:   0%|          | 0/1 [00:00<?, ?it/s]\n",
      "Uploading: 100%|██████████| 1/1 [00:00<00:00, 24.64it/s]\n",
      "Uploading: 100%|██████████| 1/1 [00:00<00:00, 12.97it/s]\n",
      "\n"
     ]
    },
    {
     "name": "stdout",
     "output_type": "stream",
     "text": [
      "Processing slice z= 383\n"
     ]
    },
    {
     "name": "stderr",
     "output_type": "stream",
     "text": [
      "Uploading:   0%|          | 0/1 [00:00<?, ?it/s]\u001b[A\n",
      "Uploading:   0%|          | 0/1 [00:00<?, ?it/s]\u001b[A"
     ]
    },
    {
     "name": "stdout",
     "output_type": "stream",
     "text": [
      "success\n",
      "success\n",
      "success\n",
      "success\n",
      "success\n",
      "success\n",
      "success\n",
      "success\n",
      "success\n",
      "success\n",
      "success\n",
      "success\n",
      "success\n",
      "success\n",
      "success\n",
      "success\n"
     ]
    },
    {
     "name": "stderr",
     "output_type": "stream",
     "text": [
      "Uploading: 100%|██████████| 1/1 [00:00<00:00, 12.09it/s]\n"
     ]
    },
    {
     "name": "stdout",
     "output_type": "stream",
     "text": [
      "Processing slice z= 384\n"
     ]
    },
    {
     "name": "stderr",
     "output_type": "stream",
     "text": [
      "Uploading: 100%|██████████| 1/1 [00:00<00:00, 27.86it/s]\n",
      "Uploading: 100%|██████████| 1/1 [00:00<00:00, 12.77it/s]\n",
      "Uploading:   0%|          | 0/1 [00:00<?, ?it/s]"
     ]
    },
    {
     "name": "stdout",
     "output_type": "stream",
     "text": [
      "Processing slice z= 385\n"
     ]
    },
    {
     "name": "stderr",
     "output_type": "stream",
     "text": [
      "Uploading: 100%|██████████| 1/1 [00:00<00:00,  9.31it/s]\n"
     ]
    },
    {
     "name": "stdout",
     "output_type": "stream",
     "text": [
      "Processing slice z= 386\n"
     ]
    },
    {
     "name": "stderr",
     "output_type": "stream",
     "text": [
      "Uploading: 100%|██████████| 1/1 [00:00<00:00, 35.26it/s]\n",
      "Uploading: 100%|██████████| 1/1 [00:00<00:00, 11.82it/s]\n",
      "Uploading:   0%|          | 0/1 [00:00<?, ?it/s]"
     ]
    },
    {
     "name": "stdout",
     "output_type": "stream",
     "text": [
      "Processing slice z= 387\n"
     ]
    },
    {
     "name": "stderr",
     "output_type": "stream",
     "text": [
      "Uploading:   0%|          | 0/1 [00:00<?, ?it/s]\n",
      "Uploading:   0%|          | 0/1 [00:00<?, ?it/s]\u001b[A\n",
      "Uploading: 100%|██████████| 1/1 [00:00<00:00, 32.73it/s]\n",
      "Uploading: 100%|██████████| 1/1 [00:00<00:00, 12.80it/s]\n"
     ]
    },
    {
     "name": "stdout",
     "output_type": "stream",
     "text": [
      "Processing slice z= 388\n"
     ]
    },
    {
     "name": "stderr",
     "output_type": "stream",
     "text": [
      "Uploading: 100%|██████████| 1/1 [00:00<00:00, 27.60it/s]\n",
      "Uploading:   0%|          | 0/1 [00:00<?, ?it/s]\n",
      "Uploading:   0%|          | 0/1 [00:00<?, ?it/s]\u001b[A\n",
      "Uploading: 100%|██████████| 1/1 [00:00<00:00, 13.00it/s]\n",
      "Uploading: 100%|██████████| 1/1 [00:00<00:00, 50.97it/s]"
     ]
    },
    {
     "name": "stdout",
     "output_type": "stream",
     "text": [
      "Processing slice z= 389\n"
     ]
    },
    {
     "name": "stderr",
     "output_type": "stream",
     "text": [
      "\n",
      "\n",
      "Uploading: 100%|██████████| 1/1 [00:00<00:00, 35.69it/s]\n",
      "Uploading: 100%|██████████| 1/1 [00:00<00:00, 13.20it/s]\n"
     ]
    },
    {
     "name": "stdout",
     "output_type": "stream",
     "text": [
      "Processing slice z= 390\n"
     ]
    },
    {
     "name": "stderr",
     "output_type": "stream",
     "text": [
      "Uploading:   0%|          | 0/1 [00:00<?, ?it/s]\n",
      "Uploading: 100%|██████████| 1/1 [00:00<00:00, 17.89it/s]\n",
      "Uploading:   0%|          | 0/1 [00:00<?, ?it/s]"
     ]
    },
    {
     "name": "stdout",
     "output_type": "stream",
     "text": [
      "Processing slice z= 391\n"
     ]
    },
    {
     "name": "stderr",
     "output_type": "stream",
     "text": [
      "Uploading: 100%|██████████| 1/1 [00:00<00:00, 33.15it/s]\n",
      "Uploading: 100%|██████████| 1/1 [00:00<00:00, 34.55it/s]\n",
      "Uploading: 100%|██████████| 1/1 [00:00<00:00, 16.08it/s]\n"
     ]
    },
    {
     "name": "stdout",
     "output_type": "stream",
     "text": [
      "Processing slice z= 392\n"
     ]
    },
    {
     "name": "stderr",
     "output_type": "stream",
     "text": [
      "\n",
      "Uploading: 100%|██████████| 1/1 [00:00<00:00, 34.83it/s]\n",
      "Uploading: 100%|██████████| 1/1 [00:00<00:00, 16.85it/s]\n",
      "\n"
     ]
    },
    {
     "name": "stdout",
     "output_type": "stream",
     "text": [
      "Processing slice z= 393\n"
     ]
    },
    {
     "name": "stderr",
     "output_type": "stream",
     "text": [
      "Uploading: 100%|██████████| 1/1 [00:00<00:00, 14.59it/s]\n"
     ]
    },
    {
     "name": "stdout",
     "output_type": "stream",
     "text": [
      "Processing slice z= 394\n"
     ]
    },
    {
     "name": "stderr",
     "output_type": "stream",
     "text": [
      "Uploading: 100%|██████████| 1/1 [00:00<00:00, 17.17it/s]\n"
     ]
    },
    {
     "name": "stdout",
     "output_type": "stream",
     "text": [
      "Processing slice z= 395\n"
     ]
    },
    {
     "name": "stderr",
     "output_type": "stream",
     "text": [
      "Uploading: 100%|██████████| 1/1 [00:00<00:00, 27.32it/s]\n",
      "Uploading:   0%|          | 0/1 [00:00<?, ?it/s]\n",
      "Uploading:   0%|          | 0/1 [00:00<?, ?it/s]\u001b[A\n",
      "Uploading: 100%|██████████| 1/1 [00:00<00:00, 26.02it/s]\n",
      "Uploading: 100%|██████████| 1/1 [00:00<00:00, 29.68it/s]\n",
      "Uploading: 100%|██████████| 1/1 [00:00<00:00, 13.11it/s]\n"
     ]
    },
    {
     "name": "stdout",
     "output_type": "stream",
     "text": [
      "Processing slice z= 396\n"
     ]
    },
    {
     "name": "stderr",
     "output_type": "stream",
     "text": [
      "\n",
      "Uploading: 100%|██████████| 1/1 [00:00<00:00, 42.52it/s]\n",
      "\n",
      "Uploading: 100%|██████████| 1/1 [00:00<00:00, 13.24it/s]\n"
     ]
    },
    {
     "name": "stdout",
     "output_type": "stream",
     "text": [
      "Processing slice z= 397\n"
     ]
    },
    {
     "name": "stderr",
     "output_type": "stream",
     "text": [
      "Uploading: 100%|██████████| 1/1 [00:00<00:00, 36.53it/s]\n",
      "Uploading: 100%|██████████| 1/1 [00:00<00:00, 14.62it/s]\n"
     ]
    },
    {
     "name": "stdout",
     "output_type": "stream",
     "text": [
      "Processing slice z= 398\n"
     ]
    },
    {
     "name": "stderr",
     "output_type": "stream",
     "text": [
      "Uploading: 100%|██████████| 1/1 [00:00<00:00, 18.82it/s]\n"
     ]
    },
    {
     "name": "stdout",
     "output_type": "stream",
     "text": [
      "Processing slice z= 399\n"
     ]
    },
    {
     "name": "stderr",
     "output_type": "stream",
     "text": [
      "\n",
      "Uploading: 100%|██████████| 1/1 [00:00<00:00, 14.64it/s]\n",
      "Uploading:   0%|          | 0/1 [00:00<?, ?it/s]"
     ]
    },
    {
     "name": "stdout",
     "output_type": "stream",
     "text": [
      "Processing slice z= 400\n"
     ]
    },
    {
     "name": "stderr",
     "output_type": "stream",
     "text": [
      "Uploading: 100%|██████████| 1/1 [00:00<00:00, 38.83it/s]\n",
      "Uploading: 100%|██████████| 1/1 [00:00<00:00, 38.98it/s]\n",
      "\n",
      "Uploading: 100%|██████████| 1/1 [00:00<00:00, 43.24it/s]\n",
      "Uploading:   0%|          | 0/1 [00:00<?, ?it/s]\n",
      "Uploading:   0%|          | 0/1 [00:00<?, ?it/s]\u001b[A\n",
      "Uploading: 100%|██████████| 1/1 [00:00<00:00, 13.23it/s]\n",
      "Uploading: 100%|██████████| 1/1 [00:00<00:00, 13.42it/s]"
     ]
    },
    {
     "name": "stdout",
     "output_type": "stream",
     "text": [
      "Processing slice z= 401\n"
     ]
    },
    {
     "name": "stderr",
     "output_type": "stream",
     "text": [
      "\n",
      "\n"
     ]
    },
    {
     "name": "stdout",
     "output_type": "stream",
     "text": [
      "Processing slice z= 402\n"
     ]
    },
    {
     "name": "stderr",
     "output_type": "stream",
     "text": [
      "Uploading: 100%|██████████| 1/1 [00:00<00:00, 16.19it/s]\n",
      "\n"
     ]
    },
    {
     "name": "stdout",
     "output_type": "stream",
     "text": [
      "Processing slice z= 403\n"
     ]
    },
    {
     "name": "stderr",
     "output_type": "stream",
     "text": [
      "Uploading: 100%|██████████| 1/1 [00:00<00:00, 40.66it/s]\n",
      "Uploading: 100%|██████████| 1/1 [00:00<00:00, 39.81it/s]\n",
      "Uploading: 100%|██████████| 1/1 [00:00<00:00, 40.38it/s]\n",
      "\n",
      "Uploading:   0%|          | 0/1 [00:00<?, ?it/s]\u001b[A\n",
      "Uploading: 100%|██████████| 1/1 [00:00<00:00, 34.06it/s]\n"
     ]
    },
    {
     "name": "stdout",
     "output_type": "stream",
     "text": [
      "success\n",
      "success\n",
      "success\n",
      "success\n",
      "success\n",
      "success\n",
      "success\n",
      "success\n",
      "success\n",
      "success\n",
      "success\n",
      "success\n",
      "success\n",
      "success\n",
      "success\n",
      "success\n",
      "success\n",
      "success\n",
      "success\n",
      "success\n",
      "success\n"
     ]
    },
    {
     "name": "stderr",
     "output_type": "stream",
     "text": [
      "Uploading: 100%|██████████| 1/1 [00:00<00:00, 39.36it/s]\n",
      "Uploading: 100%|██████████| 1/1 [00:00<00:00, 15.12it/s]\n",
      "Uploading: 100%|██████████| 1/1 [00:00<00:00, 12.84it/s]"
     ]
    },
    {
     "name": "stdout",
     "output_type": "stream",
     "text": [
      "Processing slice z= 404\n"
     ]
    },
    {
     "name": "stderr",
     "output_type": "stream",
     "text": [
      "\n"
     ]
    },
    {
     "name": "stdout",
     "output_type": "stream",
     "text": [
      "Processing slice z= 405\n"
     ]
    },
    {
     "name": "stderr",
     "output_type": "stream",
     "text": [
      "\n",
      "Uploading: 100%|██████████| 1/1 [00:00<00:00, 13.73it/s]\n"
     ]
    },
    {
     "name": "stdout",
     "output_type": "stream",
     "text": [
      "Processing slice z= 406\n"
     ]
    },
    {
     "name": "stderr",
     "output_type": "stream",
     "text": [
      "Uploading: 100%|██████████| 1/1 [00:00<00:00, 12.94it/s]\n"
     ]
    },
    {
     "name": "stdout",
     "output_type": "stream",
     "text": [
      "Processing slice z= 407\n"
     ]
    },
    {
     "name": "stderr",
     "output_type": "stream",
     "text": [
      "Uploading: 100%|██████████| 1/1 [00:00<00:00, 15.12it/s]\n"
     ]
    },
    {
     "name": "stdout",
     "output_type": "stream",
     "text": [
      "Processing slice z= 408\n"
     ]
    },
    {
     "name": "stderr",
     "output_type": "stream",
     "text": [
      "Uploading: 100%|██████████| 1/1 [00:00<00:00, 35.38it/s]\n",
      "Uploading: 100%|██████████| 1/1 [00:00<00:00, 31.68it/s]\n",
      "Uploading:   0%|          | 0/1 [00:00<?, ?it/s]\n",
      "Uploading: 100%|██████████| 1/1 [00:00<00:00, 36.65it/s]\n",
      "Uploading: 100%|██████████| 1/1 [00:00<00:00, 14.17it/s]\n"
     ]
    },
    {
     "name": "stdout",
     "output_type": "stream",
     "text": [
      "Processing slice z= 409\n"
     ]
    },
    {
     "name": "stderr",
     "output_type": "stream",
     "text": [
      "\n",
      "Uploading:   0%|          | 0/1 [00:00<?, ?it/s]\u001b[A\n",
      "Uploading:   0%|          | 0/1 [00:00<?, ?it/s]\u001b[A\n",
      "Uploading: 100%|██████████| 1/1 [00:00<00:00, 12.22it/s]\n"
     ]
    },
    {
     "name": "stdout",
     "output_type": "stream",
     "text": [
      "Processing slice z= 410\n"
     ]
    },
    {
     "name": "stderr",
     "output_type": "stream",
     "text": [
      "Uploading: 100%|██████████| 1/1 [00:00<00:00, 37.07it/s]\n",
      "Uploading: 100%|██████████| 1/1 [00:00<00:00, 12.81it/s]\n",
      "\n"
     ]
    },
    {
     "name": "stdout",
     "output_type": "stream",
     "text": [
      "Processing slice z= 411\n"
     ]
    },
    {
     "name": "stderr",
     "output_type": "stream",
     "text": [
      "Uploading: 100%|██████████| 1/1 [00:00<00:00, 59.57it/s]\n",
      "Uploading: 100%|██████████| 1/1 [00:00<00:00, 37.49it/s]\n",
      "Uploading: 100%|██████████| 1/1 [00:00<00:00, 13.83it/s]\n"
     ]
    },
    {
     "name": "stdout",
     "output_type": "stream",
     "text": [
      "Processing slice z= 412\n"
     ]
    },
    {
     "name": "stderr",
     "output_type": "stream",
     "text": [
      "Uploading: 100%|██████████| 1/1 [00:00<00:00, 19.50it/s]\n"
     ]
    },
    {
     "name": "stdout",
     "output_type": "stream",
     "text": [
      "Processing slice z= 413\n"
     ]
    },
    {
     "name": "stderr",
     "output_type": "stream",
     "text": [
      "\n",
      "Uploading:   0%|          | 0/1 [00:00<?, ?it/s]\u001b[A\n",
      "Uploading: 100%|██████████| 1/1 [00:00<00:00, 28.88it/s]\n",
      "Uploading: 100%|██████████| 1/1 [00:00<00:00, 37.33it/s]\n",
      "Uploading:   0%|          | 0/1 [00:00<?, ?it/s]\n",
      "Uploading: 100%|██████████| 1/1 [00:00<00:00, 12.21it/s]\n"
     ]
    },
    {
     "name": "stdout",
     "output_type": "stream",
     "text": [
      "Processing slice z= 414\n"
     ]
    },
    {
     "name": "stderr",
     "output_type": "stream",
     "text": [
      "Uploading: 100%|██████████| 1/1 [00:00<00:00, 53.11it/s]\n",
      "Uploading: 100%|██████████| 1/1 [00:00<00:00, 58.22it/s]\n",
      "Uploading: 100%|██████████| 1/1 [00:00<00:00, 13.55it/s]\n"
     ]
    },
    {
     "name": "stdout",
     "output_type": "stream",
     "text": [
      "Processing slice z= 415\n"
     ]
    },
    {
     "name": "stderr",
     "output_type": "stream",
     "text": [
      "Uploading: 100%|██████████| 1/1 [00:00<00:00, 14.96it/s]\n",
      "\n"
     ]
    },
    {
     "name": "stdout",
     "output_type": "stream",
     "text": [
      "Processing slice z= 416\n"
     ]
    },
    {
     "name": "stderr",
     "output_type": "stream",
     "text": [
      "Uploading:   0%|          | 0/1 [00:00<?, ?it/s]\u001b[A\n",
      "Uploading: 100%|██████████| 1/1 [00:00<00:00, 61.24it/s]\n",
      "Uploading: 100%|██████████| 1/1 [00:00<00:00, 14.91it/s]\n",
      "Uploading: 100%|██████████| 1/1 [00:00<00:00, 16.42it/s]"
     ]
    },
    {
     "name": "stdout",
     "output_type": "stream",
     "text": [
      "Processing slice z= 417\n"
     ]
    },
    {
     "name": "stderr",
     "output_type": "stream",
     "text": [
      "\n"
     ]
    },
    {
     "name": "stdout",
     "output_type": "stream",
     "text": [
      "Processing slice z= 418\n"
     ]
    },
    {
     "name": "stderr",
     "output_type": "stream",
     "text": [
      "Uploading: 100%|██████████| 1/1 [00:00<00:00, 47.05it/s]\n",
      "\n",
      "Uploading: 100%|██████████| 1/1 [00:00<00:00, 16.58it/s]\n",
      "Uploading: 100%|██████████| 1/1 [00:00<00:00, 41.87it/s]"
     ]
    },
    {
     "name": "stdout",
     "output_type": "stream",
     "text": [
      "Processing slice z= 419\n"
     ]
    },
    {
     "name": "stderr",
     "output_type": "stream",
     "text": [
      "\n",
      "Uploading:   0%|          | 0/1 [00:00<?, ?it/s]\n",
      "Uploading:   0%|          | 0/1 [00:00<?, ?it/s]\u001b[A\n",
      "Uploading: 100%|██████████| 1/1 [00:00<00:00, 16.72it/s]\n"
     ]
    },
    {
     "name": "stdout",
     "output_type": "stream",
     "text": [
      "Processing slice z= 420\n"
     ]
    },
    {
     "name": "stderr",
     "output_type": "stream",
     "text": [
      "Uploading: 100%|██████████| 1/1 [00:00<00:00, 36.20it/s]\n",
      "\n",
      "Uploading: 100%|██████████| 1/1 [00:00<00:00, 39.60it/s]\n",
      "Uploading: 100%|██████████| 1/1 [00:00<00:00, 13.13it/s]\n",
      "Uploading: 100%|██████████| 1/1 [00:00<00:00, 57.86it/s]"
     ]
    },
    {
     "name": "stdout",
     "output_type": "stream",
     "text": [
      "Processing slice z= 421\n"
     ]
    },
    {
     "name": "stderr",
     "output_type": "stream",
     "text": [
      "\n",
      "Uploading:   0%|          | 0/1 [00:00<?, ?it/s]\n",
      "Uploading:   0%|          | 0/1 [00:00<?, ?it/s]\u001b[A\n",
      "Uploading: 100%|██████████| 1/1 [00:00<00:00, 67.45it/s]\n",
      "Uploading: 100%|██████████| 1/1 [00:00<00:00, 14.50it/s]\n"
     ]
    },
    {
     "name": "stdout",
     "output_type": "stream",
     "text": [
      "Processing slice z= 422\n"
     ]
    },
    {
     "name": "stderr",
     "output_type": "stream",
     "text": [
      "Uploading: 100%|██████████| 1/1 [00:00<00:00, 16.10it/s]\n"
     ]
    },
    {
     "name": "stdout",
     "output_type": "stream",
     "text": [
      "Processing slice z= 423\n"
     ]
    },
    {
     "name": "stderr",
     "output_type": "stream",
     "text": [
      "\n",
      "Uploading: 100%|██████████| 1/1 [00:00<00:00, 12.92it/s]\n"
     ]
    },
    {
     "name": "stdout",
     "output_type": "stream",
     "text": [
      "Processing slice z= 424\n"
     ]
    },
    {
     "name": "stderr",
     "output_type": "stream",
     "text": [
      "Uploading: 100%|██████████| 1/1 [00:00<00:00, 43.00it/s]\n"
     ]
    },
    {
     "name": "stdout",
     "output_type": "stream",
     "text": [
      "success\n",
      "success\n",
      "success\n",
      "success\n",
      "success\n",
      "success\n",
      "success\n",
      "success\n",
      "success\n",
      "success\n",
      "success\n",
      "success\n",
      "success\n",
      "success\n",
      "success\n",
      "success\n",
      "success\n",
      "success\n",
      "success\n",
      "success\n",
      "success\n"
     ]
    },
    {
     "name": "stderr",
     "output_type": "stream",
     "text": [
      "Uploading: 100%|██████████| 1/1 [00:00<00:00, 45.80it/s]\n",
      "Uploading: 100%|██████████| 1/1 [00:00<00:00, 16.30it/s]\n"
     ]
    },
    {
     "name": "stdout",
     "output_type": "stream",
     "text": [
      "Processing slice z= 425\n"
     ]
    },
    {
     "name": "stderr",
     "output_type": "stream",
     "text": [
      "Uploading:   0%|          | 0/1 [00:00<?, ?it/s]\n",
      "Uploading: 100%|██████████| 1/1 [00:00<00:00, 58.29it/s]\n",
      "Uploading:   0%|          | 0/1 [00:00<?, ?it/s]\n",
      "Uploading: 100%|██████████| 1/1 [00:00<00:00, 15.17it/s]\n",
      "Uploading:   0%|          | 0/1 [00:00<?, ?it/s]"
     ]
    },
    {
     "name": "stdout",
     "output_type": "stream",
     "text": [
      "Processing slice z= 426\n"
     ]
    },
    {
     "name": "stderr",
     "output_type": "stream",
     "text": [
      "Uploading: 100%|██████████| 1/1 [00:00<00:00, 15.30it/s]\n"
     ]
    },
    {
     "name": "stdout",
     "output_type": "stream",
     "text": [
      "Processing slice z= 427\n"
     ]
    },
    {
     "name": "stderr",
     "output_type": "stream",
     "text": [
      "\n",
      "Uploading: 100%|██████████| 1/1 [00:00<00:00, 42.07it/s]\n",
      "Uploading: 100%|██████████| 1/1 [00:00<00:00, 16.06it/s]\n",
      "Uploading:   0%|          | 0/1 [00:00<?, ?it/s]"
     ]
    },
    {
     "name": "stdout",
     "output_type": "stream",
     "text": [
      "Processing slice z= 428\n"
     ]
    },
    {
     "name": "stderr",
     "output_type": "stream",
     "text": [
      "Uploading: 100%|██████████| 1/1 [00:00<00:00, 48.35it/s]\n",
      "\n",
      "Uploading:   0%|          | 0/1 [00:00<?, ?it/s]\u001b[A\n",
      "Uploading: 100%|██████████| 1/1 [00:00<00:00, 56.50it/s]\n",
      "Uploading: 100%|██████████| 1/1 [00:00<00:00, 15.21it/s]\n"
     ]
    },
    {
     "name": "stdout",
     "output_type": "stream",
     "text": [
      "Processing slice z= 429\n"
     ]
    },
    {
     "name": "stderr",
     "output_type": "stream",
     "text": [
      "Uploading:   0%|          | 0/1 [00:00<?, ?it/s]\n",
      "Uploading:   0%|          | 0/1 [00:00<?, ?it/s]\u001b[A\n",
      "Uploading: 100%|██████████| 1/1 [00:00<00:00, 16.01it/s]\n",
      "Uploading: 100%|██████████| 1/1 [00:00<00:00, 48.92it/s]\n"
     ]
    },
    {
     "name": "stdout",
     "output_type": "stream",
     "text": [
      "Processing slice z= 430\n"
     ]
    },
    {
     "name": "stderr",
     "output_type": "stream",
     "text": [
      "Uploading: 100%|██████████| 1/1 [00:00<00:00, 17.17it/s]\n",
      "\n"
     ]
    },
    {
     "name": "stdout",
     "output_type": "stream",
     "text": [
      "Processing slice z= 431\n"
     ]
    },
    {
     "name": "stderr",
     "output_type": "stream",
     "text": [
      "Uploading: 100%|██████████| 1/1 [00:00<00:00, 34.00it/s]\n",
      "Uploading: 100%|██████████| 1/1 [00:00<00:00, 42.37it/s]\n",
      "Uploading: 100%|██████████| 1/1 [00:00<00:00, 55.20it/s]\n",
      "Uploading: 100%|██████████| 1/1 [00:00<00:00, 34.79it/s]\n",
      "Uploading: 100%|██████████| 1/1 [00:00<00:00, 13.33it/s]\n",
      "\n"
     ]
    },
    {
     "name": "stdout",
     "output_type": "stream",
     "text": [
      "Processing slice z= 432\n"
     ]
    },
    {
     "name": "stderr",
     "output_type": "stream",
     "text": [
      "Uploading: 100%|██████████| 1/1 [00:00<00:00, 13.82it/s]\n"
     ]
    },
    {
     "name": "stdout",
     "output_type": "stream",
     "text": [
      "Processing slice z= 433\n"
     ]
    },
    {
     "name": "stderr",
     "output_type": "stream",
     "text": [
      "Uploading: 100%|██████████| 1/1 [00:00<00:00, 17.22it/s]\n"
     ]
    },
    {
     "name": "stdout",
     "output_type": "stream",
     "text": [
      "Processing slice z= 434\n"
     ]
    },
    {
     "name": "stderr",
     "output_type": "stream",
     "text": [
      "\n",
      "Uploading: 100%|██████████| 1/1 [00:00<00:00, 18.77it/s]\n",
      "Uploading: 100%|██████████| 1/1 [00:00<00:00, 13.78it/s]"
     ]
    },
    {
     "name": "stdout",
     "output_type": "stream",
     "text": [
      "Processing slice z= 435\n"
     ]
    },
    {
     "name": "stderr",
     "output_type": "stream",
     "text": [
      "\n"
     ]
    },
    {
     "name": "stdout",
     "output_type": "stream",
     "text": [
      "Processing slice z= 436\n"
     ]
    },
    {
     "name": "stderr",
     "output_type": "stream",
     "text": [
      "Uploading:   0%|          | 0/1 [00:00<?, ?it/s]\n",
      "Uploading: 100%|██████████| 1/1 [00:00<00:00, 36.84it/s]\n",
      "Uploading: 100%|██████████| 1/1 [00:00<00:00, 43.95it/s]\n",
      "\n",
      "Uploading: 100%|██████████| 1/1 [00:00<00:00, 39.96it/s]\n",
      "\n",
      "Uploading:   0%|          | 0/1 [00:00<?, ?it/s]\u001b[A\n",
      "Uploading: 100%|██████████| 1/1 [00:00<00:00, 14.89it/s]\n",
      "\n"
     ]
    },
    {
     "name": "stdout",
     "output_type": "stream",
     "text": [
      "Processing slice z= 437\n"
     ]
    },
    {
     "name": "stderr",
     "output_type": "stream",
     "text": [
      "Uploading:   0%|          | 0/1 [00:00<?, ?it/s]\u001b[A\n",
      "Uploading: 100%|██████████| 1/1 [00:00<00:00, 10.89it/s]\n"
     ]
    },
    {
     "name": "stdout",
     "output_type": "stream",
     "text": [
      "Processing slice z= 438\n"
     ]
    },
    {
     "name": "stderr",
     "output_type": "stream",
     "text": [
      "Uploading: 100%|██████████| 1/1 [00:00<00:00, 15.67it/s]\n"
     ]
    },
    {
     "name": "stdout",
     "output_type": "stream",
     "text": [
      "Processing slice z= 439\n"
     ]
    },
    {
     "name": "stderr",
     "output_type": "stream",
     "text": [
      "Uploading: 100%|██████████| 1/1 [00:00<00:00, 70.08it/s]\n",
      "Uploading: 100%|██████████| 1/1 [00:00<00:00, 45.64it/s]\n",
      "Uploading: 100%|██████████| 1/1 [00:00<00:00, 48.91it/s]\n",
      "Uploading: 100%|██████████| 1/1 [00:00<00:00, 42.47it/s]\n",
      "Uploading: 100%|██████████| 1/1 [00:00<00:00, 16.49it/s]\n",
      "Uploading: 100%|██████████| 1/1 [00:00<00:00, 14.74it/s]"
     ]
    },
    {
     "name": "stdout",
     "output_type": "stream",
     "text": [
      "Processing slice z= 440\n"
     ]
    },
    {
     "name": "stderr",
     "output_type": "stream",
     "text": [
      "\n"
     ]
    },
    {
     "name": "stdout",
     "output_type": "stream",
     "text": [
      "Processing slice z= 441\n"
     ]
    },
    {
     "name": "stderr",
     "output_type": "stream",
     "text": [
      "Uploading: 100%|██████████| 1/1 [00:00<00:00, 14.56it/s]\n",
      "Uploading: 100%|██████████| 1/1 [00:00<00:00, 33.99it/s]\n"
     ]
    },
    {
     "name": "stdout",
     "output_type": "stream",
     "text": [
      "Processing slice z= 442\n"
     ]
    },
    {
     "name": "stderr",
     "output_type": "stream",
     "text": [
      "\n",
      "Uploading:   0%|          | 0/1 [00:00<?, ?it/s]\u001b[A\n",
      "Uploading:   0%|          | 0/1 [00:00<?, ?it/s]\u001b[A\n",
      "Uploading: 100%|██████████| 1/1 [00:00<00:00, 14.32it/s]\n"
     ]
    },
    {
     "name": "stdout",
     "output_type": "stream",
     "text": [
      "Processing slice z= 443\n"
     ]
    },
    {
     "name": "stderr",
     "output_type": "stream",
     "text": [
      "\r",
      "Uploading:   0%|          | 0/1 [00:00<?, ?it/s]"
     ]
    },
    {
     "name": "stdout",
     "output_type": "stream",
     "text": [
      "success\n",
      "success\n",
      "success\n",
      "success\n",
      "success\n",
      "success\n",
      "success\n",
      "success\n",
      "success\n",
      "success\n",
      "success\n",
      "success\n",
      "success\n",
      "success\n",
      "success\n",
      "success\n",
      "success\n",
      "success\n",
      "success\n"
     ]
    },
    {
     "name": "stderr",
     "output_type": "stream",
     "text": [
      "Uploading: 100%|██████████| 1/1 [00:00<00:00, 11.95it/s]\n"
     ]
    },
    {
     "name": "stdout",
     "output_type": "stream",
     "text": [
      "Processing slice z= 444\n"
     ]
    },
    {
     "name": "stderr",
     "output_type": "stream",
     "text": [
      "Uploading: 100%|██████████| 1/1 [00:00<00:00, 38.88it/s]\n",
      "Uploading: 100%|██████████| 1/1 [00:00<00:00, 40.34it/s]\n",
      "Uploading: 100%|██████████| 1/1 [00:00<00:00, 48.00it/s]\n",
      "\n",
      "Uploading:   0%|          | 0/1 [00:00<?, ?it/s]\u001b[A\n",
      "Uploading:   0%|          | 0/1 [00:00<?, ?it/s]\u001b[A\n",
      "Uploading: 100%|██████████| 1/1 [00:00<00:00, 15.81it/s]\n"
     ]
    },
    {
     "name": "stdout",
     "output_type": "stream",
     "text": [
      "Processing slice z= 445\n"
     ]
    },
    {
     "name": "stderr",
     "output_type": "stream",
     "text": [
      "\n",
      "Uploading: 100%|██████████| 1/1 [00:00<00:00, 13.97it/s]\n"
     ]
    },
    {
     "name": "stdout",
     "output_type": "stream",
     "text": [
      "Processing slice z= 446\n"
     ]
    },
    {
     "name": "stderr",
     "output_type": "stream",
     "text": [
      "Uploading: 100%|██████████| 1/1 [00:00<00:00, 62.41it/s]\n",
      "Uploading: 100%|██████████| 1/1 [00:00<00:00, 15.30it/s]\n"
     ]
    },
    {
     "name": "stdout",
     "output_type": "stream",
     "text": [
      "Processing slice z= 447\n"
     ]
    },
    {
     "name": "stderr",
     "output_type": "stream",
     "text": [
      "Uploading: 100%|██████████| 1/1 [00:00<00:00, 44.27it/s]\n",
      "Uploading: 100%|██████████| 1/1 [00:00<00:00, 61.20it/s]\n",
      "Uploading: 100%|██████████| 1/1 [00:00<00:00, 41.13it/s]\n",
      "Uploading:   0%|          | 0/1 [00:00<?, ?it/s]\n",
      "Uploading: 100%|██████████| 1/1 [00:00<00:00, 14.31it/s]\n"
     ]
    },
    {
     "name": "stdout",
     "output_type": "stream",
     "text": [
      "Processing slice z= 448\n"
     ]
    },
    {
     "name": "stderr",
     "output_type": "stream",
     "text": [
      "Uploading: 100%|██████████| 1/1 [00:00<00:00, 15.79it/s]\n",
      "Uploading: 100%|██████████| 1/1 [00:00<00:00, 13.44it/s]"
     ]
    },
    {
     "name": "stdout",
     "output_type": "stream",
     "text": [
      "Processing slice z= 449\n"
     ]
    },
    {
     "name": "stderr",
     "output_type": "stream",
     "text": [
      "\n"
     ]
    },
    {
     "name": "stdout",
     "output_type": "stream",
     "text": [
      "Processing slice z= 450\n"
     ]
    },
    {
     "name": "stderr",
     "output_type": "stream",
     "text": [
      "Uploading: 100%|██████████| 1/1 [00:00<00:00, 15.79it/s]\n"
     ]
    },
    {
     "name": "stdout",
     "output_type": "stream",
     "text": [
      "Processing slice z= 451\n"
     ]
    },
    {
     "name": "stderr",
     "output_type": "stream",
     "text": [
      "\n",
      "Uploading:   0%|          | 0/1 [00:00<?, ?it/s]\u001b[A\n",
      "Uploading:   0%|          | 0/1 [00:00<?, ?it/s]\u001b[A\n",
      "Uploading: 100%|██████████| 1/1 [00:00<00:00, 46.74it/s]\n",
      "Uploading: 100%|██████████| 1/1 [00:00<00:00, 46.00it/s]\n",
      "Uploading: 100%|██████████| 1/1 [00:00<00:00, 15.56it/s]\n"
     ]
    },
    {
     "name": "stdout",
     "output_type": "stream",
     "text": [
      "Processing slice z= 452\n"
     ]
    },
    {
     "name": "stderr",
     "output_type": "stream",
     "text": [
      "Uploading: 100%|██████████| 1/1 [00:00<00:00, 44.23it/s]\n",
      "\n",
      "Uploading:   0%|          | 0/1 [00:00<?, ?it/s]\u001b[A\n",
      "Uploading:   0%|          | 0/1 [00:00<?, ?it/s]\u001b[A\n",
      "Uploading:   0%|          | 0/1 [00:00<?, ?it/s]\u001b[A\n",
      "Uploading: 100%|██████████| 1/1 [00:00<00:00, 121.00it/s]\n",
      "Uploading: 100%|██████████| 1/1 [00:00<00:00, 30.47it/s]\n",
      "Uploading: 100%|██████████| 1/1 [00:00<00:00, 15.87it/s]\n"
     ]
    },
    {
     "name": "stdout",
     "output_type": "stream",
     "text": [
      "Processing slice z= 453\n"
     ]
    },
    {
     "name": "stderr",
     "output_type": "stream",
     "text": [
      "Uploading: 100%|██████████| 1/1 [00:00<00:00, 98.92it/s]\n",
      "Uploading: 100%|██████████| 1/1 [00:00<00:00, 15.23it/s]\n"
     ]
    },
    {
     "name": "stdout",
     "output_type": "stream",
     "text": [
      "Processing slice z= 454\n"
     ]
    },
    {
     "name": "stderr",
     "output_type": "stream",
     "text": [
      "Uploading: 100%|██████████| 1/1 [00:00<00:00, 46.62it/s]\n",
      "Uploading: 100%|██████████| 1/1 [00:00<00:00, 55.53it/s]\n",
      "Uploading: 100%|██████████| 1/1 [00:00<00:00, 23.26it/s]\n",
      "Uploading: 100%|██████████| 1/1 [00:00<00:00, 12.08it/s]\n",
      "Uploading:   0%|          | 0/1 [00:00<?, ?it/s]\n",
      "Uploading: 100%|██████████| 1/1 [00:00<00:00, 20.31it/s]\n",
      "Uploading: 100%|██████████| 1/1 [00:00<00:00, 16.55it/s]\n",
      "Uploading: 100%|██████████| 1/1 [00:00<00:00, 16.53it/s]\n",
      "\n",
      "Uploading:   0%|          | 0/1 [00:00<?, ?it/s]\u001b[A\n",
      "Uploading: 100%|██████████| 1/1 [00:00<00:00, 65.67it/s]\n",
      "Uploading: 100%|██████████| 1/1 [00:00<00:00, 139.93it/s]\n",
      "Uploading: 100%|██████████| 1/1 [00:00<00:00, 102.98it/s]\n",
      "Uploading: 100%|██████████| 1/1 [00:00<00:00, 19.93it/s]\n",
      "Uploading: 100%|██████████| 1/1 [00:00<00:00, 26.87it/s]\n",
      "Uploading: 100%|██████████| 1/1 [00:00<00:00, 24.11it/s]\n"
     ]
    },
    {
     "name": "stdout",
     "output_type": "stream",
     "text": [
      "success\n",
      "success\n",
      "success\n",
      "success\n",
      "success\n",
      "success\n",
      "success\n",
      "success\n",
      "success\n",
      "success\n",
      "success\n",
      "success\n",
      "success\n",
      "success\n",
      "success\n",
      "success\n",
      "success\n",
      "success\n",
      "success\n"
     ]
    }
   ],
   "source": [
    "# Run the conversion in parallel. It's not a huge amount of processing but the more cores the better\n",
    "\n",
    "# First figure out if there are any planes that have already been converted \n",
    "# by checking the progress dir\n",
    "done_files = set([ int(z) for z in os.listdir(progress_dir) ])\n",
    "all_files = set(range(vol.bounds.minpt.z, vol.bounds.maxpt.z))\n",
    "# Figure out the ones we still need to convert \n",
    "to_upload = [ int(z) for z in list(all_files.difference(done_files)) ]\n",
    "to_upload.sort()\n",
    "print(f\"Have {len(to_upload)} planes to upload\")\n",
    "with ProcessPoolExecutor(max_workers=cpus_to_use) as executor:\n",
    "    for result in executor.map(process_slice,to_upload):\n",
    "        try:\n",
    "            print(result)\n",
    "        except Exception as exc:\n",
    "            print(f'generated an exception: {exc}')"
   ]
  },
  {
   "cell_type": "markdown",
   "metadata": {},
   "source": [
    "## Step 4 (optional): Make the 3d mesh\n",
    "In this step, we make the 3d mesh of the atlas from the precomputed layer we just created. This step is necessary if you want to view the atlas you created in the 3d viewer (lower left panel in Neuroglancer).  "
   ]
  },
  {
   "cell_type": "code",
   "execution_count": 6,
   "metadata": {},
   "outputs": [],
   "source": [
    "# define the meshing function\n",
    "def make_3d_mesh(vol,n_cores):\n",
    "    \"\"\" This function makes the mesh so that when you\n",
    "    load your segmentation layer into neuroglancer, you \n",
    "    will be able to see whichever segments are highlighted\n",
    "    in the 3d viewer as well as all of the other panels. \n",
    "\n",
    "    It uses parallel processing to speed up the meshing\n",
    "    ---parameters---\n",
    "    vol:     The cloudvolume object\n",
    "    n_cores: Number of cores to use\n",
    "    \"\"\"\n",
    "    # Mesh using the  cores, use True to use all cores\n",
    "    cloudpath = vol.cloudpath\n",
    "    with LocalTaskQueue(parallel=n_cores) as tq:\n",
    "        tasks = tc.create_meshing_tasks(cloudpath, mip=0, shape=(256, 256, 256))\n",
    "        tq.insert_all(tasks)\n",
    "        tasks = tc.create_mesh_manifest_tasks(cloudpath)\n",
    "        tq.insert_all(tasks)\n",
    "    print(\"Done!\")\n"
   ]
  },
  {
   "cell_type": "code",
   "execution_count": 7,
   "metadata": {},
   "outputs": [
    {
     "name": "stderr",
     "output_type": "stream",
     "text": [
      "Tasks:   0%|          | 0/16 [00:00<?, ?it/s]\n",
      "Downloading:   0%|          | 0/257 [00:00<?, ?it/s]\u001b[A\n",
      "Downloading:   0%|          | 0/257 [00:00<?, ?it/s]\u001b[A\n",
      "Downloading:   0%|          | 0/257 [00:00<?, ?it/s]\u001b[A\n",
      "Downloading:   0%|          | 0/257 [00:00<?, ?it/s]\u001b[A\n",
      "Downloading:   0%|          | 0/257 [00:00<?, ?it/s]\u001b[A\n",
      "Downloading:   0%|          | 0/257 [00:00<?, ?it/s]\u001b[A\n",
      "Downloading:   0%|          | 0/257 [00:00<?, ?it/s]\u001b[A\n",
      "Downloading:   0%|          | 0/257 [00:00<?, ?it/s]\u001b[A\n",
      "Downloading:  23%|██▎       | 58/257 [00:00<00:00, 446.56it/s]\u001b[A\n",
      "Downloading:  24%|██▎       | 61/257 [00:00<00:00, 446.56it/s]\u001b[A\n",
      "Downloading:  24%|██▍       | 62/257 [00:00<00:00, 446.56it/s]\u001b[A\n",
      "Downloading:  26%|██▋       | 68/257 [00:00<00:00, 446.56it/s]\u001b[A\n",
      "Downloading:  24%|██▎       | 61/257 [00:00<00:00, 463.02it/s]\u001b[A\n",
      "Downloading:  27%|██▋       | 69/257 [00:00<00:00, 446.56it/s]\u001b[A\n",
      "Downloading:  24%|██▍       | 62/257 [00:00<00:00, 463.02it/s]\u001b[A\n",
      "Downloading:  24%|██▍       | 62/257 [00:00<00:00, 484.83it/s]\u001b[A\n",
      "Downloading:  24%|██▍       | 62/257 [00:00<00:00, 484.83it/s]\u001b[A\n",
      "Downloading:  24%|██▍       | 62/257 [00:00<00:00, 484.83it/s]\u001b[A\n",
      "Downloading:  30%|███       | 78/257 [00:00<00:00, 446.56it/s]\u001b[A\n",
      "Downloading:  30%|███       | 78/257 [00:00<00:00, 446.56it/s]\u001b[A\n",
      "Downloading:  28%|██▊       | 71/257 [00:00<00:00, 463.02it/s]\u001b[A\n",
      "Downloading:  32%|███▏      | 81/257 [00:00<00:00, 446.56it/s]\u001b[A\n",
      "Downloading:  32%|███▏      | 82/257 [00:00<00:00, 446.56it/s]\u001b[A\n",
      "Downloading:  31%|███       | 79/257 [00:00<00:00, 463.02it/s]\u001b[A\n",
      "Downloading:  30%|██▉       | 76/257 [00:00<00:00, 484.83it/s]\u001b[A\n",
      "Downloading:  34%|███▍      | 88/257 [00:00<00:00, 446.56it/s]\u001b[A\n",
      "Downloading:  25%|██▍       | 64/257 [00:00<00:00, 504.36it/s]\u001b[A\n",
      "Downloading:  33%|███▎      | 85/257 [00:00<00:00, 463.02it/s]\u001b[A\n",
      "Downloading:  33%|███▎      | 84/257 [00:00<00:00, 484.83it/s]\u001b[A\n",
      "Downloading:  23%|██▎       | 58/257 [00:00<00:00, 443.87it/s]\u001b[A\n",
      "Downloading:  34%|███▍      | 88/257 [00:00<00:00, 484.83it/s]\u001b[A\n",
      "Downloading:  40%|███▉      | 102/257 [00:00<00:00, 446.56it/s]\u001b[A\n",
      "Downloading:  30%|███       | 78/257 [00:00<00:00, 248.05it/s]\u001b[A\n",
      "Downloading:  39%|███▉      | 100/257 [00:00<00:00, 463.02it/s]\u001b[A\n",
      "Downloading:  42%|████▏     | 108/257 [00:00<00:00, 446.56it/s]\u001b[A\n",
      "Downloading:  33%|███▎      | 86/257 [00:00<00:00, 248.05it/s]\u001b[A\n",
      "Downloading:  27%|██▋       | 69/257 [00:00<00:00, 194.42it/s]\u001b[A\n",
      "Downloading:  41%|████      | 105/257 [00:00<00:00, 484.83it/s]\u001b[A\n",
      "Downloading:  37%|███▋      | 94/257 [00:00<00:00, 248.05it/s]\u001b[A\n",
      "Downloading:  34%|███▍      | 88/257 [00:00<00:01, 154.98it/s]\u001b[A\n",
      "Downloading:  46%|████▌     | 117/257 [00:00<00:00, 248.05it/s]\u001b[A\n",
      "Downloading:  52%|█████▏    | 133/257 [00:00<00:00, 484.83it/s]\u001b[A\n",
      "Downloading:  56%|█████▌    | 144/257 [00:00<00:00, 446.56it/s]\u001b[A\n",
      "Downloading:  56%|█████▌    | 144/257 [00:00<00:00, 446.56it/s]\u001b[A\n",
      "Downloading:  55%|█████▌    | 142/257 [00:00<00:00, 207.75it/s]\u001b[A\n",
      "Downloading:  54%|█████▎    | 138/257 [00:00<00:00, 484.83it/s]\u001b[A\n",
      "Downloading:  56%|█████▌    | 144/257 [00:00<00:00, 207.75it/s]\u001b[A\n",
      "Downloading:  59%|█████▉    | 152/257 [00:00<00:00, 446.56it/s]\u001b[A\n",
      "Downloading:  40%|████      | 103/257 [00:00<00:00, 154.98it/s]\u001b[A\n",
      "Downloading:  41%|████      | 106/257 [00:00<00:00, 154.98it/s]\u001b[A\n",
      "Downloading:  54%|█████▍    | 139/257 [00:00<00:00, 248.05it/s]\u001b[A\n",
      "Downloading:  59%|█████▉    | 151/257 [00:00<00:00, 484.83it/s]\u001b[A\n",
      "Downloading:  45%|████▍     | 115/257 [00:00<00:00, 154.98it/s]\u001b[A\n",
      "Downloading:  66%|██████▌   | 169/257 [00:00<00:00, 446.56it/s]\u001b[A\n",
      "Downloading:  66%|██████▌   | 169/257 [00:00<00:00, 446.56it/s]\u001b[A\n",
      "Downloading:  65%|██████▍   | 167/257 [00:00<00:00, 484.83it/s]\u001b[A\n",
      "Downloading:  69%|██████▉   | 177/257 [00:00<00:00, 207.75it/s]\u001b[A\n",
      "Downloading:  70%|███████   | 180/257 [00:00<00:00, 207.75it/s]\u001b[A\n",
      "Downloading:  53%|█████▎    | 135/257 [00:00<00:00, 154.98it/s]\u001b[A\n",
      "Downloading:  65%|██████▍   | 166/257 [00:00<00:00, 248.05it/s]\u001b[A\n",
      "Downloading:  65%|██████▍   | 166/257 [00:00<00:00, 248.05it/s]\u001b[A\n",
      "Downloading:  72%|███████▏  | 184/257 [00:00<00:00, 484.83it/s]\u001b[A\n",
      "Downloading:  75%|███████▌  | 194/257 [00:00<00:00, 446.56it/s]\u001b[A\n",
      "Downloading:  78%|███████▊  | 200/257 [00:00<00:00, 207.75it/s]\u001b[A\n",
      "Downloading:  79%|███████▉  | 204/257 [00:00<00:00, 207.75it/s]\u001b[A\n",
      "Downloading:  19%|█▉        | 49/257 [00:00<00:00, 369.10it/s]\u001b[A\n",
      "Downloading:  65%|██████▍   | 166/257 [00:00<00:00, 154.98it/s]\u001b[A\n",
      "Downloading:  79%|███████▉  | 204/257 [00:00<00:00, 484.83it/s]\u001b[A\n",
      "Downloading:  83%|████████▎ | 214/257 [00:00<00:00, 446.56it/s]\u001b[A\n",
      "Downloading:  85%|████████▌ | 219/257 [00:00<00:00, 207.75it/s]\u001b[A\n",
      "Downloading:  83%|████████▎ | 214/257 [00:00<00:00, 484.83it/s]\u001b[A\n",
      "Downloading:  80%|████████  | 206/257 [00:00<00:00, 248.05it/s]\u001b[A\n",
      "Downloading:  73%|███████▎  | 188/257 [00:00<00:00, 154.98it/s]\u001b[A\n",
      "Downloading:  87%|████████▋ | 223/257 [00:00<00:00, 446.56it/s]\u001b[A\n",
      "Downloading:  86%|████████▌ | 221/257 [00:00<00:00, 484.83it/s]\u001b[A\n",
      "Downloading:  90%|█████████ | 232/257 [00:00<00:00, 207.75it/s]\u001b[A\n",
      "Downloading:  91%|█████████ | 233/257 [00:00<00:00, 207.75it/s]\u001b[A\n",
      "Downloading:  79%|███████▉  | 203/257 [00:00<00:00, 154.98it/s]\u001b[A\n",
      "Downloading:  87%|████████▋ | 223/257 [00:00<00:00, 248.05it/s]\u001b[A\n",
      "Downloading:  91%|█████████ | 233/257 [00:00<00:00, 484.83it/s]\u001b[A\n",
      "Downloading:  94%|█████████▍| 242/257 [00:00<00:00, 207.75it/s]\u001b[A\n",
      "Downloading:  93%|█████████▎| 240/257 [00:00<00:00, 484.83it/s]\u001b[A\n",
      "Downloading:  95%|█████████▍| 243/257 [00:00<00:00, 484.83it/s]\u001b[A\n",
      "Downloading:  95%|█████████▍| 244/257 [00:00<00:00, 248.05it/s]\u001b[A\n",
      "Downloading:  89%|████████▊ | 228/257 [00:00<00:00, 154.98it/s]\u001b[A\n",
      "Downloading: 100%|██████████| 257/257 [00:00<00:00, 207.75it/s]\u001b[A\n",
      "Downloading: 100%|██████████| 257/257 [00:00<00:00, 207.75it/s]\u001b[A\n",
      "Downloading:  97%|█████████▋| 249/257 [00:00<00:00, 248.05it/s]\u001b[A\n",
      "Downloading: 100%|██████████| 257/257 [00:00<00:00, 484.83it/s]\u001b[A\n",
      "Downloading:  23%|██▎       | 58/257 [00:00<00:02, 69.60it/s] \u001b[A\n",
      "Downloading: 100%|██████████| 257/257 [00:00<00:00, 207.75it/s]\u001b[A\n",
      "Downloading:  91%|█████████ | 234/257 [00:00<00:00, 154.98it/s]\u001b[A\n",
      "Downloading: 100%|██████████| 257/257 [00:00<00:00, 248.05it/s]\u001b[A\n",
      "Downloading: 100%|██████████| 257/257 [00:00<00:00, 207.75it/s]\u001b[A\n",
      "Downloading:  93%|█████████▎| 240/257 [00:00<00:00, 154.98it/s]\u001b[A\n",
      "Downloading: 100%|██████████| 257/257 [00:00<00:00, 484.83it/s]\u001b[A\n",
      "Downloading: 100%|██████████| 257/257 [00:00<00:00, 248.05it/s]\u001b[A\n",
      "Downloading:  28%|██▊       | 73/257 [00:00<00:03, 49.26it/s]\u001b[A\n",
      "Downloading:  95%|█████████▌| 245/257 [00:00<00:00, 154.98it/s]\u001b[A\n",
      "Downloading:  30%|██▉       | 76/257 [00:00<00:03, 49.26it/s]\u001b[A\n",
      "Downloading:  31%|███       | 79/257 [00:00<00:03, 49.26it/s]\u001b[A\n",
      "Downloading: 100%|██████████| 257/257 [00:00<00:00, 248.05it/s]\u001b[A\n",
      "Downloading: 100%|█████████▉| 256/257 [00:00<00:00, 154.98it/s]\u001b[A\n",
      "Downloading: 100%|██████████| 257/257 [00:00<00:00, 248.05it/s]\u001b[A\n",
      "Downloading:  16%|█▌        | 41/257 [00:00<00:00, 313.92it/s]\u001b[A\n",
      "Downloading:  33%|███▎      | 86/257 [00:00<00:03, 49.26it/s]\u001b[A\n",
      "Downloading: 100%|██████████| 257/257 [00:00<00:00, 154.98it/s]\u001b[A\n",
      "Downloading: 100%|██████████| 257/257 [00:00<00:00, 248.05it/s]\u001b[A\n",
      "Downloading: 100%|██████████| 257/257 [00:00<00:00, 154.98it/s]\u001b[A\n",
      "Downloading: 100%|██████████| 257/257 [00:00<00:00, 154.98it/s]\u001b[A\n",
      "Downloading:  18%|█▊        | 47/257 [00:00<00:00, 313.92it/s]\u001b[A\n",
      "Downloading: 100%|██████████| 257/257 [00:00<00:00, 154.98it/s]\u001b[A\n",
      "Downloading: 100%|██████████| 257/257 [00:00<00:00, 154.98it/s]\u001b[A\n",
      "Downloading: 100%|██████████| 257/257 [00:00<00:00, 248.05it/s]\u001b[A\n",
      "Downloading:  37%|███▋      | 95/257 [00:00<00:03, 49.26it/s]\u001b[A\n",
      "Downloading:  37%|███▋      | 95/257 [00:00<00:03, 49.26it/s]\u001b[A\n",
      "Downloading: 100%|██████████| 257/257 [00:00<00:00, 248.05it/s]\u001b[A\n",
      "Downloading: 100%|██████████| 257/257 [00:00<00:00, 248.05it/s]\u001b[A\n",
      "Downloading:  38%|███▊      | 97/257 [00:00<00:03, 49.26it/s]\u001b[A\n",
      "Downloading:  23%|██▎       | 60/257 [00:00<00:04, 40.34it/s] \u001b[A\n",
      "Downloading:  24%|██▎       | 61/257 [00:00<00:04, 40.34it/s]\u001b[A\n",
      "Downloading:  40%|████      | 103/257 [00:00<00:03, 49.26it/s]\u001b[A\n",
      "Downloading:  40%|████      | 103/257 [00:00<00:03, 49.26it/s]\u001b[A\n",
      "Downloading:  26%|██▌       | 66/257 [00:00<00:04, 40.34it/s]\u001b[A\n",
      "Downloading:   8%|▊         | 21/257 [00:00<00:01, 139.22it/s]\u001b[A\n",
      "Downloading:  26%|██▋       | 68/257 [00:00<00:04, 40.34it/s]\u001b[A\n",
      "Downloading:  42%|████▏     | 108/257 [00:00<00:03, 49.26it/s]\u001b[A\n",
      "Downloading:  28%|██▊       | 73/257 [00:00<00:04, 40.34it/s]\u001b[A\n",
      "Downloading:  43%|████▎     | 111/257 [00:00<00:02, 49.26it/s]\u001b[A\n",
      "Downloading:  44%|████▎     | 112/257 [00:00<00:02, 49.26it/s]\u001b[A\n",
      "Downloading:  31%|███       | 80/257 [00:00<00:04, 40.34it/s]\u001b[A\n",
      "Downloading:  45%|████▍     | 115/257 [00:00<00:02, 49.26it/s]\u001b[A\n",
      "Downloading:  46%|████▌     | 117/257 [00:00<00:02, 49.26it/s]\u001b[A\n",
      "Downloading:   9%|▊         | 22/257 [00:00<00:42,  5.51it/s] \u001b[A\n",
      "Downloading:  34%|███▍      | 87/257 [00:00<00:04, 40.34it/s]\u001b[A\n",
      "Downloading:  47%|████▋     | 122/257 [00:00<00:02, 49.26it/s]\u001b[A\n",
      "Downloading:  48%|████▊     | 123/257 [00:00<00:02, 49.26it/s]\u001b[A\n",
      "Downloading:  37%|███▋      | 94/257 [00:00<00:04, 40.34it/s]\u001b[A\n",
      "Downloading:   9%|▉         | 24/257 [00:00<00:51,  4.51it/s]\u001b[A\n",
      "Downloading:  50%|█████     | 129/257 [00:00<00:02, 49.26it/s]\u001b[A\n",
      "Downloading:  39%|███▉      | 101/257 [00:00<00:03, 40.34it/s]\u001b[A\n",
      "Downloading:  53%|█████▎    | 136/257 [00:00<00:02, 49.26it/s]\u001b[A\n",
      "Downloading:  10%|█         | 26/257 [00:00<00:58,  3.95it/s]\u001b[A\n",
      "Downloading:  41%|████      | 105/257 [00:00<00:03, 40.34it/s]\u001b[A\n",
      "Downloading:  11%|█         | 27/257 [00:00<00:58,  3.95it/s]\u001b[A\n",
      "Downloading:  41%|████      | 106/257 [00:00<00:03, 40.34it/s]\u001b[A\n",
      "Downloading:  12%|█▏        | 32/257 [00:00<00:45,  4.98it/s]\u001b[A\n",
      "Downloading:  43%|████▎     | 111/257 [00:00<00:03, 40.34it/s]\u001b[A\n",
      "Downloading:  44%|████▎     | 112/257 [00:00<00:03, 40.34it/s]\u001b[A\n",
      "Downloading:  44%|████▍     | 113/257 [00:00<00:03, 40.34it/s]\u001b[A\n",
      "Downloading:  44%|████▍     | 114/257 [00:00<00:03, 40.34it/s]\u001b[A\n",
      "Downloading:  46%|████▌     | 118/257 [00:00<00:03, 40.34it/s]\u001b[A\n",
      "Downloading:  47%|████▋     | 122/257 [00:00<00:03, 40.34it/s]\u001b[A\n",
      "Downloading:  14%|█▍        | 37/257 [00:00<00:40,  5.49it/s]\u001b[A\n",
      "Downloading:  16%|█▋        | 42/257 [00:00<00:39,  5.49it/s]\u001b[A\n",
      "Downloading:  50%|████▉     | 128/257 [00:00<00:03, 40.34it/s]\u001b[A\n",
      "Downloading:  18%|█▊        | 47/257 [00:00<00:34,  6.08it/s]\u001b[A\n",
      "Downloading:  20%|█▉        | 51/257 [00:00<00:33,  6.08it/s]\u001b[A\n",
      "Downloading:  22%|██▏       | 57/257 [00:00<00:26,  7.59it/s]\u001b[A\n",
      "Downloading:  22%|██▏       | 57/257 [00:00<00:26,  7.59it/s]\u001b[A\n",
      "Downloading:  23%|██▎       | 58/257 [00:00<00:26,  7.59it/s]\u001b[A\n",
      "Downloading:  23%|██▎       | 58/257 [00:00<00:26,  7.59it/s]\u001b[A\n",
      "Downloading:  23%|██▎       | 58/257 [00:00<00:26,  7.59it/s]\u001b[A\n",
      "Downloading:  23%|██▎       | 60/257 [00:00<00:25,  7.59it/s]\u001b[A\n",
      "Downloading:  23%|██▎       | 60/257 [00:00<00:25,  7.59it/s]\u001b[A\n",
      "Downloading:  24%|██▎       | 61/257 [00:00<00:25,  7.59it/s]\u001b[A\n",
      "Downloading:  24%|██▍       | 62/257 [00:00<00:25,  7.59it/s]\u001b[A\n",
      "Downloading:  25%|██▍       | 63/257 [00:00<00:25,  7.59it/s]\u001b[A\n",
      "Downloading: 100%|██████████| 257/257 [00:00<00:00, 248.05it/s]\u001b[A\n",
      "Downloading: 100%|██████████| 257/257 [00:00<00:00, 154.98it/s]\u001b[A\n",
      "Downloading: 100%|██████████| 257/257 [00:00<00:00, 154.98it/s]\u001b[A\n",
      "Downloading: 100%|██████████| 257/257 [00:00<00:00, 207.75it/s]\u001b[A\n",
      "Downloading: 100%|██████████| 257/257 [00:00<00:00, 207.75it/s]\u001b[A\n",
      "Downloading: 100%|██████████| 257/257 [00:00<00:00, 207.75it/s]\u001b[A\n",
      "Downloading: 100%|██████████| 257/257 [00:00<00:00, 207.75it/s]\u001b[A\n",
      "Downloading: 100%|██████████| 257/257 [00:00<00:00, 207.75it/s]\u001b[A\n",
      "Downloading: 100%|██████████| 257/257 [00:00<00:00, 207.75it/s]\u001b[A\n",
      "Downloading:  74%|███████▍  | 190/257 [00:00<00:01, 66.80it/s]\u001b[A\n",
      "Downloading:  75%|███████▌  | 193/257 [00:00<00:00, 66.80it/s]\u001b[A\n",
      "Downloading:  68%|██████▊   | 176/257 [00:00<00:01, 55.12it/s]\u001b[A\n",
      "Downloading:  69%|██████▉   | 177/257 [00:00<00:01, 56.27it/s]\u001b[A\n",
      "Downloading:  33%|███▎      | 86/257 [00:00<00:07, 23.21it/s]\u001b[A\n",
      "Downloading:  34%|███▍      | 88/257 [00:00<00:06, 26.17it/s]\u001b[A\n",
      "Downloading:  35%|███▍      | 89/257 [00:00<00:06, 26.17it/s]\u001b[A\n",
      "Downloading:  35%|███▌      | 90/257 [00:00<00:06, 26.17it/s]\u001b[A\n",
      "Downloading:  35%|███▌      | 90/257 [00:00<00:06, 26.17it/s]\u001b[A\n",
      "Downloading:  35%|███▌      | 90/257 [00:00<00:06, 26.17it/s]\u001b[A\n",
      "Downloading:  35%|███▌      | 90/257 [00:00<00:06, 26.17it/s]\u001b[A\n",
      "Downloading:  83%|████████▎ | 214/257 [00:00<00:00, 60.44it/s]\u001b[A\n",
      "Downloading:  83%|████████▎ | 214/257 [00:00<00:00, 60.44it/s]\u001b[A\n",
      "Downloading:  83%|████████▎ | 214/257 [00:01<00:00, 60.44it/s]\u001b[A\n",
      "Downloading:  83%|████████▎ | 214/257 [00:01<00:00, 60.44it/s]\u001b[A\n",
      "Downloading:  84%|████████▎ | 215/257 [00:01<00:00, 60.44it/s]\u001b[A\n",
      "Downloading:  84%|████████▎ | 215/257 [00:01<00:00, 60.44it/s]\u001b[A\n",
      "Downloading:  84%|████████▎ | 215/257 [00:01<00:00, 60.44it/s]\u001b[A\n",
      "Downloading:  84%|████████▍ | 216/257 [00:01<00:00, 60.44it/s]\u001b[A\n",
      "Downloading:  84%|████████▍ | 216/257 [00:01<00:00, 60.44it/s]\u001b[A\n",
      "Downloading:  38%|███▊      | 98/257 [00:01<00:03, 39.88it/s]\u001b[A\n",
      "Downloading:  85%|████████▍ | 218/257 [00:01<00:00, 60.44it/s]\u001b[A\n",
      "Downloading:  39%|███▉      | 100/257 [00:01<00:05, 26.83it/s]\u001b[A\n",
      "Downloading:  86%|████████▌ | 220/257 [00:01<00:00, 60.44it/s]\u001b[A\n",
      "Downloading:  87%|████████▋ | 223/257 [00:01<00:00, 60.44it/s]\u001b[A\n",
      "Downloading:  87%|████████▋ | 223/257 [00:01<00:00, 60.44it/s]\u001b[A\n",
      "Downloading:  87%|████████▋ | 224/257 [00:01<00:00, 60.44it/s]\u001b[A\n",
      "Downloading:  88%|████████▊ | 226/257 [00:01<00:00, 60.44it/s]\u001b[A\n",
      "Downloading:  89%|████████▊ | 228/257 [00:01<00:00, 60.44it/s]\u001b[A\n",
      "Downloading:  89%|████████▊ | 228/257 [00:01<00:00, 60.44it/s]\u001b[A\n",
      "Downloading:  91%|█████████ | 233/257 [00:01<00:00, 60.44it/s]\u001b[A\n",
      "Downloading:  77%|███████▋  | 199/257 [00:01<00:01, 56.25it/s]\u001b[A\n",
      "Downloading: 100%|██████████| 257/257 [00:01<00:00, 231.07it/s][A\n",
      "\n",
      "Downloading:  79%|███████▊  | 202/257 [00:01<00:00, 56.25it/s]\u001b[A\n",
      "Downloading:  79%|███████▉  | 203/257 [00:01<00:00, 56.25it/s]\u001b[A\n",
      "Downloading:  79%|███████▉  | 204/257 [00:01<00:00, 56.25it/s]\u001b[A\n",
      "Downloading: 100%|██████████| 257/257 [00:01<00:00, 223.19it/s][A\n",
      "\n",
      "Downloading:  79%|███████▉  | 204/257 [00:01<00:00, 56.25it/s]\u001b[A\n",
      "Downloading:  80%|███████▉  | 205/257 [00:01<00:00, 56.25it/s]\u001b[A\n",
      "Downloading:  80%|████████  | 206/257 [00:01<00:00, 56.25it/s]\u001b[A\n",
      "Downloading:  81%|████████  | 208/257 [00:01<00:00, 56.25it/s]\u001b[A\n",
      "Downloading:  81%|████████▏ | 209/257 [00:01<00:00, 56.25it/s]\u001b[A\n",
      "Downloading:  81%|████████▏ | 209/257 [00:01<00:00, 56.25it/s]\u001b[A\n",
      "Downloading:  81%|████████▏ | 209/257 [00:01<00:00, 56.25it/s]\u001b[A\n",
      "Downloading:  82%|████████▏ | 212/257 [00:01<00:00, 56.25it/s]\u001b[A\n",
      "Downloading: 100%|██████████| 257/257 [00:01<00:00, 211.96it/s][A\n",
      "\n",
      "Downloading:  85%|████████▌ | 219/257 [00:01<00:00, 56.25it/s]\u001b[A\n",
      "Downloading:  40%|███▉      | 102/257 [00:01<00:07, 21.38it/s]\u001b[A\n",
      "Downloading:  86%|████████▌ | 221/257 [00:01<00:00, 56.25it/s]\u001b[A\n",
      "Downloading:  40%|████      | 104/257 [00:01<00:10, 13.99it/s]\u001b[A\n",
      "Downloading:  89%|████████▉ | 229/257 [00:01<00:00, 56.25it/s]\u001b[A\n",
      "Downloading:  41%|████      | 106/257 [00:01<00:13, 10.95it/s]\u001b[A\n",
      "Downloading:  42%|████▏     | 108/257 [00:01<00:16,  9.30it/s]\u001b[A\n",
      "Downloading:  44%|████▎     | 112/257 [00:01<00:15,  9.30it/s]\u001b[A\n",
      "Downloading:  44%|████▍     | 114/257 [00:01<00:17,  8.25it/s]\u001b[A\n",
      "Downloading:  45%|████▍     | 115/257 [00:01<00:16,  8.64it/s]\u001b[A\n",
      "Downloading:  46%|████▋     | 119/257 [00:01<00:17,  7.82it/s]\u001b[A\n",
      "Downloading:  47%|████▋     | 120/257 [00:01<00:16,  8.23it/s]\u001b[A\n",
      "Downloading:  47%|████▋     | 120/257 [00:01<00:16,  8.23it/s]\u001b[A\n",
      "Downloading:  47%|████▋     | 121/257 [00:01<00:16,  8.23it/s]\u001b[A\n",
      "Downloading: 100%|██████████| 257/257 [00:01<00:00, 78.30it/s]\u001b[A\n",
      "Downloading: 100%|██████████| 257/257 [00:01<00:00, 78.30it/s]\u001b[A\n",
      "Downloading:  98%|█████████▊| 252/257 [00:01<00:00, 56.02it/s]\u001b[A\n",
      "Downloading:  48%|████▊     | 124/257 [00:01<00:15,  8.44it/s]\u001b[A\n",
      "Downloading: 100%|██████████| 257/257 [00:01<00:00, 56.02it/s]\u001b[A\n",
      "Downloading:  51%|█████     | 130/257 [00:01<00:11, 11.27it/s]\u001b[A\n",
      "Downloading:  51%|█████     | 130/257 [00:01<00:11, 11.27it/s]\u001b[A\n",
      "Downloading:  51%|█████     | 131/257 [00:01<00:11, 11.27it/s]\u001b[A\n",
      "Downloading:  51%|█████     | 131/257 [00:01<00:11, 11.27it/s]\u001b[A\n",
      "Downloading:  51%|█████▏    | 132/257 [00:01<00:11, 11.27it/s]\u001b[A\n"
     ]
    },
    {
     "name": "stderr",
     "output_type": "stream",
     "text": [
      "Downloading:  51%|█████▏    | 132/257 [00:01<00:11, 11.27it/s]\u001b[A\n",
      "Downloading:  52%|█████▏    | 134/257 [00:01<00:10, 11.27it/s]\u001b[A\n",
      "Downloading:  52%|█████▏    | 134/257 [00:01<00:10, 11.27it/s]\u001b[A\n",
      "Downloading: 100%|██████████| 257/257 [00:01<00:00, 78.30it/s]\u001b[A\n",
      "Downloading: 100%|██████████| 257/257 [00:01<00:00, 78.30it/s]\u001b[A\n",
      "Downloading: 100%|██████████| 257/257 [00:01<00:00, 78.30it/s]\u001b[A\n",
      "Downloading: 100%|██████████| 257/257 [00:01<00:00, 78.30it/s]\u001b[A\n",
      "Downloading: 100%|██████████| 257/257 [00:01<00:00, 78.30it/s]\u001b[A\n",
      "Downloading: 100%|██████████| 257/257 [00:01<00:00, 78.30it/s]\u001b[A\n",
      "Downloading: 100%|██████████| 257/257 [00:01<00:00, 78.30it/s]\u001b[A\n",
      "Downloading: 100%|██████████| 257/257 [00:01<00:00, 78.30it/s]\u001b[A\n",
      "Downloading: 100%|██████████| 257/257 [00:01<00:00, 78.30it/s]\u001b[A\n",
      "Downloading: 100%|██████████| 257/257 [00:01<00:00, 78.30it/s]\u001b[A\n",
      "Downloading: 100%|██████████| 257/257 [00:01<00:00, 78.30it/s]\u001b[A\n",
      "Downloading: 100%|██████████| 257/257 [00:01<00:00, 78.30it/s]\u001b[A\n",
      "Downloading: 100%|██████████| 257/257 [00:01<00:00, 78.30it/s]\u001b[A\n",
      "Downloading: 100%|██████████| 257/257 [00:01<00:00, 78.30it/s]\u001b[A\n",
      "Downloading: 100%|██████████| 257/257 [00:01<00:00, 78.30it/s]\u001b[A\n",
      "Downloading: 100%|██████████| 257/257 [00:01<00:00, 183.15it/s][A\n",
      "\n",
      "Downloading:  56%|█████▌    | 144/257 [00:01<00:05, 21.41it/s]\u001b[A\n",
      "Downloading:  57%|█████▋    | 146/257 [00:01<00:05, 21.41it/s]\u001b[A\n",
      "Downloading: 100%|██████████| 257/257 [00:01<00:00, 56.02it/s]\u001b[A\n",
      "Downloading: 100%|██████████| 257/257 [00:01<00:00, 56.02it/s]\u001b[A\n",
      "Downloading:  58%|█████▊    | 149/257 [00:01<00:06, 16.92it/s]\u001b[A\n",
      "Downloading: 100%|██████████| 257/257 [00:01<00:00, 56.02it/s]\u001b[A\n",
      "Downloading: 100%|██████████| 257/257 [00:01<00:00, 56.02it/s]\u001b[A\n",
      "Downloading:  59%|█████▉    | 151/257 [00:01<00:11,  9.33it/s]\u001b[A\n",
      "Downloading:  60%|█████▉    | 153/257 [00:01<00:09, 10.42it/s]\u001b[A\n",
      "Downloading:  60%|█████▉    | 153/257 [00:01<00:09, 10.42it/s]\u001b[A\n",
      "Downloading: 100%|██████████| 257/257 [00:01<00:00, 56.02it/s]\u001b[A\n",
      "Downloading: 100%|██████████| 257/257 [00:01<00:00, 56.02it/s]\u001b[A\n",
      "Downloading: 100%|██████████| 257/257 [00:01<00:00, 56.02it/s]\u001b[A\n",
      "Downloading:  61%|██████    | 156/257 [00:01<00:07, 12.98it/s]\u001b[A\n",
      "Downloading:  61%|██████▏   | 158/257 [00:01<00:07, 12.98it/s]\u001b[A\n",
      "Downloading: 100%|██████████| 257/257 [00:01<00:00, 56.02it/s]\u001b[A\n",
      "Downloading: 100%|██████████| 257/257 [00:01<00:00, 56.02it/s]\u001b[A\n",
      "Downloading: 100%|██████████| 257/257 [00:01<00:00, 56.02it/s]\u001b[A\n",
      "Downloading: 100%|██████████| 257/257 [00:01<00:00, 56.02it/s]\u001b[A\n",
      "Downloading: 100%|██████████| 257/257 [00:01<00:00, 56.02it/s]\u001b[A\n",
      "Downloading: 100%|██████████| 257/257 [00:01<00:00, 56.02it/s]\u001b[A\n",
      "Downloading: 100%|██████████| 257/257 [00:01<00:00, 56.02it/s]\u001b[A\n",
      "Downloading: 100%|██████████| 257/257 [00:01<00:00, 56.02it/s]\u001b[A\n",
      "Downloading:  67%|██████▋   | 172/257 [00:01<00:06, 12.98it/s]\u001b[A\n",
      "Downloading: 100%|██████████| 257/257 [00:01<00:00, 56.02it/s]\u001b[A\n",
      "Downloading:  68%|██████▊   | 174/257 [00:01<00:06, 12.26it/s]\u001b[A\n",
      "Downloading:  68%|██████▊   | 174/257 [00:01<00:06, 12.26it/s]\u001b[A\n",
      "Downloading:  69%|██████▉   | 177/257 [00:01<00:06, 13.26it/s]\u001b[A\n",
      "Downloading:  70%|██████▉   | 179/257 [00:01<00:05, 13.26it/s]\u001b[A\n",
      "Downloading: 100%|██████████| 257/257 [00:01<00:00, 170.06it/s][A\n",
      "\n",
      "Downloading:  72%|███████▏  | 185/257 [00:01<00:04, 17.43it/s]\u001b[A\n",
      "Downloading:  72%|███████▏  | 185/257 [00:01<00:04, 17.43it/s]\u001b[A\n",
      "Downloading:  73%|███████▎  | 188/257 [00:01<00:04, 15.81it/s]\u001b[A\n",
      "Downloading:  74%|███████▍  | 191/257 [00:01<00:04, 13.91it/s]\u001b[A\n",
      "Downloading:  74%|███████▍  | 191/257 [00:01<00:04, 13.91it/s]\u001b[A\n",
      "Downloading:  75%|███████▍  | 192/257 [00:01<00:04, 13.91it/s]\u001b[A\n",
      "Downloading:  75%|███████▌  | 194/257 [00:01<00:04, 14.27it/s]\u001b[A\n",
      "Downloading:  76%|███████▌  | 195/257 [00:01<00:04, 14.27it/s]\u001b[A\n",
      "Downloading:  76%|███████▋  | 196/257 [00:01<00:04, 14.27it/s]\u001b[A\n",
      "Downloading:  77%|███████▋  | 197/257 [00:01<00:04, 14.27it/s]\u001b[A\n",
      "Downloading:  77%|███████▋  | 199/257 [00:01<00:04, 14.27it/s]\u001b[A\n",
      "Downloading: 100%|██████████| 257/257 [00:01<00:00, 56.02it/s]\u001b[A\n",
      "Downloading:  81%|████████  | 207/257 [00:01<00:02, 22.98it/s]\u001b[A\n",
      "Downloading:  81%|████████  | 208/257 [00:01<00:02, 22.98it/s]\u001b[A\n",
      "Downloading: 100%|██████████| 257/257 [00:01<00:00, 56.02it/s]\u001b[A\n",
      "Downloading:  82%|████████▏ | 210/257 [00:01<00:02, 18.84it/s]\u001b[A\n",
      "Downloading:  82%|████████▏ | 211/257 [00:01<00:02, 16.52it/s]\u001b[A\n",
      "Downloading:  82%|████████▏ | 211/257 [00:01<00:02, 16.52it/s]\u001b[A\n",
      "Downloading:  82%|████████▏ | 211/257 [00:01<00:02, 16.52it/s]\u001b[A\n",
      "Downloading:  83%|████████▎ | 214/257 [00:01<00:02, 17.13it/s]\u001b[A\n",
      "Downloading:  84%|████████▎ | 215/257 [00:01<00:02, 17.13it/s]\u001b[A\n",
      "Downloading:  84%|████████▎ | 215/257 [00:01<00:02, 17.13it/s]\u001b[A\n",
      "Downloading:  84%|████████▍ | 217/257 [00:01<00:02, 17.13it/s]\u001b[A\n",
      "Downloading:  85%|████████▍ | 218/257 [00:01<00:02, 17.13it/s]\u001b[A\n",
      "Downloading:  85%|████████▌ | 219/257 [00:01<00:02, 17.13it/s]\u001b[A\n",
      "Downloading:  86%|████████▌ | 221/257 [00:01<00:02, 17.13it/s]\u001b[A\n",
      "Downloading: 100%|██████████| 257/257 [00:01<00:00, 157.78it/s][A\n",
      "\n",
      "Downloading:  86%|████████▋ | 222/257 [00:01<00:02, 17.13it/s]\u001b[A\n",
      "Downloading:  87%|████████▋ | 224/257 [00:01<00:01, 17.13it/s]\u001b[A\n",
      "Downloading:  88%|████████▊ | 226/257 [00:01<00:01, 17.13it/s]\u001b[A\n",
      "Downloading:  89%|████████▉ | 229/257 [00:01<00:01, 17.13it/s]\u001b[A\n",
      "Downloading:  90%|████████▉ | 231/257 [00:01<00:01, 17.13it/s]\u001b[A\n",
      "Downloading:  91%|█████████ | 234/257 [00:01<00:01, 17.13it/s]\u001b[A\n",
      "Downloading:  91%|█████████ | 234/257 [00:01<00:01, 17.13it/s]\u001b[A\n",
      "Downloading:  92%|█████████▏| 236/257 [00:01<00:01, 17.13it/s]\u001b[A\n",
      "Downloading:  93%|█████████▎| 239/257 [00:01<00:00, 22.44it/s]\u001b[A\n",
      "Downloading:  94%|█████████▍| 242/257 [00:01<00:00, 25.17it/s]\u001b[A\n",
      "Downloading: 100%|██████████| 257/257 [00:01<00:00, 151.26it/s][A\n",
      "\n",
      "Downloading:  99%|█████████▉| 254/257 [00:01<00:00, 23.49it/s]\u001b[A\n",
      "Downloading: 100%|██████████| 257/257 [00:01<00:00, 23.49it/s]\u001b[A\n",
      "Downloading: 100%|██████████| 257/257 [00:01<00:00, 23.49it/s]\u001b[A\n",
      "Downloading: 100%|██████████| 257/257 [00:01<00:00, 23.49it/s]\u001b[A\n",
      "Downloading: 100%|██████████| 257/257 [00:01<00:00, 148.60it/s][A\n",
      "\n",
      "Downloading:   0%|          | 0/199 [00:00<?, ?it/s]\u001b[A\n",
      "Downloading:   0%|          | 0/199 [00:00<?, ?it/s]\u001b[A\n",
      "Downloading:  20%|█▉        | 39/199 [00:00<00:00, 350.75it/s]\u001b[A\n",
      "Downloading:  24%|██▎       | 47/199 [00:00<00:00, 355.25it/s]\u001b[A\n",
      "Downloading:  26%|██▌       | 52/199 [00:00<00:00, 355.25it/s]\u001b[A\n",
      "Downloading:  28%|██▊       | 55/199 [00:00<00:00, 355.25it/s]\u001b[A\n",
      "Downloading:  28%|██▊       | 56/199 [00:00<00:00, 355.25it/s]\u001b[A\n",
      "Downloading:  30%|██▉       | 59/199 [00:00<00:00, 355.25it/s]\u001b[A\n",
      "Downloading:  30%|███       | 60/199 [00:00<00:00, 355.25it/s]\u001b[A\n",
      "Downloading:  29%|██▊       | 57/199 [00:00<00:00, 427.06it/s]\u001b[A\n",
      "Downloading:  31%|███       | 62/199 [00:00<00:00, 427.06it/s]\u001b[A\n",
      "Downloading:  33%|███▎      | 66/199 [00:00<00:00, 427.06it/s]\u001b[A\n",
      "Downloading:  38%|███▊      | 76/199 [00:00<00:00, 427.06it/s]\u001b[A\n",
      "Downloading:  39%|███▊      | 77/199 [00:00<00:00, 427.06it/s]\u001b[A\n",
      "Downloading:  39%|███▉      | 78/199 [00:00<00:00, 427.06it/s]\u001b[A\n",
      "Downloading:  57%|█████▋    | 113/199 [00:00<00:00, 310.69it/s]\u001b[A\n",
      "Downloading:  46%|████▌     | 91/199 [00:00<00:00, 427.06it/s]\u001b[A\n",
      "Downloading:  47%|████▋     | 93/199 [00:00<00:00, 427.06it/s]\u001b[A\n",
      "Downloading:  47%|████▋     | 94/199 [00:00<00:00, 427.06it/s]\u001b[A\n",
      "Downloading:  48%|████▊     | 96/199 [00:00<00:00, 427.06it/s]\u001b[A\n",
      "Downloading:  49%|████▊     | 97/199 [00:00<00:00, 427.06it/s]\u001b[A\n",
      "Downloading:  50%|████▉     | 99/199 [00:00<00:00, 427.06it/s]\u001b[A\n",
      "Downloading:  51%|█████▏    | 102/199 [00:00<00:00, 427.06it/s]\u001b[A\n",
      "Downloading:  52%|█████▏    | 104/199 [00:00<00:00, 427.06it/s]\u001b[A\n",
      "Downloading:  53%|█████▎    | 105/199 [00:00<00:00, 427.06it/s]\u001b[A\n",
      "Downloading:  54%|█████▍    | 107/199 [00:00<00:00, 427.06it/s]\u001b[A\n",
      "Downloading:  55%|█████▌    | 110/199 [00:00<00:00, 427.06it/s]\u001b[A\n",
      "Downloading:  56%|█████▋    | 112/199 [00:00<00:00, 427.06it/s]\u001b[A\n",
      "Downloading:  59%|█████▉    | 117/199 [00:00<00:00, 427.06it/s]\u001b[A\n",
      "Downloading:  81%|████████  | 161/199 [00:00<00:00, 320.21it/s]\u001b[A\n",
      "Downloading:  81%|████████▏ | 162/199 [00:00<00:00, 351.77it/s]\u001b[A\n",
      "Downloading:  91%|█████████▏| 182/199 [00:00<00:00, 351.77it/s]\u001b[A\n",
      "Downloading:  96%|█████████▌| 191/199 [00:00<00:00, 351.77it/s]\u001b[A\n",
      "Downloading:  98%|█████████▊| 196/199 [00:00<00:00, 351.77it/s]\u001b[A\n",
      "Downloading: 100%|██████████| 199/199 [00:00<00:00, 351.77it/s]\u001b[A\n",
      "Downloading: 100%|██████████| 199/199 [00:00<00:00, 351.77it/s]\u001b[A\n",
      "Downloading: 100%|██████████| 199/199 [00:00<00:00, 351.77it/s]\u001b[A\n",
      "Downloading: 100%|██████████| 199/199 [00:00<00:00, 351.77it/s]\u001b[A\n",
      "Downloading: 100%|██████████| 199/199 [00:00<00:00, 351.77it/s]\u001b[A\n",
      "Downloading: 100%|██████████| 199/199 [00:00<00:00, 351.77it/s]\u001b[A\n",
      "Downloading: 100%|██████████| 199/199 [00:00<00:00, 351.77it/s]\u001b[A\n",
      "Downloading: 100%|██████████| 199/199 [00:00<00:00, 351.77it/s]\u001b[A\n",
      "Downloading: 100%|██████████| 199/199 [00:00<00:00, 351.77it/s]\u001b[A\n",
      "Downloading:  90%|████████▉ | 179/199 [00:00<00:00, 181.35it/s]\u001b[A\n",
      "Downloading: 100%|██████████| 199/199 [00:00<00:00, 351.77it/s]\u001b[A\n",
      "Downloading: 100%|██████████| 199/199 [00:00<00:00, 351.77it/s]\u001b[A\n",
      "Downloading: 100%|██████████| 199/199 [00:00<00:00, 351.77it/s]\u001b[A\n",
      "Downloading: 100%|██████████| 199/199 [00:00<00:00, 351.77it/s]\u001b[A\n",
      "Downloading: 100%|██████████| 199/199 [00:00<00:00, 351.77it/s]\u001b[A\n",
      "Downloading: 100%|██████████| 199/199 [00:00<00:00, 351.77it/s]\u001b[A\n",
      "Downloading:  92%|█████████▏| 184/199 [00:00<00:00, 181.35it/s]\u001b[A\n",
      "Downloading:  94%|█████████▍| 187/199 [00:00<00:00, 181.35it/s]\u001b[A\n",
      "Downloading:  94%|█████████▍| 188/199 [00:00<00:00, 181.35it/s]\u001b[A\n",
      "Downloading:  95%|█████████▍| 189/199 [00:00<00:00, 181.35it/s]\u001b[A\n",
      "Downloading:  95%|█████████▌| 190/199 [00:00<00:00, 181.35it/s]\u001b[A\n",
      "Downloading:  96%|█████████▌| 191/199 [00:00<00:00, 181.35it/s]\u001b[A\n",
      "Downloading:  96%|█████████▋| 192/199 [00:00<00:00, 181.35it/s]\u001b[A\n",
      "Downloading:  97%|█████████▋| 193/199 [00:00<00:00, 181.35it/s]\u001b[A\n",
      "Downloading:  97%|█████████▋| 194/199 [00:00<00:00, 181.35it/s]\u001b[A\n",
      "Downloading:  97%|█████████▋| 194/199 [00:00<00:00, 181.35it/s]\u001b[A\n",
      "Downloading:  99%|█████████▉| 198/199 [00:00<00:00, 181.35it/s]\u001b[A\n",
      "Downloading: 100%|██████████| 199/199 [00:00<00:00, 181.35it/s]\u001b[A\n",
      "Downloading: 100%|██████████| 199/199 [00:00<00:00, 181.35it/s]\u001b[A\n",
      "Downloading: 100%|██████████| 199/199 [00:00<00:00, 181.35it/s]\u001b[A\n",
      "Downloading: 100%|██████████| 199/199 [00:00<00:00, 181.35it/s]\u001b[A\n",
      "Downloading: 100%|██████████| 199/199 [00:00<00:00, 181.35it/s]\u001b[A\n",
      "Downloading: 100%|██████████| 199/199 [00:00<00:00, 181.35it/s]\u001b[A\n",
      "Downloading: 100%|██████████| 199/199 [00:00<00:00, 181.35it/s]\u001b[A\n",
      "Downloading: 100%|██████████| 199/199 [00:00<00:00, 350.31it/s]\u001b[A\n",
      "Downloading: 100%|██████████| 199/199 [00:00<00:00, 355.62it/s]\n",
      "\n",
      "Downloading:   0%|          | 0/199 [00:00<?, ?it/s]\u001b[A\n",
      "Downloading:  18%|█▊        | 36/199 [00:00<00:00, 356.89it/s]\u001b[A\n",
      "Downloading:  20%|██        | 40/199 [00:00<00:00, 354.42it/s]\u001b[A\n",
      "Downloading:  21%|██        | 41/199 [00:00<00:00, 354.42it/s]\u001b[A\n",
      "Downloading:  23%|██▎       | 45/199 [00:00<00:00, 354.42it/s]\u001b[A\n",
      "Downloading:  40%|███▉      | 79/199 [00:00<00:00, 318.53it/s]\u001b[A\n",
      "Downloading:  41%|████      | 82/199 [00:00<00:00, 309.57it/s]\u001b[A\n",
      "Downloading:  45%|████▌     | 90/199 [00:00<00:00, 309.57it/s]\u001b[A\n",
      "Downloading:  47%|████▋     | 94/199 [00:00<00:00, 309.57it/s]\u001b[A\n",
      "Downloading:  48%|████▊     | 96/199 [00:00<00:00, 309.57it/s]\u001b[A\n",
      "Downloading:  48%|████▊     | 96/199 [00:00<00:00, 309.57it/s]\u001b[A\n",
      "Downloading:   0%|          | 0/199 [00:00<?, ?it/s]\u001b[A\n",
      "Downloading:  65%|██████▌   | 130/199 [00:00<00:00, 292.86it/s]\u001b[A\n",
      "Downloading:  67%|██████▋   | 133/199 [00:00<00:00, 295.71it/s]\u001b[A\n",
      "Downloading:  70%|███████   | 140/199 [00:00<00:00, 295.71it/s]\u001b[A\n",
      "Downloading:  77%|███████▋  | 153/199 [00:00<00:00, 295.71it/s]\u001b[A\n",
      "Downloading:  78%|███████▊  | 155/199 [00:00<00:00, 295.71it/s]\u001b[A\n",
      "Downloading:  84%|████████▍ | 168/199 [00:00<00:00, 295.71it/s]\u001b[A\n",
      "Downloading:  86%|████████▋ | 172/199 [00:00<00:00, 295.71it/s]\u001b[A\n",
      "Downloading:  27%|██▋       | 53/199 [00:00<00:00, 404.42it/s]\u001b[A\n",
      "Downloading:  27%|██▋       | 53/199 [00:00<00:00, 404.42it/s]\u001b[A\n",
      "Downloading:  30%|██▉       | 59/199 [00:00<00:00, 404.42it/s]\u001b[A\n",
      "Downloading:  37%|███▋      | 73/199 [00:00<00:00, 404.42it/s]\u001b[A\n",
      "Downloading:  37%|███▋      | 74/199 [00:00<00:00, 404.42it/s]\u001b[A\n",
      "Downloading:  37%|███▋      | 74/199 [00:00<00:00, 404.42it/s]\u001b[A\n",
      "Downloading:  39%|███▉      | 78/199 [00:00<00:00, 404.42it/s]\u001b[A\n",
      "Downloading:  40%|████      | 80/199 [00:00<00:00, 404.42it/s]\u001b[A\n",
      "Downloading:  41%|████      | 81/199 [00:00<00:00, 404.42it/s]\u001b[A\n",
      "Downloading:  41%|████      | 81/199 [00:00<00:00, 404.42it/s]\u001b[A\n",
      "Downloading:  41%|████      | 82/199 [00:00<00:00, 404.42it/s]\u001b[A\n",
      "Downloading:  42%|████▏     | 83/199 [00:00<00:00, 404.42it/s]\u001b[A\n",
      "Downloading:  43%|████▎     | 86/199 [00:00<00:00, 404.42it/s]\u001b[A\n",
      "Downloading:  45%|████▍     | 89/199 [00:00<00:00, 404.42it/s]\u001b[A\n",
      "Downloading:  45%|████▌     | 90/199 [00:00<00:00, 404.42it/s]\u001b[A\n",
      "Downloading:  46%|████▌     | 91/199 [00:00<00:00, 404.42it/s]\u001b[A\n",
      "Downloading:  48%|████▊     | 96/199 [00:00<00:00, 404.42it/s]\u001b[A\n",
      "Downloading:  49%|████▊     | 97/199 [00:00<00:00, 404.42it/s]\u001b[A\n",
      "Downloading:  50%|█████     | 100/199 [00:00<00:00, 404.42it/s]\u001b[A\n",
      "Downloading: 100%|██████████| 199/199 [00:00<00:00, 326.11it/s]\u001b[A\n",
      "\n",
      "Downloading:  73%|███████▎  | 145/199 [00:00<00:00, 214.50it/s]\u001b[A\n",
      "Downloading:  78%|███████▊  | 155/199 [00:00<00:00, 166.24it/s]\u001b[A\n",
      "Downloading:  79%|███████▉  | 157/199 [00:00<00:00, 166.24it/s]\u001b[A\n",
      "Downloading:  80%|███████▉  | 159/199 [00:00<00:00, 166.24it/s]\u001b[A\n",
      "Downloading:  82%|████████▏ | 164/199 [00:00<00:00, 166.24it/s]\u001b[A\n",
      "Downloading:  83%|████████▎ | 166/199 [00:00<00:00, 166.24it/s]\u001b[A\n",
      "Downloading:  84%|████████▍ | 168/199 [00:00<00:00, 166.24it/s]\u001b[A\n",
      "Downloading:  84%|████████▍ | 168/199 [00:00<00:00, 166.24it/s]\u001b[A\n",
      "Downloading:  85%|████████▌ | 170/199 [00:00<00:00, 166.24it/s]\u001b[A\n",
      "Downloading:  90%|█████████ | 180/199 [00:00<00:00, 166.24it/s]\u001b[A\n",
      "Downloading: 100%|██████████| 199/199 [00:00<00:00, 323.41it/s]\u001b[A\n",
      "\n",
      "Downloading:   0%|          | 0/199 [00:00<?, ?it/s]\u001b[A\n",
      "Downloading:  21%|██        | 41/199 [00:00<00:00, 382.32it/s]\u001b[A\n",
      "Downloading:  27%|██▋       | 54/199 [00:00<00:00, 389.64it/s]\u001b[A\n",
      "Downloading:  30%|██▉       | 59/199 [00:00<00:00, 389.64it/s]\u001b[A\n",
      "Downloading:  31%|███       | 61/199 [00:00<00:00, 389.64it/s]\u001b[A\n",
      "Downloading:  32%|███▏      | 64/199 [00:00<00:00, 389.64it/s]\u001b[A\n",
      "Downloading:  33%|███▎      | 66/199 [00:00<00:00, 389.64it/s]\u001b[A\n",
      "Downloading:  35%|███▍      | 69/199 [00:00<00:00, 389.64it/s]\u001b[A\n",
      "Downloading:  36%|███▌      | 72/199 [00:00<00:00, 389.64it/s]\u001b[A\n",
      "Downloading:  56%|█████▌    | 111/199 [00:00<00:00, 324.77it/s]\u001b[A\n",
      "Downloading:  57%|█████▋    | 114/199 [00:00<00:00, 262.23it/s]\u001b[A\n",
      "Downloading:  59%|█████▉    | 117/199 [00:00<00:00, 262.23it/s]\u001b[A\n",
      "Downloading:  62%|██████▏   | 124/199 [00:00<00:00, 262.23it/s]\u001b[A\n",
      "Downloading:  79%|███████▉  | 157/199 [00:00<00:00, 282.00it/s]\u001b[A\n",
      "Downloading:  83%|████████▎ | 166/199 [00:00<00:00, 318.64it/s]\u001b[A\n",
      "Downloading:  85%|████████▍ | 169/199 [00:00<00:00, 318.64it/s]\u001b[A\n",
      "Downloading:  85%|████████▌ | 170/199 [00:00<00:00, 318.64it/s]\u001b[A\n",
      "Downloading:  86%|████████▌ | 171/199 [00:00<00:00, 318.64it/s]\u001b[A\n",
      "Downloading:  88%|████████▊ | 175/199 [00:00<00:00, 318.64it/s]\u001b[A\n",
      "Downloading:  90%|████████▉ | 179/199 [00:00<00:00, 318.64it/s]\u001b[A\n",
      "Downloading:  91%|█████████ | 181/199 [00:00<00:00, 318.64it/s]\u001b[A\n",
      "Downloading:  91%|█████████▏| 182/199 [00:00<00:00, 318.64it/s]\u001b[A\n",
      "Downloading: 100%|██████████| 199/199 [00:00<00:00, 385.52it/s]\u001b[A\n",
      "\n",
      "Downloading:   0%|          | 0/199 [00:00<?, ?it/s]\u001b[A\n",
      "Downloading:  20%|██        | 40/199 [00:00<00:00, 388.74it/s]\u001b[A\n",
      "Downloading:  21%|██        | 42/199 [00:00<00:00, 383.18it/s]\u001b[A\n",
      "Downloading:  22%|██▏       | 43/199 [00:00<00:00, 383.18it/s]\u001b[A\n",
      "Downloading:  29%|██▉       | 58/199 [00:00<00:00, 383.18it/s]\u001b[A\n",
      "Downloading:  47%|████▋     | 93/199 [00:00<00:00, 290.69it/s]\u001b[A\n",
      "Downloading:  49%|████▊     | 97/199 [00:00<00:00, 292.61it/s]\u001b[A\n",
      "Downloading:  50%|█████     | 100/199 [00:00<00:00, 292.61it/s]\u001b[A\n",
      "Downloading:  51%|█████     | 101/199 [00:00<00:00, 292.61it/s]\u001b[A\n",
      "Downloading:  53%|█████▎    | 105/199 [00:00<00:00, 292.61it/s]\u001b[A\n",
      "Downloading:  53%|█████▎    | 106/199 [00:00<00:00, 292.61it/s]\u001b[A\n",
      "Downloading:  54%|█████▍    | 107/199 [00:00<00:00, 292.61it/s]\u001b[A\n"
     ]
    },
    {
     "name": "stderr",
     "output_type": "stream",
     "text": [
      "Downloading:  60%|█████▉    | 119/199 [00:00<00:00, 292.61it/s]\u001b[A\n",
      "Downloading:  78%|███████▊  | 155/199 [00:00<00:00, 221.19it/s]\u001b[A\n",
      "Downloading:  80%|████████  | 160/199 [00:00<00:00, 224.10it/s]\u001b[A\n",
      "Downloading:  86%|████████▌ | 171/199 [00:00<00:00, 224.10it/s]\u001b[A\n",
      "Downloading:  88%|████████▊ | 175/199 [00:00<00:00, 224.10it/s]\u001b[A\n",
      "Downloading:  95%|█████████▍| 189/199 [00:00<00:00, 224.10it/s]\u001b[A\n",
      "Downloading:  99%|█████████▉| 198/199 [00:00<00:00, 224.10it/s]\u001b[A\n",
      "Downloading: 100%|██████████| 199/199 [00:00<00:00, 224.10it/s]\u001b[A\n",
      "Downloading: 100%|██████████| 199/199 [00:00<00:00, 385.97it/s]\u001b[A\n",
      "\n",
      "Downloading:   0%|          | 0/199 [00:00<?, ?it/s]\u001b[A\n",
      "Downloading:  20%|█▉        | 39/199 [00:00<00:00, 362.69it/s]\u001b[A\n",
      "Downloading:  20%|██        | 40/199 [00:00<00:00, 356.80it/s]\u001b[A\n",
      "Downloading:  44%|████▍     | 88/199 [00:00<00:00, 388.06it/s]\u001b[A\n",
      "Downloading:  46%|████▌     | 92/199 [00:00<00:00, 400.49it/s]\u001b[A\n",
      "Downloading:  50%|█████     | 100/199 [00:00<00:00, 400.49it/s]\u001b[A\n",
      "Downloading:  52%|█████▏    | 103/199 [00:00<00:00, 400.49it/s]\u001b[A\n",
      "Downloading:  52%|█████▏    | 104/199 [00:00<00:00, 400.49it/s]\u001b[A\n",
      "Downloading:  52%|█████▏    | 104/199 [00:00<00:00, 400.49it/s]\u001b[A\n",
      "Downloading:  55%|█████▌    | 110/199 [00:00<00:00, 400.49it/s]\u001b[A\n",
      "Downloading:  59%|█████▉    | 118/199 [00:00<00:00, 400.49it/s]\u001b[A\n",
      "Downloading:  80%|███████▉  | 159/199 [00:00<00:00, 336.34it/s]\u001b[A\n",
      "Downloading:  81%|████████  | 161/199 [00:00<00:00, 283.60it/s]\u001b[A\n",
      "Downloading: 100%|██████████| 199/199 [00:00<00:00, 384.32it/s]\u001b[A\n",
      "\n",
      "Downloading:   0%|          | 0/199 [00:00<?, ?it/s]\u001b[A\n",
      "Downloading:  19%|█▉        | 38/199 [00:00<00:00, 343.21it/s]\u001b[A\n",
      "Downloading:  20%|██        | 40/199 [00:00<00:00, 341.27it/s]\u001b[A\n",
      "Downloading:  23%|██▎       | 46/199 [00:00<00:00, 341.27it/s]\u001b[A\n",
      "Downloading:  45%|████▍     | 89/199 [00:00<00:00, 349.61it/s]\u001b[A\n",
      "Downloading:  46%|████▌     | 91/199 [00:00<00:00, 354.73it/s]\u001b[A\n",
      "Downloading:  48%|████▊     | 96/199 [00:00<00:00, 354.73it/s]\u001b[A\n",
      "Downloading:  50%|█████     | 100/199 [00:00<00:00, 354.73it/s]\u001b[A\n",
      "Downloading:  53%|█████▎    | 105/199 [00:00<00:00, 354.73it/s]\u001b[A\n",
      "Downloading:  53%|█████▎    | 106/199 [00:00<00:00, 354.73it/s]\u001b[A\n",
      "Downloading:  72%|███████▏  | 144/199 [00:00<00:00, 323.19it/s]\u001b[A\n",
      "Downloading:  75%|███████▍  | 149/199 [00:00<00:00, 314.37it/s]\u001b[A\n",
      "Downloading:  78%|███████▊  | 156/199 [00:00<00:00, 314.37it/s]\u001b[A\n",
      "Downloading: 100%|██████████| 199/199 [00:00<00:00, 353.08it/s]\u001b[A\n",
      "Downloading: 100%|██████████| 199/199 [00:00<00:00, 382.24it/s]\u001b[A\n",
      "Tasks: 100%|██████████| 16/16 [00:47<00:00,  2.97s/it]\n",
      "Tasks: 100%|██████████| 999/999 [00:03<00:00, 291.29it/s]\n",
      "Tasks: 0it [00:00, ?it/s]"
     ]
    },
    {
     "name": "stdout",
     "output_type": "stream",
     "text": [
      "Done!\n"
     ]
    },
    {
     "name": "stderr",
     "output_type": "stream",
     "text": [
      "\n"
     ]
    }
   ],
   "source": [
    "# call the meshing function (should take <~ 1 minute with 8 or more cores)\n",
    "make_3d_mesh(vol=vol,n_cores=cpus_to_use)"
   ]
  },
  {
   "cell_type": "markdown",
   "metadata": {},
   "source": [
    "If that worked, then it will autom"
   ]
  },
  {
   "cell_type": "markdown",
   "metadata": {},
   "source": [
    "# Step 5: Host the precomputed data on your machine so that Neuroglancer can see it\n",
    "This step is really easy! Note: Exectuing the code below will cause your jupyter notebook to hang, so it is better to run the following code in a new ipython terminal (make sure to have the ng_mriatlas conda environment activated in that python session) rather than the notebook. \n",
    "\n",
    "```python\n",
    "from cloudvolume import CloudVolume\n",
    "vol = CloudVolume(f'file://{layer_dir}')\n",
    "vol.viewer(port=1338)\n",
    "```"
   ]
  },
  {
   "cell_type": "markdown",
   "metadata": {},
   "source": [
    "# Step 6: View your custom volume and labels in Neuroglancer\n",
    "Step 4 hosts your data via http on port 1338 of your local machine. To actually view your data in Neuroglancer, there are two ways to do this. You can either load the data in manually in the browser or load it in with python. \n",
    "\n",
    "For the manual method, open up the Braincogs Neuroglancer client: [https://nglancer.pni.princeton.edu](https://nglancer.pni.princeton.edu) (you must be using a Princeton VPN) and then click the \"+\" in the upper left hand corner of the screen once the black screen loads. To load in your data, type the following into the source text box:<br>\n",
    "> precomputed://http://localhost:1338 <br>\n",
    "\n",
    "Then hit tab and name your layer if you'd like. Hit enter or the \"add layer\" button and your layer should load into Neuroglancer. Hopefully the labels you added should be showing up in the bottom left when you hover over a region. \n",
    "\n",
    "For the python method, you can do this by executing the following cells. Make sure you have hosted the data in another python instance somewhere on your local machine at port 1338."
   ]
  },
  {
   "cell_type": "code",
   "execution_count": 25,
   "metadata": {},
   "outputs": [],
   "source": [
    "# Set which client you want to use - use the BRAINCOGS client to get the latest features.\n",
    "# Need to be in the Princeton VPN to use this\n",
    "neuroglancer.set_static_content_source(url='https://nglancer.pni.princeton.edu')"
   ]
  },
  {
   "cell_type": "code",
   "execution_count": 26,
   "metadata": {},
   "outputs": [],
   "source": [
    "# Make a viewer object that represents your connection to the Neuroglancer session\n",
    "viewer = neuroglancer.Viewer()"
   ]
  },
  {
   "cell_type": "code",
   "execution_count": 27,
   "metadata": {},
   "outputs": [
    {
     "name": "stdout",
     "output_type": "stream",
     "text": [
      "http://127.0.0.1:39868/v/327ae353b0aa47db2e4db1b9de250e685604b9d7/\n"
     ]
    }
   ],
   "source": [
    "# Load in the layer with name \"my_custom_atlas_3d\" or call it whatever you want. \n",
    "# This is the name for the layer that appears in the box in the upper left of the screen\n",
    "# when you load in the layer.\n",
    "\n",
    "# This cell generates a link, which when clicked brings you to the\n",
    "# Neuroglancer browser interface with your data loaded in \n",
    "with viewer.txn() as s:\n",
    "    s.layers['atlas'] = neuroglancer.SegmentationLayer(source='precomputed://http://localhost:1338',\n",
    "    )\n",
    "print(viewer)"
   ]
  },
  {
   "cell_type": "markdown",
   "metadata": {},
   "source": [
    "Once you're in Neuroglancer, when you hover over a segment the region name shows up at the top and no longer the bottom. You can either select individual segments by double clicking on them or using the panel on the right. Activate the right panel by right clickin gon the the layer name in the upper left to get a list of the segments and their region names. Select a checkbox to select a segment in the viewer. "
   ]
  }
 ],
 "metadata": {
  "kernelspec": {
   "display_name": "ng_mriatlas2",
   "language": "python",
   "name": "ng_mriatlas2"
  },
  "language_info": {
   "codemirror_mode": {
    "name": "ipython",
    "version": 3
   },
   "file_extension": ".py",
   "mimetype": "text/x-python",
   "name": "python",
   "nbconvert_exporter": "python",
   "pygments_lexer": "ipython3",
   "version": "3.7.4"
  }
 },
 "nbformat": 4,
 "nbformat_minor": 2
}
