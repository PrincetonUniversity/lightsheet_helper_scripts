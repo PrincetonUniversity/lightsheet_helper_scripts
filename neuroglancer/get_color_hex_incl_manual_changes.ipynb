{
 "cells": [
  {
   "cell_type": "markdown",
   "metadata": {},
   "source": [
    "# get_color_hex_incl_manual_changes\n",
    "The purpose of this notebook is to illustrate how to obtain the color hex strings for segment ids in Neuroglancer for a segmentation layer. In this notebook, I name the segmentation layer \"atlas\" but you can change this string to whatever you want. This notebook handles cases where the colors of individual segments may or may not have been manually changed by the user in Neuroglancer. This feature is merged with the Google fork of the Neuroglancer client (https://github.com/google/neuroglancer/pull/224) and will be included in the next release of neuroglancer with pip (as of 6/8/2020). "
   ]
  },
  {
   "cell_type": "code",
   "execution_count": 11,
   "metadata": {},
   "outputs": [],
   "source": [
    "import neuroglancer\n",
    "import math, sys\n",
    "import matplotlib.pyplot as plt\n",
    "%matplotlib inline"
   ]
  },
  {
   "cell_type": "code",
   "execution_count": 2,
   "metadata": {},
   "outputs": [
    {
     "name": "stdout",
     "output_type": "stream",
     "text": [
      "http://127.0.0.1:45891/v/b416a4f18d5cb0b5ffee375f1c16c2f4e72a321f/\n"
     ]
    }
   ],
   "source": [
    "# Start the viewer and load in some data. You must have a segmentation layer launched at port 1338 on your machine\n",
    "# via cloudvolume, for example. See the \"Getting_started_with_neuroglancer.ipynb\" for instructions if needed\n",
    "\n",
    "# Use the BRAIN CoGS Neuroglancer client\n",
    "neuroglancer.set_static_content_source(url='https://nglancer.pni.princeton.edu')\n",
    "# Start the viewer\n",
    "viewer = neuroglancer.Viewer()\n",
    "# Load in the atlas as a SegmentationLayer. Any segmentation layer will do in this example\n",
    "with viewer.txn() as s:\n",
    "    s.layers['atlas'] = neuroglancer.SegmentationLayer(source='precomputed://http://localhost:1338'\n",
    "    )\n",
    "print(viewer)\n",
    "# Link generated below brings you to the Neuroglancer browser interface with your layer loaded in"
   ]
  },
  {
   "cell_type": "code",
   "execution_count": 4,
   "metadata": {},
   "outputs": [],
   "source": [
    "# Define the functions for finding the color hex strings given the color seed that Neuroglancer sets\n",
    "# and a segment id. These functions should not be modified.\n",
    "def hash_function(state,value):\n",
    "    \"\"\" Python implementation of hashCombine() function\n",
    "    in src/neuroglancer/gpu_hash/hash_function.ts,\n",
    "    a modified murmur hcolorash\n",
    "    \"\"\"\n",
    "    k1 = 0xcc9e2d51\n",
    "    k2 = 0x1b873593\n",
    "    state = state & 0xffffffff\n",
    "    value = (value * k1) & 0xffffffff\n",
    "    value = ((value << 15) | value >> 17) & 0xffffffff\n",
    "    value = (value * k2) & 0xffffffff\n",
    "    state = (state ^ value) & 0xffffffff\n",
    "    state = (( state << 13) | state >> 19) & 0xffffffff\n",
    "    state = (( state * 5) + 0xe6546b64) & 0xffffffff\n",
    "    return state\n",
    "\n",
    "def hsv_to_rgb(h,s,v):\n",
    "    \"\"\" Convert H,S,V values to RGB values.\n",
    "    Python implementation of hsvToRgb in src/neuroglancer/util/colorspace.ts \"\"\"\n",
    "    h*=6\n",
    "    hue_index = math.floor(h)\n",
    "    remainder = h - hue_index\n",
    "    val1 = v*(1-s)\n",
    "    val2 = v*(1-(s*remainder))\n",
    "    val3 = v*(1-(s*(1-remainder)))\n",
    "    hue_remainder = hue_index % 6\n",
    "    if hue_remainder == 0:\n",
    "        return (v,val3,val1)\n",
    "    elif hue_remainder == 1:\n",
    "        return (val2,v,val1)\n",
    "    elif hue_remainder == 2:\n",
    "        return (val1,v,val3)\n",
    "    elif hue_remainder == 3:\n",
    "        return (val1,val2,v)\n",
    "    elif hue_remainder == 4:\n",
    "        return (val3,val1,v)\n",
    "    elif hue_remainder == 5: \n",
    "        return (v,val1,val2)   \n",
    "\n",
    "def pack_color(rgb_vec):\n",
    "    \"\"\" Returns an integer formed\n",
    "    by concatenating the channels of the input color vector.\n",
    "    Python implementation of packColor in src/neuroglancer/util/color.ts\n",
    "    \"\"\"\n",
    "    result = 0\n",
    "    for i in range(len(rgb_vec)):\n",
    "        result = ((result << 8) & 0xffffffff) + min(255,max(0,round(rgb_vec[i]*255)))\n",
    "    return result\n",
    "\n",
    "def hex_string_from_segment_id(color_seed,segment_id):\n",
    "    \"\"\" Return the hex color string for a segment\n",
    "    given a color seed and the segment id \"\"\"\n",
    "    segment_id = int(segment_id) # necessary since segment_id is 64 bit originally \n",
    "    result = hash_function(state=color_seed,value=segment_id)\n",
    "    newvalue = segment_id >> 32\n",
    "    result2 = hash_function(state=result,value=newvalue)\n",
    "    c0 = (result2 & 0xFF) / 255.\n",
    "    c1 = ((result2 >> 8) & 0xFF) / 255.;\n",
    "    h = c0\n",
    "    s =  0.5 + 0.5 * c1\n",
    "    v = 1.0\n",
    "    rgb=hsv_to_rgb(h,s,v)\n",
    "    packed_color = pack_color(rgb_vec=rgb)\n",
    "    hex_string = format(packed_color, 'x')\n",
    "    \"\"\" Zero pad the hex string if less than 6 characeters \"\"\"\n",
    "    if len(hex_string) < 6:\n",
    "        hex_string = '0'*(6-len(hex_string)) + hex_string\n",
    "    hex_string = '#' + hex_string\n",
    "    return hex_string"
   ]
  },
  {
   "cell_type": "markdown",
   "metadata": {},
   "source": [
    "At this point you should select whatever segments you want the colors for in the Neuroglancer window. Get your color scheme set up that you like by recoloring (\"l\" key), make manual color changes, etc...\n",
    "\n",
    "When that is all set, run the following code block to get the dictionary mapping segment id to color hex string for whatever is currently selected in the window."
   ]
  },
  {
   "cell_type": "code",
   "execution_count": 22,
   "metadata": {},
   "outputs": [
    {
     "name": "stdout",
     "output_type": "stream",
     "text": [
      "Colors of your segments are:\n",
      "{'10': '#51ff1c', '129': '#70ff8f', '149': '#ff6dcd', '171': '#ff7f9d', '206': '#0190ff', '310': '#75ff2a', '313': '#ff8c30', '477': '#44ffbf', '484': '#7aff9a', '560581568': '#ff3e30', '564': '#3cff93', '581': '#ffec6e', '588': '#e86cff', '59': '#79b2ff', '597': '#63ff26', '599': '#5dcfff', '607344832': '#ff0612', '707': '#71d2ff', '946': '#7dffab', '997': '#e6ff5a'}\n",
      "\n"
     ]
    },
    {
     "data": {
      "image/png": "[encoded data removed]",
      "text/plain": [
       "<Figure size 432x288 with 1 Axes>"
      ]
     },
     "metadata": {},
     "output_type": "display_data"
    }
   ],
   "source": [
    "# Gets the list of active segments, the current color seed and any manual changes \n",
    "with viewer.txn() as s:\n",
    "    seglayer = s.layers['atlas'].layer\n",
    "    seg_dict = seglayer.to_json()\n",
    "    try:\n",
    "        color_seed = seg_dict['colorSeed']\n",
    "    except:\n",
    "        color_seed = 0\n",
    "    try:\n",
    "        active_segments=list(seg_dict['segments'])\n",
    "    except:\n",
    "        active_segments=[]\n",
    "    try:\n",
    "        manual_segment_dict = seg_dict['segmentColors']\n",
    "    except:\n",
    "        manual_segment_dict = {}\n",
    "if active_segments == []:\n",
    "    sys.exit(\"You do not have any active segments selected. Select some segments and try re-running this block\")\n",
    "    \n",
    "# Fill a dictionary where\n",
    "# keys will be segment id, values will be hex color string\n",
    "# taking the manually set value over the original one if present\n",
    "hex_str_dict = {}\n",
    "for segment_id in active_segments:\n",
    "    if segment_id in manual_segment_dict:\n",
    "        hex_str_dict[segment_id] = manual_segment_dict[segment_id]\n",
    "    else:\n",
    "        hex_str_dict[segment_id] = hex_string_from_segment_id(color_seed,segment_id)\n",
    "print(\"Colors of your segments are:\")\n",
    "print(hex_str_dict)\n",
    "print()\n",
    "\n",
    "sizes = [360/float(len(active_segments)) for x in active_segments]\n",
    "\n",
    "fig1, ax1 = plt.subplots()\n",
    "pie=ax1.pie(sizes,labels=hex_str_dict.keys(),labeldistance=1.0,\n",
    "        textprops={'fontsize': 12}, startangle=90,colors=hex_str_dict.values())\n",
    "title=fig1.suptitle('Verify segment colors:',fontsize=18)"
   ]
  },
  {
   "cell_type": "code",
   "execution_count": null,
   "metadata": {},
   "outputs": [],
   "source": []
  }
 ],
 "metadata": {
  "kernelspec": {
   "display_name": "ng",
   "language": "python",
   "name": "ng"
  },
  "language_info": {
   "codemirror_mode": {
    "name": "ipython",
    "version": 3
   },
   "file_extension": ".py",
   "mimetype": "text/x-python",
   "name": "python",
   "nbconvert_exporter": "python",
   "pygments_lexer": "ipython3",
   "version": "3.6.9"
  }
 },
 "nbformat": 4,
 "nbformat_minor": 2
}
