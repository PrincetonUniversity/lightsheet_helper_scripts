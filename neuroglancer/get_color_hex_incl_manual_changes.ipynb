{
 "cells": [
  {
   "cell_type": "markdown",
   "metadata": {},
   "source": [
    "# get_color_hex-manual_changes\n",
    "The purpose of this notebook is to figure out how to obtain the color hex strings for segment ids given a colorseed in Python. This notebook also explores what happens if the colors are manually changed by the user in Neuroglancer. "
   ]
  },
  {
   "cell_type": "code",
   "execution_count": 19,
   "metadata": {},
   "outputs": [],
   "source": [
    "import neuroglancer\n",
    "import math\n",
    "import matplotlib.pyplot as plt\n",
    "%matplotlib inline"
   ]
  },
  {
   "cell_type": "code",
   "execution_count": 7,
   "metadata": {},
   "outputs": [
    {
     "name": "stdout",
     "output_type": "stream",
     "text": [
      "http://127.0.0.1:44598/v/cd207cd835ea6bdffe225738e20694eabe285cce/\n"
     ]
    }
   ],
   "source": [
    "neuroglancer.set_static_content_source(url='https://nglancer.pni.princeton.edu')\n",
    "# neuroglancer.set_static_content_source(url='http://localhost:8080')\n",
    "viewer = neuroglancer.Viewer()\n",
    "with viewer.txn() as s:\n",
    "    s.layers['atlas'] = neuroglancer.SegmentationLayer(source='precomputed://http://localhost:1338'\n",
    "    )\n",
    "print(viewer)"
   ]
  },
  {
   "cell_type": "code",
   "execution_count": 6,
   "metadata": {},
   "outputs": [],
   "source": [
    "def hash_function(state,value):\n",
    "    \"\"\" Python implementation of hashCombine() function\n",
    "    in src/neuroglancer/gpu_hash/hash_function.ts,\n",
    "    a modified murmur hash\n",
    "    \"\"\"\n",
    "    k1 = 0xcc9e2d51\n",
    "    k2 = 0x1b873593\n",
    "    state = state & 0xffffffff\n",
    "    value = (value * k1) & 0xffffffff\n",
    "    value = ((value << 15) | value >> 17) & 0xffffffff\n",
    "    value = (value * k2) & 0xffffffff\n",
    "    state = (state ^ value) & 0xffffffff\n",
    "    state = (( state << 13) | state >> 19) & 0xffffffff\n",
    "    state = (( state * 5) + 0xe6546b64) & 0xffffffff\n",
    "    return state\n",
    "\n",
    "def hsv_to_rgb(h,s,v):\n",
    "    \"\"\" Convert H,S,V values to RGB values.\n",
    "    Python implementation of hsvToRgb in src/neuroglancer/util/colorspace.ts \"\"\"\n",
    "    h*=6\n",
    "    hue_index = math.floor(h)\n",
    "    remainder = h - hue_index\n",
    "    val1 = v*(1-s)\n",
    "    val2 = v*(1-(s*remainder))\n",
    "    val3 = v*(1-(s*(1-remainder)))\n",
    "    hue_remainder = hue_index % 6\n",
    "    if hue_remainder == 0:\n",
    "        return (v,val3,val1)\n",
    "    elif hue_remainder == 1:\n",
    "        return (val2,v,val1)\n",
    "    elif hue_remainder == 2:\n",
    "        return (val1,v,val3)\n",
    "    elif hue_remainder == 3:\n",
    "        return (val1,val2,v)\n",
    "    elif hue_remainder == 4:\n",
    "        return (val3,val1,v)\n",
    "    elif hue_remainder == 5: \n",
    "        return (v,val1,val2)   \n",
    "\n",
    "def pack_color(rgb_vec):\n",
    "    \"\"\" Returns an integer formed\n",
    "    by concatenating the channels of the input color vector.\n",
    "    Python implementation of packColor in src/neuroglancer/util/color.ts\n",
    "    \"\"\"\n",
    "    result = 0\n",
    "    for i in range(len(rgb_vec)):\n",
    "        result = ((result << 8) & 0xffffffff) + min(255,max(0,round(rgb_vec[i]*255)))\n",
    "    return result\n",
    "\n",
    "def hex_string_from_segment_id(color_seed,segment_id):\n",
    "    \"\"\" Return the hex color string for a segment\n",
    "    given a color seed and the segment id \"\"\"\n",
    "    segment_id = int(segment_id) # necessary since segment_id is 64 bit originally \n",
    "    result = hash_function(state=color_seed,value=segment_id)\n",
    "    newvalue = segment_id >> 32\n",
    "    result2 = hash_function(state=result,value=newvalue)\n",
    "    c0 = (result2 & 0xFF) / 255.\n",
    "    c1 = ((result2 >> 8) & 0xFF) / 255.;\n",
    "    h = c0\n",
    "    s =  0.5 + 0.5 * c1\n",
    "    v = 1.0\n",
    "    rgb=hsv_to_rgb(h,s,v)\n",
    "    packed_color = pack_color(rgb_vec=rgb)\n",
    "    hex_string = format(packed_color, 'x')\n",
    "    \"\"\" Zero pad the hex string if less than 6 characeters \"\"\"\n",
    "    if len(hex_string) < 6:\n",
    "        hex_string = '0'*(6-len(hex_string)) + hex_string\n",
    "    hex_string = '#' + hex_string\n",
    "    return hex_string"
   ]
  },
  {
   "cell_type": "code",
   "execution_count": 97,
   "metadata": {},
   "outputs": [
    {
     "name": "stdout",
     "output_type": "stream",
     "text": [
      "Colors of your segments are:\n",
      "{'149': '#10b3ff', '189': '#0effb2', '59': '#ff359e', '599': '#ffe55a'}\n",
      "\n",
      "Plot to verify colors:\n"
     ]
    },
    {
     "data": {
      "image/png": "[encoded data removed]",
      "text/plain": [
       "<Figure size 432x288 with 1 Axes>"
      ]
     },
     "metadata": {},
     "output_type": "display_data"
    }
   ],
   "source": [
    "# Run this code block after you change your colors and want to retrieve the color dictionary\n",
    "with viewer.txn() as s:\n",
    "    seglayer = s.layers['atlas'].layer\n",
    "    seg_dict = seglayer.to_json()\n",
    "    color_seed = seg_dict['colorSeed']\n",
    "    active_segments=list(seg_dict['segments'])\n",
    "    try:\n",
    "        manual_segment_dict = seg_dict['segmentColors']\n",
    "    except:\n",
    "        manual_segment_dict = {}\n",
    "# Now fill a dictionary where\n",
    "# keys will be segment id, values will be hex color string\n",
    "# taking the manually set value over the original one if present\n",
    "hex_str_dict = {}\n",
    "for segment_id in active_segments:\n",
    "    if segment_id in manual_segment_dict:\n",
    "        hex_str_dict[segment_id] = manual_segment_dict[segment_id]\n",
    "    else:\n",
    "        hex_str_dict[segment_id] = hex_string_from_segment_id(color_seed,segment_id)\n",
    "print(\"Colors of your segments are:\")\n",
    "print(hex_str_dict)\n",
    "print()\n",
    "print(\"Plot to verify colors:\")\n",
    "sizes = [360/float(len(active_segments)) for x in active_segments]\n",
    "\n",
    "fig1, ax1 = plt.subplots()\n",
    "pie=ax1.pie(sizes,labels=hex_str_dict.keys(),labeldistance=0.5,\n",
    "        shadow=True, startangle=90,colors=hex_str_dict.values())\n",
    "title=fig1.suptitle('Segment colors (including any manually changed)',fontsize=18)"
   ]
  },
  {
   "cell_type": "code",
   "execution_count": null,
   "metadata": {},
   "outputs": [],
   "source": []
  }
 ],
 "metadata": {
  "kernelspec": {
   "display_name": "ng",
   "language": "python",
   "name": "ng"
  },
  "language_info": {
   "codemirror_mode": {
    "name": "ipython",
    "version": 3
   },
   "file_extension": ".py",
   "mimetype": "text/x-python",
   "name": "python",
   "nbconvert_exporter": "python",
   "pygments_lexer": "ipython3",
   "version": "3.6.9"
  }
 },
 "nbformat": 4,
 "nbformat_minor": 2
}
