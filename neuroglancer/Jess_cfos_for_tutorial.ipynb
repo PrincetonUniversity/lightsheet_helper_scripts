{
 "cells": [
  {
   "cell_type": "markdown",
   "metadata": {},
   "source": [
    "# Jess_cfos_for_tutorial\n",
    "I used this notebook to make the getting started with neuroglancer screen recording tutorial using Jess'  201904_ymaze_cfos an21 subject."
   ]
  },
  {
   "cell_type": "code",
   "execution_count": 1,
   "metadata": {},
   "outputs": [],
   "source": [
    "import neuroglancer as ng\n",
    "import os\n",
    "import matplotlib.pyplot as plt\n",
    "%matplotlib inline"
   ]
  },
  {
   "cell_type": "markdown",
   "metadata": {},
   "source": [
    "## Set the neuroglancer client to be one that is hosted locally\n"
   ]
  },
  {
   "cell_type": "code",
   "execution_count": 2,
   "metadata": {},
   "outputs": [],
   "source": [
    "# Use localhost for static files\n",
    "ng.set_static_content_source(url='http://localhost:8080')"
   ]
  },
  {
   "cell_type": "code",
   "execution_count": 3,
   "metadata": {
    "scrolled": false
   },
   "outputs": [
    {
     "name": "stdout",
     "output_type": "stream",
     "text": [
      "http://127.0.0.1:35326/v/a03e30b7fb85dd1f5731cbe69c19c55b486a5d06/\n"
     ]
    }
   ],
   "source": [
    "# Start a web viewer and load in my three layers, which are hosted on my local machine.\n",
    "# Note that I used raw-space annotation layer for the cells, but I put a high \"limit\" on it (~500000)\n",
    "# So that the number of cells displayed was low -- with the native sampling the cells are too dense\n",
    "# to see anything else\n",
    "viewer = ng.Viewer()\n",
    "with viewer.txn() as s:\n",
    "    s.layers['rawdata_an21'] = ng.ImageLayer(source='precomputed://http://localhost:1337'\n",
    "    )\n",
    "    s.layers['rawatlas_an21'] = ng.SegmentationLayer(source='precomputed://http://localhost:1338'\n",
    "    )\n",
    "    s.layers['rawcells_an21'] = ng.AnnotationLayer(source='precomputed://http://localhost:8086'\n",
    "    )\n",
    "print(viewer)"
   ]
  },
  {
   "cell_type": "code",
   "execution_count": 16,
   "metadata": {},
   "outputs": [],
   "source": [
    "with viewer.txn() as s:\n",
    "    s.layout = 'yz-3d'\n",
    "    s.position = [1299,1276,331]\n",
    "    \n",
    "    s.cross_section_orientation = [0.7071067690849304, 0, 0, 0.7071067690849304]\n",
    "    s.cross_section_scale = 4.5\n",
    "    s.projection_scale = 5000\n",
    "    s.projection_orientation = [0.65080833, 0.17286249, 0.20033664, 0.7116406 ]\n",
    "    seglayer = s.layers['rawatlas_an21']\n",
    "    seglayer.segments = [549, 262, 741, 149, 629, 599, 1113, 733]\n",
    "    seglayer.segment_query = \"549, 262, 741, 149, 629, 599, 1113, 733\"\n",
    "#     annotlayer = s.layers['rawcells_an21']\n",
    "#     annotlayer.visible=False\n",
    "#     annotlayer.shader = \"\\nvoid main() {\\n  setColor(vec4(defaultColor(), 0.5));\\n}\"\n",
    "#     s.selected_layer.layer = 'rawatlas_an21' \n",
    "#     s.selected_layer.visible = True\n",
    "#     s.selected_layer.size = 715\n",
    "#     s.layers['rawatlas_an21'].tab = \"segments\"\n",
    "    s.show_axis_lines=False\n"
   ]
  },
  {
   "cell_type": "code",
   "execution_count": 19,
   "metadata": {},
   "outputs": [],
   "source": [
    "with viewer.txn() as s:\n",
    "    s.layout='yz'\n",
    "    s.cross_section_scale=2.2\n",
    "    s.cross_section_orientation = [0.7071067690849304, 0, 0, 0.7071067690849304]\n",
    "    s.layers['rawatlas_an21'].visible=False\n",
    "    s.layers['rawcells_an21'].visible=False\n",
    "    s.showAxisLines = False"
   ]
  },
  {
   "cell_type": "code",
   "execution_count": 20,
   "metadata": {},
   "outputs": [
    {
     "ename": "AttributeError",
     "evalue": "'ViewerState' object has no attribute 'navigation'",
     "output_type": "error",
     "traceback": [
      "\u001b[0;31m---------------------------------------------------------------------------\u001b[0m",
      "\u001b[0;31mAttributeError\u001b[0m                            Traceback (most recent call last)",
      "\u001b[0;32m<ipython-input-20-4ca7181e4b68>\u001b[0m in \u001b[0;36m<module>\u001b[0;34m\u001b[0m\n\u001b[1;32m      1\u001b[0m \u001b[0;32mwith\u001b[0m \u001b[0mviewer\u001b[0m\u001b[0;34m.\u001b[0m\u001b[0mtxn\u001b[0m\u001b[0;34m(\u001b[0m\u001b[0;34m)\u001b[0m \u001b[0;32mas\u001b[0m \u001b[0ms\u001b[0m\u001b[0;34m:\u001b[0m\u001b[0;34m\u001b[0m\u001b[0;34m\u001b[0m\u001b[0m\n\u001b[0;32m----> 2\u001b[0;31m     \u001b[0ms\u001b[0m\u001b[0;34m.\u001b[0m\u001b[0mnavigation\u001b[0m\u001b[0;34m.\u001b[0m\u001b[0mzoomFactor\u001b[0m\u001b[0;34m=\u001b[0m\u001b[0;36m5\u001b[0m\u001b[0;34m\u001b[0m\u001b[0;34m\u001b[0m\u001b[0m\n\u001b[0m",
      "\u001b[0;31mAttributeError\u001b[0m: 'ViewerState' object has no attribute 'navigation'"
     ]
    }
   ],
   "source": [
    "with viewer.txn() as s:\n",
    "    s.navigation.zoomFactor=5"
   ]
  },
  {
   "cell_type": "code",
   "execution_count": null,
   "metadata": {},
   "outputs": [],
   "source": []
  }
 ],
 "metadata": {
  "kernelspec": {
   "display_name": "ng",
   "language": "python",
   "name": "ng"
  },
  "language_info": {
   "codemirror_mode": {
    "name": "ipython",
    "version": 3
   },
   "file_extension": ".py",
   "mimetype": "text/x-python",
   "name": "python",
   "nbconvert_exporter": "python",
   "pygments_lexer": "ipython3",
   "version": "3.6.9"
  }
 },
 "nbformat": 4,
 "nbformat_minor": 2
}
