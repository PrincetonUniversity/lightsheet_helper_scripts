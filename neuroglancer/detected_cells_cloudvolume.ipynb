{
 "cells": [
  {
   "cell_type": "markdown",
   "metadata": {},
   "source": [
    "## Zahra's code"
   ]
  },
  {
   "cell_type": "code",
   "execution_count": 6,
   "metadata": {},
   "outputs": [],
   "source": [
    "import numpy as np\n",
    "import tifffile as tif\n",
    "import cv2\n",
    "import matplotlib.pyplot as plt\n",
    "from skimage.morphology import ball"
   ]
  },
  {
   "cell_type": "code",
   "execution_count": 4,
   "metadata": {},
   "outputs": [],
   "source": [
    "#first, make a map of cells\n",
    "pth = \"/jukebox/wang/zahra/h129_contra_vs_ipsi/pma_to_aba/20180410_jg52_bl6_lob7_05/posttransformed_zyx_voxels.npy\"\n",
    "converted_points = np.load(pth)\n",
    "\n",
    "zyx = np.asarray([(int(xx[0]), int(xx[1]), int(xx[2])) for xx in converted_points]) #cells are counted in horizontal volumes"
   ]
  },
  {
   "cell_type": "code",
   "execution_count": 7,
   "metadata": {},
   "outputs": [],
   "source": [
    "#read registered volume\n",
    "vol = \"/jukebox/wang/zahra/h129_contra_vs_ipsi/reg_to_allen/20180410_jg52_bl6_lob7_05/cell_to_reg/result.tif\"\n",
    "img = tif.imread(vol)  "
   ]
  },
  {
   "cell_type": "code",
   "execution_count": 8,
   "metadata": {},
   "outputs": [],
   "source": [
    "#init empty vol \n",
    "cell_map = np.zeros_like(img).astype('uint16')"
   ]
  },
  {
   "cell_type": "code",
   "execution_count": 9,
   "metadata": {},
   "outputs": [
    {
     "name": "stdout",
     "output_type": "stream",
     "text": [
      "index 530 is out of bounds for axis 1 with size 528\n",
      "index 529 is out of bounds for axis 1 with size 528\n",
      "index 531 is out of bounds for axis 1 with size 528\n",
      "index 530 is out of bounds for axis 1 with size 528\n",
      "index 529 is out of bounds for axis 1 with size 528\n",
      "index 531 is out of bounds for axis 1 with size 528\n",
      "index 529 is out of bounds for axis 1 with size 528\n",
      "index 528 is out of bounds for axis 1 with size 528\n",
      "index 529 is out of bounds for axis 1 with size 528\n",
      "index 530 is out of bounds for axis 1 with size 528\n",
      "index 550 is out of bounds for axis 1 with size 528\n",
      "index 555 is out of bounds for axis 1 with size 528\n",
      "index 555 is out of bounds for axis 1 with size 528\n",
      "index 562 is out of bounds for axis 1 with size 528\n",
      "index 545 is out of bounds for axis 1 with size 528\n",
      "index 548 is out of bounds for axis 1 with size 528\n",
      "index 550 is out of bounds for axis 1 with size 528\n",
      "index 554 is out of bounds for axis 1 with size 528\n",
      "index 556 is out of bounds for axis 1 with size 528\n",
      "index 562 is out of bounds for axis 1 with size 528\n",
      "index 545 is out of bounds for axis 1 with size 528\n",
      "index 547 is out of bounds for axis 1 with size 528\n",
      "index 547 is out of bounds for axis 1 with size 528\n",
      "index 553 is out of bounds for axis 1 with size 528\n",
      "index 528 is out of bounds for axis 1 with size 528\n",
      "index 546 is out of bounds for axis 1 with size 528\n",
      "index 548 is out of bounds for axis 1 with size 528\n",
      "index 551 is out of bounds for axis 1 with size 528\n",
      "index 553 is out of bounds for axis 1 with size 528\n",
      "index 555 is out of bounds for axis 1 with size 528\n",
      "index 553 is out of bounds for axis 1 with size 528\n",
      "index 542 is out of bounds for axis 1 with size 528\n",
      "index 549 is out of bounds for axis 1 with size 528\n",
      "index 551 is out of bounds for axis 1 with size 528\n",
      "index 538 is out of bounds for axis 1 with size 528\n",
      "index 541 is out of bounds for axis 1 with size 528\n",
      "index 550 is out of bounds for axis 1 with size 528\n",
      "index 554 is out of bounds for axis 1 with size 528\n",
      "index 540 is out of bounds for axis 1 with size 528\n",
      "index 535 is out of bounds for axis 1 with size 528\n",
      "index 538 is out of bounds for axis 1 with size 528\n",
      "index 538 is out of bounds for axis 1 with size 528\n",
      "index 540 is out of bounds for axis 1 with size 528\n",
      "index 536 is out of bounds for axis 1 with size 528\n",
      "index 528 is out of bounds for axis 1 with size 528\n",
      "index 536 is out of bounds for axis 1 with size 528\n",
      "index 537 is out of bounds for axis 1 with size 528\n",
      "index 532 is out of bounds for axis 1 with size 528\n",
      "index 528 is out of bounds for axis 1 with size 528\n",
      "index 528 is out of bounds for axis 1 with size 528\n",
      "index 554 is out of bounds for axis 1 with size 528\n",
      "index 528 is out of bounds for axis 1 with size 528\n",
      "index 528 is out of bounds for axis 1 with size 528\n",
      "index 529 is out of bounds for axis 1 with size 528\n",
      "index 529 is out of bounds for axis 1 with size 528\n",
      "index 528 is out of bounds for axis 1 with size 528\n",
      "index 529 is out of bounds for axis 1 with size 528\n",
      "index 531 is out of bounds for axis 1 with size 528\n",
      "index 528 is out of bounds for axis 1 with size 528\n",
      "index 529 is out of bounds for axis 1 with size 528\n",
      "index 529 is out of bounds for axis 1 with size 528\n",
      "index 528 is out of bounds for axis 1 with size 528\n",
      "index 529 is out of bounds for axis 1 with size 528\n",
      "index 528 is out of bounds for axis 1 with size 528\n",
      "index 530 is out of bounds for axis 1 with size 528\n",
      "index 528 is out of bounds for axis 1 with size 528\n",
      "index 528 is out of bounds for axis 1 with size 528\n",
      "index 528 is out of bounds for axis 1 with size 528\n",
      "index 528 is out of bounds for axis 1 with size 528\n",
      "index 528 is out of bounds for axis 1 with size 528\n",
      "index 532 is out of bounds for axis 1 with size 528\n",
      "index 528 is out of bounds for axis 1 with size 528\n",
      "index 529 is out of bounds for axis 1 with size 528\n",
      "index 529 is out of bounds for axis 1 with size 528\n",
      "index 532 is out of bounds for axis 1 with size 528\n",
      "index 528 is out of bounds for axis 1 with size 528\n",
      "index 528 is out of bounds for axis 1 with size 528\n",
      "index 531 is out of bounds for axis 1 with size 528\n",
      "index 530 is out of bounds for axis 1 with size 528\n",
      "index 529 is out of bounds for axis 1 with size 528\n",
      "index 529 is out of bounds for axis 1 with size 528\n",
      "index 529 is out of bounds for axis 1 with size 528\n",
      "index 530 is out of bounds for axis 1 with size 528\n",
      "index 532 is out of bounds for axis 1 with size 528\n",
      "index 534 is out of bounds for axis 1 with size 528\n",
      "index 528 is out of bounds for axis 1 with size 528\n",
      "index 528 is out of bounds for axis 1 with size 528\n",
      "index 528 is out of bounds for axis 1 with size 528\n",
      "index 530 is out of bounds for axis 1 with size 528\n",
      "index 530 is out of bounds for axis 1 with size 528\n",
      "index 530 is out of bounds for axis 1 with size 528\n",
      "index 528 is out of bounds for axis 1 with size 528\n",
      "index 528 is out of bounds for axis 1 with size 528\n",
      "index 528 is out of bounds for axis 1 with size 528\n",
      "index 528 is out of bounds for axis 1 with size 528\n",
      "index 529 is out of bounds for axis 1 with size 528\n",
      "index 532 is out of bounds for axis 1 with size 528\n",
      "index 530 is out of bounds for axis 1 with size 528\n",
      "index 529 is out of bounds for axis 1 with size 528\n",
      "index 529 is out of bounds for axis 1 with size 528\n",
      "index 531 is out of bounds for axis 1 with size 528\n",
      "index 528 is out of bounds for axis 1 with size 528\n",
      "index 533 is out of bounds for axis 1 with size 528\n",
      "index 528 is out of bounds for axis 1 with size 528\n",
      "index 528 is out of bounds for axis 1 with size 528\n",
      "index 528 is out of bounds for axis 1 with size 528\n",
      "index 531 is out of bounds for axis 1 with size 528\n",
      "index 529 is out of bounds for axis 1 with size 528\n",
      "index 529 is out of bounds for axis 1 with size 528\n",
      "index 530 is out of bounds for axis 1 with size 528\n",
      "index 528 is out of bounds for axis 1 with size 528\n",
      "index 528 is out of bounds for axis 1 with size 528\n",
      "index 533 is out of bounds for axis 1 with size 528\n",
      "index 528 is out of bounds for axis 1 with size 528\n",
      "index 528 is out of bounds for axis 1 with size 528\n",
      "index 529 is out of bounds for axis 1 with size 528\n",
      "index 528 is out of bounds for axis 1 with size 528\n",
      "index 528 is out of bounds for axis 1 with size 528\n",
      "index 530 is out of bounds for axis 1 with size 528\n",
      "index 530 is out of bounds for axis 1 with size 528\n",
      "index 532 is out of bounds for axis 1 with size 528\n",
      "index 528 is out of bounds for axis 1 with size 528\n",
      "index 529 is out of bounds for axis 1 with size 528\n",
      "index 530 is out of bounds for axis 1 with size 528\n",
      "index 533 is out of bounds for axis 1 with size 528\n",
      "index 534 is out of bounds for axis 1 with size 528\n",
      "index 528 is out of bounds for axis 1 with size 528\n",
      "index 529 is out of bounds for axis 1 with size 528\n",
      "index 529 is out of bounds for axis 1 with size 528\n",
      "index 530 is out of bounds for axis 1 with size 528\n",
      "index 532 is out of bounds for axis 1 with size 528\n",
      "index 533 is out of bounds for axis 1 with size 528\n",
      "index 530 is out of bounds for axis 1 with size 528\n",
      "index 532 is out of bounds for axis 1 with size 528\n",
      "index 529 is out of bounds for axis 1 with size 528\n",
      "index 528 is out of bounds for axis 1 with size 528\n",
      "index 530 is out of bounds for axis 1 with size 528\n",
      "index 534 is out of bounds for axis 1 with size 528\n",
      "index 531 is out of bounds for axis 1 with size 528\n",
      "index 533 is out of bounds for axis 1 with size 528\n",
      "index 528 is out of bounds for axis 1 with size 528\n",
      "index 529 is out of bounds for axis 1 with size 528\n",
      "index 530 is out of bounds for axis 1 with size 528\n",
      "index 533 is out of bounds for axis 1 with size 528\n",
      "index 529 is out of bounds for axis 1 with size 528\n",
      "index 530 is out of bounds for axis 1 with size 528\n",
      "index 528 is out of bounds for axis 1 with size 528\n",
      "index 532 is out of bounds for axis 1 with size 528\n",
      "index 528 is out of bounds for axis 1 with size 528\n",
      "index 528 is out of bounds for axis 1 with size 528\n",
      "index 530 is out of bounds for axis 1 with size 528\n",
      "index 530 is out of bounds for axis 1 with size 528\n",
      "index 528 is out of bounds for axis 1 with size 528\n",
      "index 528 is out of bounds for axis 1 with size 528\n",
      "index 528 is out of bounds for axis 1 with size 528\n",
      "index 528 is out of bounds for axis 1 with size 528\n",
      "index 529 is out of bounds for axis 1 with size 528\n",
      "index 529 is out of bounds for axis 1 with size 528\n",
      "index 530 is out of bounds for axis 1 with size 528\n",
      "index 530 is out of bounds for axis 1 with size 528\n",
      "index 528 is out of bounds for axis 1 with size 528\n",
      "index 530 is out of bounds for axis 1 with size 528\n",
      "index 530 is out of bounds for axis 1 with size 528\n",
      "index 528 is out of bounds for axis 1 with size 528\n",
      "index 528 is out of bounds for axis 1 with size 528\n",
      "index 532 is out of bounds for axis 1 with size 528\n",
      "index 530 is out of bounds for axis 1 with size 528\n",
      "index 532 is out of bounds for axis 1 with size 528\n",
      "index 530 is out of bounds for axis 1 with size 528\n",
      "index 528 is out of bounds for axis 1 with size 528\n",
      "index 530 is out of bounds for axis 1 with size 528\n",
      "index 530 is out of bounds for axis 1 with size 528\n",
      "index 528 is out of bounds for axis 1 with size 528\n",
      "index 528 is out of bounds for axis 1 with size 528\n",
      "index 528 is out of bounds for axis 1 with size 528\n",
      "index 530 is out of bounds for axis 1 with size 528\n",
      "index 528 is out of bounds for axis 1 with size 528\n",
      "index 528 is out of bounds for axis 1 with size 528\n",
      "index 528 is out of bounds for axis 1 with size 528\n",
      "index 528 is out of bounds for axis 1 with size 528\n",
      "index 529 is out of bounds for axis 1 with size 528\n",
      "index 529 is out of bounds for axis 1 with size 528\n",
      "index 528 is out of bounds for axis 1 with size 528\n",
      "index 529 is out of bounds for axis 1 with size 528\n",
      "index 529 is out of bounds for axis 1 with size 528\n",
      "index 530 is out of bounds for axis 1 with size 528\n",
      "index 531 is out of bounds for axis 1 with size 528\n",
      "index 529 is out of bounds for axis 1 with size 528\n",
      "index 529 is out of bounds for axis 1 with size 528\n",
      "index 530 is out of bounds for axis 1 with size 528\n",
      "index 530 is out of bounds for axis 1 with size 528\n",
      "index 529 is out of bounds for axis 1 with size 528\n",
      "index 530 is out of bounds for axis 1 with size 528\n",
      "index 530 is out of bounds for axis 1 with size 528\n",
      "index 528 is out of bounds for axis 1 with size 528\n",
      "index 528 is out of bounds for axis 1 with size 528\n",
      "index 529 is out of bounds for axis 1 with size 528\n",
      "index 528 is out of bounds for axis 1 with size 528\n",
      "index 530 is out of bounds for axis 1 with size 528\n",
      "index 529 is out of bounds for axis 1 with size 528\n",
      "index 528 is out of bounds for axis 1 with size 528\n",
      "index 530 is out of bounds for axis 1 with size 528\n",
      "index 530 is out of bounds for axis 1 with size 528\n",
      "index 529 is out of bounds for axis 1 with size 528\n",
      "index 528 is out of bounds for axis 1 with size 528\n",
      "index 528 is out of bounds for axis 1 with size 528\n",
      "index 528 is out of bounds for axis 1 with size 528\n",
      "index 529 is out of bounds for axis 1 with size 528\n",
      "index 528 is out of bounds for axis 1 with size 528\n",
      "index 530 is out of bounds for axis 1 with size 528\n",
      "index 530 is out of bounds for axis 1 with size 528\n",
      "index 530 is out of bounds for axis 1 with size 528\n",
      "index 530 is out of bounds for axis 1 with size 528\n",
      "index 528 is out of bounds for axis 1 with size 528\n",
      "index 528 is out of bounds for axis 1 with size 528\n",
      "index 528 is out of bounds for axis 1 with size 528\n",
      "index 529 is out of bounds for axis 1 with size 528\n",
      "index 528 is out of bounds for axis 1 with size 528\n",
      "index 528 is out of bounds for axis 1 with size 528\n",
      "index 529 is out of bounds for axis 1 with size 528\n",
      "index 528 is out of bounds for axis 1 with size 528\n",
      "index 528 is out of bounds for axis 1 with size 528\n",
      "index 528 is out of bounds for axis 1 with size 528\n",
      "index 528 is out of bounds for axis 1 with size 528\n",
      "index 528 is out of bounds for axis 1 with size 528\n",
      "index 529 is out of bounds for axis 1 with size 528\n",
      "index 528 is out of bounds for axis 1 with size 528\n",
      "index 528 is out of bounds for axis 1 with size 528\n",
      "index 528 is out of bounds for axis 1 with size 528\n",
      "index 530 is out of bounds for axis 1 with size 528\n",
      "index 528 is out of bounds for axis 1 with size 528\n",
      "index 529 is out of bounds for axis 1 with size 528\n",
      "index 529 is out of bounds for axis 1 with size 528\n",
      "index 528 is out of bounds for axis 1 with size 528\n",
      "index 528 is out of bounds for axis 1 with size 528\n",
      "index 529 is out of bounds for axis 1 with size 528\n",
      "index 528 is out of bounds for axis 1 with size 528\n",
      "index 528 is out of bounds for axis 1 with size 528\n",
      "index 528 is out of bounds for axis 1 with size 528\n",
      "index 529 is out of bounds for axis 1 with size 528\n",
      "index 529 is out of bounds for axis 1 with size 528\n",
      "index 531 is out of bounds for axis 1 with size 528\n",
      "index 528 is out of bounds for axis 1 with size 528\n",
      "index 528 is out of bounds for axis 1 with size 528\n",
      "index 529 is out of bounds for axis 1 with size 528\n",
      "index 528 is out of bounds for axis 1 with size 528\n",
      "index 530 is out of bounds for axis 1 with size 528\n",
      "index 529 is out of bounds for axis 1 with size 528\n",
      "index 528 is out of bounds for axis 1 with size 528\n",
      "index 528 is out of bounds for axis 1 with size 528\n",
      "index 528 is out of bounds for axis 1 with size 528\n",
      "index 529 is out of bounds for axis 1 with size 528\n",
      "index 529 is out of bounds for axis 1 with size 528\n",
      "index 530 is out of bounds for axis 1 with size 528\n",
      "index 528 is out of bounds for axis 1 with size 528\n",
      "index 528 is out of bounds for axis 1 with size 528\n",
      "index 528 is out of bounds for axis 1 with size 528\n",
      "index 529 is out of bounds for axis 1 with size 528\n",
      "index 528 is out of bounds for axis 1 with size 528\n",
      "index 528 is out of bounds for axis 1 with size 528\n",
      "index 528 is out of bounds for axis 1 with size 528\n",
      "index 529 is out of bounds for axis 1 with size 528\n",
      "index 529 is out of bounds for axis 1 with size 528\n",
      "index 528 is out of bounds for axis 1 with size 528\n",
      "index 528 is out of bounds for axis 1 with size 528\n",
      "index 529 is out of bounds for axis 1 with size 528\n",
      "index 528 is out of bounds for axis 1 with size 528\n",
      "index 528 is out of bounds for axis 1 with size 528\n",
      "index 528 is out of bounds for axis 1 with size 528\n",
      "index 528 is out of bounds for axis 1 with size 528\n",
      "index 529 is out of bounds for axis 1 with size 528\n",
      "index 529 is out of bounds for axis 1 with size 528\n",
      "index 529 is out of bounds for axis 1 with size 528\n",
      "index 529 is out of bounds for axis 1 with size 528\n",
      "index 529 is out of bounds for axis 1 with size 528\n",
      "index 528 is out of bounds for axis 1 with size 528\n",
      "index 529 is out of bounds for axis 1 with size 528\n",
      "index 529 is out of bounds for axis 1 with size 528\n",
      "index 529 is out of bounds for axis 1 with size 528\n",
      "index 529 is out of bounds for axis 1 with size 528\n",
      "index 528 is out of bounds for axis 1 with size 528\n",
      "index 528 is out of bounds for axis 1 with size 528\n",
      "index 528 is out of bounds for axis 1 with size 528\n",
      "index 529 is out of bounds for axis 1 with size 528\n",
      "index 529 is out of bounds for axis 1 with size 528\n",
      "index 529 is out of bounds for axis 1 with size 528\n",
      "index 529 is out of bounds for axis 1 with size 528\n",
      "index 529 is out of bounds for axis 1 with size 528\n",
      "index 529 is out of bounds for axis 1 with size 528\n",
      "index 529 is out of bounds for axis 1 with size 528\n",
      "index 529 is out of bounds for axis 1 with size 528\n",
      "index 528 is out of bounds for axis 1 with size 528\n",
      "index 528 is out of bounds for axis 1 with size 528\n",
      "index 529 is out of bounds for axis 1 with size 528\n",
      "index 530 is out of bounds for axis 1 with size 528\n",
      "index 528 is out of bounds for axis 1 with size 528\n",
      "index 528 is out of bounds for axis 1 with size 528\n",
      "index 528 is out of bounds for axis 1 with size 528\n",
      "index 528 is out of bounds for axis 1 with size 528\n",
      "index 530 is out of bounds for axis 1 with size 528\n",
      "index 540 is out of bounds for axis 1 with size 528\n",
      "index 529 is out of bounds for axis 1 with size 528\n",
      "index 529 is out of bounds for axis 1 with size 528\n",
      "index 539 is out of bounds for axis 1 with size 528\n",
      "index 540 is out of bounds for axis 1 with size 528\n",
      "index 540 is out of bounds for axis 1 with size 528\n",
      "index 529 is out of bounds for axis 1 with size 528\n",
      "index 540 is out of bounds for axis 1 with size 528\n",
      "index 528 is out of bounds for axis 1 with size 528\n",
      "index 529 is out of bounds for axis 1 with size 528\n",
      "index 536 is out of bounds for axis 1 with size 528\n",
      "index 529 is out of bounds for axis 1 with size 528\n",
      "index 536 is out of bounds for axis 1 with size 528\n",
      "index 528 is out of bounds for axis 1 with size 528\n",
      "index 529 is out of bounds for axis 1 with size 528\n",
      "index 541 is out of bounds for axis 1 with size 528\n",
      "index 529 is out of bounds for axis 1 with size 528\n",
      "index 528 is out of bounds for axis 1 with size 528\n",
      "index 529 is out of bounds for axis 1 with size 528\n",
      "index 531 is out of bounds for axis 1 with size 528\n",
      "index 537 is out of bounds for axis 1 with size 528\n",
      "index 540 is out of bounds for axis 1 with size 528\n",
      "index 529 is out of bounds for axis 1 with size 528\n",
      "index 535 is out of bounds for axis 1 with size 528\n",
      "index 543 is out of bounds for axis 1 with size 528\n",
      "index 529 is out of bounds for axis 1 with size 528\n",
      "index 530 is out of bounds for axis 1 with size 528\n",
      "index 538 is out of bounds for axis 1 with size 528\n",
      "index 539 is out of bounds for axis 1 with size 528\n",
      "index 528 is out of bounds for axis 1 with size 528\n",
      "index 528 is out of bounds for axis 1 with size 528\n",
      "index 528 is out of bounds for axis 1 with size 528\n",
      "index 529 is out of bounds for axis 1 with size 528\n",
      "index 530 is out of bounds for axis 1 with size 528\n",
      "index 539 is out of bounds for axis 1 with size 528\n",
      "index 528 is out of bounds for axis 1 with size 528\n",
      "index 529 is out of bounds for axis 1 with size 528\n",
      "index 529 is out of bounds for axis 1 with size 528\n",
      "index 529 is out of bounds for axis 1 with size 528\n",
      "index 534 is out of bounds for axis 1 with size 528\n",
      "index 535 is out of bounds for axis 1 with size 528\n",
      "index 528 is out of bounds for axis 1 with size 528\n",
      "index 528 is out of bounds for axis 1 with size 528\n",
      "index 536 is out of bounds for axis 1 with size 528\n",
      "index 530 is out of bounds for axis 1 with size 528\n",
      "index 528 is out of bounds for axis 1 with size 528\n",
      "index 528 is out of bounds for axis 1 with size 528\n",
      "index 535 is out of bounds for axis 1 with size 528\n",
      "index 528 is out of bounds for axis 1 with size 528\n",
      "index 529 is out of bounds for axis 1 with size 528\n",
      "index 529 is out of bounds for axis 1 with size 528\n",
      "index 536 is out of bounds for axis 1 with size 528\n",
      "index 529 is out of bounds for axis 1 with size 528\n",
      "index 529 is out of bounds for axis 1 with size 528\n",
      "index 530 is out of bounds for axis 1 with size 528\n",
      "index 530 is out of bounds for axis 1 with size 528\n",
      "index 532 is out of bounds for axis 1 with size 528\n",
      "index 528 is out of bounds for axis 1 with size 528\n",
      "index 528 is out of bounds for axis 1 with size 528\n",
      "index 530 is out of bounds for axis 1 with size 528\n",
      "index 528 is out of bounds for axis 1 with size 528\n",
      "index 529 is out of bounds for axis 1 with size 528\n",
      "index 530 is out of bounds for axis 1 with size 528\n",
      "index 530 is out of bounds for axis 1 with size 528\n",
      "index 529 is out of bounds for axis 1 with size 528\n",
      "index 529 is out of bounds for axis 1 with size 528\n",
      "index 530 is out of bounds for axis 1 with size 528\n",
      "index 529 is out of bounds for axis 1 with size 528\n",
      "index 529 is out of bounds for axis 1 with size 528\n",
      "index 530 is out of bounds for axis 1 with size 528\n",
      "index 528 is out of bounds for axis 1 with size 528\n",
      "index 528 is out of bounds for axis 1 with size 528\n",
      "index 529 is out of bounds for axis 1 with size 528\n",
      "index 528 is out of bounds for axis 1 with size 528\n",
      "index 530 is out of bounds for axis 1 with size 528\n",
      "index 529 is out of bounds for axis 1 with size 528\n",
      "index 530 is out of bounds for axis 1 with size 528\n",
      "index 530 is out of bounds for axis 1 with size 528\n",
      "index 530 is out of bounds for axis 1 with size 528\n",
      "index 531 is out of bounds for axis 1 with size 528\n",
      "index 528 is out of bounds for axis 1 with size 528\n",
      "index 528 is out of bounds for axis 1 with size 528\n",
      "index 529 is out of bounds for axis 1 with size 528\n",
      "index 529 is out of bounds for axis 1 with size 528\n",
      "index 529 is out of bounds for axis 1 with size 528\n",
      "index 529 is out of bounds for axis 1 with size 528\n",
      "index 530 is out of bounds for axis 1 with size 528\n",
      "index 533 is out of bounds for axis 1 with size 528\n",
      "index 533 is out of bounds for axis 1 with size 528\n",
      "index 528 is out of bounds for axis 1 with size 528\n",
      "index 528 is out of bounds for axis 1 with size 528\n",
      "index 530 is out of bounds for axis 1 with size 528\n",
      "index 529 is out of bounds for axis 1 with size 528\n",
      "index 528 is out of bounds for axis 1 with size 528\n",
      "index 528 is out of bounds for axis 1 with size 528\n",
      "index 529 is out of bounds for axis 1 with size 528\n",
      "index 529 is out of bounds for axis 1 with size 528\n",
      "index 535 is out of bounds for axis 1 with size 528\n",
      "index 528 is out of bounds for axis 1 with size 528\n",
      "index 533 is out of bounds for axis 1 with size 528\n",
      "index 529 is out of bounds for axis 1 with size 528\n",
      "index 528 is out of bounds for axis 1 with size 528\n",
      "index 529 is out of bounds for axis 1 with size 528\n",
      "index 529 is out of bounds for axis 1 with size 528\n",
      "index 530 is out of bounds for axis 1 with size 528\n",
      "index 530 is out of bounds for axis 1 with size 528\n",
      "index 533 is out of bounds for axis 1 with size 528\n",
      "index 528 is out of bounds for axis 1 with size 528\n",
      "index 534 is out of bounds for axis 1 with size 528\n",
      "index 528 is out of bounds for axis 1 with size 528\n",
      "index 529 is out of bounds for axis 1 with size 528\n",
      "index 530 is out of bounds for axis 1 with size 528\n",
      "index 530 is out of bounds for axis 1 with size 528\n",
      "index 530 is out of bounds for axis 1 with size 528\n",
      "index 531 is out of bounds for axis 1 with size 528\n",
      "index 528 is out of bounds for axis 1 with size 528\n",
      "index 529 is out of bounds for axis 1 with size 528\n",
      "index 528 is out of bounds for axis 1 with size 528\n",
      "index 529 is out of bounds for axis 1 with size 528\n",
      "index 529 is out of bounds for axis 1 with size 528\n",
      "index 530 is out of bounds for axis 1 with size 528\n",
      "index 530 is out of bounds for axis 1 with size 528\n",
      "index 531 is out of bounds for axis 1 with size 528\n",
      "index 530 is out of bounds for axis 1 with size 528\n",
      "index 535 is out of bounds for axis 1 with size 528\n",
      "index 528 is out of bounds for axis 1 with size 528\n",
      "index 529 is out of bounds for axis 1 with size 528\n",
      "index 529 is out of bounds for axis 1 with size 528\n",
      "index 529 is out of bounds for axis 1 with size 528\n",
      "index 530 is out of bounds for axis 1 with size 528\n",
      "index 530 is out of bounds for axis 1 with size 528\n",
      "index 531 is out of bounds for axis 1 with size 528\n",
      "index 530 is out of bounds for axis 1 with size 528\n",
      "index 530 is out of bounds for axis 1 with size 528\n",
      "index 531 is out of bounds for axis 1 with size 528\n",
      "index 532 is out of bounds for axis 1 with size 528\n",
      "index 533 is out of bounds for axis 1 with size 528\n",
      "index 529 is out of bounds for axis 1 with size 528\n",
      "index 528 is out of bounds for axis 1 with size 528\n",
      "index 528 is out of bounds for axis 1 with size 528\n",
      "index 529 is out of bounds for axis 1 with size 528\n",
      "index 529 is out of bounds for axis 1 with size 528\n",
      "index 528 is out of bounds for axis 1 with size 528\n",
      "index 529 is out of bounds for axis 1 with size 528\n",
      "index 529 is out of bounds for axis 1 with size 528\n",
      "index 529 is out of bounds for axis 1 with size 528\n",
      "index 530 is out of bounds for axis 1 with size 528\n",
      "index 530 is out of bounds for axis 1 with size 528\n",
      "index 530 is out of bounds for axis 1 with size 528\n",
      "index 530 is out of bounds for axis 1 with size 528\n",
      "index 530 is out of bounds for axis 1 with size 528\n",
      "index 531 is out of bounds for axis 1 with size 528\n",
      "index 531 is out of bounds for axis 1 with size 528\n",
      "index 534 is out of bounds for axis 1 with size 528\n",
      "index 528 is out of bounds for axis 1 with size 528\n",
      "index 528 is out of bounds for axis 1 with size 528\n",
      "index 528 is out of bounds for axis 1 with size 528\n",
      "index 528 is out of bounds for axis 1 with size 528\n",
      "index 530 is out of bounds for axis 1 with size 528\n",
      "index 530 is out of bounds for axis 1 with size 528\n",
      "index 530 is out of bounds for axis 1 with size 528\n",
      "index 530 is out of bounds for axis 1 with size 528\n",
      "index 531 is out of bounds for axis 1 with size 528\n",
      "index 533 is out of bounds for axis 1 with size 528\n",
      "index 534 is out of bounds for axis 1 with size 528\n",
      "index 530 is out of bounds for axis 1 with size 528\n",
      "index 528 is out of bounds for axis 1 with size 528\n",
      "index 530 is out of bounds for axis 1 with size 528\n",
      "index 534 is out of bounds for axis 1 with size 528\n",
      "index 529 is out of bounds for axis 1 with size 528\n",
      "index 529 is out of bounds for axis 1 with size 528\n",
      "index 531 is out of bounds for axis 1 with size 528\n",
      "index 531 is out of bounds for axis 1 with size 528\n",
      "index 529 is out of bounds for axis 1 with size 528\n",
      "index 530 is out of bounds for axis 1 with size 528\n",
      "index 528 is out of bounds for axis 1 with size 528\n",
      "index 529 is out of bounds for axis 1 with size 528\n",
      "index 530 is out of bounds for axis 1 with size 528\n",
      "index 528 is out of bounds for axis 1 with size 528\n",
      "index 529 is out of bounds for axis 1 with size 528\n",
      "index 532 is out of bounds for axis 1 with size 528\n",
      "index 534 is out of bounds for axis 1 with size 528\n",
      "index 529 is out of bounds for axis 1 with size 528\n",
      "index 531 is out of bounds for axis 1 with size 528\n",
      "index 528 is out of bounds for axis 1 with size 528\n",
      "index 532 is out of bounds for axis 1 with size 528\n",
      "index 529 is out of bounds for axis 1 with size 528\n",
      "index 533 is out of bounds for axis 1 with size 528\n",
      "index 528 is out of bounds for axis 1 with size 528\n",
      "index 530 is out of bounds for axis 1 with size 528\n",
      "index 529 is out of bounds for axis 1 with size 528\n",
      "index 531 is out of bounds for axis 1 with size 528\n",
      "index 530 is out of bounds for axis 1 with size 528\n",
      "index 529 is out of bounds for axis 1 with size 528\n",
      "index 529 is out of bounds for axis 1 with size 528\n",
      "index 529 is out of bounds for axis 1 with size 528\n",
      "index 528 is out of bounds for axis 1 with size 528\n",
      "index 528 is out of bounds for axis 1 with size 528\n",
      "index 528 is out of bounds for axis 1 with size 528\n",
      "index 531 is out of bounds for axis 1 with size 528\n",
      "index 533 is out of bounds for axis 1 with size 528\n",
      "index 530 is out of bounds for axis 1 with size 528\n",
      "index 532 is out of bounds for axis 1 with size 528\n",
      "index 534 is out of bounds for axis 1 with size 528\n",
      "index 533 is out of bounds for axis 1 with size 528\n",
      "index 530 is out of bounds for axis 1 with size 528\n",
      "index 533 is out of bounds for axis 1 with size 528\n",
      "index 529 is out of bounds for axis 1 with size 528\n",
      "index 528 is out of bounds for axis 1 with size 528\n",
      "index 528 is out of bounds for axis 1 with size 528\n",
      "index 529 is out of bounds for axis 1 with size 528\n",
      "index 529 is out of bounds for axis 1 with size 528\n",
      "index 531 is out of bounds for axis 1 with size 528\n",
      "index 533 is out of bounds for axis 1 with size 528\n",
      "index 528 is out of bounds for axis 1 with size 528\n",
      "index 529 is out of bounds for axis 1 with size 528\n",
      "index 530 is out of bounds for axis 1 with size 528\n",
      "index 531 is out of bounds for axis 1 with size 528\n",
      "index 533 is out of bounds for axis 1 with size 528\n",
      "index 528 is out of bounds for axis 1 with size 528\n",
      "index 531 is out of bounds for axis 1 with size 528\n",
      "index 531 is out of bounds for axis 1 with size 528\n",
      "index 531 is out of bounds for axis 1 with size 528\n",
      "index 528 is out of bounds for axis 1 with size 528\n",
      "index 531 is out of bounds for axis 1 with size 528\n",
      "index 531 is out of bounds for axis 1 with size 528\n",
      "index 532 is out of bounds for axis 1 with size 528\n",
      "index 532 is out of bounds for axis 1 with size 528\n",
      "index 532 is out of bounds for axis 1 with size 528\n",
      "index 531 is out of bounds for axis 1 with size 528\n",
      "index 530 is out of bounds for axis 1 with size 528\n",
      "index 529 is out of bounds for axis 1 with size 528\n",
      "index 528 is out of bounds for axis 1 with size 528\n",
      "index 528 is out of bounds for axis 1 with size 528\n",
      "index 529 is out of bounds for axis 1 with size 528\n",
      "index 531 is out of bounds for axis 1 with size 528\n",
      "index 528 is out of bounds for axis 1 with size 528\n",
      "index 529 is out of bounds for axis 1 with size 528\n",
      "index 530 is out of bounds for axis 1 with size 528\n",
      "index 528 is out of bounds for axis 1 with size 528\n",
      "index 528 is out of bounds for axis 1 with size 528\n",
      "index 528 is out of bounds for axis 1 with size 528\n",
      "index 529 is out of bounds for axis 1 with size 528\n",
      "index 528 is out of bounds for axis 1 with size 528\n",
      "index 530 is out of bounds for axis 1 with size 528\n",
      "index 531 is out of bounds for axis 1 with size 528\n",
      "index 528 is out of bounds for axis 1 with size 528\n",
      "index 532 is out of bounds for axis 1 with size 528\n",
      "index 529 is out of bounds for axis 1 with size 528\n",
      "index 532 is out of bounds for axis 1 with size 528\n",
      "index 531 is out of bounds for axis 1 with size 528\n",
      "index 531 is out of bounds for axis 1 with size 528\n",
      "index 531 is out of bounds for axis 1 with size 528\n",
      "index 531 is out of bounds for axis 1 with size 528\n",
      "index 531 is out of bounds for axis 1 with size 528\n",
      "index 530 is out of bounds for axis 1 with size 528\n",
      "index 530 is out of bounds for axis 1 with size 528\n",
      "index 530 is out of bounds for axis 1 with size 528\n",
      "index 528 is out of bounds for axis 1 with size 528\n",
      "index 531 is out of bounds for axis 1 with size 528\n",
      "index 531 is out of bounds for axis 1 with size 528\n",
      "index 530 is out of bounds for axis 1 with size 528\n",
      "index 531 is out of bounds for axis 1 with size 528\n",
      "index 528 is out of bounds for axis 1 with size 528\n",
      "index 529 is out of bounds for axis 1 with size 528\n",
      "index 532 is out of bounds for axis 1 with size 528\n",
      "index 531 is out of bounds for axis 1 with size 528\n",
      "index 528 is out of bounds for axis 1 with size 528\n",
      "index 528 is out of bounds for axis 1 with size 528\n",
      "index 528 is out of bounds for axis 1 with size 528\n",
      "index 528 is out of bounds for axis 1 with size 528\n",
      "index 528 is out of bounds for axis 1 with size 528\n",
      "index 531 is out of bounds for axis 1 with size 528\n",
      "index 532 is out of bounds for axis 1 with size 528\n",
      "index 532 is out of bounds for axis 1 with size 528\n",
      "index 532 is out of bounds for axis 1 with size 528\n",
      "index 528 is out of bounds for axis 1 with size 528\n",
      "index 532 is out of bounds for axis 1 with size 528\n",
      "index 530 is out of bounds for axis 1 with size 528\n",
      "index 529 is out of bounds for axis 1 with size 528\n",
      "index 528 is out of bounds for axis 1 with size 528\n",
      "index 528 is out of bounds for axis 1 with size 528\n",
      "index 528 is out of bounds for axis 1 with size 528\n",
      "index 528 is out of bounds for axis 1 with size 528\n",
      "index 529 is out of bounds for axis 1 with size 528\n",
      "index 528 is out of bounds for axis 1 with size 528\n",
      "index 533 is out of bounds for axis 1 with size 528\n",
      "index 531 is out of bounds for axis 1 with size 528\n",
      "index 532 is out of bounds for axis 1 with size 528\n",
      "index 528 is out of bounds for axis 1 with size 528\n",
      "index 528 is out of bounds for axis 1 with size 528\n",
      "index 532 is out of bounds for axis 1 with size 528\n",
      "index 528 is out of bounds for axis 1 with size 528\n",
      "index 533 is out of bounds for axis 1 with size 528\n",
      "index 536 is out of bounds for axis 1 with size 528\n",
      "index 533 is out of bounds for axis 1 with size 528\n",
      "index 531 is out of bounds for axis 1 with size 528\n",
      "index 528 is out of bounds for axis 1 with size 528\n",
      "index 528 is out of bounds for axis 1 with size 528\n",
      "index 536 is out of bounds for axis 1 with size 528\n",
      "index 528 is out of bounds for axis 1 with size 528\n",
      "index 530 is out of bounds for axis 1 with size 528\n",
      "index 537 is out of bounds for axis 1 with size 528\n",
      "index 528 is out of bounds for axis 1 with size 528\n",
      "index 535 is out of bounds for axis 1 with size 528\n",
      "index 536 is out of bounds for axis 1 with size 528\n",
      "index 537 is out of bounds for axis 1 with size 528\n",
      "index 539 is out of bounds for axis 1 with size 528\n",
      "index 533 is out of bounds for axis 1 with size 528\n",
      "index 533 is out of bounds for axis 1 with size 528\n",
      "index 534 is out of bounds for axis 1 with size 528\n",
      "index 537 is out of bounds for axis 1 with size 528\n",
      "index 536 is out of bounds for axis 1 with size 528\n",
      "index 541 is out of bounds for axis 1 with size 528\n",
      "index 540 is out of bounds for axis 1 with size 528\n",
      "index 537 is out of bounds for axis 1 with size 528\n",
      "index 537 is out of bounds for axis 1 with size 528\n",
      "index 540 is out of bounds for axis 1 with size 528\n",
      "index 531 is out of bounds for axis 1 with size 528\n",
      "index 531 is out of bounds for axis 1 with size 528\n",
      "index 538 is out of bounds for axis 1 with size 528\n",
      "index 538 is out of bounds for axis 1 with size 528\n",
      "index 539 is out of bounds for axis 1 with size 528\n",
      "index 541 is out of bounds for axis 1 with size 528\n",
      "index 535 is out of bounds for axis 1 with size 528\n",
      "index 530 is out of bounds for axis 1 with size 528\n",
      "index 533 is out of bounds for axis 1 with size 528\n",
      "index 533 is out of bounds for axis 1 with size 528\n",
      "index 529 is out of bounds for axis 1 with size 528\n",
      "index 529 is out of bounds for axis 1 with size 528\n",
      "index 531 is out of bounds for axis 1 with size 528\n",
      "index 532 is out of bounds for axis 1 with size 528\n",
      "index 529 is out of bounds for axis 1 with size 528\n",
      "index 530 is out of bounds for axis 1 with size 528\n",
      "index 529 is out of bounds for axis 1 with size 528\n",
      "index 530 is out of bounds for axis 1 with size 528\n",
      "index 530 is out of bounds for axis 1 with size 528\n",
      "index 539 is out of bounds for axis 1 with size 528\n",
      "index 541 is out of bounds for axis 1 with size 528\n",
      "index 531 is out of bounds for axis 1 with size 528\n",
      "index 534 is out of bounds for axis 1 with size 528\n",
      "index 528 is out of bounds for axis 1 with size 528\n",
      "index 528 is out of bounds for axis 1 with size 528\n",
      "index 531 is out of bounds for axis 1 with size 528\n",
      "index 531 is out of bounds for axis 1 with size 528\n",
      "index 532 is out of bounds for axis 1 with size 528\n",
      "index 541 is out of bounds for axis 1 with size 528\n",
      "index 531 is out of bounds for axis 1 with size 528\n",
      "index 529 is out of bounds for axis 1 with size 528\n",
      "index 531 is out of bounds for axis 1 with size 528\n",
      "index 529 is out of bounds for axis 1 with size 528\n",
      "index 533 is out of bounds for axis 1 with size 528\n",
      "index 534 is out of bounds for axis 1 with size 528\n",
      "index 528 is out of bounds for axis 1 with size 528\n",
      "index 538 is out of bounds for axis 1 with size 528\n",
      "index 532 is out of bounds for axis 1 with size 528\n",
      "index 534 is out of bounds for axis 1 with size 528\n",
      "index 536 is out of bounds for axis 1 with size 528\n",
      "index 538 is out of bounds for axis 1 with size 528\n",
      "index 528 is out of bounds for axis 1 with size 528\n",
      "index 528 is out of bounds for axis 1 with size 528\n",
      "index 531 is out of bounds for axis 1 with size 528\n",
      "index 533 is out of bounds for axis 1 with size 528\n",
      "index 535 is out of bounds for axis 1 with size 528\n",
      "index 529 is out of bounds for axis 1 with size 528\n",
      "index 529 is out of bounds for axis 1 with size 528\n",
      "index 528 is out of bounds for axis 1 with size 528\n",
      "index 537 is out of bounds for axis 1 with size 528\n",
      "index 533 is out of bounds for axis 1 with size 528\n",
      "index 533 is out of bounds for axis 1 with size 528\n",
      "index 530 is out of bounds for axis 1 with size 528\n",
      "index 534 is out of bounds for axis 1 with size 528\n",
      "index 535 is out of bounds for axis 1 with size 528\n",
      "index 544 is out of bounds for axis 1 with size 528\n",
      "index 530 is out of bounds for axis 1 with size 528\n",
      "index 528 is out of bounds for axis 1 with size 528\n",
      "index 529 is out of bounds for axis 1 with size 528\n",
      "index 532 is out of bounds for axis 1 with size 528\n",
      "index 534 is out of bounds for axis 1 with size 528\n",
      "index 534 is out of bounds for axis 1 with size 528\n",
      "index 534 is out of bounds for axis 1 with size 528\n",
      "index 539 is out of bounds for axis 1 with size 528\n",
      "index 545 is out of bounds for axis 1 with size 528\n",
      "index 533 is out of bounds for axis 1 with size 528\n",
      "index 528 is out of bounds for axis 1 with size 528\n",
      "index 529 is out of bounds for axis 1 with size 528\n",
      "index 529 is out of bounds for axis 1 with size 528\n",
      "index 529 is out of bounds for axis 1 with size 528\n",
      "index 530 is out of bounds for axis 1 with size 528\n",
      "index 531 is out of bounds for axis 1 with size 528\n",
      "index 531 is out of bounds for axis 1 with size 528\n",
      "index 542 is out of bounds for axis 1 with size 528\n",
      "index 533 is out of bounds for axis 1 with size 528\n",
      "index 529 is out of bounds for axis 1 with size 528\n",
      "index 536 is out of bounds for axis 1 with size 528\n",
      "index 533 is out of bounds for axis 1 with size 528\n",
      "index 528 is out of bounds for axis 1 with size 528\n",
      "index 528 is out of bounds for axis 1 with size 528\n",
      "index 529 is out of bounds for axis 1 with size 528\n",
      "index 528 is out of bounds for axis 1 with size 528\n",
      "index 535 is out of bounds for axis 1 with size 528\n",
      "index 536 is out of bounds for axis 1 with size 528\n",
      "index 529 is out of bounds for axis 1 with size 528\n",
      "index 533 is out of bounds for axis 1 with size 528\n",
      "index 528 is out of bounds for axis 1 with size 528\n",
      "index 533 is out of bounds for axis 1 with size 528\n",
      "index 533 is out of bounds for axis 1 with size 528\n",
      "index 536 is out of bounds for axis 1 with size 528\n",
      "index 537 is out of bounds for axis 1 with size 528\n",
      "index 538 is out of bounds for axis 1 with size 528\n",
      "index 541 is out of bounds for axis 1 with size 528\n",
      "index 529 is out of bounds for axis 1 with size 528\n",
      "index 530 is out of bounds for axis 1 with size 528\n",
      "index 529 is out of bounds for axis 1 with size 528\n",
      "index 531 is out of bounds for axis 1 with size 528\n",
      "index 533 is out of bounds for axis 1 with size 528\n",
      "index 536 is out of bounds for axis 1 with size 528\n",
      "index 536 is out of bounds for axis 1 with size 528\n",
      "index 532 is out of bounds for axis 1 with size 528\n",
      "index 532 is out of bounds for axis 1 with size 528\n",
      "index 532 is out of bounds for axis 1 with size 528\n",
      "index 536 is out of bounds for axis 1 with size 528\n",
      "index 538 is out of bounds for axis 1 with size 528\n",
      "index 547 is out of bounds for axis 1 with size 528\n",
      "index 533 is out of bounds for axis 1 with size 528\n",
      "index 537 is out of bounds for axis 1 with size 528\n",
      "index 542 is out of bounds for axis 1 with size 528\n",
      "index 546 is out of bounds for axis 1 with size 528\n",
      "index 548 is out of bounds for axis 1 with size 528\n",
      "index 531 is out of bounds for axis 1 with size 528\n",
      "index 530 is out of bounds for axis 1 with size 528\n",
      "index 531 is out of bounds for axis 1 with size 528\n",
      "index 533 is out of bounds for axis 1 with size 528\n",
      "index 535 is out of bounds for axis 1 with size 528\n",
      "index 538 is out of bounds for axis 1 with size 528\n",
      "index 529 is out of bounds for axis 1 with size 528\n",
      "index 534 is out of bounds for axis 1 with size 528\n",
      "index 547 is out of bounds for axis 1 with size 528\n",
      "index 546 is out of bounds for axis 1 with size 528\n",
      "index 546 is out of bounds for axis 1 with size 528\n",
      "index 546 is out of bounds for axis 1 with size 528\n",
      "index 528 is out of bounds for axis 1 with size 528\n",
      "index 531 is out of bounds for axis 1 with size 528\n",
      "index 544 is out of bounds for axis 1 with size 528\n",
      "index 530 is out of bounds for axis 1 with size 528\n",
      "index 543 is out of bounds for axis 1 with size 528\n",
      "index 529 is out of bounds for axis 1 with size 528\n",
      "index 528 is out of bounds for axis 1 with size 528\n",
      "index 528 is out of bounds for axis 1 with size 528\n",
      "index 542 is out of bounds for axis 1 with size 528\n",
      "index 529 is out of bounds for axis 1 with size 528\n",
      "index 531 is out of bounds for axis 1 with size 528\n",
      "index 529 is out of bounds for axis 1 with size 528\n",
      "index 536 is out of bounds for axis 1 with size 528\n",
      "index 543 is out of bounds for axis 1 with size 528\n",
      "index 544 is out of bounds for axis 1 with size 528\n",
      "index 544 is out of bounds for axis 1 with size 528\n",
      "index 546 is out of bounds for axis 1 with size 528\n",
      "index 545 is out of bounds for axis 1 with size 528\n",
      "index 528 is out of bounds for axis 1 with size 528\n",
      "index 530 is out of bounds for axis 1 with size 528\n",
      "index 533 is out of bounds for axis 1 with size 528\n",
      "index 530 is out of bounds for axis 1 with size 528\n",
      "index 528 is out of bounds for axis 1 with size 528\n",
      "index 530 is out of bounds for axis 1 with size 528\n",
      "index 534 is out of bounds for axis 1 with size 528\n",
      "index 538 is out of bounds for axis 1 with size 528\n",
      "index 539 is out of bounds for axis 1 with size 528\n",
      "index 540 is out of bounds for axis 1 with size 528\n",
      "index 545 is out of bounds for axis 1 with size 528\n",
      "index 528 is out of bounds for axis 1 with size 528\n",
      "index 537 is out of bounds for axis 1 with size 528\n",
      "index 544 is out of bounds for axis 1 with size 528\n",
      "index 544 is out of bounds for axis 1 with size 528\n",
      "index 544 is out of bounds for axis 1 with size 528\n",
      "index 545 is out of bounds for axis 1 with size 528\n",
      "index 528 is out of bounds for axis 1 with size 528\n",
      "index 529 is out of bounds for axis 1 with size 528\n",
      "index 537 is out of bounds for axis 1 with size 528\n",
      "index 538 is out of bounds for axis 1 with size 528\n",
      "index 544 is out of bounds for axis 1 with size 528\n",
      "index 528 is out of bounds for axis 1 with size 528\n",
      "index 529 is out of bounds for axis 1 with size 528\n",
      "index 543 is out of bounds for axis 1 with size 528\n",
      "index 528 is out of bounds for axis 1 with size 528\n",
      "index 529 is out of bounds for axis 1 with size 528\n",
      "index 539 is out of bounds for axis 1 with size 528\n",
      "index 528 is out of bounds for axis 1 with size 528\n",
      "index 529 is out of bounds for axis 1 with size 528\n",
      "index 529 is out of bounds for axis 1 with size 528\n",
      "index 539 is out of bounds for axis 1 with size 528\n",
      "index 540 is out of bounds for axis 1 with size 528\n",
      "index 544 is out of bounds for axis 1 with size 528\n",
      "index 544 is out of bounds for axis 1 with size 528\n",
      "index 529 is out of bounds for axis 1 with size 528\n",
      "index 537 is out of bounds for axis 1 with size 528\n",
      "index 556 is out of bounds for axis 1 with size 528\n",
      "index 560 is out of bounds for axis 1 with size 528\n",
      "index 536 is out of bounds for axis 1 with size 528\n",
      "index 537 is out of bounds for axis 1 with size 528\n",
      "index 528 is out of bounds for axis 1 with size 528\n",
      "index 528 is out of bounds for axis 1 with size 528\n",
      "index 528 is out of bounds for axis 1 with size 528\n",
      "index 528 is out of bounds for axis 1 with size 528\n",
      "index 555 is out of bounds for axis 1 with size 528\n",
      "index 560 is out of bounds for axis 1 with size 528\n",
      "index 555 is out of bounds for axis 1 with size 528\n",
      "index 529 is out of bounds for axis 1 with size 528\n",
      "index 543 is out of bounds for axis 1 with size 528\n",
      "index 537 is out of bounds for axis 1 with size 528\n",
      "index 554 is out of bounds for axis 1 with size 528\n",
      "index 555 is out of bounds for axis 1 with size 528\n",
      "index 546 is out of bounds for axis 1 with size 528\n",
      "index 553 is out of bounds for axis 1 with size 528\n",
      "index 553 is out of bounds for axis 1 with size 528\n",
      "index 554 is out of bounds for axis 1 with size 528\n",
      "index 554 is out of bounds for axis 1 with size 528\n",
      "index 554 is out of bounds for axis 1 with size 528\n",
      "index 555 is out of bounds for axis 1 with size 528\n",
      "index 544 is out of bounds for axis 1 with size 528\n",
      "index 545 is out of bounds for axis 1 with size 528\n",
      "index 528 is out of bounds for axis 1 with size 528\n",
      "index 529 is out of bounds for axis 1 with size 528\n",
      "index 531 is out of bounds for axis 1 with size 528\n",
      "index 537 is out of bounds for axis 1 with size 528\n",
      "index 537 is out of bounds for axis 1 with size 528\n",
      "index 551 is out of bounds for axis 1 with size 528\n",
      "index 545 is out of bounds for axis 1 with size 528\n",
      "index 528 is out of bounds for axis 1 with size 528\n",
      "index 539 is out of bounds for axis 1 with size 528\n",
      "index 555 is out of bounds for axis 1 with size 528\n",
      "index 528 is out of bounds for axis 1 with size 528\n",
      "index 528 is out of bounds for axis 1 with size 528\n",
      "index 531 is out of bounds for axis 1 with size 528\n",
      "index 551 is out of bounds for axis 1 with size 528\n",
      "index 540 is out of bounds for axis 1 with size 528\n",
      "index 552 is out of bounds for axis 1 with size 528\n",
      "index 554 is out of bounds for axis 1 with size 528\n",
      "index 537 is out of bounds for axis 1 with size 528\n",
      "index 550 is out of bounds for axis 1 with size 528\n",
      "index 543 is out of bounds for axis 1 with size 528\n",
      "index 528 is out of bounds for axis 1 with size 528\n",
      "index 549 is out of bounds for axis 1 with size 528\n",
      "index 553 is out of bounds for axis 1 with size 528\n",
      "index 555 is out of bounds for axis 1 with size 528\n",
      "index 547 is out of bounds for axis 1 with size 528\n",
      "index 528 is out of bounds for axis 1 with size 528\n",
      "index 549 is out of bounds for axis 1 with size 528\n",
      "index 553 is out of bounds for axis 1 with size 528\n",
      "index 531 is out of bounds for axis 1 with size 528\n",
      "index 534 is out of bounds for axis 1 with size 528\n",
      "index 548 is out of bounds for axis 1 with size 528\n",
      "index 529 is out of bounds for axis 1 with size 528\n",
      "index 530 is out of bounds for axis 1 with size 528\n",
      "index 529 is out of bounds for axis 1 with size 528\n",
      "index 532 is out of bounds for axis 1 with size 528\n",
      "index 546 is out of bounds for axis 1 with size 528\n",
      "index 531 is out of bounds for axis 1 with size 528\n",
      "index 529 is out of bounds for axis 1 with size 528\n",
      "index 548 is out of bounds for axis 1 with size 528\n",
      "index 530 is out of bounds for axis 1 with size 528\n",
      "index 554 is out of bounds for axis 1 with size 528\n",
      "index 530 is out of bounds for axis 1 with size 528\n",
      "index 537 is out of bounds for axis 1 with size 528\n",
      "index 548 is out of bounds for axis 1 with size 528\n",
      "index 550 is out of bounds for axis 1 with size 528\n",
      "index 548 is out of bounds for axis 1 with size 528\n",
      "index 551 is out of bounds for axis 1 with size 528\n",
      "index 529 is out of bounds for axis 1 with size 528\n",
      "index 532 is out of bounds for axis 1 with size 528\n",
      "index 540 is out of bounds for axis 1 with size 528\n",
      "index 529 is out of bounds for axis 1 with size 528\n",
      "index 529 is out of bounds for axis 1 with size 528\n",
      "index 545 is out of bounds for axis 1 with size 528\n",
      "index 537 is out of bounds for axis 1 with size 528\n",
      "index 542 is out of bounds for axis 1 with size 528\n",
      "index 529 is out of bounds for axis 1 with size 528\n",
      "index 532 is out of bounds for axis 1 with size 528\n",
      "index 531 is out of bounds for axis 1 with size 528\n",
      "index 542 is out of bounds for axis 1 with size 528\n",
      "index 545 is out of bounds for axis 1 with size 528\n",
      "index 546 is out of bounds for axis 1 with size 528\n",
      "index 549 is out of bounds for axis 1 with size 528\n",
      "index 551 is out of bounds for axis 1 with size 528\n",
      "index 542 is out of bounds for axis 1 with size 528\n",
      "index 544 is out of bounds for axis 1 with size 528\n",
      "index 538 is out of bounds for axis 1 with size 528\n",
      "index 550 is out of bounds for axis 1 with size 528\n",
      "index 541 is out of bounds for axis 1 with size 528\n",
      "index 542 is out of bounds for axis 1 with size 528\n",
      "index 529 is out of bounds for axis 1 with size 528\n",
      "index 539 is out of bounds for axis 1 with size 528\n",
      "index 533 is out of bounds for axis 1 with size 528\n",
      "index 533 is out of bounds for axis 1 with size 528\n",
      "index 546 is out of bounds for axis 1 with size 528\n",
      "index 550 is out of bounds for axis 1 with size 528\n",
      "index 541 is out of bounds for axis 1 with size 528\n",
      "index 543 is out of bounds for axis 1 with size 528\n",
      "index 548 is out of bounds for axis 1 with size 528\n",
      "index 531 is out of bounds for axis 1 with size 528\n",
      "index 534 is out of bounds for axis 1 with size 528\n",
      "index 545 is out of bounds for axis 1 with size 528\n",
      "index 542 is out of bounds for axis 1 with size 528\n",
      "index 528 is out of bounds for axis 1 with size 528\n",
      "index 532 is out of bounds for axis 1 with size 528\n",
      "index 534 is out of bounds for axis 1 with size 528\n",
      "index 535 is out of bounds for axis 1 with size 528\n",
      "index 536 is out of bounds for axis 1 with size 528\n",
      "index 544 is out of bounds for axis 1 with size 528\n",
      "index 545 is out of bounds for axis 1 with size 528\n",
      "index 549 is out of bounds for axis 1 with size 528\n",
      "index 549 is out of bounds for axis 1 with size 528\n",
      "index 536 is out of bounds for axis 1 with size 528\n",
      "index 531 is out of bounds for axis 1 with size 528\n",
      "index 532 is out of bounds for axis 1 with size 528\n",
      "index 542 is out of bounds for axis 1 with size 528\n",
      "index 543 is out of bounds for axis 1 with size 528\n",
      "index 545 is out of bounds for axis 1 with size 528\n",
      "index 530 is out of bounds for axis 1 with size 528\n",
      "index 532 is out of bounds for axis 1 with size 528\n",
      "index 530 is out of bounds for axis 1 with size 528\n",
      "index 541 is out of bounds for axis 1 with size 528\n",
      "index 534 is out of bounds for axis 1 with size 528\n",
      "index 529 is out of bounds for axis 1 with size 528\n",
      "index 529 is out of bounds for axis 1 with size 528\n",
      "index 537 is out of bounds for axis 1 with size 528\n",
      "index 532 is out of bounds for axis 1 with size 528\n",
      "index 533 is out of bounds for axis 1 with size 528\n",
      "index 532 is out of bounds for axis 1 with size 528\n",
      "index 540 is out of bounds for axis 1 with size 528\n",
      "index 543 is out of bounds for axis 1 with size 528\n",
      "index 543 is out of bounds for axis 1 with size 528\n",
      "index 537 is out of bounds for axis 1 with size 528\n",
      "index 548 is out of bounds for axis 1 with size 528\n",
      "index 543 is out of bounds for axis 1 with size 528\n",
      "index 544 is out of bounds for axis 1 with size 528\n",
      "index 546 is out of bounds for axis 1 with size 528\n",
      "index 529 is out of bounds for axis 1 with size 528\n",
      "index 528 is out of bounds for axis 1 with size 528\n",
      "index 529 is out of bounds for axis 1 with size 528\n",
      "index 537 is out of bounds for axis 1 with size 528\n",
      "index 541 is out of bounds for axis 1 with size 528\n",
      "index 542 is out of bounds for axis 1 with size 528\n",
      "index 543 is out of bounds for axis 1 with size 528\n",
      "index 528 is out of bounds for axis 1 with size 528\n",
      "index 535 is out of bounds for axis 1 with size 528\n",
      "index 532 is out of bounds for axis 1 with size 528\n",
      "index 541 is out of bounds for axis 1 with size 528\n",
      "index 541 is out of bounds for axis 1 with size 528\n",
      "index 541 is out of bounds for axis 1 with size 528\n",
      "index 536 is out of bounds for axis 1 with size 528\n",
      "index 545 is out of bounds for axis 1 with size 528\n",
      "index 545 is out of bounds for axis 1 with size 528\n",
      "index 538 is out of bounds for axis 1 with size 528\n",
      "index 546 is out of bounds for axis 1 with size 528\n",
      "index 541 is out of bounds for axis 1 with size 528\n",
      "index 545 is out of bounds for axis 1 with size 528\n",
      "index 528 is out of bounds for axis 1 with size 528\n",
      "index 528 is out of bounds for axis 1 with size 528\n",
      "index 532 is out of bounds for axis 1 with size 528\n",
      "index 530 is out of bounds for axis 1 with size 528\n",
      "index 531 is out of bounds for axis 1 with size 528\n",
      "index 531 is out of bounds for axis 1 with size 528\n",
      "index 533 is out of bounds for axis 1 with size 528\n",
      "index 541 is out of bounds for axis 1 with size 528\n",
      "index 542 is out of bounds for axis 1 with size 528\n",
      "index 543 is out of bounds for axis 1 with size 528\n",
      "index 542 is out of bounds for axis 1 with size 528\n",
      "index 542 is out of bounds for axis 1 with size 528\n",
      "index 544 is out of bounds for axis 1 with size 528\n",
      "index 536 is out of bounds for axis 1 with size 528\n",
      "index 533 is out of bounds for axis 1 with size 528\n",
      "index 533 is out of bounds for axis 1 with size 528\n",
      "index 535 is out of bounds for axis 1 with size 528\n",
      "index 530 is out of bounds for axis 1 with size 528\n",
      "index 539 is out of bounds for axis 1 with size 528\n",
      "index 530 is out of bounds for axis 1 with size 528\n",
      "index 540 is out of bounds for axis 1 with size 528\n",
      "index 537 is out of bounds for axis 1 with size 528\n",
      "index 547 is out of bounds for axis 1 with size 528\n",
      "index 546 is out of bounds for axis 1 with size 528\n",
      "index 545 is out of bounds for axis 1 with size 528\n",
      "index 529 is out of bounds for axis 1 with size 528\n",
      "index 529 is out of bounds for axis 1 with size 528\n",
      "index 530 is out of bounds for axis 1 with size 528\n",
      "index 533 is out of bounds for axis 1 with size 528\n",
      "index 540 is out of bounds for axis 1 with size 528\n",
      "index 539 is out of bounds for axis 1 with size 528\n",
      "index 536 is out of bounds for axis 1 with size 528\n",
      "index 545 is out of bounds for axis 1 with size 528\n",
      "index 529 is out of bounds for axis 1 with size 528\n",
      "index 533 is out of bounds for axis 1 with size 528\n",
      "index 537 is out of bounds for axis 1 with size 528\n",
      "index 538 is out of bounds for axis 1 with size 528\n",
      "index 542 is out of bounds for axis 1 with size 528\n",
      "index 528 is out of bounds for axis 1 with size 528\n",
      "index 529 is out of bounds for axis 1 with size 528\n",
      "index 532 is out of bounds for axis 1 with size 528\n",
      "index 531 is out of bounds for axis 1 with size 528\n",
      "index 533 is out of bounds for axis 1 with size 528\n",
      "index 533 is out of bounds for axis 1 with size 528\n",
      "index 534 is out of bounds for axis 1 with size 528\n",
      "index 534 is out of bounds for axis 1 with size 528\n",
      "index 539 is out of bounds for axis 1 with size 528\n",
      "index 540 is out of bounds for axis 1 with size 528\n",
      "index 542 is out of bounds for axis 1 with size 528\n",
      "index 538 is out of bounds for axis 1 with size 528\n",
      "index 544 is out of bounds for axis 1 with size 528\n",
      "index 547 is out of bounds for axis 1 with size 528\n",
      "index 530 is out of bounds for axis 1 with size 528\n",
      "index 531 is out of bounds for axis 1 with size 528\n",
      "index 537 is out of bounds for axis 1 with size 528\n",
      "index 537 is out of bounds for axis 1 with size 528\n",
      "index 538 is out of bounds for axis 1 with size 528\n",
      "index 542 is out of bounds for axis 1 with size 528\n",
      "index 529 is out of bounds for axis 1 with size 528\n",
      "index 532 is out of bounds for axis 1 with size 528\n",
      "index 532 is out of bounds for axis 1 with size 528\n",
      "index 533 is out of bounds for axis 1 with size 528\n",
      "index 528 is out of bounds for axis 1 with size 528\n",
      "index 535 is out of bounds for axis 1 with size 528\n",
      "index 537 is out of bounds for axis 1 with size 528\n",
      "index 534 is out of bounds for axis 1 with size 528\n",
      "index 545 is out of bounds for axis 1 with size 528\n",
      "index 529 is out of bounds for axis 1 with size 528\n",
      "index 535 is out of bounds for axis 1 with size 528\n",
      "index 535 is out of bounds for axis 1 with size 528\n",
      "index 543 is out of bounds for axis 1 with size 528\n",
      "index 540 is out of bounds for axis 1 with size 528\n",
      "index 530 is out of bounds for axis 1 with size 528\n",
      "index 533 is out of bounds for axis 1 with size 528\n",
      "index 537 is out of bounds for axis 1 with size 528\n",
      "index 539 is out of bounds for axis 1 with size 528\n",
      "index 531 is out of bounds for axis 1 with size 528\n",
      "index 531 is out of bounds for axis 1 with size 528\n",
      "index 539 is out of bounds for axis 1 with size 528\n",
      "index 540 is out of bounds for axis 1 with size 528\n",
      "index 537 is out of bounds for axis 1 with size 528\n",
      "index 538 is out of bounds for axis 1 with size 528\n",
      "index 544 is out of bounds for axis 1 with size 528\n",
      "index 531 is out of bounds for axis 1 with size 528\n",
      "index 529 is out of bounds for axis 1 with size 528\n",
      "index 536 is out of bounds for axis 1 with size 528\n",
      "index 537 is out of bounds for axis 1 with size 528\n",
      "index 537 is out of bounds for axis 1 with size 528\n",
      "index 531 is out of bounds for axis 1 with size 528\n",
      "index 538 is out of bounds for axis 1 with size 528\n",
      "index 531 is out of bounds for axis 1 with size 528\n",
      "index 535 is out of bounds for axis 1 with size 528\n",
      "index 540 is out of bounds for axis 1 with size 528\n",
      "index 528 is out of bounds for axis 1 with size 528\n",
      "index 530 is out of bounds for axis 1 with size 528\n",
      "index 532 is out of bounds for axis 1 with size 528\n",
      "index 528 is out of bounds for axis 1 with size 528\n",
      "index 528 is out of bounds for axis 1 with size 528\n",
      "index 530 is out of bounds for axis 1 with size 528\n",
      "index 530 is out of bounds for axis 1 with size 528\n",
      "index 536 is out of bounds for axis 1 with size 528\n",
      "index 539 is out of bounds for axis 1 with size 528\n",
      "index 538 is out of bounds for axis 1 with size 528\n",
      "index 545 is out of bounds for axis 1 with size 528\n",
      "index 545 is out of bounds for axis 1 with size 528\n",
      "index 529 is out of bounds for axis 1 with size 528\n",
      "index 534 is out of bounds for axis 1 with size 528\n",
      "index 529 is out of bounds for axis 1 with size 528\n",
      "index 542 is out of bounds for axis 1 with size 528\n",
      "index 545 is out of bounds for axis 1 with size 528\n",
      "index 531 is out of bounds for axis 1 with size 528\n",
      "index 530 is out of bounds for axis 1 with size 528\n",
      "index 536 is out of bounds for axis 1 with size 528\n",
      "index 532 is out of bounds for axis 1 with size 528\n",
      "index 545 is out of bounds for axis 1 with size 528\n",
      "index 532 is out of bounds for axis 1 with size 528\n",
      "index 528 is out of bounds for axis 1 with size 528\n",
      "index 540 is out of bounds for axis 1 with size 528\n",
      "index 542 is out of bounds for axis 1 with size 528\n",
      "index 539 is out of bounds for axis 1 with size 528\n",
      "index 539 is out of bounds for axis 1 with size 528\n",
      "index 545 is out of bounds for axis 1 with size 528\n",
      "index 535 is out of bounds for axis 1 with size 528\n",
      "index 541 is out of bounds for axis 1 with size 528\n",
      "index 531 is out of bounds for axis 1 with size 528\n",
      "index 545 is out of bounds for axis 1 with size 528\n",
      "index 528 is out of bounds for axis 1 with size 528\n",
      "index 528 is out of bounds for axis 1 with size 528\n",
      "index 545 is out of bounds for axis 1 with size 528\n",
      "index 530 is out of bounds for axis 1 with size 528\n",
      "index 528 is out of bounds for axis 1 with size 528\n",
      "index 533 is out of bounds for axis 1 with size 528\n",
      "index 533 is out of bounds for axis 1 with size 528\n",
      "index 529 is out of bounds for axis 1 with size 528\n",
      "index 539 is out of bounds for axis 1 with size 528\n",
      "index 545 is out of bounds for axis 1 with size 528\n",
      "index 529 is out of bounds for axis 1 with size 528\n",
      "index 533 is out of bounds for axis 1 with size 528\n",
      "index 533 is out of bounds for axis 1 with size 528\n",
      "index 529 is out of bounds for axis 1 with size 528\n",
      "index 529 is out of bounds for axis 1 with size 528\n",
      "index 529 is out of bounds for axis 1 with size 528\n",
      "index 538 is out of bounds for axis 1 with size 528\n",
      "index 540 is out of bounds for axis 1 with size 528\n",
      "index 544 is out of bounds for axis 1 with size 528\n",
      "index 545 is out of bounds for axis 1 with size 528\n",
      "index 544 is out of bounds for axis 1 with size 528\n",
      "index 529 is out of bounds for axis 1 with size 528\n",
      "index 529 is out of bounds for axis 1 with size 528\n",
      "index 531 is out of bounds for axis 1 with size 528\n",
      "index 532 is out of bounds for axis 1 with size 528\n",
      "index 534 is out of bounds for axis 1 with size 528\n",
      "index 528 is out of bounds for axis 1 with size 528\n",
      "index 532 is out of bounds for axis 1 with size 528\n",
      "index 541 is out of bounds for axis 1 with size 528\n",
      "index 528 is out of bounds for axis 1 with size 528\n",
      "index 529 is out of bounds for axis 1 with size 528\n",
      "index 534 is out of bounds for axis 1 with size 528\n",
      "index 528 is out of bounds for axis 1 with size 528\n",
      "index 531 is out of bounds for axis 1 with size 528\n",
      "index 538 is out of bounds for axis 1 with size 528\n",
      "index 542 is out of bounds for axis 1 with size 528\n",
      "index 530 is out of bounds for axis 1 with size 528\n",
      "index 528 is out of bounds for axis 1 with size 528\n",
      "index 531 is out of bounds for axis 1 with size 528\n",
      "index 529 is out of bounds for axis 1 with size 528\n",
      "index 529 is out of bounds for axis 1 with size 528\n",
      "index 528 is out of bounds for axis 1 with size 528\n",
      "index 536 is out of bounds for axis 1 with size 528\n",
      "index 539 is out of bounds for axis 1 with size 528\n",
      "index 540 is out of bounds for axis 1 with size 528\n",
      "index 539 is out of bounds for axis 1 with size 528\n",
      "index 544 is out of bounds for axis 1 with size 528\n",
      "index 528 is out of bounds for axis 1 with size 528\n",
      "index 530 is out of bounds for axis 1 with size 528\n",
      "index 530 is out of bounds for axis 1 with size 528\n",
      "index 531 is out of bounds for axis 1 with size 528\n",
      "index 528 is out of bounds for axis 1 with size 528\n",
      "index 529 is out of bounds for axis 1 with size 528\n",
      "index 534 is out of bounds for axis 1 with size 528\n",
      "index 536 is out of bounds for axis 1 with size 528\n",
      "index 538 is out of bounds for axis 1 with size 528\n",
      "index 541 is out of bounds for axis 1 with size 528\n",
      "index 543 is out of bounds for axis 1 with size 528\n",
      "index 529 is out of bounds for axis 1 with size 528\n",
      "index 529 is out of bounds for axis 1 with size 528\n",
      "index 535 is out of bounds for axis 1 with size 528\n",
      "index 531 is out of bounds for axis 1 with size 528\n",
      "index 528 is out of bounds for axis 1 with size 528\n",
      "index 528 is out of bounds for axis 1 with size 528\n",
      "index 532 is out of bounds for axis 1 with size 528\n",
      "index 534 is out of bounds for axis 1 with size 528\n",
      "index 535 is out of bounds for axis 1 with size 528\n",
      "index 540 is out of bounds for axis 1 with size 528\n",
      "index 546 is out of bounds for axis 1 with size 528\n",
      "index 528 is out of bounds for axis 1 with size 528\n",
      "index 528 is out of bounds for axis 1 with size 528\n",
      "index 529 is out of bounds for axis 1 with size 528\n",
      "index 530 is out of bounds for axis 1 with size 528\n",
      "index 533 is out of bounds for axis 1 with size 528\n",
      "index 534 is out of bounds for axis 1 with size 528\n",
      "index 534 is out of bounds for axis 1 with size 528\n",
      "index 536 is out of bounds for axis 1 with size 528\n",
      "index 535 is out of bounds for axis 1 with size 528\n",
      "index 539 is out of bounds for axis 1 with size 528\n",
      "index 540 is out of bounds for axis 1 with size 528\n",
      "index 533 is out of bounds for axis 1 with size 528\n",
      "index 532 is out of bounds for axis 1 with size 528\n",
      "index 535 is out of bounds for axis 1 with size 528\n",
      "index 535 is out of bounds for axis 1 with size 528\n",
      "index 530 is out of bounds for axis 1 with size 528\n",
      "index 533 is out of bounds for axis 1 with size 528\n",
      "index 533 is out of bounds for axis 1 with size 528\n",
      "index 533 is out of bounds for axis 1 with size 528\n",
      "index 533 is out of bounds for axis 1 with size 528\n",
      "index 534 is out of bounds for axis 1 with size 528\n",
      "index 535 is out of bounds for axis 1 with size 528\n",
      "index 536 is out of bounds for axis 1 with size 528\n",
      "index 536 is out of bounds for axis 1 with size 528\n",
      "index 537 is out of bounds for axis 1 with size 528\n",
      "index 528 is out of bounds for axis 1 with size 528\n",
      "index 531 is out of bounds for axis 1 with size 528\n",
      "index 534 is out of bounds for axis 1 with size 528\n",
      "index 535 is out of bounds for axis 1 with size 528\n",
      "index 534 is out of bounds for axis 1 with size 528\n",
      "index 535 is out of bounds for axis 1 with size 528\n",
      "index 538 is out of bounds for axis 1 with size 528\n",
      "index 537 is out of bounds for axis 1 with size 528\n",
      "index 528 is out of bounds for axis 1 with size 528\n",
      "index 532 is out of bounds for axis 1 with size 528\n",
      "index 533 is out of bounds for axis 1 with size 528\n",
      "index 534 is out of bounds for axis 1 with size 528\n",
      "index 535 is out of bounds for axis 1 with size 528\n",
      "index 537 is out of bounds for axis 1 with size 528\n",
      "index 539 is out of bounds for axis 1 with size 528\n",
      "index 529 is out of bounds for axis 1 with size 528\n",
      "index 535 is out of bounds for axis 1 with size 528\n",
      "index 535 is out of bounds for axis 1 with size 528\n",
      "index 533 is out of bounds for axis 1 with size 528\n",
      "index 534 is out of bounds for axis 1 with size 528\n",
      "index 533 is out of bounds for axis 1 with size 528\n",
      "index 533 is out of bounds for axis 1 with size 528\n",
      "index 535 is out of bounds for axis 1 with size 528\n",
      "index 534 is out of bounds for axis 1 with size 528\n",
      "index 535 is out of bounds for axis 1 with size 528\n",
      "index 536 is out of bounds for axis 1 with size 528\n",
      "index 536 is out of bounds for axis 1 with size 528\n",
      "index 536 is out of bounds for axis 1 with size 528\n",
      "index 538 is out of bounds for axis 1 with size 528\n",
      "index 541 is out of bounds for axis 1 with size 528\n",
      "index 538 is out of bounds for axis 1 with size 528\n",
      "index 530 is out of bounds for axis 1 with size 528\n",
      "index 530 is out of bounds for axis 1 with size 528\n",
      "index 532 is out of bounds for axis 1 with size 528\n",
      "index 534 is out of bounds for axis 1 with size 528\n",
      "index 536 is out of bounds for axis 1 with size 528\n",
      "index 537 is out of bounds for axis 1 with size 528\n",
      "index 538 is out of bounds for axis 1 with size 528\n",
      "index 534 is out of bounds for axis 1 with size 528\n",
      "index 532 is out of bounds for axis 1 with size 528\n",
      "index 537 is out of bounds for axis 1 with size 528\n",
      "index 532 is out of bounds for axis 1 with size 528\n",
      "index 533 is out of bounds for axis 1 with size 528\n",
      "index 534 is out of bounds for axis 1 with size 528\n",
      "index 534 is out of bounds for axis 1 with size 528\n",
      "index 534 is out of bounds for axis 1 with size 528\n",
      "index 535 is out of bounds for axis 1 with size 528\n",
      "index 536 is out of bounds for axis 1 with size 528\n",
      "index 538 is out of bounds for axis 1 with size 528\n",
      "index 529 is out of bounds for axis 1 with size 528\n",
      "index 528 is out of bounds for axis 1 with size 528\n",
      "index 531 is out of bounds for axis 1 with size 528\n",
      "index 533 is out of bounds for axis 1 with size 528\n",
      "index 535 is out of bounds for axis 1 with size 528\n",
      "index 535 is out of bounds for axis 1 with size 528\n",
      "index 536 is out of bounds for axis 1 with size 528\n",
      "index 538 is out of bounds for axis 1 with size 528\n",
      "index 537 is out of bounds for axis 1 with size 528\n",
      "index 538 is out of bounds for axis 1 with size 528\n",
      "index 533 is out of bounds for axis 1 with size 528\n",
      "index 533 is out of bounds for axis 1 with size 528\n",
      "index 531 is out of bounds for axis 1 with size 528\n",
      "index 530 is out of bounds for axis 1 with size 528\n",
      "index 536 is out of bounds for axis 1 with size 528\n",
      "index 532 is out of bounds for axis 1 with size 528\n",
      "index 534 is out of bounds for axis 1 with size 528\n",
      "index 535 is out of bounds for axis 1 with size 528\n",
      "index 537 is out of bounds for axis 1 with size 528\n",
      "index 537 is out of bounds for axis 1 with size 528\n",
      "index 537 is out of bounds for axis 1 with size 528\n",
      "index 538 is out of bounds for axis 1 with size 528\n",
      "index 538 is out of bounds for axis 1 with size 528\n",
      "index 538 is out of bounds for axis 1 with size 528\n",
      "index 539 is out of bounds for axis 1 with size 528\n",
      "index 539 is out of bounds for axis 1 with size 528\n",
      "index 540 is out of bounds for axis 1 with size 528\n",
      "index 529 is out of bounds for axis 1 with size 528\n",
      "index 532 is out of bounds for axis 1 with size 528\n",
      "index 531 is out of bounds for axis 1 with size 528\n",
      "index 534 is out of bounds for axis 1 with size 528\n",
      "index 531 is out of bounds for axis 1 with size 528\n",
      "index 531 is out of bounds for axis 1 with size 528\n",
      "index 536 is out of bounds for axis 1 with size 528\n",
      "index 533 is out of bounds for axis 1 with size 528\n",
      "index 533 is out of bounds for axis 1 with size 528\n",
      "index 533 is out of bounds for axis 1 with size 528\n",
      "index 534 is out of bounds for axis 1 with size 528\n",
      "index 535 is out of bounds for axis 1 with size 528\n",
      "index 537 is out of bounds for axis 1 with size 528\n",
      "index 537 is out of bounds for axis 1 with size 528\n",
      "index 537 is out of bounds for axis 1 with size 528\n",
      "index 539 is out of bounds for axis 1 with size 528\n",
      "index 538 is out of bounds for axis 1 with size 528\n",
      "index 539 is out of bounds for axis 1 with size 528\n",
      "index 539 is out of bounds for axis 1 with size 528\n",
      "index 545 is out of bounds for axis 1 with size 528\n",
      "index 529 is out of bounds for axis 1 with size 528\n",
      "index 529 is out of bounds for axis 1 with size 528\n",
      "index 530 is out of bounds for axis 1 with size 528\n",
      "index 528 is out of bounds for axis 1 with size 528\n",
      "index 535 is out of bounds for axis 1 with size 528\n",
      "index 535 is out of bounds for axis 1 with size 528\n",
      "index 537 is out of bounds for axis 1 with size 528\n",
      "index 537 is out of bounds for axis 1 with size 528\n",
      "index 538 is out of bounds for axis 1 with size 528\n",
      "index 538 is out of bounds for axis 1 with size 528\n",
      "index 528 is out of bounds for axis 1 with size 528\n",
      "index 537 is out of bounds for axis 1 with size 528\n",
      "index 533 is out of bounds for axis 1 with size 528\n",
      "index 535 is out of bounds for axis 1 with size 528\n",
      "index 537 is out of bounds for axis 1 with size 528\n",
      "index 537 is out of bounds for axis 1 with size 528\n",
      "index 538 is out of bounds for axis 1 with size 528\n",
      "index 538 is out of bounds for axis 1 with size 528\n",
      "index 539 is out of bounds for axis 1 with size 528\n",
      "index 528 is out of bounds for axis 1 with size 528\n",
      "index 531 is out of bounds for axis 1 with size 528\n",
      "index 529 is out of bounds for axis 1 with size 528\n",
      "index 531 is out of bounds for axis 1 with size 528\n",
      "index 531 is out of bounds for axis 1 with size 528\n",
      "index 537 is out of bounds for axis 1 with size 528\n",
      "index 532 is out of bounds for axis 1 with size 528\n",
      "index 534 is out of bounds for axis 1 with size 528\n",
      "index 535 is out of bounds for axis 1 with size 528\n",
      "index 535 is out of bounds for axis 1 with size 528\n",
      "index 535 is out of bounds for axis 1 with size 528\n",
      "index 535 is out of bounds for axis 1 with size 528\n",
      "index 537 is out of bounds for axis 1 with size 528\n",
      "index 538 is out of bounds for axis 1 with size 528\n",
      "index 539 is out of bounds for axis 1 with size 528\n",
      "index 540 is out of bounds for axis 1 with size 528\n",
      "index 530 is out of bounds for axis 1 with size 528\n",
      "index 534 is out of bounds for axis 1 with size 528\n",
      "index 533 is out of bounds for axis 1 with size 528\n",
      "index 533 is out of bounds for axis 1 with size 528\n",
      "index 533 is out of bounds for axis 1 with size 528\n",
      "index 535 is out of bounds for axis 1 with size 528\n",
      "index 536 is out of bounds for axis 1 with size 528\n",
      "index 536 is out of bounds for axis 1 with size 528\n",
      "index 543 is out of bounds for axis 1 with size 528\n",
      "index 529 is out of bounds for axis 1 with size 528\n",
      "index 531 is out of bounds for axis 1 with size 528\n",
      "index 532 is out of bounds for axis 1 with size 528\n",
      "index 533 is out of bounds for axis 1 with size 528\n",
      "index 535 is out of bounds for axis 1 with size 528\n",
      "index 538 is out of bounds for axis 1 with size 528\n",
      "index 538 is out of bounds for axis 1 with size 528\n",
      "index 538 is out of bounds for axis 1 with size 528\n",
      "index 538 is out of bounds for axis 1 with size 528\n",
      "index 539 is out of bounds for axis 1 with size 528\n",
      "index 544 is out of bounds for axis 1 with size 528\n",
      "index 529 is out of bounds for axis 1 with size 528\n",
      "index 532 is out of bounds for axis 1 with size 528\n",
      "index 534 is out of bounds for axis 1 with size 528\n",
      "index 536 is out of bounds for axis 1 with size 528\n",
      "index 537 is out of bounds for axis 1 with size 528\n",
      "index 539 is out of bounds for axis 1 with size 528\n",
      "index 539 is out of bounds for axis 1 with size 528\n",
      "index 538 is out of bounds for axis 1 with size 528\n",
      "index 539 is out of bounds for axis 1 with size 528\n",
      "index 538 is out of bounds for axis 1 with size 528\n",
      "index 540 is out of bounds for axis 1 with size 528\n",
      "index 541 is out of bounds for axis 1 with size 528\n",
      "index 536 is out of bounds for axis 1 with size 528\n",
      "index 534 is out of bounds for axis 1 with size 528\n",
      "index 536 is out of bounds for axis 1 with size 528\n",
      "index 538 is out of bounds for axis 1 with size 528\n",
      "index 539 is out of bounds for axis 1 with size 528\n",
      "index 540 is out of bounds for axis 1 with size 528\n",
      "index 530 is out of bounds for axis 1 with size 528\n",
      "index 531 is out of bounds for axis 1 with size 528\n",
      "index 534 is out of bounds for axis 1 with size 528\n",
      "index 536 is out of bounds for axis 1 with size 528\n",
      "index 537 is out of bounds for axis 1 with size 528\n",
      "index 545 is out of bounds for axis 1 with size 528\n",
      "index 548 is out of bounds for axis 1 with size 528\n",
      "index 530 is out of bounds for axis 1 with size 528\n",
      "index 530 is out of bounds for axis 1 with size 528\n",
      "index 533 is out of bounds for axis 1 with size 528\n",
      "index 534 is out of bounds for axis 1 with size 528\n",
      "index 537 is out of bounds for axis 1 with size 528\n",
      "index 538 is out of bounds for axis 1 with size 528\n",
      "index 532 is out of bounds for axis 1 with size 528\n",
      "index 535 is out of bounds for axis 1 with size 528\n",
      "index 535 is out of bounds for axis 1 with size 528\n",
      "index 540 is out of bounds for axis 1 with size 528\n",
      "index 544 is out of bounds for axis 1 with size 528\n",
      "index 549 is out of bounds for axis 1 with size 528\n",
      "index 533 is out of bounds for axis 1 with size 528\n",
      "index 536 is out of bounds for axis 1 with size 528\n",
      "index 540 is out of bounds for axis 1 with size 528\n",
      "index 528 is out of bounds for axis 1 with size 528\n",
      "index 530 is out of bounds for axis 1 with size 528\n",
      "index 538 is out of bounds for axis 1 with size 528\n",
      "index 535 is out of bounds for axis 1 with size 528\n",
      "index 535 is out of bounds for axis 1 with size 528\n",
      "index 536 is out of bounds for axis 1 with size 528\n",
      "index 543 is out of bounds for axis 1 with size 528\n",
      "index 528 is out of bounds for axis 1 with size 528\n",
      "index 530 is out of bounds for axis 1 with size 528\n",
      "index 535 is out of bounds for axis 1 with size 528\n",
      "index 542 is out of bounds for axis 1 with size 528\n",
      "index 542 is out of bounds for axis 1 with size 528\n",
      "index 534 is out of bounds for axis 1 with size 528\n",
      "index 534 is out of bounds for axis 1 with size 528\n",
      "index 537 is out of bounds for axis 1 with size 528\n",
      "index 537 is out of bounds for axis 1 with size 528\n",
      "index 538 is out of bounds for axis 1 with size 528\n",
      "index 539 is out of bounds for axis 1 with size 528\n",
      "index 540 is out of bounds for axis 1 with size 528\n",
      "index 540 is out of bounds for axis 1 with size 528\n",
      "index 542 is out of bounds for axis 1 with size 528\n",
      "index 543 is out of bounds for axis 1 with size 528\n",
      "index 531 is out of bounds for axis 1 with size 528\n",
      "index 535 is out of bounds for axis 1 with size 528\n",
      "index 537 is out of bounds for axis 1 with size 528\n",
      "index 538 is out of bounds for axis 1 with size 528\n",
      "index 538 is out of bounds for axis 1 with size 528\n",
      "index 543 is out of bounds for axis 1 with size 528\n",
      "index 533 is out of bounds for axis 1 with size 528\n",
      "index 533 is out of bounds for axis 1 with size 528\n",
      "index 538 is out of bounds for axis 1 with size 528\n",
      "index 535 is out of bounds for axis 1 with size 528\n",
      "index 536 is out of bounds for axis 1 with size 528\n",
      "index 536 is out of bounds for axis 1 with size 528\n",
      "index 543 is out of bounds for axis 1 with size 528\n",
      "index 543 is out of bounds for axis 1 with size 528\n",
      "index 528 is out of bounds for axis 1 with size 528\n",
      "index 535 is out of bounds for axis 1 with size 528\n",
      "index 538 is out of bounds for axis 1 with size 528\n",
      "index 539 is out of bounds for axis 1 with size 528\n",
      "index 543 is out of bounds for axis 1 with size 528\n",
      "index 537 is out of bounds for axis 1 with size 528\n",
      "index 538 is out of bounds for axis 1 with size 528\n",
      "index 539 is out of bounds for axis 1 with size 528\n",
      "index 540 is out of bounds for axis 1 with size 528\n",
      "index 541 is out of bounds for axis 1 with size 528\n",
      "index 540 is out of bounds for axis 1 with size 528\n",
      "index 541 is out of bounds for axis 1 with size 528\n",
      "index 545 is out of bounds for axis 1 with size 528\n",
      "index 547 is out of bounds for axis 1 with size 528\n",
      "index 530 is out of bounds for axis 1 with size 528\n",
      "index 538 is out of bounds for axis 1 with size 528\n",
      "index 535 is out of bounds for axis 1 with size 528\n",
      "index 541 is out of bounds for axis 1 with size 528\n",
      "index 541 is out of bounds for axis 1 with size 528\n",
      "index 541 is out of bounds for axis 1 with size 528\n",
      "index 542 is out of bounds for axis 1 with size 528\n",
      "index 532 is out of bounds for axis 1 with size 528\n",
      "index 532 is out of bounds for axis 1 with size 528\n",
      "index 537 is out of bounds for axis 1 with size 528\n",
      "index 537 is out of bounds for axis 1 with size 528\n",
      "index 532 is out of bounds for axis 1 with size 528\n",
      "index 540 is out of bounds for axis 1 with size 528\n",
      "index 536 is out of bounds for axis 1 with size 528\n",
      "index 541 is out of bounds for axis 1 with size 528\n",
      "index 542 is out of bounds for axis 1 with size 528\n",
      "index 547 is out of bounds for axis 1 with size 528\n",
      "index 538 is out of bounds for axis 1 with size 528\n",
      "index 539 is out of bounds for axis 1 with size 528\n",
      "index 535 is out of bounds for axis 1 with size 528\n",
      "index 541 is out of bounds for axis 1 with size 528\n",
      "index 542 is out of bounds for axis 1 with size 528\n",
      "index 529 is out of bounds for axis 1 with size 528\n",
      "index 539 is out of bounds for axis 1 with size 528\n",
      "index 539 is out of bounds for axis 1 with size 528\n",
      "index 541 is out of bounds for axis 1 with size 528\n",
      "index 546 is out of bounds for axis 1 with size 528\n",
      "index 549 is out of bounds for axis 1 with size 528\n",
      "index 529 is out of bounds for axis 1 with size 528\n",
      "index 535 is out of bounds for axis 1 with size 528\n",
      "index 536 is out of bounds for axis 1 with size 528\n",
      "index 539 is out of bounds for axis 1 with size 528\n",
      "index 539 is out of bounds for axis 1 with size 528\n",
      "index 541 is out of bounds for axis 1 with size 528\n",
      "index 541 is out of bounds for axis 1 with size 528\n",
      "index 542 is out of bounds for axis 1 with size 528\n",
      "index 541 is out of bounds for axis 1 with size 528\n",
      "index 542 is out of bounds for axis 1 with size 528\n",
      "index 529 is out of bounds for axis 1 with size 528\n",
      "index 537 is out of bounds for axis 1 with size 528\n",
      "index 541 is out of bounds for axis 1 with size 528\n",
      "index 538 is out of bounds for axis 1 with size 528\n",
      "index 538 is out of bounds for axis 1 with size 528\n",
      "index 539 is out of bounds for axis 1 with size 528\n",
      "index 541 is out of bounds for axis 1 with size 528\n",
      "index 547 is out of bounds for axis 1 with size 528\n",
      "index 548 is out of bounds for axis 1 with size 528\n",
      "index 535 is out of bounds for axis 1 with size 528\n",
      "index 539 is out of bounds for axis 1 with size 528\n",
      "index 539 is out of bounds for axis 1 with size 528\n",
      "index 536 is out of bounds for axis 1 with size 528\n",
      "index 540 is out of bounds for axis 1 with size 528\n",
      "index 538 is out of bounds for axis 1 with size 528\n",
      "index 541 is out of bounds for axis 1 with size 528\n",
      "index 541 is out of bounds for axis 1 with size 528\n",
      "index 542 is out of bounds for axis 1 with size 528\n",
      "index 542 is out of bounds for axis 1 with size 528\n",
      "index 543 is out of bounds for axis 1 with size 528\n",
      "index 544 is out of bounds for axis 1 with size 528\n",
      "index 550 is out of bounds for axis 1 with size 528\n",
      "index 536 is out of bounds for axis 1 with size 528\n",
      "index 537 is out of bounds for axis 1 with size 528\n",
      "index 541 is out of bounds for axis 1 with size 528\n",
      "index 541 is out of bounds for axis 1 with size 528\n",
      "index 541 is out of bounds for axis 1 with size 528\n",
      "index 538 is out of bounds for axis 1 with size 528\n",
      "index 538 is out of bounds for axis 1 with size 528\n",
      "index 543 is out of bounds for axis 1 with size 528\n",
      "index 545 is out of bounds for axis 1 with size 528\n",
      "index 547 is out of bounds for axis 1 with size 528\n",
      "index 531 is out of bounds for axis 1 with size 528\n",
      "index 532 is out of bounds for axis 1 with size 528\n",
      "index 537 is out of bounds for axis 1 with size 528\n",
      "index 538 is out of bounds for axis 1 with size 528\n",
      "index 540 is out of bounds for axis 1 with size 528\n",
      "index 538 is out of bounds for axis 1 with size 528\n",
      "index 539 is out of bounds for axis 1 with size 528\n",
      "index 540 is out of bounds for axis 1 with size 528\n",
      "index 543 is out of bounds for axis 1 with size 528\n",
      "index 543 is out of bounds for axis 1 with size 528\n",
      "index 534 is out of bounds for axis 1 with size 528\n",
      "index 537 is out of bounds for axis 1 with size 528\n",
      "index 538 is out of bounds for axis 1 with size 528\n",
      "index 541 is out of bounds for axis 1 with size 528\n",
      "index 541 is out of bounds for axis 1 with size 528\n",
      "index 540 is out of bounds for axis 1 with size 528\n",
      "index 539 is out of bounds for axis 1 with size 528\n",
      "index 541 is out of bounds for axis 1 with size 528\n",
      "index 539 is out of bounds for axis 1 with size 528\n",
      "index 542 is out of bounds for axis 1 with size 528\n",
      "index 551 is out of bounds for axis 1 with size 528\n",
      "index 534 is out of bounds for axis 1 with size 528\n",
      "index 538 is out of bounds for axis 1 with size 528\n",
      "index 538 is out of bounds for axis 1 with size 528\n",
      "index 539 is out of bounds for axis 1 with size 528\n",
      "index 541 is out of bounds for axis 1 with size 528\n",
      "index 539 is out of bounds for axis 1 with size 528\n",
      "index 540 is out of bounds for axis 1 with size 528\n",
      "index 541 is out of bounds for axis 1 with size 528\n",
      "index 546 is out of bounds for axis 1 with size 528\n",
      "index 542 is out of bounds for axis 1 with size 528\n",
      "index 537 is out of bounds for axis 1 with size 528\n",
      "index 541 is out of bounds for axis 1 with size 528\n",
      "index 542 is out of bounds for axis 1 with size 528\n",
      "index 543 is out of bounds for axis 1 with size 528\n",
      "index 551 is out of bounds for axis 1 with size 528\n",
      "index 539 is out of bounds for axis 1 with size 528\n",
      "index 538 is out of bounds for axis 1 with size 528\n",
      "index 537 is out of bounds for axis 1 with size 528\n",
      "index 539 is out of bounds for axis 1 with size 528\n",
      "index 538 is out of bounds for axis 1 with size 528\n",
      "index 539 is out of bounds for axis 1 with size 528\n",
      "index 539 is out of bounds for axis 1 with size 528\n",
      "index 548 is out of bounds for axis 1 with size 528\n",
      "index 548 is out of bounds for axis 1 with size 528\n",
      "index 549 is out of bounds for axis 1 with size 528\n",
      "index 530 is out of bounds for axis 1 with size 528\n",
      "index 539 is out of bounds for axis 1 with size 528\n",
      "index 539 is out of bounds for axis 1 with size 528\n",
      "index 539 is out of bounds for axis 1 with size 528\n",
      "index 544 is out of bounds for axis 1 with size 528\n",
      "index 544 is out of bounds for axis 1 with size 528\n",
      "index 543 is out of bounds for axis 1 with size 528\n",
      "index 549 is out of bounds for axis 1 with size 528\n",
      "index 549 is out of bounds for axis 1 with size 528\n",
      "index 550 is out of bounds for axis 1 with size 528\n",
      "index 529 is out of bounds for axis 1 with size 528\n",
      "index 530 is out of bounds for axis 1 with size 528\n",
      "index 528 is out of bounds for axis 1 with size 528\n",
      "index 540 is out of bounds for axis 1 with size 528\n",
      "index 538 is out of bounds for axis 1 with size 528\n",
      "index 540 is out of bounds for axis 1 with size 528\n",
      "index 542 is out of bounds for axis 1 with size 528\n",
      "index 541 is out of bounds for axis 1 with size 528\n",
      "index 544 is out of bounds for axis 1 with size 528\n",
      "index 547 is out of bounds for axis 1 with size 528\n",
      "index 549 is out of bounds for axis 1 with size 528\n",
      "index 537 is out of bounds for axis 1 with size 528\n",
      "index 539 is out of bounds for axis 1 with size 528\n",
      "index 542 is out of bounds for axis 1 with size 528\n",
      "index 545 is out of bounds for axis 1 with size 528\n",
      "index 550 is out of bounds for axis 1 with size 528\n",
      "index 552 is out of bounds for axis 1 with size 528\n",
      "index 530 is out of bounds for axis 1 with size 528\n",
      "index 536 is out of bounds for axis 1 with size 528\n",
      "index 533 is out of bounds for axis 1 with size 528\n",
      "index 539 is out of bounds for axis 1 with size 528\n",
      "index 537 is out of bounds for axis 1 with size 528\n",
      "index 536 is out of bounds for axis 1 with size 528\n",
      "index 538 is out of bounds for axis 1 with size 528\n",
      "index 539 is out of bounds for axis 1 with size 528\n",
      "index 540 is out of bounds for axis 1 with size 528\n",
      "index 544 is out of bounds for axis 1 with size 528\n",
      "index 544 is out of bounds for axis 1 with size 528\n",
      "index 542 is out of bounds for axis 1 with size 528\n",
      "index 542 is out of bounds for axis 1 with size 528\n",
      "index 540 is out of bounds for axis 1 with size 528\n",
      "index 538 is out of bounds for axis 1 with size 528\n",
      "index 539 is out of bounds for axis 1 with size 528\n",
      "index 544 is out of bounds for axis 1 with size 528\n",
      "index 545 is out of bounds for axis 1 with size 528\n",
      "index 545 is out of bounds for axis 1 with size 528\n",
      "index 548 is out of bounds for axis 1 with size 528\n",
      "index 551 is out of bounds for axis 1 with size 528\n",
      "index 551 is out of bounds for axis 1 with size 528\n",
      "index 530 is out of bounds for axis 1 with size 528\n",
      "index 539 is out of bounds for axis 1 with size 528\n",
      "index 536 is out of bounds for axis 1 with size 528\n",
      "index 546 is out of bounds for axis 1 with size 528\n",
      "index 548 is out of bounds for axis 1 with size 528\n",
      "index 548 is out of bounds for axis 1 with size 528\n",
      "index 539 is out of bounds for axis 1 with size 528\n",
      "index 540 is out of bounds for axis 1 with size 528\n",
      "index 540 is out of bounds for axis 1 with size 528\n",
      "index 539 is out of bounds for axis 1 with size 528\n",
      "index 547 is out of bounds for axis 1 with size 528\n",
      "index 543 is out of bounds for axis 1 with size 528\n",
      "index 546 is out of bounds for axis 1 with size 528\n",
      "index 548 is out of bounds for axis 1 with size 528\n",
      "index 549 is out of bounds for axis 1 with size 528\n",
      "index 528 is out of bounds for axis 1 with size 528\n",
      "index 530 is out of bounds for axis 1 with size 528\n",
      "index 535 is out of bounds for axis 1 with size 528\n",
      "index 541 is out of bounds for axis 1 with size 528\n",
      "index 537 is out of bounds for axis 1 with size 528\n",
      "index 543 is out of bounds for axis 1 with size 528\n",
      "index 546 is out of bounds for axis 1 with size 528\n",
      "index 544 is out of bounds for axis 1 with size 528\n",
      "index 546 is out of bounds for axis 1 with size 528\n",
      "index 549 is out of bounds for axis 1 with size 528\n",
      "index 549 is out of bounds for axis 1 with size 528\n",
      "index 552 is out of bounds for axis 1 with size 528\n",
      "index 552 is out of bounds for axis 1 with size 528\n",
      "index 553 is out of bounds for axis 1 with size 528\n",
      "index 552 is out of bounds for axis 1 with size 528\n",
      "index 531 is out of bounds for axis 1 with size 528\n",
      "index 541 is out of bounds for axis 1 with size 528\n",
      "index 542 is out of bounds for axis 1 with size 528\n",
      "index 546 is out of bounds for axis 1 with size 528\n",
      "index 546 is out of bounds for axis 1 with size 528\n",
      "index 548 is out of bounds for axis 1 with size 528\n",
      "index 550 is out of bounds for axis 1 with size 528\n",
      "index 549 is out of bounds for axis 1 with size 528\n",
      "index 545 is out of bounds for axis 1 with size 528\n",
      "index 551 is out of bounds for axis 1 with size 528\n",
      "index 544 is out of bounds for axis 1 with size 528\n",
      "index 548 is out of bounds for axis 1 with size 528\n",
      "index 552 is out of bounds for axis 1 with size 528\n",
      "index 539 is out of bounds for axis 1 with size 528\n",
      "index 541 is out of bounds for axis 1 with size 528\n",
      "index 546 is out of bounds for axis 1 with size 528\n",
      "index 549 is out of bounds for axis 1 with size 528\n",
      "index 534 is out of bounds for axis 1 with size 528\n",
      "index 548 is out of bounds for axis 1 with size 528\n",
      "index 529 is out of bounds for axis 1 with size 528\n",
      "index 544 is out of bounds for axis 1 with size 528\n",
      "index 546 is out of bounds for axis 1 with size 528\n",
      "index 547 is out of bounds for axis 1 with size 528\n",
      "index 548 is out of bounds for axis 1 with size 528\n",
      "index 548 is out of bounds for axis 1 with size 528\n",
      "index 548 is out of bounds for axis 1 with size 528\n",
      "index 549 is out of bounds for axis 1 with size 528\n",
      "index 531 is out of bounds for axis 1 with size 528\n",
      "index 533 is out of bounds for axis 1 with size 528\n",
      "index 541 is out of bounds for axis 1 with size 528\n",
      "index 538 is out of bounds for axis 1 with size 528\n",
      "index 541 is out of bounds for axis 1 with size 528\n",
      "index 542 is out of bounds for axis 1 with size 528\n",
      "index 543 is out of bounds for axis 1 with size 528\n",
      "index 542 is out of bounds for axis 1 with size 528\n",
      "index 551 is out of bounds for axis 1 with size 528\n",
      "index 552 is out of bounds for axis 1 with size 528\n",
      "index 544 is out of bounds for axis 1 with size 528\n",
      "index 544 is out of bounds for axis 1 with size 528\n",
      "index 546 is out of bounds for axis 1 with size 528\n",
      "index 549 is out of bounds for axis 1 with size 528\n",
      "index 550 is out of bounds for axis 1 with size 528\n",
      "index 530 is out of bounds for axis 1 with size 528\n",
      "index 537 is out of bounds for axis 1 with size 528\n",
      "index 535 is out of bounds for axis 1 with size 528\n",
      "index 539 is out of bounds for axis 1 with size 528\n",
      "index 546 is out of bounds for axis 1 with size 528\n",
      "index 549 is out of bounds for axis 1 with size 528\n",
      "index 553 is out of bounds for axis 1 with size 528\n",
      "index 529 is out of bounds for axis 1 with size 528\n",
      "index 530 is out of bounds for axis 1 with size 528\n",
      "index 538 is out of bounds for axis 1 with size 528\n",
      "index 538 is out of bounds for axis 1 with size 528\n",
      "index 535 is out of bounds for axis 1 with size 528\n",
      "index 538 is out of bounds for axis 1 with size 528\n",
      "index 542 is out of bounds for axis 1 with size 528\n",
      "index 543 is out of bounds for axis 1 with size 528\n",
      "index 543 is out of bounds for axis 1 with size 528\n",
      "index 546 is out of bounds for axis 1 with size 528\n",
      "index 549 is out of bounds for axis 1 with size 528\n",
      "index 550 is out of bounds for axis 1 with size 528\n",
      "index 550 is out of bounds for axis 1 with size 528\n",
      "index 553 is out of bounds for axis 1 with size 528\n",
      "index 553 is out of bounds for axis 1 with size 528\n",
      "index 541 is out of bounds for axis 1 with size 528\n",
      "index 546 is out of bounds for axis 1 with size 528\n",
      "index 549 is out of bounds for axis 1 with size 528\n",
      "index 550 is out of bounds for axis 1 with size 528\n",
      "index 551 is out of bounds for axis 1 with size 528\n",
      "index 528 is out of bounds for axis 1 with size 528\n",
      "index 528 is out of bounds for axis 1 with size 528\n",
      "index 544 is out of bounds for axis 1 with size 528\n",
      "index 546 is out of bounds for axis 1 with size 528\n",
      "index 547 is out of bounds for axis 1 with size 528\n",
      "index 548 is out of bounds for axis 1 with size 528\n",
      "index 551 is out of bounds for axis 1 with size 528\n",
      "index 553 is out of bounds for axis 1 with size 528\n",
      "index 555 is out of bounds for axis 1 with size 528\n",
      "index 528 is out of bounds for axis 1 with size 528\n",
      "index 530 is out of bounds for axis 1 with size 528\n",
      "index 531 is out of bounds for axis 1 with size 528\n",
      "index 531 is out of bounds for axis 1 with size 528\n",
      "index 532 is out of bounds for axis 1 with size 528\n",
      "index 542 is out of bounds for axis 1 with size 528\n",
      "index 543 is out of bounds for axis 1 with size 528\n",
      "index 542 is out of bounds for axis 1 with size 528\n",
      "index 540 is out of bounds for axis 1 with size 528\n",
      "index 540 is out of bounds for axis 1 with size 528\n",
      "index 542 is out of bounds for axis 1 with size 528\n",
      "index 543 is out of bounds for axis 1 with size 528\n",
      "index 543 is out of bounds for axis 1 with size 528\n",
      "index 547 is out of bounds for axis 1 with size 528\n",
      "index 547 is out of bounds for axis 1 with size 528\n",
      "index 551 is out of bounds for axis 1 with size 528\n",
      "index 550 is out of bounds for axis 1 with size 528\n",
      "index 550 is out of bounds for axis 1 with size 528\n",
      "index 553 is out of bounds for axis 1 with size 528\n",
      "index 553 is out of bounds for axis 1 with size 528\n",
      "index 537 is out of bounds for axis 1 with size 528\n",
      "index 536 is out of bounds for axis 1 with size 528\n",
      "index 542 is out of bounds for axis 1 with size 528\n",
      "index 554 is out of bounds for axis 1 with size 528\n",
      "index 535 is out of bounds for axis 1 with size 528\n",
      "index 542 is out of bounds for axis 1 with size 528\n",
      "index 538 is out of bounds for axis 1 with size 528\n",
      "index 543 is out of bounds for axis 1 with size 528\n",
      "index 540 is out of bounds for axis 1 with size 528\n",
      "index 544 is out of bounds for axis 1 with size 528\n",
      "index 542 is out of bounds for axis 1 with size 528\n",
      "index 542 is out of bounds for axis 1 with size 528\n",
      "index 547 is out of bounds for axis 1 with size 528\n",
      "index 548 is out of bounds for axis 1 with size 528\n",
      "index 548 is out of bounds for axis 1 with size 528\n",
      "index 549 is out of bounds for axis 1 with size 528\n",
      "index 550 is out of bounds for axis 1 with size 528\n",
      "index 551 is out of bounds for axis 1 with size 528\n",
      "index 552 is out of bounds for axis 1 with size 528\n",
      "index 554 is out of bounds for axis 1 with size 528\n",
      "index 554 is out of bounds for axis 1 with size 528\n",
      "index 554 is out of bounds for axis 1 with size 528\n",
      "index 555 is out of bounds for axis 1 with size 528\n",
      "index 528 is out of bounds for axis 1 with size 528\n",
      "index 534 is out of bounds for axis 1 with size 528\n",
      "index 539 is out of bounds for axis 1 with size 528\n",
      "index 540 is out of bounds for axis 1 with size 528\n",
      "index 537 is out of bounds for axis 1 with size 528\n",
      "index 541 is out of bounds for axis 1 with size 528\n",
      "index 539 is out of bounds for axis 1 with size 528\n",
      "index 540 is out of bounds for axis 1 with size 528\n",
      "index 545 is out of bounds for axis 1 with size 528\n",
      "index 553 is out of bounds for axis 1 with size 528\n",
      "index 552 is out of bounds for axis 1 with size 528\n",
      "index 555 is out of bounds for axis 1 with size 528\n",
      "index 528 is out of bounds for axis 1 with size 528\n",
      "index 528 is out of bounds for axis 1 with size 528\n",
      "index 540 is out of bounds for axis 1 with size 528\n",
      "index 542 is out of bounds for axis 1 with size 528\n",
      "index 543 is out of bounds for axis 1 with size 528\n",
      "index 544 is out of bounds for axis 1 with size 528\n",
      "index 548 is out of bounds for axis 1 with size 528\n",
      "index 549 is out of bounds for axis 1 with size 528\n",
      "index 550 is out of bounds for axis 1 with size 528\n",
      "index 552 is out of bounds for axis 1 with size 528\n",
      "index 554 is out of bounds for axis 1 with size 528\n",
      "index 554 is out of bounds for axis 1 with size 528\n",
      "index 541 is out of bounds for axis 1 with size 528\n",
      "index 544 is out of bounds for axis 1 with size 528\n",
      "index 541 is out of bounds for axis 1 with size 528\n",
      "index 545 is out of bounds for axis 1 with size 528\n",
      "index 544 is out of bounds for axis 1 with size 528\n",
      "index 548 is out of bounds for axis 1 with size 528\n",
      "index 546 is out of bounds for axis 1 with size 528\n",
      "index 547 is out of bounds for axis 1 with size 528\n",
      "index 550 is out of bounds for axis 1 with size 528\n",
      "index 548 is out of bounds for axis 1 with size 528\n",
      "index 554 is out of bounds for axis 1 with size 528\n",
      "index 530 is out of bounds for axis 1 with size 528\n",
      "index 532 is out of bounds for axis 1 with size 528\n",
      "index 535 is out of bounds for axis 1 with size 528\n",
      "index 534 is out of bounds for axis 1 with size 528\n",
      "index 536 is out of bounds for axis 1 with size 528\n",
      "index 537 is out of bounds for axis 1 with size 528\n",
      "index 537 is out of bounds for axis 1 with size 528\n",
      "index 548 is out of bounds for axis 1 with size 528\n",
      "index 551 is out of bounds for axis 1 with size 528\n",
      "index 552 is out of bounds for axis 1 with size 528\n",
      "index 529 is out of bounds for axis 1 with size 528\n",
      "index 530 is out of bounds for axis 1 with size 528\n",
      "index 534 is out of bounds for axis 1 with size 528\n",
      "index 534 is out of bounds for axis 1 with size 528\n",
      "index 545 is out of bounds for axis 1 with size 528\n",
      "index 546 is out of bounds for axis 1 with size 528\n",
      "index 546 is out of bounds for axis 1 with size 528\n",
      "index 550 is out of bounds for axis 1 with size 528\n",
      "index 553 is out of bounds for axis 1 with size 528\n",
      "index 551 is out of bounds for axis 1 with size 528\n",
      "index 541 is out of bounds for axis 1 with size 528\n",
      "index 542 is out of bounds for axis 1 with size 528\n",
      "index 549 is out of bounds for axis 1 with size 528\n",
      "index 549 is out of bounds for axis 1 with size 528\n",
      "index 551 is out of bounds for axis 1 with size 528\n",
      "index 553 is out of bounds for axis 1 with size 528\n",
      "index 554 is out of bounds for axis 1 with size 528\n",
      "index 531 is out of bounds for axis 1 with size 528\n",
      "index 531 is out of bounds for axis 1 with size 528\n",
      "index 532 is out of bounds for axis 1 with size 528\n",
      "index 531 is out of bounds for axis 1 with size 528\n",
      "index 532 is out of bounds for axis 1 with size 528\n",
      "index 538 is out of bounds for axis 1 with size 528\n",
      "index 542 is out of bounds for axis 1 with size 528\n",
      "index 543 is out of bounds for axis 1 with size 528\n",
      "index 547 is out of bounds for axis 1 with size 528\n",
      "index 549 is out of bounds for axis 1 with size 528\n",
      "index 550 is out of bounds for axis 1 with size 528\n",
      "index 551 is out of bounds for axis 1 with size 528\n",
      "index 528 is out of bounds for axis 1 with size 528\n",
      "index 528 is out of bounds for axis 1 with size 528\n",
      "index 528 is out of bounds for axis 1 with size 528\n",
      "index 530 is out of bounds for axis 1 with size 528\n",
      "index 534 is out of bounds for axis 1 with size 528\n",
      "index 547 is out of bounds for axis 1 with size 528\n",
      "index 553 is out of bounds for axis 1 with size 528\n",
      "index 551 is out of bounds for axis 1 with size 528\n",
      "index 551 is out of bounds for axis 1 with size 528\n",
      "index 530 is out of bounds for axis 1 with size 528\n",
      "index 531 is out of bounds for axis 1 with size 528\n",
      "index 543 is out of bounds for axis 1 with size 528\n",
      "index 542 is out of bounds for axis 1 with size 528\n",
      "index 542 is out of bounds for axis 1 with size 528\n",
      "index 546 is out of bounds for axis 1 with size 528\n",
      "index 548 is out of bounds for axis 1 with size 528\n",
      "index 549 is out of bounds for axis 1 with size 528\n",
      "index 548 is out of bounds for axis 1 with size 528\n",
      "index 548 is out of bounds for axis 1 with size 528\n",
      "index 548 is out of bounds for axis 1 with size 528\n",
      "index 551 is out of bounds for axis 1 with size 528\n",
      "index 550 is out of bounds for axis 1 with size 528\n",
      "index 553 is out of bounds for axis 1 with size 528\n",
      "index 554 is out of bounds for axis 1 with size 528\n",
      "index 529 is out of bounds for axis 1 with size 528\n",
      "index 528 is out of bounds for axis 1 with size 528\n",
      "index 528 is out of bounds for axis 1 with size 528\n",
      "index 532 is out of bounds for axis 1 with size 528\n",
      "index 534 is out of bounds for axis 1 with size 528\n",
      "index 543 is out of bounds for axis 1 with size 528\n",
      "index 543 is out of bounds for axis 1 with size 528\n",
      "index 545 is out of bounds for axis 1 with size 528\n",
      "index 545 is out of bounds for axis 1 with size 528\n",
      "index 548 is out of bounds for axis 1 with size 528\n",
      "index 549 is out of bounds for axis 1 with size 528\n",
      "index 548 is out of bounds for axis 1 with size 528\n",
      "index 552 is out of bounds for axis 1 with size 528\n",
      "index 554 is out of bounds for axis 1 with size 528\n",
      "index 530 is out of bounds for axis 1 with size 528\n",
      "index 531 is out of bounds for axis 1 with size 528\n",
      "index 533 is out of bounds for axis 1 with size 528\n",
      "index 533 is out of bounds for axis 1 with size 528\n",
      "index 535 is out of bounds for axis 1 with size 528\n",
      "index 536 is out of bounds for axis 1 with size 528\n",
      "index 540 is out of bounds for axis 1 with size 528\n",
      "index 536 is out of bounds for axis 1 with size 528\n",
      "index 541 is out of bounds for axis 1 with size 528\n",
      "index 541 is out of bounds for axis 1 with size 528\n",
      "index 543 is out of bounds for axis 1 with size 528\n",
      "index 549 is out of bounds for axis 1 with size 528\n",
      "index 549 is out of bounds for axis 1 with size 528\n",
      "index 552 is out of bounds for axis 1 with size 528\n",
      "index 531 is out of bounds for axis 1 with size 528\n",
      "index 528 is out of bounds for axis 1 with size 528\n",
      "index 528 is out of bounds for axis 1 with size 528\n",
      "index 528 is out of bounds for axis 1 with size 528\n",
      "index 528 is out of bounds for axis 1 with size 528\n",
      "index 534 is out of bounds for axis 1 with size 528\n",
      "index 535 is out of bounds for axis 1 with size 528\n",
      "index 535 is out of bounds for axis 1 with size 528\n",
      "index 545 is out of bounds for axis 1 with size 528\n",
      "index 546 is out of bounds for axis 1 with size 528\n",
      "index 551 is out of bounds for axis 1 with size 528\n",
      "index 551 is out of bounds for axis 1 with size 528\n",
      "index 550 is out of bounds for axis 1 with size 528\n",
      "index 551 is out of bounds for axis 1 with size 528\n",
      "index 553 is out of bounds for axis 1 with size 528\n",
      "index 530 is out of bounds for axis 1 with size 528\n",
      "index 531 is out of bounds for axis 1 with size 528\n",
      "index 533 is out of bounds for axis 1 with size 528\n",
      "index 535 is out of bounds for axis 1 with size 528\n",
      "index 539 is out of bounds for axis 1 with size 528\n",
      "index 528 is out of bounds for axis 1 with size 528\n",
      "index 531 is out of bounds for axis 1 with size 528\n",
      "index 531 is out of bounds for axis 1 with size 528\n",
      "index 530 is out of bounds for axis 1 with size 528\n",
      "index 531 is out of bounds for axis 1 with size 528\n",
      "index 531 is out of bounds for axis 1 with size 528\n",
      "index 536 is out of bounds for axis 1 with size 528\n",
      "index 534 is out of bounds for axis 1 with size 528\n",
      "index 536 is out of bounds for axis 1 with size 528\n",
      "index 536 is out of bounds for axis 1 with size 528\n",
      "index 537 is out of bounds for axis 1 with size 528\n",
      "index 539 is out of bounds for axis 1 with size 528\n",
      "index 541 is out of bounds for axis 1 with size 528\n",
      "index 541 is out of bounds for axis 1 with size 528\n",
      "index 541 is out of bounds for axis 1 with size 528\n",
      "index 542 is out of bounds for axis 1 with size 528\n",
      "index 549 is out of bounds for axis 1 with size 528\n",
      "index 549 is out of bounds for axis 1 with size 528\n",
      "index 553 is out of bounds for axis 1 with size 528\n",
      "index 531 is out of bounds for axis 1 with size 528\n",
      "index 532 is out of bounds for axis 1 with size 528\n",
      "index 543 is out of bounds for axis 1 with size 528\n",
      "index 546 is out of bounds for axis 1 with size 528\n",
      "index 551 is out of bounds for axis 1 with size 528\n",
      "index 551 is out of bounds for axis 1 with size 528\n",
      "index 552 is out of bounds for axis 1 with size 528\n",
      "index 530 is out of bounds for axis 1 with size 528\n",
      "index 532 is out of bounds for axis 1 with size 528\n",
      "index 531 is out of bounds for axis 1 with size 528\n",
      "index 532 is out of bounds for axis 1 with size 528\n",
      "index 533 is out of bounds for axis 1 with size 528\n",
      "index 538 is out of bounds for axis 1 with size 528\n",
      "index 540 is out of bounds for axis 1 with size 528\n",
      "index 540 is out of bounds for axis 1 with size 528\n",
      "index 539 is out of bounds for axis 1 with size 528\n",
      "index 540 is out of bounds for axis 1 with size 528\n",
      "index 541 is out of bounds for axis 1 with size 528\n",
      "index 550 is out of bounds for axis 1 with size 528\n",
      "index 549 is out of bounds for axis 1 with size 528\n",
      "index 551 is out of bounds for axis 1 with size 528\n",
      "index 552 is out of bounds for axis 1 with size 528\n",
      "index 552 is out of bounds for axis 1 with size 528\n",
      "index 553 is out of bounds for axis 1 with size 528\n",
      "index 531 is out of bounds for axis 1 with size 528\n",
      "index 534 is out of bounds for axis 1 with size 528\n",
      "index 540 is out of bounds for axis 1 with size 528\n",
      "index 546 is out of bounds for axis 1 with size 528\n",
      "index 546 is out of bounds for axis 1 with size 528\n",
      "index 552 is out of bounds for axis 1 with size 528\n",
      "index 552 is out of bounds for axis 1 with size 528\n",
      "index 552 is out of bounds for axis 1 with size 528\n",
      "index 553 is out of bounds for axis 1 with size 528\n",
      "index 552 is out of bounds for axis 1 with size 528\n",
      "index 530 is out of bounds for axis 1 with size 528\n",
      "index 529 is out of bounds for axis 1 with size 528\n",
      "index 532 is out of bounds for axis 1 with size 528\n",
      "index 533 is out of bounds for axis 1 with size 528\n",
      "index 542 is out of bounds for axis 1 with size 528\n",
      "index 541 is out of bounds for axis 1 with size 528\n",
      "index 541 is out of bounds for axis 1 with size 528\n",
      "index 543 is out of bounds for axis 1 with size 528\n",
      "index 553 is out of bounds for axis 1 with size 528\n",
      "index 529 is out of bounds for axis 1 with size 528\n",
      "index 530 is out of bounds for axis 1 with size 528\n",
      "index 530 is out of bounds for axis 1 with size 528\n",
      "index 532 is out of bounds for axis 1 with size 528\n",
      "index 536 is out of bounds for axis 1 with size 528\n",
      "index 539 is out of bounds for axis 1 with size 528\n",
      "index 544 is out of bounds for axis 1 with size 528\n",
      "index 551 is out of bounds for axis 1 with size 528\n",
      "index 552 is out of bounds for axis 1 with size 528\n",
      "index 554 is out of bounds for axis 1 with size 528\n",
      "index 553 is out of bounds for axis 1 with size 528\n",
      "index 532 is out of bounds for axis 1 with size 528\n",
      "index 533 is out of bounds for axis 1 with size 528\n",
      "index 537 is out of bounds for axis 1 with size 528\n",
      "index 542 is out of bounds for axis 1 with size 528\n",
      "index 546 is out of bounds for axis 1 with size 528\n",
      "index 547 is out of bounds for axis 1 with size 528\n",
      "index 550 is out of bounds for axis 1 with size 528\n",
      "index 550 is out of bounds for axis 1 with size 528\n",
      "index 555 is out of bounds for axis 1 with size 528\n",
      "index 529 is out of bounds for axis 1 with size 528\n",
      "index 541 is out of bounds for axis 1 with size 528\n",
      "index 555 is out of bounds for axis 1 with size 528\n",
      "index 531 is out of bounds for axis 1 with size 528\n",
      "index 531 is out of bounds for axis 1 with size 528\n",
      "index 532 is out of bounds for axis 1 with size 528\n",
      "index 536 is out of bounds for axis 1 with size 528\n",
      "index 546 is out of bounds for axis 1 with size 528\n",
      "index 541 is out of bounds for axis 1 with size 528\n",
      "index 532 is out of bounds for axis 1 with size 528\n",
      "index 553 is out of bounds for axis 1 with size 528\n",
      "index 553 is out of bounds for axis 1 with size 528\n",
      "index 530 is out of bounds for axis 1 with size 528\n",
      "index 532 is out of bounds for axis 1 with size 528\n",
      "index 532 is out of bounds for axis 1 with size 528\n",
      "index 536 is out of bounds for axis 1 with size 528\n",
      "index 546 is out of bounds for axis 1 with size 528\n",
      "index 554 is out of bounds for axis 1 with size 528\n",
      "index 530 is out of bounds for axis 1 with size 528\n",
      "index 532 is out of bounds for axis 1 with size 528\n",
      "index 539 is out of bounds for axis 1 with size 528\n",
      "index 543 is out of bounds for axis 1 with size 528\n",
      "index 546 is out of bounds for axis 1 with size 528\n",
      "index 529 is out of bounds for axis 1 with size 528\n",
      "index 531 is out of bounds for axis 1 with size 528\n",
      "index 532 is out of bounds for axis 1 with size 528\n",
      "index 533 is out of bounds for axis 1 with size 528\n",
      "index 533 is out of bounds for axis 1 with size 528\n",
      "index 534 is out of bounds for axis 1 with size 528\n",
      "index 537 is out of bounds for axis 1 with size 528\n",
      "index 536 is out of bounds for axis 1 with size 528\n",
      "index 538 is out of bounds for axis 1 with size 528\n",
      "index 539 is out of bounds for axis 1 with size 528\n",
      "index 542 is out of bounds for axis 1 with size 528\n",
      "index 541 is out of bounds for axis 1 with size 528\n",
      "index 542 is out of bounds for axis 1 with size 528\n",
      "index 546 is out of bounds for axis 1 with size 528\n",
      "index 553 is out of bounds for axis 1 with size 528\n",
      "index 528 is out of bounds for axis 1 with size 528\n",
      "index 530 is out of bounds for axis 1 with size 528\n",
      "index 539 is out of bounds for axis 1 with size 528\n",
      "index 546 is out of bounds for axis 1 with size 528\n",
      "index 549 is out of bounds for axis 1 with size 528\n",
      "index 551 is out of bounds for axis 1 with size 528\n",
      "index 552 is out of bounds for axis 1 with size 528\n",
      "index 528 is out of bounds for axis 1 with size 528\n",
      "index 531 is out of bounds for axis 1 with size 528\n",
      "index 532 is out of bounds for axis 1 with size 528\n",
      "index 532 is out of bounds for axis 1 with size 528\n",
      "index 536 is out of bounds for axis 1 with size 528\n",
      "index 538 is out of bounds for axis 1 with size 528\n",
      "index 541 is out of bounds for axis 1 with size 528\n",
      "index 541 is out of bounds for axis 1 with size 528\n",
      "index 541 is out of bounds for axis 1 with size 528\n",
      "index 547 is out of bounds for axis 1 with size 528\n",
      "index 555 is out of bounds for axis 1 with size 528\n",
      "index 531 is out of bounds for axis 1 with size 528\n",
      "index 529 is out of bounds for axis 1 with size 528\n",
      "index 528 is out of bounds for axis 1 with size 528\n",
      "index 529 is out of bounds for axis 1 with size 528\n",
      "index 531 is out of bounds for axis 1 with size 528\n",
      "index 532 is out of bounds for axis 1 with size 528\n",
      "index 533 is out of bounds for axis 1 with size 528\n",
      "index 534 is out of bounds for axis 1 with size 528\n",
      "index 538 is out of bounds for axis 1 with size 528\n",
      "index 541 is out of bounds for axis 1 with size 528\n",
      "index 544 is out of bounds for axis 1 with size 528\n",
      "index 552 is out of bounds for axis 1 with size 528\n",
      "index 555 is out of bounds for axis 1 with size 528\n",
      "index 555 is out of bounds for axis 1 with size 528\n",
      "index 532 is out of bounds for axis 1 with size 528\n",
      "index 532 is out of bounds for axis 1 with size 528\n",
      "index 535 is out of bounds for axis 1 with size 528\n",
      "index 530 is out of bounds for axis 1 with size 528\n",
      "index 532 is out of bounds for axis 1 with size 528\n",
      "index 532 is out of bounds for axis 1 with size 528\n",
      "index 533 is out of bounds for axis 1 with size 528\n",
      "index 533 is out of bounds for axis 1 with size 528\n",
      "index 535 is out of bounds for axis 1 with size 528\n",
      "index 542 is out of bounds for axis 1 with size 528\n",
      "index 552 is out of bounds for axis 1 with size 528\n",
      "index 529 is out of bounds for axis 1 with size 528\n",
      "index 529 is out of bounds for axis 1 with size 528\n",
      "index 535 is out of bounds for axis 1 with size 528\n",
      "index 536 is out of bounds for axis 1 with size 528\n",
      "index 536 is out of bounds for axis 1 with size 528\n",
      "index 538 is out of bounds for axis 1 with size 528\n",
      "index 538 is out of bounds for axis 1 with size 528\n",
      "index 537 is out of bounds for axis 1 with size 528\n",
      "index 538 is out of bounds for axis 1 with size 528\n",
      "index 547 is out of bounds for axis 1 with size 528\n",
      "index 552 is out of bounds for axis 1 with size 528\n",
      "index 532 is out of bounds for axis 1 with size 528\n",
      "index 536 is out of bounds for axis 1 with size 528\n",
      "index 540 is out of bounds for axis 1 with size 528\n",
      "index 542 is out of bounds for axis 1 with size 528\n",
      "index 548 is out of bounds for axis 1 with size 528\n",
      "index 528 is out of bounds for axis 1 with size 528\n",
      "index 530 is out of bounds for axis 1 with size 528\n",
      "index 536 is out of bounds for axis 1 with size 528\n",
      "index 542 is out of bounds for axis 1 with size 528\n",
      "index 544 is out of bounds for axis 1 with size 528\n",
      "index 546 is out of bounds for axis 1 with size 528\n",
      "index 550 is out of bounds for axis 1 with size 528\n",
      "index 528 is out of bounds for axis 1 with size 528\n",
      "index 529 is out of bounds for axis 1 with size 528\n",
      "index 528 is out of bounds for axis 1 with size 528\n",
      "index 530 is out of bounds for axis 1 with size 528\n",
      "index 531 is out of bounds for axis 1 with size 528\n",
      "index 531 is out of bounds for axis 1 with size 528\n",
      "index 535 is out of bounds for axis 1 with size 528\n",
      "index 537 is out of bounds for axis 1 with size 528\n",
      "index 552 is out of bounds for axis 1 with size 528\n",
      "index 530 is out of bounds for axis 1 with size 528\n",
      "index 528 is out of bounds for axis 1 with size 528\n",
      "index 531 is out of bounds for axis 1 with size 528\n",
      "index 531 is out of bounds for axis 1 with size 528\n",
      "index 532 is out of bounds for axis 1 with size 528\n",
      "index 536 is out of bounds for axis 1 with size 528\n",
      "index 537 is out of bounds for axis 1 with size 528\n",
      "index 537 is out of bounds for axis 1 with size 528\n",
      "index 543 is out of bounds for axis 1 with size 528\n",
      "index 546 is out of bounds for axis 1 with size 528\n",
      "index 554 is out of bounds for axis 1 with size 528\n",
      "index 528 is out of bounds for axis 1 with size 528\n",
      "index 531 is out of bounds for axis 1 with size 528\n",
      "index 533 is out of bounds for axis 1 with size 528\n",
      "index 534 is out of bounds for axis 1 with size 528\n",
      "index 534 is out of bounds for axis 1 with size 528\n",
      "index 541 is out of bounds for axis 1 with size 528\n",
      "index 544 is out of bounds for axis 1 with size 528\n",
      "index 545 is out of bounds for axis 1 with size 528\n",
      "index 528 is out of bounds for axis 1 with size 528\n",
      "index 531 is out of bounds for axis 1 with size 528\n",
      "index 532 is out of bounds for axis 1 with size 528\n",
      "index 533 is out of bounds for axis 1 with size 528\n",
      "index 538 is out of bounds for axis 1 with size 528\n",
      "index 542 is out of bounds for axis 1 with size 528\n",
      "index 543 is out of bounds for axis 1 with size 528\n",
      "index 544 is out of bounds for axis 1 with size 528\n",
      "index 545 is out of bounds for axis 1 with size 528\n",
      "index 545 is out of bounds for axis 1 with size 528\n",
      "index 545 is out of bounds for axis 1 with size 528\n",
      "index 531 is out of bounds for axis 1 with size 528\n",
      "index 531 is out of bounds for axis 1 with size 528\n",
      "index 531 is out of bounds for axis 1 with size 528\n",
      "index 535 is out of bounds for axis 1 with size 528\n",
      "index 537 is out of bounds for axis 1 with size 528\n",
      "index 541 is out of bounds for axis 1 with size 528\n",
      "index 541 is out of bounds for axis 1 with size 528\n",
      "index 544 is out of bounds for axis 1 with size 528\n",
      "index 551 is out of bounds for axis 1 with size 528\n",
      "index 529 is out of bounds for axis 1 with size 528\n",
      "index 530 is out of bounds for axis 1 with size 528\n",
      "index 534 is out of bounds for axis 1 with size 528\n",
      "index 535 is out of bounds for axis 1 with size 528\n",
      "index 536 is out of bounds for axis 1 with size 528\n",
      "index 541 is out of bounds for axis 1 with size 528\n",
      "index 542 is out of bounds for axis 1 with size 528\n",
      "index 541 is out of bounds for axis 1 with size 528\n",
      "index 547 is out of bounds for axis 1 with size 528\n",
      "index 546 is out of bounds for axis 1 with size 528\n",
      "index 546 is out of bounds for axis 1 with size 528\n",
      "index 531 is out of bounds for axis 1 with size 528\n",
      "index 538 is out of bounds for axis 1 with size 528\n",
      "index 542 is out of bounds for axis 1 with size 528\n",
      "index 543 is out of bounds for axis 1 with size 528\n",
      "index 554 is out of bounds for axis 1 with size 528\n",
      "index 529 is out of bounds for axis 1 with size 528\n",
      "index 531 is out of bounds for axis 1 with size 528\n",
      "index 530 is out of bounds for axis 1 with size 528\n",
      "index 530 is out of bounds for axis 1 with size 528\n",
      "index 531 is out of bounds for axis 1 with size 528\n",
      "index 533 is out of bounds for axis 1 with size 528\n",
      "index 534 is out of bounds for axis 1 with size 528\n",
      "index 533 is out of bounds for axis 1 with size 528\n",
      "index 535 is out of bounds for axis 1 with size 528\n",
      "index 537 is out of bounds for axis 1 with size 528\n",
      "index 537 is out of bounds for axis 1 with size 528\n",
      "index 539 is out of bounds for axis 1 with size 528\n",
      "index 539 is out of bounds for axis 1 with size 528\n",
      "index 543 is out of bounds for axis 1 with size 528\n",
      "index 544 is out of bounds for axis 1 with size 528\n",
      "index 545 is out of bounds for axis 1 with size 528\n",
      "index 546 is out of bounds for axis 1 with size 528\n",
      "index 547 is out of bounds for axis 1 with size 528\n",
      "index 547 is out of bounds for axis 1 with size 528\n",
      "index 556 is out of bounds for axis 1 with size 528\n",
      "index 530 is out of bounds for axis 1 with size 528\n",
      "index 530 is out of bounds for axis 1 with size 528\n",
      "index 531 is out of bounds for axis 1 with size 528\n",
      "index 536 is out of bounds for axis 1 with size 528\n",
      "index 538 is out of bounds for axis 1 with size 528\n",
      "index 539 is out of bounds for axis 1 with size 528\n",
      "index 542 is out of bounds for axis 1 with size 528\n",
      "index 547 is out of bounds for axis 1 with size 528\n",
      "index 553 is out of bounds for axis 1 with size 528\n",
      "index 530 is out of bounds for axis 1 with size 528\n",
      "index 534 is out of bounds for axis 1 with size 528\n",
      "index 533 is out of bounds for axis 1 with size 528\n",
      "index 534 is out of bounds for axis 1 with size 528\n",
      "index 538 is out of bounds for axis 1 with size 528\n",
      "index 539 is out of bounds for axis 1 with size 528\n",
      "index 540 is out of bounds for axis 1 with size 528\n",
      "index 542 is out of bounds for axis 1 with size 528\n",
      "index 543 is out of bounds for axis 1 with size 528\n",
      "index 545 is out of bounds for axis 1 with size 528\n",
      "index 548 is out of bounds for axis 1 with size 528\n",
      "index 528 is out of bounds for axis 1 with size 528\n",
      "index 528 is out of bounds for axis 1 with size 528\n",
      "index 534 is out of bounds for axis 1 with size 528\n",
      "index 536 is out of bounds for axis 1 with size 528\n",
      "index 540 is out of bounds for axis 1 with size 528\n",
      "index 544 is out of bounds for axis 1 with size 528\n",
      "index 552 is out of bounds for axis 1 with size 528\n",
      "index 552 is out of bounds for axis 1 with size 528\n",
      "index 557 is out of bounds for axis 1 with size 528\n",
      "index 529 is out of bounds for axis 1 with size 528\n",
      "index 530 is out of bounds for axis 1 with size 528\n",
      "index 534 is out of bounds for axis 1 with size 528\n",
      "index 537 is out of bounds for axis 1 with size 528\n",
      "index 537 is out of bounds for axis 1 with size 528\n",
      "index 541 is out of bounds for axis 1 with size 528\n",
      "index 542 is out of bounds for axis 1 with size 528\n",
      "index 542 is out of bounds for axis 1 with size 528\n",
      "index 547 is out of bounds for axis 1 with size 528\n",
      "index 547 is out of bounds for axis 1 with size 528\n",
      "index 551 is out of bounds for axis 1 with size 528\n",
      "index 554 is out of bounds for axis 1 with size 528\n",
      "index 555 is out of bounds for axis 1 with size 528\n",
      "index 528 is out of bounds for axis 1 with size 528\n",
      "index 529 is out of bounds for axis 1 with size 528\n",
      "index 530 is out of bounds for axis 1 with size 528\n",
      "index 542 is out of bounds for axis 1 with size 528\n",
      "index 542 is out of bounds for axis 1 with size 528\n",
      "index 541 is out of bounds for axis 1 with size 528\n",
      "index 538 is out of bounds for axis 1 with size 528\n",
      "index 540 is out of bounds for axis 1 with size 528\n",
      "index 544 is out of bounds for axis 1 with size 528\n",
      "index 543 is out of bounds for axis 1 with size 528\n",
      "index 543 is out of bounds for axis 1 with size 528\n",
      "index 551 is out of bounds for axis 1 with size 528\n",
      "index 552 is out of bounds for axis 1 with size 528\n",
      "index 554 is out of bounds for axis 1 with size 528\n",
      "index 555 is out of bounds for axis 1 with size 528\n",
      "index 528 is out of bounds for axis 1 with size 528\n",
      "index 529 is out of bounds for axis 1 with size 528\n",
      "index 529 is out of bounds for axis 1 with size 528\n",
      "index 532 is out of bounds for axis 1 with size 528\n",
      "index 534 is out of bounds for axis 1 with size 528\n",
      "index 558 is out of bounds for axis 1 with size 528\n",
      "index 540 is out of bounds for axis 1 with size 528\n",
      "index 550 is out of bounds for axis 1 with size 528\n",
      "index 551 is out of bounds for axis 1 with size 528\n",
      "index 556 is out of bounds for axis 1 with size 528\n",
      "index 528 is out of bounds for axis 1 with size 528\n",
      "index 530 is out of bounds for axis 1 with size 528\n",
      "index 531 is out of bounds for axis 1 with size 528\n",
      "index 531 is out of bounds for axis 1 with size 528\n",
      "index 537 is out of bounds for axis 1 with size 528\n",
      "index 538 is out of bounds for axis 1 with size 528\n",
      "index 539 is out of bounds for axis 1 with size 528\n",
      "index 551 is out of bounds for axis 1 with size 528\n",
      "index 555 is out of bounds for axis 1 with size 528\n",
      "index 553 is out of bounds for axis 1 with size 528\n",
      "index 531 is out of bounds for axis 1 with size 528\n",
      "index 533 is out of bounds for axis 1 with size 528\n",
      "index 532 is out of bounds for axis 1 with size 528\n",
      "index 533 is out of bounds for axis 1 with size 528\n",
      "index 534 is out of bounds for axis 1 with size 528\n",
      "index 534 is out of bounds for axis 1 with size 528\n",
      "index 537 is out of bounds for axis 1 with size 528\n",
      "index 538 is out of bounds for axis 1 with size 528\n",
      "index 539 is out of bounds for axis 1 with size 528\n",
      "index 539 is out of bounds for axis 1 with size 528\n",
      "index 541 is out of bounds for axis 1 with size 528\n",
      "index 540 is out of bounds for axis 1 with size 528\n",
      "index 552 is out of bounds for axis 1 with size 528\n",
      "index 554 is out of bounds for axis 1 with size 528\n",
      "index 557 is out of bounds for axis 1 with size 528\n",
      "index 531 is out of bounds for axis 1 with size 528\n",
      "index 532 is out of bounds for axis 1 with size 528\n",
      "index 533 is out of bounds for axis 1 with size 528\n",
      "index 534 is out of bounds for axis 1 with size 528\n",
      "index 540 is out of bounds for axis 1 with size 528\n",
      "index 541 is out of bounds for axis 1 with size 528\n",
      "index 541 is out of bounds for axis 1 with size 528\n",
      "index 553 is out of bounds for axis 1 with size 528\n",
      "index 529 is out of bounds for axis 1 with size 528\n",
      "index 529 is out of bounds for axis 1 with size 528\n",
      "index 537 is out of bounds for axis 1 with size 528\n",
      "index 536 is out of bounds for axis 1 with size 528\n",
      "index 548 is out of bounds for axis 1 with size 528\n",
      "index 550 is out of bounds for axis 1 with size 528\n",
      "index 551 is out of bounds for axis 1 with size 528\n",
      "index 555 is out of bounds for axis 1 with size 528\n",
      "index 556 is out of bounds for axis 1 with size 528\n",
      "index 530 is out of bounds for axis 1 with size 528\n",
      "index 534 is out of bounds for axis 1 with size 528\n",
      "index 534 is out of bounds for axis 1 with size 528\n",
      "index 537 is out of bounds for axis 1 with size 528\n",
      "index 540 is out of bounds for axis 1 with size 528\n",
      "index 542 is out of bounds for axis 1 with size 528\n",
      "index 544 is out of bounds for axis 1 with size 528\n",
      "index 531 is out of bounds for axis 1 with size 528\n",
      "index 535 is out of bounds for axis 1 with size 528\n",
      "index 541 is out of bounds for axis 1 with size 528\n",
      "index 544 is out of bounds for axis 1 with size 528\n",
      "index 531 is out of bounds for axis 1 with size 528\n",
      "index 532 is out of bounds for axis 1 with size 528\n",
      "index 536 is out of bounds for axis 1 with size 528\n",
      "index 542 is out of bounds for axis 1 with size 528\n",
      "index 536 is out of bounds for axis 1 with size 528\n",
      "index 558 is out of bounds for axis 1 with size 528\n",
      "index 532 is out of bounds for axis 1 with size 528\n",
      "index 536 is out of bounds for axis 1 with size 528\n",
      "index 538 is out of bounds for axis 1 with size 528\n",
      "index 540 is out of bounds for axis 1 with size 528\n",
      "index 530 is out of bounds for axis 1 with size 528\n",
      "index 531 is out of bounds for axis 1 with size 528\n",
      "index 530 is out of bounds for axis 1 with size 528\n",
      "index 531 is out of bounds for axis 1 with size 528\n",
      "index 533 is out of bounds for axis 1 with size 528\n",
      "index 534 is out of bounds for axis 1 with size 528\n",
      "index 535 is out of bounds for axis 1 with size 528\n",
      "index 536 is out of bounds for axis 1 with size 528\n",
      "index 536 is out of bounds for axis 1 with size 528\n",
      "index 539 is out of bounds for axis 1 with size 528\n",
      "index 536 is out of bounds for axis 1 with size 528\n",
      "index 538 is out of bounds for axis 1 with size 528\n",
      "index 545 is out of bounds for axis 1 with size 528\n",
      "index 544 is out of bounds for axis 1 with size 528\n",
      "index 545 is out of bounds for axis 1 with size 528\n",
      "index 551 is out of bounds for axis 1 with size 528\n",
      "index 558 is out of bounds for axis 1 with size 528\n",
      "index 529 is out of bounds for axis 1 with size 528\n",
      "index 530 is out of bounds for axis 1 with size 528\n",
      "index 532 is out of bounds for axis 1 with size 528\n",
      "index 532 is out of bounds for axis 1 with size 528\n",
      "index 534 is out of bounds for axis 1 with size 528\n",
      "index 537 is out of bounds for axis 1 with size 528\n",
      "index 536 is out of bounds for axis 1 with size 528\n",
      "index 537 is out of bounds for axis 1 with size 528\n",
      "index 542 is out of bounds for axis 1 with size 528\n",
      "index 541 is out of bounds for axis 1 with size 528\n",
      "index 548 is out of bounds for axis 1 with size 528\n",
      "index 551 is out of bounds for axis 1 with size 528\n",
      "index 551 is out of bounds for axis 1 with size 528\n",
      "index 556 is out of bounds for axis 1 with size 528\n",
      "index 528 is out of bounds for axis 1 with size 528\n",
      "index 528 is out of bounds for axis 1 with size 528\n",
      "index 529 is out of bounds for axis 1 with size 528\n",
      "index 529 is out of bounds for axis 1 with size 528\n",
      "index 530 is out of bounds for axis 1 with size 528\n",
      "index 531 is out of bounds for axis 1 with size 528\n",
      "index 533 is out of bounds for axis 1 with size 528\n",
      "index 535 is out of bounds for axis 1 with size 528\n",
      "index 539 is out of bounds for axis 1 with size 528\n",
      "index 540 is out of bounds for axis 1 with size 528\n",
      "index 542 is out of bounds for axis 1 with size 528\n",
      "index 542 is out of bounds for axis 1 with size 528\n",
      "index 549 is out of bounds for axis 1 with size 528\n",
      "index 550 is out of bounds for axis 1 with size 528\n",
      "index 528 is out of bounds for axis 1 with size 528\n",
      "index 530 is out of bounds for axis 1 with size 528\n",
      "index 530 is out of bounds for axis 1 with size 528\n",
      "index 534 is out of bounds for axis 1 with size 528\n",
      "index 535 is out of bounds for axis 1 with size 528\n",
      "index 536 is out of bounds for axis 1 with size 528\n",
      "index 539 is out of bounds for axis 1 with size 528\n",
      "index 536 is out of bounds for axis 1 with size 528\n",
      "index 540 is out of bounds for axis 1 with size 528\n",
      "index 540 is out of bounds for axis 1 with size 528\n",
      "index 539 is out of bounds for axis 1 with size 528\n",
      "index 539 is out of bounds for axis 1 with size 528\n",
      "index 556 is out of bounds for axis 1 with size 528\n",
      "index 554 is out of bounds for axis 1 with size 528\n",
      "index 560 is out of bounds for axis 1 with size 528\n",
      "index 528 is out of bounds for axis 1 with size 528\n",
      "index 535 is out of bounds for axis 1 with size 528\n",
      "index 531 is out of bounds for axis 1 with size 528\n",
      "index 533 is out of bounds for axis 1 with size 528\n",
      "index 535 is out of bounds for axis 1 with size 528\n",
      "index 531 is out of bounds for axis 1 with size 528\n",
      "index 530 is out of bounds for axis 1 with size 528\n",
      "index 530 is out of bounds for axis 1 with size 528\n",
      "index 534 is out of bounds for axis 1 with size 528\n",
      "index 537 is out of bounds for axis 1 with size 528\n",
      "index 537 is out of bounds for axis 1 with size 528\n",
      "index 546 is out of bounds for axis 1 with size 528\n",
      "index 550 is out of bounds for axis 1 with size 528\n",
      "index 558 is out of bounds for axis 1 with size 528\n",
      "index 529 is out of bounds for axis 1 with size 528\n",
      "index 529 is out of bounds for axis 1 with size 528\n",
      "index 531 is out of bounds for axis 1 with size 528\n",
      "index 534 is out of bounds for axis 1 with size 528\n",
      "index 541 is out of bounds for axis 1 with size 528\n",
      "index 547 is out of bounds for axis 1 with size 528\n",
      "index 551 is out of bounds for axis 1 with size 528\n",
      "index 528 is out of bounds for axis 1 with size 528\n",
      "index 530 is out of bounds for axis 1 with size 528\n",
      "index 530 is out of bounds for axis 1 with size 528\n",
      "index 532 is out of bounds for axis 1 with size 528\n",
      "index 532 is out of bounds for axis 1 with size 528\n",
      "index 535 is out of bounds for axis 1 with size 528\n",
      "index 533 is out of bounds for axis 1 with size 528\n",
      "index 540 is out of bounds for axis 1 with size 528\n",
      "index 541 is out of bounds for axis 1 with size 528\n",
      "index 547 is out of bounds for axis 1 with size 528\n",
      "index 556 is out of bounds for axis 1 with size 528\n",
      "index 551 is out of bounds for axis 1 with size 528\n",
      "index 558 is out of bounds for axis 1 with size 528\n",
      "index 528 is out of bounds for axis 1 with size 528\n",
      "index 531 is out of bounds for axis 1 with size 528\n",
      "index 531 is out of bounds for axis 1 with size 528\n",
      "index 539 is out of bounds for axis 1 with size 528\n",
      "index 542 is out of bounds for axis 1 with size 528\n",
      "index 542 is out of bounds for axis 1 with size 528\n",
      "index 546 is out of bounds for axis 1 with size 528\n",
      "index 548 is out of bounds for axis 1 with size 528\n",
      "index 555 is out of bounds for axis 1 with size 528\n",
      "index 559 is out of bounds for axis 1 with size 528\n",
      "index 560 is out of bounds for axis 1 with size 528\n",
      "index 531 is out of bounds for axis 1 with size 528\n",
      "index 537 is out of bounds for axis 1 with size 528\n",
      "index 539 is out of bounds for axis 1 with size 528\n",
      "index 540 is out of bounds for axis 1 with size 528\n",
      "index 550 is out of bounds for axis 1 with size 528\n",
      "index 549 is out of bounds for axis 1 with size 528\n",
      "index 553 is out of bounds for axis 1 with size 528\n",
      "index 550 is out of bounds for axis 1 with size 528\n",
      "index 528 is out of bounds for axis 1 with size 528\n",
      "index 528 is out of bounds for axis 1 with size 528\n",
      "index 528 is out of bounds for axis 1 with size 528\n",
      "index 529 is out of bounds for axis 1 with size 528\n",
      "index 531 is out of bounds for axis 1 with size 528\n",
      "index 532 is out of bounds for axis 1 with size 528\n",
      "index 532 is out of bounds for axis 1 with size 528\n",
      "index 535 is out of bounds for axis 1 with size 528\n",
      "index 535 is out of bounds for axis 1 with size 528\n",
      "index 536 is out of bounds for axis 1 with size 528\n",
      "index 538 is out of bounds for axis 1 with size 528\n",
      "index 537 is out of bounds for axis 1 with size 528\n",
      "index 538 is out of bounds for axis 1 with size 528\n",
      "index 556 is out of bounds for axis 1 with size 528\n",
      "index 557 is out of bounds for axis 1 with size 528\n",
      "index 561 is out of bounds for axis 1 with size 528\n",
      "index 530 is out of bounds for axis 1 with size 528\n",
      "index 531 is out of bounds for axis 1 with size 528\n",
      "index 533 is out of bounds for axis 1 with size 528\n",
      "index 534 is out of bounds for axis 1 with size 528\n",
      "index 535 is out of bounds for axis 1 with size 528\n",
      "index 537 is out of bounds for axis 1 with size 528\n",
      "index 539 is out of bounds for axis 1 with size 528\n",
      "index 542 is out of bounds for axis 1 with size 528\n",
      "index 546 is out of bounds for axis 1 with size 528\n",
      "index 545 is out of bounds for axis 1 with size 528\n",
      "index 547 is out of bounds for axis 1 with size 528\n",
      "index 548 is out of bounds for axis 1 with size 528\n",
      "index 528 is out of bounds for axis 1 with size 528\n",
      "index 528 is out of bounds for axis 1 with size 528\n",
      "index 529 is out of bounds for axis 1 with size 528\n",
      "index 529 is out of bounds for axis 1 with size 528\n",
      "index 531 is out of bounds for axis 1 with size 528\n",
      "index 533 is out of bounds for axis 1 with size 528\n",
      "index 534 is out of bounds for axis 1 with size 528\n",
      "index 539 is out of bounds for axis 1 with size 528\n",
      "index 538 is out of bounds for axis 1 with size 528\n",
      "index 539 is out of bounds for axis 1 with size 528\n",
      "index 540 is out of bounds for axis 1 with size 528\n",
      "index 539 is out of bounds for axis 1 with size 528\n",
      "index 544 is out of bounds for axis 1 with size 528\n",
      "index 548 is out of bounds for axis 1 with size 528\n",
      "index 547 is out of bounds for axis 1 with size 528\n",
      "index 555 is out of bounds for axis 1 with size 528\n",
      "index 554 is out of bounds for axis 1 with size 528\n",
      "index 532 is out of bounds for axis 1 with size 528\n",
      "index 533 is out of bounds for axis 1 with size 528\n",
      "index 533 is out of bounds for axis 1 with size 528\n",
      "index 536 is out of bounds for axis 1 with size 528\n",
      "index 539 is out of bounds for axis 1 with size 528\n",
      "index 539 is out of bounds for axis 1 with size 528\n",
      "index 546 is out of bounds for axis 1 with size 528\n",
      "index 554 is out of bounds for axis 1 with size 528\n",
      "index 552 is out of bounds for axis 1 with size 528\n",
      "index 528 is out of bounds for axis 1 with size 528\n",
      "index 533 is out of bounds for axis 1 with size 528\n",
      "index 533 is out of bounds for axis 1 with size 528\n",
      "index 539 is out of bounds for axis 1 with size 528\n",
      "index 540 is out of bounds for axis 1 with size 528\n",
      "index 541 is out of bounds for axis 1 with size 528\n",
      "index 541 is out of bounds for axis 1 with size 528\n",
      "index 542 is out of bounds for axis 1 with size 528\n",
      "index 546 is out of bounds for axis 1 with size 528\n",
      "index 546 is out of bounds for axis 1 with size 528\n",
      "index 554 is out of bounds for axis 1 with size 528\n",
      "index 530 is out of bounds for axis 1 with size 528\n",
      "index 529 is out of bounds for axis 1 with size 528\n",
      "index 530 is out of bounds for axis 1 with size 528\n",
      "index 530 is out of bounds for axis 1 with size 528\n",
      "index 534 is out of bounds for axis 1 with size 528\n",
      "index 534 is out of bounds for axis 1 with size 528\n",
      "index 537 is out of bounds for axis 1 with size 528\n",
      "index 538 is out of bounds for axis 1 with size 528\n",
      "index 539 is out of bounds for axis 1 with size 528\n",
      "index 539 is out of bounds for axis 1 with size 528\n",
      "index 539 is out of bounds for axis 1 with size 528\n",
      "index 539 is out of bounds for axis 1 with size 528\n",
      "index 542 is out of bounds for axis 1 with size 528\n",
      "index 545 is out of bounds for axis 1 with size 528\n",
      "index 549 is out of bounds for axis 1 with size 528\n",
      "index 551 is out of bounds for axis 1 with size 528\n",
      "index 529 is out of bounds for axis 1 with size 528\n",
      "index 528 is out of bounds for axis 1 with size 528\n",
      "index 531 is out of bounds for axis 1 with size 528\n",
      "index 532 is out of bounds for axis 1 with size 528\n",
      "index 532 is out of bounds for axis 1 with size 528\n",
      "index 532 is out of bounds for axis 1 with size 528\n",
      "index 534 is out of bounds for axis 1 with size 528\n",
      "index 537 is out of bounds for axis 1 with size 528\n",
      "index 538 is out of bounds for axis 1 with size 528\n",
      "index 540 is out of bounds for axis 1 with size 528\n",
      "index 540 is out of bounds for axis 1 with size 528\n",
      "index 542 is out of bounds for axis 1 with size 528\n",
      "index 545 is out of bounds for axis 1 with size 528\n",
      "index 556 is out of bounds for axis 1 with size 528\n",
      "index 554 is out of bounds for axis 1 with size 528\n",
      "index 555 is out of bounds for axis 1 with size 528\n",
      "index 528 is out of bounds for axis 1 with size 528\n",
      "index 529 is out of bounds for axis 1 with size 528\n",
      "index 528 is out of bounds for axis 1 with size 528\n",
      "index 530 is out of bounds for axis 1 with size 528\n",
      "index 530 is out of bounds for axis 1 with size 528\n",
      "index 532 is out of bounds for axis 1 with size 528\n",
      "index 532 is out of bounds for axis 1 with size 528\n",
      "index 531 is out of bounds for axis 1 with size 528\n",
      "index 531 is out of bounds for axis 1 with size 528\n",
      "index 533 is out of bounds for axis 1 with size 528\n",
      "index 537 is out of bounds for axis 1 with size 528\n",
      "index 537 is out of bounds for axis 1 with size 528\n",
      "index 536 is out of bounds for axis 1 with size 528\n",
      "index 537 is out of bounds for axis 1 with size 528\n",
      "index 538 is out of bounds for axis 1 with size 528\n",
      "index 539 is out of bounds for axis 1 with size 528\n",
      "index 543 is out of bounds for axis 1 with size 528\n",
      "index 545 is out of bounds for axis 1 with size 528\n",
      "index 547 is out of bounds for axis 1 with size 528\n",
      "index 548 is out of bounds for axis 1 with size 528\n",
      "index 547 is out of bounds for axis 1 with size 528\n",
      "index 528 is out of bounds for axis 1 with size 528\n",
      "index 529 is out of bounds for axis 1 with size 528\n",
      "index 532 is out of bounds for axis 1 with size 528\n",
      "index 531 is out of bounds for axis 1 with size 528\n",
      "index 536 is out of bounds for axis 1 with size 528\n",
      "index 536 is out of bounds for axis 1 with size 528\n",
      "index 537 is out of bounds for axis 1 with size 528\n",
      "index 537 is out of bounds for axis 1 with size 528\n",
      "index 538 is out of bounds for axis 1 with size 528\n",
      "index 538 is out of bounds for axis 1 with size 528\n",
      "index 538 is out of bounds for axis 1 with size 528\n",
      "index 541 is out of bounds for axis 1 with size 528\n",
      "index 539 is out of bounds for axis 1 with size 528\n",
      "index 541 is out of bounds for axis 1 with size 528\n",
      "index 542 is out of bounds for axis 1 with size 528\n",
      "index 545 is out of bounds for axis 1 with size 528\n",
      "index 544 is out of bounds for axis 1 with size 528\n",
      "index 547 is out of bounds for axis 1 with size 528\n",
      "index 547 is out of bounds for axis 1 with size 528\n",
      "index 549 is out of bounds for axis 1 with size 528\n",
      "index 550 is out of bounds for axis 1 with size 528\n",
      "index 559 is out of bounds for axis 1 with size 528\n",
      "index 529 is out of bounds for axis 1 with size 528\n",
      "index 529 is out of bounds for axis 1 with size 528\n",
      "index 533 is out of bounds for axis 1 with size 528\n",
      "index 534 is out of bounds for axis 1 with size 528\n",
      "index 535 is out of bounds for axis 1 with size 528\n",
      "index 536 is out of bounds for axis 1 with size 528\n",
      "index 542 is out of bounds for axis 1 with size 528\n",
      "index 540 is out of bounds for axis 1 with size 528\n",
      "index 541 is out of bounds for axis 1 with size 528\n",
      "index 545 is out of bounds for axis 1 with size 528\n",
      "index 548 is out of bounds for axis 1 with size 528\n",
      "index 552 is out of bounds for axis 1 with size 528\n",
      "index 557 is out of bounds for axis 1 with size 528\n",
      "index 528 is out of bounds for axis 1 with size 528\n",
      "index 528 is out of bounds for axis 1 with size 528\n",
      "index 530 is out of bounds for axis 1 with size 528\n",
      "index 531 is out of bounds for axis 1 with size 528\n",
      "index 531 is out of bounds for axis 1 with size 528\n",
      "index 532 is out of bounds for axis 1 with size 528\n",
      "index 533 is out of bounds for axis 1 with size 528\n",
      "index 537 is out of bounds for axis 1 with size 528\n",
      "index 538 is out of bounds for axis 1 with size 528\n",
      "index 536 is out of bounds for axis 1 with size 528\n",
      "index 538 is out of bounds for axis 1 with size 528\n",
      "index 538 is out of bounds for axis 1 with size 528\n",
      "index 538 is out of bounds for axis 1 with size 528\n",
      "index 539 is out of bounds for axis 1 with size 528\n",
      "index 540 is out of bounds for axis 1 with size 528\n",
      "index 541 is out of bounds for axis 1 with size 528\n",
      "index 546 is out of bounds for axis 1 with size 528\n",
      "index 546 is out of bounds for axis 1 with size 528\n",
      "index 549 is out of bounds for axis 1 with size 528\n",
      "index 554 is out of bounds for axis 1 with size 528\n",
      "index 561 is out of bounds for axis 1 with size 528\n",
      "index 557 is out of bounds for axis 1 with size 528\n",
      "index 530 is out of bounds for axis 1 with size 528\n",
      "index 531 is out of bounds for axis 1 with size 528\n",
      "index 535 is out of bounds for axis 1 with size 528\n",
      "index 538 is out of bounds for axis 1 with size 528\n",
      "index 548 is out of bounds for axis 1 with size 528\n",
      "index 561 is out of bounds for axis 1 with size 528\n",
      "index 561 is out of bounds for axis 1 with size 528\n",
      "index 533 is out of bounds for axis 1 with size 528\n",
      "index 537 is out of bounds for axis 1 with size 528\n",
      "index 536 is out of bounds for axis 1 with size 528\n",
      "index 538 is out of bounds for axis 1 with size 528\n",
      "index 538 is out of bounds for axis 1 with size 528\n",
      "index 539 is out of bounds for axis 1 with size 528\n",
      "index 545 is out of bounds for axis 1 with size 528\n",
      "index 545 is out of bounds for axis 1 with size 528\n",
      "index 545 is out of bounds for axis 1 with size 528\n",
      "index 555 is out of bounds for axis 1 with size 528\n",
      "index 555 is out of bounds for axis 1 with size 528\n",
      "index 559 is out of bounds for axis 1 with size 528\n",
      "index 530 is out of bounds for axis 1 with size 528\n",
      "index 531 is out of bounds for axis 1 with size 528\n",
      "index 532 is out of bounds for axis 1 with size 528\n",
      "index 534 is out of bounds for axis 1 with size 528\n",
      "index 537 is out of bounds for axis 1 with size 528\n",
      "index 538 is out of bounds for axis 1 with size 528\n",
      "index 538 is out of bounds for axis 1 with size 528\n",
      "index 539 is out of bounds for axis 1 with size 528\n",
      "index 538 is out of bounds for axis 1 with size 528\n",
      "index 539 is out of bounds for axis 1 with size 528\n",
      "index 540 is out of bounds for axis 1 with size 528\n",
      "index 541 is out of bounds for axis 1 with size 528\n",
      "index 540 is out of bounds for axis 1 with size 528\n",
      "index 546 is out of bounds for axis 1 with size 528\n",
      "index 549 is out of bounds for axis 1 with size 528\n",
      "index 529 is out of bounds for axis 1 with size 528\n",
      "index 530 is out of bounds for axis 1 with size 528\n",
      "index 531 is out of bounds for axis 1 with size 528\n",
      "index 535 is out of bounds for axis 1 with size 528\n",
      "index 537 is out of bounds for axis 1 with size 528\n",
      "index 539 is out of bounds for axis 1 with size 528\n",
      "index 537 is out of bounds for axis 1 with size 528\n",
      "index 537 is out of bounds for axis 1 with size 528\n",
      "index 537 is out of bounds for axis 1 with size 528\n",
      "index 540 is out of bounds for axis 1 with size 528\n",
      "index 549 is out of bounds for axis 1 with size 528\n",
      "index 552 is out of bounds for axis 1 with size 528\n",
      "index 556 is out of bounds for axis 1 with size 528\n",
      "index 528 is out of bounds for axis 1 with size 528\n",
      "index 529 is out of bounds for axis 1 with size 528\n",
      "index 530 is out of bounds for axis 1 with size 528\n",
      "index 529 is out of bounds for axis 1 with size 528\n",
      "index 529 is out of bounds for axis 1 with size 528\n",
      "index 532 is out of bounds for axis 1 with size 528\n",
      "index 532 is out of bounds for axis 1 with size 528\n",
      "index 533 is out of bounds for axis 1 with size 528\n",
      "index 536 is out of bounds for axis 1 with size 528\n",
      "index 534 is out of bounds for axis 1 with size 528\n",
      "index 537 is out of bounds for axis 1 with size 528\n",
      "index 537 is out of bounds for axis 1 with size 528\n",
      "index 537 is out of bounds for axis 1 with size 528\n",
      "index 538 is out of bounds for axis 1 with size 528\n",
      "index 538 is out of bounds for axis 1 with size 528\n",
      "index 538 is out of bounds for axis 1 with size 528\n",
      "index 538 is out of bounds for axis 1 with size 528\n",
      "index 539 is out of bounds for axis 1 with size 528\n",
      "index 546 is out of bounds for axis 1 with size 528\n",
      "index 547 is out of bounds for axis 1 with size 528\n",
      "index 548 is out of bounds for axis 1 with size 528\n",
      "index 557 is out of bounds for axis 1 with size 528\n",
      "index 528 is out of bounds for axis 1 with size 528\n",
      "index 531 is out of bounds for axis 1 with size 528\n",
      "index 536 is out of bounds for axis 1 with size 528\n",
      "index 537 is out of bounds for axis 1 with size 528\n",
      "index 540 is out of bounds for axis 1 with size 528\n",
      "index 543 is out of bounds for axis 1 with size 528\n",
      "index 543 is out of bounds for axis 1 with size 528\n",
      "index 543 is out of bounds for axis 1 with size 528\n",
      "index 546 is out of bounds for axis 1 with size 528\n",
      "index 549 is out of bounds for axis 1 with size 528\n",
      "index 550 is out of bounds for axis 1 with size 528\n",
      "index 550 is out of bounds for axis 1 with size 528\n",
      "index 550 is out of bounds for axis 1 with size 528\n",
      "index 529 is out of bounds for axis 1 with size 528\n",
      "index 530 is out of bounds for axis 1 with size 528\n",
      "index 531 is out of bounds for axis 1 with size 528\n",
      "index 534 is out of bounds for axis 1 with size 528\n",
      "index 533 is out of bounds for axis 1 with size 528\n",
      "index 535 is out of bounds for axis 1 with size 528\n",
      "index 536 is out of bounds for axis 1 with size 528\n",
      "index 536 is out of bounds for axis 1 with size 528\n",
      "index 536 is out of bounds for axis 1 with size 528\n",
      "index 539 is out of bounds for axis 1 with size 528\n",
      "index 546 is out of bounds for axis 1 with size 528\n",
      "index 548 is out of bounds for axis 1 with size 528\n",
      "index 548 is out of bounds for axis 1 with size 528\n",
      "index 549 is out of bounds for axis 1 with size 528\n",
      "index 551 is out of bounds for axis 1 with size 528\n",
      "index 552 is out of bounds for axis 1 with size 528\n",
      "index 553 is out of bounds for axis 1 with size 528\n",
      "index 555 is out of bounds for axis 1 with size 528\n",
      "index 559 is out of bounds for axis 1 with size 528\n",
      "index 531 is out of bounds for axis 1 with size 528\n",
      "index 530 is out of bounds for axis 1 with size 528\n",
      "index 531 is out of bounds for axis 1 with size 528\n",
      "index 534 is out of bounds for axis 1 with size 528\n",
      "index 533 is out of bounds for axis 1 with size 528\n",
      "index 534 is out of bounds for axis 1 with size 528\n",
      "index 534 is out of bounds for axis 1 with size 528\n",
      "index 540 is out of bounds for axis 1 with size 528\n",
      "index 541 is out of bounds for axis 1 with size 528\n",
      "index 542 is out of bounds for axis 1 with size 528\n",
      "index 541 is out of bounds for axis 1 with size 528\n",
      "index 546 is out of bounds for axis 1 with size 528\n",
      "index 530 is out of bounds for axis 1 with size 528\n",
      "index 538 is out of bounds for axis 1 with size 528\n",
      "index 542 is out of bounds for axis 1 with size 528\n",
      "index 543 is out of bounds for axis 1 with size 528\n",
      "index 543 is out of bounds for axis 1 with size 528\n",
      "index 547 is out of bounds for axis 1 with size 528\n",
      "index 547 is out of bounds for axis 1 with size 528\n",
      "index 550 is out of bounds for axis 1 with size 528\n",
      "index 541 is out of bounds for axis 1 with size 528\n",
      "index 548 is out of bounds for axis 1 with size 528\n",
      "index 539 is out of bounds for axis 1 with size 528\n",
      "index 539 is out of bounds for axis 1 with size 528\n",
      "index 542 is out of bounds for axis 1 with size 528\n",
      "index 542 is out of bounds for axis 1 with size 528\n",
      "index 548 is out of bounds for axis 1 with size 528\n",
      "index 538 is out of bounds for axis 1 with size 528\n",
      "index 542 is out of bounds for axis 1 with size 528\n",
      "index 542 is out of bounds for axis 1 with size 528\n",
      "index 545 is out of bounds for axis 1 with size 528\n",
      "index 531 is out of bounds for axis 1 with size 528\n",
      "index 531 is out of bounds for axis 1 with size 528\n",
      "index 536 is out of bounds for axis 1 with size 528\n",
      "index 533 is out of bounds for axis 1 with size 528\n",
      "index 534 is out of bounds for axis 1 with size 528\n",
      "index 540 is out of bounds for axis 1 with size 528\n",
      "index 539 is out of bounds for axis 1 with size 528\n",
      "index 541 is out of bounds for axis 1 with size 528\n",
      "index 548 is out of bounds for axis 1 with size 528\n",
      "index 547 is out of bounds for axis 1 with size 528\n",
      "index 530 is out of bounds for axis 1 with size 528\n",
      "index 531 is out of bounds for axis 1 with size 528\n",
      "index 535 is out of bounds for axis 1 with size 528\n",
      "index 535 is out of bounds for axis 1 with size 528\n",
      "index 534 is out of bounds for axis 1 with size 528\n",
      "index 537 is out of bounds for axis 1 with size 528\n",
      "index 537 is out of bounds for axis 1 with size 528\n",
      "index 539 is out of bounds for axis 1 with size 528\n",
      "index 540 is out of bounds for axis 1 with size 528\n",
      "index 539 is out of bounds for axis 1 with size 528\n",
      "index 540 is out of bounds for axis 1 with size 528\n",
      "index 540 is out of bounds for axis 1 with size 528\n",
      "index 542 is out of bounds for axis 1 with size 528\n",
      "index 541 is out of bounds for axis 1 with size 528\n",
      "index 542 is out of bounds for axis 1 with size 528\n",
      "index 546 is out of bounds for axis 1 with size 528\n",
      "index 546 is out of bounds for axis 1 with size 528\n",
      "index 547 is out of bounds for axis 1 with size 528\n",
      "index 549 is out of bounds for axis 1 with size 528\n",
      "index 554 is out of bounds for axis 1 with size 528\n",
      "index 531 is out of bounds for axis 1 with size 528\n",
      "index 531 is out of bounds for axis 1 with size 528\n",
      "index 532 is out of bounds for axis 1 with size 528\n",
      "index 533 is out of bounds for axis 1 with size 528\n",
      "index 536 is out of bounds for axis 1 with size 528\n",
      "index 538 is out of bounds for axis 1 with size 528\n",
      "index 537 is out of bounds for axis 1 with size 528\n",
      "index 540 is out of bounds for axis 1 with size 528\n",
      "index 539 is out of bounds for axis 1 with size 528\n",
      "index 542 is out of bounds for axis 1 with size 528\n",
      "index 540 is out of bounds for axis 1 with size 528\n",
      "index 540 is out of bounds for axis 1 with size 528\n",
      "index 540 is out of bounds for axis 1 with size 528\n",
      "index 541 is out of bounds for axis 1 with size 528\n",
      "index 541 is out of bounds for axis 1 with size 528\n",
      "index 543 is out of bounds for axis 1 with size 528\n",
      "index 542 is out of bounds for axis 1 with size 528\n",
      "index 543 is out of bounds for axis 1 with size 528\n",
      "index 549 is out of bounds for axis 1 with size 528\n",
      "index 549 is out of bounds for axis 1 with size 528\n",
      "index 550 is out of bounds for axis 1 with size 528\n",
      "index 550 is out of bounds for axis 1 with size 528\n",
      "index 529 is out of bounds for axis 1 with size 528\n",
      "index 531 is out of bounds for axis 1 with size 528\n",
      "index 532 is out of bounds for axis 1 with size 528\n",
      "index 535 is out of bounds for axis 1 with size 528\n",
      "index 535 is out of bounds for axis 1 with size 528\n",
      "index 537 is out of bounds for axis 1 with size 528\n",
      "index 537 is out of bounds for axis 1 with size 528\n",
      "index 538 is out of bounds for axis 1 with size 528\n",
      "index 538 is out of bounds for axis 1 with size 528\n",
      "index 541 is out of bounds for axis 1 with size 528\n",
      "index 541 is out of bounds for axis 1 with size 528\n",
      "index 541 is out of bounds for axis 1 with size 528\n",
      "index 543 is out of bounds for axis 1 with size 528\n",
      "index 543 is out of bounds for axis 1 with size 528\n",
      "index 544 is out of bounds for axis 1 with size 528\n",
      "index 549 is out of bounds for axis 1 with size 528\n",
      "index 557 is out of bounds for axis 1 with size 528\n",
      "index 533 is out of bounds for axis 1 with size 528\n",
      "index 531 is out of bounds for axis 1 with size 528\n",
      "index 532 is out of bounds for axis 1 with size 528\n",
      "index 536 is out of bounds for axis 1 with size 528\n",
      "index 538 is out of bounds for axis 1 with size 528\n",
      "index 539 is out of bounds for axis 1 with size 528\n",
      "index 539 is out of bounds for axis 1 with size 528\n",
      "index 540 is out of bounds for axis 1 with size 528\n",
      "index 542 is out of bounds for axis 1 with size 528\n",
      "index 541 is out of bounds for axis 1 with size 528\n",
      "index 542 is out of bounds for axis 1 with size 528\n",
      "index 544 is out of bounds for axis 1 with size 528\n",
      "index 548 is out of bounds for axis 1 with size 528\n",
      "index 548 is out of bounds for axis 1 with size 528\n",
      "index 550 is out of bounds for axis 1 with size 528\n",
      "index 556 is out of bounds for axis 1 with size 528\n",
      "index 556 is out of bounds for axis 1 with size 528\n",
      "index 536 is out of bounds for axis 1 with size 528\n",
      "index 531 is out of bounds for axis 1 with size 528\n",
      "index 537 is out of bounds for axis 1 with size 528\n",
      "index 538 is out of bounds for axis 1 with size 528\n",
      "index 538 is out of bounds for axis 1 with size 528\n",
      "index 540 is out of bounds for axis 1 with size 528\n",
      "index 539 is out of bounds for axis 1 with size 528\n",
      "index 544 is out of bounds for axis 1 with size 528\n",
      "index 544 is out of bounds for axis 1 with size 528\n",
      "index 547 is out of bounds for axis 1 with size 528\n",
      "index 550 is out of bounds for axis 1 with size 528\n",
      "index 555 is out of bounds for axis 1 with size 528\n",
      "index 529 is out of bounds for axis 1 with size 528\n",
      "index 531 is out of bounds for axis 1 with size 528\n",
      "index 532 is out of bounds for axis 1 with size 528\n",
      "index 534 is out of bounds for axis 1 with size 528\n",
      "index 538 is out of bounds for axis 1 with size 528\n",
      "index 537 is out of bounds for axis 1 with size 528\n",
      "index 540 is out of bounds for axis 1 with size 528\n",
      "index 539 is out of bounds for axis 1 with size 528\n",
      "index 540 is out of bounds for axis 1 with size 528\n",
      "index 543 is out of bounds for axis 1 with size 528\n",
      "index 544 is out of bounds for axis 1 with size 528\n",
      "index 548 is out of bounds for axis 1 with size 528\n",
      "index 548 is out of bounds for axis 1 with size 528\n",
      "index 550 is out of bounds for axis 1 with size 528\n",
      "index 528 is out of bounds for axis 1 with size 528\n",
      "index 528 is out of bounds for axis 1 with size 528\n",
      "index 528 is out of bounds for axis 1 with size 528\n",
      "index 531 is out of bounds for axis 1 with size 528\n",
      "index 537 is out of bounds for axis 1 with size 528\n",
      "index 536 is out of bounds for axis 1 with size 528\n",
      "index 536 is out of bounds for axis 1 with size 528\n",
      "index 538 is out of bounds for axis 1 with size 528\n",
      "index 537 is out of bounds for axis 1 with size 528\n",
      "index 539 is out of bounds for axis 1 with size 528\n",
      "index 541 is out of bounds for axis 1 with size 528\n",
      "index 540 is out of bounds for axis 1 with size 528\n",
      "index 541 is out of bounds for axis 1 with size 528\n",
      "index 542 is out of bounds for axis 1 with size 528\n",
      "index 542 is out of bounds for axis 1 with size 528\n",
      "index 542 is out of bounds for axis 1 with size 528\n",
      "index 543 is out of bounds for axis 1 with size 528\n",
      "index 544 is out of bounds for axis 1 with size 528\n",
      "index 543 is out of bounds for axis 1 with size 528\n",
      "index 544 is out of bounds for axis 1 with size 528\n",
      "index 546 is out of bounds for axis 1 with size 528\n",
      "index 546 is out of bounds for axis 1 with size 528\n",
      "index 549 is out of bounds for axis 1 with size 528\n",
      "index 549 is out of bounds for axis 1 with size 528\n",
      "index 549 is out of bounds for axis 1 with size 528\n",
      "index 559 is out of bounds for axis 1 with size 528\n",
      "index 531 is out of bounds for axis 1 with size 528\n",
      "index 532 is out of bounds for axis 1 with size 528\n",
      "index 534 is out of bounds for axis 1 with size 528\n",
      "index 532 is out of bounds for axis 1 with size 528\n",
      "index 533 is out of bounds for axis 1 with size 528\n",
      "index 536 is out of bounds for axis 1 with size 528\n",
      "index 537 is out of bounds for axis 1 with size 528\n",
      "index 540 is out of bounds for axis 1 with size 528\n",
      "index 540 is out of bounds for axis 1 with size 528\n",
      "index 542 is out of bounds for axis 1 with size 528\n",
      "index 544 is out of bounds for axis 1 with size 528\n",
      "index 544 is out of bounds for axis 1 with size 528\n",
      "index 549 is out of bounds for axis 1 with size 528\n",
      "index 548 is out of bounds for axis 1 with size 528\n",
      "index 549 is out of bounds for axis 1 with size 528\n",
      "index 549 is out of bounds for axis 1 with size 528\n",
      "index 549 is out of bounds for axis 1 with size 528\n",
      "index 528 is out of bounds for axis 1 with size 528\n",
      "index 528 is out of bounds for axis 1 with size 528\n",
      "index 531 is out of bounds for axis 1 with size 528\n",
      "index 530 is out of bounds for axis 1 with size 528\n",
      "index 530 is out of bounds for axis 1 with size 528\n",
      "index 532 is out of bounds for axis 1 with size 528\n",
      "index 533 is out of bounds for axis 1 with size 528\n",
      "index 532 is out of bounds for axis 1 with size 528\n",
      "index 535 is out of bounds for axis 1 with size 528\n",
      "index 536 is out of bounds for axis 1 with size 528\n",
      "index 535 is out of bounds for axis 1 with size 528\n",
      "index 538 is out of bounds for axis 1 with size 528\n",
      "index 538 is out of bounds for axis 1 with size 528\n",
      "index 540 is out of bounds for axis 1 with size 528\n",
      "index 541 is out of bounds for axis 1 with size 528\n",
      "index 541 is out of bounds for axis 1 with size 528\n",
      "index 542 is out of bounds for axis 1 with size 528\n",
      "index 542 is out of bounds for axis 1 with size 528\n",
      "index 546 is out of bounds for axis 1 with size 528\n",
      "index 545 is out of bounds for axis 1 with size 528\n",
      "index 547 is out of bounds for axis 1 with size 528\n",
      "index 548 is out of bounds for axis 1 with size 528\n",
      "index 552 is out of bounds for axis 1 with size 528\n",
      "index 528 is out of bounds for axis 1 with size 528\n",
      "index 529 is out of bounds for axis 1 with size 528\n",
      "index 529 is out of bounds for axis 1 with size 528\n",
      "index 529 is out of bounds for axis 1 with size 528\n",
      "index 531 is out of bounds for axis 1 with size 528\n",
      "index 531 is out of bounds for axis 1 with size 528\n",
      "index 532 is out of bounds for axis 1 with size 528\n",
      "index 531 is out of bounds for axis 1 with size 528\n",
      "index 534 is out of bounds for axis 1 with size 528\n",
      "index 534 is out of bounds for axis 1 with size 528\n",
      "index 540 is out of bounds for axis 1 with size 528\n",
      "index 537 is out of bounds for axis 1 with size 528\n",
      "index 542 is out of bounds for axis 1 with size 528\n",
      "index 538 is out of bounds for axis 1 with size 528\n",
      "index 540 is out of bounds for axis 1 with size 528\n",
      "index 544 is out of bounds for axis 1 with size 528\n",
      "index 542 is out of bounds for axis 1 with size 528\n",
      "index 542 is out of bounds for axis 1 with size 528\n",
      "index 542 is out of bounds for axis 1 with size 528\n",
      "index 542 is out of bounds for axis 1 with size 528\n",
      "index 544 is out of bounds for axis 1 with size 528\n",
      "index 543 is out of bounds for axis 1 with size 528\n",
      "index 543 is out of bounds for axis 1 with size 528\n",
      "index 545 is out of bounds for axis 1 with size 528\n",
      "index 550 is out of bounds for axis 1 with size 528\n",
      "index 550 is out of bounds for axis 1 with size 528\n",
      "index 552 is out of bounds for axis 1 with size 528\n",
      "index 528 is out of bounds for axis 1 with size 528\n",
      "index 530 is out of bounds for axis 1 with size 528\n",
      "index 530 is out of bounds for axis 1 with size 528\n",
      "index 531 is out of bounds for axis 1 with size 528\n",
      "index 533 is out of bounds for axis 1 with size 528\n",
      "index 534 is out of bounds for axis 1 with size 528\n",
      "index 536 is out of bounds for axis 1 with size 528\n",
      "index 537 is out of bounds for axis 1 with size 528\n",
      "index 541 is out of bounds for axis 1 with size 528\n",
      "index 541 is out of bounds for axis 1 with size 528\n",
      "index 542 is out of bounds for axis 1 with size 528\n",
      "index 544 is out of bounds for axis 1 with size 528\n",
      "index 548 is out of bounds for axis 1 with size 528\n",
      "index 545 is out of bounds for axis 1 with size 528\n",
      "index 546 is out of bounds for axis 1 with size 528\n",
      "index 547 is out of bounds for axis 1 with size 528\n",
      "index 553 is out of bounds for axis 1 with size 528\n",
      "index 557 is out of bounds for axis 1 with size 528\n",
      "index 528 is out of bounds for axis 1 with size 528\n",
      "index 531 is out of bounds for axis 1 with size 528\n",
      "index 531 is out of bounds for axis 1 with size 528\n",
      "index 534 is out of bounds for axis 1 with size 528\n",
      "index 537 is out of bounds for axis 1 with size 528\n",
      "index 538 is out of bounds for axis 1 with size 528\n",
      "index 539 is out of bounds for axis 1 with size 528\n",
      "index 540 is out of bounds for axis 1 with size 528\n"
     ]
    },
    {
     "name": "stdout",
     "output_type": "stream",
     "text": [
      "index 541 is out of bounds for axis 1 with size 528\n",
      "index 541 is out of bounds for axis 1 with size 528\n",
      "index 547 is out of bounds for axis 1 with size 528\n",
      "index 548 is out of bounds for axis 1 with size 528\n",
      "index 548 is out of bounds for axis 1 with size 528\n",
      "index 549 is out of bounds for axis 1 with size 528\n",
      "index 549 is out of bounds for axis 1 with size 528\n",
      "index 533 is out of bounds for axis 1 with size 528\n",
      "index 532 is out of bounds for axis 1 with size 528\n",
      "index 532 is out of bounds for axis 1 with size 528\n",
      "index 533 is out of bounds for axis 1 with size 528\n",
      "index 535 is out of bounds for axis 1 with size 528\n",
      "index 535 is out of bounds for axis 1 with size 528\n",
      "index 536 is out of bounds for axis 1 with size 528\n",
      "index 538 is out of bounds for axis 1 with size 528\n",
      "index 538 is out of bounds for axis 1 with size 528\n",
      "index 540 is out of bounds for axis 1 with size 528\n",
      "index 542 is out of bounds for axis 1 with size 528\n",
      "index 543 is out of bounds for axis 1 with size 528\n",
      "index 550 is out of bounds for axis 1 with size 528\n",
      "index 546 is out of bounds for axis 1 with size 528\n",
      "index 550 is out of bounds for axis 1 with size 528\n",
      "index 548 is out of bounds for axis 1 with size 528\n",
      "index 549 is out of bounds for axis 1 with size 528\n",
      "index 551 is out of bounds for axis 1 with size 528\n",
      "index 549 is out of bounds for axis 1 with size 528\n",
      "index 553 is out of bounds for axis 1 with size 528\n",
      "index 555 is out of bounds for axis 1 with size 528\n",
      "index 529 is out of bounds for axis 1 with size 528\n",
      "index 528 is out of bounds for axis 1 with size 528\n",
      "index 530 is out of bounds for axis 1 with size 528\n",
      "index 529 is out of bounds for axis 1 with size 528\n",
      "index 530 is out of bounds for axis 1 with size 528\n",
      "index 534 is out of bounds for axis 1 with size 528\n",
      "index 534 is out of bounds for axis 1 with size 528\n",
      "index 534 is out of bounds for axis 1 with size 528\n",
      "index 534 is out of bounds for axis 1 with size 528\n",
      "index 535 is out of bounds for axis 1 with size 528\n",
      "index 536 is out of bounds for axis 1 with size 528\n",
      "index 536 is out of bounds for axis 1 with size 528\n",
      "index 537 is out of bounds for axis 1 with size 528\n",
      "index 536 is out of bounds for axis 1 with size 528\n",
      "index 537 is out of bounds for axis 1 with size 528\n",
      "index 537 is out of bounds for axis 1 with size 528\n",
      "index 539 is out of bounds for axis 1 with size 528\n",
      "index 540 is out of bounds for axis 1 with size 528\n",
      "index 541 is out of bounds for axis 1 with size 528\n",
      "index 546 is out of bounds for axis 1 with size 528\n",
      "index 546 is out of bounds for axis 1 with size 528\n",
      "index 548 is out of bounds for axis 1 with size 528\n",
      "index 553 is out of bounds for axis 1 with size 528\n",
      "index 549 is out of bounds for axis 1 with size 528\n",
      "index 552 is out of bounds for axis 1 with size 528\n",
      "index 554 is out of bounds for axis 1 with size 528\n",
      "index 553 is out of bounds for axis 1 with size 528\n",
      "index 556 is out of bounds for axis 1 with size 528\n",
      "index 557 is out of bounds for axis 1 with size 528\n",
      "index 531 is out of bounds for axis 1 with size 528\n",
      "index 530 is out of bounds for axis 1 with size 528\n",
      "index 529 is out of bounds for axis 1 with size 528\n",
      "index 530 is out of bounds for axis 1 with size 528\n",
      "index 530 is out of bounds for axis 1 with size 528\n",
      "index 530 is out of bounds for axis 1 with size 528\n",
      "index 531 is out of bounds for axis 1 with size 528\n",
      "index 534 is out of bounds for axis 1 with size 528\n",
      "index 536 is out of bounds for axis 1 with size 528\n",
      "index 536 is out of bounds for axis 1 with size 528\n",
      "index 537 is out of bounds for axis 1 with size 528\n",
      "index 537 is out of bounds for axis 1 with size 528\n",
      "index 539 is out of bounds for axis 1 with size 528\n",
      "index 543 is out of bounds for axis 1 with size 528\n",
      "index 541 is out of bounds for axis 1 with size 528\n",
      "index 541 is out of bounds for axis 1 with size 528\n",
      "index 545 is out of bounds for axis 1 with size 528\n",
      "index 544 is out of bounds for axis 1 with size 528\n",
      "index 544 is out of bounds for axis 1 with size 528\n",
      "index 544 is out of bounds for axis 1 with size 528\n",
      "index 546 is out of bounds for axis 1 with size 528\n",
      "index 544 is out of bounds for axis 1 with size 528\n",
      "index 545 is out of bounds for axis 1 with size 528\n",
      "index 549 is out of bounds for axis 1 with size 528\n",
      "index 549 is out of bounds for axis 1 with size 528\n",
      "index 552 is out of bounds for axis 1 with size 528\n",
      "index 550 is out of bounds for axis 1 with size 528\n",
      "index 554 is out of bounds for axis 1 with size 528\n",
      "index 560 is out of bounds for axis 1 with size 528\n",
      "index 531 is out of bounds for axis 1 with size 528\n",
      "index 529 is out of bounds for axis 1 with size 528\n",
      "index 528 is out of bounds for axis 1 with size 528\n",
      "index 529 is out of bounds for axis 1 with size 528\n",
      "index 529 is out of bounds for axis 1 with size 528\n",
      "index 530 is out of bounds for axis 1 with size 528\n",
      "index 531 is out of bounds for axis 1 with size 528\n",
      "index 531 is out of bounds for axis 1 with size 528\n",
      "index 533 is out of bounds for axis 1 with size 528\n",
      "index 531 is out of bounds for axis 1 with size 528\n",
      "index 532 is out of bounds for axis 1 with size 528\n",
      "index 535 is out of bounds for axis 1 with size 528\n",
      "index 536 is out of bounds for axis 1 with size 528\n",
      "index 537 is out of bounds for axis 1 with size 528\n",
      "index 537 is out of bounds for axis 1 with size 528\n",
      "index 537 is out of bounds for axis 1 with size 528\n",
      "index 538 is out of bounds for axis 1 with size 528\n",
      "index 540 is out of bounds for axis 1 with size 528\n",
      "index 545 is out of bounds for axis 1 with size 528\n",
      "index 544 is out of bounds for axis 1 with size 528\n",
      "index 546 is out of bounds for axis 1 with size 528\n",
      "index 544 is out of bounds for axis 1 with size 528\n",
      "index 545 is out of bounds for axis 1 with size 528\n",
      "index 545 is out of bounds for axis 1 with size 528\n",
      "index 546 is out of bounds for axis 1 with size 528\n",
      "index 547 is out of bounds for axis 1 with size 528\n",
      "index 548 is out of bounds for axis 1 with size 528\n",
      "index 548 is out of bounds for axis 1 with size 528\n",
      "index 550 is out of bounds for axis 1 with size 528\n",
      "index 553 is out of bounds for axis 1 with size 528\n",
      "index 560 is out of bounds for axis 1 with size 528\n",
      "index 530 is out of bounds for axis 1 with size 528\n",
      "index 529 is out of bounds for axis 1 with size 528\n",
      "index 530 is out of bounds for axis 1 with size 528\n",
      "index 533 is out of bounds for axis 1 with size 528\n",
      "index 530 is out of bounds for axis 1 with size 528\n",
      "index 534 is out of bounds for axis 1 with size 528\n",
      "index 533 is out of bounds for axis 1 with size 528\n",
      "index 537 is out of bounds for axis 1 with size 528\n",
      "index 537 is out of bounds for axis 1 with size 528\n",
      "index 538 is out of bounds for axis 1 with size 528\n",
      "index 538 is out of bounds for axis 1 with size 528\n",
      "index 539 is out of bounds for axis 1 with size 528\n",
      "index 539 is out of bounds for axis 1 with size 528\n",
      "index 541 is out of bounds for axis 1 with size 528\n",
      "index 542 is out of bounds for axis 1 with size 528\n",
      "index 543 is out of bounds for axis 1 with size 528\n",
      "index 543 is out of bounds for axis 1 with size 528\n",
      "index 544 is out of bounds for axis 1 with size 528\n",
      "index 544 is out of bounds for axis 1 with size 528\n",
      "index 545 is out of bounds for axis 1 with size 528\n",
      "index 546 is out of bounds for axis 1 with size 528\n",
      "index 545 is out of bounds for axis 1 with size 528\n",
      "index 546 is out of bounds for axis 1 with size 528\n",
      "index 549 is out of bounds for axis 1 with size 528\n",
      "index 551 is out of bounds for axis 1 with size 528\n",
      "index 551 is out of bounds for axis 1 with size 528\n",
      "index 550 is out of bounds for axis 1 with size 528\n",
      "index 556 is out of bounds for axis 1 with size 528\n",
      "index 552 is out of bounds for axis 1 with size 528\n",
      "index 551 is out of bounds for axis 1 with size 528\n",
      "index 554 is out of bounds for axis 1 with size 528\n",
      "index 529 is out of bounds for axis 1 with size 528\n",
      "index 529 is out of bounds for axis 1 with size 528\n",
      "index 529 is out of bounds for axis 1 with size 528\n",
      "index 534 is out of bounds for axis 1 with size 528\n",
      "index 534 is out of bounds for axis 1 with size 528\n",
      "index 536 is out of bounds for axis 1 with size 528\n",
      "index 534 is out of bounds for axis 1 with size 528\n",
      "index 540 is out of bounds for axis 1 with size 528\n",
      "index 536 is out of bounds for axis 1 with size 528\n",
      "index 538 is out of bounds for axis 1 with size 528\n",
      "index 541 is out of bounds for axis 1 with size 528\n",
      "index 539 is out of bounds for axis 1 with size 528\n",
      "index 540 is out of bounds for axis 1 with size 528\n",
      "index 542 is out of bounds for axis 1 with size 528\n",
      "index 545 is out of bounds for axis 1 with size 528\n",
      "index 546 is out of bounds for axis 1 with size 528\n",
      "index 547 is out of bounds for axis 1 with size 528\n",
      "index 549 is out of bounds for axis 1 with size 528\n",
      "index 554 is out of bounds for axis 1 with size 528\n",
      "index 550 is out of bounds for axis 1 with size 528\n",
      "index 552 is out of bounds for axis 1 with size 528\n",
      "index 551 is out of bounds for axis 1 with size 528\n",
      "index 551 is out of bounds for axis 1 with size 528\n",
      "index 554 is out of bounds for axis 1 with size 528\n",
      "index 554 is out of bounds for axis 1 with size 528\n",
      "index 532 is out of bounds for axis 1 with size 528\n",
      "index 533 is out of bounds for axis 1 with size 528\n",
      "index 528 is out of bounds for axis 1 with size 528\n",
      "index 533 is out of bounds for axis 1 with size 528\n",
      "index 535 is out of bounds for axis 1 with size 528\n",
      "index 536 is out of bounds for axis 1 with size 528\n",
      "index 542 is out of bounds for axis 1 with size 528\n",
      "index 543 is out of bounds for axis 1 with size 528\n",
      "index 544 is out of bounds for axis 1 with size 528\n",
      "index 547 is out of bounds for axis 1 with size 528\n",
      "index 552 is out of bounds for axis 1 with size 528\n",
      "index 547 is out of bounds for axis 1 with size 528\n",
      "index 548 is out of bounds for axis 1 with size 528\n",
      "index 551 is out of bounds for axis 1 with size 528\n",
      "index 529 is out of bounds for axis 1 with size 528\n",
      "index 530 is out of bounds for axis 1 with size 528\n",
      "index 529 is out of bounds for axis 1 with size 528\n",
      "index 530 is out of bounds for axis 1 with size 528\n",
      "index 530 is out of bounds for axis 1 with size 528\n",
      "index 534 is out of bounds for axis 1 with size 528\n",
      "index 534 is out of bounds for axis 1 with size 528\n",
      "index 536 is out of bounds for axis 1 with size 528\n",
      "index 540 is out of bounds for axis 1 with size 528\n",
      "index 542 is out of bounds for axis 1 with size 528\n",
      "index 543 is out of bounds for axis 1 with size 528\n",
      "index 544 is out of bounds for axis 1 with size 528\n",
      "index 548 is out of bounds for axis 1 with size 528\n",
      "index 550 is out of bounds for axis 1 with size 528\n",
      "index 552 is out of bounds for axis 1 with size 528\n",
      "index 551 is out of bounds for axis 1 with size 528\n",
      "index 554 is out of bounds for axis 1 with size 528\n",
      "index 558 is out of bounds for axis 1 with size 528\n",
      "index 531 is out of bounds for axis 1 with size 528\n",
      "index 528 is out of bounds for axis 1 with size 528\n",
      "index 534 is out of bounds for axis 1 with size 528\n",
      "index 529 is out of bounds for axis 1 with size 528\n",
      "index 533 is out of bounds for axis 1 with size 528\n",
      "index 530 is out of bounds for axis 1 with size 528\n",
      "index 532 is out of bounds for axis 1 with size 528\n",
      "index 534 is out of bounds for axis 1 with size 528\n",
      "index 536 is out of bounds for axis 1 with size 528\n",
      "index 541 is out of bounds for axis 1 with size 528\n",
      "index 542 is out of bounds for axis 1 with size 528\n",
      "index 545 is out of bounds for axis 1 with size 528\n",
      "index 547 is out of bounds for axis 1 with size 528\n",
      "index 547 is out of bounds for axis 1 with size 528\n",
      "index 547 is out of bounds for axis 1 with size 528\n",
      "index 548 is out of bounds for axis 1 with size 528\n",
      "index 548 is out of bounds for axis 1 with size 528\n",
      "index 552 is out of bounds for axis 1 with size 528\n",
      "index 551 is out of bounds for axis 1 with size 528\n",
      "index 551 is out of bounds for axis 1 with size 528\n",
      "index 555 is out of bounds for axis 1 with size 528\n",
      "index 556 is out of bounds for axis 1 with size 528\n",
      "index 532 is out of bounds for axis 1 with size 528\n",
      "index 531 is out of bounds for axis 1 with size 528\n",
      "index 531 is out of bounds for axis 1 with size 528\n",
      "index 530 is out of bounds for axis 1 with size 528\n",
      "index 529 is out of bounds for axis 1 with size 528\n",
      "index 532 is out of bounds for axis 1 with size 528\n",
      "index 533 is out of bounds for axis 1 with size 528\n",
      "index 532 is out of bounds for axis 1 with size 528\n",
      "index 532 is out of bounds for axis 1 with size 528\n",
      "index 533 is out of bounds for axis 1 with size 528\n",
      "index 537 is out of bounds for axis 1 with size 528\n",
      "index 540 is out of bounds for axis 1 with size 528\n",
      "index 541 is out of bounds for axis 1 with size 528\n",
      "index 542 is out of bounds for axis 1 with size 528\n",
      "index 542 is out of bounds for axis 1 with size 528\n",
      "index 543 is out of bounds for axis 1 with size 528\n",
      "index 544 is out of bounds for axis 1 with size 528\n",
      "index 543 is out of bounds for axis 1 with size 528\n",
      "index 544 is out of bounds for axis 1 with size 528\n",
      "index 545 is out of bounds for axis 1 with size 528\n",
      "index 546 is out of bounds for axis 1 with size 528\n",
      "index 548 is out of bounds for axis 1 with size 528\n",
      "index 553 is out of bounds for axis 1 with size 528\n",
      "index 552 is out of bounds for axis 1 with size 528\n",
      "index 551 is out of bounds for axis 1 with size 528\n",
      "index 554 is out of bounds for axis 1 with size 528\n",
      "index 528 is out of bounds for axis 1 with size 528\n",
      "index 532 is out of bounds for axis 1 with size 528\n",
      "index 536 is out of bounds for axis 1 with size 528\n",
      "index 538 is out of bounds for axis 1 with size 528\n",
      "index 539 is out of bounds for axis 1 with size 528\n",
      "index 542 is out of bounds for axis 1 with size 528\n",
      "index 545 is out of bounds for axis 1 with size 528\n",
      "index 545 is out of bounds for axis 1 with size 528\n",
      "index 548 is out of bounds for axis 1 with size 528\n",
      "index 547 is out of bounds for axis 1 with size 528\n",
      "index 556 is out of bounds for axis 1 with size 528\n",
      "index 556 is out of bounds for axis 1 with size 528\n",
      "index 554 is out of bounds for axis 1 with size 528\n",
      "index 529 is out of bounds for axis 1 with size 528\n",
      "index 534 is out of bounds for axis 1 with size 528\n",
      "index 529 is out of bounds for axis 1 with size 528\n",
      "index 536 is out of bounds for axis 1 with size 528\n",
      "index 531 is out of bounds for axis 1 with size 528\n",
      "index 532 is out of bounds for axis 1 with size 528\n",
      "index 532 is out of bounds for axis 1 with size 528\n",
      "index 533 is out of bounds for axis 1 with size 528\n",
      "index 535 is out of bounds for axis 1 with size 528\n",
      "index 534 is out of bounds for axis 1 with size 528\n",
      "index 535 is out of bounds for axis 1 with size 528\n",
      "index 537 is out of bounds for axis 1 with size 528\n",
      "index 540 is out of bounds for axis 1 with size 528\n",
      "index 538 is out of bounds for axis 1 with size 528\n",
      "index 539 is out of bounds for axis 1 with size 528\n",
      "index 538 is out of bounds for axis 1 with size 528\n",
      "index 539 is out of bounds for axis 1 with size 528\n",
      "index 543 is out of bounds for axis 1 with size 528\n",
      "index 545 is out of bounds for axis 1 with size 528\n",
      "index 545 is out of bounds for axis 1 with size 528\n",
      "index 551 is out of bounds for axis 1 with size 528\n",
      "index 549 is out of bounds for axis 1 with size 528\n",
      "index 547 is out of bounds for axis 1 with size 528\n",
      "index 548 is out of bounds for axis 1 with size 528\n",
      "index 547 is out of bounds for axis 1 with size 528\n",
      "index 551 is out of bounds for axis 1 with size 528\n",
      "index 551 is out of bounds for axis 1 with size 528\n",
      "index 552 is out of bounds for axis 1 with size 528\n",
      "index 552 is out of bounds for axis 1 with size 528\n",
      "index 553 is out of bounds for axis 1 with size 528\n",
      "index 554 is out of bounds for axis 1 with size 528\n",
      "index 554 is out of bounds for axis 1 with size 528\n",
      "index 532 is out of bounds for axis 1 with size 528\n",
      "index 529 is out of bounds for axis 1 with size 528\n",
      "index 530 is out of bounds for axis 1 with size 528\n",
      "index 532 is out of bounds for axis 1 with size 528\n",
      "index 531 is out of bounds for axis 1 with size 528\n",
      "index 532 is out of bounds for axis 1 with size 528\n",
      "index 535 is out of bounds for axis 1 with size 528\n",
      "index 535 is out of bounds for axis 1 with size 528\n",
      "index 536 is out of bounds for axis 1 with size 528\n",
      "index 538 is out of bounds for axis 1 with size 528\n",
      "index 538 is out of bounds for axis 1 with size 528\n",
      "index 537 is out of bounds for axis 1 with size 528\n",
      "index 539 is out of bounds for axis 1 with size 528\n",
      "index 540 is out of bounds for axis 1 with size 528\n",
      "index 543 is out of bounds for axis 1 with size 528\n",
      "index 552 is out of bounds for axis 1 with size 528\n",
      "index 553 is out of bounds for axis 1 with size 528\n",
      "index 558 is out of bounds for axis 1 with size 528\n",
      "index 556 is out of bounds for axis 1 with size 528\n",
      "index 559 is out of bounds for axis 1 with size 528\n",
      "index 529 is out of bounds for axis 1 with size 528\n",
      "index 528 is out of bounds for axis 1 with size 528\n",
      "index 531 is out of bounds for axis 1 with size 528\n",
      "index 531 is out of bounds for axis 1 with size 528\n",
      "index 535 is out of bounds for axis 1 with size 528\n",
      "index 533 is out of bounds for axis 1 with size 528\n",
      "index 535 is out of bounds for axis 1 with size 528\n",
      "index 538 is out of bounds for axis 1 with size 528\n",
      "index 537 is out of bounds for axis 1 with size 528\n",
      "index 539 is out of bounds for axis 1 with size 528\n",
      "index 540 is out of bounds for axis 1 with size 528\n",
      "index 545 is out of bounds for axis 1 with size 528\n",
      "index 544 is out of bounds for axis 1 with size 528\n",
      "index 546 is out of bounds for axis 1 with size 528\n",
      "index 547 is out of bounds for axis 1 with size 528\n",
      "index 548 is out of bounds for axis 1 with size 528\n",
      "index 552 is out of bounds for axis 1 with size 528\n",
      "index 554 is out of bounds for axis 1 with size 528\n",
      "index 555 is out of bounds for axis 1 with size 528\n",
      "index 556 is out of bounds for axis 1 with size 528\n",
      "index 564 is out of bounds for axis 1 with size 528\n",
      "index 529 is out of bounds for axis 1 with size 528\n",
      "index 531 is out of bounds for axis 1 with size 528\n",
      "index 532 is out of bounds for axis 1 with size 528\n",
      "index 532 is out of bounds for axis 1 with size 528\n",
      "index 533 is out of bounds for axis 1 with size 528\n",
      "index 535 is out of bounds for axis 1 with size 528\n",
      "index 535 is out of bounds for axis 1 with size 528\n",
      "index 538 is out of bounds for axis 1 with size 528\n",
      "index 538 is out of bounds for axis 1 with size 528\n",
      "index 539 is out of bounds for axis 1 with size 528\n",
      "index 539 is out of bounds for axis 1 with size 528\n",
      "index 539 is out of bounds for axis 1 with size 528\n",
      "index 542 is out of bounds for axis 1 with size 528\n",
      "index 542 is out of bounds for axis 1 with size 528\n",
      "index 545 is out of bounds for axis 1 with size 528\n",
      "index 547 is out of bounds for axis 1 with size 528\n",
      "index 547 is out of bounds for axis 1 with size 528\n",
      "index 553 is out of bounds for axis 1 with size 528\n",
      "index 556 is out of bounds for axis 1 with size 528\n",
      "index 555 is out of bounds for axis 1 with size 528\n",
      "index 557 is out of bounds for axis 1 with size 528\n",
      "index 528 is out of bounds for axis 1 with size 528\n",
      "index 529 is out of bounds for axis 1 with size 528\n",
      "index 531 is out of bounds for axis 1 with size 528\n",
      "index 535 is out of bounds for axis 1 with size 528\n",
      "index 535 is out of bounds for axis 1 with size 528\n",
      "index 535 is out of bounds for axis 1 with size 528\n",
      "index 539 is out of bounds for axis 1 with size 528\n",
      "index 540 is out of bounds for axis 1 with size 528\n",
      "index 541 is out of bounds for axis 1 with size 528\n",
      "index 541 is out of bounds for axis 1 with size 528\n",
      "index 543 is out of bounds for axis 1 with size 528\n",
      "index 547 is out of bounds for axis 1 with size 528\n",
      "index 554 is out of bounds for axis 1 with size 528\n",
      "index 557 is out of bounds for axis 1 with size 528\n",
      "index 529 is out of bounds for axis 1 with size 528\n",
      "index 531 is out of bounds for axis 1 with size 528\n",
      "index 530 is out of bounds for axis 1 with size 528\n",
      "index 531 is out of bounds for axis 1 with size 528\n",
      "index 531 is out of bounds for axis 1 with size 528\n",
      "index 533 is out of bounds for axis 1 with size 528\n",
      "index 535 is out of bounds for axis 1 with size 528\n",
      "index 538 is out of bounds for axis 1 with size 528\n",
      "index 536 is out of bounds for axis 1 with size 528\n",
      "index 537 is out of bounds for axis 1 with size 528\n",
      "index 537 is out of bounds for axis 1 with size 528\n",
      "index 544 is out of bounds for axis 1 with size 528\n",
      "index 546 is out of bounds for axis 1 with size 528\n",
      "index 546 is out of bounds for axis 1 with size 528\n",
      "index 548 is out of bounds for axis 1 with size 528\n",
      "index 552 is out of bounds for axis 1 with size 528\n",
      "index 553 is out of bounds for axis 1 with size 528\n",
      "index 556 is out of bounds for axis 1 with size 528\n",
      "index 558 is out of bounds for axis 1 with size 528\n",
      "index 528 is out of bounds for axis 1 with size 528\n",
      "index 533 is out of bounds for axis 1 with size 528\n",
      "index 533 is out of bounds for axis 1 with size 528\n",
      "index 534 is out of bounds for axis 1 with size 528\n",
      "index 538 is out of bounds for axis 1 with size 528\n",
      "index 536 is out of bounds for axis 1 with size 528\n",
      "index 538 is out of bounds for axis 1 with size 528\n",
      "index 542 is out of bounds for axis 1 with size 528\n",
      "index 548 is out of bounds for axis 1 with size 528\n",
      "index 551 is out of bounds for axis 1 with size 528\n",
      "index 528 is out of bounds for axis 1 with size 528\n",
      "index 539 is out of bounds for axis 1 with size 528\n",
      "index 548 is out of bounds for axis 1 with size 528\n",
      "index 545 is out of bounds for axis 1 with size 528\n",
      "index 545 is out of bounds for axis 1 with size 528\n",
      "index 553 is out of bounds for axis 1 with size 528\n",
      "index 531 is out of bounds for axis 1 with size 528\n",
      "index 534 is out of bounds for axis 1 with size 528\n",
      "index 537 is out of bounds for axis 1 with size 528\n",
      "index 539 is out of bounds for axis 1 with size 528\n",
      "index 541 is out of bounds for axis 1 with size 528\n",
      "index 545 is out of bounds for axis 1 with size 528\n",
      "index 545 is out of bounds for axis 1 with size 528\n",
      "index 551 is out of bounds for axis 1 with size 528\n",
      "index 550 is out of bounds for axis 1 with size 528\n",
      "index 549 is out of bounds for axis 1 with size 528\n",
      "index 553 is out of bounds for axis 1 with size 528\n",
      "index 556 is out of bounds for axis 1 with size 528\n",
      "index 529 is out of bounds for axis 1 with size 528\n",
      "index 535 is out of bounds for axis 1 with size 528\n",
      "index 531 is out of bounds for axis 1 with size 528\n",
      "index 535 is out of bounds for axis 1 with size 528\n",
      "index 540 is out of bounds for axis 1 with size 528\n",
      "index 540 is out of bounds for axis 1 with size 528\n",
      "index 543 is out of bounds for axis 1 with size 528\n",
      "index 542 is out of bounds for axis 1 with size 528\n",
      "index 545 is out of bounds for axis 1 with size 528\n",
      "index 545 is out of bounds for axis 1 with size 528\n",
      "index 549 is out of bounds for axis 1 with size 528\n",
      "index 550 is out of bounds for axis 1 with size 528\n",
      "index 553 is out of bounds for axis 1 with size 528\n",
      "index 552 is out of bounds for axis 1 with size 528\n",
      "index 555 is out of bounds for axis 1 with size 528\n",
      "index 559 is out of bounds for axis 1 with size 528\n",
      "index 530 is out of bounds for axis 1 with size 528\n",
      "index 534 is out of bounds for axis 1 with size 528\n",
      "index 537 is out of bounds for axis 1 with size 528\n",
      "index 538 is out of bounds for axis 1 with size 528\n",
      "index 538 is out of bounds for axis 1 with size 528\n",
      "index 539 is out of bounds for axis 1 with size 528\n",
      "index 545 is out of bounds for axis 1 with size 528\n",
      "index 546 is out of bounds for axis 1 with size 528\n",
      "index 547 is out of bounds for axis 1 with size 528\n",
      "index 548 is out of bounds for axis 1 with size 528\n",
      "index 547 is out of bounds for axis 1 with size 528\n",
      "index 552 is out of bounds for axis 1 with size 528\n",
      "index 556 is out of bounds for axis 1 with size 528\n",
      "index 556 is out of bounds for axis 1 with size 528\n",
      "index 560 is out of bounds for axis 1 with size 528\n",
      "index 529 is out of bounds for axis 1 with size 528\n",
      "index 528 is out of bounds for axis 1 with size 528\n",
      "index 528 is out of bounds for axis 1 with size 528\n",
      "index 529 is out of bounds for axis 1 with size 528\n",
      "index 530 is out of bounds for axis 1 with size 528\n",
      "index 531 is out of bounds for axis 1 with size 528\n",
      "index 531 is out of bounds for axis 1 with size 528\n",
      "index 533 is out of bounds for axis 1 with size 528\n",
      "index 533 is out of bounds for axis 1 with size 528\n",
      "index 538 is out of bounds for axis 1 with size 528\n",
      "index 538 is out of bounds for axis 1 with size 528\n",
      "index 538 is out of bounds for axis 1 with size 528\n",
      "index 538 is out of bounds for axis 1 with size 528\n",
      "index 545 is out of bounds for axis 1 with size 528\n",
      "index 546 is out of bounds for axis 1 with size 528\n",
      "index 547 is out of bounds for axis 1 with size 528\n",
      "index 548 is out of bounds for axis 1 with size 528\n",
      "index 548 is out of bounds for axis 1 with size 528\n",
      "index 548 is out of bounds for axis 1 with size 528\n",
      "index 551 is out of bounds for axis 1 with size 528\n",
      "index 547 is out of bounds for axis 1 with size 528\n",
      "index 549 is out of bounds for axis 1 with size 528\n",
      "index 549 is out of bounds for axis 1 with size 528\n",
      "index 551 is out of bounds for axis 1 with size 528\n",
      "index 551 is out of bounds for axis 1 with size 528\n",
      "index 553 is out of bounds for axis 1 with size 528\n",
      "index 553 is out of bounds for axis 1 with size 528\n",
      "index 553 is out of bounds for axis 1 with size 528\n",
      "index 552 is out of bounds for axis 1 with size 528\n",
      "index 553 is out of bounds for axis 1 with size 528\n",
      "index 555 is out of bounds for axis 1 with size 528\n",
      "index 556 is out of bounds for axis 1 with size 528\n",
      "index 560 is out of bounds for axis 1 with size 528\n",
      "index 528 is out of bounds for axis 1 with size 528\n",
      "index 532 is out of bounds for axis 1 with size 528\n",
      "index 530 is out of bounds for axis 1 with size 528\n",
      "index 530 is out of bounds for axis 1 with size 528\n",
      "index 532 is out of bounds for axis 1 with size 528\n",
      "index 531 is out of bounds for axis 1 with size 528\n",
      "index 531 is out of bounds for axis 1 with size 528\n",
      "index 533 is out of bounds for axis 1 with size 528\n",
      "index 537 is out of bounds for axis 1 with size 528\n",
      "index 537 is out of bounds for axis 1 with size 528\n",
      "index 540 is out of bounds for axis 1 with size 528\n",
      "index 543 is out of bounds for axis 1 with size 528\n",
      "index 539 is out of bounds for axis 1 with size 528\n",
      "index 540 is out of bounds for axis 1 with size 528\n",
      "index 540 is out of bounds for axis 1 with size 528\n",
      "index 541 is out of bounds for axis 1 with size 528\n",
      "index 544 is out of bounds for axis 1 with size 528\n",
      "index 546 is out of bounds for axis 1 with size 528\n",
      "index 548 is out of bounds for axis 1 with size 528\n",
      "index 547 is out of bounds for axis 1 with size 528\n",
      "index 552 is out of bounds for axis 1 with size 528\n",
      "index 552 is out of bounds for axis 1 with size 528\n",
      "index 558 is out of bounds for axis 1 with size 528\n",
      "index 556 is out of bounds for axis 1 with size 528\n",
      "index 556 is out of bounds for axis 1 with size 528\n",
      "index 533 is out of bounds for axis 1 with size 528\n",
      "index 534 is out of bounds for axis 1 with size 528\n",
      "index 534 is out of bounds for axis 1 with size 528\n",
      "index 535 is out of bounds for axis 1 with size 528\n",
      "index 536 is out of bounds for axis 1 with size 528\n",
      "index 537 is out of bounds for axis 1 with size 528\n",
      "index 537 is out of bounds for axis 1 with size 528\n",
      "index 539 is out of bounds for axis 1 with size 528\n",
      "index 540 is out of bounds for axis 1 with size 528\n",
      "index 540 is out of bounds for axis 1 with size 528\n",
      "index 540 is out of bounds for axis 1 with size 528\n",
      "index 543 is out of bounds for axis 1 with size 528\n",
      "index 544 is out of bounds for axis 1 with size 528\n",
      "index 545 is out of bounds for axis 1 with size 528\n",
      "index 545 is out of bounds for axis 1 with size 528\n",
      "index 545 is out of bounds for axis 1 with size 528\n",
      "index 547 is out of bounds for axis 1 with size 528\n",
      "index 548 is out of bounds for axis 1 with size 528\n",
      "index 549 is out of bounds for axis 1 with size 528\n",
      "index 549 is out of bounds for axis 1 with size 528\n",
      "index 548 is out of bounds for axis 1 with size 528\n",
      "index 549 is out of bounds for axis 1 with size 528\n",
      "index 557 is out of bounds for axis 1 with size 528\n",
      "index 560 is out of bounds for axis 1 with size 528\n",
      "index 530 is out of bounds for axis 1 with size 528\n",
      "index 532 is out of bounds for axis 1 with size 528\n",
      "index 534 is out of bounds for axis 1 with size 528\n",
      "index 533 is out of bounds for axis 1 with size 528\n",
      "index 539 is out of bounds for axis 1 with size 528\n",
      "index 540 is out of bounds for axis 1 with size 528\n",
      "index 538 is out of bounds for axis 1 with size 528\n",
      "index 541 is out of bounds for axis 1 with size 528\n",
      "index 542 is out of bounds for axis 1 with size 528\n",
      "index 545 is out of bounds for axis 1 with size 528\n",
      "index 544 is out of bounds for axis 1 with size 528\n",
      "index 544 is out of bounds for axis 1 with size 528\n",
      "index 545 is out of bounds for axis 1 with size 528\n",
      "index 547 is out of bounds for axis 1 with size 528\n",
      "index 545 is out of bounds for axis 1 with size 528\n",
      "index 546 is out of bounds for axis 1 with size 528\n",
      "index 549 is out of bounds for axis 1 with size 528\n",
      "index 554 is out of bounds for axis 1 with size 528\n",
      "index 555 is out of bounds for axis 1 with size 528\n",
      "index 562 is out of bounds for axis 1 with size 528\n",
      "index 530 is out of bounds for axis 1 with size 528\n",
      "index 528 is out of bounds for axis 1 with size 528\n",
      "index 532 is out of bounds for axis 1 with size 528\n",
      "index 532 is out of bounds for axis 1 with size 528\n",
      "index 534 is out of bounds for axis 1 with size 528\n",
      "index 539 is out of bounds for axis 1 with size 528\n",
      "index 537 is out of bounds for axis 1 with size 528\n",
      "index 536 is out of bounds for axis 1 with size 528\n",
      "index 537 is out of bounds for axis 1 with size 528\n",
      "index 537 is out of bounds for axis 1 with size 528\n",
      "index 540 is out of bounds for axis 1 with size 528\n",
      "index 538 is out of bounds for axis 1 with size 528\n",
      "index 539 is out of bounds for axis 1 with size 528\n",
      "index 540 is out of bounds for axis 1 with size 528\n",
      "index 543 is out of bounds for axis 1 with size 528\n",
      "index 544 is out of bounds for axis 1 with size 528\n",
      "index 546 is out of bounds for axis 1 with size 528\n",
      "index 547 is out of bounds for axis 1 with size 528\n",
      "index 547 is out of bounds for axis 1 with size 528\n",
      "index 550 is out of bounds for axis 1 with size 528\n",
      "index 551 is out of bounds for axis 1 with size 528\n",
      "index 557 is out of bounds for axis 1 with size 528\n",
      "index 556 is out of bounds for axis 1 with size 528\n",
      "index 560 is out of bounds for axis 1 with size 528\n",
      "index 560 is out of bounds for axis 1 with size 528\n",
      "index 531 is out of bounds for axis 1 with size 528\n",
      "index 533 is out of bounds for axis 1 with size 528\n",
      "index 534 is out of bounds for axis 1 with size 528\n",
      "index 534 is out of bounds for axis 1 with size 528\n",
      "index 536 is out of bounds for axis 1 with size 528\n",
      "index 538 is out of bounds for axis 1 with size 528\n",
      "index 539 is out of bounds for axis 1 with size 528\n",
      "index 543 is out of bounds for axis 1 with size 528\n",
      "index 539 is out of bounds for axis 1 with size 528\n",
      "index 540 is out of bounds for axis 1 with size 528\n",
      "index 540 is out of bounds for axis 1 with size 528\n",
      "index 546 is out of bounds for axis 1 with size 528\n",
      "index 543 is out of bounds for axis 1 with size 528\n",
      "index 543 is out of bounds for axis 1 with size 528\n",
      "index 543 is out of bounds for axis 1 with size 528\n",
      "index 549 is out of bounds for axis 1 with size 528\n",
      "index 545 is out of bounds for axis 1 with size 528\n",
      "index 547 is out of bounds for axis 1 with size 528\n",
      "index 546 is out of bounds for axis 1 with size 528\n",
      "index 547 is out of bounds for axis 1 with size 528\n",
      "index 547 is out of bounds for axis 1 with size 528\n",
      "index 552 is out of bounds for axis 1 with size 528\n",
      "index 555 is out of bounds for axis 1 with size 528\n",
      "index 530 is out of bounds for axis 1 with size 528\n",
      "index 528 is out of bounds for axis 1 with size 528\n",
      "index 533 is out of bounds for axis 1 with size 528\n",
      "index 530 is out of bounds for axis 1 with size 528\n",
      "index 537 is out of bounds for axis 1 with size 528\n",
      "index 538 is out of bounds for axis 1 with size 528\n",
      "index 538 is out of bounds for axis 1 with size 528\n",
      "index 539 is out of bounds for axis 1 with size 528\n",
      "index 542 is out of bounds for axis 1 with size 528\n",
      "index 543 is out of bounds for axis 1 with size 528\n",
      "index 546 is out of bounds for axis 1 with size 528\n",
      "index 547 is out of bounds for axis 1 with size 528\n",
      "index 548 is out of bounds for axis 1 with size 528\n",
      "index 548 is out of bounds for axis 1 with size 528\n",
      "index 549 is out of bounds for axis 1 with size 528\n",
      "index 553 is out of bounds for axis 1 with size 528\n",
      "index 556 is out of bounds for axis 1 with size 528\n",
      "index 556 is out of bounds for axis 1 with size 528\n",
      "index 559 is out of bounds for axis 1 with size 528\n",
      "index 558 is out of bounds for axis 1 with size 528\n",
      "index 531 is out of bounds for axis 1 with size 528\n",
      "index 531 is out of bounds for axis 1 with size 528\n",
      "index 531 is out of bounds for axis 1 with size 528\n",
      "index 530 is out of bounds for axis 1 with size 528\n",
      "index 535 is out of bounds for axis 1 with size 528\n",
      "index 534 is out of bounds for axis 1 with size 528\n",
      "index 532 is out of bounds for axis 1 with size 528\n",
      "index 533 is out of bounds for axis 1 with size 528\n",
      "index 537 is out of bounds for axis 1 with size 528\n",
      "index 542 is out of bounds for axis 1 with size 528\n",
      "index 539 is out of bounds for axis 1 with size 528\n",
      "index 541 is out of bounds for axis 1 with size 528\n",
      "index 540 is out of bounds for axis 1 with size 528\n",
      "index 541 is out of bounds for axis 1 with size 528\n",
      "index 542 is out of bounds for axis 1 with size 528\n",
      "index 546 is out of bounds for axis 1 with size 528\n",
      "index 547 is out of bounds for axis 1 with size 528\n",
      "index 547 is out of bounds for axis 1 with size 528\n",
      "index 549 is out of bounds for axis 1 with size 528\n",
      "index 549 is out of bounds for axis 1 with size 528\n",
      "index 532 is out of bounds for axis 1 with size 528\n",
      "index 529 is out of bounds for axis 1 with size 528\n",
      "index 528 is out of bounds for axis 1 with size 528\n",
      "index 531 is out of bounds for axis 1 with size 528\n",
      "index 532 is out of bounds for axis 1 with size 528\n",
      "index 534 is out of bounds for axis 1 with size 528\n",
      "index 535 is out of bounds for axis 1 with size 528\n",
      "index 536 is out of bounds for axis 1 with size 528\n",
      "index 537 is out of bounds for axis 1 with size 528\n",
      "index 539 is out of bounds for axis 1 with size 528\n",
      "index 542 is out of bounds for axis 1 with size 528\n",
      "index 540 is out of bounds for axis 1 with size 528\n",
      "index 544 is out of bounds for axis 1 with size 528\n",
      "index 542 is out of bounds for axis 1 with size 528\n",
      "index 542 is out of bounds for axis 1 with size 528\n",
      "index 545 is out of bounds for axis 1 with size 528\n",
      "index 543 is out of bounds for axis 1 with size 528\n",
      "index 545 is out of bounds for axis 1 with size 528\n",
      "index 545 is out of bounds for axis 1 with size 528\n",
      "index 548 is out of bounds for axis 1 with size 528\n",
      "index 550 is out of bounds for axis 1 with size 528\n",
      "index 553 is out of bounds for axis 1 with size 528\n",
      "index 555 is out of bounds for axis 1 with size 528\n",
      "index 557 is out of bounds for axis 1 with size 528\n",
      "index 559 is out of bounds for axis 1 with size 528\n",
      "index 531 is out of bounds for axis 1 with size 528\n",
      "index 531 is out of bounds for axis 1 with size 528\n",
      "index 533 is out of bounds for axis 1 with size 528\n",
      "index 537 is out of bounds for axis 1 with size 528\n",
      "index 533 is out of bounds for axis 1 with size 528\n",
      "index 535 is out of bounds for axis 1 with size 528\n",
      "index 539 is out of bounds for axis 1 with size 528\n",
      "index 538 is out of bounds for axis 1 with size 528\n",
      "index 539 is out of bounds for axis 1 with size 528\n",
      "index 540 is out of bounds for axis 1 with size 528\n",
      "index 540 is out of bounds for axis 1 with size 528\n",
      "index 541 is out of bounds for axis 1 with size 528\n",
      "index 542 is out of bounds for axis 1 with size 528\n",
      "index 542 is out of bounds for axis 1 with size 528\n",
      "index 544 is out of bounds for axis 1 with size 528\n",
      "index 547 is out of bounds for axis 1 with size 528\n",
      "index 545 is out of bounds for axis 1 with size 528\n",
      "index 547 is out of bounds for axis 1 with size 528\n",
      "index 546 is out of bounds for axis 1 with size 528\n",
      "index 546 is out of bounds for axis 1 with size 528\n",
      "index 549 is out of bounds for axis 1 with size 528\n",
      "index 549 is out of bounds for axis 1 with size 528\n",
      "index 552 is out of bounds for axis 1 with size 528\n",
      "index 553 is out of bounds for axis 1 with size 528\n",
      "index 530 is out of bounds for axis 1 with size 528\n",
      "index 529 is out of bounds for axis 1 with size 528\n",
      "index 529 is out of bounds for axis 1 with size 528\n",
      "index 532 is out of bounds for axis 1 with size 528\n",
      "index 532 is out of bounds for axis 1 with size 528\n",
      "index 538 is out of bounds for axis 1 with size 528\n",
      "index 537 is out of bounds for axis 1 with size 528\n",
      "index 539 is out of bounds for axis 1 with size 528\n",
      "index 538 is out of bounds for axis 1 with size 528\n",
      "index 544 is out of bounds for axis 1 with size 528\n",
      "index 541 is out of bounds for axis 1 with size 528\n",
      "index 544 is out of bounds for axis 1 with size 528\n",
      "index 544 is out of bounds for axis 1 with size 528\n",
      "index 546 is out of bounds for axis 1 with size 528\n",
      "index 545 is out of bounds for axis 1 with size 528\n",
      "index 544 is out of bounds for axis 1 with size 528\n",
      "index 546 is out of bounds for axis 1 with size 528\n",
      "index 546 is out of bounds for axis 1 with size 528\n",
      "index 547 is out of bounds for axis 1 with size 528\n",
      "index 554 is out of bounds for axis 1 with size 528\n",
      "index 560 is out of bounds for axis 1 with size 528\n",
      "index 528 is out of bounds for axis 1 with size 528\n",
      "index 531 is out of bounds for axis 1 with size 528\n",
      "index 535 is out of bounds for axis 1 with size 528\n",
      "index 533 is out of bounds for axis 1 with size 528\n",
      "index 532 is out of bounds for axis 1 with size 528\n",
      "index 534 is out of bounds for axis 1 with size 528\n",
      "index 535 is out of bounds for axis 1 with size 528\n",
      "index 535 is out of bounds for axis 1 with size 528\n",
      "index 535 is out of bounds for axis 1 with size 528\n",
      "index 536 is out of bounds for axis 1 with size 528\n",
      "index 535 is out of bounds for axis 1 with size 528\n",
      "index 537 is out of bounds for axis 1 with size 528\n",
      "index 539 is out of bounds for axis 1 with size 528\n",
      "index 540 is out of bounds for axis 1 with size 528\n",
      "index 541 is out of bounds for axis 1 with size 528\n",
      "index 540 is out of bounds for axis 1 with size 528\n",
      "index 538 is out of bounds for axis 1 with size 528\n",
      "index 539 is out of bounds for axis 1 with size 528\n",
      "index 539 is out of bounds for axis 1 with size 528\n",
      "index 540 is out of bounds for axis 1 with size 528\n",
      "index 539 is out of bounds for axis 1 with size 528\n",
      "index 540 is out of bounds for axis 1 with size 528\n",
      "index 540 is out of bounds for axis 1 with size 528\n",
      "index 541 is out of bounds for axis 1 with size 528\n",
      "index 541 is out of bounds for axis 1 with size 528\n",
      "index 543 is out of bounds for axis 1 with size 528\n",
      "index 542 is out of bounds for axis 1 with size 528\n",
      "index 545 is out of bounds for axis 1 with size 528\n",
      "index 544 is out of bounds for axis 1 with size 528\n",
      "index 547 is out of bounds for axis 1 with size 528\n",
      "index 546 is out of bounds for axis 1 with size 528\n",
      "index 547 is out of bounds for axis 1 with size 528\n",
      "index 547 is out of bounds for axis 1 with size 528\n",
      "index 549 is out of bounds for axis 1 with size 528\n",
      "index 549 is out of bounds for axis 1 with size 528\n",
      "index 552 is out of bounds for axis 1 with size 528\n",
      "index 552 is out of bounds for axis 1 with size 528\n",
      "index 555 is out of bounds for axis 1 with size 528\n",
      "index 553 is out of bounds for axis 1 with size 528\n",
      "index 553 is out of bounds for axis 1 with size 528\n",
      "index 554 is out of bounds for axis 1 with size 528\n",
      "index 555 is out of bounds for axis 1 with size 528\n",
      "index 555 is out of bounds for axis 1 with size 528\n",
      "index 556 is out of bounds for axis 1 with size 528\n",
      "index 556 is out of bounds for axis 1 with size 528\n",
      "index 557 is out of bounds for axis 1 with size 528\n",
      "index 557 is out of bounds for axis 1 with size 528\n",
      "index 560 is out of bounds for axis 1 with size 528\n",
      "index 528 is out of bounds for axis 1 with size 528\n",
      "index 530 is out of bounds for axis 1 with size 528\n",
      "index 528 is out of bounds for axis 1 with size 528\n",
      "index 531 is out of bounds for axis 1 with size 528\n",
      "index 531 is out of bounds for axis 1 with size 528\n",
      "index 533 is out of bounds for axis 1 with size 528\n",
      "index 535 is out of bounds for axis 1 with size 528\n",
      "index 538 is out of bounds for axis 1 with size 528\n",
      "index 540 is out of bounds for axis 1 with size 528\n",
      "index 536 is out of bounds for axis 1 with size 528\n",
      "index 537 is out of bounds for axis 1 with size 528\n",
      "index 539 is out of bounds for axis 1 with size 528\n",
      "index 541 is out of bounds for axis 1 with size 528\n",
      "index 543 is out of bounds for axis 1 with size 528\n",
      "index 544 is out of bounds for axis 1 with size 528\n",
      "index 545 is out of bounds for axis 1 with size 528\n",
      "index 548 is out of bounds for axis 1 with size 528\n",
      "index 549 is out of bounds for axis 1 with size 528\n",
      "index 550 is out of bounds for axis 1 with size 528\n",
      "index 553 is out of bounds for axis 1 with size 528\n",
      "index 528 is out of bounds for axis 1 with size 528\n",
      "index 528 is out of bounds for axis 1 with size 528\n",
      "index 532 is out of bounds for axis 1 with size 528\n",
      "index 537 is out of bounds for axis 1 with size 528\n",
      "index 533 is out of bounds for axis 1 with size 528\n",
      "index 534 is out of bounds for axis 1 with size 528\n",
      "index 539 is out of bounds for axis 1 with size 528\n",
      "index 538 is out of bounds for axis 1 with size 528\n",
      "index 538 is out of bounds for axis 1 with size 528\n",
      "index 538 is out of bounds for axis 1 with size 528\n",
      "index 539 is out of bounds for axis 1 with size 528\n",
      "index 538 is out of bounds for axis 1 with size 528\n",
      "index 540 is out of bounds for axis 1 with size 528\n",
      "index 541 is out of bounds for axis 1 with size 528\n",
      "index 541 is out of bounds for axis 1 with size 528\n",
      "index 542 is out of bounds for axis 1 with size 528\n",
      "index 542 is out of bounds for axis 1 with size 528\n",
      "index 545 is out of bounds for axis 1 with size 528\n",
      "index 545 is out of bounds for axis 1 with size 528\n",
      "index 545 is out of bounds for axis 1 with size 528\n",
      "index 546 is out of bounds for axis 1 with size 528\n",
      "index 547 is out of bounds for axis 1 with size 528\n",
      "index 548 is out of bounds for axis 1 with size 528\n",
      "index 549 is out of bounds for axis 1 with size 528\n",
      "index 552 is out of bounds for axis 1 with size 528\n",
      "index 554 is out of bounds for axis 1 with size 528\n",
      "index 560 is out of bounds for axis 1 with size 528\n",
      "index 559 is out of bounds for axis 1 with size 528\n",
      "index 529 is out of bounds for axis 1 with size 528\n",
      "index 530 is out of bounds for axis 1 with size 528\n",
      "index 530 is out of bounds for axis 1 with size 528\n",
      "index 528 is out of bounds for axis 1 with size 528\n",
      "index 531 is out of bounds for axis 1 with size 528\n",
      "index 536 is out of bounds for axis 1 with size 528\n",
      "index 536 is out of bounds for axis 1 with size 528\n",
      "index 541 is out of bounds for axis 1 with size 528\n",
      "index 537 is out of bounds for axis 1 with size 528\n",
      "index 536 is out of bounds for axis 1 with size 528\n",
      "index 538 is out of bounds for axis 1 with size 528\n",
      "index 540 is out of bounds for axis 1 with size 528\n",
      "index 539 is out of bounds for axis 1 with size 528\n",
      "index 541 is out of bounds for axis 1 with size 528\n",
      "index 541 is out of bounds for axis 1 with size 528\n",
      "index 541 is out of bounds for axis 1 with size 528\n",
      "index 546 is out of bounds for axis 1 with size 528\n",
      "index 545 is out of bounds for axis 1 with size 528\n",
      "index 550 is out of bounds for axis 1 with size 528\n",
      "index 546 is out of bounds for axis 1 with size 528\n",
      "index 550 is out of bounds for axis 1 with size 528\n",
      "index 550 is out of bounds for axis 1 with size 528\n",
      "index 553 is out of bounds for axis 1 with size 528\n",
      "index 554 is out of bounds for axis 1 with size 528\n",
      "index 555 is out of bounds for axis 1 with size 528\n",
      "index 559 is out of bounds for axis 1 with size 528\n",
      "index 528 is out of bounds for axis 1 with size 528\n",
      "index 530 is out of bounds for axis 1 with size 528\n",
      "index 534 is out of bounds for axis 1 with size 528\n",
      "index 535 is out of bounds for axis 1 with size 528\n",
      "index 537 is out of bounds for axis 1 with size 528\n",
      "index 537 is out of bounds for axis 1 with size 528\n",
      "index 537 is out of bounds for axis 1 with size 528\n",
      "index 537 is out of bounds for axis 1 with size 528\n",
      "index 538 is out of bounds for axis 1 with size 528\n",
      "index 542 is out of bounds for axis 1 with size 528\n",
      "index 542 is out of bounds for axis 1 with size 528\n",
      "index 547 is out of bounds for axis 1 with size 528\n",
      "index 543 is out of bounds for axis 1 with size 528\n",
      "index 545 is out of bounds for axis 1 with size 528\n",
      "index 545 is out of bounds for axis 1 with size 528\n",
      "index 545 is out of bounds for axis 1 with size 528\n",
      "index 547 is out of bounds for axis 1 with size 528\n",
      "index 547 is out of bounds for axis 1 with size 528\n",
      "index 550 is out of bounds for axis 1 with size 528\n",
      "index 554 is out of bounds for axis 1 with size 528\n",
      "index 553 is out of bounds for axis 1 with size 528\n",
      "index 554 is out of bounds for axis 1 with size 528\n",
      "index 555 is out of bounds for axis 1 with size 528\n",
      "index 558 is out of bounds for axis 1 with size 528\n",
      "index 557 is out of bounds for axis 1 with size 528\n",
      "index 559 is out of bounds for axis 1 with size 528\n",
      "index 529 is out of bounds for axis 1 with size 528\n",
      "index 530 is out of bounds for axis 1 with size 528\n",
      "index 531 is out of bounds for axis 1 with size 528\n",
      "index 531 is out of bounds for axis 1 with size 528\n",
      "index 538 is out of bounds for axis 1 with size 528\n",
      "index 538 is out of bounds for axis 1 with size 528\n",
      "index 540 is out of bounds for axis 1 with size 528\n",
      "index 538 is out of bounds for axis 1 with size 528\n",
      "index 538 is out of bounds for axis 1 with size 528\n",
      "index 540 is out of bounds for axis 1 with size 528\n",
      "index 539 is out of bounds for axis 1 with size 528\n",
      "index 541 is out of bounds for axis 1 with size 528\n",
      "index 545 is out of bounds for axis 1 with size 528\n",
      "index 544 is out of bounds for axis 1 with size 528\n",
      "index 543 is out of bounds for axis 1 with size 528\n",
      "index 546 is out of bounds for axis 1 with size 528\n",
      "index 548 is out of bounds for axis 1 with size 528\n",
      "index 554 is out of bounds for axis 1 with size 528\n",
      "index 552 is out of bounds for axis 1 with size 528\n",
      "index 553 is out of bounds for axis 1 with size 528\n",
      "index 531 is out of bounds for axis 1 with size 528\n",
      "index 538 is out of bounds for axis 1 with size 528\n",
      "index 539 is out of bounds for axis 1 with size 528\n",
      "index 540 is out of bounds for axis 1 with size 528\n",
      "index 544 is out of bounds for axis 1 with size 528\n",
      "index 544 is out of bounds for axis 1 with size 528\n",
      "index 543 is out of bounds for axis 1 with size 528\n",
      "index 547 is out of bounds for axis 1 with size 528\n",
      "index 543 is out of bounds for axis 1 with size 528\n",
      "index 544 is out of bounds for axis 1 with size 528\n",
      "index 550 is out of bounds for axis 1 with size 528\n",
      "index 554 is out of bounds for axis 1 with size 528\n",
      "index 554 is out of bounds for axis 1 with size 528\n",
      "index 556 is out of bounds for axis 1 with size 528\n",
      "index 558 is out of bounds for axis 1 with size 528\n",
      "index 528 is out of bounds for axis 1 with size 528\n",
      "index 530 is out of bounds for axis 1 with size 528\n",
      "index 531 is out of bounds for axis 1 with size 528\n",
      "index 533 is out of bounds for axis 1 with size 528\n",
      "index 535 is out of bounds for axis 1 with size 528\n",
      "index 532 is out of bounds for axis 1 with size 528\n",
      "index 536 is out of bounds for axis 1 with size 528\n",
      "index 536 is out of bounds for axis 1 with size 528\n",
      "index 541 is out of bounds for axis 1 with size 528\n",
      "index 540 is out of bounds for axis 1 with size 528\n",
      "index 538 is out of bounds for axis 1 with size 528\n",
      "index 540 is out of bounds for axis 1 with size 528\n",
      "index 545 is out of bounds for axis 1 with size 528\n",
      "index 547 is out of bounds for axis 1 with size 528\n",
      "index 549 is out of bounds for axis 1 with size 528\n",
      "index 552 is out of bounds for axis 1 with size 528\n",
      "index 555 is out of bounds for axis 1 with size 528\n",
      "index 557 is out of bounds for axis 1 with size 528\n",
      "index 558 is out of bounds for axis 1 with size 528\n",
      "index 528 is out of bounds for axis 1 with size 528\n",
      "index 532 is out of bounds for axis 1 with size 528\n",
      "index 537 is out of bounds for axis 1 with size 528\n",
      "index 536 is out of bounds for axis 1 with size 528\n",
      "index 537 is out of bounds for axis 1 with size 528\n",
      "index 540 is out of bounds for axis 1 with size 528\n",
      "index 538 is out of bounds for axis 1 with size 528\n",
      "index 540 is out of bounds for axis 1 with size 528\n",
      "index 538 is out of bounds for axis 1 with size 528\n",
      "index 538 is out of bounds for axis 1 with size 528\n",
      "index 539 is out of bounds for axis 1 with size 528\n",
      "index 539 is out of bounds for axis 1 with size 528\n",
      "index 544 is out of bounds for axis 1 with size 528\n",
      "index 544 is out of bounds for axis 1 with size 528\n",
      "index 544 is out of bounds for axis 1 with size 528\n",
      "index 550 is out of bounds for axis 1 with size 528\n",
      "index 550 is out of bounds for axis 1 with size 528\n",
      "index 549 is out of bounds for axis 1 with size 528\n",
      "index 550 is out of bounds for axis 1 with size 528\n",
      "index 555 is out of bounds for axis 1 with size 528\n",
      "index 552 is out of bounds for axis 1 with size 528\n",
      "index 553 is out of bounds for axis 1 with size 528\n",
      "index 560 is out of bounds for axis 1 with size 528\n",
      "index 533 is out of bounds for axis 1 with size 528\n",
      "index 534 is out of bounds for axis 1 with size 528\n",
      "index 537 is out of bounds for axis 1 with size 528\n",
      "index 537 is out of bounds for axis 1 with size 528\n",
      "index 535 is out of bounds for axis 1 with size 528\n",
      "index 544 is out of bounds for axis 1 with size 528\n",
      "index 544 is out of bounds for axis 1 with size 528\n",
      "index 544 is out of bounds for axis 1 with size 528\n",
      "index 558 is out of bounds for axis 1 with size 528\n",
      "index 561 is out of bounds for axis 1 with size 528\n",
      "index 530 is out of bounds for axis 1 with size 528\n",
      "index 530 is out of bounds for axis 1 with size 528\n",
      "index 535 is out of bounds for axis 1 with size 528\n",
      "index 538 is out of bounds for axis 1 with size 528\n",
      "index 537 is out of bounds for axis 1 with size 528\n",
      "index 538 is out of bounds for axis 1 with size 528\n",
      "index 540 is out of bounds for axis 1 with size 528\n",
      "index 540 is out of bounds for axis 1 with size 528\n",
      "index 544 is out of bounds for axis 1 with size 528\n",
      "index 543 is out of bounds for axis 1 with size 528\n",
      "index 541 is out of bounds for axis 1 with size 528\n",
      "index 542 is out of bounds for axis 1 with size 528\n",
      "index 543 is out of bounds for axis 1 with size 528\n",
      "index 543 is out of bounds for axis 1 with size 528\n",
      "index 544 is out of bounds for axis 1 with size 528\n",
      "index 545 is out of bounds for axis 1 with size 528\n",
      "index 547 is out of bounds for axis 1 with size 528\n",
      "index 553 is out of bounds for axis 1 with size 528\n",
      "index 553 is out of bounds for axis 1 with size 528\n",
      "index 558 is out of bounds for axis 1 with size 528\n",
      "index 533 is out of bounds for axis 1 with size 528\n",
      "index 533 is out of bounds for axis 1 with size 528\n",
      "index 532 is out of bounds for axis 1 with size 528\n",
      "index 535 is out of bounds for axis 1 with size 528\n",
      "index 533 is out of bounds for axis 1 with size 528\n",
      "index 537 is out of bounds for axis 1 with size 528\n",
      "index 542 is out of bounds for axis 1 with size 528\n",
      "index 539 is out of bounds for axis 1 with size 528\n",
      "index 542 is out of bounds for axis 1 with size 528\n",
      "index 545 is out of bounds for axis 1 with size 528\n",
      "index 541 is out of bounds for axis 1 with size 528\n",
      "index 544 is out of bounds for axis 1 with size 528\n",
      "index 542 is out of bounds for axis 1 with size 528\n",
      "index 542 is out of bounds for axis 1 with size 528\n",
      "index 547 is out of bounds for axis 1 with size 528\n",
      "index 550 is out of bounds for axis 1 with size 528\n",
      "index 552 is out of bounds for axis 1 with size 528\n",
      "index 552 is out of bounds for axis 1 with size 528\n",
      "index 554 is out of bounds for axis 1 with size 528\n",
      "index 562 is out of bounds for axis 1 with size 528\n",
      "index 559 is out of bounds for axis 1 with size 528\n",
      "index 530 is out of bounds for axis 1 with size 528\n",
      "index 532 is out of bounds for axis 1 with size 528\n",
      "index 532 is out of bounds for axis 1 with size 528\n",
      "index 533 is out of bounds for axis 1 with size 528\n",
      "index 535 is out of bounds for axis 1 with size 528\n",
      "index 538 is out of bounds for axis 1 with size 528\n",
      "index 541 is out of bounds for axis 1 with size 528\n",
      "index 540 is out of bounds for axis 1 with size 528\n",
      "index 539 is out of bounds for axis 1 with size 528\n",
      "index 543 is out of bounds for axis 1 with size 528\n",
      "index 544 is out of bounds for axis 1 with size 528\n",
      "index 549 is out of bounds for axis 1 with size 528\n",
      "index 554 is out of bounds for axis 1 with size 528\n",
      "index 554 is out of bounds for axis 1 with size 528\n",
      "index 556 is out of bounds for axis 1 with size 528\n",
      "index 556 is out of bounds for axis 1 with size 528\n",
      "index 560 is out of bounds for axis 1 with size 528\n",
      "index 534 is out of bounds for axis 1 with size 528\n",
      "index 532 is out of bounds for axis 1 with size 528\n",
      "index 534 is out of bounds for axis 1 with size 528\n",
      "index 534 is out of bounds for axis 1 with size 528\n",
      "index 534 is out of bounds for axis 1 with size 528\n",
      "index 540 is out of bounds for axis 1 with size 528\n",
      "index 537 is out of bounds for axis 1 with size 528\n",
      "index 537 is out of bounds for axis 1 with size 528\n",
      "index 538 is out of bounds for axis 1 with size 528\n",
      "index 542 is out of bounds for axis 1 with size 528\n",
      "index 539 is out of bounds for axis 1 with size 528\n",
      "index 543 is out of bounds for axis 1 with size 528\n",
      "index 540 is out of bounds for axis 1 with size 528\n",
      "index 541 is out of bounds for axis 1 with size 528\n",
      "index 542 is out of bounds for axis 1 with size 528\n",
      "index 541 is out of bounds for axis 1 with size 528\n",
      "index 541 is out of bounds for axis 1 with size 528\n",
      "index 542 is out of bounds for axis 1 with size 528\n",
      "index 548 is out of bounds for axis 1 with size 528\n",
      "index 546 is out of bounds for axis 1 with size 528\n",
      "index 551 is out of bounds for axis 1 with size 528\n",
      "index 552 is out of bounds for axis 1 with size 528\n",
      "index 552 is out of bounds for axis 1 with size 528\n",
      "index 562 is out of bounds for axis 1 with size 528\n",
      "index 531 is out of bounds for axis 1 with size 528\n",
      "index 532 is out of bounds for axis 1 with size 528\n",
      "index 536 is out of bounds for axis 1 with size 528\n",
      "index 538 is out of bounds for axis 1 with size 528\n",
      "index 536 is out of bounds for axis 1 with size 528\n",
      "index 539 is out of bounds for axis 1 with size 528\n",
      "index 541 is out of bounds for axis 1 with size 528\n",
      "index 548 is out of bounds for axis 1 with size 528\n",
      "index 543 is out of bounds for axis 1 with size 528\n",
      "index 544 is out of bounds for axis 1 with size 528\n",
      "index 549 is out of bounds for axis 1 with size 528\n",
      "index 554 is out of bounds for axis 1 with size 528\n",
      "index 554 is out of bounds for axis 1 with size 528\n",
      "index 552 is out of bounds for axis 1 with size 528\n",
      "index 553 is out of bounds for axis 1 with size 528\n",
      "index 559 is out of bounds for axis 1 with size 528\n",
      "index 528 is out of bounds for axis 1 with size 528\n",
      "index 528 is out of bounds for axis 1 with size 528\n",
      "index 530 is out of bounds for axis 1 with size 528\n",
      "index 530 is out of bounds for axis 1 with size 528\n",
      "index 531 is out of bounds for axis 1 with size 528\n",
      "index 531 is out of bounds for axis 1 with size 528\n",
      "index 530 is out of bounds for axis 1 with size 528\n",
      "index 531 is out of bounds for axis 1 with size 528\n",
      "index 531 is out of bounds for axis 1 with size 528\n",
      "index 535 is out of bounds for axis 1 with size 528\n",
      "index 538 is out of bounds for axis 1 with size 528\n",
      "index 538 is out of bounds for axis 1 with size 528\n",
      "index 537 is out of bounds for axis 1 with size 528\n",
      "index 536 is out of bounds for axis 1 with size 528\n",
      "index 537 is out of bounds for axis 1 with size 528\n",
      "index 538 is out of bounds for axis 1 with size 528\n",
      "index 538 is out of bounds for axis 1 with size 528\n",
      "index 544 is out of bounds for axis 1 with size 528\n",
      "index 549 is out of bounds for axis 1 with size 528\n",
      "index 552 is out of bounds for axis 1 with size 528\n",
      "index 555 is out of bounds for axis 1 with size 528\n",
      "index 532 is out of bounds for axis 1 with size 528\n",
      "index 532 is out of bounds for axis 1 with size 528\n",
      "index 535 is out of bounds for axis 1 with size 528\n",
      "index 535 is out of bounds for axis 1 with size 528\n",
      "index 536 is out of bounds for axis 1 with size 528\n",
      "index 539 is out of bounds for axis 1 with size 528\n",
      "index 538 is out of bounds for axis 1 with size 528\n",
      "index 542 is out of bounds for axis 1 with size 528\n",
      "index 542 is out of bounds for axis 1 with size 528\n",
      "index 548 is out of bounds for axis 1 with size 528\n",
      "index 548 is out of bounds for axis 1 with size 528\n",
      "index 551 is out of bounds for axis 1 with size 528\n",
      "index 555 is out of bounds for axis 1 with size 528\n",
      "index 556 is out of bounds for axis 1 with size 528\n",
      "index 558 is out of bounds for axis 1 with size 528\n",
      "index 538 is out of bounds for axis 1 with size 528\n",
      "index 538 is out of bounds for axis 1 with size 528\n",
      "index 539 is out of bounds for axis 1 with size 528\n",
      "index 540 is out of bounds for axis 1 with size 528\n",
      "index 543 is out of bounds for axis 1 with size 528\n",
      "index 561 is out of bounds for axis 1 with size 528\n",
      "index 530 is out of bounds for axis 1 with size 528\n",
      "index 531 is out of bounds for axis 1 with size 528\n",
      "index 531 is out of bounds for axis 1 with size 528\n",
      "index 531 is out of bounds for axis 1 with size 528\n",
      "index 532 is out of bounds for axis 1 with size 528\n",
      "index 534 is out of bounds for axis 1 with size 528\n",
      "index 536 is out of bounds for axis 1 with size 528\n",
      "index 535 is out of bounds for axis 1 with size 528\n",
      "index 544 is out of bounds for axis 1 with size 528\n",
      "index 550 is out of bounds for axis 1 with size 528\n",
      "index 550 is out of bounds for axis 1 with size 528\n",
      "index 552 is out of bounds for axis 1 with size 528\n",
      "index 542 is out of bounds for axis 1 with size 528\n",
      "index 558 is out of bounds for axis 1 with size 528\n",
      "index 539 is out of bounds for axis 1 with size 528\n",
      "index 551 is out of bounds for axis 1 with size 528\n",
      "index 541 is out of bounds for axis 1 with size 528\n",
      "index 541 is out of bounds for axis 1 with size 528\n",
      "index 549 is out of bounds for axis 1 with size 528\n",
      "index 550 is out of bounds for axis 1 with size 528\n",
      "index 553 is out of bounds for axis 1 with size 528\n",
      "index 536 is out of bounds for axis 1 with size 528\n",
      "index 538 is out of bounds for axis 1 with size 528\n",
      "index 538 is out of bounds for axis 1 with size 528\n",
      "index 541 is out of bounds for axis 1 with size 528\n",
      "index 543 is out of bounds for axis 1 with size 528\n",
      "index 546 is out of bounds for axis 1 with size 528\n",
      "index 542 is out of bounds for axis 1 with size 528\n",
      "index 547 is out of bounds for axis 1 with size 528\n",
      "index 554 is out of bounds for axis 1 with size 528\n",
      "index 531 is out of bounds for axis 1 with size 528\n",
      "index 537 is out of bounds for axis 1 with size 528\n",
      "index 546 is out of bounds for axis 1 with size 528\n",
      "index 548 is out of bounds for axis 1 with size 528\n",
      "index 550 is out of bounds for axis 1 with size 528\n",
      "index 554 is out of bounds for axis 1 with size 528\n",
      "index 555 is out of bounds for axis 1 with size 528\n",
      "index 538 is out of bounds for axis 1 with size 528\n",
      "index 542 is out of bounds for axis 1 with size 528\n",
      "index 539 is out of bounds for axis 1 with size 528\n",
      "index 540 is out of bounds for axis 1 with size 528\n",
      "index 545 is out of bounds for axis 1 with size 528\n",
      "index 548 is out of bounds for axis 1 with size 528\n",
      "index 549 is out of bounds for axis 1 with size 528\n",
      "index 557 is out of bounds for axis 1 with size 528\n",
      "index 530 is out of bounds for axis 1 with size 528\n",
      "index 531 is out of bounds for axis 1 with size 528\n",
      "index 531 is out of bounds for axis 1 with size 528\n",
      "index 531 is out of bounds for axis 1 with size 528\n",
      "index 538 is out of bounds for axis 1 with size 528\n",
      "index 534 is out of bounds for axis 1 with size 528\n",
      "index 536 is out of bounds for axis 1 with size 528\n",
      "index 536 is out of bounds for axis 1 with size 528\n",
      "index 538 is out of bounds for axis 1 with size 528\n",
      "index 542 is out of bounds for axis 1 with size 528\n",
      "index 543 is out of bounds for axis 1 with size 528\n",
      "index 544 is out of bounds for axis 1 with size 528\n",
      "index 544 is out of bounds for axis 1 with size 528\n",
      "index 545 is out of bounds for axis 1 with size 528\n",
      "index 547 is out of bounds for axis 1 with size 528\n",
      "index 551 is out of bounds for axis 1 with size 528\n",
      "index 552 is out of bounds for axis 1 with size 528\n",
      "index 552 is out of bounds for axis 1 with size 528\n",
      "index 554 is out of bounds for axis 1 with size 528\n",
      "index 558 is out of bounds for axis 1 with size 528\n",
      "index 560 is out of bounds for axis 1 with size 528\n",
      "index 533 is out of bounds for axis 1 with size 528\n",
      "index 534 is out of bounds for axis 1 with size 528\n",
      "index 539 is out of bounds for axis 1 with size 528\n",
      "index 538 is out of bounds for axis 1 with size 528\n",
      "index 542 is out of bounds for axis 1 with size 528\n",
      "index 544 is out of bounds for axis 1 with size 528\n",
      "index 550 is out of bounds for axis 1 with size 528\n",
      "index 552 is out of bounds for axis 1 with size 528\n",
      "index 564 is out of bounds for axis 1 with size 528\n",
      "index 530 is out of bounds for axis 1 with size 528\n",
      "index 534 is out of bounds for axis 1 with size 528\n",
      "index 534 is out of bounds for axis 1 with size 528\n",
      "index 537 is out of bounds for axis 1 with size 528\n",
      "index 534 is out of bounds for axis 1 with size 528\n",
      "index 535 is out of bounds for axis 1 with size 528\n",
      "index 535 is out of bounds for axis 1 with size 528\n",
      "index 537 is out of bounds for axis 1 with size 528\n",
      "index 541 is out of bounds for axis 1 with size 528\n",
      "index 540 is out of bounds for axis 1 with size 528\n",
      "index 540 is out of bounds for axis 1 with size 528\n",
      "index 541 is out of bounds for axis 1 with size 528\n",
      "index 542 is out of bounds for axis 1 with size 528\n",
      "index 539 is out of bounds for axis 1 with size 528\n",
      "index 538 is out of bounds for axis 1 with size 528\n",
      "index 544 is out of bounds for axis 1 with size 528\n",
      "index 544 is out of bounds for axis 1 with size 528\n",
      "index 543 is out of bounds for axis 1 with size 528\n",
      "index 544 is out of bounds for axis 1 with size 528\n",
      "index 544 is out of bounds for axis 1 with size 528\n",
      "index 544 is out of bounds for axis 1 with size 528\n",
      "index 548 is out of bounds for axis 1 with size 528\n",
      "index 547 is out of bounds for axis 1 with size 528\n",
      "index 549 is out of bounds for axis 1 with size 528\n",
      "index 552 is out of bounds for axis 1 with size 528\n",
      "index 560 is out of bounds for axis 1 with size 528\n",
      "index 531 is out of bounds for axis 1 with size 528\n",
      "index 532 is out of bounds for axis 1 with size 528\n",
      "index 535 is out of bounds for axis 1 with size 528\n",
      "index 538 is out of bounds for axis 1 with size 528\n",
      "index 539 is out of bounds for axis 1 with size 528\n",
      "index 538 is out of bounds for axis 1 with size 528\n",
      "index 542 is out of bounds for axis 1 with size 528\n",
      "index 541 is out of bounds for axis 1 with size 528\n",
      "index 540 is out of bounds for axis 1 with size 528\n",
      "index 546 is out of bounds for axis 1 with size 528\n",
      "index 542 is out of bounds for axis 1 with size 528\n",
      "index 546 is out of bounds for axis 1 with size 528\n",
      "index 548 is out of bounds for axis 1 with size 528\n",
      "index 549 is out of bounds for axis 1 with size 528\n",
      "index 549 is out of bounds for axis 1 with size 528\n",
      "index 561 is out of bounds for axis 1 with size 528\n",
      "index 531 is out of bounds for axis 1 with size 528\n",
      "index 531 is out of bounds for axis 1 with size 528\n",
      "index 534 is out of bounds for axis 1 with size 528\n",
      "index 534 is out of bounds for axis 1 with size 528\n",
      "index 541 is out of bounds for axis 1 with size 528\n",
      "index 537 is out of bounds for axis 1 with size 528\n",
      "index 540 is out of bounds for axis 1 with size 528\n",
      "index 538 is out of bounds for axis 1 with size 528\n",
      "index 540 is out of bounds for axis 1 with size 528\n",
      "index 542 is out of bounds for axis 1 with size 528\n",
      "index 540 is out of bounds for axis 1 with size 528\n",
      "index 545 is out of bounds for axis 1 with size 528\n",
      "index 546 is out of bounds for axis 1 with size 528\n",
      "index 546 is out of bounds for axis 1 with size 528\n",
      "index 548 is out of bounds for axis 1 with size 528\n",
      "index 552 is out of bounds for axis 1 with size 528\n",
      "index 551 is out of bounds for axis 1 with size 528\n",
      "index 555 is out of bounds for axis 1 with size 528\n",
      "index 552 is out of bounds for axis 1 with size 528\n",
      "index 558 is out of bounds for axis 1 with size 528\n",
      "index 560 is out of bounds for axis 1 with size 528\n",
      "index 561 is out of bounds for axis 1 with size 528\n",
      "index 532 is out of bounds for axis 1 with size 528\n",
      "index 531 is out of bounds for axis 1 with size 528\n",
      "index 534 is out of bounds for axis 1 with size 528\n",
      "index 535 is out of bounds for axis 1 with size 528\n",
      "index 535 is out of bounds for axis 1 with size 528\n",
      "index 536 is out of bounds for axis 1 with size 528\n",
      "index 536 is out of bounds for axis 1 with size 528\n",
      "index 536 is out of bounds for axis 1 with size 528\n",
      "index 542 is out of bounds for axis 1 with size 528\n",
      "index 538 is out of bounds for axis 1 with size 528\n",
      "index 539 is out of bounds for axis 1 with size 528\n",
      "index 541 is out of bounds for axis 1 with size 528\n",
      "index 539 is out of bounds for axis 1 with size 528\n",
      "index 538 is out of bounds for axis 1 with size 528\n",
      "index 542 is out of bounds for axis 1 with size 528\n",
      "index 539 is out of bounds for axis 1 with size 528\n",
      "index 540 is out of bounds for axis 1 with size 528\n",
      "index 541 is out of bounds for axis 1 with size 528\n",
      "index 541 is out of bounds for axis 1 with size 528\n",
      "index 541 is out of bounds for axis 1 with size 528\n",
      "index 546 is out of bounds for axis 1 with size 528\n",
      "index 548 is out of bounds for axis 1 with size 528\n",
      "index 548 is out of bounds for axis 1 with size 528\n",
      "index 545 is out of bounds for axis 1 with size 528\n",
      "index 549 is out of bounds for axis 1 with size 528\n",
      "index 550 is out of bounds for axis 1 with size 528\n",
      "index 550 is out of bounds for axis 1 with size 528\n",
      "index 551 is out of bounds for axis 1 with size 528\n",
      "index 551 is out of bounds for axis 1 with size 528\n",
      "index 557 is out of bounds for axis 1 with size 528\n",
      "index 556 is out of bounds for axis 1 with size 528\n",
      "index 555 is out of bounds for axis 1 with size 528\n",
      "index 556 is out of bounds for axis 1 with size 528\n",
      "index 557 is out of bounds for axis 1 with size 528\n",
      "index 561 is out of bounds for axis 1 with size 528\n",
      "index 536 is out of bounds for axis 1 with size 528\n",
      "index 533 is out of bounds for axis 1 with size 528\n",
      "index 538 is out of bounds for axis 1 with size 528\n",
      "index 536 is out of bounds for axis 1 with size 528\n",
      "index 535 is out of bounds for axis 1 with size 528\n",
      "index 539 is out of bounds for axis 1 with size 528\n",
      "index 540 is out of bounds for axis 1 with size 528\n",
      "index 543 is out of bounds for axis 1 with size 528\n",
      "index 540 is out of bounds for axis 1 with size 528\n",
      "index 541 is out of bounds for axis 1 with size 528\n",
      "index 539 is out of bounds for axis 1 with size 528\n",
      "index 544 is out of bounds for axis 1 with size 528\n",
      "index 540 is out of bounds for axis 1 with size 528\n",
      "index 544 is out of bounds for axis 1 with size 528\n",
      "index 547 is out of bounds for axis 1 with size 528\n",
      "index 547 is out of bounds for axis 1 with size 528\n",
      "index 549 is out of bounds for axis 1 with size 528\n",
      "index 549 is out of bounds for axis 1 with size 528\n",
      "index 552 is out of bounds for axis 1 with size 528\n",
      "index 553 is out of bounds for axis 1 with size 528\n",
      "index 556 is out of bounds for axis 1 with size 528\n",
      "index 560 is out of bounds for axis 1 with size 528\n",
      "index 563 is out of bounds for axis 1 with size 528\n",
      "index 561 is out of bounds for axis 1 with size 528\n"
     ]
    }
   ],
   "source": [
    "#fill map\n",
    "for z,y,x in zyx:\n",
    "    try:\n",
    "        cell_map[z-1:z+1,y,x] = 1 #z dilation\n",
    "    except Exception as e:\n",
    "        print(e)"
   ]
  },
  {
   "cell_type": "code",
   "execution_count": 10,
   "metadata": {},
   "outputs": [],
   "source": [
    "#apply x y dilation\n",
    "r = 2\n",
    "selem = ball(r)[int(r/2)]\n",
    "# cell_map = cell_map.astype(\"uint8\")\n",
    "cell_map = np.asarray([cv2.dilate(cell_map[i], selem, iterations = 1) for i in range(cell_map.shape[0])])"
   ]
  },
  {
   "cell_type": "code",
   "execution_count": 14,
   "metadata": {},
   "outputs": [],
   "source": [
    "tif.imsave(\"/home/ahoag/ngdemo/data/registered_cellmap_test.tif\", cell_map)"
   ]
  },
  {
   "cell_type": "code",
   "execution_count": 2,
   "metadata": {},
   "outputs": [],
   "source": [
    "# Now create the cloudvolume for this tif file\n",
    "import os\n",
    "import numpy as np\n",
    "\n",
    "from concurrent.futures import ProcessPoolExecutor\n",
    "\n",
    "from taskqueue import LocalTaskQueue\n",
    "import igneous.task_creation as tc\n",
    "\n",
    "\n",
    "from cloudvolume import CloudVolume\n",
    "from cloudvolume.lib import mkdir, touch\n",
    "from PIL import Image"
   ]
  },
  {
   "cell_type": "code",
   "execution_count": 7,
   "metadata": {},
   "outputs": [
    {
     "data": {
      "text/plain": [
       "(456, 528, 320)"
      ]
     },
     "execution_count": 7,
     "metadata": {},
     "output_type": "execute_result"
    }
   ],
   "source": [
    "cell_map_filename = \"/home/ahoag/ngdemo/data/registered_cellmap_test.tif\"\n",
    "cell_map = tif.imread(cell_map_filename)\n",
    "cell_map.shape # z,y,x"
   ]
  },
  {
   "cell_type": "code",
   "execution_count": 10,
   "metadata": {},
   "outputs": [],
   "source": [
    "home_dir = '/home/ahoag/ngdemo'\n",
    "progress_dir = mkdir(home_dir + '/label_progress_regcells/')\n",
    "def make_info_file():\n",
    "    info = CloudVolume.create_new_info(\n",
    "        num_channels = 1,\n",
    "        layer_type = 'segmentation', # 'image' or 'segmentation'\n",
    "        data_type = 'uint16', # can pick any popular uint\n",
    "        encoding = 'raw', # other options: 'jpeg', 'compressed_segmentation' (req. uint32 or uint64)\n",
    "        resolution = [ 40000, 40000, 40000 ], # X,Y,Z values in nanometers, 40 microns in each dim\n",
    "        voxel_offset = [ 0, 0, 1 ], # values X,Y,Z values in voxels\n",
    "        chunk_size = [ 1024, 1024, 1 ], # rechunk of image X,Y,Z in voxels\n",
    "        volume_size = [320,528,456], # X,Y,Z size in voxels\n",
    "    )\n",
    "\n",
    "    # If you're using amazon or the local file system, you can replace 'gs' with 's3' or 'file'\n",
    "    vol = CloudVolume('file:///home/ahoag/ngdemo/demo_bucket/demo_dataset/registered_cells', info=info)\n",
    "    vol.provenance.description = \"A demo to show cells registered to the allen atlas\"\n",
    "    vol.provenance.owners = ['ahoag@princeton.edu'] # list of contact email addresses\n",
    "\n",
    "    vol.commit_info() # generates gs://bucket/dataset/layer/info json file\n",
    "    vol.commit_provenance() # generates gs://bucket/dataset/layer/provenance json file\n",
    "    return vol"
   ]
  },
  {
   "cell_type": "code",
   "execution_count": 11,
   "metadata": {},
   "outputs": [],
   "source": [
    "def process_slice(z):\n",
    "    print('Processing slice z=',z)\n",
    "    \n",
    "    array = cell_map[z-1].reshape((1,y_dim,x_dim)).T\n",
    "\n",
    "    cloud_vol[:,:, z] = array\n",
    "    touch(os.path.join(progress_dir, str(z)))"
   ]
  },
  {
   "cell_type": "code",
   "execution_count": 12,
   "metadata": {},
   "outputs": [
    {
     "name": "stdout",
     "output_type": "stream",
     "text": [
      "Remaining slices to upload are: [1, 2, 3, 4, 5, 6, 7, 8, 9, 10, 11, 12, 13, 14, 15, 16, 17, 18, 19, 20, 21, 22, 23, 24, 25, 26, 27, 28, 29, 30, 31, 32, 33, 34, 35, 36, 37, 38, 39, 40, 41, 42, 43, 44, 45, 46, 47, 48, 49, 50, 51, 52, 53, 54, 55, 56, 57, 58, 59, 60, 61, 62, 63, 64, 65, 66, 67, 68, 69, 70, 71, 72, 73, 74, 75, 76, 77, 78, 79, 80, 81, 82, 83, 84, 85, 86, 87, 88, 89, 90, 91, 92, 93, 94, 95, 96, 97, 98, 99, 100, 101, 102, 103, 104, 105, 106, 107, 108, 109, 110, 111, 112, 113, 114, 115, 116, 117, 118, 119, 120, 121, 122, 123, 124, 125, 126, 127, 128, 129, 130, 131, 132, 133, 134, 135, 136, 137, 138, 139, 140, 141, 142, 143, 144, 145, 146, 147, 148, 149, 150, 151, 152, 153, 154, 155, 156, 157, 158, 159, 160, 161, 162, 163, 164, 165, 166, 167, 168, 169, 170, 171, 172, 173, 174, 175, 176, 177, 178, 179, 180, 181, 182, 183, 184, 185, 186, 187, 188, 189, 190, 191, 192, 193, 194, 195, 196, 197, 198, 199, 200, 201, 202, 203, 204, 205, 206, 207, 208, 209, 210, 211, 212, 213, 214, 215, 216, 217, 218, 219, 220, 221, 222, 223, 224, 225, 226, 227, 228, 229, 230, 231, 232, 233, 234, 235, 236, 237, 238, 239, 240, 241, 242, 243, 244, 245, 246, 247, 248, 249, 250, 251, 252, 253, 254, 255, 256, 257, 258, 259, 260, 261, 262, 263, 264, 265, 266, 267, 268, 269, 270, 271, 272, 273, 274, 275, 276, 277, 278, 279, 280, 281, 282, 283, 284, 285, 286, 287, 288, 289, 290, 291, 292, 293, 294, 295, 296, 297, 298, 299, 300, 301, 302, 303, 304, 305, 306, 307, 308, 309, 310, 311, 312, 313, 314, 315, 316, 317, 318, 319, 320, 321, 322, 323, 324, 325, 326, 327, 328, 329, 330, 331, 332, 333, 334, 335, 336, 337, 338, 339, 340, 341, 342, 343, 344, 345, 346, 347, 348, 349, 350, 351, 352, 353, 354, 355, 356, 357, 358, 359, 360, 361, 362, 363, 364, 365, 366, 367, 368, 369, 370, 371, 372, 373, 374, 375, 376, 377, 378, 379, 380, 381, 382, 383, 384, 385, 386, 387, 388, 389, 390, 391, 392, 393, 394, 395, 396, 397, 398, 399, 400, 401, 402, 403, 404, 405, 406, 407, 408, 409, 410, 411, 412, 413, 414, 415, 416, 417, 418, 419, 420, 421, 422, 423, 424, 425, 426, 427, 428, 429, 430, 431, 432, 433, 434, 435, 436, 437, 438, 439, 440, 441, 442, 443, 444, 445, 446, 447, 448, 449, 450, 451, 452, 453, 454, 455, 456]\n",
      "Processing slice z= 1\n",
      "Processing slice z= 2\n",
      "Processing slice z= 8\n",
      "Processing slice z= 3\n",
      "Processing slice z= 4\n",
      "Processing slice z= 5\n",
      "Processing slice z= 6\n",
      "Processing slice z= 7\n"
     ]
    },
    {
     "name": "stderr",
     "output_type": "stream",
     "text": [
      "Uploading:   0%|          | 0/1 [00:00<?, ?it/s]\n",
      "Uploading:   0%|          | 0/1 [00:00<?, ?it/s]\u001b[A\n",
      "Uploading:   0%|          | 0/1 [00:00<?, ?it/s]\u001b[A\n",
      "Uploading: 100%|██████████| 1/1 [00:00<00:00, 109.00it/s]\u001b[A\n",
      "Uploading:   0%|          | 0/1 [00:00<?, ?it/s]\u001b[A\n",
      "Uploading:   0%|          | 0/1 [00:00<?, ?it/s]\u001b[A\n",
      "Uploading: 100%|██████████| 1/1 [00:00<00:00, 72.94it/s]\u001b[A\n",
      "\n",
      "Uploading:   0%|          | 0/1 [00:00<?, ?it/s]4.00it/s]\u001b[A\n",
      "Uploading:   0%|          | 0/1 [00:00<?, ?it/s]\u001b[A\n",
      "Uploading:   0%|          | 0/1 [00:00<?, ?it/s]\u001b[A\n",
      "Uploading:   0%|          | 0/1 [00:00<?, ?it/s].85it/s]\u001b[A"
     ]
    },
    {
     "name": "stdout",
     "output_type": "stream",
     "text": [
      "Processing slice z= 9\n"
     ]
    },
    {
     "name": "stderr",
     "output_type": "stream",
     "text": [
      "\n",
      "\n",
      "\n",
      "Uploading:   0%|          | 0/1 [00:00<?, ?it/s]\u001b[A\n",
      "Uploading: 100%|██████████| 1/1 [00:00<00:00, 89.95it/s]\u001b[A\n",
      "Uploading:   0%|          | 0/1 [00:00<?, ?it/s]\u001b[A\n",
      "Uploading: 100%|██████████| 1/1 [00:00<00:00, 74.70it/s]"
     ]
    },
    {
     "name": "stdout",
     "output_type": "stream",
     "text": [
      "Processing slice z= 10\n"
     ]
    },
    {
     "name": "stderr",
     "output_type": "stream",
     "text": [
      "\u001b[A\n"
     ]
    },
    {
     "name": "stdout",
     "output_type": "stream",
     "text": [
      "Processing slice z= 11\n"
     ]
    },
    {
     "name": "stderr",
     "output_type": "stream",
     "text": [
      "Uploading:   0%|          | 0/1 [00:00<?, ?it/s]\n",
      "\n",
      "Uploading:   0%|          | 0/1 [00:00<?, ?it/s]\u001b[A\n",
      "\n",
      "Uploading: 100%|██████████| 1/1 [00:00<00:00, 65.60it/s]\u001b[A"
     ]
    },
    {
     "name": "stdout",
     "output_type": "stream",
     "text": [
      "Processing slice z= 12\n"
     ]
    },
    {
     "name": "stderr",
     "output_type": "stream",
     "text": [
      "\n",
      "Uploading: 100%|██████████| 1/1 [00:00<00:00, 75.51it/s]"
     ]
    },
    {
     "name": "stdout",
     "output_type": "stream",
     "text": [
      "Processing slice z= 13\n"
     ]
    },
    {
     "name": "stderr",
     "output_type": "stream",
     "text": [
      "Uploading:   0%|          | 0/1 [00:00<?, ?it/s]\n",
      "Uploading:   0%|          | 0/1 [00:00<?, ?it/s]\u001b[A\n"
     ]
    },
    {
     "name": "stdout",
     "output_type": "stream",
     "text": [
      "Processing slice z= 14\n"
     ]
    },
    {
     "name": "stderr",
     "output_type": "stream",
     "text": [
      "Uploading:   0%|          | 0/1 [00:00<?, ?it/s]\u001b[A\n",
      "\n",
      "\n",
      "Uploading:   0%|          | 0/1 [00:00<?, ?it/s]\u001b[A"
     ]
    },
    {
     "name": "stdout",
     "output_type": "stream",
     "text": [
      "Processing slice z= 15\n"
     ]
    },
    {
     "name": "stderr",
     "output_type": "stream",
     "text": [
      "\r",
      "Uploading:   0%|          | 0/1 [00:00<?, ?it/s]"
     ]
    },
    {
     "name": "stdout",
     "output_type": "stream",
     "text": [
      "Processing slice z= 16\n"
     ]
    },
    {
     "name": "stderr",
     "output_type": "stream",
     "text": [
      "\n",
      "Uploading: 100%|██████████| 1/1 [00:00<00:00, 38.12it/s]\u001b[A\n",
      "Uploading:   0%|          | 0/1 [00:00<?, ?it/s]\u001b[A\n",
      "Uploading:   0%|          | 0/1 [00:00<?, ?it/s].36it/s]\u001b[A\n",
      "Uploading: 100%|██████████| 1/1 [00:00<00:00, 45.56it/s]\u001b[A\n",
      "Uploading:   0%|          | 0/1 [00:00<?, ?it/s]\n",
      "Uploading:   0%|          | 0/1 [00:00<?, ?it/s]\u001b[A\n",
      "Uploading:   0%|          | 0/1 [00:00<?, ?it/s].55it/s]\u001b[A"
     ]
    },
    {
     "name": "stdout",
     "output_type": "stream",
     "text": [
      "Processing slice z= 17\n"
     ]
    },
    {
     "name": "stderr",
     "output_type": "stream",
     "text": [
      "\n",
      "\n",
      "Uploading: 100%|██████████| 1/1 [00:00<00:00, 49.17it/s]\n",
      "\n"
     ]
    },
    {
     "name": "stdout",
     "output_type": "stream",
     "text": [
      "Processing slice z= 18\n"
     ]
    },
    {
     "name": "stderr",
     "output_type": "stream",
     "text": [
      "Uploading: 100%|██████████| 1/1 [00:00<00:00, 54.50it/s]\n",
      "Uploading: 100%|██████████| 1/1 [00:00<00:00, 182.83it/s]\n",
      "\n"
     ]
    },
    {
     "name": "stdout",
     "output_type": "stream",
     "text": [
      "Processing slice z= 19\n"
     ]
    },
    {
     "name": "stderr",
     "output_type": "stream",
     "text": [
      "\n",
      "Uploading:   0%|          | 0/1 [00:00<?, ?it/s]\u001b[A\n",
      "Uploading: 100%|██████████| 1/1 [00:00<00:00, 45.24it/s]\n",
      "\n",
      "\n",
      "\n",
      "\n"
     ]
    },
    {
     "name": "stdout",
     "output_type": "stream",
     "text": [
      "Processing slice z= 20\n"
     ]
    },
    {
     "name": "stderr",
     "output_type": "stream",
     "text": [
      "Uploading:   0%|          | 0/1 [00:00<?, ?it/s]\u001b[A\n",
      "Uploading:   0%|          | 0/1 [00:00<?, ?it/s]\u001b[A"
     ]
    },
    {
     "name": "stdout",
     "output_type": "stream",
     "text": [
      "Processing slice z= 21\n"
     ]
    },
    {
     "name": "stderr",
     "output_type": "stream",
     "text": [
      "\r",
      "Uploading:   0%|          | 0/1 [00:00<?, ?it/s]"
     ]
    },
    {
     "name": "stdout",
     "output_type": "stream",
     "text": [
      "Processing slice z= 22\n",
      "Processing slice z= 23\n",
      "Processing slice z= 24\n"
     ]
    },
    {
     "name": "stderr",
     "output_type": "stream",
     "text": [
      "\n",
      "Uploading: 100%|██████████| 1/1 [00:00<00:00, 47.88it/s]\u001b[A\n",
      "Uploading: 100%|██████████| 1/1 [00:00<00:00, 119.92it/s]\n",
      "\n",
      "Uploading: 100%|██████████| 1/1 [00:00<00:00, 55.37it/s]\n",
      "\n",
      "Uploading:   0%|          | 0/1 [00:00<?, ?it/s]\n",
      "Uploading: 100%|██████████| 1/1 [00:00<00:00, 111.65it/s]\n",
      "\n",
      "Uploading:   0%|          | 0/1 [00:00<?, ?it/s]"
     ]
    },
    {
     "name": "stdout",
     "output_type": "stream",
     "text": [
      "Processing slice z= 25\n"
     ]
    },
    {
     "name": "stderr",
     "output_type": "stream",
     "text": [
      "Uploading: 100%|██████████| 1/1 [00:00<00:00, 97.35it/s]\n",
      "Uploading:   0%|          | 0/1 [00:00<?, ?it/s]\n",
      "Uploading:   0%|          | 0/1 [00:00<?, ?it/s]\n",
      "\n",
      "Uploading: 100%|██████████| 1/1 [00:00<00:00, 55.65it/s]\n",
      "\n",
      "\n",
      "\n",
      "Uploading:   0%|          | 0/1 [00:00<?, ?it/s]"
     ]
    },
    {
     "name": "stdout",
     "output_type": "stream",
     "text": [
      "Processing slice z= 26\n",
      "Processing slice z= 27\n"
     ]
    },
    {
     "name": "stderr",
     "output_type": "stream",
     "text": [
      "\u001b[A"
     ]
    },
    {
     "name": "stdout",
     "output_type": "stream",
     "text": [
      "Processing slice z= 28\n"
     ]
    },
    {
     "name": "stderr",
     "output_type": "stream",
     "text": [
      "Uploading: 100%|██████████| 1/1 [00:00<00:00, 78.57it/s]"
     ]
    },
    {
     "name": "stdout",
     "output_type": "stream",
     "text": [
      "Processing slice z= 29\n"
     ]
    },
    {
     "name": "stderr",
     "output_type": "stream",
     "text": [
      "\n",
      "Uploading: 100%|██████████| 1/1 [00:00<00:00, 284.34it/s]\n",
      "\n",
      "Uploading:   0%|          | 0/1 [00:00<?, ?it/s]\u001b[A\n",
      "Uploading:   0%|          | 0/1 [00:00<?, ?it/s].70it/s]\u001b[A\n",
      "Uploading:   0%|          | 0/1 [00:00<?, ?it/s]\n",
      "\n",
      "Uploading:   0%|          | 0/1 [00:00<?, ?it/s]\u001b[A\n",
      "Uploading:   0%|          | 0/1 [00:00<?, ?it/s]"
     ]
    },
    {
     "name": "stdout",
     "output_type": "stream",
     "text": [
      "Processing slice z= 30\n"
     ]
    },
    {
     "name": "stderr",
     "output_type": "stream",
     "text": [
      "\u001b[A\n",
      "\n",
      "\n",
      "Uploading:   0%|          | 0/1 [00:00<?, ?it/s]"
     ]
    },
    {
     "name": "stdout",
     "output_type": "stream",
     "text": [
      "Processing slice z= 31\n"
     ]
    },
    {
     "name": "stderr",
     "output_type": "stream",
     "text": [
      "Uploading:   0%|          | 0/1 [00:00<?, ?it/s]\n",
      "Uploading: 100%|██████████| 1/1 [00:00<00:00, 53.45it/s]\u001b[A\n",
      "Uploading: 100%|██████████| 1/1 [00:00<00:00, 85.08it/s]\u001b[A\n",
      "Uploading: 100%|██████████| 1/1 [00:00<00:00, 89.59it/s]"
     ]
    },
    {
     "name": "stdout",
     "output_type": "stream",
     "text": [
      "Processing slice z= 32\n"
     ]
    },
    {
     "name": "stderr",
     "output_type": "stream",
     "text": [
      "\u001b[A"
     ]
    },
    {
     "name": "stdout",
     "output_type": "stream",
     "text": [
      "Processing slice z= 33\n"
     ]
    },
    {
     "name": "stderr",
     "output_type": "stream",
     "text": [
      "Uploading:   0%|          | 0/1 [00:00<?, ?it/s]\n",
      "Uploading: 100%|██████████| 1/1 [00:00<00:00, 89.37it/s]\n",
      "\n",
      "Uploading:   0%|          | 0/1 [00:00<?, ?it/s]\u001b[A\n",
      "\n",
      "\n",
      "Uploading: 100%|██████████| 1/1 [00:00<00:00, 101.99it/s]\n",
      "\n",
      "Uploading: 100%|██████████| 1/1 [00:00<00:00, 158.24it/s]\n",
      "\n",
      "\n"
     ]
    },
    {
     "name": "stdout",
     "output_type": "stream",
     "text": [
      "Processing slice z= 34\n"
     ]
    },
    {
     "name": "stderr",
     "output_type": "stream",
     "text": [
      "\r",
      "Uploading:   0%|          | 0/1 [00:00<?, ?it/s]"
     ]
    },
    {
     "name": "stdout",
     "output_type": "stream",
     "text": [
      "Processing slice z= 35\n"
     ]
    },
    {
     "name": "stderr",
     "output_type": "stream",
     "text": [
      "\u001b[A"
     ]
    },
    {
     "name": "stdout",
     "output_type": "stream",
     "text": [
      "Processing slice z= 36\n",
      "Processing slice z= 37\n"
     ]
    },
    {
     "name": "stderr",
     "output_type": "stream",
     "text": [
      "Uploading:   0%|          | 0/1 [00:00<?, ?it/s]\n",
      "Uploading:   0%|          | 0/1 [00:00<?, ?it/s]\u001b[A"
     ]
    },
    {
     "name": "stdout",
     "output_type": "stream",
     "text": [
      "Processing slice z= 38\n"
     ]
    },
    {
     "name": "stderr",
     "output_type": "stream",
     "text": [
      "Uploading: 100%|██████████| 1/1 [00:00<00:00, 73.12it/s]\n",
      "\n",
      "\n",
      "Uploading: 100%|██████████| 1/1 [00:00<00:00, 137.45it/s]\u001b[A\n",
      "Uploading:   0%|          | 0/1 [00:00<?, ?it/s]\u001b[A\n",
      "Uploading:   0%|          | 0/1 [00:00<?, ?it/s]\u001b[A\n"
     ]
    },
    {
     "name": "stdout",
     "output_type": "stream",
     "text": [
      "Processing slice z= 39\n"
     ]
    },
    {
     "name": "stderr",
     "output_type": "stream",
     "text": [
      "Uploading:   0%|          | 0/1 [00:00<?, ?it/s]\u001b[A\n",
      "\n",
      "Uploading:   0%|          | 0/1 [00:00<?, ?it/s]\u001b[A\n",
      "Uploading:   0%|          | 0/1 [00:00<?, ?it/s]\u001b[A\n",
      "Uploading: 100%|██████████| 1/1 [00:00<00:00, 82.29it/s]\n",
      "Uploading: 100%|██████████| 1/1 [00:00<00:00, 71.39it/s]\n",
      "\n",
      "Uploading: 100%|██████████| 1/1 [00:00<00:00, 93.64it/s]\u001b[A"
     ]
    },
    {
     "name": "stdout",
     "output_type": "stream",
     "text": [
      "Processing slice z= 40\n"
     ]
    },
    {
     "name": "stderr",
     "output_type": "stream",
     "text": [
      "\n",
      "Uploading:   0%|          | 0/1 [00:00<?, ?it/s]\u001b[A"
     ]
    },
    {
     "name": "stdout",
     "output_type": "stream",
     "text": [
      "Processing slice z= 41\n"
     ]
    },
    {
     "name": "stderr",
     "output_type": "stream",
     "text": [
      "\n",
      "\n",
      "Uploading: 100%|██████████| 1/1 [00:00<00:00, 75.06it/s]\u001b[A\n",
      "\n",
      "\n",
      "\n",
      "Uploading:   0%|          | 0/1 [00:00<?, ?it/s]"
     ]
    },
    {
     "name": "stdout",
     "output_type": "stream",
     "text": [
      "Processing slice z= 42\n"
     ]
    },
    {
     "name": "stderr",
     "output_type": "stream",
     "text": [
      "\n",
      "Uploading:   0%|          | 0/1 [00:00<?, ?it/s]\u001b[A"
     ]
    },
    {
     "name": "stdout",
     "output_type": "stream",
     "text": [
      "Processing slice z= 43\n"
     ]
    },
    {
     "name": "stderr",
     "output_type": "stream",
     "text": [
      "\n",
      "Uploading:   0%|          | 0/1 [00:00<?, ?it/s]\u001b[A\n"
     ]
    },
    {
     "name": "stdout",
     "output_type": "stream",
     "text": [
      "Processing slice z= 44\n"
     ]
    },
    {
     "name": "stderr",
     "output_type": "stream",
     "text": [
      "Uploading: 100%|██████████| 1/1 [00:00<00:00, 73.19it/s]\n"
     ]
    },
    {
     "name": "stdout",
     "output_type": "stream",
     "text": [
      "Processing slice z= 45\n"
     ]
    },
    {
     "name": "stderr",
     "output_type": "stream",
     "text": [
      "Uploading: 100%|██████████| 1/1 [00:00<00:00, 105.24it/s]\n",
      "\n",
      "Uploading:   0%|          | 0/1 [00:00<?, ?it/s]\u001b[A\n",
      "Uploading:   0%|          | 0/1 [00:00<?, ?it/s]\n",
      "Uploading:   0%|          | 0/1 [00:00<?, ?it/s]\u001b[A"
     ]
    },
    {
     "name": "stdout",
     "output_type": "stream",
     "text": [
      "Processing slice z= 46\n"
     ]
    },
    {
     "name": "stderr",
     "output_type": "stream",
     "text": [
      "Uploading:   0%|          | 0/1 [00:00<?, ?it/s]\n",
      "\n",
      "Uploading:   0%|          | 0/1 [00:00<?, ?it/s]\u001b[A"
     ]
    },
    {
     "name": "stdout",
     "output_type": "stream",
     "text": [
      "Processing slice z= 47\n"
     ]
    },
    {
     "name": "stderr",
     "output_type": "stream",
     "text": [
      "Uploading:   0%|          | 0/1 [00:00<?, ?it/s]\n",
      "Uploading:   0%|          | 0/1 [00:00<?, ?it/s]\u001b[A\n",
      "Uploading: 100%|██████████| 1/1 [00:00<00:00, 103.92it/s][A\n",
      "Uploading: 100%|██████████| 1/1 [00:00<00:00, 76.49it/s]\n"
     ]
    },
    {
     "name": "stdout",
     "output_type": "stream",
     "text": [
      "Processing slice z= 48\n"
     ]
    },
    {
     "name": "stderr",
     "output_type": "stream",
     "text": [
      "\n",
      "Uploading:   0%|          | 0/1 [00:00<?, ?it/s]\u001b[A\n",
      "Uploading: 100%|██████████| 1/1 [00:00<00:00, 83.84it/s]\u001b[A\n",
      "Uploading: 100%|██████████| 1/1 [00:00<00:00, 95.37it/s]\u001b[A\n",
      "\n",
      "\n",
      "\n",
      "Uploading: 100%|██████████| 1/1 [00:00<00:00, 93.18it/s]\n",
      "\n",
      "\n"
     ]
    },
    {
     "name": "stdout",
     "output_type": "stream",
     "text": [
      "Processing slice z= 49\n"
     ]
    },
    {
     "name": "stderr",
     "output_type": "stream",
     "text": [
      "\n",
      "Uploading:   0%|          | 0/1 [00:00<?, ?it/s]\u001b[A"
     ]
    },
    {
     "name": "stdout",
     "output_type": "stream",
     "text": [
      "Processing slice z= 50\n"
     ]
    },
    {
     "name": "stderr",
     "output_type": "stream",
     "text": [
      "Uploading: 100%|██████████| 1/1 [00:00<00:00, 149.21it/s]\n"
     ]
    },
    {
     "name": "stdout",
     "output_type": "stream",
     "text": [
      "Processing slice z= 51\n"
     ]
    },
    {
     "name": "stderr",
     "output_type": "stream",
     "text": [
      "\n",
      "\n",
      "\n"
     ]
    },
    {
     "name": "stdout",
     "output_type": "stream",
     "text": [
      "Processing slice z= 52\n",
      "Processing slice z= 53\n"
     ]
    },
    {
     "name": "stderr",
     "output_type": "stream",
     "text": [
      "Uploading: 100%|██████████| 1/1 [00:00<00:00, 108.80it/s]\n",
      "\n",
      "Uploading:   0%|          | 0/1 [00:00<?, ?it/s]\u001b[A\n",
      "Uploading:   0%|          | 0/1 [00:00<?, ?it/s]"
     ]
    },
    {
     "name": "stdout",
     "output_type": "stream",
     "text": [
      "Processing slice z= 54\n",
      "Processing slice z= 55\n"
     ]
    },
    {
     "name": "stderr",
     "output_type": "stream",
     "text": [
      "Uploading:   0%|          | 0/1 [00:00<?, ?it/s]\n",
      "Uploading: 100%|██████████| 1/1 [00:00<00:00, 76.20it/s]\n",
      "Uploading:   0%|          | 0/1 [00:00<?, ?it/s]\n",
      "Uploading:   0%|          | 0/1 [00:00<?, ?it/s]\u001b[A\n",
      "\n",
      "Uploading:   0%|          | 0/1 [00:00<?, ?it/s]\u001b[A\n",
      "\n",
      "Uploading: 100%|██████████| 1/1 [00:00<00:00, 62.97it/s]\u001b[A\n",
      "\n",
      "Uploading:   0%|          | 0/1 [00:00<?, ?it/s]\u001b[A"
     ]
    },
    {
     "name": "stdout",
     "output_type": "stream",
     "text": [
      "Processing slice z= 56\n"
     ]
    },
    {
     "name": "stderr",
     "output_type": "stream",
     "text": [
      "\n",
      "Uploading: 100%|██████████| 1/1 [00:00<00:00, 62.87it/s]]\u001b[A\n"
     ]
    },
    {
     "name": "stdout",
     "output_type": "stream",
     "text": [
      "Processing slice z= 57\n"
     ]
    },
    {
     "name": "stderr",
     "output_type": "stream",
     "text": [
      "\n",
      "Uploading: 100%|██████████| 1/1 [00:00<00:00, 52.79it/s]\u001b[A\n",
      "\n",
      "\n",
      "Uploading: 100%|██████████| 1/1 [00:00<00:00, 65.86it/s]\u001b[A\n",
      "\n",
      "Uploading:   0%|          | 0/1 [00:00<?, ?it/s]\n",
      "Uploading:   0%|          | 0/1 [00:00<?, ?it/s]"
     ]
    },
    {
     "name": "stdout",
     "output_type": "stream",
     "text": [
      "Processing slice z= 58\n"
     ]
    },
    {
     "name": "stderr",
     "output_type": "stream",
     "text": [
      "\n"
     ]
    },
    {
     "name": "stdout",
     "output_type": "stream",
     "text": [
      "Processing slice z= 59\n"
     ]
    },
    {
     "name": "stderr",
     "output_type": "stream",
     "text": [
      "\r",
      "Uploading:   0%|          | 0/1 [00:00<?, ?it/s]"
     ]
    },
    {
     "name": "stdout",
     "output_type": "stream",
     "text": [
      "Processing slice z= 60\n"
     ]
    },
    {
     "name": "stderr",
     "output_type": "stream",
     "text": [
      "\u001b[A\n",
      "\n"
     ]
    },
    {
     "name": "stdout",
     "output_type": "stream",
     "text": [
      "Processing slice z= 61\n"
     ]
    },
    {
     "name": "stderr",
     "output_type": "stream",
     "text": [
      "Uploading:   0%|          | 0/1 [00:00<?, ?it/s]\u001b[A"
     ]
    },
    {
     "name": "stdout",
     "output_type": "stream",
     "text": [
      "Processing slice z= 62\n"
     ]
    },
    {
     "name": "stderr",
     "output_type": "stream",
     "text": [
      "\n",
      "Uploading:   0%|          | 0/1 [00:00<?, ?it/s]\u001b[A"
     ]
    },
    {
     "name": "stdout",
     "output_type": "stream",
     "text": [
      "Processing slice z= 63\n"
     ]
    },
    {
     "name": "stderr",
     "output_type": "stream",
     "text": [
      "Uploading:   0%|          | 0/1 [00:00<?, ?it/s]\n",
      "Uploading:   0%|          | 0/1 [00:00<?, ?it/s]\u001b[A\n",
      "Uploading: 100%|██████████| 1/1 [00:00<00:00, 56.42it/s]\u001b[A\n",
      "Uploading:   0%|          | 0/1 [00:00<?, ?it/s]\u001b[A\n",
      "Uploading:   0%|          | 0/1 [00:00<?, ?it/s].88it/s]\u001b[A\n",
      "Uploading:   0%|          | 0/1 [00:00<?, ?it/s]\u001b[A\n",
      "Uploading: 100%|██████████| 1/1 [00:00<00:00, 48.05it/s]\u001b[A\n",
      "\n",
      "Uploading:   0%|          | 0/1 [00:00<?, ?it/s]\u001b[A\n",
      "Uploading: 100%|██████████| 1/1 [00:00<00:00, 46.22it/s]\u001b[A\n"
     ]
    },
    {
     "name": "stdout",
     "output_type": "stream",
     "text": [
      "Processing slice z= 64\n"
     ]
    },
    {
     "name": "stderr",
     "output_type": "stream",
     "text": [
      "Uploading:   0%|          | 0/1 [00:00<?, ?it/s]\u001b[A\n",
      "\n",
      "\n",
      "Uploading: 100%|██████████| 1/1 [00:00<00:00, 59.39it/s]\n",
      "Uploading: 100%|██████████| 1/1 [00:00<00:00, 38.60it/s]\n"
     ]
    },
    {
     "name": "stdout",
     "output_type": "stream",
     "text": [
      "Processing slice z= 65\n"
     ]
    },
    {
     "name": "stderr",
     "output_type": "stream",
     "text": [
      "Uploading: 100%|██████████| 1/1 [00:00<00:00, 79.31it/s]\n",
      "\n",
      "\n",
      "\n",
      "Uploading:   0%|          | 0/1 [00:00<?, ?it/s]"
     ]
    },
    {
     "name": "stdout",
     "output_type": "stream",
     "text": [
      "Processing slice z= 66\n"
     ]
    },
    {
     "name": "stderr",
     "output_type": "stream",
     "text": [
      "\u001b[A"
     ]
    },
    {
     "name": "stdout",
     "output_type": "stream",
     "text": [
      "Processing slice z= 67\n"
     ]
    },
    {
     "name": "stderr",
     "output_type": "stream",
     "text": [
      "Uploading:   0%|          | 0/1 [00:00<?, ?it/s]\n",
      "Uploading: 100%|██████████| 1/1 [00:00<00:00, 60.83it/s]\u001b[A\n",
      "\n"
     ]
    },
    {
     "name": "stdout",
     "output_type": "stream",
     "text": [
      "Processing slice z= 68\n"
     ]
    },
    {
     "name": "stderr",
     "output_type": "stream",
     "text": [
      "Uploading:   0%|          | 0/1 [00:00<?, ?it/s]\u001b[A\n",
      "Uploading:   0%|          | 0/1 [00:00<?, ?it/s]\u001b[A"
     ]
    },
    {
     "name": "stdout",
     "output_type": "stream",
     "text": [
      "Processing slice z= 69\n"
     ]
    },
    {
     "name": "stderr",
     "output_type": "stream",
     "text": [
      "Uploading:   0%|          | 0/1 [00:00<?, ?it/s]"
     ]
    },
    {
     "name": "stdout",
     "output_type": "stream",
     "text": [
      "Processing slice z= 70\n"
     ]
    },
    {
     "name": "stderr",
     "output_type": "stream",
     "text": [
      "\n",
      "Uploading: 100%|██████████| 1/1 [00:00<00:00, 66.60it/s]\u001b[A\n",
      "\n",
      "Uploading:   0%|          | 0/1 [00:00<?, ?it/s]\u001b[A\n",
      "Uploading:   0%|          | 0/1 [00:00<?, ?it/s]\u001b[A\n",
      "Uploading: 100%|██████████| 1/1 [00:00<00:00, 66.66it/s]\u001b[A\n",
      "Uploading:   0%|          | 0/1 [00:00<?, ?it/s]\n"
     ]
    },
    {
     "name": "stdout",
     "output_type": "stream",
     "text": [
      "Processing slice z= 71\n"
     ]
    },
    {
     "name": "stderr",
     "output_type": "stream",
     "text": [
      "Uploading:   0%|          | 0/1 [00:00<?, ?it/s]\u001b[A\n",
      "Uploading: 100%|██████████| 1/1 [00:00<00:00, 54.77it/s]\n"
     ]
    },
    {
     "name": "stdout",
     "output_type": "stream",
     "text": [
      "Processing slice z= 72\n"
     ]
    },
    {
     "name": "stderr",
     "output_type": "stream",
     "text": [
      "\n",
      "Uploading:   0%|          | 0/1 [00:00<?, ?it/s]\u001b[A\n",
      "Uploading: 100%|██████████| 1/1 [00:00<00:00, 87.29it/s]\u001b[A\n"
     ]
    },
    {
     "name": "stdout",
     "output_type": "stream",
     "text": [
      "Processing slice z= 73\n"
     ]
    },
    {
     "name": "stderr",
     "output_type": "stream",
     "text": [
      "\n",
      "Uploading: 100%|██████████| 1/1 [00:00<00:00, 84.67it/s]\n",
      "\n",
      "Uploading:   0%|          | 0/1 [00:00<?, ?it/s]\u001b[A"
     ]
    },
    {
     "name": "stdout",
     "output_type": "stream",
     "text": [
      "Processing slice z= 74\n"
     ]
    },
    {
     "name": "stderr",
     "output_type": "stream",
     "text": [
      "Uploading:   0%|          | 0/1 [00:00<?, ?it/s]\n",
      "\n",
      "Uploading: 100%|██████████| 1/1 [00:00<00:00, 40.77it/s]\n",
      "\n",
      "Uploading:   0%|          | 0/1 [00:00<?, ?it/s]\u001b[A\n",
      "\n"
     ]
    },
    {
     "name": "stdout",
     "output_type": "stream",
     "text": [
      "Processing slice z= 75\n"
     ]
    },
    {
     "name": "stderr",
     "output_type": "stream",
     "text": [
      "Uploading:   0%|          | 0/1 [00:00<?, ?it/s]\u001b[A"
     ]
    },
    {
     "name": "stdout",
     "output_type": "stream",
     "text": [
      "Processing slice z= 76\n"
     ]
    },
    {
     "name": "stderr",
     "output_type": "stream",
     "text": [
      "\n",
      "Uploading:   0%|          | 0/1 [00:00<?, ?it/s]\u001b[A\n",
      "Uploading:   0%|          | 0/1 [00:00<?, ?it/s]\n",
      "Uploading:   0%|          | 0/1 [00:00<?, ?it/s]\u001b[A\n"
     ]
    },
    {
     "name": "stdout",
     "output_type": "stream",
     "text": [
      "Processing slice z= 77\n"
     ]
    },
    {
     "name": "stderr",
     "output_type": "stream",
     "text": [
      "Uploading: 100%|██████████| 1/1 [00:00<00:00, 45.62it/s]\u001b[A"
     ]
    },
    {
     "name": "stdout",
     "output_type": "stream",
     "text": [
      "Processing slice z= 78\n"
     ]
    },
    {
     "name": "stderr",
     "output_type": "stream",
     "text": [
      "\n",
      "Uploading: 100%|██████████| 1/1 [00:00<00:00, 53.46it/s]\u001b[A\n",
      "Uploading:   0%|          | 0/1 [00:00<?, ?it/s]\u001b[A\n",
      "Uploading: 100%|██████████| 1/1 [00:00<00:00, 49.42it/s]\u001b[A\n",
      "\n",
      "Uploading: 100%|██████████| 1/1 [00:00<00:00, 46.74it/s]\n",
      "\n",
      "Uploading:   0%|          | 0/1 [00:00<?, ?it/s]\n",
      "Uploading:   0%|          | 0/1 [00:00<?, ?it/s]\u001b[A\n",
      "Uploading: 100%|██████████| 1/1 [00:00<00:00, 80.54it/s]\u001b[A\n",
      "Uploading:   0%|          | 0/1 [00:00<?, ?it/s]\u001b[A\n"
     ]
    },
    {
     "name": "stdout",
     "output_type": "stream",
     "text": [
      "Processing slice z= 79\n",
      "Processing slice z= 80\n"
     ]
    },
    {
     "name": "stderr",
     "output_type": "stream",
     "text": [
      "\n",
      "\n",
      "\n",
      "\n",
      "Uploading:   0%|          | 0/1 [00:00<?, ?it/s]\u001b[A"
     ]
    },
    {
     "name": "stdout",
     "output_type": "stream",
     "text": [
      "Processing slice z= 81\n"
     ]
    },
    {
     "name": "stderr",
     "output_type": "stream",
     "text": [
      "Uploading:   0%|          | 0/1 [00:00<?, ?it/s]\n",
      "Uploading:   0%|          | 0/1 [00:00<?, ?it/s]\u001b[A\n",
      "Uploading: 100%|██████████| 1/1 [00:00<00:00, 69.99it/s]"
     ]
    },
    {
     "name": "stdout",
     "output_type": "stream",
     "text": [
      "Processing slice z= 83\n"
     ]
    },
    {
     "name": "stderr",
     "output_type": "stream",
     "text": [
      "\u001b[A"
     ]
    },
    {
     "name": "stdout",
     "output_type": "stream",
     "text": [
      "Processing slice z= 82\n",
      "Processing slice z= 84\n"
     ]
    },
    {
     "name": "stderr",
     "output_type": "stream",
     "text": [
      "\n",
      "Uploading: 100%|██████████| 1/1 [00:00<00:00, 43.63it/s]\u001b[A\n",
      "Uploading: 100%|██████████| 1/1 [00:00<00:00, 70.65it/s]\u001b[A\n",
      "\n",
      "Uploading:   0%|          | 0/1 [00:00<?, ?it/s]\n",
      "Uploading:   0%|          | 0/1 [00:00<?, ?it/s]\u001b[A\n",
      "Uploading:   0%|          | 0/1 [00:00<?, ?it/s]\u001b[A\n",
      "\n",
      "\n",
      "Uploading:   0%|          | 0/1 [00:00<?, ?it/s]\u001b[A\n"
     ]
    },
    {
     "name": "stdout",
     "output_type": "stream",
     "text": [
      "Processing slice z= 85\n"
     ]
    },
    {
     "name": "stderr",
     "output_type": "stream",
     "text": [
      "Uploading:   0%|          | 0/1 [00:00<?, ?it/s]\n",
      "Uploading:   0%|          | 0/1 [00:00<?, ?it/s]\u001b[A\n"
     ]
    },
    {
     "name": "stdout",
     "output_type": "stream",
     "text": [
      "Processing slice z= 86\n"
     ]
    },
    {
     "name": "stderr",
     "output_type": "stream",
     "text": [
      "\r",
      "Uploading: 100%|██████████| 1/1 [00:00<00:00, 74.14it/s]"
     ]
    },
    {
     "name": "stdout",
     "output_type": "stream",
     "text": [
      "Processing slice z= 87\n"
     ]
    },
    {
     "name": "stderr",
     "output_type": "stream",
     "text": [
      "\u001b[A\n",
      "Uploading: 100%|██████████| 1/1 [00:00<00:00, 53.34it/s]"
     ]
    },
    {
     "name": "stdout",
     "output_type": "stream",
     "text": [
      "Processing slice z= 88\n"
     ]
    },
    {
     "name": "stderr",
     "output_type": "stream",
     "text": [
      "\u001b[A\n",
      "Uploading: 100%|██████████| 1/1 [00:00<00:00, 59.29it/s]\u001b[A\n",
      "Uploading:   0%|          | 0/1 [00:00<?, ?it/s]\u001b[A\n",
      "\n",
      "Uploading:   0%|          | 0/1 [00:00<?, ?it/s]\u001b[A\n",
      "Uploading: 100%|██████████| 1/1 [00:00<00:00, 44.53it/s]\n",
      "Uploading:   0%|          | 0/1 [00:00<?, ?it/s]\n",
      "\n",
      "Uploading:   0%|          | 0/1 [00:00<?, ?it/s]\u001b[A"
     ]
    },
    {
     "name": "stdout",
     "output_type": "stream",
     "text": [
      "Processing slice z= 89\n"
     ]
    },
    {
     "name": "stderr",
     "output_type": "stream",
     "text": [
      "Uploading: 100%|██████████| 1/1 [00:00<00:00, 70.96it/s]\n"
     ]
    },
    {
     "name": "stdout",
     "output_type": "stream",
     "text": [
      "Processing slice z= 90\n"
     ]
    },
    {
     "name": "stderr",
     "output_type": "stream",
     "text": [
      "\n"
     ]
    },
    {
     "name": "stdout",
     "output_type": "stream",
     "text": [
      "Processing slice z= 91\n"
     ]
    },
    {
     "name": "stderr",
     "output_type": "stream",
     "text": [
      "\n",
      "Uploading: 100%|██████████| 1/1 [00:00<00:00, 48.72it/s]\n",
      "\n",
      "\n",
      "Uploading: 100%|██████████| 1/1 [00:00<00:00, 85.53it/s]\u001b[A\n",
      "Uploading:   0%|          | 0/1 [00:00<?, ?it/s]\u001b[A"
     ]
    },
    {
     "name": "stdout",
     "output_type": "stream",
     "text": [
      "Processing slice z= 92\n"
     ]
    },
    {
     "name": "stderr",
     "output_type": "stream",
     "text": [
      "\n",
      "Uploading:   0%|          | 0/1 [00:00<?, ?it/s]"
     ]
    },
    {
     "name": "stdout",
     "output_type": "stream",
     "text": [
      "Processing slice z= 93\n"
     ]
    },
    {
     "name": "stderr",
     "output_type": "stream",
     "text": [
      "\n",
      "Uploading:   0%|          | 0/1 [00:00<?, ?it/s]\u001b[A\n",
      "Uploading:   0%|          | 0/1 [00:00<?, ?it/s]\u001b[A\n",
      "Uploading:   0%|          | 0/1 [00:00<?, ?it/s]\u001b[A"
     ]
    },
    {
     "name": "stdout",
     "output_type": "stream",
     "text": [
      "Processing slice z= 94\n"
     ]
    },
    {
     "name": "stderr",
     "output_type": "stream",
     "text": [
      "\n",
      "Uploading: 100%|██████████| 1/1 [00:00<00:00, 37.04it/s]\n",
      "\n",
      "Uploading:   0%|          | 0/1 [00:00<?, ?it/s]\u001b[A"
     ]
    },
    {
     "name": "stdout",
     "output_type": "stream",
     "text": [
      "Processing slice z= 95\n"
     ]
    },
    {
     "name": "stderr",
     "output_type": "stream",
     "text": [
      "Uploading: 100%|██████████| 1/1 [00:00<00:00, 53.96it/s]\n",
      "\n",
      "\n",
      "Uploading: 100%|██████████| 1/1 [00:00<00:00, 51.33it/s]\u001b[A\n",
      "Uploading:   0%|          | 0/1 [00:00<?, ?it/s]\n",
      "Uploading:   0%|          | 0/1 [00:00<?, ?it/s]\u001b[A"
     ]
    },
    {
     "name": "stdout",
     "output_type": "stream",
     "text": [
      "Processing slice z= 96\n"
     ]
    },
    {
     "name": "stderr",
     "output_type": "stream",
     "text": [
      "\n",
      "Uploading:   0%|          | 0/1 [00:00<?, ?it/s]\u001b[A\n",
      "\n",
      "\n",
      "Uploading: 100%|██████████| 1/1 [00:00<00:00, 52.76it/s]\n",
      "Uploading: 100%|██████████| 1/1 [00:00<00:00, 55.47it/s]\n",
      "Uploading:   0%|          | 0/1 [00:00<?, ?it/s]\n",
      "Uploading:   0%|          | 0/1 [00:00<?, ?it/s]\u001b[A\n"
     ]
    },
    {
     "name": "stdout",
     "output_type": "stream",
     "text": [
      "Processing slice z= 97\n"
     ]
    },
    {
     "name": "stderr",
     "output_type": "stream",
     "text": [
      "\n"
     ]
    },
    {
     "name": "stdout",
     "output_type": "stream",
     "text": [
      "Processing slice z= 98\n"
     ]
    },
    {
     "name": "stderr",
     "output_type": "stream",
     "text": [
      "\r",
      "Uploading: 100%|██████████| 1/1 [00:00<00:00, 57.93it/s]"
     ]
    },
    {
     "name": "stdout",
     "output_type": "stream",
     "text": [
      "Processing slice z= 99\n"
     ]
    },
    {
     "name": "stderr",
     "output_type": "stream",
     "text": [
      "\n",
      "Uploading: 100%|██████████| 1/1 [00:00<00:00, 72.75it/s]\n",
      "\n",
      "\n",
      "\n",
      "Uploading:   0%|          | 0/1 [00:00<?, ?it/s]\u001b[A"
     ]
    },
    {
     "name": "stdout",
     "output_type": "stream",
     "text": [
      "Processing slice z= 100\n",
      "Processing slice z= 101\n"
     ]
    },
    {
     "name": "stderr",
     "output_type": "stream",
     "text": [
      "\n",
      "Uploading:   0%|          | 0/1 [00:00<?, ?it/s].15it/s]\u001b[A"
     ]
    },
    {
     "name": "stdout",
     "output_type": "stream",
     "text": [
      "Processing slice z= 102\n"
     ]
    },
    {
     "name": "stderr",
     "output_type": "stream",
     "text": [
      "\n",
      "Uploading:   0%|          | 0/1 [00:00<?, ?it/s]\u001b[A"
     ]
    },
    {
     "name": "stdout",
     "output_type": "stream",
     "text": [
      "Processing slice z= 103\n"
     ]
    },
    {
     "name": "stderr",
     "output_type": "stream",
     "text": [
      "\n",
      "\n",
      "Uploading:   0%|          | 0/1 [00:00<?, ?it/s]\u001b[A\n",
      "Uploading:   0%|          | 0/1 [00:00<?, ?it/s]\u001b[A\n",
      "Uploading:   0%|          | 0/1 [00:00<?, ?it/s]\u001b[A"
     ]
    },
    {
     "name": "stdout",
     "output_type": "stream",
     "text": [
      "Processing slice z= 104\n"
     ]
    },
    {
     "name": "stderr",
     "output_type": "stream",
     "text": [
      "Uploading: 100%|██████████| 1/1 [00:00<00:00, 51.86it/s]\n",
      "\n",
      "Uploading:   0%|          | 0/1 [00:00<?, ?it/s]\u001b[A\n",
      "Uploading:   0%|          | 0/1 [00:00<?, ?it/s].26it/s]\u001b[A\n",
      "Uploading: 100%|██████████| 1/1 [00:00<00:00, 51.52it/s]\n",
      "\n",
      "\n",
      "Uploading:   0%|          | 0/1 [00:00<?, ?it/s]\u001b[A\n"
     ]
    },
    {
     "name": "stdout",
     "output_type": "stream",
     "text": [
      "Processing slice z= 105\n"
     ]
    },
    {
     "name": "stderr",
     "output_type": "stream",
     "text": [
      "Uploading: 100%|██████████| 1/1 [00:00<00:00, 31.66it/s]\u001b[A\n",
      "Uploading: 100%|██████████| 1/1 [00:00<00:00, 67.90it/s]\n",
      "Uploading: 100%|██████████| 1/1 [00:00<00:00, 33.72it/s]\n",
      "\n",
      "\n",
      "\n",
      "\n",
      "\n",
      "\n",
      "Uploading:   0%|          | 0/1 [00:00<?, ?it/s]\u001b[A\n",
      "\n"
     ]
    },
    {
     "name": "stdout",
     "output_type": "stream",
     "text": [
      "Processing slice z= 106\n"
     ]
    },
    {
     "name": "stderr",
     "output_type": "stream",
     "text": [
      "Uploading: 100%|██████████| 1/1 [00:00<00:00, 49.43it/s]\u001b[A\n"
     ]
    },
    {
     "name": "stdout",
     "output_type": "stream",
     "text": [
      "Processing slice z= 107\n",
      "Processing slice z= 109\n"
     ]
    },
    {
     "name": "stderr",
     "output_type": "stream",
     "text": [
      "\n"
     ]
    },
    {
     "name": "stdout",
     "output_type": "stream",
     "text": [
      "Processing slice z= 108\n",
      "Processing slice z= 110\n"
     ]
    },
    {
     "name": "stderr",
     "output_type": "stream",
     "text": [
      "\r",
      "Uploading:   0%|          | 0/1 [00:00<?, ?it/s]"
     ]
    },
    {
     "name": "stdout",
     "output_type": "stream",
     "text": [
      "Processing slice z= 111\n"
     ]
    },
    {
     "name": "stderr",
     "output_type": "stream",
     "text": [
      "Uploading:   0%|          | 0/1 [00:00<?, ?it/s]\n",
      "Uploading: 100%|██████████| 1/1 [00:00<00:00, 57.72it/s]\n",
      "Uploading:   0%|          | 0/1 [00:00<?, ?it/s]\n"
     ]
    },
    {
     "name": "stdout",
     "output_type": "stream",
     "text": [
      "Processing slice z= 112\n"
     ]
    },
    {
     "name": "stderr",
     "output_type": "stream",
     "text": [
      "Uploading:   0%|          | 0/1 [00:00<?, ?it/s]\u001b[A\n",
      "Uploading:   0%|          | 0/1 [00:00<?, ?it/s]\u001b[A\n",
      "Uploading:   0%|          | 0/1 [00:00<?, ?it/s]\u001b[A\n",
      "Uploading:   0%|          | 0/1 [00:00<?, ?it/s]\u001b[A\n",
      "Uploading: 100%|██████████| 1/1 [00:00<00:00, 54.70it/s]\n",
      "Uploading: 100%|██████████| 1/1 [00:00<00:00, 39.66it/s]\n",
      "\n",
      "Uploading:   0%|          | 0/1 [00:00<?, ?it/s]\u001b[A\n",
      "Uploading: 100%|██████████| 1/1 [00:00<00:00, 44.97it/s]\u001b[A"
     ]
    },
    {
     "name": "stdout",
     "output_type": "stream",
     "text": [
      "Processing slice z= 113\n"
     ]
    },
    {
     "name": "stderr",
     "output_type": "stream",
     "text": [
      "\n",
      "\n",
      "\n",
      "Uploading: 100%|██████████| 1/1 [00:00<00:00, 56.12it/s]\u001b[A\n",
      "Uploading: 100%|██████████| 1/1 [00:00<00:00, 56.53it/s]\u001b[A\n",
      "Uploading: 100%|██████████| 1/1 [00:00<00:00, 38.77it/s]\n",
      "Uploading:   0%|          | 0/1 [00:00<?, ?it/s]"
     ]
    },
    {
     "name": "stdout",
     "output_type": "stream",
     "text": [
      "Processing slice z= 114\n"
     ]
    },
    {
     "name": "stderr",
     "output_type": "stream",
     "text": [
      "\n",
      "\n",
      "\n"
     ]
    },
    {
     "name": "stdout",
     "output_type": "stream",
     "text": [
      "Processing slice z= 115\n"
     ]
    },
    {
     "name": "stderr",
     "output_type": "stream",
     "text": [
      "Uploading: 100%|██████████| 1/1 [00:00<00:00, 45.81it/s]\n",
      "\n",
      "Uploading:   0%|          | 0/1 [00:00<?, ?it/s]\n"
     ]
    },
    {
     "name": "stdout",
     "output_type": "stream",
     "text": [
      "Processing slice z= 116\n"
     ]
    },
    {
     "name": "stderr",
     "output_type": "stream",
     "text": [
      "Uploading:   0%|          | 0/1 [00:00<?, ?it/s]\n",
      "Uploading:   0%|          | 0/1 [00:00<?, ?it/s]"
     ]
    },
    {
     "name": "stdout",
     "output_type": "stream",
     "text": [
      "Processing slice z= 117\n"
     ]
    },
    {
     "name": "stderr",
     "output_type": "stream",
     "text": [
      "\u001b[A"
     ]
    },
    {
     "name": "stdout",
     "output_type": "stream",
     "text": [
      "Processing slice z= 118\n",
      "Processing slice z= 119\n"
     ]
    },
    {
     "name": "stderr",
     "output_type": "stream",
     "text": [
      "Uploading:   0%|          | 0/1 [00:00<?, ?it/s]\n"
     ]
    },
    {
     "name": "stdout",
     "output_type": "stream",
     "text": [
      "Processing slice z= 120\n"
     ]
    },
    {
     "name": "stderr",
     "output_type": "stream",
     "text": [
      "Uploading:   0%|          | 0/1 [00:00<?, ?it/s]\u001b[A\n",
      "Uploading:   0%|          | 0/1 [00:00<?, ?it/s]\u001b[A\n",
      "Uploading: 100%|██████████| 1/1 [00:00<00:00, 35.48it/s]\n",
      "\n",
      "Uploading: 100%|██████████| 1/1 [00:00<00:00, 22.58it/s]\u001b[A\n",
      "Uploading:   0%|          | 0/1 [00:00<?, ?it/s]\u001b[A\n",
      "Uploading:   0%|          | 0/1 [00:00<?, ?it/s]\u001b[A\n",
      "\n",
      "Uploading:   0%|          | 0/1 [00:00<?, ?it/s]\u001b[A\n",
      "Uploading: 100%|██████████| 1/1 [00:00<00:00, 29.71it/s]\u001b[A\n",
      "\n",
      "Uploading: 100%|██████████| 1/1 [00:00<00:00, 30.20it/s]\u001b[A\n",
      "Uploading: 100%|██████████| 1/1 [00:00<00:00, 19.73it/s]\u001b[A\n",
      "\n"
     ]
    },
    {
     "name": "stdout",
     "output_type": "stream",
     "text": [
      "Processing slice z= 121\n"
     ]
    },
    {
     "name": "stderr",
     "output_type": "stream",
     "text": [
      "\n",
      "\n",
      "Uploading: 100%|██████████| 1/1 [00:00<00:00, 61.61it/s]"
     ]
    },
    {
     "name": "stdout",
     "output_type": "stream",
     "text": [
      "Processing slice z= 122\n"
     ]
    },
    {
     "name": "stderr",
     "output_type": "stream",
     "text": [
      "Uploading: 100%|██████████| 1/1 [00:00<00:00, 47.59it/s]\n",
      "Uploading:   0%|          | 0/1 [00:00<?, ?it/s]\n"
     ]
    },
    {
     "name": "stdout",
     "output_type": "stream",
     "text": [
      "Processing slice z= 123\n"
     ]
    },
    {
     "name": "stderr",
     "output_type": "stream",
     "text": [
      "\n",
      "\n",
      "Uploading: 100%|██████████| 1/1 [00:00<00:00, 46.98it/s]\u001b[A"
     ]
    },
    {
     "name": "stdout",
     "output_type": "stream",
     "text": [
      "Processing slice z= 124\n"
     ]
    },
    {
     "name": "stderr",
     "output_type": "stream",
     "text": [
      "\n"
     ]
    },
    {
     "name": "stdout",
     "output_type": "stream",
     "text": [
      "Processing slice z= 125\n"
     ]
    },
    {
     "name": "stderr",
     "output_type": "stream",
     "text": [
      "Uploading:   0%|          | 0/1 [00:00<?, ?it/s]\u001b[A\n",
      "Uploading:   0%|          | 0/1 [00:00<?, ?it/s]\u001b[A"
     ]
    },
    {
     "name": "stdout",
     "output_type": "stream",
     "text": [
      "Processing slice z= 126\n"
     ]
    },
    {
     "name": "stderr",
     "output_type": "stream",
     "text": [
      "Uploading:   0%|          | 0/1 [00:00<?, ?it/s]\n",
      "\n",
      "Uploading:   0%|          | 0/1 [00:00<?, ?it/s]"
     ]
    },
    {
     "name": "stdout",
     "output_type": "stream",
     "text": [
      "Processing slice z= 127\n"
     ]
    },
    {
     "name": "stderr",
     "output_type": "stream",
     "text": [
      "\u001b[A\n",
      "Uploading:   0%|          | 0/1 [00:00<?, ?it/s]\u001b[A\n",
      "Uploading:   0%|          | 0/1 [00:00<?, ?it/s]\u001b[A\u001b[A\n"
     ]
    },
    {
     "name": "stdout",
     "output_type": "stream",
     "text": [
      "Processing slice z= 128\n"
     ]
    },
    {
     "name": "stderr",
     "output_type": "stream",
     "text": [
      "Uploading: 100%|██████████| 1/1 [00:00<00:00, 56.18it/s]\u001b[A\n",
      "Uploading:   0%|          | 0/1 [00:00<?, ?it/s]\n",
      "Uploading:   0%|          | 0/1 [00:00<?, ?it/s]\u001b[A\n",
      "Uploading: 100%|██████████| 1/1 [00:00<00:00, 35.89it/s]\n",
      "Uploading:   0%|          | 0/1 [00:00<?, ?it/s]\n",
      "Uploading:   0%|          | 0/1 [00:00<?, ?it/s]\u001b[A"
     ]
    },
    {
     "name": "stdout",
     "output_type": "stream",
     "text": [
      "Processing slice z= 129\n"
     ]
    },
    {
     "name": "stderr",
     "output_type": "stream",
     "text": [
      "\n",
      "Uploading: 100%|██████████| 1/1 [00:00<00:00, 42.62it/s]\u001b[A\n",
      "Uploading: 100%|██████████| 1/1 [00:00<00:00, 33.82it/s]\u001b[A\n",
      "\n",
      "Uploading:   0%|          | 0/1 [00:00<?, ?it/s]\u001b[A\n",
      "Uploading: 100%|██████████| 1/1 [00:00<00:00, 44.41it/s]\n",
      "Uploading: 100%|██████████| 1/1 [00:00<00:00, 30.82it/s]\n",
      "\n"
     ]
    },
    {
     "name": "stdout",
     "output_type": "stream",
     "text": [
      "Processing slice z= 130\n"
     ]
    },
    {
     "name": "stderr",
     "output_type": "stream",
     "text": [
      "\n",
      "Uploading: 100%|██████████| 1/1 [00:00<00:00, 40.28it/s]\u001b[A\n",
      "\n",
      "\n",
      "Uploading: 100%|██████████| 1/1 [00:00<00:00, 41.65it/s]\u001b[A"
     ]
    },
    {
     "name": "stdout",
     "output_type": "stream",
     "text": [
      "Processing slice z= 131\n"
     ]
    },
    {
     "name": "stderr",
     "output_type": "stream",
     "text": [
      "\n",
      "Uploading:   0%|          | 0/1 [00:00<?, ?it/s]"
     ]
    },
    {
     "name": "stdout",
     "output_type": "stream",
     "text": [
      "Processing slice z= 132\n"
     ]
    },
    {
     "name": "stderr",
     "output_type": "stream",
     "text": [
      "\u001b[A\n"
     ]
    },
    {
     "name": "stdout",
     "output_type": "stream",
     "text": [
      "Processing slice z= 133\n"
     ]
    },
    {
     "name": "stderr",
     "output_type": "stream",
     "text": [
      "\r",
      "Uploading:   0%|          | 0/1 [00:00<?, ?it/s]"
     ]
    },
    {
     "name": "stdout",
     "output_type": "stream",
     "text": [
      "Processing slice z= 134\n"
     ]
    },
    {
     "name": "stderr",
     "output_type": "stream",
     "text": [
      "\n",
      "Uploading: 100%|██████████| 1/1 [00:00<00:00, 42.70it/s]\n",
      "\n",
      "Uploading:   0%|          | 0/1 [00:00<?, ?it/s]\u001b[A\n",
      "Uploading:   0%|          | 0/1 [00:00<?, ?it/s]"
     ]
    },
    {
     "name": "stdout",
     "output_type": "stream",
     "text": [
      "Processing slice z= 135\n"
     ]
    },
    {
     "name": "stderr",
     "output_type": "stream",
     "text": [
      "Uploading:   0%|          | 0/1 [00:00<?, ?it/s]"
     ]
    },
    {
     "name": "stdout",
     "output_type": "stream",
     "text": [
      "Processing slice z= 136\n"
     ]
    },
    {
     "name": "stderr",
     "output_type": "stream",
     "text": [
      "\n",
      "\n",
      "Uploading:   0%|          | 0/1 [00:00<?, ?it/s]\u001b[A\n",
      "Uploading:   0%|          | 0/1 [00:00<?, ?it/s]\u001b[A"
     ]
    },
    {
     "name": "stdout",
     "output_type": "stream",
     "text": [
      "Processing slice z= 137\n"
     ]
    },
    {
     "name": "stderr",
     "output_type": "stream",
     "text": [
      "\n",
      "Uploading:   0%|          | 0/1 [00:00<?, ?it/s]\u001b[A\n",
      "Uploading:   0%|          | 0/1 [00:00<?, ?it/s]\u001b[A\n",
      "Uploading: 100%|██████████| 1/1 [00:00<00:00, 30.14it/s]\u001b[A\n",
      "\n",
      "Uploading: 100%|██████████| 1/1 [00:00<00:00, 39.47it/s]\u001b[A\n",
      "Uploading: 100%|██████████| 1/1 [00:00<00:00, 32.26it/s]\n",
      "Uploading:   0%|          | 0/1 [00:00<?, ?it/s]\n",
      "Uploading:   0%|          | 0/1 [00:00<?, ?it/s]\u001b[A\n",
      "\n",
      "Uploading: 100%|██████████| 1/1 [00:00<00:00, 32.39it/s]"
     ]
    },
    {
     "name": "stdout",
     "output_type": "stream",
     "text": [
      "Processing slice z= 138\n"
     ]
    },
    {
     "name": "stderr",
     "output_type": "stream",
     "text": [
      "\u001b[A\n",
      "\n"
     ]
    },
    {
     "name": "stdout",
     "output_type": "stream",
     "text": [
      "Processing slice z= 139\n"
     ]
    },
    {
     "name": "stderr",
     "output_type": "stream",
     "text": [
      "\n",
      "Uploading: 100%|██████████| 1/1 [00:00<00:00, 31.98it/s]\u001b[A"
     ]
    },
    {
     "name": "stdout",
     "output_type": "stream",
     "text": [
      "Processing slice z= 140\n"
     ]
    },
    {
     "name": "stderr",
     "output_type": "stream",
     "text": [
      "\n",
      "Uploading: 100%|██████████| 1/1 [00:00<00:00, 37.14it/s]\u001b[A\n",
      "\n",
      "Uploading: 100%|██████████| 1/1 [00:00<00:00, 55.56it/s]\u001b[A\n"
     ]
    },
    {
     "name": "stdout",
     "output_type": "stream",
     "text": [
      "Processing slice z= 141\n"
     ]
    },
    {
     "name": "stderr",
     "output_type": "stream",
     "text": [
      "\n",
      "\n",
      "Uploading:   0%|          | 0/1 [00:00<?, ?it/s]\u001b[A\n",
      "Uploading:   0%|          | 0/1 [00:00<?, ?it/s]\u001b[A\n",
      "Uploading:   0%|          | 0/1 [00:00<?, ?it/s]"
     ]
    },
    {
     "name": "stdout",
     "output_type": "stream",
     "text": [
      "Processing slice z= 143\n",
      "Processing slice z= 142\n"
     ]
    },
    {
     "name": "stderr",
     "output_type": "stream",
     "text": [
      "Uploading:   0%|          | 0/1 [00:00<?, ?it/s]\n"
     ]
    },
    {
     "name": "stdout",
     "output_type": "stream",
     "text": [
      "Processing slice z= 144\n"
     ]
    },
    {
     "name": "stderr",
     "output_type": "stream",
     "text": [
      "\n",
      "Uploading:   0%|          | 0/1 [00:00<?, ?it/s]\u001b[A\n",
      "Uploading:   0%|          | 0/1 [00:00<?, ?it/s]\u001b[A\n",
      "Uploading:   0%|          | 0/1 [00:00<?, ?it/s]\u001b[A"
     ]
    },
    {
     "name": "stdout",
     "output_type": "stream",
     "text": [
      "Processing slice z= 145\n"
     ]
    },
    {
     "name": "stderr",
     "output_type": "stream",
     "text": [
      "Uploading:   0%|          | 0/1 [00:00<?, ?it/s]\n",
      "Uploading: 100%|██████████| 1/1 [00:00<00:00, 45.92it/s]\u001b[A\n",
      "\n",
      "\n",
      "\n",
      "Uploading:   0%|          | 0/1 [00:00<?, ?it/s]\u001b[A\n",
      "Uploading: 100%|██████████| 1/1 [00:00<00:00, 44.48it/s]\u001b[A\n"
     ]
    },
    {
     "name": "stdout",
     "output_type": "stream",
     "text": [
      "Processing slice z= 146\n",
      "Processing slice z= 147\n"
     ]
    },
    {
     "name": "stderr",
     "output_type": "stream",
     "text": [
      "Uploading: 100%|██████████| 1/1 [00:00<00:00, 38.35it/s]\n"
     ]
    },
    {
     "name": "stdout",
     "output_type": "stream",
     "text": [
      "Processing slice z= 148\n"
     ]
    },
    {
     "name": "stderr",
     "output_type": "stream",
     "text": [
      "\n",
      "Uploading:   0%|          | 0/1 [00:00<?, ?it/s]\n",
      "Uploading: 100%|██████████| 1/1 [00:00<00:00, 35.03it/s]\u001b[A\n",
      "Uploading:   0%|          | 0/1 [00:00<?, ?it/s]\u001b[A\n",
      "Uploading: 100%|██████████| 1/1 [00:00<00:00, 30.40it/s]\n"
     ]
    },
    {
     "name": "stdout",
     "output_type": "stream",
     "text": [
      "Processing slice z= 149\n"
     ]
    },
    {
     "name": "stderr",
     "output_type": "stream",
     "text": [
      "\n",
      "Uploading: 100%|██████████| 1/1 [00:00<00:00, 36.90it/s]\u001b[A\n",
      "Uploading:   0%|          | 0/1 [00:00<?, ?it/s]\u001b[A\n",
      "\n",
      "Uploading:   0%|          | 0/1 [00:00<?, ?it/s]\u001b[A\n",
      "\n",
      "Uploading:   0%|          | 0/1 [00:00<?, ?it/s]\n",
      "Uploading:   0%|          | 0/1 [00:00<?, ?it/s]\u001b[A\n",
      "Uploading: 100%|██████████| 1/1 [00:00<00:00, 40.56it/s]"
     ]
    },
    {
     "name": "stdout",
     "output_type": "stream",
     "text": [
      "Processing slice z= 150\n"
     ]
    },
    {
     "name": "stderr",
     "output_type": "stream",
     "text": [
      "\u001b[A\n"
     ]
    },
    {
     "name": "stdout",
     "output_type": "stream",
     "text": [
      "Processing slice z= 151\n"
     ]
    },
    {
     "name": "stderr",
     "output_type": "stream",
     "text": [
      "\n",
      "Uploading: 100%|██████████| 1/1 [00:00<00:00, 36.12it/s]\u001b[A"
     ]
    },
    {
     "name": "stdout",
     "output_type": "stream",
     "text": [
      "Processing slice z= 152\n"
     ]
    },
    {
     "name": "stderr",
     "output_type": "stream",
     "text": [
      "Uploading: 100%|██████████| 1/1 [00:00<00:00, 45.30it/s]\n",
      "\n",
      "\n",
      "Uploading:   0%|          | 0/1 [00:00<?, ?it/s]"
     ]
    },
    {
     "name": "stdout",
     "output_type": "stream",
     "text": [
      "Processing slice z= 153\n"
     ]
    },
    {
     "name": "stderr",
     "output_type": "stream",
     "text": [
      "Uploading:   0%|          | 0/1 [00:00<?, ?it/s]\n",
      "Uploading:   0%|          | 0/1 [00:00<?, ?it/s]\n"
     ]
    },
    {
     "name": "stdout",
     "output_type": "stream",
     "text": [
      "Processing slice z= 154\n"
     ]
    },
    {
     "name": "stderr",
     "output_type": "stream",
     "text": [
      "Uploading:   0%|          | 0/1 [00:00<?, ?it/s]\u001b[A"
     ]
    },
    {
     "name": "stdout",
     "output_type": "stream",
     "text": [
      "Processing slice z= 155\n"
     ]
    },
    {
     "name": "stderr",
     "output_type": "stream",
     "text": [
      "\n",
      "Uploading:   0%|          | 0/1 [00:00<?, ?it/s]\u001b[A\n",
      "Uploading: 100%|██████████| 1/1 [00:00<00:00, 31.43it/s]\u001b[A\n",
      "Uploading: 100%|██████████| 1/1 [00:00<00:00, 24.18it/s]\u001b[A\n",
      "Uploading:   0%|          | 0/1 [00:00<?, ?it/s]\u001b[A\n",
      "Uploading:   0%|          | 0/1 [00:00<?, ?it/s]\u001b[A\n",
      "Uploading:   0%|          | 0/1 [00:00<?, ?it/s]\n",
      "Uploading:   0%|          | 0/1 [00:00<?, ?it/s]\u001b[A\n",
      "\n",
      "Uploading: 100%|██████████| 1/1 [00:00<00:00, 28.09it/s]\u001b[A\n",
      "Uploading: 100%|██████████| 1/1 [00:00<00:00, 30.63it/s]\u001b[A"
     ]
    },
    {
     "name": "stdout",
     "output_type": "stream",
     "text": [
      "Processing slice z= 156\n"
     ]
    },
    {
     "name": "stderr",
     "output_type": "stream",
     "text": [
      "Uploading: 100%|██████████| 1/1 [00:00<00:00, 31.82it/s]\n",
      "\n",
      "\n",
      "\n"
     ]
    },
    {
     "name": "stdout",
     "output_type": "stream",
     "text": [
      "Processing slice z= 157\n"
     ]
    },
    {
     "name": "stderr",
     "output_type": "stream",
     "text": [
      "\n",
      "Uploading:   0%|          | 0/1 [00:00<?, ?it/s]\u001b[A"
     ]
    },
    {
     "name": "stdout",
     "output_type": "stream",
     "text": [
      "Processing slice z= 158\n"
     ]
    },
    {
     "name": "stderr",
     "output_type": "stream",
     "text": [
      "\r",
      "Uploading: 100%|██████████| 1/1 [00:00<00:00, 35.77it/s]"
     ]
    },
    {
     "name": "stdout",
     "output_type": "stream",
     "text": [
      "Processing slice z= 160\n",
      "Processing slice z= 159\n"
     ]
    },
    {
     "name": "stderr",
     "output_type": "stream",
     "text": [
      "\n",
      "\n",
      "Uploading: 100%|██████████| 1/1 [00:00<00:00, 34.81it/s]\u001b[A\n",
      "Uploading: 100%|██████████| 1/1 [00:00<00:00, 31.67it/s]\n",
      "\n",
      "\n",
      "Uploading:   0%|          | 0/1 [00:00<?, ?it/s]\u001b[A\n",
      "\n",
      "Uploading:   0%|          | 0/1 [00:00<?, ?it/s]\u001b[A"
     ]
    },
    {
     "name": "stdout",
     "output_type": "stream",
     "text": [
      "Processing slice z= 161\n"
     ]
    },
    {
     "name": "stderr",
     "output_type": "stream",
     "text": [
      "Uploading:   0%|          | 0/1 [00:00<?, ?it/s]\n",
      "Uploading:   0%|          | 0/1 [00:00<?, ?it/s]\u001b[A"
     ]
    },
    {
     "name": "stdout",
     "output_type": "stream",
     "text": [
      "Processing slice z= 162\n"
     ]
    },
    {
     "name": "stderr",
     "output_type": "stream",
     "text": [
      "\n",
      "\n",
      "Uploading:   0%|          | 0/1 [00:00<?, ?it/s]\u001b[A\n",
      "Uploading: 100%|██████████| 1/1 [00:00<00:00, 33.31it/s]\u001b[A\n",
      "Uploading:   0%|          | 0/1 [00:00<?, ?it/s]\n",
      "Uploading: 100%|██████████| 1/1 [00:00<00:00, 40.19it/s]"
     ]
    },
    {
     "name": "stdout",
     "output_type": "stream",
     "text": [
      "Processing slice z= 163\n"
     ]
    },
    {
     "name": "stderr",
     "output_type": "stream",
     "text": [
      "\u001b[A\n",
      "Uploading: 100%|██████████| 1/1 [00:00<00:00, 32.29it/s]\u001b[A\n",
      "\n",
      "Uploading:   0%|          | 0/1 [00:00<?, ?it/s]\u001b[A\n",
      "\n",
      "Uploading: 100%|██████████| 1/1 [00:00<00:00, 34.05it/s]\u001b[A\n",
      "\n",
      "Uploading:   0%|          | 0/1 [00:00<?, ?it/s]\u001b[A\n",
      "Uploading:   0%|          | 0/1 [00:00<?, ?it/s]"
     ]
    },
    {
     "name": "stdout",
     "output_type": "stream",
     "text": [
      "Processing slice z= 164\n",
      "Processing slice z= 165\n"
     ]
    },
    {
     "name": "stderr",
     "output_type": "stream",
     "text": [
      "\n",
      "Uploading: 100%|██████████| 1/1 [00:00<00:00, 40.31it/s]\u001b[A\n",
      "\n",
      "\n",
      "Uploading:   0%|          | 0/1 [00:00<?, ?it/s]"
     ]
    },
    {
     "name": "stdout",
     "output_type": "stream",
     "text": [
      "Processing slice z= 166\n"
     ]
    },
    {
     "name": "stderr",
     "output_type": "stream",
     "text": [
      "Uploading:   0%|          | 0/1 [00:00<?, ?it/s]"
     ]
    },
    {
     "name": "stdout",
     "output_type": "stream",
     "text": [
      "Processing slice z= 168\n"
     ]
    },
    {
     "name": "stderr",
     "output_type": "stream",
     "text": [
      "\n",
      "Uploading:   0%|          | 0/1 [00:00<?, ?it/s]\u001b[A"
     ]
    },
    {
     "name": "stdout",
     "output_type": "stream",
     "text": [
      "Processing slice z= 167\n"
     ]
    },
    {
     "name": "stderr",
     "output_type": "stream",
     "text": [
      "\r",
      "Uploading:   0%|          | 0/1 [00:00<?, ?it/s]"
     ]
    },
    {
     "name": "stdout",
     "output_type": "stream",
     "text": [
      "Processing slice z= 169\n"
     ]
    },
    {
     "name": "stderr",
     "output_type": "stream",
     "text": [
      "\n",
      "Uploading: 100%|██████████| 1/1 [00:00<00:00, 40.23it/s]\u001b[A\n",
      "Uploading: 100%|██████████| 1/1 [00:00<00:00, 28.17it/s]\u001b[A\n",
      "Uploading:   0%|          | 0/1 [00:00<?, ?it/s]\u001b[A\n",
      "Uploading:   0%|          | 0/1 [00:00<?, ?it/s]\n",
      "Uploading:   0%|          | 0/1 [00:00<?, ?it/s]\u001b[A\n",
      "Uploading:   0%|          | 0/1 [00:00<?, ?it/s]\u001b[A\n",
      "Uploading:   0%|          | 0/1 [00:00<?, ?it/s]"
     ]
    },
    {
     "name": "stdout",
     "output_type": "stream",
     "text": [
      "Processing slice z= 170\n"
     ]
    },
    {
     "name": "stderr",
     "output_type": "stream",
     "text": [
      "\u001b[A\n",
      "Uploading: 100%|██████████| 1/1 [00:00<00:00, 25.94it/s]\u001b[A\n",
      "\n",
      "\n",
      "\n",
      "Uploading:   0%|          | 0/1 [00:00<?, ?it/s]\n",
      "Uploading: 100%|██████████| 1/1 [00:00<00:00, 45.87it/s]\n",
      "Uploading: 100%|██████████| 1/1 [00:00<00:00, 38.46it/s]"
     ]
    },
    {
     "name": "stdout",
     "output_type": "stream",
     "text": [
      "Processing slice z= 171\n"
     ]
    },
    {
     "name": "stderr",
     "output_type": "stream",
     "text": [
      "\n",
      "\n",
      "\n"
     ]
    },
    {
     "name": "stdout",
     "output_type": "stream",
     "text": [
      "Processing slice z= 172\n",
      "Processing slice z= 173\n"
     ]
    },
    {
     "name": "stderr",
     "output_type": "stream",
     "text": [
      "\n",
      "Uploading:   0%|          | 0/1 [00:00<?, ?it/s]\u001b[A\n",
      "Uploading: 100%|██████████| 1/1 [00:00<00:00, 34.40it/s]\u001b[A"
     ]
    },
    {
     "name": "stdout",
     "output_type": "stream",
     "text": [
      "Processing slice z= 174\n"
     ]
    },
    {
     "name": "stderr",
     "output_type": "stream",
     "text": [
      "\n",
      "Uploading: 100%|██████████| 1/1 [00:00<00:00, 34.45it/s]"
     ]
    },
    {
     "name": "stdout",
     "output_type": "stream",
     "text": [
      "Processing slice z= 175\n"
     ]
    },
    {
     "name": "stderr",
     "output_type": "stream",
     "text": [
      "\u001b[A\n",
      "Uploading:   0%|          | 0/1 [00:00<?, ?it/s]\u001b[A\n",
      "Uploading:   0%|          | 0/1 [00:00<?, ?it/s]\u001b[A\n",
      "\n",
      "Uploading:   0%|          | 0/1 [00:00<?, ?it/s]\u001b[A\n",
      "Uploading: 100%|██████████| 1/1 [00:00<00:00, 33.79it/s]\u001b[A\n",
      "Uploading:   0%|          | 0/1 [00:00<?, ?it/s]\u001b[A"
     ]
    },
    {
     "name": "stdout",
     "output_type": "stream",
     "text": [
      "Processing slice z= 176\n"
     ]
    },
    {
     "name": "stderr",
     "output_type": "stream",
     "text": [
      "Uploading: 100%|██████████| 1/1 [00:00<00:00, 45.88it/s]\n",
      "\n",
      "\n",
      "\n",
      "\n",
      "Uploading: 100%|██████████| 1/1 [00:00<00:00, 49.95it/s]\u001b[A\n",
      "Uploading:   0%|          | 0/1 [00:00<?, ?it/s]\u001b[A\n",
      "\n",
      "Uploading: 100%|██████████| 1/1 [00:00<00:00, 48.07it/s]"
     ]
    },
    {
     "name": "stdout",
     "output_type": "stream",
     "text": [
      "Processing slice z= 177\n"
     ]
    },
    {
     "name": "stderr",
     "output_type": "stream",
     "text": [
      "\u001b[A"
     ]
    },
    {
     "name": "stdout",
     "output_type": "stream",
     "text": [
      "Processing slice z= 179\n"
     ]
    },
    {
     "name": "stderr",
     "output_type": "stream",
     "text": [
      "\n"
     ]
    },
    {
     "name": "stdout",
     "output_type": "stream",
     "text": [
      "Processing slice z= 178\n"
     ]
    },
    {
     "name": "stderr",
     "output_type": "stream",
     "text": [
      "\r",
      "Uploading: 100%|██████████| 1/1 [00:00<00:00, 49.66it/s]"
     ]
    },
    {
     "name": "stdout",
     "output_type": "stream",
     "text": [
      "Processing slice z= 180\n"
     ]
    },
    {
     "name": "stderr",
     "output_type": "stream",
     "text": [
      "\n",
      "Uploading: 100%|██████████| 1/1 [00:00<00:00, 30.43it/s]\n",
      "\n",
      "Uploading:   0%|          | 0/1 [00:00<?, ?it/s]\u001b[A\n",
      "\n"
     ]
    },
    {
     "name": "stdout",
     "output_type": "stream",
     "text": [
      "Processing slice z= 181\n"
     ]
    },
    {
     "name": "stderr",
     "output_type": "stream",
     "text": [
      "Uploading:   0%|          | 0/1 [00:00<?, ?it/s]\u001b[A\n",
      "Uploading:   0%|          | 0/1 [00:00<?, ?it/s]\u001b[A\n",
      "Uploading:   0%|          | 0/1 [00:00<?, ?it/s]\u001b[A\n"
     ]
    },
    {
     "name": "stdout",
     "output_type": "stream",
     "text": [
      "Processing slice z= 182\n"
     ]
    },
    {
     "name": "stderr",
     "output_type": "stream",
     "text": [
      "Uploading: 100%|██████████| 1/1 [00:00<00:00, 35.98it/s]\u001b[A\n",
      "\n",
      "Uploading:   0%|          | 0/1 [00:00<?, ?it/s]\u001b[A"
     ]
    },
    {
     "name": "stdout",
     "output_type": "stream",
     "text": [
      "Processing slice z= 183\n"
     ]
    },
    {
     "name": "stderr",
     "output_type": "stream",
     "text": [
      "Uploading:   0%|          | 0/1 [00:00<?, ?it/s]\n",
      "Uploading: 100%|██████████| 1/1 [00:00<00:00, 39.55it/s]\n",
      "\n",
      "\n",
      "Uploading:   0%|          | 0/1 [00:00<?, ?it/s]\u001b[A"
     ]
    },
    {
     "name": "stdout",
     "output_type": "stream",
     "text": [
      "Processing slice z= 184\n"
     ]
    },
    {
     "name": "stderr",
     "output_type": "stream",
     "text": [
      "\n",
      "Uploading:   0%|          | 0/1 [00:00<?, ?it/s]\u001b[A\n",
      "Uploading: 100%|██████████| 1/1 [00:00<00:00, 31.80it/s]\u001b[A\n",
      "\n",
      "Uploading:   0%|          | 0/1 [00:00<?, ?it/s]"
     ]
    },
    {
     "name": "stdout",
     "output_type": "stream",
     "text": [
      "Processing slice z= 185\n"
     ]
    },
    {
     "name": "stderr",
     "output_type": "stream",
     "text": [
      "Uploading: 100%|██████████| 1/1 [00:00<00:00, 32.70it/s]\n",
      "\n",
      "Uploading: 100%|██████████| 1/1 [00:00<00:00, 39.54it/s]\n",
      "\n",
      "\n",
      "\n",
      "\n",
      "Uploading:   0%|          | 0/1 [00:00<?, ?it/s]\u001b[A"
     ]
    },
    {
     "name": "stdout",
     "output_type": "stream",
     "text": [
      "Processing slice z= 186\n"
     ]
    },
    {
     "name": "stderr",
     "output_type": "stream",
     "text": [
      "\n",
      "Uploading: 100%|██████████| 1/1 [00:00<00:00, 47.91it/s]\u001b[A\n",
      "\n"
     ]
    },
    {
     "name": "stdout",
     "output_type": "stream",
     "text": [
      "Processing slice z= 187\n"
     ]
    },
    {
     "name": "stderr",
     "output_type": "stream",
     "text": [
      "\n"
     ]
    },
    {
     "name": "stdout",
     "output_type": "stream",
     "text": [
      "Processing slice z= 188\n"
     ]
    },
    {
     "name": "stderr",
     "output_type": "stream",
     "text": [
      "\n",
      "Uploading:   0%|          | 0/1 [00:00<?, ?it/s]"
     ]
    },
    {
     "name": "stdout",
     "output_type": "stream",
     "text": [
      "Processing slice z= 189\n"
     ]
    },
    {
     "name": "stderr",
     "output_type": "stream",
     "text": [
      "Uploading:   0%|          | 0/1 [00:00<?, ?it/s]\n",
      "Uploading:   0%|          | 0/1 [00:00<?, ?it/s]\u001b[A\n"
     ]
    },
    {
     "name": "stdout",
     "output_type": "stream",
     "text": [
      "Processing slice z= 190\n"
     ]
    },
    {
     "name": "stderr",
     "output_type": "stream",
     "text": [
      "Uploading:   0%|          | 0/1 [00:00<?, ?it/s]\u001b[A"
     ]
    },
    {
     "name": "stdout",
     "output_type": "stream",
     "text": [
      "Processing slice z= 191\n"
     ]
    },
    {
     "name": "stderr",
     "output_type": "stream",
     "text": [
      "Uploading:   0%|          | 0/1 [00:00<?, ?it/s]\n",
      "Uploading:   0%|          | 0/1 [00:00<?, ?it/s]\u001b[A\n",
      "Uploading: 100%|██████████| 1/1 [00:00<00:00, 29.53it/s]\u001b[A\n",
      "Uploading:   0%|          | 0/1 [00:00<?, ?it/s]\u001b[A\n",
      "Uploading: 100%|██████████| 1/1 [00:00<00:00, 30.95it/s]\u001b[A\n",
      "Uploading:   0%|          | 0/1 [00:00<?, ?it/s]\u001b[A\n",
      "Uploading: 100%|██████████| 1/1 [00:00<00:00, 39.59it/s]\n",
      "\n",
      "Uploading: 100%|██████████| 1/1 [00:00<00:00, 42.24it/s]\u001b[A\n",
      "\n",
      "\n",
      "\n",
      "Uploading: 100%|██████████| 1/1 [00:00<00:00, 38.96it/s]\u001b[A\n"
     ]
    },
    {
     "name": "stdout",
     "output_type": "stream",
     "text": [
      "Processing slice z= 192\n",
      "Processing slice z= 193\n",
      "Processing slice z= 194\n"
     ]
    },
    {
     "name": "stderr",
     "output_type": "stream",
     "text": [
      "\n"
     ]
    },
    {
     "name": "stdout",
     "output_type": "stream",
     "text": [
      "Processing slice z= 195\n"
     ]
    },
    {
     "name": "stderr",
     "output_type": "stream",
     "text": [
      "Uploading: 100%|██████████| 1/1 [00:00<00:00, 41.58it/s]\u001b[A\n",
      "Uploading: 100%|██████████| 1/1 [00:00<00:00, 42.95it/s]"
     ]
    },
    {
     "name": "stdout",
     "output_type": "stream",
     "text": [
      "Processing slice z= 196\n"
     ]
    },
    {
     "name": "stderr",
     "output_type": "stream",
     "text": [
      "\u001b[A\n",
      "Uploading:   0%|          | 0/1 [00:00<?, ?it/s]\u001b[A\n",
      "\n",
      "Uploading:   0%|          | 0/1 [00:00<?, ?it/s]\u001b[A\n"
     ]
    },
    {
     "name": "stdout",
     "output_type": "stream",
     "text": [
      "Processing slice z= 197\n"
     ]
    },
    {
     "name": "stderr",
     "output_type": "stream",
     "text": [
      "Uploading:   0%|          | 0/1 [00:00<?, ?it/s]\u001b[A\n",
      "Uploading: 100%|██████████| 1/1 [00:00<00:00, 29.54it/s]\u001b[A\n",
      "Uploading:   0%|          | 0/1 [00:00<?, ?it/s]\n",
      "Uploading:   0%|          | 0/1 [00:00<?, ?it/s]\n",
      "Uploading:   0%|          | 0/1 [00:00<?, ?it/s]\u001b[A\n",
      "Uploading:   0%|          | 0/1 [00:00<?, ?it/s]\u001b[A\n",
      "Uploading:   0%|          | 0/1 [00:00<?, ?it/s]\u001b[A"
     ]
    },
    {
     "name": "stdout",
     "output_type": "stream",
     "text": [
      "Processing slice z= 198\n"
     ]
    },
    {
     "name": "stderr",
     "output_type": "stream",
     "text": [
      "\r",
      "Uploading:   0%|          | 0/1 [00:00<?, ?it/s]"
     ]
    },
    {
     "name": "stdout",
     "output_type": "stream",
     "text": [
      "Processing slice z= 199\n"
     ]
    },
    {
     "name": "stderr",
     "output_type": "stream",
     "text": [
      "\n",
      "Uploading:   0%|          | 0/1 [00:00<?, ?it/s]\u001b[A\n",
      "Uploading: 100%|██████████| 1/1 [00:00<00:00, 31.75it/s]\u001b[A\n",
      "Uploading: 100%|██████████| 1/1 [00:00<00:00, 25.54it/s]\n",
      "\n",
      "Uploading:   0%|          | 0/1 [00:00<?, ?it/s]\u001b[A\n",
      "\n",
      "\n",
      "\n",
      "Uploading: 100%|██████████| 1/1 [00:00<00:00, 39.15it/s]\u001b[A\n",
      "Uploading: 100%|██████████| 1/1 [00:00<00:00, 30.71it/s]\u001b[A"
     ]
    },
    {
     "name": "stdout",
     "output_type": "stream",
     "text": [
      "Processing slice z= 200\n"
     ]
    },
    {
     "name": "stderr",
     "output_type": "stream",
     "text": [
      "\r",
      "Uploading: 100%|██████████| 1/1 [00:00<00:00, 36.14it/s]"
     ]
    },
    {
     "name": "stdout",
     "output_type": "stream",
     "text": [
      "Processing slice z= 201\n"
     ]
    },
    {
     "name": "stderr",
     "output_type": "stream",
     "text": [
      "\n",
      "\n",
      "\n",
      "\n"
     ]
    },
    {
     "name": "stdout",
     "output_type": "stream",
     "text": [
      "Processing slice z= 202\n"
     ]
    },
    {
     "name": "stderr",
     "output_type": "stream",
     "text": [
      "Uploading: 100%|██████████| 1/1 [00:00<00:00, 39.84it/s]\n",
      "\n",
      "\n",
      "Uploading:   0%|          | 0/1 [00:00<?, ?it/s]\u001b[A"
     ]
    },
    {
     "name": "stdout",
     "output_type": "stream",
     "text": [
      "Processing slice z= 203\n",
      "Processing slice z= 204\n"
     ]
    },
    {
     "name": "stderr",
     "output_type": "stream",
     "text": [
      "\r",
      "Uploading:   0%|          | 0/1 [00:00<?, ?it/s]"
     ]
    },
    {
     "name": "stdout",
     "output_type": "stream",
     "text": [
      "Processing slice z= 205\n",
      "Processing slice z= 206\n"
     ]
    },
    {
     "name": "stderr",
     "output_type": "stream",
     "text": [
      "Uploading:   0%|          | 0/1 [00:00<?, ?it/s]\n",
      "Uploading:   0%|          | 0/1 [00:00<?, ?it/s]\u001b[A\n",
      "Uploading: 100%|██████████| 1/1 [00:00<00:00, 28.63it/s]\u001b[A\n",
      "Uploading:   0%|          | 0/1 [00:00<?, ?it/s]\u001b[A\n",
      "Uploading:   0%|          | 0/1 [00:00<?, ?it/s]\u001b[A\n",
      "Uploading:   0%|          | 0/1 [00:00<?, ?it/s]\u001b[A\n",
      "Uploading:   0%|          | 0/1 [00:00<?, ?it/s]\u001b[A\n",
      "Uploading: 100%|██████████| 1/1 [00:00<00:00, 24.34it/s]\n",
      "Uploading: 100%|██████████| 1/1 [00:00<00:00, 29.99it/s]\n",
      "Uploading:   0%|          | 0/1 [00:00<?, ?it/s]\n",
      "Uploading: 100%|██████████| 1/1 [00:00<00:00, 30.74it/s]\u001b[A\n",
      "\n",
      "Uploading:   0%|          | 0/1 [00:00<?, ?it/s]\u001b[A\n",
      "\n"
     ]
    },
    {
     "name": "stdout",
     "output_type": "stream",
     "text": [
      "Processing slice z= 207\n"
     ]
    },
    {
     "name": "stderr",
     "output_type": "stream",
     "text": [
      "Uploading: 100%|██████████| 1/1 [00:00<00:00, 31.89it/s]\u001b[A\n",
      "Uploading: 100%|██████████| 1/1 [00:00<00:00, 33.13it/s]\n"
     ]
    },
    {
     "name": "stdout",
     "output_type": "stream",
     "text": [
      "Processing slice z= 208\n"
     ]
    },
    {
     "name": "stderr",
     "output_type": "stream",
     "text": [
      "\n"
     ]
    },
    {
     "name": "stdout",
     "output_type": "stream",
     "text": [
      "Processing slice z= 209\n"
     ]
    },
    {
     "name": "stderr",
     "output_type": "stream",
     "text": [
      "\n",
      "Uploading:   0%|          | 0/1 [00:00<?, ?it/s].48it/s]\u001b[A\n"
     ]
    },
    {
     "name": "stdout",
     "output_type": "stream",
     "text": [
      "Processing slice z= 211\n",
      "Processing slice z= 210\n"
     ]
    },
    {
     "name": "stderr",
     "output_type": "stream",
     "text": [
      "Uploading:   0%|          | 0/1 [00:00<?, ?it/s]\u001b[A\n",
      "\n",
      "Uploading:   0%|          | 0/1 [00:00<?, ?it/s]\u001b[A\n",
      "Uploading:   0%|          | 0/1 [00:00<?, ?it/s]\u001b[A\n"
     ]
    },
    {
     "name": "stdout",
     "output_type": "stream",
     "text": [
      "Processing slice z= 212\n"
     ]
    },
    {
     "name": "stderr",
     "output_type": "stream",
     "text": [
      "\n",
      "Uploading: 100%|██████████| 1/1 [00:00<00:00, 22.91it/s]\u001b[A\n",
      "\n",
      "Uploading:   0%|          | 0/1 [00:00<?, ?it/s]\u001b[A"
     ]
    },
    {
     "name": "stdout",
     "output_type": "stream",
     "text": [
      "Processing slice z= 213\n"
     ]
    },
    {
     "name": "stderr",
     "output_type": "stream",
     "text": [
      "\n",
      "Uploading:   0%|          | 0/1 [00:00<?, ?it/s]"
     ]
    },
    {
     "name": "stdout",
     "output_type": "stream",
     "text": [
      "Processing slice z= 214\n"
     ]
    },
    {
     "name": "stderr",
     "output_type": "stream",
     "text": [
      "Uploading: 100%|██████████| 1/1 [00:00<00:00, 27.33it/s]\n",
      "\n",
      "Uploading:   0%|          | 0/1 [00:00<?, ?it/s]\u001b[A\n",
      "Uploading:   0%|          | 0/1 [00:00<?, ?it/s].64it/s]\u001b[A\n",
      "Uploading: 100%|██████████| 1/1 [00:00<00:00, 27.95it/s]\n",
      "\n",
      "\n",
      "Uploading:   0%|          | 0/1 [00:00<?, ?it/s]\u001b[A\n",
      "\n",
      "Uploading: 100%|██████████| 1/1 [00:00<00:00, 46.71it/s]\n",
      "\n"
     ]
    },
    {
     "name": "stdout",
     "output_type": "stream",
     "text": [
      "Processing slice z= 215\n"
     ]
    },
    {
     "name": "stderr",
     "output_type": "stream",
     "text": [
      "\n",
      "Uploading: 100%|██████████| 1/1 [00:00<00:00, 27.70it/s]\u001b[A\n",
      "Uploading: 100%|██████████| 1/1 [00:00<00:00, 45.98it/s]\n"
     ]
    },
    {
     "name": "stdout",
     "output_type": "stream",
     "text": [
      "Processing slice z= 216\n",
      "Processing slice z= 217\n"
     ]
    },
    {
     "name": "stderr",
     "output_type": "stream",
     "text": [
      "\n",
      "\n",
      "Uploading:   0%|          | 0/1 [00:00<?, ?it/s]\u001b[A"
     ]
    },
    {
     "name": "stdout",
     "output_type": "stream",
     "text": [
      "Processing slice z= 218\n"
     ]
    },
    {
     "name": "stderr",
     "output_type": "stream",
     "text": [
      "Uploading: 100%|██████████| 1/1 [00:00<00:00, 38.32it/s]\n"
     ]
    },
    {
     "name": "stdout",
     "output_type": "stream",
     "text": [
      "Processing slice z= 219\n"
     ]
    },
    {
     "name": "stderr",
     "output_type": "stream",
     "text": [
      "\n",
      "\n",
      "Uploading:   0%|          | 0/1 [00:00<?, ?it/s]"
     ]
    },
    {
     "name": "stdout",
     "output_type": "stream",
     "text": [
      "Processing slice z= 220\n"
     ]
    },
    {
     "name": "stderr",
     "output_type": "stream",
     "text": [
      "\u001b[A\n",
      "Uploading:   0%|          | 0/1 [00:00<?, ?it/s]\u001b[A"
     ]
    },
    {
     "name": "stdout",
     "output_type": "stream",
     "text": [
      "Processing slice z= 221\n"
     ]
    },
    {
     "name": "stderr",
     "output_type": "stream",
     "text": [
      "Uploading:   0%|          | 0/1 [00:00<?, ?it/s]\n",
      "Uploading:   0%|          | 0/1 [00:00<?, ?it/s]\u001b[A\n",
      "Uploading: 100%|██████████| 1/1 [00:00<00:00, 20.73it/s]\u001b[A\n",
      "Uploading:   0%|          | 0/1 [00:00<?, ?it/s]\u001b[A\n",
      "Uploading:   0%|          | 0/1 [00:00<?, ?it/s]\u001b[A\n",
      "Uploading: 100%|██████████| 1/1 [00:00<00:00, 31.56it/s]\u001b[A\n",
      "Uploading: 100%|██████████| 1/1 [00:00<00:00, 20.74it/s]\u001b[A\n",
      "\n",
      "Uploading: 100%|██████████| 1/1 [00:00<00:00, 26.83it/s]\n",
      "\n",
      "Uploading: 100%|██████████| 1/1 [00:00<00:00, 32.14it/s]\u001b[A\n",
      "\n"
     ]
    },
    {
     "name": "stdout",
     "output_type": "stream",
     "text": [
      "Processing slice z= 222\n"
     ]
    },
    {
     "name": "stderr",
     "output_type": "stream",
     "text": [
      "\n",
      "\n",
      "\n",
      "Uploading: 100%|██████████| 1/1 [00:00<00:00, 41.12it/s]\u001b[A\n",
      "\n",
      "Uploading:   0%|          | 0/1 [00:00<?, ?it/s]\u001b[A"
     ]
    },
    {
     "name": "stdout",
     "output_type": "stream",
     "text": [
      "Processing slice z= 223\n",
      "Processing slice z= 224\n",
      "Processing slice z= 225\n"
     ]
    },
    {
     "name": "stderr",
     "output_type": "stream",
     "text": [
      "Uploading:   0%|          | 0/1 [00:00<?, ?it/s]\n"
     ]
    },
    {
     "name": "stdout",
     "output_type": "stream",
     "text": [
      "Processing slice z= 226\n"
     ]
    },
    {
     "name": "stderr",
     "output_type": "stream",
     "text": [
      "Uploading:   0%|          | 0/1 [00:00<?, ?it/s]\u001b[A\n",
      "Uploading:   0%|          | 0/1 [00:00<?, ?it/s].57it/s]\u001b[A\n",
      "Uploading:   0%|          | 0/1 [00:00<?, ?it/s]\u001b[A\n",
      "Uploading:   0%|          | 0/1 [00:00<?, ?it/s]\n",
      "Uploading: 100%|██████████| 1/1 [00:00<00:00, 31.09it/s]\n",
      "\n",
      "Uploading:   0%|          | 0/1 [00:00<?, ?it/s]\u001b[A"
     ]
    },
    {
     "name": "stdout",
     "output_type": "stream",
     "text": [
      "Processing slice z= 227\n"
     ]
    },
    {
     "name": "stderr",
     "output_type": "stream",
     "text": [
      "\n"
     ]
    },
    {
     "name": "stdout",
     "output_type": "stream",
     "text": [
      "Processing slice z= 228\n"
     ]
    },
    {
     "name": "stderr",
     "output_type": "stream",
     "text": [
      "\n",
      "Uploading:   0%|          | 0/1 [00:00<?, ?it/s]\u001b[A\n"
     ]
    },
    {
     "name": "stdout",
     "output_type": "stream",
     "text": [
      "Processing slice z= 229\n"
     ]
    },
    {
     "name": "stderr",
     "output_type": "stream",
     "text": [
      "Uploading:   0%|          | 0/1 [00:00<?, ?it/s]\u001b[A\n",
      "Uploading: 100%|██████████| 1/1 [00:00<00:00, 28.58it/s]\u001b[A\n",
      "Uploading: 100%|██████████| 1/1 [00:00<00:00, 30.39it/s]\n",
      "\n",
      "Uploading: 100%|██████████| 1/1 [00:00<00:00, 37.24it/s]\n",
      "\n",
      "\n",
      "Uploading:   0%|          | 0/1 [00:00<?, ?it/s]\u001b[A\n",
      "Uploading: 100%|██████████| 1/1 [00:00<00:00, 28.84it/s]\n",
      "\n",
      "\n"
     ]
    },
    {
     "name": "stdout",
     "output_type": "stream",
     "text": [
      "Processing slice z= 230\n",
      "Processing slice z= 231\n"
     ]
    },
    {
     "name": "stderr",
     "output_type": "stream",
     "text": [
      "\n"
     ]
    },
    {
     "name": "stdout",
     "output_type": "stream",
     "text": [
      "Processing slice z= 232\n"
     ]
    },
    {
     "name": "stderr",
     "output_type": "stream",
     "text": [
      "Uploading:   0%|          | 0/1 [00:00<?, ?it/s]\u001b[A"
     ]
    },
    {
     "name": "stdout",
     "output_type": "stream",
     "text": [
      "Processing slice z= 234\n",
      "Processing slice z= 233\n"
     ]
    },
    {
     "name": "stderr",
     "output_type": "stream",
     "text": [
      "\n",
      "Uploading:   0%|          | 0/1 [00:00<?, ?it/s]\u001b[A\n",
      "Uploading: 100%|██████████| 1/1 [00:00<00:00, 21.33it/s]\n",
      "Uploading: 100%|██████████| 1/1 [00:00<00:00, 24.27it/s]\n",
      "\n",
      "Uploading:   0%|          | 0/1 [00:00<?, ?it/s]\u001b[A\n",
      "\n",
      "Uploading:   0%|          | 0/1 [00:00<?, ?it/s]\u001b[A\n",
      "Uploading: 100%|██████████| 1/1 [00:00<00:00, 30.36it/s]\u001b[A\n",
      "\n",
      "\n",
      "\n",
      "Uploading: 100%|██████████| 1/1 [00:00<00:00, 31.40it/s]\u001b[A\n"
     ]
    },
    {
     "name": "stdout",
     "output_type": "stream",
     "text": [
      "Processing slice z= 235\n"
     ]
    },
    {
     "name": "stderr",
     "output_type": "stream",
     "text": [
      "\n",
      "\n",
      "Uploading: 100%|██████████| 1/1 [00:00<00:00, 30.29it/s]\u001b[A"
     ]
    },
    {
     "name": "stdout",
     "output_type": "stream",
     "text": [
      "Processing slice z= 236\n",
      "Processing slice z= 237\n",
      "Processing slice z= 238\n"
     ]
    },
    {
     "name": "stderr",
     "output_type": "stream",
     "text": [
      "\n",
      "Uploading: 100%|██████████| 1/1 [00:00<00:00, 36.12it/s]\u001b[A"
     ]
    },
    {
     "name": "stdout",
     "output_type": "stream",
     "text": [
      "Processing slice z= 239\n"
     ]
    },
    {
     "name": "stderr",
     "output_type": "stream",
     "text": [
      "\n",
      "Uploading:   0%|          | 0/1 [00:00<?, ?it/s]\u001b[A\n",
      "Uploading:   0%|          | 0/1 [00:00<?, ?it/s]\n",
      "\n",
      "Uploading:   0%|          | 0/1 [00:00<?, ?it/s]\u001b[A\n",
      "Uploading:   0%|          | 0/1 [00:00<?, ?it/s].71it/s]\u001b[A\n",
      "Uploading:   0%|          | 0/1 [00:00<?, ?it/s]\u001b[A"
     ]
    },
    {
     "name": "stdout",
     "output_type": "stream",
     "text": [
      "Processing slice z= 240\n"
     ]
    },
    {
     "name": "stderr",
     "output_type": "stream",
     "text": [
      "\n",
      "Uploading:   0%|          | 0/1 [00:00<?, ?it/s]\u001b[A"
     ]
    },
    {
     "name": "stdout",
     "output_type": "stream",
     "text": [
      "Processing slice z= 241\n"
     ]
    },
    {
     "name": "stderr",
     "output_type": "stream",
     "text": [
      "\n",
      "Uploading:   0%|          | 0/1 [00:00<?, ?it/s]\u001b[A\n",
      "Uploading: 100%|██████████| 1/1 [00:00<00:00, 39.87it/s]\n",
      "\n",
      "Uploading:   0%|          | 0/1 [00:00<?, ?it/s]\u001b[A\n",
      "Uploading:   0%|          | 0/1 [00:00<?, ?it/s]\u001b[A\n",
      "\n",
      "Uploading: 100%|██████████| 1/1 [00:00<00:00, 33.18it/s]"
     ]
    },
    {
     "name": "stdout",
     "output_type": "stream",
     "text": [
      "Processing slice z= 242\n"
     ]
    },
    {
     "name": "stderr",
     "output_type": "stream",
     "text": [
      "\u001b[A\n"
     ]
    },
    {
     "name": "stdout",
     "output_type": "stream",
     "text": [
      "Processing slice z= 243\n"
     ]
    },
    {
     "name": "stderr",
     "output_type": "stream",
     "text": [
      "\n",
      "Uploading: 100%|██████████| 1/1 [00:00<00:00, 36.43it/s]\u001b[A\n",
      "Uploading: 100%|██████████| 1/1 [00:00<00:00, 38.28it/s]\u001b[A\n",
      "\n",
      "\n",
      "Uploading:   0%|          | 0/1 [00:00<?, ?it/s]\u001b[A"
     ]
    },
    {
     "name": "stdout",
     "output_type": "stream",
     "text": [
      "Processing slice z= 244\n"
     ]
    },
    {
     "name": "stderr",
     "output_type": "stream",
     "text": [
      "Uploading:   0%|          | 0/1 [00:00<?, ?it/s]\n",
      "Uploading:   0%|          | 0/1 [00:00<?, ?it/s]\u001b[A"
     ]
    },
    {
     "name": "stdout",
     "output_type": "stream",
     "text": [
      "Processing slice z= 245\n"
     ]
    },
    {
     "name": "stderr",
     "output_type": "stream",
     "text": [
      "\r",
      "Uploading:   0%|          | 0/1 [00:00<?, ?it/s]"
     ]
    },
    {
     "name": "stdout",
     "output_type": "stream",
     "text": [
      "Processing slice z= 246\n"
     ]
    },
    {
     "name": "stderr",
     "output_type": "stream",
     "text": [
      "\n",
      "Uploading: 100%|██████████| 1/1 [00:00<00:00, 30.21it/s]\u001b[A\n",
      "Uploading: 100%|██████████| 1/1 [00:00<00:00, 30.52it/s]\n",
      "\n",
      "Uploading: 100%|██████████| 1/1 [00:00<00:00, 20.98it/s]\n",
      "\n",
      "Uploading:   0%|          | 0/1 [00:00<?, ?it/s]\n",
      "Uploading:   0%|          | 0/1 [00:00<?, ?it/s]\u001b[A\n",
      "Uploading:   0%|          | 0/1 [00:00<?, ?it/s].78it/s]\u001b[A\n",
      "\n"
     ]
    },
    {
     "name": "stdout",
     "output_type": "stream",
     "text": [
      "Processing slice z= 247\n"
     ]
    },
    {
     "name": "stderr",
     "output_type": "stream",
     "text": [
      "Uploading: 100%|██████████| 1/1 [00:00<00:00, 36.02it/s]\n",
      "\n",
      "\n",
      "\n"
     ]
    },
    {
     "name": "stdout",
     "output_type": "stream",
     "text": [
      "Processing slice z= 248\n"
     ]
    },
    {
     "name": "stderr",
     "output_type": "stream",
     "text": [
      "Uploading:   0%|          | 0/1 [00:00<?, ?it/s]\u001b[A"
     ]
    },
    {
     "name": "stdout",
     "output_type": "stream",
     "text": [
      "Processing slice z= 249\n"
     ]
    },
    {
     "name": "stderr",
     "output_type": "stream",
     "text": [
      "\n"
     ]
    },
    {
     "name": "stdout",
     "output_type": "stream",
     "text": [
      "Processing slice z= 250\n"
     ]
    },
    {
     "name": "stderr",
     "output_type": "stream",
     "text": [
      "Uploading: 100%|██████████| 1/1 [00:00<00:00, 36.25it/s]\u001b[A"
     ]
    },
    {
     "name": "stdout",
     "output_type": "stream",
     "text": [
      "Processing slice z= 251\n"
     ]
    },
    {
     "name": "stderr",
     "output_type": "stream",
     "text": [
      "\n",
      "\n",
      "Uploading: 100%|██████████| 1/1 [00:00<00:00, 33.14it/s]\n",
      "Uploading: 100%|██████████| 1/1 [00:00<00:00, 35.44it/s]\n",
      "\n",
      "Uploading:   0%|          | 0/1 [00:00<?, ?it/s]\u001b[A\n"
     ]
    },
    {
     "name": "stdout",
     "output_type": "stream",
     "text": [
      "Processing slice z= 252\n"
     ]
    },
    {
     "name": "stderr",
     "output_type": "stream",
     "text": [
      "Uploading:   0%|          | 0/1 [00:00<?, ?it/s]\u001b[A\n",
      "Uploading:   0%|          | 0/1 [00:00<?, ?it/s]\u001b[A\n",
      "\n",
      "\n",
      "Uploading: 100%|██████████| 1/1 [00:00<00:00, 46.19it/s]\n",
      "Uploading: 100%|██████████| 1/1 [00:00<00:00, 30.59it/s]\n",
      "\n",
      "\n"
     ]
    },
    {
     "name": "stdout",
     "output_type": "stream",
     "text": [
      "Processing slice z= 253\n",
      "Processing slice z= 254\n"
     ]
    },
    {
     "name": "stderr",
     "output_type": "stream",
     "text": [
      "Uploading:   0%|          | 0/1 [00:00<?, ?it/s]\n",
      "Uploading: 100%|██████████| 1/1 [00:00<00:00, 33.59it/s]\u001b[A"
     ]
    },
    {
     "name": "stdout",
     "output_type": "stream",
     "text": [
      "Processing slice z= 255\n"
     ]
    },
    {
     "name": "stderr",
     "output_type": "stream",
     "text": [
      "\n",
      "Uploading:   0%|          | 0/1 [00:00<?, ?it/s]\u001b[A\n"
     ]
    },
    {
     "name": "stdout",
     "output_type": "stream",
     "text": [
      "Processing slice z= 256\n"
     ]
    },
    {
     "name": "stderr",
     "output_type": "stream",
     "text": [
      "Uploading:   0%|          | 0/1 [00:00<?, ?it/s]\u001b[A\n",
      "Uploading: 100%|██████████| 1/1 [00:00<00:00, 24.14it/s]\n",
      "\n",
      "Uploading: 100%|██████████| 1/1 [00:00<00:00, 25.96it/s]\u001b[A\n",
      "Uploading: 100%|██████████| 1/1 [00:00<00:00, 42.17it/s]"
     ]
    },
    {
     "name": "stdout",
     "output_type": "stream",
     "text": [
      "Processing slice z= 257\n"
     ]
    },
    {
     "name": "stderr",
     "output_type": "stream",
     "text": [
      "\n",
      "Uploading: 100%|██████████| 1/1 [00:00<00:00, 19.35it/s]\n",
      "\n",
      "\n",
      "Uploading:   0%|          | 0/1 [00:00<?, ?it/s]\u001b[A\n",
      "\n",
      "\n"
     ]
    },
    {
     "name": "stdout",
     "output_type": "stream",
     "text": [
      "Processing slice z= 258\n",
      "Processing slice z= 259\n"
     ]
    },
    {
     "name": "stderr",
     "output_type": "stream",
     "text": [
      "Uploading: 100%|██████████| 1/1 [00:00<00:00, 32.23it/s]\n",
      "\n",
      "Uploading:   0%|          | 0/1 [00:00<?, ?it/s]\u001b[A\n",
      "Uploading:   0%|          | 0/1 [00:00<?, ?it/s]"
     ]
    },
    {
     "name": "stdout",
     "output_type": "stream",
     "text": [
      "Processing slice z= 260\n",
      "Processing slice z= 261\n"
     ]
    },
    {
     "name": "stderr",
     "output_type": "stream",
     "text": [
      "\n",
      "Uploading:   0%|          | 0/1 [00:00<?, ?it/s]\u001b[A\n"
     ]
    },
    {
     "name": "stdout",
     "output_type": "stream",
     "text": [
      "Processing slice z= 262\n"
     ]
    },
    {
     "name": "stderr",
     "output_type": "stream",
     "text": [
      "Uploading: 100%|██████████| 1/1 [00:00<00:00, 27.08it/s]\n",
      "\n",
      "Uploading: 100%|██████████| 1/1 [00:00<00:00, 33.33it/s]\u001b[A\n",
      "Uploading:   0%|          | 0/1 [00:00<?, ?it/s]\u001b[A\n",
      "\n",
      "\n",
      "Uploading:   0%|          | 0/1 [00:00<?, ?it/s]\u001b[A\n",
      "Uploading:   0%|          | 0/1 [00:00<?, ?it/s]"
     ]
    },
    {
     "name": "stdout",
     "output_type": "stream",
     "text": [
      "Processing slice z= 263\n"
     ]
    },
    {
     "name": "stderr",
     "output_type": "stream",
     "text": [
      "\u001b[A\n",
      "Uploading: 100%|██████████| 1/1 [00:00<00:00, 32.08it/s]\u001b[A\n",
      "\n",
      "Uploading:   0%|          | 0/1 [00:00<?, ?it/s]"
     ]
    },
    {
     "name": "stdout",
     "output_type": "stream",
     "text": [
      "Processing slice z= 264\n"
     ]
    },
    {
     "name": "stderr",
     "output_type": "stream",
     "text": [
      "Uploading:   0%|          | 0/1 [00:00<?, ?it/s]\n",
      "Uploading: 100%|██████████| 1/1 [00:00<00:00, 31.99it/s]\u001b[A"
     ]
    },
    {
     "name": "stdout",
     "output_type": "stream",
     "text": [
      "Processing slice z= 265\n"
     ]
    },
    {
     "name": "stderr",
     "output_type": "stream",
     "text": [
      "\n",
      "\n",
      "Uploading:   0%|          | 0/1 [00:00<?, ?it/s]\u001b[A\n",
      "Uploading: 100%|██████████| 1/1 [00:00<00:00, 30.16it/s]\u001b[A\n",
      "\n",
      "Uploading: 100%|██████████| 1/1 [00:00<00:00, 32.32it/s]\u001b[A"
     ]
    },
    {
     "name": "stdout",
     "output_type": "stream",
     "text": [
      "Processing slice z= 266\n"
     ]
    },
    {
     "name": "stderr",
     "output_type": "stream",
     "text": [
      "\n",
      "\n",
      "Uploading:   0%|          | 0/1 [00:00<?, ?it/s]\u001b[A\n",
      "Uploading: 100%|██████████| 1/1 [00:00<00:00, 29.32it/s]\u001b[A\n",
      "Uploading: 100%|██████████| 1/1 [00:00<00:00, 33.81it/s]\n",
      "\n",
      "\n",
      "\n",
      "\n",
      "Uploading:   0%|          | 0/1 [00:00<?, ?it/s]\u001b[A"
     ]
    },
    {
     "name": "stdout",
     "output_type": "stream",
     "text": [
      "Processing slice z= 268\n",
      "Processing slice z= 267\n"
     ]
    },
    {
     "name": "stderr",
     "output_type": "stream",
     "text": [
      "Uploading:   0%|          | 0/1 [00:00<?, ?it/s]\n",
      "Uploading: 100%|██████████| 1/1 [00:00<00:00, 36.46it/s]"
     ]
    },
    {
     "name": "stdout",
     "output_type": "stream",
     "text": [
      "Processing slice z= 270\n"
     ]
    },
    {
     "name": "stderr",
     "output_type": "stream",
     "text": [
      "\u001b[A"
     ]
    },
    {
     "name": "stdout",
     "output_type": "stream",
     "text": [
      "Processing slice z= 269\n"
     ]
    },
    {
     "name": "stderr",
     "output_type": "stream",
     "text": [
      "\n"
     ]
    },
    {
     "name": "stdout",
     "output_type": "stream",
     "text": [
      "Processing slice z= 271\n"
     ]
    },
    {
     "name": "stderr",
     "output_type": "stream",
     "text": [
      "\n",
      "Uploading:   0%|          | 0/1 [00:00<?, ?it/s]\u001b[A\n",
      "Uploading:   0%|          | 0/1 [00:00<?, ?it/s]\u001b[A\n",
      "Uploading:   0%|          | 0/1 [00:00<?, ?it/s]\u001b[A\n",
      "Uploading:   0%|          | 0/1 [00:00<?, ?it/s]\u001b[A"
     ]
    },
    {
     "name": "stdout",
     "output_type": "stream",
     "text": [
      "Processing slice z= 272\n"
     ]
    },
    {
     "name": "stderr",
     "output_type": "stream",
     "text": [
      "Uploading: 100%|██████████| 1/1 [00:00<00:00, 29.95it/s]\n",
      "\n",
      "Uploading:   0%|          | 0/1 [00:00<?, ?it/s]\u001b[A\n",
      "\n",
      "Uploading:   0%|          | 0/1 [00:00<?, ?it/s]\u001b[A\n",
      "Uploading: 100%|██████████| 1/1 [00:00<00:00, 29.69it/s]\u001b[A\n",
      "\n"
     ]
    },
    {
     "name": "stdout",
     "output_type": "stream",
     "text": [
      "Processing slice z= 273\n"
     ]
    },
    {
     "name": "stderr",
     "output_type": "stream",
     "text": [
      "Uploading: 100%|██████████| 1/1 [00:00<00:00, 29.98it/s]\u001b[A\n",
      "\n",
      "\n",
      "\n",
      "Uploading: 100%|██████████| 1/1 [00:00<00:00, 29.96it/s]\u001b[A\n",
      "Uploading:   0%|          | 0/1 [00:00<?, ?it/s].99it/s]\u001b[A\n",
      "Uploading:   0%|          | 0/1 [00:00<?, ?it/s]\u001b[A\n"
     ]
    },
    {
     "name": "stdout",
     "output_type": "stream",
     "text": [
      "Processing slice z= 274\n"
     ]
    },
    {
     "name": "stderr",
     "output_type": "stream",
     "text": [
      "\n",
      "\n",
      "Uploading: 100%|██████████| 1/1 [00:00<00:00, 31.73it/s]"
     ]
    },
    {
     "name": "stdout",
     "output_type": "stream",
     "text": [
      "Processing slice z= 275\n"
     ]
    },
    {
     "name": "stderr",
     "output_type": "stream",
     "text": [
      "\u001b[A"
     ]
    },
    {
     "name": "stdout",
     "output_type": "stream",
     "text": [
      "Processing slice z= 276\n"
     ]
    },
    {
     "name": "stderr",
     "output_type": "stream",
     "text": [
      "\n",
      "\n",
      "Uploading:   0%|          | 0/1 [00:00<?, ?it/s]\u001b[A\n",
      "Uploading:   0%|          | 0/1 [00:00<?, ?it/s]\u001b[A\n"
     ]
    },
    {
     "name": "stdout",
     "output_type": "stream",
     "text": [
      "Processing slice z= 278\n"
     ]
    },
    {
     "name": "stderr",
     "output_type": "stream",
     "text": [
      "Uploading:   0%|          | 0/1 [00:00<?, ?it/s].08it/s]\u001b[A"
     ]
    },
    {
     "name": "stdout",
     "output_type": "stream",
     "text": [
      "Processing slice z= 277\n"
     ]
    },
    {
     "name": "stderr",
     "output_type": "stream",
     "text": [
      "Uploading:   0%|          | 0/1 [00:00<?, ?it/s]\n",
      "Uploading:   0%|          | 0/1 [00:00<?, ?it/s]\u001b[A"
     ]
    },
    {
     "name": "stdout",
     "output_type": "stream",
     "text": [
      "Processing slice z= 279\n"
     ]
    },
    {
     "name": "stderr",
     "output_type": "stream",
     "text": [
      "Uploading:   0%|          | 0/1 [00:00<?, ?it/s]\n",
      "\n",
      "Uploading:   0%|          | 0/1 [00:00<?, ?it/s]\u001b[A\n",
      "Uploading: 100%|██████████| 1/1 [00:00<00:00, 38.67it/s]\n",
      "Uploading:   0%|          | 0/1 [00:00<?, ?it/s]\n"
     ]
    },
    {
     "name": "stdout",
     "output_type": "stream",
     "text": [
      "Processing slice z= 280\n"
     ]
    },
    {
     "name": "stderr",
     "output_type": "stream",
     "text": [
      "Uploading: 100%|██████████| 1/1 [00:00<00:00, 24.32it/s]\u001b[A\n",
      "Uploading:   0%|          | 0/1 [00:00<?, ?it/s]\u001b[A\n",
      "\n",
      "\n",
      "Uploading: 100%|██████████| 1/1 [00:00<00:00, 28.69it/s]\u001b[A\n",
      "Uploading:   0%|          | 0/1 [00:00<?, ?it/s]\u001b[A\n",
      "Uploading: 100%|██████████| 1/1 [00:00<00:00, 34.99it/s]"
     ]
    },
    {
     "name": "stdout",
     "output_type": "stream",
     "text": [
      "Processing slice z= 281\n"
     ]
    },
    {
     "name": "stderr",
     "output_type": "stream",
     "text": [
      "\n"
     ]
    },
    {
     "name": "stdout",
     "output_type": "stream",
     "text": [
      "Processing slice z= 282\n"
     ]
    },
    {
     "name": "stderr",
     "output_type": "stream",
     "text": [
      "\n",
      "\n",
      "Uploading: 100%|██████████| 1/1 [00:00<00:00, 34.99it/s]\u001b[A"
     ]
    },
    {
     "name": "stdout",
     "output_type": "stream",
     "text": [
      "Processing slice z= 283\n"
     ]
    },
    {
     "name": "stderr",
     "output_type": "stream",
     "text": [
      "Uploading: 100%|██████████| 1/1 [00:00<00:00, 21.87it/s]\n",
      "\n",
      "Uploading: 100%|██████████| 1/1 [00:00<00:00, 35.47it/s]\n",
      "\n",
      "\n",
      "Uploading:   0%|          | 0/1 [00:00<?, ?it/s]\u001b[A"
     ]
    },
    {
     "name": "stdout",
     "output_type": "stream",
     "text": [
      "Processing slice z= 284\n"
     ]
    },
    {
     "name": "stderr",
     "output_type": "stream",
     "text": [
      "Uploading:   0%|          | 0/1 [00:00<?, ?it/s]\n",
      "\n",
      "Uploading:   0%|          | 0/1 [00:00<?, ?it/s]\n",
      "Uploading: 100%|██████████| 1/1 [00:00<00:00, 39.69it/s]\u001b[A\n",
      "Uploading:   0%|          | 0/1 [00:00<?, ?it/s]"
     ]
    },
    {
     "name": "stdout",
     "output_type": "stream",
     "text": [
      "Processing slice z= 285\n"
     ]
    },
    {
     "name": "stderr",
     "output_type": "stream",
     "text": [
      "\u001b[A\n"
     ]
    },
    {
     "name": "stdout",
     "output_type": "stream",
     "text": [
      "Processing slice z= 286\n",
      "Processing slice z= 287\n"
     ]
    },
    {
     "name": "stderr",
     "output_type": "stream",
     "text": [
      "Uploading:   0%|          | 0/1 [00:00<?, ?it/s]\u001b[A\n",
      "Uploading:   0%|          | 0/1 [00:00<?, ?it/s]\n",
      "Uploading:   0%|          | 0/1 [00:00<?, ?it/s]\u001b[A\n",
      "Uploading:   0%|          | 0/1 [00:00<?, ?it/s]\u001b[A\n",
      "Uploading: 100%|██████████| 1/1 [00:00<00:00, 31.56it/s]\u001b[A\n",
      "Uploading:   0%|          | 0/1 [00:00<?, ?it/s]"
     ]
    },
    {
     "name": "stdout",
     "output_type": "stream",
     "text": [
      "Processing slice z= 288\n"
     ]
    },
    {
     "name": "stderr",
     "output_type": "stream",
     "text": [
      "\n",
      "Uploading: 100%|██████████| 1/1 [00:00<00:00, 38.03it/s]\n",
      "\n",
      "\n",
      "\n",
      "\n",
      "Uploading:   0%|          | 0/1 [00:00<?, ?it/s]\u001b[A\n"
     ]
    },
    {
     "name": "stdout",
     "output_type": "stream",
     "text": [
      "Processing slice z= 289\n"
     ]
    },
    {
     "name": "stderr",
     "output_type": "stream",
     "text": [
      "Uploading: 100%|██████████| 1/1 [00:00<00:00, 41.63it/s]\u001b[A"
     ]
    },
    {
     "name": "stdout",
     "output_type": "stream",
     "text": [
      "Processing slice z= 290\n"
     ]
    },
    {
     "name": "stderr",
     "output_type": "stream",
     "text": [
      "\n",
      "Uploading: 100%|██████████| 1/1 [00:00<00:00, 47.18it/s]"
     ]
    },
    {
     "name": "stdout",
     "output_type": "stream",
     "text": [
      "Processing slice z= 291\n"
     ]
    },
    {
     "name": "stderr",
     "output_type": "stream",
     "text": [
      "\n",
      "Uploading: 100%|██████████| 1/1 [00:00<00:00, 44.85it/s]\n",
      "\n",
      "Uploading: 100%|██████████| 1/1 [00:00<00:00, 52.60it/s]\u001b[A\n",
      "\n",
      "Uploading:   0%|          | 0/1 [00:00<?, ?it/s]\u001b[A\n"
     ]
    },
    {
     "name": "stdout",
     "output_type": "stream",
     "text": [
      "Processing slice z= 292\n"
     ]
    },
    {
     "name": "stderr",
     "output_type": "stream",
     "text": [
      "\n",
      "\n",
      "Uploading:   0%|          | 0/1 [00:00<?, ?it/s]\u001b[A\n",
      "Uploading:   0%|          | 0/1 [00:00<?, ?it/s]\u001b[A"
     ]
    },
    {
     "name": "stdout",
     "output_type": "stream",
     "text": [
      "Processing slice z= 293\n"
     ]
    },
    {
     "name": "stderr",
     "output_type": "stream",
     "text": [
      "\r",
      "Uploading:   0%|          | 0/1 [00:00<?, ?it/s]"
     ]
    },
    {
     "name": "stdout",
     "output_type": "stream",
     "text": [
      "Processing slice z= 294\n"
     ]
    },
    {
     "name": "stderr",
     "output_type": "stream",
     "text": [
      "Uploading: 100%|██████████| 1/1 [00:00<00:00, 43.53it/s]\n",
      "\n",
      "Uploading:   0%|          | 0/1 [00:00<?, ?it/s]"
     ]
    },
    {
     "name": "stdout",
     "output_type": "stream",
     "text": [
      "Processing slice z= 295\n"
     ]
    },
    {
     "name": "stderr",
     "output_type": "stream",
     "text": [
      "\n",
      "Uploading:   0%|          | 0/1 [00:00<?, ?it/s]\u001b[A"
     ]
    },
    {
     "name": "stdout",
     "output_type": "stream",
     "text": [
      "Processing slice z= 296\n"
     ]
    },
    {
     "name": "stderr",
     "output_type": "stream",
     "text": [
      "\n",
      "Uploading:   0%|          | 0/1 [00:00<?, ?it/s]\u001b[A\n",
      "Uploading: 100%|██████████| 1/1 [00:00<00:00, 33.66it/s]\n",
      "Uploading: 100%|██████████| 1/1 [00:00<00:00, 53.38it/s]\n",
      "\n",
      "Uploading: 100%|██████████| 1/1 [00:00<00:00, 38.32it/s]\n",
      "Uploading: 100%|██████████| 1/1 [00:00<00:00, 32.87it/s]\n",
      "\n",
      "Uploading:   0%|          | 0/1 [00:00<?, ?it/s]\u001b[A\n",
      "Uploading: 100%|██████████| 1/1 [00:00<00:00, 48.30it/s]\n",
      "\n",
      "\n",
      "\n",
      "\n"
     ]
    },
    {
     "name": "stdout",
     "output_type": "stream",
     "text": [
      "Processing slice z= 297\n"
     ]
    },
    {
     "name": "stderr",
     "output_type": "stream",
     "text": [
      "\r",
      "Uploading: 100%|██████████| 1/1 [00:00<00:00, 50.56it/s]"
     ]
    },
    {
     "name": "stdout",
     "output_type": "stream",
     "text": [
      "Processing slice z= 299\n",
      "Processing slice z= 298\n"
     ]
    },
    {
     "name": "stderr",
     "output_type": "stream",
     "text": [
      "\n",
      "\n"
     ]
    },
    {
     "name": "stdout",
     "output_type": "stream",
     "text": [
      "Processing slice z= 300\n",
      "Processing slice z= 301\n"
     ]
    },
    {
     "name": "stderr",
     "output_type": "stream",
     "text": [
      "Uploading: 100%|██████████| 1/1 [00:00<00:00, 54.94it/s]\u001b[A\n",
      "\n",
      "\n",
      "Uploading:   0%|          | 0/1 [00:00<?, ?it/s].62it/s]\u001b[A\n",
      "Uploading:   0%|          | 0/1 [00:00<?, ?it/s]\u001b[A\n",
      "Uploading:   0%|          | 0/1 [00:00<?, ?it/s]\u001b[A"
     ]
    },
    {
     "name": "stdout",
     "output_type": "stream",
     "text": [
      "Processing slice z= 302\n"
     ]
    },
    {
     "name": "stderr",
     "output_type": "stream",
     "text": [
      "Uploading:   0%|          | 0/1 [00:00<?, ?it/s]\n",
      "Uploading:   0%|          | 0/1 [00:00<?, ?it/s]"
     ]
    },
    {
     "name": "stdout",
     "output_type": "stream",
     "text": [
      "Processing slice z= 303\n"
     ]
    },
    {
     "name": "stderr",
     "output_type": "stream",
     "text": [
      "\u001b[A\n",
      "Uploading:   0%|          | 0/1 [00:00<?, ?it/s]\u001b[A\n",
      "Uploading:   0%|          | 0/1 [00:00<?, ?it/s]\u001b[A\n",
      "\n",
      "Uploading:   0%|          | 0/1 [00:00<?, ?it/s]\u001b[A\n",
      "Uploading:   0%|          | 0/1 [00:00<?, ?it/s]\u001b[A\n",
      "Uploading: 100%|██████████| 1/1 [00:00<00:00, 43.63it/s]\u001b[A\n"
     ]
    },
    {
     "name": "stdout",
     "output_type": "stream",
     "text": [
      "Processing slice z= 304\n"
     ]
    },
    {
     "name": "stderr",
     "output_type": "stream",
     "text": [
      "Uploading: 100%|██████████| 1/1 [00:00<00:00, 43.45it/s]\u001b[A\n",
      "\n",
      "\n",
      "Uploading: 100%|██████████| 1/1 [00:00<00:00, 46.46it/s]\u001b[A\n",
      "Uploading:   0%|          | 0/1 [00:00<?, ?it/s]\n",
      "\n",
      "\n",
      "Uploading:   0%|          | 0/1 [00:00<?, ?it/s]\u001b[A\n",
      "Uploading: 100%|██████████| 1/1 [00:00<00:00, 39.26it/s]\u001b[A"
     ]
    },
    {
     "name": "stdout",
     "output_type": "stream",
     "text": [
      "Processing slice z= 305\n"
     ]
    },
    {
     "name": "stderr",
     "output_type": "stream",
     "text": [
      "\n",
      "Uploading: 100%|██████████| 1/1 [00:00<00:00, 47.59it/s]"
     ]
    },
    {
     "name": "stdout",
     "output_type": "stream",
     "text": [
      "Processing slice z= 306\n"
     ]
    },
    {
     "name": "stderr",
     "output_type": "stream",
     "text": [
      "Uploading: 100%|██████████| 1/1 [00:00<00:00, 45.34it/s]\n"
     ]
    },
    {
     "name": "stdout",
     "output_type": "stream",
     "text": [
      "Processing slice z= 307\n"
     ]
    },
    {
     "name": "stderr",
     "output_type": "stream",
     "text": [
      "\n",
      "\n"
     ]
    },
    {
     "name": "stdout",
     "output_type": "stream",
     "text": [
      "Processing slice z= 308\n"
     ]
    },
    {
     "name": "stderr",
     "output_type": "stream",
     "text": [
      "Uploading:   0%|          | 0/1 [00:00<?, ?it/s]\n",
      "Uploading:   0%|          | 0/1 [00:00<?, ?it/s]\u001b[A\n",
      "\n",
      "Uploading: 100%|██████████| 1/1 [00:00<00:00, 50.94it/s]\n",
      "\n",
      "Uploading:   0%|          | 0/1 [00:00<?, ?it/s]\u001b[A"
     ]
    },
    {
     "name": "stdout",
     "output_type": "stream",
     "text": [
      "Processing slice z= 309\n",
      "Processing slice z= 310\n"
     ]
    },
    {
     "name": "stderr",
     "output_type": "stream",
     "text": [
      "\n"
     ]
    },
    {
     "name": "stdout",
     "output_type": "stream",
     "text": [
      "Processing slice z= 311\n"
     ]
    },
    {
     "name": "stderr",
     "output_type": "stream",
     "text": [
      "Uploading:   0%|          | 0/1 [00:00<?, ?it/s]\u001b[A\n",
      "\n",
      "Uploading:   0%|          | 0/1 [00:00<?, ?it/s]\u001b[A\n",
      "Uploading:   0%|          | 0/1 [00:00<?, ?it/s]\u001b[A"
     ]
    },
    {
     "name": "stdout",
     "output_type": "stream",
     "text": [
      "Processing slice z= 312\n"
     ]
    },
    {
     "name": "stderr",
     "output_type": "stream",
     "text": [
      "Uploading:   0%|          | 0/1 [00:00<?, ?it/s]\n",
      "Uploading: 100%|██████████| 1/1 [00:00<00:00, 35.01it/s]\u001b[A\n",
      "\n",
      "Uploading: 100%|██████████| 1/1 [00:00<00:00, 43.03it/s]\n",
      "\n",
      "\n",
      "Uploading: 100%|██████████| 1/1 [00:00<00:00, 40.38it/s]\n",
      "\n",
      "Uploading: 100%|██████████| 1/1 [00:00<00:00, 44.59it/s]\u001b[A\n",
      "Uploading:   0%|          | 0/1 [00:00<?, ?it/s]\u001b[A\n"
     ]
    },
    {
     "name": "stdout",
     "output_type": "stream",
     "text": [
      "Processing slice z= 313\n",
      "Processing slice z= 314\n"
     ]
    },
    {
     "name": "stderr",
     "output_type": "stream",
     "text": [
      "\n",
      "\n",
      "Uploading: 100%|██████████| 1/1 [00:00<00:00, 39.30it/s]"
     ]
    },
    {
     "name": "stdout",
     "output_type": "stream",
     "text": [
      "Processing slice z= 315\n"
     ]
    },
    {
     "name": "stderr",
     "output_type": "stream",
     "text": [
      "\u001b[A\n",
      "\n"
     ]
    },
    {
     "name": "stdout",
     "output_type": "stream",
     "text": [
      "Processing slice z= 316\n"
     ]
    },
    {
     "name": "stderr",
     "output_type": "stream",
     "text": [
      "Uploading: 100%|██████████| 1/1 [00:00<00:00, 52.35it/s]\u001b[A\n",
      "\n",
      "\n",
      "Uploading:   0%|          | 0/1 [00:00<?, ?it/s]\u001b[A\n",
      "Uploading:   0%|          | 0/1 [00:00<?, ?it/s]\u001b[A"
     ]
    },
    {
     "name": "stdout",
     "output_type": "stream",
     "text": [
      "Processing slice z= 317\n"
     ]
    },
    {
     "name": "stderr",
     "output_type": "stream",
     "text": [
      "Uploading:   0%|          | 0/1 [00:00<?, ?it/s]"
     ]
    },
    {
     "name": "stdout",
     "output_type": "stream",
     "text": [
      "Processing slice z= 318\n"
     ]
    },
    {
     "name": "stderr",
     "output_type": "stream",
     "text": [
      "\n",
      "Uploading:   0%|          | 0/1 [00:00<?, ?it/s]"
     ]
    },
    {
     "name": "stdout",
     "output_type": "stream",
     "text": [
      "Processing slice z= 319\n"
     ]
    },
    {
     "name": "stderr",
     "output_type": "stream",
     "text": [
      "Uploading:   0%|          | 0/1 [00:00<?, ?it/s]\n",
      "Uploading:   0%|          | 0/1 [00:00<?, ?it/s]\u001b[A\n",
      "Uploading: 100%|██████████| 1/1 [00:00<00:00, 32.12it/s]\n",
      "\n",
      "Uploading:   0%|          | 0/1 [00:00<?, ?it/s]\u001b[A\n",
      "Uploading:   0%|          | 0/1 [00:00<?, ?it/s]\u001b[A\n",
      "Uploading: 100%|██████████| 1/1 [00:00<00:00, 29.98it/s]\u001b[A\n",
      "Uploading: 100%|██████████| 1/1 [00:00<00:00, 31.40it/s]\n",
      "\n",
      "Uploading: 100%|██████████| 1/1 [00:00<00:00, 39.78it/s]\u001b[A\n",
      "\n",
      "Uploading: 100%|██████████| 1/1 [00:00<00:00, 38.80it/s]\u001b[A\n",
      "\n"
     ]
    },
    {
     "name": "stdout",
     "output_type": "stream",
     "text": [
      "Processing slice z= 320\n"
     ]
    },
    {
     "name": "stderr",
     "output_type": "stream",
     "text": [
      "\n",
      "\n",
      "\n",
      "Uploading: 100%|██████████| 1/1 [00:00<00:00, 63.40it/s]\u001b[A\n"
     ]
    },
    {
     "name": "stdout",
     "output_type": "stream",
     "text": [
      "Processing slice z= 321\n"
     ]
    },
    {
     "name": "stderr",
     "output_type": "stream",
     "text": [
      "Uploading: 100%|██████████| 1/1 [00:00<00:00, 45.00it/s]\n",
      "\n"
     ]
    },
    {
     "name": "stdout",
     "output_type": "stream",
     "text": [
      "Processing slice z= 322\n"
     ]
    },
    {
     "name": "stderr",
     "output_type": "stream",
     "text": [
      "Uploading:   0%|          | 0/1 [00:00<?, ?it/s]\n"
     ]
    },
    {
     "name": "stdout",
     "output_type": "stream",
     "text": [
      "Processing slice z= 324\n",
      "Processing slice z= 323\n"
     ]
    },
    {
     "name": "stderr",
     "output_type": "stream",
     "text": [
      "\r",
      "Uploading:   0%|          | 0/1 [00:00<?, ?it/s]"
     ]
    },
    {
     "name": "stdout",
     "output_type": "stream",
     "text": [
      "Processing slice z= 325\n"
     ]
    },
    {
     "name": "stderr",
     "output_type": "stream",
     "text": [
      "\u001b[A\n",
      "Uploading:   0%|          | 0/1 [00:00<?, ?it/s]\u001b[A\n",
      "Uploading:   0%|          | 0/1 [00:00<?, ?it/s]\n",
      "Uploading:   0%|          | 0/1 [00:00<?, ?it/s]"
     ]
    },
    {
     "name": "stdout",
     "output_type": "stream",
     "text": [
      "Processing slice z= 326\n"
     ]
    },
    {
     "name": "stderr",
     "output_type": "stream",
     "text": [
      "Uploading:   0%|          | 0/1 [00:00<?, ?it/s]\n",
      "Uploading:   0%|          | 0/1 [00:00<?, ?it/s]\u001b[A\n",
      "Uploading:   0%|          | 0/1 [00:00<?, ?it/s]"
     ]
    },
    {
     "name": "stdout",
     "output_type": "stream",
     "text": [
      "Processing slice z= 327\n"
     ]
    },
    {
     "name": "stderr",
     "output_type": "stream",
     "text": [
      "Uploading:   0%|          | 0/1 [00:00<?, ?it/s]\n",
      "Uploading:   0%|          | 0/1 [00:00<?, ?it/s]\u001b[A\n",
      "Uploading:   0%|          | 0/1 [00:00<?, ?it/s]\u001b[A\n",
      "Uploading: 100%|██████████| 1/1 [00:00<00:00, 39.82it/s]\u001b[A\n",
      "\n",
      "Uploading: 100%|██████████| 1/1 [00:00<00:00, 40.54it/s]\u001b[A\n",
      "Uploading: 100%|██████████| 1/1 [00:00<00:00, 45.96it/s]\u001b[A\n",
      "Uploading:   0%|          | 0/1 [00:00<?, ?it/s]\u001b[A\n",
      "\n",
      "Uploading: 100%|██████████| 1/1 [00:00<00:00, 56.79it/s]\u001b[A\n",
      "\n",
      "Uploading: 100%|██████████| 1/1 [00:00<00:00, 51.58it/s]\n",
      "\n",
      "\n",
      "Uploading: 100%|██████████| 1/1 [00:00<00:00, 48.67it/s]\u001b[A\n",
      "\n",
      "\n"
     ]
    },
    {
     "name": "stdout",
     "output_type": "stream",
     "text": [
      "Processing slice z= 328\n"
     ]
    },
    {
     "name": "stderr",
     "output_type": "stream",
     "text": [
      "Uploading: 100%|██████████| 1/1 [00:00<00:00, 81.09it/s]\n",
      "\n"
     ]
    },
    {
     "name": "stdout",
     "output_type": "stream",
     "text": [
      "Processing slice z= 330\n",
      "Processing slice z= 329\n",
      "Processing slice z= 331\n",
      "Processing slice z= 332\n"
     ]
    },
    {
     "name": "stderr",
     "output_type": "stream",
     "text": [
      "\n",
      "Uploading:   0%|          | 0/1 [00:00<?, ?it/s]\u001b[A"
     ]
    },
    {
     "name": "stdout",
     "output_type": "stream",
     "text": [
      "Processing slice z= 333\n"
     ]
    },
    {
     "name": "stderr",
     "output_type": "stream",
     "text": [
      "\r",
      "Uploading:   0%|          | 0/1 [00:00<?, ?it/s]"
     ]
    },
    {
     "name": "stdout",
     "output_type": "stream",
     "text": [
      "Processing slice z= 334\n"
     ]
    },
    {
     "name": "stderr",
     "output_type": "stream",
     "text": [
      "\n"
     ]
    },
    {
     "name": "stdout",
     "output_type": "stream",
     "text": [
      "Processing slice z= 335\n"
     ]
    },
    {
     "name": "stderr",
     "output_type": "stream",
     "text": [
      "Uploading:   0%|          | 0/1 [00:00<?, ?it/s]\u001b[A\n",
      "Uploading:   0%|          | 0/1 [00:00<?, ?it/s]\u001b[A\n",
      "Uploading:   0%|          | 0/1 [00:00<?, ?it/s]\u001b[A\n",
      "Uploading:   0%|          | 0/1 [00:00<?, ?it/s]\u001b[A\n",
      "Uploading:   0%|          | 0/1 [00:00<?, ?it/s]\u001b[A\n",
      "Uploading:   0%|          | 0/1 [00:00<?, ?it/s]\u001b[A\n",
      "Uploading: 100%|██████████| 1/1 [00:00<00:00, 50.30it/s]\u001b[A\n",
      "Uploading:   0%|          | 0/1 [00:00<?, ?it/s]\u001b[A\n",
      "Uploading: 100%|██████████| 1/1 [00:00<00:00, 59.62it/s]\u001b[A\n",
      "\n",
      "Uploading: 100%|██████████| 1/1 [00:00<00:00, 44.94it/s]\u001b[A\n",
      "Uploading: 100%|██████████| 1/1 [00:00<00:00, 54.95it/s]\u001b[A\n",
      "\n",
      "\n",
      "\n",
      "\n",
      "Uploading: 100%|██████████| 1/1 [00:00<00:00, 59.53it/s]\n",
      "\n",
      "\n",
      "\n",
      "Uploading: 100%|██████████| 1/1 [00:00<00:00, 68.89it/s]\u001b[A\n",
      "\n"
     ]
    },
    {
     "name": "stdout",
     "output_type": "stream",
     "text": [
      "Processing slice z= 336\n",
      "Processing slice z= 337\n",
      "Processing slice z= 339\n",
      "Processing slice z= 338\n",
      "Processing slice z= 340\n",
      "Processing slice z= 341\n",
      "Processing slice z= 342\n"
     ]
    },
    {
     "name": "stderr",
     "output_type": "stream",
     "text": [
      "\n",
      "Uploading:   0%|          | 0/1 [00:00<?, ?it/s]"
     ]
    },
    {
     "name": "stdout",
     "output_type": "stream",
     "text": [
      "Processing slice z= 343\n"
     ]
    },
    {
     "name": "stderr",
     "output_type": "stream",
     "text": [
      "Uploading:   0%|          | 0/1 [00:00<?, ?it/s]\n",
      "Uploading:   0%|          | 0/1 [00:00<?, ?it/s]\u001b[A\n",
      "Uploading:   0%|          | 0/1 [00:00<?, ?it/s]\u001b[A\n",
      "Uploading:   0%|          | 0/1 [00:00<?, ?it/s]\u001b[A\n",
      "Uploading:   0%|          | 0/1 [00:00<?, ?it/s]\u001b[A\n",
      "Uploading:   0%|          | 0/1 [00:00<?, ?it/s]\u001b[A\n",
      "Uploading:   0%|          | 0/1 [00:00<?, ?it/s].54it/s]\u001b[A\n",
      "Uploading:   0%|          | 0/1 [00:00<?, ?it/s]\u001b[A\n",
      "Uploading:   0%|          | 0/1 [00:00<?, ?it/s]\u001b[A\n",
      "Uploading: 100%|██████████| 1/1 [00:00<00:00, 39.41it/s]\u001b[A\n",
      "Uploading: 100%|██████████| 1/1 [00:00<00:00, 64.89it/s]\u001b[A\n",
      "Uploading: 100%|██████████| 1/1 [00:00<00:00, 25.20it/s]\n",
      "\n",
      "Uploading: 100%|██████████| 1/1 [00:00<00:00, 41.61it/s]\u001b[A\n",
      "Uploading: 100%|██████████| 1/1 [00:00<00:00, 42.28it/s]\n",
      "\n",
      "\n",
      "\n",
      "\n",
      "Uploading: 100%|██████████| 1/1 [00:00<00:00, 61.38it/s]"
     ]
    },
    {
     "name": "stdout",
     "output_type": "stream",
     "text": [
      "Processing slice z= 344\n"
     ]
    },
    {
     "name": "stderr",
     "output_type": "stream",
     "text": [
      "\n",
      "\n",
      "\n",
      "\n"
     ]
    },
    {
     "name": "stdout",
     "output_type": "stream",
     "text": [
      "Processing slice z= 345\n"
     ]
    },
    {
     "name": "stderr",
     "output_type": "stream",
     "text": [
      "\n"
     ]
    },
    {
     "name": "stdout",
     "output_type": "stream",
     "text": [
      "Processing slice z= 346\n"
     ]
    },
    {
     "name": "stderr",
     "output_type": "stream",
     "text": [
      "\r",
      "Uploading:   0%|          | 0/1 [00:00<?, ?it/s]"
     ]
    },
    {
     "name": "stdout",
     "output_type": "stream",
     "text": [
      "Processing slice z= 348\n"
     ]
    },
    {
     "name": "stderr",
     "output_type": "stream",
     "text": [
      "\u001b[A"
     ]
    },
    {
     "name": "stdout",
     "output_type": "stream",
     "text": [
      "Processing slice z= 347\n"
     ]
    },
    {
     "name": "stderr",
     "output_type": "stream",
     "text": [
      "\n",
      "Uploading:   0%|          | 0/1 [00:00<?, ?it/s]"
     ]
    },
    {
     "name": "stdout",
     "output_type": "stream",
     "text": [
      "Processing slice z= 350\n",
      "Processing slice z= 349\n"
     ]
    },
    {
     "name": "stderr",
     "output_type": "stream",
     "text": [
      "Uploading:   0%|          | 0/1 [00:00<?, ?it/s]\n"
     ]
    },
    {
     "name": "stdout",
     "output_type": "stream",
     "text": [
      "Processing slice z= 351\n"
     ]
    },
    {
     "name": "stderr",
     "output_type": "stream",
     "text": [
      "Uploading:   0%|          | 0/1 [00:00<?, ?it/s]\u001b[A\n",
      "Uploading:   0%|          | 0/1 [00:00<?, ?it/s]\u001b[A\n",
      "Uploading:   0%|          | 0/1 [00:00<?, ?it/s]\u001b[A\n",
      "Uploading: 100%|██████████| 1/1 [00:00<00:00, 46.84it/s]\u001b[A\n",
      "Uploading:   0%|          | 0/1 [00:00<?, ?it/s]\u001b[A\n",
      "Uploading: 100%|██████████| 1/1 [00:00<00:00, 44.59it/s]\n",
      "\n",
      "Uploading:   0%|          | 0/1 [00:00<?, ?it/s]\u001b[A\n",
      "Uploading: 100%|██████████| 1/1 [00:00<00:00, 56.47it/s]\u001b[A\n",
      "Uploading: 100%|██████████| 1/1 [00:00<00:00, 43.39it/s]\u001b[A\n",
      "Uploading: 100%|██████████| 1/1 [00:00<00:00, 59.92it/s]\u001b[A\n",
      "Uploading: 100%|██████████| 1/1 [00:00<00:00, 74.36it/s]\n",
      "\n",
      "\n",
      "\n",
      "\n",
      "Uploading: 100%|██████████| 1/1 [00:00<00:00, 69.45it/s]\n",
      "Uploading: 100%|██████████| 1/1 [00:00<00:00, 85.72it/s]\n",
      "\n"
     ]
    },
    {
     "name": "stdout",
     "output_type": "stream",
     "text": [
      "Processing slice z= 352\n",
      "Processing slice z= 353\n",
      "Processing slice z= 354\n"
     ]
    },
    {
     "name": "stderr",
     "output_type": "stream",
     "text": [
      "\n",
      "\n"
     ]
    },
    {
     "name": "stdout",
     "output_type": "stream",
     "text": [
      "Processing slice z= 355\n"
     ]
    },
    {
     "name": "stderr",
     "output_type": "stream",
     "text": [
      "\n"
     ]
    },
    {
     "name": "stdout",
     "output_type": "stream",
     "text": [
      "Processing slice z= 356\n"
     ]
    },
    {
     "name": "stderr",
     "output_type": "stream",
     "text": [
      "IOPub message rate exceeded.\n",
      "The notebook server will temporarily stop sending output\n",
      "to the client in order to avoid crashing it.\n",
      "To change this limit, set the config variable\n",
      "`--NotebookApp.iopub_msg_rate_limit`.\n",
      "\n",
      "Current values:\n",
      "NotebookApp.iopub_msg_rate_limit=1000.0 (msgs/sec)\n",
      "NotebookApp.rate_limit_window=3.0 (secs)\n",
      "\n"
     ]
    }
   ],
   "source": [
    " cloud_vol = make_info_file()\n",
    "\"\"\" tifffile is already loaded \"\"\"\n",
    "# image = np.array(tifffile.imread(brainvolume_file),dtype=np.uint16, order='F') # F stands for fortran order\n",
    "z_dim,y_dim,x_dim = cell_map.shape\n",
    "\n",
    "done_files = set([ int(z) for z in os.listdir(progress_dir) ])\n",
    "all_files = set(range(cloud_vol.bounds.minpt.z, cloud_vol.bounds.maxpt.z)) # 1 indexed \n",
    "\n",
    "to_upload = [ int(z) for z in list(all_files.difference(done_files)) ]\n",
    "to_upload.sort()\n",
    "# print(\"Remaining slices to upload are:\",to_upload)\n",
    "\n",
    "with ProcessPoolExecutor(max_workers=8) as executor:\n",
    "    executor.map(process_slice, to_upload)"
   ]
  },
  {
   "cell_type": "code",
   "execution_count": 13,
   "metadata": {},
   "outputs": [],
   "source": [
    "# make the igenous mesh to display in 3D\n",
    "def make_mesh():\n",
    "    # Mesh on 8 cores, use True to use all cores\n",
    "    cloudpath = cloud_vol.cloudpath\n",
    "    with LocalTaskQueue(parallel=8) as tq:\n",
    "      tasks = tc.create_meshing_tasks(cloudpath, mip=0, shape=(256, 256, 256))\n",
    "      tq.insert_all(tasks)\n",
    "      tasks = tc.create_mesh_manifest_tasks(cloudpath)\n",
    "      tq.insert_all(tasks)\n",
    "    print(\"Done!\")"
   ]
  },
  {
   "cell_type": "code",
   "execution_count": 14,
   "metadata": {},
   "outputs": [
    {
     "name": "stderr",
     "output_type": "stream",
     "text": [
      "Tasks:   0%|          | 0/12 [00:00<?, ?it/s]\n",
      "Downloading:   0%|          | 0/257 [00:00<?, ?it/s]\u001b[A\n",
      "Downloading:   0%|          | 0/200 [00:00<?, ?it/s]\u001b[A\n",
      "Downloading:   0%|          | 0/257 [00:00<?, ?it/s]\u001b[A\n",
      "Downloading:   0%|          | 0/257 [00:00<?, ?it/s]\u001b[A\n",
      "Downloading:   0%|          | 0/257 [00:00<?, ?it/s]\u001b[A\n",
      "Downloading:  34%|███▍      | 87/257 [00:00<00:00, 843.16it/s]\u001b[A\n",
      "Downloading:   0%|          | 0/200 [00:00<?, ?it/s]\u001b[A\n",
      "Downloading:   0%|          | 0/257 [00:00<?, ?it/s]\u001b[A\n",
      "Downloading:   0%|          | 0/257 [00:00<?, ?it/s]\u001b[A\n",
      "Downloading:  56%|█████▌    | 111/200 [00:00<00:00, 1106.14it/s]\u001b[A\n",
      "Downloading:  85%|████████▍ | 218/257 [00:00<00:00, 2173.55it/s]\u001b[A\n",
      "Downloading:  61%|██████▏   | 158/257 [00:00<00:00, 1575.92it/s]\u001b[A\n",
      "\u001b[A\n",
      "Downloading:  96%|█████████▌| 246/257 [00:00<00:00, 748.73it/s]\u001b[A\n",
      "Downloading:  82%|████████▏ | 210/257 [00:00<00:00, 2091.37it/s]\u001b[A\n",
      "Downloading:  99%|█████████▉| 254/257 [00:00<00:00, 2535.38it/s]\u001b[A\n",
      "Downloading: 506it [00:00, 5053.22it/s]             \u001b[A\n",
      "\u001b[A\n",
      "Downloading: 222it [00:00, 676.85it/s]                          \u001b[A\n",
      "\u001b[A\n",
      "Downloading: 436it [00:00, 1715.09it/s]                         \u001b[A\n",
      "\u001b[A\n",
      "Downloading: 316it [00:00, 1060.70it/s]                         \u001b[A\n",
      "\u001b[A\n",
      "Downloading: 492it [00:00, 901.68it/s]                         \u001b[A\n",
      "\u001b[A\n",
      "Downloading: 420it [00:00, 1711.73it/s]                         \u001b[A\n",
      "\u001b[A\n",
      "Downloading: 508it [00:00, 2465.02it/s]                         \u001b[A\n",
      "\u001b[A\n",
      "Downloading:   0%|          | 0/200 [00:00<?, ?it/s]\u001b[A\n",
      "Downloading:  44%|████▍     | 89/200 [00:00<00:00, 885.95it/s]\u001b[A\n",
      "Downloading:   0%|          | 0/200 [00:00<?, ?it/s]\u001b[A\n",
      "Downloading:  78%|███████▊  | 157/200 [00:00<00:00, 748.27it/s]\u001b[A\n",
      "Downloading:  55%|█████▌    | 110/200 [00:00<00:00, 1092.84it/s]\u001b[A\n",
      "Downloading: 314it [00:00, 863.74it/s]                         \u001b[A\n",
      "\u001b[A\n",
      "Downloading:  89%|████████▉ | 178/200 [00:00<00:00, 870.64it/s] \u001b[A\n",
      "Downloading: 356it [00:00, 1007.16it/s]                        \u001b[A\n",
      "\u001b[A\n",
      "Downloading:   0%|          | 0/200 [00:00<?, ?it/s]\u001b[A\n",
      "Downloading:  34%|███▍      | 68/200 [00:00<00:00, 648.88it/s]\u001b[A\n",
      "Downloading:   0%|          | 0/200 [00:00<?, ?it/s]\u001b[A\n",
      "Downloading:  62%|██████▏   | 123/200 [00:00<00:00, 564.97it/s]\u001b[A\n",
      "Downloading:  42%|████▎     | 85/200 [00:00<00:00, 848.61it/s]\u001b[A\n",
      "Downloading:  96%|█████████▌| 191/200 [00:00<00:00, 551.68it/s]\u001b[A\n",
      "Downloading:  81%|████████  | 162/200 [00:00<00:00, 738.86it/s]\u001b[A\n",
      "Downloading: 382it [00:00, 662.10it/s]                         \u001b[A\n",
      "\u001b[A\n",
      "Downloading: 324it [00:00, 863.54it/s]                         \u001b[A\n",
      "Tasks: 100%|██████████| 12/12 [00:40<00:00,  3.36s/it]\n",
      "Tasks: 100%|██████████| 999/999 [00:01<00:00, 566.78it/s]\n",
      "Tasks: 0it [00:00, ?it/s]"
     ]
    },
    {
     "name": "stdout",
     "output_type": "stream",
     "text": [
      "Done!\n"
     ]
    },
    {
     "name": "stderr",
     "output_type": "stream",
     "text": [
      "\n",
      "Process ForkPoolWorker-7:\n",
      "Process ForkPoolWorker-2:\n",
      "Process ForkPoolWorker-6:\n",
      "Process ForkPoolWorker-5:\n",
      "Process ForkPoolWorker-3:\n",
      "Process ForkPoolWorker-4:\n",
      "Process ForkPoolWorker-8:\n",
      "Process ForkPoolWorker-1:\n",
      "Traceback (most recent call last):\n",
      "Traceback (most recent call last):\n",
      "Traceback (most recent call last):\n",
      "Traceback (most recent call last):\n",
      "Traceback (most recent call last):\n",
      "Traceback (most recent call last):\n",
      "  File \"/home/ahoag/anaconda3/envs/ng/lib/python3.6/site-packages/multiprocess/process.py\", line 258, in _bootstrap\n",
      "    self.run()\n",
      "  File \"/home/ahoag/anaconda3/envs/ng/lib/python3.6/site-packages/multiprocess/process.py\", line 258, in _bootstrap\n",
      "    self.run()\n",
      "  File \"/home/ahoag/anaconda3/envs/ng/lib/python3.6/site-packages/multiprocess/process.py\", line 258, in _bootstrap\n",
      "    self.run()\n",
      "  File \"/home/ahoag/anaconda3/envs/ng/lib/python3.6/site-packages/multiprocess/process.py\", line 258, in _bootstrap\n",
      "    self.run()\n",
      "Traceback (most recent call last):\n",
      "Traceback (most recent call last):\n",
      "  File \"/home/ahoag/anaconda3/envs/ng/lib/python3.6/site-packages/multiprocess/process.py\", line 258, in _bootstrap\n",
      "    self.run()\n",
      "  File \"/home/ahoag/anaconda3/envs/ng/lib/python3.6/site-packages/multiprocess/process.py\", line 258, in _bootstrap\n",
      "    self.run()\n",
      "  File \"/home/ahoag/anaconda3/envs/ng/lib/python3.6/site-packages/multiprocess/process.py\", line 93, in run\n",
      "    self._target(*self._args, **self._kwargs)\n",
      "  File \"/home/ahoag/anaconda3/envs/ng/lib/python3.6/site-packages/multiprocess/process.py\", line 93, in run\n",
      "    self._target(*self._args, **self._kwargs)\n",
      "  File \"/home/ahoag/anaconda3/envs/ng/lib/python3.6/site-packages/multiprocess/process.py\", line 258, in _bootstrap\n",
      "    self.run()\n",
      "  File \"/home/ahoag/anaconda3/envs/ng/lib/python3.6/site-packages/multiprocess/process.py\", line 93, in run\n",
      "    self._target(*self._args, **self._kwargs)\n",
      "  File \"/home/ahoag/anaconda3/envs/ng/lib/python3.6/site-packages/multiprocess/process.py\", line 258, in _bootstrap\n",
      "    self.run()\n",
      "  File \"/home/ahoag/anaconda3/envs/ng/lib/python3.6/site-packages/multiprocess/process.py\", line 93, in run\n",
      "    self._target(*self._args, **self._kwargs)\n",
      "  File \"/home/ahoag/anaconda3/envs/ng/lib/python3.6/site-packages/multiprocess/process.py\", line 93, in run\n",
      "    self._target(*self._args, **self._kwargs)\n",
      "  File \"/home/ahoag/anaconda3/envs/ng/lib/python3.6/site-packages/multiprocess/process.py\", line 93, in run\n",
      "    self._target(*self._args, **self._kwargs)\n",
      "  File \"/home/ahoag/anaconda3/envs/ng/lib/python3.6/site-packages/multiprocess/pool.py\", line 108, in worker\n",
      "    task = get()\n",
      "  File \"/home/ahoag/anaconda3/envs/ng/lib/python3.6/site-packages/multiprocess/pool.py\", line 108, in worker\n",
      "    task = get()\n",
      "  File \"/home/ahoag/anaconda3/envs/ng/lib/python3.6/site-packages/multiprocess/pool.py\", line 108, in worker\n",
      "    task = get()\n",
      "  File \"/home/ahoag/anaconda3/envs/ng/lib/python3.6/site-packages/multiprocess/pool.py\", line 108, in worker\n",
      "    task = get()\n",
      "  File \"/home/ahoag/anaconda3/envs/ng/lib/python3.6/site-packages/multiprocess/pool.py\", line 108, in worker\n",
      "    task = get()\n",
      "  File \"/home/ahoag/anaconda3/envs/ng/lib/python3.6/site-packages/multiprocess/queues.py\", line 337, in get\n",
      "    with self._rlock:\n",
      "  File \"/home/ahoag/anaconda3/envs/ng/lib/python3.6/site-packages/multiprocess/queues.py\", line 337, in get\n",
      "    with self._rlock:\n",
      "  File \"/home/ahoag/anaconda3/envs/ng/lib/python3.6/site-packages/multiprocess/process.py\", line 93, in run\n",
      "    self._target(*self._args, **self._kwargs)\n",
      "  File \"/home/ahoag/anaconda3/envs/ng/lib/python3.6/site-packages/multiprocess/pool.py\", line 108, in worker\n",
      "    task = get()\n",
      "  File \"/home/ahoag/anaconda3/envs/ng/lib/python3.6/site-packages/multiprocess/queues.py\", line 337, in get\n",
      "    with self._rlock:\n",
      "  File \"/home/ahoag/anaconda3/envs/ng/lib/python3.6/site-packages/multiprocess/synchronize.py\", line 101, in __enter__\n",
      "    return self._semlock.__enter__()\n",
      "  File \"/home/ahoag/anaconda3/envs/ng/lib/python3.6/site-packages/multiprocess/queues.py\", line 337, in get\n",
      "    with self._rlock:\n",
      "KeyboardInterrupt\n",
      "  File \"/home/ahoag/anaconda3/envs/ng/lib/python3.6/site-packages/multiprocess/synchronize.py\", line 101, in __enter__\n",
      "    return self._semlock.__enter__()\n",
      "  File \"/home/ahoag/anaconda3/envs/ng/lib/python3.6/site-packages/multiprocess/pool.py\", line 108, in worker\n",
      "    task = get()\n",
      "  File \"/home/ahoag/anaconda3/envs/ng/lib/python3.6/site-packages/multiprocess/queues.py\", line 337, in get\n",
      "    with self._rlock:\n",
      "  File \"/home/ahoag/anaconda3/envs/ng/lib/python3.6/site-packages/multiprocess/synchronize.py\", line 101, in __enter__\n",
      "    return self._semlock.__enter__()\n",
      "  File \"/home/ahoag/anaconda3/envs/ng/lib/python3.6/site-packages/multiprocess/queues.py\", line 337, in get\n",
      "    with self._rlock:\n",
      "  File \"/home/ahoag/anaconda3/envs/ng/lib/python3.6/site-packages/multiprocess/synchronize.py\", line 101, in __enter__\n",
      "    return self._semlock.__enter__()\n",
      "KeyboardInterrupt\n",
      "  File \"/home/ahoag/anaconda3/envs/ng/lib/python3.6/site-packages/multiprocess/queues.py\", line 337, in get\n",
      "    with self._rlock:\n",
      "KeyboardInterrupt\n",
      "KeyboardInterrupt\n",
      "  File \"/home/ahoag/anaconda3/envs/ng/lib/python3.6/site-packages/multiprocess/synchronize.py\", line 101, in __enter__\n",
      "    return self._semlock.__enter__()\n",
      "KeyboardInterrupt\n",
      "  File \"/home/ahoag/anaconda3/envs/ng/lib/python3.6/site-packages/multiprocess/synchronize.py\", line 101, in __enter__\n",
      "    return self._semlock.__enter__()\n",
      "  File \"/home/ahoag/anaconda3/envs/ng/lib/python3.6/site-packages/multiprocess/synchronize.py\", line 101, in __enter__\n",
      "    return self._semlock.__enter__()\n",
      "KeyboardInterrupt\n",
      "  File \"/home/ahoag/anaconda3/envs/ng/lib/python3.6/site-packages/multiprocess/process.py\", line 93, in run\n",
      "    self._target(*self._args, **self._kwargs)\n",
      "  File \"/home/ahoag/anaconda3/envs/ng/lib/python3.6/site-packages/multiprocess/pool.py\", line 108, in worker\n",
      "    task = get()\n",
      "  File \"/home/ahoag/anaconda3/envs/ng/lib/python3.6/site-packages/multiprocess/queues.py\", line 338, in get\n",
      "    res = self._reader.recv_bytes()\n",
      "KeyboardInterrupt\n",
      "  File \"/home/ahoag/anaconda3/envs/ng/lib/python3.6/site-packages/multiprocess/connection.py\", line 219, in recv_bytes\n",
      "    buf = self._recv_bytes(maxlength)\n",
      "  File \"/home/ahoag/anaconda3/envs/ng/lib/python3.6/site-packages/multiprocess/connection.py\", line 410, in _recv_bytes\n",
      "    buf = self._recv(4)\n",
      "  File \"/home/ahoag/anaconda3/envs/ng/lib/python3.6/site-packages/multiprocess/connection.py\", line 382, in _recv\n",
      "    chunk = read(handle, remaining)\n",
      "KeyboardInterrupt\n"
     ]
    }
   ],
   "source": [
    "make_mesh()"
   ]
  },
  {
   "cell_type": "code",
   "execution_count": 15,
   "metadata": {},
   "outputs": [],
   "source": [
    "# Start a viewer and see what it looks like\n",
    "import neuroglancer\n",
    "from collections import OrderedDict\n",
    "neuroglancer.set_static_content_source(url='https://neuromancer-seung-import.appspot.com')"
   ]
  },
  {
   "cell_type": "code",
   "execution_count": 16,
   "metadata": {},
   "outputs": [],
   "source": [
    "# First need to host the cloudvolume -- did that in the terminal at port 1337"
   ]
  },
  {
   "cell_type": "code",
   "execution_count": 18,
   "metadata": {},
   "outputs": [
    {
     "name": "stdout",
     "output_type": "stream",
     "text": [
      "http://127.0.0.1:36673/v/79371bfafd40b192451b07aae07ade6d2c02dccb/\n"
     ]
    }
   ],
   "source": [
    "viewer = neuroglancer.Viewer()\n",
    "# This volume handle can be used to notify the viewer that the data has changed.\n",
    "\n",
    "with viewer.txn() as s:\n",
    "    s.layers['segmentation'] = neuroglancer.SegmentationLayer(source='precomputed://http://localhost:1337'\n",
    "    )\n",
    "\n",
    "#     s.layers[0]._json_data['segments']=unique_segments\n",
    "print(viewer)"
   ]
  },
  {
   "cell_type": "markdown",
   "metadata": {},
   "source": [
    "I loaded the allen atlas on there as well and it looks like the atlas is offset in z by a few hundred planes. Let's look at the allen atlas info file to see what is going on"
   ]
  },
  {
   "cell_type": "code",
   "execution_count": 30,
   "metadata": {},
   "outputs": [],
   "source": [
    "allen_vol = CloudVolume('file:///home/ahoag/ngdemo/demo_bucket/atlas/allenatlas/')"
   ]
  },
  {
   "cell_type": "code",
   "execution_count": 31,
   "metadata": {},
   "outputs": [
    {
     "data": {
      "text/plain": [
       "{'data_type': 'uint32',\n",
       " 'mesh': 'mesh_mip_0_err_40',\n",
       " 'num_channels': 1,\n",
       " 'scales': [{'chunk_sizes': [[1024, 1024, 1]],\n",
       "   'encoding': 'raw',\n",
       "   'key': '40000_40000_40000',\n",
       "   'resolution': [40000, 40000, 40000],\n",
       "   'size': [320, 528, 456],\n",
       "   'voxel_offset': [0, 0, 1]}],\n",
       " 'type': 'segmentation'}"
      ]
     },
     "execution_count": 31,
     "metadata": {},
     "output_type": "execute_result"
    }
   ],
   "source": [
    "allen_vol.info"
   ]
  },
  {
   "cell_type": "markdown",
   "metadata": {},
   "source": [
    "Yeah, looks like the x and z dimensions are swapped. Just remake the allen atlas with the correct dimensions and it should be fine. "
   ]
  },
  {
   "cell_type": "code",
   "execution_count": 19,
   "metadata": {},
   "outputs": [
    {
     "ename": "KeyboardInterrupt",
     "evalue": "",
     "output_type": "error",
     "traceback": [
      "\u001b[0;31m---------------------------------------------------------------------------\u001b[0m",
      "\u001b[0;31mKeyboardInterrupt\u001b[0m                         Traceback (most recent call last)",
      "\u001b[0;32m<ipython-input-19-e1db619b3fda>\u001b[0m in \u001b[0;36m<module>\u001b[0;34m\u001b[0m\n\u001b[1;32m      1\u001b[0m \u001b[0mss\u001b[0m \u001b[0;34m=\u001b[0m \u001b[0mneuroglancer\u001b[0m\u001b[0;34m.\u001b[0m\u001b[0mScreenshotSaver\u001b[0m\u001b[0;34m(\u001b[0m\u001b[0mviewer\u001b[0m\u001b[0;34m,\u001b[0m \u001b[0;34m'/home/ahoag/ngdemo/screenshots/'\u001b[0m\u001b[0;34m)\u001b[0m\u001b[0;34m\u001b[0m\u001b[0;34m\u001b[0m\u001b[0m\n\u001b[0;32m----> 2\u001b[0;31m \u001b[0mss\u001b[0m\u001b[0;34m.\u001b[0m\u001b[0mcapture\u001b[0m\u001b[0;34m(\u001b[0m\u001b[0;34m)\u001b[0m\u001b[0;34m\u001b[0m\u001b[0;34m\u001b[0m\u001b[0m\n\u001b[0m",
      "\u001b[0;32m~/anaconda3/envs/ng/lib/python3.6/site-packages/neuroglancer/screenshot.py\u001b[0m in \u001b[0;36mcapture\u001b[0;34m(self, index)\u001b[0m\n\u001b[1;32m     37\u001b[0m \u001b[0;34m\u001b[0m\u001b[0m\n\u001b[1;32m     38\u001b[0m     \u001b[0;32mdef\u001b[0m \u001b[0mcapture\u001b[0m\u001b[0;34m(\u001b[0m\u001b[0mself\u001b[0m\u001b[0;34m,\u001b[0m \u001b[0mindex\u001b[0m\u001b[0;34m=\u001b[0m\u001b[0;32mNone\u001b[0m\u001b[0;34m)\u001b[0m\u001b[0;34m:\u001b[0m\u001b[0;34m\u001b[0m\u001b[0;34m\u001b[0m\u001b[0m\n\u001b[0;32m---> 39\u001b[0;31m         \u001b[0ms\u001b[0m \u001b[0;34m=\u001b[0m \u001b[0mself\u001b[0m\u001b[0;34m.\u001b[0m\u001b[0mviewer\u001b[0m\u001b[0;34m.\u001b[0m\u001b[0mscreenshot\u001b[0m\u001b[0;34m(\u001b[0m\u001b[0;34m)\u001b[0m\u001b[0;34m\u001b[0m\u001b[0;34m\u001b[0m\u001b[0m\n\u001b[0m\u001b[1;32m     40\u001b[0m         \u001b[0mincrement_index\u001b[0m \u001b[0;34m=\u001b[0m \u001b[0mindex\u001b[0m \u001b[0;32mis\u001b[0m \u001b[0;32mNone\u001b[0m\u001b[0;34m\u001b[0m\u001b[0;34m\u001b[0m\u001b[0m\n\u001b[1;32m     41\u001b[0m         \u001b[0mindex\u001b[0m\u001b[0;34m,\u001b[0m \u001b[0mpath\u001b[0m \u001b[0;34m=\u001b[0m \u001b[0mself\u001b[0m\u001b[0;34m.\u001b[0m\u001b[0mget_next_path\u001b[0m\u001b[0;34m(\u001b[0m\u001b[0mindex\u001b[0m\u001b[0;34m)\u001b[0m\u001b[0;34m\u001b[0m\u001b[0;34m\u001b[0m\u001b[0m\n",
      "\u001b[0;32m~/anaconda3/envs/ng/lib/python3.6/site-packages/neuroglancer/viewer_base.py\u001b[0m in \u001b[0;36mscreenshot\u001b[0;34m(self, size)\u001b[0m\n\u001b[1;32m    110\u001b[0m             \u001b[0mevent\u001b[0m\u001b[0;34m.\u001b[0m\u001b[0mset\u001b[0m\u001b[0;34m(\u001b[0m\u001b[0;34m)\u001b[0m\u001b[0;34m\u001b[0m\u001b[0;34m\u001b[0m\u001b[0m\n\u001b[1;32m    111\u001b[0m         \u001b[0mself\u001b[0m\u001b[0;34m.\u001b[0m\u001b[0masync_screenshot\u001b[0m\u001b[0;34m(\u001b[0m\u001b[0mhandler\u001b[0m\u001b[0;34m)\u001b[0m\u001b[0;34m\u001b[0m\u001b[0;34m\u001b[0m\u001b[0m\n\u001b[0;32m--> 112\u001b[0;31m         \u001b[0mevent\u001b[0m\u001b[0;34m.\u001b[0m\u001b[0mwait\u001b[0m\u001b[0;34m(\u001b[0m\u001b[0;34m)\u001b[0m\u001b[0;34m\u001b[0m\u001b[0;34m\u001b[0m\u001b[0m\n\u001b[0m\u001b[1;32m    113\u001b[0m         \u001b[0;32mif\u001b[0m \u001b[0msize\u001b[0m \u001b[0;32mis\u001b[0m \u001b[0;32mnot\u001b[0m \u001b[0;32mNone\u001b[0m\u001b[0;34m:\u001b[0m\u001b[0;34m\u001b[0m\u001b[0;34m\u001b[0m\u001b[0m\n\u001b[1;32m    114\u001b[0m             \u001b[0mself\u001b[0m\u001b[0;34m.\u001b[0m\u001b[0mconfig_state\u001b[0m\u001b[0;34m.\u001b[0m\u001b[0mset_state\u001b[0m\u001b[0;34m(\u001b[0m\u001b[0mprior_state\u001b[0m\u001b[0;34m)\u001b[0m\u001b[0;34m\u001b[0m\u001b[0;34m\u001b[0m\u001b[0m\n",
      "\u001b[0;32m~/anaconda3/envs/ng/lib/python3.6/threading.py\u001b[0m in \u001b[0;36mwait\u001b[0;34m(self, timeout)\u001b[0m\n\u001b[1;32m    549\u001b[0m             \u001b[0msignaled\u001b[0m \u001b[0;34m=\u001b[0m \u001b[0mself\u001b[0m\u001b[0;34m.\u001b[0m\u001b[0m_flag\u001b[0m\u001b[0;34m\u001b[0m\u001b[0;34m\u001b[0m\u001b[0m\n\u001b[1;32m    550\u001b[0m             \u001b[0;32mif\u001b[0m \u001b[0;32mnot\u001b[0m \u001b[0msignaled\u001b[0m\u001b[0;34m:\u001b[0m\u001b[0;34m\u001b[0m\u001b[0;34m\u001b[0m\u001b[0m\n\u001b[0;32m--> 551\u001b[0;31m                 \u001b[0msignaled\u001b[0m \u001b[0;34m=\u001b[0m \u001b[0mself\u001b[0m\u001b[0;34m.\u001b[0m\u001b[0m_cond\u001b[0m\u001b[0;34m.\u001b[0m\u001b[0mwait\u001b[0m\u001b[0;34m(\u001b[0m\u001b[0mtimeout\u001b[0m\u001b[0;34m)\u001b[0m\u001b[0;34m\u001b[0m\u001b[0;34m\u001b[0m\u001b[0m\n\u001b[0m\u001b[1;32m    552\u001b[0m             \u001b[0;32mreturn\u001b[0m \u001b[0msignaled\u001b[0m\u001b[0;34m\u001b[0m\u001b[0;34m\u001b[0m\u001b[0m\n\u001b[1;32m    553\u001b[0m \u001b[0;34m\u001b[0m\u001b[0m\n",
      "\u001b[0;32m~/anaconda3/envs/ng/lib/python3.6/threading.py\u001b[0m in \u001b[0;36mwait\u001b[0;34m(self, timeout)\u001b[0m\n\u001b[1;32m    293\u001b[0m         \u001b[0;32mtry\u001b[0m\u001b[0;34m:\u001b[0m    \u001b[0;31m# restore state no matter what (e.g., KeyboardInterrupt)\u001b[0m\u001b[0;34m\u001b[0m\u001b[0;34m\u001b[0m\u001b[0m\n\u001b[1;32m    294\u001b[0m             \u001b[0;32mif\u001b[0m \u001b[0mtimeout\u001b[0m \u001b[0;32mis\u001b[0m \u001b[0;32mNone\u001b[0m\u001b[0;34m:\u001b[0m\u001b[0;34m\u001b[0m\u001b[0;34m\u001b[0m\u001b[0m\n\u001b[0;32m--> 295\u001b[0;31m                 \u001b[0mwaiter\u001b[0m\u001b[0;34m.\u001b[0m\u001b[0macquire\u001b[0m\u001b[0;34m(\u001b[0m\u001b[0;34m)\u001b[0m\u001b[0;34m\u001b[0m\u001b[0;34m\u001b[0m\u001b[0m\n\u001b[0m\u001b[1;32m    296\u001b[0m                 \u001b[0mgotit\u001b[0m \u001b[0;34m=\u001b[0m \u001b[0;32mTrue\u001b[0m\u001b[0;34m\u001b[0m\u001b[0;34m\u001b[0m\u001b[0m\n\u001b[1;32m    297\u001b[0m             \u001b[0;32melse\u001b[0m\u001b[0;34m:\u001b[0m\u001b[0;34m\u001b[0m\u001b[0;34m\u001b[0m\u001b[0m\n",
      "\u001b[0;31mKeyboardInterrupt\u001b[0m: "
     ]
    }
   ],
   "source": [
    "ss = neuroglancer.ScreenshotSaver(viewer, '/home/ahoag/ngdemo/screenshots/')\n",
    "ss.capture()  "
   ]
  },
  {
   "cell_type": "code",
   "execution_count": null,
   "metadata": {},
   "outputs": [],
   "source": []
  }
 ],
 "metadata": {
  "kernelspec": {
   "display_name": "ng",
   "language": "python",
   "name": "ng"
  },
  "language_info": {
   "codemirror_mode": {
    "name": "ipython",
    "version": 3
   },
   "file_extension": ".py",
   "mimetype": "text/x-python",
   "name": "python",
   "nbconvert_exporter": "python",
   "pygments_lexer": "ipython3",
   "version": "3.6.9"
  }
 },
 "nbformat": 4,
 "nbformat_minor": 2
}
