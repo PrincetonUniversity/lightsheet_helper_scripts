{
 "cells": [
  {
   "cell_type": "markdown",
   "metadata": {},
   "source": [
    "# Purpose of this notebook\n",
    "There are regions in the Allen and Princeton Mouse Brain ontologies that do not have any voxels associated with them in the annotation volume. In the \"search by region name\" toolbar in Neuroglancer, the names of brain regions in a provided atlas are displayed. The names are derived from the ontology and therefore there are some that have no corresponding region in the segmentation volume that represents the annotation volume. In this notebook, we remove these regions from the file that Neuroglancer uses to map region to region name so that they no longer will appear in Neuroglancer.\n"
   ]
  },
  {
   "cell_type": "code",
   "execution_count": 31,
   "metadata": {},
   "outputs": [],
   "source": [
    "import os,csv\n",
    "import pandas as pd\n",
    "import numpy as np\n",
    "import tifffile\n",
    "\n",
    "# Point to the csv files for both atlases containing the region names and voxel counts \n",
    "csv_file_allen = '/home/ahoag/ngdemo/data/allen_id_table_w_voxel_counts.csv'\n",
    "annotation_volume_allen = '/jukebox/LightSheetData/atlas/allen_atlas/annotation_template_25_sagittal.tif'"
   ]
  },
  {
   "cell_type": "code",
   "execution_count": 45,
   "metadata": {},
   "outputs": [
    {
     "data": {
      "text/html": [
       "<div>\n",
       "<style scoped>\n",
       "    .dataframe tbody tr th:only-of-type {\n",
       "        vertical-align: middle;\n",
       "    }\n",
       "\n",
       "    .dataframe tbody tr th {\n",
       "        vertical-align: top;\n",
       "    }\n",
       "\n",
       "    .dataframe thead th {\n",
       "        text-align: right;\n",
       "    }\n",
       "</style>\n",
       "<table border=\"1\" class=\"dataframe\">\n",
       "  <thead>\n",
       "    <tr style=\"text-align: right;\">\n",
       "      <th></th>\n",
       "      <th>row</th>\n",
       "      <th>name</th>\n",
       "      <th>acronym</th>\n",
       "      <th>id</th>\n",
       "      <th>atlas_id</th>\n",
       "      <th>parent_structure_id</th>\n",
       "      <th>parent_name</th>\n",
       "      <th>parent_acronym</th>\n",
       "      <th>voxels_in_structure</th>\n",
       "    </tr>\n",
       "  </thead>\n",
       "  <tbody>\n",
       "    <tr>\n",
       "      <td>775</td>\n",
       "      <td>775</td>\n",
       "      <td>Tuberomammillary nucleus, ventral part</td>\n",
       "      <td>TMv</td>\n",
       "      <td>1</td>\n",
       "      <td>424.0</td>\n",
       "      <td>557.0</td>\n",
       "      <td>Tuberomammillary nucleus</td>\n",
       "      <td>TM</td>\n",
       "      <td>6931</td>\n",
       "    </tr>\n",
       "    <tr>\n",
       "      <td>78</td>\n",
       "      <td>78</td>\n",
       "      <td>Primary somatosensory area, mouth, layer 6b</td>\n",
       "      <td>SSp-m6b</td>\n",
       "      <td>2</td>\n",
       "      <td>990.0</td>\n",
       "      <td>345.0</td>\n",
       "      <td>Primary somatosensory area, mouth</td>\n",
       "      <td>SSp-m</td>\n",
       "      <td>7339</td>\n",
       "    </tr>\n",
       "    <tr>\n",
       "      <td>1316</td>\n",
       "      <td>1316</td>\n",
       "      <td>secondary fissure</td>\n",
       "      <td>sec</td>\n",
       "      <td>3</td>\n",
       "      <td>707.0</td>\n",
       "      <td>1040.0</td>\n",
       "      <td>grooves of the cerebellar cortex</td>\n",
       "      <td>grv of CBX</td>\n",
       "      <td>0</td>\n",
       "    </tr>\n",
       "    <tr>\n",
       "      <td>812</td>\n",
       "      <td>812</td>\n",
       "      <td>Inferior colliculus</td>\n",
       "      <td>IC</td>\n",
       "      <td>4</td>\n",
       "      <td>141.0</td>\n",
       "      <td>339.0</td>\n",
       "      <td>Midbrain, sensory related</td>\n",
       "      <td>MBsen</td>\n",
       "      <td>0</td>\n",
       "    </tr>\n",
       "    <tr>\n",
       "      <td>1201</td>\n",
       "      <td>1201</td>\n",
       "      <td>internal capsule</td>\n",
       "      <td>int</td>\n",
       "      <td>6</td>\n",
       "      <td>566.0</td>\n",
       "      <td>784.0</td>\n",
       "      <td>corticospinal tract</td>\n",
       "      <td>cst</td>\n",
       "      <td>134366</td>\n",
       "    </tr>\n",
       "    <tr>\n",
       "      <td>...</td>\n",
       "      <td>...</td>\n",
       "      <td>...</td>\n",
       "      <td>...</td>\n",
       "      <td>...</td>\n",
       "      <td>...</td>\n",
       "      <td>...</td>\n",
       "      <td>...</td>\n",
       "      <td>...</td>\n",
       "      <td>...</td>\n",
       "    </tr>\n",
       "    <tr>\n",
       "      <td>875</td>\n",
       "      <td>875</td>\n",
       "      <td>Interpeduncular nucleus, intermediate</td>\n",
       "      <td>IPI</td>\n",
       "      <td>607344850</td>\n",
       "      <td>NaN</td>\n",
       "      <td>100.0</td>\n",
       "      <td>NaN</td>\n",
       "      <td>NaN</td>\n",
       "      <td>0</td>\n",
       "    </tr>\n",
       "    <tr>\n",
       "      <td>876</td>\n",
       "      <td>876</td>\n",
       "      <td>Interpeduncular nucleus, dorsomedial</td>\n",
       "      <td>IPDM</td>\n",
       "      <td>607344854</td>\n",
       "      <td>NaN</td>\n",
       "      <td>100.0</td>\n",
       "      <td>NaN</td>\n",
       "      <td>NaN</td>\n",
       "      <td>0</td>\n",
       "    </tr>\n",
       "    <tr>\n",
       "      <td>877</td>\n",
       "      <td>877</td>\n",
       "      <td>Interpeduncular nucleus, dorsolateral</td>\n",
       "      <td>IPDL</td>\n",
       "      <td>607344858</td>\n",
       "      <td>NaN</td>\n",
       "      <td>100.0</td>\n",
       "      <td>NaN</td>\n",
       "      <td>NaN</td>\n",
       "      <td>0</td>\n",
       "    </tr>\n",
       "    <tr>\n",
       "      <td>878</td>\n",
       "      <td>878</td>\n",
       "      <td>Interpeduncular nucleus, rostrolateral</td>\n",
       "      <td>IPRL</td>\n",
       "      <td>607344862</td>\n",
       "      <td>NaN</td>\n",
       "      <td>100.0</td>\n",
       "      <td>NaN</td>\n",
       "      <td>NaN</td>\n",
       "      <td>0</td>\n",
       "    </tr>\n",
       "    <tr>\n",
       "      <td>842</td>\n",
       "      <td>842</td>\n",
       "      <td>Supraoculomotor periaqueductal gray</td>\n",
       "      <td>Su3</td>\n",
       "      <td>614454277</td>\n",
       "      <td>NaN</td>\n",
       "      <td>795.0</td>\n",
       "      <td>NaN</td>\n",
       "      <td>NaN</td>\n",
       "      <td>0</td>\n",
       "    </tr>\n",
       "  </tbody>\n",
       "</table>\n",
       "<p>1327 rows × 9 columns</p>\n",
       "</div>"
      ],
      "text/plain": [
       "       row                                         name  acronym         id  \\\n",
       "775    775       Tuberomammillary nucleus, ventral part      TMv          1   \n",
       "78      78  Primary somatosensory area, mouth, layer 6b  SSp-m6b          2   \n",
       "1316  1316                            secondary fissure      sec          3   \n",
       "812    812                          Inferior colliculus       IC          4   \n",
       "1201  1201                             internal capsule      int          6   \n",
       "...    ...                                          ...      ...        ...   \n",
       "875    875        Interpeduncular nucleus, intermediate      IPI  607344850   \n",
       "876    876         Interpeduncular nucleus, dorsomedial     IPDM  607344854   \n",
       "877    877        Interpeduncular nucleus, dorsolateral     IPDL  607344858   \n",
       "878    878       Interpeduncular nucleus, rostrolateral     IPRL  607344862   \n",
       "842    842          Supraoculomotor periaqueductal gray      Su3  614454277   \n",
       "\n",
       "      atlas_id  parent_structure_id                        parent_name  \\\n",
       "775      424.0                557.0           Tuberomammillary nucleus   \n",
       "78       990.0                345.0  Primary somatosensory area, mouth   \n",
       "1316     707.0               1040.0   grooves of the cerebellar cortex   \n",
       "812      141.0                339.0          Midbrain, sensory related   \n",
       "1201     566.0                784.0                corticospinal tract   \n",
       "...        ...                  ...                                ...   \n",
       "875        NaN                100.0                                NaN   \n",
       "876        NaN                100.0                                NaN   \n",
       "877        NaN                100.0                                NaN   \n",
       "878        NaN                100.0                                NaN   \n",
       "842        NaN                795.0                                NaN   \n",
       "\n",
       "     parent_acronym  voxels_in_structure  \n",
       "775              TM                 6931  \n",
       "78            SSp-m                 7339  \n",
       "1316     grv of CBX                    0  \n",
       "812           MBsen                    0  \n",
       "1201            cst               134366  \n",
       "...             ...                  ...  \n",
       "875             NaN                    0  \n",
       "876             NaN                    0  \n",
       "877             NaN                    0  \n",
       "878             NaN                    0  \n",
       "842             NaN                    0  \n",
       "\n",
       "[1327 rows x 9 columns]"
      ]
     },
     "execution_count": 45,
     "metadata": {},
     "output_type": "execute_result"
    }
   ],
   "source": [
    "df_allen = pd.read_csv(csv_file_allen).sort_values(\"id\")\n",
    "df_allen"
   ]
  },
  {
   "cell_type": "markdown",
   "metadata": {},
   "source": [
    "Look at the rendering of this volume in Neuroglancer, the \"voxels_in_structure\" column is not accurate. There are regions that say they have voxels that do not. The only safe way to restructure the list is to go through the annotation volume and see which IDs are actually in the volume. Then use that list to trim off the entries in the dataframe. "
   ]
  },
  {
   "cell_type": "code",
   "execution_count": 33,
   "metadata": {},
   "outputs": [],
   "source": [
    "annotation_vol = tifffile.imread(annotation_volume_allen)"
   ]
  },
  {
   "cell_type": "code",
   "execution_count": 34,
   "metadata": {},
   "outputs": [
    {
     "data": {
      "text/plain": [
       "array([0.0000000e+00, 1.0000000e+00, 2.0000000e+00, 6.0000000e+00,\n",
       "       7.0000000e+00, 9.0000000e+00, 1.0000000e+01, 1.2000000e+01,\n",
       "       1.5000000e+01, 1.7000000e+01, 1.9000000e+01, 2.0000000e+01,\n",
       "       2.3000000e+01, 2.6000000e+01, 2.7000000e+01, 2.8000000e+01,\n",
       "       3.0000000e+01, 3.3000000e+01, 3.5000000e+01, 3.6000000e+01,\n",
       "       3.8000000e+01, 4.1000000e+01, 4.2000000e+01, 5.0000000e+01,\n",
       "       5.2000000e+01, 5.4000000e+01, 5.6000000e+01, 5.8000000e+01,\n",
       "       5.9000000e+01, 6.2000000e+01, 6.3000000e+01, 6.4000000e+01,\n",
       "       6.6000000e+01, 6.7000000e+01, 6.8000000e+01, 7.2000000e+01,\n",
       "       7.4000000e+01, 7.5000000e+01, 7.8000000e+01, 8.1000000e+01,\n",
       "       8.3000000e+01, 8.4000000e+01, 8.8000000e+01, 9.1000000e+01,\n",
       "       9.3000000e+01, 9.6000000e+01, 9.7000000e+01, 9.8000000e+01,\n",
       "       1.0000000e+02, 1.0100000e+02, 1.0200000e+02, 1.0500000e+02,\n",
       "       1.0600000e+02, 1.0800000e+02, 1.1300000e+02, 1.1400000e+02,\n",
       "       1.1500000e+02, 1.1700000e+02, 1.1800000e+02, 1.2000000e+02,\n",
       "       1.2100000e+02, 1.2200000e+02, 1.2300000e+02, 1.2500000e+02,\n",
       "       1.2600000e+02, 1.2800000e+02, 1.2900000e+02, 1.3100000e+02,\n",
       "       1.3200000e+02, 1.3300000e+02, 1.3600000e+02, 1.3900000e+02,\n",
       "       1.4000000e+02, 1.4300000e+02, 1.4500000e+02, 1.4600000e+02,\n",
       "       1.4700000e+02, 1.4800000e+02, 1.4900000e+02, 1.5300000e+02,\n",
       "       1.5500000e+02, 1.5600000e+02, 1.5800000e+02, 1.5900000e+02,\n",
       "       1.6200000e+02, 1.6300000e+02, 1.6400000e+02, 1.6900000e+02,\n",
       "       1.7100000e+02, 1.7300000e+02, 1.7700000e+02, 1.7800000e+02,\n",
       "       1.8000000e+02, 1.8100000e+02, 1.8600000e+02, 1.8700000e+02,\n",
       "       1.8800000e+02, 1.8900000e+02, 1.9000000e+02, 1.9400000e+02,\n",
       "       1.9600000e+02, 1.9700000e+02, 1.9800000e+02, 2.0100000e+02,\n",
       "       2.0200000e+02, 2.0300000e+02, 2.0400000e+02, 2.0600000e+02,\n",
       "       2.0700000e+02, 2.0900000e+02, 2.1000000e+02, 2.1100000e+02,\n",
       "       2.1400000e+02, 2.1500000e+02, 2.1700000e+02, 2.1800000e+02,\n",
       "       2.2200000e+02, 2.2300000e+02, 2.2500000e+02, 2.2600000e+02,\n",
       "       2.2900000e+02, 2.3000000e+02, 2.3100000e+02, 2.3300000e+02,\n",
       "       2.3400000e+02, 2.3700000e+02, 2.3800000e+02, 2.4300000e+02,\n",
       "       2.4600000e+02, 2.4900000e+02, 2.5000000e+02, 2.5100000e+02,\n",
       "       2.5200000e+02, 2.5500000e+02, 2.5700000e+02, 2.5800000e+02,\n",
       "       2.6000000e+02, 2.6200000e+02, 2.6300000e+02, 2.6600000e+02,\n",
       "       2.6800000e+02, 2.6900000e+02, 2.7100000e+02, 2.7200000e+02,\n",
       "       2.7400000e+02, 2.7900000e+02, 2.8000000e+02, 2.8100000e+02,\n",
       "       2.8600000e+02, 2.8700000e+02, 2.8800000e+02, 2.8900000e+02,\n",
       "       2.9200000e+02, 2.9600000e+02, 2.9800000e+02, 3.0100000e+02,\n",
       "       3.0300000e+02, 3.0400000e+02, 3.0500000e+02, 3.0700000e+02,\n",
       "       3.1000000e+02, 3.1100000e+02, 3.1300000e+02, 3.1400000e+02,\n",
       "       3.1800000e+02, 3.2000000e+02, 3.2100000e+02, 3.2500000e+02,\n",
       "       3.2600000e+02, 3.2700000e+02, 3.2800000e+02, 3.3000000e+02,\n",
       "       3.3200000e+02, 3.3300000e+02, 3.3400000e+02, 3.3500000e+02,\n",
       "       3.3600000e+02, 3.3800000e+02, 3.4200000e+02, 3.4400000e+02,\n",
       "       3.4700000e+02, 3.4900000e+02, 3.5000000e+02, 3.5100000e+02,\n",
       "       3.5400000e+02, 3.5500000e+02, 3.5600000e+02, 3.5800000e+02,\n",
       "       3.6200000e+02, 3.6300000e+02, 3.6400000e+02, 3.6600000e+02,\n",
       "       3.6800000e+02, 3.7200000e+02, 3.7400000e+02, 3.7700000e+02,\n",
       "       3.8000000e+02, 3.8100000e+02, 3.8200000e+02, 3.9000000e+02,\n",
       "       3.9300000e+02, 3.9700000e+02, 4.0100000e+02, 4.0300000e+02,\n",
       "       4.1200000e+02, 4.1300000e+02, 4.1400000e+02, 4.2100000e+02,\n",
       "       4.2200000e+02, 4.2300000e+02, 4.2700000e+02, 4.2800000e+02,\n",
       "       4.2900000e+02, 4.3000000e+02, 4.3300000e+02, 4.3400000e+02,\n",
       "       4.3600000e+02, 4.3700000e+02, 4.4000000e+02, 4.4100000e+02,\n",
       "       4.4200000e+02, 4.4300000e+02, 4.4500000e+02, 4.4800000e+02,\n",
       "       4.4900000e+02, 4.5000000e+02, 4.5100000e+02, 4.5200000e+02,\n",
       "       4.5600000e+02, 4.6000000e+02, 4.6100000e+02, 4.6300000e+02,\n",
       "       4.6600000e+02, 4.6900000e+02, 4.7000000e+02, 4.7700000e+02,\n",
       "       4.7800000e+02, 4.8200000e+02, 4.8300000e+02, 4.8400000e+02,\n",
       "       4.8800000e+02, 5.0100000e+02, 5.0200000e+02, 5.0600000e+02,\n",
       "       5.0700000e+02, 5.1000000e+02, 5.1200000e+02, 5.1500000e+02,\n",
       "       5.2000000e+02, 5.2300000e+02, 5.2500000e+02, 5.2600000e+02,\n",
       "       5.2700000e+02, 5.3000000e+02, 5.3100000e+02, 5.3400000e+02,\n",
       "       5.3800000e+02, 5.4000000e+02, 5.4200000e+02, 5.4300000e+02,\n",
       "       5.4400000e+02, 5.4900000e+02, 5.5100000e+02, 5.5300000e+02,\n",
       "       5.5600000e+02, 5.5800000e+02, 5.5900000e+02, 5.6400000e+02,\n",
       "       5.6500000e+02, 5.6600000e+02, 5.7300000e+02, 5.7400000e+02,\n",
       "       5.7500000e+02, 5.7600000e+02, 5.7700000e+02, 5.7900000e+02,\n",
       "       5.8000000e+02, 5.8100000e+02, 5.8200000e+02, 5.8300000e+02,\n",
       "       5.8700000e+02, 5.8800000e+02, 5.9000000e+02, 5.9100000e+02,\n",
       "       5.9300000e+02, 5.9500000e+02, 5.9600000e+02, 5.9700000e+02,\n",
       "       5.9800000e+02, 5.9900000e+02, 6.0000000e+02, 6.0100000e+02,\n",
       "       6.0300000e+02, 6.0400000e+02, 6.0500000e+02, 6.0800000e+02,\n",
       "       6.0900000e+02, 6.1000000e+02, 6.1100000e+02, 6.1200000e+02,\n",
       "       6.1300000e+02, 6.1400000e+02, 6.1600000e+02, 6.2000000e+02,\n",
       "       6.2100000e+02, 6.2200000e+02, 6.2500000e+02, 6.2800000e+02,\n",
       "       6.2900000e+02, 6.3000000e+02, 6.3200000e+02, 6.3300000e+02,\n",
       "       6.3400000e+02, 6.3800000e+02, 6.3900000e+02, 6.4200000e+02,\n",
       "       6.4300000e+02, 6.4800000e+02, 6.4900000e+02, 6.5100000e+02,\n",
       "       6.5300000e+02, 6.5400000e+02, 6.5500000e+02, 6.5600000e+02,\n",
       "       6.5700000e+02, 6.5800000e+02, 6.6100000e+02, 6.6200000e+02,\n",
       "       6.6300000e+02, 6.6400000e+02, 6.6500000e+02, 6.6700000e+02,\n",
       "       6.7000000e+02, 6.7100000e+02, 6.7200000e+02, 6.7300000e+02,\n",
       "       6.7500000e+02, 6.7800000e+02, 6.7900000e+02, 6.8000000e+02,\n",
       "       6.8100000e+02, 6.8500000e+02, 6.8700000e+02, 6.8900000e+02,\n",
       "       6.9000000e+02, 6.9200000e+02, 6.9300000e+02, 6.9400000e+02,\n",
       "       6.9600000e+02, 6.9700000e+02, 6.9800000e+02, 6.9900000e+02,\n",
       "       7.0200000e+02, 7.0300000e+02, 7.0400000e+02, 7.0600000e+02,\n",
       "       7.0700000e+02, 7.1100000e+02, 7.1800000e+02, 7.2100000e+02,\n",
       "       7.2500000e+02, 7.2700000e+02, 7.2800000e+02, 7.2900000e+02,\n",
       "       7.3200000e+02, 7.3300000e+02, 7.3500000e+02, 7.4100000e+02,\n",
       "       7.4300000e+02, 7.4400000e+02, 7.4900000e+02, 7.5000000e+02,\n",
       "       7.5300000e+02, 7.5400000e+02, 7.5500000e+02, 7.5700000e+02,\n",
       "       7.5900000e+02, 7.6300000e+02, 7.6500000e+02, 7.6700000e+02,\n",
       "       7.7100000e+02, 7.7200000e+02, 7.7300000e+02, 7.7400000e+02,\n",
       "       7.7800000e+02, 7.8000000e+02, 7.8100000e+02, 7.8300000e+02,\n",
       "       7.8400000e+02, 7.8600000e+02, 7.8800000e+02, 7.9100000e+02,\n",
       "       7.9400000e+02, 7.9500000e+02, 7.9700000e+02, 7.9800000e+02,\n",
       "       8.0000000e+02, 8.0200000e+02, 8.0300000e+02, 8.0400000e+02,\n",
       "       8.0500000e+02, 8.0600000e+02, 8.1000000e+02, 8.1100000e+02,\n",
       "       8.1200000e+02, 8.1400000e+02, 8.1600000e+02, 8.1900000e+02,\n",
       "       8.2000000e+02, 8.2100000e+02, 8.2700000e+02, 8.2800000e+02,\n",
       "       8.3000000e+02, 8.3100000e+02, 8.3200000e+02, 8.3400000e+02,\n",
       "       8.3600000e+02, 8.3800000e+02, 8.3900000e+02, 8.4100000e+02,\n",
       "       8.4200000e+02, 8.4300000e+02, 8.4400000e+02, 8.4600000e+02,\n",
       "       8.4700000e+02, 8.4800000e+02, 8.4900000e+02, 8.5000000e+02,\n",
       "       8.5100000e+02, 8.5200000e+02, 8.5400000e+02, 8.5700000e+02,\n",
       "       8.5900000e+02, 8.6200000e+02, 8.6300000e+02, 8.6600000e+02,\n",
       "       8.6700000e+02, 8.6900000e+02, 8.7200000e+02, 8.7300000e+02,\n",
       "       8.7400000e+02, 8.7800000e+02, 8.8000000e+02, 8.8200000e+02,\n",
       "       8.8400000e+02, 8.8800000e+02, 8.8900000e+02, 8.9300000e+02,\n",
       "       8.9700000e+02, 8.9800000e+02, 9.0000000e+02, 9.0200000e+02,\n",
       "       9.0300000e+02, 9.0500000e+02, 9.0600000e+02, 9.0700000e+02,\n",
       "       9.0800000e+02, 9.1000000e+02, 9.1100000e+02, 9.1200000e+02,\n",
       "       9.1400000e+02, 9.1600000e+02, 9.1900000e+02, 9.2400000e+02,\n",
       "       9.2700000e+02, 9.2900000e+02, 9.3000000e+02, 9.3100000e+02,\n",
       "       9.3500000e+02, 9.3600000e+02, 9.3900000e+02, 9.4000000e+02,\n",
       "       9.4300000e+02, 9.4400000e+02, 9.4500000e+02, 9.4600000e+02,\n",
       "       9.4900000e+02, 9.5000000e+02, 9.5100000e+02, 9.5200000e+02,\n",
       "       9.5400000e+02, 9.5500000e+02, 9.5600000e+02, 9.5700000e+02,\n",
       "       9.5900000e+02, 9.6100000e+02, 9.6200000e+02, 9.6300000e+02,\n",
       "       9.6400000e+02, 9.6500000e+02, 9.6600000e+02, 9.6800000e+02,\n",
       "       9.6900000e+02, 9.7000000e+02, 9.7100000e+02, 9.7300000e+02,\n",
       "       9.7400000e+02, 9.7500000e+02, 9.7600000e+02, 9.7700000e+02,\n",
       "       9.7800000e+02, 9.8000000e+02, 9.8100000e+02, 9.8200000e+02,\n",
       "       9.8400000e+02, 9.8600000e+02, 9.8800000e+02, 9.8900000e+02,\n",
       "       9.9000000e+02, 9.9600000e+02, 9.9700000e+02, 9.9800000e+02,\n",
       "       1.0040000e+03, 1.0050000e+03, 1.0060000e+03, 1.0070000e+03,\n",
       "       1.0090000e+03, 1.0100000e+03, 1.0150000e+03, 1.0160000e+03,\n",
       "       1.0200000e+03, 1.0210000e+03, 1.0220000e+03, 1.0230000e+03,\n",
       "       1.0250000e+03, 1.0260000e+03, 1.0290000e+03, 1.0300000e+03,\n",
       "       1.0310000e+03, 1.0330000e+03, 1.0350000e+03, 1.0370000e+03,\n",
       "       1.0380000e+03, 1.0390000e+03, 1.0410000e+03, 1.0430000e+03,\n",
       "       1.0440000e+03, 1.0450000e+03, 1.0460000e+03, 1.0470000e+03,\n",
       "       1.0480000e+03, 1.0490000e+03, 1.0510000e+03, 1.0520000e+03,\n",
       "       1.0540000e+03, 1.0560000e+03, 1.0580000e+03, 1.0600000e+03,\n",
       "       1.0610000e+03, 1.0620000e+03, 1.0640000e+03, 1.0660000e+03,\n",
       "       1.0690000e+03, 1.0700000e+03, 1.0720000e+03, 1.0740000e+03,\n",
       "       1.0770000e+03, 1.0790000e+03, 1.0810000e+03, 1.0840000e+03,\n",
       "       1.0850000e+03, 1.0860000e+03, 1.0880000e+03, 1.0890000e+03,\n",
       "       1.0900000e+03, 1.0910000e+03, 1.0920000e+03, 1.0930000e+03,\n",
       "       1.0940000e+03, 1.0960000e+03, 1.0970000e+03, 1.0980000e+03,\n",
       "       1.1010000e+03, 1.1020000e+03, 1.1040000e+03, 1.1050000e+03,\n",
       "       1.1060000e+03, 1.1070000e+03, 1.1080000e+03, 1.1090000e+03,\n",
       "       1.1110000e+03, 1.1130000e+03, 1.1140000e+03, 1.1160000e+03,\n",
       "       1.1200000e+03, 1.1210000e+03, 1.1230000e+03, 1.1250000e+03,\n",
       "       1.1260000e+03, 1.1270000e+03, 1.1280000e+03, 1.1390000e+03,\n",
       "       1.0671000e+04, 1.0703000e+04, 1.0704000e+04, 1.8230570e+08,\n",
       "       1.8230571e+08, 3.1278256e+08, 3.1278259e+08, 3.1278262e+08,\n",
       "       3.1278266e+08, 4.8468246e+08, 4.8468250e+08, 4.8468253e+08,\n",
       "       4.9634566e+08, 5.2615718e+08, 5.2632227e+08, 5.2769699e+08,\n",
       "       5.4900922e+08, 5.6058157e+08, 5.6380742e+08, 5.7607373e+08,\n",
       "       5.8950842e+08, 5.8950848e+08, 5.9962694e+08, 6.0682662e+08,\n",
       "       6.0682669e+08, 6.0734483e+08, 6.1445427e+08], dtype=float32)"
      ]
     },
     "execution_count": 34,
     "metadata": {},
     "output_type": "execute_result"
    }
   ],
   "source": [
    "annotation_ids = np.unique(annotation_vol)\n",
    "annotation_ids"
   ]
  },
  {
   "cell_type": "code",
   "execution_count": 46,
   "metadata": {},
   "outputs": [
    {
     "data": {
      "text/plain": [
       "775             1\n",
       "78              2\n",
       "1316            3\n",
       "812             4\n",
       "1201            6\n",
       "          ...    \n",
       "875     607344850\n",
       "876     607344854\n",
       "877     607344858\n",
       "878     607344862\n",
       "842     614454277\n",
       "Name: id, Length: 1327, dtype: int64"
      ]
     },
     "execution_count": 46,
     "metadata": {},
     "output_type": "execute_result"
    }
   ],
   "source": [
    "df_ids = df_allen['id']\n",
    "df_ids"
   ]
  },
  {
   "cell_type": "code",
   "execution_count": 47,
   "metadata": {},
   "outputs": [],
   "source": [
    "ids_in_volume_mask = df_ids.isin(annotation_ids)"
   ]
  },
  {
   "cell_type": "code",
   "execution_count": 48,
   "metadata": {},
   "outputs": [
    {
     "data": {
      "text/html": [
       "<div>\n",
       "<style scoped>\n",
       "    .dataframe tbody tr th:only-of-type {\n",
       "        vertical-align: middle;\n",
       "    }\n",
       "\n",
       "    .dataframe tbody tr th {\n",
       "        vertical-align: top;\n",
       "    }\n",
       "\n",
       "    .dataframe thead th {\n",
       "        text-align: right;\n",
       "    }\n",
       "</style>\n",
       "<table border=\"1\" class=\"dataframe\">\n",
       "  <thead>\n",
       "    <tr style=\"text-align: right;\">\n",
       "      <th></th>\n",
       "      <th>row</th>\n",
       "      <th>name</th>\n",
       "      <th>acronym</th>\n",
       "      <th>id</th>\n",
       "      <th>atlas_id</th>\n",
       "      <th>parent_structure_id</th>\n",
       "      <th>parent_name</th>\n",
       "      <th>parent_acronym</th>\n",
       "      <th>voxels_in_structure</th>\n",
       "    </tr>\n",
       "  </thead>\n",
       "  <tbody>\n",
       "    <tr>\n",
       "      <td>775</td>\n",
       "      <td>775</td>\n",
       "      <td>Tuberomammillary nucleus, ventral part</td>\n",
       "      <td>TMv</td>\n",
       "      <td>1</td>\n",
       "      <td>424.0</td>\n",
       "      <td>557.0</td>\n",
       "      <td>Tuberomammillary nucleus</td>\n",
       "      <td>TM</td>\n",
       "      <td>6931</td>\n",
       "    </tr>\n",
       "    <tr>\n",
       "      <td>78</td>\n",
       "      <td>78</td>\n",
       "      <td>Primary somatosensory area, mouth, layer 6b</td>\n",
       "      <td>SSp-m6b</td>\n",
       "      <td>2</td>\n",
       "      <td>990.0</td>\n",
       "      <td>345.0</td>\n",
       "      <td>Primary somatosensory area, mouth</td>\n",
       "      <td>SSp-m</td>\n",
       "      <td>7339</td>\n",
       "    </tr>\n",
       "    <tr>\n",
       "      <td>1201</td>\n",
       "      <td>1201</td>\n",
       "      <td>internal capsule</td>\n",
       "      <td>int</td>\n",
       "      <td>6</td>\n",
       "      <td>566.0</td>\n",
       "      <td>784.0</td>\n",
       "      <td>corticospinal tract</td>\n",
       "      <td>cst</td>\n",
       "      <td>134366</td>\n",
       "    </tr>\n",
       "    <tr>\n",
       "      <td>889</td>\n",
       "      <td>889</td>\n",
       "      <td>Principal sensory nucleus of the trigeminal</td>\n",
       "      <td>PSV</td>\n",
       "      <td>7</td>\n",
       "      <td>283.0</td>\n",
       "      <td>1132.0</td>\n",
       "      <td>Pons, sensory related</td>\n",
       "      <td>P-sen</td>\n",
       "      <td>70327</td>\n",
       "    </tr>\n",
       "    <tr>\n",
       "      <td>91</td>\n",
       "      <td>91</td>\n",
       "      <td>Primary somatosensory area, trunk, layer 6a</td>\n",
       "      <td>SSp-tr6a</td>\n",
       "      <td>9</td>\n",
       "      <td>991.0</td>\n",
       "      <td>361.0</td>\n",
       "      <td>Primary somatosensory area, trunk</td>\n",
       "      <td>SSp-tr</td>\n",
       "      <td>14877</td>\n",
       "    </tr>\n",
       "    <tr>\n",
       "      <td>...</td>\n",
       "      <td>...</td>\n",
       "      <td>...</td>\n",
       "      <td>...</td>\n",
       "      <td>...</td>\n",
       "      <td>...</td>\n",
       "      <td>...</td>\n",
       "      <td>...</td>\n",
       "      <td>...</td>\n",
       "      <td>...</td>\n",
       "    </tr>\n",
       "    <tr>\n",
       "      <td>475</td>\n",
       "      <td>475</td>\n",
       "      <td>Dentate gyrus, polymorph layer</td>\n",
       "      <td>DG-po</td>\n",
       "      <td>10704</td>\n",
       "      <td>NaN</td>\n",
       "      <td>726.0</td>\n",
       "      <td>NaN</td>\n",
       "      <td>NaN</td>\n",
       "      <td>43800</td>\n",
       "    </tr>\n",
       "    <tr>\n",
       "      <td>359</td>\n",
       "      <td>359</td>\n",
       "      <td>Rostrolateral area, layer 6b</td>\n",
       "      <td>VISrl6b</td>\n",
       "      <td>312782624</td>\n",
       "      <td>NaN</td>\n",
       "      <td>417.0</td>\n",
       "      <td>NaN</td>\n",
       "      <td>NaN</td>\n",
       "      <td>76472</td>\n",
       "    </tr>\n",
       "    <tr>\n",
       "      <td>550</td>\n",
       "      <td>550</td>\n",
       "      <td>Prosubiculum, ventral part, molecular layer</td>\n",
       "      <td>ProSv-m</td>\n",
       "      <td>484682496</td>\n",
       "      <td>NaN</td>\n",
       "      <td>484682492.0</td>\n",
       "      <td>NaN</td>\n",
       "      <td>NaN</td>\n",
       "      <td>89266</td>\n",
       "    </tr>\n",
       "    <tr>\n",
       "      <td>1260</td>\n",
       "      <td>1260</td>\n",
       "      <td>commissural branch of stria terminalis</td>\n",
       "      <td>stc</td>\n",
       "      <td>484682528</td>\n",
       "      <td>NaN</td>\n",
       "      <td>301.0</td>\n",
       "      <td>NaN</td>\n",
       "      <td>NaN</td>\n",
       "      <td>341505</td>\n",
       "    </tr>\n",
       "    <tr>\n",
       "      <td>663</td>\n",
       "      <td>663</td>\n",
       "      <td>Dorsal part of the lateral geniculate complex,...</td>\n",
       "      <td>LGd-sh</td>\n",
       "      <td>496345664</td>\n",
       "      <td>NaN</td>\n",
       "      <td>170.0</td>\n",
       "      <td>NaN</td>\n",
       "      <td>NaN</td>\n",
       "      <td>46226</td>\n",
       "    </tr>\n",
       "  </tbody>\n",
       "</table>\n",
       "<p>598 rows × 9 columns</p>\n",
       "</div>"
      ],
      "text/plain": [
       "       row                                               name   acronym  \\\n",
       "775    775             Tuberomammillary nucleus, ventral part       TMv   \n",
       "78      78        Primary somatosensory area, mouth, layer 6b   SSp-m6b   \n",
       "1201  1201                                   internal capsule       int   \n",
       "889    889        Principal sensory nucleus of the trigeminal       PSV   \n",
       "91      91        Primary somatosensory area, trunk, layer 6a  SSp-tr6a   \n",
       "...    ...                                                ...       ...   \n",
       "475    475                     Dentate gyrus, polymorph layer     DG-po   \n",
       "359    359                       Rostrolateral area, layer 6b   VISrl6b   \n",
       "550    550        Prosubiculum, ventral part, molecular layer   ProSv-m   \n",
       "1260  1260             commissural branch of stria terminalis       stc   \n",
       "663    663  Dorsal part of the lateral geniculate complex,...    LGd-sh   \n",
       "\n",
       "             id  atlas_id  parent_structure_id  \\\n",
       "775           1     424.0                557.0   \n",
       "78            2     990.0                345.0   \n",
       "1201          6     566.0                784.0   \n",
       "889           7     283.0               1132.0   \n",
       "91            9     991.0                361.0   \n",
       "...         ...       ...                  ...   \n",
       "475       10704       NaN                726.0   \n",
       "359   312782624       NaN                417.0   \n",
       "550   484682496       NaN          484682492.0   \n",
       "1260  484682528       NaN                301.0   \n",
       "663   496345664       NaN                170.0   \n",
       "\n",
       "                            parent_name parent_acronym  voxels_in_structure  \n",
       "775            Tuberomammillary nucleus             TM                 6931  \n",
       "78    Primary somatosensory area, mouth          SSp-m                 7339  \n",
       "1201                corticospinal tract            cst               134366  \n",
       "889               Pons, sensory related          P-sen                70327  \n",
       "91    Primary somatosensory area, trunk         SSp-tr                14877  \n",
       "...                                 ...            ...                  ...  \n",
       "475                                 NaN            NaN                43800  \n",
       "359                                 NaN            NaN                76472  \n",
       "550                                 NaN            NaN                89266  \n",
       "1260                                NaN            NaN               341505  \n",
       "663                                 NaN            NaN                46226  \n",
       "\n",
       "[598 rows x 9 columns]"
      ]
     },
     "execution_count": 48,
     "metadata": {},
     "output_type": "execute_result"
    }
   ],
   "source": [
    "df_allen_in_volume = df_allen[ids_in_volume_mask]\n",
    "df_allen_in_volume"
   ]
  },
  {
   "cell_type": "markdown",
   "metadata": {},
   "source": [
    "Can see that only about half of the original structures are actually in the annotation volume. Now let's use this list of IDs as the hardcoded PMA and make "
   ]
  },
  {
   "cell_type": "code",
   "execution_count": 49,
   "metadata": {},
   "outputs": [],
   "source": [
    "IDs=df_allen_in_volume['id'].values\n",
    "names=df_allen_in_volume['name'].values\n",
    "acronyms = df_allen_in_volume['acronym'].values"
   ]
  },
  {
   "cell_type": "code",
   "execution_count": 50,
   "metadata": {
    "scrolled": false
   },
   "outputs": [
    {
     "name": "stdout",
     "output_type": "stream",
     "text": [
      "[1, \"1: TMv: Tuberomammillary nucleus, ventral part\"],\n",
      "[2, \"2: SSp-m6b: Primary somatosensory area, mouth, layer 6b\"],\n",
      "[6, \"6: int: internal capsule\"],\n",
      "[7, \"7: PSV: Principal sensory nucleus of the trigeminal\"],\n",
      "[9, \"9: SSp-tr6a: Primary somatosensory area, trunk, layer 6a\"],\n",
      "[10, \"10: SCig: Superior colliculus, motor related, intermediate gray layer\"],\n",
      "[12, \"12: IF: Interfascicular nucleus raphe\"],\n",
      "[15, \"15: PT: Parataenial nucleus\"],\n",
      "[17, \"17: SCiw: Superior colliculus, motor related, intermediate white layer\"],\n",
      "[19, \"19: IG: Induseum griseum\"],\n",
      "[20, \"20: ENTl2: Entorhinal area, lateral part, layer 2\"],\n",
      "[23, \"23: AAA: Anterior amygdalar area\"],\n",
      "[26, \"26: SCdg: Superior colliculus, motor related, deep gray layer\"],\n",
      "[27, \"27: IGL: Intergeniculate leaflet of the lateral geniculate complex\"],\n",
      "[28, \"28: ENTl6a: Entorhinal area, lateral part, layer 6a\"],\n",
      "[30, \"30: PVa: Periventricular hypothalamic nucleus, anterior part\"],\n",
      "[33, \"33: VISp6a: Primary visual area, layer 6a\"],\n",
      "[35, \"35: III: Oculomotor nucleus\"],\n",
      "[36, \"36: GU1: Gustatory areas, layer 1\"],\n",
      "[38, \"38: PVH: Paraventricular hypothalamic nucleus\"],\n",
      "[41, \"41: VISpm2/3: posteromedial visual area, layer 2/3\"],\n",
      "[42, \"42: SCdw: Superior colliculus, motor related, deep white layer\"],\n",
      "[50, \"50: PRC: Precommissural nucleus\"],\n",
      "[52, \"52: ENTl3: Entorhinal area, lateral part, layer 3\"],\n",
      "[54, \"54: mfb: medial forebrain bundle\"],\n",
      "[56, \"56: ACB: Nucleus accumbens\"],\n",
      "[58, \"58: MT: Medial terminal nucleus of the accessory optic tract\"],\n",
      "[59, \"59: IMD: Intermediodorsal nucleus of the thalamus\"],\n",
      "[62, \"62: mlf: medial longitudinal fascicle\"],\n",
      "[63, \"63: PVHd: Paraventricular hypothalamic nucleus, descending division\"],\n",
      "[64, \"64: AD: Anterodorsal nucleus\"],\n",
      "[66, \"66: LT: Lateral terminal nucleus of the accessory optic tract\"],\n",
      "[67, \"67: INC: Interstitial nucleus of Cajal\"],\n",
      "[68, \"68: FRP1: Frontal pole, layer 1\"],\n",
      "[72, \"72: ADP: Anterodorsal preoptic nucleus\"],\n",
      "[74, \"74: VISl6a: Lateral visual area, layer 6a\"],\n",
      "[75, \"75: DT: Dorsal terminal nucleus of the accessory optic tract\"],\n",
      "[78, \"78: mcp: middle cerebellar peduncle\"],\n",
      "[81, \"81: VL: lateral ventricle\"],\n",
      "[83, \"83: IO: Inferior olivary complex\"],\n",
      "[84, \"84: PL6a: Prelimbic area, layer 6a\"],\n",
      "[88, \"88: AHN: Anterior hypothalamic nucleus\"],\n",
      "[91, \"91: IP: Interposed nucleus\"],\n",
      "[93, \"93: moV: motor root of the trigeminal nerve\"],\n",
      "[96, \"96: DCO: Dorsal cochlear nucleus\"],\n",
      "[97, \"97: TEa1: Temporal association areas, layer 1\"],\n",
      "[98, \"98: SEZ: subependymal zone\"],\n",
      "[100, \"100: IPN: Interpeduncular nucleus\"],\n",
      "[101, \"101: VCO: Ventral cochlear nucleus\"],\n",
      "[102, \"102: nst: nigrostriatal tract\"],\n",
      "[105, \"105: SOCm: Superior olivary complex, medial part\"],\n",
      "[106, \"106: ISN: Inferior salivatory nucleus\"],\n",
      "[108, \"108: chpl: choroid plexus\"],\n",
      "[113, \"113: SSp-ll2/3: Primary somatosensory area, lower limb, layer 2/3\"],\n",
      "[114, \"114: SOCl: Superior olivary complex, lateral part\"],\n",
      "[115, \"115: IV: Trochlear nucleus\"],\n",
      "[117, \"117: och: optic chiasm\"],\n",
      "[118, \"118: PVi: Periventricular hypothalamic nucleus, intermediate part\"],\n",
      "[120, \"120: AIp1: Agranular insular area, posterior part, layer 1\"],\n",
      "[121, \"121: VISl6b: Lateral visual area, layer 6b\"],\n",
      "[122, \"122: POR: Superior olivary complex, periolivary region\"],\n",
      "[123, \"123: KF: Koelliker-Fuse subnucleus\"],\n",
      "[125, \"125: opt: optic tract\"],\n",
      "[126, \"126: PVp: Periventricular hypothalamic nucleus, posterior part\"],\n",
      "[128, \"128: MRN: Midbrain reticular nucleus\"],\n",
      "[129, \"129: V3: third ventricle\"],\n",
      "[131, \"131: LA: Lateral amygdalar nucleus\"],\n",
      "[132, \"132: PL6b: Prelimbic area, layer 6b\"],\n",
      "[133, \"133: PVpo: Periventricular hypothalamic nucleus, preoptic part\"],\n",
      "[136, \"136: IRN: Intermediate reticular nucleus\"],\n",
      "[139, \"139: ENTl5: Entorhinal area, lateral part, layer 5\"],\n",
      "[140, \"140: AQ: cerebral aqueduct\"],\n",
      "[143, \"143: AMBv: Nucleus ambiguus, ventral division\"],\n",
      "[145, \"145: V4: fourth ventricle\"],\n",
      "[146, \"146: PRNr: Pontine reticular nucleus\"],\n",
      "[147, \"147: LC: Locus ceruleus\"],\n",
      "[148, \"148: GU4: Gustatory areas, layer 4\"],\n",
      "[149, \"149: PVT: Paraventricular nucleus of the thalamus\"],\n",
      "[153, \"153: V4r: lateral recess\"],\n",
      "[155, \"155: LD: Lateral dorsal nucleus of thalamus\"],\n",
      "[156, \"156: AUDd6a: Dorsal auditory area, layer 6a\"],\n",
      "[158, \"158: pc: posterior commissure\"],\n",
      "[159, \"159: AON: Anterior olfactory nucleus\"],\n",
      "[162, \"162: LDT: Laterodorsal tegmental nucleus\"],\n",
      "[163, \"163: AIp2/3: Agranular insular area, posterior part, layer 2/3\"],\n",
      "[164, \"164: c: central canal, spinal cord/medulla\"],\n",
      "[169, \"169: PRP: Nucleus prepositus\"],\n",
      "[171, \"171: PL1: Prelimbic area, layer 1\"],\n",
      "[173, \"173: RCH: Retrochiasmatic area\"],\n",
      "[177, \"177: NR: Nucleus of Roller\"],\n",
      "[178, \"178: LGv: Ventral part of the lateral geniculate complex\"],\n",
      "[180, \"180: GU2/3: Gustatory areas, layer 2/3\"],\n",
      "[181, \"181: RE: Nucleus of reuniens\"],\n",
      "[186, \"186: LH: Lateral habenula\"],\n",
      "[187, \"187: GU5: Gustatory areas, layer 5\"],\n",
      "[188, \"188: AOBgl: Accessory olfactory bulb, glomerular layer\"],\n",
      "[189, \"189: RH: Rhomboid nucleus\"],\n",
      "[190, \"190: py: pyramid\"],\n",
      "[194, \"194: LHA: Lateral hypothalamic area\"],\n",
      "[196, \"196: AOBgr: Accessory olfactory bulb, granular layer\"],\n",
      "[197, \"197: RL: Rostral linear nucleus raphe\"],\n",
      "[198, \"198: pyd: pyramidal decussation\"],\n",
      "[201, \"201: SSp-bfd2/3: Primary somatosensory area, barrel field, layer 2/3\"],\n",
      "[202, \"202: MV: Medial vestibular nucleus\"],\n",
      "[203, \"203: LIN: Linear nucleus of the medulla\"],\n",
      "[204, \"204: AOBmi: Accessory olfactory bulb, mitral layer\"],\n",
      "[206, \"206: RM: Nucleus raphe magnus\"],\n",
      "[207, \"207: AP: Area postrema\"],\n",
      "[209, \"209: LAV: Lateral vestibular nucleus\"],\n",
      "[210, \"210: LM: Lateral mammillary nucleus\"],\n",
      "[211, \"211: ACAd2/3: Anterior cingulate area, dorsal part, layer 2/3\"],\n",
      "[214, \"214: RN: Red nucleus\"],\n",
      "[215, \"215: APN: Anterior pretectal nucleus\"],\n",
      "[217, \"217: SUV: Superior vestibular nucleus\"],\n",
      "[218, \"218: LP: Lateral posterior nucleus of the thalamus\"],\n",
      "[222, \"222: RO: Nucleus raphe obscurus\"],\n",
      "[223, \"223: ARH: Arcuate hypothalamic nucleus\"],\n",
      "[225, \"225: SPIV: Spinal vestibular nucleus\"],\n",
      "[226, \"226: LPO: Lateral preoptic area\"],\n",
      "[229, \"229: sV: sensory root of the trigeminal nerve\"],\n",
      "[230, \"230: RPA: Nucleus raphe pallidus\"],\n",
      "[231, \"231: AT: Anterior tegmental nucleus\"],\n",
      "[233, \"233: VISal5: Anterolateral visual area, layer 5\"],\n",
      "[234, \"234: TEa4: Temporal association areas, layer 4\"],\n",
      "[237, \"237: ts: solitary tract\"],\n",
      "[238, \"238: RPO: Nucleus raphe pontis\"],\n",
      "[243, \"243: AUDd6b: Dorsal auditory area, layer 6b\"],\n",
      "[246, \"246: RR: Midbrain reticular nucleus, retrorubral area\"],\n",
      "[249, \"249: AUDpo6a: Posterior auditory area, layer 6a\"],\n",
      "[250, \"250: LSc: Lateral septal nucleus, caudal (caudodorsal) part\"],\n",
      "[251, \"251: AUDp2/3: Primary auditory area, layer 2/3\"],\n",
      "[252, \"252: AUDd5: Dorsal auditory area, layer 5\"],\n",
      "[255, \"255: AV: Anteroventral nucleus of thalamus\"],\n",
      "[257, \"257: VISpm6a: posteromedial visual area, layer 6a\"],\n",
      "[258, \"258: LSr: Lateral septal nucleus, rostral (rostroventral) part\"],\n",
      "[260, \"260: NLOT1: Nucleus of the lateral olfactory tract, molecular layer\"],\n",
      "[262, \"262: RT: Reticular nucleus of the thalamus\"],\n",
      "[263, \"263: AVP: Anteroventral preoptic nucleus\"],\n",
      "[266, \"266: LSv: Lateral septal nucleus, ventral part\"],\n",
      "[268, \"268: NLOT2: Nucleus of the lateral olfactory tract, pyramidal layer\"],\n",
      "[269, \"269: VISpl2/3: Posterolateral visual area, layer 2/3\"],\n",
      "[271, \"271: SAG: Nucleus sagulum\"],\n",
      "[272, \"272: AVPV: Anteroventral periventricular nucleus\"],\n",
      "[274, \"274: RSPd6a: Retrosplenial area, dorsal part, layer 6a\"],\n",
      "[279, \"279: RSPagl6b: Retrosplenial area, lateral agranular part, layer 6b\"],\n",
      "[280, \"280: B: Barrington's nucleus\"],\n",
      "[281, \"281: VISam1: Anteromedial visual area, layer 1\"],\n",
      "[286, \"286: SCH: Suprachiasmatic nucleus\"],\n",
      "[287, \"287: BAC: Bed nucleus of the anterior commissure\"],\n",
      "[288, \"288: ORBvl2/3: Orbital area, ventrolateral part, layer 2/3\"],\n",
      "[289, \"289: TEa5: Temporal association areas, layer 5\"],\n",
      "[292, \"292: BA: Bed nucleus of the accessory olfactory tract\"],\n",
      "[296, \"296: ACAv2/3: Anterior cingulate area, ventral part, layer 2/3\"],\n",
      "[298, \"298: MA: Magnocellular nucleus\"],\n",
      "[301, \"301: st: stria terminalis\"],\n",
      "[303, \"303: BLAa: Basolateral amygdalar nucleus, anterior part\"],\n",
      "[304, \"304: PL2/3: Prelimbic area, layer 2/3\"],\n",
      "[305, \"305: VISp6b: Primary visual area, layer 6b\"],\n",
      "[307, \"307: MARN: Magnocellular reticular nucleus\"],\n",
      "[310, \"310: SF: Septofimbrial nucleus\"],\n",
      "[311, \"311: BLAp: Basolateral amygdalar nucleus, posterior part\"],\n",
      "[313, \"313: MB: Midbrain\"],\n",
      "[314, \"314: AIp6a: Agranular insular area, posterior part, layer 6a\"],\n",
      "[318, \"318: SG: Supragenual nucleus\"],\n",
      "[320, \"320: MOp1: Primary motor area, Layer 1\"],\n",
      "[321, \"321: SubG: Subgeniculate nucleus\"],\n",
      "[325, \"325: SGN: Suprageniculate nucleus\"],\n",
      "[326, \"326: scp: superior cerebelar peduncles\"],\n",
      "[327, \"327: BMAa: Basomedial amygdalar nucleus, anterior part\"],\n",
      "[328, \"328: AId2/3: Agranular insular area, dorsal part, layer 2/3\"],\n",
      "[330, \"330: RSPd6b: Retrosplenial area, dorsal part, layer 6b\"],\n",
      "[332, \"332: ASO: Accessory supraoptic group\"],\n",
      "[333, \"333: SH: Septohippocampal nucleus\"],\n",
      "[334, \"334: BMAp: Basomedial amygdalar nucleus, posterior part\"],\n",
      "[335, \"335: PERI6a: Perirhinal area, layer 6a\"],\n",
      "[336, \"336: csc: superior colliculus commissure\"],\n",
      "[338, \"338: SFO: Subfornical organ\"],\n",
      "[342, \"342: SI: Substantia innominata\"],\n",
      "[344, \"344: AIp5: Agranular insular area, posterior part, layer 5\"],\n",
      "[347, \"347: SBPV: Subparaventricular zone\"],\n",
      "[349, \"349: sup: supraoptic commissures\"],\n",
      "[350, \"350: SLC: Subceruleus nucleus\"],\n",
      "[351, \"351: BST: Bed nuclei of the stria terminalis\"],\n",
      "[354, \"354: MY: Medulla\"],\n",
      "[355, \"355: AIp6b: Agranular insular area, posterior part, layer 6b\"],\n",
      "[356, \"356: PST: Preparasubthalamic nucleus\"],\n",
      "[358, \"358: SLD: Sublaterodorsal nucleus\"],\n",
      "[362, \"362: MD: Mediodorsal nucleus of thalamus\"],\n",
      "[363, \"363: PL5: Prelimbic area, layer 5\"],\n",
      "[364, \"364: PSTN: Parasubthalamic nucleus\"],\n",
      "[366, \"366: SMT: Submedial nucleus of the thalamus\"],\n",
      "[368, \"368: PERI6b: Perirhinal area, layer 6b\"],\n",
      "[372, \"372: ICB: Infracerebellar nucleus\"],\n",
      "[374, \"374: SNc: Substantia nigra, compact part\"],\n",
      "[377, \"377: VISpl6a: Posterolateral visual area, layer 6a\"],\n",
      "[380, \"380: cuf: cuneate fascicle\"],\n",
      "[381, \"381: SNr: Substantia nigra, reticular part\"],\n",
      "[382, \"382: CA1: Field CA1\"],\n",
      "[390, \"390: SO: Supraoptic nucleus\"],\n",
      "[393, \"393: VISpl6b: Posterolateral visual area, layer 6b\"],\n",
      "[397, \"397: vtd: ventral tegmental decussation\"],\n",
      "[401, \"401: VISam4: Anteromedial visual area, layer 4\"],\n",
      "[403, \"403: MEA: Medial amygdalar nucleus\"],\n",
      "[412, \"412: ORBl2/3: Orbital area, lateral part, layer 2/3\"],\n",
      "[413, \"413: vVIIIn: vestibular nerve\"],\n",
      "[414, \"414: SPFm: Subparafascicular nucleus, magnocellular part\"],\n",
      "[421, \"421: VISl1: Lateral visual area, layer 1\"],\n",
      "[422, \"422: SPFp: Subparafascicular nucleus, parvicellular part\"],\n",
      "[423, \"423: CA2: Field CA2\"],\n",
      "[427, \"427: ECT2/3: Ectorhinal area/Layer 2/3\"],\n",
      "[428, \"428: mct: medial corticohypothalamic tract\"],\n",
      "[429, \"429: SPVC: Spinal nucleus of the trigeminal, caudal part\"],\n",
      "[430, \"430: RSPv2/3: Retrosplenial area, ventral part, layer 2/3\"],\n",
      "[433, \"433: VISam5: Anteromedial visual area, layer 5\"],\n",
      "[434, \"434: RSPd2/3: Retrosplenial area, dorsal part, layer 2/3\"],\n",
      "[436, \"436: fx: columns of the fornix\"],\n",
      "[437, \"437: SPVI: Spinal nucleus of the trigeminal, interpolar part\"],\n",
      "[440, \"440: ORBl6a: Orbital area, lateral part, layer 6a\"],\n",
      "[441, \"441: VISam6b: Anteromedial visual area, layer 6b\"],\n",
      "[442, \"442: RSPd1: Retrosplenial area, dorsal part, layer 1\"],\n",
      "[443, \"443: dhc: dorsal hippocampal commissure\"],\n",
      "[445, \"445: SPVO: Spinal nucleus of the trigeminal, oral part\"],\n",
      "[448, \"448: ORBl1: Orbital area, lateral part, layer 1\"],\n",
      "[449, \"449: vhc: ventral hippocampal commissure\"],\n",
      "[450, \"450: SSp-ul1: Primary somatosensory area, upper limb, layer 1\"],\n",
      "[451, \"451: BLAv: Basolateral amygdalar nucleus, ventral part\"],\n",
      "[452, \"452: MEPO: Median preoptic nucleus\"],\n",
      "[456, \"456: AUDpo6b: Posterior auditory area, layer 6b\"],\n",
      "[460, \"460: MEV: Midbrain trigeminal nucleus\"],\n",
      "[461, \"461: SSp-tr6b: Primary somatosensory area, trunk, layer 6b\"],\n",
      "[463, \"463: CA3: Field CA3\"],\n",
      "[466, \"466: alv: alveus\"],\n",
      "[469, \"469: VISpm6b: posteromedial visual area, layer 6b\"],\n",
      "[470, \"470: STN: Subthalamic nucleus\"],\n",
      "[477, \"477: STR: Striatum\"],\n",
      "[478, \"478: SSp-ll6a: Primary somatosensory area, lower limb, layer 6a\"],\n",
      "[482, \"482: bic: brachium of the inferior colliculus\"],\n",
      "[483, \"483: MH: Medial habenula\"],\n",
      "[484, \"484: ORBm1: Orbital area, medial part, layer 1\"],\n",
      "[488, \"488: ORBl6b: Orbital area, lateral part, layer 6b\"],\n",
      "[501, \"501: VISpm4: posteromedial visual area, layer 4\"],\n",
      "[502, \"502: SUB: Subiculum\"],\n",
      "[506, \"506: das: dorsal acoustic stria\"],\n",
      "[507, \"507: MOB: Main olfactory bulb\"],\n",
      "[510, \"510: SSp-ll6b: Primary somatosensory area, lower limb, layer 6b\"],\n",
      "[512, \"512: CB: Cerebellum\"],\n",
      "[515, \"515: MPN: Medial preoptic nucleus\"],\n",
      "[520, \"520: AUDv6a: Ventral auditory area, layer 6a\"],\n",
      "[523, \"523: MPO: Medial preoptic area\"],\n",
      "[525, \"525: SUM: Supramammillary nucleus\"],\n",
      "[526, \"526: ENTm1: Entorhinal area, medial part, dorsal zone, layer 1\"],\n",
      "[527, \"527: AUDd1: Dorsal auditory area, layer 1\"],\n",
      "[530, \"530: df: dorsal fornix\"],\n",
      "[531, \"531: MPT: Medial pretectal area\"],\n",
      "[534, \"534: SUT: Supratrigeminal nucleus\"],\n",
      "[538, \"538: lotd: dorsal limb\"],\n",
      "[540, \"540: PERI1: Perirhinal area, layer 1\"],\n",
      "[542, \"542: RSPv1: Retrosplenial area, ventral part, layer 1\"],\n",
      "[543, \"543: ENTm2: Entorhinal area, medial part, dorsal zone, layer 2\"],\n",
      "[544, \"544: CEAc: Central amygdalar nucleus, capsular part\"],\n",
      "[549, \"549: TH: Thalamus\"],\n",
      "[551, \"551: CEAl: Central amygdalar nucleus, lateral part\"],\n",
      "[553, \"553: sctd: dorsal spinocerebellar tract\"],\n",
      "[556, \"556: ILA2/3: Infralimbic area, layer 2/3\"],\n",
      "[558, \"558: SSp-n1: Primary somatosensory area, nose, layer 1\"],\n",
      "[559, \"559: CEAm: Central amygdalar nucleus, medial part\"],\n",
      "[564, \"564: MS: Medial septal nucleus\"],\n",
      "[565, \"565: VISpm5: posteromedial visual area, layer 5\"],\n",
      "[566, \"566: TR: Postpiriform transition area\"],\n",
      "[573, \"573: VISl4: Lateral visual area, layer 4\"],\n",
      "[574, \"574: TRN: Tegmental reticular nucleus\"],\n",
      "[575, \"575: CL: Central lateral nucleus of the thalamus\"],\n",
      "[576, \"576: ACVII: Accessory facial motor nucleus\"],\n",
      "[577, \"577: SSp-ul4: Primary somatosensory area, upper limb, layer 4\"],\n",
      "[579, \"579: ec: external capsule\"],\n",
      "[580, \"580: NB: Nucleus of the brachium of the inferior colliculus\"],\n",
      "[581, \"581: TRS: Triangular nucleus of septum\"],\n",
      "[582, \"582: ORBm2/3: Orbital area, medial part, layer 2/3\"],\n",
      "[583, \"583: CLA: Claustrum\"],\n",
      "[587, \"587: ND: Nucleus of Darkschewitsch\"],\n",
      "[588, \"588: ACAv1: Anterior cingulate area, ventral part, layer 1\"],\n",
      "[590, \"590: RSPv6a: Retrosplenial area, ventral part, layer 6a\"],\n",
      "[591, \"591: CLI: Central linear nucleus raphe\"],\n",
      "[593, \"593: VISp1: Primary visual area, layer 1\"],\n",
      "[595, \"595: fr: fasciculus retroflexus\"],\n",
      "[596, \"596: NDB: Diagonal band nucleus\"],\n",
      "[597, \"597: TTd: Taenia tecta, dorsal part\"],\n",
      "[598, \"598: AUDv6b: Ventral auditory area, layer 6b\"],\n",
      "[599, \"599: CM: Central medial nucleus of the thalamus\"],\n",
      "[600, \"600: AUDd2/3: Dorsal auditory area, layer 2/3\"],\n",
      "[601, \"601: VISal6a: Anterolateral visual area, layer 6a\"],\n",
      "[603, \"603: fi: fimbria\"],\n",
      "[604, \"604: NI: Nucleus incertus\"],\n",
      "[605, \"605: TTv: Taenia tecta, ventral part\"],\n",
      "[608, \"608: ORBvl6a: Orbital area, ventrolateral part, layer 6a\"],\n",
      "[609, \"609: SPA: Subparafascicular area\"],\n",
      "[610, \"610: RSPd5: Retrosplenial area, dorsal part, layer 5\"],\n",
      "[611, \"611: hbc: habenular commissure\"],\n",
      "[612, \"612: NLL: Nucleus of the lateral lemniscus\"],\n",
      "[613, \"613: VISl5: Lateral visual area, layer 5\"],\n",
      "[614, \"614: TU: Tuberal nucleus\"],\n",
      "[616, \"616: CUN: Cuneiform nucleus\"],\n",
      "[620, \"620: ORBm5: Orbital area, medial part, layer 5\"],\n",
      "[621, \"621: V: Motor nucleus of trigeminal\"],\n",
      "[622, \"622: RSPv6b: Retrosplenial area, ventral part, layer 6b\"],\n",
      "[625, \"625: SSp-ul5: Primary somatosensory area, upper limb, layer 5\"],\n",
      "[628, \"628: NOT: Nucleus of the optic tract\"],\n",
      "[629, \"629: VAL: Ventral anterior-lateral complex of the thalamus\"],\n",
      "[630, \"630: ORBl5: Orbital area, lateral part, layer 5\"],\n",
      "[632, \"632: DG-sg: Dentate gyrus, granule cell layer\"],\n",
      "[633, \"633: cic: inferior colliculus commissure\"],\n",
      "[634, \"634: NPC: Nucleus of the posterior commissure\"],\n",
      "[638, \"638: GU6a: Gustatory areas, layer 6a\"],\n",
      "[639, \"639: COAa: Cortical amygdalar area, anterior part\"],\n",
      "[642, \"642: NTB: Nucleus of the trapezoid body\"],\n",
      "[643, \"643: AUDpo2/3: Posterior auditory area, layer 2/3\"],\n",
      "[648, \"648: MOp5: Primary motor area, Layer 5\"],\n",
      "[649, \"649: VISal6b: Anterolateral visual area, layer 6b\"],\n",
      "[651, \"651: NTS: Nucleus of the solitary tract\"],\n",
      "[653, \"653: VI: Abducens nucleus\"],\n",
      "[654, \"654: SSp-n4: Primary somatosensory area, nose, layer 4\"],\n",
      "[655, \"655: COApl: Cortical amygdalar area, posterior part, lateral zone\"],\n",
      "[656, \"656: MOs1: Secondary motor area, layer 1\"],\n",
      "[657, \"657: SSp-m2/3: Primary somatosensory area, mouth, layer 2/3\"],\n",
      "[658, \"658: ll: lateral lemniscus\"],\n",
      "[661, \"661: VII: Facial motor nucleus\"],\n",
      "[662, \"662: GU6b: Gustatory areas, layer 6b\"],\n",
      "[663, \"663: COApm: Cortical amygdalar area, posterior part, medial zone\"],\n",
      "[664, \"664: ENTm3: Entorhinal area, medial part, dorsal zone, layer 3\"],\n",
      "[665, \"665: lot: lateral olfactory tract, body\"],\n",
      "[667, \"667: FRP2/3: Frontal pole, layer 2/3\"],\n",
      "[670, \"670: SSp-tr2/3: Primary somatosensory area, trunk, layer 2/3\"],\n",
      "[671, \"671: RSPagl1: Retrosplenial area, lateral agranular part, layer 1\"],\n",
      "[672, \"672: CP: Caudoputamen\"],\n",
      "[673, \"673: mp: mammillary peduncle\"],\n",
      "[675, \"675: AIv6a: Agranular insular area, ventral part, layer 6a\"],\n",
      "[678, \"678: AUDd4: Dorsal auditory area, layer 4\"],\n",
      "[679, \"679: CS: Superior central nucleus raphe\"],\n",
      "[680, \"680: ORBvl6b: Orbital area, ventrolateral part, layer 6b\"],\n",
      "[681, \"681: mtg: mammillotegmental tract\"],\n",
      "[685, \"685: VM: Ventral medial nucleus of the thalamus\"],\n",
      "[687, \"687: RSPv5: Retrosplenial area, ventral part, layer 5\"],\n",
      "[689, \"689: VLPO: Ventrolateral preoptic nucleus\"],\n",
      "[690, \"690: mtt: mammillothalamic tract\"],\n",
      "[692, \"692: PERI5: Perirhinal area, layer 5\"],\n",
      "[693, \"693: VMH: Ventromedial hypothalamic nucleus\"],\n",
      "[694, \"694: AIv2/3: Agranular insular area, ventral part, layer 2/3\"],\n",
      "[696, \"696: AUDpo1: Posterior auditory area, layer 1\"],\n",
      "[697, \"697: ml: medial lemniscus\"],\n",
      "[698, \"698: OLF: Olfactory areas\"],\n",
      "[699, \"699: AIv6b: Agranular insular area, ventral part, layer 6b\"],\n",
      "[702, \"702: SSp-n5: Primary somatosensory area, nose, layer 5\"],\n",
      "[703, \"703: CTXsp: Cortical subplate\"],\n",
      "[704, \"704: AIv1: Agranular insular area, ventral part, layer 1\"],\n",
      "[706, \"706: OP: Olivary pretectal nucleus\"],\n",
      "[707, \"707: ILA1: Infralimbic area, layer 1\"],\n",
      "[711, \"711: CU: Cuneate nucleus\"],\n",
      "[718, \"718: VPL: Ventral posterolateral nucleus of the thalamus\"],\n",
      "[721, \"721: VISp4: Primary visual area, layer 4\"],\n",
      "[725, \"725: VPLpc: Ventral posterolateral nucleus of the thalamus, parvicellular part\"],\n",
      "[727, \"727: ENTm5: Entorhinal area, medial part, dorsal zone, layer 5\"],\n",
      "[728, \"728: arb: arbor vitae\"],\n",
      "[729, \"729: TEa6a: Temporal association areas, layer 6a\"],\n",
      "[732, \"732: MMme: Medial mammillary nucleus, median part\"],\n",
      "[733, \"733: VPM: Ventral posteromedial nucleus of the thalamus\"],\n",
      "[735, \"735: AUDp1: Primary auditory area, layer 1\"],\n",
      "[741, \"741: VPMpc: Ventral posteromedial nucleus of the thalamus, parvicellular part\"],\n",
      "[743, \"743: ENTm6: Entorhinal area, medial part, dorsal zone, layer 6\"],\n",
      "[744, \"744: cbc: cerebellar commissure\"],\n",
      "[749, \"749: VTA: Ventral tegmental area\"],\n",
      "[750, \"750: VISpl1: Posterolateral visual area, layer 1\"],\n",
      "[753, \"753: pm: principal mammillary tract\"],\n",
      "[754, \"754: OT: Olfactory tubercle\"],\n",
      "[755, \"755: AUDv2/3: Ventral auditory area, layer 2/3\"],\n",
      "[757, \"757: VTN: Ventral tegmental nucleus\"],\n",
      "[759, \"759: AUDpo4: Posterior auditory area, layer 4\"],\n",
      "[763, \"763: OV: Vascular organ of the lamina terminalis\"],\n",
      "[765, \"765: x: Nucleus x\"],\n",
      "[767, \"767: MOs5: Secondary motor area, layer 5\"],\n",
      "[771, \"771: P: Pons\"],\n",
      "[772, \"772: ACAv5: Anterior cingulate area, ventral part, layer 5\"],\n",
      "[773, \"773: XII: Hypoglossal nucleus\"],\n",
      "[774, \"774: RSPagl5: Retrosplenial area, lateral agranular part, layer 5\"],\n",
      "[778, \"778: VISp5: Primary visual area, layer 5\"],\n",
      "[780, \"780: PA: Posterior amygdalar nucleus\"],\n",
      "[781, \"781: y: Nucleus y\"],\n",
      "[783, \"783: AId6a: Agranular insular area, dorsal part, layer 6a\"],\n",
      "[784, \"784: cst: corticospinal tract\"],\n",
      "[786, \"786: TEa6b: Temporal association areas, layer 6b\"],\n",
      "[788, \"788: PAA: Piriform-amygdalar area\"],\n",
      "[791, \"791: AUDpo5: Posterior auditory area, layer 5\"],\n",
      "[794, \"794: sptV: spinal tract of the trigeminal nerve\"],\n",
      "[795, \"795: PAG: Periaqueductal gray\"],\n",
      "[797, \"797: ZI: Zona incerta\"],\n",
      "[798, \"798: VIIn: facial nerve\"],\n",
      "[800, \"800: AIv5: Agranular insular area, ventral part, layer 5\"],\n",
      "[802, \"802: sm: stria medullaris\"],\n",
      "[803, \"803: PAL: Pallidum\"],\n",
      "[804, \"804: FF: Fields of Forel\"],\n",
      "[805, \"805: VISpm1: posteromedial visual area, layer 1\"],\n",
      "[806, \"806: SSs2/3: Supplemental somatosensory area, layer 2/3\"],\n",
      "[810, \"810: ACAv6a: Anterior cingulate area, ventral part, 6a\"],\n",
      "[811, \"811: ICc: Inferior colliculus, central nucleus\"],\n",
      "[812, \"812: dscp: superior cerebellar peduncle decussation\"],\n",
      "[814, \"814: DP: Dorsal peduncular area\"],\n",
      "[816, \"816: AUDp4: Primary auditory area, layer 4\"],\n",
      "[819, \"819: ACAv6b: Anterior cingulate area, ventral part, 6b\"],\n",
      "[820, \"820: ICd: Inferior colliculus, dorsal nucleus\"],\n",
      "[821, \"821: VISp2/3: Primary visual area, layer 2/3\"],\n",
      "[827, \"827: ILA5: Infralimbic area, layer 5\"],\n",
      "[828, \"828: ICe: Inferior colliculus, external nucleus\"],\n",
      "[830, \"830: DMH: Dorsomedial nucleus of the hypothalamus\"],\n",
      "[831, \"831: AId6b: Agranular insular area, dorsal part, layer 6b\"],\n",
      "[832, \"832: IIIn: oculomotor nerve\"],\n",
      "[834, \"834: SCzo: Superior colliculus, zonal layer\"],\n",
      "[836, \"836: ECT1: Ectorhinal area/Layer 1\"],\n",
      "[838, \"838: SSp-n2/3: Primary somatosensory area, nose, layer 2/3\"],\n",
      "[839, \"839: DMX: Dorsal motor nucleus of the vagus nerve\"],\n",
      "[841, \"841: tb: trapezoid body\"],\n",
      "[842, \"842: SCsg: Superior colliculus, superficial gray layer\"],\n",
      "[843, \"843: PAR: Parasubiculum\"],\n",
      "[844, \"844: MOp6a: Primary motor area, Layer 6a\"],\n",
      "[846, \"846: DN: Dentate nucleus\"],\n",
      "[847, \"847: AUDp5: Primary auditory area, layer 5\"],\n",
      "[848, \"848: IIn: optic nerve\"],\n",
      "[849, \"849: VISC6b: Visceral area, layer 6b\"],\n",
      "[850, \"850: uf: uncinate fascicle\"],\n",
      "[851, \"851: SCop: Superior colliculus, optic layer\"],\n",
      "[852, \"852: PARN: Parvicellular reticular nucleus\"],\n",
      "[854, \"854: SSp-ul2/3: Primary somatosensory area, upper limb, layer 2/3\"],\n",
      "[857, \"857: VISC6a: Visceral area, layer 6a\"],\n",
      "[859, \"859: PAS: Parasolitary nucleus\"],\n",
      "[862, \"862: SSs6a: Supplemental somatosensory area, layer 6a\"],\n",
      "[863, \"863: rust: rubrospinal tract\"],\n",
      "[866, \"866: sctv: ventral spinocerebellar tract\"],\n",
      "[867, \"867: PB: Parabrachial nucleus\"],\n",
      "[869, \"869: VISpl4: Posterolateral visual area, layer 4\"],\n",
      "[872, \"872: DR: Dorsal nucleus raphe\"],\n",
      "[873, \"873: SSs1: Supplemental somatosensory area, layer 1\"],\n",
      "[874, \"874: PBG: Parabigeminal nucleus\"],\n",
      "[878, \"878: SSp-m1: Primary somatosensory area, mouth, layer 1\"],\n",
      "[880, \"880: DTN: Dorsal tegmental nucleus\"],\n",
      "[882, \"882: MOp6b: Primary motor area, Layer 6b\"],\n",
      "[884, \"884: amc: amygdalar capsule\"],\n",
      "[888, \"888: PERI2/3: Perirhinal area, layer 2/3\"],\n",
      "[889, \"889: SSp-n6a: Primary somatosensory area, nose, layer 6a\"],\n",
      "[893, \"893: SSs6b: Supplemental somatosensory area, layer 6b\"],\n",
      "[897, \"897: VISC1: Visceral area, layer 1\"],\n",
      "[898, \"898: PCG: Pontine central gray\"],\n",
      "[900, \"900: aco: anterior commissure, olfactory limb\"],\n",
      "[902, \"902: VISpl5: Posterolateral visual area, layer 5\"],\n",
      "[903, \"903: ECU: External cuneate nucleus\"],\n",
      "[905, \"905: VISal2/3: Anterolateral visual area, layer 2/3\"],\n",
      "[906, \"906: RSPagl6a: Retrosplenial area, lateral agranular part, layer 6a\"],\n",
      "[907, \"907: PCN: Paracentral nucleus\"],\n",
      "[908, \"908: act: anterior commissure, temporal limb\"],\n",
      "[910, \"910: ORBm6a: Orbital area, medial part, layer 6a\"],\n",
      "[911, \"911: IVn: trochlear nerve\"],\n",
      "[912, \"912: LING: Lingula (I)\"],\n",
      "[914, \"914: PD: Posterodorsal preoptic nucleus\"],\n",
      "[916, \"916: bsc: brachium of the superior colliculus\"],\n",
      "[919, \"919: ACAd6a: Anterior cingulate area, dorsal part, layer 6a\"],\n",
      "[924, \"924: cpd: cerebal peduncle\"],\n",
      "[927, \"927: ACAd6b: Anterior cingulate area, dorsal part, layer 6b\"],\n",
      "[929, \"929: SSp-n6b: Primary somatosensory area, nose, layer 6b\"],\n",
      "[930, \"930: PF: Parafascicular nucleus\"],\n",
      "[931, \"931: PG: Pontine gray\"],\n",
      "[935, \"935: ACAd1: Anterior cingulate area, dorsal part, layer 1\"],\n",
      "[936, \"936: DEC: Declive (VI)\"],\n",
      "[939, \"939: AMBd: Nucleus ambiguus, dorsal division\"],\n",
      "[940, \"940: cing: cingulum bundle\"],\n",
      "[943, \"943: MOp2/3: Primary motor area, Layer 2/3\"],\n",
      "[944, \"944: FOTU: Folium-tuber vermis (VII)\"],\n",
      "[945, \"945: SSp-ul6a: Primary somatosensory area, upper limb, layer 6a\"],\n",
      "[946, \"946: PH: Posterior hypothalamic nucleus\"],\n",
      "[949, \"949: von: vomeronasal nerve\"],\n",
      "[950, \"950: SSp-m4: Primary somatosensory area, mouth, layer 4\"],\n",
      "[951, \"951: PYR: Pyramus (VIII)\"],\n",
      "[952, \"952: EPd: Endopiriform nucleus, dorsal part\"],\n",
      "[954, \"954: AUDp6a: Primary auditory area, layer 6a\"],\n",
      "[955, \"955: LRNm: Lateral reticular nucleus, magnocellular part\"],\n",
      "[956, \"956: fa: corpus callosum, anterior forceps\"],\n",
      "[957, \"957: UVU: Uvula (IX)\"],\n",
      "[959, \"959: AUDv1: Ventral auditory area, layer 1\"],\n",
      "[961, \"961: PIR: Piriform area\"],\n",
      "[962, \"962: MOs2/3: Secondary motor area, layer 2/3\"],\n",
      "[963, \"963: LRNp: Lateral reticular nucleus, parvicellular part\"],\n",
      "[964, \"964: ee: corpus callosum, extreme capsule\"],\n",
      "[965, \"965: RSPagl2/3: Retrosplenial area, lateral agranular part, layer 2/3\"],\n",
      "[966, \"966: EPv: Endopiriform nucleus, ventral part\"],\n",
      "[968, \"968: NOD: Nodulus (X)\"],\n",
      "[969, \"969: ORBvl1: Orbital area, ventrolateral part, layer 1\"],\n",
      "[970, \"970: PGRNd: Paragigantocellular reticular nucleus, dorsal part\"],\n",
      "[971, \"971: fp: corpus callosum, posterior forceps\"],\n",
      "[973, \"973: VISl2/3: Lateral visual area, layer 2/3\"],\n",
      "[974, \"974: SSp-m5: Primary somatosensory area, mouth, layer 5\"],\n",
      "[975, \"975: EW: Edinger-Westphal nucleus\"],\n",
      "[976, \"976: CENT2: Lobule II\"],\n",
      "[977, \"977: ECT6a: Ectorhinal area/Layer 6a\"],\n",
      "[978, \"978: PGRNl: Paragigantocellular reticular nucleus, lateral part\"],\n",
      "[980, \"980: PMd: Dorsal premammillary nucleus\"],\n",
      "[981, \"981: SSp-bfd1: Primary somatosensory area, barrel field, layer 1\"],\n",
      "[982, \"982: FC: Fasciola cinerea\"],\n",
      "[984, \"984: CENT3: Lobule III\"],\n",
      "[986, \"986: ccs: corpus callosum, splenium\"],\n",
      "[988, \"988: ECT5: Ectorhinal area/Layer 5\"],\n",
      "[989, \"989: FN: Fastigial nucleus\"],\n",
      "[990, \"990: AUDv4: Ventral auditory area, layer 4\"],\n",
      "[996, \"996: AId1: Agranular insular area, dorsal part, layer 1\"],\n",
      "[997, \"997: root: root\"],\n",
      "[998, \"998: FS: Fundus of striatum\"],\n",
      "[1004, \"1004: PMv: Ventral premammillary nucleus\"],\n",
      "[1005, \"1005: AUDp6b: Primary auditory area, layer 6b\"],\n",
      "[1006, \"1006: SSp-tr1: Primary somatosensory area, trunk, layer 1\"],\n",
      "[1007, \"1007: SIM: Simple lobule\"],\n",
      "[1009, \"1009: fiber tracts: fiber tracts\"],\n",
      "[1010, \"1010: VISC4: Visceral area, layer 4\"],\n",
      "[1015, \"1015: ACAd5: Anterior cingulate area, dorsal part, layer 5\"],\n",
      "[1016, \"1016: onl: olfactory nerve layer of main olfactory bulb\"],\n",
      "[1020, \"1020: PO: Posterior complex of the thalamus\"],\n",
      "[1021, \"1021: MOs6a: Secondary motor area, layer 6a\"],\n",
      "[1022, \"1022: GPe: Globus pallidus, external segment\"],\n",
      "[1023, \"1023: AUDv5: Ventral auditory area, layer 5\"],\n",
      "[1025, \"1025: PRM: Paramedian lobule\"],\n",
      "[1026, \"1026: SSp-ul6b: Primary somatosensory area, upper limb, layer 6b\"],\n",
      "[1029, \"1029: POL: Posterior limiting nucleus of the thalamus\"],\n",
      "[1030, \"1030: SSp-ll1: Primary somatosensory area, lower limb, layer 1\"],\n",
      "[1031, \"1031: GPi: Globus pallidus, internal segment\"],\n",
      "[1033, \"1033: COPY: Copula pyramidis\"],\n",
      "[1035, \"1035: SSs4: Supplemental somatosensory area, layer 4\"],\n",
      "[1037, \"1037: POST: Postsubiculum\"],\n",
      "[1038, \"1038: SSp-bfd6a: Primary somatosensory area, barrel field, layer 6a\"],\n",
      "[1039, \"1039: GR: Gracile nucleus\"],\n",
      "[1041, \"1041: PFL: Paraflocculus\"],\n",
      "[1043, \"1043: tspc: crossed tectospinal pathway\"],\n",
      "[1044, \"1044: PP: Peripeduncular nucleus\"],\n",
      "[1045, \"1045: ECT6b: Ectorhinal area/Layer 6b\"],\n",
      "[1046, \"1046: VISam6a: Anteromedial visual area, layer 6a\"],\n",
      "[1047, \"1047: SSp-bfd4: Primary somatosensory area, barrel field, layer 4\"],\n",
      "[1048, \"1048: GRN: Gigantocellular reticular nucleus\"],\n",
      "[1049, \"1049: FL: Flocculus\"],\n",
      "[1051, \"1051: tspd: direct tectospinal pathway\"],\n",
      "[1052, \"1052: PPN: Pedunculopontine nucleus\"],\n",
      "[1054, \"1054: ILA6a: Infralimbic area, layer 6a\"],\n",
      "[1056, \"1056: ANcr1: Crus 1\"],\n",
      "[1058, \"1058: VISC5: Visceral area, layer 5\"],\n",
      "[1060, \"1060: dtd: doral tegmental decussation\"],\n",
      "[1061, \"1061: PPT: Posterior pretectal nucleus\"],\n",
      "[1062, \"1062: SSp-bfd6b: Primary somatosensory area, barrel field, layer 6b\"],\n",
      "[1064, \"1064: ANcr2: Crus 2\"],\n",
      "[1066, \"1066: VISam2/3: Anteromedial visual area, layer 2/3\"],\n",
      "[1069, \"1069: PPY: Parapyramidal nucleus\"],\n",
      "[1070, \"1070: SSp-bfd5: Primary somatosensory area, barrel field, layer 5\"],\n",
      "[1072, \"1072: MGd: Medial geniculate complex, dorsal part\"],\n",
      "[1074, \"1074: VISal1: Anterolateral visual area, layer 1\"],\n",
      "[1077, \"1077: PR: Perireunensis nucleus\"],\n",
      "[1079, \"1079: MGv: Medial geniculate complex, ventral part\"],\n",
      "[1081, \"1081: ILA6b: Infralimbic area, layer 6b\"],\n",
      "[1084, \"1084: PRE: Presubiculum\"],\n",
      "[1085, \"1085: MOs6b: Secondary motor area, layer 6b\"],\n",
      "[1086, \"1086: SSp-tr4: Primary somatosensory area, trunk, layer 4\"],\n",
      "[1088, \"1088: MGm: Medial geniculate complex, medial part\"],\n",
      "[1089, \"1089: HPF: Hippocampal formation\"],\n",
      "[1090, \"1090: SSs5: Supplemental somatosensory area, layer 5\"],\n",
      "[1091, \"1091: CUL4, 5: Lobules IV-V\"],\n",
      "[1092, \"1092: em: external medullary lamina of the thalamus\"],\n",
      "[1093, \"1093: PRNc: Pontine reticular nucleus, caudal part\"],\n",
      "[1094, \"1094: SSp-ll4: Primary somatosensory area, lower limb, layer 4\"],\n",
      "[1096, \"1096: AMd: Anteromedial nucleus, dorsal part\"],\n",
      "[1097, \"1097: HY: Hypothalamus\"],\n",
      "[1098, \"1098: MDRNd: Medullary reticular nucleus, dorsal part\"],\n",
      "[1101, \"1101: AId5: Agranular insular area, dorsal part, layer 5\"],\n",
      "[1102, \"1102: SSp-m6a: Primary somatosensory area, mouth, layer 6a\"],\n",
      "[1104, \"1104: AMv: Anteromedial nucleus, ventral part\"],\n",
      "[1105, \"1105: IA: Intercalated amygdalar nucleus\"],\n",
      "[1106, \"1106: VISC2/3: Visceral area, layer 2/3\"],\n",
      "[1107, \"1107: MDRNv: Medullary reticular nucleus, ventral part\"],\n",
      "[1108, \"1108: ccg: genu of corpus callosum\"],\n",
      "[1109, \"1109: PS: Parastrial nucleus\"],\n",
      "[1111, \"1111: SSp-tr5: Primary somatosensory area, trunk, layer 5\"],\n",
      "[1113, \"1113: IAD: Interanterodorsal nucleus of the thalamus\"],\n",
      "[1114, \"1114: VISal4: Anterolateral visual area, layer 4\"],\n",
      "[1116, \"1116: gVIIn: genu of the facial nerve\"],\n",
      "[1120, \"1120: IAM: Interanteromedial nucleus of the thalamus\"],\n",
      "[1121, \"1121: ENTl1: Entorhinal area, lateral part, layer 1\"],\n",
      "[1123, \"1123: icp: inferior cerebellar peduncle\"],\n",
      "[1125, \"1125: ORBvl5: Orbital area, ventrolateral part, layer 5\"],\n",
      "[1126, \"1126: TMd: Tuberomammillary nucleus, dorsal part\"],\n",
      "[1127, \"1127: TEa2/3: Temporal association areas, layer 2/3\"],\n",
      "[1128, \"1128: SSp-ll5: Primary somatosensory area, lower limb, layer 5\"],\n",
      "[1139, \"1139: NLOT3: Nucleus of the lateral olfactory tract, layer 3\"],\n",
      "[10671, \"10671: ME: Median eminence\"],\n",
      "[10703, \"10703: DG-mo: Dentate gyrus, molecular layer\"],\n",
      "[10704, \"10704: DG-po: Dentate gyrus, polymorph layer\"],\n",
      "[312782624, \"312782624: VISrl6b: Rostrolateral area, layer 6b\"],\n",
      "[484682496, \"484682496: ProSv-m: Prosubiculum, ventral part, molecular layer\"],\n",
      "[484682528, \"484682528: stc: commissural branch of stria terminalis\"],\n",
      "[496345664, \"496345664: LGd-sh: Dorsal part of the lateral geniculate complex, shell\"],\n"
     ]
    }
   ],
   "source": [
    "for ii in range(len(IDs)):\n",
    "    ID=IDs[ii]\n",
    "    name=names[ii]\n",
    "    acronym=acronyms[ii]\n",
    "    line = f'[{ID}, \"{ID}: {acronym}: {name}\"],'\n",
    "    print(line)"
   ]
  },
  {
   "cell_type": "markdown",
   "metadata": {},
   "source": [
    "## Step 1: Convert the CSV annotation file into JSON file that Neuroglancer can read"
   ]
  },
  {
   "cell_type": "code",
   "execution_count": 2,
   "metadata": {},
   "outputs": [],
   "source": [
    "def make_annotation_json_file(csv_input_file):\n",
    "    \"\"\" Take a csv file of the format of labels_v3.csv \n",
    "    containing the MRI atlas labels and converts it to a \n",
    "    JSON file so that Neuroglancer can read it in\n",
    "    \n",
    "    The JSON file will be saved with the same filename as \n",
    "    the CSV file but with .json extension instead of .csv\n",
    "    \"\"\"\n",
    "    annotation_json_file = csv_input_file.replace('.csv','.json')\n",
    "\n",
    "    with open(csv_input_file,'r') as infile:\n",
    "        reader = csv.reader(infile)\n",
    "        next(reader) # skips the header since we just want the data and we already know what the order of the columns is\n",
    "        annotation_dict = {row[2]:row[1] for row in reader}\n",
    "        annotation_dict_list = [{f\"regionId\":key,\"regionName\":f\"{key}: {annotation_dict[key]}\"} for key in annotation_dict.keys()]\n",
    "    with open(annotation_json_file,'w') as outfile:\n",
    "        outfile.write(\n",
    "            '[' +\n",
    "            ',\\n'.join(json.dumps(i) for i in annotation_dict_list) +\n",
    "            ']\\n')\n",
    "    # Now move the annotation file to the layer directory\n",
    "    annotation_rel_path = annotation_json_file.split('/')[-1]\n",
    "    dst = os.path.join(layer_dir,annotation_rel_path)\n",
    "    os.rename(annotation_json_file,dst)\n",
    "    print(f\"Wrote file {dst}\")\n",
    "    return dst"
   ]
  },
  {
   "cell_type": "code",
   "execution_count": 3,
   "metadata": {},
   "outputs": [
    {
     "name": "stdout",
     "output_type": "stream",
     "text": [
      "Wrote file /home/ahoag/progs/brodylab/atlas/my_custom_atlas1/labels_v3.json\n"
     ]
    }
   ],
   "source": [
    "# run the function to convert to JSON\n",
    "annotation_json_fullpath=make_annotation_json_file(annotation_csv_file)"
   ]
  },
  {
   "cell_type": "markdown",
   "metadata": {},
   "source": [
    "## Step 2: Write the instructions (\"info\") file that will tell Neuroglancer about your annotation volume and the annotation label file you just created\n",
    "The info file is a required file for the precomputed data format. It is a JSON file containing things like the shape and physical resolution of your volume, and it will also be where we tell it to read in our labels for the different anatomical regions"
   ]
  },
  {
   "cell_type": "code",
   "execution_count": 4,
   "metadata": {},
   "outputs": [],
   "source": [
    "def make_info_file(resolution_xyz,volume_size_xyz,annotation_filename,layer_dir):\n",
    "    \"\"\" Make an JSON-formatted file called the \"info\" file\n",
    "    for use with the precomputed data format. \n",
    "    Precomputed is one of the formats that Neuroglancer can read in.  \n",
    "    --- parameters ---\n",
    "    resolution_xyz:      A tuple representing the size of the pixels (dx,dy,dz) \n",
    "                         in nanometers, e.g. (20000,20000,5000) for 20 micron x 20 micron x 5 micron\n",
    "    \n",
    "    volume_size_xyz:     A tuple representing the number of pixels in each dimension (Nx,Ny,Nz)\n",
    "    \n",
    "    annotation_filename: The relative path (from layer_dir) to the JSON-formatted file\n",
    "                         that we created above containing the labels of the different regions.\n",
    "                         \n",
    "    layer_dir:           The directory where the precomputed data will be\n",
    "                         saved\n",
    "    \"\"\"\n",
    "    info = CloudVolume.create_new_info(\n",
    "        num_channels = 1,\n",
    "        layer_type = 'segmentation', # 'image' or 'segmentation'\n",
    "        data_type = 'uint16', # 32 not necessary for atlases unless you have > 2^(32)-1 labels  \n",
    "        encoding = 'raw', # other options: 'jpeg', 'compressed_segmentation' (req. uint32 or uint64)\n",
    "        resolution = resolution_xyz, # X,Y,Z values in nanometers, 40 microns in each dim\n",
    "        voxel_offset = [ 0, 0, 0 ], # values X,Y,Z values in voxels\n",
    "        chunk_size = [ 1024, 1024, 1 ], # rechunk of image X,Y,Z in voxels.\n",
    "        volume_size = volume_size_xyz, # X,Y,Z size in voxels\n",
    "    )\n",
    "\n",
    "    vol = CloudVolume(f'file://{layer_dir}', info=info)\n",
    "    vol.provenance.description = \"A test info file\" # can change this if you want a description\n",
    "    vol.provenance.owners = [''] # list of contact email addresses\n",
    "    # Saves the info and provenance files for the first time\n",
    "    vol.commit_info() # generates file://bucket/dataset/layer/info json file\n",
    "    vol.commit_provenance() # generates file://bucket/dataset/layer/provenance json file\n",
    "    # add a key for the custom atlas annotations to the info file and overwrite it \n",
    "    info_dict = vol.info\n",
    "    info_dict['atlas_path'] = annotation_filename\n",
    "    info_filename = '/'.join(vol.info_cloudpath.split('/')[2:]) \n",
    "    with open(info_filename,'w') as outfile:\n",
    "        json.dump(info_dict,outfile,sort_keys=True,indent=2)\n",
    "    print(\"Created CloudVolume info file: \",vol.info_cloudpath)\n",
    "\n",
    "    return vol"
   ]
  },
  {
   "cell_type": "code",
   "execution_count": 5,
   "metadata": {},
   "outputs": [
    {
     "name": "stdout",
     "output_type": "stream",
     "text": [
      "Created CloudVolume info file:  file:///home/ahoag/progs/brodylab/atlas/my_custom_atlas1/info\n"
     ]
    }
   ],
   "source": [
    "## Make the info file\n",
    "\n",
    "# The MRI atlas has 39 micron isotropic resolution - we need nanometers though\n",
    "resolution_xyz = (39000,39000,39000)\n",
    "# Load the MRI annotation volume into memory and get its shape \n",
    "annotation_vol = np.array(sitk.GetArrayFromImage(\n",
    "    sitk.ReadImage(custom_annotation_vol_path)),dtype=np.uint16,order='F')\n",
    "z_dim,y_dim,x_dim = annotation_vol.shape\n",
    "volume_size_xyz = (x_dim,y_dim,z_dim)\n",
    "\n",
    "# Now get the relative path to the annotation file\n",
    "annotation_json_relpath = annotation_json_fullpath.split('/')[-1]\n",
    "\n",
    "# Write the info file\n",
    "vol = make_info_file(\n",
    "    resolution_xyz=resolution_xyz,\n",
    "    volume_size_xyz=volume_size_xyz,\n",
    "    annotation_filename=annotation_json_relpath,\n",
    "    layer_dir=layer_dir)\n"
   ]
  },
  {
   "cell_type": "markdown",
   "metadata": {},
   "source": [
    "# Step 3: Convert annotation volume to precomputed data format\n",
    "First we create a directory (the \"progress_dir\") at the same folder level as the layer directory to keep track of the progress of the conversion. \n",
    "All the conversion does is copy the numpy array representing the 3d volume to a new object \"vol\". This is done one plane at a time (although it is parallelized). As each plane is converted, an empty file is created in the progress_dir with the name of the plane. By the end of the conversion, there should be as many files in this progress_dir as there are z planes. "
   ]
  },
  {
   "cell_type": "code",
   "execution_count": 6,
   "metadata": {},
   "outputs": [
    {
     "name": "stdout",
     "output_type": "stream",
     "text": [
      "created directory: /home/ahoag/progs/brodylab/atlas/progress_my_custom_atlas1\n"
     ]
    }
   ],
   "source": [
    "layer_name = layer_dir.split('/')[-1]\n",
    "parent_dir = '/'.join(layer_dir.split('/')[:-1])\n",
    "# print(parent_dir)\n",
    "progress_dir = mkdir(parent_dir+ f'/progress_{layer_name}') # unlike os.mkdir doesn't crash on prexisting \n",
    "print(f\"created directory: {progress_dir}\")"
   ]
  },
  {
   "cell_type": "code",
   "execution_count": 7,
   "metadata": {},
   "outputs": [],
   "source": [
    "def process_slice(z):\n",
    "    \"\"\" This function copies a 2d image slice from the atlas volume\n",
    "    to the cloudvolume object, vol. We will run this in parallel over \n",
    "    all z planes\n",
    "    ---parameters---\n",
    "    z:    An integer representing the 0-indexed z plane to be converted\n",
    "    \"\"\"\n",
    "    if os.path.exists(os.path.join(progress_dir, str(z))):\n",
    "        print(f\"Slice {z} already processed, skipping \")\n",
    "        return\n",
    "    if z >= z_dim: # z is zero indexed and runs from 0-(z_dim-1)\n",
    "        print(\"Index {z} >= z_dim of volume, skipping\")\n",
    "        return\n",
    "    print('Processing slice z=',z)\n",
    "    array = annotation_vol[z].reshape((1,y_dim,x_dim)).T\n",
    "    vol[:,:, z] = array\n",
    "    touch(os.path.join(progress_dir, str(z)))\n",
    "    return \"success\"\n"
   ]
  },
  {
   "cell_type": "code",
   "execution_count": 8,
   "metadata": {},
   "outputs": [
    {
     "name": "stdout",
     "output_type": "stream",
     "text": [
      "Have 455 planes to upload\n",
      "Processing slice z= 0\n",
      "Processing slice z= 1\n",
      "Processing slice z= 6\n",
      "Processing slice z= 2\n",
      "Processing slice z= 4\n",
      "Processing slice z= 3\n",
      "Processing slice z= 5\n",
      "Processing slice z= 7\n"
     ]
    },
    {
     "name": "stderr",
     "output_type": "stream",
     "text": [
      "Uploading:   0%|          | 0/1 [00:00<?, ?it/s]\n",
      "Uploading:   0%|          | 0/1 [00:00<?, ?it/s]\u001b[A\n",
      "Uploading:   0%|          | 0/1 [00:00<?, ?it/s]\u001b[A\n",
      "Uploading:   0%|          | 0/1 [00:00<?, ?it/s]\u001b[A\n",
      "Uploading:   0%|          | 0/1 [00:00<?, ?it/s]\u001b[A\n",
      "Uploading:   0%|          | 0/1 [00:00<?, ?it/s]\u001b[A\n",
      "Uploading:   0%|          | 0/1 [00:00<?, ?it/s]\u001b[A\n",
      "Uploading: 100%|██████████| 1/1 [00:00<00:00, 57.06it/s]\n",
      "\n",
      "Uploading: 100%|██████████| 1/1 [00:00<00:00, 52.62it/s]\n",
      "Uploading: 100%|██████████| 1/1 [00:00<00:00, 57.04it/s]\n",
      "Uploading: 100%|██████████| 1/1 [00:00<00:00, 59.09it/s]\n",
      "Uploading: 100%|██████████| 1/1 [00:00<00:00, 64.23it/s]\n",
      "Uploading: 100%|██████████| 1/1 [00:00<00:00, 63.37it/s]\n",
      "Uploading:   0%|          | 0/1 [00:00<?, ?it/s]\n",
      "Uploading: 100%|██████████| 1/1 [00:00<00:00, 61.51it/s]\n",
      "Uploading:   0%|          | 0/1 [00:00<?, ?it/s]\n",
      "Uploading:   0%|          | 0/1 [00:00<?, ?it/s]\n",
      "Uploading: 100%|██████████| 1/1 [00:00<00:00, 57.49it/s]\n",
      "Uploading:   0%|          | 0/1 [00:00<?, ?it/s]"
     ]
    },
    {
     "name": "stdout",
     "output_type": "stream",
     "text": [
      "Processing slice z= 8\n"
     ]
    },
    {
     "name": "stderr",
     "output_type": "stream",
     "text": [
      "\n",
      "Uploading:   0%|          | 0/1 [00:00<?, ?it/s]\n",
      "Uploading:   0%|          | 0/1 [00:00<?, ?it/s]"
     ]
    },
    {
     "name": "stdout",
     "output_type": "stream",
     "text": [
      "Processing slice z= 9\n"
     ]
    },
    {
     "name": "stderr",
     "output_type": "stream",
     "text": [
      "\n"
     ]
    },
    {
     "name": "stdout",
     "output_type": "stream",
     "text": [
      "Processing slice z= 10\n"
     ]
    },
    {
     "name": "stderr",
     "output_type": "stream",
     "text": [
      "Uploading:   0%|          | 0/1 [00:00<?, ?it/s]\n",
      "Uploading:   0%|          | 0/1 [00:00<?, ?it/s]\n"
     ]
    },
    {
     "name": "stdout",
     "output_type": "stream",
     "text": [
      "Processing slice z= 11\n",
      "Processing slice z= 12\n",
      "Processing slice z= 13\n",
      "Processing slice z= 14\n",
      "Processing slice z= 15\n"
     ]
    },
    {
     "name": "stderr",
     "output_type": "stream",
     "text": [
      "Uploading:   0%|          | 0/1 [00:00<?, ?it/s]\n",
      "Uploading:   0%|          | 0/1 [00:00<?, ?it/s]\u001b[A\n",
      "Uploading:   0%|          | 0/1 [00:00<?, ?it/s]\u001b[A"
     ]
    },
    {
     "name": "stdout",
     "output_type": "stream",
     "text": [
      "success\n",
      "success\n",
      "success\n",
      "success\n",
      "success\n",
      "success\n",
      "success\n",
      "success\n"
     ]
    },
    {
     "name": "stderr",
     "output_type": "stream",
     "text": [
      "\n",
      "Uploading:   0%|          | 0/1 [00:00<?, ?it/s]\u001b[A\n",
      "Uploading:   0%|          | 0/1 [00:00<?, ?it/s]\u001b[A\n",
      "Uploading:   0%|          | 0/1 [00:00<?, ?it/s]\u001b[A\n",
      "Uploading: 100%|██████████| 1/1 [00:00<00:00, 49.79it/s]\n",
      "\n",
      "Uploading:   0%|          | 0/1 [00:00<?, ?it/s]\u001b[A\n",
      "Uploading: 100%|██████████| 1/1 [00:00<00:00, 43.24it/s]\n",
      "Uploading:   0%|          | 0/1 [00:00<?, ?it/s]\n",
      "Uploading: 100%|██████████| 1/1 [00:00<00:00, 53.28it/s]\n",
      "Uploading: 100%|██████████| 1/1 [00:00<00:00, 67.55it/s]\n",
      "Uploading: 100%|██████████| 1/1 [00:00<00:00, 69.80it/s]\n",
      "Uploading: 100%|██████████| 1/1 [00:00<00:00, 78.88it/s]\n"
     ]
    },
    {
     "name": "stdout",
     "output_type": "stream",
     "text": [
      "Processing slice z= 16\n"
     ]
    },
    {
     "name": "stderr",
     "output_type": "stream",
     "text": [
      "Uploading:   0%|          | 0/1 [00:00<?, ?it/s]\n",
      "Uploading: 100%|██████████| 1/1 [00:00<00:00, 28.79it/s]\n",
      "Uploading:   0%|          | 0/1 [00:00<?, ?it/s]\n",
      "Uploading: 100%|██████████| 1/1 [00:00<00:00, 54.97it/s]\n",
      "Uploading:   0%|          | 0/1 [00:00<?, ?it/s]"
     ]
    },
    {
     "name": "stdout",
     "output_type": "stream",
     "text": [
      "Processing slice z= 17\n"
     ]
    },
    {
     "name": "stderr",
     "output_type": "stream",
     "text": [
      "\n",
      "Uploading:   0%|          | 0/1 [00:00<?, ?it/s]\n",
      "Uploading:   0%|          | 0/1 [00:00<?, ?it/s]\n"
     ]
    },
    {
     "name": "stdout",
     "output_type": "stream",
     "text": [
      "Processing slice z= 18\n"
     ]
    },
    {
     "name": "stderr",
     "output_type": "stream",
     "text": [
      "Uploading:   0%|          | 0/1 [00:00<?, ?it/s]\n"
     ]
    },
    {
     "name": "stdout",
     "output_type": "stream",
     "text": [
      "Processing slice z= 19\n"
     ]
    },
    {
     "name": "stderr",
     "output_type": "stream",
     "text": [
      "\r",
      "Uploading:   0%|          | 0/1 [00:00<?, ?it/s]"
     ]
    },
    {
     "name": "stdout",
     "output_type": "stream",
     "text": [
      "Processing slice z= 20\n"
     ]
    },
    {
     "name": "stderr",
     "output_type": "stream",
     "text": [
      "\n",
      "Uploading:   0%|          | 0/1 [00:00<?, ?it/s]"
     ]
    },
    {
     "name": "stdout",
     "output_type": "stream",
     "text": [
      "Processing slice z= 21\n",
      "Processing slice z= 22\n"
     ]
    },
    {
     "name": "stderr",
     "output_type": "stream",
     "text": [
      "\n"
     ]
    },
    {
     "name": "stdout",
     "output_type": "stream",
     "text": [
      "Processing slice z= 23\n"
     ]
    },
    {
     "name": "stderr",
     "output_type": "stream",
     "text": [
      "Uploading:   0%|          | 0/1 [00:00<?, ?it/s]\u001b[A\n",
      "Uploading: 100%|██████████| 1/1 [00:00<00:00, 67.32it/s]\n",
      "Uploading:   0%|          | 0/1 [00:00<?, ?it/s]\n",
      "Uploading:   0%|          | 0/1 [00:00<?, ?it/s]\u001b[A\n",
      "Uploading:   0%|          | 0/1 [00:00<?, ?it/s]\u001b[A\n",
      "\n",
      "Uploading:   0%|          | 0/1 [00:00<?, ?it/s]\u001b[A\n",
      "Uploading:   0%|          | 0/1 [00:00<?, ?it/s]\u001b[A\n",
      "Uploading:   0%|          | 0/1 [00:00<?, ?it/s]\u001b[A\n",
      "Uploading: 100%|██████████| 1/1 [00:00<00:00, 48.09it/s]\n",
      "Uploading: 100%|██████████| 1/1 [00:00<00:00, 107.93it/s]"
     ]
    },
    {
     "name": "stdout",
     "output_type": "stream",
     "text": [
      "Processing slice z= 24\n"
     ]
    },
    {
     "name": "stderr",
     "output_type": "stream",
     "text": [
      "\n",
      "Uploading: 100%|██████████| 1/1 [00:00<00:00, 49.37it/s]\n",
      "Uploading: 100%|██████████| 1/1 [00:00<00:00, 58.63it/s]\n",
      "Uploading: 100%|██████████| 1/1 [00:00<00:00, 92.53it/s]\n",
      "Uploading: 100%|██████████| 1/1 [00:00<00:00, 68.57it/s]\n",
      "Uploading:   0%|          | 0/1 [00:00<?, ?it/s]\n",
      "Uploading:   0%|          | 0/1 [00:00<?, ?it/s]\n",
      "Uploading: 100%|██████████| 1/1 [00:00<00:00, 63.42it/s]\n",
      "Uploading:   0%|          | 0/1 [00:00<?, ?it/s]\n",
      "Uploading:   0%|          | 0/1 [00:00<?, ?it/s]\n",
      "Uploading:   0%|          | 0/1 [00:00<?, ?it/s]\n"
     ]
    },
    {
     "name": "stdout",
     "output_type": "stream",
     "text": [
      "Processing slice z= 25\n"
     ]
    },
    {
     "name": "stderr",
     "output_type": "stream",
     "text": [
      "Uploading:   0%|          | 0/1 [00:00<?, ?it/s]\n",
      "Uploading:   0%|          | 0/1 [00:00<?, ?it/s]"
     ]
    },
    {
     "name": "stdout",
     "output_type": "stream",
     "text": [
      "Processing slice z= 26\n"
     ]
    },
    {
     "name": "stderr",
     "output_type": "stream",
     "text": [
      "\n"
     ]
    },
    {
     "name": "stdout",
     "output_type": "stream",
     "text": [
      "Processing slice z= 27\n"
     ]
    },
    {
     "name": "stderr",
     "output_type": "stream",
     "text": [
      "\n",
      "Uploading: 100%|██████████| 1/1 [00:00<00:00, 77.65it/s]"
     ]
    },
    {
     "name": "stdout",
     "output_type": "stream",
     "text": [
      "Processing slice z= 28\n"
     ]
    },
    {
     "name": "stderr",
     "output_type": "stream",
     "text": [
      "\n"
     ]
    },
    {
     "name": "stdout",
     "output_type": "stream",
     "text": [
      "Processing slice z= 29\n",
      "Processing slice z= 30\n",
      "Processing slice z= 31\n"
     ]
    },
    {
     "name": "stderr",
     "output_type": "stream",
     "text": [
      "Uploading:   0%|          | 0/1 [00:00<?, ?it/s]\n",
      "\n",
      "Uploading:   0%|          | 0/1 [00:00<?, ?it/s]\u001b[A"
     ]
    },
    {
     "name": "stdout",
     "output_type": "stream",
     "text": [
      "success\n",
      "success\n",
      "success\n",
      "success\n",
      "success\n",
      "success\n",
      "success\n",
      "success\n",
      "success\n",
      "success\n",
      "success\n",
      "success\n",
      "success\n",
      "success\n",
      "success\n",
      "success\n"
     ]
    },
    {
     "name": "stderr",
     "output_type": "stream",
     "text": [
      "Uploading:   0%|          | 0/1 [00:00<?, ?it/s]"
     ]
    },
    {
     "name": "stdout",
     "output_type": "stream",
     "text": [
      "Processing slice z= 32\n"
     ]
    },
    {
     "name": "stderr",
     "output_type": "stream",
     "text": [
      "\n",
      "Uploading:   0%|          | 0/1 [00:00<?, ?it/s]\u001b[A\n",
      "Uploading:   0%|          | 0/1 [00:00<?, ?it/s]\u001b[A\n",
      "Uploading:   0%|          | 0/1 [00:00<?, ?it/s]\u001b[A\n",
      "Uploading: 100%|██████████| 1/1 [00:00<00:00, 74.07it/s]\n",
      "\n",
      "Uploading: 100%|██████████| 1/1 [00:00<00:00, 52.60it/s]\n",
      "Uploading: 100%|██████████| 1/1 [00:00<00:00, 92.34it/s]\n",
      "\n",
      "Uploading:   0%|          | 0/1 [00:00<?, ?it/s]\u001b[A\n",
      "Uploading: 100%|██████████| 1/1 [00:00<00:00, 58.38it/s]\n",
      "Uploading: 100%|██████████| 1/1 [00:00<00:00, 59.40it/s]\n",
      "Uploading:   0%|          | 0/1 [00:00<?, ?it/s]\n",
      "Uploading: 100%|██████████| 1/1 [00:00<00:00, 51.77it/s]\n",
      "Uploading:   0%|          | 0/1 [00:00<?, ?it/s]\n",
      "Uploading:   0%|          | 0/1 [00:00<?, ?it/s]\n",
      "Uploading: 100%|██████████| 1/1 [00:00<00:00, 50.16it/s]\n",
      "Uploading:   0%|          | 0/1 [00:00<?, ?it/s]\n",
      "Uploading: 100%|██████████| 1/1 [00:00<00:00, 64.11it/s]\n"
     ]
    },
    {
     "name": "stdout",
     "output_type": "stream",
     "text": [
      "Processing slice z= 33\n"
     ]
    },
    {
     "name": "stderr",
     "output_type": "stream",
     "text": [
      "Uploading:   0%|          | 0/1 [00:00<?, ?it/s]\n",
      "Uploading:   0%|          | 0/1 [00:00<?, ?it/s]\n",
      "Uploading:   0%|          | 0/1 [00:00<?, ?it/s]"
     ]
    },
    {
     "name": "stdout",
     "output_type": "stream",
     "text": [
      "Processing slice z= 34\n"
     ]
    },
    {
     "name": "stderr",
     "output_type": "stream",
     "text": [
      "\n"
     ]
    },
    {
     "name": "stdout",
     "output_type": "stream",
     "text": [
      "Processing slice z= 35\n"
     ]
    },
    {
     "name": "stderr",
     "output_type": "stream",
     "text": [
      "Uploading:   0%|          | 0/1 [00:00<?, ?it/s]\n"
     ]
    },
    {
     "name": "stdout",
     "output_type": "stream",
     "text": [
      "Processing slice z= 36\n",
      "Processing slice z= 37\n",
      "Processing slice z= 38\n"
     ]
    },
    {
     "name": "stderr",
     "output_type": "stream",
     "text": [
      "\r",
      "Uploading:   0%|          | 0/1 [00:00<?, ?it/s]"
     ]
    },
    {
     "name": "stdout",
     "output_type": "stream",
     "text": [
      "Processing slice z= 40\n",
      "Processing slice z= 39\n"
     ]
    },
    {
     "name": "stderr",
     "output_type": "stream",
     "text": [
      "\n"
     ]
    },
    {
     "name": "stdout",
     "output_type": "stream",
     "text": [
      "success\n",
      "success\n",
      "success\n",
      "success\n",
      "success\n",
      "success\n",
      "success\n",
      "success\n",
      "success\n"
     ]
    },
    {
     "name": "stderr",
     "output_type": "stream",
     "text": [
      "Uploading: 100%|██████████| 1/1 [00:00<00:00, 83.63it/s]\n",
      "Uploading:   0%|          | 0/1 [00:00<?, ?it/s]\n",
      "Uploading:   0%|          | 0/1 [00:00<?, ?it/s]\u001b[A\n",
      "Uploading:   0%|          | 0/1 [00:00<?, ?it/s]\u001b[A\n",
      "Uploading:   0%|          | 0/1 [00:00<?, ?it/s]\u001b[A\n",
      "Uploading:   0%|          | 0/1 [00:00<?, ?it/s]\u001b[A\n",
      "Uploading:   0%|          | 0/1 [00:00<?, ?it/s]\u001b[A\n",
      "Uploading:   0%|          | 0/1 [00:00<?, ?it/s]\u001b[A\n",
      "Uploading:   0%|          | 0/1 [00:00<?, ?it/s]\u001b[A\n",
      "Uploading: 100%|██████████| 1/1 [00:00<00:00, 44.36it/s]\n",
      "Uploading: 100%|██████████| 1/1 [00:00<00:00, 56.18it/s]\n",
      "Uploading: 100%|██████████| 1/1 [00:00<00:00, 63.61it/s]\n",
      "Uploading: 100%|██████████| 1/1 [00:00<00:00, 72.51it/s]\n"
     ]
    },
    {
     "name": "stdout",
     "output_type": "stream",
     "text": [
      "Processing slice z= 41\n"
     ]
    },
    {
     "name": "stderr",
     "output_type": "stream",
     "text": [
      "Uploading: 100%|██████████| 1/1 [00:00<00:00, 98.69it/s]\n",
      "Uploading: 100%|██████████| 1/1 [00:00<00:00, 67.82it/s]\n",
      "Uploading:   0%|          | 0/1 [00:00<?, ?it/s]\n",
      "Uploading: 100%|██████████| 1/1 [00:00<00:00, 75.72it/s]\n",
      "Uploading:   0%|          | 0/1 [00:00<?, ?it/s]\n",
      "Uploading:   0%|          | 0/1 [00:00<?, ?it/s]\n",
      "Uploading:   0%|          | 0/1 [00:00<?, ?it/s]\n",
      "Uploading:   0%|          | 0/1 [00:00<?, ?it/s]\n"
     ]
    },
    {
     "name": "stdout",
     "output_type": "stream",
     "text": [
      "Processing slice z= 42\n"
     ]
    },
    {
     "name": "stderr",
     "output_type": "stream",
     "text": [
      "\r",
      "Uploading:   0%|          | 0/1 [00:00<?, ?it/s]"
     ]
    },
    {
     "name": "stdout",
     "output_type": "stream",
     "text": [
      "Processing slice z= 43\n"
     ]
    },
    {
     "name": "stderr",
     "output_type": "stream",
     "text": [
      "\n",
      "Uploading:   0%|          | 0/1 [00:00<?, ?it/s]\n"
     ]
    },
    {
     "name": "stdout",
     "output_type": "stream",
     "text": [
      "Processing slice z= 44\n"
     ]
    },
    {
     "name": "stderr",
     "output_type": "stream",
     "text": [
      "Uploading:   0%|          | 0/1 [00:00<?, ?it/s]\n",
      "Uploading:   0%|          | 0/1 [00:00<?, ?it/s]\u001b[A"
     ]
    },
    {
     "name": "stdout",
     "output_type": "stream",
     "text": [
      "Processing slice z= 45\n",
      "Processing slice z= 46\n",
      "Processing slice z= 47\n",
      "Processing slice z= 48\n"
     ]
    },
    {
     "name": "stderr",
     "output_type": "stream",
     "text": [
      "Uploading:   0%|          | 0/1 [00:00<?, ?it/s]\n",
      "Uploading: 100%|██████████| 1/1 [00:00<00:00, 132.28it/s]\n",
      "Uploading:   0%|          | 0/1 [00:00<?, ?it/s]\n",
      "Uploading: 100%|██████████| 1/1 [00:00<00:00, 43.45it/s]\n",
      "\n",
      "Uploading: 100%|██████████| 1/1 [00:00<00:00, 71.86it/s]\n",
      "Uploading:   0%|          | 0/1 [00:00<?, ?it/s]\n",
      "Uploading:   0%|          | 0/1 [00:00<?, ?it/s]\u001b[A\n",
      "\n",
      "Uploading:   0%|          | 0/1 [00:00<?, ?it/s]\u001b[A\n",
      "Uploading:   0%|          | 0/1 [00:00<?, ?it/s]\u001b[A\n",
      "\n"
     ]
    },
    {
     "name": "stdout",
     "output_type": "stream",
     "text": [
      "Processing slice z= 49\n"
     ]
    },
    {
     "name": "stderr",
     "output_type": "stream",
     "text": [
      "Uploading: 100%|██████████| 1/1 [00:00<00:00, 45.00it/s]\n",
      "Uploading:   0%|          | 0/1 [00:00<?, ?it/s]\n"
     ]
    },
    {
     "name": "stdout",
     "output_type": "stream",
     "text": [
      "Processing slice z= 50\n"
     ]
    },
    {
     "name": "stderr",
     "output_type": "stream",
     "text": [
      "Uploading:   0%|          | 0/1 [00:00<?, ?it/s]\n",
      "Uploading: 100%|██████████| 1/1 [00:00<00:00, 46.89it/s]\n"
     ]
    },
    {
     "name": "stdout",
     "output_type": "stream",
     "text": [
      "Processing slice z= 51\n",
      "Processing slice z= 52\n"
     ]
    },
    {
     "name": "stderr",
     "output_type": "stream",
     "text": [
      "Uploading: 100%|██████████| 1/1 [00:00<00:00, 42.66it/s]\n",
      "Uploading: 100%|██████████| 1/1 [00:00<00:00, 36.98it/s]"
     ]
    },
    {
     "name": "stdout",
     "output_type": "stream",
     "text": [
      "success\n",
      "success\n",
      "success\n",
      "success\n",
      "success\n",
      "success\n",
      "success\n",
      "success\n",
      "success\n",
      "success\n",
      "success\n",
      "success\n"
     ]
    },
    {
     "name": "stderr",
     "output_type": "stream",
     "text": [
      "\n",
      "Uploading: 100%|██████████| 1/1 [00:00<00:00, 46.41it/s]\n",
      "Uploading:   0%|          | 0/1 [00:00<?, ?it/s]\n",
      "\n",
      "Uploading:   0%|          | 0/1 [00:00<?, ?it/s]\u001b[A\n",
      "Uploading:   0%|          | 0/1 [00:00<?, ?it/s]\n"
     ]
    },
    {
     "name": "stdout",
     "output_type": "stream",
     "text": [
      "Processing slice z= 53\n"
     ]
    },
    {
     "name": "stderr",
     "output_type": "stream",
     "text": [
      "Uploading:   0%|          | 0/1 [00:00<?, ?it/s]\n",
      "\n",
      "Uploading:   0%|          | 0/1 [00:00<?, ?it/s]\u001b[A"
     ]
    },
    {
     "name": "stdout",
     "output_type": "stream",
     "text": [
      "Processing slice z= 54\n"
     ]
    },
    {
     "name": "stderr",
     "output_type": "stream",
     "text": [
      "Uploading:   0%|          | 0/1 [00:00<?, ?it/s]"
     ]
    },
    {
     "name": "stdout",
     "output_type": "stream",
     "text": [
      "Processing slice z= 56\n",
      "Processing slice z= 55\n"
     ]
    },
    {
     "name": "stderr",
     "output_type": "stream",
     "text": [
      "\n",
      "Uploading:   0%|          | 0/1 [00:00<?, ?it/s]\u001b[A\n",
      "Uploading: 100%|██████████| 1/1 [00:00<00:00, 38.32it/s]\n",
      "Uploading: 100%|██████████| 1/1 [00:00<00:00, 48.76it/s]\n",
      "Uploading:   0%|          | 0/1 [00:00<?, ?it/s]\n",
      "Uploading:   0%|          | 0/1 [00:00<?, ?it/s]\n",
      "Uploading:   0%|          | 0/1 [00:00<?, ?it/s]\u001b[A\n",
      "Uploading:   0%|          | 0/1 [00:00<?, ?it/s]\u001b[A\n",
      "Uploading:   0%|          | 0/1 [00:00<?, ?it/s]\u001b[A"
     ]
    },
    {
     "name": "stdout",
     "output_type": "stream",
     "text": [
      "Processing slice z= 57\n"
     ]
    },
    {
     "name": "stderr",
     "output_type": "stream",
     "text": [
      "Uploading:   0%|          | 0/1 [00:00<?, ?it/s]\n",
      "Uploading:   0%|          | 0/1 [00:00<?, ?it/s]\u001b[A\n",
      "Uploading: 100%|██████████| 1/1 [00:00<00:00, 80.63it/s]\n",
      "\n",
      "Uploading: 100%|██████████| 1/1 [00:00<00:00, 48.04it/s]\n",
      "Uploading:   0%|          | 0/1 [00:00<?, ?it/s]\n",
      "Uploading: 100%|██████████| 1/1 [00:00<00:00, 45.67it/s]\n",
      "Uploading: 100%|██████████| 1/1 [00:00<00:00, 28.67it/s]\n",
      "Uploading:   0%|          | 0/1 [00:00<?, ?it/s]\n"
     ]
    },
    {
     "name": "stdout",
     "output_type": "stream",
     "text": [
      "Processing slice z= 58\n"
     ]
    },
    {
     "name": "stderr",
     "output_type": "stream",
     "text": [
      "Uploading:   0%|          | 0/1 [00:00<?, ?it/s]\n",
      "Uploading:   0%|          | 0/1 [00:00<?, ?it/s]\u001b[A\n"
     ]
    },
    {
     "name": "stdout",
     "output_type": "stream",
     "text": [
      "Processing slice z= 59\n",
      "Processing slice z= 60\n"
     ]
    },
    {
     "name": "stderr",
     "output_type": "stream",
     "text": [
      "Uploading:   0%|          | 0/1 [00:00<?, ?it/s]\n",
      "Uploading: 100%|██████████| 1/1 [00:00<00:00, 35.13it/s]\n"
     ]
    },
    {
     "name": "stdout",
     "output_type": "stream",
     "text": [
      "Processing slice z= 61\n"
     ]
    },
    {
     "name": "stderr",
     "output_type": "stream",
     "text": [
      "Uploading:   0%|          | 0/1 [00:00<?, ?it/s]\n"
     ]
    },
    {
     "name": "stdout",
     "output_type": "stream",
     "text": [
      "Processing slice z= 62\n"
     ]
    },
    {
     "name": "stderr",
     "output_type": "stream",
     "text": [
      "\r",
      "Uploading:   0%|          | 0/1 [00:00<?, ?it/s]"
     ]
    },
    {
     "name": "stdout",
     "output_type": "stream",
     "text": [
      "Processing slice z= 63\n"
     ]
    },
    {
     "name": "stderr",
     "output_type": "stream",
     "text": [
      "Uploading: 100%|██████████| 1/1 [00:00<00:00, 33.80it/s]\n",
      "Uploading:   0%|          | 0/1 [00:00<?, ?it/s]\n",
      "\n",
      "Uploading:   0%|          | 0/1 [00:00<?, ?it/s]\u001b[A\n"
     ]
    },
    {
     "name": "stdout",
     "output_type": "stream",
     "text": [
      "success\n",
      "success\n",
      "success\n",
      "success\n",
      "success\n",
      "success\n",
      "success\n",
      "success\n",
      "success\n",
      "success\n",
      "success\n"
     ]
    },
    {
     "name": "stderr",
     "output_type": "stream",
     "text": [
      "Uploading:   0%|          | 0/1 [00:00<?, ?it/s]\u001b[A"
     ]
    },
    {
     "name": "stdout",
     "output_type": "stream",
     "text": [
      "Processing slice z= 64\n"
     ]
    },
    {
     "name": "stderr",
     "output_type": "stream",
     "text": [
      "\n",
      "\n",
      "Uploading: 100%|██████████| 1/1 [00:00<00:00, 62.36it/s]\n"
     ]
    },
    {
     "name": "stdout",
     "output_type": "stream",
     "text": [
      "Processing slice z= 65\n"
     ]
    },
    {
     "name": "stderr",
     "output_type": "stream",
     "text": [
      "\n",
      "Uploading:   0%|          | 0/1 [00:00<?, ?it/s]\u001b[A\n",
      "Uploading:   0%|          | 0/1 [00:00<?, ?it/s]\u001b[A\n",
      "Uploading: 100%|██████████| 1/1 [00:00<00:00, 37.65it/s]\n",
      "Uploading:   0%|          | 0/1 [00:00<?, ?it/s]\n",
      "Uploading: 100%|██████████| 1/1 [00:00<00:00, 43.10it/s]\n",
      "Uploading:   0%|          | 0/1 [00:00<?, ?it/s]\n",
      "Uploading:   0%|          | 0/1 [00:00<?, ?it/s]"
     ]
    },
    {
     "name": "stdout",
     "output_type": "stream",
     "text": [
      "Processing slice z= 66\n"
     ]
    },
    {
     "name": "stderr",
     "output_type": "stream",
     "text": [
      "Uploading:   0%|          | 0/1 [00:00<?, ?it/s]\n",
      "Uploading:   0%|          | 0/1 [00:00<?, ?it/s]\n",
      "Uploading: 100%|██████████| 1/1 [00:00<00:00, 42.23it/s]\n",
      "Uploading: 100%|██████████| 1/1 [00:00<00:00, 42.80it/s]\n",
      "Uploading:   0%|          | 0/1 [00:00<?, ?it/s]\n",
      "Uploading:   0%|          | 0/1 [00:00<?, ?it/s]\u001b[A"
     ]
    },
    {
     "name": "stdout",
     "output_type": "stream",
     "text": [
      "Processing slice z= 67\n",
      "Processing slice z= 68\n"
     ]
    },
    {
     "name": "stderr",
     "output_type": "stream",
     "text": [
      "Uploading: 100%|██████████| 1/1 [00:00<00:00, 49.33it/s]\n",
      "Uploading:   0%|          | 0/1 [00:00<?, ?it/s]\n",
      "Uploading:   0%|          | 0/1 [00:00<?, ?it/s]\n",
      "Uploading: 100%|██████████| 1/1 [00:00<00:00, 59.63it/s]\n",
      "Uploading:   0%|          | 0/1 [00:00<?, ?it/s]"
     ]
    },
    {
     "name": "stdout",
     "output_type": "stream",
     "text": [
      "Processing slice z= 70\n"
     ]
    },
    {
     "name": "stderr",
     "output_type": "stream",
     "text": [
      "\n"
     ]
    },
    {
     "name": "stdout",
     "output_type": "stream",
     "text": [
      "Processing slice z= 69\n"
     ]
    },
    {
     "name": "stderr",
     "output_type": "stream",
     "text": [
      "Uploading:   0%|          | 0/1 [00:00<?, ?it/s]\u001b[A\n",
      "Uploading:   0%|          | 0/1 [00:00<?, ?it/s]\n",
      "\n"
     ]
    },
    {
     "name": "stdout",
     "output_type": "stream",
     "text": [
      "Processing slice z= 71\n"
     ]
    },
    {
     "name": "stderr",
     "output_type": "stream",
     "text": [
      "Uploading: 100%|██████████| 1/1 [00:00<00:00, 32.23it/s]\n",
      "\n",
      "Uploading: 100%|██████████| 1/1 [00:00<00:00, 36.43it/s]\n"
     ]
    },
    {
     "name": "stdout",
     "output_type": "stream",
     "text": [
      "Processing slice z= 72\n"
     ]
    },
    {
     "name": "stderr",
     "output_type": "stream",
     "text": [
      "Uploading:   0%|          | 0/1 [00:00<?, ?it/s]\n",
      "\n",
      "Uploading:   0%|          | 0/1 [00:00<?, ?it/s]\u001b[A\n",
      "Uploading:   0%|          | 0/1 [00:00<?, ?it/s]\u001b[A\n"
     ]
    },
    {
     "name": "stdout",
     "output_type": "stream",
     "text": [
      "Processing slice z= 73\n"
     ]
    },
    {
     "name": "stderr",
     "output_type": "stream",
     "text": [
      "\n",
      "Uploading: 100%|██████████| 1/1 [00:00<00:00, 39.18it/s]\n",
      "Uploading: 100%|██████████| 1/1 [00:00<00:00, 40.73it/s]\n",
      "Uploading:   0%|          | 0/1 [00:00<?, ?it/s]\n",
      "Uploading: 100%|██████████| 1/1 [00:00<00:00, 72.00it/s]\n"
     ]
    },
    {
     "name": "stdout",
     "output_type": "stream",
     "text": [
      "Processing slice z= 74\n",
      "success\n",
      "success\n",
      "success\n",
      "success\n",
      "success\n",
      "success\n",
      "success\n",
      "success\n",
      "success\n",
      "success\n",
      "success\n",
      "Processing slice z= 75\n"
     ]
    },
    {
     "name": "stderr",
     "output_type": "stream",
     "text": [
      "Uploading: 100%|██████████| 1/1 [00:00<00:00, 36.60it/s]\n",
      "Uploading:   0%|          | 0/1 [00:00<?, ?it/s]\n",
      "Uploading:   0%|          | 0/1 [00:00<?, ?it/s]\u001b[A\n",
      "Uploading:   0%|          | 0/1 [00:00<?, ?it/s]\n",
      "Uploading: 100%|██████████| 1/1 [00:00<00:00, 38.48it/s]\n",
      "\n",
      "Uploading:   0%|          | 0/1 [00:00<?, ?it/s]\u001b[A\n",
      "Uploading:   0%|          | 0/1 [00:00<?, ?it/s]\u001b[A"
     ]
    },
    {
     "name": "stdout",
     "output_type": "stream",
     "text": [
      "Processing slice z= 76\n",
      "Processing slice z= 77\n"
     ]
    },
    {
     "name": "stderr",
     "output_type": "stream",
     "text": [
      "Uploading:   0%|          | 0/1 [00:00<?, ?it/s]\n",
      "Uploading:   0%|          | 0/1 [00:00<?, ?it/s]\n",
      "\n",
      "Uploading:   0%|          | 0/1 [00:00<?, ?it/s]\u001b[A"
     ]
    },
    {
     "name": "stdout",
     "output_type": "stream",
     "text": [
      "Processing slice z= 78\n"
     ]
    },
    {
     "name": "stderr",
     "output_type": "stream",
     "text": [
      "\r",
      "Uploading:   0%|          | 0/1 [00:00<?, ?it/s]"
     ]
    },
    {
     "name": "stdout",
     "output_type": "stream",
     "text": [
      "Processing slice z= 79\n"
     ]
    },
    {
     "name": "stderr",
     "output_type": "stream",
     "text": [
      "Uploading: 100%|██████████| 1/1 [00:00<00:00, 32.99it/s]\n",
      "Uploading: 100%|██████████| 1/1 [00:00<00:00, 65.66it/s]\n",
      "Uploading: 100%|██████████| 1/1 [00:00<00:00, 39.37it/s]\n",
      "Uploading:   0%|          | 0/1 [00:00<?, ?it/s]\n",
      "\n",
      "Uploading: 100%|██████████| 1/1 [00:00<00:00, 45.24it/s]\n",
      "\n",
      "Uploading:   0%|          | 0/1 [00:00<?, ?it/s]\u001b[A\n",
      "\n",
      "Uploading:   0%|          | 0/1 [00:00<?, ?it/s]"
     ]
    },
    {
     "name": "stdout",
     "output_type": "stream",
     "text": [
      "Processing slice z= 80\n"
     ]
    },
    {
     "name": "stderr",
     "output_type": "stream",
     "text": [
      "Uploading:   0%|          | 0/1 [00:00<?, ?it/s]\n",
      "Uploading:   0%|          | 0/1 [00:00<?, ?it/s]\n",
      "\n",
      "Uploading:   0%|          | 0/1 [00:00<?, ?it/s]\u001b[A"
     ]
    },
    {
     "name": "stdout",
     "output_type": "stream",
     "text": [
      "Processing slice z= 81\n"
     ]
    },
    {
     "name": "stderr",
     "output_type": "stream",
     "text": [
      "\r",
      "Uploading: 100%|██████████| 1/1 [00:00<00:00, 46.62it/s]"
     ]
    },
    {
     "name": "stdout",
     "output_type": "stream",
     "text": [
      "Processing slice z= 82\n"
     ]
    },
    {
     "name": "stderr",
     "output_type": "stream",
     "text": [
      "\n"
     ]
    },
    {
     "name": "stdout",
     "output_type": "stream",
     "text": [
      "Processing slice z= 83\n"
     ]
    },
    {
     "name": "stderr",
     "output_type": "stream",
     "text": [
      "Uploading: 100%|██████████| 1/1 [00:00<00:00, 51.08it/s]\n",
      "Uploading:   0%|          | 0/1 [00:00<?, ?it/s]"
     ]
    },
    {
     "name": "stdout",
     "output_type": "stream",
     "text": [
      "success\n",
      "success\n",
      "success\n",
      "success\n",
      "success\n",
      "success\n",
      "success\n",
      "success\n",
      "success\n"
     ]
    },
    {
     "name": "stderr",
     "output_type": "stream",
     "text": [
      "Uploading:   0%|          | 0/1 [00:00<?, ?it/s]\n",
      "Uploading:   0%|          | 0/1 [00:00<?, ?it/s]\n",
      "Uploading: 100%|██████████| 1/1 [00:00<00:00, 36.52it/s]\n",
      "\n",
      "Uploading: 100%|██████████| 1/1 [00:00<00:00, 45.13it/s]\n",
      "Uploading:   0%|          | 0/1 [00:00<?, ?it/s]\n",
      "Uploading:   0%|          | 0/1 [00:00<?, ?it/s]\u001b[A\n",
      "Uploading:   0%|          | 0/1 [00:00<?, ?it/s]"
     ]
    },
    {
     "name": "stdout",
     "output_type": "stream",
     "text": [
      "Processing slice z= 84\n"
     ]
    },
    {
     "name": "stderr",
     "output_type": "stream",
     "text": [
      "Uploading:   0%|          | 0/1 [00:00<?, ?it/s]"
     ]
    },
    {
     "name": "stdout",
     "output_type": "stream",
     "text": [
      "Processing slice z= 85\n"
     ]
    },
    {
     "name": "stderr",
     "output_type": "stream",
     "text": [
      "\n",
      "\n",
      "Uploading:   0%|          | 0/1 [00:00<?, ?it/s]\u001b[A"
     ]
    },
    {
     "name": "stdout",
     "output_type": "stream",
     "text": [
      "Processing slice z= 86\n"
     ]
    },
    {
     "name": "stderr",
     "output_type": "stream",
     "text": [
      "Uploading: 100%|██████████| 1/1 [00:00<00:00, 47.03it/s]\n",
      "\n",
      "Uploading: 100%|██████████| 1/1 [00:00<00:00, 48.88it/s]\n",
      "Uploading:   0%|          | 0/1 [00:00<?, ?it/s]\n",
      "Uploading:   0%|          | 0/1 [00:00<?, ?it/s]\u001b[A\n",
      "Uploading: 100%|██████████| 1/1 [00:00<00:00, 34.36it/s]\n",
      "Uploading:   0%|          | 0/1 [00:00<?, ?it/s]\n",
      "Uploading:   0%|          | 0/1 [00:00<?, ?it/s]\n",
      "Uploading: 100%|██████████| 1/1 [00:00<00:00, 35.34it/s]\n",
      "Uploading: 100%|██████████| 1/1 [00:00<00:00, 46.27it/s]\n",
      "Uploading:   0%|          | 0/1 [00:00<?, ?it/s]"
     ]
    },
    {
     "name": "stdout",
     "output_type": "stream",
     "text": [
      "Processing slice z= 87\n"
     ]
    },
    {
     "name": "stderr",
     "output_type": "stream",
     "text": [
      "\n",
      "Uploading:   0%|          | 0/1 [00:00<?, ?it/s]\n",
      "Uploading:   0%|          | 0/1 [00:00<?, ?it/s]"
     ]
    },
    {
     "name": "stdout",
     "output_type": "stream",
     "text": [
      "Processing slice z= 88\n"
     ]
    },
    {
     "name": "stderr",
     "output_type": "stream",
     "text": [
      "\u001b[A"
     ]
    },
    {
     "name": "stdout",
     "output_type": "stream",
     "text": [
      "Processing slice z= 89\n",
      "Processing slice z= 90\n"
     ]
    },
    {
     "name": "stderr",
     "output_type": "stream",
     "text": [
      "Uploading:   0%|          | 0/1 [00:00<?, ?it/s]\n",
      "Uploading:   0%|          | 0/1 [00:00<?, ?it/s]\n",
      "Uploading: 100%|██████████| 1/1 [00:00<00:00, 36.18it/s]\n",
      "Uploading:   0%|          | 0/1 [00:00<?, ?it/s]"
     ]
    },
    {
     "name": "stdout",
     "output_type": "stream",
     "text": [
      "Processing slice z= 91\n"
     ]
    },
    {
     "name": "stderr",
     "output_type": "stream",
     "text": [
      "Uploading:   0%|          | 0/1 [00:00<?, ?it/s]\n",
      "Uploading:   0%|          | 0/1 [00:00<?, ?it/s]\u001b[A\n"
     ]
    },
    {
     "name": "stdout",
     "output_type": "stream",
     "text": [
      "Processing slice z= 92\n"
     ]
    },
    {
     "name": "stderr",
     "output_type": "stream",
     "text": [
      "Uploading:   0%|          | 0/1 [00:00<?, ?it/s]\u001b[A\n",
      "Uploading: 100%|██████████| 1/1 [00:00<00:00, 39.05it/s]\n",
      "\n",
      "Uploading:   0%|          | 0/1 [00:00<?, ?it/s]\u001b[A"
     ]
    },
    {
     "name": "stdout",
     "output_type": "stream",
     "text": [
      "Processing slice z= 93\n"
     ]
    },
    {
     "name": "stderr",
     "output_type": "stream",
     "text": [
      "\n",
      "Uploading:   0%|          | 0/1 [00:00<?, ?it/s]\u001b[A\n",
      "Uploading: 100%|██████████| 1/1 [00:00<00:00, 48.35it/s]\n",
      "\n",
      "Uploading:   0%|          | 0/1 [00:00<?, ?it/s]\u001b[A\n",
      "Uploading: 100%|██████████| 1/1 [00:00<00:00, 41.06it/s]\n",
      "Uploading: 100%|██████████| 1/1 [00:00<00:00, 53.83it/s]"
     ]
    },
    {
     "name": "stdout",
     "output_type": "stream",
     "text": [
      "Processing slice z= 94\n"
     ]
    },
    {
     "name": "stderr",
     "output_type": "stream",
     "text": [
      "\n",
      "Uploading:   0%|          | 0/1 [00:00<?, ?it/s]\n",
      "Uploading:   0%|          | 0/1 [00:00<?, ?it/s]\n",
      "Uploading:   0%|          | 0/1 [00:00<?, ?it/s]"
     ]
    },
    {
     "name": "stdout",
     "output_type": "stream",
     "text": [
      "Processing slice z= 95\n"
     ]
    },
    {
     "name": "stderr",
     "output_type": "stream",
     "text": [
      "\n",
      "Uploading: 100%|██████████| 1/1 [00:00<00:00, 41.44it/s]\n",
      "\n"
     ]
    },
    {
     "name": "stdout",
     "output_type": "stream",
     "text": [
      "Processing slice z= 96\n"
     ]
    },
    {
     "name": "stderr",
     "output_type": "stream",
     "text": [
      "Uploading: 100%|██████████| 1/1 [00:00<00:00, 35.59it/s]\n"
     ]
    },
    {
     "name": "stdout",
     "output_type": "stream",
     "text": [
      "Processing slice z= 97\n"
     ]
    },
    {
     "name": "stderr",
     "output_type": "stream",
     "text": [
      "Uploading:   0%|          | 0/1 [00:00<?, ?it/s]\n"
     ]
    },
    {
     "name": "stdout",
     "output_type": "stream",
     "text": [
      "success\n",
      "success\n",
      "success\n",
      "success\n",
      "success\n",
      "success\n",
      "success\n",
      "success\n",
      "success\n",
      "success\n",
      "success\n",
      "success\n",
      "success\n",
      "success\n"
     ]
    },
    {
     "name": "stderr",
     "output_type": "stream",
     "text": [
      "\n",
      "Uploading: 100%|██████████| 1/1 [00:00<00:00, 29.03it/s]\n"
     ]
    },
    {
     "name": "stdout",
     "output_type": "stream",
     "text": [
      "Processing slice z= 98\n"
     ]
    },
    {
     "name": "stderr",
     "output_type": "stream",
     "text": [
      "Uploading:   0%|          | 0/1 [00:00<?, ?it/s]\n",
      "Uploading:   0%|          | 0/1 [00:00<?, ?it/s]\n",
      "\n",
      "Uploading:   0%|          | 0/1 [00:00<?, ?it/s]\u001b[A"
     ]
    },
    {
     "name": "stdout",
     "output_type": "stream",
     "text": [
      "Processing slice z= 99\n"
     ]
    },
    {
     "name": "stderr",
     "output_type": "stream",
     "text": [
      "\n",
      "Uploading: 100%|██████████| 1/1 [00:00<00:00, 35.65it/s]"
     ]
    },
    {
     "name": "stdout",
     "output_type": "stream",
     "text": [
      "Processing slice z= 100\n"
     ]
    },
    {
     "name": "stderr",
     "output_type": "stream",
     "text": [
      "\n",
      "Uploading:   0%|          | 0/1 [00:00<?, ?it/s]\n",
      "Uploading: 100%|██████████| 1/1 [00:00<00:00, 31.62it/s]\n",
      "Uploading:   0%|          | 0/1 [00:00<?, ?it/s]\n",
      "Uploading:   0%|          | 0/1 [00:00<?, ?it/s]\n",
      "Uploading: 100%|██████████| 1/1 [00:00<00:00, 34.55it/s]"
     ]
    },
    {
     "name": "stdout",
     "output_type": "stream",
     "text": [
      "Processing slice z= 101\n"
     ]
    },
    {
     "name": "stderr",
     "output_type": "stream",
     "text": [
      "\n",
      "Uploading:   0%|          | 0/1 [00:00<?, ?it/s]\n",
      "\n",
      "Uploading:   0%|          | 0/1 [00:00<?, ?it/s]\u001b[A\n",
      "Uploading:   0%|          | 0/1 [00:00<?, ?it/s]"
     ]
    },
    {
     "name": "stdout",
     "output_type": "stream",
     "text": [
      "Processing slice z= 102\n"
     ]
    },
    {
     "name": "stderr",
     "output_type": "stream",
     "text": [
      "Uploading:   0%|          | 0/1 [00:00<?, ?it/s]\n",
      "Uploading: 100%|██████████| 1/1 [00:00<00:00, 20.37it/s]\n",
      "Uploading: 100%|██████████| 1/1 [00:00<00:00, 24.04it/s]\n",
      "Uploading: 100%|██████████| 1/1 [00:00<00:00, 33.45it/s]\n",
      "Uploading:   0%|          | 0/1 [00:00<?, ?it/s]\n"
     ]
    },
    {
     "name": "stdout",
     "output_type": "stream",
     "text": [
      "Processing slice z= 103\n"
     ]
    },
    {
     "name": "stderr",
     "output_type": "stream",
     "text": [
      "Uploading: 100%|██████████| 1/1 [00:00<00:00, 40.73it/s]\n",
      "Uploading:   0%|          | 0/1 [00:00<?, ?it/s]\n",
      "Uploading:   0%|          | 0/1 [00:00<?, ?it/s]\n",
      "Uploading:   0%|          | 0/1 [00:00<?, ?it/s]\u001b[A\n"
     ]
    },
    {
     "name": "stdout",
     "output_type": "stream",
     "text": [
      "success\n",
      "success\n",
      "success\n",
      "success\n",
      "success\n",
      "success\n",
      "Processing slice z= 104\n"
     ]
    },
    {
     "name": "stderr",
     "output_type": "stream",
     "text": [
      "\n",
      "Uploading:   0%|          | 0/1 [00:00<?, ?it/s]"
     ]
    },
    {
     "name": "stdout",
     "output_type": "stream",
     "text": [
      "Processing slice z= 105\n"
     ]
    },
    {
     "name": "stderr",
     "output_type": "stream",
     "text": [
      "Uploading:   0%|          | 0/1 [00:00<?, ?it/s]\n",
      "Uploading: 100%|██████████| 1/1 [00:00<00:00, 34.72it/s]\n",
      "Uploading:   0%|          | 0/1 [00:00<?, ?it/s]"
     ]
    },
    {
     "name": "stdout",
     "output_type": "stream",
     "text": [
      "Processing slice z= 106\n",
      "Processing slice z= 107\n"
     ]
    },
    {
     "name": "stderr",
     "output_type": "stream",
     "text": [
      "Uploading:   0%|          | 0/1 [00:00<?, ?it/s]\n",
      "Uploading:   0%|          | 0/1 [00:00<?, ?it/s]\u001b[A\n",
      "Uploading:   0%|          | 0/1 [00:00<?, ?it/s]\n",
      "Uploading:   0%|          | 0/1 [00:00<?, ?it/s]\u001b[A\n",
      "Uploading: 100%|██████████| 1/1 [00:00<00:00, 31.25it/s]"
     ]
    },
    {
     "name": "stdout",
     "output_type": "stream",
     "text": [
      "Processing slice z= 108\n"
     ]
    },
    {
     "name": "stderr",
     "output_type": "stream",
     "text": [
      "\n",
      "Uploading: 100%|██████████| 1/1 [00:00<00:00, 33.19it/s]\n",
      "Uploading:   0%|          | 0/1 [00:00<?, ?it/s]\n",
      "\n",
      "Uploading:   0%|          | 0/1 [00:00<?, ?it/s]\u001b[A\n",
      "Uploading: 100%|██████████| 1/1 [00:00<00:00, 39.86it/s]\n",
      "Uploading:   0%|          | 0/1 [00:00<?, ?it/s]"
     ]
    },
    {
     "name": "stdout",
     "output_type": "stream",
     "text": [
      "Processing slice z= 109\n"
     ]
    },
    {
     "name": "stderr",
     "output_type": "stream",
     "text": [
      "Uploading:   0%|          | 0/1 [00:00<?, ?it/s]\n",
      "Uploading:   0%|          | 0/1 [00:00<?, ?it/s]\n",
      "\n",
      "Uploading: 100%|██████████| 1/1 [00:00<00:00, 42.78it/s]\n",
      "Uploading: 100%|██████████| 1/1 [00:00<00:00, 37.01it/s]\n"
     ]
    },
    {
     "name": "stdout",
     "output_type": "stream",
     "text": [
      "Processing slice z= 111\n",
      "Processing slice z= 110\n"
     ]
    },
    {
     "name": "stderr",
     "output_type": "stream",
     "text": [
      "Uploading:   0%|          | 0/1 [00:00<?, ?it/s]\n",
      "Uploading:   0%|          | 0/1 [00:00<?, ?it/s]\n",
      "Uploading:   0%|          | 0/1 [00:00<?, ?it/s]\n",
      "Uploading: 100%|██████████| 1/1 [00:00<00:00, 39.51it/s]\n"
     ]
    },
    {
     "name": "stdout",
     "output_type": "stream",
     "text": [
      "Processing slice z= 112\n"
     ]
    },
    {
     "name": "stderr",
     "output_type": "stream",
     "text": [
      "Uploading: 100%|██████████| 1/1 [00:00<00:00, 34.22it/s]\n",
      "Uploading:   0%|          | 0/1 [00:00<?, ?it/s]"
     ]
    },
    {
     "name": "stdout",
     "output_type": "stream",
     "text": [
      "Processing slice z= 113\n"
     ]
    },
    {
     "name": "stderr",
     "output_type": "stream",
     "text": [
      "Uploading:   0%|          | 0/1 [00:00<?, ?it/s]\n",
      "\n",
      "Uploading:   0%|          | 0/1 [00:00<?, ?it/s]\u001b[A\n",
      "Uploading:   0%|          | 0/1 [00:00<?, ?it/s]\u001b[A\n",
      "Uploading: 100%|██████████| 1/1 [00:00<00:00, 33.76it/s]\n"
     ]
    },
    {
     "name": "stdout",
     "output_type": "stream",
     "text": [
      "Processing slice z= 114\n"
     ]
    },
    {
     "name": "stderr",
     "output_type": "stream",
     "text": [
      "Uploading:   0%|          | 0/1 [00:00<?, ?it/s]\n"
     ]
    },
    {
     "name": "stdout",
     "output_type": "stream",
     "text": [
      "Processing slice z= 115\n"
     ]
    },
    {
     "name": "stderr",
     "output_type": "stream",
     "text": [
      "Uploading: 100%|██████████| 1/1 [00:00<00:00, 34.26it/s]\n",
      "\n",
      "Uploading: 100%|██████████| 1/1 [00:00<00:00, 39.61it/s]"
     ]
    },
    {
     "name": "stdout",
     "output_type": "stream",
     "text": [
      "Processing slice z= 116\n"
     ]
    },
    {
     "name": "stderr",
     "output_type": "stream",
     "text": [
      "\n",
      "\n",
      "Uploading: 100%|██████████| 1/1 [00:00<00:00, 35.75it/s]\n",
      "Uploading:   0%|          | 0/1 [00:00<?, ?it/s]\n",
      "Uploading:   0%|          | 0/1 [00:00<?, ?it/s]\u001b[A\n",
      "Uploading:   0%|          | 0/1 [00:00<?, ?it/s]\n",
      "Uploading:   0%|          | 0/1 [00:00<?, ?it/s]\n",
      "Uploading:   0%|          | 0/1 [00:00<?, ?it/s]\n",
      "Uploading:   0%|          | 0/1 [00:00<?, ?it/s]\u001b[A\n",
      "Uploading:   0%|          | 0/1 [00:00<?, ?it/s]\u001b[A"
     ]
    },
    {
     "name": "stdout",
     "output_type": "stream",
     "text": [
      "Processing slice z= 117\n"
     ]
    },
    {
     "name": "stderr",
     "output_type": "stream",
     "text": [
      "\r",
      "Uploading: 100%|██████████| 1/1 [00:00<00:00, 33.33it/s]"
     ]
    },
    {
     "name": "stdout",
     "output_type": "stream",
     "text": [
      "Processing slice z= 118\n"
     ]
    },
    {
     "name": "stderr",
     "output_type": "stream",
     "text": [
      "\n"
     ]
    },
    {
     "name": "stdout",
     "output_type": "stream",
     "text": [
      "success\n",
      "success\n",
      "success\n",
      "success\n",
      "success\n",
      "success\n",
      "success\n",
      "success\n",
      "success\n",
      "success\n",
      "success\n",
      "success\n",
      "success\n",
      "success\n",
      "success\n",
      "Processing slice z= 119\n"
     ]
    },
    {
     "name": "stderr",
     "output_type": "stream",
     "text": [
      "Uploading:   0%|          | 0/1 [00:00<?, ?it/s]\n",
      "Uploading: 100%|██████████| 1/1 [00:00<00:00, 25.80it/s]\n",
      "Uploading: 100%|██████████| 1/1 [00:00<00:00, 28.28it/s]\n",
      "Uploading: 100%|██████████| 1/1 [00:00<00:00, 34.68it/s]\n",
      "Uploading:   0%|          | 0/1 [00:00<?, ?it/s]\n",
      "Uploading:   0%|          | 0/1 [00:00<?, ?it/s]\u001b[A\n",
      "\n"
     ]
    },
    {
     "name": "stdout",
     "output_type": "stream",
     "text": [
      "Processing slice z= 120\n"
     ]
    },
    {
     "name": "stderr",
     "output_type": "stream",
     "text": [
      "Uploading: 100%|██████████| 1/1 [00:00<00:00, 26.79it/s]\n"
     ]
    },
    {
     "name": "stdout",
     "output_type": "stream",
     "text": [
      "Processing slice z= 121\n"
     ]
    },
    {
     "name": "stderr",
     "output_type": "stream",
     "text": [
      "\n",
      "Uploading:   0%|          | 0/1 [00:00<?, ?it/s]\u001b[A\n",
      "Uploading:   0%|          | 0/1 [00:00<?, ?it/s]\n",
      "Uploading:   0%|          | 0/1 [00:00<?, ?it/s]\n",
      "Uploading:   0%|          | 0/1 [00:00<?, ?it/s]\n"
     ]
    },
    {
     "name": "stdout",
     "output_type": "stream",
     "text": [
      "Processing slice z= 122\n"
     ]
    },
    {
     "name": "stderr",
     "output_type": "stream",
     "text": [
      "Uploading:   0%|          | 0/1 [00:00<?, ?it/s]\u001b[A"
     ]
    },
    {
     "name": "stdout",
     "output_type": "stream",
     "text": [
      "Processing slice z= 123\n"
     ]
    },
    {
     "name": "stderr",
     "output_type": "stream",
     "text": [
      "Uploading: 100%|██████████| 1/1 [00:00<00:00, 29.48it/s]\n"
     ]
    },
    {
     "name": "stdout",
     "output_type": "stream",
     "text": [
      "Processing slice z= 124\n"
     ]
    },
    {
     "name": "stderr",
     "output_type": "stream",
     "text": [
      "\n",
      "Uploading: 100%|██████████| 1/1 [00:00<00:00, 28.43it/s]\n"
     ]
    },
    {
     "name": "stdout",
     "output_type": "stream",
     "text": [
      "success\n",
      "success\n",
      "success\n",
      "success\n",
      "success\n",
      "success\n"
     ]
    },
    {
     "name": "stderr",
     "output_type": "stream",
     "text": [
      "Uploading:   0%|          | 0/1 [00:00<?, ?it/s]\n",
      "Uploading:   0%|          | 0/1 [00:00<?, ?it/s]\n",
      "Uploading: 100%|██████████| 1/1 [00:00<00:00, 23.58it/s]\n",
      "Uploading: 100%|██████████| 1/1 [00:00<00:00, 36.33it/s]\n",
      "Uploading:   0%|          | 0/1 [00:00<?, ?it/s]"
     ]
    },
    {
     "name": "stdout",
     "output_type": "stream",
     "text": [
      "Processing slice z= 125\n"
     ]
    },
    {
     "name": "stderr",
     "output_type": "stream",
     "text": [
      "\n",
      "Uploading:   0%|          | 0/1 [00:00<?, ?it/s]\u001b[A\n",
      "Uploading:   0%|          | 0/1 [00:00<?, ?it/s]\u001b[A\n"
     ]
    },
    {
     "name": "stdout",
     "output_type": "stream",
     "text": [
      "Processing slice z= 126\n"
     ]
    },
    {
     "name": "stderr",
     "output_type": "stream",
     "text": [
      "Uploading:   0%|          | 0/1 [00:00<?, ?it/s]\u001b[A\n",
      "Uploading: 100%|██████████| 1/1 [00:00<00:00, 30.03it/s]\n",
      "Uploading:   0%|          | 0/1 [00:00<?, ?it/s]\n",
      "\n"
     ]
    },
    {
     "name": "stdout",
     "output_type": "stream",
     "text": [
      "Processing slice z= 127\n"
     ]
    },
    {
     "name": "stderr",
     "output_type": "stream",
     "text": [
      "Uploading:   0%|          | 0/1 [00:00<?, ?it/s]\u001b[A\n"
     ]
    },
    {
     "name": "stdout",
     "output_type": "stream",
     "text": [
      "Processing slice z= 128\n"
     ]
    },
    {
     "name": "stderr",
     "output_type": "stream",
     "text": [
      "Uploading: 100%|██████████| 1/1 [00:00<00:00, 40.19it/s]\n",
      "Uploading:   0%|          | 0/1 [00:00<?, ?it/s]\n",
      "Uploading: 100%|██████████| 1/1 [00:00<00:00, 30.51it/s]\n",
      "Uploading:   0%|          | 0/1 [00:00<?, ?it/s]\n"
     ]
    },
    {
     "name": "stdout",
     "output_type": "stream",
     "text": [
      "Processing slice z= 129\n"
     ]
    },
    {
     "name": "stderr",
     "output_type": "stream",
     "text": [
      "Uploading: 100%|██████████| 1/1 [00:00<00:00, 31.27it/s]\n",
      "Uploading:   0%|          | 0/1 [00:00<?, ?it/s]\n",
      "Uploading:   0%|          | 0/1 [00:00<?, ?it/s]\n",
      "Uploading:   0%|          | 0/1 [00:00<?, ?it/s]\u001b[A\n",
      "Uploading:   0%|          | 0/1 [00:00<?, ?it/s]\u001b[A"
     ]
    },
    {
     "name": "stdout",
     "output_type": "stream",
     "text": [
      "Processing slice z= 130\n"
     ]
    },
    {
     "name": "stderr",
     "output_type": "stream",
     "text": [
      "Uploading: 100%|██████████| 1/1 [00:00<00:00, 36.21it/s]\n",
      "Uploading:   0%|          | 0/1 [00:00<?, ?it/s]\n",
      "Uploading:   0%|          | 0/1 [00:00<?, ?it/s]"
     ]
    },
    {
     "name": "stdout",
     "output_type": "stream",
     "text": [
      "Processing slice z= 131\n"
     ]
    },
    {
     "name": "stderr",
     "output_type": "stream",
     "text": [
      "\n",
      "Uploading: 100%|██████████| 1/1 [00:00<00:00, 33.01it/s]\n"
     ]
    },
    {
     "name": "stdout",
     "output_type": "stream",
     "text": [
      "Processing slice z= 132\n"
     ]
    },
    {
     "name": "stderr",
     "output_type": "stream",
     "text": [
      "Uploading:   0%|          | 0/1 [00:00<?, ?it/s]\n",
      "Uploading:   0%|          | 0/1 [00:00<?, ?it/s]\n",
      "Uploading:   0%|          | 0/1 [00:00<?, ?it/s]\n",
      "Uploading:   0%|          | 0/1 [00:00<?, ?it/s]"
     ]
    },
    {
     "name": "stdout",
     "output_type": "stream",
     "text": [
      "Processing slice z= 133\n",
      "Processing slice z= 134\n"
     ]
    },
    {
     "name": "stderr",
     "output_type": "stream",
     "text": [
      "Uploading:   0%|          | 0/1 [00:00<?, ?it/s]\n",
      "Uploading: 100%|██████████| 1/1 [00:00<00:00, 23.95it/s]\n",
      "Uploading: 100%|██████████| 1/1 [00:00<00:00, 23.87it/s]\n",
      "\n",
      "Uploading: 100%|██████████| 1/1 [00:00<00:00, 30.51it/s]\n",
      "Uploading:   0%|          | 0/1 [00:00<?, ?it/s]\n",
      "Uploading:   0%|          | 0/1 [00:00<?, ?it/s]\n",
      "\n",
      "Uploading:   0%|          | 0/1 [00:00<?, ?it/s]\u001b[A\n",
      "Uploading:   0%|          | 0/1 [00:00<?, ?it/s]\u001b[A\n",
      "Uploading: 100%|██████████| 1/1 [00:00<00:00, 30.78it/s]"
     ]
    },
    {
     "name": "stdout",
     "output_type": "stream",
     "text": [
      "Processing slice z= 135\n"
     ]
    },
    {
     "name": "stderr",
     "output_type": "stream",
     "text": [
      "\n",
      "Uploading: 100%|██████████| 1/1 [00:00<00:00, 33.30it/s]\n"
     ]
    },
    {
     "name": "stdout",
     "output_type": "stream",
     "text": [
      "Processing slice z= 136\n"
     ]
    },
    {
     "name": "stderr",
     "output_type": "stream",
     "text": [
      "Uploading: 100%|██████████| 1/1 [00:00<00:00, 33.00it/s]\n",
      "Uploading:   0%|          | 0/1 [00:00<?, ?it/s]\n"
     ]
    },
    {
     "name": "stdout",
     "output_type": "stream",
     "text": [
      "success\n",
      "success\n",
      "success\n",
      "success\n",
      "success\n",
      "success\n",
      "success\n",
      "success\n",
      "success\n",
      "success\n",
      "success\n",
      "success\n",
      "Processing slice z= 137\n"
     ]
    },
    {
     "name": "stderr",
     "output_type": "stream",
     "text": [
      "Uploading:   0%|          | 0/1 [00:00<?, ?it/s]\n"
     ]
    },
    {
     "name": "stdout",
     "output_type": "stream",
     "text": [
      "Processing slice z= 138\n"
     ]
    },
    {
     "name": "stderr",
     "output_type": "stream",
     "text": [
      "Uploading:   0%|          | 0/1 [00:00<?, ?it/s]\n",
      "Uploading: 100%|██████████| 1/1 [00:00<00:00, 38.81it/s]\n"
     ]
    },
    {
     "name": "stdout",
     "output_type": "stream",
     "text": [
      "Processing slice z= 139\n"
     ]
    },
    {
     "name": "stderr",
     "output_type": "stream",
     "text": [
      "Uploading:   0%|          | 0/1 [00:00<?, ?it/s]\n",
      "Uploading:   0%|          | 0/1 [00:00<?, ?it/s]\u001b[A\n"
     ]
    },
    {
     "name": "stdout",
     "output_type": "stream",
     "text": [
      "Processing slice z= 140\n"
     ]
    },
    {
     "name": "stderr",
     "output_type": "stream",
     "text": [
      "Uploading:   0%|          | 0/1 [00:00<?, ?it/s]\u001b[A\n",
      "\n",
      "Uploading:   0%|          | 0/1 [00:00<?, ?it/s]\u001b[A\n",
      "Uploading: 100%|██████████| 1/1 [00:00<00:00, 25.13it/s]\n"
     ]
    },
    {
     "name": "stdout",
     "output_type": "stream",
     "text": [
      "Processing slice z= 141\n"
     ]
    },
    {
     "name": "stderr",
     "output_type": "stream",
     "text": [
      "Uploading:   0%|          | 0/1 [00:00<?, ?it/s]\n",
      "\n",
      "Uploading: 100%|██████████| 1/1 [00:00<00:00, 37.94it/s]\n",
      "Uploading:   0%|          | 0/1 [00:00<?, ?it/s]\n",
      "Uploading:   0%|          | 0/1 [00:00<?, ?it/s]\u001b[A\n"
     ]
    },
    {
     "name": "stdout",
     "output_type": "stream",
     "text": [
      "Processing slice z= 142\n"
     ]
    },
    {
     "name": "stderr",
     "output_type": "stream",
     "text": [
      "Uploading: 100%|██████████| 1/1 [00:00<00:00, 36.84it/s]\n",
      "Uploading:   0%|          | 0/1 [00:00<?, ?it/s]\n",
      "Uploading: 100%|██████████| 1/1 [00:00<00:00, 35.36it/s]\n",
      "Uploading: 100%|██████████| 1/1 [00:00<00:00, 28.40it/s]"
     ]
    },
    {
     "name": "stdout",
     "output_type": "stream",
     "text": [
      "Processing slice z= 143\n"
     ]
    },
    {
     "name": "stderr",
     "output_type": "stream",
     "text": [
      "\n",
      "Uploading:   0%|          | 0/1 [00:00<?, ?it/s]\n",
      "Uploading:   0%|          | 0/1 [00:00<?, ?it/s]\n",
      "Uploading:   0%|          | 0/1 [00:00<?, ?it/s]"
     ]
    },
    {
     "name": "stdout",
     "output_type": "stream",
     "text": [
      "Processing slice z= 144\n"
     ]
    },
    {
     "name": "stderr",
     "output_type": "stream",
     "text": [
      "Uploading:   0%|          | 0/1 [00:00<?, ?it/s]\n",
      "Uploading: 100%|██████████| 1/1 [00:00<00:00, 27.94it/s]\n",
      "\n",
      "Uploading:   0%|          | 0/1 [00:00<?, ?it/s]\u001b[A"
     ]
    },
    {
     "name": "stdout",
     "output_type": "stream",
     "text": [
      "success\n",
      "success\n",
      "success\n",
      "success\n",
      "success\n",
      "success\n",
      "success\n"
     ]
    },
    {
     "name": "stderr",
     "output_type": "stream",
     "text": [
      "Uploading: 100%|██████████| 1/1 [00:00<00:00, 32.19it/s]\n",
      "Uploading: 100%|██████████| 1/1 [00:00<00:00, 33.00it/s]\n"
     ]
    },
    {
     "name": "stdout",
     "output_type": "stream",
     "text": [
      "Processing slice z= 145\n"
     ]
    },
    {
     "name": "stderr",
     "output_type": "stream",
     "text": [
      "\n"
     ]
    },
    {
     "name": "stdout",
     "output_type": "stream",
     "text": [
      "Processing slice z= 146\n"
     ]
    },
    {
     "name": "stderr",
     "output_type": "stream",
     "text": [
      "Uploading:   0%|          | 0/1 [00:00<?, ?it/s]\u001b[A\n",
      "Uploading:   0%|          | 0/1 [00:00<?, ?it/s]\n",
      "Uploading:   0%|          | 0/1 [00:00<?, ?it/s]"
     ]
    },
    {
     "name": "stdout",
     "output_type": "stream",
     "text": [
      "Processing slice z= 147\n"
     ]
    },
    {
     "name": "stderr",
     "output_type": "stream",
     "text": [
      "Uploading:   0%|          | 0/1 [00:00<?, ?it/s]\n",
      "\n",
      "Uploading:   0%|          | 0/1 [00:00<?, ?it/s]"
     ]
    },
    {
     "name": "stdout",
     "output_type": "stream",
     "text": [
      "Processing slice z= 148\n"
     ]
    },
    {
     "name": "stderr",
     "output_type": "stream",
     "text": [
      "Uploading: 100%|██████████| 1/1 [00:00<00:00, 30.23it/s]"
     ]
    },
    {
     "name": "stdout",
     "output_type": "stream",
     "text": [
      "Processing slice z= 149\n"
     ]
    },
    {
     "name": "stderr",
     "output_type": "stream",
     "text": [
      "\n",
      "\n",
      "Uploading:   0%|          | 0/1 [00:00<?, ?it/s]\u001b[A\n",
      "Uploading:   0%|          | 0/1 [00:00<?, ?it/s]\u001b[A\n",
      "Uploading: 100%|██████████| 1/1 [00:00<00:00, 23.26it/s]\n",
      "\n",
      "Uploading:   0%|          | 0/1 [00:00<?, ?it/s]\u001b[A\n",
      "Uploading:   0%|          | 0/1 [00:00<?, ?it/s]\u001b[A"
     ]
    },
    {
     "name": "stdout",
     "output_type": "stream",
     "text": [
      "Processing slice z= 150\n"
     ]
    },
    {
     "name": "stderr",
     "output_type": "stream",
     "text": [
      "Uploading: 100%|██████████| 1/1 [00:00<00:00, 28.54it/s]\n",
      "Uploading:   0%|          | 0/1 [00:00<?, ?it/s]\n",
      "Uploading: 100%|██████████| 1/1 [00:00<00:00, 38.38it/s]\n",
      "Uploading:   0%|          | 0/1 [00:00<?, ?it/s]\n",
      "\n",
      "Uploading: 100%|██████████| 1/1 [00:00<00:00, 30.08it/s]\n"
     ]
    },
    {
     "name": "stdout",
     "output_type": "stream",
     "text": [
      "Processing slice z= 151\n",
      "Processing slice z= 152\n"
     ]
    },
    {
     "name": "stderr",
     "output_type": "stream",
     "text": [
      "Uploading:   0%|          | 0/1 [00:00<?, ?it/s]\n",
      "Uploading:   0%|          | 0/1 [00:00<?, ?it/s]\n",
      "\n",
      "Uploading:   0%|          | 0/1 [00:00<?, ?it/s]\u001b[A"
     ]
    },
    {
     "name": "stdout",
     "output_type": "stream",
     "text": [
      "Processing slice z= 153\n"
     ]
    },
    {
     "name": "stderr",
     "output_type": "stream",
     "text": [
      "Uploading: 100%|██████████| 1/1 [00:00<00:00, 33.41it/s]\n",
      "Uploading:   0%|          | 0/1 [00:00<?, ?it/s]"
     ]
    },
    {
     "name": "stdout",
     "output_type": "stream",
     "text": [
      "Processing slice z= 154\n"
     ]
    },
    {
     "name": "stderr",
     "output_type": "stream",
     "text": [
      "Uploading: 100%|██████████| 1/1 [00:00<00:00, 24.23it/s]\n",
      "\n",
      "Uploading:   0%|          | 0/1 [00:00<?, ?it/s]\u001b[A\n",
      "Uploading: 100%|██████████| 1/1 [00:00<00:00, 31.27it/s]\n",
      "Uploading:   0%|          | 0/1 [00:00<?, ?it/s]\n",
      "Uploading:   0%|          | 0/1 [00:00<?, ?it/s]\u001b[A"
     ]
    },
    {
     "name": "stdout",
     "output_type": "stream",
     "text": [
      "Processing slice z= 155\n"
     ]
    },
    {
     "name": "stderr",
     "output_type": "stream",
     "text": [
      "\n",
      "Uploading:   0%|          | 0/1 [00:00<?, ?it/s]\n",
      "Uploading:   0%|          | 0/1 [00:00<?, ?it/s]\u001b[A\n",
      "\n",
      "Uploading:   0%|          | 0/1 [00:00<?, ?it/s]\u001b[A"
     ]
    },
    {
     "name": "stdout",
     "output_type": "stream",
     "text": [
      "success\n",
      "success\n",
      "success\n",
      "success\n",
      "success\n",
      "success\n",
      "success\n",
      "success\n",
      "success\n",
      "success\n",
      "success\n",
      "Processing slice z= 156\n"
     ]
    },
    {
     "name": "stderr",
     "output_type": "stream",
     "text": [
      "Uploading: 100%|██████████| 1/1 [00:00<00:00, 32.13it/s]\n"
     ]
    },
    {
     "name": "stdout",
     "output_type": "stream",
     "text": [
      "Processing slice z= 157\n"
     ]
    },
    {
     "name": "stderr",
     "output_type": "stream",
     "text": [
      "\n",
      "Uploading:   0%|          | 0/1 [00:00<?, ?it/s]\u001b[A\n",
      "Uploading: 100%|██████████| 1/1 [00:00<00:00, 18.57it/s]\n",
      "Uploading: 100%|██████████| 1/1 [00:00<00:00, 31.85it/s]\n",
      "Uploading:   0%|          | 0/1 [00:00<?, ?it/s]\n",
      "\n",
      "Uploading: 100%|██████████| 1/1 [00:00<00:00, 31.88it/s]\n",
      "\n"
     ]
    },
    {
     "name": "stdout",
     "output_type": "stream",
     "text": [
      "Processing slice z= 158\n"
     ]
    },
    {
     "name": "stderr",
     "output_type": "stream",
     "text": [
      "Uploading: 100%|██████████| 1/1 [00:00<00:00, 31.57it/s]\n",
      "Uploading:   0%|          | 0/1 [00:00<?, ?it/s]\n",
      "Uploading:   0%|          | 0/1 [00:00<?, ?it/s]\n",
      "Uploading:   0%|          | 0/1 [00:00<?, ?it/s]\n"
     ]
    },
    {
     "name": "stdout",
     "output_type": "stream",
     "text": [
      "Processing slice z= 159\n",
      "Processing slice z= 160\n",
      "Processing slice z= 161\n",
      "Processing slice z= 162\n"
     ]
    },
    {
     "name": "stderr",
     "output_type": "stream",
     "text": [
      "Uploading: 100%|██████████| 1/1 [00:00<00:00, 27.67it/s]\n",
      "Uploading: 100%|██████████| 1/1 [00:00<00:00, 33.02it/s]\n",
      "Uploading:   0%|          | 0/1 [00:00<?, ?it/s]\n",
      "Uploading:   0%|          | 0/1 [00:00<?, ?it/s]\u001b[A\n",
      "Uploading: 100%|██████████| 1/1 [00:00<00:00, 30.04it/s]\n",
      "Uploading:   0%|          | 0/1 [00:00<?, ?it/s]\n",
      "Uploading:   0%|          | 0/1 [00:00<?, ?it/s]\n",
      "Uploading:   0%|          | 0/1 [00:00<?, ?it/s]\u001b[A\n",
      "Uploading:   0%|          | 0/1 [00:00<?, ?it/s]\u001b[A\n",
      "\n",
      "Uploading:   0%|          | 0/1 [00:00<?, ?it/s]\u001b[A\n"
     ]
    },
    {
     "name": "stdout",
     "output_type": "stream",
     "text": [
      "Processing slice z= 163\n",
      "Processing slice z= 164\n",
      "Processing slice z= 165\n",
      "success\n",
      "success\n",
      "success\n",
      "success\n",
      "success\n",
      "success\n",
      "success\n",
      "success\n",
      "success\n",
      "success\n",
      "success\n"
     ]
    },
    {
     "name": "stderr",
     "output_type": "stream",
     "text": [
      "Uploading: 100%|██████████| 1/1 [00:00<00:00, 25.64it/s]\n",
      "Uploading: 100%|██████████| 1/1 [00:00<00:00, 25.55it/s]\n",
      "Uploading:   0%|          | 0/1 [00:00<?, ?it/s]\n",
      "Uploading: 100%|██████████| 1/1 [00:00<00:00, 26.65it/s]\n",
      "Uploading:   0%|          | 0/1 [00:00<?, ?it/s]\n",
      "Uploading:   0%|          | 0/1 [00:00<?, ?it/s]\u001b[A\n",
      "\n",
      "Uploading: 100%|██████████| 1/1 [00:00<00:00, 23.27it/s]\n",
      "Uploading:   0%|          | 0/1 [00:00<?, ?it/s]\n",
      "Uploading: 100%|██████████| 1/1 [00:00<00:00, 23.67it/s]\n",
      "Uploading:   0%|          | 0/1 [00:00<?, ?it/s]\n",
      "Uploading:   0%|          | 0/1 [00:00<?, ?it/s]\n",
      "Uploading:   0%|          | 0/1 [00:00<?, ?it/s]"
     ]
    },
    {
     "name": "stdout",
     "output_type": "stream",
     "text": [
      "Processing slice z= 166\n"
     ]
    },
    {
     "name": "stderr",
     "output_type": "stream",
     "text": [
      "\n"
     ]
    },
    {
     "name": "stdout",
     "output_type": "stream",
     "text": [
      "Processing slice z= 167\n",
      "Processing slice z= 168\n",
      "Processing slice z= 169\n",
      "Processing slice z= 170\n"
     ]
    },
    {
     "name": "stderr",
     "output_type": "stream",
     "text": [
      "Uploading: 100%|██████████| 1/1 [00:00<00:00, 26.45it/s]\n",
      "Uploading: 100%|██████████| 1/1 [00:00<00:00, 26.00it/s]\n",
      "Uploading: 100%|██████████| 1/1 [00:00<00:00, 25.68it/s]\n",
      "Uploading:   0%|          | 0/1 [00:00<?, ?it/s]\n",
      "\n",
      "Uploading:   0%|          | 0/1 [00:00<?, ?it/s]\u001b[A\n",
      "Uploading:   0%|          | 0/1 [00:00<?, ?it/s]\u001b[A\n",
      "Uploading:   0%|          | 0/1 [00:00<?, ?it/s]\n"
     ]
    },
    {
     "name": "stdout",
     "output_type": "stream",
     "text": [
      "Processing slice z= 171\n"
     ]
    },
    {
     "name": "stderr",
     "output_type": "stream",
     "text": [
      "Uploading:   0%|          | 0/1 [00:00<?, ?it/s]\u001b[A\n",
      "Uploading:   0%|          | 0/1 [00:00<?, ?it/s]\u001b[A\n",
      "Uploading:   0%|          | 0/1 [00:00<?, ?it/s]\u001b[A"
     ]
    },
    {
     "name": "stdout",
     "output_type": "stream",
     "text": [
      "Processing slice z= 172\n"
     ]
    },
    {
     "name": "stderr",
     "output_type": "stream",
     "text": [
      "Uploading:   0%|          | 0/1 [00:00<?, ?it/s]\n"
     ]
    },
    {
     "name": "stdout",
     "output_type": "stream",
     "text": [
      "Processing slice z= 173\n"
     ]
    },
    {
     "name": "stderr",
     "output_type": "stream",
     "text": [
      "Uploading: 100%|██████████| 1/1 [00:00<00:00, 32.56it/s]\n",
      "\n",
      "Uploading: 100%|██████████| 1/1 [00:00<00:00, 26.33it/s]\n"
     ]
    },
    {
     "name": "stdout",
     "output_type": "stream",
     "text": [
      "success\n",
      "success\n",
      "success\n",
      "success\n",
      "success\n",
      "success\n",
      "success\n",
      "success\n"
     ]
    },
    {
     "name": "stderr",
     "output_type": "stream",
     "text": [
      "Uploading:   0%|          | 0/1 [00:00<?, ?it/s]\n",
      "Uploading:   0%|          | 0/1 [00:00<?, ?it/s]\u001b[A\n",
      "Uploading: 100%|██████████| 1/1 [00:00<00:00, 26.38it/s]\n",
      "Uploading: 100%|██████████| 1/1 [00:00<00:00, 22.68it/s]\n",
      "Uploading: 100%|██████████| 1/1 [00:00<00:00, 25.66it/s]\n",
      "Uploading:   0%|          | 0/1 [00:00<?, ?it/s]\n",
      "Uploading:   0%|          | 0/1 [00:00<?, ?it/s]\n",
      "Uploading:   0%|          | 0/1 [00:00<?, ?it/s]\u001b[A"
     ]
    },
    {
     "name": "stdout",
     "output_type": "stream",
     "text": [
      "Processing slice z= 174\n"
     ]
    },
    {
     "name": "stderr",
     "output_type": "stream",
     "text": [
      "\n",
      "Uploading:   0%|          | 0/1 [00:00<?, ?it/s]\n",
      "Uploading:   0%|          | 0/1 [00:00<?, ?it/s]\n"
     ]
    },
    {
     "name": "stdout",
     "output_type": "stream",
     "text": [
      "Processing slice z= 175\n"
     ]
    },
    {
     "name": "stderr",
     "output_type": "stream",
     "text": [
      "Uploading: 100%|██████████| 1/1 [00:00<00:00, 31.43it/s]\n"
     ]
    },
    {
     "name": "stdout",
     "output_type": "stream",
     "text": [
      "Processing slice z= 176\n",
      "Processing slice z= 177\n",
      "Processing slice z= 178\n"
     ]
    },
    {
     "name": "stderr",
     "output_type": "stream",
     "text": [
      "Uploading: 100%|██████████| 1/1 [00:00<00:00, 27.58it/s]\n",
      "Uploading:   0%|          | 0/1 [00:00<?, ?it/s]\n",
      "Uploading:   0%|          | 0/1 [00:00<?, ?it/s]\u001b[A\n",
      "Uploading:   0%|          | 0/1 [00:00<?, ?it/s]\n",
      "Uploading:   0%|          | 0/1 [00:00<?, ?it/s]\u001b[A\n",
      "Uploading:   0%|          | 0/1 [00:00<?, ?it/s]\n",
      "Uploading: 100%|██████████| 1/1 [00:00<00:00, 25.02it/s]\n",
      "\n",
      "Uploading:   0%|          | 0/1 [00:00<?, ?it/s]\u001b[A"
     ]
    },
    {
     "name": "stdout",
     "output_type": "stream",
     "text": [
      "Processing slice z= 179\n"
     ]
    },
    {
     "name": "stderr",
     "output_type": "stream",
     "text": [
      "\n",
      "Uploading:   0%|          | 0/1 [00:00<?, ?it/s]"
     ]
    },
    {
     "name": "stdout",
     "output_type": "stream",
     "text": [
      "Processing slice z= 180\n"
     ]
    },
    {
     "name": "stderr",
     "output_type": "stream",
     "text": [
      "Uploading:   0%|          | 0/1 [00:00<?, ?it/s]\n",
      "Uploading: 100%|██████████| 1/1 [00:00<00:00, 33.63it/s]\n",
      "Uploading: 100%|██████████| 1/1 [00:00<00:00, 37.82it/s]\n",
      "\n",
      "Uploading:   0%|          | 0/1 [00:00<?, ?it/s]\u001b[A\n",
      "Uploading:   0%|          | 0/1 [00:00<?, ?it/s]\n",
      "Uploading:   0%|          | 0/1 [00:00<?, ?it/s]\u001b[A"
     ]
    },
    {
     "name": "stdout",
     "output_type": "stream",
     "text": [
      "Processing slice z= 181\n"
     ]
    },
    {
     "name": "stderr",
     "output_type": "stream",
     "text": [
      "Uploading:   0%|          | 0/1 [00:00<?, ?it/s]\n",
      "Uploading: 100%|██████████| 1/1 [00:00<00:00, 39.66it/s]\n",
      "Uploading: 100%|██████████| 1/1 [00:00<00:00, 28.26it/s]\n"
     ]
    },
    {
     "name": "stdout",
     "output_type": "stream",
     "text": [
      "Processing slice z= 182\n",
      "Processing slice z= 183\n"
     ]
    },
    {
     "name": "stderr",
     "output_type": "stream",
     "text": [
      "Uploading:   0%|          | 0/1 [00:00<?, ?it/s]\n",
      "Uploading: 100%|██████████| 1/1 [00:00<00:00, 22.37it/s]\n",
      "Uploading:   0%|          | 0/1 [00:00<?, ?it/s]\n",
      "Uploading:   0%|          | 0/1 [00:00<?, ?it/s]\n",
      "Uploading: 100%|██████████| 1/1 [00:00<00:00, 28.48it/s]\n"
     ]
    },
    {
     "name": "stdout",
     "output_type": "stream",
     "text": [
      "Processing slice z= 184\n",
      "Processing slice z= 185\n"
     ]
    },
    {
     "name": "stderr",
     "output_type": "stream",
     "text": [
      "Uploading:   0%|          | 0/1 [00:00<?, ?it/s]\n",
      "Uploading: 100%|██████████| 1/1 [00:00<00:00, 29.07it/s]\n",
      "Uploading:   0%|          | 0/1 [00:00<?, ?it/s]\n"
     ]
    },
    {
     "name": "stdout",
     "output_type": "stream",
     "text": [
      "success\n",
      "success\n",
      "success\n",
      "success\n",
      "success\n",
      "success\n",
      "success\n",
      "success\n",
      "success\n",
      "success\n",
      "success\n",
      "success\n"
     ]
    },
    {
     "name": "stderr",
     "output_type": "stream",
     "text": [
      "\n",
      "Uploading:   0%|          | 0/1 [00:00<?, ?it/s]"
     ]
    },
    {
     "name": "stdout",
     "output_type": "stream",
     "text": [
      "Processing slice z= 186\n"
     ]
    },
    {
     "name": "stderr",
     "output_type": "stream",
     "text": [
      "Uploading:   0%|          | 0/1 [00:00<?, ?it/s]\n",
      "Uploading:   0%|          | 0/1 [00:00<?, ?it/s]\n",
      "\n",
      "Uploading:   0%|          | 0/1 [00:00<?, ?it/s]\u001b[A\n",
      "Uploading:   0%|          | 0/1 [00:00<?, ?it/s]\u001b[A"
     ]
    },
    {
     "name": "stdout",
     "output_type": "stream",
     "text": [
      "Processing slice z= 187\n"
     ]
    },
    {
     "name": "stderr",
     "output_type": "stream",
     "text": [
      "Uploading: 100%|██████████| 1/1 [00:00<00:00, 32.16it/s]\n"
     ]
    },
    {
     "name": "stdout",
     "output_type": "stream",
     "text": [
      "Processing slice z= 188\n"
     ]
    },
    {
     "name": "stderr",
     "output_type": "stream",
     "text": [
      "Uploading:   0%|          | 0/1 [00:00<?, ?it/s]\n",
      "Uploading: 100%|██████████| 1/1 [00:00<00:00, 25.82it/s]\n",
      "Uploading:   0%|          | 0/1 [00:00<?, ?it/s]\n",
      "Uploading:   0%|          | 0/1 [00:00<?, ?it/s]\n",
      "Uploading:   0%|          | 0/1 [00:00<?, ?it/s]\n",
      "Uploading:   0%|          | 0/1 [00:00<?, ?it/s]\u001b[A\n",
      "Uploading:   0%|          | 0/1 [00:00<?, ?it/s]\u001b[A"
     ]
    },
    {
     "name": "stdout",
     "output_type": "stream",
     "text": [
      "Processing slice z= 189\n"
     ]
    },
    {
     "name": "stderr",
     "output_type": "stream",
     "text": [
      "Uploading: 100%|██████████| 1/1 [00:00<00:00, 25.76it/s]\n",
      "Uploading:   0%|          | 0/1 [00:00<?, ?it/s]"
     ]
    },
    {
     "name": "stdout",
     "output_type": "stream",
     "text": [
      "Processing slice z= 190\n"
     ]
    },
    {
     "name": "stderr",
     "output_type": "stream",
     "text": [
      "\n",
      "Uploading: 100%|██████████| 1/1 [00:00<00:00, 27.11it/s]\n"
     ]
    },
    {
     "name": "stdout",
     "output_type": "stream",
     "text": [
      "Processing slice z= 191\n"
     ]
    },
    {
     "name": "stderr",
     "output_type": "stream",
     "text": [
      "Uploading: 100%|██████████| 1/1 [00:00<00:00, 23.17it/s]\n",
      "Uploading: 100%|██████████| 1/1 [00:00<00:00, 25.42it/s]\n",
      "Uploading:   0%|          | 0/1 [00:00<?, ?it/s]\n",
      "Uploading:   0%|          | 0/1 [00:00<?, ?it/s]\n",
      "Uploading:   0%|          | 0/1 [00:00<?, ?it/s]\u001b[A\n",
      "\n",
      "Uploading: 100%|██████████| 1/1 [00:00<00:00, 26.10it/s]\n",
      "\n",
      "Uploading:   0%|          | 0/1 [00:00<?, ?it/s]\u001b[A"
     ]
    },
    {
     "name": "stdout",
     "output_type": "stream",
     "text": [
      "Processing slice z= 192\n"
     ]
    },
    {
     "name": "stderr",
     "output_type": "stream",
     "text": [
      "Uploading: 100%|██████████| 1/1 [00:00<00:00, 22.09it/s]\n",
      "Uploading:   0%|          | 0/1 [00:00<?, ?it/s]\n"
     ]
    },
    {
     "name": "stdout",
     "output_type": "stream",
     "text": [
      "Processing slice z= 193\n"
     ]
    },
    {
     "name": "stderr",
     "output_type": "stream",
     "text": [
      "Uploading:   0%|          | 0/1 [00:00<?, ?it/s]\n"
     ]
    },
    {
     "name": "stdout",
     "output_type": "stream",
     "text": [
      "success\n",
      "success\n",
      "success\n",
      "success\n",
      "success\n",
      "success\n",
      "success\n",
      "success\n"
     ]
    },
    {
     "name": "stderr",
     "output_type": "stream",
     "text": [
      "Uploading:   0%|          | 0/1 [00:00<?, ?it/s]\n"
     ]
    },
    {
     "name": "stdout",
     "output_type": "stream",
     "text": [
      "Processing slice z= 194\n",
      "Processing slice z= 195\n",
      "Processing slice z= 196\n"
     ]
    },
    {
     "name": "stderr",
     "output_type": "stream",
     "text": [
      "\n",
      "Uploading: 100%|██████████| 1/1 [00:00<00:00, 24.49it/s]\n",
      "Uploading:   0%|          | 0/1 [00:00<?, ?it/s]\n",
      "Uploading: 100%|██████████| 1/1 [00:00<00:00, 20.61it/s]\n",
      "Uploading: 100%|██████████| 1/1 [00:00<00:00, 23.92it/s]\n",
      "Uploading:   0%|          | 0/1 [00:00<?, ?it/s]\n",
      "Uploading:   0%|          | 0/1 [00:00<?, ?it/s]\u001b[A\n",
      "Uploading:   0%|          | 0/1 [00:00<?, ?it/s]\u001b[A\n",
      "Uploading:   0%|          | 0/1 [00:00<?, ?it/s]\n",
      "\n",
      "Uploading:   0%|          | 0/1 [00:00<?, ?it/s]\u001b[A\n",
      "Uploading: 100%|██████████| 1/1 [00:00<00:00, 36.43it/s]"
     ]
    },
    {
     "name": "stdout",
     "output_type": "stream",
     "text": [
      "Processing slice z= 197\n"
     ]
    },
    {
     "name": "stderr",
     "output_type": "stream",
     "text": [
      "\n",
      "Uploading:   0%|          | 0/1 [00:00<?, ?it/s]"
     ]
    },
    {
     "name": "stdout",
     "output_type": "stream",
     "text": [
      "Processing slice z= 198\n"
     ]
    },
    {
     "name": "stderr",
     "output_type": "stream",
     "text": [
      "\n"
     ]
    },
    {
     "name": "stdout",
     "output_type": "stream",
     "text": [
      "Processing slice z= 199\n",
      "Processing slice z= 200\n"
     ]
    },
    {
     "name": "stderr",
     "output_type": "stream",
     "text": [
      "Uploading: 100%|██████████| 1/1 [00:00<00:00, 26.95it/s]\n",
      "Uploading:   0%|          | 0/1 [00:00<?, ?it/s]\n",
      "Uploading: 100%|██████████| 1/1 [00:00<00:00, 25.61it/s]\n",
      "Uploading: 100%|██████████| 1/1 [00:00<00:00, 25.51it/s]\n",
      "Uploading: 100%|██████████| 1/1 [00:00<00:00, 29.35it/s]\n",
      "\n",
      "Uploading:   0%|          | 0/1 [00:00<?, ?it/s]"
     ]
    },
    {
     "name": "stdout",
     "output_type": "stream",
     "text": [
      "Processing slice z= 201\n"
     ]
    },
    {
     "name": "stderr",
     "output_type": "stream",
     "text": [
      "\u001b[A\n",
      "Uploading:   0%|          | 0/1 [00:00<?, ?it/s]\u001b[A\n",
      "Uploading:   0%|          | 0/1 [00:00<?, ?it/s]\u001b[A\n",
      "\n",
      "Uploading:   0%|          | 0/1 [00:00<?, ?it/s]\u001b[A\n",
      "Uploading:   0%|          | 0/1 [00:00<?, ?it/s]\n",
      "Uploading:   0%|          | 0/1 [00:00<?, ?it/s]"
     ]
    },
    {
     "name": "stdout",
     "output_type": "stream",
     "text": [
      "Processing slice z= 202\n"
     ]
    },
    {
     "name": "stderr",
     "output_type": "stream",
     "text": [
      "\n"
     ]
    },
    {
     "name": "stdout",
     "output_type": "stream",
     "text": [
      "success\n",
      "success\n",
      "success\n",
      "success\n",
      "success\n",
      "success\n",
      "success\n",
      "success\n"
     ]
    },
    {
     "name": "stderr",
     "output_type": "stream",
     "text": [
      "Uploading:   0%|          | 0/1 [00:00<?, ?it/s]\u001b[A"
     ]
    },
    {
     "name": "stdout",
     "output_type": "stream",
     "text": [
      "Processing slice z= 203\n",
      "Processing slice z= 204\n"
     ]
    },
    {
     "name": "stderr",
     "output_type": "stream",
     "text": [
      "Uploading: 100%|██████████| 1/1 [00:00<00:00, 29.22it/s]\n",
      "Uploading: 100%|██████████| 1/1 [00:00<00:00, 30.24it/s]\n",
      "Uploading: 100%|██████████| 1/1 [00:00<00:00, 23.05it/s]\n",
      "Uploading:   0%|          | 0/1 [00:00<?, ?it/s]\n",
      "\n",
      "Uploading:   0%|          | 0/1 [00:00<?, ?it/s]\u001b[A\n",
      "Uploading: 100%|██████████| 1/1 [00:00<00:00, 28.85it/s]\n",
      "Uploading:   0%|          | 0/1 [00:00<?, ?it/s]\n",
      "\n",
      "Uploading:   0%|          | 0/1 [00:00<?, ?it/s]\u001b[A"
     ]
    },
    {
     "name": "stdout",
     "output_type": "stream",
     "text": [
      "Processing slice z= 205\n",
      "Processing slice z= 206\n",
      "Processing slice z= 207\n"
     ]
    },
    {
     "name": "stderr",
     "output_type": "stream",
     "text": [
      "Uploading:   0%|          | 0/1 [00:00<?, ?it/s]\n",
      "Uploading: 100%|██████████| 1/1 [00:00<00:00, 25.40it/s]\n",
      "Uploading:   0%|          | 0/1 [00:00<?, ?it/s]\n",
      "Uploading:   0%|          | 0/1 [00:00<?, ?it/s]\u001b[A\n",
      "Uploading:   0%|          | 0/1 [00:00<?, ?it/s]\n",
      "Uploading:   0%|          | 0/1 [00:00<?, ?it/s]\u001b[A"
     ]
    },
    {
     "name": "stdout",
     "output_type": "stream",
     "text": [
      "Processing slice z= 208\n"
     ]
    },
    {
     "name": "stderr",
     "output_type": "stream",
     "text": [
      "\n",
      "Uploading:   0%|          | 0/1 [00:00<?, ?it/s]\u001b[A\n",
      "Uploading: 100%|██████████| 1/1 [00:00<00:00, 23.49it/s]"
     ]
    },
    {
     "name": "stdout",
     "output_type": "stream",
     "text": [
      "Processing slice z= 209\n"
     ]
    },
    {
     "name": "stderr",
     "output_type": "stream",
     "text": [
      "\n",
      "Uploading:   0%|          | 0/1 [00:00<?, ?it/s]\n",
      "Uploading: 100%|██████████| 1/1 [00:00<00:00, 25.03it/s]\n",
      "\n"
     ]
    },
    {
     "name": "stdout",
     "output_type": "stream",
     "text": [
      "Processing slice z= 210\n"
     ]
    },
    {
     "name": "stderr",
     "output_type": "stream",
     "text": [
      "Uploading:   0%|          | 0/1 [00:00<?, ?it/s]\u001b[A\n",
      "Uploading: 100%|██████████| 1/1 [00:00<00:00, 25.19it/s]\n",
      "Uploading: 100%|██████████| 1/1 [00:00<00:00, 27.32it/s]\n",
      "Uploading: 100%|██████████| 1/1 [00:00<00:00, 24.72it/s]\n"
     ]
    },
    {
     "name": "stdout",
     "output_type": "stream",
     "text": [
      "success\n",
      "success\n",
      "success\n",
      "success\n",
      "success\n",
      "success\n",
      "success\n",
      "success\n",
      "success\n"
     ]
    },
    {
     "name": "stderr",
     "output_type": "stream",
     "text": [
      "Uploading:   0%|          | 0/1 [00:00<?, ?it/s]\n",
      "Uploading:   0%|          | 0/1 [00:00<?, ?it/s]\n",
      "Uploading: 100%|██████████| 1/1 [00:00<00:00, 25.36it/s]\n"
     ]
    },
    {
     "name": "stdout",
     "output_type": "stream",
     "text": [
      "Processing slice z= 211\n"
     ]
    },
    {
     "name": "stderr",
     "output_type": "stream",
     "text": [
      "\n",
      "Uploading:   0%|          | 0/1 [00:00<?, ?it/s]\u001b[A\n",
      "Uploading:   0%|          | 0/1 [00:00<?, ?it/s]\u001b[A\n"
     ]
    },
    {
     "name": "stdout",
     "output_type": "stream",
     "text": [
      "Processing slice z= 212\n",
      "Processing slice z= 213\n"
     ]
    },
    {
     "name": "stderr",
     "output_type": "stream",
     "text": [
      "Uploading:   0%|          | 0/1 [00:00<?, ?it/s]\n",
      "Uploading: 100%|██████████| 1/1 [00:00<00:00, 35.45it/s]\n"
     ]
    },
    {
     "name": "stdout",
     "output_type": "stream",
     "text": [
      "Processing slice z= 214\n",
      "Processing slice z= 215\n"
     ]
    },
    {
     "name": "stderr",
     "output_type": "stream",
     "text": [
      "Uploading:   0%|          | 0/1 [00:00<?, ?it/s]\n",
      "Uploading:   0%|          | 0/1 [00:00<?, ?it/s]\n",
      "Uploading:   0%|          | 0/1 [00:00<?, ?it/s]\u001b[A"
     ]
    },
    {
     "name": "stdout",
     "output_type": "stream",
     "text": [
      "Processing slice z= 216\n"
     ]
    },
    {
     "name": "stderr",
     "output_type": "stream",
     "text": [
      "Uploading:   0%|          | 0/1 [00:00<?, ?it/s]\n",
      "Uploading:   0%|          | 0/1 [00:00<?, ?it/s]\u001b[A\n",
      "Uploading: 100%|██████████| 1/1 [00:00<00:00, 22.41it/s]\n",
      "Uploading: 100%|██████████| 1/1 [00:00<00:00, 20.57it/s]\n",
      "Uploading:   0%|          | 0/1 [00:00<?, ?it/s]\n",
      "Uploading:   0%|          | 0/1 [00:00<?, ?it/s]\u001b[A\n",
      "Uploading:   0%|          | 0/1 [00:00<?, ?it/s]\u001b[A\n",
      "Uploading:   0%|          | 0/1 [00:00<?, ?it/s]\u001b[A\n",
      "Uploading:   0%|          | 0/1 [00:00<?, ?it/s]\n",
      "Uploading: 100%|██████████| 1/1 [00:00<00:00, 28.75it/s]\n",
      "Uploading:   0%|          | 0/1 [00:00<?, ?it/s]"
     ]
    },
    {
     "name": "stdout",
     "output_type": "stream",
     "text": [
      "Processing slice z= 217\n"
     ]
    },
    {
     "name": "stderr",
     "output_type": "stream",
     "text": [
      "\n"
     ]
    },
    {
     "name": "stdout",
     "output_type": "stream",
     "text": [
      "Processing slice z= 218\n"
     ]
    },
    {
     "name": "stderr",
     "output_type": "stream",
     "text": [
      "Uploading: 100%|██████████| 1/1 [00:00<00:00, 28.94it/s]\n"
     ]
    },
    {
     "name": "stdout",
     "output_type": "stream",
     "text": [
      "Processing slice z= 219\n"
     ]
    },
    {
     "name": "stderr",
     "output_type": "stream",
     "text": [
      "Uploading: 100%|██████████| 1/1 [00:00<00:00, 26.83it/s]\n",
      "Uploading:   0%|          | 0/1 [00:00<?, ?it/s]\n",
      "Uploading:   0%|          | 0/1 [00:00<?, ?it/s]\n",
      "Uploading:   0%|          | 0/1 [00:00<?, ?it/s]\u001b[A\n",
      "Uploading:   0%|          | 0/1 [00:00<?, ?it/s]\u001b[A"
     ]
    },
    {
     "name": "stdout",
     "output_type": "stream",
     "text": [
      "Processing slice z= 220\n"
     ]
    },
    {
     "name": "stderr",
     "output_type": "stream",
     "text": [
      "Uploading: 100%|██████████| 1/1 [00:00<00:00, 25.87it/s]\n",
      "Uploading:   0%|          | 0/1 [00:00<?, ?it/s]\n",
      "Uploading: 100%|██████████| 1/1 [00:00<00:00, 20.69it/s]\n",
      "\n"
     ]
    },
    {
     "name": "stdout",
     "output_type": "stream",
     "text": [
      "success\n",
      "success\n",
      "success\n",
      "success\n",
      "success\n",
      "success\n",
      "success\n",
      "success\n",
      "success\n",
      "success\n"
     ]
    },
    {
     "name": "stderr",
     "output_type": "stream",
     "text": [
      "Uploading: 100%|██████████| 1/1 [00:00<00:00, 23.52it/s]\n",
      "Uploading:   0%|          | 0/1 [00:00<?, ?it/s]"
     ]
    },
    {
     "name": "stdout",
     "output_type": "stream",
     "text": [
      "Processing slice z= 221\n"
     ]
    },
    {
     "name": "stderr",
     "output_type": "stream",
     "text": [
      "\n",
      "Uploading:   0%|          | 0/1 [00:00<?, ?it/s]\n",
      "Uploading:   0%|          | 0/1 [00:00<?, ?it/s]\n",
      "Uploading:   0%|          | 0/1 [00:00<?, ?it/s]\n"
     ]
    },
    {
     "name": "stdout",
     "output_type": "stream",
     "text": [
      "Processing slice z= 222\n"
     ]
    },
    {
     "name": "stderr",
     "output_type": "stream",
     "text": [
      "\r",
      "Uploading:   0%|          | 0/1 [00:00<?, ?it/s]"
     ]
    },
    {
     "name": "stdout",
     "output_type": "stream",
     "text": [
      "Processing slice z= 223\n",
      "Processing slice z= 224\n"
     ]
    },
    {
     "name": "stderr",
     "output_type": "stream",
     "text": [
      "Uploading: 100%|██████████| 1/1 [00:00<00:00, 32.31it/s]\n",
      "Uploading: 100%|██████████| 1/1 [00:00<00:00, 26.20it/s]\n",
      "Uploading: 100%|██████████| 1/1 [00:00<00:00, 31.21it/s]\n",
      "Uploading:   0%|          | 0/1 [00:00<?, ?it/s]\n",
      "Uploading:   0%|          | 0/1 [00:00<?, ?it/s]\n",
      "Uploading:   0%|          | 0/1 [00:00<?, ?it/s]\u001b[A\n",
      "Uploading:   0%|          | 0/1 [00:00<?, ?it/s]\u001b[A\n",
      "Uploading:   0%|          | 0/1 [00:00<?, ?it/s]\u001b[A\n",
      "Uploading:   0%|          | 0/1 [00:00<?, ?it/s]\n",
      "\n",
      "Uploading:   0%|          | 0/1 [00:00<?, ?it/s]\u001b[A"
     ]
    },
    {
     "name": "stdout",
     "output_type": "stream",
     "text": [
      "Processing slice z= 225\n"
     ]
    },
    {
     "name": "stderr",
     "output_type": "stream",
     "text": [
      "\r",
      "Uploading: 100%|██████████| 1/1 [00:00<00:00, 31.87it/s]"
     ]
    },
    {
     "name": "stdout",
     "output_type": "stream",
     "text": [
      "Processing slice z= 226\n",
      "Processing slice z= 227\n"
     ]
    },
    {
     "name": "stderr",
     "output_type": "stream",
     "text": [
      "\n",
      "Uploading:   0%|          | 0/1 [00:00<?, ?it/s]\n",
      "Uploading: 100%|██████████| 1/1 [00:00<00:00, 30.71it/s]\n"
     ]
    },
    {
     "name": "stdout",
     "output_type": "stream",
     "text": [
      "Processing slice z= 228\n"
     ]
    },
    {
     "name": "stderr",
     "output_type": "stream",
     "text": [
      "Uploading:   0%|          | 0/1 [00:00<?, ?it/s]\n",
      "Uploading:   0%|          | 0/1 [00:00<?, ?it/s]\u001b[A\n",
      "Uploading:   0%|          | 0/1 [00:00<?, ?it/s]\u001b[A\n",
      "Uploading: 100%|██████████| 1/1 [00:00<00:00, 26.64it/s]\n",
      "Uploading:   0%|          | 0/1 [00:00<?, ?it/s]\n",
      "Uploading: 100%|██████████| 1/1 [00:00<00:00, 26.16it/s]\n",
      "Uploading:   0%|          | 0/1 [00:00<?, ?it/s]\n",
      "Uploading:   0%|          | 0/1 [00:00<?, ?it/s]\n",
      "Uploading: 100%|██████████| 1/1 [00:00<00:00, 24.84it/s]\n"
     ]
    },
    {
     "name": "stdout",
     "output_type": "stream",
     "text": [
      "Processing slice z= 229\n"
     ]
    },
    {
     "name": "stderr",
     "output_type": "stream",
     "text": [
      "Uploading:   0%|          | 0/1 [00:00<?, ?it/s]\n",
      "Uploading:   0%|          | 0/1 [00:00<?, ?it/s]"
     ]
    },
    {
     "name": "stdout",
     "output_type": "stream",
     "text": [
      "Processing slice z= 230\n"
     ]
    },
    {
     "name": "stderr",
     "output_type": "stream",
     "text": [
      "\n",
      "Uploading:   0%|          | 0/1 [00:00<?, ?it/s]"
     ]
    },
    {
     "name": "stdout",
     "output_type": "stream",
     "text": [
      "Processing slice z= 231\n"
     ]
    },
    {
     "name": "stderr",
     "output_type": "stream",
     "text": [
      "Uploading: 100%|██████████| 1/1 [00:00<00:00, 31.04it/s]\n",
      "\n",
      "Uploading:   0%|          | 0/1 [00:00<?, ?it/s]\u001b[A\n"
     ]
    },
    {
     "name": "stdout",
     "output_type": "stream",
     "text": [
      "Processing slice z= 232\n"
     ]
    },
    {
     "name": "stderr",
     "output_type": "stream",
     "text": [
      "Uploading:   0%|          | 0/1 [00:00<?, ?it/s]\u001b[A"
     ]
    },
    {
     "name": "stdout",
     "output_type": "stream",
     "text": [
      "success\n",
      "success\n",
      "success\n",
      "success\n",
      "success\n",
      "success\n",
      "success\n",
      "success\n",
      "success\n",
      "success\n",
      "success\n",
      "success\n"
     ]
    },
    {
     "name": "stderr",
     "output_type": "stream",
     "text": [
      "Uploading:   0%|          | 0/1 [00:00<?, ?it/s]\n",
      "Uploading: 100%|██████████| 1/1 [00:00<00:00, 22.58it/s]\n",
      "Uploading: 100%|██████████| 1/1 [00:00<00:00, 20.92it/s]\n",
      "Uploading:   0%|          | 0/1 [00:00<?, ?it/s]\n",
      "Uploading:   0%|          | 0/1 [00:00<?, ?it/s]\u001b[A\n",
      "Uploading: 100%|██████████| 1/1 [00:00<00:00, 24.19it/s]"
     ]
    },
    {
     "name": "stdout",
     "output_type": "stream",
     "text": [
      "Processing slice z= 233\n"
     ]
    },
    {
     "name": "stderr",
     "output_type": "stream",
     "text": [
      "\n",
      "Uploading:   0%|          | 0/1 [00:00<?, ?it/s]\n",
      "Uploading:   0%|          | 0/1 [00:00<?, ?it/s]\n",
      "Uploading:   0%|          | 0/1 [00:00<?, ?it/s]\n",
      "Uploading: 100%|██████████| 1/1 [00:00<00:00, 29.99it/s]\n"
     ]
    },
    {
     "name": "stdout",
     "output_type": "stream",
     "text": [
      "Processing slice z= 234\n",
      "Processing slice z= 235\n"
     ]
    },
    {
     "name": "stderr",
     "output_type": "stream",
     "text": [
      "\r",
      "Uploading:   0%|          | 0/1 [00:00<?, ?it/s]"
     ]
    },
    {
     "name": "stdout",
     "output_type": "stream",
     "text": [
      "Processing slice z= 236\n"
     ]
    },
    {
     "name": "stderr",
     "output_type": "stream",
     "text": [
      "Uploading: 100%|██████████| 1/1 [00:00<00:00, 25.05it/s]\n",
      "Uploading:   0%|          | 0/1 [00:00<?, ?it/s]\n",
      "\n",
      "Uploading:   0%|          | 0/1 [00:00<?, ?it/s]\u001b[A"
     ]
    },
    {
     "name": "stdout",
     "output_type": "stream",
     "text": [
      "Processing slice z= 237\n"
     ]
    },
    {
     "name": "stderr",
     "output_type": "stream",
     "text": [
      "Uploading:   0%|          | 0/1 [00:00<?, ?it/s]\n",
      "Uploading: 100%|██████████| 1/1 [00:00<00:00, 27.93it/s]\n",
      "Uploading: 100%|██████████| 1/1 [00:00<00:00, 23.78it/s]\n",
      "Uploading:   0%|          | 0/1 [00:00<?, ?it/s]\n",
      "Uploading:   0%|          | 0/1 [00:00<?, ?it/s]\u001b[A\n",
      "Uploading:   0%|          | 0/1 [00:00<?, ?it/s]\n",
      "\n"
     ]
    },
    {
     "name": "stdout",
     "output_type": "stream",
     "text": [
      "Processing slice z= 238\n"
     ]
    },
    {
     "name": "stderr",
     "output_type": "stream",
     "text": [
      "Uploading:   0%|          | 0/1 [00:00<?, ?it/s]\u001b[A\n"
     ]
    },
    {
     "name": "stdout",
     "output_type": "stream",
     "text": [
      "Processing slice z= 239\n"
     ]
    },
    {
     "name": "stderr",
     "output_type": "stream",
     "text": [
      "Uploading: 100%|██████████| 1/1 [00:00<00:00, 31.22it/s]\n"
     ]
    },
    {
     "name": "stdout",
     "output_type": "stream",
     "text": [
      "Processing slice z= 240\n"
     ]
    },
    {
     "name": "stderr",
     "output_type": "stream",
     "text": [
      "\n",
      "Uploading:   0%|          | 0/1 [00:00<?, ?it/s]\u001b[A\n"
     ]
    },
    {
     "name": "stdout",
     "output_type": "stream",
     "text": [
      "success\n",
      "success\n",
      "success\n",
      "success\n",
      "success\n",
      "success\n",
      "success\n",
      "success\n"
     ]
    },
    {
     "name": "stderr",
     "output_type": "stream",
     "text": [
      "\n",
      "Uploading:   0%|          | 0/1 [00:00<?, ?it/s]\u001b[A\n",
      "Uploading: 100%|██████████| 1/1 [00:00<00:00, 26.93it/s]"
     ]
    },
    {
     "name": "stdout",
     "output_type": "stream",
     "text": [
      "Processing slice z= 241\n"
     ]
    },
    {
     "name": "stderr",
     "output_type": "stream",
     "text": [
      "\n",
      "\n",
      "Uploading: 100%|██████████| 1/1 [00:00<00:00, 22.71it/s]\n",
      "Uploading:   0%|          | 0/1 [00:00<?, ?it/s]\n",
      "Uploading:   0%|          | 0/1 [00:00<?, ?it/s]\n",
      "Uploading: 100%|██████████| 1/1 [00:00<00:00, 21.38it/s]\n",
      "Uploading: 100%|██████████| 1/1 [00:00<00:00, 26.96it/s]\n",
      "Uploading: 100%|██████████| 1/1 [00:00<00:00, 31.21it/s]\n",
      "Uploading:   0%|          | 0/1 [00:00<?, ?it/s]\n"
     ]
    },
    {
     "name": "stdout",
     "output_type": "stream",
     "text": [
      "Processing slice z= 242\n"
     ]
    },
    {
     "name": "stderr",
     "output_type": "stream",
     "text": [
      "Uploading:   0%|          | 0/1 [00:00<?, ?it/s]\n"
     ]
    },
    {
     "name": "stdout",
     "output_type": "stream",
     "text": [
      "Processing slice z= 243\n"
     ]
    },
    {
     "name": "stderr",
     "output_type": "stream",
     "text": [
      "\n",
      "Uploading:   0%|          | 0/1 [00:00<?, ?it/s]\u001b[A"
     ]
    },
    {
     "name": "stdout",
     "output_type": "stream",
     "text": [
      "Processing slice z= 244\n",
      "Processing slice z= 245\n"
     ]
    },
    {
     "name": "stderr",
     "output_type": "stream",
     "text": [
      "Uploading:   0%|          | 0/1 [00:00<?, ?it/s]\n",
      "Uploading: 100%|██████████| 1/1 [00:00<00:00, 19.63it/s]"
     ]
    },
    {
     "name": "stdout",
     "output_type": "stream",
     "text": [
      "Processing slice z= 246\n"
     ]
    },
    {
     "name": "stderr",
     "output_type": "stream",
     "text": [
      "\n",
      "Uploading:   0%|          | 0/1 [00:00<?, ?it/s]\n",
      "Uploading: 100%|██████████| 1/1 [00:00<00:00, 20.93it/s]\n",
      "\n",
      "Uploading:   0%|          | 0/1 [00:00<?, ?it/s]\u001b[A\n",
      "Uploading:   0%|          | 0/1 [00:00<?, ?it/s]\n",
      "Uploading:   0%|          | 0/1 [00:00<?, ?it/s]\u001b[A\n",
      "\n"
     ]
    },
    {
     "name": "stdout",
     "output_type": "stream",
     "text": [
      "Processing slice z= 247\n"
     ]
    },
    {
     "name": "stderr",
     "output_type": "stream",
     "text": [
      "Uploading:   0%|          | 0/1 [00:00<?, ?it/s]\u001b[A"
     ]
    },
    {
     "name": "stdout",
     "output_type": "stream",
     "text": [
      "Processing slice z= 248\n"
     ]
    },
    {
     "name": "stderr",
     "output_type": "stream",
     "text": [
      "\n",
      "Uploading: 100%|██████████| 1/1 [00:00<00:00, 17.90it/s]\n",
      "Uploading:   0%|          | 0/1 [00:00<?, ?it/s]\n",
      "Uploading: 100%|██████████| 1/1 [00:00<00:00, 18.11it/s]\n",
      "Uploading: 100%|██████████| 1/1 [00:00<00:00, 23.66it/s]\n",
      "Uploading: 100%|██████████| 1/1 [00:00<00:00, 25.86it/s]\n"
     ]
    },
    {
     "name": "stdout",
     "output_type": "stream",
     "text": [
      "Processing slice z= 249\n"
     ]
    },
    {
     "name": "stderr",
     "output_type": "stream",
     "text": [
      "Uploading:   0%|          | 0/1 [00:00<?, ?it/s]\n",
      "\n",
      "Uploading:   0%|          | 0/1 [00:00<?, ?it/s]\u001b[A\n",
      "Uploading:   0%|          | 0/1 [00:00<?, ?it/s]\u001b[A"
     ]
    },
    {
     "name": "stdout",
     "output_type": "stream",
     "text": [
      "success\n",
      "success\n",
      "success\n",
      "success\n",
      "success\n",
      "success\n",
      "success\n",
      "success\n",
      "success\n"
     ]
    },
    {
     "name": "stderr",
     "output_type": "stream",
     "text": [
      "Uploading:   0%|          | 0/1 [00:00<?, ?it/s]\n"
     ]
    },
    {
     "name": "stdout",
     "output_type": "stream",
     "text": [
      "Processing slice z= 250\n"
     ]
    },
    {
     "name": "stderr",
     "output_type": "stream",
     "text": [
      "Uploading:   0%|          | 0/1 [00:00<?, ?it/s]\n",
      "Uploading: 100%|██████████| 1/1 [00:00<00:00, 19.33it/s]\n",
      "Uploading: 100%|██████████| 1/1 [00:00<00:00, 26.12it/s]\n",
      "Uploading:   0%|          | 0/1 [00:00<?, ?it/s]\n"
     ]
    },
    {
     "name": "stdout",
     "output_type": "stream",
     "text": [
      "Processing slice z= 251\n",
      "Processing slice z= 252\n"
     ]
    },
    {
     "name": "stderr",
     "output_type": "stream",
     "text": [
      "\n",
      "Uploading:   0%|          | 0/1 [00:00<?, ?it/s]\u001b[A\n",
      "Uploading:   0%|          | 0/1 [00:00<?, ?it/s]"
     ]
    },
    {
     "name": "stdout",
     "output_type": "stream",
     "text": [
      "Processing slice z= 253\n"
     ]
    },
    {
     "name": "stderr",
     "output_type": "stream",
     "text": [
      "Uploading: 100%|██████████| 1/1 [00:00<00:00, 30.59it/s]\n",
      "Uploading:   0%|          | 0/1 [00:00<?, ?it/s]\n",
      "Uploading:   0%|          | 0/1 [00:00<?, ?it/s]\u001b[A\n",
      "Uploading:   0%|          | 0/1 [00:00<?, ?it/s]"
     ]
    },
    {
     "name": "stdout",
     "output_type": "stream",
     "text": [
      "Processing slice z= 254\n"
     ]
    },
    {
     "name": "stderr",
     "output_type": "stream",
     "text": [
      "Uploading:   0%|          | 0/1 [00:00<?, ?it/s]\n",
      "\n",
      "Uploading: 100%|██████████| 1/1 [00:00<00:00, 19.26it/s]\n",
      "Uploading:   0%|          | 0/1 [00:00<?, ?it/s]\n"
     ]
    },
    {
     "name": "stdout",
     "output_type": "stream",
     "text": [
      "Processing slice z= 255\n"
     ]
    },
    {
     "name": "stderr",
     "output_type": "stream",
     "text": [
      "Uploading:   0%|          | 0/1 [00:00<?, ?it/s]\u001b[A\n",
      "Uploading:   0%|          | 0/1 [00:00<?, ?it/s]\u001b[A\n",
      "Uploading: 100%|██████████| 1/1 [00:00<00:00, 20.06it/s]\n",
      "Uploading: 100%|██████████| 1/1 [00:00<00:00, 24.45it/s]\n",
      "Uploading:   0%|          | 0/1 [00:00<?, ?it/s]\n",
      "Uploading:   0%|          | 0/1 [00:00<?, ?it/s]\n",
      "\n",
      "Uploading: 100%|██████████| 1/1 [00:00<00:00, 22.00it/s]"
     ]
    },
    {
     "name": "stdout",
     "output_type": "stream",
     "text": [
      "Processing slice z= 256\n"
     ]
    },
    {
     "name": "stderr",
     "output_type": "stream",
     "text": [
      "\n"
     ]
    },
    {
     "name": "stdout",
     "output_type": "stream",
     "text": [
      "success\n",
      "success\n",
      "success\n",
      "success\n",
      "success\n",
      "success\n",
      "success\n"
     ]
    },
    {
     "name": "stderr",
     "output_type": "stream",
     "text": [
      "Uploading:   0%|          | 0/1 [00:00<?, ?it/s]\n"
     ]
    },
    {
     "name": "stdout",
     "output_type": "stream",
     "text": [
      "Processing slice z= 257\n",
      "Processing slice z= 258\n",
      "Processing slice z= 259\n"
     ]
    },
    {
     "name": "stderr",
     "output_type": "stream",
     "text": [
      "Uploading: 100%|██████████| 1/1 [00:00<00:00, 22.14it/s]\n",
      "Uploading: 100%|██████████| 1/1 [00:00<00:00, 18.80it/s]\n",
      "Uploading: 100%|██████████| 1/1 [00:00<00:00, 23.77it/s]\n",
      "\n",
      "Uploading:   0%|          | 0/1 [00:00<?, ?it/s]\u001b[A\n",
      "Uploading: 100%|██████████| 1/1 [00:00<00:00, 24.30it/s]\n",
      "Uploading:   0%|          | 0/1 [00:00<?, ?it/s]\n",
      "Uploading:   0%|          | 0/1 [00:00<?, ?it/s]\n",
      "Uploading:   0%|          | 0/1 [00:00<?, ?it/s]\n",
      "Uploading:   0%|          | 0/1 [00:00<?, ?it/s]\u001b[A\n",
      "Uploading:   0%|          | 0/1 [00:00<?, ?it/s]\u001b[A"
     ]
    },
    {
     "name": "stdout",
     "output_type": "stream",
     "text": [
      "Processing slice z= 260\n",
      "Processing slice z= 261\n"
     ]
    },
    {
     "name": "stderr",
     "output_type": "stream",
     "text": [
      "Uploading:   0%|          | 0/1 [00:00<?, ?it/s]\n",
      "Uploading: 100%|██████████| 1/1 [00:00<00:00, 31.25it/s]\n",
      "Uploading:   0%|          | 0/1 [00:00<?, ?it/s]\n",
      "Uploading:   0%|          | 0/1 [00:00<?, ?it/s]\n",
      "Uploading:   0%|          | 0/1 [00:00<?, ?it/s]\u001b[A\n",
      "Uploading:   0%|          | 0/1 [00:00<?, ?it/s]"
     ]
    },
    {
     "name": "stdout",
     "output_type": "stream",
     "text": [
      "Processing slice z= 262\n"
     ]
    },
    {
     "name": "stderr",
     "output_type": "stream",
     "text": [
      "Uploading: 100%|██████████| 1/1 [00:00<00:00, 23.41it/s]\n",
      "Uploading:   0%|          | 0/1 [00:00<?, ?it/s]"
     ]
    },
    {
     "name": "stdout",
     "output_type": "stream",
     "text": [
      "Processing slice z= 263\n"
     ]
    },
    {
     "name": "stderr",
     "output_type": "stream",
     "text": [
      "\n",
      "Uploading: 100%|██████████| 1/1 [00:00<00:00, 27.68it/s]\n",
      "Uploading:   0%|          | 0/1 [00:00<?, ?it/s]\n",
      "Uploading: 100%|██████████| 1/1 [00:00<00:00, 22.89it/s]\n"
     ]
    },
    {
     "name": "stdout",
     "output_type": "stream",
     "text": [
      "Processing slice z= 264\n"
     ]
    },
    {
     "name": "stderr",
     "output_type": "stream",
     "text": [
      "Uploading:   0%|          | 0/1 [00:00<?, ?it/s]\n",
      "Uploading:   0%|          | 0/1 [00:00<?, ?it/s]\n",
      "Uploading:   0%|          | 0/1 [00:00<?, ?it/s]\u001b[A\n",
      "\n"
     ]
    },
    {
     "name": "stdout",
     "output_type": "stream",
     "text": [
      "Processing slice z= 265\n"
     ]
    },
    {
     "name": "stderr",
     "output_type": "stream",
     "text": [
      "Uploading:   0%|          | 0/1 [00:00<?, ?it/s]\u001b[A"
     ]
    },
    {
     "name": "stdout",
     "output_type": "stream",
     "text": [
      "Processing slice z= 266\n",
      "Processing slice z= 267\n"
     ]
    },
    {
     "name": "stderr",
     "output_type": "stream",
     "text": [
      "Uploading: 100%|██████████| 1/1 [00:00<00:00, 25.49it/s]\n",
      "Uploading: 100%|██████████| 1/1 [00:00<00:00, 22.89it/s]\n",
      "Uploading:   0%|          | 0/1 [00:00<?, ?it/s]\n",
      "Uploading:   0%|          | 0/1 [00:00<?, ?it/s]\u001b[A\n",
      "Uploading:   0%|          | 0/1 [00:00<?, ?it/s]"
     ]
    },
    {
     "name": "stdout",
     "output_type": "stream",
     "text": [
      "success\n",
      "success\n",
      "success\n",
      "success\n",
      "success\n",
      "success\n",
      "success\n",
      "success\n",
      "success\n",
      "success\n",
      "success\n"
     ]
    },
    {
     "name": "stderr",
     "output_type": "stream",
     "text": [
      "\n",
      "\n",
      "Uploading:   0%|          | 0/1 [00:00<?, ?it/s]\u001b[A\n",
      "Uploading:   0%|          | 0/1 [00:00<?, ?it/s]\u001b[A"
     ]
    },
    {
     "name": "stdout",
     "output_type": "stream",
     "text": [
      "Processing slice z= 268\n"
     ]
    },
    {
     "name": "stderr",
     "output_type": "stream",
     "text": [
      "\n"
     ]
    },
    {
     "name": "stdout",
     "output_type": "stream",
     "text": [
      "Processing slice z= 269\n"
     ]
    },
    {
     "name": "stderr",
     "output_type": "stream",
     "text": [
      "Uploading: 100%|██████████| 1/1 [00:00<00:00, 25.35it/s]\n",
      "Uploading: 100%|██████████| 1/1 [00:00<00:00, 21.56it/s]\n",
      "Uploading:   0%|          | 0/1 [00:00<?, ?it/s]\n",
      "Uploading: 100%|██████████| 1/1 [00:00<00:00, 29.66it/s]\n"
     ]
    },
    {
     "name": "stdout",
     "output_type": "stream",
     "text": [
      "Processing slice z= 270\n"
     ]
    },
    {
     "name": "stderr",
     "output_type": "stream",
     "text": [
      "Uploading: 100%|██████████| 1/1 [00:00<00:00, 30.36it/s]\n",
      "Uploading:   0%|          | 0/1 [00:00<?, ?it/s]\n",
      "Uploading:   0%|          | 0/1 [00:00<?, ?it/s]\n",
      "Uploading:   0%|          | 0/1 [00:00<?, ?it/s]\u001b[A\n",
      "Uploading: 100%|██████████| 1/1 [00:00<00:00, 24.11it/s]\n"
     ]
    },
    {
     "name": "stdout",
     "output_type": "stream",
     "text": [
      "Processing slice z= 271\n"
     ]
    },
    {
     "name": "stderr",
     "output_type": "stream",
     "text": [
      "Uploading:   0%|          | 0/1 [00:00<?, ?it/s]\n",
      "Uploading:   0%|          | 0/1 [00:00<?, ?it/s]\n",
      "Uploading: 100%|██████████| 1/1 [00:00<00:00, 23.52it/s]\n",
      "Uploading:   0%|          | 0/1 [00:00<?, ?it/s]\n",
      "Uploading:   0%|          | 0/1 [00:00<?, ?it/s]\u001b[A\n",
      "\n",
      "Uploading:   0%|          | 0/1 [00:00<?, ?it/s]"
     ]
    },
    {
     "name": "stdout",
     "output_type": "stream",
     "text": [
      "Processing slice z= 273\n"
     ]
    },
    {
     "name": "stderr",
     "output_type": "stream",
     "text": [
      "\u001b[A"
     ]
    },
    {
     "name": "stdout",
     "output_type": "stream",
     "text": [
      "Processing slice z= 272\n"
     ]
    },
    {
     "name": "stderr",
     "output_type": "stream",
     "text": [
      "Uploading:   0%|          | 0/1 [00:00<?, ?it/s]\n"
     ]
    },
    {
     "name": "stdout",
     "output_type": "stream",
     "text": [
      "Processing slice z= 274\n",
      "Processing slice z= 275\n",
      "success\n",
      "success\n",
      "success\n",
      "success\n",
      "success\n",
      "success\n",
      "success\n",
      "success\n"
     ]
    },
    {
     "name": "stderr",
     "output_type": "stream",
     "text": [
      "Uploading: 100%|██████████| 1/1 [00:00<00:00, 22.89it/s]\n",
      "Uploading: 100%|██████████| 1/1 [00:00<00:00, 21.58it/s]\n",
      "Uploading: 100%|██████████| 1/1 [00:00<00:00, 27.29it/s]\n",
      "Uploading:   0%|          | 0/1 [00:00<?, ?it/s]\n",
      "Uploading:   0%|          | 0/1 [00:00<?, ?it/s]\u001b[A\n",
      "Uploading:   0%|          | 0/1 [00:00<?, ?it/s]\u001b[A\n",
      "Uploading:   0%|          | 0/1 [00:00<?, ?it/s]\n",
      "Uploading:   0%|          | 0/1 [00:00<?, ?it/s]\n",
      "Uploading: 100%|██████████| 1/1 [00:00<00:00, 20.55it/s]\n"
     ]
    },
    {
     "name": "stdout",
     "output_type": "stream",
     "text": [
      "Processing slice z= 276\n"
     ]
    },
    {
     "name": "stderr",
     "output_type": "stream",
     "text": [
      "\r",
      "Uploading:   0%|          | 0/1 [00:00<?, ?it/s]"
     ]
    },
    {
     "name": "stdout",
     "output_type": "stream",
     "text": [
      "Processing slice z= 277\n"
     ]
    },
    {
     "name": "stderr",
     "output_type": "stream",
     "text": [
      "\n",
      "\n",
      "Uploading:   0%|          | 0/1 [00:00<?, ?it/s]\u001b[A"
     ]
    },
    {
     "name": "stdout",
     "output_type": "stream",
     "text": [
      "Processing slice z= 278\n"
     ]
    },
    {
     "name": "stderr",
     "output_type": "stream",
     "text": [
      "Uploading: 100%|██████████| 1/1 [00:00<00:00, 29.81it/s]\n",
      "Uploading:   0%|          | 0/1 [00:00<?, ?it/s]\n",
      "Uploading:   0%|          | 0/1 [00:00<?, ?it/s]\n",
      "Uploading:   0%|          | 0/1 [00:00<?, ?it/s]"
     ]
    },
    {
     "name": "stdout",
     "output_type": "stream",
     "text": [
      "Processing slice z= 279\n"
     ]
    },
    {
     "name": "stderr",
     "output_type": "stream",
     "text": [
      "Uploading: 100%|██████████| 1/1 [00:00<00:00, 19.67it/s]\n",
      "\n",
      "Uploading:   0%|          | 0/1 [00:00<?, ?it/s]\u001b[A"
     ]
    },
    {
     "name": "stdout",
     "output_type": "stream",
     "text": [
      "Processing slice z= 280\n"
     ]
    },
    {
     "name": "stderr",
     "output_type": "stream",
     "text": [
      "Uploading:   0%|          | 0/1 [00:00<?, ?it/s]\n",
      "\n",
      "Uploading: 100%|██████████| 1/1 [00:00<00:00, 19.54it/s]\n"
     ]
    },
    {
     "name": "stdout",
     "output_type": "stream",
     "text": [
      "Processing slice z= 281\n"
     ]
    },
    {
     "name": "stderr",
     "output_type": "stream",
     "text": [
      "Uploading: 100%|██████████| 1/1 [00:00<00:00, 22.54it/s]\n",
      "Uploading:   0%|          | 0/1 [00:00<?, ?it/s]\n",
      "Uploading:   0%|          | 0/1 [00:00<?, ?it/s]\u001b[A\n",
      "Uploading:   0%|          | 0/1 [00:00<?, ?it/s]\n",
      "Uploading:   0%|          | 0/1 [00:00<?, ?it/s]\u001b[A\n",
      "\n",
      "Uploading: 100%|██████████| 1/1 [00:00<00:00, 31.82it/s]\n",
      "Uploading: 100%|██████████| 1/1 [00:00<00:00, 25.76it/s]\n",
      "\n",
      "Uploading:   0%|          | 0/1 [00:00<?, ?it/s]\u001b[A"
     ]
    },
    {
     "name": "stdout",
     "output_type": "stream",
     "text": [
      "Processing slice z= 282\n"
     ]
    },
    {
     "name": "stderr",
     "output_type": "stream",
     "text": [
      "Uploading:   0%|          | 0/1 [00:00<?, ?it/s]\n",
      "\n"
     ]
    },
    {
     "name": "stdout",
     "output_type": "stream",
     "text": [
      "Processing slice z= 283\n",
      "success\n",
      "success\n",
      "success\n",
      "success\n",
      "success\n",
      "success\n",
      "success\n",
      "success\n",
      "Processing slice z= 284\n",
      "Processing slice z= 285\n"
     ]
    },
    {
     "name": "stderr",
     "output_type": "stream",
     "text": [
      "Uploading: 100%|██████████| 1/1 [00:00<00:00, 22.62it/s]\n",
      "Uploading: 100%|██████████| 1/1 [00:00<00:00, 32.86it/s]\n",
      "Uploading:   0%|          | 0/1 [00:00<?, ?it/s]\n",
      "Uploading:   0%|          | 0/1 [00:00<?, ?it/s]\u001b[A\n",
      "Uploading: 100%|██████████| 1/1 [00:00<00:00, 25.43it/s]\n",
      "Uploading:   0%|          | 0/1 [00:00<?, ?it/s]\n",
      "Uploading:   0%|          | 0/1 [00:00<?, ?it/s]\n",
      "Uploading:   0%|          | 0/1 [00:00<?, ?it/s]\u001b[A\n",
      "Uploading: 100%|██████████| 1/1 [00:00<00:00, 26.48it/s]\n",
      "\n"
     ]
    },
    {
     "name": "stdout",
     "output_type": "stream",
     "text": [
      "Processing slice z= 286\n"
     ]
    },
    {
     "name": "stderr",
     "output_type": "stream",
     "text": [
      "Uploading:   0%|          | 0/1 [00:00<?, ?it/s]\u001b[A\n",
      "Uploading:   0%|          | 0/1 [00:00<?, ?it/s]\n"
     ]
    },
    {
     "name": "stdout",
     "output_type": "stream",
     "text": [
      "Processing slice z= 287\n",
      "Processing slice z= 288\n"
     ]
    },
    {
     "name": "stderr",
     "output_type": "stream",
     "text": [
      "\r",
      "Uploading: 100%|██████████| 1/1 [00:00<00:00, 26.42it/s]"
     ]
    },
    {
     "name": "stdout",
     "output_type": "stream",
     "text": [
      "Processing slice z= 289\n"
     ]
    },
    {
     "name": "stderr",
     "output_type": "stream",
     "text": [
      "\n",
      "Uploading: 100%|██████████| 1/1 [00:00<00:00, 27.56it/s]\n",
      "Uploading:   0%|          | 0/1 [00:00<?, ?it/s]\n",
      "Uploading:   0%|          | 0/1 [00:00<?, ?it/s]\n",
      "Uploading:   0%|          | 0/1 [00:00<?, ?it/s]\u001b[A\n",
      "Uploading:   0%|          | 0/1 [00:00<?, ?it/s]\u001b[A\n",
      "Uploading:   0%|          | 0/1 [00:00<?, ?it/s]"
     ]
    },
    {
     "name": "stdout",
     "output_type": "stream",
     "text": [
      "Processing slice z= 290\n"
     ]
    },
    {
     "name": "stderr",
     "output_type": "stream",
     "text": [
      "Uploading: 100%|██████████| 1/1 [00:00<00:00, 23.72it/s]\n",
      "Uploading:   0%|          | 0/1 [00:00<?, ?it/s]\n",
      "Uploading: 100%|██████████| 1/1 [00:00<00:00, 24.23it/s]\n",
      "\n",
      "Uploading:   0%|          | 0/1 [00:00<?, ?it/s]\u001b[A"
     ]
    },
    {
     "name": "stdout",
     "output_type": "stream",
     "text": [
      "Processing slice z= 291\n"
     ]
    },
    {
     "name": "stderr",
     "output_type": "stream",
     "text": [
      "Uploading:   0%|          | 0/1 [00:00<?, ?it/s]\n",
      "Uploading:   0%|          | 0/1 [00:00<?, ?it/s]\n",
      "Uploading: 100%|██████████| 1/1 [00:00<00:00, 35.88it/s]\n",
      "Uploading: 100%|██████████| 1/1 [00:00<00:00, 29.75it/s]\n",
      "Uploading:   0%|          | 0/1 [00:00<?, ?it/s]\n"
     ]
    },
    {
     "name": "stdout",
     "output_type": "stream",
     "text": [
      "Processing slice z= 292\n",
      "Processing slice z= 293\n"
     ]
    },
    {
     "name": "stderr",
     "output_type": "stream",
     "text": [
      "Uploading: 100%|██████████| 1/1 [00:00<00:00, 31.73it/s]\n",
      "Uploading:   0%|          | 0/1 [00:00<?, ?it/s]\n",
      "Uploading:   0%|          | 0/1 [00:00<?, ?it/s]\u001b[A"
     ]
    },
    {
     "name": "stdout",
     "output_type": "stream",
     "text": [
      "success\n",
      "success\n",
      "success\n",
      "success\n",
      "success\n",
      "success\n",
      "success\n",
      "success\n",
      "success\n",
      "success\n"
     ]
    },
    {
     "name": "stderr",
     "output_type": "stream",
     "text": [
      "Uploading:   0%|          | 0/1 [00:00<?, ?it/s]\n",
      "Uploading:   0%|          | 0/1 [00:00<?, ?it/s]\n",
      "Uploading:   0%|          | 0/1 [00:00<?, ?it/s]\n",
      "Uploading: 100%|██████████| 1/1 [00:00<00:00, 29.53it/s]\n",
      "Uploading:   0%|          | 0/1 [00:00<?, ?it/s]\n",
      "Uploading:   0%|          | 0/1 [00:00<?, ?it/s]\u001b[A\n",
      "Uploading:   0%|          | 0/1 [00:00<?, ?it/s]\u001b[A"
     ]
    },
    {
     "name": "stdout",
     "output_type": "stream",
     "text": [
      "Processing slice z= 294\n"
     ]
    },
    {
     "name": "stderr",
     "output_type": "stream",
     "text": [
      "\r",
      "Uploading:   0%|          | 0/1 [00:00<?, ?it/s]"
     ]
    },
    {
     "name": "stdout",
     "output_type": "stream",
     "text": [
      "Processing slice z= 295\n",
      "Processing slice z= 296\n"
     ]
    },
    {
     "name": "stderr",
     "output_type": "stream",
     "text": [
      "\n",
      "Uploading: 100%|██████████| 1/1 [00:00<00:00, 32.80it/s]\n"
     ]
    },
    {
     "name": "stdout",
     "output_type": "stream",
     "text": [
      "Processing slice z= 297\n"
     ]
    },
    {
     "name": "stderr",
     "output_type": "stream",
     "text": [
      "Uploading:   0%|          | 0/1 [00:00<?, ?it/s]\n",
      "Uploading: 100%|██████████| 1/1 [00:00<00:00, 27.74it/s]\n",
      "Uploading:   0%|          | 0/1 [00:00<?, ?it/s]\n",
      "Uploading:   0%|          | 0/1 [00:00<?, ?it/s]\u001b[A\n",
      "Uploading:   0%|          | 0/1 [00:00<?, ?it/s]\u001b[A\n",
      "Uploading:   0%|          | 0/1 [00:00<?, ?it/s]"
     ]
    },
    {
     "name": "stdout",
     "output_type": "stream",
     "text": [
      "Processing slice z= 298\n"
     ]
    },
    {
     "name": "stderr",
     "output_type": "stream",
     "text": [
      "Uploading:   0%|          | 0/1 [00:00<?, ?it/s]\n",
      "Uploading: 100%|██████████| 1/1 [00:00<00:00, 26.44it/s]\n",
      "Uploading: 100%|██████████| 1/1 [00:00<00:00, 24.36it/s]\n",
      "Uploading:   0%|          | 0/1 [00:00<?, ?it/s]"
     ]
    },
    {
     "name": "stdout",
     "output_type": "stream",
     "text": [
      "Processing slice z= 299\n"
     ]
    },
    {
     "name": "stderr",
     "output_type": "stream",
     "text": [
      "Uploading:   0%|          | 0/1 [00:00<?, ?it/s]\n",
      "\n",
      "Uploading:   0%|          | 0/1 [00:00<?, ?it/s]\u001b[A"
     ]
    },
    {
     "name": "stdout",
     "output_type": "stream",
     "text": [
      "Processing slice z= 300\n"
     ]
    },
    {
     "name": "stderr",
     "output_type": "stream",
     "text": [
      "Uploading:   0%|          | 0/1 [00:00<?, ?it/s]\n",
      "Uploading:   0%|          | 0/1 [00:00<?, ?it/s]\n",
      "Uploading: 100%|██████████| 1/1 [00:00<00:00, 32.08it/s]\n",
      "Uploading: 100%|██████████| 1/1 [00:00<00:00, 27.65it/s]"
     ]
    },
    {
     "name": "stdout",
     "output_type": "stream",
     "text": [
      "Processing slice z= 301\n"
     ]
    },
    {
     "name": "stderr",
     "output_type": "stream",
     "text": [
      "\n",
      "\n",
      "Uploading: 100%|██████████| 1/1 [00:00<00:00, 27.48it/s]\n",
      "Uploading:   0%|          | 0/1 [00:00<?, ?it/s]\n",
      "Uploading:   0%|          | 0/1 [00:00<?, ?it/s]\n",
      "\n",
      "Uploading:   0%|          | 0/1 [00:00<?, ?it/s]\u001b[A\n",
      "Uploading: 100%|██████████| 1/1 [00:00<00:00, 28.03it/s]\n",
      "Uploading:   0%|          | 0/1 [00:00<?, ?it/s]\n",
      "Uploading: 100%|██████████| 1/1 [00:00<00:00, 33.16it/s]\n",
      "Uploading:   0%|          | 0/1 [00:00<?, ?it/s]"
     ]
    },
    {
     "name": "stdout",
     "output_type": "stream",
     "text": [
      "Processing slice z= 302\n"
     ]
    },
    {
     "name": "stderr",
     "output_type": "stream",
     "text": [
      "\n"
     ]
    },
    {
     "name": "stdout",
     "output_type": "stream",
     "text": [
      "Processing slice z= 303\n"
     ]
    },
    {
     "name": "stderr",
     "output_type": "stream",
     "text": [
      "Uploading:   0%|          | 0/1 [00:00<?, ?it/s]\n"
     ]
    },
    {
     "name": "stdout",
     "output_type": "stream",
     "text": [
      "Processing slice z= 304\n",
      "Processing slice z= 305\n",
      "Processing slice z= 306\n"
     ]
    },
    {
     "name": "stderr",
     "output_type": "stream",
     "text": [
      "Uploading: 100%|██████████| 1/1 [00:00<00:00, 25.58it/s]\n",
      "Uploading: 100%|██████████| 1/1 [00:00<00:00, 33.94it/s]\n",
      "Uploading:   0%|          | 0/1 [00:00<?, ?it/s]"
     ]
    },
    {
     "name": "stdout",
     "output_type": "stream",
     "text": [
      "success\n",
      "success\n",
      "success\n",
      "success\n",
      "success\n",
      "success\n",
      "success\n",
      "success\n",
      "success\n",
      "success\n",
      "success\n",
      "success\n",
      "success\n"
     ]
    },
    {
     "name": "stderr",
     "output_type": "stream",
     "text": [
      "Uploading:   0%|          | 0/1 [00:00<?, ?it/s]\n",
      "Uploading:   0%|          | 0/1 [00:00<?, ?it/s]\u001b[A\n",
      "Uploading:   0%|          | 0/1 [00:00<?, ?it/s]\u001b[A\n",
      "Uploading:   0%|          | 0/1 [00:00<?, ?it/s]\u001b[A\n",
      "Uploading:   0%|          | 0/1 [00:00<?, ?it/s]\u001b[A\n",
      "Uploading: 100%|██████████| 1/1 [00:00<00:00, 25.84it/s]\n",
      "\n",
      "Uploading:   0%|          | 0/1 [00:00<?, ?it/s]\u001b[A\n",
      "Uploading:   0%|          | 0/1 [00:00<?, ?it/s]"
     ]
    },
    {
     "name": "stdout",
     "output_type": "stream",
     "text": [
      "Processing slice z= 307\n"
     ]
    },
    {
     "name": "stderr",
     "output_type": "stream",
     "text": [
      "Uploading:   0%|          | 0/1 [00:00<?, ?it/s]\n"
     ]
    },
    {
     "name": "stdout",
     "output_type": "stream",
     "text": [
      "Processing slice z= 308\n",
      "Processing slice z= 309\n"
     ]
    },
    {
     "name": "stderr",
     "output_type": "stream",
     "text": [
      "Uploading: 100%|██████████| 1/1 [00:00<00:00, 28.50it/s]\n",
      "Uploading: 100%|██████████| 1/1 [00:00<00:00, 24.13it/s]\n",
      "Uploading: 100%|██████████| 1/1 [00:00<00:00, 27.22it/s]\n",
      "Uploading:   0%|          | 0/1 [00:00<?, ?it/s]\n",
      "Uploading:   0%|          | 0/1 [00:00<?, ?it/s]\u001b[A\n",
      "Uploading:   0%|          | 0/1 [00:00<?, ?it/s]\n",
      "Uploading: 100%|██████████| 1/1 [00:00<00:00, 24.61it/s]\n",
      "Uploading:   0%|          | 0/1 [00:00<?, ?it/s]"
     ]
    },
    {
     "name": "stdout",
     "output_type": "stream",
     "text": [
      "Processing slice z= 310\n"
     ]
    },
    {
     "name": "stderr",
     "output_type": "stream",
     "text": [
      "\n",
      "\n",
      "Uploading:   0%|          | 0/1 [00:00<?, ?it/s]\u001b[A"
     ]
    },
    {
     "name": "stdout",
     "output_type": "stream",
     "text": [
      "Processing slice z= 311\n"
     ]
    },
    {
     "name": "stderr",
     "output_type": "stream",
     "text": [
      "Uploading: 100%|██████████| 1/1 [00:00<00:00, 19.87it/s]\n",
      "Uploading:   0%|          | 0/1 [00:00<?, ?it/s]\n",
      "Uploading:   0%|          | 0/1 [00:00<?, ?it/s]\n",
      "Uploading:   0%|          | 0/1 [00:00<?, ?it/s]\n",
      "\n",
      "Uploading:   0%|          | 0/1 [00:00<?, ?it/s]\u001b[A"
     ]
    },
    {
     "name": "stdout",
     "output_type": "stream",
     "text": [
      "Processing slice z= 312\n"
     ]
    },
    {
     "name": "stderr",
     "output_type": "stream",
     "text": [
      "Uploading: 100%|██████████| 1/1 [00:00<00:00, 34.52it/s]\n",
      "Uploading:   0%|          | 0/1 [00:00<?, ?it/s]\n"
     ]
    },
    {
     "name": "stdout",
     "output_type": "stream",
     "text": [
      "Processing slice z= 313\n"
     ]
    },
    {
     "name": "stderr",
     "output_type": "stream",
     "text": [
      "\n",
      "Uploading:   0%|          | 0/1 [00:00<?, ?it/s]"
     ]
    },
    {
     "name": "stdout",
     "output_type": "stream",
     "text": [
      "success\n",
      "success\n",
      "success\n",
      "success\n",
      "success\n",
      "success\n",
      "Processing slice z= 314\n"
     ]
    },
    {
     "name": "stderr",
     "output_type": "stream",
     "text": [
      "\u001b[A"
     ]
    },
    {
     "name": "stdout",
     "output_type": "stream",
     "text": [
      "Processing slice z= 315\n"
     ]
    },
    {
     "name": "stderr",
     "output_type": "stream",
     "text": [
      "Uploading: 100%|██████████| 1/1 [00:00<00:00, 22.23it/s]\n",
      "Uploading: 100%|██████████| 1/1 [00:00<00:00, 24.19it/s]\n",
      "Uploading: 100%|██████████| 1/1 [00:00<00:00, 34.47it/s]\n",
      "Uploading:   0%|          | 0/1 [00:00<?, ?it/s]\n",
      "\n",
      "Uploading:   0%|          | 0/1 [00:00<?, ?it/s]\u001b[A\n",
      "Uploading:   0%|          | 0/1 [00:00<?, ?it/s]\u001b[A\n",
      "\n",
      "Uploading:   0%|          | 0/1 [00:00<?, ?it/s]\u001b[A\n"
     ]
    },
    {
     "name": "stdout",
     "output_type": "stream",
     "text": [
      "Processing slice z= 316\n"
     ]
    },
    {
     "name": "stderr",
     "output_type": "stream",
     "text": [
      "Uploading:   0%|          | 0/1 [00:00<?, ?it/s]\u001b[A\n",
      "Uploading: 100%|██████████| 1/1 [00:00<00:00, 24.71it/s]\n"
     ]
    },
    {
     "name": "stdout",
     "output_type": "stream",
     "text": [
      "Processing slice z= 317\n"
     ]
    },
    {
     "name": "stderr",
     "output_type": "stream",
     "text": [
      "\r",
      "Uploading:   0%|          | 0/1 [00:00<?, ?it/s]"
     ]
    },
    {
     "name": "stdout",
     "output_type": "stream",
     "text": [
      "Processing slice z= 318\n"
     ]
    },
    {
     "name": "stderr",
     "output_type": "stream",
     "text": [
      "\n",
      "Uploading: 100%|██████████| 1/1 [00:00<00:00, 26.87it/s]\n",
      "\n",
      "Uploading:   0%|          | 0/1 [00:00<?, ?it/s]\u001b[A"
     ]
    },
    {
     "name": "stdout",
     "output_type": "stream",
     "text": [
      "Processing slice z= 319\n"
     ]
    },
    {
     "name": "stderr",
     "output_type": "stream",
     "text": [
      "Uploading: 100%|██████████| 1/1 [00:00<00:00, 26.95it/s]\n",
      "Uploading: 100%|██████████| 1/1 [00:00<00:00, 36.00it/s]\n",
      "Uploading:   0%|          | 0/1 [00:00<?, ?it/s]\n",
      "Uploading: 100%|██████████| 1/1 [00:00<00:00, 28.24it/s]\n",
      "\n",
      "Uploading:   0%|          | 0/1 [00:00<?, ?it/s]\u001b[A\n"
     ]
    },
    {
     "name": "stdout",
     "output_type": "stream",
     "text": [
      "Processing slice z= 320\n"
     ]
    },
    {
     "name": "stderr",
     "output_type": "stream",
     "text": [
      "Uploading:   0%|          | 0/1 [00:00<?, ?it/s]\n",
      "Uploading:   0%|          | 0/1 [00:00<?, ?it/s]\u001b[A\n"
     ]
    },
    {
     "name": "stdout",
     "output_type": "stream",
     "text": [
      "Processing slice z= 321\n"
     ]
    },
    {
     "name": "stderr",
     "output_type": "stream",
     "text": [
      "\r",
      "Uploading:   0%|          | 0/1 [00:00<?, ?it/s]"
     ]
    },
    {
     "name": "stdout",
     "output_type": "stream",
     "text": [
      "Processing slice z= 322\n"
     ]
    },
    {
     "name": "stderr",
     "output_type": "stream",
     "text": [
      "Uploading:   0%|          | 0/1 [00:00<?, ?it/s]\n",
      "\n",
      "Uploading: 100%|██████████| 1/1 [00:00<00:00, 28.59it/s]\n",
      "Uploading:   0%|          | 0/1 [00:00<?, ?it/s]"
     ]
    },
    {
     "name": "stdout",
     "output_type": "stream",
     "text": [
      "Processing slice z= 323\n"
     ]
    },
    {
     "name": "stderr",
     "output_type": "stream",
     "text": [
      "Uploading:   0%|          | 0/1 [00:00<?, ?it/s]\n",
      "Uploading:   0%|          | 0/1 [00:00<?, ?it/s]\u001b[A\n",
      "\n",
      "Uploading: 100%|██████████| 1/1 [00:00<00:00, 29.86it/s]\n",
      "\n",
      "Uploading: 100%|██████████| 1/1 [00:00<00:00, 28.85it/s]\n",
      "Uploading:   0%|          | 0/1 [00:00<?, ?it/s]\n",
      "Uploading:   0%|          | 0/1 [00:00<?, ?it/s]"
     ]
    },
    {
     "name": "stdout",
     "output_type": "stream",
     "text": [
      "Processing slice z= 324\n"
     ]
    },
    {
     "name": "stderr",
     "output_type": "stream",
     "text": [
      "\n",
      "\n",
      "Uploading:   0%|          | 0/1 [00:00<?, ?it/s]\u001b[A"
     ]
    },
    {
     "name": "stdout",
     "output_type": "stream",
     "text": [
      "Processing slice z= 325\n",
      "Processing slice z= 326\n"
     ]
    },
    {
     "name": "stderr",
     "output_type": "stream",
     "text": [
      "Uploading: 100%|██████████| 1/1 [00:00<00:00, 27.73it/s]\n",
      "Uploading: 100%|██████████| 1/1 [00:00<00:00, 32.03it/s]\n",
      "Uploading:   0%|          | 0/1 [00:00<?, ?it/s]\n",
      "Uploading: 100%|██████████| 1/1 [00:00<00:00, 31.80it/s]\n",
      "Uploading: 100%|██████████| 1/1 [00:00<00:00, 28.98it/s]"
     ]
    },
    {
     "name": "stdout",
     "output_type": "stream",
     "text": [
      "success\n",
      "success\n",
      "success\n",
      "success\n",
      "success\n",
      "success\n",
      "success\n",
      "success\n",
      "success\n",
      "success\n",
      "success\n",
      "success\n",
      "success\n",
      "success\n"
     ]
    },
    {
     "name": "stderr",
     "output_type": "stream",
     "text": [
      "\n",
      "Uploading:   0%|          | 0/1 [00:00<?, ?it/s]\n",
      "Uploading:   0%|          | 0/1 [00:00<?, ?it/s]\n",
      "Uploading:   0%|          | 0/1 [00:00<?, ?it/s]\u001b[A\n",
      "Uploading:   0%|          | 0/1 [00:00<?, ?it/s]\u001b[A\n",
      "Uploading:   0%|          | 0/1 [00:00<?, ?it/s]\u001b[A"
     ]
    },
    {
     "name": "stdout",
     "output_type": "stream",
     "text": [
      "Processing slice z= 327\n"
     ]
    },
    {
     "name": "stderr",
     "output_type": "stream",
     "text": [
      "Uploading:   0%|          | 0/1 [00:00<?, ?it/s]\n",
      "Uploading:   0%|          | 0/1 [00:00<?, ?it/s]\n",
      "Uploading: 100%|██████████| 1/1 [00:00<00:00, 28.97it/s]\n"
     ]
    },
    {
     "name": "stdout",
     "output_type": "stream",
     "text": [
      "Processing slice z= 328\n"
     ]
    },
    {
     "name": "stderr",
     "output_type": "stream",
     "text": [
      "Uploading:   0%|          | 0/1 [00:00<?, ?it/s]\n"
     ]
    },
    {
     "name": "stdout",
     "output_type": "stream",
     "text": [
      "Processing slice z= 329\n",
      "Processing slice z= 330\n",
      "Processing slice z= 331\n"
     ]
    },
    {
     "name": "stderr",
     "output_type": "stream",
     "text": [
      "\n",
      "Uploading: 100%|██████████| 1/1 [00:00<00:00, 27.83it/s]\n",
      "Uploading: 100%|██████████| 1/1 [00:00<00:00, 27.69it/s]\n",
      "Uploading:   0%|          | 0/1 [00:00<?, ?it/s]\n",
      "Uploading: 100%|██████████| 1/1 [00:00<00:00, 26.17it/s]\n",
      "\n",
      "Uploading:   0%|          | 0/1 [00:00<?, ?it/s]\u001b[A\n",
      "Uploading:   0%|          | 0/1 [00:00<?, ?it/s]\u001b[A\n",
      "Uploading:   0%|          | 0/1 [00:00<?, ?it/s]\n",
      "Uploading:   0%|          | 0/1 [00:00<?, ?it/s]\n",
      "\n",
      "Uploading:   0%|          | 0/1 [00:00<?, ?it/s]\u001b[A"
     ]
    },
    {
     "name": "stdout",
     "output_type": "stream",
     "text": [
      "success\n",
      "success\n",
      "success\n",
      "success\n",
      "success\n"
     ]
    },
    {
     "name": "stderr",
     "output_type": "stream",
     "text": [
      "Uploading: 100%|██████████| 1/1 [00:00<00:00, 31.37it/s]\n",
      "Uploading: 100%|██████████| 1/1 [00:00<00:00, 37.69it/s]\n",
      "Uploading:   0%|          | 0/1 [00:00<?, ?it/s]\n"
     ]
    },
    {
     "name": "stdout",
     "output_type": "stream",
     "text": [
      "Processing slice z= 332\n"
     ]
    },
    {
     "name": "stderr",
     "output_type": "stream",
     "text": [
      "Uploading:   0%|          | 0/1 [00:00<?, ?it/s]\n"
     ]
    },
    {
     "name": "stdout",
     "output_type": "stream",
     "text": [
      "Processing slice z= 333\n",
      "Processing slice z= 334\n"
     ]
    },
    {
     "name": "stderr",
     "output_type": "stream",
     "text": [
      "Uploading: 100%|██████████| 1/1 [00:00<00:00, 35.98it/s]\n"
     ]
    },
    {
     "name": "stdout",
     "output_type": "stream",
     "text": [
      "Processing slice z= 335\n",
      "Processing slice z= 336\n"
     ]
    },
    {
     "name": "stderr",
     "output_type": "stream",
     "text": [
      "Uploading:   0%|          | 0/1 [00:00<?, ?it/s]\n",
      "Uploading: 100%|██████████| 1/1 [00:00<00:00, 26.77it/s]\n",
      "Uploading:   0%|          | 0/1 [00:00<?, ?it/s]\n",
      "Uploading:   0%|          | 0/1 [00:00<?, ?it/s]\u001b[A\n",
      "Uploading:   0%|          | 0/1 [00:00<?, ?it/s]\u001b[A\n",
      "Uploading: 100%|██████████| 1/1 [00:00<00:00, 26.69it/s]"
     ]
    },
    {
     "name": "stdout",
     "output_type": "stream",
     "text": [
      "Processing slice z= 337\n"
     ]
    },
    {
     "name": "stderr",
     "output_type": "stream",
     "text": [
      "\n",
      "Uploading:   0%|          | 0/1 [00:00<?, ?it/s]\n",
      "\n",
      "Uploading:   0%|          | 0/1 [00:00<?, ?it/s]\u001b[A\n",
      "Uploading:   0%|          | 0/1 [00:00<?, ?it/s]\u001b[A"
     ]
    },
    {
     "name": "stdout",
     "output_type": "stream",
     "text": [
      "Processing slice z= 338\n"
     ]
    },
    {
     "name": "stderr",
     "output_type": "stream",
     "text": [
      "Uploading:   0%|          | 0/1 [00:00<?, ?it/s]\n",
      "Uploading:   0%|          | 0/1 [00:00<?, ?it/s]\n",
      "Uploading: 100%|██████████| 1/1 [00:00<00:00, 41.24it/s]\n",
      "Uploading:   0%|          | 0/1 [00:00<?, ?it/s]\n"
     ]
    },
    {
     "name": "stdout",
     "output_type": "stream",
     "text": [
      "Processing slice z= 339\n"
     ]
    },
    {
     "name": "stderr",
     "output_type": "stream",
     "text": [
      "Uploading: 100%|██████████| 1/1 [00:00<00:00, 34.03it/s]\n",
      "Uploading: 100%|██████████| 1/1 [00:00<00:00, 30.36it/s]\n",
      "\n"
     ]
    },
    {
     "name": "stdout",
     "output_type": "stream",
     "text": [
      "Processing slice z= 340\n"
     ]
    },
    {
     "name": "stderr",
     "output_type": "stream",
     "text": [
      "Uploading:   0%|          | 0/1 [00:00<?, ?it/s]\u001b[A\n",
      "Uploading:   0%|          | 0/1 [00:00<?, ?it/s]\n",
      "Uploading: 100%|██████████| 1/1 [00:00<00:00, 29.84it/s]\n",
      "Uploading: 100%|██████████| 1/1 [00:00<00:00, 26.32it/s]\n",
      "Uploading: 100%|██████████| 1/1 [00:00<00:00, 35.98it/s]\n",
      "Uploading:   0%|          | 0/1 [00:00<?, ?it/s]\n",
      "Uploading:   0%|          | 0/1 [00:00<?, ?it/s]\u001b[A"
     ]
    },
    {
     "name": "stdout",
     "output_type": "stream",
     "text": [
      "Processing slice z= 341\n"
     ]
    },
    {
     "name": "stderr",
     "output_type": "stream",
     "text": [
      "\r",
      "Uploading:   0%|          | 0/1 [00:00<?, ?it/s]"
     ]
    },
    {
     "name": "stdout",
     "output_type": "stream",
     "text": [
      "Processing slice z= 342\n"
     ]
    },
    {
     "name": "stderr",
     "output_type": "stream",
     "text": [
      "\n",
      "Uploading:   0%|          | 0/1 [00:00<?, ?it/s]\n",
      "\n",
      "Uploading:   0%|          | 0/1 [00:00<?, ?it/s]\u001b[A\n",
      "Uploading: 100%|██████████| 1/1 [00:00<00:00, 33.68it/s]"
     ]
    },
    {
     "name": "stdout",
     "output_type": "stream",
     "text": [
      "Processing slice z= 343\n"
     ]
    },
    {
     "name": "stderr",
     "output_type": "stream",
     "text": [
      "\n"
     ]
    },
    {
     "name": "stdout",
     "output_type": "stream",
     "text": [
      "Processing slice z= 344\n"
     ]
    },
    {
     "name": "stderr",
     "output_type": "stream",
     "text": [
      "Uploading:   0%|          | 0/1 [00:00<?, ?it/s]"
     ]
    },
    {
     "name": "stdout",
     "output_type": "stream",
     "text": [
      "Processing slice z= 345\n"
     ]
    },
    {
     "name": "stderr",
     "output_type": "stream",
     "text": [
      "\n",
      "\n",
      "Uploading:   0%|          | 0/1 [00:00<?, ?it/s]\u001b[A\n"
     ]
    },
    {
     "name": "stdout",
     "output_type": "stream",
     "text": [
      "Processing slice z= 346\n"
     ]
    },
    {
     "name": "stderr",
     "output_type": "stream",
     "text": [
      "Uploading: 100%|██████████| 1/1 [00:00<00:00, 30.86it/s]\n",
      "Uploading: 100%|██████████| 1/1 [00:00<00:00, 33.76it/s]\n",
      "\n",
      "Uploading:   0%|          | 0/1 [00:00<?, ?it/s]\u001b[A\n",
      "Uploading:   0%|          | 0/1 [00:00<?, ?it/s]\u001b[A\n",
      "\n",
      "Uploading:   0%|          | 0/1 [00:00<?, ?it/s]\u001b[A"
     ]
    },
    {
     "name": "stdout",
     "output_type": "stream",
     "text": [
      "success\n",
      "success\n",
      "success\n",
      "success\n",
      "success\n",
      "success\n",
      "success\n",
      "success\n",
      "success\n",
      "success\n",
      "success\n",
      "success\n",
      "success\n",
      "success\n",
      "success\n"
     ]
    },
    {
     "name": "stderr",
     "output_type": "stream",
     "text": [
      "\n",
      "Uploading:   0%|          | 0/1 [00:00<?, ?it/s]\n",
      "Uploading:   0%|          | 0/1 [00:00<?, ?it/s]\u001b[A"
     ]
    },
    {
     "name": "stdout",
     "output_type": "stream",
     "text": [
      "Processing slice z= 347\n"
     ]
    },
    {
     "name": "stderr",
     "output_type": "stream",
     "text": [
      "Uploading: 100%|██████████| 1/1 [00:00<00:00, 38.53it/s]\n",
      "Uploading:   0%|          | 0/1 [00:00<?, ?it/s]\n",
      "Uploading: 100%|██████████| 1/1 [00:00<00:00, 37.19it/s]"
     ]
    },
    {
     "name": "stdout",
     "output_type": "stream",
     "text": [
      "Processing slice z= 348\n"
     ]
    },
    {
     "name": "stderr",
     "output_type": "stream",
     "text": [
      "\n",
      "Uploading:   0%|          | 0/1 [00:00<?, ?it/s]\n",
      "Uploading:   0%|          | 0/1 [00:00<?, ?it/s]"
     ]
    },
    {
     "name": "stdout",
     "output_type": "stream",
     "text": [
      "Processing slice z= 349\n"
     ]
    },
    {
     "name": "stderr",
     "output_type": "stream",
     "text": [
      "Uploading: 100%|██████████| 1/1 [00:00<00:00, 26.80it/s]\n"
     ]
    },
    {
     "name": "stdout",
     "output_type": "stream",
     "text": [
      "Processing slice z= 350\n"
     ]
    },
    {
     "name": "stderr",
     "output_type": "stream",
     "text": [
      "Uploading: 100%|██████████| 1/1 [00:00<00:00, 27.74it/s]\n",
      "\n",
      "Uploading: 100%|██████████| 1/1 [00:00<00:00, 27.54it/s]\n",
      "Uploading:   0%|          | 0/1 [00:00<?, ?it/s]\n",
      "Uploading: 100%|██████████| 1/1 [00:00<00:00, 28.23it/s]\n",
      "\n",
      "Uploading:   0%|          | 0/1 [00:00<?, ?it/s]\u001b[A\n",
      "Uploading:   0%|          | 0/1 [00:00<?, ?it/s]\n",
      "Uploading:   0%|          | 0/1 [00:00<?, ?it/s]"
     ]
    },
    {
     "name": "stdout",
     "output_type": "stream",
     "text": [
      "Processing slice z= 351\n"
     ]
    },
    {
     "name": "stderr",
     "output_type": "stream",
     "text": [
      "\n",
      "Uploading:   0%|          | 0/1 [00:00<?, ?it/s]\u001b[A\u001b[A\n",
      "\n",
      "Uploading:   0%|          | 0/1 [00:00<?, ?it/s]"
     ]
    },
    {
     "name": "stdout",
     "output_type": "stream",
     "text": [
      "Processing slice z= 352\n"
     ]
    },
    {
     "name": "stderr",
     "output_type": "stream",
     "text": [
      "Uploading: 100%|██████████| 1/1 [00:00<00:00, 37.39it/s]\n"
     ]
    },
    {
     "name": "stdout",
     "output_type": "stream",
     "text": [
      "Processing slice z= 353\n",
      "Processing slice z= 354\n",
      "success\n",
      "success\n",
      "success\n",
      "success\n",
      "success\n",
      "success\n",
      "success\n",
      "success\n"
     ]
    },
    {
     "name": "stderr",
     "output_type": "stream",
     "text": [
      "Uploading:   0%|          | 0/1 [00:00<?, ?it/s]\n",
      "Uploading:   0%|          | 0/1 [00:00<?, ?it/s]\n",
      "Uploading: 100%|██████████| 1/1 [00:00<00:00, 27.71it/s]\n",
      "Uploading:   0%|          | 0/1 [00:00<?, ?it/s]\n",
      "Uploading:   0%|          | 0/1 [00:00<?, ?it/s]\u001b[A"
     ]
    },
    {
     "name": "stdout",
     "output_type": "stream",
     "text": [
      "Processing slice z= 355\n"
     ]
    },
    {
     "name": "stderr",
     "output_type": "stream",
     "text": [
      "\n",
      "Uploading:   0%|          | 0/1 [00:00<?, ?it/s]\u001b[A\n",
      "\n",
      "Uploading: 100%|██████████| 1/1 [00:00<00:00, 27.51it/s]\n",
      "Uploading:   0%|          | 0/1 [00:00<?, ?it/s]\n",
      "Uploading:   0%|          | 0/1 [00:00<?, ?it/s]\n",
      "Uploading:   0%|          | 0/1 [00:00<?, ?it/s]\n"
     ]
    },
    {
     "name": "stdout",
     "output_type": "stream",
     "text": [
      "Processing slice z= 356\n"
     ]
    },
    {
     "name": "stderr",
     "output_type": "stream",
     "text": [
      "Uploading:   0%|          | 0/1 [00:00<?, ?it/s]\n",
      "Uploading: 100%|██████████| 1/1 [00:00<00:00, 31.82it/s]\n",
      "Uploading: 100%|██████████| 1/1 [00:00<00:00, 35.24it/s]"
     ]
    },
    {
     "name": "stdout",
     "output_type": "stream",
     "text": [
      "Processing slice z= 358\n",
      "Processing slice z= 357\n"
     ]
    },
    {
     "name": "stderr",
     "output_type": "stream",
     "text": [
      "\n",
      "Uploading: 100%|██████████| 1/1 [00:00<00:00, 30.90it/s]\n",
      "Uploading: 100%|██████████| 1/1 [00:00<00:00, 32.01it/s]\n",
      "Uploading:   0%|          | 0/1 [00:00<?, ?it/s]\n",
      "Uploading:   0%|          | 0/1 [00:00<?, ?it/s]\n",
      "Uploading:   0%|          | 0/1 [00:00<?, ?it/s]\n",
      "Uploading:   0%|          | 0/1 [00:00<?, ?it/s]\n",
      "Uploading:   0%|          | 0/1 [00:00<?, ?it/s]\n",
      "Uploading:   0%|          | 0/1 [00:00<?, ?it/s]\u001b[A"
     ]
    },
    {
     "name": "stdout",
     "output_type": "stream",
     "text": [
      "Processing slice z= 359\n"
     ]
    },
    {
     "name": "stderr",
     "output_type": "stream",
     "text": [
      "\r",
      "Uploading:   0%|          | 0/1 [00:00<?, ?it/s]"
     ]
    },
    {
     "name": "stdout",
     "output_type": "stream",
     "text": [
      "Processing slice z= 360\n"
     ]
    },
    {
     "name": "stderr",
     "output_type": "stream",
     "text": [
      "Uploading:   0%|          | 0/1 [00:00<?, ?it/s]\n",
      "Uploading:   0%|          | 0/1 [00:00<?, ?it/s]\u001b[A\n",
      "Uploading: 100%|██████████| 1/1 [00:00<00:00, 34.90it/s]\n"
     ]
    },
    {
     "name": "stdout",
     "output_type": "stream",
     "text": [
      "Processing slice z= 361\n",
      "Processing slice z= 362\n"
     ]
    },
    {
     "name": "stderr",
     "output_type": "stream",
     "text": [
      "Uploading:   0%|          | 0/1 [00:00<?, ?it/s]\n",
      "Uploading:   0%|          | 0/1 [00:00<?, ?it/s]"
     ]
    },
    {
     "name": "stdout",
     "output_type": "stream",
     "text": [
      "Processing slice z= 363\n"
     ]
    },
    {
     "name": "stderr",
     "output_type": "stream",
     "text": [
      "\n",
      "Uploading:   0%|          | 0/1 [00:00<?, ?it/s]\u001b[A\n",
      "Uploading: 100%|██████████| 1/1 [00:00<00:00, 28.67it/s]\n",
      "Uploading: 100%|██████████| 1/1 [00:00<00:00, 32.96it/s]\n",
      "Uploading: 100%|██████████| 1/1 [00:00<00:00, 28.34it/s]\n",
      "\n",
      "Uploading:   0%|          | 0/1 [00:00<?, ?it/s]\u001b[A\n",
      "Uploading:   0%|          | 0/1 [00:00<?, ?it/s]\u001b[A\n",
      "Uploading:   0%|          | 0/1 [00:00<?, ?it/s]\n",
      "Uploading:   0%|          | 0/1 [00:00<?, ?it/s]\n",
      "Uploading:   0%|          | 0/1 [00:00<?, ?it/s]\n",
      "Uploading: 100%|██████████| 1/1 [00:00<00:00, 36.32it/s]\n",
      "Uploading:   0%|          | 0/1 [00:00<?, ?it/s]"
     ]
    },
    {
     "name": "stdout",
     "output_type": "stream",
     "text": [
      "Processing slice z= 364\n",
      "Processing slice z= 365\n"
     ]
    },
    {
     "name": "stderr",
     "output_type": "stream",
     "text": [
      "\n"
     ]
    },
    {
     "name": "stdout",
     "output_type": "stream",
     "text": [
      "Processing slice z= 366\n"
     ]
    },
    {
     "name": "stderr",
     "output_type": "stream",
     "text": [
      "Uploading: 100%|██████████| 1/1 [00:00<00:00, 32.82it/s]\n",
      "Uploading: 100%|██████████| 1/1 [00:00<00:00, 29.88it/s]\n"
     ]
    },
    {
     "name": "stdout",
     "output_type": "stream",
     "text": [
      "success\n",
      "success\n",
      "success\n",
      "success\n",
      "success\n",
      "success\n",
      "success\n",
      "success\n",
      "success\n",
      "success\n",
      "success\n",
      "success\n",
      "Processing slice z= 367\n"
     ]
    },
    {
     "name": "stderr",
     "output_type": "stream",
     "text": [
      "Uploading:   0%|          | 0/1 [00:00<?, ?it/s]\n",
      "Uploading:   0%|          | 0/1 [00:00<?, ?it/s]\n",
      "Uploading:   0%|          | 0/1 [00:00<?, ?it/s]"
     ]
    },
    {
     "name": "stdout",
     "output_type": "stream",
     "text": [
      "Processing slice z= 368\n"
     ]
    },
    {
     "name": "stderr",
     "output_type": "stream",
     "text": [
      "Uploading: 100%|██████████| 1/1 [00:00<00:00, 21.60it/s]\n"
     ]
    },
    {
     "name": "stdout",
     "output_type": "stream",
     "text": [
      "Processing slice z= 369\n"
     ]
    },
    {
     "name": "stderr",
     "output_type": "stream",
     "text": [
      "Uploading:   0%|          | 0/1 [00:00<?, ?it/s]\n",
      "Uploading: 100%|██████████| 1/1 [00:00<00:00, 28.07it/s]\n",
      "Uploading:   0%|          | 0/1 [00:00<?, ?it/s]\n",
      "Uploading:   0%|          | 0/1 [00:00<?, ?it/s]\u001b[A\n",
      "Uploading:   0%|          | 0/1 [00:00<?, ?it/s]\u001b[A\n",
      "Uploading:   0%|          | 0/1 [00:00<?, ?it/s]\u001b[A\n",
      "Uploading:   0%|          | 0/1 [00:00<?, ?it/s]\n",
      "Uploading:   0%|          | 0/1 [00:00<?, ?it/s]\n"
     ]
    },
    {
     "name": "stdout",
     "output_type": "stream",
     "text": [
      "Processing slice z= 370\n"
     ]
    },
    {
     "name": "stderr",
     "output_type": "stream",
     "text": [
      "\r",
      "Uploading:   0%|          | 0/1 [00:00<?, ?it/s]"
     ]
    },
    {
     "name": "stdout",
     "output_type": "stream",
     "text": [
      "Processing slice z= 371\n"
     ]
    },
    {
     "name": "stderr",
     "output_type": "stream",
     "text": [
      "\u001b[A\n",
      "Uploading: 100%|██████████| 1/1 [00:00<00:00, 31.78it/s]\n",
      "Uploading: 100%|██████████| 1/1 [00:00<00:00, 35.90it/s]\n",
      "Uploading:   0%|          | 0/1 [00:00<?, ?it/s]\n",
      "Uploading: 100%|██████████| 1/1 [00:00<00:00, 36.85it/s]\n",
      "Uploading:   0%|          | 0/1 [00:00<?, ?it/s]\n",
      "Uploading:   0%|          | 0/1 [00:00<?, ?it/s]\n",
      "Uploading:   0%|          | 0/1 [00:00<?, ?it/s]\u001b[A"
     ]
    },
    {
     "name": "stdout",
     "output_type": "stream",
     "text": [
      "Processing slice z= 372\n",
      "Processing slice z= 373\n"
     ]
    },
    {
     "name": "stderr",
     "output_type": "stream",
     "text": [
      "Uploading: 100%|██████████| 1/1 [00:00<00:00, 23.01it/s]\n"
     ]
    },
    {
     "name": "stdout",
     "output_type": "stream",
     "text": [
      "success\n",
      "success\n",
      "success\n",
      "success\n",
      "success\n"
     ]
    },
    {
     "name": "stderr",
     "output_type": "stream",
     "text": [
      "Uploading:   0%|          | 0/1 [00:00<?, ?it/s]\n",
      "Uploading: 100%|██████████| 1/1 [00:00<00:00, 22.45it/s]\n",
      "Uploading: 100%|██████████| 1/1 [00:00<00:00, 27.84it/s]\n",
      "\n",
      "Uploading:   0%|          | 0/1 [00:00<?, ?it/s]\u001b[A\n",
      "Uploading:   0%|          | 0/1 [00:00<?, ?it/s]"
     ]
    },
    {
     "name": "stdout",
     "output_type": "stream",
     "text": [
      "Processing slice z= 374\n"
     ]
    },
    {
     "name": "stderr",
     "output_type": "stream",
     "text": [
      "Uploading:   0%|          | 0/1 [00:00<?, ?it/s]\n",
      "\n",
      "Uploading:   0%|          | 0/1 [00:00<?, ?it/s]\u001b[A"
     ]
    },
    {
     "name": "stdout",
     "output_type": "stream",
     "text": [
      "Processing slice z= 376\n"
     ]
    },
    {
     "name": "stderr",
     "output_type": "stream",
     "text": [
      "\n"
     ]
    },
    {
     "name": "stdout",
     "output_type": "stream",
     "text": [
      "Processing slice z= 375\n"
     ]
    },
    {
     "name": "stderr",
     "output_type": "stream",
     "text": [
      "Uploading:   0%|          | 0/1 [00:00<?, ?it/s]\u001b[A\n",
      "Uploading: 100%|██████████| 1/1 [00:00<00:00, 22.90it/s]\n",
      "Uploading:   0%|          | 0/1 [00:00<?, ?it/s]"
     ]
    },
    {
     "name": "stdout",
     "output_type": "stream",
     "text": [
      "Processing slice z= 377\n"
     ]
    },
    {
     "name": "stderr",
     "output_type": "stream",
     "text": [
      "Uploading:   0%|          | 0/1 [00:00<?, ?it/s]\n",
      "Uploading:   0%|          | 0/1 [00:00<?, ?it/s]\n",
      "Uploading:   0%|          | 0/1 [00:00<?, ?it/s]\u001b[A\n",
      "Uploading: 100%|██████████| 1/1 [00:00<00:00, 22.96it/s]"
     ]
    },
    {
     "name": "stdout",
     "output_type": "stream",
     "text": [
      "Processing slice z= 378\n"
     ]
    },
    {
     "name": "stderr",
     "output_type": "stream",
     "text": [
      "\n",
      "\n",
      "Uploading: 100%|██████████| 1/1 [00:00<00:00, 24.31it/s]\n",
      "Uploading: 100%|██████████| 1/1 [00:00<00:00, 28.08it/s]\n",
      "Uploading:   0%|          | 0/1 [00:00<?, ?it/s]\n",
      "\n",
      "Uploading: 100%|██████████| 1/1 [00:00<00:00, 29.16it/s]\n",
      "Uploading:   0%|          | 0/1 [00:00<?, ?it/s]\n",
      "Uploading: 100%|██████████| 1/1 [00:00<00:00, 34.28it/s]\n",
      "Uploading:   0%|          | 0/1 [00:00<?, ?it/s]\n",
      "\n",
      "Uploading:   0%|          | 0/1 [00:00<?, ?it/s]\u001b[A"
     ]
    },
    {
     "name": "stdout",
     "output_type": "stream",
     "text": [
      "Processing slice z= 379\n"
     ]
    },
    {
     "name": "stderr",
     "output_type": "stream",
     "text": [
      "Uploading:   0%|          | 0/1 [00:00<?, ?it/s]\n",
      "Uploading:   0%|          | 0/1 [00:00<?, ?it/s]\n"
     ]
    },
    {
     "name": "stdout",
     "output_type": "stream",
     "text": [
      "Processing slice z= 380\n",
      "Processing slice z= 381\n",
      "Processing slice z= 382\n"
     ]
    },
    {
     "name": "stderr",
     "output_type": "stream",
     "text": [
      "Uploading: 100%|██████████| 1/1 [00:00<00:00, 27.20it/s]\n"
     ]
    },
    {
     "name": "stdout",
     "output_type": "stream",
     "text": [
      "Processing slice z= 383\n"
     ]
    },
    {
     "name": "stderr",
     "output_type": "stream",
     "text": [
      "Uploading:   0%|          | 0/1 [00:00<?, ?it/s]\n",
      "Uploading: 100%|██████████| 1/1 [00:00<00:00, 28.14it/s]\n",
      "Uploading: 100%|██████████| 1/1 [00:00<00:00, 33.55it/s]\n",
      "Uploading:   0%|          | 0/1 [00:00<?, ?it/s]\n",
      "Uploading:   0%|          | 0/1 [00:00<?, ?it/s]\u001b[A\n",
      "Uploading:   0%|          | 0/1 [00:00<?, ?it/s]\u001b[A\n",
      "Uploading:   0%|          | 0/1 [00:00<?, ?it/s]\u001b[A"
     ]
    },
    {
     "name": "stdout",
     "output_type": "stream",
     "text": [
      "Processing slice z= 384\n",
      "success\n",
      "success\n",
      "success\n",
      "success\n",
      "success\n",
      "success\n",
      "success\n",
      "success\n",
      "success\n",
      "success\n",
      "success\n",
      "success\n",
      "success\n"
     ]
    },
    {
     "name": "stderr",
     "output_type": "stream",
     "text": [
      "Uploading:   0%|          | 0/1 [00:00<?, ?it/s]\n",
      "Uploading:   0%|          | 0/1 [00:00<?, ?it/s]\n",
      "Uploading:   0%|          | 0/1 [00:00<?, ?it/s]\u001b[A\n",
      "Uploading:   0%|          | 0/1 [00:00<?, ?it/s]\u001b[A"
     ]
    },
    {
     "name": "stdout",
     "output_type": "stream",
     "text": [
      "Processing slice z= 385\n"
     ]
    },
    {
     "name": "stderr",
     "output_type": "stream",
     "text": [
      "\n",
      "Uploading:   0%|          | 0/1 [00:00<?, ?it/s]\n",
      "Uploading:   0%|          | 0/1 [00:00<?, ?it/s]\u001b[A"
     ]
    },
    {
     "name": "stdout",
     "output_type": "stream",
     "text": [
      "Processing slice z= 386\n"
     ]
    },
    {
     "name": "stderr",
     "output_type": "stream",
     "text": [
      "Uploading: 100%|██████████| 1/1 [00:00<00:00, 27.33it/s]\n",
      "Uploading: 100%|██████████| 1/1 [00:00<00:00, 29.78it/s]\n",
      "Uploading: 100%|██████████| 1/1 [00:00<00:00, 26.96it/s]\n",
      "Uploading:   0%|          | 0/1 [00:00<?, ?it/s]\n",
      "Uploading: 100%|██████████| 1/1 [00:00<00:00, 36.35it/s]\n",
      "Uploading: 100%|██████████| 1/1 [00:00<00:00, 30.58it/s]\n",
      "Uploading:   0%|          | 0/1 [00:00<?, ?it/s]\n",
      "Uploading:   0%|          | 0/1 [00:00<?, ?it/s]\n",
      "Uploading:   0%|          | 0/1 [00:00<?, ?it/s]\n",
      "\n",
      "Uploading: 100%|██████████| 1/1 [00:00<00:00, 35.07it/s]\n",
      "Uploading:   0%|          | 0/1 [00:00<?, ?it/s]\n",
      "Uploading:   0%|          | 0/1 [00:00<?, ?it/s]\n",
      "Uploading:   0%|          | 0/1 [00:00<?, ?it/s]\n"
     ]
    },
    {
     "name": "stdout",
     "output_type": "stream",
     "text": [
      "Processing slice z= 387\n",
      "Processing slice z= 389\n",
      "Processing slice z= 388\n"
     ]
    },
    {
     "name": "stderr",
     "output_type": "stream",
     "text": [
      "\r",
      "Uploading: 100%|██████████| 1/1 [00:00<00:00, 51.54it/s]"
     ]
    },
    {
     "name": "stdout",
     "output_type": "stream",
     "text": [
      "Processing slice z= 391\n",
      "Processing slice z= 390\n"
     ]
    },
    {
     "name": "stderr",
     "output_type": "stream",
     "text": [
      "\n"
     ]
    },
    {
     "name": "stdout",
     "output_type": "stream",
     "text": [
      "Processing slice z= 392\n"
     ]
    },
    {
     "name": "stderr",
     "output_type": "stream",
     "text": [
      "\n",
      "Uploading:   0%|          | 0/1 [00:00<?, ?it/s]\u001b[A\n",
      "Uploading:   0%|          | 0/1 [00:00<?, ?it/s]\n",
      "Uploading: 100%|██████████| 1/1 [00:00<00:00, 20.68it/s]\n"
     ]
    },
    {
     "name": "stdout",
     "output_type": "stream",
     "text": [
      "Processing slice z= 393\n"
     ]
    },
    {
     "name": "stderr",
     "output_type": "stream",
     "text": [
      "\n",
      "Uploading:   0%|          | 0/1 [00:00<?, ?it/s]\u001b[A\n",
      "Uploading:   0%|          | 0/1 [00:00<?, ?it/s]\u001b[A\n",
      "\n",
      "Uploading:   0%|          | 0/1 [00:00<?, ?it/s]\u001b[A"
     ]
    },
    {
     "name": "stdout",
     "output_type": "stream",
     "text": [
      "success\n",
      "success\n",
      "success\n",
      "success\n",
      "success\n",
      "success\n",
      "success\n",
      "success\n",
      "success\n"
     ]
    },
    {
     "name": "stderr",
     "output_type": "stream",
     "text": [
      "Uploading: 100%|██████████| 1/1 [00:00<00:00, 33.41it/s]\n",
      "\n"
     ]
    },
    {
     "name": "stdout",
     "output_type": "stream",
     "text": [
      "Processing slice z= 394\n"
     ]
    },
    {
     "name": "stderr",
     "output_type": "stream",
     "text": [
      "Uploading:   0%|          | 0/1 [00:00<?, ?it/s]\u001b[A\n",
      "Uploading:   0%|          | 0/1 [00:00<?, ?it/s]\u001b[A\n",
      "Uploading: 100%|██████████| 1/1 [00:00<00:00, 49.80it/s]\n",
      "Uploading: 100%|██████████| 1/1 [00:00<00:00, 31.47it/s]\n"
     ]
    },
    {
     "name": "stdout",
     "output_type": "stream",
     "text": [
      "Processing slice z= 395\n"
     ]
    },
    {
     "name": "stderr",
     "output_type": "stream",
     "text": [
      "Uploading:   0%|          | 0/1 [00:00<?, ?it/s]\n",
      "Uploading:   0%|          | 0/1 [00:00<?, ?it/s]\n",
      "Uploading: 100%|██████████| 1/1 [00:00<00:00, 24.31it/s]\n",
      "Uploading: 100%|██████████| 1/1 [00:00<00:00, 29.00it/s]\n",
      "Uploading: 100%|██████████| 1/1 [00:00<00:00, 39.88it/s]\n",
      "Uploading: 100%|██████████| 1/1 [00:00<00:00, 36.41it/s]\n",
      "Uploading:   0%|          | 0/1 [00:00<?, ?it/s]"
     ]
    },
    {
     "name": "stdout",
     "output_type": "stream",
     "text": [
      "Processing slice z= 396\n"
     ]
    },
    {
     "name": "stderr",
     "output_type": "stream",
     "text": [
      "\n",
      "Uploading:   0%|          | 0/1 [00:00<?, ?it/s]\u001b[A\n",
      "Uploading:   0%|          | 0/1 [00:00<?, ?it/s]\n",
      "\n",
      "Uploading:   0%|          | 0/1 [00:00<?, ?it/s]"
     ]
    },
    {
     "name": "stdout",
     "output_type": "stream",
     "text": [
      "Processing slice z= 397\n"
     ]
    },
    {
     "name": "stderr",
     "output_type": "stream",
     "text": [
      "\u001b[A"
     ]
    },
    {
     "name": "stdout",
     "output_type": "stream",
     "text": [
      "Processing slice z= 398\n"
     ]
    },
    {
     "name": "stderr",
     "output_type": "stream",
     "text": [
      "Uploading:   0%|          | 0/1 [00:00<?, ?it/s]\n"
     ]
    },
    {
     "name": "stdout",
     "output_type": "stream",
     "text": [
      "Processing slice z= 399\n"
     ]
    },
    {
     "name": "stderr",
     "output_type": "stream",
     "text": [
      "Uploading:   0%|          | 0/1 [00:00<?, ?it/s]\n",
      "Uploading:   0%|          | 0/1 [00:00<?, ?it/s]"
     ]
    },
    {
     "name": "stdout",
     "output_type": "stream",
     "text": [
      "Processing slice z= 400\n"
     ]
    },
    {
     "name": "stderr",
     "output_type": "stream",
     "text": [
      "\n",
      "Uploading:   0%|          | 0/1 [00:00<?, ?it/s]\u001b[A"
     ]
    },
    {
     "name": "stdout",
     "output_type": "stream",
     "text": [
      "Processing slice z= 401\n"
     ]
    },
    {
     "name": "stderr",
     "output_type": "stream",
     "text": [
      "Uploading: 100%|██████████| 1/1 [00:00<00:00, 32.95it/s]\n",
      "Uploading: 100%|██████████| 1/1 [00:00<00:00, 37.40it/s]\n",
      "Uploading:   0%|          | 0/1 [00:00<?, ?it/s]\n",
      "Uploading:   0%|          | 0/1 [00:00<?, ?it/s]\u001b[A\n",
      "Uploading:   0%|          | 0/1 [00:00<?, ?it/s]\u001b[A\n",
      "Uploading:   0%|          | 0/1 [00:00<?, ?it/s]\u001b[A\n",
      "Uploading:   0%|          | 0/1 [00:00<?, ?it/s]\n",
      "\n",
      "Uploading: 100%|██████████| 1/1 [00:00<00:00, 32.94it/s]\n",
      "Uploading:   0%|          | 0/1 [00:00<?, ?it/s]\n"
     ]
    },
    {
     "name": "stdout",
     "output_type": "stream",
     "text": [
      "Processing slice z= 402\n",
      "Processing slice z= 403\n"
     ]
    },
    {
     "name": "stderr",
     "output_type": "stream",
     "text": [
      "\n",
      "Uploading:   0%|          | 0/1 [00:00<?, ?it/s]\u001b[A"
     ]
    },
    {
     "name": "stdout",
     "output_type": "stream",
     "text": [
      "success\n",
      "success\n",
      "success\n",
      "success\n",
      "success\n",
      "success\n",
      "success\n",
      "success\n",
      "success\n",
      "success\n",
      "success\n"
     ]
    },
    {
     "name": "stderr",
     "output_type": "stream",
     "text": [
      "\r",
      "Uploading:   0%|          | 0/1 [00:00<?, ?it/s]"
     ]
    },
    {
     "name": "stdout",
     "output_type": "stream",
     "text": [
      "Processing slice z= 404\n"
     ]
    },
    {
     "name": "stderr",
     "output_type": "stream",
     "text": [
      "Uploading: 100%|██████████| 1/1 [00:00<00:00, 37.44it/s]\n",
      "Uploading: 100%|██████████| 1/1 [00:00<00:00, 39.51it/s]\n",
      "Uploading: 100%|██████████| 1/1 [00:00<00:00, 31.57it/s]\n",
      "Uploading:   0%|          | 0/1 [00:00<?, ?it/s]\n",
      "Uploading:   0%|          | 0/1 [00:00<?, ?it/s]\u001b[A\n",
      "Uploading:   0%|          | 0/1 [00:00<?, ?it/s]\n",
      "\n",
      "Uploading:   0%|          | 0/1 [00:00<?, ?it/s]\u001b[A\n"
     ]
    },
    {
     "name": "stdout",
     "output_type": "stream",
     "text": [
      "Processing slice z= 405\n",
      "Processing slice z= 406\n"
     ]
    },
    {
     "name": "stderr",
     "output_type": "stream",
     "text": [
      "Uploading: 100%|██████████| 1/1 [00:00<00:00, 19.55it/s]\n",
      "Uploading:   0%|          | 0/1 [00:00<?, ?it/s]\n",
      "Uploading:   0%|          | 0/1 [00:00<?, ?it/s]\u001b[A\n",
      "Uploading: 100%|██████████| 1/1 [00:00<00:00, 36.74it/s]\n",
      "Uploading: 100%|██████████| 1/1 [00:00<00:00, 22.06it/s]\n",
      "Uploading: 100%|██████████| 1/1 [00:00<00:00, 40.87it/s]\n",
      "Uploading:   0%|          | 0/1 [00:00<?, ?it/s]"
     ]
    },
    {
     "name": "stdout",
     "output_type": "stream",
     "text": [
      "Processing slice z= 407\n"
     ]
    },
    {
     "name": "stderr",
     "output_type": "stream",
     "text": [
      "Uploading:   0%|          | 0/1 [00:00<?, ?it/s]\n",
      "Uploading:   0%|          | 0/1 [00:00<?, ?it/s]\u001b[A\n"
     ]
    },
    {
     "name": "stdout",
     "output_type": "stream",
     "text": [
      "Processing slice z= 408\n"
     ]
    },
    {
     "name": "stderr",
     "output_type": "stream",
     "text": [
      "Uploading:   0%|          | 0/1 [00:00<?, ?it/s]\u001b[A\n",
      "Uploading:   0%|          | 0/1 [00:00<?, ?it/s]\n",
      "Uploading:   0%|          | 0/1 [00:00<?, ?it/s]\n",
      "Uploading:   0%|          | 0/1 [00:00<?, ?it/s]\n",
      "Uploading:   0%|          | 0/1 [00:00<?, ?it/s]"
     ]
    },
    {
     "name": "stdout",
     "output_type": "stream",
     "text": [
      "Processing slice z= 409\n"
     ]
    },
    {
     "name": "stderr",
     "output_type": "stream",
     "text": [
      "\u001b[A\n",
      "Uploading:   0%|          | 0/1 [00:00<?, ?it/s]"
     ]
    },
    {
     "name": "stdout",
     "output_type": "stream",
     "text": [
      "Processing slice z= 410\n"
     ]
    },
    {
     "name": "stderr",
     "output_type": "stream",
     "text": [
      "Uploading: 100%|██████████| 1/1 [00:00<00:00, 35.78it/s]\n"
     ]
    },
    {
     "name": "stdout",
     "output_type": "stream",
     "text": [
      "Processing slice z= 411\n"
     ]
    },
    {
     "name": "stderr",
     "output_type": "stream",
     "text": [
      "Uploading: 100%|██████████| 1/1 [00:00<00:00, 47.77it/s]\n",
      "Uploading: 100%|██████████| 1/1 [00:00<00:00, 31.32it/s]\n",
      "Uploading:   0%|          | 0/1 [00:00<?, ?it/s]\n",
      "Uploading:   0%|          | 0/1 [00:00<?, ?it/s]\n",
      "Uploading: 100%|██████████| 1/1 [00:00<00:00, 44.42it/s]\n",
      "Uploading:   0%|          | 0/1 [00:00<?, ?it/s]\n",
      "Uploading: 100%|██████████| 1/1 [00:00<00:00, 41.80it/s]\n",
      "Uploading:   0%|          | 0/1 [00:00<?, ?it/s]\n",
      "Uploading:   0%|          | 0/1 [00:00<?, ?it/s]\u001b[A\n"
     ]
    },
    {
     "name": "stdout",
     "output_type": "stream",
     "text": [
      "Processing slice z= 412\n",
      "Processing slice z= 413\n"
     ]
    },
    {
     "name": "stderr",
     "output_type": "stream",
     "text": [
      "Uploading:   0%|          | 0/1 [00:00<?, ?it/s]\u001b[A\n",
      "Uploading:   0%|          | 0/1 [00:00<?, ?it/s]\u001b[A"
     ]
    },
    {
     "name": "stdout",
     "output_type": "stream",
     "text": [
      "success\n",
      "success\n",
      "success\n",
      "success\n",
      "success\n",
      "success\n",
      "success\n",
      "success\n",
      "success\n",
      "Processing slice z= 414\n"
     ]
    },
    {
     "name": "stderr",
     "output_type": "stream",
     "text": [
      "Uploading:   0%|          | 0/1 [00:00<?, ?it/s]\n",
      "Uploading:   0%|          | 0/1 [00:00<?, ?it/s]\n",
      "Uploading:   0%|          | 0/1 [00:00<?, ?it/s]\n",
      "Uploading:   0%|          | 0/1 [00:00<?, ?it/s]"
     ]
    },
    {
     "name": "stdout",
     "output_type": "stream",
     "text": [
      "Processing slice z= 415\n"
     ]
    },
    {
     "name": "stderr",
     "output_type": "stream",
     "text": [
      "\u001b[A\n",
      "Uploading:   0%|          | 0/1 [00:00<?, ?it/s]\u001b[A"
     ]
    },
    {
     "name": "stdout",
     "output_type": "stream",
     "text": [
      "Processing slice z= 416\n"
     ]
    },
    {
     "name": "stderr",
     "output_type": "stream",
     "text": [
      "Uploading: 100%|██████████| 1/1 [00:00<00:00, 39.85it/s]\n",
      "Uploading: 100%|██████████| 1/1 [00:00<00:00, 30.02it/s]\n",
      "Uploading: 100%|██████████| 1/1 [00:00<00:00, 29.49it/s]\n",
      "\n",
      "Uploading:   0%|          | 0/1 [00:00<?, ?it/s]\u001b[A\n",
      "Uploading:   0%|          | 0/1 [00:00<?, ?it/s]\n",
      "Uploading:   0%|          | 0/1 [00:00<?, ?it/s]\n",
      "Uploading: 100%|██████████| 1/1 [00:00<00:00, 44.85it/s]\n",
      "Uploading:   0%|          | 0/1 [00:00<?, ?it/s]\n",
      "Uploading:   0%|          | 0/1 [00:00<?, ?it/s]\u001b[A"
     ]
    },
    {
     "name": "stdout",
     "output_type": "stream",
     "text": [
      "Processing slice z= 417\n"
     ]
    },
    {
     "name": "stderr",
     "output_type": "stream",
     "text": [
      "\n",
      "Uploading:   0%|          | 0/1 [00:00<?, ?it/s]"
     ]
    },
    {
     "name": "stdout",
     "output_type": "stream",
     "text": [
      "Processing slice z= 418\n"
     ]
    },
    {
     "name": "stderr",
     "output_type": "stream",
     "text": [
      "\u001b[A"
     ]
    },
    {
     "name": "stdout",
     "output_type": "stream",
     "text": [
      "Processing slice z= 419\n"
     ]
    },
    {
     "name": "stderr",
     "output_type": "stream",
     "text": [
      "Uploading: 100%|██████████| 1/1 [00:00<00:00, 26.82it/s]\n",
      "Uploading:   0%|          | 0/1 [00:00<?, ?it/s]\n",
      "Uploading: 100%|██████████| 1/1 [00:00<00:00, 38.15it/s]\n",
      "Uploading:   0%|          | 0/1 [00:00<?, ?it/s]\n",
      "Uploading: 100%|██████████| 1/1 [00:00<00:00, 46.00it/s]\n",
      "Uploading:   0%|          | 0/1 [00:00<?, ?it/s]"
     ]
    },
    {
     "name": "stdout",
     "output_type": "stream",
     "text": [
      "Processing slice z= 420\n"
     ]
    },
    {
     "name": "stderr",
     "output_type": "stream",
     "text": [
      "\n",
      "Uploading:   0%|          | 0/1 [00:00<?, ?it/s]\n",
      "Uploading:   0%|          | 0/1 [00:00<?, ?it/s]"
     ]
    },
    {
     "name": "stdout",
     "output_type": "stream",
     "text": [
      "Processing slice z= 421\n"
     ]
    },
    {
     "name": "stderr",
     "output_type": "stream",
     "text": [
      "\u001b[A"
     ]
    },
    {
     "name": "stdout",
     "output_type": "stream",
     "text": [
      "Processing slice z= 422\n"
     ]
    },
    {
     "name": "stderr",
     "output_type": "stream",
     "text": [
      "\n",
      "Uploading:   0%|          | 0/1 [00:00<?, ?it/s]\u001b[A\n",
      "Uploading:   0%|          | 0/1 [00:00<?, ?it/s]\u001b[A\n",
      "Uploading: 100%|██████████| 1/1 [00:00<00:00, 22.15it/s]\n",
      "Uploading:   0%|          | 0/1 [00:00<?, ?it/s]\n",
      "Uploading: 100%|██████████| 1/1 [00:00<00:00, 42.40it/s]"
     ]
    },
    {
     "name": "stdout",
     "output_type": "stream",
     "text": [
      "Processing slice z= 423\n"
     ]
    },
    {
     "name": "stderr",
     "output_type": "stream",
     "text": [
      "\n",
      "Uploading:   0%|          | 0/1 [00:00<?, ?it/s]\n",
      "Uploading:   0%|          | 0/1 [00:00<?, ?it/s]\u001b[A\n",
      "Uploading:   0%|          | 0/1 [00:00<?, ?it/s]"
     ]
    },
    {
     "name": "stdout",
     "output_type": "stream",
     "text": [
      "Processing slice z= 424\n"
     ]
    },
    {
     "name": "stderr",
     "output_type": "stream",
     "text": [
      "\u001b[A\n",
      "Uploading: 100%|██████████| 1/1 [00:00<00:00, 38.45it/s]\n",
      "Uploading:   0%|          | 0/1 [00:00<?, ?it/s]\n",
      "Uploading: 100%|██████████| 1/1 [00:00<00:00, 36.87it/s]\n",
      "Uploading:   0%|          | 0/1 [00:00<?, ?it/s]\n",
      "\n"
     ]
    },
    {
     "name": "stdout",
     "output_type": "stream",
     "text": [
      "Processing slice z= 425\n"
     ]
    },
    {
     "name": "stderr",
     "output_type": "stream",
     "text": [
      "Uploading: 100%|██████████| 1/1 [00:00<00:00, 46.83it/s]\n",
      "Uploading:   0%|          | 0/1 [00:00<?, ?it/s]\n"
     ]
    },
    {
     "name": "stdout",
     "output_type": "stream",
     "text": [
      "Processing slice z= 426\n"
     ]
    },
    {
     "name": "stderr",
     "output_type": "stream",
     "text": [
      "Uploading:   0%|          | 0/1 [00:00<?, ?it/s]\n",
      "Uploading: 100%|██████████| 1/1 [00:00<00:00, 34.09it/s]"
     ]
    },
    {
     "name": "stdout",
     "output_type": "stream",
     "text": [
      "Processing slice z= 427\n"
     ]
    },
    {
     "name": "stderr",
     "output_type": "stream",
     "text": [
      "\n",
      "Uploading: 100%|██████████| 1/1 [00:00<00:00, 39.39it/s]\n",
      "Uploading:   0%|          | 0/1 [00:00<?, ?it/s]\n"
     ]
    },
    {
     "name": "stdout",
     "output_type": "stream",
     "text": [
      "success\n",
      "success\n",
      "success\n",
      "success\n",
      "success\n",
      "success\n",
      "success\n",
      "success\n",
      "success\n",
      "success\n",
      "success\n",
      "success\n",
      "success\n",
      "success\n"
     ]
    },
    {
     "name": "stderr",
     "output_type": "stream",
     "text": [
      "Uploading:   0%|          | 0/1 [00:00<?, ?it/s]\n"
     ]
    },
    {
     "name": "stdout",
     "output_type": "stream",
     "text": [
      "Processing slice z= 428\n"
     ]
    },
    {
     "name": "stderr",
     "output_type": "stream",
     "text": [
      "Uploading: 100%|██████████| 1/1 [00:00<00:00, 46.47it/s]\n",
      "Uploading:   0%|          | 0/1 [00:00<?, ?it/s]\n",
      "\n",
      "Uploading:   0%|          | 0/1 [00:00<?, ?it/s]\u001b[A\n",
      "Uploading: 100%|██████████| 1/1 [00:00<00:00, 43.26it/s]"
     ]
    },
    {
     "name": "stdout",
     "output_type": "stream",
     "text": [
      "Processing slice z= 429\n"
     ]
    },
    {
     "name": "stderr",
     "output_type": "stream",
     "text": [
      "\n",
      "\n",
      "Uploading:   0%|          | 0/1 [00:00<?, ?it/s]\u001b[A"
     ]
    },
    {
     "name": "stdout",
     "output_type": "stream",
     "text": [
      "Processing slice z= 430\n"
     ]
    },
    {
     "name": "stderr",
     "output_type": "stream",
     "text": [
      "Uploading:   0%|          | 0/1 [00:00<?, ?it/s]\n",
      "Uploading:   0%|          | 0/1 [00:00<?, ?it/s]\n"
     ]
    },
    {
     "name": "stdout",
     "output_type": "stream",
     "text": [
      "Processing slice z= 431\n"
     ]
    },
    {
     "name": "stderr",
     "output_type": "stream",
     "text": [
      "Uploading: 100%|██████████| 1/1 [00:00<00:00, 57.52it/s]\n",
      "\n"
     ]
    },
    {
     "name": "stdout",
     "output_type": "stream",
     "text": [
      "Processing slice z= 432\n"
     ]
    },
    {
     "name": "stderr",
     "output_type": "stream",
     "text": [
      "Uploading:   0%|          | 0/1 [00:00<?, ?it/s]\u001b[A\n",
      "Uploading: 100%|██████████| 1/1 [00:00<00:00, 46.83it/s]\n",
      "\n",
      "Uploading:   0%|          | 0/1 [00:00<?, ?it/s]\u001b[A\n",
      "Uploading: 100%|██████████| 1/1 [00:00<00:00, 24.73it/s]\n",
      "Uploading:   0%|          | 0/1 [00:00<?, ?it/s]\n",
      "Uploading: 100%|██████████| 1/1 [00:00<00:00, 53.95it/s]\n",
      "Uploading: 100%|██████████| 1/1 [00:00<00:00, 55.33it/s]\n",
      "\n",
      "Uploading:   0%|          | 0/1 [00:00<?, ?it/s]\u001b[A"
     ]
    },
    {
     "name": "stdout",
     "output_type": "stream",
     "text": [
      "success\n",
      "success\n",
      "success\n",
      "success\n",
      "success\n"
     ]
    },
    {
     "name": "stderr",
     "output_type": "stream",
     "text": [
      "\n",
      "Uploading:   0%|          | 0/1 [00:00<?, ?it/s]\u001b[A"
     ]
    },
    {
     "name": "stdout",
     "output_type": "stream",
     "text": [
      "Processing slice z= 433\n"
     ]
    },
    {
     "name": "stderr",
     "output_type": "stream",
     "text": [
      "\n"
     ]
    },
    {
     "name": "stdout",
     "output_type": "stream",
     "text": [
      "Processing slice z= 434\n"
     ]
    },
    {
     "name": "stderr",
     "output_type": "stream",
     "text": [
      "Uploading:   0%|          | 0/1 [00:00<?, ?it/s]\n"
     ]
    },
    {
     "name": "stdout",
     "output_type": "stream",
     "text": [
      "Processing slice z= 435\n"
     ]
    },
    {
     "name": "stderr",
     "output_type": "stream",
     "text": [
      "Uploading:   0%|          | 0/1 [00:00<?, ?it/s]\n"
     ]
    },
    {
     "name": "stdout",
     "output_type": "stream",
     "text": [
      "Processing slice z= 436\n"
     ]
    },
    {
     "name": "stderr",
     "output_type": "stream",
     "text": [
      "Uploading: 100%|██████████| 1/1 [00:00<00:00, 25.08it/s]\n",
      "Uploading: 100%|██████████| 1/1 [00:00<00:00, 26.75it/s]\n",
      "Uploading: 100%|██████████| 1/1 [00:00<00:00, 27.66it/s]\n"
     ]
    },
    {
     "name": "stdout",
     "output_type": "stream",
     "text": [
      "Processing slice z= 437\n"
     ]
    },
    {
     "name": "stderr",
     "output_type": "stream",
     "text": [
      "Uploading:   0%|          | 0/1 [00:00<?, ?it/s]\n",
      "Uploading:   0%|          | 0/1 [00:00<?, ?it/s]\n",
      "Uploading:   0%|          | 0/1 [00:00<?, ?it/s]\u001b[A"
     ]
    },
    {
     "name": "stdout",
     "output_type": "stream",
     "text": [
      "Processing slice z= 438\n"
     ]
    },
    {
     "name": "stderr",
     "output_type": "stream",
     "text": [
      "\n",
      "Uploading:   0%|          | 0/1 [00:00<?, ?it/s]\n",
      "\n",
      "Uploading:   0%|          | 0/1 [00:00<?, ?it/s]\u001b[A\n"
     ]
    },
    {
     "name": "stdout",
     "output_type": "stream",
     "text": [
      "Processing slice z= 439\n"
     ]
    },
    {
     "name": "stderr",
     "output_type": "stream",
     "text": [
      "Uploading:   0%|          | 0/1 [00:00<?, ?it/s]\u001b[A"
     ]
    },
    {
     "name": "stdout",
     "output_type": "stream",
     "text": [
      "Processing slice z= 440\n"
     ]
    },
    {
     "name": "stderr",
     "output_type": "stream",
     "text": [
      "\n",
      "Uploading: 100%|██████████| 1/1 [00:00<00:00, 37.95it/s]\n",
      "\n",
      "Uploading:   0%|          | 0/1 [00:00<?, ?it/s]\u001b[A\n",
      "Uploading: 100%|██████████| 1/1 [00:00<00:00, 37.48it/s]\n",
      "\n",
      "Uploading: 100%|██████████| 1/1 [00:00<00:00, 41.57it/s]\n"
     ]
    },
    {
     "name": "stdout",
     "output_type": "stream",
     "text": [
      "Processing slice z= 441\n"
     ]
    },
    {
     "name": "stderr",
     "output_type": "stream",
     "text": [
      "Uploading: 100%|██████████| 1/1 [00:00<00:00, 49.83it/s]\n",
      "\n",
      "Uploading:   0%|          | 0/1 [00:00<?, ?it/s]\u001b[A\n",
      "\n",
      "Uploading: 100%|██████████| 1/1 [00:00<00:00, 43.72it/s]\n",
      "Uploading:   0%|          | 0/1 [00:00<?, ?it/s]\n"
     ]
    },
    {
     "name": "stdout",
     "output_type": "stream",
     "text": [
      "Processing slice z= 442\n"
     ]
    },
    {
     "name": "stderr",
     "output_type": "stream",
     "text": [
      "Uploading:   0%|          | 0/1 [00:00<?, ?it/s]\n",
      "Uploading: 100%|██████████| 1/1 [00:00<00:00, 44.62it/s]\n",
      "Uploading:   0%|          | 0/1 [00:00<?, ?it/s]\n",
      "Uploading: 100%|██████████| 1/1 [00:00<00:00, 55.13it/s]\n",
      "\n",
      "Uploading: 100%|██████████| 1/1 [00:00<00:00, 52.68it/s]"
     ]
    },
    {
     "name": "stdout",
     "output_type": "stream",
     "text": [
      "Processing slice z= 443\n"
     ]
    },
    {
     "name": "stderr",
     "output_type": "stream",
     "text": [
      "\n",
      "Uploading:   0%|          | 0/1 [00:00<?, ?it/s]\n"
     ]
    },
    {
     "name": "stdout",
     "output_type": "stream",
     "text": [
      "Processing slice z= 444\n"
     ]
    },
    {
     "name": "stderr",
     "output_type": "stream",
     "text": [
      "Uploading:   0%|          | 0/1 [00:00<?, ?it/s]\n",
      "Uploading:   0%|          | 0/1 [00:00<?, ?it/s]"
     ]
    },
    {
     "name": "stdout",
     "output_type": "stream",
     "text": [
      "Processing slice z= 445\n",
      "Processing slice z= 446\n",
      "Processing slice z= 447\n"
     ]
    },
    {
     "name": "stderr",
     "output_type": "stream",
     "text": [
      "\n",
      "Uploading:   0%|          | 0/1 [00:00<?, ?it/s]\u001b[A\n",
      "Uploading: 100%|██████████| 1/1 [00:00<00:00, 39.90it/s]"
     ]
    },
    {
     "name": "stdout",
     "output_type": "stream",
     "text": [
      "Processing slice z= 448\n"
     ]
    },
    {
     "name": "stderr",
     "output_type": "stream",
     "text": [
      "\n",
      "Uploading:   0%|          | 0/1 [00:00<?, ?it/s]\n",
      "Uploading:   0%|          | 0/1 [00:00<?, ?it/s]\u001b[A\n",
      "Uploading:   0%|          | 0/1 [00:00<?, ?it/s]\u001b[A"
     ]
    },
    {
     "name": "stdout",
     "output_type": "stream",
     "text": [
      "success\n",
      "success\n",
      "success\n",
      "success\n",
      "success\n",
      "success\n",
      "success\n",
      "success\n",
      "success\n",
      "success\n",
      "success\n",
      "success\n",
      "success\n",
      "success\n",
      "success\n",
      "success\n"
     ]
    },
    {
     "name": "stderr",
     "output_type": "stream",
     "text": [
      "Uploading:   0%|          | 0/1 [00:00<?, ?it/s]\n",
      "Uploading:   0%|          | 0/1 [00:00<?, ?it/s]\u001b[A\n",
      "\n",
      "Uploading:   0%|          | 0/1 [00:00<?, ?it/s]\u001b[A\n",
      "Uploading: 100%|██████████| 1/1 [00:00<00:00, 27.66it/s]\n",
      "Uploading: 100%|██████████| 1/1 [00:00<00:00, 36.16it/s]\n"
     ]
    },
    {
     "name": "stdout",
     "output_type": "stream",
     "text": [
      "Processing slice z= 449\n"
     ]
    },
    {
     "name": "stderr",
     "output_type": "stream",
     "text": [
      "\n",
      "Uploading: 100%|██████████| 1/1 [00:00<00:00, 45.38it/s]\n",
      "Uploading: 100%|██████████| 1/1 [00:00<00:00, 46.38it/s]\n",
      "Uploading:   0%|          | 0/1 [00:00<?, ?it/s]\n",
      "Uploading:   0%|          | 0/1 [00:00<?, ?it/s]\n",
      "Uploading:   0%|          | 0/1 [00:00<?, ?it/s]"
     ]
    },
    {
     "name": "stdout",
     "output_type": "stream",
     "text": [
      "Processing slice z= 450\n"
     ]
    },
    {
     "name": "stderr",
     "output_type": "stream",
     "text": [
      "\n",
      "Uploading: 100%|██████████| 1/1 [00:00<00:00, 41.72it/s]\n",
      "Uploading:   0%|          | 0/1 [00:00<?, ?it/s]\n",
      "Uploading: 100%|██████████| 1/1 [00:00<00:00, 60.15it/s]\n",
      "Uploading: 100%|██████████| 1/1 [00:00<00:00, 39.98it/s]\n",
      "Uploading:   0%|          | 0/1 [00:00<?, ?it/s]"
     ]
    },
    {
     "name": "stdout",
     "output_type": "stream",
     "text": [
      "Processing slice z= 451\n",
      "Processing slice z= 452\n"
     ]
    },
    {
     "name": "stderr",
     "output_type": "stream",
     "text": [
      "\n",
      "Uploading:   0%|          | 0/1 [00:00<?, ?it/s]\u001b[A"
     ]
    },
    {
     "name": "stdout",
     "output_type": "stream",
     "text": [
      "Processing slice z= 453\n"
     ]
    },
    {
     "name": "stderr",
     "output_type": "stream",
     "text": [
      "\n",
      "Uploading:   0%|          | 0/1 [00:00<?, ?it/s]\n",
      "Uploading:   0%|          | 0/1 [00:00<?, ?it/s]"
     ]
    },
    {
     "name": "stdout",
     "output_type": "stream",
     "text": [
      "Processing slice z= 454\n",
      "success\n",
      "success\n",
      "success\n",
      "success\n",
      "success\n",
      "success\n"
     ]
    },
    {
     "name": "stderr",
     "output_type": "stream",
     "text": [
      "\n",
      "Uploading: 100%|██████████| 1/1 [00:00<00:00, 81.62it/s]\n",
      "\n",
      "Uploading:   0%|          | 0/1 [00:00<?, ?it/s]\u001b[A\n",
      "\n",
      "Uploading:   0%|          | 0/1 [00:00<?, ?it/s]\u001b[A\n",
      "Uploading:   0%|          | 0/1 [00:00<?, ?it/s]\u001b[A\n",
      "Uploading:   0%|          | 0/1 [00:00<?, ?it/s]\u001b[A\n",
      "Uploading: 100%|██████████| 1/1 [00:00<00:00, 57.87it/s]\n",
      "Uploading: 100%|██████████| 1/1 [00:00<00:00, 94.29it/s]\n",
      "Uploading: 100%|██████████| 1/1 [00:00<00:00, 97.80it/s]\n",
      "Uploading:   0%|          | 0/1 [00:00<?, ?it/s]\n",
      "Uploading:   0%|          | 0/1 [00:00<?, ?it/s]\n",
      "Uploading: 100%|██████████| 1/1 [00:00<00:00, 82.33it/s]\n",
      "Uploading:   0%|          | 0/1 [00:00<?, ?it/s]\n",
      "Uploading: 100%|██████████| 1/1 [00:00<00:00, 91.35it/s]\n",
      "Uploading:   0%|          | 0/1 [00:00<?, ?it/s]\n",
      "Uploading:   0%|          | 0/1 [00:00<?, ?it/s]\n"
     ]
    },
    {
     "name": "stdout",
     "output_type": "stream",
     "text": [
      "success\n",
      "success\n",
      "success\n",
      "success\n",
      "success\n",
      "success\n",
      "success\n",
      "success\n"
     ]
    }
   ],
   "source": [
    "# Run the conversion in parallel. It's not a huge amount of processing but the more cores the better\n",
    "\n",
    "# First figure out if there are any planes that have already been converted \n",
    "# by checking the progress dir\n",
    "done_files = set([ int(z) for z in os.listdir(progress_dir) ])\n",
    "all_files = set(range(vol.bounds.minpt.z, vol.bounds.maxpt.z))\n",
    "# Figure out the ones we still need to convert \n",
    "to_upload = [ int(z) for z in list(all_files.difference(done_files)) ]\n",
    "to_upload.sort()\n",
    "print(f\"Have {len(to_upload)} planes to upload\")\n",
    "with ProcessPoolExecutor(max_workers=cpus_to_use) as executor:\n",
    "    for result in executor.map(process_slice,to_upload):\n",
    "        try:\n",
    "            print(result)\n",
    "        except Exception as exc:\n",
    "            print(f'generated an exception: {exc}')"
   ]
  },
  {
   "cell_type": "markdown",
   "metadata": {},
   "source": [
    "# Step 4: Host the precomputed data on your machine so that Neuroglancer can see it\n",
    "This step is really easy! Note: Exectuing the cell below will cause your jupyter notebook to hang (expected). This is the last cell you need to run in the notebook, but if for some reason you want to use the same notebook for something else then run the code in the cell below elsewhere (e.g. a new terminal window)"
   ]
  },
  {
   "cell_type": "code",
   "execution_count": null,
   "metadata": {},
   "outputs": [
    {
     "name": "stdout",
     "output_type": "stream",
     "text": [
      "Neuroglancer server listening to http://localhost:1338\n"
     ]
    },
    {
     "name": "stderr",
     "output_type": "stream",
     "text": [
      "127.0.0.1 - - [28/Apr/2020 16:17:31] \"GET /info HTTP/1.1\" 200 -\n",
      "127.0.0.1 - - [28/Apr/2020 16:17:32] \"GET /labels_v3.json HTTP/1.1\" 200 -\n",
      "127.0.0.1 - - [28/Apr/2020 16:17:32] \"GET /39000_39000_39000/0-302_0-774_227-228 HTTP/1.1\" 200 -\n",
      "127.0.0.1 - - [28/Apr/2020 16:17:32] \"GET /39000_39000_39000/0-302_0-774_228-229 HTTP/1.1\" 200 -\n",
      "127.0.0.1 - - [28/Apr/2020 16:17:32] \"GET /39000_39000_39000/0-302_0-774_229-230 HTTP/1.1\" 200 -\n",
      "127.0.0.1 - - [28/Apr/2020 16:17:32] \"GET /39000_39000_39000/0-302_0-774_226-227 HTTP/1.1\" 200 -\n",
      "127.0.0.1 - - [28/Apr/2020 16:17:32] \"GET /39000_39000_39000/0-302_0-774_225-226 HTTP/1.1\" 200 -\n",
      "127.0.0.1 - - [28/Apr/2020 16:17:32] \"GET /39000_39000_39000/0-302_0-774_230-231 HTTP/1.1\" 200 -\n",
      "127.0.0.1 - - [28/Apr/2020 16:17:32] \"GET /39000_39000_39000/0-302_0-774_224-225 HTTP/1.1\" 200 -\n",
      "127.0.0.1 - - [28/Apr/2020 16:17:32] \"GET /39000_39000_39000/0-302_0-774_231-232 HTTP/1.1\" 200 -\n",
      "127.0.0.1 - - [28/Apr/2020 16:17:32] \"GET /39000_39000_39000/0-302_0-774_223-224 HTTP/1.1\" 200 -\n",
      "127.0.0.1 - - [28/Apr/2020 16:17:32] \"GET /39000_39000_39000/0-302_0-774_232-233 HTTP/1.1\" 200 -\n",
      "127.0.0.1 - - [28/Apr/2020 16:17:32] \"GET /39000_39000_39000/0-302_0-774_233-234 HTTP/1.1\" 200 -\n",
      "127.0.0.1 - - [28/Apr/2020 16:17:32] \"GET /39000_39000_39000/0-302_0-774_222-223 HTTP/1.1\" 200 -\n",
      "127.0.0.1 - - [28/Apr/2020 16:17:32] \"GET /39000_39000_39000/0-302_0-774_221-222 HTTP/1.1\" 200 -\n",
      "127.0.0.1 - - [28/Apr/2020 16:17:32] \"GET /39000_39000_39000/0-302_0-774_234-235 HTTP/1.1\" 200 -\n",
      "127.0.0.1 - - [28/Apr/2020 16:17:32] \"GET /39000_39000_39000/0-302_0-774_235-236 HTTP/1.1\" 200 -\n",
      "127.0.0.1 - - [28/Apr/2020 16:17:32] \"GET /39000_39000_39000/0-302_0-774_220-221 HTTP/1.1\" 200 -\n",
      "127.0.0.1 - - [28/Apr/2020 16:17:32] \"GET /39000_39000_39000/0-302_0-774_219-220 HTTP/1.1\" 200 -\n",
      "127.0.0.1 - - [28/Apr/2020 16:17:32] \"GET /39000_39000_39000/0-302_0-774_236-237 HTTP/1.1\" 200 -\n",
      "127.0.0.1 - - [28/Apr/2020 16:17:32] \"GET /39000_39000_39000/0-302_0-774_237-238 HTTP/1.1\" 200 -\n",
      "127.0.0.1 - - [28/Apr/2020 16:17:32] \"GET /39000_39000_39000/0-302_0-774_218-219 HTTP/1.1\" 200 -\n",
      "127.0.0.1 - - [28/Apr/2020 16:17:32] \"GET /39000_39000_39000/0-302_0-774_217-218 HTTP/1.1\" 200 -\n",
      "127.0.0.1 - - [28/Apr/2020 16:17:32] \"GET /39000_39000_39000/0-302_0-774_238-239 HTTP/1.1\" 200 -\n",
      "127.0.0.1 - - [28/Apr/2020 16:17:32] \"GET /39000_39000_39000/0-302_0-774_239-240 HTTP/1.1\" 200 -\n",
      "127.0.0.1 - - [28/Apr/2020 16:17:32] \"GET /39000_39000_39000/0-302_0-774_216-217 HTTP/1.1\" 200 -\n",
      "127.0.0.1 - - [28/Apr/2020 16:17:32] \"GET /39000_39000_39000/0-302_0-774_215-216 HTTP/1.1\" 200 -\n",
      "127.0.0.1 - - [28/Apr/2020 16:17:32] \"GET /39000_39000_39000/0-302_0-774_240-241 HTTP/1.1\" 200 -\n",
      "127.0.0.1 - - [28/Apr/2020 16:17:32] \"GET /39000_39000_39000/0-302_0-774_241-242 HTTP/1.1\" 200 -\n",
      "127.0.0.1 - - [28/Apr/2020 16:17:32] \"GET /39000_39000_39000/0-302_0-774_214-215 HTTP/1.1\" 200 -\n",
      "127.0.0.1 - - [28/Apr/2020 16:17:32] \"GET /39000_39000_39000/0-302_0-774_213-214 HTTP/1.1\" 200 -\n",
      "127.0.0.1 - - [28/Apr/2020 16:17:32] \"GET /39000_39000_39000/0-302_0-774_242-243 HTTP/1.1\" 200 -\n",
      "127.0.0.1 - - [28/Apr/2020 16:17:32] \"GET /39000_39000_39000/0-302_0-774_243-244 HTTP/1.1\" 200 -\n",
      "127.0.0.1 - - [28/Apr/2020 16:17:32] \"GET /39000_39000_39000/0-302_0-774_212-213 HTTP/1.1\" 200 -\n",
      "127.0.0.1 - - [28/Apr/2020 16:17:32] \"GET /39000_39000_39000/0-302_0-774_211-212 HTTP/1.1\" 200 -\n",
      "127.0.0.1 - - [28/Apr/2020 16:17:32] \"GET /39000_39000_39000/0-302_0-774_244-245 HTTP/1.1\" 200 -\n",
      "127.0.0.1 - - [28/Apr/2020 16:17:32] \"GET /39000_39000_39000/0-302_0-774_245-246 HTTP/1.1\" 200 -\n",
      "127.0.0.1 - - [28/Apr/2020 16:17:32] \"GET /39000_39000_39000/0-302_0-774_210-211 HTTP/1.1\" 200 -\n",
      "127.0.0.1 - - [28/Apr/2020 16:17:32] \"GET /39000_39000_39000/0-302_0-774_209-210 HTTP/1.1\" 200 -\n",
      "127.0.0.1 - - [28/Apr/2020 16:17:32] \"GET /39000_39000_39000/0-302_0-774_246-247 HTTP/1.1\" 200 -\n",
      "127.0.0.1 - - [28/Apr/2020 16:17:32] \"GET /39000_39000_39000/0-302_0-774_247-248 HTTP/1.1\" 200 -\n",
      "127.0.0.1 - - [28/Apr/2020 16:17:32] \"GET /39000_39000_39000/0-302_0-774_208-209 HTTP/1.1\" 200 -\n",
      "127.0.0.1 - - [28/Apr/2020 16:17:32] \"GET /39000_39000_39000/0-302_0-774_207-208 HTTP/1.1\" 200 -\n",
      "127.0.0.1 - - [28/Apr/2020 16:17:32] \"GET /39000_39000_39000/0-302_0-774_248-249 HTTP/1.1\" 200 -\n",
      "127.0.0.1 - - [28/Apr/2020 16:17:32] \"GET /39000_39000_39000/0-302_0-774_249-250 HTTP/1.1\" 200 -\n",
      "127.0.0.1 - - [28/Apr/2020 16:17:32] \"GET /39000_39000_39000/0-302_0-774_206-207 HTTP/1.1\" 200 -\n",
      "127.0.0.1 - - [28/Apr/2020 16:17:32] \"GET /39000_39000_39000/0-302_0-774_205-206 HTTP/1.1\" 200 -\n",
      "127.0.0.1 - - [28/Apr/2020 16:17:32] \"GET /39000_39000_39000/0-302_0-774_250-251 HTTP/1.1\" 200 -\n",
      "127.0.0.1 - - [28/Apr/2020 16:17:32] \"GET /39000_39000_39000/0-302_0-774_251-252 HTTP/1.1\" 200 -\n",
      "127.0.0.1 - - [28/Apr/2020 16:17:32] \"GET /39000_39000_39000/0-302_0-774_204-205 HTTP/1.1\" 200 -\n",
      "127.0.0.1 - - [28/Apr/2020 16:17:32] \"GET /39000_39000_39000/0-302_0-774_203-204 HTTP/1.1\" 200 -\n",
      "127.0.0.1 - - [28/Apr/2020 16:17:32] \"GET /39000_39000_39000/0-302_0-774_252-253 HTTP/1.1\" 200 -\n",
      "127.0.0.1 - - [28/Apr/2020 16:17:32] \"GET /39000_39000_39000/0-302_0-774_253-254 HTTP/1.1\" 200 -\n",
      "127.0.0.1 - - [28/Apr/2020 16:17:32] \"GET /39000_39000_39000/0-302_0-774_202-203 HTTP/1.1\" 200 -\n",
      "127.0.0.1 - - [28/Apr/2020 16:17:32] \"GET /39000_39000_39000/0-302_0-774_201-202 HTTP/1.1\" 200 -\n",
      "127.0.0.1 - - [28/Apr/2020 16:17:32] \"GET /39000_39000_39000/0-302_0-774_254-255 HTTP/1.1\" 200 -\n",
      "127.0.0.1 - - [28/Apr/2020 16:17:32] \"GET /39000_39000_39000/0-302_0-774_255-256 HTTP/1.1\" 200 -\n",
      "127.0.0.1 - - [28/Apr/2020 16:17:32] \"GET /39000_39000_39000/0-302_0-774_200-201 HTTP/1.1\" 200 -\n",
      "127.0.0.1 - - [28/Apr/2020 16:17:32] \"GET /39000_39000_39000/0-302_0-774_199-200 HTTP/1.1\" 200 -\n",
      "127.0.0.1 - - [28/Apr/2020 16:17:32] \"GET /39000_39000_39000/0-302_0-774_256-257 HTTP/1.1\" 200 -\n",
      "127.0.0.1 - - [28/Apr/2020 16:17:32] \"GET /39000_39000_39000/0-302_0-774_257-258 HTTP/1.1\" 200 -\n",
      "127.0.0.1 - - [28/Apr/2020 16:17:32] \"GET /39000_39000_39000/0-302_0-774_198-199 HTTP/1.1\" 200 -\n",
      "127.0.0.1 - - [28/Apr/2020 16:17:32] \"GET /39000_39000_39000/0-302_0-774_197-198 HTTP/1.1\" 200 -\n",
      "127.0.0.1 - - [28/Apr/2020 16:17:32] \"GET /39000_39000_39000/0-302_0-774_258-259 HTTP/1.1\" 200 -\n",
      "127.0.0.1 - - [28/Apr/2020 16:17:32] \"GET /39000_39000_39000/0-302_0-774_259-260 HTTP/1.1\" 200 -\n",
      "127.0.0.1 - - [28/Apr/2020 16:17:32] \"GET /39000_39000_39000/0-302_0-774_196-197 HTTP/1.1\" 200 -\n",
      "127.0.0.1 - - [28/Apr/2020 16:17:32] \"GET /39000_39000_39000/0-302_0-774_195-196 HTTP/1.1\" 200 -\n",
      "127.0.0.1 - - [28/Apr/2020 16:17:32] \"GET /39000_39000_39000/0-302_0-774_260-261 HTTP/1.1\" 200 -\n",
      "127.0.0.1 - - [28/Apr/2020 16:17:32] \"GET /39000_39000_39000/0-302_0-774_261-262 HTTP/1.1\" 200 -\n",
      "127.0.0.1 - - [28/Apr/2020 16:17:32] \"GET /39000_39000_39000/0-302_0-774_194-195 HTTP/1.1\" 200 -\n",
      "127.0.0.1 - - [28/Apr/2020 16:17:33] \"GET /39000_39000_39000/0-302_0-774_193-194 HTTP/1.1\" 200 -\n",
      "127.0.0.1 - - [28/Apr/2020 16:17:33] \"GET /39000_39000_39000/0-302_0-774_262-263 HTTP/1.1\" 200 -\n",
      "127.0.0.1 - - [28/Apr/2020 16:17:33] \"GET /39000_39000_39000/0-302_0-774_263-264 HTTP/1.1\" 200 -\n",
      "127.0.0.1 - - [28/Apr/2020 16:17:33] \"GET /39000_39000_39000/0-302_0-774_192-193 HTTP/1.1\" 200 -\n",
      "127.0.0.1 - - [28/Apr/2020 16:17:33] \"GET /39000_39000_39000/0-302_0-774_191-192 HTTP/1.1\" 200 -\n",
      "127.0.0.1 - - [28/Apr/2020 16:17:33] \"GET /39000_39000_39000/0-302_0-774_264-265 HTTP/1.1\" 200 -\n",
      "127.0.0.1 - - [28/Apr/2020 16:17:33] \"GET /39000_39000_39000/0-302_0-774_265-266 HTTP/1.1\" 200 -\n",
      "127.0.0.1 - - [28/Apr/2020 16:17:33] \"GET /39000_39000_39000/0-302_0-774_190-191 HTTP/1.1\" 200 -\n",
      "127.0.0.1 - - [28/Apr/2020 16:17:33] \"GET /39000_39000_39000/0-302_0-774_189-190 HTTP/1.1\" 200 -\n",
      "127.0.0.1 - - [28/Apr/2020 16:17:33] \"GET /39000_39000_39000/0-302_0-774_266-267 HTTP/1.1\" 200 -\n",
      "127.0.0.1 - - [28/Apr/2020 16:17:33] \"GET /39000_39000_39000/0-302_0-774_267-268 HTTP/1.1\" 200 -\n",
      "127.0.0.1 - - [28/Apr/2020 16:17:33] \"GET /39000_39000_39000/0-302_0-774_188-189 HTTP/1.1\" 200 -\n",
      "127.0.0.1 - - [28/Apr/2020 16:17:33] \"GET /39000_39000_39000/0-302_0-774_187-188 HTTP/1.1\" 200 -\n",
      "127.0.0.1 - - [28/Apr/2020 16:17:33] \"GET /39000_39000_39000/0-302_0-774_268-269 HTTP/1.1\" 200 -\n",
      "127.0.0.1 - - [28/Apr/2020 16:17:33] \"GET /39000_39000_39000/0-302_0-774_269-270 HTTP/1.1\" 200 -\n",
      "127.0.0.1 - - [28/Apr/2020 16:17:33] \"GET /39000_39000_39000/0-302_0-774_186-187 HTTP/1.1\" 200 -\n",
      "127.0.0.1 - - [28/Apr/2020 16:17:33] \"GET /39000_39000_39000/0-302_0-774_185-186 HTTP/1.1\" 200 -\n",
      "127.0.0.1 - - [28/Apr/2020 16:17:33] \"GET /39000_39000_39000/0-302_0-774_270-271 HTTP/1.1\" 200 -\n",
      "127.0.0.1 - - [28/Apr/2020 16:17:33] \"GET /39000_39000_39000/0-302_0-774_271-272 HTTP/1.1\" 200 -\n",
      "127.0.0.1 - - [28/Apr/2020 16:17:33] \"GET /39000_39000_39000/0-302_0-774_184-185 HTTP/1.1\" 200 -\n",
      "127.0.0.1 - - [28/Apr/2020 16:17:33] \"GET /39000_39000_39000/0-302_0-774_183-184 HTTP/1.1\" 200 -\n"
     ]
    },
    {
     "name": "stderr",
     "output_type": "stream",
     "text": [
      "127.0.0.1 - - [28/Apr/2020 16:17:33] \"GET /39000_39000_39000/0-302_0-774_272-273 HTTP/1.1\" 200 -\n",
      "127.0.0.1 - - [28/Apr/2020 16:17:33] \"GET /39000_39000_39000/0-302_0-774_273-274 HTTP/1.1\" 200 -\n",
      "127.0.0.1 - - [28/Apr/2020 16:17:33] \"GET /39000_39000_39000/0-302_0-774_182-183 HTTP/1.1\" 200 -\n",
      "127.0.0.1 - - [28/Apr/2020 16:17:33] \"GET /39000_39000_39000/0-302_0-774_181-182 HTTP/1.1\" 200 -\n",
      "127.0.0.1 - - [28/Apr/2020 16:17:33] \"GET /39000_39000_39000/0-302_0-774_274-275 HTTP/1.1\" 200 -\n",
      "127.0.0.1 - - [28/Apr/2020 16:17:33] \"GET /39000_39000_39000/0-302_0-774_275-276 HTTP/1.1\" 200 -\n",
      "127.0.0.1 - - [28/Apr/2020 16:17:33] \"GET /39000_39000_39000/0-302_0-774_180-181 HTTP/1.1\" 200 -\n",
      "127.0.0.1 - - [28/Apr/2020 16:17:33] \"GET /39000_39000_39000/0-302_0-774_179-180 HTTP/1.1\" 200 -\n",
      "127.0.0.1 - - [28/Apr/2020 16:17:33] \"GET /39000_39000_39000/0-302_0-774_276-277 HTTP/1.1\" 200 -\n",
      "127.0.0.1 - - [28/Apr/2020 16:17:33] \"GET /39000_39000_39000/0-302_0-774_277-278 HTTP/1.1\" 200 -\n",
      "127.0.0.1 - - [28/Apr/2020 16:17:33] \"GET /39000_39000_39000/0-302_0-774_178-179 HTTP/1.1\" 200 -\n",
      "127.0.0.1 - - [28/Apr/2020 16:17:33] \"GET /39000_39000_39000/0-302_0-774_177-178 HTTP/1.1\" 200 -\n",
      "127.0.0.1 - - [28/Apr/2020 16:17:33] \"GET /39000_39000_39000/0-302_0-774_278-279 HTTP/1.1\" 200 -\n",
      "127.0.0.1 - - [28/Apr/2020 16:17:33] \"GET /39000_39000_39000/0-302_0-774_279-280 HTTP/1.1\" 200 -\n",
      "127.0.0.1 - - [28/Apr/2020 16:17:33] \"GET /39000_39000_39000/0-302_0-774_176-177 HTTP/1.1\" 200 -\n",
      "127.0.0.1 - - [28/Apr/2020 16:17:33] \"GET /39000_39000_39000/0-302_0-774_175-176 HTTP/1.1\" 200 -\n",
      "127.0.0.1 - - [28/Apr/2020 16:17:33] \"GET /39000_39000_39000/0-302_0-774_280-281 HTTP/1.1\" 200 -\n",
      "127.0.0.1 - - [28/Apr/2020 16:17:33] \"GET /39000_39000_39000/0-302_0-774_281-282 HTTP/1.1\" 200 -\n",
      "127.0.0.1 - - [28/Apr/2020 16:17:33] \"GET /39000_39000_39000/0-302_0-774_174-175 HTTP/1.1\" 200 -\n",
      "127.0.0.1 - - [28/Apr/2020 16:17:33] \"GET /39000_39000_39000/0-302_0-774_173-174 HTTP/1.1\" 200 -\n",
      "127.0.0.1 - - [28/Apr/2020 16:17:33] \"GET /39000_39000_39000/0-302_0-774_282-283 HTTP/1.1\" 200 -\n",
      "127.0.0.1 - - [28/Apr/2020 16:17:33] \"GET /39000_39000_39000/0-302_0-774_283-284 HTTP/1.1\" 200 -\n",
      "127.0.0.1 - - [28/Apr/2020 16:17:33] \"GET /39000_39000_39000/0-302_0-774_172-173 HTTP/1.1\" 200 -\n",
      "127.0.0.1 - - [28/Apr/2020 16:17:33] \"GET /39000_39000_39000/0-302_0-774_171-172 HTTP/1.1\" 200 -\n",
      "127.0.0.1 - - [28/Apr/2020 16:17:33] \"GET /39000_39000_39000/0-302_0-774_284-285 HTTP/1.1\" 200 -\n",
      "127.0.0.1 - - [28/Apr/2020 16:17:33] \"GET /39000_39000_39000/0-302_0-774_285-286 HTTP/1.1\" 200 -\n",
      "127.0.0.1 - - [28/Apr/2020 16:17:33] \"GET /39000_39000_39000/0-302_0-774_170-171 HTTP/1.1\" 200 -\n",
      "127.0.0.1 - - [28/Apr/2020 16:17:33] \"GET /39000_39000_39000/0-302_0-774_169-170 HTTP/1.1\" 200 -\n",
      "127.0.0.1 - - [28/Apr/2020 16:17:33] \"GET /39000_39000_39000/0-302_0-774_286-287 HTTP/1.1\" 200 -\n",
      "127.0.0.1 - - [28/Apr/2020 16:17:33] \"GET /39000_39000_39000/0-302_0-774_287-288 HTTP/1.1\" 200 -\n",
      "127.0.0.1 - - [28/Apr/2020 16:17:33] \"GET /39000_39000_39000/0-302_0-774_168-169 HTTP/1.1\" 200 -\n",
      "127.0.0.1 - - [28/Apr/2020 16:17:33] \"GET /39000_39000_39000/0-302_0-774_167-168 HTTP/1.1\" 200 -\n",
      "127.0.0.1 - - [28/Apr/2020 16:17:33] \"GET /39000_39000_39000/0-302_0-774_288-289 HTTP/1.1\" 200 -\n",
      "127.0.0.1 - - [28/Apr/2020 16:17:33] \"GET /39000_39000_39000/0-302_0-774_289-290 HTTP/1.1\" 200 -\n",
      "127.0.0.1 - - [28/Apr/2020 16:17:33] \"GET /39000_39000_39000/0-302_0-774_166-167 HTTP/1.1\" 200 -\n",
      "127.0.0.1 - - [28/Apr/2020 16:17:33] \"GET /39000_39000_39000/0-302_0-774_165-166 HTTP/1.1\" 200 -\n",
      "127.0.0.1 - - [28/Apr/2020 16:17:33] \"GET /39000_39000_39000/0-302_0-774_290-291 HTTP/1.1\" 200 -\n",
      "127.0.0.1 - - [28/Apr/2020 16:17:33] \"GET /39000_39000_39000/0-302_0-774_291-292 HTTP/1.1\" 200 -\n",
      "127.0.0.1 - - [28/Apr/2020 16:17:33] \"GET /39000_39000_39000/0-302_0-774_164-165 HTTP/1.1\" 200 -\n",
      "127.0.0.1 - - [28/Apr/2020 16:17:33] \"GET /39000_39000_39000/0-302_0-774_163-164 HTTP/1.1\" 200 -\n",
      "127.0.0.1 - - [28/Apr/2020 16:17:33] \"GET /39000_39000_39000/0-302_0-774_292-293 HTTP/1.1\" 200 -\n",
      "127.0.0.1 - - [28/Apr/2020 16:17:33] \"GET /39000_39000_39000/0-302_0-774_293-294 HTTP/1.1\" 200 -\n",
      "127.0.0.1 - - [28/Apr/2020 16:17:33] \"GET /39000_39000_39000/0-302_0-774_162-163 HTTP/1.1\" 200 -\n",
      "127.0.0.1 - - [28/Apr/2020 16:17:33] \"GET /39000_39000_39000/0-302_0-774_161-162 HTTP/1.1\" 200 -\n",
      "127.0.0.1 - - [28/Apr/2020 16:17:33] \"GET /39000_39000_39000/0-302_0-774_294-295 HTTP/1.1\" 200 -\n",
      "127.0.0.1 - - [28/Apr/2020 16:17:33] \"GET /39000_39000_39000/0-302_0-774_295-296 HTTP/1.1\" 200 -\n",
      "127.0.0.1 - - [28/Apr/2020 16:17:33] \"GET /39000_39000_39000/0-302_0-774_160-161 HTTP/1.1\" 200 -\n",
      "127.0.0.1 - - [28/Apr/2020 16:17:33] \"GET /39000_39000_39000/0-302_0-774_159-160 HTTP/1.1\" 200 -\n",
      "127.0.0.1 - - [28/Apr/2020 16:17:33] \"GET /39000_39000_39000/0-302_0-774_296-297 HTTP/1.1\" 200 -\n",
      "127.0.0.1 - - [28/Apr/2020 16:17:33] \"GET /39000_39000_39000/0-302_0-774_297-298 HTTP/1.1\" 200 -\n",
      "127.0.0.1 - - [28/Apr/2020 16:17:33] \"GET /39000_39000_39000/0-302_0-774_158-159 HTTP/1.1\" 200 -\n",
      "127.0.0.1 - - [28/Apr/2020 16:17:33] \"GET /39000_39000_39000/0-302_0-774_157-158 HTTP/1.1\" 200 -\n",
      "127.0.0.1 - - [28/Apr/2020 16:17:33] \"GET /39000_39000_39000/0-302_0-774_298-299 HTTP/1.1\" 200 -\n",
      "127.0.0.1 - - [28/Apr/2020 16:17:33] \"GET /39000_39000_39000/0-302_0-774_299-300 HTTP/1.1\" 200 -\n",
      "127.0.0.1 - - [28/Apr/2020 16:17:34] \"GET /39000_39000_39000/0-302_0-774_156-157 HTTP/1.1\" 200 -\n",
      "127.0.0.1 - - [28/Apr/2020 16:17:34] \"GET /39000_39000_39000/0-302_0-774_155-156 HTTP/1.1\" 200 -\n",
      "127.0.0.1 - - [28/Apr/2020 16:17:34] \"GET /39000_39000_39000/0-302_0-774_300-301 HTTP/1.1\" 200 -\n",
      "127.0.0.1 - - [28/Apr/2020 16:17:34] \"GET /39000_39000_39000/0-302_0-774_301-302 HTTP/1.1\" 200 -\n",
      "127.0.0.1 - - [28/Apr/2020 16:17:34] \"GET /39000_39000_39000/0-302_0-774_154-155 HTTP/1.1\" 200 -\n",
      "127.0.0.1 - - [28/Apr/2020 16:17:34] \"GET /39000_39000_39000/0-302_0-774_153-154 HTTP/1.1\" 200 -\n",
      "127.0.0.1 - - [28/Apr/2020 16:17:34] \"GET /39000_39000_39000/0-302_0-774_302-303 HTTP/1.1\" 200 -\n",
      "127.0.0.1 - - [28/Apr/2020 16:17:34] \"GET /39000_39000_39000/0-302_0-774_303-304 HTTP/1.1\" 200 -\n",
      "127.0.0.1 - - [28/Apr/2020 16:17:34] \"GET /39000_39000_39000/0-302_0-774_152-153 HTTP/1.1\" 200 -\n",
      "127.0.0.1 - - [28/Apr/2020 16:17:34] \"GET /39000_39000_39000/0-302_0-774_151-152 HTTP/1.1\" 200 -\n",
      "127.0.0.1 - - [28/Apr/2020 16:17:34] \"GET /39000_39000_39000/0-302_0-774_304-305 HTTP/1.1\" 200 -\n",
      "127.0.0.1 - - [28/Apr/2020 16:17:34] \"GET /39000_39000_39000/0-302_0-774_305-306 HTTP/1.1\" 200 -\n",
      "127.0.0.1 - - [28/Apr/2020 16:17:34] \"GET /39000_39000_39000/0-302_0-774_150-151 HTTP/1.1\" 200 -\n",
      "127.0.0.1 - - [28/Apr/2020 16:17:34] \"GET /39000_39000_39000/0-302_0-774_149-150 HTTP/1.1\" 200 -\n",
      "127.0.0.1 - - [28/Apr/2020 16:17:34] \"GET /39000_39000_39000/0-302_0-774_306-307 HTTP/1.1\" 200 -\n",
      "127.0.0.1 - - [28/Apr/2020 16:17:34] \"GET /39000_39000_39000/0-302_0-774_307-308 HTTP/1.1\" 200 -\n",
      "127.0.0.1 - - [28/Apr/2020 16:17:34] \"GET /39000_39000_39000/0-302_0-774_148-149 HTTP/1.1\" 200 -\n",
      "127.0.0.1 - - [28/Apr/2020 16:17:34] \"GET /39000_39000_39000/0-302_0-774_147-148 HTTP/1.1\" 200 -\n",
      "127.0.0.1 - - [28/Apr/2020 16:17:34] \"GET /39000_39000_39000/0-302_0-774_308-309 HTTP/1.1\" 200 -\n",
      "127.0.0.1 - - [28/Apr/2020 16:17:34] \"GET /39000_39000_39000/0-302_0-774_309-310 HTTP/1.1\" 200 -\n",
      "127.0.0.1 - - [28/Apr/2020 16:17:34] \"GET /39000_39000_39000/0-302_0-774_146-147 HTTP/1.1\" 200 -\n",
      "127.0.0.1 - - [28/Apr/2020 16:17:34] \"GET /39000_39000_39000/0-302_0-774_145-146 HTTP/1.1\" 200 -\n",
      "127.0.0.1 - - [28/Apr/2020 16:17:34] \"GET /39000_39000_39000/0-302_0-774_310-311 HTTP/1.1\" 200 -\n",
      "127.0.0.1 - - [28/Apr/2020 16:17:34] \"GET /39000_39000_39000/0-302_0-774_311-312 HTTP/1.1\" 200 -\n",
      "127.0.0.1 - - [28/Apr/2020 16:17:34] \"GET /39000_39000_39000/0-302_0-774_144-145 HTTP/1.1\" 200 -\n",
      "127.0.0.1 - - [28/Apr/2020 16:17:34] \"GET /39000_39000_39000/0-302_0-774_143-144 HTTP/1.1\" 200 -\n",
      "127.0.0.1 - - [28/Apr/2020 16:17:34] \"GET /39000_39000_39000/0-302_0-774_312-313 HTTP/1.1\" 200 -\n",
      "127.0.0.1 - - [28/Apr/2020 16:17:34] \"GET /39000_39000_39000/0-302_0-774_313-314 HTTP/1.1\" 200 -\n",
      "127.0.0.1 - - [28/Apr/2020 16:17:34] \"GET /39000_39000_39000/0-302_0-774_142-143 HTTP/1.1\" 200 -\n",
      "127.0.0.1 - - [28/Apr/2020 16:17:34] \"GET /39000_39000_39000/0-302_0-774_141-142 HTTP/1.1\" 200 -\n",
      "127.0.0.1 - - [28/Apr/2020 16:17:34] \"GET /39000_39000_39000/0-302_0-774_314-315 HTTP/1.1\" 200 -\n",
      "127.0.0.1 - - [28/Apr/2020 16:17:34] \"GET /39000_39000_39000/0-302_0-774_315-316 HTTP/1.1\" 200 -\n",
      "127.0.0.1 - - [28/Apr/2020 16:17:34] \"GET /39000_39000_39000/0-302_0-774_140-141 HTTP/1.1\" 200 -\n",
      "127.0.0.1 - - [28/Apr/2020 16:17:34] \"GET /39000_39000_39000/0-302_0-774_139-140 HTTP/1.1\" 200 -\n",
      "127.0.0.1 - - [28/Apr/2020 16:17:34] \"GET /39000_39000_39000/0-302_0-774_316-317 HTTP/1.1\" 200 -\n",
      "127.0.0.1 - - [28/Apr/2020 16:17:34] \"GET /39000_39000_39000/0-302_0-774_317-318 HTTP/1.1\" 200 -\n",
      "127.0.0.1 - - [28/Apr/2020 16:17:34] \"GET /39000_39000_39000/0-302_0-774_138-139 HTTP/1.1\" 200 -\n",
      "127.0.0.1 - - [28/Apr/2020 16:17:34] \"GET /39000_39000_39000/0-302_0-774_137-138 HTTP/1.1\" 200 -\n",
      "127.0.0.1 - - [28/Apr/2020 16:17:34] \"GET /39000_39000_39000/0-302_0-774_318-319 HTTP/1.1\" 200 -\n",
      "127.0.0.1 - - [28/Apr/2020 16:17:34] \"GET /39000_39000_39000/0-302_0-774_319-320 HTTP/1.1\" 200 -\n"
     ]
    },
    {
     "name": "stderr",
     "output_type": "stream",
     "text": [
      "127.0.0.1 - - [28/Apr/2020 16:17:34] \"GET /39000_39000_39000/0-302_0-774_136-137 HTTP/1.1\" 200 -\n",
      "127.0.0.1 - - [28/Apr/2020 16:17:34] \"GET /39000_39000_39000/0-302_0-774_135-136 HTTP/1.1\" 200 -\n",
      "127.0.0.1 - - [28/Apr/2020 16:17:34] \"GET /39000_39000_39000/0-302_0-774_320-321 HTTP/1.1\" 200 -\n",
      "127.0.0.1 - - [28/Apr/2020 16:17:34] \"GET /39000_39000_39000/0-302_0-774_321-322 HTTP/1.1\" 200 -\n",
      "127.0.0.1 - - [28/Apr/2020 16:17:34] \"GET /39000_39000_39000/0-302_0-774_134-135 HTTP/1.1\" 200 -\n",
      "127.0.0.1 - - [28/Apr/2020 16:17:34] \"GET /39000_39000_39000/0-302_0-774_133-134 HTTP/1.1\" 200 -\n",
      "127.0.0.1 - - [28/Apr/2020 16:17:34] \"GET /39000_39000_39000/0-302_0-774_322-323 HTTP/1.1\" 200 -\n",
      "127.0.0.1 - - [28/Apr/2020 16:17:34] \"GET /39000_39000_39000/0-302_0-774_323-324 HTTP/1.1\" 200 -\n",
      "127.0.0.1 - - [28/Apr/2020 16:17:34] \"GET /39000_39000_39000/0-302_0-774_132-133 HTTP/1.1\" 200 -\n",
      "127.0.0.1 - - [28/Apr/2020 16:17:34] \"GET /39000_39000_39000/0-302_0-774_131-132 HTTP/1.1\" 200 -\n",
      "127.0.0.1 - - [28/Apr/2020 16:17:34] \"GET /39000_39000_39000/0-302_0-774_324-325 HTTP/1.1\" 200 -\n",
      "127.0.0.1 - - [28/Apr/2020 16:17:34] \"GET /39000_39000_39000/0-302_0-774_325-326 HTTP/1.1\" 200 -\n",
      "127.0.0.1 - - [28/Apr/2020 16:17:34] \"GET /39000_39000_39000/0-302_0-774_130-131 HTTP/1.1\" 200 -\n",
      "127.0.0.1 - - [28/Apr/2020 16:17:34] \"GET /39000_39000_39000/0-302_0-774_129-130 HTTP/1.1\" 200 -\n",
      "127.0.0.1 - - [28/Apr/2020 16:17:34] \"GET /39000_39000_39000/0-302_0-774_326-327 HTTP/1.1\" 200 -\n",
      "127.0.0.1 - - [28/Apr/2020 16:17:34] \"GET /39000_39000_39000/0-302_0-774_327-328 HTTP/1.1\" 200 -\n",
      "127.0.0.1 - - [28/Apr/2020 16:17:34] \"GET /39000_39000_39000/0-302_0-774_128-129 HTTP/1.1\" 200 -\n",
      "127.0.0.1 - - [28/Apr/2020 16:17:34] \"GET /39000_39000_39000/0-302_0-774_127-128 HTTP/1.1\" 200 -\n",
      "127.0.0.1 - - [28/Apr/2020 16:17:34] \"GET /39000_39000_39000/0-302_0-774_328-329 HTTP/1.1\" 200 -\n",
      "127.0.0.1 - - [28/Apr/2020 16:17:34] \"GET /39000_39000_39000/0-302_0-774_329-330 HTTP/1.1\" 200 -\n",
      "127.0.0.1 - - [28/Apr/2020 16:17:34] \"GET /39000_39000_39000/0-302_0-774_126-127 HTTP/1.1\" 200 -\n",
      "127.0.0.1 - - [28/Apr/2020 16:17:34] \"GET /39000_39000_39000/0-302_0-774_125-126 HTTP/1.1\" 200 -\n",
      "127.0.0.1 - - [28/Apr/2020 16:17:34] \"GET /39000_39000_39000/0-302_0-774_330-331 HTTP/1.1\" 200 -\n",
      "127.0.0.1 - - [28/Apr/2020 16:17:34] \"GET /39000_39000_39000/0-302_0-774_331-332 HTTP/1.1\" 200 -\n",
      "127.0.0.1 - - [28/Apr/2020 16:17:34] \"GET /39000_39000_39000/0-302_0-774_124-125 HTTP/1.1\" 200 -\n",
      "127.0.0.1 - - [28/Apr/2020 16:17:34] \"GET /39000_39000_39000/0-302_0-774_123-124 HTTP/1.1\" 200 -\n",
      "127.0.0.1 - - [28/Apr/2020 16:17:34] \"GET /39000_39000_39000/0-302_0-774_332-333 HTTP/1.1\" 200 -\n",
      "127.0.0.1 - - [28/Apr/2020 16:17:34] \"GET /39000_39000_39000/0-302_0-774_333-334 HTTP/1.1\" 200 -\n",
      "127.0.0.1 - - [28/Apr/2020 16:17:34] \"GET /39000_39000_39000/0-302_0-774_122-123 HTTP/1.1\" 200 -\n",
      "127.0.0.1 - - [28/Apr/2020 16:17:34] \"GET /39000_39000_39000/0-302_0-774_121-122 HTTP/1.1\" 200 -\n",
      "127.0.0.1 - - [28/Apr/2020 16:17:34] \"GET /39000_39000_39000/0-302_0-774_334-335 HTTP/1.1\" 200 -\n",
      "127.0.0.1 - - [28/Apr/2020 16:17:34] \"GET /39000_39000_39000/0-302_0-774_335-336 HTTP/1.1\" 200 -\n",
      "127.0.0.1 - - [28/Apr/2020 16:17:34] \"GET /39000_39000_39000/0-302_0-774_120-121 HTTP/1.1\" 200 -\n",
      "127.0.0.1 - - [28/Apr/2020 16:17:34] \"GET /39000_39000_39000/0-302_0-774_119-120 HTTP/1.1\" 200 -\n",
      "127.0.0.1 - - [28/Apr/2020 16:17:34] \"GET /39000_39000_39000/0-302_0-774_336-337 HTTP/1.1\" 200 -\n",
      "127.0.0.1 - - [28/Apr/2020 16:17:35] \"GET /39000_39000_39000/0-302_0-774_337-338 HTTP/1.1\" 200 -\n",
      "127.0.0.1 - - [28/Apr/2020 16:17:35] \"GET /39000_39000_39000/0-302_0-774_118-119 HTTP/1.1\" 200 -\n",
      "127.0.0.1 - - [28/Apr/2020 16:17:35] \"GET /39000_39000_39000/0-302_0-774_117-118 HTTP/1.1\" 200 -\n",
      "127.0.0.1 - - [28/Apr/2020 16:17:35] \"GET /39000_39000_39000/0-302_0-774_338-339 HTTP/1.1\" 200 -\n",
      "127.0.0.1 - - [28/Apr/2020 16:17:35] \"GET /39000_39000_39000/0-302_0-774_339-340 HTTP/1.1\" 200 -\n",
      "127.0.0.1 - - [28/Apr/2020 16:17:35] \"GET /39000_39000_39000/0-302_0-774_116-117 HTTP/1.1\" 200 -\n",
      "127.0.0.1 - - [28/Apr/2020 16:17:35] \"GET /39000_39000_39000/0-302_0-774_115-116 HTTP/1.1\" 200 -\n",
      "127.0.0.1 - - [28/Apr/2020 16:17:35] \"GET /39000_39000_39000/0-302_0-774_340-341 HTTP/1.1\" 200 -\n",
      "127.0.0.1 - - [28/Apr/2020 16:17:35] \"GET /39000_39000_39000/0-302_0-774_341-342 HTTP/1.1\" 200 -\n",
      "127.0.0.1 - - [28/Apr/2020 16:17:35] \"GET /39000_39000_39000/0-302_0-774_114-115 HTTP/1.1\" 200 -\n",
      "127.0.0.1 - - [28/Apr/2020 16:17:35] \"GET /39000_39000_39000/0-302_0-774_113-114 HTTP/1.1\" 200 -\n",
      "127.0.0.1 - - [28/Apr/2020 16:17:35] \"GET /39000_39000_39000/0-302_0-774_342-343 HTTP/1.1\" 200 -\n",
      "127.0.0.1 - - [28/Apr/2020 16:17:35] \"GET /39000_39000_39000/0-302_0-774_343-344 HTTP/1.1\" 200 -\n",
      "127.0.0.1 - - [28/Apr/2020 16:17:35] \"GET /39000_39000_39000/0-302_0-774_112-113 HTTP/1.1\" 200 -\n",
      "127.0.0.1 - - [28/Apr/2020 16:17:35] \"GET /39000_39000_39000/0-302_0-774_111-112 HTTP/1.1\" 200 -\n",
      "127.0.0.1 - - [28/Apr/2020 16:17:35] \"GET /39000_39000_39000/0-302_0-774_344-345 HTTP/1.1\" 200 -\n",
      "127.0.0.1 - - [28/Apr/2020 16:17:35] \"GET /39000_39000_39000/0-302_0-774_345-346 HTTP/1.1\" 200 -\n",
      "127.0.0.1 - - [28/Apr/2020 16:17:35] \"GET /39000_39000_39000/0-302_0-774_110-111 HTTP/1.1\" 200 -\n",
      "127.0.0.1 - - [28/Apr/2020 16:17:35] \"GET /39000_39000_39000/0-302_0-774_109-110 HTTP/1.1\" 200 -\n",
      "127.0.0.1 - - [28/Apr/2020 16:17:35] \"GET /39000_39000_39000/0-302_0-774_346-347 HTTP/1.1\" 200 -\n",
      "127.0.0.1 - - [28/Apr/2020 16:17:35] \"GET /39000_39000_39000/0-302_0-774_347-348 HTTP/1.1\" 200 -\n",
      "127.0.0.1 - - [28/Apr/2020 16:17:35] \"GET /39000_39000_39000/0-302_0-774_108-109 HTTP/1.1\" 200 -\n",
      "127.0.0.1 - - [28/Apr/2020 16:17:35] \"GET /39000_39000_39000/0-302_0-774_107-108 HTTP/1.1\" 200 -\n",
      "127.0.0.1 - - [28/Apr/2020 16:17:35] \"GET /39000_39000_39000/0-302_0-774_348-349 HTTP/1.1\" 200 -\n",
      "127.0.0.1 - - [28/Apr/2020 16:17:35] \"GET /39000_39000_39000/0-302_0-774_349-350 HTTP/1.1\" 200 -\n",
      "127.0.0.1 - - [28/Apr/2020 16:17:35] \"GET /39000_39000_39000/0-302_0-774_106-107 HTTP/1.1\" 200 -\n",
      "127.0.0.1 - - [28/Apr/2020 16:17:35] \"GET /39000_39000_39000/0-302_0-774_105-106 HTTP/1.1\" 200 -\n",
      "127.0.0.1 - - [28/Apr/2020 16:17:35] \"GET /39000_39000_39000/0-302_0-774_350-351 HTTP/1.1\" 200 -\n",
      "127.0.0.1 - - [28/Apr/2020 16:17:35] \"GET /39000_39000_39000/0-302_0-774_351-352 HTTP/1.1\" 200 -\n",
      "----------------------------------------\n",
      "Exception happened during processing of request from ('127.0.0.1', 47630)\n",
      "Traceback (most recent call last):\n",
      "  File \"/home/ahoag/anaconda3/envs/ng_mriatlas/lib/python3.7/socketserver.py\", line 316, in _handle_request_noblock\n",
      "    self.process_request(request, client_address)\n",
      "  File \"/home/ahoag/anaconda3/envs/ng_mriatlas/lib/python3.7/socketserver.py\", line 347, in process_request\n",
      "    self.finish_request(request, client_address)\n",
      "  File \"/home/ahoag/anaconda3/envs/ng_mriatlas/lib/python3.7/socketserver.py\", line 360, in finish_request\n",
      "    self.RequestHandlerClass(request, client_address, self)\n",
      "  File \"/home/ahoag/anaconda3/envs/ng_mriatlas/lib/python3.7/site-packages/cloudvolume/server.py\", line 24, in handler\n",
      "    return ViewerServerHandler(cloudpath, *args)\n",
      "  File \"/home/ahoag/anaconda3/envs/ng_mriatlas/lib/python3.7/site-packages/cloudvolume/server.py\", line 39, in __init__\n",
      "    BaseHTTPRequestHandler.__init__(self, *args)\n",
      "  File \"/home/ahoag/anaconda3/envs/ng_mriatlas/lib/python3.7/socketserver.py\", line 720, in __init__\n",
      "    self.handle()\n",
      "  File \"/home/ahoag/anaconda3/envs/ng_mriatlas/lib/python3.7/http/server.py\", line 426, in handle\n",
      "    self.handle_one_request()\n",
      "  File \"/home/ahoag/anaconda3/envs/ng_mriatlas/lib/python3.7/http/server.py\", line 414, in handle_one_request\n",
      "    method()\n",
      "  File \"/home/ahoag/anaconda3/envs/ng_mriatlas/lib/python3.7/site-packages/cloudvolume/server.py\", line 57, in do_GET\n",
      "    self.serve_data(data)\n",
      "  File \"/home/ahoag/anaconda3/envs/ng_mriatlas/lib/python3.7/site-packages/cloudvolume/server.py\", line 64, in serve_data\n",
      "    self.wfile.write(data)\n",
      "  File \"/home/ahoag/anaconda3/envs/ng_mriatlas/lib/python3.7/socketserver.py\", line 799, in write\n",
      "    self._sock.sendall(b)\n",
      "BrokenPipeError: [Errno 32] Broken pipe\n",
      "----------------------------------------\n",
      "127.0.0.1 - - [28/Apr/2020 16:17:35] \"GET /39000_39000_39000/0-302_0-774_104-105 HTTP/1.1\" 200 -\n",
      "----------------------------------------\n",
      "Exception happened during processing of request from ('127.0.0.1', 47634)\n",
      "Traceback (most recent call last):\n",
      "  File \"/home/ahoag/anaconda3/envs/ng_mriatlas/lib/python3.7/socketserver.py\", line 316, in _handle_request_noblock\n",
      "    self.process_request(request, client_address)\n",
      "  File \"/home/ahoag/anaconda3/envs/ng_mriatlas/lib/python3.7/socketserver.py\", line 347, in process_request\n",
      "    self.finish_request(request, client_address)\n",
      "  File \"/home/ahoag/anaconda3/envs/ng_mriatlas/lib/python3.7/socketserver.py\", line 360, in finish_request\n",
      "    self.RequestHandlerClass(request, client_address, self)\n",
      "  File \"/home/ahoag/anaconda3/envs/ng_mriatlas/lib/python3.7/site-packages/cloudvolume/server.py\", line 24, in handler\n",
      "    return ViewerServerHandler(cloudpath, *args)\n",
      "  File \"/home/ahoag/anaconda3/envs/ng_mriatlas/lib/python3.7/site-packages/cloudvolume/server.py\", line 39, in __init__\n",
      "    BaseHTTPRequestHandler.__init__(self, *args)\n",
      "  File \"/home/ahoag/anaconda3/envs/ng_mriatlas/lib/python3.7/socketserver.py\", line 720, in __init__\n",
      "    self.handle()\n",
      "  File \"/home/ahoag/anaconda3/envs/ng_mriatlas/lib/python3.7/http/server.py\", line 426, in handle\n",
      "    self.handle_one_request()\n",
      "  File \"/home/ahoag/anaconda3/envs/ng_mriatlas/lib/python3.7/http/server.py\", line 414, in handle_one_request\n",
      "    method()\n",
      "  File \"/home/ahoag/anaconda3/envs/ng_mriatlas/lib/python3.7/site-packages/cloudvolume/server.py\", line 57, in do_GET\n",
      "    self.serve_data(data)\n",
      "  File \"/home/ahoag/anaconda3/envs/ng_mriatlas/lib/python3.7/site-packages/cloudvolume/server.py\", line 64, in serve_data\n",
      "    self.wfile.write(data)\n",
      "  File \"/home/ahoag/anaconda3/envs/ng_mriatlas/lib/python3.7/socketserver.py\", line 799, in write\n",
      "    self._sock.sendall(b)\n",
      "BrokenPipeError: [Errno 32] Broken pipe\n",
      "----------------------------------------\n",
      "127.0.0.1 - - [28/Apr/2020 16:17:35] \"GET /39000_39000_39000/0-302_0-774_103-104 HTTP/1.1\" 200 -\n",
      "----------------------------------------\n",
      "Exception happened during processing of request from ('127.0.0.1', 47638)\n",
      "Traceback (most recent call last):\n",
      "  File \"/home/ahoag/anaconda3/envs/ng_mriatlas/lib/python3.7/socketserver.py\", line 316, in _handle_request_noblock\n",
      "    self.process_request(request, client_address)\n",
      "  File \"/home/ahoag/anaconda3/envs/ng_mriatlas/lib/python3.7/socketserver.py\", line 347, in process_request\n",
      "    self.finish_request(request, client_address)\n",
      "  File \"/home/ahoag/anaconda3/envs/ng_mriatlas/lib/python3.7/socketserver.py\", line 360, in finish_request\n",
      "    self.RequestHandlerClass(request, client_address, self)\n",
      "  File \"/home/ahoag/anaconda3/envs/ng_mriatlas/lib/python3.7/site-packages/cloudvolume/server.py\", line 24, in handler\n",
      "    return ViewerServerHandler(cloudpath, *args)\n",
      "  File \"/home/ahoag/anaconda3/envs/ng_mriatlas/lib/python3.7/site-packages/cloudvolume/server.py\", line 39, in __init__\n",
      "    BaseHTTPRequestHandler.__init__(self, *args)\n",
      "  File \"/home/ahoag/anaconda3/envs/ng_mriatlas/lib/python3.7/socketserver.py\", line 720, in __init__\n",
      "    self.handle()\n",
      "  File \"/home/ahoag/anaconda3/envs/ng_mriatlas/lib/python3.7/http/server.py\", line 426, in handle\n",
      "    self.handle_one_request()\n",
      "  File \"/home/ahoag/anaconda3/envs/ng_mriatlas/lib/python3.7/http/server.py\", line 414, in handle_one_request\n",
      "    method()\n",
      "  File \"/home/ahoag/anaconda3/envs/ng_mriatlas/lib/python3.7/site-packages/cloudvolume/server.py\", line 57, in do_GET\n",
      "    self.serve_data(data)\n",
      "  File \"/home/ahoag/anaconda3/envs/ng_mriatlas/lib/python3.7/site-packages/cloudvolume/server.py\", line 64, in serve_data\n",
      "    self.wfile.write(data)\n",
      "  File \"/home/ahoag/anaconda3/envs/ng_mriatlas/lib/python3.7/socketserver.py\", line 799, in write\n",
      "    self._sock.sendall(b)\n",
      "BrokenPipeError: [Errno 32] Broken pipe\n",
      "----------------------------------------\n",
      "127.0.0.1 - - [28/Apr/2020 16:17:35] \"GET /39000_39000_39000/0-302_0-774_352-353 HTTP/1.1\" 200 -\n",
      "----------------------------------------\n",
      "Exception happened during processing of request from ('127.0.0.1', 47642)\n",
      "Traceback (most recent call last):\n",
      "  File \"/home/ahoag/anaconda3/envs/ng_mriatlas/lib/python3.7/socketserver.py\", line 316, in _handle_request_noblock\n",
      "    self.process_request(request, client_address)\n",
      "  File \"/home/ahoag/anaconda3/envs/ng_mriatlas/lib/python3.7/socketserver.py\", line 347, in process_request\n",
      "    self.finish_request(request, client_address)\n",
      "  File \"/home/ahoag/anaconda3/envs/ng_mriatlas/lib/python3.7/socketserver.py\", line 360, in finish_request\n",
      "    self.RequestHandlerClass(request, client_address, self)\n",
      "  File \"/home/ahoag/anaconda3/envs/ng_mriatlas/lib/python3.7/site-packages/cloudvolume/server.py\", line 24, in handler\n",
      "    return ViewerServerHandler(cloudpath, *args)\n",
      "  File \"/home/ahoag/anaconda3/envs/ng_mriatlas/lib/python3.7/site-packages/cloudvolume/server.py\", line 39, in __init__\n",
      "    BaseHTTPRequestHandler.__init__(self, *args)\n",
      "  File \"/home/ahoag/anaconda3/envs/ng_mriatlas/lib/python3.7/socketserver.py\", line 720, in __init__\n",
      "    self.handle()\n",
      "  File \"/home/ahoag/anaconda3/envs/ng_mriatlas/lib/python3.7/http/server.py\", line 426, in handle\n",
      "    self.handle_one_request()\n",
      "  File \"/home/ahoag/anaconda3/envs/ng_mriatlas/lib/python3.7/http/server.py\", line 414, in handle_one_request\n",
      "    method()\n",
      "  File \"/home/ahoag/anaconda3/envs/ng_mriatlas/lib/python3.7/site-packages/cloudvolume/server.py\", line 57, in do_GET\n",
      "    self.serve_data(data)\n",
      "  File \"/home/ahoag/anaconda3/envs/ng_mriatlas/lib/python3.7/site-packages/cloudvolume/server.py\", line 64, in serve_data\n",
      "    self.wfile.write(data)\n",
      "  File \"/home/ahoag/anaconda3/envs/ng_mriatlas/lib/python3.7/socketserver.py\", line 799, in write\n",
      "    self._sock.sendall(b)\n",
      "BrokenPipeError: [Errno 32] Broken pipe\n",
      "----------------------------------------\n",
      "127.0.0.1 - - [28/Apr/2020 16:17:35] \"GET /39000_39000_39000/0-302_0-774_353-354 HTTP/1.1\" 200 -\n",
      "----------------------------------------\n",
      "Exception happened during processing of request from ('127.0.0.1', 47646)\n",
      "Traceback (most recent call last):\n",
      "  File \"/home/ahoag/anaconda3/envs/ng_mriatlas/lib/python3.7/socketserver.py\", line 316, in _handle_request_noblock\n",
      "    self.process_request(request, client_address)\n",
      "  File \"/home/ahoag/anaconda3/envs/ng_mriatlas/lib/python3.7/socketserver.py\", line 347, in process_request\n",
      "    self.finish_request(request, client_address)\n",
      "  File \"/home/ahoag/anaconda3/envs/ng_mriatlas/lib/python3.7/socketserver.py\", line 360, in finish_request\n",
      "    self.RequestHandlerClass(request, client_address, self)\n",
      "  File \"/home/ahoag/anaconda3/envs/ng_mriatlas/lib/python3.7/site-packages/cloudvolume/server.py\", line 24, in handler\n",
      "    return ViewerServerHandler(cloudpath, *args)\n",
      "  File \"/home/ahoag/anaconda3/envs/ng_mriatlas/lib/python3.7/site-packages/cloudvolume/server.py\", line 39, in __init__\n",
      "    BaseHTTPRequestHandler.__init__(self, *args)\n",
      "  File \"/home/ahoag/anaconda3/envs/ng_mriatlas/lib/python3.7/socketserver.py\", line 720, in __init__\n",
      "    self.handle()\n",
      "  File \"/home/ahoag/anaconda3/envs/ng_mriatlas/lib/python3.7/http/server.py\", line 426, in handle\n",
      "    self.handle_one_request()\n",
      "  File \"/home/ahoag/anaconda3/envs/ng_mriatlas/lib/python3.7/http/server.py\", line 414, in handle_one_request\n",
      "    method()\n",
      "  File \"/home/ahoag/anaconda3/envs/ng_mriatlas/lib/python3.7/site-packages/cloudvolume/server.py\", line 57, in do_GET\n",
      "    self.serve_data(data)\n",
      "  File \"/home/ahoag/anaconda3/envs/ng_mriatlas/lib/python3.7/site-packages/cloudvolume/server.py\", line 64, in serve_data\n",
      "    self.wfile.write(data)\n",
      "  File \"/home/ahoag/anaconda3/envs/ng_mriatlas/lib/python3.7/socketserver.py\", line 799, in write\n",
      "    self._sock.sendall(b)\n",
      "BrokenPipeError: [Errno 32] Broken pipe\n",
      "----------------------------------------\n"
     ]
    }
   ],
   "source": [
    "vol = CloudVolume(f'file://{layer_dir}')\n",
    "vol.viewer(port=1338)"
   ]
  },
  {
   "cell_type": "markdown",
   "metadata": {},
   "source": [
    "# Step 5: View your custom volume and labels in Neuroglancer!\n",
    "Step 4 hosts your data via http on port 1338 of your local machine. When you run Neuroglancer in your browser, you can tell it to look for data hosted at a particular port. To do this, open up the Braincogs Neuroglancer client: [https://braincogs00.pni.princeton.edu/nglancer_viewer](https://braincogs00.pni.princeton.edu/nglancer_viewer) (you must be using a Princeton VPN) and then click the \"+\" in the upper left hand corner of the screen once the black screen loads. To load in your data, type the following into the source text box:<br>\n",
    "> precomputed://http://localhost:1338 <br>\n",
    "\n",
    "Then hit tab and name your layer if you'd like. Hit enter or the \"add layer\" button and your layer should load into Neuroglancer. Hopefully the labels you added should be showing up in the bottom left when you hover over a region. If not, let me know!\n",
    "\n",
    "Note: If you want to load in multiple layers, you will need to host multiple layers. To do this, just host them at different ports (ports 133X, where X:0-9 are usually not used by anything else on linux in my experience). By default they will overlap with each other, which is not always the most convenient thing. You can drag and drop the layers around so they sit next to each other but it is a little finicky.  I'm working on some videos to show how this is done, but if you run into trouble let me know."
   ]
  },
  {
   "cell_type": "code",
   "execution_count": null,
   "metadata": {},
   "outputs": [],
   "source": []
  }
 ],
 "metadata": {
  "kernelspec": {
   "display_name": "ng",
   "language": "python",
   "name": "ng"
  },
  "language_info": {
   "codemirror_mode": {
    "name": "ipython",
    "version": 3
   },
   "file_extension": ".py",
   "mimetype": "text/x-python",
   "name": "python",
   "nbconvert_exporter": "python",
   "pygments_lexer": "ipython3",
   "version": "3.6.9"
  }
 },
 "nbformat": 4,
 "nbformat_minor": 2
}
