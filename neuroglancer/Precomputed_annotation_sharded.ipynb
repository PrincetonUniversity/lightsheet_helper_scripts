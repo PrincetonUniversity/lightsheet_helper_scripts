{
 "cells": [
  {
   "cell_type": "markdown",
   "metadata": {},
   "source": [
    "# Precomputed_annotation_sharded\n",
    "The purpose of this notebook is to figure out how to create sharded precomputed annotation layers and to determine when they are needed for performance in terms of number of annotations. Refer to this document: https://github.com/google/neuroglancer/blob/master/src/neuroglancer/datasource/precomputed/annotations.md for the general structure of these precomputed annotation layers.\n",
    "\n",
    "So far, I have been able to successfully create a precomputed annotation layer without sharding. This works well for up to a 10^5 annotations, but once you get above that the load time starts to suffer. To get faster load times, sharding is recommended. There are multiple steps to take to enable sharding. Here are some things that I know do NOT change. Note that that I'm not using relationships\n",
    "\n",
    "In the info file the following keys stay the same:\n",
    "- \"@type\"\n",
    "- \"annotation_type\"\n",
    "- \"dimensions\"\n",
    "- \"lower_bound\"\n",
    "- \"upper_bound\"\n",
    "- \"properties\"\n",
    "\n",
    "That leaves the remaining properties which may change:\n",
    "- \"by_id\"\n",
    "- \"spatial\"\n",
    "\n",
    "Here is an example public layer which uses sharding: https://storage.googleapis.com/neuroglancer-20191211_fafbv14_buhmann2019_li20190805/. To download the info file do:\n",
    "```\n",
    "gsutil cp gs://neuroglancer-20191211_fafbv14_buhmann2019_li20190805/info .\n",
    "```\n",
    "\n",
    "In this example info file the `by_id` key looks like this:\n",
    "```\n",
    "\"by_id\" : {\n",
    "  \"key\" : \"by_id\",\n",
    "  \"sharding\" : {\n",
    "     \"@type\" : \"neuroglancer_uint64_sharded_v1\",\n",
    "     \"data_encoding\" : \"gzip\",\n",
    "     \"hash\" : \"murmurhash3_x86_128\",\n",
    "     \"minishard_bits\" : 13,\n",
    "     \"minishard_index_encoding\" : \"gzip\",\n",
    "     \"preshift_bits\" : 0,\n",
    "     \"shard_bits\" : 5\n",
    "  }\n",
    "},\n",
    "```\n",
    "\n",
    "And there are multiple entries to the `spatial` key. The docs state that this key is defined as:\n",
    "```\n",
    "Array of JSON objects specifying the spatial index levels from coarse to fine\n",
    "```\n",
    "The coarse to fine suggests that this works like downsampling where we have multiple mip levels. \n",
    "the first of these objets is one that looks like what we are used to from not sharding:\n",
    "```\n",
    "{\n",
    "     \"chunk_size\" : [ 884397, 442585, 282601 ],\n",
    "     \"grid_shape\" : [ 1, 1, 1 ],\n",
    "     \"key\" : \"spatial0\",\n",
    "     \"limit\" : 10000\n",
    "  },\n",
    "```\n",
    "But unlike in our example, this chunk size is huge and needs downsampling. According to the docs this should be the coarsest level (i.e. largest chunks with fewest of them). That does appear to be the case since this chunk size is the size of `upper_bound` - `lower_bound` . The `grid_shape` is defined as `Array of rank positive integers specifying the number of cells along each grid dimension for this spatial index level.` So a cell must be how the space is divided up. So in this case there is just a single cell over the entire volume. This must be a very low resolution chunk since not all points would be able to be rendered. \n",
    "\n",
    "The next entry to the `spatial` array looks like this:\n",
    "```\n",
    "{\n",
    "     \"chunk_size\" : [ 442198.5, 442585, 282601 ],\n",
    "     \"grid_shape\" : [ 2, 1, 1 ],\n",
    "     \"key\" : \"spatial1\",\n",
    "     \"limit\" : 10000,\n",
    "     \"sharding\" : {\n",
    "        \"@type\" : \"neuroglancer_uint64_sharded_v1\",\n",
    "        \"data_encoding\" : \"gzip\",\n",
    "        \"hash\" : \"identity\",\n",
    "        \"minishard_bits\" : 0,\n",
    "        \"minishard_index_encoding\" : \"gzip\",\n",
    "        \"preshift_bits\" : 0,\n",
    "        \"shard_bits\" : 0\n",
    "     }\n",
    "  },\n",
    "```\n",
    "Here we see this is `spatial1` and the chunk size is half the size in the x dimension. The grid shape indicates two cells in that dimension. The other dimensions are the same as `spatial0`. Note the addition of the `sharding` key to this dictionary. This is how we tell Neuroglancer that this is a sharded level. In fact all of the subsequent spatial levels have this key. The keys of this sharding dictionary are explained here: https://github.com/google/neuroglancer/blob/master/src/neuroglancer/datasource/precomputed/sharded.md#sharding-specification. The keys are:\n",
    "\n",
    "- \"@type\": Must be \"neuroglancer_uint64_sharded_v1\".\n",
    "- \"preshift_bits\": Specifies the number of low-order bits of the chunk ID that do not contribute to the hashed chunk ID. The hashed chunk ID is computed as hash(chunk_id >> preshift_bits).\n",
    "- \"hash\": Specifies the hash function used to map chunk IDs to shards. Must be one of:\n",
    "\"identity\": The identity function.\n",
    "\"murmurhash3_x86_128\": The MurmurHash3_x86_128 hash function applied to the shifted chunk ID in little endian encoding. The low 8 bytes of the resultant hash code are treated as a little endian 64-bit number.\n",
    "- \"minishard_bits\": Specifies the number of bits of the hashed chunk ID that determine the minishard number. The number of minishards within each shard is equal to 2**minishard_bits. The minishard number is equal to bits [0, minishard_bits) of the hashed chunk id.\n",
    "- \"shard_bits\": Specifies the number of bits of the hashed chunk ID that determine the shard number. The number of shards is equal to 2**shard_bits. The shard number is equal to bits [minishard_bits, minishard_bits+shard_bits) of the hashed chunk ID.\n",
    "- \"minishard_index_encoding\": Specifies the encoding of the \"minishard index\". If specified, must be \"raw\" (to indicate no compression) or \"gzip\" (to indicate gzip compression). If not specified, equivalent to \"raw\".\n",
    "- \"data_encoding\": Specifies the encoding of the actual chunk data, in the same way as \"minishard_index_encoding\". In the case of multiscale meshes, this encoding applies to the manifests but not to the mesh fragment data.\n",
    "\n",
    "There are a number of things I still don't understand here, but maybe I can understand them by comparing the contents of the layer shown here: https://storage.googleapis.com/neuroglancer-20191211_fafbv14_buhmann2019_li20190805/ with what's in the info file. Let's start with `spatial0`. There exists a folder called `spatial0` and its only contents are the file: `0_0_0`. This is the same as when we were not doing sharding. Now it's not clear whether this file would contain every single point. Having downloaded that file it is a very small file: 480K. So I bet it is just a small fraction of the points. Let's see if we can use `struct.unpack()` to looks at the contents of that binary file. We should be able to figure out the total number of points since they are listed at the beginning of the file as a uint64 little endian. I was able to do that with:\n",
    "```\n",
    "with open(spatial0_0_0_0_file, \"rb\") as f:\n",
    "    byte = f.read(8) # the first 8 bytes represent the uint64 value for total number of annotations\n",
    "    print(struct.unpack('<Q',byte))\n",
    "```\n",
    "And the answer is 10071 annotations in this file. \n",
    "\n",
    "OK, so either there are many more annotations than this \n",
    "\n",
    "Questions for Jeremy: \n",
    "- How do you decide which points to show in the coarsest spatial0/0_0_0 file? \n",
    "- What are the by_id/00.shard files? In the unsharded example I don't even have this by_id folder."
   ]
  },
  {
   "cell_type": "code",
   "execution_count": 3,
   "metadata": {},
   "outputs": [],
   "source": [
    "import numpy as np\n",
    "import os\n",
    "import csv\n",
    "import struct\n",
    "import json\n",
    "from cloudvolume import CloudVolume\n",
    "import matplotlib.pyplot as plt\n",
    "import neuroglancer\n",
    "%matplotlib inline"
   ]
  },
  {
   "cell_type": "code",
   "execution_count": 4,
   "metadata": {},
   "outputs": [],
   "source": [
    "spatial0_0_0_0_file = '/home/ahoag/ngdemo/demo_bucket/test_annotations/neuroglancer-20191211_fafbv14_buhmann2019_li20190805/spatial0/0_0_0'"
   ]
  },
  {
   "cell_type": "code",
   "execution_count": 13,
   "metadata": {},
   "outputs": [
    {
     "name": "stdout",
     "output_type": "stream",
     "text": [
      "(10071,)\n"
     ]
    }
   ],
   "source": [
    "with open(spatial0_0_0_0_file, \"rb\") as f:\n",
    "    byte = f.read(8) # the first 8 bytes represent the uint64 value for total number of annotations\n",
    "    print(struct.unpack('<Q',byte))\n",
    "#     while byte != b\"\":\n",
    "#         # Do stuff with byte.\n",
    "#         byte = f.read(1)"
   ]
  },
  {
   "cell_type": "code",
   "execution_count": 11,
   "metadata": {},
   "outputs": [
    {
     "data": {
      "text/plain": [
       "b\"W'\\x00\\x00\\x00\\x00\\x00\\x00\""
      ]
     },
     "execution_count": 11,
     "metadata": {},
     "output_type": "execute_result"
    }
   ],
   "source": [
    "byte"
   ]
  },
  {
   "cell_type": "code",
   "execution_count": 12,
   "metadata": {},
   "outputs": [
    {
     "data": {
      "text/plain": [
       "(10071,)"
      ]
     },
     "execution_count": 12,
     "metadata": {},
     "output_type": "execute_result"
    }
   ],
   "source": []
  },
  {
   "cell_type": "code",
   "execution_count": null,
   "metadata": {},
   "outputs": [],
   "source": []
  },
  {
   "cell_type": "code",
   "execution_count": null,
   "metadata": {},
   "outputs": [],
   "source": []
  },
  {
   "cell_type": "code",
   "execution_count": 2,
   "metadata": {},
   "outputs": [],
   "source": [
    "# get the raw-space cells file and load it in\n",
    "animal_id = 4\n",
    "pth=os.path.join('/jukebox/wang/Jess/lightsheet_output',\n",
    "        '201904_ymaze_cfos','processed',f'an{animal_id}','clearmap_cluster_output',\n",
    "        'cells.npy')\n",
    "converted_points = np.load(pth)"
   ]
  },
  {
   "cell_type": "code",
   "execution_count": 3,
   "metadata": {},
   "outputs": [
    {
     "data": {
      "text/plain": [
       "array([[ 459, 1398,   50],\n",
       "       [ 459, 1443,   50],\n",
       "       [ 462, 1412,   49],\n",
       "       ...,\n",
       "       [1546, 1242,  569],\n",
       "       [1547, 1316,  570],\n",
       "       [1646, 1328,  574]])"
      ]
     },
     "execution_count": 3,
     "metadata": {},
     "output_type": "execute_result"
    }
   ],
   "source": [
    "converted_points"
   ]
  },
  {
   "cell_type": "code",
   "execution_count": 4,
   "metadata": {},
   "outputs": [
    {
     "data": {
      "text/plain": [
       "524170"
      ]
     },
     "execution_count": 4,
     "metadata": {},
     "output_type": "execute_result"
    }
   ],
   "source": [
    "len(converted_points)"
   ]
  },
  {
   "cell_type": "code",
   "execution_count": null,
   "metadata": {},
   "outputs": [],
   "source": [
    "np.random.shuffle(converted_points) # does it in place"
   ]
  },
  {
   "cell_type": "markdown",
   "metadata": {},
   "source": [
    "## Just coordinates - something we already know how to do\n",
    "The reference for the struct.pact() formatting can be found here: https://docs.python.org/3.1/library/struct.html#module-struct, where short means 16-bit, long means 32-bit and long long means 64-bit"
   ]
  },
  {
   "cell_type": "code",
   "execution_count": 12,
   "metadata": {},
   "outputs": [
    {
     "name": "stdout",
     "output_type": "stream",
     "text": [
      "wrote /home/ahoag/ngdemo/demo_bucket/test_annotations/test_coords/spatial0/0_0_0\n"
     ]
    }
   ],
   "source": [
    "# We already know how to encode just the coordinates. Do it like so for the first 100 points\n",
    "filename = '/home/ahoag/ngdemo/demo_bucket/test_annotations/test_coords/spatial0/0_0_0'\n",
    "coordinates = converted_points[0:1000]\n",
    "total_count = len(coordinates)\n",
    "with open(filename,'wb') as outfile:\n",
    "    buf = struct.pack('<Q',total_count)\n",
    "    pt_buf = b''.join(struct.pack('<3f',x,y,z) for (x,y,z) in coordinates)\n",
    "    buf += pt_buf\n",
    "    id_buf = struct.pack('<%sQ' % len(coordinates), *range(len(coordinates)))\n",
    "    buf += id_buf\n",
    "    outfile.write(buf)\n",
    "print(f\"wrote {filename}\")"
   ]
  },
  {
   "cell_type": "code",
   "execution_count": 13,
   "metadata": {},
   "outputs": [],
   "source": [
    "# and the info file needs to look like this:\n",
    "info = {\n",
    "  \"@type\": \"neuroglancer_annotations_v1\",\n",
    "  \"annotation_type\": \"POINT\",\n",
    "  \"by_id\": {\n",
    "    \"key\": \"by_id\"\n",
    "  },\n",
    "  \"dimensions\": {\n",
    "    \"x\": [\n",
    "      \"5e-06\",\n",
    "      \"m\"\n",
    "    ],\n",
    "    \"y\": [\n",
    "      \"5e-06\",\n",
    "      \"m\"\n",
    "    ],\n",
    "    \"z\": [\n",
    "      \"1e-05\",\n",
    "      \"m\"\n",
    "    ]\n",
    "  },\n",
    "  \"lower_bound\": [\n",
    "    0,\n",
    "    0,\n",
    "    0\n",
    "  ],\n",
    "  \"properties\": [],\n",
    "  \"relationships\": [],\n",
    "  \"spatial\": [\n",
    "    {\n",
    "      \"chunk_size\": [\n",
    "        2160,\n",
    "        2560,\n",
    "        687\n",
    "      ],\n",
    "      \"grid_shape\": [\n",
    "        1,\n",
    "        1,\n",
    "        1\n",
    "      ],\n",
    "      \"key\": \"spatial0\",\n",
    "      \"limit\": 1\n",
    "    }\n",
    "  ],\n",
    "  \"upper_bound\": [\n",
    "    2160,\n",
    "    2560,\n",
    "    687\n",
    "  ]\n",
    "}"
   ]
  },
  {
   "cell_type": "code",
   "execution_count": 40,
   "metadata": {},
   "outputs": [],
   "source": [
    "info_filename = '/home/ahoag/ngdemo/demo_bucket/test_annotations/test_coords/info'\n",
    "with open(info_filename,'w') as outfile:\n",
    "    json.dump(info,outfile,indent=2)"
   ]
  },
  {
   "cell_type": "markdown",
   "metadata": {},
   "source": [
    "Got this to work. Next let's try to add a single property, cell type.\n",
    "\n",
    "## Single property -- cell type\n",
    "\n",
    "Let's make this a uint8 such that values can range from 0-31. We will randomly assign cell types to each of the 1000 cells. This comment instructs how to encode when you have multiple properties: https://github.com/google/neuroglancer/issues/227#issuecomment-913895464: \n",
    "```\n",
    "In order to minimize the padding bytes required, properties that require 4 byte alignment (uint32, int32, float32) are encoded first, followed by properties that require 2 byte alignment (uint16, int16), followed by properties that require 1 byte alignment (uint8, int8, rgb, rgba). For a given alignment, the properties are encoded in which the properties are specified in the info file.\n",
    "```\n",
    "\n",
    "Since we only have a single property this doesn't matter yet. We do, however, need to know where in the byte string to put the properties. From this file: https://github.com/google/neuroglancer/blob/master/src/neuroglancer/datasource/precomputed/annotations.md#multiple-annotation-encoding the answer is in the same entries as the coordinates. "
   ]
  },
  {
   "cell_type": "code",
   "execution_count": 49,
   "metadata": {},
   "outputs": [
    {
     "name": "stdout",
     "output_type": "stream",
     "text": [
      "wrote /home/ahoag/ngdemo/demo_bucket/test_annotations/test_singleprop/spatial0/0_0_0\n"
     ]
    }
   ],
   "source": [
    "filename = '/home/ahoag/ngdemo/demo_bucket/test_annotations/test_singleprop/spatial0/0_0_0'\n",
    "coordinates = converted_points[0:1000]\n",
    "total_count = len(coordinates)\n",
    "cell_types = np.random.randint(0,32,(1000,1))\n",
    "# combine the coordinates and cell types into a single array\n",
    "cell_array = np.hstack((coordinates,cell_types))\n",
    "with open(filename,'wb') as outfile:\n",
    "    buf = struct.pack('<Q',total_count) # 64-bit little endian\n",
    "    pt_buf = b''.join(struct.pack('<3fH2B',x,y,z,c,0,0) for (x,y,z,c) in cell_array) \n",
    "    buf += pt_buf\n",
    "    id_buf = struct.pack('<%sQ' % len(coordinates), *range(len(coordinates)))\n",
    "    buf += id_buf\n",
    "    outfile.write(buf)\n",
    "print(f\"wrote {filename}\")"
   ]
  },
  {
   "cell_type": "markdown",
   "metadata": {},
   "source": [
    "Now write the info file. According to this: https://github.com/google/neuroglancer/blob/master/src/neuroglancer/datasource/precomputed/annotations.md#info-json-file-format, the properties key must have this structure:\n",
    "```\n",
    "\"properties\": Array of JSON objects, each with the following members:\n",
    "\"id\": String value specifying unique identifier for the property. Must match the regular expression /^[a-z][a-zA-Z0-9_]*$/.\n",
    "\"type\": String value specifying the property type. Must be one of: rgb (represented as 3 uint8 values), rgba (represented as 4 uint8 values), uint8, int8, uint16, int16, uint32, int32, or float32.\n",
    "\"description\": Optional. String value specifying textual description of property shown in UI.\n",
    "\"enum_values\": Optional. If \"type\" is a numeric type (not \"rgb\" or \"rgba\"), this property may specify an array of values (compatible with the specified data type). These values correspond to the labels specified by \"enum_labels\", which are shown in the UI.\n",
    "\"enum_labels\": Must be specified if, and only if, \"enum_values\" is specified. Must be an array of strings of the same length as \"enum_values\" specifying the corresponding labels for each value.\n",
    "\n",
    "```"
   ]
  },
  {
   "cell_type": "code",
   "execution_count": 50,
   "metadata": {},
   "outputs": [],
   "source": [
    "info = {\n",
    "  \"@type\": \"neuroglancer_annotations_v1\",\n",
    "  \"annotation_type\": \"POINT\",\n",
    "  \"by_id\": {\n",
    "    \"key\": \"by_id\"\n",
    "  },\n",
    "  \"dimensions\": {\n",
    "    \"x\": [\n",
    "      \"5e-06\",\n",
    "      \"m\"\n",
    "    ],\n",
    "    \"y\": [\n",
    "      \"5e-06\",\n",
    "      \"m\"\n",
    "    ],\n",
    "    \"z\": [\n",
    "      \"1e-05\",\n",
    "      \"m\"\n",
    "    ]\n",
    "  },\n",
    "  \"lower_bound\": [\n",
    "    0,\n",
    "    0,\n",
    "    0\n",
    "  ],\n",
    "  \"properties\": [\n",
    "      {\"id\":\"celltype\",\n",
    "      \"type\":\"uint16\"\n",
    "      }\n",
    "  ],\n",
    "  \"relationships\": [],\n",
    "  \"spatial\": [\n",
    "    {\n",
    "      \"chunk_size\": [\n",
    "        2160,\n",
    "        2560,\n",
    "        687\n",
    "      ],\n",
    "      \"grid_shape\": [\n",
    "        1,\n",
    "        1,\n",
    "        1\n",
    "      ],\n",
    "      \"key\": \"spatial0\",\n",
    "      \"limit\": 1\n",
    "    }\n",
    "  ],\n",
    "  \"upper_bound\": [\n",
    "    2160,\n",
    "    2560,\n",
    "    687\n",
    "  ]\n",
    "}"
   ]
  },
  {
   "cell_type": "code",
   "execution_count": 51,
   "metadata": {},
   "outputs": [],
   "source": [
    "info_filename = '/home/ahoag/ngdemo/demo_bucket/test_annotations/test_singleprop/info'\n",
    "with open(info_filename,'w') as outfile:\n",
    "    json.dump(info,outfile,indent=2)"
   ]
  },
  {
   "cell_type": "markdown",
   "metadata": {},
   "source": [
    "I can see the celltype property! The cell type shows up as a float, which in my case isn't ideal since I want to show it as an integer. How can I structure the packing so that I get three floats followed by a uint16 integer? What about `<3fH` in the byte encoding and `uint16` in the props dict? Nope that didn't show any of the points.  Maybe I need a byte offset to get to multiple of 4. So two zeros?\n",
    "\n",
    "Yes, that did it! OK, let's try multiple properties.\n",
    "\n",
    "## Multiple properties -- cell type, cell size\n",
    "For multiple properties, the order of the properties is prioritized by byte size first then order in the info file at a given byte size, as per this comment:\n",
    "https://github.com/google/neuroglancer/issues/227#issuecomment-913895464: \n",
    "```\n",
    "In order to minimize the padding bytes required, properties that require 4 byte alignment (uint32, int32, float32) are encoded first, followed by properties that require 2 byte alignment (uint16, int16), followed by properties that require 1 byte alignment (uint8, int8, rgb, rgba). For a given alignment, the properties are encoded in which the properties are specified in the info file.\n",
    "```\n",
    "So let's say we want to use a float32 for the cell size and a uint16 for the cell type. We would do:\n",
    "```\n",
    "struct.pack('<4fH2B',(x,y,z,cell_size,cell_type))\n",
    "```\n",
    "where the final `2B` are padding bytes to make the total number of bytes divisible by 4.\n",
    "\n",
    "Let's randomly generate some cell sizes and try to write this out"
   ]
  },
  {
   "cell_type": "code",
   "execution_count": 79,
   "metadata": {},
   "outputs": [
    {
     "data": {
      "text/plain": [
       "array([[ 870, 1762,  407],\n",
       "       [ 270,  803,  226],\n",
       "       [ 296, 1538,  469],\n",
       "       ...,\n",
       "       [ 679, 1678,  152],\n",
       "       [ 883, 1923,  307],\n",
       "       [ 516, 1180,  202]])"
      ]
     },
     "execution_count": 79,
     "metadata": {},
     "output_type": "execute_result"
    }
   ],
   "source": [
    "coordinates"
   ]
  },
  {
   "cell_type": "code",
   "execution_count": 81,
   "metadata": {},
   "outputs": [
    {
     "data": {
      "text/plain": [
       "array([[ 870., 1762.,  407.],\n",
       "       [ 270.,  803.,  226.],\n",
       "       [ 296., 1538.,  469.],\n",
       "       ...,\n",
       "       [ 679., 1678.,  152.],\n",
       "       [ 883., 1923.,  307.],\n",
       "       [ 516., 1180.,  202.]], dtype=float32)"
      ]
     },
     "execution_count": 81,
     "metadata": {},
     "output_type": "execute_result"
    }
   ],
   "source": [
    "coordinates."
   ]
  },
  {
   "cell_type": "code",
   "execution_count": 85,
   "metadata": {},
   "outputs": [
    {
     "data": {
      "text/plain": [
       "array([[ 870.       , 1762.       ,  407.       ,   44.201786 ,\n",
       "          22.       ],\n",
       "       [ 270.       ,  803.       ,  226.       ,   37.620766 ,\n",
       "          19.       ],\n",
       "       [ 296.       , 1538.       ,  469.       ,   97.47168  ,\n",
       "          11.       ],\n",
       "       ...,\n",
       "       [ 679.       , 1678.       ,  152.       ,   36.99874  ,\n",
       "          14.       ],\n",
       "       [ 883.       , 1923.       ,  307.       ,    3.7889192,\n",
       "          30.       ],\n",
       "       [ 516.       , 1180.       ,  202.       ,   86.47215  ,\n",
       "           9.       ]], dtype=float32)"
      ]
     },
     "execution_count": 85,
     "metadata": {},
     "output_type": "execute_result"
    }
   ],
   "source": [
    "np.hstack((coordinates.astype('f'),cell_sizes.astype('f'),cell_types.astype('uint16')))"
   ]
  },
  {
   "cell_type": "code",
   "execution_count": 89,
   "metadata": {},
   "outputs": [
    {
     "name": "stdout",
     "output_type": "stream",
     "text": [
      "wrote /home/ahoag/ngdemo/demo_bucket/test_annotations/test_multiprops/spatial0/0_0_0\n"
     ]
    }
   ],
   "source": [
    "filename = '/home/ahoag/ngdemo/demo_bucket/test_annotations/test_multiprops/spatial0/0_0_0'\n",
    "coordinates = converted_points[0:1000]\n",
    "total_count = len(coordinates)\n",
    "cell_sizes = np.random.uniform(0,100,(1000,1))\n",
    "cell_types = np.random.randint(0,32,(1000,1))\n",
    "# combine the coordinates, cell sizes, and cell types into a single array\n",
    "# cell_array = np.hstack((coordinates,cell_sizes,cell_types))\n",
    "cell_array = np.hstack((coordinates,cell_sizes,cell_types))\n",
    "with open(filename,'wb') as outfile:\n",
    "    buf = struct.pack('<Q',total_count) # 64-bit little endian\n",
    "    pt_buf = b''.join(struct.pack('<4fH2B',x,y,z,s,int(c),0,0) for (x,y,z,s,c) in cell_array) \n",
    "    buf += pt_buf\n",
    "    id_buf = struct.pack('<%sQ' % len(coordinates), *range(len(coordinates)))\n",
    "    buf += id_buf\n",
    "    outfile.write(buf)\n",
    "print(f\"wrote {filename}\")"
   ]
  },
  {
   "cell_type": "code",
   "execution_count": 88,
   "metadata": {},
   "outputs": [],
   "source": [
    "# Now write the info file. Not clear what the order of the properties should be. \n",
    "# I think since we have two properties at different byte sizes then the order will \n",
    "# be figured out by order of byte size so the order in the info file doesn't actually \n",
    "# matter. Can try both orders and see what happens. \n",
    "info = {\n",
    "  \"@type\": \"neuroglancer_annotations_v1\",\n",
    "  \"annotation_type\": \"POINT\",\n",
    "  \"by_id\": {\n",
    "    \"key\": \"by_id\"\n",
    "  },\n",
    "  \"dimensions\": {\n",
    "    \"x\": [\n",
    "      \"5e-06\",\n",
    "      \"m\"\n",
    "    ],\n",
    "    \"y\": [\n",
    "      \"5e-06\",\n",
    "      \"m\"\n",
    "    ],\n",
    "    \"z\": [\n",
    "      \"1e-05\",\n",
    "      \"m\"\n",
    "    ]\n",
    "  },\n",
    "  \"lower_bound\": [\n",
    "    0,\n",
    "    0,\n",
    "    0\n",
    "  ],\n",
    "  \"properties\": [\n",
    "      {\"id\":\"celltype\",\n",
    "      \"type\":\"uint16\"\n",
    "      },\n",
    "      {\"id\":\"size\",\n",
    "      \"type\":\"float32\"\n",
    "      }\n",
    "  ],\n",
    "  \"relationships\": [],\n",
    "  \"spatial\": [\n",
    "    {\n",
    "      \"chunk_size\": [\n",
    "        2160,\n",
    "        2560,\n",
    "        687\n",
    "      ],\n",
    "      \"grid_shape\": [\n",
    "        1,\n",
    "        1,\n",
    "        1\n",
    "      ],\n",
    "      \"key\": \"spatial0\",\n",
    "      \"limit\": 1\n",
    "    }\n",
    "  ],\n",
    "  \"upper_bound\": [\n",
    "    2160,\n",
    "    2560,\n",
    "    687\n",
    "  ]\n",
    "}"
   ]
  },
  {
   "cell_type": "code",
   "execution_count": 90,
   "metadata": {},
   "outputs": [],
   "source": [
    "info_filename = '/home/ahoag/ngdemo/demo_bucket/test_annotations/test_multiprops/info'\n",
    "with open(info_filename,'w') as outfile:\n",
    "    json.dump(info,outfile,indent=2)"
   ]
  },
  {
   "cell_type": "markdown",
   "metadata": {},
   "source": [
    "This order worked!!\n",
    "\n",
    "If we had two float32 type properties, the order we would put them in the struct string would be the same as the order in which they appear in the info file. Let's try that"
   ]
  },
  {
   "cell_type": "code",
   "execution_count": 91,
   "metadata": {},
   "outputs": [
    {
     "name": "stdout",
     "output_type": "stream",
     "text": [
      "wrote /home/ahoag/ngdemo/demo_bucket/test_annotations/test_multiprops/spatial0/0_0_0\n"
     ]
    }
   ],
   "source": [
    "filename = '/home/ahoag/ngdemo/demo_bucket/test_annotations/test_multiprops/spatial0/0_0_0'\n",
    "coordinates = converted_points[0:1000]\n",
    "total_count = len(coordinates)\n",
    "cell_sizes = np.random.uniform(0,100,(1000,1))\n",
    "cell_stds = np.random.uniform(0,1,(1000,1))\n",
    "cell_types = np.random.randint(0,32,(1000,1))\n",
    "# combine the coordinates, cell sizes, and cell types into a single array\n",
    "# cell_array = np.hstack((coordinates,cell_sizes,cell_types))\n",
    "cell_array = np.hstack((coordinates,cell_sizes,cell_stds,cell_types))\n",
    "with open(filename,'wb') as outfile:\n",
    "    buf = struct.pack('<Q',total_count) # 64-bit little endian\n",
    "    pt_buf = b''.join(struct.pack('<5fH2B',x,y,z,s,std,int(c),0,0) for (x,y,z,s,std,c) in cell_array) \n",
    "    buf += pt_buf\n",
    "    id_buf = struct.pack('<%sQ' % len(coordinates), *range(len(coordinates)))\n",
    "    buf += id_buf\n",
    "    outfile.write(buf)\n",
    "print(f\"wrote {filename}\")"
   ]
  },
  {
   "cell_type": "code",
   "execution_count": 92,
   "metadata": {},
   "outputs": [],
   "source": [
    "# Now write the info file. Not clear what the order of the properties should be. \n",
    "# I think since we have two properties at different byte sizes then the order will \n",
    "# be figured out by order of byte size so the order in the info file doesn't actually \n",
    "# matter. Can try both orders and see what happens. \n",
    "info = {\n",
    "  \"@type\": \"neuroglancer_annotations_v1\",\n",
    "  \"annotation_type\": \"POINT\",\n",
    "  \"by_id\": {\n",
    "    \"key\": \"by_id\"\n",
    "  },\n",
    "  \"dimensions\": {\n",
    "    \"x\": [\n",
    "      \"5e-06\",\n",
    "      \"m\"\n",
    "    ],\n",
    "    \"y\": [\n",
    "      \"5e-06\",\n",
    "      \"m\"\n",
    "    ],\n",
    "    \"z\": [\n",
    "      \"1e-05\",\n",
    "      \"m\"\n",
    "    ]\n",
    "  },\n",
    "  \"lower_bound\": [\n",
    "    0,\n",
    "    0,\n",
    "    0\n",
    "  ],\n",
    "  \"properties\": [\n",
    "      {\"id\":\"celltype\",\n",
    "      \"type\":\"uint16\"\n",
    "      },\n",
    "      {\"id\":\"size\",\n",
    "      \"type\":\"float32\"\n",
    "      },\n",
    "      {\"id\":\"std\",\n",
    "      \"type\":\"float32\"\n",
    "      }\n",
    "  ],\n",
    "  \"relationships\": [],\n",
    "  \"spatial\": [\n",
    "    {\n",
    "      \"chunk_size\": [\n",
    "        2160,\n",
    "        2560,\n",
    "        687\n",
    "      ],\n",
    "      \"grid_shape\": [\n",
    "        1,\n",
    "        1,\n",
    "        1\n",
    "      ],\n",
    "      \"key\": \"spatial0\",\n",
    "      \"limit\": 1\n",
    "    }\n",
    "  ],\n",
    "  \"upper_bound\": [\n",
    "    2160,\n",
    "    2560,\n",
    "    687\n",
    "  ]\n",
    "}"
   ]
  },
  {
   "cell_type": "code",
   "execution_count": 93,
   "metadata": {},
   "outputs": [],
   "source": [
    "info_filename = '/home/ahoag/ngdemo/demo_bucket/test_annotations/test_multiprops/info'\n",
    "with open(info_filename,'w') as outfile:\n",
    "    json.dump(info,outfile,indent=2)"
   ]
  },
  {
   "cell_type": "markdown",
   "metadata": {},
   "source": [
    "That worked. It appears that the properties are limited to float and int types, however, there is some functionality to use the `enum_values` key which might allow for strings.\n",
    "\n",
    "## Adding string properties\n",
    "\n",
    "```\n",
    "\"enum_values\": Optional. If \"type\" is a numeric type (not \"rgb\" or \"rgba\"), this property may specify an array of values (compatible with the specified data type). These values correspond to the labels specified by \"enum_labels\", which are shown in the UI.\n",
    "\"enum_labels\": Must be specified if, and only if, \"enum_values\" is specified. Must be an array of strings of the same length as \"enum_values\" specifying the corresponding labels for each value.\n",
    "```\n",
    "So I think this might offer a way to render the cell types as strings without encoding anything else. Let's try this with a new info file:"
   ]
  },
  {
   "cell_type": "code",
   "execution_count": 121,
   "metadata": {},
   "outputs": [],
   "source": [
    "# Now write the info file. Not clear what the order of the properties should be. \n",
    "# I think since we have two properties at different byte sizes then the order will \n",
    "# be figured out by order of byte size so the order in the info file doesn't actually \n",
    "# matter. Can try both orders and see what happens. \n",
    "info = {\n",
    "  \"@type\": \"neuroglancer_annotations_v1\",\n",
    "  \"annotation_type\": \"POINT\",\n",
    "  \"by_id\": {\n",
    "    \"key\": \"by_id\"\n",
    "  },\n",
    "  \"dimensions\": {\n",
    "    \"x\": [\n",
    "      \"5e-06\",\n",
    "      \"m\"\n",
    "    ],\n",
    "    \"y\": [\n",
    "      \"5e-06\",\n",
    "      \"m\"\n",
    "    ],\n",
    "    \"z\": [\n",
    "      \"1e-05\",\n",
    "      \"m\"\n",
    "    ]\n",
    "  },\n",
    "  \"lower_bound\": [\n",
    "    0,\n",
    "    0,\n",
    "    0\n",
    "  ],\n",
    "  \"properties\": [\n",
    "      {\"id\":\"celltype\",\n",
    "      \"type\":\"uint16\",\n",
    "       \"enum_values\":[0, 1, 2, 3, 4, 5, 6, 7, 8, 9, 10, 11, 12, 13, 14, 15, 16, 17, 18, 19, 20, 21, 22, 23, 24, 25, 26, 27, 28, 29, 30, 31],\n",
    "       \"enum_labels\":['a', 'b', 'c', 'd', 'e', 'f', 'g', 'h', 'i', 'j', 'k', 'l', 'm', 'n', 'o', 'p', 'q', 'r', 's', 't', 'u', 'v', 'w', 'x', 'y', 'z', 'A', 'B', 'C', 'D', 'E', 'F']\n",
    "      },\n",
    "      {\"id\":\"size\",\n",
    "      \"type\":\"float32\"\n",
    "      },\n",
    "      {\"id\":\"std\",\n",
    "      \"type\":\"float32\"\n",
    "      }\n",
    "  ],\n",
    "  \"relationships\": [],\n",
    "  \"spatial\": [\n",
    "    {\n",
    "      \"chunk_size\": [\n",
    "        2160,\n",
    "        2560,\n",
    "        687\n",
    "      ],\n",
    "      \"grid_shape\": [\n",
    "        1,\n",
    "        1,\n",
    "        1\n",
    "      ],\n",
    "      \"key\": \"spatial0\",\n",
    "      \"limit\": 1\n",
    "    }\n",
    "  ],\n",
    "  \"upper_bound\": [\n",
    "    2160,\n",
    "    2560,\n",
    "    687\n",
    "  ]\n",
    "}"
   ]
  },
  {
   "cell_type": "code",
   "execution_count": 122,
   "metadata": {},
   "outputs": [],
   "source": [
    "info_filename = '/home/ahoag/ngdemo/demo_bucket/test_annotations/test_multiprops/info'\n",
    "with open(info_filename,'w') as outfile:\n",
    "    json.dump(info,outfile,indent=2)"
   ]
  },
  {
   "cell_type": "markdown",
   "metadata": {},
   "source": [
    "This worked! It shows the label and the enum integer value in the properties panel.\n",
    "\n",
    "Now let's explore the rgb properties. \n",
    "\n",
    "## Multiple properties -- cell type, cell size and cell color\n",
    "\n",
    "The docs say that an rgb property is encoded as 3 uint8 values and rgba property as 4 uint8 values. What is the struct format code for a uint8 value? It is the `B` code (see: https://docs.python.org/2/library/struct.html and this comment: https://github.com/google/neuroglancer/issues/227#issuecomment-913152865). Since uint8 is the smallest of the byte sizes compared to the other properties, it goes last in the format string. Let's just say we want to encode rgba and skip rgb. To encode coordinates (float32), cell size (float32), cell type (uint16), and rgba (4x uint8), the format string should be:\n",
    "```\n",
    "struct.pack('<4fH4B2B',x,y,z,s,int(c),r,g,b,a,0,0) for (x,y,z,s,c,r,g,b,a) in cell_array) \n",
    "```\n",
    "Where the final `2B` are two padding bytes to make the sum of bytes divisible by 4 (I think I could have just used `6B` instead of `4B2B` but it would be less clear). The breakdown of byte sizes is:\n",
    "```\n",
    "4f = 4x4 = 16\n",
    "H = 2\n",
    "4B = 4x1 = 4\n",
    "2B = 2x1 = 2\n",
    "```\n",
    "The sum of which is `16+2+4+2 = 24` which is divisible by 4."
   ]
  },
  {
   "cell_type": "code",
   "execution_count": 132,
   "metadata": {},
   "outputs": [
    {
     "name": "stdout",
     "output_type": "stream",
     "text": [
      "wrote /home/ahoag/ngdemo/demo_bucket/test_annotations/test_multiprops_color/spatial0/0_0_0\n"
     ]
    }
   ],
   "source": [
    "filename = '/home/ahoag/ngdemo/demo_bucket/test_annotations/test_multiprops_color/spatial0/0_0_0'\n",
    "coordinates = converted_points[0:1000]\n",
    "total_count = len(coordinates)\n",
    "cell_sizes = np.random.uniform(0,100,(1000,1))\n",
    "cell_types = np.random.randint(0,32,(1000,1))\n",
    "rgba = np.random.randint(0,256,(1000,4))\n",
    "# combine the coordinates, cell sizes, and cell types into a single array\n",
    "# cell_array = np.hstack((coordinates,cell_sizes,cell_types))\n",
    "cell_array = np.hstack((coordinates,cell_sizes,cell_types,rgba))\n",
    "with open(filename,'wb') as outfile:\n",
    "    buf = struct.pack('<Q',total_count) # 64-bit little endian\n",
    "    pt_buf = b''.join(struct.pack('<4fH4B2B',x,y,z,s,int(c),int(r),int(g),int(b),int(a),0,0) for (\n",
    "        x,y,z,s,c,r,g,b,a) in cell_array) \n",
    "    buf += pt_buf\n",
    "    id_buf = struct.pack('<%sQ' % len(coordinates), *range(len(coordinates)))\n",
    "    buf += id_buf\n",
    "    outfile.write(buf)\n",
    "print(f\"wrote {filename}\")"
   ]
  },
  {
   "cell_type": "markdown",
   "metadata": {},
   "source": [
    "Now the info file:"
   ]
  },
  {
   "cell_type": "code",
   "execution_count": 136,
   "metadata": {},
   "outputs": [],
   "source": [
    "# The order of the properties here is up to us and is not related to the order in the struct format string\n",
    "# That is because there are no properties of the same byte size. If there were, then the order\n",
    "# in the struct format string would need to match the relative order of those properties in the info file\n",
    "info = {\n",
    "  \"@type\": \"neuroglancer_annotations_v1\",\n",
    "  \"annotation_type\": \"POINT\",\n",
    "  \"by_id\": {\n",
    "    \"key\": \"by_id\"\n",
    "  },\n",
    "  \"dimensions\": {\n",
    "    \"x\": [\n",
    "      \"5e-06\",\n",
    "      \"m\"\n",
    "    ],\n",
    "    \"y\": [\n",
    "      \"5e-06\",\n",
    "      \"m\"\n",
    "    ],\n",
    "    \"z\": [\n",
    "      \"1e-05\",\n",
    "      \"m\"\n",
    "    ]\n",
    "  },\n",
    "  \"lower_bound\": [\n",
    "    0,\n",
    "    0,\n",
    "    0\n",
    "  ],\n",
    "  \"properties\": [\n",
    "      {\"id\":\"celltype\",\n",
    "      \"type\":\"uint16\",\n",
    "       \"enum_values\":[0, 1, 2, 3, 4, 5, 6, 7, 8, 9, 10, 11, 12, 13, 14, 15, 16, 17, 18, 19, 20, 21, 22, 23, 24, 25, 26, 27, 28, 29, 30, 31],\n",
    "       \"enum_labels\":['a', 'b', 'c', 'd', 'e', 'f', 'g', 'h', 'i', 'j', 'k', 'l', 'm', 'n', 'o', 'p', 'q', 'r', 's', 't', 'u', 'v', 'w', 'x', 'y', 'z', 'A', 'B', 'C', 'D', 'E', 'F']\n",
    "      },\n",
    "      {\"id\":\"size\",\n",
    "      \"type\":\"float32\"\n",
    "      },\n",
    "      {\"id\":\"color\",\n",
    "      \"type\":\"rgba\"\n",
    "      }\n",
    "  ],\n",
    "  \"relationships\": [],\n",
    "  \"spatial\": [\n",
    "    {\n",
    "      \"chunk_size\": [\n",
    "        2160,\n",
    "        2560,\n",
    "        687\n",
    "      ],\n",
    "      \"grid_shape\": [\n",
    "        1,\n",
    "        1,\n",
    "        1\n",
    "      ],\n",
    "      \"key\": \"spatial0\",\n",
    "      \"limit\": 1\n",
    "    }\n",
    "  ],\n",
    "  \"upper_bound\": [\n",
    "    2160,\n",
    "    2560,\n",
    "    687\n",
    "  ]\n",
    "}"
   ]
  },
  {
   "cell_type": "code",
   "execution_count": 137,
   "metadata": {},
   "outputs": [],
   "source": [
    "info_filename = '/home/ahoag/ngdemo/demo_bucket/test_annotations/test_multiprops_color/info'\n",
    "with open(info_filename,'w') as outfile:\n",
    "    json.dump(info,outfile,indent=2)"
   ]
  },
  {
   "cell_type": "markdown",
   "metadata": {},
   "source": [
    "That worked!"
   ]
  },
  {
   "cell_type": "code",
   "execution_count": null,
   "metadata": {},
   "outputs": [],
   "source": []
  }
 ],
 "metadata": {
  "kernelspec": {
   "display_name": "ng",
   "language": "python",
   "name": "ng"
  },
  "language_info": {
   "codemirror_mode": {
    "name": "ipython",
    "version": 3
   },
   "file_extension": ".py",
   "mimetype": "text/x-python",
   "name": "python",
   "nbconvert_exporter": "python",
   "pygments_lexer": "ipython3",
   "version": "3.8.5"
  }
 },
 "nbformat": 4,
 "nbformat_minor": 2
}
