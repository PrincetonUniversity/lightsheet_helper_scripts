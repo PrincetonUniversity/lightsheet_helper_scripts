{
 "cells": [
  {
   "cell_type": "markdown",
   "metadata": {},
   "source": [
    "## Precomputed_annotation_format\n",
    "The purpose of this notebook is to show how to make a precomputed annotation layer from a list of 3d points.\n",
    "Refer to this document: https://github.com/google/neuroglancer/blob/master/src/neuroglancer/datasource/precomputed/annotations.md for general structure (e.g. if you need another type of annotation than points)"
   ]
  },
  {
   "cell_type": "code",
   "execution_count": 7,
   "metadata": {},
   "outputs": [],
   "source": [
    "import numpy as np\n",
    "import os\n",
    "import csv\n",
    "import struct\n",
    "import json\n",
    "from cloudvolume import CloudVolume\n",
    "import matplotlib.pyplot as plt\n",
    "import neuroglancer\n",
    "%matplotlib inline"
   ]
  },
  {
   "cell_type": "code",
   "execution_count": 3,
   "metadata": {},
   "outputs": [],
   "source": [
    "# get the raw-space cells file and load it in\n",
    "animal_id = 4\n",
    "pth=os.path.join('/jukebox/wang/Jess/lightsheet_output',\n",
    "        '201904_ymaze_cfos','processed',f'an{animal_id}','clearmap_cluster_output',\n",
    "        'cells.npy')\n",
    "converted_points = np.load(pth)"
   ]
  },
  {
   "cell_type": "code",
   "execution_count": 4,
   "metadata": {},
   "outputs": [],
   "source": [
    "# Here is a test to show which method is best to use for making the annotation file. \n",
    "# Second method is MUCH faster -- use that one!"
   ]
  },
  {
   "cell_type": "code",
   "execution_count": 45,
   "metadata": {},
   "outputs": [
    {
     "name": "stdout",
     "output_type": "stream",
     "text": [
      "wrote /home/ahoag/ngdemo/demo_bucket/201904_ymaze_cfos/rawannotations_an4/spatial0/0_0_0\n",
      "CPU times: user 3.98 s, sys: 16 ms, total: 3.99 s\n",
      "Wall time: 3.97 s\n"
     ]
    }
   ],
   "source": [
    "%%time\n",
    "filename = '/home/ahoag/ngdemo/demo_bucket/201904_ymaze_cfos/rawannotations_an4/spatial0/0_0_0'\n",
    "\n",
    "coordinates = converted_points # array like [[x1,y1,z1],[x2,y2,z2],...]\n",
    "total_count = len(coordinates)\n",
    "with open(filename,'wb') as outfile:\n",
    "    buf = struct.pack('<Q',total_count)\n",
    "    for (x,y,z) in coordinates:\n",
    "        pt_buf = struct.pack('<3f',x,y,z)\n",
    "        buf+=pt_buf\n",
    "    id_buf = struct.pack('<%sQ' % len(coordinates), *range(len(coordinates)))\n",
    "    buf+=id_buf\n",
    "    outfile.write(buf)\n",
    "print(f\"wrote {filename}\")"
   ]
  },
  {
   "cell_type": "code",
   "execution_count": 47,
   "metadata": {},
   "outputs": [
    {
     "name": "stdout",
     "output_type": "stream",
     "text": [
      "wrote /home/ahoag/ngdemo/demo_bucket/201904_ymaze_cfos/rawannotations_an4/spatial0/0_0_0\n",
      "CPU times: user 584 ms, sys: 40 ms, total: 624 ms\n",
      "Wall time: 622 ms\n"
     ]
    }
   ],
   "source": [
    "%%time\n",
    "filename = '/home/ahoag/ngdemo/demo_bucket/201904_ymaze_cfos/rawannotations_an4/spatial0/0_0_0'\n",
    "\n",
    "coordinates = converted_points\n",
    "total_count = len(coordinates)\n",
    "with open(filename,'wb') as outfile:\n",
    "    buf = struct.pack('<Q',total_count)\n",
    "    pt_buf = b''.join(struct.pack('<3f',x,y,z) for (x,y,z) in coordinates)\n",
    "    buf += pt_buf\n",
    "    id_buf = struct.pack('<%sQ' % len(coordinates), *range(len(coordinates)))\n",
    "    buf += id_buf\n",
    "    outfile.write(buf)\n",
    "print(f\"wrote {filename}\")"
   ]
  }
 ],
 "metadata": {
  "kernelspec": {
   "display_name": "ng",
   "language": "python",
   "name": "ng"
  },
  "language_info": {
   "codemirror_mode": {
    "name": "ipython",
    "version": 3
   },
   "file_extension": ".py",
   "mimetype": "text/x-python",
   "name": "python",
   "nbconvert_exporter": "python",
   "pygments_lexer": "ipython3",
   "version": "3.6.9"
  }
 },
 "nbformat": 4,
 "nbformat_minor": 2
}
