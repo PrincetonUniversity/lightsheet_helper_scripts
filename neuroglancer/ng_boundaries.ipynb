{
 "cells": [
  {
   "cell_type": "markdown",
   "metadata": {},
   "source": [
    "## ng_boundaries\n",
    "The purpose of this notebook is to show how to launch the segment boundaries layer in all black with the regular atlas also shown but completely transparent so only the boundaries can be seen but the hover over a region still shows the region name. "
   ]
  },
  {
   "cell_type": "code",
   "execution_count": 122,
   "metadata": {},
   "outputs": [],
   "source": [
    "import neuroglancer\n",
    "from cloudvolume import CloudVolume\n",
    "import json\n",
    "import numpy as np"
   ]
  },
  {
   "cell_type": "code",
   "execution_count": 117,
   "metadata": {},
   "outputs": [
    {
     "name": "stderr",
     "output_type": "stream",
     "text": [
      "Downloading: 100%|██████████| 95/95 [00:00<00:00, 548.30it/s]\n",
      "Downloading: 100%|██████████| 95/95 [00:00<00:00, 73.79it/s]\n",
      "\n",
      "Downloading: 100%|██████████| 95/95 [00:00<00:00, 73.79it/s]\n",
      "Downloading: 100%|██████████| 95/95 [00:00<00:00, 73.79it/s]\n",
      "\n",
      "\n",
      "\n",
      "\n",
      "\n",
      "\n",
      "\n"
     ]
    }
   ],
   "source": [
    "# First grab all the segment IDs so I can change their colors\n",
    "kimvol = CloudVolume('file:///home/ahoag/ngdemo/demo_bucket/atlas/kimatlas/',parallel=True)\n",
    "kimdata = np.transpose(kimvol[:][...,0],(2,1,0))"
   ]
  },
  {
   "cell_type": "code",
   "execution_count": 118,
   "metadata": {},
   "outputs": [],
   "source": [
    "segments = np.array([x for x in np.unique(kimdata) if x!=0])"
   ]
  },
  {
   "cell_type": "code",
   "execution_count": 121,
   "metadata": {},
   "outputs": [],
   "source": [
    "# Save these to bucket so it is faster to look them up\n",
    "savename = '/jukebox/LightSheetData/atlas/neuroglancer/kimatlas_segments.npy'\n",
    "np.save(savename,segments)"
   ]
  },
  {
   "cell_type": "code",
   "execution_count": 143,
   "metadata": {},
   "outputs": [
    {
     "name": "stdout",
     "output_type": "stream",
     "text": [
      "http://127.0.0.1:38221/v/f67987d24b06ba81d6c332be026c0cc26f4a5145/\n"
     ]
    }
   ],
   "source": [
    "# neuroglancer.set_static_content_source(url='http://localhost:8080')\n",
    "neuroglancer.set_static_content_source(url='https://nglancer.pni.princeton.edu')\n",
    "viewer = neuroglancer.Viewer()\n",
    "with viewer.txn() as s:\n",
    "    s.layers['m364_dorsal_up_fiber_placement'] = neuroglancer.ImageLayer(source='precomputed://http://localhost:1396'\n",
    "    )\n",
    "    s.layers['Paxinos atlas'] = neuroglancer.SegmentationLayer(source='precomputed://http://localhost:1391'\n",
    "    )\n",
    "    s.layers['Paxinos atlas boundaries'] = neuroglancer.SegmentationLayer(source='precomputed://http://localhost:1350'\n",
    "    )\n",
    "    \n",
    "with viewer.txn() as s:\n",
    "    s.layout = 'xz'\n",
    "    s.crossSectionOrientation = [\n",
    "    0,\n",
    "    0.7071067690849304,\n",
    "    0,\n",
    "    0.7071067690849304\n",
    "  ]\n",
    "    boundaries_layer = s.layers['Paxinos atlas boundaries'].layer\n",
    "    atlas_layer = s.layers['Paxinos atlas']\n",
    "    atlas_layer.selected_alpha = 0.0\n",
    "#     image_layer = s.layers[0]\n",
    "#     image_layer.shader =  \"void main() {\\n  emitGrayscale(1.0-toNormalized(getDataValue())*25.0);\\n}\\n\"\n",
    "    boundaries_layer.saturation = 0.\n",
    "#     for segment_id in segments:\n",
    "#         s.layers[2].layer.segment_colors[segment_id] = \"#000000\"\n",
    "print(viewer)"
   ]
  },
  {
   "cell_type": "code",
   "execution_count": 106,
   "metadata": {},
   "outputs": [],
   "source": [
    "with viewer.txn() as s:\n",
    "    s.layout = 'xz'\n",
    "    s.crossSectionOrientation = [\n",
    "    0,\n",
    "    0.7071067690849304,\n",
    "    0,\n",
    "    0.7071067690849304\n",
    "  ]\n",
    "    boundaries_layer = s.layers['Paxinos atlas boundaries'].layer\n",
    "    atlas_layer = s.layers['Paxinos atlas']\n",
    "    atlas_layer.selected_alpha = 0.0\n",
    "    image_layer = s.layers[0]\n",
    "    image_layer.shader =  \"void main() {\\n  emitGrayscale(1.0-toNormalized(getDataValue())*25.0);\\n}\\n\"\n",
    "    for segment_id in segments:\n",
    "        s.layers[2].layer.segment_colors[segment_id] = \"#000000\"\n"
   ]
  },
  {
   "cell_type": "code",
   "execution_count": 131,
   "metadata": {},
   "outputs": [
    {
     "name": "stdout",
     "output_type": "stream",
     "text": [
      "ManagedLayer(\"Paxinos atlas boundaries\",{\"type\": \"segmentation\", \"source\": \"precomputed://http://localhost:1347\", \"saturation\": 0, \"setSegmentsBlack\": true, \"name\": \"Paxinos atlas boundaries\"})\n"
     ]
    }
   ],
   "source": [
    "with viewer.txn() as s:\n",
    "    print(s.layers[0])"
   ]
  },
  {
   "cell_type": "code",
   "execution_count": 134,
   "metadata": {},
   "outputs": [
    {
     "name": "stdout",
     "output_type": "stream",
     "text": [
      "['__class__', '__deepcopy__', '__delattr__', '__dir__', '__doc__', '__eq__', '__format__', '__ge__', '__getattribute__', '__gt__', '__hash__', '__init__', '__init_subclass__', '__le__', '__lt__', '__module__', '__ne__', '__new__', '__reduce__', '__reduce_ex__', '__repr__', '__setattr__', '__sizeof__', '__slots__', '__str__', '__subclasshook__', '_cached_wrappers', '_get_wrapped', '_json_data', '_lock', '_readonly', '_set_wrapped', 'annotationColor', 'annotation_color', 'colorSeed', 'color_seed', 'crossSectionRenderScale', 'cross_section_render_scale', 'equivalences', 'hideSegmentZero', 'hide_segment_zero', 'ignoreNullVisibleSet', 'ignore_null_visible_set', 'interpolate', 'layerDimensions', 'layerPosition', 'layer_dimensions', 'layer_position', 'meshRenderScale', 'meshSilhouetteRendering', 'mesh_render_scale', 'mesh_silhouette_rendering', 'notSelectedAlpha', 'not_selected_alpha', 'objectAlpha', 'object_alpha', 'pick', 'saturation', 'segmentColors', 'segmentQuery', 'segment_colors', 'segment_html_color_dict', 'segment_query', 'segments', 'selectedAlpha', 'selected_alpha', 'skeletonRendering', 'skeletonShader', 'skeleton_rendering', 'skeleton_shader', 'source', 'supports_readonly', 'tab', 'to_json', 'tool', 'type']\n"
     ]
    }
   ],
   "source": [
    "with viewer.txn() as s:\n",
    "    print(dir(s.layers[0].layer))"
   ]
  },
  {
   "cell_type": "code",
   "execution_count": null,
   "metadata": {},
   "outputs": [],
   "source": []
  }
 ],
 "metadata": {
  "kernelspec": {
   "display_name": "ng",
   "language": "python",
   "name": "ng"
  },
  "language_info": {
   "codemirror_mode": {
    "name": "ipython",
    "version": 3
   },
   "file_extension": ".py",
   "mimetype": "text/x-python",
   "name": "python",
   "nbconvert_exporter": "python",
   "pygments_lexer": "ipython3",
   "version": "3.6.9"
  }
 },
 "nbformat": 4,
 "nbformat_minor": 2
}
