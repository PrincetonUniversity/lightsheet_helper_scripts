{
 "cells": [
  {
   "cell_type": "markdown",
   "metadata": {},
   "source": [
    "## Precomputed_annotation_properties\n",
    "The purpose of this notebook is to figure out how to include properties such as cell type, cell size, etc.. in a precomputed annotation layer from a list of 3d points and their properties in Python.\n",
    "Refer to this document: https://github.com/google/neuroglancer/blob/master/src/neuroglancer/datasource/precomputed/annotations.md for general structure."
   ]
  },
  {
   "cell_type": "code",
   "execution_count": 1,
   "metadata": {},
   "outputs": [],
   "source": [
    "import numpy as np\n",
    "import os\n",
    "import csv\n",
    "import struct\n",
    "import json\n",
    "from cloudvolume import CloudVolume\n",
    "import matplotlib.pyplot as plt\n",
    "import neuroglancer\n",
    "%matplotlib inline"
   ]
  },
  {
   "cell_type": "code",
   "execution_count": 2,
   "metadata": {},
   "outputs": [],
   "source": [
    "# get the raw-space cells file and load it in\n",
    "animal_id = 4\n",
    "pth=os.path.join('/jukebox/wang/Jess/lightsheet_output',\n",
    "        '201904_ymaze_cfos','processed',f'an{animal_id}','clearmap_cluster_output',\n",
    "        'cells.npy')\n",
    "converted_points = np.load(pth)"
   ]
  },
  {
   "cell_type": "code",
   "execution_count": 3,
   "metadata": {},
   "outputs": [
    {
     "data": {
      "text/plain": [
       "array([[ 459, 1398,   50],\n",
       "       [ 459, 1443,   50],\n",
       "       [ 462, 1412,   49],\n",
       "       ...,\n",
       "       [1546, 1242,  569],\n",
       "       [1547, 1316,  570],\n",
       "       [1646, 1328,  574]])"
      ]
     },
     "execution_count": 3,
     "metadata": {},
     "output_type": "execute_result"
    }
   ],
   "source": [
    "converted_points"
   ]
  },
  {
   "cell_type": "code",
   "execution_count": 4,
   "metadata": {},
   "outputs": [
    {
     "data": {
      "text/plain": [
       "524170"
      ]
     },
     "execution_count": 4,
     "metadata": {},
     "output_type": "execute_result"
    }
   ],
   "source": [
    "len(converted_points)"
   ]
  },
  {
   "cell_type": "code",
   "execution_count": null,
   "metadata": {},
   "outputs": [],
   "source": [
    "np.random.shuffle(converted_points) # does it in place"
   ]
  },
  {
   "cell_type": "markdown",
   "metadata": {},
   "source": [
    "## Just coordinates - something we already know how to do"
   ]
  },
  {
   "cell_type": "code",
   "execution_count": 12,
   "metadata": {},
   "outputs": [
    {
     "name": "stdout",
     "output_type": "stream",
     "text": [
      "wrote /home/ahoag/ngdemo/demo_bucket/test_annotations/test_coords/spatial0/0_0_0\n"
     ]
    }
   ],
   "source": [
    "# We already know how to encode just the coordinates. Do it like so for the first 100 points\n",
    "filename = '/home/ahoag/ngdemo/demo_bucket/test_annotations/test_coords/spatial0/0_0_0'\n",
    "coordinates = converted_points[0:1000]\n",
    "total_count = len(coordinates)\n",
    "with open(filename,'wb') as outfile:\n",
    "    buf = struct.pack('<Q',total_count)\n",
    "    pt_buf = b''.join(struct.pack('<3f',x,y,z) for (x,y,z) in coordinates)\n",
    "    buf += pt_buf\n",
    "    id_buf = struct.pack('<%sQ' % len(coordinates), *range(len(coordinates)))\n",
    "    buf += id_buf\n",
    "    outfile.write(buf)\n",
    "print(f\"wrote {filename}\")"
   ]
  },
  {
   "cell_type": "code",
   "execution_count": 13,
   "metadata": {},
   "outputs": [],
   "source": [
    "# and the info file needs to look like this:\n",
    "info = {\n",
    "  \"@type\": \"neuroglancer_annotations_v1\",\n",
    "  \"annotation_type\": \"POINT\",\n",
    "  \"by_id\": {\n",
    "    \"key\": \"by_id\"\n",
    "  },\n",
    "  \"dimensions\": {\n",
    "    \"x\": [\n",
    "      \"5e-06\",\n",
    "      \"m\"\n",
    "    ],\n",
    "    \"y\": [\n",
    "      \"5e-06\",\n",
    "      \"m\"\n",
    "    ],\n",
    "    \"z\": [\n",
    "      \"1e-05\",\n",
    "      \"m\"\n",
    "    ]\n",
    "  },\n",
    "  \"lower_bound\": [\n",
    "    0,\n",
    "    0,\n",
    "    0\n",
    "  ],\n",
    "  \"properties\": [],\n",
    "  \"relationships\": [],\n",
    "  \"spatial\": [\n",
    "    {\n",
    "      \"chunk_size\": [\n",
    "        2160,\n",
    "        2560,\n",
    "        687\n",
    "      ],\n",
    "      \"grid_shape\": [\n",
    "        1,\n",
    "        1,\n",
    "        1\n",
    "      ],\n",
    "      \"key\": \"spatial0\",\n",
    "      \"limit\": 1\n",
    "    }\n",
    "  ],\n",
    "  \"upper_bound\": [\n",
    "    2160,\n",
    "    2560,\n",
    "    687\n",
    "  ]\n",
    "}"
   ]
  },
  {
   "cell_type": "code",
   "execution_count": 40,
   "metadata": {},
   "outputs": [],
   "source": [
    "info_filename = '/home/ahoag/ngdemo/demo_bucket/test_annotations/test_coords/info'\n",
    "with open(info_filename,'w') as outfile:\n",
    "    json.dump(info,outfile,indent=2)"
   ]
  },
  {
   "cell_type": "markdown",
   "metadata": {},
   "source": [
    "Got this to work. Next let's try to add a single property, cell type.\n",
    "\n",
    "## Single property -- cell type\n",
    "\n",
    "Let's make this a uint8 such that values can range from 0-31. We will randomly assign cell types to each of the 1000 cells. This comment instructs how to encode when you have multiple properties: https://github.com/google/neuroglancer/issues/227#issuecomment-913895464: \n",
    "```\n",
    "In order to minimize the padding bytes required, properties that require 4 byte alignment (uint32, int32, float32) are encoded first, followed by properties that require 2 byte alignment (uint16, int16), followed by properties that require 1 byte alignment (uint8, int8, rgb, rgba). For a given alignment, the properties are encoded in which the properties are specified in the info file.\n",
    "```\n",
    "\n",
    "Since we only have a single property this doesn't matter yet. We do, however, need to know where in the byte string to put the properties. From this file: https://github.com/google/neuroglancer/blob/master/src/neuroglancer/datasource/precomputed/annotations.md#multiple-annotation-encoding the answer is in the same entries as the coordinates. "
   ]
  },
  {
   "cell_type": "code",
   "execution_count": 49,
   "metadata": {},
   "outputs": [
    {
     "name": "stdout",
     "output_type": "stream",
     "text": [
      "wrote /home/ahoag/ngdemo/demo_bucket/test_annotations/test_singleprop/spatial0/0_0_0\n"
     ]
    }
   ],
   "source": [
    "filename = '/home/ahoag/ngdemo/demo_bucket/test_annotations/test_singleprop/spatial0/0_0_0'\n",
    "coordinates = converted_points[0:1000]\n",
    "total_count = len(coordinates)\n",
    "cell_types = np.random.randint(0,32,(1000,1))\n",
    "# combine the coordinates and cell types into a single array\n",
    "cell_array = np.hstack((coordinates,cell_types))\n",
    "with open(filename,'wb') as outfile:\n",
    "    buf = struct.pack('<Q',total_count) # 64-bit little endian\n",
    "    pt_buf = b''.join(struct.pack('<3fH2B',x,y,z,c,0,0) for (x,y,z,c) in cell_array) \n",
    "    buf += pt_buf\n",
    "    id_buf = struct.pack('<%sQ' % len(coordinates), *range(len(coordinates)))\n",
    "    buf += id_buf\n",
    "    outfile.write(buf)\n",
    "print(f\"wrote {filename}\")"
   ]
  },
  {
   "cell_type": "markdown",
   "metadata": {},
   "source": [
    "Now write the info file. According to this: https://github.com/google/neuroglancer/blob/master/src/neuroglancer/datasource/precomputed/annotations.md#info-json-file-format, the properties key must have this structure:\n",
    "```\n",
    "\"properties\": Array of JSON objects, each with the following members:\n",
    "\"id\": String value specifying unique identifier for the property. Must match the regular expression /^[a-z][a-zA-Z0-9_]*$/.\n",
    "\"type\": String value specifying the property type. Must be one of: rgb (represented as 3 uint8 values), rgba (represented as 4 uint8 values), uint8, int8, uint16, int16, uint32, int32, or float32.\n",
    "\"description\": Optional. String value specifying textual description of property shown in UI.\n",
    "\"enum_values\": Optional. If \"type\" is a numeric type (not \"rgb\" or \"rgba\"), this property may specify an array of values (compatible with the specified data type). These values correspond to the labels specified by \"enum_labels\", which are shown in the UI.\n",
    "\"enum_labels\": Must be specified if, and only if, \"enum_values\" is specified. Must be an array of strings of the same length as \"enum_values\" specifying the corresponding labels for each value.\n",
    "\n",
    "```"
   ]
  },
  {
   "cell_type": "code",
   "execution_count": 50,
   "metadata": {},
   "outputs": [],
   "source": [
    "info = {\n",
    "  \"@type\": \"neuroglancer_annotations_v1\",\n",
    "  \"annotation_type\": \"POINT\",\n",
    "  \"by_id\": {\n",
    "    \"key\": \"by_id\"\n",
    "  },\n",
    "  \"dimensions\": {\n",
    "    \"x\": [\n",
    "      \"5e-06\",\n",
    "      \"m\"\n",
    "    ],\n",
    "    \"y\": [\n",
    "      \"5e-06\",\n",
    "      \"m\"\n",
    "    ],\n",
    "    \"z\": [\n",
    "      \"1e-05\",\n",
    "      \"m\"\n",
    "    ]\n",
    "  },\n",
    "  \"lower_bound\": [\n",
    "    0,\n",
    "    0,\n",
    "    0\n",
    "  ],\n",
    "  \"properties\": [\n",
    "      {\"id\":\"celltype\",\n",
    "      \"type\":\"uint16\"\n",
    "      }\n",
    "  ],\n",
    "  \"relationships\": [],\n",
    "  \"spatial\": [\n",
    "    {\n",
    "      \"chunk_size\": [\n",
    "        2160,\n",
    "        2560,\n",
    "        687\n",
    "      ],\n",
    "      \"grid_shape\": [\n",
    "        1,\n",
    "        1,\n",
    "        1\n",
    "      ],\n",
    "      \"key\": \"spatial0\",\n",
    "      \"limit\": 1\n",
    "    }\n",
    "  ],\n",
    "  \"upper_bound\": [\n",
    "    2160,\n",
    "    2560,\n",
    "    687\n",
    "  ]\n",
    "}"
   ]
  },
  {
   "cell_type": "code",
   "execution_count": 51,
   "metadata": {},
   "outputs": [],
   "source": [
    "info_filename = '/home/ahoag/ngdemo/demo_bucket/test_annotations/test_singleprop/info'\n",
    "with open(info_filename,'w') as outfile:\n",
    "    json.dump(info,outfile,indent=2)"
   ]
  },
  {
   "cell_type": "markdown",
   "metadata": {},
   "source": [
    "I can see the celltype property! The cell type shows up as a float, which in my case isn't ideal since I want to show it as an integer. How can I structure the packing so that I get three floats followed by a uint16 integer? What about `<3fH` in the byte encoding and `uint16` in the props dict? Nope that didn't show any of the points.  Maybe I need a byte offset to get to multiple of 4. So two zeros?\n",
    "\n",
    "Yes, that did it! OK, let's try multiple properties.\n",
    "\n",
    "## Multiple properties -- cell type, cell size\n",
    "For multiple properties, the order of the properties is prioritized by byte size first then order in the info file at a given byte size, as per this comment:\n",
    "https://github.com/google/neuroglancer/issues/227#issuecomment-913895464: \n",
    "```\n",
    "In order to minimize the padding bytes required, properties that require 4 byte alignment (uint32, int32, float32) are encoded first, followed by properties that require 2 byte alignment (uint16, int16), followed by properties that require 1 byte alignment (uint8, int8, rgb, rgba). For a given alignment, the properties are encoded in which the properties are specified in the info file.\n",
    "```\n",
    "So let's say we want to use a float32 for the cell size and a uint16 for the cell type. We would do:\n",
    "```\n",
    "struct.pack('<4fH2B',(x,y,z,cell_size,cell_type))\n",
    "```\n",
    "where the final `2B` are padding bytes to make the total number of bytes divisible by 4.\n",
    "\n",
    "Let's randomly generate some cell sizes and try to write this out"
   ]
  },
  {
   "cell_type": "code",
   "execution_count": 79,
   "metadata": {},
   "outputs": [
    {
     "data": {
      "text/plain": [
       "array([[ 870, 1762,  407],\n",
       "       [ 270,  803,  226],\n",
       "       [ 296, 1538,  469],\n",
       "       ...,\n",
       "       [ 679, 1678,  152],\n",
       "       [ 883, 1923,  307],\n",
       "       [ 516, 1180,  202]])"
      ]
     },
     "execution_count": 79,
     "metadata": {},
     "output_type": "execute_result"
    }
   ],
   "source": [
    "coordinates"
   ]
  },
  {
   "cell_type": "code",
   "execution_count": 81,
   "metadata": {},
   "outputs": [
    {
     "data": {
      "text/plain": [
       "array([[ 870., 1762.,  407.],\n",
       "       [ 270.,  803.,  226.],\n",
       "       [ 296., 1538.,  469.],\n",
       "       ...,\n",
       "       [ 679., 1678.,  152.],\n",
       "       [ 883., 1923.,  307.],\n",
       "       [ 516., 1180.,  202.]], dtype=float32)"
      ]
     },
     "execution_count": 81,
     "metadata": {},
     "output_type": "execute_result"
    }
   ],
   "source": [
    "coordinates."
   ]
  },
  {
   "cell_type": "code",
   "execution_count": 85,
   "metadata": {},
   "outputs": [
    {
     "data": {
      "text/plain": [
       "array([[ 870.       , 1762.       ,  407.       ,   44.201786 ,\n",
       "          22.       ],\n",
       "       [ 270.       ,  803.       ,  226.       ,   37.620766 ,\n",
       "          19.       ],\n",
       "       [ 296.       , 1538.       ,  469.       ,   97.47168  ,\n",
       "          11.       ],\n",
       "       ...,\n",
       "       [ 679.       , 1678.       ,  152.       ,   36.99874  ,\n",
       "          14.       ],\n",
       "       [ 883.       , 1923.       ,  307.       ,    3.7889192,\n",
       "          30.       ],\n",
       "       [ 516.       , 1180.       ,  202.       ,   86.47215  ,\n",
       "           9.       ]], dtype=float32)"
      ]
     },
     "execution_count": 85,
     "metadata": {},
     "output_type": "execute_result"
    }
   ],
   "source": [
    "np.hstack((coordinates.astype('f'),cell_sizes.astype('f'),cell_types.astype('uint16')))"
   ]
  },
  {
   "cell_type": "code",
   "execution_count": 89,
   "metadata": {},
   "outputs": [
    {
     "name": "stdout",
     "output_type": "stream",
     "text": [
      "wrote /home/ahoag/ngdemo/demo_bucket/test_annotations/test_multiprops/spatial0/0_0_0\n"
     ]
    }
   ],
   "source": [
    "filename = '/home/ahoag/ngdemo/demo_bucket/test_annotations/test_multiprops/spatial0/0_0_0'\n",
    "coordinates = converted_points[0:1000]\n",
    "total_count = len(coordinates)\n",
    "cell_sizes = np.random.uniform(0,100,(1000,1))\n",
    "cell_types = np.random.randint(0,32,(1000,1))\n",
    "# combine the coordinates, cell sizes, and cell types into a single array\n",
    "# cell_array = np.hstack((coordinates,cell_sizes,cell_types))\n",
    "cell_array = np.hstack((coordinates,cell_sizes,cell_types))\n",
    "with open(filename,'wb') as outfile:\n",
    "    buf = struct.pack('<Q',total_count) # 64-bit little endian\n",
    "    pt_buf = b''.join(struct.pack('<4fH2B',x,y,z,s,int(c),0,0) for (x,y,z,s,c) in cell_array) \n",
    "    buf += pt_buf\n",
    "    id_buf = struct.pack('<%sQ' % len(coordinates), *range(len(coordinates)))\n",
    "    buf += id_buf\n",
    "    outfile.write(buf)\n",
    "print(f\"wrote {filename}\")"
   ]
  },
  {
   "cell_type": "code",
   "execution_count": 88,
   "metadata": {},
   "outputs": [],
   "source": [
    "# Now write the info file. Not clear what the order of the properties should be. \n",
    "# I think since we have two properties at different byte sizes then the order will \n",
    "# be figured out by order of byte size so the order in the info file doesn't actually \n",
    "# matter. Can try both orders and see what happens. \n",
    "info = {\n",
    "  \"@type\": \"neuroglancer_annotations_v1\",\n",
    "  \"annotation_type\": \"POINT\",\n",
    "  \"by_id\": {\n",
    "    \"key\": \"by_id\"\n",
    "  },\n",
    "  \"dimensions\": {\n",
    "    \"x\": [\n",
    "      \"5e-06\",\n",
    "      \"m\"\n",
    "    ],\n",
    "    \"y\": [\n",
    "      \"5e-06\",\n",
    "      \"m\"\n",
    "    ],\n",
    "    \"z\": [\n",
    "      \"1e-05\",\n",
    "      \"m\"\n",
    "    ]\n",
    "  },\n",
    "  \"lower_bound\": [\n",
    "    0,\n",
    "    0,\n",
    "    0\n",
    "  ],\n",
    "  \"properties\": [\n",
    "      {\"id\":\"celltype\",\n",
    "      \"type\":\"uint16\"\n",
    "      },\n",
    "      {\"id\":\"size\",\n",
    "      \"type\":\"float32\"\n",
    "      }\n",
    "  ],\n",
    "  \"relationships\": [],\n",
    "  \"spatial\": [\n",
    "    {\n",
    "      \"chunk_size\": [\n",
    "        2160,\n",
    "        2560,\n",
    "        687\n",
    "      ],\n",
    "      \"grid_shape\": [\n",
    "        1,\n",
    "        1,\n",
    "        1\n",
    "      ],\n",
    "      \"key\": \"spatial0\",\n",
    "      \"limit\": 1\n",
    "    }\n",
    "  ],\n",
    "  \"upper_bound\": [\n",
    "    2160,\n",
    "    2560,\n",
    "    687\n",
    "  ]\n",
    "}"
   ]
  },
  {
   "cell_type": "code",
   "execution_count": 90,
   "metadata": {},
   "outputs": [],
   "source": [
    "info_filename = '/home/ahoag/ngdemo/demo_bucket/test_annotations/test_multiprops/info'\n",
    "with open(info_filename,'w') as outfile:\n",
    "    json.dump(info,outfile,indent=2)"
   ]
  },
  {
   "cell_type": "markdown",
   "metadata": {},
   "source": [
    "This order worked!!\n",
    "\n",
    "If we had two float32 type properties, the order we would put them in the struct string would be the same as the order in which they appear in the info file. Let's try that"
   ]
  },
  {
   "cell_type": "code",
   "execution_count": 91,
   "metadata": {},
   "outputs": [
    {
     "name": "stdout",
     "output_type": "stream",
     "text": [
      "wrote /home/ahoag/ngdemo/demo_bucket/test_annotations/test_multiprops/spatial0/0_0_0\n"
     ]
    }
   ],
   "source": [
    "filename = '/home/ahoag/ngdemo/demo_bucket/test_annotations/test_multiprops/spatial0/0_0_0'\n",
    "coordinates = converted_points[0:1000]\n",
    "total_count = len(coordinates)\n",
    "cell_sizes = np.random.uniform(0,100,(1000,1))\n",
    "cell_stds = np.random.uniform(0,1,(1000,1))\n",
    "cell_types = np.random.randint(0,32,(1000,1))\n",
    "# combine the coordinates, cell sizes, and cell types into a single array\n",
    "# cell_array = np.hstack((coordinates,cell_sizes,cell_types))\n",
    "cell_array = np.hstack((coordinates,cell_sizes,cell_stds,cell_types))\n",
    "with open(filename,'wb') as outfile:\n",
    "    buf = struct.pack('<Q',total_count) # 64-bit little endian\n",
    "    pt_buf = b''.join(struct.pack('<5fH2B',x,y,z,s,std,int(c),0,0) for (x,y,z,s,std,c) in cell_array) \n",
    "    buf += pt_buf\n",
    "    id_buf = struct.pack('<%sQ' % len(coordinates), *range(len(coordinates)))\n",
    "    buf += id_buf\n",
    "    outfile.write(buf)\n",
    "print(f\"wrote {filename}\")"
   ]
  },
  {
   "cell_type": "code",
   "execution_count": 92,
   "metadata": {},
   "outputs": [],
   "source": [
    "# Now write the info file. Not clear what the order of the properties should be. \n",
    "# I think since we have two properties at different byte sizes then the order will \n",
    "# be figured out by order of byte size so the order in the info file doesn't actually \n",
    "# matter. Can try both orders and see what happens. \n",
    "info = {\n",
    "  \"@type\": \"neuroglancer_annotations_v1\",\n",
    "  \"annotation_type\": \"POINT\",\n",
    "  \"by_id\": {\n",
    "    \"key\": \"by_id\"\n",
    "  },\n",
    "  \"dimensions\": {\n",
    "    \"x\": [\n",
    "      \"5e-06\",\n",
    "      \"m\"\n",
    "    ],\n",
    "    \"y\": [\n",
    "      \"5e-06\",\n",
    "      \"m\"\n",
    "    ],\n",
    "    \"z\": [\n",
    "      \"1e-05\",\n",
    "      \"m\"\n",
    "    ]\n",
    "  },\n",
    "  \"lower_bound\": [\n",
    "    0,\n",
    "    0,\n",
    "    0\n",
    "  ],\n",
    "  \"properties\": [\n",
    "      {\"id\":\"celltype\",\n",
    "      \"type\":\"uint16\"\n",
    "      },\n",
    "      {\"id\":\"size\",\n",
    "      \"type\":\"float32\"\n",
    "      },\n",
    "      {\"id\":\"std\",\n",
    "      \"type\":\"float32\"\n",
    "      }\n",
    "  ],\n",
    "  \"relationships\": [],\n",
    "  \"spatial\": [\n",
    "    {\n",
    "      \"chunk_size\": [\n",
    "        2160,\n",
    "        2560,\n",
    "        687\n",
    "      ],\n",
    "      \"grid_shape\": [\n",
    "        1,\n",
    "        1,\n",
    "        1\n",
    "      ],\n",
    "      \"key\": \"spatial0\",\n",
    "      \"limit\": 1\n",
    "    }\n",
    "  ],\n",
    "  \"upper_bound\": [\n",
    "    2160,\n",
    "    2560,\n",
    "    687\n",
    "  ]\n",
    "}"
   ]
  },
  {
   "cell_type": "code",
   "execution_count": 93,
   "metadata": {},
   "outputs": [],
   "source": [
    "info_filename = '/home/ahoag/ngdemo/demo_bucket/test_annotations/test_multiprops/info'\n",
    "with open(info_filename,'w') as outfile:\n",
    "    json.dump(info,outfile,indent=2)"
   ]
  },
  {
   "cell_type": "markdown",
   "metadata": {},
   "source": [
    "That worked. It appears that the properties are limited to float and int types, however, there is some functionality to use the `enum_values` key which might allow for strings:\n",
    "```\n",
    "\"enum_values\": Optional. If \"type\" is a numeric type (not \"rgb\" or \"rgba\"), this property may specify an array of values (compatible with the specified data type). These values correspond to the labels specified by \"enum_labels\", which are shown in the UI.\n",
    "\"enum_labels\": Must be specified if, and only if, \"enum_values\" is specified. Must be an array of strings of the same length as \"enum_values\" specifying the corresponding labels for each value.\n",
    "```\n",
    "So I think this might offer a way to render the cell types as strings without encoding anything else. Let's try this with a new info file:"
   ]
  },
  {
   "cell_type": "code",
   "execution_count": 121,
   "metadata": {},
   "outputs": [],
   "source": [
    "# Now write the info file. Not clear what the order of the properties should be. \n",
    "# I think since we have two properties at different byte sizes then the order will \n",
    "# be figured out by order of byte size so the order in the info file doesn't actually \n",
    "# matter. Can try both orders and see what happens. \n",
    "info = {\n",
    "  \"@type\": \"neuroglancer_annotations_v1\",\n",
    "  \"annotation_type\": \"POINT\",\n",
    "  \"by_id\": {\n",
    "    \"key\": \"by_id\"\n",
    "  },\n",
    "  \"dimensions\": {\n",
    "    \"x\": [\n",
    "      \"5e-06\",\n",
    "      \"m\"\n",
    "    ],\n",
    "    \"y\": [\n",
    "      \"5e-06\",\n",
    "      \"m\"\n",
    "    ],\n",
    "    \"z\": [\n",
    "      \"1e-05\",\n",
    "      \"m\"\n",
    "    ]\n",
    "  },\n",
    "  \"lower_bound\": [\n",
    "    0,\n",
    "    0,\n",
    "    0\n",
    "  ],\n",
    "  \"properties\": [\n",
    "      {\"id\":\"celltype\",\n",
    "      \"type\":\"uint16\",\n",
    "       \"enum_values\":[0, 1, 2, 3, 4, 5, 6, 7, 8, 9, 10, 11, 12, 13, 14, 15, 16, 17, 18, 19, 20, 21, 22, 23, 24, 25, 26, 27, 28, 29, 30, 31],\n",
    "       \"enum_labels\":['a', 'b', 'c', 'd', 'e', 'f', 'g', 'h', 'i', 'j', 'k', 'l', 'm', 'n', 'o', 'p', 'q', 'r', 's', 't', 'u', 'v', 'w', 'x', 'y', 'z', 'A', 'B', 'C', 'D', 'E', 'F']\n",
    "      },\n",
    "      {\"id\":\"size\",\n",
    "      \"type\":\"float32\"\n",
    "      },\n",
    "      {\"id\":\"std\",\n",
    "      \"type\":\"float32\"\n",
    "      }\n",
    "  ],\n",
    "  \"relationships\": [],\n",
    "  \"spatial\": [\n",
    "    {\n",
    "      \"chunk_size\": [\n",
    "        2160,\n",
    "        2560,\n",
    "        687\n",
    "      ],\n",
    "      \"grid_shape\": [\n",
    "        1,\n",
    "        1,\n",
    "        1\n",
    "      ],\n",
    "      \"key\": \"spatial0\",\n",
    "      \"limit\": 1\n",
    "    }\n",
    "  ],\n",
    "  \"upper_bound\": [\n",
    "    2160,\n",
    "    2560,\n",
    "    687\n",
    "  ]\n",
    "}"
   ]
  },
  {
   "cell_type": "code",
   "execution_count": 122,
   "metadata": {},
   "outputs": [],
   "source": [
    "info_filename = '/home/ahoag/ngdemo/demo_bucket/test_annotations/test_multiprops/info'\n",
    "with open(info_filename,'w') as outfile:\n",
    "    json.dump(info,outfile,indent=2)"
   ]
  },
  {
   "cell_type": "markdown",
   "metadata": {},
   "source": [
    "This worked! It shows the label and the enum integer value in the properties panel.\n",
    "\n",
    "This allows us a lot of flexibility when it comes to displaying annotation properties. "
   ]
  }
 ],
 "metadata": {
  "kernelspec": {
   "display_name": "ng",
   "language": "python",
   "name": "ng"
  },
  "language_info": {
   "codemirror_mode": {
    "name": "ipython",
    "version": 3
   },
   "file_extension": ".py",
   "mimetype": "text/x-python",
   "name": "python",
   "nbconvert_exporter": "python",
   "pygments_lexer": "ipython3",
   "version": "3.8.5"
  }
 },
 "nbformat": 4,
 "nbformat_minor": 2
}
