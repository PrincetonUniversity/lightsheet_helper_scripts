{
 "cells": [
  {
   "cell_type": "markdown",
   "metadata": {},
   "source": [
    "# Jess_cfos_for_gallery-webdriver\n",
    "I used this notebook to make the lightserv gallery gif of Thalamic expression in Jess' c-Fos an21 subject.\n",
    "\n",
    "This notebook saves a bunch of pngs which I then convert to gif using a python script, e.g.:\n",
    "```python\n",
    "from PIL import Image\n",
    "import glob, os\n",
    " \n",
    "ss_dir = '/home/ahoag/ngdemo/screenshots/cfos_an21'\n",
    "savename = os.path.join(ss_dir,'cfos_an21.gif')\n",
    "if __name__ == '__main__':\n",
    "\t# Create the frames\n",
    "\tpngs = sorted(glob.glob(ss_dir+'/*png'))\n",
    "\tprint(pngs)\n",
    "\tframes = [Image.open(png) for png in pngs]\n",
    "\t\n",
    "\t# Save into a GIF file that loops forever\n",
    "\tframes[0].save(savename, format='GIF', append_images=frames[1:], save_all=True, duration=200, loop=0)\n",
    "```\n",
    "I was having trouble getting the segment properties to be displayed in the png screenshots - I opened an issue on the google github for this: https://github.com/google/neuroglancer/issues/233. It can be achieved using the selenium webdriver as done below. In order to get the webdriver to work I had to pip install selenium (not included with neuroglancer pip), then I had to download the chromedriver binary from here: https://chromedriver.chromium.org/downloads since I was using google chrome as my browser. Make sure to put the \"chromedriver\" executable in your shell path. "
   ]
  },
  {
   "cell_type": "code",
   "execution_count": null,
   "metadata": {},
   "outputs": [],
   "source": [
    "import neuroglancer as ng\n",
    "from neuroglancer import webdriver as webd\n",
    "import os\n",
    "import matplotlib.pyplot as plt\n",
    "%matplotlib inline"
   ]
  },
  {
   "cell_type": "markdown",
   "metadata": {},
   "source": [
    "## Set the neuroglancer client to be one that is hosted locally\n"
   ]
  },
  {
   "cell_type": "code",
   "execution_count": null,
   "metadata": {},
   "outputs": [],
   "source": [
    "# Use localhost for static files\n",
    "# ng.set_static_content_source(url='http://localhost:8080')\n",
    "ng.set_static_content_source(url='https://pni-brinacogs-mouse-atlas.appspot.com/')\n",
    "\n",
    "# ng.set_static_content_source(url='https://nglancer.pni.princeton.edu')\n"
   ]
  },
  {
   "cell_type": "code",
   "execution_count": 3,
   "metadata": {
    "scrolled": false
   },
   "outputs": [
    {
     "name": "stdout",
     "output_type": "stream",
     "text": [
      "http://127.0.0.1:39893/v/69bb3d7954c6c04bcd196442671f1334b4e3b77c/\n"
     ]
    }
   ],
   "source": [
    "# Start a web viewer and load in my three layers, which are hosted on my local machine.\n",
    "# Note that I used raw-space annotation layer for the cells, but I put a high \"limit\" on it (~500000)\n",
    "# So that the number of cells displayed was low -- with the native sampling the cells are too dense\n",
    "# to see anything else\n",
    "viewer = ng.Viewer()\n",
    "with viewer.txn() as s:\n",
    "    s.layers['rawdata_an21'] = ng.ImageLayer(source='precomputed://http://localhost:1337'\n",
    "    )\n",
    "    s.layers['rawatlas_an21'] = ng.SegmentationLayer(source='precomputed://http://localhost:1338'\n",
    "    )\n",
    "    s.layers['rawcells_an21'] = ng.AnnotationLayer(source='precomputed://http://localhost:8082'\n",
    "    )\n",
    "print(viewer)"
   ]
  },
  {
   "cell_type": "code",
   "execution_count": 4,
   "metadata": {},
   "outputs": [],
   "source": [
    "# Start the webdriver which should open a new window\n",
    "webdriver = webd.Webdriver(viewer, headless=False,)"
   ]
  },
  {
   "cell_type": "code",
   "execution_count": 24,
   "metadata": {},
   "outputs": [
    {
     "name": "stdout",
     "output_type": "stream",
     "text": [
      "http://127.0.0.1:39893/v/69bb3d7954c6c04bcd196442671f1334b4e3b77c/main.bundle.js 2654 performance warning: READ-usage buffer was written, then fenced, but written again before being read back. This discarded the shadow copy that was created to accelerate readback.\n",
      "http://127.0.0.1:39893/v/69bb3d7954c6c04bcd196442671f1334b4e3b77c/main.bundle.js 2654 performance warning: READ-usage buffer was written, then fenced, but written again before being read back. This discarded the shadow copy that was created to accelerate readback.\n",
      "http://127.0.0.1:39893/v/69bb3d7954c6c04bcd196442671f1334b4e3b77c/main.bundle.js 2654 performance warning: READ-usage buffer was written, then fenced, but written again before being read back. This discarded the shadow copy that was created to accelerate readback.\n",
      "http://127.0.0.1:39893/v/69bb3d7954c6c04bcd196442671f1334b4e3b77c/main.bundle.js 2654 performance warning: READ-usage buffer was written, then fenced, but written again before being read back. This discarded the shadow copy that was created to accelerate readback.\n",
      "http://127.0.0.1:39893/v/69bb3d7954c6c04bcd196442671f1334b4e3b77c/main.bundle.js 2654 performance warning: READ-usage buffer was written, then fenced, but written again before being read back. This discarded the shadow copy that was created to accelerate readback.\n",
      "http://127.0.0.1:39893/v/69bb3d7954c6c04bcd196442671f1334b4e3b77c/main.bundle.js 2654 performance warning: READ-usage buffer was written, then fenced, but written again before being read back. This discarded the shadow copy that was created to accelerate readback.\n",
      "http://127.0.0.1:39893/v/69bb3d7954c6c04bcd196442671f1334b4e3b77c/main.bundle.js 2654 performance warning: READ-usage buffer was written, then fenced, but written again before being read back. This discarded the shadow copy that was created to accelerate readback.\n"
     ]
    }
   ],
   "source": [
    "webdriver.driver.set_window_size(1100,500)"
   ]
  },
  {
   "cell_type": "code",
   "execution_count": 59,
   "metadata": {},
   "outputs": [],
   "source": [
    "# Here is where I take the sequence of screenshots \n",
    "\n",
    "# Set up the initial frame\n",
    "with webdriver.viewer.txn() as s:\n",
    "    s.layout = 'yz-3d'\n",
    "    s.position = [1268.5, 1286, 335.5]\n",
    "    \n",
    "    s.cross_section_orientation = [0.7071067690849304, 0, 0, 0.7071067690849304]\n",
    "    s.cross_section_scale = 9\n",
    "    s.projection_scale = 2500\n",
    "    s.projection_orientation = [0.6263057589530945, 0.19766674935817719, 0.23098883032798767, 0.7178531289100647]\n",
    "    imagelayer = s.layers['rawdata_an21']\n",
    "    imagelayer.shader = \"\"\" void main() {emitGrayscale(1.0-toNormalized(getDataValue())*35.0);}\"\"\"\n",
    "    seglayer = s.layers['rawatlas_an21']\n",
    "    seglayer.colorSeed = 804539064\n",
    "    seglayer.segments = [1020,1088,1096,1104,1113,1120,1216,149,15,155,181,189,218,255,262,325,362,366,41536,549,575,59,599,629,64,685,718,725,733,741,907]\n",
    "#     seglayer.segment_query = \"549, 262, 149, 629, 599, 1113, 733\"\n",
    "    seglayer.selected_alpha = 0.65\n",
    "    annotlayer = s.layers['rawcells_an21']\n",
    "#     annotlayer.visible=False\n",
    "    annotlayer.shader = \"\\nvoid main() {\\n  setColor(vec4(defaultColor(), 0.35));\\n}\"\n",
    "    \n",
    "    annotlayer._json_data[\"crossSectionAnnotationSpacing\"] = 10000\n",
    "    annotlayer._json_data[\"projectionAnnotationSpacing\"] = 10000\n",
    "    s.selected_layer.layer = 'rawatlas_an21' \n",
    "    s.selected_layer.visible = True\n",
    "    s.selected_layer.size = 400\n",
    "    s.layers['rawatlas_an21'].tab = \"segments\"\n",
    "    s.show_axis_lines=False\n",
    "    s.showDefaultAnnotations = False\n",
    " "
   ]
  },
  {
   "cell_type": "code",
   "execution_count": 60,
   "metadata": {},
   "outputs": [
    {
     "data": {
      "text/plain": [
       "True"
      ]
     },
     "execution_count": 60,
     "metadata": {},
     "output_type": "execute_result"
    },
    {
     "name": "stdout",
     "output_type": "stream",
     "text": [
      "http://127.0.0.1:39893/v/69bb3d7954c6c04bcd196442671f1334b4e3b77c/main.bundle.js 2654 performance warning: READ-usage buffer was written, then fenced, but written again before being read back. This discarded the shadow copy that was created to accelerate readback.\n",
      "http://127.0.0.1:39893/v/69bb3d7954c6c04bcd196442671f1334b4e3b77c/main.bundle.js 2654 performance warning: READ-usage buffer was written, then fenced, but written again before being read back. This discarded the shadow copy that was created to accelerate readback.\n",
      "http://127.0.0.1:39893/v/69bb3d7954c6c04bcd196442671f1334b4e3b77c/main.bundle.js 2654 performance warning: READ-usage buffer was written, then fenced, but written again before being read back. This discarded the shadow copy that was created to accelerate readback.\n"
     ]
    }
   ],
   "source": [
    "savename = '/home/ahoag/Princeton/proposals/NIH_brain_informatics_2020/figs/sagittal_3D_withcells.png'\n",
    "webdriver.driver.save_screenshot(savename)"
   ]
  },
  {
   "cell_type": "code",
   "execution_count": 42,
   "metadata": {},
   "outputs": [
    {
     "name": "stdout",
     "output_type": "stream",
     "text": [
      "ViewerState({\"dimensions\": {\"x\": [5e-06, \"m\"], \"y\": [5e-06, \"m\"], \"z\": [1e-05, \"m\"]}, \"position\": [1268.5, 1286, 335.5], \"crossSectionOrientation\": [0.7071067690849304, 0, 0, 0.7071067690849304], \"crossSectionScale\": 9, \"projectionOrientation\": [0.6263057589530945, 0.19766674935817719, 0.23098883032798767, 0.7178531289100647], \"projectionScale\": 2000, \"layers\": [{\"type\": \"image\", \"source\": \"precomputed://http://localhost:1337\", \"shader\": \" void main() {emitGrayscale(1.0-toNormalized(getDataValue())*35.0);}\", \"name\": \"rawdata_an21\"}, {\"type\": \"segmentation\", \"source\": \"precomputed://http://localhost:1338\", \"tab\": \"segments\", \"selectedAlpha\": 0.65, \"colorSeed\": 804539064, \"segments\": [\"1020\", \"1088\", \"1096\", \"1104\", \"1113\", \"1120\", \"1216\", \"149\", \"15\", \"155\", \"181\", \"189\", \"218\", \"255\", \"262\", \"325\", \"362\", \"366\", \"41536\", \"549\", \"575\", \"59\", \"599\", \"629\", \"64\", \"685\", \"718\", \"725\", \"733\", \"741\", \"907\"], \"name\": \"rawatlas_an21\"}, {\"type\": \"annotation\", \"source\": \"precomputed://http://localhost:8082\", \"crossSectionAnnotationSpacing\": 10000, \"projectionAnnotationSpacing\": 15000, \"shader\": \"\\nvoid main() {\\n  setColor(vec4(defaultColor(), 0.35));\\n}\", \"name\": \"rawcells_an21\"}], \"showAxisLines\": false, \"showDefaultAnnotations\": false, \"selectedLayer\": {\"layer\": \"rawatlas_an21\", \"visible\": true, \"size\": 400}, \"layout\": \"yz-3d\"})\n"
     ]
    }
   ],
   "source": [
    "with webdriver.viewer.txn() as s:\n",
    "    print(s)"
   ]
  },
  {
   "cell_type": "code",
   "execution_count": null,
   "metadata": {},
   "outputs": [],
   "source": [
    "# Start the webdriver which should open a new window\n",
    "webdriver = webd.Webdriver(viewer, headless=False,)"
   ]
  },
  {
   "cell_type": "code",
   "execution_count": null,
   "metadata": {},
   "outputs": [],
   "source": [
    "webdriver.driver.set_window_size(1700,800)"
   ]
  },
  {
   "cell_type": "code",
   "execution_count": null,
   "metadata": {},
   "outputs": [],
   "source": []
  }
 ],
 "metadata": {
  "kernelspec": {
   "display_name": "ng",
   "language": "python",
   "name": "ng"
  },
  "language_info": {
   "codemirror_mode": {
    "name": "ipython",
    "version": 3
   },
   "file_extension": ".py",
   "mimetype": "text/x-python",
   "name": "python",
   "nbconvert_exporter": "python",
   "pygments_lexer": "ipython3",
   "version": "3.8.5"
  }
 },
 "nbformat": 4,
 "nbformat_minor": 2
}
