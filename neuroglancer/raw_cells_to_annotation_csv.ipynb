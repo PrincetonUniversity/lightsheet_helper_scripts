{
 "cells": [
  {
   "cell_type": "markdown",
   "metadata": {},
   "source": [
    "## circular_dilation_raw_cells\n",
    "The purpose of this notebook is to figure out a good way to turn cell centers detected in raw space into more circular looking objects. Since we don't always have isotropic resolution, it should suffice to have cylindrical cells (for now), i.e the z dilation will simply be with a rectangular kernel. \n",
    "\n",
    "The tradeoff in doing this is between how circular something needs to appear and the number of pixels you need to do that. We don't want to use too many pixels because we will lose the ability to distinguish between neighboring cells and also will block out the other layers. On the other hand, we need to use enough pixels so that the cells actually look good enough for publication. A plus sign (technically the smallest non trivial pixelized circle) is not good enough, for example. "
   ]
  },
  {
   "cell_type": "code",
   "execution_count": 17,
   "metadata": {},
   "outputs": [],
   "source": [
    "import numpy as np\n",
    "import os\n",
    "import csv\n",
    "import matplotlib.pyplot as plt\n",
    "import neuroglancer\n",
    "%matplotlib inline"
   ]
  },
  {
   "cell_type": "code",
   "execution_count": 13,
   "metadata": {},
   "outputs": [],
   "source": [
    "animal_id = 21\n",
    "pth=os.path.join('/jukebox/wang/Jess/lightsheet_output',\n",
    "        '201904_ymaze_cfos','processed',f'an{animal_id}','clearmap_cluster_output',\n",
    "        'cells.npy')"
   ]
  },
  {
   "cell_type": "code",
   "execution_count": 14,
   "metadata": {},
   "outputs": [],
   "source": [
    "#first, make a map of cells\n",
    "converted_points = np.load(pth)"
   ]
  },
  {
   "cell_type": "code",
   "execution_count": 15,
   "metadata": {},
   "outputs": [
    {
     "name": "stdout",
     "output_type": "stream",
     "text": [
      "[ 570 1516   51]\n",
      "[ 571 1491   49]\n",
      "[ 572 1509   51]\n",
      "[ 577 1388   48]\n",
      "[ 581 1520   49]\n",
      "[ 582 1338   49]\n",
      "[ 582 1392   46]\n",
      "[ 583 1474   45]\n",
      "[ 583 1533   51]\n",
      "[ 584 1434   46]\n"
     ]
    }
   ],
   "source": [
    "for point in converted_points[0:10]:\n",
    "    print(point)"
   ]
  },
  {
   "cell_type": "code",
   "execution_count": 9,
   "metadata": {},
   "outputs": [
    {
     "data": {
      "text/plain": [
       "243653"
      ]
     },
     "execution_count": 9,
     "metadata": {},
     "output_type": "execute_result"
    }
   ],
   "source": [
    "len(converted_points)"
   ]
  },
  {
   "cell_type": "code",
   "execution_count": 16,
   "metadata": {},
   "outputs": [
    {
     "name": "stdout",
     "output_type": "stream",
     "text": [
      "Wrote /home/ahoag/ngdemo/data/cell_annotations_test.csv \n"
     ]
    }
   ],
   "source": [
    "header = \"Coordinate 1,Coordinate 2,Ellipsoid Dimensions,Tags,Description,Segment IDs,Parent ID,Type,ID\\n\"\n",
    "output_filename = '/home/ahoag/ngdemo/data/cell_annotations_test.csv'\n",
    "with open(output_filename,'w') as outfile:\n",
    "    outfile.write(header)\n",
    "    for point in converted_points[::10]:\n",
    "        x,y,z=point\n",
    "        outline=f'''\"({x},{y},{z})\",,,,,,,Point,\\n'''\n",
    "        outfile.write(outline)\n",
    "print(f\"Wrote {output_filename} \")"
   ]
  },
  {
   "cell_type": "code",
   "execution_count": 19,
   "metadata": {},
   "outputs": [
    {
     "name": "stdout",
     "output_type": "stream",
     "text": [
      "http://127.0.0.1:34937/v/0de607563e3bbaef00263dabfa3a5237de16c594/\n"
     ]
    }
   ],
   "source": [
    "# neuroglancer.set_static_content_source(url='https://nglancer.pni.princeton.edu')\n",
    "neuroglancer.set_static_content_source(url='http://localhost:8080')\n",
    "viewer = neuroglancer.Viewer()\n",
    "with viewer.txn() as s:\n",
    "    s.layers['atlas'] = neuroglancer.ImageLayer(source='precomputed://http://localhost:1339'\n",
    "    )\n",
    "print(viewer)"
   ]
  },
  {
   "cell_type": "code",
   "execution_count": 20,
   "metadata": {},
   "outputs": [],
   "source": [
    "with viewer.txn() as s:\n",
    "    "
   ]
  },
  {
   "cell_type": "code",
   "execution_count": 27,
   "metadata": {},
   "outputs": [],
   "source": [
    "counter=0\n",
    "with viewer.txn() as s:\n",
    "    s.layers['annotation']=neuroglancer.AnnotationLayer()\n",
    "    annotations=s.layers['annotation'].annotations\n",
    "    \n",
    "    for (x,y,z) in converted_points:\n",
    "    #     print(x,y,z)\n",
    "        pt=neuroglancer.PointAnnotation(point=[x, y, z],id=f'point{counter}')\n",
    "        annotations.append(pt)\n",
    "        counter+=1"
   ]
  },
  {
   "cell_type": "code",
   "execution_count": null,
   "metadata": {},
   "outputs": [],
   "source": []
  }
 ],
 "metadata": {
  "kernelspec": {
   "display_name": "ng",
   "language": "python",
   "name": "ng"
  },
  "language_info": {
   "codemirror_mode": {
    "name": "ipython",
    "version": 3
   },
   "file_extension": ".py",
   "mimetype": "text/x-python",
   "name": "python",
   "nbconvert_exporter": "python",
   "pygments_lexer": "ipython3",
   "version": "3.6.9"
  }
 },
 "nbformat": 4,
 "nbformat_minor": 2
}
