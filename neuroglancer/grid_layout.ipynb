{
 "cells": [
  {
   "cell_type": "code",
   "execution_count": 1,
   "metadata": {},
   "outputs": [],
   "source": [
    "import neuroglancer"
   ]
  },
  {
   "cell_type": "code",
   "execution_count": 2,
   "metadata": {},
   "outputs": [],
   "source": [
    "neuroglancer.set_static_content_source(url='http://nglancer.pni.princeton.edu')"
   ]
  },
  {
   "cell_type": "code",
   "execution_count": 8,
   "metadata": {},
   "outputs": [],
   "source": [
    "viewer = neuroglancer.Viewer()"
   ]
  },
  {
   "cell_type": "code",
   "execution_count": 9,
   "metadata": {},
   "outputs": [],
   "source": [
    "with viewer.txn() as s:\n",
    "    s.layers['image'] = neuroglancer.ImageLayer(\n",
    "        source='precomputed://gs://neuroglancer-public-data/flyem_fib-25/image',\n",
    "    )\n",
    "    s.layers['ground_truth'] = neuroglancer.SegmentationLayer(\n",
    "        source='precomputed://gs://neuroglancer-public-data/flyem_fib-25/ground_truth',\n",
    "    )"
   ]
  },
  {
   "cell_type": "code",
   "execution_count": 20,
   "metadata": {},
   "outputs": [],
   "source": [
    "with viewer.txn() as s:\n",
    "    s.layout = neuroglancer.column_layout([\n",
    "        neuroglancer.row_layout([\n",
    "            # this is first channel\n",
    "            neuroglancer.LayerGroupViewer(layers=['image']), # first light sheet\n",
    "            neuroglancer.LayerGroupViewer(layers=['image', 'ground_truth']), # second light sheet\n",
    "        ]),\n",
    "        # second channel\n",
    "        neuroglancer.row_layout([\n",
    "            neuroglancer.LayerGroupViewer(layers=['ground_truth']),\n",
    "            neuroglancer.LayerGroupViewer(layers=['ground_truth','image']),\n",
    "        ]),\n",
    "    ])"
   ]
  },
  {
   "cell_type": "code",
   "execution_count": 11,
   "metadata": {},
   "outputs": [
    {
     "name": "stdout",
     "output_type": "stream",
     "text": [
      "http://127.0.0.1:38233/v/727f887259fe2621fdc8798f9488b5e72d032428/\n"
     ]
    }
   ],
   "source": [
    "print(viewer)"
   ]
  },
  {
   "cell_type": "code",
   "execution_count": null,
   "metadata": {},
   "outputs": [],
   "source": []
  }
 ],
 "metadata": {
  "kernelspec": {
   "display_name": "ngdev",
   "language": "python",
   "name": "ngdev"
  },
  "language_info": {
   "codemirror_mode": {
    "name": "ipython",
    "version": 3
   },
   "file_extension": ".py",
   "mimetype": "text/x-python",
   "name": "python",
   "nbconvert_exporter": "python",
   "pygments_lexer": "ipython3",
   "version": "3.7.4"
  }
 },
 "nbformat": 4,
 "nbformat_minor": 2
}
