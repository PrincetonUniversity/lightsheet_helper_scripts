{
 "cells": [
  {
   "cell_type": "markdown",
   "metadata": {},
   "source": [
    "# Purpose of this notebook\n",
    "\n",
    "This notebook covers how to start the Neuroglancer viewer, load in some data, and customize the Neuroglancer window all in Python. It assumes you already have a local copy of the Neuroglancer layer directories for the raw data, raw atlas and raw cells. These are on bucket here:\n",
    "\n",
    "\n",
    "- raw data layer: /jukebox/LightSheetData/lightserv_testing/neuroglancer/201904_ymaze_cfos/rawdata_an21/\n",
    "- raw atlas layer: /jukebox/LightSheetData/lightserv_testing/neuroglancer/201904_ymaze_cfos/rawatlas_an21/\n",
    "- raw cells layer: /jukebox/LightSheetData/lightserv_testing/neuroglancer/201904_ymaze_cfos/rawcells_an21_dilated/\n",
    "\n",
    "All together than are about 8 GB so copy them to your local machine if possible. It will speed up the load into Neuroglancer enormously because you will not need to use the VPN. \n",
    "\n",
    "## A quick note about Neuroglancer\n",
    "Neuroglancer loads in datasets in \"layers\". A layer can be of type \"image\" (like the raw data layer above) or type \"segmentation\" (like an atlas layer or cell layer). The naming is a little confusing because both layer types refer to volumes (3-d arrays). In Neuroglancer, you can overlay multiple layers or view them side-by-side, turn them on and off, and lots more. See the tutorial at [https://brainmaps.princeton.edu/2020/05/getting-started-with-neuroglancer/](https://brainmaps.princeton.edu/2020/05/getting-started-with-neuroglancer/) to learn more about what you can do with Neuroglancer."
   ]
  },
  {
   "cell_type": "markdown",
   "metadata": {},
   "source": [
    "# Setup\n",
    "In order to run the code in this notebook, you will need an anaconda environment with python3 and containing some additional libraries. This environment \"ng_ymaze\" can be set up in the following way:\n",
    "In terminal:\n",
    "- conda create -n ng_ymaze python=3.7.4 -y\n",
    "- conda activate ng_ymaze # (or source activate ng_mriatlas, depending on which version of conda you have)\n",
    "- git clone https://github.com/austinhoag/cloud-volume # this fork has the fix for windows paths while we wait for the official seung-lab cloudvolume repo to incorporate the changes \n",
    "- cd cloud-volume\n",
    "- pip install -e . \n",
    "- **pip install neuroglancer==1.1.6** <br>\n",
    "- pip install --user ipykernel # to enable using this conda environment as a jupyter kernel\n",
    "- python -m ipykernel install --user --name=ng_ymaze\n",
    "\n",
    "At this point, make sure to select this conda environment as the kernel when running this notebook (you might have to restart the notebook server, i.e. re-run jupyter notebook from the terminal)"
   ]
  },
  {
   "cell_type": "markdown",
   "metadata": {},
   "source": [
    "## Host your layers on your local computer's network\n",
    "This is a lot easier than it sounds. Open up a new terminal window on your computer and enter your ng_ymaze conda environment:\n",
    "- conda activate ng_ymaze\n",
    "\n",
    "Now enter a python interactive shell:\n",
    "- python\n",
    "\n",
    "Now execute the following lines in the python session:\n",
    "```python\n",
    "###WINDOW 1###\n",
    "#in a new ipython window:\n",
    "brainname = \"20170419_db_bl6_cri_rpv_53hr\" #\"20150804_tp_bl6_ts04\"\n",
    "port=1352\n",
    "from cloudvolume import CloudVolume\n",
    "import os\n",
    "layer_dir = \"/jukebox/scratch/zmd/save/contra_ipsi_projection_studies_20191125/%s/642\" % brainname\n",
    "#src = \"/jukebox/LightSheetData/lightserv/jverpeut/natneuroreviews_tompisano_HSV-H129/natneuroreviews_tompisano_HSV-H129_20hr-006/imaging_request_1/viz/\"\n",
    "#layer_dir = os.path.join(src, brainname, \"647\")\n",
    "vol = CloudVolume(f\"file://{layer_dir}\")\n",
    "vol.viewer(port=port)\n",
    "```\n",
    "\n",
    "This should cause your session to hang -- that is expected. \n",
    "\n",
    "Now open up another terminal window and do the same thing but for the raw atlas, e.g.:\n",
    "- conda activate ng_ymaze\n",
    "- python \n",
    "\n",
    "Then, in python:\n",
    "```python\n",
    "###WINDOW 2###\n",
    "#to add another layer (aka the atlas), in a new ipython window:\n",
    "brainname = \"20170419_db_bl6_cri_rpv_53hr\" #\"20150804_tp_bl6_ts04\"\n",
    "port=1352\n",
    "from cloudvolume import CloudVolume\n",
    "import os\n",
    "layer_dir = \"/jukebox/scratch/zmd/save/contra_ipsi_projection_studies_20191125/%s/atlas\" % brainname\n",
    "#src = \"/jukebox/LightSheetData/lightserv/jverpeut/natneuroreviews_tompisano_HSV-H129/natneuroreviews_tompisano_HSV-H129_20hr-006/imaging_request_1/viz/\"\n",
    "#layer_dir = os.path.join(src, brainname, \"atlas\")\n",
    "vol = CloudVolume(f\"file://{layer_dir}\")\n",
    "vol.viewer(port=port+1) #make sure this port is different from the first    \n",
    "```"
   ]
  },
  {
   "cell_type": "markdown",
   "metadata": {},
   "source": [
    "## Load your layers into Neuroglancer and view them"
   ]
  },
  {
   "cell_type": "code",
   "execution_count": 16,
   "metadata": {},
   "outputs": [],
   "source": [
    "import neuroglancer \n",
    "neuroglancer.set_static_content_source(url='https://neuroglancer-braincogs.appspot.com')\n",
    "brainname=\"20170419_db_bl6_cri_rpv_53hr\"\n",
    "port=1352\n",
    "viewer = neuroglancer.Viewer()"
   ]
  },
  {
   "cell_type": "code",
   "execution_count": 17,
   "metadata": {},
   "outputs": [
    {
     "name": "stdout",
     "output_type": "stream",
     "text": [
      "http://127.0.0.1:45659/v/09d924c1464bd5982a587d63f3a32e1a2b915b26/\n"
     ]
    }
   ],
   "source": [
    "with viewer.txn() as s:\n",
    "    s.layers[\"%s\" % brainname] = neuroglancer.ImageLayer(source=\"precomputed://http://localhost:%s\" % port\n",
    "    )\n",
    "print(viewer)\n",
    "#this should add the above volume to the neuroglancer window"
   ]
  },
  {
   "cell_type": "code",
   "execution_count": 18,
   "metadata": {},
   "outputs": [
    {
     "name": "stdout",
     "output_type": "stream",
     "text": [
      "http://127.0.0.1:45659/v/09d924c1464bd5982a587d63f3a32e1a2b915b26/\n"
     ]
    }
   ],
   "source": [
    "with viewer.txn() as s:\n",
    "    s.layers[\"%s_atlas\" % brainname] = neuroglancer.SegmentationLayer(source=\"precomputed://http://localhost:%s\" % int(port+1)\n",
    "    )\n",
    "print(viewer)\n",
    "#this should add the atlas volume to the neuroglancer window"
   ]
  },
  {
   "cell_type": "code",
   "execution_count": 25,
   "metadata": {},
   "outputs": [],
   "source": [
    "with viewer.config_state.txn() as s:\n",
    "    s.show_ui_controls = False\n",
    "    s.show_panel_borders = False"
   ]
  },
  {
   "cell_type": "code",
   "execution_count": 21,
   "metadata": {},
   "outputs": [],
   "source": [
    "with viewer.config_state.txn() as s: \n",
    "    s.show_ui_controls = True \n",
    "    s.show_panel_borders = True "
   ]
  },
  {
   "cell_type": "code",
   "execution_count": null,
   "metadata": {},
   "outputs": [],
   "source": [
    "import os\n",
    "with viewer.config_state.txn() as s:\n",
    "    s.show_ui_controls = False\n",
    "    s.show_panel_borders = False\n",
    "svdst = \"/home/wanglab/Desktop/%s/dorcol_w_overlay \"% brainname\n",
    "#make sure these directories exist\n",
    "if not os.path.exists(os.path.dirname(svdst)): os.mkdir(os.path.dirname(svdst)) #brain directory\n",
    "if not os.path.exists(svdst): os.mkdir(svdst) #structure directory\n",
    "for i in range(6500,7300,100):\n",
    "    if i%10==0: print(i)\n",
    "    with viewer.txn() as s:\n",
    "        s.voxel_coordinates = [3150,i,1657] #the xy coords here are from the neuroglancer window\n",
    "    s = neuroglancer.ScreenshotSaver(viewer, os.path.join(svdst, \"%06d.png\" % i))\n",
    "    ss.capture()\n",
    "    #ebdriver.driver.save_screenshot(os.path.join(svdst, \"%06d.png\" % i))"
   ]
  },
  {
   "cell_type": "code",
   "execution_count": 9,
   "metadata": {},
   "outputs": [],
   "source": [
    "# Start the webdriver which should open a new window\n",
    "import os, time\n",
    "from neuroglancer import webdriver\n",
    "webdriver = webdriver.Webdriver(viewer, headless=False,)"
   ]
  },
  {
   "cell_type": "code",
   "execution_count": 10,
   "metadata": {
    "scrolled": true
   },
   "outputs": [],
   "source": [
    "svdst = \"/home/wanglab/Desktop/%s/dorcol_wo_overlay \"% brainname\n",
    "#make sure these directories exist\n",
    "if not os.path.exists(os.path.dirname(svdst)): os.mkdir(os.path.dirname(svdst)) #brain directory\n",
    "if not os.path.exists(svdst): os.mkdir(svdst) #structure directory"
   ]
  },
  {
   "cell_type": "code",
   "execution_count": 11,
   "metadata": {},
   "outputs": [
    {
     "name": "stdout",
     "output_type": "stream",
     "text": [
      "6500\n",
      "6530\n",
      "6560\n",
      "6590\n",
      "6620\n",
      "6650\n",
      "6680\n",
      "6710\n",
      "6740\n",
      "6770\n",
      "6800\n",
      "6830\n",
      "6860\n",
      "6890\n",
      "6920\n",
      "6950\n",
      "6980\n",
      "7010\n",
      "7040\n",
      "7070\n",
      "7100\n",
      "7130\n",
      "7160\n",
      "7190\n",
      "7220\n",
      "7250\n",
      "7280\n"
     ]
    }
   ],
   "source": [
    "with viewer.config_state.txn() as s:\n",
    "    s.show_ui_controls = False\n",
    "    s.show_panel_borders = False\n",
    "for i in range(6500,7300,30):\n",
    "    with viewer.txn() as s:\n",
    "        s.voxel_coordinates = [3150,i,1657] #the xy coords here are from the neuroglancer window\n",
    "    time.sleep(30)\n",
    "    webdriver.driver.save_screenshot(os.path.join(svdst, \"%06d.png\" % i))\n",
    "    #s = neuroglancer.ScreenshotSaver(viewer, svdst)\n",
    "    #ss.capture(i)\n",
    "    print(i)"
   ]
  },
  {
   "cell_type": "code",
   "execution_count": 7,
   "metadata": {},
   "outputs": [],
   "source": [
    "# Turn off atlas layer\n",
    "with webdriver.viewer.txn() as s:\n",
    "    annotlayer = s.layers[\"%s_atlas\" % brainname]\n",
    "    annotlayer.visible=False"
   ]
  },
  {
   "cell_type": "code",
   "execution_count": null,
   "metadata": {},
   "outputs": [],
   "source": [
    "#get more screenshots\n",
    "svdst = \"/home/wanglab/Desktop/%s/dcn_wo_overlay \"% brainname\n",
    "#make sure these directories exist\n",
    "if not os.path.exists(os.path.dirname(svdst)): os.mkdir(os.path.dirname(svdst)) #brain directory\n",
    "if not os.path.exists(svdst): os.mkdir(svdst) #structure directory\n",
    "\n",
    "for i in range(5166,6056,20):\n",
    "    if i%10==0: print(i)\n",
    "    with viewer.txn() as s:\n",
    "        s.voxel_coordinates = [2788,i,749] #the xy coords here are from the neuroglancer window\n",
    "        #(where the L center scale is located)\n",
    "    #optionally limit window size\n",
    "#    with viewer.config_state.txn() as s:\n",
    "#        s.viewer_size = [1000,1000]\n",
    "    time.sleep(40)\n",
    "    webdriver.driver.save_screenshot(os.path.join(svdst, \"%06d.png\" % i))"
   ]
  },
  {
   "cell_type": "code",
   "execution_count": null,
   "metadata": {},
   "outputs": [],
   "source": []
  },
  {
   "cell_type": "code",
   "execution_count": null,
   "metadata": {},
   "outputs": [],
   "source": [
    "#after, return controls to neuroglancer browser\n",
    "with viewer.config_state.txn() as s: \n",
    "    s.show_ui_controls = True \n",
    "    s.show_panel_borders = True "
   ]
  }
 ],
 "metadata": {
  "kernelspec": {
   "display_name": "ng36",
   "language": "python",
   "name": "ng36"
  },
  "language_info": {
   "codemirror_mode": {
    "name": "ipython",
    "version": 3
   },
   "file_extension": ".py",
   "mimetype": "text/x-python",
   "name": "python",
   "nbconvert_exporter": "python",
   "pygments_lexer": "ipython3",
   "version": "3.6.9"
  }
 },
 "nbformat": 4,
 "nbformat_minor": 2
}
