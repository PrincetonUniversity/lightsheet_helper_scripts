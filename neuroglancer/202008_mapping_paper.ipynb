{
 "cells": [
  {
   "cell_type": "markdown",
   "metadata": {},
   "source": [
    "# Purpose of this notebook\n",
    "\n",
    "This notebook covers how to start the Neuroglancer viewer, load in some data, and customize the Neuroglancer window all in Python. It assumes you already have a local copy of the Neuroglancer layer directories for the raw data, raw atlas and raw cells. These are on bucket here:\n",
    "\n",
    "\n",
    "- raw data layer: /jukebox/LightSheetData/lightserv_testing/neuroglancer/201904_ymaze_cfos/rawdata_an21/\n",
    "- raw atlas layer: /jukebox/LightSheetData/lightserv_testing/neuroglancer/201904_ymaze_cfos/rawatlas_an21/\n",
    "- raw cells layer: /jukebox/LightSheetData/lightserv_testing/neuroglancer/201904_ymaze_cfos/rawcells_an21_dilated/\n",
    "\n",
    "All together than are about 8 GB so copy them to your local machine if possible. It will speed up the load into Neuroglancer enormously because you will not need to use the VPN. \n",
    "\n",
    "## A quick note about Neuroglancer\n",
    "Neuroglancer loads in datasets in \"layers\". A layer can be of type \"image\" (like the raw data layer above) or type \"segmentation\" (like an atlas layer or cell layer). The naming is a little confusing because both layer types refer to volumes (3-d arrays). In Neuroglancer, you can overlay multiple layers or view them side-by-side, turn them on and off, and lots more. See the tutorial at [https://brainmaps.princeton.edu/2020/05/getting-started-with-neuroglancer/](https://brainmaps.princeton.edu/2020/05/getting-started-with-neuroglancer/) to learn more about what you can do with Neuroglancer."
   ]
  },
  {
   "cell_type": "markdown",
   "metadata": {},
   "source": [
    "# Setup\n",
    "In order to run the code in this notebook, you will need an anaconda environment with python3 and containing some additional libraries. This environment \"ng_ymaze\" can be set up in the following way:\n",
    "In terminal:\n",
    "- conda create -n ng_ymaze python=3.7.4 -y\n",
    "- conda activate ng_ymaze # (or source activate ng_mriatlas, depending on which version of conda you have)\n",
    "- git clone https://github.com/austinhoag/cloud-volume # this fork has the fix for windows paths while we wait for the official seung-lab cloudvolume repo to incorporate the changes \n",
    "- cd cloud-volume\n",
    "- pip install -e . \n",
    "- **pip install neuroglancer==1.1.6** <br>\n",
    "- pip install --user ipykernel # to enable using this conda environment as a jupyter kernel\n",
    "- python -m ipykernel install --user --name=ng_ymaze\n",
    "\n",
    "At this point, make sure to select this conda environment as the kernel when running this notebook (you might have to restart the notebook server, i.e. re-run jupyter notebook from the terminal)"
   ]
  },
  {
   "cell_type": "markdown",
   "metadata": {},
   "source": [
    "## Host your layers on your local computer's network\n",
    "This is a lot easier than it sounds. Open up a new terminal window on your computer and enter your ng_ymaze conda environment:\n",
    "- conda activate ng_ymaze\n",
    "\n",
    "Now enter a python interactive shell:\n",
    "- python\n",
    "\n",
    "Now execute the following lines in the python session:\n",
    "```python\n",
    "###WINDOW 1###\n",
    "#in a new ipython window:\n",
    "from cloudvolume import CloudVolume\n",
    "brainname = \"20200701_14_15_35_20180205_jg_b6f_04\"\n",
    "port=1350\n",
    "layer_dir = \"/jukebox/scratch/zmd/save/contra_ipsi_projection_studies_20191125/%s/647\" % brainname\n",
    "vol = CloudVolume(f\"file://{layer_dir}\")\n",
    "vol.viewer(port=port)\n",
    "```\n",
    "\n",
    "This should cause your session to hang -- that is expected. \n",
    "\n",
    "Now open up another terminal window and do the same thing but for the raw atlas, e.g.:\n",
    "- conda activate ng_ymaze\n",
    "- python \n",
    "\n",
    "Then, in python:\n",
    "```python\n",
    "###WINDOW 2###\n",
    "#to add another layer (aka the atlas), in a new ipython window:\n",
    "from cloudvolume import CloudVolume\n",
    "brainname = \"20200701_14_15_35_20180205_jg_b6f_04\"\n",
    "port=1350\n",
    "layer_dir = \"/jukebox/scratch/zmd/save/contra_ipsi_projection_studies_20191125/%s/atlas\" % brainname\n",
    "vol = CloudVolume(f\"file://{layer_dir}\")\n",
    "vol.viewer(port=port+1) #make sure this port is different from the first    \n",
    "```"
   ]
  },
  {
   "cell_type": "markdown",
   "metadata": {},
   "source": [
    "## Load your layers into Neuroglancer and view them"
   ]
  },
  {
   "cell_type": "code",
   "execution_count": 1,
   "metadata": {},
   "outputs": [
    {
     "name": "stdout",
     "output_type": "stream",
     "text": [
      "http://127.0.0.1:33973/v/e89be6dd2a47fc02d83bdce939ef8fc457a80e26/\n",
      "http://127.0.0.1:33973/v/e89be6dd2a47fc02d83bdce939ef8fc457a80e26/\n"
     ]
    }
   ],
   "source": [
    "import neuroglancer \n",
    "neuroglancer.set_static_content_source(url=\"https://nglancer.pni.princeton.edu\")\n",
    "brainname = \"20200701_14_15_35_20180205_jg_b6f_04\"\n",
    "port=1350\n",
    "viewer = neuroglancer.Viewer()\n",
    "with viewer.txn() as s:\n",
    "    s.layers[\"%s\" % brainname] = neuroglancer.ImageLayer(source=\"precomputed://http://localhost:%s\" % port\n",
    "    )\n",
    "print(viewer)\n",
    "#this should add the above volume to the neuroglancer window\n",
    "\n",
    "with viewer.txn() as s:\n",
    "    s.layers[\"%s_atlas\" % brainname] = neuroglancer.SegmentationLayer(source=\"precomputed://http://localhost:%s\" % int(port+1)\n",
    "    )\n",
    "print(viewer)\n",
    "#this should add the atlas volume to the neuroglancer window"
   ]
  },
  {
   "cell_type": "code",
   "execution_count": 13,
   "metadata": {},
   "outputs": [],
   "source": [
    "# Start the webdriver which should open a new window\n",
    "import os, time\n",
    "from neuroglancer import webdriver\n",
    "webdriver = webdriver.Webdriver(viewer, headless=False,)"
   ]
  },
  {
   "cell_type": "code",
   "execution_count": 11,
   "metadata": {},
   "outputs": [],
   "source": [
    "with viewer.config_state.txn() as s:\n",
    "    s.show_ui_controls = False\n",
    "    s.show_panel_borders = False"
   ]
  },
  {
   "cell_type": "code",
   "execution_count": 14,
   "metadata": {
    "scrolled": true
   },
   "outputs": [],
   "source": [
    "svdst = \"/home/wanglab/Desktop/%s/vestNuc_w_overlay \"% brainname\n",
    "#make sure these directories exist\n",
    "if not os.path.exists(os.path.dirname(svdst)): os.mkdir(os.path.dirname(svdst)) #brain directory\n",
    "if not os.path.exists(svdst): os.mkdir(svdst) #structure directory"
   ]
  },
  {
   "cell_type": "code",
   "execution_count": 15,
   "metadata": {},
   "outputs": [
    {
     "name": "stdout",
     "output_type": "stream",
     "text": [
      "5500\n",
      "5550\n",
      "5600\n",
      "5650\n",
      "5700\n",
      "5750\n",
      "5800\n",
      "5850\n",
      "5900\n",
      "5950\n",
      "6000\n",
      "6050\n",
      "6100\n",
      "6150\n",
      "6200\n",
      "6250\n",
      "6300\n",
      "6350\n"
     ]
    }
   ],
   "source": [
    "for i in range(5500,6400,50):\n",
    "    if i%10==0: print(i)\n",
    "    with viewer.txn() as s:\n",
    "        s.voxel_coordinates = [2749,i,813] #the xy coords here are from the neuroglancer window\n",
    "        #(where the L center scale is located)\n",
    "    #optionally limit window size\n",
    "#    with viewer.config_state.txn() as s:\n",
    "#        s.viewer_size = [1000,1000]\n",
    "    time.sleep(40)\n",
    "    webdriver.driver.save_screenshot(os.path.join(svdst, \"%06d.png\" % i))"
   ]
  },
  {
   "cell_type": "code",
   "execution_count": 16,
   "metadata": {},
   "outputs": [],
   "source": [
    "# Turn on atlas layer\n",
    "with webdriver.viewer.txn() as s:\n",
    "    annotlayer = s.layers[\"%s_atlas\" % brainname]\n",
    "    annotlayer.visible=False"
   ]
  },
  {
   "cell_type": "code",
   "execution_count": 17,
   "metadata": {},
   "outputs": [
    {
     "name": "stdout",
     "output_type": "stream",
     "text": [
      "5400\n",
      "5450\n",
      "5500\n",
      "5550\n",
      "5600\n",
      "5650\n",
      "5700\n",
      "5750\n",
      "5800\n",
      "5850\n",
      "5900\n",
      "5950\n",
      "6000\n",
      "6050\n",
      "6100\n",
      "6150\n",
      "6200\n",
      "6250\n",
      "6300\n",
      "6350\n",
      "6400\n",
      "6450\n"
     ]
    }
   ],
   "source": [
    "#get more screenshots\n",
    "svdst = \"/home/wanglab/Desktop/%s/vestNuc_wo_overlay \"% brainname\n",
    "#make sure these directories exist\n",
    "if not os.path.exists(os.path.dirname(svdst)): os.mkdir(os.path.dirname(svdst)) #brain directory\n",
    "if not os.path.exists(svdst): os.mkdir(svdst) #structure directory\n",
    "\n",
    "for i in range(5400,6500,50):\n",
    "    if i%10==0: print(i)\n",
    "    with viewer.txn() as s:\n",
    "        s.voxel_coordinates = [2749,i,813] #the xy coords here are from the neuroglancer window\n",
    "        #(where the L center scale is located)\n",
    "    #optionally limit window size\n",
    "#    with viewer.config_state.txn() as s:\n",
    "#        s.viewer_size = [1000,1000]\n",
    "    time.sleep(60)\n",
    "    webdriver.driver.save_screenshot(os.path.join(svdst, \"%06d.png\" % i))"
   ]
  },
  {
   "cell_type": "code",
   "execution_count": 8,
   "metadata": {},
   "outputs": [],
   "source": [
    "#after, return controls to neuroglancer browser\n",
    "with viewer.config_state.txn() as s: \n",
    "    s.show_ui_controls = True \n",
    "    s.show_panel_borders = True "
   ]
  }
 ],
 "metadata": {
  "kernelspec": {
   "display_name": "ng36",
   "language": "python",
   "name": "ng36"
  },
  "language_info": {
   "codemirror_mode": {
    "name": "ipython",
    "version": 3
   },
   "file_extension": ".py",
   "mimetype": "text/x-python",
   "name": "python",
   "nbconvert_exporter": "python",
   "pygments_lexer": "ipython3",
   "version": "3.6.9"
  }
 },
 "nbformat": 4,
 "nbformat_minor": 2
}
