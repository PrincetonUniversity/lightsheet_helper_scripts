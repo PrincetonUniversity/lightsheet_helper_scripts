{
 "cells": [
  {
   "cell_type": "markdown",
   "metadata": {},
   "source": [
    "# Purpose of this notebook\n",
    "An obstacle with using Neuroglancer is that the data formats you can feed it are somewhat unfamiliar. For example, it does not accept TIFF format or other standard image/volume file format. It does this for a good reason though which is to be more efficient for very large volumes. One of the formats it uses is called \"precomputed\" format, and that is the one we will use in this notebook. Fortunately there is a python pipeline for making precomputed data from TIFF files.\n",
    "\n",
    "This notebook covers how to convert a volumetric dataset obtained from Princeton's light sheet microscope to precomputed format so that it can be viewed in Neuroglancer. \n",
    "\n",
    "This notebook also covers how to host the precomputed data on your local machine so that Neuroglancer can see it. \n",
    "\n",
    "## A quick note about Neuroglancer\n",
    "Neuroglancer loads in datasets in \"layers\". A layer can be of type \"image\" (like what you would get as output from the light sheet microscope) or type \"segmentation\" (like an atlas annotation volume). The naming is a little confusing because both layer types refer to volumes (3-d objects). In this notebook, we will be only be using one layer, and it is of type \"image\"."
   ]
  },
  {
   "cell_type": "markdown",
   "metadata": {},
   "source": [
    "# Setup\n",
    "In order to run the code in this notebook, you will need a conda environment with python3 and containing some additional libraries. This environment \"ng_demo\" can be set up in the following way:\n",
    "In terminal:\n",
    "- conda create -n ng_demo python=3.7.4 -y\n",
    "- conda activate ng_demo (or \"source activate ng_demo\", depending on which version of conda you have)\n",
    "- pip install cloud-volume\n",
    "- pip install SimpleITK <br>\n",
    "\n",
    "\\# To enable you to use jupyter notebooks to work with this environment as a kernel:\n",
    "- pip install --user ipykernel\n",
    "- python -m ipykernel install --user --name=ng_demo\n",
    "\n",
    "Once this is all installed, make sure to select this conda environment as the kernel when running this notebook (you might have to restart the notebook server)"
   ]
  },
  {
   "cell_type": "code",
   "execution_count": 30,
   "metadata": {},
   "outputs": [
    {
     "name": "stdout",
     "output_type": "stream",
     "text": [
      "Using /home/ahoag/ngdemo/demo_bucket/ng_tutorial/my_registered_volume\n"
     ]
    }
   ],
   "source": [
    "import os,csv,json\n",
    "import numpy as np\n",
    "from cloudvolume import CloudVolume\n",
    "from cloudvolume.lib import mkdir, touch\n",
    "import SimpleITK as sitk\n",
    "\n",
    "from concurrent.futures import ProcessPoolExecutor\n",
    "\n",
    "# An example whole mouse brain volume is here: \n",
    "registered_brain_vol_path = '/jukebox/LightSheetData/lightserv_testing/lightserv-test/two_channels/two_channels-001/imaging_request_1/output/processing_request_1/resolution_1.3x/elastix/result.1.tif'\n",
    "# Decide on a folder name where your precomputed data for this layer is going to live. \n",
    "# In this example my layer folder will be 'my_registered_volume' saved on my local hard drive.\n",
    "# The output will take up ~120 MB of space\n",
    "ng_home_dir = '/home/ahoag/ngdemo/demo_bucket/ng_tutorial'\n",
    "layer_dir = os.path.join(ng_home_dir,'my_registered_volume')\n",
    "# Make the layer directory\n",
    "mkdir(layer_dir) # won't overwrite if already exists, also won't complain if already exists\n",
    "print(f\"Using {layer_dir}\")\n",
    "    \n",
    "# Finally, decide how many cpus you are willing and able to use for the parallelized conversion (see step 3)\n",
    "cpus_to_use = 8"
   ]
  },
  {
   "cell_type": "markdown",
   "metadata": {},
   "source": [
    "## Step 1: Write the instructions (\"info\") file that will tell Neuroglancer about your volume \n",
    "The info file is a required file for the precomputed data format. It is a JSON-formatted file (looks like a nested python dictionary) containing things like the shape and physical resolution of your volume."
   ]
  },
  {
   "cell_type": "code",
   "execution_count": 31,
   "metadata": {},
   "outputs": [],
   "source": [
    "def make_info_file(resolution_xyz,volume_size_xyz,layer_dir):\n",
    "    \"\"\" Make an JSON-formatted file called the \"info\" file\n",
    "    for use with the precomputed data format. \n",
    "    Precomputed is one of the formats that Neuroglancer can read in.  \n",
    "    --- parameters ---\n",
    "    resolution_xyz:      A tuple representing the size of the pixels (dx,dy,dz) \n",
    "                         in nanometers, e.g. (20000,20000,5000) for 20 micron x 20 micron x 5 micron\n",
    "    \n",
    "    volume_size_xyz:     A tuple representing the number of pixels in each dimension (Nx,Ny,Nz)\n",
    "    \n",
    "                         \n",
    "    layer_dir:           The directory where the precomputed data will be\n",
    "                         saved\n",
    "    \"\"\"\n",
    "    info = CloudVolume.create_new_info(\n",
    "        num_channels = 1,\n",
    "        layer_type = 'image', # 'image' or 'segmentation'\n",
    "        data_type = 'uint16', # 32 not necessary for atlases unless you have > 2^(32)-1 labels  \n",
    "        encoding = 'raw', # other options: 'jpeg', 'compressed_segmentation' (req. uint32 or uint64)\n",
    "        resolution = resolution_xyz, # X,Y,Z values in nanometers, 40 microns in each dim\n",
    "        voxel_offset = [ 0, 0, 0 ], # values X,Y,Z values in voxels\n",
    "        chunk_size = [ 1024, 1024, 1 ], # rechunk of image X,Y,Z in voxels.\n",
    "        volume_size = volume_size_xyz, # X,Y,Z size in voxels\n",
    "    )\n",
    "\n",
    "    vol = CloudVolume(f'file://{layer_dir}', info=info)\n",
    "    vol.provenance.description = \"A test info file\" # can change this if you want a description\n",
    "    vol.provenance.owners = [''] # list of contact email addresses\n",
    "    # Saves the info and provenance files for the first time\n",
    "    vol.commit_info() # generates info json file\n",
    "    vol.commit_provenance() # generates provenance json file\n",
    "    print(\"Created CloudVolume info file: \",vol.info_cloudpath)\n",
    "\n",
    "    return vol"
   ]
  },
  {
   "cell_type": "code",
   "execution_count": 32,
   "metadata": {},
   "outputs": [
    {
     "name": "stdout",
     "output_type": "stream",
     "text": [
      "Created CloudVolume info file:  file:///home/ahoag/ngdemo/demo_bucket/ng_tutorial/my_registered_volume/info\n"
     ]
    }
   ],
   "source": [
    "## Make the info file.\n",
    "\n",
    "# The volume is registered to the Princeton Mouse Atlas which has 20micron isotropic resolution \n",
    "resolution_xyz = (20000,20000,20000) # must be in nanometers\n",
    "# Load the volume into memory and get its shape - can be slow if using VPN from off-campus. \n",
    "# Might just be faster to copy the file to your local disk and then change the registered_brain_vol_path \n",
    "# to point to the local copy\n",
    "brain_vol = np.array(sitk.GetArrayFromImage(\n",
    "    sitk.ReadImage(registered_brain_vol_path)),dtype=np.uint16,order='F')\n",
    "z_dim,y_dim,x_dim = brain_vol.shape\n",
    "volume_size_xyz = (x_dim,y_dim,z_dim)\n",
    "\n",
    "\n",
    "# Write the info file\n",
    "vol = make_info_file(\n",
    "    resolution_xyz=resolution_xyz,\n",
    "    volume_size_xyz=volume_size_xyz,\n",
    "    layer_dir=layer_dir)\n"
   ]
  },
  {
   "cell_type": "markdown",
   "metadata": {},
   "source": [
    "# Step 2: Convert volume to precomputed data format\n",
    "First we create a directory (the \"progress_dir\") at the same level as the layer directory to keep track of the progress of the conversion. \n",
    "All the conversion does is copy the numpy array representing the 3d volume to a new object \"vol\". This is done one plane at a time (although it is parallelized). As each plane is converted, an empty file is created in the progress_dir with the name of the plane. By the end of the conversion, there should be as many files in this progress_dir as there are z planes. "
   ]
  },
  {
   "cell_type": "code",
   "execution_count": 33,
   "metadata": {},
   "outputs": [
    {
     "name": "stdout",
     "output_type": "stream",
     "text": [
      "created directory: /home/ahoag/ngdemo/demo_bucket/ng_tutorial/progress_my_registered_volume\n"
     ]
    }
   ],
   "source": [
    "layer_name = layer_dir.split('/')[-1]\n",
    "parent_dir = '/'.join(layer_dir.split('/')[:-1])\n",
    "# print(parent_dir)\n",
    "progress_dir = mkdir(parent_dir+ f'/progress_{layer_name}') # unlike os.mkdir doesn't crash on prexisting \n",
    "print(f\"created directory: {progress_dir}\")"
   ]
  },
  {
   "cell_type": "code",
   "execution_count": 34,
   "metadata": {},
   "outputs": [],
   "source": [
    "def process_slice(z):\n",
    "    \"\"\" This function copies a 2d z-plane slice from the atlas volume\n",
    "    to the cloudvolume object, vol. We will run this in parallel over \n",
    "    all z planes\n",
    "    ---parameters---\n",
    "    z:    An integer representing the 0-indexed z plane to be converted\n",
    "    \"\"\"\n",
    "    if os.path.exists(os.path.join(progress_dir, str(z))):\n",
    "        print(f\"Slice {z} already processed, skipping \")\n",
    "        return\n",
    "    if z >= z_dim: # z is zero indexed and runs from 0-(z_dim-1)\n",
    "        print(\"Index {z} >= z_dim of volume, skipping\")\n",
    "        return\n",
    "    print('Processing slice z=',z)\n",
    "    array = brain_vol[z].reshape((1,y_dim,x_dim)).T\n",
    "    vol[:,:, z] = array\n",
    "    touch(os.path.join(progress_dir, str(z)))\n",
    "    return \"success\"\n"
   ]
  },
  {
   "cell_type": "code",
   "execution_count": 35,
   "metadata": {},
   "outputs": [
    {
     "name": "stdout",
     "output_type": "stream",
     "text": [
      "Have 540 planes to upload\n",
      "Processing slice z= 0\n",
      "Processing slice z= 4\n",
      "Processing slice z= 7\n",
      "Processing slice z= 1\n",
      "Processing slice z= 2\n",
      "Processing slice z= 3\n",
      "Processing slice z= 5\n",
      "Processing slice z= 6\n"
     ]
    },
    {
     "name": "stderr",
     "output_type": "stream",
     "text": [
      "Uploading:   0%|          | 0/1 [00:00<?, ?it/s]\n",
      "Uploading:   0%|          | 0/1 [00:00<?, ?it/s]\u001b[A\n",
      "Uploading:   0%|          | 0/1 [00:00<?, ?it/s]\u001b[A\n",
      "Uploading:   0%|          | 0/1 [00:00<?, ?it/s]\u001b[A\n",
      "Uploading:   0%|          | 0/1 [00:00<?, ?it/s]\u001b[A\n",
      "Uploading:   0%|          | 0/1 [00:00<?, ?it/s]\u001b[A\n",
      "Uploading:   0%|          | 0/1 [00:00<?, ?it/s]\u001b[A\n",
      "Uploading:   0%|          | 0/1 [00:00<?, ?it/s]\u001b[A\n",
      "Uploading:   0%|          | 0/1 [00:00<?, ?it/s]\u001b[A\n",
      "Uploading: 100%|██████████| 1/1 [00:00<00:00,  4.12it/s]\u001b[A\n",
      "Uploading: 100%|██████████| 1/1 [00:00<00:00,  4.10it/s]\n",
      "Uploading:   0%|          | 0/1 [00:00<?, ?it/s]\n",
      "\n",
      "Uploading: 100%|██████████| 1/1 [00:00<00:00,  3.88it/s]\u001b[A\n",
      "Uploading:   0%|          | 0/1 [00:00<?, ?it/s]\n",
      "Uploading:   0%|          | 0/1 [00:00<?, ?it/s]\n"
     ]
    },
    {
     "name": "stdout",
     "output_type": "stream",
     "text": [
      "Processing slice z= 8\n",
      "Processing slice z= 9\n",
      "Processing slice z= 10\n"
     ]
    },
    {
     "name": "stderr",
     "output_type": "stream",
     "text": [
      "\n",
      "Uploading: 100%|██████████| 1/1 [00:00<00:00,  4.60it/s]\u001b[A\n",
      "Uploading:   0%|          | 0/1 [00:00<?, ?it/s]\n",
      "Uploading: 100%|██████████| 1/1 [00:00<00:00,  3.78it/s]\u001b[A\n",
      "Uploading:   0%|          | 0/1 [00:00<?, ?it/s]\u001b[A\n",
      "Uploading: 100%|██████████| 1/1 [00:00<00:00,  3.58it/s]\u001b[A\n",
      "Uploading:   0%|          | 0/1 [00:00<?, ?it/s]\n",
      "Uploading:   0%|          | 0/1 [00:00<?, ?it/s]\n",
      "Uploading: 100%|██████████| 1/1 [00:00<00:00,  4.38it/s]\n",
      "\n",
      "Uploading:   0%|          | 0/1 [00:00<?, ?it/s].27it/s]\n"
     ]
    },
    {
     "name": "stdout",
     "output_type": "stream",
     "text": [
      "Processing slice z= 11\n"
     ]
    },
    {
     "name": "stderr",
     "output_type": "stream",
     "text": [
      "Uploading:   0%|          | 0/1 [00:00<?, ?it/s]\n",
      "Uploading: 100%|██████████| 1/1 [00:00<00:00,  4.12it/s]\n"
     ]
    },
    {
     "name": "stdout",
     "output_type": "stream",
     "text": [
      "Processing slice z= 12\n",
      "Processing slice z= 13\n"
     ]
    },
    {
     "name": "stderr",
     "output_type": "stream",
     "text": [
      "\n",
      "Uploading:   0%|          | 0/1 [00:00<?, ?it/s].07it/s]\u001b[A\n",
      "Uploading: 100%|██████████| 1/1 [00:00<00:00,  3.86it/s]\n",
      "\n",
      "Uploading:   0%|          | 0/1 [00:00<?, ?it/s]\u001b[A"
     ]
    },
    {
     "name": "stdout",
     "output_type": "stream",
     "text": [
      "Processing slice z= 14\n"
     ]
    },
    {
     "name": "stderr",
     "output_type": "stream",
     "text": [
      "\n",
      "Uploading:   0%|          | 0/1 [00:00<?, ?it/s]\u001b[A\n",
      "Uploading:   0%|          | 0/1 [00:00<?, ?it/s]\u001b[A\n",
      "Uploading:   0%|          | 0/1 [00:00<?, ?it/s]\n",
      "Uploading:   0%|          | 0/1 [00:00<?, ?it/s]\u001b[A"
     ]
    },
    {
     "name": "stdout",
     "output_type": "stream",
     "text": [
      "Processing slice z= 15\n"
     ]
    },
    {
     "name": "stderr",
     "output_type": "stream",
     "text": [
      "Uploading:   0%|          | 0/1 [00:00<?, ?it/s]\n",
      "Uploading:   0%|          | 0/1 [00:00<?, ?it/s]\u001b[A\n",
      "Uploading: 100%|██████████| 1/1 [00:00<00:00,  4.67it/s]\u001b[A\n",
      "Uploading:   0%|          | 0/1 [00:00<?, ?it/s]\n",
      "\n",
      "Uploading: 100%|██████████| 1/1 [00:00<00:00,  4.21it/s]\u001b[A\n",
      "Uploading:   0%|          | 0/1 [00:00<?, ?it/s]\n"
     ]
    },
    {
     "name": "stdout",
     "output_type": "stream",
     "text": [
      "Processing slice z= 16\n"
     ]
    },
    {
     "name": "stderr",
     "output_type": "stream",
     "text": [
      "\n",
      "Uploading: 100%|██████████| 1/1 [00:00<00:00,  4.12it/s]\u001b[A\n",
      "Uploading:   0%|          | 0/1 [00:00<?, ?it/s]\n"
     ]
    },
    {
     "name": "stdout",
     "output_type": "stream",
     "text": [
      "Processing slice z= 17\n",
      "success\n",
      "success\n",
      "success\n",
      "success\n",
      "success\n",
      "success\n",
      "success\n",
      "success\n",
      "success\n",
      "success\n",
      "Processing slice z= 18\n"
     ]
    },
    {
     "name": "stderr",
     "output_type": "stream",
     "text": [
      "\n",
      "Uploading: 100%|██████████| 1/1 [00:00<00:00,  4.91it/s]\u001b[A\n",
      "Uploading:   0%|          | 0/1 [00:00<?, ?it/s].56it/s]\u001b[A\n",
      "Uploading: 100%|██████████| 1/1 [00:00<00:00,  4.61it/s]\u001b[A\n",
      "\n",
      "Uploading:   0%|          | 0/1 [00:00<?, ?it/s]\u001b[A\n",
      "Uploading: 100%|██████████| 1/1 [00:00<00:00,  4.20it/s]\n",
      "\n",
      "Uploading: 100%|██████████| 1/1 [00:00<00:00,  4.13it/s]\n",
      "Uploading:   0%|          | 0/1 [00:00<?, ?it/s]\n"
     ]
    },
    {
     "name": "stdout",
     "output_type": "stream",
     "text": [
      "Processing slice z= 19\n"
     ]
    },
    {
     "name": "stderr",
     "output_type": "stream",
     "text": [
      "\n",
      "Uploading:   0%|          | 0/1 [00:00<?, ?it/s].70it/s]\u001b[A\n",
      "\n",
      "Uploading:   0%|          | 0/1 [00:00<?, ?it/s].06it/s]\u001b[A\n",
      "Uploading: 100%|██████████| 1/1 [00:00<00:00,  4.26it/s]\n"
     ]
    },
    {
     "name": "stdout",
     "output_type": "stream",
     "text": [
      "Processing slice z= 20\n"
     ]
    },
    {
     "name": "stderr",
     "output_type": "stream",
     "text": [
      "Uploading:   0%|          | 0/1 [00:00<?, ?it/s]\n",
      "\n",
      "Uploading: 100%|██████████| 1/1 [00:00<00:00,  3.45it/s]\n",
      "Uploading:   0%|          | 0/1 [00:00<?, ?it/s]"
     ]
    },
    {
     "name": "stdout",
     "output_type": "stream",
     "text": [
      "Processing slice z= 21\n",
      "Processing slice z= 22\n"
     ]
    },
    {
     "name": "stderr",
     "output_type": "stream",
     "text": [
      "Uploading:   0%|          | 0/1 [00:00<?, ?it/s]\n",
      "\n",
      "Uploading:   0%|          | 0/1 [00:00<?, ?it/s]\u001b[A"
     ]
    },
    {
     "name": "stdout",
     "output_type": "stream",
     "text": [
      "Processing slice z= 23\n"
     ]
    },
    {
     "name": "stderr",
     "output_type": "stream",
     "text": [
      "\n",
      "Uploading:   0%|          | 0/1 [00:00<?, ?it/s]\u001b[A\n",
      "Uploading:   0%|          | 0/1 [00:00<?, ?it/s]\u001b[A\n",
      "Uploading:   0%|          | 0/1 [00:00<?, ?it/s]\u001b[A"
     ]
    },
    {
     "name": "stdout",
     "output_type": "stream",
     "text": [
      "success\n",
      "success\n",
      "success\n",
      "success\n",
      "success\n",
      "success\n"
     ]
    },
    {
     "name": "stderr",
     "output_type": "stream",
     "text": [
      "\n",
      "Uploading: 100%|██████████| 1/1 [00:00<00:00,  4.81it/s]\u001b[A\n",
      "Uploading:   0%|          | 0/1 [00:00<?, ?it/s]\n",
      "\n",
      "Uploading: 100%|██████████| 1/1 [00:00<00:00,  4.73it/s]\u001b[A\n",
      "Uploading: 100%|██████████| 1/1 [00:00<00:00,  4.50it/s]\n"
     ]
    },
    {
     "name": "stdout",
     "output_type": "stream",
     "text": [
      "Processing slice z= 24\n"
     ]
    },
    {
     "name": "stderr",
     "output_type": "stream",
     "text": [
      "Uploading:   0%|          | 0/1 [00:00<?, ?it/s]\n",
      "Uploading:   0%|          | 0/1 [00:00<?, ?it/s]\n",
      "Uploading:   0%|          | 0/1 [00:00<?, ?it/s]\n",
      "Uploading:   0%|          | 0/1 [00:00<?, ?it/s]"
     ]
    },
    {
     "name": "stdout",
     "output_type": "stream",
     "text": [
      "Processing slice z= 25\n",
      "Processing slice z= 26\n"
     ]
    },
    {
     "name": "stderr",
     "output_type": "stream",
     "text": [
      "Uploading:   0%|          | 0/1 [00:00<?, ?it/s]\n",
      "Uploading:   0%|          | 0/1 [00:00<?, ?it/s]\u001b[A\n",
      "Uploading:   0%|          | 0/1 [00:00<?, ?it/s]\u001b[A\n",
      "Uploading: 100%|██████████| 1/1 [00:00<00:00,  4.45it/s]\u001b[A\n",
      "\n",
      "Uploading:   0%|          | 0/1 [00:00<?, ?it/s].87it/s]\u001b[A\n",
      "Uploading: 100%|██████████| 1/1 [00:00<00:00,  4.75it/s]\n",
      "Uploading:   0%|          | 0/1 [00:00<?, ?it/s]\n"
     ]
    },
    {
     "name": "stdout",
     "output_type": "stream",
     "text": [
      "Processing slice z= 27\n",
      "Processing slice z= 28\n"
     ]
    },
    {
     "name": "stderr",
     "output_type": "stream",
     "text": [
      "\n",
      "Uploading: 100%|██████████| 1/1 [00:00<00:00,  4.67it/s]\u001b[A\n",
      "Uploading: 100%|██████████| 1/1 [00:00<00:00,  4.70it/s]\u001b[A\n",
      "Uploading: 100%|██████████| 1/1 [00:00<00:00,  4.80it/s]\u001b[A\n",
      "Uploading: 100%|██████████| 1/1 [00:00<00:00,  4.39it/s]\n",
      "Uploading:   0%|          | 0/1 [00:00<?, ?it/s]\n",
      "Uploading: 100%|██████████| 1/1 [00:00<00:00,  4.25it/s]\n",
      "Uploading: 100%|██████████| 1/1 [00:00<00:00,  4.50it/s]\n",
      "Uploading:   0%|          | 0/1 [00:00<?, ?it/s]\n",
      "Uploading:   0%|          | 0/1 [00:00<?, ?it/s]\n",
      "Uploading:   0%|          | 0/1 [00:00<?, ?it/s]\n"
     ]
    },
    {
     "name": "stdout",
     "output_type": "stream",
     "text": [
      "Processing slice z= 29\n",
      "Processing slice z= 30\n",
      "Processing slice z= 31\n"
     ]
    },
    {
     "name": "stderr",
     "output_type": "stream",
     "text": [
      "Uploading:   0%|          | 0/1 [00:00<?, ?it/s]\n",
      "Uploading:   0%|          | 0/1 [00:00<?, ?it/s]\u001b[A\n",
      "Uploading:   0%|          | 0/1 [00:00<?, ?it/s]\u001b[A\n",
      "Uploading:   0%|          | 0/1 [00:00<?, ?it/s]\u001b[A"
     ]
    },
    {
     "name": "stdout",
     "output_type": "stream",
     "text": [
      "success\n",
      "success\n",
      "success\n",
      "success\n",
      "success\n",
      "success\n",
      "success\n",
      "success\n"
     ]
    },
    {
     "name": "stderr",
     "output_type": "stream",
     "text": [
      "\n",
      "Uploading: 100%|██████████| 1/1 [00:00<00:00,  5.28it/s]\u001b[A\n",
      "Uploading:   0%|          | 0/1 [00:00<?, ?it/s]\n",
      "\n",
      "Uploading: 100%|██████████| 1/1 [00:00<00:00,  4.85it/s]\u001b[A\n",
      "Uploading: 100%|██████████| 1/1 [00:00<00:00,  5.04it/s]\u001b[A\n",
      "Uploading: 100%|██████████| 1/1 [00:00<00:00,  4.67it/s]"
     ]
    },
    {
     "name": "stdout",
     "output_type": "stream",
     "text": [
      "Processing slice z= 32\n"
     ]
    },
    {
     "name": "stderr",
     "output_type": "stream",
     "text": [
      "\n",
      "Uploading:   0%|          | 0/1 [00:00<?, ?it/s]\n",
      "Uploading:   0%|          | 0/1 [00:00<?, ?it/s]\n"
     ]
    },
    {
     "name": "stdout",
     "output_type": "stream",
     "text": [
      "Processing slice z= 33\n",
      "Processing slice z= 34\n"
     ]
    },
    {
     "name": "stderr",
     "output_type": "stream",
     "text": [
      "Uploading:   0%|          | 0/1 [00:00<?, ?it/s]\n",
      "Uploading:   0%|          | 0/1 [00:00<?, ?it/s]\u001b[A\n",
      "Uploading:   0%|          | 0/1 [00:00<?, ?it/s]\u001b[A\n",
      "Uploading: 100%|██████████| 1/1 [00:00<00:00,  5.46it/s]\n",
      "Uploading: 100%|██████████| 1/1 [00:00<00:00,  5.14it/s]\u001b[A\n",
      "Uploading: 100%|██████████| 1/1 [00:00<00:00,  5.01it/s]\n",
      "Uploading:   0%|          | 0/1 [00:00<?, ?it/s]\n",
      "Uploading:   0%|          | 0/1 [00:00<?, ?it/s]\n"
     ]
    },
    {
     "name": "stdout",
     "output_type": "stream",
     "text": [
      "Processing slice z= 35\n",
      "Processing slice z= 36\n"
     ]
    },
    {
     "name": "stderr",
     "output_type": "stream",
     "text": [
      "Uploading:   0%|          | 0/1 [00:00<?, ?it/s]\n",
      "Uploading:   0%|          | 0/1 [00:00<?, ?it/s]\u001b[A\n",
      "Uploading:   0%|          | 0/1 [00:00<?, ?it/s]\u001b[A\n",
      "Uploading: 100%|██████████| 1/1 [00:00<00:00,  5.13it/s]\u001b[A\n",
      "Uploading: 100%|██████████| 1/1 [00:00<00:00,  5.09it/s]\u001b[A\n",
      "Uploading: 100%|██████████| 1/1 [00:00<00:00,  5.00it/s]\u001b[A\n",
      "Uploading: 100%|██████████| 1/1 [00:00<00:00,  4.80it/s]\n",
      "Uploading: 100%|██████████| 1/1 [00:00<00:00,  4.71it/s]\n",
      "Uploading:   0%|          | 0/1 [00:00<?, ?it/s]\n",
      "Uploading:   0%|          | 0/1 [00:00<?, ?it/s]\n",
      "Uploading:   0%|          | 0/1 [00:00<?, ?it/s]\n"
     ]
    },
    {
     "name": "stdout",
     "output_type": "stream",
     "text": [
      "Processing slice z= 37\n",
      "Processing slice z= 38\n",
      "Processing slice z= 39\n"
     ]
    },
    {
     "name": "stderr",
     "output_type": "stream",
     "text": [
      "Uploading:   0%|          | 0/1 [00:00<?, ?it/s]\n",
      "Uploading:   0%|          | 0/1 [00:00<?, ?it/s]\u001b[A\n",
      "Uploading:   0%|          | 0/1 [00:00<?, ?it/s]\u001b[A\n",
      "Uploading:   0%|          | 0/1 [00:00<?, ?it/s]\u001b[A\n",
      "Uploading: 100%|██████████| 1/1 [00:00<00:00,  5.94it/s]\u001b[A\n",
      "Uploading:   0%|          | 0/1 [00:00<?, ?it/s]\n",
      "\n",
      "Uploading: 100%|██████████| 1/1 [00:00<00:00,  5.48it/s]\u001b[A\n",
      "Uploading:   0%|          | 0/1 [00:00<?, ?it/s]\n"
     ]
    },
    {
     "name": "stdout",
     "output_type": "stream",
     "text": [
      "Processing slice z= 40\n",
      "success\n",
      "success\n",
      "success\n",
      "success\n",
      "success\n",
      "success\n",
      "success\n",
      "success\n",
      "Processing slice z= 41\n"
     ]
    },
    {
     "name": "stderr",
     "output_type": "stream",
     "text": [
      "Uploading:   0%|          | 0/1 [00:00<?, ?it/s]\n",
      "Uploading: 100%|██████████| 1/1 [00:00<00:00,  5.35it/s]\u001b[A\n",
      "Uploading: 100%|██████████| 1/1 [00:00<00:00,  4.90it/s]\n",
      "Uploading:   0%|          | 0/1 [00:00<?, ?it/s]\n",
      "Uploading:   0%|          | 0/1 [00:00<?, ?it/s]\n",
      "Uploading:   0%|          | 0/1 [00:00<?, ?it/s]\u001b[A\n"
     ]
    },
    {
     "name": "stdout",
     "output_type": "stream",
     "text": [
      "Processing slice z= 42\n"
     ]
    },
    {
     "name": "stderr",
     "output_type": "stream",
     "text": [
      "Uploading: 100%|██████████| 1/1 [00:00<00:00,  6.10it/s]\u001b[A\n",
      "Uploading: 100%|██████████| 1/1 [00:00<00:00,  5.69it/s]\u001b[A\n",
      "Uploading: 100%|██████████| 1/1 [00:00<00:00,  5.07it/s]\n",
      "Uploading:   0%|          | 0/1 [00:00<?, ?it/s]\n",
      "Uploading:   0%|          | 0/1 [00:00<?, ?it/s]\u001b[A\n",
      "Uploading:   0%|          | 0/1 [00:00<?, ?it/s]\n"
     ]
    },
    {
     "name": "stdout",
     "output_type": "stream",
     "text": [
      "Processing slice z= 43\n",
      "Processing slice z= 44\n"
     ]
    },
    {
     "name": "stderr",
     "output_type": "stream",
     "text": [
      "\n",
      "Uploading:   0%|          | 0/1 [00:00<?, ?it/s]\u001b[A\n",
      "Uploading: 100%|██████████| 1/1 [00:00<00:00,  5.82it/s]\u001b[A\n",
      "Uploading:   0%|          | 0/1 [00:00<?, ?it/s].65it/s]\u001b[A\n",
      "Uploading: 100%|██████████| 1/1 [00:00<00:00,  5.34it/s]\n",
      "Uploading: 100%|██████████| 1/1 [00:00<00:00,  5.39it/s]\n",
      "Uploading:   0%|          | 0/1 [00:00<?, ?it/s]\n",
      "Uploading:   0%|          | 0/1 [00:00<?, ?it/s]\n",
      "\n",
      "Uploading: 100%|██████████| 1/1 [00:00<00:00,  5.13it/s]\u001b[A\n",
      "Uploading:   0%|          | 0/1 [00:00<?, ?it/s]"
     ]
    },
    {
     "name": "stdout",
     "output_type": "stream",
     "text": [
      "Processing slice z= 45\n"
     ]
    },
    {
     "name": "stderr",
     "output_type": "stream",
     "text": [
      "\n"
     ]
    },
    {
     "name": "stdout",
     "output_type": "stream",
     "text": [
      "Processing slice z= 46\n"
     ]
    },
    {
     "name": "stderr",
     "output_type": "stream",
     "text": [
      "Uploading:   0%|          | 0/1 [00:00<?, ?it/s]\n",
      "Uploading:   0%|          | 0/1 [00:00<?, ?it/s]\u001b[A"
     ]
    },
    {
     "name": "stdout",
     "output_type": "stream",
     "text": [
      "Processing slice z= 47\n"
     ]
    },
    {
     "name": "stderr",
     "output_type": "stream",
     "text": [
      "\n",
      "Uploading:   0%|          | 0/1 [00:00<?, ?it/s]\u001b[A\n",
      "Uploading:   0%|          | 0/1 [00:00<?, ?it/s]\u001b[A\n",
      "Uploading: 100%|██████████| 1/1 [00:00<00:00,  5.61it/s]\u001b[A\n",
      "Uploading:   0%|          | 0/1 [00:00<?, ?it/s]\n"
     ]
    },
    {
     "name": "stdout",
     "output_type": "stream",
     "text": [
      "Processing slice z= 48\n",
      "success\n",
      "success\n",
      "success\n",
      "success\n",
      "success\n",
      "success\n",
      "success\n",
      "success\n",
      "success\n"
     ]
    },
    {
     "name": "stderr",
     "output_type": "stream",
     "text": [
      "\n",
      "Uploading: 100%|██████████| 1/1 [00:00<00:00,  5.20it/s]\u001b[A\n",
      "Uploading:   0%|          | 0/1 [00:00<?, ?it/s]\n",
      "\n",
      "Uploading:   0%|          | 0/1 [00:00<?, ?it/s]\u001b[A\n",
      "Uploading: 100%|██████████| 1/1 [00:00<00:00,  5.98it/s]\u001b[A\n",
      "Uploading:   0%|          | 0/1 [00:00<?, ?it/s]"
     ]
    },
    {
     "name": "stdout",
     "output_type": "stream",
     "text": [
      "Processing slice z= 49\n"
     ]
    },
    {
     "name": "stderr",
     "output_type": "stream",
     "text": [
      "\n",
      "Uploading:   0%|          | 0/1 [00:00<?, ?it/s]\n"
     ]
    },
    {
     "name": "stdout",
     "output_type": "stream",
     "text": [
      "Processing slice z= 50\n"
     ]
    },
    {
     "name": "stderr",
     "output_type": "stream",
     "text": [
      "Uploading:   0%|          | 0/1 [00:00<?, ?it/s]\u001b[A\n",
      "Uploading:   0%|          | 0/1 [00:00<?, ?it/s]\u001b[A\n",
      "Uploading: 100%|██████████| 1/1 [00:00<00:00,  6.04it/s]\u001b[A\n",
      "Uploading:   0%|          | 0/1 [00:00<?, ?it/s]\n",
      "\n",
      "Uploading: 100%|██████████| 1/1 [00:00<00:00,  6.34it/s]\u001b[A"
     ]
    },
    {
     "name": "stdout",
     "output_type": "stream",
     "text": [
      "Processing slice z= 51\n"
     ]
    },
    {
     "name": "stderr",
     "output_type": "stream",
     "text": [
      "Uploading: 100%|██████████| 1/1 [00:00<00:00,  6.25it/s]\n",
      "Uploading:   0%|          | 0/1 [00:00<?, ?it/s]\n"
     ]
    },
    {
     "name": "stdout",
     "output_type": "stream",
     "text": [
      "Processing slice z= 52\n"
     ]
    },
    {
     "name": "stderr",
     "output_type": "stream",
     "text": [
      "Uploading:   0%|          | 0/1 [00:00<?, ?it/s]\n",
      "Uploading:   0%|          | 0/1 [00:00<?, ?it/s]\u001b[A\n",
      "Uploading:   0%|          | 0/1 [00:00<?, ?it/s]\u001b[A\n",
      "Uploading: 100%|██████████| 1/1 [00:00<00:00,  5.84it/s]\u001b[A\n",
      "Uploading:   0%|          | 0/1 [00:00<?, ?it/s]\n",
      "\n",
      "Uploading: 100%|██████████| 1/1 [00:00<00:00,  5.95it/s]\u001b[A\n",
      "Uploading:   0%|          | 0/1 [00:00<?, ?it/s]\n"
     ]
    },
    {
     "name": "stdout",
     "output_type": "stream",
     "text": [
      "Processing slice z= 53\n",
      "Processing slice z= 54\n"
     ]
    },
    {
     "name": "stderr",
     "output_type": "stream",
     "text": [
      "\n",
      "Uploading:   0%|          | 0/1 [00:00<?, ?it/s].96it/s]\u001b[A\n",
      "Uploading: 100%|██████████| 1/1 [00:00<00:00,  5.71it/s]\n",
      "\n",
      "Uploading:   0%|          | 0/1 [00:00<?, ?it/s]\u001b[A\n"
     ]
    },
    {
     "name": "stdout",
     "output_type": "stream",
     "text": [
      "Processing slice z= 55\n"
     ]
    },
    {
     "name": "stderr",
     "output_type": "stream",
     "text": [
      "\n",
      "Uploading: 100%|██████████| 1/1 [00:00<00:00,  6.66it/s]\u001b[A\n",
      "Uploading:   0%|          | 0/1 [00:00<?, ?it/s]\n",
      "Uploading:   0%|          | 0/1 [00:00<?, ?it/s]"
     ]
    },
    {
     "name": "stdout",
     "output_type": "stream",
     "text": [
      "Processing slice z= 56\n"
     ]
    },
    {
     "name": "stderr",
     "output_type": "stream",
     "text": [
      "\n",
      "Uploading:   0%|          | 0/1 [00:00<?, ?it/s]\u001b[A\n",
      "Uploading: 100%|██████████| 1/1 [00:00<00:00,  6.50it/s]\u001b[A\n",
      "Uploading:   0%|          | 0/1 [00:00<?, ?it/s]\n",
      "Uploading:   0%|          | 0/1 [00:00<?, ?it/s]\u001b[A\n",
      "\n",
      "Uploading: 100%|██████████| 1/1 [00:00<00:00,  6.10it/s]\u001b[A\n",
      "Uploading:   0%|          | 0/1 [00:00<?, ?it/s]\n"
     ]
    },
    {
     "name": "stdout",
     "output_type": "stream",
     "text": [
      "Processing slice z= 57\n",
      "success\n",
      "success\n",
      "success\n",
      "success\n",
      "success\n",
      "success\n",
      "success\n",
      "success\n",
      "success\n",
      "Processing slice z= 58\n"
     ]
    },
    {
     "name": "stderr",
     "output_type": "stream",
     "text": [
      "\n",
      "Uploading: 100%|██████████| 1/1 [00:00<00:00,  7.45it/s]\u001b[A\n",
      "Uploading:   0%|          | 0/1 [00:00<?, ?it/s].76it/s]\u001b[A\n",
      "Uploading: 100%|██████████| 1/1 [00:00<00:00,  6.97it/s]\n",
      "Uploading: 100%|██████████| 1/1 [00:00<00:00,  6.39it/s]\n",
      "\n",
      "Uploading:   0%|          | 0/1 [00:00<?, ?it/s]\u001b[A\n",
      "Uploading:   0%|          | 0/1 [00:00<?, ?it/s]\n"
     ]
    },
    {
     "name": "stdout",
     "output_type": "stream",
     "text": [
      "Processing slice z= 59\n",
      "Processing slice z= 60\n"
     ]
    },
    {
     "name": "stderr",
     "output_type": "stream",
     "text": [
      "Uploading:   0%|          | 0/1 [00:00<?, ?it/s]\n",
      "Uploading:   0%|          | 0/1 [00:00<?, ?it/s]\u001b[A\n",
      "Uploading:   0%|          | 0/1 [00:00<?, ?it/s]\u001b[A\n",
      "Uploading: 100%|██████████| 1/1 [00:00<00:00,  6.63it/s]\u001b[A\n",
      "\n",
      "Uploading: 100%|██████████| 1/1 [00:00<00:00,  6.61it/s]\u001b[A\n",
      "Uploading:   0%|          | 0/1 [00:00<?, ?it/s]\n",
      "Uploading:   0%|          | 0/1 [00:00<?, ?it/s]\n"
     ]
    },
    {
     "name": "stdout",
     "output_type": "stream",
     "text": [
      "Processing slice z= 61\n",
      "Processing slice z= 62\n"
     ]
    },
    {
     "name": "stderr",
     "output_type": "stream",
     "text": [
      "Uploading:   0%|          | 0/1 [00:00<?, ?it/s]\n",
      "Uploading:   0%|          | 0/1 [00:00<?, ?it/s]\u001b[A\n",
      "Uploading:   0%|          | 0/1 [00:00<?, ?it/s]\u001b[A\n",
      "Uploading: 100%|██████████| 1/1 [00:00<00:00,  6.41it/s]\u001b[A\n",
      "Uploading:   0%|          | 0/1 [00:00<?, ?it/s]\n",
      "\n",
      "Uploading: 100%|██████████| 1/1 [00:00<00:00,  6.56it/s]\u001b[A"
     ]
    },
    {
     "name": "stdout",
     "output_type": "stream",
     "text": [
      "Processing slice z= 63\n"
     ]
    },
    {
     "name": "stderr",
     "output_type": "stream",
     "text": [
      "Uploading: 100%|██████████| 1/1 [00:00<00:00,  6.43it/s]\n",
      "Uploading:   0%|          | 0/1 [00:00<?, ?it/s]\n",
      "Uploading:   0%|          | 0/1 [00:00<?, ?it/s]\n",
      "Uploading:   0%|          | 0/1 [00:00<?, ?it/s]\u001b[A"
     ]
    },
    {
     "name": "stdout",
     "output_type": "stream",
     "text": [
      "Processing slice z= 64\n"
     ]
    },
    {
     "name": "stderr",
     "output_type": "stream",
     "text": [
      "Uploading:   0%|          | 0/1 [00:00<?, ?it/s]\n",
      "Uploading:   0%|          | 0/1 [00:00<?, ?it/s]\u001b[A\n",
      "Uploading: 100%|██████████| 1/1 [00:00<00:00,  6.38it/s]\u001b[A\n",
      "Uploading:   0%|          | 0/1 [00:00<?, ?it/s]\n",
      "\n",
      "Uploading: 100%|██████████| 1/1 [00:00<00:00,  6.33it/s]\u001b[A\n",
      "Uploading:   0%|          | 0/1 [00:00<?, ?it/s]\n"
     ]
    },
    {
     "name": "stdout",
     "output_type": "stream",
     "text": [
      "Processing slice z= 65\n"
     ]
    },
    {
     "name": "stderr",
     "output_type": "stream",
     "text": [
      "\n"
     ]
    },
    {
     "name": "stdout",
     "output_type": "stream",
     "text": [
      "Processing slice z= 66\n"
     ]
    },
    {
     "name": "stderr",
     "output_type": "stream",
     "text": [
      "Uploading: 100%|██████████| 1/1 [00:00<00:00,  7.57it/s]\u001b[A"
     ]
    },
    {
     "name": "stdout",
     "output_type": "stream",
     "text": [
      "success\n",
      "success\n",
      "success\n",
      "success\n",
      "success\n",
      "success\n",
      "success\n",
      "success\n",
      "success\n"
     ]
    },
    {
     "name": "stderr",
     "output_type": "stream",
     "text": [
      "Uploading: 100%|██████████| 1/1 [00:00<00:00,  6.76it/s]\n",
      "Uploading:   0%|          | 0/1 [00:00<?, ?it/s]\n",
      "Uploading:   0%|          | 0/1 [00:00<?, ?it/s].93it/s]\u001b[A\n",
      "Uploading:   0%|          | 0/1 [00:00<?, ?it/s]\n",
      "Uploading:   0%|          | 0/1 [00:00<?, ?it/s]\u001b[A\n",
      "Uploading: 100%|██████████| 1/1 [00:00<00:00,  6.01it/s]\n",
      "Uploading:   0%|          | 0/1 [00:00<?, ?it/s]"
     ]
    },
    {
     "name": "stdout",
     "output_type": "stream",
     "text": [
      "Processing slice z= 67\n"
     ]
    },
    {
     "name": "stderr",
     "output_type": "stream",
     "text": [
      "\n"
     ]
    },
    {
     "name": "stdout",
     "output_type": "stream",
     "text": [
      "Processing slice z= 68\n"
     ]
    },
    {
     "name": "stderr",
     "output_type": "stream",
     "text": [
      "Uploading:   0%|          | 0/1 [00:00<?, ?it/s]\n",
      "Uploading:   0%|          | 0/1 [00:00<?, ?it/s]\u001b[A\n",
      "Uploading: 100%|██████████| 1/1 [00:00<00:00,  7.31it/s]\u001b[A\n",
      "Uploading: 100%|██████████| 1/1 [00:00<00:00,  7.00it/s]\u001b[A\n",
      "\n",
      "Uploading:   0%|          | 0/1 [00:00<?, ?it/s]\u001b[A\n",
      "Uploading: 100%|██████████| 1/1 [00:00<00:00,  6.33it/s]\n",
      "\n",
      "Uploading:   0%|          | 0/1 [00:00<?, ?it/s].82it/s]\u001b[A\n"
     ]
    },
    {
     "name": "stdout",
     "output_type": "stream",
     "text": [
      "Processing slice z= 69\n"
     ]
    },
    {
     "name": "stderr",
     "output_type": "stream",
     "text": [
      "Uploading: 100%|██████████| 1/1 [00:00<00:00,  7.52it/s]\n",
      "Uploading:   0%|          | 0/1 [00:00<?, ?it/s]\n"
     ]
    },
    {
     "name": "stdout",
     "output_type": "stream",
     "text": [
      "Processing slice z= 70\n"
     ]
    },
    {
     "name": "stderr",
     "output_type": "stream",
     "text": [
      "\n",
      "Uploading:   0%|          | 0/1 [00:00<?, ?it/s]\u001b[A"
     ]
    },
    {
     "name": "stdout",
     "output_type": "stream",
     "text": [
      "Processing slice z= 71\n"
     ]
    },
    {
     "name": "stderr",
     "output_type": "stream",
     "text": [
      "Uploading:   0%|          | 0/1 [00:00<?, ?it/s]\n",
      "Uploading:   0%|          | 0/1 [00:00<?, ?it/s].36it/s]\u001b[A\n",
      "Uploading:   0%|          | 0/1 [00:00<?, ?it/s]\u001b[A\n",
      "Uploading: 100%|██████████| 1/1 [00:00<00:00,  6.68it/s]\n",
      "Uploading:   0%|          | 0/1 [00:00<?, ?it/s]\n"
     ]
    },
    {
     "name": "stdout",
     "output_type": "stream",
     "text": [
      "Processing slice z= 72\n"
     ]
    },
    {
     "name": "stderr",
     "output_type": "stream",
     "text": [
      "Uploading:   0%|          | 0/1 [00:00<?, ?it/s]\n",
      "Uploading:   0%|          | 0/1 [00:00<?, ?it/s]\u001b[A\n",
      "Uploading: 100%|██████████| 1/1 [00:00<00:00,  7.66it/s]\u001b[A\n",
      "Uploading:   0%|          | 0/1 [00:00<?, ?it/s]\n",
      "\n",
      "Uploading: 100%|██████████| 1/1 [00:00<00:00,  7.27it/s]\u001b[A\n",
      "Uploading:   0%|          | 0/1 [00:00<?, ?it/s]\n"
     ]
    },
    {
     "name": "stdout",
     "output_type": "stream",
     "text": [
      "Processing slice z= 73\n",
      "Processing slice z= 74\n"
     ]
    },
    {
     "name": "stderr",
     "output_type": "stream",
     "text": [
      "\n",
      "Uploading: 100%|██████████| 1/1 [00:00<00:00,  7.48it/s]\u001b[A\n",
      "Uploading: 100%|██████████| 1/1 [00:00<00:00,  7.28it/s]\n",
      "Uploading:   0%|          | 0/1 [00:00<?, ?it/s]\n",
      "Uploading:   0%|          | 0/1 [00:00<?, ?it/s]\n",
      "Uploading:   0%|          | 0/1 [00:00<?, ?it/s]\u001b[A"
     ]
    },
    {
     "name": "stdout",
     "output_type": "stream",
     "text": [
      "Processing slice z= 75\n"
     ]
    },
    {
     "name": "stderr",
     "output_type": "stream",
     "text": [
      "\n",
      "Uploading: 100%|██████████| 1/1 [00:00<00:00,  7.04it/s]\u001b[A\n",
      "Uploading:   0%|          | 0/1 [00:00<?, ?it/s]\n",
      "\n",
      "Uploading: 100%|██████████| 1/1 [00:00<00:00,  7.69it/s]\u001b[A\n",
      "Uploading: 100%|██████████| 1/1 [00:00<00:00,  7.32it/s]\n",
      "Uploading:   0%|          | 0/1 [00:00<?, ?it/s]\n",
      "\n"
     ]
    },
    {
     "name": "stdout",
     "output_type": "stream",
     "text": [
      "success\n",
      "success\n",
      "success\n",
      "success\n",
      "success\n",
      "success\n",
      "success\n",
      "success\n",
      "success\n"
     ]
    },
    {
     "name": "stderr",
     "output_type": "stream",
     "text": [
      "Uploading: 100%|██████████| 1/1 [00:00<00:00,  7.91it/s]\u001b[A"
     ]
    },
    {
     "name": "stdout",
     "output_type": "stream",
     "text": [
      "Processing slice z= 76\n"
     ]
    },
    {
     "name": "stderr",
     "output_type": "stream",
     "text": [
      "Uploading: 100%|██████████| 1/1 [00:00<00:00,  7.77it/s]\n"
     ]
    },
    {
     "name": "stdout",
     "output_type": "stream",
     "text": [
      "Processing slice z= 77\n"
     ]
    },
    {
     "name": "stderr",
     "output_type": "stream",
     "text": [
      "\n",
      "Uploading: 100%|██████████| 1/1 [00:00<00:00,  7.10it/s]\u001b[A\n",
      "Uploading:   0%|          | 0/1 [00:00<?, ?it/s]\n",
      "Uploading:   0%|          | 0/1 [00:00<?, ?it/s]\n",
      "Uploading: 100%|██████████| 1/1 [00:00<00:00,  9.12it/s]\u001b[A\n",
      "Uploading:   0%|          | 0/1 [00:00<?, ?it/s]\u001b[A\n",
      "Uploading:   0%|          | 0/1 [00:00<?, ?it/s]\u001b[A\n",
      "Uploading: 100%|██████████| 1/1 [00:00<00:00,  8.43it/s]\n"
     ]
    },
    {
     "name": "stdout",
     "output_type": "stream",
     "text": [
      "Processing slice z= 78\n"
     ]
    },
    {
     "name": "stderr",
     "output_type": "stream",
     "text": [
      "Uploading:   0%|          | 0/1 [00:00<?, ?it/s]\n",
      "Uploading:   0%|          | 0/1 [00:00<?, ?it/s]"
     ]
    },
    {
     "name": "stdout",
     "output_type": "stream",
     "text": [
      "Processing slice z= 79\n",
      "Processing slice z= 80\n"
     ]
    },
    {
     "name": "stderr",
     "output_type": "stream",
     "text": [
      "\n",
      "Uploading: 100%|██████████| 1/1 [00:00<00:00,  8.20it/s]\u001b[A\n",
      "\n",
      "Uploading:   0%|          | 0/1 [00:00<?, ?it/s]\u001b[A\n",
      "Uploading:   0%|          | 0/1 [00:00<?, ?it/s]\u001b[A\n",
      "Uploading:   0%|          | 0/1 [00:00<?, ?it/s]\u001b[A\n"
     ]
    },
    {
     "name": "stdout",
     "output_type": "stream",
     "text": [
      "Processing slice z= 81\n"
     ]
    },
    {
     "name": "stderr",
     "output_type": "stream",
     "text": [
      "\n",
      "Uploading: 100%|██████████| 1/1 [00:00<00:00,  6.63it/s]\u001b[A\n",
      "Uploading:   0%|          | 0/1 [00:00<?, ?it/s]\n",
      "\n",
      "Uploading:   0%|          | 0/1 [00:00<?, ?it/s]\u001b[A\n",
      "Uploading: 100%|██████████| 1/1 [00:00<00:00,  7.59it/s]\u001b[A\n",
      "Uploading:   0%|          | 0/1 [00:00<?, ?it/s]"
     ]
    },
    {
     "name": "stdout",
     "output_type": "stream",
     "text": [
      "Processing slice z= 82\n"
     ]
    },
    {
     "name": "stderr",
     "output_type": "stream",
     "text": [
      "\n",
      "Uploading:   0%|          | 0/1 [00:00<?, ?it/s]"
     ]
    },
    {
     "name": "stdout",
     "output_type": "stream",
     "text": [
      "Processing slice z= 83\n"
     ]
    },
    {
     "name": "stderr",
     "output_type": "stream",
     "text": [
      "\n",
      "Uploading:   0%|          | 0/1 [00:00<?, ?it/s]\u001b[A\n",
      "Uploading:   0%|          | 0/1 [00:00<?, ?it/s]\u001b[A\n",
      "Uploading: 100%|██████████| 1/1 [00:00<00:00,  7.41it/s]\u001b[A\n",
      "Uploading:   0%|          | 0/1 [00:00<?, ?it/s]\n",
      "\n",
      "Uploading: 100%|██████████| 1/1 [00:00<00:00,  7.08it/s]\u001b[A\n",
      "Uploading:   0%|          | 0/1 [00:00<?, ?it/s]\n"
     ]
    },
    {
     "name": "stdout",
     "output_type": "stream",
     "text": [
      "Processing slice z= 84\n",
      "Processing slice z= 85\n"
     ]
    },
    {
     "name": "stderr",
     "output_type": "stream",
     "text": [
      "\n",
      "Uploading: 100%|██████████| 1/1 [00:00<00:00,  9.82it/s]\u001b[A\n",
      "Uploading: 100%|██████████| 1/1 [00:00<00:00,  8.99it/s]\u001b[A\n",
      "Uploading:   0%|          | 0/1 [00:00<?, ?it/s].06it/s]\u001b[A"
     ]
    },
    {
     "name": "stdout",
     "output_type": "stream",
     "text": [
      "success\n",
      "success\n",
      "success\n",
      "success\n",
      "success\n",
      "success\n",
      "success\n",
      "success\n",
      "success\n",
      "success\n"
     ]
    },
    {
     "name": "stderr",
     "output_type": "stream",
     "text": [
      "Uploading: 100%|██████████| 1/1 [00:00<00:00,  8.54it/s]\n",
      "\n",
      "Uploading: 100%|██████████| 1/1 [00:00<00:00,  7.89it/s]\n",
      "Uploading: 100%|██████████| 1/1 [00:00<00:00,  7.91it/s]\n",
      "\n",
      "Uploading:   0%|          | 0/1 [00:00<?, ?it/s]\u001b[A\n",
      "Uploading:   0%|          | 0/1 [00:00<?, ?it/s]\n",
      "Uploading:   0%|          | 0/1 [00:00<?, ?it/s]\n"
     ]
    },
    {
     "name": "stdout",
     "output_type": "stream",
     "text": [
      "Processing slice z= 86\n",
      "Processing slice z= 88\n",
      "Processing slice z= 87\n"
     ]
    },
    {
     "name": "stderr",
     "output_type": "stream",
     "text": [
      "Uploading:   0%|          | 0/1 [00:00<?, ?it/s]\n",
      "Uploading: 100%|██████████| 1/1 [00:00<00:00,  9.18it/s]\u001b[A\n",
      "Uploading:   0%|          | 0/1 [00:00<?, ?it/s]\u001b[A\n",
      "Uploading: 100%|██████████| 1/1 [00:00<00:00,  7.40it/s]\n",
      "\n",
      "Uploading: 100%|██████████| 1/1 [00:00<00:00,  8.68it/s]\n",
      "Uploading:   0%|          | 0/1 [00:00<?, ?it/s]\n",
      "Uploading:   0%|          | 0/1 [00:00<?, ?it/s].35it/s]\n",
      "Uploading: 100%|██████████| 1/1 [00:00<00:00,  9.00it/s]\n",
      "Uploading:   0%|          | 0/1 [00:00<?, ?it/s]\n"
     ]
    },
    {
     "name": "stdout",
     "output_type": "stream",
     "text": [
      "Processing slice z= 89\n",
      "Processing slice z= 90\n",
      "Processing slice z= 91\n"
     ]
    },
    {
     "name": "stderr",
     "output_type": "stream",
     "text": [
      "Uploading:   0%|          | 0/1 [00:00<?, ?it/s]\n",
      "Uploading:   0%|          | 0/1 [00:00<?, ?it/s]\u001b[A\n",
      "Uploading: 100%|██████████| 1/1 [00:00<00:00,  9.99it/s]\n",
      "Uploading:   0%|          | 0/1 [00:00<?, ?it/s]\n",
      "Uploading:   0%|          | 0/1 [00:00<?, ?it/s]\u001b[A\n",
      "\n",
      "Uploading: 100%|██████████| 1/1 [00:00<00:00,  8.68it/s]"
     ]
    },
    {
     "name": "stdout",
     "output_type": "stream",
     "text": [
      "Processing slice z= 92\n"
     ]
    },
    {
     "name": "stderr",
     "output_type": "stream",
     "text": [
      "Uploading: 100%|██████████| 1/1 [00:00<00:00,  8.49it/s]\n",
      "Uploading:   0%|          | 0/1 [00:00<?, ?it/s]\n",
      "Uploading:   0%|          | 0/1 [00:00<?, ?it/s]\n",
      "Uploading: 100%|██████████| 1/1 [00:00<00:00, 10.41it/s]\n"
     ]
    },
    {
     "name": "stdout",
     "output_type": "stream",
     "text": [
      "Processing slice z= 93\n"
     ]
    },
    {
     "name": "stderr",
     "output_type": "stream",
     "text": [
      "Uploading: 100%|██████████| 1/1 [00:00<00:00, 10.35it/s]\n",
      "Uploading:   0%|          | 0/1 [00:00<?, ?it/s]\n",
      "Uploading:   0%|          | 0/1 [00:00<?, ?it/s]\n",
      "Uploading:   0%|          | 0/1 [00:00<?, ?it/s]"
     ]
    },
    {
     "name": "stdout",
     "output_type": "stream",
     "text": [
      "Processing slice z= 94\n"
     ]
    },
    {
     "name": "stderr",
     "output_type": "stream",
     "text": [
      "\n"
     ]
    },
    {
     "name": "stdout",
     "output_type": "stream",
     "text": [
      "Processing slice z= 95\n"
     ]
    },
    {
     "name": "stderr",
     "output_type": "stream",
     "text": [
      "Uploading:   0%|          | 0/1 [00:00<?, ?it/s]\u001b[A\n",
      "Uploading: 100%|██████████| 1/1 [00:00<00:00,  8.49it/s]\u001b[A\n",
      "Uploading:   0%|          | 0/1 [00:00<?, ?it/s]\n",
      "\n",
      "Uploading:   0%|          | 0/1 [00:00<?, ?it/s]\u001b[A\n",
      "Uploading:   0%|          | 0/1 [00:00<?, ?it/s]\u001b[A"
     ]
    },
    {
     "name": "stdout",
     "output_type": "stream",
     "text": [
      "Processing slice z= 96\n"
     ]
    },
    {
     "name": "stderr",
     "output_type": "stream",
     "text": [
      "Uploading: 100%|██████████| 1/1 [00:00<00:00, 10.30it/s]\n",
      "Uploading:   0%|          | 0/1 [00:00<?, ?it/s]\n",
      "Uploading:   0%|          | 0/1 [00:00<?, ?it/s]\u001b[A\n",
      "Uploading: 100%|██████████| 1/1 [00:00<00:00, 10.23it/s]\n",
      "Uploading:   0%|          | 0/1 [00:00<?, ?it/s]\n",
      "Uploading: 100%|██████████| 1/1 [00:00<00:00, 11.02it/s]\n",
      "Uploading:   0%|          | 0/1 [00:00<?, ?it/s]\n"
     ]
    },
    {
     "name": "stdout",
     "output_type": "stream",
     "text": [
      "Processing slice z= 97\n",
      "Processing slice z= 98\n",
      "Processing slice z= 99\n",
      "success\n",
      "success\n",
      "success\n",
      "success\n",
      "success\n",
      "success\n",
      "success\n",
      "success\n",
      "success\n",
      "success\n",
      "success\n",
      "success\n",
      "success\n",
      "success\n"
     ]
    },
    {
     "name": "stderr",
     "output_type": "stream",
     "text": [
      "Uploading:   0%|          | 0/1 [00:00<?, ?it/s]\n",
      "Uploading:   0%|          | 0/1 [00:00<?, ?it/s]\u001b[A\n",
      "Uploading: 100%|██████████| 1/1 [00:00<00:00, 10.13it/s]\n",
      "\n",
      "Uploading:   0%|          | 0/1 [00:00<?, ?it/s]\u001b[A\n",
      "Uploading: 100%|██████████| 1/1 [00:00<00:00, 10.96it/s]\n",
      "Uploading:   0%|          | 0/1 [00:00<?, ?it/s]\n"
     ]
    },
    {
     "name": "stdout",
     "output_type": "stream",
     "text": [
      "Processing slice z= 100\n",
      "Processing slice z= 101\n"
     ]
    },
    {
     "name": "stderr",
     "output_type": "stream",
     "text": [
      "Uploading: 100%|██████████| 1/1 [00:00<00:00, 10.76it/s]\n",
      "\n",
      "Uploading:   0%|          | 0/1 [00:00<?, ?it/s]\u001b[A\n",
      "Uploading: 100%|██████████| 1/1 [00:00<00:00,  9.75it/s]\n",
      "Uploading:   0%|          | 0/1 [00:00<?, ?it/s]\n",
      "\n",
      "Uploading: 100%|██████████| 1/1 [00:00<00:00, 11.72it/s]\n",
      "Uploading:   0%|          | 0/1 [00:00<?, ?it/s]\n"
     ]
    },
    {
     "name": "stdout",
     "output_type": "stream",
     "text": [
      "Processing slice z= 102\n",
      "Processing slice z= 103\n",
      "Processing slice z= 104\n"
     ]
    },
    {
     "name": "stderr",
     "output_type": "stream",
     "text": [
      "Uploading:   0%|          | 0/1 [00:00<?, ?it/s]\n",
      "Uploading:   0%|          | 0/1 [00:00<?, ?it/s]\u001b[A\n",
      "Uploading:   0%|          | 0/1 [00:00<?, ?it/s]\u001b[A\n",
      "Uploading: 100%|██████████| 1/1 [00:00<00:00, 10.67it/s]\n",
      "Uploading:   0%|          | 0/1 [00:00<?, ?it/s]\n",
      "Uploading: 100%|██████████| 1/1 [00:00<00:00, 10.14it/s]\n",
      "Uploading: 100%|██████████| 1/1 [00:00<00:00, 10.80it/s]\n",
      "Uploading:   0%|          | 0/1 [00:00<?, ?it/s]\n",
      "Uploading:   0%|          | 0/1 [00:00<?, ?it/s]\n"
     ]
    },
    {
     "name": "stdout",
     "output_type": "stream",
     "text": [
      "Processing slice z= 105\n",
      "Processing slice z= 106\n",
      "Processing slice z= 107\n"
     ]
    },
    {
     "name": "stderr",
     "output_type": "stream",
     "text": [
      "Uploading: 100%|██████████| 1/1 [00:00<00:00, 11.34it/s]\n",
      "Uploading:   0%|          | 0/1 [00:00<?, ?it/s]\n",
      "Uploading:   0%|          | 0/1 [00:00<?, ?it/s]\n",
      "Uploading:   0%|          | 0/1 [00:00<?, ?it/s]\u001b[A\n",
      "Uploading:   0%|          | 0/1 [00:00<?, ?it/s]\u001b[A\n",
      "Uploading: 100%|██████████| 1/1 [00:00<00:00, 11.25it/s]"
     ]
    },
    {
     "name": "stdout",
     "output_type": "stream",
     "text": [
      "Processing slice z= 108\n"
     ]
    },
    {
     "name": "stderr",
     "output_type": "stream",
     "text": [
      "\n",
      "Uploading:   0%|          | 0/1 [00:00<?, ?it/s]\n",
      "Uploading:   0%|          | 0/1 [00:00<?, ?it/s]\n",
      "Uploading:   0%|          | 0/1 [00:00<?, ?it/s]\u001b[A"
     ]
    },
    {
     "name": "stdout",
     "output_type": "stream",
     "text": [
      "Processing slice z= 109\n"
     ]
    },
    {
     "name": "stderr",
     "output_type": "stream",
     "text": [
      "Uploading: 100%|██████████| 1/1 [00:00<00:00, 12.67it/s]\n",
      "Uploading: 100%|██████████| 1/1 [00:00<00:00, 10.55it/s]\n",
      "Uploading: 100%|██████████| 1/1 [00:00<00:00, 11.10it/s]\n",
      "Uploading:   0%|          | 0/1 [00:00<?, ?it/s]\n",
      "Uploading:   0%|          | 0/1 [00:00<?, ?it/s]\n",
      "Uploading:   0%|          | 0/1 [00:00<?, ?it/s]\n",
      "\n",
      "Uploading:   0%|          | 0/1 [00:00<?, ?it/s]\u001b[A"
     ]
    },
    {
     "name": "stdout",
     "output_type": "stream",
     "text": [
      "Processing slice z= 110\n",
      "Processing slice z= 111\n",
      "Processing slice z= 112\n"
     ]
    },
    {
     "name": "stderr",
     "output_type": "stream",
     "text": [
      "Uploading:   0%|          | 0/1 [00:00<?, ?it/s]\n",
      "Uploading:   0%|          | 0/1 [00:00<?, ?it/s]\u001b[A\n",
      "Uploading:   0%|          | 0/1 [00:00<?, ?it/s]\u001b[A\n",
      "Uploading: 100%|██████████| 1/1 [00:00<00:00, 11.27it/s]\n",
      "Uploading: 100%|██████████| 1/1 [00:00<00:00, 11.72it/s]\n"
     ]
    },
    {
     "name": "stdout",
     "output_type": "stream",
     "text": [
      "success\n",
      "success\n",
      "success\n",
      "success\n",
      "success\n",
      "success\n",
      "success\n",
      "success\n",
      "success\n",
      "success\n",
      "success\n",
      "success\n",
      "success\n"
     ]
    },
    {
     "name": "stderr",
     "output_type": "stream",
     "text": [
      "Uploading:   0%|          | 0/1 [00:00<?, ?it/s]\n",
      "Uploading:   0%|          | 0/1 [00:00<?, ?it/s]\n",
      "Uploading: 100%|██████████| 1/1 [00:00<00:00, 10.63it/s]\n",
      "Uploading:   0%|          | 0/1 [00:00<?, ?it/s]"
     ]
    },
    {
     "name": "stdout",
     "output_type": "stream",
     "text": [
      "Processing slice z= 113\n"
     ]
    },
    {
     "name": "stderr",
     "output_type": "stream",
     "text": [
      "\n"
     ]
    },
    {
     "name": "stdout",
     "output_type": "stream",
     "text": [
      "Processing slice z= 114\n",
      "Processing slice z= 115\n"
     ]
    },
    {
     "name": "stderr",
     "output_type": "stream",
     "text": [
      "Uploading: 100%|██████████| 1/1 [00:00<00:00, 11.22it/s]\n",
      "Uploading:   0%|          | 0/1 [00:00<?, ?it/s]\n",
      "Uploading:   0%|          | 0/1 [00:00<?, ?it/s]\u001b[A\n",
      "Uploading:   0%|          | 0/1 [00:00<?, ?it/s]\u001b[A\n",
      "\n",
      "Uploading: 100%|██████████| 1/1 [00:00<00:00, 12.04it/s]\n"
     ]
    },
    {
     "name": "stdout",
     "output_type": "stream",
     "text": [
      "Processing slice z= 116\n"
     ]
    },
    {
     "name": "stderr",
     "output_type": "stream",
     "text": [
      "Uploading:   0%|          | 0/1 [00:00<?, ?it/s]\n",
      "Uploading: 100%|██████████| 1/1 [00:00<00:00, 12.93it/s]\n"
     ]
    },
    {
     "name": "stdout",
     "output_type": "stream",
     "text": [
      "Processing slice z= 117\n"
     ]
    },
    {
     "name": "stderr",
     "output_type": "stream",
     "text": [
      "Uploading:   0%|          | 0/1 [00:00<?, ?it/s]\n",
      "\n",
      "Uploading:   0%|          | 0/1 [00:00<?, ?it/s]\u001b[A"
     ]
    },
    {
     "name": "stdout",
     "output_type": "stream",
     "text": [
      "Processing slice z= 118\n"
     ]
    },
    {
     "name": "stderr",
     "output_type": "stream",
     "text": [
      "Uploading: 100%|██████████| 1/1 [00:00<00:00, 10.76it/s]\n",
      "Uploading: 100%|██████████| 1/1 [00:00<00:00, 11.11it/s]\n",
      "Uploading:   0%|          | 0/1 [00:00<?, ?it/s]\n",
      "Uploading:   0%|          | 0/1 [00:00<?, ?it/s]\n",
      "\n",
      "Uploading:   0%|          | 0/1 [00:00<?, ?it/s]\u001b[A\n",
      "Uploading:   0%|          | 0/1 [00:00<?, ?it/s]\u001b[A"
     ]
    },
    {
     "name": "stdout",
     "output_type": "stream",
     "text": [
      "Processing slice z= 119\n",
      "Processing slice z= 120\n"
     ]
    },
    {
     "name": "stderr",
     "output_type": "stream",
     "text": [
      "Uploading: 100%|██████████| 1/1 [00:00<00:00, 12.16it/s]\n",
      "Uploading: 100%|██████████| 1/1 [00:00<00:00, 12.41it/s]\n",
      "Uploading:   0%|          | 0/1 [00:00<?, ?it/s]\n",
      "Uploading:   0%|          | 0/1 [00:00<?, ?it/s]\u001b[A\n",
      "Uploading:   0%|          | 0/1 [00:00<?, ?it/s]\u001b[A\n",
      "Uploading: 100%|██████████| 1/1 [00:00<00:00, 11.70it/s]\n",
      "Uploading:   0%|          | 0/1 [00:00<?, ?it/s]"
     ]
    },
    {
     "name": "stdout",
     "output_type": "stream",
     "text": [
      "Processing slice z= 121\n"
     ]
    },
    {
     "name": "stderr",
     "output_type": "stream",
     "text": [
      "\n",
      "Uploading:   0%|          | 0/1 [00:00<?, ?it/s]\n"
     ]
    },
    {
     "name": "stdout",
     "output_type": "stream",
     "text": [
      "Processing slice z= 123\n"
     ]
    },
    {
     "name": "stderr",
     "output_type": "stream",
     "text": [
      "\n"
     ]
    },
    {
     "name": "stdout",
     "output_type": "stream",
     "text": [
      "Processing slice z= 122\n"
     ]
    },
    {
     "name": "stderr",
     "output_type": "stream",
     "text": [
      "Uploading: 100%|██████████| 1/1 [00:00<00:00, 11.12it/s]\n",
      "Uploading:   0%|          | 0/1 [00:00<?, ?it/s]\n",
      "Uploading: 100%|██████████| 1/1 [00:00<00:00, 13.85it/s]\n",
      "\n",
      "Uploading:   0%|          | 0/1 [00:00<?, ?it/s]\u001b[A\n"
     ]
    },
    {
     "name": "stdout",
     "output_type": "stream",
     "text": [
      "Processing slice z= 124\n"
     ]
    },
    {
     "name": "stderr",
     "output_type": "stream",
     "text": [
      "Uploading:   0%|          | 0/1 [00:00<?, ?it/s]\u001b[A\n"
     ]
    },
    {
     "name": "stdout",
     "output_type": "stream",
     "text": [
      "Processing slice z= 125\n"
     ]
    },
    {
     "name": "stderr",
     "output_type": "stream",
     "text": [
      "Uploading: 100%|██████████| 1/1 [00:00<00:00, 12.47it/s]\n",
      "Uploading:   0%|          | 0/1 [00:00<?, ?it/s]\n",
      "Uploading:   0%|          | 0/1 [00:00<?, ?it/s]\n",
      "Uploading:   0%|          | 0/1 [00:00<?, ?it/s]\u001b[A"
     ]
    },
    {
     "name": "stdout",
     "output_type": "stream",
     "text": [
      "Processing slice z= 126\n"
     ]
    },
    {
     "name": "stderr",
     "output_type": "stream",
     "text": [
      "Uploading:   0%|          | 0/1 [00:00<?, ?it/s]\n",
      "Uploading: 100%|██████████| 1/1 [00:00<00:00, 12.46it/s]\n",
      "Uploading: 100%|██████████| 1/1 [00:00<00:00, 12.45it/s]\n",
      "Uploading:   0%|          | 0/1 [00:00<?, ?it/s]\n",
      "Uploading:   0%|          | 0/1 [00:00<?, ?it/s]\n",
      "Uploading:   0%|          | 0/1 [00:00<?, ?it/s]\n",
      "Uploading:   0%|          | 0/1 [00:00<?, ?it/s]\u001b[A"
     ]
    },
    {
     "name": "stdout",
     "output_type": "stream",
     "text": [
      "success\n",
      "success\n",
      "success\n",
      "success\n",
      "success\n",
      "success\n",
      "success\n",
      "success\n",
      "success\n",
      "success\n",
      "success\n",
      "success\n",
      "success\n",
      "success\n",
      "success\n",
      "success\n",
      "Processing slice z= 127\n",
      "Processing slice z= 128\n"
     ]
    },
    {
     "name": "stderr",
     "output_type": "stream",
     "text": [
      "Uploading: 100%|██████████| 1/1 [00:00<00:00, 14.15it/s]\n",
      "Uploading:   0%|          | 0/1 [00:00<?, ?it/s]\n",
      "Uploading:   0%|          | 0/1 [00:00<?, ?it/s]\n",
      "Uploading:   0%|          | 0/1 [00:00<?, ?it/s]\u001b[A\n",
      "Uploading: 100%|██████████| 1/1 [00:00<00:00, 14.42it/s]\n",
      "Uploading:   0%|          | 0/1 [00:00<?, ?it/s]\n"
     ]
    },
    {
     "name": "stdout",
     "output_type": "stream",
     "text": [
      "Processing slice z= 129\n"
     ]
    },
    {
     "name": "stderr",
     "output_type": "stream",
     "text": [
      "Uploading: 100%|██████████| 1/1 [00:00<00:00, 12.52it/s]\n",
      "Uploading:   0%|          | 0/1 [00:00<?, ?it/s]\n",
      "Uploading:   0%|          | 0/1 [00:00<?, ?it/s]"
     ]
    },
    {
     "name": "stdout",
     "output_type": "stream",
     "text": [
      "Processing slice z= 130\n"
     ]
    },
    {
     "name": "stderr",
     "output_type": "stream",
     "text": [
      "\n",
      "Uploading: 100%|██████████| 1/1 [00:00<00:00, 14.49it/s]"
     ]
    },
    {
     "name": "stdout",
     "output_type": "stream",
     "text": [
      "Processing slice z= 131\n"
     ]
    },
    {
     "name": "stderr",
     "output_type": "stream",
     "text": [
      "\n",
      "Uploading:   0%|          | 0/1 [00:00<?, ?it/s]\n"
     ]
    },
    {
     "name": "stdout",
     "output_type": "stream",
     "text": [
      "Processing slice z= 132\n"
     ]
    },
    {
     "name": "stderr",
     "output_type": "stream",
     "text": [
      "Uploading: 100%|██████████| 1/1 [00:00<00:00, 12.48it/s]\n",
      "Uploading:   0%|          | 0/1 [00:00<?, ?it/s]\n",
      "Uploading:   0%|          | 0/1 [00:00<?, ?it/s]\n",
      "Uploading:   0%|          | 0/1 [00:00<?, ?it/s]\u001b[A\n",
      "Uploading:   0%|          | 0/1 [00:00<?, ?it/s]\u001b[A\n",
      "Uploading:   0%|          | 0/1 [00:00<?, ?it/s]\u001b[A"
     ]
    },
    {
     "name": "stdout",
     "output_type": "stream",
     "text": [
      "Processing slice z= 133\n"
     ]
    },
    {
     "name": "stderr",
     "output_type": "stream",
     "text": [
      "Uploading: 100%|██████████| 1/1 [00:00<00:00, 10.67it/s]\n",
      "Uploading:   0%|          | 0/1 [00:00<?, ?it/s]\n",
      "\n",
      "Uploading: 100%|██████████| 1/1 [00:00<00:00, 13.00it/s]\n",
      "Uploading: 100%|██████████| 1/1 [00:00<00:00, 13.20it/s]\n",
      "Uploading:   0%|          | 0/1 [00:00<?, ?it/s]\n",
      "Uploading:   0%|          | 0/1 [00:00<?, ?it/s]\n"
     ]
    },
    {
     "name": "stdout",
     "output_type": "stream",
     "text": [
      "Processing slice z= 134\n"
     ]
    },
    {
     "name": "stderr",
     "output_type": "stream",
     "text": [
      "Uploading: 100%|██████████| 1/1 [00:00<00:00, 15.27it/s]\n"
     ]
    },
    {
     "name": "stdout",
     "output_type": "stream",
     "text": [
      "Processing slice z= 136\n",
      "Processing slice z= 135\n"
     ]
    },
    {
     "name": "stderr",
     "output_type": "stream",
     "text": [
      "Uploading:   0%|          | 0/1 [00:00<?, ?it/s]\n",
      "Uploading:   0%|          | 0/1 [00:00<?, ?it/s]\n",
      "Uploading:   0%|          | 0/1 [00:00<?, ?it/s]\u001b[A\n",
      "Uploading:   0%|          | 0/1 [00:00<?, ?it/s]\u001b[A\n",
      "Uploading:   0%|          | 0/1 [00:00<?, ?it/s]\u001b[A"
     ]
    },
    {
     "name": "stdout",
     "output_type": "stream",
     "text": [
      "Processing slice z= 137\n"
     ]
    },
    {
     "name": "stderr",
     "output_type": "stream",
     "text": [
      "Uploading: 100%|██████████| 1/1 [00:00<00:00, 14.96it/s]\n",
      "Uploading: 100%|██████████| 1/1 [00:00<00:00, 12.76it/s]\n",
      "Uploading: 100%|██████████| 1/1 [00:00<00:00, 12.87it/s]\n",
      "Uploading:   0%|          | 0/1 [00:00<?, ?it/s]\n",
      "Uploading:   0%|          | 0/1 [00:00<?, ?it/s]\u001b[A\n",
      "Uploading:   0%|          | 0/1 [00:00<?, ?it/s]\n",
      "Uploading:   0%|          | 0/1 [00:00<?, ?it/s]\n",
      "Uploading: 100%|██████████| 1/1 [00:00<00:00, 14.68it/s]\n",
      "Uploading:   0%|          | 0/1 [00:00<?, ?it/s]\n"
     ]
    },
    {
     "name": "stdout",
     "output_type": "stream",
     "text": [
      "Processing slice z= 138\n",
      "Processing slice z= 139\n",
      "Processing slice z= 140\n",
      "Processing slice z= 141\n"
     ]
    },
    {
     "name": "stderr",
     "output_type": "stream",
     "text": [
      "Uploading: 100%|██████████| 1/1 [00:00<00:00, 14.42it/s]\n",
      "Uploading:   0%|          | 0/1 [00:00<?, ?it/s]\n",
      "Uploading: 100%|██████████| 1/1 [00:00<00:00, 14.03it/s]\n",
      "Uploading:   0%|          | 0/1 [00:00<?, ?it/s]\n",
      "Uploading:   0%|          | 0/1 [00:00<?, ?it/s]\u001b[A\n",
      "\n",
      "Uploading: 100%|██████████| 1/1 [00:00<00:00, 13.35it/s]\n",
      "\n",
      "Uploading:   0%|          | 0/1 [00:00<?, ?it/s]\u001b[A\n",
      "Uploading:   0%|          | 0/1 [00:00<?, ?it/s]\n"
     ]
    },
    {
     "name": "stdout",
     "output_type": "stream",
     "text": [
      "Processing slice z= 142\n",
      "Processing slice z= 143\n"
     ]
    },
    {
     "name": "stderr",
     "output_type": "stream",
     "text": [
      "Uploading: 100%|██████████| 1/1 [00:00<00:00, 15.52it/s]\n",
      "Uploading:   0%|          | 0/1 [00:00<?, ?it/s]"
     ]
    },
    {
     "name": "stdout",
     "output_type": "stream",
     "text": [
      "success\n",
      "success\n",
      "success\n",
      "success\n",
      "success\n",
      "success\n",
      "success\n",
      "success\n",
      "success\n",
      "success\n",
      "success\n",
      "success\n",
      "success\n",
      "success\n",
      "success\n",
      "success\n"
     ]
    },
    {
     "name": "stderr",
     "output_type": "stream",
     "text": [
      "\n"
     ]
    },
    {
     "name": "stdout",
     "output_type": "stream",
     "text": [
      "Processing slice z= 144\n"
     ]
    },
    {
     "name": "stderr",
     "output_type": "stream",
     "text": [
      "\n",
      "Uploading:   0%|          | 0/1 [00:00<?, ?it/s]\u001b[A\n",
      "Uploading:   0%|          | 0/1 [00:00<?, ?it/s]\u001b[A"
     ]
    },
    {
     "name": "stdout",
     "output_type": "stream",
     "text": [
      "Processing slice z= 145\n"
     ]
    },
    {
     "name": "stderr",
     "output_type": "stream",
     "text": [
      "Uploading:   0%|          | 0/1 [00:00<?, ?it/s]\n",
      "Uploading:   0%|          | 0/1 [00:00<?, ?it/s]\u001b[A\n",
      "Uploading: 100%|██████████| 1/1 [00:00<00:00, 14.98it/s]\n",
      "Uploading: 100%|██████████| 1/1 [00:00<00:00, 15.79it/s]\n",
      "Uploading:   0%|          | 0/1 [00:00<?, ?it/s]\n",
      "Uploading:   0%|          | 0/1 [00:00<?, ?it/s]\n",
      "Uploading: 100%|██████████| 1/1 [00:00<00:00, 15.85it/s]\n",
      "Uploading:   0%|          | 0/1 [00:00<?, ?it/s]\n",
      "Uploading: 100%|██████████| 1/1 [00:00<00:00, 13.99it/s]\n"
     ]
    },
    {
     "name": "stdout",
     "output_type": "stream",
     "text": [
      "Processing slice z= 146\n"
     ]
    },
    {
     "name": "stderr",
     "output_type": "stream",
     "text": [
      "\r",
      "Uploading:   0%|          | 0/1 [00:00<?, ?it/s]"
     ]
    },
    {
     "name": "stdout",
     "output_type": "stream",
     "text": [
      "Processing slice z= 147\n"
     ]
    },
    {
     "name": "stderr",
     "output_type": "stream",
     "text": [
      "\n"
     ]
    },
    {
     "name": "stdout",
     "output_type": "stream",
     "text": [
      "Processing slice z= 148\n",
      "Processing slice z= 149\n"
     ]
    },
    {
     "name": "stderr",
     "output_type": "stream",
     "text": [
      "Uploading:   0%|          | 0/1 [00:00<?, ?it/s]\n",
      "Uploading: 100%|██████████| 1/1 [00:00<00:00, 13.34it/s]\n",
      "Uploading: 100%|██████████| 1/1 [00:00<00:00, 12.94it/s]\n",
      "\n",
      "Uploading:   0%|          | 0/1 [00:00<?, ?it/s]\u001b[A\n",
      "Uploading:   0%|          | 0/1 [00:00<?, ?it/s]\u001b[A\n",
      "Uploading:   0%|          | 0/1 [00:00<?, ?it/s]\u001b[A\n",
      "Uploading:   0%|          | 0/1 [00:00<?, ?it/s]\n",
      "Uploading: 100%|██████████| 1/1 [00:00<00:00, 15.76it/s]\n",
      "Uploading: 100%|██████████| 1/1 [00:00<00:00, 15.91it/s]\n",
      "Uploading:   0%|          | 0/1 [00:00<?, ?it/s]\n",
      "Uploading:   0%|          | 0/1 [00:00<?, ?it/s]\n"
     ]
    },
    {
     "name": "stdout",
     "output_type": "stream",
     "text": [
      "Processing slice z= 150\n",
      "Processing slice z= 151\n",
      "Processing slice z= 152\n",
      "Processing slice z= 153\n"
     ]
    },
    {
     "name": "stderr",
     "output_type": "stream",
     "text": [
      "Uploading:   0%|          | 0/1 [00:00<?, ?it/s]\n",
      "Uploading:   0%|          | 0/1 [00:00<?, ?it/s]\u001b[A\n",
      "Uploading: 100%|██████████| 1/1 [00:00<00:00, 13.36it/s]\n",
      "\n",
      "Uploading:   0%|          | 0/1 [00:00<?, ?it/s]\u001b[A\n",
      "Uploading:   0%|          | 0/1 [00:00<?, ?it/s]\u001b[A\n",
      "Uploading: 100%|██████████| 1/1 [00:00<00:00, 17.63it/s]\n",
      "Uploading: 100%|██████████| 1/1 [00:00<00:00, 16.30it/s]\n",
      "Uploading:   0%|          | 0/1 [00:00<?, ?it/s]\n",
      "Uploading:   0%|          | 0/1 [00:00<?, ?it/s]\n",
      "Uploading: 100%|██████████| 1/1 [00:00<00:00, 15.41it/s]"
     ]
    },
    {
     "name": "stdout",
     "output_type": "stream",
     "text": [
      "Processing slice z= 154\n",
      "Processing slice z= 155\n",
      "Processing slice z= 156\n"
     ]
    },
    {
     "name": "stderr",
     "output_type": "stream",
     "text": [
      "\n",
      "Uploading:   0%|          | 0/1 [00:00<?, ?it/s]\n",
      "\n",
      "Uploading:   0%|          | 0/1 [00:00<?, ?it/s]\u001b[A\n",
      "Uploading:   0%|          | 0/1 [00:00<?, ?it/s]\u001b[A"
     ]
    },
    {
     "name": "stdout",
     "output_type": "stream",
     "text": [
      "Processing slice z= 157\n"
     ]
    },
    {
     "name": "stderr",
     "output_type": "stream",
     "text": [
      "Uploading:   0%|          | 0/1 [00:00<?, ?it/s]\n",
      "Uploading: 100%|██████████| 1/1 [00:00<00:00, 14.91it/s]\n",
      "Uploading: 100%|██████████| 1/1 [00:00<00:00, 17.04it/s]\n",
      "Uploading: 100%|██████████| 1/1 [00:00<00:00, 16.01it/s]\n",
      "\n",
      "Uploading:   0%|          | 0/1 [00:00<?, ?it/s]\u001b[A\n",
      "Uploading: 100%|██████████| 1/1 [00:00<00:00, 13.94it/s]\n",
      "Uploading:   0%|          | 0/1 [00:00<?, ?it/s]\n",
      "Uploading:   0%|          | 0/1 [00:00<?, ?it/s]\n"
     ]
    },
    {
     "name": "stdout",
     "output_type": "stream",
     "text": [
      "success\n",
      "success\n",
      "success\n",
      "success\n",
      "success\n",
      "success\n",
      "success\n",
      "success\n",
      "success\n",
      "success\n",
      "success\n",
      "success\n",
      "success\n"
     ]
    },
    {
     "name": "stderr",
     "output_type": "stream",
     "text": [
      "Uploading:   0%|          | 0/1 [00:00<?, ?it/s]\n"
     ]
    },
    {
     "name": "stdout",
     "output_type": "stream",
     "text": [
      "Processing slice z= 158\n",
      "Processing slice z= 159\n",
      "Processing slice z= 160\n",
      "Processing slice z= 161\n"
     ]
    },
    {
     "name": "stderr",
     "output_type": "stream",
     "text": [
      "Uploading:   0%|          | 0/1 [00:00<?, ?it/s]\n",
      "Uploading:   0%|          | 0/1 [00:00<?, ?it/s]\u001b[A\n",
      "Uploading:   0%|          | 0/1 [00:00<?, ?it/s]\u001b[A\n",
      "Uploading: 100%|██████████| 1/1 [00:00<00:00, 15.36it/s]\n",
      "Uploading: 100%|██████████| 1/1 [00:00<00:00, 15.53it/s]\n",
      "Uploading: 100%|██████████| 1/1 [00:00<00:00, 12.55it/s]\n",
      "Uploading:   0%|          | 0/1 [00:00<?, ?it/s]\n",
      "\n",
      "Uploading:   0%|          | 0/1 [00:00<?, ?it/s]\u001b[A\n",
      "Uploading: 100%|██████████| 1/1 [00:00<00:00, 15.81it/s]\n",
      "Uploading:   0%|          | 0/1 [00:00<?, ?it/s]\n",
      "Uploading:   0%|          | 0/1 [00:00<?, ?it/s]\n"
     ]
    },
    {
     "name": "stdout",
     "output_type": "stream",
     "text": [
      "Processing slice z= 162\n",
      "Processing slice z= 163\n",
      "Processing slice z= 164\n",
      "Processing slice z= 165\n"
     ]
    },
    {
     "name": "stderr",
     "output_type": "stream",
     "text": [
      "Uploading: 100%|██████████| 1/1 [00:00<00:00, 18.37it/s]\n",
      "Uploading: 100%|██████████| 1/1 [00:00<00:00, 17.13it/s]\n",
      "Uploading:   0%|          | 0/1 [00:00<?, ?it/s]\n",
      "Uploading:   0%|          | 0/1 [00:00<?, ?it/s]\n",
      "Uploading:   0%|          | 0/1 [00:00<?, ?it/s]\u001b[A\n",
      "\n",
      "Uploading:   0%|          | 0/1 [00:00<?, ?it/s]\u001b[A\n",
      "Uploading:   0%|          | 0/1 [00:00<?, ?it/s]\u001b[A\n",
      "Uploading:   0%|          | 0/1 [00:00<?, ?it/s]"
     ]
    },
    {
     "name": "stdout",
     "output_type": "stream",
     "text": [
      "Processing slice z= 166\n"
     ]
    },
    {
     "name": "stderr",
     "output_type": "stream",
     "text": [
      "Uploading: 100%|██████████| 1/1 [00:00<00:00, 15.52it/s]"
     ]
    },
    {
     "name": "stdout",
     "output_type": "stream",
     "text": [
      "Processing slice z= 167\n"
     ]
    },
    {
     "name": "stderr",
     "output_type": "stream",
     "text": [
      "\n",
      "Uploading:   0%|          | 0/1 [00:00<?, ?it/s]\n",
      "Uploading: 100%|██████████| 1/1 [00:00<00:00, 14.99it/s]\n",
      "\n"
     ]
    },
    {
     "name": "stdout",
     "output_type": "stream",
     "text": [
      "Processing slice z= 168\n"
     ]
    },
    {
     "name": "stderr",
     "output_type": "stream",
     "text": [
      "Uploading:   0%|          | 0/1 [00:00<?, ?it/s]\u001b[A\n",
      "Uploading:   0%|          | 0/1 [00:00<?, ?it/s]"
     ]
    },
    {
     "name": "stdout",
     "output_type": "stream",
     "text": [
      "Processing slice z= 169\n"
     ]
    },
    {
     "name": "stderr",
     "output_type": "stream",
     "text": [
      "Uploading:   0%|          | 0/1 [00:00<?, ?it/s]\n",
      "Uploading:   0%|          | 0/1 [00:00<?, ?it/s]\u001b[A\n",
      "Uploading: 100%|██████████| 1/1 [00:00<00:00, 18.25it/s]\n",
      "Uploading:   0%|          | 0/1 [00:00<?, ?it/s]\n",
      "Uploading: 100%|██████████| 1/1 [00:00<00:00, 17.56it/s]\n",
      "\n",
      "Uploading: 100%|██████████| 1/1 [00:00<00:00, 15.20it/s]\n",
      "Uploading:   0%|          | 0/1 [00:00<?, ?it/s]\n",
      "Uploading: 100%|██████████| 1/1 [00:00<00:00, 16.72it/s]\n",
      "Uploading:   0%|          | 0/1 [00:00<?, ?it/s]\n",
      "Uploading:   0%|          | 0/1 [00:00<?, ?it/s]\n"
     ]
    },
    {
     "name": "stdout",
     "output_type": "stream",
     "text": [
      "Processing slice z= 170\n",
      "Processing slice z= 171\n",
      "Processing slice z= 172\n",
      "Processing slice z= 173\n"
     ]
    },
    {
     "name": "stderr",
     "output_type": "stream",
     "text": [
      "Uploading: 100%|██████████| 1/1 [00:00<00:00, 14.55it/s]\n",
      "\n",
      "Uploading: 100%|██████████| 1/1 [00:00<00:00, 16.82it/s]\n",
      "Uploading:   0%|          | 0/1 [00:00<?, ?it/s]\n",
      "Uploading:   0%|          | 0/1 [00:00<?, ?it/s]\u001b[A\n",
      "Uploading:   0%|          | 0/1 [00:00<?, ?it/s]\n",
      "Uploading:   0%|          | 0/1 [00:00<?, ?it/s]\u001b[A\n",
      "Uploading: 100%|██████████| 1/1 [00:00<00:00, 21.76it/s]\n",
      "Uploading:   0%|          | 0/1 [00:00<?, ?it/s]\n",
      "Uploading: 100%|██████████| 1/1 [00:00<00:00, 17.44it/s]\n",
      "Uploading:   0%|          | 0/1 [00:00<?, ?it/s]\n"
     ]
    },
    {
     "name": "stdout",
     "output_type": "stream",
     "text": [
      "success\n",
      "success\n",
      "success\n",
      "success\n",
      "success\n",
      "success\n",
      "success\n",
      "success\n",
      "success\n",
      "success\n",
      "success\n",
      "success\n",
      "success\n",
      "success\n",
      "success\n",
      "success\n",
      "success\n"
     ]
    },
    {
     "name": "stderr",
     "output_type": "stream",
     "text": [
      "Uploading:   0%|          | 0/1 [00:00<?, ?it/s]\n"
     ]
    },
    {
     "name": "stdout",
     "output_type": "stream",
     "text": [
      "Processing slice z= 174\n",
      "Processing slice z= 175\n",
      "Processing slice z= 176\n",
      "Processing slice z= 177\n"
     ]
    },
    {
     "name": "stderr",
     "output_type": "stream",
     "text": [
      "Uploading:   0%|          | 0/1 [00:00<?, ?it/s]\n",
      "Uploading:   0%|          | 0/1 [00:00<?, ?it/s]\u001b[A\n",
      "Uploading:   0%|          | 0/1 [00:00<?, ?it/s]\u001b[A\n",
      "Uploading: 100%|██████████| 1/1 [00:00<00:00, 18.01it/s]\n",
      "\n",
      "Uploading: 100%|██████████| 1/1 [00:00<00:00, 20.99it/s]\n",
      "Uploading:   0%|          | 0/1 [00:00<?, ?it/s]\n",
      "Uploading: 100%|██████████| 1/1 [00:00<00:00, 17.40it/s]\n",
      "Uploading: 100%|██████████| 1/1 [00:00<00:00, 18.55it/s]\n",
      "Uploading:   0%|          | 0/1 [00:00<?, ?it/s]\n",
      "Uploading:   0%|          | 0/1 [00:00<?, ?it/s]\n",
      "Uploading:   0%|          | 0/1 [00:00<?, ?it/s]\n"
     ]
    },
    {
     "name": "stdout",
     "output_type": "stream",
     "text": [
      "Processing slice z= 178\n",
      "Processing slice z= 179\n",
      "Processing slice z= 180\n",
      "Processing slice z= 181\n"
     ]
    },
    {
     "name": "stderr",
     "output_type": "stream",
     "text": [
      "Uploading:   0%|          | 0/1 [00:00<?, ?it/s]\n",
      "Uploading: 100%|██████████| 1/1 [00:00<00:00, 22.28it/s]\n",
      "Uploading:   0%|          | 0/1 [00:00<?, ?it/s]\n",
      "Uploading:   0%|          | 0/1 [00:00<?, ?it/s]\u001b[A\n",
      "\n",
      "Uploading:   0%|          | 0/1 [00:00<?, ?it/s]\u001b[A\n",
      "Uploading: 100%|██████████| 1/1 [00:00<00:00, 19.41it/s]\n",
      "Uploading: 100%|██████████| 1/1 [00:00<00:00, 20.57it/s]\n",
      "Uploading: 100%|██████████| 1/1 [00:00<00:00, 16.75it/s]\n"
     ]
    },
    {
     "name": "stdout",
     "output_type": "stream",
     "text": [
      "Processing slice z= 182\n"
     ]
    },
    {
     "name": "stderr",
     "output_type": "stream",
     "text": [
      "Uploading:   0%|          | 0/1 [00:00<?, ?it/s]\n",
      "Uploading:   0%|          | 0/1 [00:00<?, ?it/s]\n",
      "Uploading:   0%|          | 0/1 [00:00<?, ?it/s]\n"
     ]
    },
    {
     "name": "stdout",
     "output_type": "stream",
     "text": [
      "Processing slice z= 183\n"
     ]
    },
    {
     "name": "stderr",
     "output_type": "stream",
     "text": [
      "\n"
     ]
    },
    {
     "name": "stdout",
     "output_type": "stream",
     "text": [
      "Processing slice z= 184\n"
     ]
    },
    {
     "name": "stderr",
     "output_type": "stream",
     "text": [
      "Uploading:   0%|          | 0/1 [00:00<?, ?it/s]\u001b[A"
     ]
    },
    {
     "name": "stdout",
     "output_type": "stream",
     "text": [
      "Processing slice z= 185\n"
     ]
    },
    {
     "name": "stderr",
     "output_type": "stream",
     "text": [
      "Uploading: 100%|██████████| 1/1 [00:00<00:00, 26.93it/s]\n",
      "Uploading:   0%|          | 0/1 [00:00<?, ?it/s]\n",
      "Uploading: 100%|██████████| 1/1 [00:00<00:00, 21.39it/s]\n",
      "Uploading: 100%|██████████| 1/1 [00:00<00:00, 18.95it/s]\n",
      "Uploading:   0%|          | 0/1 [00:00<?, ?it/s]\n"
     ]
    },
    {
     "name": "stdout",
     "output_type": "stream",
     "text": [
      "Processing slice z= 186\n"
     ]
    },
    {
     "name": "stderr",
     "output_type": "stream",
     "text": [
      "\n",
      "Uploading:   0%|          | 0/1 [00:00<?, ?it/s]\u001b[A\n",
      "Uploading:   0%|          | 0/1 [00:00<?, ?it/s]\u001b[A\n",
      "\n",
      "Uploading:   0%|          | 0/1 [00:00<?, ?it/s]\u001b[A"
     ]
    },
    {
     "name": "stdout",
     "output_type": "stream",
     "text": [
      "Processing slice z= 187\n"
     ]
    },
    {
     "name": "stderr",
     "output_type": "stream",
     "text": [
      "Uploading: 100%|██████████| 1/1 [00:00<00:00, 15.43it/s]\n",
      "Uploading: 100%|██████████| 1/1 [00:00<00:00, 24.37it/s]\n",
      "Uploading:   0%|          | 0/1 [00:00<?, ?it/s]"
     ]
    },
    {
     "name": "stdout",
     "output_type": "stream",
     "text": [
      "Processing slice z= 188\n"
     ]
    },
    {
     "name": "stderr",
     "output_type": "stream",
     "text": [
      "Uploading:   0%|          | 0/1 [00:00<?, ?it/s]\n",
      "Uploading:   0%|          | 0/1 [00:00<?, ?it/s]\n",
      "\n",
      "Uploading:   0%|          | 0/1 [00:00<?, ?it/s]\u001b[A\n"
     ]
    },
    {
     "name": "stdout",
     "output_type": "stream",
     "text": [
      "Processing slice z= 190\n",
      "Processing slice z= 189\n"
     ]
    },
    {
     "name": "stderr",
     "output_type": "stream",
     "text": [
      "Uploading:   0%|          | 0/1 [00:00<?, ?it/s]\u001b[A\n",
      "Uploading: 100%|██████████| 1/1 [00:00<00:00, 17.83it/s]\n",
      "Uploading: 100%|██████████| 1/1 [00:00<00:00, 20.12it/s]\n",
      "Uploading: 100%|██████████| 1/1 [00:00<00:00, 17.95it/s]\n",
      "Uploading:   0%|          | 0/1 [00:00<?, ?it/s]\n",
      "Uploading:   0%|          | 0/1 [00:00<?, ?it/s]\u001b[A\n",
      "Uploading:   0%|          | 0/1 [00:00<?, ?it/s]\u001b[A\n"
     ]
    },
    {
     "name": "stdout",
     "output_type": "stream",
     "text": [
      "success\n",
      "success\n",
      "success\n",
      "success\n",
      "success\n",
      "success\n",
      "success\n",
      "success\n",
      "success\n",
      "success\n",
      "success\n",
      "success\n",
      "success\n",
      "success\n",
      "success\n",
      "success\n"
     ]
    },
    {
     "name": "stderr",
     "output_type": "stream",
     "text": [
      "Uploading:   0%|          | 0/1 [00:00<?, ?it/s]\n",
      "Uploading:   0%|          | 0/1 [00:00<?, ?it/s]\n",
      "Uploading: 100%|██████████| 1/1 [00:00<00:00, 23.76it/s]\n",
      "Uploading:   0%|          | 0/1 [00:00<?, ?it/s]\n"
     ]
    },
    {
     "name": "stdout",
     "output_type": "stream",
     "text": [
      "Processing slice z= 191\n",
      "Processing slice z= 192\n",
      "Processing slice z= 193\n",
      "Processing slice z= 194\n"
     ]
    },
    {
     "name": "stderr",
     "output_type": "stream",
     "text": [
      "Uploading: 100%|██████████| 1/1 [00:00<00:00, 19.05it/s]\n",
      "Uploading: 100%|██████████| 1/1 [00:00<00:00, 24.70it/s]\n",
      "Uploading:   0%|          | 0/1 [00:00<?, ?it/s]\n",
      "Uploading:   0%|          | 0/1 [00:00<?, ?it/s]\u001b[A\n",
      "Uploading:   0%|          | 0/1 [00:00<?, ?it/s]\u001b[A\n",
      "Uploading:   0%|          | 0/1 [00:00<?, ?it/s]\n"
     ]
    },
    {
     "name": "stdout",
     "output_type": "stream",
     "text": [
      "Processing slice z= 196\n"
     ]
    },
    {
     "name": "stderr",
     "output_type": "stream",
     "text": [
      "\n"
     ]
    },
    {
     "name": "stdout",
     "output_type": "stream",
     "text": [
      "Processing slice z= 195\n"
     ]
    },
    {
     "name": "stderr",
     "output_type": "stream",
     "text": [
      "Uploading: 100%|██████████| 1/1 [00:00<00:00, 14.00it/s]\n",
      "Uploading: 100%|██████████| 1/1 [00:00<00:00, 13.25it/s]\n",
      "\n",
      "Uploading:   0%|          | 0/1 [00:00<?, ?it/s]\u001b[A\n",
      "Uploading:   0%|          | 0/1 [00:00<?, ?it/s]\n",
      "Uploading: 100%|██████████| 1/1 [00:00<00:00, 24.76it/s]\n",
      "Uploading: 100%|██████████| 1/1 [00:00<00:00, 21.94it/s]\n",
      "Uploading:   0%|          | 0/1 [00:00<?, ?it/s]\n",
      "Uploading:   0%|          | 0/1 [00:00<?, ?it/s]\u001b[A\n",
      "\n",
      "Uploading:   0%|          | 0/1 [00:00<?, ?it/s]"
     ]
    },
    {
     "name": "stdout",
     "output_type": "stream",
     "text": [
      "Processing slice z= 197\n"
     ]
    },
    {
     "name": "stderr",
     "output_type": "stream",
     "text": [
      "\u001b[A"
     ]
    },
    {
     "name": "stdout",
     "output_type": "stream",
     "text": [
      "Processing slice z= 198\n"
     ]
    },
    {
     "name": "stderr",
     "output_type": "stream",
     "text": [
      "Uploading:   0%|          | 0/1 [00:00<?, ?it/s]\n"
     ]
    },
    {
     "name": "stdout",
     "output_type": "stream",
     "text": [
      "Processing slice z= 199\n",
      "Processing slice z= 200\n"
     ]
    },
    {
     "name": "stderr",
     "output_type": "stream",
     "text": [
      "Uploading: 100%|██████████| 1/1 [00:00<00:00, 21.10it/s]\n",
      "Uploading: 100%|██████████| 1/1 [00:00<00:00, 18.97it/s]\n",
      "\n",
      "Uploading:   0%|          | 0/1 [00:00<?, ?it/s]\u001b[A\n",
      "Uploading:   0%|          | 0/1 [00:00<?, ?it/s]\u001b[A\n",
      "\n",
      "Uploading:   0%|          | 0/1 [00:00<?, ?it/s]\u001b[A\n",
      "Uploading: 100%|██████████| 1/1 [00:00<00:00, 19.31it/s]\n",
      "Uploading:   0%|          | 0/1 [00:00<?, ?it/s]\n"
     ]
    },
    {
     "name": "stdout",
     "output_type": "stream",
     "text": [
      "Processing slice z= 201\n"
     ]
    },
    {
     "name": "stderr",
     "output_type": "stream",
     "text": [
      "Uploading: 100%|██████████| 1/1 [00:00<00:00, 19.30it/s]\n",
      "Uploading:   0%|          | 0/1 [00:00<?, ?it/s]\n",
      "Uploading:   0%|          | 0/1 [00:00<?, ?it/s]\n"
     ]
    },
    {
     "name": "stdout",
     "output_type": "stream",
     "text": [
      "Processing slice z= 202\n"
     ]
    },
    {
     "name": "stderr",
     "output_type": "stream",
     "text": [
      "\r",
      "Uploading:   0%|          | 0/1 [00:00<?, ?it/s]"
     ]
    },
    {
     "name": "stdout",
     "output_type": "stream",
     "text": [
      "Processing slice z= 203\n",
      "Processing slice z= 204\n"
     ]
    },
    {
     "name": "stderr",
     "output_type": "stream",
     "text": [
      "\n",
      "Uploading: 100%|██████████| 1/1 [00:00<00:00, 23.00it/s]\n",
      "Uploading: 100%|██████████| 1/1 [00:00<00:00, 24.36it/s]\n",
      "Uploading:   0%|          | 0/1 [00:00<?, ?it/s]\n",
      "Uploading: 100%|██████████| 1/1 [00:00<00:00, 19.02it/s]\n",
      "Uploading:   0%|          | 0/1 [00:00<?, ?it/s]\n",
      "Uploading:   0%|          | 0/1 [00:00<?, ?it/s]\u001b[A\n",
      "Uploading: 100%|██████████| 1/1 [00:00<00:00, 18.73it/s]\n"
     ]
    },
    {
     "name": "stdout",
     "output_type": "stream",
     "text": [
      "Processing slice z= 205\n"
     ]
    },
    {
     "name": "stderr",
     "output_type": "stream",
     "text": [
      "Uploading:   0%|          | 0/1 [00:00<?, ?it/s]\n",
      "Uploading:   0%|          | 0/1 [00:00<?, ?it/s]\n",
      "\n",
      "Uploading:   0%|          | 0/1 [00:00<?, ?it/s]\u001b[A"
     ]
    },
    {
     "name": "stdout",
     "output_type": "stream",
     "text": [
      "Processing slice z= 206\n"
     ]
    },
    {
     "name": "stderr",
     "output_type": "stream",
     "text": [
      "Uploading:   0%|          | 0/1 [00:00<?, ?it/s]\n"
     ]
    },
    {
     "name": "stdout",
     "output_type": "stream",
     "text": [
      "Processing slice z= 207\n"
     ]
    },
    {
     "name": "stderr",
     "output_type": "stream",
     "text": [
      "\r",
      "Uploading:   0%|          | 0/1 [00:00<?, ?it/s]"
     ]
    },
    {
     "name": "stdout",
     "output_type": "stream",
     "text": [
      "success\n",
      "success\n",
      "success\n",
      "success\n",
      "success\n",
      "success\n",
      "success\n",
      "success\n",
      "success\n",
      "success\n",
      "success\n",
      "success\n",
      "success\n",
      "success\n",
      "success\n",
      "success\n",
      "Processing slice z= 208\n"
     ]
    },
    {
     "name": "stderr",
     "output_type": "stream",
     "text": [
      "Uploading: 100%|██████████| 1/1 [00:00<00:00, 16.81it/s]\n",
      "Uploading:   0%|          | 0/1 [00:00<?, ?it/s]\n",
      "Uploading:   0%|          | 0/1 [00:00<?, ?it/s]\u001b[A\n",
      "Uploading: 100%|██████████| 1/1 [00:00<00:00, 23.41it/s]\n",
      "Uploading:   0%|          | 0/1 [00:00<?, ?it/s]\n",
      "Uploading: 100%|██████████| 1/1 [00:00<00:00, 19.26it/s]\n",
      "\n",
      "Uploading: 100%|██████████| 1/1 [00:00<00:00, 20.77it/s]\n",
      "Uploading:   0%|          | 0/1 [00:00<?, ?it/s]\n",
      "\n",
      "Uploading:   0%|          | 0/1 [00:00<?, ?it/s]"
     ]
    },
    {
     "name": "stdout",
     "output_type": "stream",
     "text": [
      "Processing slice z= 209\n"
     ]
    },
    {
     "name": "stderr",
     "output_type": "stream",
     "text": [
      "Uploading:   0%|          | 0/1 [00:00<?, ?it/s]\n",
      "Uploading:   0%|          | 0/1 [00:00<?, ?it/s]\n",
      "Uploading: 100%|██████████| 1/1 [00:00<00:00, 27.55it/s]\n",
      "Uploading: 100%|██████████| 1/1 [00:00<00:00, 28.12it/s]\n"
     ]
    },
    {
     "name": "stdout",
     "output_type": "stream",
     "text": [
      "Processing slice z= 210\n"
     ]
    },
    {
     "name": "stderr",
     "output_type": "stream",
     "text": [
      "Uploading:   0%|          | 0/1 [00:00<?, ?it/s]\n"
     ]
    },
    {
     "name": "stdout",
     "output_type": "stream",
     "text": [
      "Processing slice z= 211\n",
      "Processing slice z= 212\n"
     ]
    },
    {
     "name": "stderr",
     "output_type": "stream",
     "text": [
      "Uploading:   0%|          | 0/1 [00:00<?, ?it/s]\n"
     ]
    },
    {
     "name": "stdout",
     "output_type": "stream",
     "text": [
      "Processing slice z= 213\n"
     ]
    },
    {
     "name": "stderr",
     "output_type": "stream",
     "text": [
      "Uploading: 100%|██████████| 1/1 [00:00<00:00, 20.80it/s]\n",
      "Uploading:   0%|          | 0/1 [00:00<?, ?it/s]"
     ]
    },
    {
     "name": "stdout",
     "output_type": "stream",
     "text": [
      "Processing slice z= 214\n"
     ]
    },
    {
     "name": "stderr",
     "output_type": "stream",
     "text": [
      "Uploading:   0%|          | 0/1 [00:00<?, ?it/s]\n",
      "Uploading:   0%|          | 0/1 [00:00<?, ?it/s]\n",
      "Uploading:   0%|          | 0/1 [00:00<?, ?it/s]\u001b[A\n",
      "Uploading: 100%|██████████| 1/1 [00:00<00:00, 24.68it/s]"
     ]
    },
    {
     "name": "stdout",
     "output_type": "stream",
     "text": [
      "Processing slice z= 215\n"
     ]
    },
    {
     "name": "stderr",
     "output_type": "stream",
     "text": [
      "\n",
      "\n",
      "Uploading:   0%|          | 0/1 [00:00<?, ?it/s]\u001b[A\n",
      "Uploading:   0%|          | 0/1 [00:00<?, ?it/s]\u001b[A\n",
      "Uploading:   0%|          | 0/1 [00:00<?, ?it/s]\n",
      "Uploading:   0%|          | 0/1 [00:00<?, ?it/s]\u001b[A"
     ]
    },
    {
     "name": "stdout",
     "output_type": "stream",
     "text": [
      "Processing slice z= 216\n"
     ]
    },
    {
     "name": "stderr",
     "output_type": "stream",
     "text": [
      "Uploading:   0%|          | 0/1 [00:00<?, ?it/s]\n",
      "Uploading:   0%|          | 0/1 [00:00<?, ?it/s]\u001b[A\n",
      "Uploading: 100%|██████████| 1/1 [00:00<00:00, 29.02it/s]\n",
      "Uploading: 100%|██████████| 1/1 [00:00<00:00, 25.46it/s]\n",
      "\n",
      "Uploading:   0%|          | 0/1 [00:00<?, ?it/s]\u001b[A\n",
      "Uploading: 100%|██████████| 1/1 [00:00<00:00, 26.30it/s]\n",
      "Uploading:   0%|          | 0/1 [00:00<?, ?it/s]\n",
      "Uploading: 100%|██████████| 1/1 [00:00<00:00, 25.97it/s]\n",
      "Uploading:   0%|          | 0/1 [00:00<?, ?it/s]\n",
      "Uploading:   0%|          | 0/1 [00:00<?, ?it/s]\n"
     ]
    },
    {
     "name": "stdout",
     "output_type": "stream",
     "text": [
      "Processing slice z= 217\n",
      "Processing slice z= 218\n",
      "Processing slice z= 219\n"
     ]
    },
    {
     "name": "stderr",
     "output_type": "stream",
     "text": [
      "\r",
      "Uploading: 100%|██████████| 1/1 [00:00<00:00, 27.89it/s]"
     ]
    },
    {
     "name": "stdout",
     "output_type": "stream",
     "text": [
      "Processing slice z= 220\n"
     ]
    },
    {
     "name": "stderr",
     "output_type": "stream",
     "text": [
      "\n",
      "Uploading:   0%|          | 0/1 [00:00<?, ?it/s]\n",
      "Uploading: 100%|██████████| 1/1 [00:00<00:00, 23.20it/s]\n",
      "Uploading: 100%|██████████| 1/1 [00:00<00:00, 18.84it/s]\n",
      "Uploading: 100%|██████████| 1/1 [00:00<00:00, 24.32it/s]\n",
      "Uploading:   0%|          | 0/1 [00:00<?, ?it/s]\n",
      "Uploading:   0%|          | 0/1 [00:00<?, ?it/s]\n",
      "Uploading:   0%|          | 0/1 [00:00<?, ?it/s]"
     ]
    },
    {
     "name": "stdout",
     "output_type": "stream",
     "text": [
      "Processing slice z= 221\n"
     ]
    },
    {
     "name": "stderr",
     "output_type": "stream",
     "text": [
      "\u001b[A\n",
      "Uploading:   0%|          | 0/1 [00:00<?, ?it/s]\u001b[A\n",
      "Uploading:   0%|          | 0/1 [00:00<?, ?it/s]\u001b[A"
     ]
    },
    {
     "name": "stdout",
     "output_type": "stream",
     "text": [
      "Processing slice z= 222\n"
     ]
    },
    {
     "name": "stderr",
     "output_type": "stream",
     "text": [
      "\n",
      "Uploading:   0%|          | 0/1 [00:00<?, ?it/s]\n",
      "\n",
      "Uploading:   0%|          | 0/1 [00:00<?, ?it/s]\u001b[A"
     ]
    },
    {
     "name": "stdout",
     "output_type": "stream",
     "text": [
      "Processing slice z= 223\n"
     ]
    },
    {
     "name": "stderr",
     "output_type": "stream",
     "text": [
      "Uploading:   0%|          | 0/1 [00:00<?, ?it/s]\n"
     ]
    },
    {
     "name": "stdout",
     "output_type": "stream",
     "text": [
      "Processing slice z= 224\n"
     ]
    },
    {
     "name": "stderr",
     "output_type": "stream",
     "text": [
      "Uploading:   0%|          | 0/1 [00:00<?, ?it/s]\u001b[A\n",
      "Uploading:   0%|          | 0/1 [00:00<?, ?it/s]\u001b[A"
     ]
    },
    {
     "name": "stdout",
     "output_type": "stream",
     "text": [
      "success\n",
      "success\n",
      "success\n",
      "success\n",
      "success\n",
      "success\n",
      "success\n",
      "success\n",
      "success\n",
      "success\n",
      "success\n",
      "success\n",
      "success\n",
      "success\n",
      "success\n",
      "success\n",
      "success\n",
      "success\n"
     ]
    },
    {
     "name": "stderr",
     "output_type": "stream",
     "text": [
      "\n",
      "Uploading: 100%|██████████| 1/1 [00:00<00:00, 26.11it/s]\n",
      "Uploading:   0%|          | 0/1 [00:00<?, ?it/s]\n",
      "Uploading: 100%|██████████| 1/1 [00:00<00:00, 26.40it/s]\n",
      "Uploading: 100%|██████████| 1/1 [00:00<00:00, 23.92it/s]\n",
      "Uploading:   0%|          | 0/1 [00:00<?, ?it/s]\n",
      "\n",
      "Uploading:   0%|          | 0/1 [00:00<?, ?it/s]\u001b[A\n",
      "Uploading: 100%|██████████| 1/1 [00:00<00:00, 28.47it/s]"
     ]
    },
    {
     "name": "stdout",
     "output_type": "stream",
     "text": [
      "Processing slice z= 225\n"
     ]
    },
    {
     "name": "stderr",
     "output_type": "stream",
     "text": [
      "\n",
      "Uploading: 100%|██████████| 1/1 [00:00<00:00, 24.89it/s]\n",
      "Uploading:   0%|          | 0/1 [00:00<?, ?it/s]\n",
      "Uploading:   0%|          | 0/1 [00:00<?, ?it/s]\n"
     ]
    },
    {
     "name": "stdout",
     "output_type": "stream",
     "text": [
      "Processing slice z= 226\n",
      "Processing slice z= 227\n"
     ]
    },
    {
     "name": "stderr",
     "output_type": "stream",
     "text": [
      "\r",
      "Uploading:   0%|          | 0/1 [00:00<?, ?it/s]"
     ]
    },
    {
     "name": "stdout",
     "output_type": "stream",
     "text": [
      "Processing slice z= 228\n"
     ]
    },
    {
     "name": "stderr",
     "output_type": "stream",
     "text": [
      "\n"
     ]
    },
    {
     "name": "stdout",
     "output_type": "stream",
     "text": [
      "Processing slice z= 229\n"
     ]
    },
    {
     "name": "stderr",
     "output_type": "stream",
     "text": [
      "Uploading: 100%|██████████| 1/1 [00:00<00:00, 26.21it/s]\n",
      "Uploading:   0%|          | 0/1 [00:00<?, ?it/s]\n",
      "Uploading: 100%|██████████| 1/1 [00:00<00:00, 19.33it/s]\n",
      "Uploading:   0%|          | 0/1 [00:00<?, ?it/s]\n",
      "Uploading: 100%|██████████| 1/1 [00:00<00:00, 26.38it/s]\n",
      "Uploading:   0%|          | 0/1 [00:00<?, ?it/s]\n",
      "Uploading:   0%|          | 0/1 [00:00<?, ?it/s]\u001b[A\n",
      "Uploading:   0%|          | 0/1 [00:00<?, ?it/s]\u001b[A\n",
      "\n",
      "Uploading:   0%|          | 0/1 [00:00<?, ?it/s]\u001b[A\n"
     ]
    },
    {
     "name": "stdout",
     "output_type": "stream",
     "text": [
      "Processing slice z= 230\n"
     ]
    },
    {
     "name": "stderr",
     "output_type": "stream",
     "text": [
      "Uploading: 100%|██████████| 1/1 [00:00<00:00, 34.25it/s]\n",
      "Uploading:   0%|          | 0/1 [00:00<?, ?it/s]\n"
     ]
    },
    {
     "name": "stdout",
     "output_type": "stream",
     "text": [
      "Processing slice z= 231\n",
      "Processing slice z= 232\n",
      "Processing slice z= 233\n"
     ]
    },
    {
     "name": "stderr",
     "output_type": "stream",
     "text": [
      "Uploading:   0%|          | 0/1 [00:00<?, ?it/s]\n",
      "Uploading: 100%|██████████| 1/1 [00:00<00:00, 27.12it/s]\n",
      "Uploading: 100%|██████████| 1/1 [00:00<00:00, 20.96it/s]\n",
      "Uploading: 100%|██████████| 1/1 [00:00<00:00, 25.66it/s]\n",
      "\n",
      "Uploading:   0%|          | 0/1 [00:00<?, ?it/s]\u001b[A\n",
      "Uploading:   0%|          | 0/1 [00:00<?, ?it/s]\u001b[A\n",
      "Uploading:   0%|          | 0/1 [00:00<?, ?it/s]\u001b[A\n",
      "Uploading:   0%|          | 0/1 [00:00<?, ?it/s]\n",
      "Uploading: 100%|██████████| 1/1 [00:00<00:00, 20.98it/s]\n",
      "Uploading:   0%|          | 0/1 [00:00<?, ?it/s]\n",
      "Uploading:   0%|          | 0/1 [00:00<?, ?it/s]"
     ]
    },
    {
     "name": "stdout",
     "output_type": "stream",
     "text": [
      "Processing slice z= 234\n"
     ]
    },
    {
     "name": "stderr",
     "output_type": "stream",
     "text": [
      "\n"
     ]
    },
    {
     "name": "stdout",
     "output_type": "stream",
     "text": [
      "Processing slice z= 235\n"
     ]
    },
    {
     "name": "stderr",
     "output_type": "stream",
     "text": [
      "Uploading: 100%|██████████| 1/1 [00:00<00:00, 31.19it/s]\n",
      "Uploading:   0%|          | 0/1 [00:00<?, ?it/s]\n"
     ]
    },
    {
     "name": "stdout",
     "output_type": "stream",
     "text": [
      "Processing slice z= 236\n",
      "Processing slice z= 237\n",
      "Processing slice z= 238\n"
     ]
    },
    {
     "name": "stderr",
     "output_type": "stream",
     "text": [
      "Uploading: 100%|██████████| 1/1 [00:00<00:00, 26.71it/s]\n",
      "Uploading: 100%|██████████| 1/1 [00:00<00:00, 27.76it/s]\n",
      "Uploading:   0%|          | 0/1 [00:00<?, ?it/s]\n",
      "Uploading:   0%|          | 0/1 [00:00<?, ?it/s]\u001b[A\n",
      "Uploading:   0%|          | 0/1 [00:00<?, ?it/s]\u001b[A\n",
      "Uploading: 100%|██████████| 1/1 [00:00<00:00, 22.82it/s]\n",
      "Uploading:   0%|          | 0/1 [00:00<?, ?it/s]\n",
      "Uploading:   0%|          | 0/1 [00:00<?, ?it/s]\n",
      "Uploading:   0%|          | 0/1 [00:00<?, ?it/s]\n",
      "Uploading:   0%|          | 0/1 [00:00<?, ?it/s]\u001b[A"
     ]
    },
    {
     "name": "stdout",
     "output_type": "stream",
     "text": [
      "Processing slice z= 239\n",
      "Processing slice z= 240\n"
     ]
    },
    {
     "name": "stderr",
     "output_type": "stream",
     "text": [
      "Uploading:   0%|          | 0/1 [00:00<?, ?it/s]\n",
      "\n",
      "Uploading: 100%|██████████| 1/1 [00:00<00:00, 26.43it/s]\n",
      "Uploading:   0%|          | 0/1 [00:00<?, ?it/s]\n",
      "Uploading: 100%|██████████| 1/1 [00:00<00:00, 27.69it/s]\n",
      "Uploading: 100%|██████████| 1/1 [00:00<00:00, 25.27it/s]"
     ]
    },
    {
     "name": "stdout",
     "output_type": "stream",
     "text": [
      "Processing slice z= 241\n"
     ]
    },
    {
     "name": "stderr",
     "output_type": "stream",
     "text": [
      "\n",
      "Uploading:   0%|          | 0/1 [00:00<?, ?it/s]\n",
      "\n",
      "Uploading:   0%|          | 0/1 [00:00<?, ?it/s]\u001b[A\n",
      "Uploading:   0%|          | 0/1 [00:00<?, ?it/s]\n",
      "Uploading: 100%|██████████| 1/1 [00:00<00:00, 27.17it/s]\n",
      "Uploading: 100%|██████████| 1/1 [00:00<00:00, 24.14it/s]\n",
      "Uploading:   0%|          | 0/1 [00:00<?, ?it/s]\n",
      "Uploading:   0%|          | 0/1 [00:00<?, ?it/s]\n"
     ]
    },
    {
     "name": "stdout",
     "output_type": "stream",
     "text": [
      "Processing slice z= 242\n",
      "Processing slice z= 243\n"
     ]
    },
    {
     "name": "stderr",
     "output_type": "stream",
     "text": [
      "Uploading:   0%|          | 0/1 [00:00<?, ?it/s]\n",
      "Uploading:   0%|          | 0/1 [00:00<?, ?it/s]\u001b[A"
     ]
    },
    {
     "name": "stdout",
     "output_type": "stream",
     "text": [
      "Processing slice z= 244\n",
      "Processing slice z= 245\n",
      "Processing slice z= 246\n"
     ]
    },
    {
     "name": "stderr",
     "output_type": "stream",
     "text": [
      "Uploading:   0%|          | 0/1 [00:00<?, ?it/s]\n",
      "Uploading: 100%|██████████| 1/1 [00:00<00:00, 30.64it/s]\n",
      "Uploading: 100%|██████████| 1/1 [00:00<00:00, 25.38it/s]\n",
      "Uploading:   0%|          | 0/1 [00:00<?, ?it/s]\n",
      "Uploading:   0%|          | 0/1 [00:00<?, ?it/s]\u001b[A\n"
     ]
    },
    {
     "name": "stdout",
     "output_type": "stream",
     "text": [
      "success\n",
      "success\n",
      "success\n",
      "success\n",
      "success\n",
      "success\n",
      "success\n",
      "success\n",
      "success\n",
      "success\n",
      "success\n",
      "success\n",
      "success\n",
      "success\n",
      "success\n",
      "success\n",
      "success\n",
      "success\n",
      "success\n",
      "success\n",
      "success\n",
      "success\n"
     ]
    },
    {
     "name": "stderr",
     "output_type": "stream",
     "text": [
      "Uploading:   0%|          | 0/1 [00:00<?, ?it/s]\u001b[A\n",
      "Uploading:   0%|          | 0/1 [00:00<?, ?it/s]\u001b[A\n",
      "Uploading:   0%|          | 0/1 [00:00<?, ?it/s]\u001b[A\n",
      "Uploading:   0%|          | 0/1 [00:00<?, ?it/s]\n",
      "Uploading: 100%|██████████| 1/1 [00:00<00:00, 25.33it/s]\n",
      "Uploading:   0%|          | 0/1 [00:00<?, ?it/s]\n"
     ]
    },
    {
     "name": "stdout",
     "output_type": "stream",
     "text": [
      "Processing slice z= 247\n"
     ]
    },
    {
     "name": "stderr",
     "output_type": "stream",
     "text": [
      "Uploading: 100%|██████████| 1/1 [00:00<00:00, 31.40it/s]\n",
      "Uploading:   0%|          | 0/1 [00:00<?, ?it/s]"
     ]
    },
    {
     "name": "stdout",
     "output_type": "stream",
     "text": [
      "Processing slice z= 248\n",
      "Processing slice z= 249\n"
     ]
    },
    {
     "name": "stderr",
     "output_type": "stream",
     "text": [
      "\n"
     ]
    },
    {
     "name": "stdout",
     "output_type": "stream",
     "text": [
      "Processing slice z= 250\n"
     ]
    },
    {
     "name": "stderr",
     "output_type": "stream",
     "text": [
      "Uploading: 100%|██████████| 1/1 [00:00<00:00, 26.93it/s]\n",
      "Uploading: 100%|██████████| 1/1 [00:00<00:00, 26.16it/s]\n",
      "Uploading: 100%|██████████| 1/1 [00:00<00:00, 19.71it/s]\n",
      "Uploading:   0%|          | 0/1 [00:00<?, ?it/s]\n",
      "\n",
      "Uploading: 100%|██████████| 1/1 [00:00<00:00, 20.88it/s]\n",
      "\n",
      "Uploading:   0%|          | 0/1 [00:00<?, ?it/s]\u001b[A\n",
      "Uploading:   0%|          | 0/1 [00:00<?, ?it/s]\u001b[A"
     ]
    },
    {
     "name": "stdout",
     "output_type": "stream",
     "text": [
      "Processing slice z= 251\n"
     ]
    },
    {
     "name": "stderr",
     "output_type": "stream",
     "text": [
      "Uploading:   0%|          | 0/1 [00:00<?, ?it/s]\n",
      "Uploading:   0%|          | 0/1 [00:00<?, ?it/s]\n",
      "\n",
      "Uploading:   0%|          | 0/1 [00:00<?, ?it/s]\u001b[A"
     ]
    },
    {
     "name": "stdout",
     "output_type": "stream",
     "text": [
      "Processing slice z= 253\n",
      "Processing slice z= 252\n"
     ]
    },
    {
     "name": "stderr",
     "output_type": "stream",
     "text": [
      "\n",
      "Uploading: 100%|██████████| 1/1 [00:00<00:00, 27.70it/s]\n"
     ]
    },
    {
     "name": "stdout",
     "output_type": "stream",
     "text": [
      "Processing slice z= 254\n"
     ]
    },
    {
     "name": "stderr",
     "output_type": "stream",
     "text": [
      "Uploading:   0%|          | 0/1 [00:00<?, ?it/s]\n",
      "Uploading: 100%|██████████| 1/1 [00:00<00:00, 21.71it/s]\n",
      "Uploading:   0%|          | 0/1 [00:00<?, ?it/s]\n",
      "Uploading: 100%|██████████| 1/1 [00:00<00:00, 20.78it/s]\n",
      "Uploading:   0%|          | 0/1 [00:00<?, ?it/s]\n",
      "Uploading:   0%|          | 0/1 [00:00<?, ?it/s]\u001b[A"
     ]
    },
    {
     "name": "stdout",
     "output_type": "stream",
     "text": [
      "Processing slice z= 255\n"
     ]
    },
    {
     "name": "stderr",
     "output_type": "stream",
     "text": [
      "\n",
      "Uploading:   0%|          | 0/1 [00:00<?, ?it/s]\u001b[A\n",
      "Uploading:   0%|          | 0/1 [00:00<?, ?it/s]\n",
      "\n"
     ]
    },
    {
     "name": "stdout",
     "output_type": "stream",
     "text": [
      "Processing slice z= 256\n"
     ]
    },
    {
     "name": "stderr",
     "output_type": "stream",
     "text": [
      "Uploading: 100%|██████████| 1/1 [00:00<00:00, 19.02it/s]\n",
      "Uploading:   0%|          | 0/1 [00:00<?, ?it/s]"
     ]
    },
    {
     "name": "stdout",
     "output_type": "stream",
     "text": [
      "Processing slice z= 257\n"
     ]
    },
    {
     "name": "stderr",
     "output_type": "stream",
     "text": [
      "\n"
     ]
    },
    {
     "name": "stdout",
     "output_type": "stream",
     "text": [
      "Processing slice z= 258\n"
     ]
    },
    {
     "name": "stderr",
     "output_type": "stream",
     "text": [
      "Uploading:   0%|          | 0/1 [00:00<?, ?it/s]\n",
      "Uploading:   0%|          | 0/1 [00:00<?, ?it/s]\u001b[A\n",
      "Uploading: 100%|██████████| 1/1 [00:00<00:00, 22.44it/s]\n",
      "Uploading: 100%|██████████| 1/1 [00:00<00:00, 23.93it/s]\n",
      "Uploading: 100%|██████████| 1/1 [00:00<00:00, 24.18it/s]\n",
      "\n",
      "Uploading:   0%|          | 0/1 [00:00<?, ?it/s]\u001b[A\n",
      "\n",
      "Uploading:   0%|          | 0/1 [00:00<?, ?it/s]\u001b[A\n",
      "Uploading:   0%|          | 0/1 [00:00<?, ?it/s]\n",
      "Uploading: 100%|██████████| 1/1 [00:00<00:00, 25.59it/s]\n",
      "Uploading:   0%|          | 0/1 [00:00<?, ?it/s]\n"
     ]
    },
    {
     "name": "stdout",
     "output_type": "stream",
     "text": [
      "Processing slice z= 259\n",
      "Processing slice z= 260\n",
      "Processing slice z= 261\n",
      "Processing slice z= 262\n"
     ]
    },
    {
     "name": "stderr",
     "output_type": "stream",
     "text": [
      "Uploading: 100%|██████████| 1/1 [00:00<00:00, 21.32it/s]\n",
      "Uploading: 100%|██████████| 1/1 [00:00<00:00, 21.07it/s]\n",
      "Uploading: 100%|██████████| 1/1 [00:00<00:00, 21.91it/s]\n",
      "Uploading:   0%|          | 0/1 [00:00<?, ?it/s]\n",
      "Uploading:   0%|          | 0/1 [00:00<?, ?it/s]\u001b[A\n",
      "Uploading:   0%|          | 0/1 [00:00<?, ?it/s]\n",
      "Uploading:   0%|          | 0/1 [00:00<?, ?it/s]\u001b[A\n",
      "Uploading:   0%|          | 0/1 [00:00<?, ?it/s]\u001b[A\n",
      "Uploading:   0%|          | 0/1 [00:00<?, ?it/s]\u001b[A"
     ]
    },
    {
     "name": "stdout",
     "output_type": "stream",
     "text": [
      "Processing slice z= 263\n"
     ]
    },
    {
     "name": "stderr",
     "output_type": "stream",
     "text": [
      "\n",
      "Uploading: 100%|██████████| 1/1 [00:00<00:00, 21.18it/s]\n",
      "Uploading:   0%|          | 0/1 [00:00<?, ?it/s]\n",
      "Uploading:   0%|          | 0/1 [00:00<?, ?it/s]\n"
     ]
    },
    {
     "name": "stdout",
     "output_type": "stream",
     "text": [
      "success\n",
      "success\n",
      "success\n",
      "success\n",
      "success\n",
      "success\n",
      "success\n",
      "success\n",
      "success\n",
      "success\n",
      "success\n",
      "success\n",
      "success\n",
      "success\n",
      "success\n",
      "success\n",
      "success\n",
      "Processing slice z= 264\n",
      "Processing slice z= 265\n"
     ]
    },
    {
     "name": "stderr",
     "output_type": "stream",
     "text": [
      "Uploading:   0%|          | 0/1 [00:00<?, ?it/s]\n"
     ]
    },
    {
     "name": "stdout",
     "output_type": "stream",
     "text": [
      "Processing slice z= 266\n"
     ]
    },
    {
     "name": "stderr",
     "output_type": "stream",
     "text": [
      "Uploading: 100%|██████████| 1/1 [00:00<00:00, 25.79it/s]\n",
      "Uploading:   0%|          | 0/1 [00:00<?, ?it/s]\n",
      "\n",
      "Uploading:   0%|          | 0/1 [00:00<?, ?it/s]\u001b[A\n",
      "Uploading:   0%|          | 0/1 [00:00<?, ?it/s]\u001b[A"
     ]
    },
    {
     "name": "stdout",
     "output_type": "stream",
     "text": [
      "Processing slice z= 267\n"
     ]
    },
    {
     "name": "stderr",
     "output_type": "stream",
     "text": [
      "Uploading: 100%|██████████| 1/1 [00:00<00:00, 20.52it/s]\n",
      "Uploading:   0%|          | 0/1 [00:00<?, ?it/s]\n",
      "Uploading: 100%|██████████| 1/1 [00:00<00:00, 20.08it/s]\n",
      "\n",
      "Uploading:   0%|          | 0/1 [00:00<?, ?it/s]\u001b[A"
     ]
    },
    {
     "name": "stdout",
     "output_type": "stream",
     "text": [
      "Processing slice z= 268\n"
     ]
    },
    {
     "name": "stderr",
     "output_type": "stream",
     "text": [
      "Uploading:   0%|          | 0/1 [00:00<?, ?it/s]\n",
      "Uploading: 100%|██████████| 1/1 [00:00<00:00, 16.28it/s]\n",
      "\n",
      "Uploading: 100%|██████████| 1/1 [00:00<00:00, 25.52it/s]\n"
     ]
    },
    {
     "name": "stdout",
     "output_type": "stream",
     "text": [
      "Processing slice z= 269\n"
     ]
    },
    {
     "name": "stderr",
     "output_type": "stream",
     "text": [
      "Uploading:   0%|          | 0/1 [00:00<?, ?it/s]\n",
      "Uploading: 100%|██████████| 1/1 [00:00<00:00, 28.66it/s]\n",
      "Uploading:   0%|          | 0/1 [00:00<?, ?it/s]\n",
      "Uploading:   0%|          | 0/1 [00:00<?, ?it/s]"
     ]
    },
    {
     "name": "stdout",
     "output_type": "stream",
     "text": [
      "Processing slice z= 270\n"
     ]
    },
    {
     "name": "stderr",
     "output_type": "stream",
     "text": [
      "\n"
     ]
    },
    {
     "name": "stdout",
     "output_type": "stream",
     "text": [
      "Processing slice z= 271\n"
     ]
    },
    {
     "name": "stderr",
     "output_type": "stream",
     "text": [
      "Uploading: 100%|██████████| 1/1 [00:00<00:00, 20.03it/s]\n",
      "Uploading: 100%|██████████| 1/1 [00:00<00:00, 23.52it/s]\n",
      "Uploading:   0%|          | 0/1 [00:00<?, ?it/s]\n",
      "Uploading:   0%|          | 0/1 [00:00<?, ?it/s]\n",
      "Uploading:   0%|          | 0/1 [00:00<?, ?it/s]\n",
      "Uploading:   0%|          | 0/1 [00:00<?, ?it/s]\u001b[A"
     ]
    },
    {
     "name": "stdout",
     "output_type": "stream",
     "text": [
      "Processing slice z= 272\n"
     ]
    },
    {
     "name": "stderr",
     "output_type": "stream",
     "text": [
      "\n",
      "Uploading:   0%|          | 0/1 [00:00<?, ?it/s]\n",
      "Uploading: 100%|██████████| 1/1 [00:00<00:00, 22.98it/s]\n"
     ]
    },
    {
     "name": "stdout",
     "output_type": "stream",
     "text": [
      "Processing slice z= 273\n"
     ]
    },
    {
     "name": "stderr",
     "output_type": "stream",
     "text": [
      "\n",
      "Uploading:   0%|          | 0/1 [00:00<?, ?it/s]\u001b[A\n",
      "\n"
     ]
    },
    {
     "name": "stdout",
     "output_type": "stream",
     "text": [
      "Processing slice z= 274\n"
     ]
    },
    {
     "name": "stderr",
     "output_type": "stream",
     "text": [
      "\r",
      "Uploading:   0%|          | 0/1 [00:00<?, ?it/s]"
     ]
    },
    {
     "name": "stdout",
     "output_type": "stream",
     "text": [
      "Processing slice z= 275\n"
     ]
    },
    {
     "name": "stderr",
     "output_type": "stream",
     "text": [
      "Uploading: 100%|██████████| 1/1 [00:00<00:00, 22.98it/s]\n",
      "Uploading:   0%|          | 0/1 [00:00<?, ?it/s]\n",
      "Uploading:   0%|          | 0/1 [00:00<?, ?it/s]\u001b[A\n",
      "Uploading:   0%|          | 0/1 [00:00<?, ?it/s]\u001b[A\n",
      "\n",
      "Uploading: 100%|██████████| 1/1 [00:00<00:00, 19.84it/s]\n",
      "Uploading:   0%|          | 0/1 [00:00<?, ?it/s]\n",
      "Uploading: 100%|██████████| 1/1 [00:00<00:00, 28.87it/s]\n",
      "Uploading: 100%|██████████| 1/1 [00:00<00:00, 19.27it/s]\n"
     ]
    },
    {
     "name": "stdout",
     "output_type": "stream",
     "text": [
      "Processing slice z= 276\n"
     ]
    },
    {
     "name": "stderr",
     "output_type": "stream",
     "text": [
      "Uploading:   0%|          | 0/1 [00:00<?, ?it/s]\n",
      "Uploading: 100%|██████████| 1/1 [00:00<00:00, 19.62it/s]\n",
      "Uploading:   0%|          | 0/1 [00:00<?, ?it/s]\n"
     ]
    },
    {
     "name": "stdout",
     "output_type": "stream",
     "text": [
      "Processing slice z= 277\n",
      "Processing slice z= 278\n",
      "Processing slice z= 279\n"
     ]
    },
    {
     "name": "stderr",
     "output_type": "stream",
     "text": [
      "Uploading:   0%|          | 0/1 [00:00<?, ?it/s]\n",
      "Uploading: 100%|██████████| 1/1 [00:00<00:00, 19.77it/s]\n",
      "Uploading:   0%|          | 0/1 [00:00<?, ?it/s]\n",
      "Uploading: 100%|██████████| 1/1 [00:00<00:00, 24.42it/s]\n",
      "Uploading:   0%|          | 0/1 [00:00<?, ?it/s]\n",
      "Uploading:   0%|          | 0/1 [00:00<?, ?it/s]\n",
      "Uploading:   0%|          | 0/1 [00:00<?, ?it/s]\u001b[A"
     ]
    },
    {
     "name": "stdout",
     "output_type": "stream",
     "text": [
      "Processing slice z= 280\n"
     ]
    },
    {
     "name": "stderr",
     "output_type": "stream",
     "text": [
      "Uploading:   0%|          | 0/1 [00:00<?, ?it/s]\n",
      "\n",
      "Uploading: 100%|██████████| 1/1 [00:00<00:00, 22.23it/s]\n",
      "\n"
     ]
    },
    {
     "name": "stdout",
     "output_type": "stream",
     "text": [
      "Processing slice z= 281\n",
      "Processing slice z= 282\n"
     ]
    },
    {
     "name": "stderr",
     "output_type": "stream",
     "text": [
      "Uploading:   0%|          | 0/1 [00:00<?, ?it/s]\u001b[A\n",
      "\n",
      "Uploading:   0%|          | 0/1 [00:00<?, ?it/s]\u001b[A"
     ]
    },
    {
     "name": "stdout",
     "output_type": "stream",
     "text": [
      "success\n",
      "success\n",
      "success\n",
      "success\n",
      "success\n",
      "success\n",
      "success\n",
      "success\n",
      "success\n",
      "success\n",
      "success\n",
      "success\n",
      "success\n",
      "success\n",
      "success\n",
      "success\n",
      "success\n",
      "success\n",
      "success\n"
     ]
    },
    {
     "name": "stderr",
     "output_type": "stream",
     "text": [
      "Uploading:   0%|          | 0/1 [00:00<?, ?it/s]\n",
      "Uploading: 100%|██████████| 1/1 [00:00<00:00, 29.89it/s]\n",
      "\n",
      "Uploading: 100%|██████████| 1/1 [00:00<00:00, 28.65it/s]\n",
      "Uploading:   0%|          | 0/1 [00:00<?, ?it/s]\n",
      "Uploading:   0%|          | 0/1 [00:00<?, ?it/s]"
     ]
    },
    {
     "name": "stdout",
     "output_type": "stream",
     "text": [
      "Processing slice z= 283\n"
     ]
    },
    {
     "name": "stderr",
     "output_type": "stream",
     "text": [
      "\n",
      "Uploading: 100%|██████████| 1/1 [00:00<00:00, 28.93it/s]\n",
      "Uploading:   0%|          | 0/1 [00:00<?, ?it/s]\n"
     ]
    },
    {
     "name": "stdout",
     "output_type": "stream",
     "text": [
      "Processing slice z= 284\n"
     ]
    },
    {
     "name": "stderr",
     "output_type": "stream",
     "text": [
      "\r",
      "Uploading:   0%|          | 0/1 [00:00<?, ?it/s]"
     ]
    },
    {
     "name": "stdout",
     "output_type": "stream",
     "text": [
      "Processing slice z= 285\n",
      "Processing slice z= 286\n"
     ]
    },
    {
     "name": "stderr",
     "output_type": "stream",
     "text": [
      "\n",
      "Uploading: 100%|██████████| 1/1 [00:00<00:00, 28.94it/s]\n",
      "Uploading: 100%|██████████| 1/1 [00:00<00:00, 19.06it/s]\n",
      "Uploading:   0%|          | 0/1 [00:00<?, ?it/s]\n",
      "\n",
      "Uploading: 100%|██████████| 1/1 [00:00<00:00, 27.25it/s]\n",
      "Uploading:   0%|          | 0/1 [00:00<?, ?it/s]\n",
      "\n",
      "Uploading: 100%|██████████| 1/1 [00:00<00:00, 23.40it/s]\n",
      "\n"
     ]
    },
    {
     "name": "stdout",
     "output_type": "stream",
     "text": [
      "Processing slice z= 287\n"
     ]
    },
    {
     "name": "stderr",
     "output_type": "stream",
     "text": [
      "Uploading:   0%|          | 0/1 [00:00<?, ?it/s]\u001b[A\n",
      "Uploading:   0%|          | 0/1 [00:00<?, ?it/s]\n"
     ]
    },
    {
     "name": "stdout",
     "output_type": "stream",
     "text": [
      "Processing slice z= 288\n",
      "Processing slice z= 289\n",
      "Processing slice z= 290\n"
     ]
    },
    {
     "name": "stderr",
     "output_type": "stream",
     "text": [
      "Uploading: 100%|██████████| 1/1 [00:00<00:00, 23.31it/s]\n",
      "Uploading: 100%|██████████| 1/1 [00:00<00:00, 25.65it/s]\n",
      "Uploading:   0%|          | 0/1 [00:00<?, ?it/s]\n",
      "\n",
      "Uploading: 100%|██████████| 1/1 [00:00<00:00, 24.95it/s]\n",
      "Uploading:   0%|          | 0/1 [00:00<?, ?it/s]\n",
      "\n",
      "Uploading:   0%|          | 0/1 [00:00<?, ?it/s]\u001b[A\n"
     ]
    },
    {
     "name": "stdout",
     "output_type": "stream",
     "text": [
      "Processing slice z= 291\n"
     ]
    },
    {
     "name": "stderr",
     "output_type": "stream",
     "text": [
      "Uploading:   0%|          | 0/1 [00:00<?, ?it/s]\u001b[A\n",
      "\n"
     ]
    },
    {
     "name": "stdout",
     "output_type": "stream",
     "text": [
      "Processing slice z= 292\n"
     ]
    },
    {
     "name": "stderr",
     "output_type": "stream",
     "text": [
      "Uploading: 100%|██████████| 1/1 [00:00<00:00, 17.96it/s]\n"
     ]
    },
    {
     "name": "stdout",
     "output_type": "stream",
     "text": [
      "Processing slice z= 293\n"
     ]
    },
    {
     "name": "stderr",
     "output_type": "stream",
     "text": [
      "Uploading:   0%|          | 0/1 [00:00<?, ?it/s]\n",
      "Uploading: 100%|██████████| 1/1 [00:00<00:00, 26.90it/s]\n",
      "Uploading: 100%|██████████| 1/1 [00:00<00:00, 30.23it/s]\n",
      "Uploading:   0%|          | 0/1 [00:00<?, ?it/s]\n",
      "Uploading:   0%|          | 0/1 [00:00<?, ?it/s]\u001b[A\n",
      "Uploading:   0%|          | 0/1 [00:00<?, ?it/s]\u001b[A"
     ]
    },
    {
     "name": "stdout",
     "output_type": "stream",
     "text": [
      "Processing slice z= 294\n"
     ]
    },
    {
     "name": "stderr",
     "output_type": "stream",
     "text": [
      "\n",
      "Uploading:   0%|          | 0/1 [00:00<?, ?it/s]\u001b[A\n",
      "Uploading: 100%|██████████| 1/1 [00:00<00:00, 22.22it/s]\n",
      "Uploading:   0%|          | 0/1 [00:00<?, ?it/s]\n",
      "\n",
      "Uploading: 100%|██████████| 1/1 [00:00<00:00, 25.30it/s]\n",
      "Uploading:   0%|          | 0/1 [00:00<?, ?it/s]\n"
     ]
    },
    {
     "name": "stdout",
     "output_type": "stream",
     "text": [
      "Processing slice z= 295\n"
     ]
    },
    {
     "name": "stderr",
     "output_type": "stream",
     "text": [
      "Uploading:   0%|          | 0/1 [00:00<?, ?it/s]\n"
     ]
    },
    {
     "name": "stdout",
     "output_type": "stream",
     "text": [
      "Processing slice z= 296\n",
      "Processing slice z= 297\n",
      "Processing slice z= 298\n"
     ]
    },
    {
     "name": "stderr",
     "output_type": "stream",
     "text": [
      "Uploading: 100%|██████████| 1/1 [00:00<00:00, 27.70it/s]\n",
      "Uploading: 100%|██████████| 1/1 [00:00<00:00, 28.74it/s]\n",
      "Uploading:   0%|          | 0/1 [00:00<?, ?it/s]\n",
      "Uploading:   0%|          | 0/1 [00:00<?, ?it/s]\n",
      "Uploading:   0%|          | 0/1 [00:00<?, ?it/s]\u001b[A\n",
      "Uploading:   0%|          | 0/1 [00:00<?, ?it/s]\u001b[A\n",
      "Uploading: 100%|██████████| 1/1 [00:00<00:00, 22.90it/s]"
     ]
    },
    {
     "name": "stdout",
     "output_type": "stream",
     "text": [
      "Processing slice z= 299\n"
     ]
    },
    {
     "name": "stderr",
     "output_type": "stream",
     "text": [
      "\n",
      "Uploading:   0%|          | 0/1 [00:00<?, ?it/s]\n",
      "Uploading: 100%|██████████| 1/1 [00:00<00:00, 28.85it/s]\n",
      "Uploading:   0%|          | 0/1 [00:00<?, ?it/s]\n",
      "Uploading:   0%|          | 0/1 [00:00<?, ?it/s]"
     ]
    },
    {
     "name": "stdout",
     "output_type": "stream",
     "text": [
      "Processing slice z= 300\n"
     ]
    },
    {
     "name": "stderr",
     "output_type": "stream",
     "text": [
      "\n",
      "Uploading:   0%|          | 0/1 [00:00<?, ?it/s]\u001b[A\n",
      "Uploading:   0%|          | 0/1 [00:00<?, ?it/s]"
     ]
    },
    {
     "name": "stdout",
     "output_type": "stream",
     "text": [
      "Processing slice z= 301\n",
      "Processing slice z= 302\n"
     ]
    },
    {
     "name": "stderr",
     "output_type": "stream",
     "text": [
      "\n",
      "Uploading: 100%|██████████| 1/1 [00:00<00:00, 26.65it/s]\n",
      "\n",
      "Uploading:   0%|          | 0/1 [00:00<?, ?it/s]\u001b[A"
     ]
    },
    {
     "name": "stdout",
     "output_type": "stream",
     "text": [
      "success\n",
      "success\n",
      "success\n",
      "success\n",
      "success\n",
      "success\n",
      "success\n",
      "success\n",
      "success\n",
      "success\n",
      "success\n",
      "success\n",
      "success\n",
      "success\n",
      "success\n",
      "success\n",
      "success\n",
      "success\n",
      "success\n",
      "success\n"
     ]
    },
    {
     "name": "stderr",
     "output_type": "stream",
     "text": [
      "Uploading:   0%|          | 0/1 [00:00<?, ?it/s]\n",
      "\n",
      "Uploading: 100%|██████████| 1/1 [00:00<00:00, 29.07it/s]\n",
      "Uploading: 100%|██████████| 1/1 [00:00<00:00, 23.94it/s]\n",
      "Uploading:   0%|          | 0/1 [00:00<?, ?it/s]\n",
      "Uploading:   0%|          | 0/1 [00:00<?, ?it/s]\n"
     ]
    },
    {
     "name": "stdout",
     "output_type": "stream",
     "text": [
      "Processing slice z= 303\n"
     ]
    },
    {
     "name": "stderr",
     "output_type": "stream",
     "text": [
      "\r",
      "Uploading:   0%|          | 0/1 [00:00<?, ?it/s]"
     ]
    },
    {
     "name": "stdout",
     "output_type": "stream",
     "text": [
      "Processing slice z= 304\n",
      "Processing slice z= 305\n"
     ]
    },
    {
     "name": "stderr",
     "output_type": "stream",
     "text": [
      "Uploading: 100%|██████████| 1/1 [00:00<00:00, 22.40it/s]\n",
      "Uploading: 100%|██████████| 1/1 [00:00<00:00, 20.77it/s]\n",
      "Uploading:   0%|          | 0/1 [00:00<?, ?it/s]\n",
      "\n",
      "Uploading:   0%|          | 0/1 [00:00<?, ?it/s]\u001b[A\n",
      "Uploading:   0%|          | 0/1 [00:00<?, ?it/s]\u001b[A\n",
      "Uploading:   0%|          | 0/1 [00:00<?, ?it/s]\u001b[A\n",
      "Uploading: 100%|██████████| 1/1 [00:00<00:00, 26.31it/s]\n",
      "Uploading:   0%|          | 0/1 [00:00<?, ?it/s]"
     ]
    },
    {
     "name": "stdout",
     "output_type": "stream",
     "text": [
      "Processing slice z= 306\n"
     ]
    },
    {
     "name": "stderr",
     "output_type": "stream",
     "text": [
      "\n",
      "Uploading: 100%|██████████| 1/1 [00:00<00:00, 25.11it/s]\n",
      "Uploading:   0%|          | 0/1 [00:00<?, ?it/s]\n",
      "Uploading:   0%|          | 0/1 [00:00<?, ?it/s]\n"
     ]
    },
    {
     "name": "stdout",
     "output_type": "stream",
     "text": [
      "Processing slice z= 307\n"
     ]
    },
    {
     "name": "stderr",
     "output_type": "stream",
     "text": [
      "\n"
     ]
    },
    {
     "name": "stdout",
     "output_type": "stream",
     "text": [
      "Processing slice z= 308\n"
     ]
    },
    {
     "name": "stderr",
     "output_type": "stream",
     "text": [
      "Uploading:   0%|          | 0/1 [00:00<?, ?it/s]\u001b[A"
     ]
    },
    {
     "name": "stdout",
     "output_type": "stream",
     "text": [
      "Processing slice z= 309\n"
     ]
    },
    {
     "name": "stderr",
     "output_type": "stream",
     "text": [
      "Uploading: 100%|██████████| 1/1 [00:00<00:00, 32.94it/s]\n",
      "Uploading: 100%|██████████| 1/1 [00:00<00:00, 29.88it/s]\n",
      "Uploading: 100%|██████████| 1/1 [00:00<00:00, 26.68it/s]\n",
      "\n",
      "Uploading:   0%|          | 0/1 [00:00<?, ?it/s]\u001b[A\n",
      "Uploading:   0%|          | 0/1 [00:00<?, ?it/s]\u001b[A\n",
      "Uploading:   0%|          | 0/1 [00:00<?, ?it/s]\n",
      "Uploading:   0%|          | 0/1 [00:00<?, ?it/s]\n",
      "\n",
      "Uploading: 100%|██████████| 1/1 [00:00<00:00, 26.24it/s]\n",
      "Uploading:   0%|          | 0/1 [00:00<?, ?it/s]"
     ]
    },
    {
     "name": "stdout",
     "output_type": "stream",
     "text": [
      "Processing slice z= 310\n"
     ]
    },
    {
     "name": "stderr",
     "output_type": "stream",
     "text": [
      "\n"
     ]
    },
    {
     "name": "stdout",
     "output_type": "stream",
     "text": [
      "Processing slice z= 311\n",
      "Processing slice z= 312\n",
      "Processing slice z= 313\n"
     ]
    },
    {
     "name": "stderr",
     "output_type": "stream",
     "text": [
      "Uploading: 100%|██████████| 1/1 [00:00<00:00, 22.69it/s]\n",
      "Uploading:   0%|          | 0/1 [00:00<?, ?it/s]\n",
      "Uploading: 100%|██████████| 1/1 [00:00<00:00, 26.55it/s]\n",
      "Uploading:   0%|          | 0/1 [00:00<?, ?it/s]\n",
      "Uploading:   0%|          | 0/1 [00:00<?, ?it/s]\n",
      "Uploading:   0%|          | 0/1 [00:00<?, ?it/s]\u001b[A\n",
      "Uploading: 100%|██████████| 1/1 [00:00<00:00, 20.20it/s]\n",
      "\n",
      "Uploading: 100%|██████████| 1/1 [00:00<00:00, 24.00it/s]\n",
      "Uploading:   0%|          | 0/1 [00:00<?, ?it/s]\n"
     ]
    },
    {
     "name": "stdout",
     "output_type": "stream",
     "text": [
      "Processing slice z= 314\n"
     ]
    },
    {
     "name": "stderr",
     "output_type": "stream",
     "text": [
      "Uploading:   0%|          | 0/1 [00:00<?, ?it/s]\n",
      "Uploading:   0%|          | 0/1 [00:00<?, ?it/s]\n"
     ]
    },
    {
     "name": "stdout",
     "output_type": "stream",
     "text": [
      "Processing slice z= 315\n",
      "Processing slice z= 316\n"
     ]
    },
    {
     "name": "stderr",
     "output_type": "stream",
     "text": [
      "Uploading: 100%|██████████| 1/1 [00:00<00:00, 32.42it/s]\n",
      "Uploading:   0%|          | 0/1 [00:00<?, ?it/s]\n"
     ]
    },
    {
     "name": "stdout",
     "output_type": "stream",
     "text": [
      "Processing slice z= 317\n"
     ]
    },
    {
     "name": "stderr",
     "output_type": "stream",
     "text": [
      "Uploading:   0%|          | 0/1 [00:00<?, ?it/s]\n",
      "Uploading:   0%|          | 0/1 [00:00<?, ?it/s]\u001b[A"
     ]
    },
    {
     "name": "stdout",
     "output_type": "stream",
     "text": [
      "Processing slice z= 318\n"
     ]
    },
    {
     "name": "stderr",
     "output_type": "stream",
     "text": [
      "Uploading: 100%|██████████| 1/1 [00:00<00:00, 27.03it/s]\n",
      "Uploading:   0%|          | 0/1 [00:00<?, ?it/s]\n",
      "Uploading: 100%|██████████| 1/1 [00:00<00:00, 23.48it/s]\n",
      "Uploading:   0%|          | 0/1 [00:00<?, ?it/s]\n",
      "Uploading: 100%|██████████| 1/1 [00:00<00:00, 18.72it/s]\n",
      "\n",
      "Uploading:   0%|          | 0/1 [00:00<?, ?it/s]\u001b[A"
     ]
    },
    {
     "name": "stdout",
     "output_type": "stream",
     "text": [
      "Processing slice z= 319\n"
     ]
    },
    {
     "name": "stderr",
     "output_type": "stream",
     "text": [
      "\n",
      "Uploading:   0%|          | 0/1 [00:00<?, ?it/s]\u001b[A\n",
      "Uploading:   0%|          | 0/1 [00:00<?, ?it/s]\n",
      "\n",
      "Uploading:   0%|          | 0/1 [00:00<?, ?it/s]"
     ]
    },
    {
     "name": "stdout",
     "output_type": "stream",
     "text": [
      "Processing slice z= 320\n"
     ]
    },
    {
     "name": "stderr",
     "output_type": "stream",
     "text": [
      "Uploading: 100%|██████████| 1/1 [00:00<00:00, 17.63it/s]\n",
      "Uploading:   0%|          | 0/1 [00:00<?, ?it/s]\n",
      "Uploading:   0%|          | 0/1 [00:00<?, ?it/s]\u001b[A"
     ]
    },
    {
     "name": "stdout",
     "output_type": "stream",
     "text": [
      "Processing slice z= 321\n"
     ]
    },
    {
     "name": "stderr",
     "output_type": "stream",
     "text": [
      "Uploading:   0%|          | 0/1 [00:00<?, ?it/s]\n"
     ]
    },
    {
     "name": "stdout",
     "output_type": "stream",
     "text": [
      "success\n",
      "success\n",
      "success\n",
      "success\n",
      "success\n",
      "success\n",
      "success\n",
      "success\n",
      "success\n",
      "success\n",
      "success\n",
      "success\n",
      "success\n",
      "success\n",
      "success\n",
      "success\n",
      "success\n",
      "success\n",
      "success\n"
     ]
    },
    {
     "name": "stderr",
     "output_type": "stream",
     "text": [
      "\r",
      "Uploading: 100%|██████████| 1/1 [00:00<00:00, 18.97it/s]"
     ]
    },
    {
     "name": "stdout",
     "output_type": "stream",
     "text": [
      "Processing slice z= 322\n"
     ]
    },
    {
     "name": "stderr",
     "output_type": "stream",
     "text": [
      "\n",
      "Uploading: 100%|██████████| 1/1 [00:00<00:00, 22.67it/s]\n",
      "Uploading:   0%|          | 0/1 [00:00<?, ?it/s]\n",
      "Uploading:   0%|          | 0/1 [00:00<?, ?it/s]\n",
      "Uploading: 100%|██████████| 1/1 [00:00<00:00, 16.78it/s]\n",
      "\n",
      "Uploading:   0%|          | 0/1 [00:00<?, ?it/s]\u001b[A"
     ]
    },
    {
     "name": "stdout",
     "output_type": "stream",
     "text": [
      "Processing slice z= 323\n"
     ]
    },
    {
     "name": "stderr",
     "output_type": "stream",
     "text": [
      "Uploading:   0%|          | 0/1 [00:00<?, ?it/s]\n",
      "Uploading: 100%|██████████| 1/1 [00:00<00:00, 25.81it/s]\n",
      "Uploading:   0%|          | 0/1 [00:00<?, ?it/s]\n",
      "Uploading: 100%|██████████| 1/1 [00:00<00:00, 27.22it/s]\n",
      "\n",
      "Uploading:   0%|          | 0/1 [00:00<?, ?it/s]\u001b[A\n",
      "Uploading:   0%|          | 0/1 [00:00<?, ?it/s]"
     ]
    },
    {
     "name": "stdout",
     "output_type": "stream",
     "text": [
      "Processing slice z= 324\n",
      "Processing slice z= 325\n"
     ]
    },
    {
     "name": "stderr",
     "output_type": "stream",
     "text": [
      "\n",
      "\n"
     ]
    },
    {
     "name": "stdout",
     "output_type": "stream",
     "text": [
      "Processing slice z= 326\n"
     ]
    },
    {
     "name": "stderr",
     "output_type": "stream",
     "text": [
      "Uploading:   0%|          | 0/1 [00:00<?, ?it/s]\u001b[A"
     ]
    },
    {
     "name": "stdout",
     "output_type": "stream",
     "text": [
      "Processing slice z= 327\n"
     ]
    },
    {
     "name": "stderr",
     "output_type": "stream",
     "text": [
      "Uploading: 100%|██████████| 1/1 [00:00<00:00, 25.70it/s]\n",
      "Uploading: 100%|██████████| 1/1 [00:00<00:00, 22.47it/s]\n",
      "Uploading: 100%|██████████| 1/1 [00:00<00:00, 27.48it/s]\n",
      "Uploading:   0%|          | 0/1 [00:00<?, ?it/s]\n",
      "Uploading:   0%|          | 0/1 [00:00<?, ?it/s]\u001b[A\n",
      "Uploading:   0%|          | 0/1 [00:00<?, ?it/s]\u001b[A\n",
      "Uploading:   0%|          | 0/1 [00:00<?, ?it/s]\u001b[A\n",
      "Uploading:   0%|          | 0/1 [00:00<?, ?it/s]\n",
      "\n",
      "Uploading:   0%|          | 0/1 [00:00<?, ?it/s]\u001b[A"
     ]
    },
    {
     "name": "stdout",
     "output_type": "stream",
     "text": [
      "Processing slice z= 329\n",
      "Processing slice z= 328\n"
     ]
    },
    {
     "name": "stderr",
     "output_type": "stream",
     "text": [
      "\n",
      "Uploading: 100%|██████████| 1/1 [00:00<00:00, 19.57it/s]"
     ]
    },
    {
     "name": "stdout",
     "output_type": "stream",
     "text": [
      "Processing slice z= 330\n"
     ]
    },
    {
     "name": "stderr",
     "output_type": "stream",
     "text": [
      "\n",
      "Uploading:   0%|          | 0/1 [00:00<?, ?it/s]\n",
      "Uploading:   0%|          | 0/1 [00:00<?, ?it/s]\n",
      "Uploading: 100%|██████████| 1/1 [00:00<00:00, 26.10it/s]\n",
      "\n",
      "Uploading: 100%|██████████| 1/1 [00:00<00:00, 25.58it/s]\n"
     ]
    },
    {
     "name": "stdout",
     "output_type": "stream",
     "text": [
      "Processing slice z= 331\n"
     ]
    },
    {
     "name": "stderr",
     "output_type": "stream",
     "text": [
      "Uploading: 100%|██████████| 1/1 [00:00<00:00, 25.52it/s]\n",
      "Uploading:   0%|          | 0/1 [00:00<?, ?it/s]\n",
      "\n",
      "Uploading:   0%|          | 0/1 [00:00<?, ?it/s]\u001b[A\n",
      "Uploading: 100%|██████████| 1/1 [00:00<00:00, 24.59it/s]\n",
      "Uploading:   0%|          | 0/1 [00:00<?, ?it/s]"
     ]
    },
    {
     "name": "stdout",
     "output_type": "stream",
     "text": [
      "Processing slice z= 332\n"
     ]
    },
    {
     "name": "stderr",
     "output_type": "stream",
     "text": [
      "Uploading:   0%|          | 0/1 [00:00<?, ?it/s]\n",
      "\n",
      "Uploading:   0%|          | 0/1 [00:00<?, ?it/s]\u001b[A\n",
      "Uploading: 100%|██████████| 1/1 [00:00<00:00, 30.15it/s]"
     ]
    },
    {
     "name": "stdout",
     "output_type": "stream",
     "text": [
      "Processing slice z= 333\n",
      "Processing slice z= 334\n"
     ]
    },
    {
     "name": "stderr",
     "output_type": "stream",
     "text": [
      "\n"
     ]
    },
    {
     "name": "stdout",
     "output_type": "stream",
     "text": [
      "Processing slice z= 335\n"
     ]
    },
    {
     "name": "stderr",
     "output_type": "stream",
     "text": [
      "Uploading:   0%|          | 0/1 [00:00<?, ?it/s]\n",
      "Uploading:   0%|          | 0/1 [00:00<?, ?it/s]\n",
      "Uploading: 100%|██████████| 1/1 [00:00<00:00, 30.16it/s]\n"
     ]
    },
    {
     "name": "stdout",
     "output_type": "stream",
     "text": [
      "Processing slice z= 336\n"
     ]
    },
    {
     "name": "stderr",
     "output_type": "stream",
     "text": [
      "Uploading:   0%|          | 0/1 [00:00<?, ?it/s]\n",
      "Uploading: 100%|██████████| 1/1 [00:00<00:00, 23.27it/s]\n",
      "Uploading:   0%|          | 0/1 [00:00<?, ?it/s]\n",
      "Uploading:   0%|          | 0/1 [00:00<?, ?it/s]"
     ]
    },
    {
     "name": "stdout",
     "output_type": "stream",
     "text": [
      "Processing slice z= 337\n"
     ]
    },
    {
     "name": "stderr",
     "output_type": "stream",
     "text": [
      "Uploading:   0%|          | 0/1 [00:00<?, ?it/s]\n",
      "\n",
      "Uploading:   0%|          | 0/1 [00:00<?, ?it/s]\u001b[A\n",
      "Uploading:   0%|          | 0/1 [00:00<?, ?it/s]\u001b[A\n",
      "Uploading: 100%|██████████| 1/1 [00:00<00:00, 19.23it/s]\n",
      "Uploading:   0%|          | 0/1 [00:00<?, ?it/s]"
     ]
    },
    {
     "name": "stdout",
     "output_type": "stream",
     "text": [
      "Processing slice z= 338\n"
     ]
    },
    {
     "name": "stderr",
     "output_type": "stream",
     "text": [
      "Uploading: 100%|██████████| 1/1 [00:00<00:00, 22.30it/s]\n",
      "Uploading:   0%|          | 0/1 [00:00<?, ?it/s]\n",
      "\n",
      "Uploading:   0%|          | 0/1 [00:00<?, ?it/s]\u001b[A\n",
      "Uploading: 100%|██████████| 1/1 [00:00<00:00, 32.23it/s]"
     ]
    },
    {
     "name": "stdout",
     "output_type": "stream",
     "text": [
      "success\n",
      "success\n",
      "success\n",
      "success\n",
      "success\n",
      "success\n",
      "success\n",
      "success\n",
      "success\n",
      "success\n",
      "success\n",
      "success\n",
      "success\n",
      "success\n",
      "success\n",
      "success\n",
      "success\n"
     ]
    },
    {
     "name": "stderr",
     "output_type": "stream",
     "text": [
      "\n"
     ]
    },
    {
     "name": "stdout",
     "output_type": "stream",
     "text": [
      "Processing slice z= 339\n"
     ]
    },
    {
     "name": "stderr",
     "output_type": "stream",
     "text": [
      "\r",
      "Uploading:   0%|          | 0/1 [00:00<?, ?it/s]"
     ]
    },
    {
     "name": "stdout",
     "output_type": "stream",
     "text": [
      "Processing slice z= 340\n"
     ]
    },
    {
     "name": "stderr",
     "output_type": "stream",
     "text": [
      "\n",
      "Uploading: 100%|██████████| 1/1 [00:00<00:00, 24.97it/s]\n",
      "Uploading: 100%|██████████| 1/1 [00:00<00:00, 19.91it/s]\n",
      "Uploading:   0%|          | 0/1 [00:00<?, ?it/s]\n"
     ]
    },
    {
     "name": "stdout",
     "output_type": "stream",
     "text": [
      "Processing slice z= 341\n"
     ]
    },
    {
     "name": "stderr",
     "output_type": "stream",
     "text": [
      "Uploading:   0%|          | 0/1 [00:00<?, ?it/s]\n",
      "\n",
      "Uploading: 100%|██████████| 1/1 [00:00<00:00, 18.94it/s]\n",
      "Uploading:   0%|          | 0/1 [00:00<?, ?it/s]\n"
     ]
    },
    {
     "name": "stdout",
     "output_type": "stream",
     "text": [
      "Processing slice z= 342\n"
     ]
    },
    {
     "name": "stderr",
     "output_type": "stream",
     "text": [
      "Uploading:   0%|          | 0/1 [00:00<?, ?it/s]\n",
      "Uploading: 100%|██████████| 1/1 [00:00<00:00, 18.19it/s]\n",
      "Uploading:   0%|          | 0/1 [00:00<?, ?it/s]\n",
      "\n",
      "Uploading:   0%|          | 0/1 [00:00<?, ?it/s]"
     ]
    },
    {
     "name": "stdout",
     "output_type": "stream",
     "text": [
      "Processing slice z= 343\n"
     ]
    },
    {
     "name": "stderr",
     "output_type": "stream",
     "text": [
      "Uploading:   0%|          | 0/1 [00:00<?, ?it/s]\n",
      "Uploading:   0%|          | 0/1 [00:00<?, ?it/s]"
     ]
    },
    {
     "name": "stdout",
     "output_type": "stream",
     "text": [
      "Processing slice z= 344\n"
     ]
    },
    {
     "name": "stderr",
     "output_type": "stream",
     "text": [
      "\u001b[A"
     ]
    },
    {
     "name": "stdout",
     "output_type": "stream",
     "text": [
      "Processing slice z= 345\n"
     ]
    },
    {
     "name": "stderr",
     "output_type": "stream",
     "text": [
      "Uploading: 100%|██████████| 1/1 [00:00<00:00, 24.32it/s]\n",
      "\n",
      "Uploading: 100%|██████████| 1/1 [00:00<00:00, 23.60it/s]\n",
      "Uploading:   0%|          | 0/1 [00:00<?, ?it/s]\n",
      "\n",
      "Uploading:   0%|          | 0/1 [00:00<?, ?it/s]\u001b[A\n",
      "Uploading:   0%|          | 0/1 [00:00<?, ?it/s]\u001b[A\n",
      "Uploading:   0%|          | 0/1 [00:00<?, ?it/s]\u001b[A"
     ]
    },
    {
     "name": "stdout",
     "output_type": "stream",
     "text": [
      "Processing slice z= 346\n"
     ]
    },
    {
     "name": "stderr",
     "output_type": "stream",
     "text": [
      "\n",
      "Uploading: 100%|██████████| 1/1 [00:00<00:00, 29.31it/s]\n",
      "Uploading: 100%|██████████| 1/1 [00:00<00:00, 27.20it/s]\n"
     ]
    },
    {
     "name": "stdout",
     "output_type": "stream",
     "text": [
      "Processing slice z= 347\n"
     ]
    },
    {
     "name": "stderr",
     "output_type": "stream",
     "text": [
      "Uploading:   0%|          | 0/1 [00:00<?, ?it/s]\n",
      "Uploading:   0%|          | 0/1 [00:00<?, ?it/s]\n",
      "Uploading:   0%|          | 0/1 [00:00<?, ?it/s]\n"
     ]
    },
    {
     "name": "stdout",
     "output_type": "stream",
     "text": [
      "Processing slice z= 348\n"
     ]
    },
    {
     "name": "stderr",
     "output_type": "stream",
     "text": [
      "Uploading: 100%|██████████| 1/1 [00:00<00:00, 25.03it/s]\n",
      "Uploading:   0%|          | 0/1 [00:00<?, ?it/s]\n",
      "Uploading: 100%|██████████| 1/1 [00:00<00:00, 25.71it/s]\n",
      "Uploading: 100%|██████████| 1/1 [00:00<00:00, 26.00it/s]\n"
     ]
    },
    {
     "name": "stdout",
     "output_type": "stream",
     "text": [
      "Processing slice z= 349\n"
     ]
    },
    {
     "name": "stderr",
     "output_type": "stream",
     "text": [
      "Uploading:   0%|          | 0/1 [00:00<?, ?it/s]\n",
      "Uploading: 100%|██████████| 1/1 [00:00<00:00, 24.49it/s]\n",
      "Uploading:   0%|          | 0/1 [00:00<?, ?it/s]\n",
      "Uploading:   0%|          | 0/1 [00:00<?, ?it/s]\n",
      "Uploading:   0%|          | 0/1 [00:00<?, ?it/s]"
     ]
    },
    {
     "name": "stdout",
     "output_type": "stream",
     "text": [
      "Processing slice z= 350\n"
     ]
    },
    {
     "name": "stderr",
     "output_type": "stream",
     "text": [
      "\n",
      "Uploading:   0%|          | 0/1 [00:00<?, ?it/s]"
     ]
    },
    {
     "name": "stdout",
     "output_type": "stream",
     "text": [
      "Processing slice z= 351\n"
     ]
    },
    {
     "name": "stderr",
     "output_type": "stream",
     "text": [
      "Uploading:   0%|          | 0/1 [00:00<?, ?it/s]\n",
      "Uploading:   0%|          | 0/1 [00:00<?, ?it/s]"
     ]
    },
    {
     "name": "stdout",
     "output_type": "stream",
     "text": [
      "Processing slice z= 352\n"
     ]
    },
    {
     "name": "stderr",
     "output_type": "stream",
     "text": [
      "\n",
      "Uploading:   0%|          | 0/1 [00:00<?, ?it/s]\u001b[A\n",
      "Uploading:   0%|          | 0/1 [00:00<?, ?it/s]\u001b[A"
     ]
    },
    {
     "name": "stdout",
     "output_type": "stream",
     "text": [
      "Processing slice z= 353\n"
     ]
    },
    {
     "name": "stderr",
     "output_type": "stream",
     "text": [
      "\n",
      "Uploading: 100%|██████████| 1/1 [00:00<00:00, 20.96it/s]\n",
      "Uploading: 100%|██████████| 1/1 [00:00<00:00, 18.36it/s]\n",
      "\n",
      "Uploading:   0%|          | 0/1 [00:00<?, ?it/s]\u001b[A\n",
      "Uploading:   0%|          | 0/1 [00:00<?, ?it/s]\n",
      "Uploading: 100%|██████████| 1/1 [00:00<00:00, 21.43it/s]\n",
      "\n",
      "Uploading: 100%|██████████| 1/1 [00:00<00:00, 22.28it/s]\n",
      "Uploading: 100%|██████████| 1/1 [00:00<00:00, 25.95it/s]\n",
      "Uploading:   0%|          | 0/1 [00:00<?, ?it/s]\n"
     ]
    },
    {
     "name": "stdout",
     "output_type": "stream",
     "text": [
      "Processing slice z= 354\n"
     ]
    },
    {
     "name": "stderr",
     "output_type": "stream",
     "text": [
      "Uploading: 100%|██████████| 1/1 [00:00<00:00, 26.98it/s]\n",
      "Uploading:   0%|          | 0/1 [00:00<?, ?it/s]\n",
      "Uploading:   0%|          | 0/1 [00:00<?, ?it/s]"
     ]
    },
    {
     "name": "stdout",
     "output_type": "stream",
     "text": [
      "Processing slice z= 355\n"
     ]
    },
    {
     "name": "stderr",
     "output_type": "stream",
     "text": [
      "\n",
      "Uploading:   0%|          | 0/1 [00:00<?, ?it/s]"
     ]
    },
    {
     "name": "stdout",
     "output_type": "stream",
     "text": [
      "Processing slice z= 356\n"
     ]
    },
    {
     "name": "stderr",
     "output_type": "stream",
     "text": [
      "\n"
     ]
    },
    {
     "name": "stdout",
     "output_type": "stream",
     "text": [
      "Processing slice z= 357\n",
      "Processing slice z= 358\n"
     ]
    },
    {
     "name": "stderr",
     "output_type": "stream",
     "text": [
      "Uploading: 100%|██████████| 1/1 [00:00<00:00, 24.92it/s]\n",
      "Uploading:   0%|          | 0/1 [00:00<?, ?it/s]\n",
      "Uploading:   0%|          | 0/1 [00:00<?, ?it/s]"
     ]
    },
    {
     "name": "stdout",
     "output_type": "stream",
     "text": [
      "success\n",
      "success\n",
      "success\n",
      "success\n",
      "success\n",
      "success\n",
      "success\n",
      "success\n",
      "success\n",
      "success\n",
      "success\n",
      "success\n",
      "success\n",
      "success\n",
      "success\n",
      "success\n",
      "success\n",
      "success\n",
      "success\n"
     ]
    },
    {
     "name": "stderr",
     "output_type": "stream",
     "text": [
      "Uploading:   0%|          | 0/1 [00:00<?, ?it/s]"
     ]
    },
    {
     "name": "stdout",
     "output_type": "stream",
     "text": [
      "Processing slice z= 359\n"
     ]
    },
    {
     "name": "stderr",
     "output_type": "stream",
     "text": [
      "\n",
      "Uploading:   0%|          | 0/1 [00:00<?, ?it/s]\n",
      "Uploading:   0%|          | 0/1 [00:00<?, ?it/s]\u001b[A\n"
     ]
    },
    {
     "name": "stdout",
     "output_type": "stream",
     "text": [
      "Processing slice z= 360\n"
     ]
    },
    {
     "name": "stderr",
     "output_type": "stream",
     "text": [
      "Uploading:   0%|          | 0/1 [00:00<?, ?it/s]\u001b[A\n",
      "Uploading:   0%|          | 0/1 [00:00<?, ?it/s]\u001b[A\n",
      "Uploading: 100%|██████████| 1/1 [00:00<00:00, 22.10it/s]\n",
      "Uploading:   0%|          | 0/1 [00:00<?, ?it/s]\n",
      "Uploading:   0%|          | 0/1 [00:00<?, ?it/s]\n",
      "Uploading:   0%|          | 0/1 [00:00<?, ?it/s]\u001b[A\n"
     ]
    },
    {
     "name": "stdout",
     "output_type": "stream",
     "text": [
      "Processing slice z= 361\n"
     ]
    },
    {
     "name": "stderr",
     "output_type": "stream",
     "text": [
      "Uploading: 100%|██████████| 1/1 [00:00<00:00, 28.57it/s]\n",
      "Uploading:   0%|          | 0/1 [00:00<?, ?it/s]\n",
      "Uploading:   0%|          | 0/1 [00:00<?, ?it/s]\n",
      "Uploading: 100%|██████████| 1/1 [00:00<00:00, 18.61it/s]\n",
      "Uploading: 100%|██████████| 1/1 [00:00<00:00, 22.33it/s]\n"
     ]
    },
    {
     "name": "stdout",
     "output_type": "stream",
     "text": [
      "Processing slice z= 362\n"
     ]
    },
    {
     "name": "stderr",
     "output_type": "stream",
     "text": [
      "Uploading: 100%|██████████| 1/1 [00:00<00:00, 20.72it/s]\n",
      "Uploading:   0%|          | 0/1 [00:00<?, ?it/s]\n",
      "Uploading:   0%|          | 0/1 [00:00<?, ?it/s]\n",
      "Uploading:   0%|          | 0/1 [00:00<?, ?it/s]"
     ]
    },
    {
     "name": "stdout",
     "output_type": "stream",
     "text": [
      "Processing slice z= 363\n",
      "Processing slice z= 364\n"
     ]
    },
    {
     "name": "stderr",
     "output_type": "stream",
     "text": [
      "\n",
      "Uploading: 100%|██████████| 1/1 [00:00<00:00, 21.80it/s]\n",
      "Uploading: 100%|██████████| 1/1 [00:00<00:00, 17.08it/s]\n",
      "Uploading:   0%|          | 0/1 [00:00<?, ?it/s]\n",
      "Uploading:   0%|          | 0/1 [00:00<?, ?it/s]"
     ]
    },
    {
     "name": "stdout",
     "output_type": "stream",
     "text": [
      "Processing slice z= 365\n"
     ]
    },
    {
     "name": "stderr",
     "output_type": "stream",
     "text": [
      "\n",
      "Uploading:   0%|          | 0/1 [00:00<?, ?it/s]\u001b[A\n",
      "Uploading:   0%|          | 0/1 [00:00<?, ?it/s]"
     ]
    },
    {
     "name": "stdout",
     "output_type": "stream",
     "text": [
      "Processing slice z= 366\n"
     ]
    },
    {
     "name": "stderr",
     "output_type": "stream",
     "text": [
      "Uploading:   0%|          | 0/1 [00:00<?, ?it/s]\n",
      "\n",
      "Uploading: 100%|██████████| 1/1 [00:00<00:00, 22.45it/s]\n",
      "Uploading: 100%|██████████| 1/1 [00:00<00:00, 14.31it/s]\n",
      "Uploading:   0%|          | 0/1 [00:00<?, ?it/s]\n",
      "Uploading:   0%|          | 0/1 [00:00<?, ?it/s]\u001b[A\n",
      "Uploading:   0%|          | 0/1 [00:00<?, ?it/s]"
     ]
    },
    {
     "name": "stdout",
     "output_type": "stream",
     "text": [
      "Processing slice z= 367\n"
     ]
    },
    {
     "name": "stderr",
     "output_type": "stream",
     "text": [
      "Uploading:   0%|          | 0/1 [00:00<?, ?it/s]\n",
      "Uploading:   0%|          | 0/1 [00:00<?, ?it/s]\n"
     ]
    },
    {
     "name": "stdout",
     "output_type": "stream",
     "text": [
      "Processing slice z= 368\n",
      "Processing slice z= 369\n"
     ]
    },
    {
     "name": "stderr",
     "output_type": "stream",
     "text": [
      "Uploading:   0%|          | 0/1 [00:00<?, ?it/s]\n",
      "Uploading: 100%|██████████| 1/1 [00:00<00:00, 19.51it/s]\n",
      "Uploading:   0%|          | 0/1 [00:00<?, ?it/s]\n",
      "Uploading:   0%|          | 0/1 [00:00<?, ?it/s]\u001b[A\n",
      "Uploading:   0%|          | 0/1 [00:00<?, ?it/s]\u001b[A\n",
      "Uploading: 100%|██████████| 1/1 [00:00<00:00, 22.53it/s]\n",
      "Uploading: 100%|██████████| 1/1 [00:00<00:00, 18.25it/s]\n",
      "Uploading: 100%|██████████| 1/1 [00:00<00:00, 22.53it/s]\n",
      "Uploading: 100%|██████████| 1/1 [00:00<00:00, 18.96it/s]\n",
      "Uploading:   0%|          | 0/1 [00:00<?, ?it/s]\n",
      "Uploading:   0%|          | 0/1 [00:00<?, ?it/s]\n",
      "Uploading:   0%|          | 0/1 [00:00<?, ?it/s]"
     ]
    },
    {
     "name": "stdout",
     "output_type": "stream",
     "text": [
      "Processing slice z= 370\n"
     ]
    },
    {
     "name": "stderr",
     "output_type": "stream",
     "text": [
      "\n",
      "Uploading:   0%|          | 0/1 [00:00<?, ?it/s]\n"
     ]
    },
    {
     "name": "stdout",
     "output_type": "stream",
     "text": [
      "Processing slice z= 371\n",
      "Processing slice z= 372\n"
     ]
    },
    {
     "name": "stderr",
     "output_type": "stream",
     "text": [
      "\r",
      "Uploading:   0%|          | 0/1 [00:00<?, ?it/s]"
     ]
    },
    {
     "name": "stdout",
     "output_type": "stream",
     "text": [
      "Processing slice z= 373\n"
     ]
    },
    {
     "name": "stderr",
     "output_type": "stream",
     "text": [
      "\n",
      "Uploading:   0%|          | 0/1 [00:00<?, ?it/s]"
     ]
    },
    {
     "name": "stdout",
     "output_type": "stream",
     "text": [
      "Processing slice z= 374\n"
     ]
    },
    {
     "name": "stderr",
     "output_type": "stream",
     "text": [
      "Uploading: 100%|██████████| 1/1 [00:00<00:00, 19.86it/s]\n",
      "Uploading:   0%|          | 0/1 [00:00<?, ?it/s]\n",
      "Uploading:   0%|          | 0/1 [00:00<?, ?it/s]\u001b[A\n",
      "Uploading:   0%|          | 0/1 [00:00<?, ?it/s]\u001b[A\n",
      "Uploading:   0%|          | 0/1 [00:00<?, ?it/s]\u001b[A\n",
      "Uploading: 100%|██████████| 1/1 [00:00<00:00, 20.31it/s]\n",
      "Uploading: 100%|██████████| 1/1 [00:00<00:00, 20.42it/s]\n",
      "\n",
      "Uploading:   0%|          | 0/1 [00:00<?, ?it/s]\u001b[A\n"
     ]
    },
    {
     "name": "stdout",
     "output_type": "stream",
     "text": [
      "Processing slice z= 375\n"
     ]
    },
    {
     "name": "stderr",
     "output_type": "stream",
     "text": [
      "Uploading:   0%|          | 0/1 [00:00<?, ?it/s]\n"
     ]
    },
    {
     "name": "stdout",
     "output_type": "stream",
     "text": [
      "success\n",
      "success\n",
      "success\n",
      "success\n",
      "success\n",
      "success\n",
      "success\n",
      "success\n",
      "success\n",
      "success\n",
      "success\n",
      "success\n",
      "success\n",
      "success\n",
      "success\n",
      "success\n",
      "success\n",
      "success\n",
      "Processing slice z= 376\n",
      "Processing slice z= 377\n"
     ]
    },
    {
     "name": "stderr",
     "output_type": "stream",
     "text": [
      "Uploading:   0%|          | 0/1 [00:00<?, ?it/s]\n",
      "Uploading: 100%|██████████| 1/1 [00:00<00:00, 15.88it/s]\n",
      "Uploading: 100%|██████████| 1/1 [00:00<00:00, 19.21it/s]\n",
      "Uploading: 100%|██████████| 1/1 [00:00<00:00, 17.81it/s]\n",
      "Uploading: 100%|██████████| 1/1 [00:00<00:00, 19.62it/s]\n",
      "\n",
      "Uploading:   0%|          | 0/1 [00:00<?, ?it/s]\u001b[A\n",
      "Uploading:   0%|          | 0/1 [00:00<?, ?it/s]\u001b[A\n",
      "Uploading:   0%|          | 0/1 [00:00<?, ?it/s]\n",
      "Uploading:   0%|          | 0/1 [00:00<?, ?it/s]\n",
      "Uploading:   0%|          | 0/1 [00:00<?, ?it/s]\n",
      "Uploading: 100%|██████████| 1/1 [00:00<00:00, 18.81it/s]\n",
      "Uploading:   0%|          | 0/1 [00:00<?, ?it/s]\n"
     ]
    },
    {
     "name": "stdout",
     "output_type": "stream",
     "text": [
      "Processing slice z= 378\n",
      "Processing slice z= 379\n",
      "Processing slice z= 380\n",
      "Processing slice z= 381\n",
      "Processing slice z= 382\n"
     ]
    },
    {
     "name": "stderr",
     "output_type": "stream",
     "text": [
      "Uploading:   0%|          | 0/1 [00:00<?, ?it/s]\n",
      "Uploading:   0%|          | 0/1 [00:00<?, ?it/s]\u001b[A\n",
      "Uploading:   0%|          | 0/1 [00:00<?, ?it/s]\u001b[A\n",
      "Uploading:   0%|          | 0/1 [00:00<?, ?it/s]\u001b[A\n",
      "Uploading:   0%|          | 0/1 [00:00<?, ?it/s]\u001b[A\n",
      "Uploading: 100%|██████████| 1/1 [00:00<00:00, 16.45it/s]\n",
      "Uploading: 100%|██████████| 1/1 [00:00<00:00, 18.32it/s]\n",
      "Uploading: 100%|██████████| 1/1 [00:00<00:00, 16.42it/s]\n",
      "Uploading:   0%|          | 0/1 [00:00<?, ?it/s]\n",
      "Uploading:   0%|          | 0/1 [00:00<?, ?it/s]\n",
      "Uploading:   0%|          | 0/1 [00:00<?, ?it/s]\n"
     ]
    },
    {
     "name": "stdout",
     "output_type": "stream",
     "text": [
      "Processing slice z= 383\n",
      "Processing slice z= 384\n",
      "Processing slice z= 385\n"
     ]
    },
    {
     "name": "stderr",
     "output_type": "stream",
     "text": [
      "Uploading:   0%|          | 0/1 [00:00<?, ?it/s]\n",
      "Uploading:   0%|          | 0/1 [00:00<?, ?it/s]\u001b[A\n",
      "Uploading:   0%|          | 0/1 [00:00<?, ?it/s]\u001b[A\n",
      "Uploading: 100%|██████████| 1/1 [00:00<00:00, 17.21it/s]\n",
      "Uploading: 100%|██████████| 1/1 [00:00<00:00, 14.86it/s]\n",
      "Uploading: 100%|██████████| 1/1 [00:00<00:00, 14.13it/s]\n",
      "Uploading: 100%|██████████| 1/1 [00:00<00:00, 14.51it/s]\n",
      "Uploading:   0%|          | 0/1 [00:00<?, ?it/s]\n",
      "Uploading: 100%|██████████| 1/1 [00:00<00:00, 12.32it/s]\n",
      "Uploading:   0%|          | 0/1 [00:00<?, ?it/s]\n",
      "Uploading:   0%|          | 0/1 [00:00<?, ?it/s]\n",
      "Uploading:   0%|          | 0/1 [00:00<?, ?it/s]\n",
      "Uploading:   0%|          | 0/1 [00:00<?, ?it/s]\n"
     ]
    },
    {
     "name": "stdout",
     "output_type": "stream",
     "text": [
      "Processing slice z= 386\n",
      "Processing slice z= 387\n",
      "Processing slice z= 388\n",
      "Processing slice z= 389\n",
      "Processing slice z= 390\n"
     ]
    },
    {
     "name": "stderr",
     "output_type": "stream",
     "text": [
      "Uploading: 100%|██████████| 1/1 [00:00<00:00, 15.22it/s]\n",
      "\n",
      "Uploading:   0%|          | 0/1 [00:00<?, ?it/s]\u001b[A\n",
      "Uploading:   0%|          | 0/1 [00:00<?, ?it/s]\u001b[A\n",
      "Uploading:   0%|          | 0/1 [00:00<?, ?it/s]\u001b[A\n",
      "Uploading:   0%|          | 0/1 [00:00<?, ?it/s]\u001b[A"
     ]
    },
    {
     "name": "stdout",
     "output_type": "stream",
     "text": [
      "success\n",
      "success\n",
      "success\n",
      "success\n",
      "success\n",
      "success\n",
      "success\n",
      "success\n",
      "success\n",
      "success\n",
      "success\n",
      "success\n",
      "success\n",
      "success\n",
      "success\n"
     ]
    },
    {
     "name": "stderr",
     "output_type": "stream",
     "text": [
      "Uploading:   0%|          | 0/1 [00:00<?, ?it/s]\n",
      "\n",
      "Uploading: 100%|██████████| 1/1 [00:00<00:00, 14.15it/s]\n",
      "Uploading: 100%|██████████| 1/1 [00:00<00:00, 14.73it/s]"
     ]
    },
    {
     "name": "stdout",
     "output_type": "stream",
     "text": [
      "Processing slice z= 391\n"
     ]
    },
    {
     "name": "stderr",
     "output_type": "stream",
     "text": [
      "\n",
      "Uploading:   0%|          | 0/1 [00:00<?, ?it/s]\n",
      "Uploading:   0%|          | 0/1 [00:00<?, ?it/s]\n",
      "Uploading:   0%|          | 0/1 [00:00<?, ?it/s]\n",
      "Uploading:   0%|          | 0/1 [00:00<?, ?it/s]\u001b[A"
     ]
    },
    {
     "name": "stdout",
     "output_type": "stream",
     "text": [
      "Processing slice z= 392\n",
      "Processing slice z= 393\n"
     ]
    },
    {
     "name": "stderr",
     "output_type": "stream",
     "text": [
      "Uploading: 100%|██████████| 1/1 [00:00<00:00, 18.17it/s]\n",
      "Uploading:   0%|          | 0/1 [00:00<?, ?it/s]\n",
      "Uploading:   0%|          | 0/1 [00:00<?, ?it/s]"
     ]
    },
    {
     "name": "stdout",
     "output_type": "stream",
     "text": [
      "Processing slice z= 394\n"
     ]
    },
    {
     "name": "stderr",
     "output_type": "stream",
     "text": [
      "Uploading: 100%|██████████| 1/1 [00:00<00:00, 15.33it/s]\n",
      "Uploading: 100%|██████████| 1/1 [00:00<00:00, 14.01it/s]\n",
      "Uploading: 100%|██████████| 1/1 [00:00<00:00, 12.22it/s]\n",
      "\n",
      "Uploading:   0%|          | 0/1 [00:00<?, ?it/s]\u001b[A\n",
      "Uploading:   0%|          | 0/1 [00:00<?, ?it/s]\u001b[A\n",
      "Uploading: 100%|██████████| 1/1 [00:00<00:00, 14.53it/s]\n",
      "Uploading:   0%|          | 0/1 [00:00<?, ?it/s]\n",
      "Uploading:   0%|          | 0/1 [00:00<?, ?it/s]\n",
      "\n",
      "Uploading:   0%|          | 0/1 [00:00<?, ?it/s]\u001b[A\n"
     ]
    },
    {
     "name": "stdout",
     "output_type": "stream",
     "text": [
      "Processing slice z= 395\n",
      "Processing slice z= 396\n",
      "Processing slice z= 398\n",
      "Processing slice z= 397\n"
     ]
    },
    {
     "name": "stderr",
     "output_type": "stream",
     "text": [
      "Uploading: 100%|██████████| 1/1 [00:00<00:00, 13.73it/s]\n",
      "Uploading:   0%|          | 0/1 [00:00<?, ?it/s]\n",
      "Uploading:   0%|          | 0/1 [00:00<?, ?it/s]"
     ]
    },
    {
     "name": "stdout",
     "output_type": "stream",
     "text": [
      "Processing slice z= 399\n"
     ]
    },
    {
     "name": "stderr",
     "output_type": "stream",
     "text": [
      "\n",
      "Uploading:   0%|          | 0/1 [00:00<?, ?it/s]\u001b[A\n",
      "Uploading:   0%|          | 0/1 [00:00<?, ?it/s]\u001b[A\n",
      "Uploading:   0%|          | 0/1 [00:00<?, ?it/s]\u001b[A\n",
      "Uploading:   0%|          | 0/1 [00:00<?, ?it/s]\u001b[A\n",
      "Uploading: 100%|██████████| 1/1 [00:00<00:00, 14.97it/s]\n",
      "Uploading: 100%|██████████| 1/1 [00:00<00:00, 14.12it/s]\n",
      "Uploading:   0%|          | 0/1 [00:00<?, ?it/s]\n",
      "Uploading: 100%|██████████| 1/1 [00:00<00:00, 14.77it/s]\n",
      "Uploading:   0%|          | 0/1 [00:00<?, ?it/s]\n",
      "Uploading:   0%|          | 0/1 [00:00<?, ?it/s]\n"
     ]
    },
    {
     "name": "stdout",
     "output_type": "stream",
     "text": [
      "Processing slice z= 400\n",
      "Processing slice z= 401\n",
      "Processing slice z= 402\n"
     ]
    },
    {
     "name": "stderr",
     "output_type": "stream",
     "text": [
      "Uploading:   0%|          | 0/1 [00:00<?, ?it/s]\n",
      "Uploading:   0%|          | 0/1 [00:00<?, ?it/s]\u001b[A\n",
      "Uploading:   0%|          | 0/1 [00:00<?, ?it/s]\u001b[A\n",
      "Uploading: 100%|██████████| 1/1 [00:00<00:00, 12.18it/s]\n",
      "Uploading:   0%|          | 0/1 [00:00<?, ?it/s]\n",
      "Uploading: 100%|██████████| 1/1 [00:00<00:00, 15.95it/s]\n",
      "Uploading:   0%|          | 0/1 [00:00<?, ?it/s]\n",
      "Uploading: 100%|██████████| 1/1 [00:00<00:00, 15.47it/s]\n",
      "Uploading:   0%|          | 0/1 [00:00<?, ?it/s]\n"
     ]
    },
    {
     "name": "stdout",
     "output_type": "stream",
     "text": [
      "Processing slice z= 403\n"
     ]
    },
    {
     "name": "stderr",
     "output_type": "stream",
     "text": [
      "Uploading: 100%|██████████| 1/1 [00:00<00:00, 12.40it/s]\n"
     ]
    },
    {
     "name": "stdout",
     "output_type": "stream",
     "text": [
      "Processing slice z= 404\n",
      "Processing slice z= 405\n"
     ]
    },
    {
     "name": "stderr",
     "output_type": "stream",
     "text": [
      "Uploading: 100%|██████████| 1/1 [00:00<00:00, 13.13it/s]\n",
      "Uploading:   0%|          | 0/1 [00:00<?, ?it/s]\n",
      "Uploading:   0%|          | 0/1 [00:00<?, ?it/s]\n"
     ]
    },
    {
     "name": "stdout",
     "output_type": "stream",
     "text": [
      "Processing slice z= 406\n"
     ]
    },
    {
     "name": "stderr",
     "output_type": "stream",
     "text": [
      "Uploading:   0%|          | 0/1 [00:00<?, ?it/s]\n",
      "Uploading:   0%|          | 0/1 [00:00<?, ?it/s]\u001b[A\n",
      "Uploading:   0%|          | 0/1 [00:00<?, ?it/s]\u001b[A\n"
     ]
    },
    {
     "name": "stdout",
     "output_type": "stream",
     "text": [
      "success\n",
      "success\n",
      "success\n",
      "success\n",
      "success\n",
      "success\n",
      "success\n",
      "success\n",
      "success\n",
      "success\n",
      "success\n",
      "success\n",
      "success\n",
      "success\n",
      "success\n",
      "success\n",
      "Processing slice z= 407\n"
     ]
    },
    {
     "name": "stderr",
     "output_type": "stream",
     "text": [
      "Uploading:   0%|          | 0/1 [00:00<?, ?it/s]\u001b[A\n",
      "Uploading: 100%|██████████| 1/1 [00:00<00:00, 14.25it/s]\n",
      "Uploading:   0%|          | 0/1 [00:00<?, ?it/s]\n",
      "Uploading: 100%|██████████| 1/1 [00:00<00:00, 14.63it/s]\n",
      "Uploading:   0%|          | 0/1 [00:00<?, ?it/s]\n",
      "Uploading: 100%|██████████| 1/1 [00:00<00:00, 12.16it/s]\n",
      "Uploading:   0%|          | 0/1 [00:00<?, ?it/s]"
     ]
    },
    {
     "name": "stdout",
     "output_type": "stream",
     "text": [
      "Processing slice z= 408\n"
     ]
    },
    {
     "name": "stderr",
     "output_type": "stream",
     "text": [
      "\r",
      "Uploading:   0%|          | 0/1 [00:00<?, ?it/s]"
     ]
    },
    {
     "name": "stdout",
     "output_type": "stream",
     "text": [
      "Processing slice z= 409\n"
     ]
    },
    {
     "name": "stderr",
     "output_type": "stream",
     "text": [
      "\n",
      "\n",
      "Uploading:   0%|          | 0/1 [00:00<?, ?it/s]\u001b[A"
     ]
    },
    {
     "name": "stdout",
     "output_type": "stream",
     "text": [
      "Processing slice z= 410\n"
     ]
    },
    {
     "name": "stderr",
     "output_type": "stream",
     "text": [
      "Uploading:   0%|          | 0/1 [00:00<?, ?it/s]\n",
      "Uploading:   0%|          | 0/1 [00:00<?, ?it/s]\u001b[A\n",
      "Uploading: 100%|██████████| 1/1 [00:00<00:00, 14.44it/s]\n",
      "Uploading: 100%|██████████| 1/1 [00:00<00:00, 13.43it/s]\n",
      "Uploading:   0%|          | 0/1 [00:00<?, ?it/s]\n",
      "Uploading:   0%|          | 0/1 [00:00<?, ?it/s]\n",
      "Uploading:   0%|          | 0/1 [00:00<?, ?it/s]\n",
      "Uploading: 100%|██████████| 1/1 [00:00<00:00, 12.94it/s]"
     ]
    },
    {
     "name": "stdout",
     "output_type": "stream",
     "text": [
      "Processing slice z= 411\n",
      "Processing slice z= 412\n"
     ]
    },
    {
     "name": "stderr",
     "output_type": "stream",
     "text": [
      "\n",
      "Uploading:   0%|          | 0/1 [00:00<?, ?it/s]\n",
      "\n"
     ]
    },
    {
     "name": "stdout",
     "output_type": "stream",
     "text": [
      "Processing slice z= 413\n"
     ]
    },
    {
     "name": "stderr",
     "output_type": "stream",
     "text": [
      "Uploading:   0%|          | 0/1 [00:00<?, ?it/s]\u001b[A\n",
      "Uploading: 100%|██████████| 1/1 [00:00<00:00,  9.37it/s]\n",
      "Uploading: 100%|██████████| 1/1 [00:00<00:00, 12.46it/s]\n",
      "Uploading:   0%|          | 0/1 [00:00<?, ?it/s]\n",
      "\n",
      "Uploading:   0%|          | 0/1 [00:00<?, ?it/s]\u001b[A\n",
      "Uploading: 100%|██████████| 1/1 [00:00<00:00, 14.03it/s]\n",
      "Uploading:   0%|          | 0/1 [00:00<?, ?it/s]\n"
     ]
    },
    {
     "name": "stdout",
     "output_type": "stream",
     "text": [
      "Processing slice z= 414\n"
     ]
    },
    {
     "name": "stderr",
     "output_type": "stream",
     "text": [
      "Uploading: 100%|██████████| 1/1 [00:00<00:00, 13.69it/s]\n",
      "Uploading:   0%|          | 0/1 [00:00<?, ?it/s]"
     ]
    },
    {
     "name": "stdout",
     "output_type": "stream",
     "text": [
      "Processing slice z= 415\n"
     ]
    },
    {
     "name": "stderr",
     "output_type": "stream",
     "text": [
      "\n"
     ]
    },
    {
     "name": "stdout",
     "output_type": "stream",
     "text": [
      "Processing slice z= 416\n"
     ]
    },
    {
     "name": "stderr",
     "output_type": "stream",
     "text": [
      "\r",
      "Uploading:   0%|          | 0/1 [00:00<?, ?it/s]"
     ]
    },
    {
     "name": "stdout",
     "output_type": "stream",
     "text": [
      "Processing slice z= 417\n"
     ]
    },
    {
     "name": "stderr",
     "output_type": "stream",
     "text": [
      "Uploading:   0%|          | 0/1 [00:00<?, ?it/s]\n",
      "Uploading:   0%|          | 0/1 [00:00<?, ?it/s]\u001b[A\n",
      "Uploading:   0%|          | 0/1 [00:00<?, ?it/s]\u001b[A\u001b[A\n",
      "Uploading: 100%|██████████| 1/1 [00:00<00:00, 11.52it/s]\n",
      "Uploading:   0%|          | 0/1 [00:00<?, ?it/s]\n",
      "Uploading:   0%|          | 0/1 [00:00<?, ?it/s]\u001b[A\n",
      "Uploading: 100%|██████████| 1/1 [00:00<00:00, 13.27it/s]\n",
      "Uploading:   0%|          | 0/1 [00:00<?, ?it/s]\n",
      "Uploading: 100%|██████████| 1/1 [00:00<00:00, 13.16it/s]\n",
      "Uploading:   0%|          | 0/1 [00:00<?, ?it/s]\n"
     ]
    },
    {
     "name": "stdout",
     "output_type": "stream",
     "text": [
      "Processing slice z= 418\n",
      "Processing slice z= 419\n"
     ]
    },
    {
     "name": "stderr",
     "output_type": "stream",
     "text": [
      "Uploading:   0%|          | 0/1 [00:00<?, ?it/s]\n",
      "Uploading:   0%|          | 0/1 [00:00<?, ?it/s]\u001b[A"
     ]
    },
    {
     "name": "stdout",
     "output_type": "stream",
     "text": [
      "Processing slice z= 420\n",
      "success\n",
      "success\n",
      "success\n",
      "success\n",
      "success\n",
      "success\n",
      "success\n",
      "success\n",
      "success\n",
      "success\n",
      "success\n",
      "success\n",
      "success\n",
      "success\n"
     ]
    },
    {
     "name": "stderr",
     "output_type": "stream",
     "text": [
      "Uploading:   0%|          | 0/1 [00:00<?, ?it/s]\n",
      "Uploading: 100%|██████████| 1/1 [00:00<00:00, 10.44it/s]\n",
      "Uploading:   0%|          | 0/1 [00:00<?, ?it/s]\n",
      "\n",
      "Uploading: 100%|██████████| 1/1 [00:00<00:00, 12.02it/s]\n",
      "Uploading:   0%|          | 0/1 [00:00<?, ?it/s]\n",
      "Uploading: 100%|██████████| 1/1 [00:00<00:00, 13.46it/s]\n",
      "Uploading:   0%|          | 0/1 [00:00<?, ?it/s]\n"
     ]
    },
    {
     "name": "stdout",
     "output_type": "stream",
     "text": [
      "Processing slice z= 421\n"
     ]
    },
    {
     "name": "stderr",
     "output_type": "stream",
     "text": [
      "Uploading: 100%|██████████| 1/1 [00:00<00:00, 11.75it/s]\n"
     ]
    },
    {
     "name": "stdout",
     "output_type": "stream",
     "text": [
      "Processing slice z= 422\n"
     ]
    },
    {
     "name": "stderr",
     "output_type": "stream",
     "text": [
      "Uploading:   0%|          | 0/1 [00:00<?, ?it/s]\n"
     ]
    },
    {
     "name": "stdout",
     "output_type": "stream",
     "text": [
      "Processing slice z= 423\n",
      "Processing slice z= 424\n"
     ]
    },
    {
     "name": "stderr",
     "output_type": "stream",
     "text": [
      "Uploading: 100%|██████████| 1/1 [00:00<00:00, 10.37it/s]\n",
      "Uploading:   0%|          | 0/1 [00:00<?, ?it/s]\n",
      "Uploading: 100%|██████████| 1/1 [00:00<00:00, 11.98it/s]\n",
      "Uploading:   0%|          | 0/1 [00:00<?, ?it/s]\n",
      "\n",
      "Uploading:   0%|          | 0/1 [00:00<?, ?it/s]\u001b[A\n",
      "Uploading:   0%|          | 0/1 [00:00<?, ?it/s]\u001b[A\n",
      "\n"
     ]
    },
    {
     "name": "stdout",
     "output_type": "stream",
     "text": [
      "Processing slice z= 425\n"
     ]
    },
    {
     "name": "stderr",
     "output_type": "stream",
     "text": [
      "Uploading:   0%|          | 0/1 [00:00<?, ?it/s]\u001b[A"
     ]
    },
    {
     "name": "stdout",
     "output_type": "stream",
     "text": [
      "Processing slice z= 426\n"
     ]
    },
    {
     "name": "stderr",
     "output_type": "stream",
     "text": [
      "Uploading: 100%|██████████| 1/1 [00:00<00:00, 10.73it/s]\n",
      "Uploading:   0%|          | 0/1 [00:00<?, ?it/s]\n",
      "Uploading:   0%|          | 0/1 [00:00<?, ?it/s]\u001b[A\n",
      "Uploading: 100%|██████████| 1/1 [00:00<00:00, 12.04it/s]\n",
      "\n",
      "Uploading:   0%|          | 0/1 [00:00<?, ?it/s]\u001b[A\n"
     ]
    },
    {
     "name": "stdout",
     "output_type": "stream",
     "text": [
      "Processing slice z= 427\n",
      "Processing slice z= 428\n"
     ]
    },
    {
     "name": "stderr",
     "output_type": "stream",
     "text": [
      "Uploading:   0%|          | 0/1 [00:00<?, ?it/s]\n",
      "Uploading:   0%|          | 0/1 [00:00<?, ?it/s]\u001b[A\n",
      "Uploading: 100%|██████████| 1/1 [00:00<00:00, 11.88it/s]\n",
      "Uploading:   0%|          | 0/1 [00:00<?, ?it/s]\n",
      "Uploading: 100%|██████████| 1/1 [00:00<00:00, 12.44it/s]\n",
      "Uploading:   0%|          | 0/1 [00:00<?, ?it/s]\n"
     ]
    },
    {
     "name": "stdout",
     "output_type": "stream",
     "text": [
      "Processing slice z= 429\n"
     ]
    },
    {
     "name": "stderr",
     "output_type": "stream",
     "text": [
      "Uploading: 100%|██████████| 1/1 [00:00<00:00, 11.28it/s]\n"
     ]
    },
    {
     "name": "stdout",
     "output_type": "stream",
     "text": [
      "Processing slice z= 430\n"
     ]
    },
    {
     "name": "stderr",
     "output_type": "stream",
     "text": [
      "Uploading:   0%|          | 0/1 [00:00<?, ?it/s]\n",
      "Uploading:   0%|          | 0/1 [00:00<?, ?it/s]"
     ]
    },
    {
     "name": "stdout",
     "output_type": "stream",
     "text": [
      "Processing slice z= 431\n"
     ]
    },
    {
     "name": "stderr",
     "output_type": "stream",
     "text": [
      "Uploading: 100%|██████████| 1/1 [00:00<00:00, 10.71it/s]\n",
      "Uploading:   0%|          | 0/1 [00:00<?, ?it/s]\n",
      "Uploading:   0%|          | 0/1 [00:00<?, ?it/s]\u001b[A\n",
      "Uploading:   0%|          | 0/1 [00:00<?, ?it/s]\u001b[A\n",
      "Uploading: 100%|██████████| 1/1 [00:00<00:00, 11.41it/s]\n",
      "Uploading:   0%|          | 0/1 [00:00<?, ?it/s]\n",
      "Uploading:   0%|          | 0/1 [00:00<?, ?it/s]\u001b[A\n"
     ]
    },
    {
     "name": "stdout",
     "output_type": "stream",
     "text": [
      "Processing slice z= 432\n"
     ]
    },
    {
     "name": "stderr",
     "output_type": "stream",
     "text": [
      "\r",
      "Uploading:   0%|          | 0/1 [00:00<?, ?it/s]"
     ]
    },
    {
     "name": "stdout",
     "output_type": "stream",
     "text": [
      "Processing slice z= 433\n"
     ]
    },
    {
     "name": "stderr",
     "output_type": "stream",
     "text": [
      "\n",
      "Uploading: 100%|██████████| 1/1 [00:00<00:00, 10.00it/s]\n",
      "Uploading:   0%|          | 0/1 [00:00<?, ?it/s]\n"
     ]
    },
    {
     "name": "stdout",
     "output_type": "stream",
     "text": [
      "Processing slice z= 434\n"
     ]
    },
    {
     "name": "stderr",
     "output_type": "stream",
     "text": [
      "Uploading: 100%|██████████| 1/1 [00:00<00:00, 10.50it/s]\n",
      "Uploading:   0%|          | 0/1 [00:00<?, ?it/s]\n",
      "\n",
      "Uploading:   0%|          | 0/1 [00:00<?, ?it/s]"
     ]
    },
    {
     "name": "stdout",
     "output_type": "stream",
     "text": [
      "success\n",
      "success\n",
      "success\n",
      "success\n",
      "success\n",
      "success\n",
      "success\n",
      "success\n",
      "success\n",
      "success\n",
      "success\n",
      "success\n",
      "success\n",
      "success\n"
     ]
    },
    {
     "name": "stderr",
     "output_type": "stream",
     "text": [
      "Uploading: 100%|██████████| 1/1 [00:00<00:00, 11.36it/s]\n",
      "Uploading:   0%|          | 0/1 [00:00<?, ?it/s]\n"
     ]
    },
    {
     "name": "stdout",
     "output_type": "stream",
     "text": [
      "Processing slice z= 435\n"
     ]
    },
    {
     "name": "stderr",
     "output_type": "stream",
     "text": [
      "\r",
      "Uploading:   0%|          | 0/1 [00:00<?, ?it/s]"
     ]
    },
    {
     "name": "stdout",
     "output_type": "stream",
     "text": [
      "Processing slice z= 436\n"
     ]
    },
    {
     "name": "stderr",
     "output_type": "stream",
     "text": [
      "\n",
      "Uploading:   0%|          | 0/1 [00:00<?, ?it/s]\u001b[A\n",
      "Uploading: 100%|██████████| 1/1 [00:00<00:00, 12.48it/s]\n",
      "Uploading:   0%|          | 0/1 [00:00<?, ?it/s]\n",
      "\n",
      "Uploading: 100%|██████████| 1/1 [00:00<00:00, 10.76it/s]\n",
      "Uploading:   0%|          | 0/1 [00:00<?, ?it/s]\n"
     ]
    },
    {
     "name": "stdout",
     "output_type": "stream",
     "text": [
      "Processing slice z= 437\n"
     ]
    },
    {
     "name": "stderr",
     "output_type": "stream",
     "text": [
      "Uploading: 100%|██████████| 1/1 [00:00<00:00, 10.81it/s]\n",
      "Uploading:   0%|          | 0/1 [00:00<?, ?it/s]"
     ]
    },
    {
     "name": "stdout",
     "output_type": "stream",
     "text": [
      "Processing slice z= 438\n"
     ]
    },
    {
     "name": "stderr",
     "output_type": "stream",
     "text": [
      "\n",
      "Uploading: 100%|██████████| 1/1 [00:00<00:00, 11.32it/s]\n",
      "Uploading:   0%|          | 0/1 [00:00<?, ?it/s]"
     ]
    },
    {
     "name": "stdout",
     "output_type": "stream",
     "text": [
      "Processing slice z= 439\n"
     ]
    },
    {
     "name": "stderr",
     "output_type": "stream",
     "text": [
      "\n",
      "Uploading:   0%|          | 0/1 [00:00<?, ?it/s]\u001b[A\n",
      "\n",
      "Uploading: 100%|██████████| 1/1 [00:00<00:00, 11.01it/s]"
     ]
    },
    {
     "name": "stdout",
     "output_type": "stream",
     "text": [
      "Processing slice z= 440\n"
     ]
    },
    {
     "name": "stderr",
     "output_type": "stream",
     "text": [
      "\n",
      "Uploading:   0%|          | 0/1 [00:00<?, ?it/s]\n",
      "\n",
      "Uploading:   0%|          | 0/1 [00:00<?, ?it/s]\u001b[A\n",
      "Uploading:   0%|          | 0/1 [00:00<?, ?it/s]"
     ]
    },
    {
     "name": "stdout",
     "output_type": "stream",
     "text": [
      "Processing slice z= 441\n"
     ]
    },
    {
     "name": "stderr",
     "output_type": "stream",
     "text": [
      "Uploading: 100%|██████████| 1/1 [00:00<00:00, 10.02it/s]\n",
      "Uploading:   0%|          | 0/1 [00:00<?, ?it/s]\n",
      "Uploading:   0%|          | 0/1 [00:00<?, ?it/s]"
     ]
    },
    {
     "name": "stdout",
     "output_type": "stream",
     "text": [
      "Processing slice z= 442\n"
     ]
    },
    {
     "name": "stderr",
     "output_type": "stream",
     "text": [
      "Uploading: 100%|██████████| 1/1 [00:00<00:00,  9.20it/s]\n",
      "Uploading: 100%|██████████| 1/1 [00:00<00:00, 10.43it/s]\n",
      "\n",
      "Uploading:   0%|          | 0/1 [00:00<?, ?it/s]\u001b[A\n",
      "Uploading:   0%|          | 0/1 [00:00<?, ?it/s]\u001b[A\n",
      "Uploading:   0%|          | 0/1 [00:00<?, ?it/s]\n"
     ]
    },
    {
     "name": "stdout",
     "output_type": "stream",
     "text": [
      "Processing slice z= 443\n",
      "Processing slice z= 444\n"
     ]
    },
    {
     "name": "stderr",
     "output_type": "stream",
     "text": [
      "Uploading: 100%|██████████| 1/1 [00:00<00:00,  9.84it/s]\n",
      "Uploading:   0%|          | 0/1 [00:00<?, ?it/s]\n",
      "Uploading:   0%|          | 0/1 [00:00<?, ?it/s]\n",
      "Uploading:   0%|          | 0/1 [00:00<?, ?it/s]\u001b[A\n",
      "Uploading: 100%|██████████| 1/1 [00:00<00:00,  9.61it/s]\n",
      "Uploading:   0%|          | 0/1 [00:00<?, ?it/s]"
     ]
    },
    {
     "name": "stdout",
     "output_type": "stream",
     "text": [
      "Processing slice z= 445\n"
     ]
    },
    {
     "name": "stderr",
     "output_type": "stream",
     "text": [
      "\n"
     ]
    },
    {
     "name": "stdout",
     "output_type": "stream",
     "text": [
      "success\n",
      "success\n",
      "success\n",
      "success\n",
      "success\n",
      "success\n",
      "success\n",
      "success\n",
      "success\n",
      "success\n",
      "success\n",
      "Processing slice z= 446\n"
     ]
    },
    {
     "name": "stderr",
     "output_type": "stream",
     "text": [
      "Uploading:   0%|          | 0/1 [00:00<?, ?it/s]\n",
      "Uploading:   0%|          | 0/1 [00:00<?, ?it/s]\u001b[A\n",
      "Uploading: 100%|██████████| 1/1 [00:00<00:00,  9.11it/s]\u001b[A\n",
      "Uploading: 100%|██████████| 1/1 [00:00<00:00,  8.45it/s]\u001b[A\n",
      "Uploading: 100%|██████████| 1/1 [00:00<00:00,  8.63it/s]\n",
      "Uploading:   0%|          | 0/1 [00:00<?, ?it/s]\n",
      "\n",
      "Uploading:   0%|          | 0/1 [00:00<?, ?it/s]\u001b[A\n"
     ]
    },
    {
     "name": "stdout",
     "output_type": "stream",
     "text": [
      "Processing slice z= 447\n",
      "Processing slice z= 448\n"
     ]
    },
    {
     "name": "stderr",
     "output_type": "stream",
     "text": [
      "\n",
      "Uploading: 100%|██████████| 1/1 [00:00<00:00,  9.60it/s]\u001b[A\n",
      "Uploading: 100%|██████████| 1/1 [00:00<00:00,  8.70it/s]\u001b[A\n",
      "\n",
      "Uploading:   0%|          | 0/1 [00:00<?, ?it/s]\u001b[A\n",
      "Uploading: 100%|██████████| 1/1 [00:00<00:00,  8.35it/s]\n",
      "Uploading:   0%|          | 0/1 [00:00<?, ?it/s]\n",
      "Uploading:   0%|          | 0/1 [00:00<?, ?it/s]\n",
      "Uploading:   0%|          | 0/1 [00:00<?, ?it/s]"
     ]
    },
    {
     "name": "stdout",
     "output_type": "stream",
     "text": [
      "Processing slice z= 449\n",
      "Processing slice z= 450\n"
     ]
    },
    {
     "name": "stderr",
     "output_type": "stream",
     "text": [
      "Uploading:   0%|          | 0/1 [00:00<?, ?it/s]\n",
      "Uploading:   0%|          | 0/1 [00:00<?, ?it/s]\u001b[A\n",
      "Uploading:   0%|          | 0/1 [00:00<?, ?it/s]\u001b[A\n",
      "Uploading: 100%|██████████| 1/1 [00:00<00:00,  9.34it/s]\u001b[A\n",
      "Uploading: 100%|██████████| 1/1 [00:00<00:00,  8.83it/s]\u001b[A\n",
      "Uploading: 100%|██████████| 1/1 [00:00<00:00,  8.58it/s]\n",
      "Uploading:   0%|          | 0/1 [00:00<?, ?it/s]\n",
      "Uploading:   0%|          | 0/1 [00:00<?, ?it/s]\n",
      "\n"
     ]
    },
    {
     "name": "stdout",
     "output_type": "stream",
     "text": [
      "Processing slice z= 451\n",
      "Processing slice z= 452\n"
     ]
    },
    {
     "name": "stderr",
     "output_type": "stream",
     "text": [
      "Uploading: 100%|██████████| 1/1 [00:00<00:00, 10.09it/s]\u001b[A\n",
      "Uploading: 100%|██████████| 1/1 [00:00<00:00,  8.04it/s]\n",
      "Uploading:   0%|          | 0/1 [00:00<?, ?it/s]\n",
      "Uploading:   0%|          | 0/1 [00:00<?, ?it/s]\u001b[A\n",
      "\n",
      "Uploading:   0%|          | 0/1 [00:00<?, ?it/s]\u001b[A\n"
     ]
    },
    {
     "name": "stdout",
     "output_type": "stream",
     "text": [
      "Processing slice z= 453\n",
      "Processing slice z= 454\n"
     ]
    },
    {
     "name": "stderr",
     "output_type": "stream",
     "text": [
      "\n",
      "Uploading:   0%|          | 0/1 [00:00<?, ?it/s].86it/s]\u001b[A\n",
      "Uploading:   0%|          | 0/1 [00:00<?, ?it/s]\u001b[A\n",
      "Uploading:   0%|          | 0/1 [00:00<?, ?it/s]\u001b[A\n",
      "Uploading: 100%|██████████| 1/1 [00:00<00:00,  8.20it/s]\u001b[A\n",
      "Uploading: 100%|██████████| 1/1 [00:00<00:00,  7.89it/s]\n",
      "Uploading:   0%|          | 0/1 [00:00<?, ?it/s]\n",
      "Uploading:   0%|          | 0/1 [00:00<?, ?it/s]\n"
     ]
    },
    {
     "name": "stdout",
     "output_type": "stream",
     "text": [
      "Processing slice z= 455\n",
      "Processing slice z= 456\n",
      "success\n",
      "success\n",
      "success\n",
      "success\n",
      "success\n",
      "success\n",
      "success\n",
      "success\n",
      "success\n",
      "success\n",
      "success\n"
     ]
    },
    {
     "name": "stderr",
     "output_type": "stream",
     "text": [
      "\n",
      "Uploading: 100%|██████████| 1/1 [00:00<00:00,  9.25it/s]\u001b[A\u001b[A\n",
      "Uploading: 100%|██████████| 1/1 [00:00<00:00,  8.33it/s]\n",
      "Uploading: 100%|██████████| 1/1 [00:00<00:00,  8.37it/s]\n",
      "\n",
      "Uploading:   0%|          | 0/1 [00:00<?, ?it/s]\u001b[A\n",
      "Uploading:   0%|          | 0/1 [00:00<?, ?it/s]\n",
      "Uploading:   0%|          | 0/1 [00:00<?, ?it/s]\u001b[A\n"
     ]
    },
    {
     "name": "stdout",
     "output_type": "stream",
     "text": [
      "Processing slice z= 457\n",
      "Processing slice z= 458\n"
     ]
    },
    {
     "name": "stderr",
     "output_type": "stream",
     "text": [
      "Uploading:   0%|          | 0/1 [00:00<?, ?it/s]\n",
      "Uploading:   0%|          | 0/1 [00:00<?, ?it/s]\u001b[A\n",
      "Uploading:   0%|          | 0/1 [00:00<?, ?it/s]\u001b[A\n",
      "Uploading: 100%|██████████| 1/1 [00:00<00:00,  7.52it/s]\u001b[A\n",
      "Uploading: 100%|██████████| 1/1 [00:00<00:00,  7.53it/s]\n",
      "Uploading:   0%|          | 0/1 [00:00<?, ?it/s]\n",
      "Uploading:   0%|          | 0/1 [00:00<?, ?it/s]\n",
      "\n",
      "Uploading: 100%|██████████| 1/1 [00:00<00:00,  9.00it/s]\u001b[A"
     ]
    },
    {
     "name": "stdout",
     "output_type": "stream",
     "text": [
      "Processing slice z= 459\n"
     ]
    },
    {
     "name": "stderr",
     "output_type": "stream",
     "text": [
      "\n",
      "Uploading: 100%|██████████| 1/1 [00:00<00:00,  8.99it/s]\u001b[A\n"
     ]
    },
    {
     "name": "stdout",
     "output_type": "stream",
     "text": [
      "Processing slice z= 460\n"
     ]
    },
    {
     "name": "stderr",
     "output_type": "stream",
     "text": [
      "Uploading: 100%|██████████| 1/1 [00:00<00:00,  8.55it/s]\n",
      "Uploading:   0%|          | 0/1 [00:00<?, ?it/s]\n",
      "Uploading:   0%|          | 0/1 [00:00<?, ?it/s]\n"
     ]
    },
    {
     "name": "stdout",
     "output_type": "stream",
     "text": [
      "Processing slice z= 461\n",
      "Processing slice z= 462\n"
     ]
    },
    {
     "name": "stderr",
     "output_type": "stream",
     "text": [
      "Uploading:   0%|          | 0/1 [00:00<?, ?it/s]\n",
      "Uploading:   0%|          | 0/1 [00:00<?, ?it/s]\u001b[A\n",
      "Uploading:   0%|          | 0/1 [00:00<?, ?it/s]\u001b[A\n",
      "Uploading:   0%|          | 0/1 [00:00<?, ?it/s]\u001b[A\n",
      "Uploading:   0%|          | 0/1 [00:00<?, ?it/s]\u001b[A\n",
      "Uploading: 100%|██████████| 1/1 [00:00<00:00,  8.57it/s]\u001b[A\n",
      "Uploading:   0%|          | 0/1 [00:00<?, ?it/s]\n",
      "\n",
      "Uploading: 100%|██████████| 1/1 [00:00<00:00,  7.99it/s]"
     ]
    },
    {
     "name": "stdout",
     "output_type": "stream",
     "text": [
      "Processing slice z= 463\n"
     ]
    },
    {
     "name": "stderr",
     "output_type": "stream",
     "text": [
      "Uploading: 100%|██████████| 1/1 [00:00<00:00,  7.82it/s]\n",
      "Uploading:   0%|          | 0/1 [00:00<?, ?it/s]\n"
     ]
    },
    {
     "name": "stdout",
     "output_type": "stream",
     "text": [
      "Processing slice z= 464\n"
     ]
    },
    {
     "name": "stderr",
     "output_type": "stream",
     "text": [
      "Uploading:   0%|          | 0/1 [00:00<?, ?it/s]\n",
      "Uploading:   0%|          | 0/1 [00:00<?, ?it/s]\u001b[A\n",
      "Uploading:   0%|          | 0/1 [00:00<?, ?it/s]\u001b[A\n",
      "Uploading: 100%|██████████| 1/1 [00:00<00:00,  8.35it/s]\u001b[A\n",
      "Uploading: 100%|██████████| 1/1 [00:00<00:00,  7.69it/s]\u001b[A\n",
      "Uploading: 100%|██████████| 1/1 [00:00<00:00,  7.82it/s]\n",
      "Uploading:   0%|          | 0/1 [00:00<?, ?it/s]\n",
      "Uploading:   0%|          | 0/1 [00:00<?, ?it/s]\n"
     ]
    },
    {
     "name": "stdout",
     "output_type": "stream",
     "text": [
      "Processing slice z= 465\n",
      "Processing slice z= 466\n"
     ]
    },
    {
     "name": "stderr",
     "output_type": "stream",
     "text": [
      "Uploading:   0%|          | 0/1 [00:00<?, ?it/s]\n",
      "Uploading:   0%|          | 0/1 [00:00<?, ?it/s]\u001b[A\n",
      "Uploading:   0%|          | 0/1 [00:00<?, ?it/s]\u001b[A"
     ]
    },
    {
     "name": "stdout",
     "output_type": "stream",
     "text": [
      "success\n",
      "success\n",
      "success\n",
      "success\n",
      "success\n",
      "success\n",
      "success\n",
      "success\n",
      "success\n",
      "success\n"
     ]
    },
    {
     "name": "stderr",
     "output_type": "stream",
     "text": [
      "\n",
      "Uploading: 100%|██████████| 1/1 [00:00<00:00,  7.76it/s]\u001b[A\n",
      "Uploading:   0%|          | 0/1 [00:00<?, ?it/s]\n",
      "Uploading: 100%|██████████| 1/1 [00:00<00:00,  7.61it/s]\n",
      "\n",
      "Uploading:   0%|          | 0/1 [00:00<?, ?it/s].01it/s]\u001b[A\n",
      "Uploading: 100%|██████████| 1/1 [00:00<00:00,  7.71it/s]\n",
      "Uploading:   0%|          | 0/1 [00:00<?, ?it/s]"
     ]
    },
    {
     "name": "stdout",
     "output_type": "stream",
     "text": [
      "Processing slice z= 467\n"
     ]
    },
    {
     "name": "stderr",
     "output_type": "stream",
     "text": [
      "\n",
      "\n",
      "Uploading: 100%|██████████| 1/1 [00:00<00:00,  7.28it/s]\u001b[A"
     ]
    },
    {
     "name": "stdout",
     "output_type": "stream",
     "text": [
      "Processing slice z= 468\n"
     ]
    },
    {
     "name": "stderr",
     "output_type": "stream",
     "text": [
      "\r",
      "Uploading: 100%|██████████| 1/1 [00:00<00:00,  6.75it/s]"
     ]
    },
    {
     "name": "stdout",
     "output_type": "stream",
     "text": [
      "Processing slice z= 469\n"
     ]
    },
    {
     "name": "stderr",
     "output_type": "stream",
     "text": [
      "\n",
      "\n",
      "Uploading:   0%|          | 0/1 [00:00<?, ?it/s]\u001b[A\n",
      "Uploading:   0%|          | 0/1 [00:00<?, ?it/s]\n",
      "Uploading:   0%|          | 0/1 [00:00<?, ?it/s]\u001b[A\n",
      "Uploading:   0%|          | 0/1 [00:00<?, ?it/s]\u001b[A"
     ]
    },
    {
     "name": "stdout",
     "output_type": "stream",
     "text": [
      "Processing slice z= 470\n"
     ]
    },
    {
     "name": "stderr",
     "output_type": "stream",
     "text": [
      "\n",
      "Uploading: 100%|██████████| 1/1 [00:00<00:00,  7.37it/s]\u001b[A\n",
      "Uploading: 100%|██████████| 1/1 [00:00<00:00,  7.36it/s]\u001b[A\n",
      "Uploading: 100%|██████████| 1/1 [00:00<00:00,  7.03it/s]\n",
      "Uploading:   0%|          | 0/1 [00:00<?, ?it/s]\n",
      "Uploading: 100%|██████████| 1/1 [00:00<00:00,  6.69it/s]\n",
      "Uploading:   0%|          | 0/1 [00:00<?, ?it/s]\n"
     ]
    },
    {
     "name": "stdout",
     "output_type": "stream",
     "text": [
      "Processing slice z= 472\n",
      "Processing slice z= 471\n"
     ]
    },
    {
     "name": "stderr",
     "output_type": "stream",
     "text": [
      "Uploading:   0%|          | 0/1 [00:00<?, ?it/s]\n",
      "Uploading:   0%|          | 0/1 [00:00<?, ?it/s].39it/s]\u001b[A\n",
      "Uploading:   0%|          | 0/1 [00:00<?, ?it/s]\u001b[A\n",
      "Uploading: 100%|██████████| 1/1 [00:00<00:00,  6.39it/s]\u001b[A\n",
      "\n",
      "Uploading:   0%|          | 0/1 [00:00<?, ?it/s]\u001b[A\n",
      "Uploading: 100%|██████████| 1/1 [00:00<00:00,  5.95it/s]\n",
      "Uploading:   0%|          | 0/1 [00:00<?, ?it/s]\n"
     ]
    },
    {
     "name": "stdout",
     "output_type": "stream",
     "text": [
      "Processing slice z= 473\n"
     ]
    },
    {
     "name": "stderr",
     "output_type": "stream",
     "text": [
      "\r",
      "Uploading:   0%|          | 0/1 [00:00<?, ?it/s]"
     ]
    },
    {
     "name": "stdout",
     "output_type": "stream",
     "text": [
      "Processing slice z= 474\n"
     ]
    },
    {
     "name": "stderr",
     "output_type": "stream",
     "text": [
      "\n",
      "Uploading:   0%|          | 0/1 [00:00<?, ?it/s]\u001b[A\n",
      "Uploading: 100%|██████████| 1/1 [00:00<00:00,  6.88it/s]\n",
      "Uploading:   0%|          | 0/1 [00:00<?, ?it/s]\n",
      "\n",
      "Uploading: 100%|██████████| 1/1 [00:00<00:00,  6.98it/s]\u001b[A\n",
      "Uploading:   0%|          | 0/1 [00:00<?, ?it/s]"
     ]
    },
    {
     "name": "stdout",
     "output_type": "stream",
     "text": [
      "Processing slice z= 475\n"
     ]
    },
    {
     "name": "stderr",
     "output_type": "stream",
     "text": [
      "\n",
      "Uploading: 100%|██████████| 1/1 [00:00<00:00,  6.30it/s]"
     ]
    },
    {
     "name": "stdout",
     "output_type": "stream",
     "text": [
      "Processing slice z= 476\n"
     ]
    },
    {
     "name": "stderr",
     "output_type": "stream",
     "text": [
      "\n"
     ]
    },
    {
     "name": "stdout",
     "output_type": "stream",
     "text": [
      "success\n",
      "success\n",
      "success\n",
      "success\n",
      "success\n",
      "success\n",
      "success\n",
      "success\n",
      "success\n"
     ]
    },
    {
     "name": "stderr",
     "output_type": "stream",
     "text": [
      "Uploading:   0%|          | 0/1 [00:00<?, ?it/s]\n",
      "Uploading:   0%|          | 0/1 [00:00<?, ?it/s]\n",
      "Uploading:   0%|          | 0/1 [00:00<?, ?it/s].71it/s]\u001b[A\n",
      "Uploading:   0%|          | 0/1 [00:00<?, ?it/s]\u001b[A\n",
      "Uploading: 100%|██████████| 1/1 [00:00<00:00,  6.10it/s]\n"
     ]
    },
    {
     "name": "stdout",
     "output_type": "stream",
     "text": [
      "Processing slice z= 477\n"
     ]
    },
    {
     "name": "stderr",
     "output_type": "stream",
     "text": [
      "Uploading:   0%|          | 0/1 [00:00<?, ?it/s]\n",
      "Uploading:   0%|          | 0/1 [00:00<?, ?it/s]\n",
      "Uploading:   0%|          | 0/1 [00:00<?, ?it/s]\u001b[A"
     ]
    },
    {
     "name": "stdout",
     "output_type": "stream",
     "text": [
      "Processing slice z= 478\n"
     ]
    },
    {
     "name": "stderr",
     "output_type": "stream",
     "text": [
      "\n",
      "Uploading:   0%|          | 0/1 [00:00<?, ?it/s].03it/s]\u001b[A\n",
      "Uploading: 100%|██████████| 1/1 [00:00<00:00,  6.36it/s]\n",
      "Uploading:   0%|          | 0/1 [00:00<?, ?it/s]\n"
     ]
    },
    {
     "name": "stdout",
     "output_type": "stream",
     "text": [
      "Processing slice z= 479\n"
     ]
    },
    {
     "name": "stderr",
     "output_type": "stream",
     "text": [
      "\n",
      "Uploading: 100%|██████████| 1/1 [00:00<00:00,  5.99it/s]\u001b[A\n",
      "Uploading: 100%|██████████| 1/1 [00:00<00:00,  5.55it/s]\u001b[A\n",
      "Uploading: 100%|██████████| 1/1 [00:00<00:00,  6.41it/s]\n",
      "\n",
      "Uploading:   0%|          | 0/1 [00:00<?, ?it/s]\u001b[A\n",
      "Uploading:   0%|          | 0/1 [00:00<?, ?it/s].89it/s]\u001b[A\n",
      "Uploading:   0%|          | 0/1 [00:00<?, ?it/s]\n",
      "Uploading: 100%|██████████| 1/1 [00:00<00:00,  6.43it/s]\n",
      "Uploading:   0%|          | 0/1 [00:00<?, ?it/s]\n"
     ]
    },
    {
     "name": "stdout",
     "output_type": "stream",
     "text": [
      "Processing slice z= 480\n",
      "Processing slice z= 481\n"
     ]
    },
    {
     "name": "stderr",
     "output_type": "stream",
     "text": [
      "\r",
      "Uploading:   0%|          | 0/1 [00:00<?, ?it/s]"
     ]
    },
    {
     "name": "stdout",
     "output_type": "stream",
     "text": [
      "Processing slice z= 482\n"
     ]
    },
    {
     "name": "stderr",
     "output_type": "stream",
     "text": [
      "Uploading:   0%|          | 0/1 [00:00<?, ?it/s]\n",
      "Uploading:   0%|          | 0/1 [00:00<?, ?it/s]\u001b[A\n",
      "Uploading:   0%|          | 0/1 [00:00<?, ?it/s]\u001b[A\n",
      "Uploading: 100%|██████████| 1/1 [00:00<00:00,  6.25it/s]\n",
      "Uploading:   0%|          | 0/1 [00:00<?, ?it/s]\n",
      "\n",
      "Uploading: 100%|██████████| 1/1 [00:00<00:00,  6.21it/s]\u001b[A\n",
      "Uploading:   0%|          | 0/1 [00:00<?, ?it/s]\n"
     ]
    },
    {
     "name": "stdout",
     "output_type": "stream",
     "text": [
      "Processing slice z= 483\n"
     ]
    },
    {
     "name": "stderr",
     "output_type": "stream",
     "text": [
      "\r",
      "Uploading:   0%|          | 0/1 [00:00<?, ?it/s]"
     ]
    },
    {
     "name": "stdout",
     "output_type": "stream",
     "text": [
      "Processing slice z= 484\n"
     ]
    },
    {
     "name": "stderr",
     "output_type": "stream",
     "text": [
      "\n",
      "Uploading:   0%|          | 0/1 [00:00<?, ?it/s]\u001b[A\n",
      "Uploading: 100%|██████████| 1/1 [00:00<00:00,  6.14it/s]\u001b[A\n",
      "Uploading:   0%|          | 0/1 [00:00<?, ?it/s]\n",
      "Uploading:   0%|          | 0/1 [00:00<?, ?it/s]\n",
      "Uploading:   0%|          | 0/1 [00:00<?, ?it/s]\u001b[A"
     ]
    },
    {
     "name": "stdout",
     "output_type": "stream",
     "text": [
      "success\n",
      "success\n",
      "success\n",
      "success\n",
      "success\n",
      "success\n",
      "success\n",
      "success\n",
      "success\n"
     ]
    },
    {
     "name": "stderr",
     "output_type": "stream",
     "text": [
      "\r",
      "Uploading: 100%|██████████| 1/1 [00:00<00:00,  6.29it/s]"
     ]
    },
    {
     "name": "stdout",
     "output_type": "stream",
     "text": [
      "Processing slice z= 485\n"
     ]
    },
    {
     "name": "stderr",
     "output_type": "stream",
     "text": [
      "Uploading: 100%|██████████| 1/1 [00:00<00:00,  6.12it/s]\n",
      "Uploading:   0%|          | 0/1 [00:00<?, ?it/s]\n"
     ]
    },
    {
     "name": "stdout",
     "output_type": "stream",
     "text": [
      "Processing slice z= 486\n"
     ]
    },
    {
     "name": "stderr",
     "output_type": "stream",
     "text": [
      "Uploading:   0%|          | 0/1 [00:00<?, ?it/s]\n",
      "Uploading:   0%|          | 0/1 [00:00<?, ?it/s]\u001b[A\n",
      "Uploading:   0%|          | 0/1 [00:00<?, ?it/s]\u001b[A\n",
      "Uploading: 100%|██████████| 1/1 [00:00<00:00,  6.19it/s]\u001b[A\n",
      "Uploading:   0%|          | 0/1 [00:00<?, ?it/s]\n"
     ]
    },
    {
     "name": "stdout",
     "output_type": "stream",
     "text": [
      "Processing slice z= 487\n"
     ]
    },
    {
     "name": "stderr",
     "output_type": "stream",
     "text": [
      "\n",
      "Uploading: 100%|██████████| 1/1 [00:00<00:00,  6.45it/s]\u001b[A\n",
      "Uploading:   0%|          | 0/1 [00:00<?, ?it/s]\u001b[A\n",
      "Uploading: 100%|██████████| 1/1 [00:00<00:00,  6.15it/s]\u001b[A\n",
      "Uploading: 100%|██████████| 1/1 [00:00<00:00,  5.22it/s]\u001b[A\n",
      "Uploading: 100%|██████████| 1/1 [00:00<00:00,  5.33it/s]\n",
      "Uploading: 100%|██████████| 1/1 [00:00<00:00,  5.56it/s]\n",
      "Uploading:   0%|          | 0/1 [00:00<?, ?it/s]\n",
      "Uploading:   0%|          | 0/1 [00:00<?, ?it/s]\n",
      "Uploading:   0%|          | 0/1 [00:00<?, ?it/s]\n"
     ]
    },
    {
     "name": "stdout",
     "output_type": "stream",
     "text": [
      "Processing slice z= 489\n",
      "Processing slice z= 488\n",
      "Processing slice z= 490\n"
     ]
    },
    {
     "name": "stderr",
     "output_type": "stream",
     "text": [
      "\n",
      "Uploading: 100%|██████████| 1/1 [00:00<00:00,  6.04it/s]\u001b[A\n",
      "Uploading:   0%|          | 0/1 [00:00<?, ?it/s].34it/s]\n",
      "\n",
      "Uploading:   0%|          | 0/1 [00:00<?, ?it/s]\u001b[A\n",
      "Uploading: 100%|██████████| 1/1 [00:00<00:00,  5.75it/s]\n",
      "Uploading:   0%|          | 0/1 [00:00<?, ?it/s]"
     ]
    },
    {
     "name": "stdout",
     "output_type": "stream",
     "text": [
      "Processing slice z= 491\n"
     ]
    },
    {
     "name": "stderr",
     "output_type": "stream",
     "text": [
      "Uploading:   0%|          | 0/1 [00:00<?, ?it/s]\n",
      "\n",
      "Uploading:   0%|          | 0/1 [00:00<?, ?it/s]\u001b[A"
     ]
    },
    {
     "name": "stdout",
     "output_type": "stream",
     "text": [
      "Processing slice z= 492\n"
     ]
    },
    {
     "name": "stderr",
     "output_type": "stream",
     "text": [
      "\n",
      "Uploading:   0%|          | 0/1 [00:00<?, ?it/s]\u001b[A\n",
      "Uploading: 100%|██████████| 1/1 [00:00<00:00,  5.97it/s]\u001b[A\n",
      "Uploading:   0%|          | 0/1 [00:00<?, ?it/s]\u001b[A"
     ]
    },
    {
     "name": "stdout",
     "output_type": "stream",
     "text": [
      "success\n",
      "success\n",
      "success\n",
      "success\n",
      "success\n",
      "success\n",
      "success\n",
      "success\n"
     ]
    },
    {
     "name": "stderr",
     "output_type": "stream",
     "text": [
      "Uploading: 100%|██████████| 1/1 [00:00<00:00,  5.68it/s]\n",
      "\n",
      "Uploading:   0%|          | 0/1 [00:00<?, ?it/s].84it/s]\u001b[A\n",
      "Uploading: 100%|██████████| 1/1 [00:00<00:00,  5.66it/s]\n",
      "Uploading:   0%|          | 0/1 [00:00<?, ?it/s]\n"
     ]
    },
    {
     "name": "stdout",
     "output_type": "stream",
     "text": [
      "Processing slice z= 493\n",
      "Processing slice z= 494\n"
     ]
    },
    {
     "name": "stderr",
     "output_type": "stream",
     "text": [
      "Uploading:   0%|          | 0/1 [00:00<?, ?it/s]\n",
      "Uploading:   0%|          | 0/1 [00:00<?, ?it/s]\u001b[A\n",
      "Uploading:   0%|          | 0/1 [00:00<?, ?it/s]\u001b[A\n",
      "Uploading: 100%|██████████| 1/1 [00:00<00:00,  5.96it/s]\u001b[A\n",
      "Uploading:   0%|          | 0/1 [00:00<?, ?it/s]\n"
     ]
    },
    {
     "name": "stdout",
     "output_type": "stream",
     "text": [
      "Processing slice z= 495\n"
     ]
    },
    {
     "name": "stderr",
     "output_type": "stream",
     "text": [
      "Uploading:   0%|          | 0/1 [00:00<?, ?it/s]\n",
      "Uploading:   0%|          | 0/1 [00:00<?, ?it/s]\u001b[A\n",
      "Uploading: 100%|██████████| 1/1 [00:00<00:00,  6.32it/s]\u001b[A\n",
      "Uploading:   0%|          | 0/1 [00:00<?, ?it/s]\n",
      "\n",
      "Uploading: 100%|██████████| 1/1 [00:00<00:00,  5.97it/s]"
     ]
    },
    {
     "name": "stdout",
     "output_type": "stream",
     "text": [
      "Processing slice z= 496\n"
     ]
    },
    {
     "name": "stderr",
     "output_type": "stream",
     "text": [
      "\u001b[A\n",
      "Uploading: 100%|██████████| 1/1 [00:00<00:00,  5.87it/s]\u001b[A\n",
      "Uploading: 100%|██████████| 1/1 [00:00<00:00,  5.37it/s]\n",
      "Uploading:   0%|          | 0/1 [00:00<?, ?it/s]\n",
      "Uploading:   0%|          | 0/1 [00:00<?, ?it/s]\u001b[A\n",
      "Uploading:   0%|          | 0/1 [00:00<?, ?it/s]"
     ]
    },
    {
     "name": "stdout",
     "output_type": "stream",
     "text": [
      "Processing slice z= 497\n"
     ]
    },
    {
     "name": "stderr",
     "output_type": "stream",
     "text": [
      "\n",
      "Uploading:   0%|          | 0/1 [00:00<?, ?it/s]\n",
      "Uploading: 100%|██████████| 1/1 [00:00<00:00,  5.40it/s]\u001b[A\n",
      "\n"
     ]
    },
    {
     "name": "stdout",
     "output_type": "stream",
     "text": [
      "Processing slice z= 498\n"
     ]
    },
    {
     "name": "stderr",
     "output_type": "stream",
     "text": [
      "Uploading:   0%|          | 0/1 [00:00<?, ?it/s]\u001b[A\n",
      "Uploading:   0%|          | 0/1 [00:00<?, ?it/s]"
     ]
    },
    {
     "name": "stdout",
     "output_type": "stream",
     "text": [
      "Processing slice z= 499\n"
     ]
    },
    {
     "name": "stderr",
     "output_type": "stream",
     "text": [
      "\n",
      "Uploading:   0%|          | 0/1 [00:00<?, ?it/s]\u001b[A\n",
      "Uploading: 100%|██████████| 1/1 [00:00<00:00,  4.99it/s]\u001b[A\n",
      "Uploading: 100%|██████████| 1/1 [00:00<00:00,  4.76it/s]"
     ]
    },
    {
     "name": "stdout",
     "output_type": "stream",
     "text": [
      "success\n",
      "success\n",
      "success\n",
      "success\n",
      "success\n",
      "success\n",
      "success\n"
     ]
    },
    {
     "name": "stderr",
     "output_type": "stream",
     "text": [
      "\n",
      "Uploading:   0%|          | 0/1 [00:00<?, ?it/s]\n",
      "\n",
      "Uploading: 100%|██████████| 1/1 [00:00<00:00,  5.33it/s]\u001b[A\n",
      "Uploading:   0%|          | 0/1 [00:00<?, ?it/s]\n"
     ]
    },
    {
     "name": "stdout",
     "output_type": "stream",
     "text": [
      "Processing slice z= 500\n",
      "Processing slice z= 501\n"
     ]
    },
    {
     "name": "stderr",
     "output_type": "stream",
     "text": [
      "\n",
      "Uploading: 100%|██████████| 1/1 [00:00<00:00,  4.90it/s]\u001b[A\n",
      "\n",
      "Uploading:   0%|          | 0/1 [00:00<?, ?it/s]\u001b[A\n",
      "\n",
      "Uploading:   0%|          | 0/1 [00:00<?, ?it/s]\u001b[A"
     ]
    },
    {
     "name": "stdout",
     "output_type": "stream",
     "text": [
      "Processing slice z= 502\n"
     ]
    },
    {
     "name": "stderr",
     "output_type": "stream",
     "text": [
      "\n",
      "Uploading:   0%|          | 0/1 [00:00<?, ?it/s].37it/s]\u001b[A\n",
      "Uploading: 100%|██████████| 1/1 [00:00<00:00,  4.65it/s]\n",
      "Uploading:   0%|          | 0/1 [00:00<?, ?it/s]\n"
     ]
    },
    {
     "name": "stdout",
     "output_type": "stream",
     "text": [
      "Processing slice z= 503\n"
     ]
    },
    {
     "name": "stderr",
     "output_type": "stream",
     "text": [
      "\n",
      "Uploading:   0%|          | 0/1 [00:00<?, ?it/s].10it/s]\u001b[A\n",
      "Uploading: 100%|██████████| 1/1 [00:00<00:00,  4.84it/s]\n",
      "\n",
      "Uploading: 100%|██████████| 1/1 [00:00<00:00,  5.22it/s]\u001b[A\n",
      "Uploading:   0%|          | 0/1 [00:00<?, ?it/s]\n",
      "Uploading:   0%|          | 0/1 [00:00<?, ?it/s]\n"
     ]
    },
    {
     "name": "stdout",
     "output_type": "stream",
     "text": [
      "Processing slice z= 504\n",
      "Processing slice z= 505\n"
     ]
    },
    {
     "name": "stderr",
     "output_type": "stream",
     "text": [
      "Uploading:   0%|          | 0/1 [00:00<?, ?it/s]\n",
      "Uploading:   0%|          | 0/1 [00:00<?, ?it/s]\u001b[A\n",
      "Uploading: 100%|██████████| 1/1 [00:00<00:00,  4.94it/s]\u001b[A\n",
      "Uploading:   0%|          | 0/1 [00:00<?, ?it/s]\n",
      "Uploading:   0%|          | 0/1 [00:00<?, ?it/s]\n",
      "Uploading:   0%|          | 0/1 [00:00<?, ?it/s]\u001b[A"
     ]
    },
    {
     "name": "stdout",
     "output_type": "stream",
     "text": [
      "Processing slice z= 506\n"
     ]
    },
    {
     "name": "stderr",
     "output_type": "stream",
     "text": [
      "\n",
      "Uploading: 100%|██████████| 1/1 [00:00<00:00,  4.61it/s]\u001b[A"
     ]
    },
    {
     "name": "stdout",
     "output_type": "stream",
     "text": [
      "success\n",
      "success\n",
      "success\n",
      "success\n",
      "success\n",
      "success\n",
      "success\n"
     ]
    },
    {
     "name": "stderr",
     "output_type": "stream",
     "text": [
      "Uploading: 100%|██████████| 1/1 [00:00<00:00,  4.39it/s]\n",
      "\n",
      "Uploading:   0%|          | 0/1 [00:00<?, ?it/s]\u001b[A\n",
      "\n"
     ]
    },
    {
     "name": "stdout",
     "output_type": "stream",
     "text": [
      "Processing slice z= 507\n"
     ]
    },
    {
     "name": "stderr",
     "output_type": "stream",
     "text": [
      "Uploading: 100%|██████████| 1/1 [00:00<00:00,  5.01it/s]\u001b[A\n",
      "\n",
      "Uploading:   0%|          | 0/1 [00:00<?, ?it/s].17it/s]\u001b[A\n",
      "Uploading:   0%|          | 0/1 [00:00<?, ?it/s]\n",
      "Uploading: 100%|██████████| 1/1 [00:00<00:00,  4.70it/s]\n",
      "Uploading:   0%|          | 0/1 [00:00<?, ?it/s]\n"
     ]
    },
    {
     "name": "stdout",
     "output_type": "stream",
     "text": [
      "Processing slice z= 508\n"
     ]
    },
    {
     "name": "stderr",
     "output_type": "stream",
     "text": [
      "Uploading: 100%|██████████| 1/1 [00:00<00:00,  5.04it/s]\n",
      "Uploading:   0%|          | 0/1 [00:00<?, ?it/s]\n"
     ]
    },
    {
     "name": "stdout",
     "output_type": "stream",
     "text": [
      "Processing slice z= 509\n"
     ]
    },
    {
     "name": "stderr",
     "output_type": "stream",
     "text": [
      "\r",
      "Uploading:   0%|          | 0/1 [00:00<?, ?it/s]"
     ]
    },
    {
     "name": "stdout",
     "output_type": "stream",
     "text": [
      "Processing slice z= 510\n"
     ]
    },
    {
     "name": "stderr",
     "output_type": "stream",
     "text": [
      "Uploading:   0%|          | 0/1 [00:00<?, ?it/s]\n",
      "Uploading:   0%|          | 0/1 [00:00<?, ?it/s]\u001b[A\n",
      "Uploading:   0%|          | 0/1 [00:00<?, ?it/s]\u001b[A\n",
      "Uploading:   0%|          | 0/1 [00:00<?, ?it/s]\u001b[A\n",
      "Uploading: 100%|██████████| 1/1 [00:00<00:00,  4.54it/s]\u001b[A\n",
      "Uploading:   0%|          | 0/1 [00:00<?, ?it/s]\n",
      "\n",
      "Uploading: 100%|██████████| 1/1 [00:00<00:00,  5.02it/s]\u001b[A\n"
     ]
    },
    {
     "name": "stdout",
     "output_type": "stream",
     "text": [
      "Processing slice z= 511\n"
     ]
    },
    {
     "name": "stderr",
     "output_type": "stream",
     "text": [
      "Uploading:   0%|          | 0/1 [00:00<?, ?it/s]\n"
     ]
    },
    {
     "name": "stdout",
     "output_type": "stream",
     "text": [
      "Processing slice z= 512\n"
     ]
    },
    {
     "name": "stderr",
     "output_type": "stream",
     "text": [
      "Uploading:   0%|          | 0/1 [00:00<?, ?it/s]\n",
      "Uploading:   0%|          | 0/1 [00:00<?, ?it/s]\u001b[A\n",
      "Uploading: 100%|██████████| 1/1 [00:00<00:00,  4.54it/s]\u001b[A\n",
      "\n",
      "Uploading:   0%|          | 0/1 [00:00<?, ?it/s]\u001b[A\n",
      "Uploading:   0%|          | 0/1 [00:00<?, ?it/s]\n",
      "Uploading: 100%|██████████| 1/1 [00:00<00:00,  4.82it/s]\u001b[A"
     ]
    },
    {
     "name": "stdout",
     "output_type": "stream",
     "text": [
      "success\n",
      "success\n",
      "success\n",
      "success\n",
      "success\n",
      "success\n",
      "Processing slice z= 513\n"
     ]
    },
    {
     "name": "stderr",
     "output_type": "stream",
     "text": [
      "Uploading: 100%|██████████| 1/1 [00:00<00:00,  4.69it/s]\n",
      "Uploading:   0%|          | 0/1 [00:00<?, ?it/s]\n",
      "Uploading:   0%|          | 0/1 [00:00<?, ?it/s]\n",
      "Uploading:   0%|          | 0/1 [00:00<?, ?it/s]\u001b[A"
     ]
    },
    {
     "name": "stdout",
     "output_type": "stream",
     "text": [
      "Processing slice z= 514\n"
     ]
    },
    {
     "name": "stderr",
     "output_type": "stream",
     "text": [
      "Uploading: 100%|██████████| 1/1 [00:00<00:00,  4.99it/s]\n",
      "Uploading:   0%|          | 0/1 [00:00<?, ?it/s]\n",
      "Uploading:   0%|          | 0/1 [00:00<?, ?it/s]"
     ]
    },
    {
     "name": "stdout",
     "output_type": "stream",
     "text": [
      "Processing slice z= 515\n"
     ]
    },
    {
     "name": "stderr",
     "output_type": "stream",
     "text": [
      "\n",
      "Uploading:   0%|          | 0/1 [00:00<?, ?it/s]\u001b[A\n",
      "Uploading:   0%|          | 0/1 [00:00<?, ?it/s]\u001b[A\n",
      "Uploading: 100%|██████████| 1/1 [00:00<00:00,  4.85it/s]\u001b[A\n",
      "Uploading:   0%|          | 0/1 [00:00<?, ?it/s]\n",
      "\n",
      "Uploading: 100%|██████████| 1/1 [00:00<00:00,  4.61it/s]\u001b[A\n",
      "Uploading:   0%|          | 0/1 [00:00<?, ?it/s]\n"
     ]
    },
    {
     "name": "stdout",
     "output_type": "stream",
     "text": [
      "Processing slice z= 516\n",
      "Processing slice z= 517\n"
     ]
    },
    {
     "name": "stderr",
     "output_type": "stream",
     "text": [
      "\n",
      "Uploading: 100%|██████████| 1/1 [00:00<00:00,  4.16it/s]\u001b[A\n",
      "\n",
      "Uploading:   0%|          | 0/1 [00:00<?, ?it/s]\u001b[A\n",
      "Uploading:   0%|          | 0/1 [00:00<?, ?it/s]\u001b[A\n"
     ]
    },
    {
     "name": "stdout",
     "output_type": "stream",
     "text": [
      "Processing slice z= 518\n"
     ]
    },
    {
     "name": "stderr",
     "output_type": "stream",
     "text": [
      "Uploading:   0%|          | 0/1 [00:00<?, ?it/s]\n",
      "Uploading:   0%|          | 0/1 [00:00<?, ?it/s]\u001b[A\n",
      "Uploading: 100%|██████████| 1/1 [00:00<00:00,  4.77it/s]\u001b[A\n",
      "Uploading:   0%|          | 0/1 [00:00<?, ?it/s]\n"
     ]
    },
    {
     "name": "stdout",
     "output_type": "stream",
     "text": [
      "Processing slice z= 519\n"
     ]
    },
    {
     "name": "stderr",
     "output_type": "stream",
     "text": [
      "Uploading:   0%|          | 0/1 [00:00<?, ?it/s]\n",
      "Uploading:   0%|          | 0/1 [00:00<?, ?it/s]\u001b[A\n",
      "Uploading: 100%|██████████| 1/1 [00:00<00:00,  4.52it/s]"
     ]
    },
    {
     "name": "stdout",
     "output_type": "stream",
     "text": [
      "success\n",
      "success\n",
      "success\n",
      "success\n",
      "success\n",
      "success\n",
      "success\n"
     ]
    },
    {
     "name": "stderr",
     "output_type": "stream",
     "text": [
      "Uploading: 100%|██████████| 1/1 [00:00<00:00,  4.16it/s]\n",
      "Uploading:   0%|          | 0/1 [00:00<?, ?it/s]\n",
      "\n",
      "Uploading: 100%|██████████| 1/1 [00:00<00:00,  4.50it/s]\u001b[A\n",
      "Uploading:   0%|          | 0/1 [00:00<?, ?it/s]\n"
     ]
    },
    {
     "name": "stdout",
     "output_type": "stream",
     "text": [
      "Processing slice z= 520\n",
      "Processing slice z= 521\n"
     ]
    },
    {
     "name": "stderr",
     "output_type": "stream",
     "text": [
      "Uploading:   0%|          | 0/1 [00:00<?, ?it/s]\n",
      "Uploading:   0%|          | 0/1 [00:00<?, ?it/s]\u001b[A\n",
      "Uploading:   0%|          | 0/1 [00:00<?, ?it/s]\u001b[A\n",
      "Uploading: 100%|██████████| 1/1 [00:00<00:00,  4.36it/s]\u001b[A\n",
      "Uploading:   0%|          | 0/1 [00:00<?, ?it/s]\n",
      "\n",
      "Uploading: 100%|██████████| 1/1 [00:00<00:00,  3.91it/s]\u001b[A\n",
      "Uploading:   0%|          | 0/1 [00:00<?, ?it/s]\n"
     ]
    },
    {
     "name": "stdout",
     "output_type": "stream",
     "text": [
      "Processing slice z= 522\n",
      "Processing slice z= 523\n"
     ]
    },
    {
     "name": "stderr",
     "output_type": "stream",
     "text": [
      "Uploading:   0%|          | 0/1 [00:00<?, ?it/s]\n",
      "Uploading:   0%|          | 0/1 [00:00<?, ?it/s]\u001b[A\n",
      "Uploading:   0%|          | 0/1 [00:00<?, ?it/s]\u001b[A\n",
      "Uploading: 100%|██████████| 1/1 [00:00<00:00,  4.43it/s]\u001b[A\n",
      "Uploading:   0%|          | 0/1 [00:00<?, ?it/s]\n",
      "\n",
      "Uploading: 100%|██████████| 1/1 [00:00<00:00,  4.34it/s]\u001b[A\n"
     ]
    },
    {
     "name": "stdout",
     "output_type": "stream",
     "text": [
      "Processing slice z= 524\n"
     ]
    },
    {
     "name": "stderr",
     "output_type": "stream",
     "text": [
      "Uploading:   0%|          | 0/1 [00:00<?, ?it/s]\n",
      "Uploading:   0%|          | 0/1 [00:00<?, ?it/s]\n",
      "Uploading:   0%|          | 0/1 [00:00<?, ?it/s]"
     ]
    },
    {
     "name": "stdout",
     "output_type": "stream",
     "text": [
      "Processing slice z= 525\n"
     ]
    },
    {
     "name": "stderr",
     "output_type": "stream",
     "text": [
      "Uploading:   0%|          | 0/1 [00:00<?, ?it/s]\n",
      "Uploading:   0%|          | 0/1 [00:00<?, ?it/s]\u001b[A\n",
      "Uploading: 100%|██████████| 1/1 [00:00<00:00,  3.99it/s]\u001b[A\n",
      "Uploading:   0%|          | 0/1 [00:00<?, ?it/s]\n"
     ]
    },
    {
     "name": "stdout",
     "output_type": "stream",
     "text": [
      "Processing slice z= 526\n"
     ]
    },
    {
     "name": "stderr",
     "output_type": "stream",
     "text": [
      "Uploading:   0%|          | 0/1 [00:00<?, ?it/s]\n",
      "Uploading:   0%|          | 0/1 [00:00<?, ?it/s]\u001b[A\n"
     ]
    },
    {
     "name": "stdout",
     "output_type": "stream",
     "text": [
      "success\n",
      "success\n",
      "success\n",
      "success\n",
      "success\n",
      "success\n",
      "success\n"
     ]
    },
    {
     "name": "stderr",
     "output_type": "stream",
     "text": [
      "Uploading: 100%|██████████| 1/1 [00:00<00:00,  4.22it/s]\u001b[A\n",
      "Uploading:   0%|          | 0/1 [00:00<?, ?it/s]\n"
     ]
    },
    {
     "name": "stdout",
     "output_type": "stream",
     "text": [
      "Processing slice z= 527\n"
     ]
    },
    {
     "name": "stderr",
     "output_type": "stream",
     "text": [
      "Uploading:   0%|          | 0/1 [00:00<?, ?it/s]\n",
      "Uploading:   0%|          | 0/1 [00:00<?, ?it/s]\u001b[A\n",
      "Uploading: 100%|██████████| 1/1 [00:00<00:00,  4.30it/s]\u001b[A\n",
      "Uploading:   0%|          | 0/1 [00:00<?, ?it/s]\n",
      "\n",
      "Uploading: 100%|██████████| 1/1 [00:00<00:00,  4.20it/s]\u001b[A\n",
      "Uploading:   0%|          | 0/1 [00:00<?, ?it/s]\n"
     ]
    },
    {
     "name": "stdout",
     "output_type": "stream",
     "text": [
      "Processing slice z= 528\n",
      "Processing slice z= 529\n"
     ]
    },
    {
     "name": "stderr",
     "output_type": "stream",
     "text": [
      "Uploading:   0%|          | 0/1 [00:00<?, ?it/s]\n",
      "Uploading: 100%|██████████| 1/1 [00:00<00:00,  4.34it/s]\n",
      "\n",
      "Uploading:   0%|          | 0/1 [00:00<?, ?it/s]\u001b[A\n"
     ]
    },
    {
     "name": "stdout",
     "output_type": "stream",
     "text": [
      "Processing slice z= 530\n"
     ]
    },
    {
     "name": "stderr",
     "output_type": "stream",
     "text": [
      "\n",
      "Uploading: 100%|██████████| 1/1 [00:00<00:00,  4.10it/s]\u001b[A\n",
      "Uploading:   0%|          | 0/1 [00:00<?, ?it/s]\n"
     ]
    },
    {
     "name": "stdout",
     "output_type": "stream",
     "text": [
      "Processing slice z= 531\n"
     ]
    },
    {
     "name": "stderr",
     "output_type": "stream",
     "text": [
      "\n",
      "Uploading: 100%|██████████| 1/1 [00:00<00:00,  4.40it/s]\u001b[A\n",
      "\n",
      "Uploading:   0%|          | 0/1 [00:00<?, ?it/s]\u001b[A\n",
      "\n",
      "Uploading:   0%|          | 0/1 [00:00<?, ?it/s]\u001b[A"
     ]
    },
    {
     "name": "stdout",
     "output_type": "stream",
     "text": [
      "Processing slice z= 532\n"
     ]
    },
    {
     "name": "stderr",
     "output_type": "stream",
     "text": [
      "\n",
      "Uploading:   0%|          | 0/1 [00:00<?, ?it/s].35it/s]\u001b[A\n",
      "Uploading: 100%|██████████| 1/1 [00:00<00:00,  4.10it/s]\n",
      "Uploading:   0%|          | 0/1 [00:00<?, ?it/s]"
     ]
    },
    {
     "name": "stdout",
     "output_type": "stream",
     "text": [
      "success\n",
      "success\n",
      "success\n",
      "success\n",
      "success\n",
      "success\n"
     ]
    },
    {
     "name": "stderr",
     "output_type": "stream",
     "text": [
      "\n"
     ]
    },
    {
     "name": "stdout",
     "output_type": "stream",
     "text": [
      "Processing slice z= 533\n"
     ]
    },
    {
     "name": "stderr",
     "output_type": "stream",
     "text": [
      "Uploading:   0%|          | 0/1 [00:00<?, ?it/s]\n",
      "Uploading:   0%|          | 0/1 [00:00<?, ?it/s]\u001b[A\n",
      "Uploading: 100%|██████████| 1/1 [00:00<00:00,  3.93it/s]\u001b[A\n",
      "Uploading:   0%|          | 0/1 [00:00<?, ?it/s]\n"
     ]
    },
    {
     "name": "stdout",
     "output_type": "stream",
     "text": [
      "Processing slice z= 534\n"
     ]
    },
    {
     "name": "stderr",
     "output_type": "stream",
     "text": [
      "\n",
      "Uploading: 100%|██████████| 1/1 [00:00<00:00,  4.00it/s]\u001b[A\n",
      "Uploading:   0%|          | 0/1 [00:00<?, ?it/s]\n",
      "\n",
      "Uploading:   0%|          | 0/1 [00:00<?, ?it/s]\u001b[A"
     ]
    },
    {
     "name": "stdout",
     "output_type": "stream",
     "text": [
      "Processing slice z= 535\n"
     ]
    },
    {
     "name": "stderr",
     "output_type": "stream",
     "text": [
      "Uploading:   0%|          | 0/1 [00:00<?, ?it/s]\n",
      "Uploading:   0%|          | 0/1 [00:00<?, ?it/s]\u001b[A\n",
      "Uploading: 100%|██████████| 1/1 [00:00<00:00,  4.06it/s]\u001b[A\n",
      "Uploading:   0%|          | 0/1 [00:00<?, ?it/s]\n",
      "\n",
      "Uploading: 100%|██████████| 1/1 [00:00<00:00,  3.85it/s]\u001b[A\n",
      "Uploading:   0%|          | 0/1 [00:00<?, ?it/s]\n"
     ]
    },
    {
     "name": "stdout",
     "output_type": "stream",
     "text": [
      "Processing slice z= 536\n",
      "Processing slice z= 537\n"
     ]
    },
    {
     "name": "stderr",
     "output_type": "stream",
     "text": [
      "Uploading:   0%|          | 0/1 [00:00<?, ?it/s]\n",
      "Uploading:   0%|          | 0/1 [00:00<?, ?it/s]\u001b[A\n",
      "Uploading:   0%|          | 0/1 [00:00<?, ?it/s]\u001b[A\n",
      "Uploading: 100%|██████████| 1/1 [00:00<00:00,  4.12it/s]\u001b[A\n",
      "Uploading:   0%|          | 0/1 [00:00<?, ?it/s]\n"
     ]
    },
    {
     "name": "stdout",
     "output_type": "stream",
     "text": [
      "success\n",
      "success\n",
      "success\n",
      "success\n",
      "success\n",
      "Processing slice z= 538\n"
     ]
    },
    {
     "name": "stderr",
     "output_type": "stream",
     "text": [
      "\n",
      "Uploading: 100%|██████████| 1/1 [00:00<00:00,  3.76it/s]\u001b[A\n",
      "Uploading:   0%|          | 0/1 [00:00<?, ?it/s]\n"
     ]
    },
    {
     "name": "stdout",
     "output_type": "stream",
     "text": [
      "Processing slice z= 539\n"
     ]
    },
    {
     "name": "stderr",
     "output_type": "stream",
     "text": [
      "\n",
      "Uploading: 100%|██████████| 1/1 [00:00<00:00,  3.80it/s]\u001b[A\n",
      "\n",
      "Uploading:   0%|          | 0/1 [00:00<?, ?it/s]\u001b[A\n",
      "\n",
      "Uploading:   0%|          | 0/1 [00:00<?, ?it/s]\u001b[A\n",
      "Uploading: 100%|██████████| 1/1 [00:00<00:00,  3.84it/s]\u001b[A\n",
      "Uploading:   0%|          | 0/1 [00:00<?, ?it/s]\n",
      "Uploading: 100%|██████████| 1/1 [00:00<00:00,  4.01it/s]\n",
      "Uploading:   0%|          | 0/1 [00:00<?, ?it/s]\n",
      "\n",
      "Uploading: 100%|██████████| 1/1 [00:00<00:00,  3.82it/s]\u001b[A\n",
      "Uploading:   0%|          | 0/1 [00:00<?, ?it/s]\n"
     ]
    },
    {
     "name": "stdout",
     "output_type": "stream",
     "text": [
      "success\n",
      "success\n",
      "success\n",
      "success\n",
      "success\n",
      "success\n"
     ]
    },
    {
     "name": "stderr",
     "output_type": "stream",
     "text": [
      "\n",
      "Uploading: 100%|██████████| 1/1 [00:00<00:00,  4.04it/s]\u001b[A\n",
      "Uploading:   0%|          | 0/1 [00:00<?, ?it/s]\n",
      "\n",
      "Uploading: 100%|██████████| 1/1 [00:00<00:00,  3.96it/s]\u001b[A\n",
      "Uploading:   0%|          | 0/1 [00:00<?, ?it/s]\n",
      "\n",
      "Uploading: 100%|██████████| 1/1 [00:00<00:00,  4.07it/s]\u001b[A\n",
      "Uploading: 100%|██████████| 1/1 [00:00<00:00,  4.16it/s]\n",
      "Uploading:   0%|          | 0/1 [00:00<?, ?it/s]\n",
      "Uploading:   0%|          | 0/1 [00:00<?, ?it/s]\n"
     ]
    },
    {
     "name": "stdout",
     "output_type": "stream",
     "text": [
      "success\n",
      "success\n",
      "success\n",
      "success\n"
     ]
    }
   ],
   "source": [
    "# Run the conversion in parallel. It's not a huge amount of processing but the more cores the better\n",
    "\n",
    "# First figure out if there are any planes that have already been converted \n",
    "# by checking the progress dir\n",
    "done_files = set([ int(z) for z in os.listdir(progress_dir) ])\n",
    "all_files = set(range(vol.bounds.minpt.z, vol.bounds.maxpt.z))\n",
    "# Figure out the ones we still need to convert \n",
    "to_upload = [ int(z) for z in list(all_files.difference(done_files)) ]\n",
    "to_upload.sort()\n",
    "print(f\"Have {len(to_upload)} planes to upload\")\n",
    "with ProcessPoolExecutor(max_workers=cpus_to_use) as executor:\n",
    "    for result in executor.map(process_slice,to_upload):\n",
    "        try:\n",
    "            print(result)\n",
    "        except Exception as exc:\n",
    "            print(f'generated an exception: {exc}')"
   ]
  },
  {
   "cell_type": "markdown",
   "metadata": {},
   "source": [
    "# Step 3: Host the precomputed data on your machine so that Neuroglancer can see it\n",
    "This step is really easy! Note: Executing the cell below will cause your jupyter notebook to hang (expected). This is the last cell you need to run in the notebook, but if for some reason you want to use the same notebook for something else then run the code in the cell below elsewhere (e.g. a new terminal window). "
   ]
  },
  {
   "cell_type": "code",
   "execution_count": null,
   "metadata": {},
   "outputs": [
    {
     "name": "stdout",
     "output_type": "stream",
     "text": [
      "Neuroglancer server listening to http://localhost:1338\n"
     ]
    },
    {
     "name": "stderr",
     "output_type": "stream",
     "text": [
      "127.0.0.1 - - [11/May/2020 13:34:39] \"GET /info HTTP/1.1\" 200 -\n",
      "127.0.0.1 - - [11/May/2020 13:34:40] \"GET /20000_20000_20000/0-352_0-640_270-271 HTTP/1.1\" 200 -\n",
      "127.0.0.1 - - [11/May/2020 13:34:40] \"GET /20000_20000_20000/0-352_0-640_271-272 HTTP/1.1\" 200 -\n",
      "127.0.0.1 - - [11/May/2020 13:34:40] \"GET /20000_20000_20000/0-352_0-640_269-270 HTTP/1.1\" 200 -\n",
      "127.0.0.1 - - [11/May/2020 13:34:40] \"GET /20000_20000_20000/0-352_0-640_272-273 HTTP/1.1\" 200 -\n",
      "127.0.0.1 - - [11/May/2020 13:34:40] \"GET /20000_20000_20000/0-352_0-640_268-269 HTTP/1.1\" 200 -\n",
      "127.0.0.1 - - [11/May/2020 13:34:40] \"GET /20000_20000_20000/0-352_0-640_267-268 HTTP/1.1\" 200 -\n",
      "127.0.0.1 - - [11/May/2020 13:34:40] \"GET /20000_20000_20000/0-352_0-640_273-274 HTTP/1.1\" 200 -\n",
      "127.0.0.1 - - [11/May/2020 13:34:40] \"GET /20000_20000_20000/0-352_0-640_274-275 HTTP/1.1\" 200 -\n",
      "127.0.0.1 - - [11/May/2020 13:34:40] \"GET /20000_20000_20000/0-352_0-640_266-267 HTTP/1.1\" 200 -\n",
      "127.0.0.1 - - [11/May/2020 13:34:40] \"GET /20000_20000_20000/0-352_0-640_265-266 HTTP/1.1\" 200 -\n",
      "127.0.0.1 - - [11/May/2020 13:34:40] \"GET /20000_20000_20000/0-352_0-640_275-276 HTTP/1.1\" 200 -\n",
      "127.0.0.1 - - [11/May/2020 13:34:40] \"GET /20000_20000_20000/0-352_0-640_276-277 HTTP/1.1\" 200 -\n",
      "127.0.0.1 - - [11/May/2020 13:34:40] \"GET /20000_20000_20000/0-352_0-640_264-265 HTTP/1.1\" 200 -\n",
      "127.0.0.1 - - [11/May/2020 13:34:40] \"GET /20000_20000_20000/0-352_0-640_263-264 HTTP/1.1\" 200 -\n",
      "127.0.0.1 - - [11/May/2020 13:34:40] \"GET /20000_20000_20000/0-352_0-640_277-278 HTTP/1.1\" 200 -\n",
      "127.0.0.1 - - [11/May/2020 13:34:40] \"GET /20000_20000_20000/0-352_0-640_278-279 HTTP/1.1\" 200 -\n",
      "127.0.0.1 - - [11/May/2020 13:34:40] \"GET /20000_20000_20000/0-352_0-640_262-263 HTTP/1.1\" 200 -\n",
      "127.0.0.1 - - [11/May/2020 13:34:40] \"GET /20000_20000_20000/0-352_0-640_261-262 HTTP/1.1\" 200 -\n",
      "127.0.0.1 - - [11/May/2020 13:34:40] \"GET /20000_20000_20000/0-352_0-640_279-280 HTTP/1.1\" 200 -\n",
      "127.0.0.1 - - [11/May/2020 13:34:40] \"GET /20000_20000_20000/0-352_0-640_260-261 HTTP/1.1\" 200 -\n",
      "127.0.0.1 - - [11/May/2020 13:34:40] \"GET /20000_20000_20000/0-352_0-640_280-281 HTTP/1.1\" 200 -\n",
      "127.0.0.1 - - [11/May/2020 13:34:40] \"GET /20000_20000_20000/0-352_0-640_281-282 HTTP/1.1\" 200 -\n",
      "127.0.0.1 - - [11/May/2020 13:34:40] \"GET /20000_20000_20000/0-352_0-640_259-260 HTTP/1.1\" 200 -\n",
      "127.0.0.1 - - [11/May/2020 13:34:40] \"GET /20000_20000_20000/0-352_0-640_258-259 HTTP/1.1\" 200 -\n",
      "127.0.0.1 - - [11/May/2020 13:34:40] \"GET /20000_20000_20000/0-352_0-640_282-283 HTTP/1.1\" 200 -\n",
      "127.0.0.1 - - [11/May/2020 13:34:40] \"GET /20000_20000_20000/0-352_0-640_283-284 HTTP/1.1\" 200 -\n",
      "127.0.0.1 - - [11/May/2020 13:34:40] \"GET /20000_20000_20000/0-352_0-640_257-258 HTTP/1.1\" 200 -\n",
      "127.0.0.1 - - [11/May/2020 13:34:40] \"GET /20000_20000_20000/0-352_0-640_284-285 HTTP/1.1\" 200 -\n",
      "127.0.0.1 - - [11/May/2020 13:34:40] \"GET /20000_20000_20000/0-352_0-640_256-257 HTTP/1.1\" 200 -\n",
      "127.0.0.1 - - [11/May/2020 13:34:40] \"GET /20000_20000_20000/0-352_0-640_255-256 HTTP/1.1\" 200 -\n",
      "127.0.0.1 - - [11/May/2020 13:34:40] \"GET /20000_20000_20000/0-352_0-640_285-286 HTTP/1.1\" 200 -\n",
      "127.0.0.1 - - [11/May/2020 13:34:40] \"GET /20000_20000_20000/0-352_0-640_286-287 HTTP/1.1\" 200 -\n",
      "127.0.0.1 - - [11/May/2020 13:34:40] \"GET /20000_20000_20000/0-352_0-640_254-255 HTTP/1.1\" 200 -\n",
      "127.0.0.1 - - [11/May/2020 13:34:40] \"GET /20000_20000_20000/0-352_0-640_253-254 HTTP/1.1\" 200 -\n",
      "127.0.0.1 - - [11/May/2020 13:34:40] \"GET /20000_20000_20000/0-352_0-640_287-288 HTTP/1.1\" 200 -\n",
      "127.0.0.1 - - [11/May/2020 13:34:40] \"GET /20000_20000_20000/0-352_0-640_288-289 HTTP/1.1\" 200 -\n",
      "127.0.0.1 - - [11/May/2020 13:34:40] \"GET /20000_20000_20000/0-352_0-640_252-253 HTTP/1.1\" 200 -\n",
      "127.0.0.1 - - [11/May/2020 13:34:40] \"GET /20000_20000_20000/0-352_0-640_251-252 HTTP/1.1\" 200 -\n",
      "127.0.0.1 - - [11/May/2020 13:34:40] \"GET /20000_20000_20000/0-352_0-640_289-290 HTTP/1.1\" 200 -\n",
      "127.0.0.1 - - [11/May/2020 13:34:40] \"GET /20000_20000_20000/0-352_0-640_290-291 HTTP/1.1\" 200 -\n",
      "127.0.0.1 - - [11/May/2020 13:34:40] \"GET /20000_20000_20000/0-352_0-640_250-251 HTTP/1.1\" 200 -\n",
      "127.0.0.1 - - [11/May/2020 13:34:40] \"GET /20000_20000_20000/0-352_0-640_249-250 HTTP/1.1\" 200 -\n",
      "127.0.0.1 - - [11/May/2020 13:34:40] \"GET /20000_20000_20000/0-352_0-640_291-292 HTTP/1.1\" 200 -\n",
      "127.0.0.1 - - [11/May/2020 13:34:40] \"GET /20000_20000_20000/0-352_0-640_248-249 HTTP/1.1\" 200 -\n",
      "127.0.0.1 - - [11/May/2020 13:34:40] \"GET /20000_20000_20000/0-352_0-640_292-293 HTTP/1.1\" 200 -\n",
      "127.0.0.1 - - [11/May/2020 13:34:40] \"GET /20000_20000_20000/0-352_0-640_293-294 HTTP/1.1\" 200 -\n",
      "127.0.0.1 - - [11/May/2020 13:34:40] \"GET /20000_20000_20000/0-352_0-640_247-248 HTTP/1.1\" 200 -\n",
      "127.0.0.1 - - [11/May/2020 13:34:40] \"GET /20000_20000_20000/0-352_0-640_246-247 HTTP/1.1\" 200 -\n",
      "127.0.0.1 - - [11/May/2020 13:34:40] \"GET /20000_20000_20000/0-352_0-640_294-295 HTTP/1.1\" 200 -\n",
      "127.0.0.1 - - [11/May/2020 13:34:40] \"GET /20000_20000_20000/0-352_0-640_295-296 HTTP/1.1\" 200 -\n",
      "127.0.0.1 - - [11/May/2020 13:34:40] \"GET /20000_20000_20000/0-352_0-640_245-246 HTTP/1.1\" 200 -\n",
      "127.0.0.1 - - [11/May/2020 13:34:40] \"GET /20000_20000_20000/0-352_0-640_296-297 HTTP/1.1\" 200 -\n",
      "127.0.0.1 - - [11/May/2020 13:34:40] \"GET /20000_20000_20000/0-352_0-640_244-245 HTTP/1.1\" 200 -\n",
      "127.0.0.1 - - [11/May/2020 13:34:40] \"GET /20000_20000_20000/0-352_0-640_243-244 HTTP/1.1\" 200 -\n",
      "127.0.0.1 - - [11/May/2020 13:34:40] \"GET /20000_20000_20000/0-352_0-640_297-298 HTTP/1.1\" 200 -\n",
      "127.0.0.1 - - [11/May/2020 13:34:40] \"GET /20000_20000_20000/0-352_0-640_298-299 HTTP/1.1\" 200 -\n",
      "127.0.0.1 - - [11/May/2020 13:34:40] \"GET /20000_20000_20000/0-352_0-640_242-243 HTTP/1.1\" 200 -\n",
      "127.0.0.1 - - [11/May/2020 13:34:40] \"GET /20000_20000_20000/0-352_0-640_241-242 HTTP/1.1\" 200 -\n",
      "127.0.0.1 - - [11/May/2020 13:34:40] \"GET /20000_20000_20000/0-352_0-640_299-300 HTTP/1.1\" 200 -\n",
      "127.0.0.1 - - [11/May/2020 13:34:40] \"GET /20000_20000_20000/0-352_0-640_240-241 HTTP/1.1\" 200 -\n",
      "127.0.0.1 - - [11/May/2020 13:34:40] \"GET /20000_20000_20000/0-352_0-640_300-301 HTTP/1.1\" 200 -\n",
      "127.0.0.1 - - [11/May/2020 13:34:41] \"GET /20000_20000_20000/0-352_0-640_301-302 HTTP/1.1\" 200 -\n",
      "127.0.0.1 - - [11/May/2020 13:34:41] \"GET /20000_20000_20000/0-352_0-640_239-240 HTTP/1.1\" 200 -\n",
      "127.0.0.1 - - [11/May/2020 13:34:41] \"GET /20000_20000_20000/0-352_0-640_238-239 HTTP/1.1\" 200 -\n",
      "127.0.0.1 - - [11/May/2020 13:34:41] \"GET /20000_20000_20000/0-352_0-640_302-303 HTTP/1.1\" 200 -\n",
      "127.0.0.1 - - [11/May/2020 13:34:41] \"GET /20000_20000_20000/0-352_0-640_303-304 HTTP/1.1\" 200 -\n",
      "127.0.0.1 - - [11/May/2020 13:34:41] \"GET /20000_20000_20000/0-352_0-640_237-238 HTTP/1.1\" 200 -\n",
      "127.0.0.1 - - [11/May/2020 13:34:41] \"GET /20000_20000_20000/0-352_0-640_236-237 HTTP/1.1\" 200 -\n",
      "127.0.0.1 - - [11/May/2020 13:34:41] \"GET /20000_20000_20000/0-352_0-640_304-305 HTTP/1.1\" 200 -\n",
      "127.0.0.1 - - [11/May/2020 13:34:41] \"GET /20000_20000_20000/0-352_0-640_305-306 HTTP/1.1\" 200 -\n",
      "127.0.0.1 - - [11/May/2020 13:34:41] \"GET /20000_20000_20000/0-352_0-640_235-236 HTTP/1.1\" 200 -\n",
      "127.0.0.1 - - [11/May/2020 13:34:41] \"GET /20000_20000_20000/0-352_0-640_234-235 HTTP/1.1\" 200 -\n",
      "127.0.0.1 - - [11/May/2020 13:34:41] \"GET /20000_20000_20000/0-352_0-640_306-307 HTTP/1.1\" 200 -\n",
      "127.0.0.1 - - [11/May/2020 13:34:41] \"GET /20000_20000_20000/0-352_0-640_307-308 HTTP/1.1\" 200 -\n",
      "127.0.0.1 - - [11/May/2020 13:34:41] \"GET /20000_20000_20000/0-352_0-640_233-234 HTTP/1.1\" 200 -\n",
      "127.0.0.1 - - [11/May/2020 13:34:41] \"GET /20000_20000_20000/0-352_0-640_308-309 HTTP/1.1\" 200 -\n",
      "127.0.0.1 - - [11/May/2020 13:34:41] \"GET /20000_20000_20000/0-352_0-640_232-233 HTTP/1.1\" 200 -\n",
      "127.0.0.1 - - [11/May/2020 13:34:41] \"GET /20000_20000_20000/0-352_0-640_231-232 HTTP/1.1\" 200 -\n",
      "127.0.0.1 - - [11/May/2020 13:34:41] \"GET /20000_20000_20000/0-352_0-640_309-310 HTTP/1.1\" 200 -\n",
      "127.0.0.1 - - [11/May/2020 13:34:41] \"GET /20000_20000_20000/0-352_0-640_310-311 HTTP/1.1\" 200 -\n",
      "127.0.0.1 - - [11/May/2020 13:34:41] \"GET /20000_20000_20000/0-352_0-640_230-231 HTTP/1.1\" 200 -\n",
      "127.0.0.1 - - [11/May/2020 13:34:41] \"GET /20000_20000_20000/0-352_0-640_229-230 HTTP/1.1\" 200 -\n",
      "127.0.0.1 - - [11/May/2020 13:34:41] \"GET /20000_20000_20000/0-352_0-640_311-312 HTTP/1.1\" 200 -\n",
      "127.0.0.1 - - [11/May/2020 13:34:41] \"GET /20000_20000_20000/0-352_0-640_228-229 HTTP/1.1\" 200 -\n",
      "127.0.0.1 - - [11/May/2020 13:34:41] \"GET /20000_20000_20000/0-352_0-640_312-313 HTTP/1.1\" 200 -\n",
      "127.0.0.1 - - [11/May/2020 13:34:41] \"GET /20000_20000_20000/0-352_0-640_313-314 HTTP/1.1\" 200 -\n"
     ]
    },
    {
     "name": "stderr",
     "output_type": "stream",
     "text": [
      "127.0.0.1 - - [11/May/2020 13:34:41] \"GET /20000_20000_20000/0-352_0-640_227-228 HTTP/1.1\" 200 -\n",
      "127.0.0.1 - - [11/May/2020 13:34:41] \"GET /20000_20000_20000/0-352_0-640_226-227 HTTP/1.1\" 200 -\n",
      "127.0.0.1 - - [11/May/2020 13:34:41] \"GET /20000_20000_20000/0-352_0-640_314-315 HTTP/1.1\" 200 -\n",
      "127.0.0.1 - - [11/May/2020 13:34:41] \"GET /20000_20000_20000/0-352_0-640_315-316 HTTP/1.1\" 200 -\n",
      "127.0.0.1 - - [11/May/2020 13:34:41] \"GET /20000_20000_20000/0-352_0-640_225-226 HTTP/1.1\" 200 -\n",
      "127.0.0.1 - - [11/May/2020 13:34:41] \"GET /20000_20000_20000/0-352_0-640_316-317 HTTP/1.1\" 200 -\n",
      "127.0.0.1 - - [11/May/2020 13:34:41] \"GET /20000_20000_20000/0-352_0-640_224-225 HTTP/1.1\" 200 -\n",
      "127.0.0.1 - - [11/May/2020 13:34:41] \"GET /20000_20000_20000/0-352_0-640_223-224 HTTP/1.1\" 200 -\n",
      "127.0.0.1 - - [11/May/2020 13:34:41] \"GET /20000_20000_20000/0-352_0-640_317-318 HTTP/1.1\" 200 -\n",
      "127.0.0.1 - - [11/May/2020 13:34:41] \"GET /20000_20000_20000/0-352_0-640_318-319 HTTP/1.1\" 200 -\n",
      "127.0.0.1 - - [11/May/2020 13:34:41] \"GET /20000_20000_20000/0-352_0-640_222-223 HTTP/1.1\" 200 -\n",
      "127.0.0.1 - - [11/May/2020 13:34:41] \"GET /20000_20000_20000/0-352_0-640_221-222 HTTP/1.1\" 200 -\n",
      "127.0.0.1 - - [11/May/2020 13:34:41] \"GET /20000_20000_20000/0-352_0-640_319-320 HTTP/1.1\" 200 -\n",
      "127.0.0.1 - - [11/May/2020 13:34:41] \"GET /20000_20000_20000/0-352_0-640_220-221 HTTP/1.1\" 200 -\n",
      "127.0.0.1 - - [11/May/2020 13:34:41] \"GET /20000_20000_20000/0-352_0-640_320-321 HTTP/1.1\" 200 -\n",
      "127.0.0.1 - - [11/May/2020 13:34:41] \"GET /20000_20000_20000/0-352_0-640_321-322 HTTP/1.1\" 200 -\n",
      "127.0.0.1 - - [11/May/2020 13:34:41] \"GET /20000_20000_20000/0-352_0-640_219-220 HTTP/1.1\" 200 -\n",
      "127.0.0.1 - - [11/May/2020 13:34:41] \"GET /20000_20000_20000/0-352_0-640_218-219 HTTP/1.1\" 200 -\n",
      "127.0.0.1 - - [11/May/2020 13:34:41] \"GET /20000_20000_20000/0-352_0-640_322-323 HTTP/1.1\" 200 -\n",
      "127.0.0.1 - - [11/May/2020 13:34:41] \"GET /20000_20000_20000/0-352_0-640_323-324 HTTP/1.1\" 200 -\n",
      "127.0.0.1 - - [11/May/2020 13:34:41] \"GET /20000_20000_20000/0-352_0-640_217-218 HTTP/1.1\" 200 -\n",
      "127.0.0.1 - - [11/May/2020 13:34:41] \"GET /20000_20000_20000/0-352_0-640_216-217 HTTP/1.1\" 200 -\n",
      "127.0.0.1 - - [11/May/2020 13:34:41] \"GET /20000_20000_20000/0-352_0-640_324-325 HTTP/1.1\" 200 -\n",
      "127.0.0.1 - - [11/May/2020 13:34:41] \"GET /20000_20000_20000/0-352_0-640_325-326 HTTP/1.1\" 200 -\n",
      "127.0.0.1 - - [11/May/2020 13:34:41] \"GET /20000_20000_20000/0-352_0-640_215-216 HTTP/1.1\" 200 -\n",
      "127.0.0.1 - - [11/May/2020 13:34:41] \"GET /20000_20000_20000/0-352_0-640_214-215 HTTP/1.1\" 200 -\n",
      "127.0.0.1 - - [11/May/2020 13:34:41] \"GET /20000_20000_20000/0-352_0-640_326-327 HTTP/1.1\" 200 -\n",
      "127.0.0.1 - - [11/May/2020 13:34:41] \"GET /20000_20000_20000/0-352_0-640_327-328 HTTP/1.1\" 200 -\n",
      "127.0.0.1 - - [11/May/2020 13:34:41] \"GET /20000_20000_20000/0-352_0-640_213-214 HTTP/1.1\" 200 -\n",
      "127.0.0.1 - - [11/May/2020 13:34:41] \"GET /20000_20000_20000/0-352_0-640_328-329 HTTP/1.1\" 200 -\n",
      "127.0.0.1 - - [11/May/2020 13:34:41] \"GET /20000_20000_20000/0-352_0-640_212-213 HTTP/1.1\" 200 -\n",
      "127.0.0.1 - - [11/May/2020 13:34:41] \"GET /20000_20000_20000/0-352_0-640_211-212 HTTP/1.1\" 200 -\n",
      "127.0.0.1 - - [11/May/2020 13:34:42] \"GET /20000_20000_20000/0-352_0-640_329-330 HTTP/1.1\" 200 -\n",
      "127.0.0.1 - - [11/May/2020 13:34:42] \"GET /20000_20000_20000/0-352_0-640_330-331 HTTP/1.1\" 200 -\n",
      "127.0.0.1 - - [11/May/2020 13:34:42] \"GET /20000_20000_20000/0-352_0-640_210-211 HTTP/1.1\" 200 -\n",
      "127.0.0.1 - - [11/May/2020 13:34:42] \"GET /20000_20000_20000/0-352_0-640_209-210 HTTP/1.1\" 200 -\n",
      "127.0.0.1 - - [11/May/2020 13:34:42] \"GET /20000_20000_20000/0-352_0-640_331-332 HTTP/1.1\" 200 -\n",
      "127.0.0.1 - - [11/May/2020 13:34:42] \"GET /20000_20000_20000/0-352_0-640_208-209 HTTP/1.1\" 200 -\n",
      "127.0.0.1 - - [11/May/2020 13:34:42] \"GET /20000_20000_20000/0-352_0-640_332-333 HTTP/1.1\" 200 -\n",
      "127.0.0.1 - - [11/May/2020 13:34:42] \"GET /20000_20000_20000/0-352_0-640_333-334 HTTP/1.1\" 200 -\n",
      "127.0.0.1 - - [11/May/2020 13:34:42] \"GET /20000_20000_20000/0-352_0-640_207-208 HTTP/1.1\" 200 -\n",
      "127.0.0.1 - - [11/May/2020 13:34:42] \"GET /20000_20000_20000/0-352_0-640_206-207 HTTP/1.1\" 200 -\n",
      "127.0.0.1 - - [11/May/2020 13:34:42] \"GET /20000_20000_20000/0-352_0-640_334-335 HTTP/1.1\" 200 -\n",
      "127.0.0.1 - - [11/May/2020 13:34:42] \"GET /20000_20000_20000/0-352_0-640_335-336 HTTP/1.1\" 200 -\n",
      "127.0.0.1 - - [11/May/2020 13:34:42] \"GET /20000_20000_20000/0-352_0-640_205-206 HTTP/1.1\" 200 -\n",
      "127.0.0.1 - - [11/May/2020 13:34:42] \"GET /20000_20000_20000/0-352_0-640_336-337 HTTP/1.1\" 200 -\n",
      "127.0.0.1 - - [11/May/2020 13:34:42] \"GET /20000_20000_20000/0-352_0-640_204-205 HTTP/1.1\" 200 -\n",
      "127.0.0.1 - - [11/May/2020 13:34:42] \"GET /20000_20000_20000/0-352_0-640_203-204 HTTP/1.1\" 200 -\n",
      "127.0.0.1 - - [11/May/2020 13:34:42] \"GET /20000_20000_20000/0-352_0-640_337-338 HTTP/1.1\" 200 -\n",
      "127.0.0.1 - - [11/May/2020 13:34:42] \"GET /20000_20000_20000/0-352_0-640_338-339 HTTP/1.1\" 200 -\n",
      "127.0.0.1 - - [11/May/2020 13:34:42] \"GET /20000_20000_20000/0-352_0-640_202-203 HTTP/1.1\" 200 -\n",
      "127.0.0.1 - - [11/May/2020 13:34:42] \"GET /20000_20000_20000/0-352_0-640_201-202 HTTP/1.1\" 200 -\n",
      "127.0.0.1 - - [11/May/2020 13:34:42] \"GET /20000_20000_20000/0-352_0-640_339-340 HTTP/1.1\" 200 -\n",
      "127.0.0.1 - - [11/May/2020 13:34:42] \"GET /20000_20000_20000/0-352_0-640_200-201 HTTP/1.1\" 200 -\n",
      "127.0.0.1 - - [11/May/2020 13:34:42] \"GET /20000_20000_20000/0-352_0-640_340-341 HTTP/1.1\" 200 -\n",
      "127.0.0.1 - - [11/May/2020 13:34:42] \"GET /20000_20000_20000/0-352_0-640_341-342 HTTP/1.1\" 200 -\n",
      "127.0.0.1 - - [11/May/2020 13:34:42] \"GET /20000_20000_20000/0-352_0-640_199-200 HTTP/1.1\" 200 -\n",
      "127.0.0.1 - - [11/May/2020 13:34:42] \"GET /20000_20000_20000/0-352_0-640_198-199 HTTP/1.1\" 200 -\n",
      "127.0.0.1 - - [11/May/2020 13:34:42] \"GET /20000_20000_20000/0-352_0-640_342-343 HTTP/1.1\" 200 -\n",
      "127.0.0.1 - - [11/May/2020 13:34:42] \"GET /20000_20000_20000/0-352_0-640_343-344 HTTP/1.1\" 200 -\n",
      "127.0.0.1 - - [11/May/2020 13:34:42] \"GET /20000_20000_20000/0-352_0-640_197-198 HTTP/1.1\" 200 -\n",
      "127.0.0.1 - - [11/May/2020 13:34:42] \"GET /20000_20000_20000/0-352_0-640_344-345 HTTP/1.1\" 200 -\n",
      "127.0.0.1 - - [11/May/2020 13:34:42] \"GET /20000_20000_20000/0-352_0-640_196-197 HTTP/1.1\" 200 -\n",
      "127.0.0.1 - - [11/May/2020 13:34:42] \"GET /20000_20000_20000/0-352_0-640_195-196 HTTP/1.1\" 200 -\n",
      "127.0.0.1 - - [11/May/2020 13:34:42] \"GET /20000_20000_20000/0-352_0-640_345-346 HTTP/1.1\" 200 -\n",
      "127.0.0.1 - - [11/May/2020 13:34:42] \"GET /20000_20000_20000/0-352_0-640_346-347 HTTP/1.1\" 200 -\n",
      "127.0.0.1 - - [11/May/2020 13:34:42] \"GET /20000_20000_20000/0-352_0-640_194-195 HTTP/1.1\" 200 -\n",
      "127.0.0.1 - - [11/May/2020 13:34:42] \"GET /20000_20000_20000/0-352_0-640_193-194 HTTP/1.1\" 200 -\n",
      "127.0.0.1 - - [11/May/2020 13:34:42] \"GET /20000_20000_20000/0-352_0-640_347-348 HTTP/1.1\" 200 -\n",
      "127.0.0.1 - - [11/May/2020 13:34:42] \"GET /20000_20000_20000/0-352_0-640_192-193 HTTP/1.1\" 200 -\n",
      "127.0.0.1 - - [11/May/2020 13:34:42] \"GET /20000_20000_20000/0-352_0-640_348-349 HTTP/1.1\" 200 -\n",
      "127.0.0.1 - - [11/May/2020 13:34:42] \"GET /20000_20000_20000/0-352_0-640_349-350 HTTP/1.1\" 200 -\n",
      "127.0.0.1 - - [11/May/2020 13:34:42] \"GET /20000_20000_20000/0-352_0-640_191-192 HTTP/1.1\" 200 -\n",
      "127.0.0.1 - - [11/May/2020 13:34:42] \"GET /20000_20000_20000/0-352_0-640_190-191 HTTP/1.1\" 200 -\n",
      "127.0.0.1 - - [11/May/2020 13:34:42] \"GET /20000_20000_20000/0-352_0-640_350-351 HTTP/1.1\" 200 -\n",
      "127.0.0.1 - - [11/May/2020 13:34:42] \"GET /20000_20000_20000/0-352_0-640_351-352 HTTP/1.1\" 200 -\n",
      "127.0.0.1 - - [11/May/2020 13:34:42] \"GET /20000_20000_20000/0-352_0-640_189-190 HTTP/1.1\" 200 -\n",
      "127.0.0.1 - - [11/May/2020 13:34:42] \"GET /20000_20000_20000/0-352_0-640_188-189 HTTP/1.1\" 200 -\n",
      "127.0.0.1 - - [11/May/2020 13:34:42] \"GET /20000_20000_20000/0-352_0-640_352-353 HTTP/1.1\" 200 -\n",
      "127.0.0.1 - - [11/May/2020 13:34:42] \"GET /20000_20000_20000/0-352_0-640_353-354 HTTP/1.1\" 200 -\n",
      "127.0.0.1 - - [11/May/2020 13:34:42] \"GET /20000_20000_20000/0-352_0-640_187-188 HTTP/1.1\" 200 -\n",
      "127.0.0.1 - - [11/May/2020 13:34:42] \"GET /20000_20000_20000/0-352_0-640_354-355 HTTP/1.1\" 200 -\n",
      "127.0.0.1 - - [11/May/2020 13:34:42] \"GET /20000_20000_20000/0-352_0-640_186-187 HTTP/1.1\" 200 -\n",
      "127.0.0.1 - - [11/May/2020 13:34:42] \"GET /20000_20000_20000/0-352_0-640_185-186 HTTP/1.1\" 200 -\n",
      "127.0.0.1 - - [11/May/2020 13:34:42] \"GET /20000_20000_20000/0-352_0-640_355-356 HTTP/1.1\" 200 -\n",
      "127.0.0.1 - - [11/May/2020 13:34:42] \"GET /20000_20000_20000/0-352_0-640_184-185 HTTP/1.1\" 200 -\n",
      "127.0.0.1 - - [11/May/2020 13:34:42] \"GET /20000_20000_20000/0-352_0-640_356-357 HTTP/1.1\" 200 -\n",
      "127.0.0.1 - - [11/May/2020 13:34:42] \"GET /20000_20000_20000/0-352_0-640_357-358 HTTP/1.1\" 200 -\n"
     ]
    },
    {
     "name": "stderr",
     "output_type": "stream",
     "text": [
      "127.0.0.1 - - [11/May/2020 13:34:42] \"GET /20000_20000_20000/0-352_0-640_183-184 HTTP/1.1\" 200 -\n",
      "127.0.0.1 - - [11/May/2020 13:34:42] \"GET /20000_20000_20000/0-352_0-640_182-183 HTTP/1.1\" 200 -\n",
      "127.0.0.1 - - [11/May/2020 13:34:42] \"GET /20000_20000_20000/0-352_0-640_358-359 HTTP/1.1\" 200 -\n",
      "127.0.0.1 - - [11/May/2020 13:34:42] \"GET /20000_20000_20000/0-352_0-640_359-360 HTTP/1.1\" 200 -\n",
      "127.0.0.1 - - [11/May/2020 13:34:43] \"GET /20000_20000_20000/0-352_0-640_181-182 HTTP/1.1\" 200 -\n",
      "127.0.0.1 - - [11/May/2020 13:34:43] \"GET /20000_20000_20000/0-352_0-640_360-361 HTTP/1.1\" 200 -\n",
      "127.0.0.1 - - [11/May/2020 13:34:43] \"GET /20000_20000_20000/0-352_0-640_180-181 HTTP/1.1\" 200 -\n",
      "127.0.0.1 - - [11/May/2020 13:34:43] \"GET /20000_20000_20000/0-352_0-640_179-180 HTTP/1.1\" 200 -\n",
      "127.0.0.1 - - [11/May/2020 13:34:43] \"GET /20000_20000_20000/0-352_0-640_361-362 HTTP/1.1\" 200 -\n",
      "127.0.0.1 - - [11/May/2020 13:34:43] \"GET /20000_20000_20000/0-352_0-640_362-363 HTTP/1.1\" 200 -\n",
      "127.0.0.1 - - [11/May/2020 13:34:43] \"GET /20000_20000_20000/0-352_0-640_178-179 HTTP/1.1\" 200 -\n",
      "127.0.0.1 - - [11/May/2020 13:34:43] \"GET /20000_20000_20000/0-352_0-640_177-178 HTTP/1.1\" 200 -\n",
      "127.0.0.1 - - [11/May/2020 13:34:43] \"GET /20000_20000_20000/0-352_0-640_363-364 HTTP/1.1\" 200 -\n",
      "127.0.0.1 - - [11/May/2020 13:34:43] \"GET /20000_20000_20000/0-352_0-640_176-177 HTTP/1.1\" 200 -\n",
      "127.0.0.1 - - [11/May/2020 13:34:43] \"GET /20000_20000_20000/0-352_0-640_364-365 HTTP/1.1\" 200 -\n",
      "127.0.0.1 - - [11/May/2020 13:34:43] \"GET /20000_20000_20000/0-352_0-640_365-366 HTTP/1.1\" 200 -\n",
      "127.0.0.1 - - [11/May/2020 13:34:43] \"GET /20000_20000_20000/0-352_0-640_175-176 HTTP/1.1\" 200 -\n",
      "127.0.0.1 - - [11/May/2020 13:34:43] \"GET /20000_20000_20000/0-352_0-640_174-175 HTTP/1.1\" 200 -\n",
      "127.0.0.1 - - [11/May/2020 13:34:43] \"GET /20000_20000_20000/0-352_0-640_366-367 HTTP/1.1\" 200 -\n",
      "127.0.0.1 - - [11/May/2020 13:34:43] \"GET /20000_20000_20000/0-352_0-640_367-368 HTTP/1.1\" 200 -\n",
      "127.0.0.1 - - [11/May/2020 13:34:43] \"GET /20000_20000_20000/0-352_0-640_173-174 HTTP/1.1\" 200 -\n",
      "127.0.0.1 - - [11/May/2020 13:34:43] \"GET /20000_20000_20000/0-352_0-640_368-369 HTTP/1.1\" 200 -\n",
      "127.0.0.1 - - [11/May/2020 13:34:43] \"GET /20000_20000_20000/0-352_0-640_172-173 HTTP/1.1\" 200 -\n",
      "127.0.0.1 - - [11/May/2020 13:34:43] \"GET /20000_20000_20000/0-352_0-640_171-172 HTTP/1.1\" 200 -\n",
      "127.0.0.1 - - [11/May/2020 13:34:43] \"GET /20000_20000_20000/0-352_0-640_369-370 HTTP/1.1\" 200 -\n",
      "127.0.0.1 - - [11/May/2020 13:34:43] \"GET /20000_20000_20000/0-352_0-640_370-371 HTTP/1.1\" 200 -\n",
      "127.0.0.1 - - [11/May/2020 13:34:43] \"GET /20000_20000_20000/0-352_0-640_170-171 HTTP/1.1\" 200 -\n",
      "127.0.0.1 - - [11/May/2020 13:34:43] \"GET /20000_20000_20000/0-352_0-640_169-170 HTTP/1.1\" 200 -\n",
      "127.0.0.1 - - [11/May/2020 13:34:43] \"GET /20000_20000_20000/0-352_0-640_371-372 HTTP/1.1\" 200 -\n",
      "127.0.0.1 - - [11/May/2020 13:34:43] \"GET /20000_20000_20000/0-352_0-640_168-169 HTTP/1.1\" 200 -\n",
      "127.0.0.1 - - [11/May/2020 13:34:43] \"GET /20000_20000_20000/0-352_0-640_372-373 HTTP/1.1\" 200 -\n",
      "127.0.0.1 - - [11/May/2020 13:34:43] \"GET /20000_20000_20000/0-352_0-640_373-374 HTTP/1.1\" 200 -\n",
      "127.0.0.1 - - [11/May/2020 13:34:43] \"GET /20000_20000_20000/0-352_0-640_167-168 HTTP/1.1\" 200 -\n",
      "127.0.0.1 - - [11/May/2020 13:34:43] \"GET /20000_20000_20000/0-352_0-640_166-167 HTTP/1.1\" 200 -\n",
      "127.0.0.1 - - [11/May/2020 13:34:43] \"GET /20000_20000_20000/0-352_0-640_374-375 HTTP/1.1\" 200 -\n",
      "127.0.0.1 - - [11/May/2020 13:34:43] \"GET /20000_20000_20000/0-352_0-640_375-376 HTTP/1.1\" 200 -\n",
      "127.0.0.1 - - [11/May/2020 13:34:43] \"GET /20000_20000_20000/0-352_0-640_165-166 HTTP/1.1\" 200 -\n",
      "127.0.0.1 - - [11/May/2020 13:34:43] \"GET /20000_20000_20000/0-352_0-640_376-377 HTTP/1.1\" 200 -\n",
      "127.0.0.1 - - [11/May/2020 13:34:43] \"GET /20000_20000_20000/0-352_0-640_164-165 HTTP/1.1\" 200 -\n",
      "127.0.0.1 - - [11/May/2020 13:34:43] \"GET /20000_20000_20000/0-352_0-640_163-164 HTTP/1.1\" 200 -\n",
      "127.0.0.1 - - [11/May/2020 13:34:43] \"GET /20000_20000_20000/0-352_0-640_377-378 HTTP/1.1\" 200 -\n",
      "127.0.0.1 - - [11/May/2020 13:34:43] \"GET /20000_20000_20000/0-352_0-640_378-379 HTTP/1.1\" 200 -\n",
      "127.0.0.1 - - [11/May/2020 13:34:43] \"GET /20000_20000_20000/0-352_0-640_162-163 HTTP/1.1\" 200 -\n",
      "127.0.0.1 - - [11/May/2020 13:34:43] \"GET /20000_20000_20000/0-352_0-640_161-162 HTTP/1.1\" 200 -\n",
      "127.0.0.1 - - [11/May/2020 13:34:43] \"GET /20000_20000_20000/0-352_0-640_379-380 HTTP/1.1\" 200 -\n",
      "127.0.0.1 - - [11/May/2020 13:34:43] \"GET /20000_20000_20000/0-352_0-640_160-161 HTTP/1.1\" 200 -\n",
      "127.0.0.1 - - [11/May/2020 13:34:43] \"GET /20000_20000_20000/0-352_0-640_380-381 HTTP/1.1\" 200 -\n",
      "127.0.0.1 - - [11/May/2020 13:34:43] \"GET /20000_20000_20000/0-352_0-640_381-382 HTTP/1.1\" 200 -\n",
      "127.0.0.1 - - [11/May/2020 13:34:43] \"GET /20000_20000_20000/0-352_0-640_159-160 HTTP/1.1\" 200 -\n",
      "127.0.0.1 - - [11/May/2020 13:34:43] \"GET /20000_20000_20000/0-352_0-640_158-159 HTTP/1.1\" 200 -\n",
      "127.0.0.1 - - [11/May/2020 13:34:43] \"GET /20000_20000_20000/0-352_0-640_382-383 HTTP/1.1\" 200 -\n",
      "127.0.0.1 - - [11/May/2020 13:34:43] \"GET /20000_20000_20000/0-352_0-640_383-384 HTTP/1.1\" 200 -\n",
      "127.0.0.1 - - [11/May/2020 13:34:43] \"GET /20000_20000_20000/0-352_0-640_157-158 HTTP/1.1\" 200 -\n",
      "127.0.0.1 - - [11/May/2020 13:34:43] \"GET /20000_20000_20000/0-352_0-640_384-385 HTTP/1.1\" 200 -\n",
      "127.0.0.1 - - [11/May/2020 13:34:43] \"GET /20000_20000_20000/0-352_0-640_156-157 HTTP/1.1\" 200 -\n",
      "127.0.0.1 - - [11/May/2020 13:34:43] \"GET /20000_20000_20000/0-352_0-640_155-156 HTTP/1.1\" 200 -\n",
      "127.0.0.1 - - [11/May/2020 13:34:43] \"GET /20000_20000_20000/0-352_0-640_385-386 HTTP/1.1\" 200 -\n",
      "127.0.0.1 - - [11/May/2020 13:34:43] \"GET /20000_20000_20000/0-352_0-640_386-387 HTTP/1.1\" 200 -\n",
      "127.0.0.1 - - [11/May/2020 13:34:43] \"GET /20000_20000_20000/0-352_0-640_154-155 HTTP/1.1\" 200 -\n",
      "127.0.0.1 - - [11/May/2020 13:34:43] \"GET /20000_20000_20000/0-352_0-640_153-154 HTTP/1.1\" 200 -\n",
      "127.0.0.1 - - [11/May/2020 13:34:43] \"GET /20000_20000_20000/0-352_0-640_387-388 HTTP/1.1\" 200 -\n",
      "127.0.0.1 - - [11/May/2020 13:34:43] \"GET /20000_20000_20000/0-352_0-640_152-153 HTTP/1.1\" 200 -\n",
      "127.0.0.1 - - [11/May/2020 13:34:43] \"GET /20000_20000_20000/0-352_0-640_388-389 HTTP/1.1\" 200 -\n",
      "127.0.0.1 - - [11/May/2020 13:34:43] \"GET /20000_20000_20000/0-352_0-640_389-390 HTTP/1.1\" 200 -\n",
      "127.0.0.1 - - [11/May/2020 13:34:43] \"GET /20000_20000_20000/0-352_0-640_151-152 HTTP/1.1\" 200 -\n",
      "127.0.0.1 - - [11/May/2020 13:34:43] \"GET /20000_20000_20000/0-352_0-640_150-151 HTTP/1.1\" 200 -\n",
      "127.0.0.1 - - [11/May/2020 13:34:44] \"GET /20000_20000_20000/0-352_0-640_390-391 HTTP/1.1\" 200 -\n",
      "127.0.0.1 - - [11/May/2020 13:34:44] \"GET /20000_20000_20000/0-352_0-640_391-392 HTTP/1.1\" 200 -\n",
      "127.0.0.1 - - [11/May/2020 13:34:44] \"GET /20000_20000_20000/0-352_0-640_149-150 HTTP/1.1\" 200 -\n",
      "127.0.0.1 - - [11/May/2020 13:34:44] \"GET /20000_20000_20000/0-352_0-640_392-393 HTTP/1.1\" 200 -\n",
      "127.0.0.1 - - [11/May/2020 13:34:44] \"GET /20000_20000_20000/0-352_0-640_148-149 HTTP/1.1\" 200 -\n",
      "127.0.0.1 - - [11/May/2020 13:34:44] \"GET /20000_20000_20000/0-352_0-640_147-148 HTTP/1.1\" 200 -\n",
      "127.0.0.1 - - [11/May/2020 13:34:44] \"GET /20000_20000_20000/0-352_0-640_393-394 HTTP/1.1\" 200 -\n",
      "127.0.0.1 - - [11/May/2020 13:34:44] \"GET /20000_20000_20000/0-352_0-640_394-395 HTTP/1.1\" 200 -\n",
      "127.0.0.1 - - [11/May/2020 13:34:44] \"GET /20000_20000_20000/0-352_0-640_146-147 HTTP/1.1\" 200 -\n",
      "127.0.0.1 - - [11/May/2020 13:34:44] \"GET /20000_20000_20000/0-352_0-640_145-146 HTTP/1.1\" 200 -\n",
      "127.0.0.1 - - [11/May/2020 13:34:44] \"GET /20000_20000_20000/0-352_0-640_395-396 HTTP/1.1\" 200 -\n",
      "127.0.0.1 - - [11/May/2020 13:34:44] \"GET /20000_20000_20000/0-352_0-640_144-145 HTTP/1.1\" 200 -\n",
      "127.0.0.1 - - [11/May/2020 13:34:44] \"GET /20000_20000_20000/0-352_0-640_396-397 HTTP/1.1\" 200 -\n",
      "127.0.0.1 - - [11/May/2020 13:34:44] \"GET /20000_20000_20000/0-352_0-640_397-398 HTTP/1.1\" 200 -\n",
      "127.0.0.1 - - [11/May/2020 13:34:44] \"GET /20000_20000_20000/0-352_0-640_143-144 HTTP/1.1\" 200 -\n",
      "127.0.0.1 - - [11/May/2020 13:34:44] \"GET /20000_20000_20000/0-352_0-640_142-143 HTTP/1.1\" 200 -\n",
      "127.0.0.1 - - [11/May/2020 13:34:44] \"GET /20000_20000_20000/0-352_0-640_398-399 HTTP/1.1\" 200 -\n",
      "127.0.0.1 - - [11/May/2020 13:34:44] \"GET /20000_20000_20000/0-352_0-640_399-400 HTTP/1.1\" 200 -\n",
      "127.0.0.1 - - [11/May/2020 13:34:44] \"GET /20000_20000_20000/0-352_0-640_141-142 HTTP/1.1\" 200 -\n",
      "127.0.0.1 - - [11/May/2020 13:34:44] \"GET /20000_20000_20000/0-352_0-640_400-401 HTTP/1.1\" 200 -\n",
      "127.0.0.1 - - [11/May/2020 13:34:44] \"GET /20000_20000_20000/0-352_0-640_140-141 HTTP/1.1\" 200 -\n",
      "127.0.0.1 - - [11/May/2020 13:34:44] \"GET /20000_20000_20000/0-352_0-640_139-140 HTTP/1.1\" 200 -\n",
      "127.0.0.1 - - [11/May/2020 13:34:44] \"GET /20000_20000_20000/0-352_0-640_401-402 HTTP/1.1\" 200 -\n",
      "127.0.0.1 - - [11/May/2020 13:34:44] \"GET /20000_20000_20000/0-352_0-640_402-403 HTTP/1.1\" 200 -\n",
      "127.0.0.1 - - [11/May/2020 13:34:44] \"GET /20000_20000_20000/0-352_0-640_138-139 HTTP/1.1\" 200 -\n",
      "127.0.0.1 - - [11/May/2020 13:34:44] \"GET /20000_20000_20000/0-352_0-640_137-138 HTTP/1.1\" 200 -\n",
      "127.0.0.1 - - [11/May/2020 13:34:44] \"GET /20000_20000_20000/0-352_0-640_403-404 HTTP/1.1\" 200 -\n",
      "127.0.0.1 - - [11/May/2020 13:34:44] \"GET /20000_20000_20000/0-352_0-640_136-137 HTTP/1.1\" 200 -\n"
     ]
    },
    {
     "name": "stderr",
     "output_type": "stream",
     "text": [
      "127.0.0.1 - - [11/May/2020 13:34:44] \"GET /20000_20000_20000/0-352_0-640_404-405 HTTP/1.1\" 200 -\n",
      "127.0.0.1 - - [11/May/2020 13:34:44] \"GET /20000_20000_20000/0-352_0-640_405-406 HTTP/1.1\" 200 -\n",
      "127.0.0.1 - - [11/May/2020 13:34:44] \"GET /20000_20000_20000/0-352_0-640_135-136 HTTP/1.1\" 200 -\n",
      "127.0.0.1 - - [11/May/2020 13:34:44] \"GET /20000_20000_20000/0-352_0-640_134-135 HTTP/1.1\" 200 -\n",
      "127.0.0.1 - - [11/May/2020 13:34:44] \"GET /20000_20000_20000/0-352_0-640_406-407 HTTP/1.1\" 200 -\n",
      "127.0.0.1 - - [11/May/2020 13:34:44] \"GET /20000_20000_20000/0-352_0-640_407-408 HTTP/1.1\" 200 -\n",
      "127.0.0.1 - - [11/May/2020 13:34:44] \"GET /20000_20000_20000/0-352_0-640_133-134 HTTP/1.1\" 200 -\n",
      "127.0.0.1 - - [11/May/2020 13:34:44] \"GET /20000_20000_20000/0-352_0-640_408-409 HTTP/1.1\" 200 -\n",
      "127.0.0.1 - - [11/May/2020 13:34:44] \"GET /20000_20000_20000/0-352_0-640_132-133 HTTP/1.1\" 200 -\n",
      "127.0.0.1 - - [11/May/2020 13:34:44] \"GET /20000_20000_20000/0-352_0-640_131-132 HTTP/1.1\" 200 -\n",
      "127.0.0.1 - - [11/May/2020 13:34:44] \"GET /20000_20000_20000/0-352_0-640_409-410 HTTP/1.1\" 200 -\n",
      "127.0.0.1 - - [11/May/2020 13:34:44] \"GET /20000_20000_20000/0-352_0-640_410-411 HTTP/1.1\" 200 -\n",
      "127.0.0.1 - - [11/May/2020 13:34:44] \"GET /20000_20000_20000/0-352_0-640_130-131 HTTP/1.1\" 200 -\n",
      "127.0.0.1 - - [11/May/2020 13:34:44] \"GET /20000_20000_20000/0-352_0-640_129-130 HTTP/1.1\" 200 -\n",
      "127.0.0.1 - - [11/May/2020 13:34:44] \"GET /20000_20000_20000/0-352_0-640_411-412 HTTP/1.1\" 200 -\n",
      "127.0.0.1 - - [11/May/2020 13:34:44] \"GET /20000_20000_20000/0-352_0-640_128-129 HTTP/1.1\" 200 -\n",
      "127.0.0.1 - - [11/May/2020 13:34:44] \"GET /20000_20000_20000/0-352_0-640_412-413 HTTP/1.1\" 200 -\n",
      "127.0.0.1 - - [11/May/2020 13:34:44] \"GET /20000_20000_20000/0-352_0-640_413-414 HTTP/1.1\" 200 -\n",
      "127.0.0.1 - - [11/May/2020 13:34:44] \"GET /20000_20000_20000/0-352_0-640_127-128 HTTP/1.1\" 200 -\n",
      "127.0.0.1 - - [11/May/2020 13:34:44] \"GET /20000_20000_20000/0-352_0-640_126-127 HTTP/1.1\" 200 -\n",
      "127.0.0.1 - - [11/May/2020 13:34:44] \"GET /20000_20000_20000/0-352_0-640_414-415 HTTP/1.1\" 200 -\n",
      "127.0.0.1 - - [11/May/2020 13:34:44] \"GET /20000_20000_20000/0-352_0-640_415-416 HTTP/1.1\" 200 -\n",
      "127.0.0.1 - - [11/May/2020 13:34:44] \"GET /20000_20000_20000/0-352_0-640_125-126 HTTP/1.1\" 200 -\n",
      "127.0.0.1 - - [11/May/2020 13:34:44] \"GET /20000_20000_20000/0-352_0-640_124-125 HTTP/1.1\" 200 -\n",
      "127.0.0.1 - - [11/May/2020 13:34:44] \"GET /20000_20000_20000/0-352_0-640_416-417 HTTP/1.1\" 200 -\n",
      "127.0.0.1 - - [11/May/2020 13:34:44] \"GET /20000_20000_20000/0-352_0-640_417-418 HTTP/1.1\" 200 -\n",
      "127.0.0.1 - - [11/May/2020 13:34:44] \"GET /20000_20000_20000/0-352_0-640_123-124 HTTP/1.1\" 200 -\n",
      "127.0.0.1 - - [11/May/2020 13:34:44] \"GET /20000_20000_20000/0-352_0-640_418-419 HTTP/1.1\" 200 -\n",
      "127.0.0.1 - - [11/May/2020 13:34:44] \"GET /20000_20000_20000/0-352_0-640_122-123 HTTP/1.1\" 200 -\n",
      "127.0.0.1 - - [11/May/2020 13:34:44] \"GET /20000_20000_20000/0-352_0-640_121-122 HTTP/1.1\" 200 -\n",
      "127.0.0.1 - - [11/May/2020 13:34:44] \"GET /20000_20000_20000/0-352_0-640_419-420 HTTP/1.1\" 200 -\n",
      "127.0.0.1 - - [11/May/2020 13:34:44] \"GET /20000_20000_20000/0-352_0-640_120-121 HTTP/1.1\" 200 -\n",
      "127.0.0.1 - - [11/May/2020 13:34:44] \"GET /20000_20000_20000/0-352_0-640_420-421 HTTP/1.1\" 200 -\n",
      "127.0.0.1 - - [11/May/2020 13:34:44] \"GET /20000_20000_20000/0-352_0-640_421-422 HTTP/1.1\" 200 -\n",
      "127.0.0.1 - - [11/May/2020 13:34:44] \"GET /20000_20000_20000/0-352_0-640_119-120 HTTP/1.1\" 200 -\n",
      "127.0.0.1 - - [11/May/2020 13:34:44] \"GET /20000_20000_20000/0-352_0-640_118-119 HTTP/1.1\" 200 -\n",
      "127.0.0.1 - - [11/May/2020 13:34:44] \"GET /20000_20000_20000/0-352_0-640_422-423 HTTP/1.1\" 200 -\n",
      "127.0.0.1 - - [11/May/2020 13:34:44] \"GET /20000_20000_20000/0-352_0-640_423-424 HTTP/1.1\" 200 -\n",
      "127.0.0.1 - - [11/May/2020 13:34:44] \"GET /20000_20000_20000/0-352_0-640_117-118 HTTP/1.1\" 200 -\n",
      "127.0.0.1 - - [11/May/2020 13:34:44] \"GET /20000_20000_20000/0-352_0-640_424-425 HTTP/1.1\" 200 -\n",
      "127.0.0.1 - - [11/May/2020 13:34:44] \"GET /20000_20000_20000/0-352_0-640_116-117 HTTP/1.1\" 200 -\n",
      "127.0.0.1 - - [11/May/2020 13:34:44] \"GET /20000_20000_20000/0-352_0-640_115-116 HTTP/1.1\" 200 -\n",
      "127.0.0.1 - - [11/May/2020 13:34:44] \"GET /20000_20000_20000/0-352_0-640_425-426 HTTP/1.1\" 200 -\n",
      "127.0.0.1 - - [11/May/2020 13:34:45] \"GET /20000_20000_20000/0-352_0-640_426-427 HTTP/1.1\" 200 -\n",
      "127.0.0.1 - - [11/May/2020 13:34:45] \"GET /20000_20000_20000/0-352_0-640_114-115 HTTP/1.1\" 200 -\n",
      "127.0.0.1 - - [11/May/2020 13:34:45] \"GET /20000_20000_20000/0-352_0-640_113-114 HTTP/1.1\" 200 -\n",
      "127.0.0.1 - - [11/May/2020 13:34:45] \"GET /20000_20000_20000/0-352_0-640_427-428 HTTP/1.1\" 200 -\n",
      "127.0.0.1 - - [11/May/2020 13:34:45] \"GET /20000_20000_20000/0-352_0-640_112-113 HTTP/1.1\" 200 -\n",
      "127.0.0.1 - - [11/May/2020 13:34:45] \"GET /20000_20000_20000/0-352_0-640_428-429 HTTP/1.1\" 200 -\n",
      "127.0.0.1 - - [11/May/2020 13:34:45] \"GET /20000_20000_20000/0-352_0-640_429-430 HTTP/1.1\" 200 -\n",
      "127.0.0.1 - - [11/May/2020 13:34:45] \"GET /20000_20000_20000/0-352_0-640_111-112 HTTP/1.1\" 200 -\n",
      "127.0.0.1 - - [11/May/2020 13:34:45] \"GET /20000_20000_20000/0-352_0-640_110-111 HTTP/1.1\" 200 -\n",
      "127.0.0.1 - - [11/May/2020 13:34:45] \"GET /20000_20000_20000/0-352_0-640_430-431 HTTP/1.1\" 200 -\n",
      "127.0.0.1 - - [11/May/2020 13:34:45] \"GET /20000_20000_20000/0-352_0-640_431-432 HTTP/1.1\" 200 -\n",
      "127.0.0.1 - - [11/May/2020 13:34:45] \"GET /20000_20000_20000/0-352_0-640_109-110 HTTP/1.1\" 200 -\n",
      "127.0.0.1 - - [11/May/2020 13:34:45] \"GET /20000_20000_20000/0-352_0-640_432-433 HTTP/1.1\" 200 -\n",
      "127.0.0.1 - - [11/May/2020 13:34:45] \"GET /20000_20000_20000/0-352_0-640_108-109 HTTP/1.1\" 200 -\n",
      "127.0.0.1 - - [11/May/2020 13:34:45] \"GET /20000_20000_20000/0-352_0-640_107-108 HTTP/1.1\" 200 -\n",
      "127.0.0.1 - - [11/May/2020 13:34:45] \"GET /20000_20000_20000/0-352_0-640_433-434 HTTP/1.1\" 200 -\n",
      "127.0.0.1 - - [11/May/2020 13:34:45] \"GET /20000_20000_20000/0-352_0-640_434-435 HTTP/1.1\" 200 -\n",
      "127.0.0.1 - - [11/May/2020 13:34:45] \"GET /20000_20000_20000/0-352_0-640_106-107 HTTP/1.1\" 200 -\n",
      "127.0.0.1 - - [11/May/2020 13:34:45] \"GET /20000_20000_20000/0-352_0-640_105-106 HTTP/1.1\" 200 -\n",
      "127.0.0.1 - - [11/May/2020 13:34:45] \"GET /20000_20000_20000/0-352_0-640_435-436 HTTP/1.1\" 200 -\n",
      "127.0.0.1 - - [11/May/2020 13:34:45] \"GET /20000_20000_20000/0-352_0-640_104-105 HTTP/1.1\" 200 -\n",
      "127.0.0.1 - - [11/May/2020 13:34:45] \"GET /20000_20000_20000/0-352_0-640_436-437 HTTP/1.1\" 200 -\n",
      "127.0.0.1 - - [11/May/2020 13:34:45] \"GET /20000_20000_20000/0-352_0-640_437-438 HTTP/1.1\" 200 -\n",
      "127.0.0.1 - - [11/May/2020 13:34:45] \"GET /20000_20000_20000/0-352_0-640_103-104 HTTP/1.1\" 200 -\n",
      "127.0.0.1 - - [11/May/2020 13:34:45] \"GET /20000_20000_20000/0-352_0-640_102-103 HTTP/1.1\" 200 -\n",
      "127.0.0.1 - - [11/May/2020 13:34:45] \"GET /20000_20000_20000/0-352_0-640_438-439 HTTP/1.1\" 200 -\n",
      "127.0.0.1 - - [11/May/2020 13:34:45] \"GET /20000_20000_20000/0-352_0-640_439-440 HTTP/1.1\" 200 -\n",
      "127.0.0.1 - - [11/May/2020 13:34:45] \"GET /20000_20000_20000/0-352_0-640_101-102 HTTP/1.1\" 200 -\n",
      "127.0.0.1 - - [11/May/2020 13:34:45] \"GET /20000_20000_20000/0-352_0-640_440-441 HTTP/1.1\" 200 -\n",
      "127.0.0.1 - - [11/May/2020 13:34:45] \"GET /20000_20000_20000/0-352_0-640_100-101 HTTP/1.1\" 200 -\n",
      "127.0.0.1 - - [11/May/2020 13:34:45] \"GET /20000_20000_20000/0-352_0-640_99-100 HTTP/1.1\" 200 -\n",
      "127.0.0.1 - - [11/May/2020 13:34:45] \"GET /20000_20000_20000/0-352_0-640_441-442 HTTP/1.1\" 200 -\n",
      "127.0.0.1 - - [11/May/2020 13:34:45] \"GET /20000_20000_20000/0-352_0-640_442-443 HTTP/1.1\" 200 -\n",
      "127.0.0.1 - - [11/May/2020 13:34:45] \"GET /20000_20000_20000/0-352_0-640_98-99 HTTP/1.1\" 200 -\n",
      "127.0.0.1 - - [11/May/2020 13:34:45] \"GET /20000_20000_20000/0-352_0-640_97-98 HTTP/1.1\" 200 -\n",
      "127.0.0.1 - - [11/May/2020 13:34:45] \"GET /20000_20000_20000/0-352_0-640_443-444 HTTP/1.1\" 200 -\n",
      "127.0.0.1 - - [11/May/2020 13:34:45] \"GET /20000_20000_20000/0-352_0-640_96-97 HTTP/1.1\" 200 -\n",
      "127.0.0.1 - - [11/May/2020 13:34:45] \"GET /20000_20000_20000/0-352_0-640_444-445 HTTP/1.1\" 200 -\n",
      "127.0.0.1 - - [11/May/2020 13:34:45] \"GET /20000_20000_20000/0-352_0-640_445-446 HTTP/1.1\" 200 -\n",
      "127.0.0.1 - - [11/May/2020 13:34:45] \"GET /20000_20000_20000/0-352_0-640_95-96 HTTP/1.1\" 200 -\n",
      "127.0.0.1 - - [11/May/2020 13:34:45] \"GET /20000_20000_20000/0-352_0-640_94-95 HTTP/1.1\" 200 -\n",
      "127.0.0.1 - - [11/May/2020 13:34:45] \"GET /20000_20000_20000/0-352_0-640_446-447 HTTP/1.1\" 200 -\n",
      "127.0.0.1 - - [11/May/2020 13:34:45] \"GET /20000_20000_20000/0-352_0-640_447-448 HTTP/1.1\" 200 -\n",
      "127.0.0.1 - - [11/May/2020 13:34:45] \"GET /20000_20000_20000/0-352_0-640_93-94 HTTP/1.1\" 200 -\n"
     ]
    },
    {
     "name": "stderr",
     "output_type": "stream",
     "text": [
      "127.0.0.1 - - [11/May/2020 13:34:45] \"GET /20000_20000_20000/0-352_0-640_448-449 HTTP/1.1\" 200 -\n",
      "127.0.0.1 - - [11/May/2020 13:34:45] \"GET /20000_20000_20000/0-352_0-640_92-93 HTTP/1.1\" 200 -\n",
      "127.0.0.1 - - [11/May/2020 13:34:45] \"GET /20000_20000_20000/0-352_0-640_91-92 HTTP/1.1\" 200 -\n",
      "127.0.0.1 - - [11/May/2020 13:34:45] \"GET /20000_20000_20000/0-352_0-640_449-450 HTTP/1.1\" 200 -\n",
      "127.0.0.1 - - [11/May/2020 13:34:45] \"GET /20000_20000_20000/0-352_0-640_450-451 HTTP/1.1\" 200 -\n",
      "127.0.0.1 - - [11/May/2020 13:34:45] \"GET /20000_20000_20000/0-352_0-640_90-91 HTTP/1.1\" 200 -\n",
      "127.0.0.1 - - [11/May/2020 13:34:45] \"GET /20000_20000_20000/0-352_0-640_89-90 HTTP/1.1\" 200 -\n",
      "127.0.0.1 - - [11/May/2020 13:34:45] \"GET /20000_20000_20000/0-352_0-640_451-452 HTTP/1.1\" 200 -\n",
      "127.0.0.1 - - [11/May/2020 13:34:45] \"GET /20000_20000_20000/0-352_0-640_88-89 HTTP/1.1\" 200 -\n",
      "127.0.0.1 - - [11/May/2020 13:34:45] \"GET /20000_20000_20000/0-352_0-640_452-453 HTTP/1.1\" 200 -\n",
      "127.0.0.1 - - [11/May/2020 13:34:45] \"GET /20000_20000_20000/0-352_0-640_453-454 HTTP/1.1\" 200 -\n",
      "127.0.0.1 - - [11/May/2020 13:34:45] \"GET /20000_20000_20000/0-352_0-640_87-88 HTTP/1.1\" 200 -\n",
      "127.0.0.1 - - [11/May/2020 13:34:45] \"GET /20000_20000_20000/0-352_0-640_86-87 HTTP/1.1\" 200 -\n",
      "127.0.0.1 - - [11/May/2020 13:34:45] \"GET /20000_20000_20000/0-352_0-640_454-455 HTTP/1.1\" 200 -\n",
      "127.0.0.1 - - [11/May/2020 13:34:45] \"GET /20000_20000_20000/0-352_0-640_455-456 HTTP/1.1\" 200 -\n",
      "127.0.0.1 - - [11/May/2020 13:34:45] \"GET /20000_20000_20000/0-352_0-640_85-86 HTTP/1.1\" 200 -\n",
      "127.0.0.1 - - [11/May/2020 13:34:45] \"GET /20000_20000_20000/0-352_0-640_456-457 HTTP/1.1\" 200 -\n",
      "127.0.0.1 - - [11/May/2020 13:34:45] \"GET /20000_20000_20000/0-352_0-640_84-85 HTTP/1.1\" 200 -\n",
      "127.0.0.1 - - [11/May/2020 13:34:45] \"GET /20000_20000_20000/0-352_0-640_83-84 HTTP/1.1\" 200 -\n",
      "127.0.0.1 - - [11/May/2020 13:34:45] \"GET /20000_20000_20000/0-352_0-640_457-458 HTTP/1.1\" 200 -\n",
      "127.0.0.1 - - [11/May/2020 13:34:45] \"GET /20000_20000_20000/0-352_0-640_458-459 HTTP/1.1\" 200 -\n",
      "127.0.0.1 - - [11/May/2020 13:34:45] \"GET /20000_20000_20000/0-352_0-640_82-83 HTTP/1.1\" 200 -\n",
      "127.0.0.1 - - [11/May/2020 13:34:45] \"GET /20000_20000_20000/0-352_0-640_81-82 HTTP/1.1\" 200 -\n",
      "127.0.0.1 - - [11/May/2020 13:34:45] \"GET /20000_20000_20000/0-352_0-640_459-460 HTTP/1.1\" 200 -\n",
      "127.0.0.1 - - [11/May/2020 13:34:45] \"GET /20000_20000_20000/0-352_0-640_80-81 HTTP/1.1\" 200 -\n",
      "127.0.0.1 - - [11/May/2020 13:34:46] \"GET /20000_20000_20000/0-352_0-640_460-461 HTTP/1.1\" 200 -\n",
      "127.0.0.1 - - [11/May/2020 13:34:46] \"GET /20000_20000_20000/0-352_0-640_461-462 HTTP/1.1\" 200 -\n",
      "127.0.0.1 - - [11/May/2020 13:34:46] \"GET /20000_20000_20000/0-352_0-640_79-80 HTTP/1.1\" 200 -\n",
      "127.0.0.1 - - [11/May/2020 13:34:46] \"GET /20000_20000_20000/0-352_0-640_78-79 HTTP/1.1\" 200 -\n",
      "127.0.0.1 - - [11/May/2020 13:34:46] \"GET /20000_20000_20000/0-352_0-640_462-463 HTTP/1.1\" 200 -\n",
      "127.0.0.1 - - [11/May/2020 13:34:46] \"GET /20000_20000_20000/0-352_0-640_463-464 HTTP/1.1\" 200 -\n",
      "127.0.0.1 - - [11/May/2020 13:34:46] \"GET /20000_20000_20000/0-352_0-640_77-78 HTTP/1.1\" 200 -\n",
      "127.0.0.1 - - [11/May/2020 13:34:46] \"GET /20000_20000_20000/0-352_0-640_464-465 HTTP/1.1\" 200 -\n",
      "127.0.0.1 - - [11/May/2020 13:34:46] \"GET /20000_20000_20000/0-352_0-640_76-77 HTTP/1.1\" 200 -\n",
      "127.0.0.1 - - [11/May/2020 13:34:46] \"GET /20000_20000_20000/0-352_0-640_75-76 HTTP/1.1\" 200 -\n",
      "127.0.0.1 - - [11/May/2020 13:34:46] \"GET /20000_20000_20000/0-352_0-640_465-466 HTTP/1.1\" 200 -\n",
      "127.0.0.1 - - [11/May/2020 13:34:46] \"GET /20000_20000_20000/0-352_0-640_466-467 HTTP/1.1\" 200 -\n",
      "127.0.0.1 - - [11/May/2020 13:34:46] \"GET /20000_20000_20000/0-352_0-640_74-75 HTTP/1.1\" 200 -\n",
      "127.0.0.1 - - [11/May/2020 13:34:46] \"GET /20000_20000_20000/0-352_0-640_73-74 HTTP/1.1\" 200 -\n",
      "127.0.0.1 - - [11/May/2020 13:34:46] \"GET /20000_20000_20000/0-352_0-640_467-468 HTTP/1.1\" 200 -\n",
      "127.0.0.1 - - [11/May/2020 13:34:46] \"GET /20000_20000_20000/0-352_0-640_72-73 HTTP/1.1\" 200 -\n",
      "127.0.0.1 - - [11/May/2020 13:34:46] \"GET /20000_20000_20000/0-352_0-640_468-469 HTTP/1.1\" 200 -\n",
      "127.0.0.1 - - [11/May/2020 13:34:46] \"GET /20000_20000_20000/0-352_0-640_469-470 HTTP/1.1\" 200 -\n",
      "127.0.0.1 - - [11/May/2020 13:34:46] \"GET /20000_20000_20000/0-352_0-640_71-72 HTTP/1.1\" 200 -\n",
      "127.0.0.1 - - [11/May/2020 13:34:46] \"GET /20000_20000_20000/0-352_0-640_70-71 HTTP/1.1\" 200 -\n",
      "127.0.0.1 - - [11/May/2020 13:34:46] \"GET /20000_20000_20000/0-352_0-640_470-471 HTTP/1.1\" 200 -\n",
      "127.0.0.1 - - [11/May/2020 13:34:46] \"GET /20000_20000_20000/0-352_0-640_471-472 HTTP/1.1\" 200 -\n",
      "127.0.0.1 - - [11/May/2020 13:34:46] \"GET /20000_20000_20000/0-352_0-640_69-70 HTTP/1.1\" 200 -\n",
      "127.0.0.1 - - [11/May/2020 13:34:46] \"GET /20000_20000_20000/0-352_0-640_472-473 HTTP/1.1\" 200 -\n",
      "127.0.0.1 - - [11/May/2020 13:34:46] \"GET /20000_20000_20000/0-352_0-640_68-69 HTTP/1.1\" 200 -\n",
      "127.0.0.1 - - [11/May/2020 13:34:46] \"GET /20000_20000_20000/0-352_0-640_67-68 HTTP/1.1\" 200 -\n",
      "127.0.0.1 - - [11/May/2020 13:34:46] \"GET /20000_20000_20000/0-352_0-640_473-474 HTTP/1.1\" 200 -\n",
      "127.0.0.1 - - [11/May/2020 13:34:46] \"GET /20000_20000_20000/0-352_0-640_474-475 HTTP/1.1\" 200 -\n",
      "127.0.0.1 - - [11/May/2020 13:34:46] \"GET /20000_20000_20000/0-352_0-640_66-67 HTTP/1.1\" 200 -\n",
      "127.0.0.1 - - [11/May/2020 13:34:46] \"GET /20000_20000_20000/0-352_0-640_65-66 HTTP/1.1\" 200 -\n",
      "127.0.0.1 - - [11/May/2020 13:34:46] \"GET /20000_20000_20000/0-352_0-640_475-476 HTTP/1.1\" 200 -\n",
      "127.0.0.1 - - [11/May/2020 13:34:46] \"GET /20000_20000_20000/0-352_0-640_64-65 HTTP/1.1\" 200 -\n",
      "127.0.0.1 - - [11/May/2020 13:34:46] \"GET /20000_20000_20000/0-352_0-640_476-477 HTTP/1.1\" 200 -\n",
      "127.0.0.1 - - [11/May/2020 13:34:46] \"GET /20000_20000_20000/0-352_0-640_477-478 HTTP/1.1\" 200 -\n",
      "127.0.0.1 - - [11/May/2020 13:34:46] \"GET /20000_20000_20000/0-352_0-640_63-64 HTTP/1.1\" 200 -\n",
      "127.0.0.1 - - [11/May/2020 13:34:46] \"GET /20000_20000_20000/0-352_0-640_62-63 HTTP/1.1\" 200 -\n",
      "127.0.0.1 - - [11/May/2020 13:34:46] \"GET /20000_20000_20000/0-352_0-640_478-479 HTTP/1.1\" 200 -\n",
      "127.0.0.1 - - [11/May/2020 13:34:46] \"GET /20000_20000_20000/0-352_0-640_479-480 HTTP/1.1\" 200 -\n",
      "127.0.0.1 - - [11/May/2020 13:34:46] \"GET /20000_20000_20000/0-352_0-640_61-62 HTTP/1.1\" 200 -\n",
      "127.0.0.1 - - [11/May/2020 13:34:46] \"GET /20000_20000_20000/0-352_0-640_480-481 HTTP/1.1\" 200 -\n",
      "127.0.0.1 - - [11/May/2020 13:34:46] \"GET /20000_20000_20000/0-352_0-640_60-61 HTTP/1.1\" 200 -\n",
      "127.0.0.1 - - [11/May/2020 13:34:46] \"GET /20000_20000_20000/0-352_0-640_59-60 HTTP/1.1\" 200 -\n",
      "127.0.0.1 - - [11/May/2020 13:34:46] \"GET /20000_20000_20000/0-352_0-640_481-482 HTTP/1.1\" 200 -\n",
      "127.0.0.1 - - [11/May/2020 13:34:46] \"GET /20000_20000_20000/0-352_0-640_482-483 HTTP/1.1\" 200 -\n",
      "127.0.0.1 - - [11/May/2020 13:34:46] \"GET /20000_20000_20000/0-352_0-640_58-59 HTTP/1.1\" 200 -\n",
      "127.0.0.1 - - [11/May/2020 13:34:46] \"GET /20000_20000_20000/0-352_0-640_57-58 HTTP/1.1\" 200 -\n",
      "127.0.0.1 - - [11/May/2020 13:34:46] \"GET /20000_20000_20000/0-352_0-640_483-484 HTTP/1.1\" 200 -\n",
      "127.0.0.1 - - [11/May/2020 13:34:46] \"GET /20000_20000_20000/0-352_0-640_56-57 HTTP/1.1\" 200 -\n",
      "127.0.0.1 - - [11/May/2020 13:34:46] \"GET /20000_20000_20000/0-352_0-640_484-485 HTTP/1.1\" 200 -\n",
      "127.0.0.1 - - [11/May/2020 13:34:46] \"GET /20000_20000_20000/0-352_0-640_485-486 HTTP/1.1\" 200 -\n",
      "127.0.0.1 - - [11/May/2020 13:34:46] \"GET /20000_20000_20000/0-352_0-640_55-56 HTTP/1.1\" 200 -\n",
      "127.0.0.1 - - [11/May/2020 13:34:46] \"GET /20000_20000_20000/0-352_0-640_54-55 HTTP/1.1\" 200 -\n",
      "127.0.0.1 - - [11/May/2020 13:34:46] \"GET /20000_20000_20000/0-352_0-640_486-487 HTTP/1.1\" 200 -\n",
      "127.0.0.1 - - [11/May/2020 13:34:46] \"GET /20000_20000_20000/0-352_0-640_487-488 HTTP/1.1\" 200 -\n",
      "127.0.0.1 - - [11/May/2020 13:34:46] \"GET /20000_20000_20000/0-352_0-640_53-54 HTTP/1.1\" 200 -\n",
      "127.0.0.1 - - [11/May/2020 13:34:46] \"GET /20000_20000_20000/0-352_0-640_488-489 HTTP/1.1\" 200 -\n",
      "127.0.0.1 - - [11/May/2020 13:34:46] \"GET /20000_20000_20000/0-352_0-640_52-53 HTTP/1.1\" 200 -\n",
      "127.0.0.1 - - [11/May/2020 13:34:46] \"GET /20000_20000_20000/0-352_0-640_51-52 HTTP/1.1\" 200 -\n",
      "127.0.0.1 - - [11/May/2020 13:34:46] \"GET /20000_20000_20000/0-352_0-640_489-490 HTTP/1.1\" 200 -\n",
      "127.0.0.1 - - [11/May/2020 13:34:46] \"GET /20000_20000_20000/0-352_0-640_490-491 HTTP/1.1\" 200 -\n",
      "127.0.0.1 - - [11/May/2020 13:34:46] \"GET /20000_20000_20000/0-352_0-640_50-51 HTTP/1.1\" 200 -\n",
      "127.0.0.1 - - [11/May/2020 13:34:46] \"GET /20000_20000_20000/0-352_0-640_49-50 HTTP/1.1\" 200 -\n"
     ]
    },
    {
     "name": "stderr",
     "output_type": "stream",
     "text": [
      "127.0.0.1 - - [11/May/2020 13:34:46] \"GET /20000_20000_20000/0-352_0-640_491-492 HTTP/1.1\" 200 -\n",
      "127.0.0.1 - - [11/May/2020 13:34:46] \"GET /20000_20000_20000/0-352_0-640_48-49 HTTP/1.1\" 200 -\n",
      "127.0.0.1 - - [11/May/2020 13:34:46] \"GET /20000_20000_20000/0-352_0-640_492-493 HTTP/1.1\" 200 -\n",
      "127.0.0.1 - - [11/May/2020 13:34:46] \"GET /20000_20000_20000/0-352_0-640_493-494 HTTP/1.1\" 200 -\n",
      "127.0.0.1 - - [11/May/2020 13:34:46] \"GET /20000_20000_20000/0-352_0-640_47-48 HTTP/1.1\" 200 -\n",
      "127.0.0.1 - - [11/May/2020 13:34:46] \"GET /20000_20000_20000/0-352_0-640_46-47 HTTP/1.1\" 200 -\n",
      "127.0.0.1 - - [11/May/2020 13:34:46] \"GET /20000_20000_20000/0-352_0-640_494-495 HTTP/1.1\" 200 -\n",
      "127.0.0.1 - - [11/May/2020 13:34:46] \"GET /20000_20000_20000/0-352_0-640_495-496 HTTP/1.1\" 200 -\n",
      "127.0.0.1 - - [11/May/2020 13:34:47] \"GET /20000_20000_20000/0-352_0-640_45-46 HTTP/1.1\" 200 -\n",
      "127.0.0.1 - - [11/May/2020 13:34:47] \"GET /20000_20000_20000/0-352_0-640_496-497 HTTP/1.1\" 200 -\n",
      "127.0.0.1 - - [11/May/2020 13:34:47] \"GET /20000_20000_20000/0-352_0-640_44-45 HTTP/1.1\" 200 -\n",
      "127.0.0.1 - - [11/May/2020 13:34:47] \"GET /20000_20000_20000/0-352_0-640_43-44 HTTP/1.1\" 200 -\n",
      "127.0.0.1 - - [11/May/2020 13:34:47] \"GET /20000_20000_20000/0-352_0-640_497-498 HTTP/1.1\" 200 -\n",
      "127.0.0.1 - - [11/May/2020 13:34:47] \"GET /20000_20000_20000/0-352_0-640_498-499 HTTP/1.1\" 200 -\n",
      "127.0.0.1 - - [11/May/2020 13:34:47] \"GET /20000_20000_20000/0-352_0-640_42-43 HTTP/1.1\" 200 -\n",
      "127.0.0.1 - - [11/May/2020 13:34:47] \"GET /20000_20000_20000/0-352_0-640_41-42 HTTP/1.1\" 200 -\n",
      "127.0.0.1 - - [11/May/2020 13:34:47] \"GET /20000_20000_20000/0-352_0-640_499-500 HTTP/1.1\" 200 -\n",
      "127.0.0.1 - - [11/May/2020 13:34:47] \"GET /20000_20000_20000/0-352_0-640_40-41 HTTP/1.1\" 200 -\n",
      "127.0.0.1 - - [11/May/2020 13:34:47] \"GET /20000_20000_20000/0-352_0-640_500-501 HTTP/1.1\" 200 -\n",
      "127.0.0.1 - - [11/May/2020 13:34:47] \"GET /20000_20000_20000/0-352_0-640_501-502 HTTP/1.1\" 200 -\n",
      "127.0.0.1 - - [11/May/2020 13:34:47] \"GET /20000_20000_20000/0-352_0-640_39-40 HTTP/1.1\" 200 -\n",
      "127.0.0.1 - - [11/May/2020 13:34:47] \"GET /20000_20000_20000/0-352_0-640_38-39 HTTP/1.1\" 200 -\n",
      "127.0.0.1 - - [11/May/2020 13:34:47] \"GET /20000_20000_20000/0-352_0-640_502-503 HTTP/1.1\" 200 -\n",
      "127.0.0.1 - - [11/May/2020 13:34:47] \"GET /20000_20000_20000/0-352_0-640_503-504 HTTP/1.1\" 200 -\n",
      "127.0.0.1 - - [11/May/2020 13:34:47] \"GET /20000_20000_20000/0-352_0-640_37-38 HTTP/1.1\" 200 -\n",
      "127.0.0.1 - - [11/May/2020 13:34:47] \"GET /20000_20000_20000/0-352_0-640_504-505 HTTP/1.1\" 200 -\n",
      "127.0.0.1 - - [11/May/2020 13:34:47] \"GET /20000_20000_20000/0-352_0-640_36-37 HTTP/1.1\" 200 -\n",
      "127.0.0.1 - - [11/May/2020 13:34:47] \"GET /20000_20000_20000/0-352_0-640_35-36 HTTP/1.1\" 200 -\n",
      "127.0.0.1 - - [11/May/2020 13:34:47] \"GET /20000_20000_20000/0-352_0-640_505-506 HTTP/1.1\" 200 -\n",
      "127.0.0.1 - - [11/May/2020 13:34:47] \"GET /20000_20000_20000/0-352_0-640_506-507 HTTP/1.1\" 200 -\n",
      "127.0.0.1 - - [11/May/2020 13:34:47] \"GET /20000_20000_20000/0-352_0-640_34-35 HTTP/1.1\" 200 -\n",
      "127.0.0.1 - - [11/May/2020 13:34:47] \"GET /20000_20000_20000/0-352_0-640_33-34 HTTP/1.1\" 200 -\n",
      "127.0.0.1 - - [11/May/2020 13:34:47] \"GET /20000_20000_20000/0-352_0-640_507-508 HTTP/1.1\" 200 -\n",
      "127.0.0.1 - - [11/May/2020 13:34:47] \"GET /20000_20000_20000/0-352_0-640_32-33 HTTP/1.1\" 200 -\n",
      "127.0.0.1 - - [11/May/2020 13:34:47] \"GET /20000_20000_20000/0-352_0-640_508-509 HTTP/1.1\" 200 -\n",
      "127.0.0.1 - - [11/May/2020 13:34:47] \"GET /20000_20000_20000/0-352_0-640_509-510 HTTP/1.1\" 200 -\n",
      "127.0.0.1 - - [11/May/2020 13:34:47] \"GET /20000_20000_20000/0-352_0-640_31-32 HTTP/1.1\" 200 -\n",
      "127.0.0.1 - - [11/May/2020 13:34:47] \"GET /20000_20000_20000/0-352_0-640_30-31 HTTP/1.1\" 200 -\n",
      "127.0.0.1 - - [11/May/2020 13:34:47] \"GET /20000_20000_20000/0-352_0-640_510-511 HTTP/1.1\" 200 -\n",
      "127.0.0.1 - - [11/May/2020 13:34:47] \"GET /20000_20000_20000/0-352_0-640_511-512 HTTP/1.1\" 200 -\n",
      "127.0.0.1 - - [11/May/2020 13:34:47] \"GET /20000_20000_20000/0-352_0-640_29-30 HTTP/1.1\" 200 -\n",
      "127.0.0.1 - - [11/May/2020 13:34:47] \"GET /20000_20000_20000/0-352_0-640_512-513 HTTP/1.1\" 200 -\n",
      "127.0.0.1 - - [11/May/2020 13:34:47] \"GET /20000_20000_20000/0-352_0-640_28-29 HTTP/1.1\" 200 -\n",
      "127.0.0.1 - - [11/May/2020 13:34:47] \"GET /20000_20000_20000/0-352_0-640_27-28 HTTP/1.1\" 200 -\n",
      "127.0.0.1 - - [11/May/2020 13:34:47] \"GET /20000_20000_20000/0-352_0-640_513-514 HTTP/1.1\" 200 -\n",
      "127.0.0.1 - - [11/May/2020 13:34:47] \"GET /20000_20000_20000/0-352_0-640_514-515 HTTP/1.1\" 200 -\n",
      "127.0.0.1 - - [11/May/2020 13:34:47] \"GET /20000_20000_20000/0-352_0-640_26-27 HTTP/1.1\" 200 -\n",
      "127.0.0.1 - - [11/May/2020 13:34:47] \"GET /20000_20000_20000/0-352_0-640_25-26 HTTP/1.1\" 200 -\n",
      "127.0.0.1 - - [11/May/2020 13:34:47] \"GET /20000_20000_20000/0-352_0-640_515-516 HTTP/1.1\" 200 -\n",
      "127.0.0.1 - - [11/May/2020 13:34:47] \"GET /20000_20000_20000/0-352_0-640_24-25 HTTP/1.1\" 200 -\n",
      "127.0.0.1 - - [11/May/2020 13:34:47] \"GET /20000_20000_20000/0-352_0-640_516-517 HTTP/1.1\" 200 -\n",
      "127.0.0.1 - - [11/May/2020 13:34:47] \"GET /20000_20000_20000/0-352_0-640_517-518 HTTP/1.1\" 200 -\n",
      "127.0.0.1 - - [11/May/2020 13:34:47] \"GET /20000_20000_20000/0-352_0-640_23-24 HTTP/1.1\" 200 -\n",
      "127.0.0.1 - - [11/May/2020 13:34:47] \"GET /20000_20000_20000/0-352_0-640_22-23 HTTP/1.1\" 200 -\n",
      "127.0.0.1 - - [11/May/2020 13:34:47] \"GET /20000_20000_20000/0-352_0-640_518-519 HTTP/1.1\" 200 -\n",
      "127.0.0.1 - - [11/May/2020 13:34:47] \"GET /20000_20000_20000/0-352_0-640_519-520 HTTP/1.1\" 200 -\n",
      "127.0.0.1 - - [11/May/2020 13:34:47] \"GET /20000_20000_20000/0-352_0-640_21-22 HTTP/1.1\" 200 -\n",
      "127.0.0.1 - - [11/May/2020 13:34:47] \"GET /20000_20000_20000/0-352_0-640_520-521 HTTP/1.1\" 200 -\n",
      "127.0.0.1 - - [11/May/2020 13:34:47] \"GET /20000_20000_20000/0-352_0-640_20-21 HTTP/1.1\" 200 -\n",
      "127.0.0.1 - - [11/May/2020 13:34:47] \"GET /20000_20000_20000/0-352_0-640_19-20 HTTP/1.1\" 200 -\n",
      "127.0.0.1 - - [11/May/2020 13:34:47] \"GET /20000_20000_20000/0-352_0-640_521-522 HTTP/1.1\" 200 -\n",
      "127.0.0.1 - - [11/May/2020 13:34:47] \"GET /20000_20000_20000/0-352_0-640_522-523 HTTP/1.1\" 200 -\n",
      "127.0.0.1 - - [11/May/2020 13:34:47] \"GET /20000_20000_20000/0-352_0-640_18-19 HTTP/1.1\" 200 -\n",
      "127.0.0.1 - - [11/May/2020 13:34:47] \"GET /20000_20000_20000/0-352_0-640_17-18 HTTP/1.1\" 200 -\n",
      "127.0.0.1 - - [11/May/2020 13:34:47] \"GET /20000_20000_20000/0-352_0-640_523-524 HTTP/1.1\" 200 -\n",
      "127.0.0.1 - - [11/May/2020 13:34:47] \"GET /20000_20000_20000/0-352_0-640_16-17 HTTP/1.1\" 200 -\n",
      "127.0.0.1 - - [11/May/2020 13:34:47] \"GET /20000_20000_20000/0-352_0-640_524-525 HTTP/1.1\" 200 -\n",
      "127.0.0.1 - - [11/May/2020 13:34:47] \"GET /20000_20000_20000/0-352_0-640_525-526 HTTP/1.1\" 200 -\n",
      "127.0.0.1 - - [11/May/2020 13:34:47] \"GET /20000_20000_20000/0-352_0-640_15-16 HTTP/1.1\" 200 -\n",
      "127.0.0.1 - - [11/May/2020 13:34:47] \"GET /20000_20000_20000/0-352_0-640_14-15 HTTP/1.1\" 200 -\n",
      "127.0.0.1 - - [11/May/2020 13:34:47] \"GET /20000_20000_20000/0-352_0-640_526-527 HTTP/1.1\" 200 -\n",
      "127.0.0.1 - - [11/May/2020 13:34:47] \"GET /20000_20000_20000/0-352_0-640_527-528 HTTP/1.1\" 200 -\n",
      "127.0.0.1 - - [11/May/2020 13:34:47] \"GET /20000_20000_20000/0-352_0-640_13-14 HTTP/1.1\" 200 -\n",
      "127.0.0.1 - - [11/May/2020 13:34:47] \"GET /20000_20000_20000/0-352_0-640_528-529 HTTP/1.1\" 200 -\n",
      "127.0.0.1 - - [11/May/2020 13:34:47] \"GET /20000_20000_20000/0-352_0-640_12-13 HTTP/1.1\" 200 -\n",
      "127.0.0.1 - - [11/May/2020 13:34:47] \"GET /20000_20000_20000/0-352_0-640_11-12 HTTP/1.1\" 200 -\n",
      "127.0.0.1 - - [11/May/2020 13:34:47] \"GET /20000_20000_20000/0-352_0-640_529-530 HTTP/1.1\" 200 -\n",
      "127.0.0.1 - - [11/May/2020 13:34:47] \"GET /20000_20000_20000/0-352_0-640_530-531 HTTP/1.1\" 200 -\n",
      "127.0.0.1 - - [11/May/2020 13:34:47] \"GET /20000_20000_20000/0-352_0-640_10-11 HTTP/1.1\" 200 -\n",
      "127.0.0.1 - - [11/May/2020 13:34:47] \"GET /20000_20000_20000/0-352_0-640_9-10 HTTP/1.1\" 200 -\n",
      "127.0.0.1 - - [11/May/2020 13:34:47] \"GET /20000_20000_20000/0-352_0-640_531-532 HTTP/1.1\" 200 -\n",
      "127.0.0.1 - - [11/May/2020 13:34:47] \"GET /20000_20000_20000/0-352_0-640_8-9 HTTP/1.1\" 200 -\n",
      "127.0.0.1 - - [11/May/2020 13:34:48] \"GET /20000_20000_20000/0-352_0-640_532-533 HTTP/1.1\" 200 -\n",
      "127.0.0.1 - - [11/May/2020 13:34:48] \"GET /20000_20000_20000/0-352_0-640_533-534 HTTP/1.1\" 200 -\n",
      "127.0.0.1 - - [11/May/2020 13:34:48] \"GET /20000_20000_20000/0-352_0-640_7-8 HTTP/1.1\" 200 -\n",
      "127.0.0.1 - - [11/May/2020 13:34:48] \"GET /20000_20000_20000/0-352_0-640_534-535 HTTP/1.1\" 200 -\n",
      "127.0.0.1 - - [11/May/2020 13:34:48] \"GET /20000_20000_20000/0-352_0-640_6-7 HTTP/1.1\" 200 -\n",
      "127.0.0.1 - - [11/May/2020 13:34:48] \"GET /20000_20000_20000/0-352_0-640_5-6 HTTP/1.1\" 200 -\n",
      "127.0.0.1 - - [11/May/2020 13:34:48] \"GET /20000_20000_20000/0-352_0-640_535-536 HTTP/1.1\" 200 -\n",
      "127.0.0.1 - - [11/May/2020 13:34:48] \"GET /20000_20000_20000/0-352_0-640_4-5 HTTP/1.1\" 200 -\n",
      "127.0.0.1 - - [11/May/2020 13:34:48] \"GET /20000_20000_20000/0-352_0-640_536-537 HTTP/1.1\" 200 -\n",
      "127.0.0.1 - - [11/May/2020 13:34:48] \"GET /20000_20000_20000/0-352_0-640_537-538 HTTP/1.1\" 200 -\n",
      "127.0.0.1 - - [11/May/2020 13:34:48] \"GET /20000_20000_20000/0-352_0-640_3-4 HTTP/1.1\" 200 -\n",
      "127.0.0.1 - - [11/May/2020 13:34:48] \"GET /20000_20000_20000/0-352_0-640_538-539 HTTP/1.1\" 200 -\n"
     ]
    },
    {
     "name": "stderr",
     "output_type": "stream",
     "text": [
      "127.0.0.1 - - [11/May/2020 13:34:48] \"GET /20000_20000_20000/0-352_0-640_2-3 HTTP/1.1\" 200 -\n",
      "127.0.0.1 - - [11/May/2020 13:34:48] \"GET /20000_20000_20000/0-352_0-640_1-2 HTTP/1.1\" 200 -\n",
      "127.0.0.1 - - [11/May/2020 13:34:48] \"GET /20000_20000_20000/0-352_0-640_539-540 HTTP/1.1\" 200 -\n",
      "127.0.0.1 - - [11/May/2020 13:34:48] \"GET /20000_20000_20000/0-352_0-640_0-1 HTTP/1.1\" 200 -\n"
     ]
    }
   ],
   "source": [
    "vol = CloudVolume(f'file://{layer_dir}')\n",
    "vol.viewer(port=1338)"
   ]
  },
  {
   "cell_type": "markdown",
   "metadata": {},
   "source": [
    "# Step 4: View your custom volume and labels in Neuroglancer!\n",
    "Step 3 hosts your data via http on port 1338 of your local machine. When you run Neuroglancer in your browser, you can tell it to look for data hosted at a particular port. To do this, open up the Braincogs Neuroglancer client: [https://braincogs00.pni.princeton.edu/nglancer_viewer](https://braincogs00.pni.princeton.edu/nglancer_viewer) (you must be using a Princeton VPN) and then click the \"+\" in the upper left hand corner of the screen once the black screen loads. To load in your data, type the following into the source text box:<br>\n",
    "> precomputed://http://localhost:1338 <br>\n",
    "\n",
    "Then hit tab and name your layer if you'd like. Hit enter or the \"add layer\" button and your layer should load into Neuroglancer. The first thing you will notice if it works is the image is all black within the yellow bounding box. Your data are there but you need to change the contrast to see it. To do that, right click the box containing the name of your layer that appeared to the left of the \"+\" in the top left of the window. A sidebar should appear on the right side of the screen. Copy and paste the following code block into the box containing the `Void main() {`, replacing the code that is already there:\n",
    "\n",
    "```\n",
    "void main() {\n",
    "  emitGrayscale(toNormalized(getDataValue())*25.);\n",
    "}\n",
    "```\n",
    "\n",
    "This video tutorial shows how to do this and also how to further customize the color scale, including color scale inversion: [https://braincogs00.pni.princeton.edu/FAQ#ng_color_contrast](https://braincogs00.pni.princeton.edu/FAQ#ng_color_contrast)"
   ]
  },
  {
   "cell_type": "code",
   "execution_count": null,
   "metadata": {},
   "outputs": [],
   "source": []
  }
 ],
 "metadata": {
  "kernelspec": {
   "display_name": "Python 3",
   "language": "python",
   "name": "python3"
  },
  "language_info": {
   "codemirror_mode": {
    "name": "ipython",
    "version": 3
   },
   "file_extension": ".py",
   "mimetype": "text/x-python",
   "name": "python",
   "nbconvert_exporter": "python",
   "pygments_lexer": "ipython3",
   "version": "3.7.6"
  }
 },
 "nbformat": 4,
 "nbformat_minor": 2
}
