{
 "cells": [
  {
   "cell_type": "code",
   "execution_count": 2,
   "metadata": {},
   "outputs": [],
   "source": [
    "import neuroglancer\n",
    "import cloudvolume"
   ]
  },
  {
   "cell_type": "markdown",
   "metadata": {},
   "source": [
    "## README\n",
    "This example assumes you have precomputed datasets already made and hosted with cloudvolume.\n",
    "To host the raw data in this example that I already converted to precomputed format, open an ipython terminal and do:\n",
    "```python\n",
    "import cloudvolume\n",
    "vol = cloudvolume.Cloudvolume('file:///jukebox/LightSheetTransfer/kelly/neuroglancer/201908_cfos/190820_m61468_observ')\n",
    "vol.viewer(port=1337) # You can choose the port here, but remember it for later\n",
    "```\n",
    "The last command will cause the window to hang -- that is the expected behavior. Do not try to do this in this jupyter notebook as it will cause your session to hang and you won't be able to run any of the following steps."
   ]
  },
  {
   "cell_type": "markdown",
   "metadata": {},
   "source": [
    "## Set the neuroglancer client you want to use. \n",
    "Default is Seung lab's which should work fine for this example"
   ]
  },
  {
   "cell_type": "code",
   "execution_count": 3,
   "metadata": {},
   "outputs": [],
   "source": [
    "neuroglancer.set_static_content_source(url='https://neuromancer-seung-import.appspot.com')"
   ]
  },
  {
   "cell_type": "markdown",
   "metadata": {},
   "source": [
    "# Load in the raw data into neuroglancer and generate the link"
   ]
  },
  {
   "cell_type": "code",
   "execution_count": 4,
   "metadata": {},
   "outputs": [
    {
     "name": "stdout",
     "output_type": "stream",
     "text": [
      "http://127.0.0.1:40066/v/558b5e50aaefc0172017f0021b3ebd5624bc262c/\n"
     ]
    }
   ],
   "source": [
    "# This volume handle can be used to notify the viewer that the data has changed.\n",
    "viewer = neuroglancer.Viewer()\n",
    "\n",
    "# Load in a segmentation layer (e.g. the raw-space allen atlas) that is being hosted with cloudvolume\n",
    "with viewer.txn() as s:\n",
    "    s.layers['m61468_observ'] = neuroglancer.ImageLayer(source='precomputed://http://localhost:1337',\n",
    "    shader = '''\n",
    "    void main() {\n",
    "  float v = toNormalized(getDataValue(0)) * 20.0;\n",
    "  emitRGBA(vec4(v, 0.0, 0.0, v));\n",
    "}\n",
    "'''                                                 \n",
    "    )\n",
    "print(viewer) # Click the link that is generated to see your volume displayed in Neuroglancer"
   ]
  },
  {
   "cell_type": "markdown",
   "metadata": {},
   "source": [
    "## Host the raw-space allen atlas cloudvolume"
   ]
  },
  {
   "cell_type": "markdown",
   "metadata": {},
   "source": [
    "You will need to host this with cloudvolume as was done for the raw data above. Use a different port though, e.g.\n",
    "```python\n",
    "import cloudvolume\n",
    "vol = cloudvolume.Cloudvolume('file:///jukebox/LightSheetTransfer/kelly/neuroglancer/201908_cfos/m61468_observ_rawatlas')\n",
    "vol.viewer(port=1338) # must be a different port than the raw data\n",
    "```\n",
    "Again, make sure to do this outside of this jupyter notebook"
   ]
  },
  {
   "cell_type": "markdown",
   "metadata": {},
   "source": [
    "## Load in the atlas\n",
    "Load in a segmentation layer (e.g. the raw-space allen atlas) that is being hosted with cloudvolume using the same viewer object that you already made. If you go back to the neuroglancer window after running this it should be there in a new layer"
   ]
  },
  {
   "cell_type": "code",
   "execution_count": 5,
   "metadata": {},
   "outputs": [],
   "source": [
    "with viewer.txn() as s:\n",
    "    s.layers['m61468_observ_rawatlas'] = neuroglancer.SegmentationLayer(source='precomputed://http://localhost:1338'\n",
    "    )"
   ]
  },
  {
   "cell_type": "code",
   "execution_count": null,
   "metadata": {},
   "outputs": [],
   "source": []
  }
 ],
 "metadata": {
  "kernelspec": {
   "display_name": "ng",
   "language": "python",
   "name": "ng"
  },
  "language_info": {
   "codemirror_mode": {
    "name": "ipython",
    "version": 3
   },
   "file_extension": ".py",
   "mimetype": "text/x-python",
   "name": "python",
   "nbconvert_exporter": "python",
   "pygments_lexer": "ipython3",
   "version": "3.6.9"
  }
 },
 "nbformat": 4,
 "nbformat_minor": 2
}
