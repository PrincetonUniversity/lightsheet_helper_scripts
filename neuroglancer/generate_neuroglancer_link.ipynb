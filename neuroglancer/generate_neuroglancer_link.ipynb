{
 "cells": [
  {
   "cell_type": "code",
   "execution_count": 1,
   "metadata": {},
   "outputs": [],
   "source": [
    "import neuroglancer\n",
    "import cloudvolume\n",
    "import pandas as pd, os"
   ]
  },
  {
   "cell_type": "markdown",
   "metadata": {},
   "source": [
    "## README\n",
    "This example assumes you have precomputed datasets already made and hosted with cloudvolume.\n",
    "To host the raw data in this example that I already converted to precomputed format, open an ipython terminal and do:\n",
    "```python\n",
    "import cloudvolume\n",
    "vol = cloudvolume.CloudVolume('file:///home/wanglab/Documents/neuroglancer/20170204_tp_bl6_cri_1750r_03/647')\n",
    "vol.viewer(port=1337) # You can choose the port here, but remember it for later\n",
    "```\n",
    "The last command will cause the window to hang -- that is the expected behavior. Do not try to do this in this jupyter notebook as it will cause your session to hang and you won't be able to run any of the following steps."
   ]
  },
  {
   "cell_type": "markdown",
   "metadata": {},
   "source": [
    "## Set the neuroglancer client you want to use. \n",
    "Default is Seung lab's which should work fine for this example"
   ]
  },
  {
   "cell_type": "code",
   "execution_count": 7,
   "metadata": {},
   "outputs": [],
   "source": [
    "neuroglancer.set_static_content_source(url='https://neuromancer-seung-import.appspot.com')"
   ]
  },
  {
   "cell_type": "markdown",
   "metadata": {},
   "source": [
    "# Load in the raw data into neuroglancer and generate the link"
   ]
  },
  {
   "cell_type": "code",
   "execution_count": 19,
   "metadata": {},
   "outputs": [
    {
     "name": "stdout",
     "output_type": "stream",
     "text": [
      "http://127.0.0.1:39235/v/bd28b3563d11333e9fd2128fbdd58661428be0fc/\n"
     ]
    }
   ],
   "source": [
    "# This volume handle can be used to notify the viewer that the data has changed.\n",
    "viewer = neuroglancer.Viewer()\n",
    "\n",
    "# Load in a segmentation layer (e.g. the raw-space allen atlas) that is being hosted with cloudvolume\n",
    "with viewer.txn() as s:\n",
    "    s.layers['20170204_tp_bl6_cri_1750r_03'] = neuroglancer.ImageLayer(source='precomputed://http://localhost:1337',\n",
    "    shader = '''\n",
    "    void main() {\n",
    "  float v = toNormalized(getDataValue(0)) * 15.0;\n",
    "  float w = 1.0 - v;\n",
    "  emitRGBA(vec4(w, w, w, v));\n",
    "}\n",
    "'''                                                 \n",
    "    )\n",
    "print(viewer) # Click the link that is generated to see your volume displayed in Neuroglancer"
   ]
  },
  {
   "cell_type": "markdown",
   "metadata": {},
   "source": [
    "## Host the raw-space allen atlas cloudvolume"
   ]
  },
  {
   "cell_type": "markdown",
   "metadata": {},
   "source": [
    "You will need to host this with cloudvolume as was done for the raw data above. Use a different port though, e.g.\n",
    "```python\n",
    "import cloudvolume\n",
    "vol = cloudvolume.CloudVolume('file:///home/wanglab/Documents/neuroglancer/20170204_tp_bl6_cri_1750r_03/atlas')\n",
    "vol.viewer(port=1338) # must be a different port than the raw data\n",
    "```\n",
    "Again, make sure to do this outside of this jupyter notebook"
   ]
  },
  {
   "cell_type": "markdown",
   "metadata": {},
   "source": [
    "## Load in the atlas\n",
    "Load in a segmentation layer (e.g. the raw-space allen atlas) that is being hosted with cloudvolume using the same viewer object that you already made. If you go back to the neuroglancer window after running this it should be there in a new layer"
   ]
  },
  {
   "cell_type": "code",
   "execution_count": 20,
   "metadata": {},
   "outputs": [],
   "source": [
    "with viewer.txn() as s:\n",
    "    s.layers['rawatlas'] = neuroglancer.SegmentationLayer(source='precomputed://http://localhost:1338'\n",
    "    )\n",
    "    "
   ]
  },
  {
   "cell_type": "markdown",
   "metadata": {},
   "source": [
    "Use the look-up table to make a key binding to the Neuroglancer session."
   ]
  },
  {
   "cell_type": "code",
   "execution_count": 21,
   "metadata": {},
   "outputs": [
    {
     "name": "stdout",
     "output_type": "stream",
     "text": [
      "Got my-action 1\n",
      "  Layer selected values: Map({\"20170204_tp_bl6_cri_1750r_03\": 669, \"rawatlas\": 827})\n",
      "Got my-action 2\n",
      "  Layer selected values: Map({\"20170204_tp_bl6_cri_1750r_03\": 1420, \"rawatlas\": 645})\n",
      "Got my-action 3\n",
      "  Layer selected values: Map({\"20170204_tp_bl6_cri_1750r_03\": 616, \"rawatlas\": 1054})\n",
      "Got my-action 4\n",
      "  Layer selected values: Map({\"20170204_tp_bl6_cri_1750r_03\": 689, \"rawatlas\": 827})\n",
      "Got my-action 5\n",
      "  Layer selected values: Map({\"20170204_tp_bl6_cri_1750r_03\": 720, \"rawatlas\": 556})\n",
      "Got my-action 6\n",
      "  Layer selected values: Map({\"20170204_tp_bl6_cri_1750r_03\": 662, \"rawatlas\": 707})\n",
      "Got my-action 7\n",
      "  Layer selected values: Map({\"20170204_tp_bl6_cri_1750r_03\": 569, \"rawatlas\": 84})\n",
      "Got my-action 8\n",
      "  Layer selected values: Map({\"20170204_tp_bl6_cri_1750r_03\": 465, \"rawatlas\": 363})\n",
      "Got my-action 9\n",
      "  Layer selected values: Map({\"20170204_tp_bl6_cri_1750r_03\": 545, \"rawatlas\": 304})\n",
      "Got my-action 10\n",
      "  Layer selected values: Map({\"20170204_tp_bl6_cri_1750r_03\": 658, \"rawatlas\": 171})\n",
      "Got my-action 11\n",
      "  Layer selected values: Map({\"20170204_tp_bl6_cri_1750r_03\": 446, \"rawatlas\": 296})\n",
      "Got my-action 12\n",
      "  Layer selected values: Map({\"20170204_tp_bl6_cri_1750r_03\": 396, \"rawatlas\": 772})\n",
      "Got my-action 13\n",
      "  Layer selected values: Map({\"20170204_tp_bl6_cri_1750r_03\": 355, \"rawatlas\": 956})\n",
      "Got my-action 14\n",
      "  Layer selected values: Map({\"20170204_tp_bl6_cri_1750r_03\": 678, \"rawatlas\": 1108})\n",
      "Got my-action 15\n",
      "  Layer selected values: Map({\"20170204_tp_bl6_cri_1750r_03\": 2166, \"rawatlas\": 12353})\n",
      "Got my-action 16\n",
      "  Layer selected values: Map({\"20170204_tp_bl6_cri_1750r_03\": 444, \"rawatlas\": 1021})\n",
      "Got my-action 17\n",
      "  Layer selected values: Map({\"20170204_tp_bl6_cri_1750r_03\": 717, \"rawatlas\": 767})\n",
      "Got my-action 18\n",
      "  Layer selected values: Map({\"20170204_tp_bl6_cri_1750r_03\": 620, \"rawatlas\": 1021})\n",
      "Got my-action 19\n",
      "  Layer selected values: Map({\"20170204_tp_bl6_cri_1750r_03\": 1237, \"rawatlas\": 211})\n",
      "Got my-action 20\n",
      "  Layer selected values: Map({\"20170204_tp_bl6_cri_1750r_03\": 482, \"rawatlas\": 1021})\n",
      "Got my-action 21\n",
      "  Layer selected values: Map({\"20170204_tp_bl6_cri_1750r_03\": 1107, \"rawatlas\": 767})\n",
      "Got my-action 22\n",
      "  Layer selected values: Map({\"20170204_tp_bl6_cri_1750r_03\": 3911, \"rawatlas\": 962})\n",
      "Got my-action 23\n",
      "  Layer selected values: Map({\"20170204_tp_bl6_cri_1750r_03\": 1293, \"rawatlas\": 935})\n",
      "Got my-action 24\n",
      "  Layer selected values: Map({\"20170204_tp_bl6_cri_1750r_03\": 1524, \"rawatlas\": 767})\n",
      "Got my-action 25\n",
      "  Layer selected values: Map({\"20170204_tp_bl6_cri_1750r_03\": 677, \"rawatlas\": 1021})\n",
      "Got my-action 26\n",
      "  Layer selected values: Map({\"20170204_tp_bl6_cri_1750r_03\": 366, \"rawatlas\": 1108})\n",
      "Got my-action 27\n",
      "  Layer selected values: Map({\"20170204_tp_bl6_cri_1750r_03\": 420, \"rawatlas\": 19})\n",
      "Got my-action 28\n",
      "  Layer selected values: Map({\"20170204_tp_bl6_cri_1750r_03\": 630, \"rawatlas\": 827})\n",
      "Got my-action 29\n",
      "  Layer selected values: Map({\"20170204_tp_bl6_cri_1750r_03\": 673, \"rawatlas\": 910})\n",
      "Got my-action 30\n",
      "  Layer selected values: Map({\"20170204_tp_bl6_cri_1750r_03\": 956, \"rawatlas\": 1125})\n",
      "Got my-action 31\n",
      "  Layer selected values: Map({\"20170204_tp_bl6_cri_1750r_03\": 1128, \"rawatlas\": 620})\n",
      "Got my-action 32\n",
      "  Layer selected values: Map({\"20170204_tp_bl6_cri_1750r_03\": 2005, \"rawatlas\": 582})\n",
      "Got my-action 33\n",
      "  Layer selected values: Map({\"20170204_tp_bl6_cri_1750r_03\": 2705, \"rawatlas\": 484})\n",
      "Got my-action 34\n",
      "  Layer selected values: Map({\"20170204_tp_bl6_cri_1750r_03\": 294, \"rawatlas\": 672})\n",
      "Got my-action 35\n",
      "  Layer selected values: Map({\"20170204_tp_bl6_cri_1750r_03\": 4983, \"rawatlas\": 484})\n",
      "Got my-action 36\n",
      "  Layer selected values: Map({\"20170204_tp_bl6_cri_1750r_03\": 993, \"rawatlas\": 630})\n",
      "Got my-action 37\n",
      "  Layer selected values: Map({\"20170204_tp_bl6_cri_1750r_03\": 539, \"rawatlas\": 440})\n",
      "Got my-action 38\n",
      "  Layer selected values: Map({\"20170204_tp_bl6_cri_1750r_03\": 539, \"rawatlas\": 440})\n",
      "Got my-action 39\n",
      "  Layer selected values: Map({\"20170204_tp_bl6_cri_1750r_03\": 551, \"rawatlas\": 440})\n",
      "Got my-action 40\n",
      "  Layer selected values: Map({\"20170204_tp_bl6_cri_1750r_03\": 425, \"rawatlas\": 956})\n",
      "Got my-action 41\n",
      "  Layer selected values: Map({\"20170204_tp_bl6_cri_1750r_03\": 1122, \"rawatlas\": 608})\n",
      "Got my-action 42\n",
      "  Layer selected values: Map({\"20170204_tp_bl6_cri_1750r_03\": 575, \"rawatlas\": 783})\n",
      "Got my-action 43\n",
      "  Layer selected values: Map({\"20170204_tp_bl6_cri_1750r_03\": 1039, \"rawatlas\": 1101})\n",
      "Got my-action 44\n",
      "  Layer selected values: Map({\"20170204_tp_bl6_cri_1750r_03\": 744, \"rawatlas\": 956})\n",
      "Got my-action 45\n",
      "  Layer selected values: Map({\"20170204_tp_bl6_cri_1750r_03\": 506, \"rawatlas\": 956})\n",
      "Got my-action 46\n",
      "  Layer selected values: Map({\"20170204_tp_bl6_cri_1750r_03\": 1111, \"rawatlas\": 1101})\n",
      "Got my-action 47\n",
      "  Layer selected values: Map({\"20170204_tp_bl6_cri_1750r_03\": 1777, \"rawatlas\": 767})\n",
      "Got my-action 48\n",
      "  Layer selected values: Map({\"20170204_tp_bl6_cri_1750r_03\": 1818, \"rawatlas\": 288})\n",
      "Got my-action 49\n",
      "  Layer selected values: Map({\"20170204_tp_bl6_cri_1750r_03\": 2589, \"rawatlas\": 412})\n",
      "Got my-action 50\n",
      "  Layer selected values: Map({\"20170204_tp_bl6_cri_1750r_03\": 226, \"rawatlas\": 969})\n",
      "Got my-action 51\n",
      "  Layer selected values: Map({\"20170204_tp_bl6_cri_1750r_03\": 174, \"rawatlas\": 448})\n",
      "Got my-action 52\n",
      "  Layer selected values: Map({\"20170204_tp_bl6_cri_1750r_03\": 1247, \"rawatlas\": 698})\n",
      "Got my-action 53\n",
      "  Layer selected values: Map({\"20170204_tp_bl6_cri_1750r_03\": 775, \"rawatlas\": 814})\n",
      "Got my-action 54\n",
      "  Layer selected values: Map({\"20170204_tp_bl6_cri_1750r_03\": 705, \"rawatlas\": 956})\n",
      "Got my-action 55\n",
      "  Layer selected values: Map({\"20170204_tp_bl6_cri_1750r_03\": 1015, \"rawatlas\": 794})\n",
      "Got my-action 56\n",
      "  Layer selected values: Map({\"20170204_tp_bl6_cri_1750r_03\": 1220, \"rawatlas\": 698})\n",
      "Got my-action 57\n",
      "  Layer selected values: Map({\"20170204_tp_bl6_cri_1750r_03\": 673, \"rawatlas\": 672})\n",
      "Got my-action 58\n",
      "  Layer selected values: Map({\"20170204_tp_bl6_cri_1750r_03\": 360, \"rawatlas\": 672})\n",
      "Got my-action 59\n",
      "  Layer selected values: Map({\"20170204_tp_bl6_cri_1750r_03\": 566, \"rawatlas\": 956})\n",
      "Got my-action 60\n",
      "  Layer selected values: Map({\"20170204_tp_bl6_cri_1750r_03\": 632, \"rawatlas\": 656})\n",
      "Got my-action 61\n",
      "  Layer selected values: Map({\"20170204_tp_bl6_cri_1750r_03\": 3155, \"rawatlas\": 962})\n",
      "Got my-action 62\n",
      "  Layer selected values: Map({\"20170204_tp_bl6_cri_1750r_03\": 1346, \"rawatlas\": 767})\n",
      "Got my-action 63\n",
      "  Layer selected values: Map({\"20170204_tp_bl6_cri_1750r_03\": 443, \"rawatlas\": 919})\n",
      "Got my-action 64\n",
      "  Layer selected values: Map({\"20170204_tp_bl6_cri_1750r_03\": 312, \"rawatlas\": 12354})\n",
      "Got my-action 65\n",
      "  Layer selected values: Map({\"20170204_tp_bl6_cri_1750r_03\": 1013, \"rawatlas\": 767})\n",
      "Got my-action 66\n",
      "  Layer selected values: Map({\"20170204_tp_bl6_cri_1750r_03\": 659, \"rawatlas\": 274})\n",
      "Got my-action 67\n",
      "  Layer selected values: Map({\"20170204_tp_bl6_cri_1750r_03\": 500, \"rawatlas\": 590})\n",
      "Got my-action 68\n",
      "  Layer selected values: Map({\"20170204_tp_bl6_cri_1750r_03\": 1399, \"rawatlas\": 159})\n",
      "Got my-action 69\n",
      "  Layer selected values: Map({\"20170204_tp_bl6_cri_1750r_03\": 788, \"rawatlas\": 507})\n",
      "Got my-action 70\n",
      "  Layer selected values: Map({\"20170204_tp_bl6_cri_1750r_03\": 1857, \"rawatlas\": 159})\n",
      "Got my-action 71\n",
      "  Layer selected values: Map({\"20170204_tp_bl6_cri_1750r_03\": 5582, \"rawatlas\": 159})\n",
      "Got my-action 72\n",
      "  Layer selected values: Map({\"20170204_tp_bl6_cri_1750r_03\": 714, \"rawatlas\": 507})\n",
      "Got my-action 73\n",
      "  Layer selected values: Map({\"20170204_tp_bl6_cri_1750r_03\": 940, \"rawatlas\": 258})\n",
      "Got my-action 74\n",
      "  Layer selected values: Map({\"20170204_tp_bl6_cri_1750r_03\": 1393, \"rawatlas\": 477})\n",
      "Got my-action 75\n",
      "  Layer selected values: Map({\"20170204_tp_bl6_cri_1750r_03\": 1040, \"rawatlas\": 597})\n",
      "Got my-action 76\n",
      "  Layer selected values: Map({\"20170204_tp_bl6_cri_1750r_03\": 542, \"rawatlas\": 56})\n",
      "Got my-action 77\n",
      "  Layer selected values: Map({\"20170204_tp_bl6_cri_1750r_03\": 1152, \"rawatlas\": 900})\n",
      "Got my-action 78\n",
      "  Layer selected values: Map({\"20170204_tp_bl6_cri_1750r_03\": 763, \"rawatlas\": 81})\n",
      "Got my-action 79\n",
      "  Layer selected values: Map({\"20170204_tp_bl6_cri_1750r_03\": 996, \"rawatlas\": 98})\n",
      "Got my-action 80\n",
      "  Layer selected values: Map({\"20170204_tp_bl6_cri_1750r_03\": 411, \"rawatlas\": 1108})\n",
      "Got my-action 81\n",
      "  Layer selected values: Map({\"20170204_tp_bl6_cri_1750r_03\": 420, \"rawatlas\": 956})\n"
     ]
    },
    {
     "name": "stdout",
     "output_type": "stream",
     "text": [
      "Got my-action 82\n",
      "  Layer selected values: Map({\"20170204_tp_bl6_cri_1750r_03\": 502, \"rawatlas\": 844})\n",
      "Got my-action 83\n",
      "  Layer selected values: Map({\"20170204_tp_bl6_cri_1750r_03\": 426, \"rawatlas\": 648})\n",
      "Got my-action 84\n",
      "  Layer selected values: Map({\"20170204_tp_bl6_cri_1750r_03\": 21921, \"rawatlas\": 1021})\n",
      "Got my-action 85\n",
      "  Layer selected values: Map({\"20170204_tp_bl6_cri_1750r_03\": 542, \"rawatlas\": 844})\n",
      "Got my-action 86\n",
      "  Layer selected values: Map({\"20170204_tp_bl6_cri_1750r_03\": 483, \"rawatlas\": 767})\n",
      "Got my-action 87\n",
      "  Layer selected values: Map({\"20170204_tp_bl6_cri_1750r_03\": 445, \"rawatlas\": 1021})\n",
      "Got my-action 88\n",
      "  Layer selected values: Map({\"20170204_tp_bl6_cri_1750r_03\": 561, \"rawatlas\": 767})\n",
      "Got my-action 89\n",
      "  Layer selected values: Map({\"20170204_tp_bl6_cri_1750r_03\": 1164, \"rawatlas\": 962})\n",
      "Got my-action 90\n",
      "  Layer selected values: Map({\"20170204_tp_bl6_cri_1750r_03\": 1104, \"rawatlas\": 767})\n",
      "Got my-action 91\n",
      "  Layer selected values: Map({\"20170204_tp_bl6_cri_1750r_03\": 191, \"rawatlas\": 656})\n",
      "Got my-action 92\n",
      "  Layer selected values: Map({\"20170204_tp_bl6_cri_1750r_03\": 1548, \"rawatlas\": 962})\n"
     ]
    }
   ],
   "source": [
    "# First you need to create a dictionary mapping the atlas id to the region name. \n",
    "# Here's my example\n",
    "\n",
    "csv_file = '/jukebox/LightSheetTransfer/atlas/ls_id_table_w_voxelcounts_16bit.xlsx'\n",
    "\n",
    "df = pd.read_excel(csv_file)\n",
    "\n",
    "atlas_df = df.copy()\n",
    "\n",
    "atlas_dict = {}\n",
    "for ind, row in atlas_df.iterrows():\n",
    "    atlas_dict[int(row['id'])] = row['name']\n",
    "    \n",
    "# Here is the actual code for making the key binding. Copy and paste this\n",
    "# into your jupyter notebook where you have already made the viewer() object\n",
    "\n",
    "num_actions = 0\n",
    "def my_action3(s):\n",
    "    global num_actions\n",
    "    num_actions += 1\n",
    "    with viewer.config_state.txn() as st:\n",
    "        region_id = s.selected_values['rawatlas']\n",
    "        region_name = atlas_dict.get(region_id)\n",
    "        st.status_messages['hello'] = ('%i:%s' %\n",
    "                                    (region_id, region_name))\n",
    "\n",
    "    print('Got my-action %i' % num_actions)\n",
    "#     print('  Mouse position: %s' % (s.mouse_voxel_coordinates,))\n",
    "    print('  Layer selected values: %s' % (s.selected_values,))\n",
    "viewer.actions.add('my-action3', my_action3)\n",
    "\n",
    "with viewer.config_state.txn() as s:\n",
    "    s.input_event_bindings.viewer['keyp'] = 'my-action3'\n",
    "    s.status_messages['hello'] = 'Welcome to the segment labeling example. Press \"p\" to see region name under cursor.'"
   ]
  },
  {
   "cell_type": "markdown",
   "metadata": {},
   "source": [
    "Adjust the viewer and take a screenshot. Good for videos!"
   ]
  },
  {
   "cell_type": "code",
   "execution_count": 17,
   "metadata": {},
   "outputs": [],
   "source": [
    "svdst = '/jukebox/wang/zahra/neuroglancer/screenshots/20170204_tp_bl6_cri_1750r_03/hippocampus'\n",
    "if not os.path.exists(svdst): os.mkdir(svdst)\n",
    "for i in range(208,338):\n",
    "    with viewer.txn() as s:\n",
    "        s.voxel_coordinates = [1889,3520,i]\n",
    "    with viewer.config_state.txn() as s:\n",
    "        s.viewer_size = [1000,1000]\n",
    "    ss = neuroglancer.ScreenshotSaver(viewer, svdst)\n",
    "    ss.capture(index=i)   "
   ]
  },
  {
   "cell_type": "markdown",
   "metadata": {},
   "source": [
    "Alternatively, can also take a single view screenshot of the current view."
   ]
  },
  {
   "cell_type": "code",
   "execution_count": 12,
   "metadata": {},
   "outputs": [
    {
     "data": {
      "text/plain": [
       "(0,\n",
       " '/home/wanglab/Documents/neuroglancer/screenshots/20170204_tp_bl6_cri_1750r_03/hippocampus/0000000.png')"
      ]
     },
     "execution_count": 12,
     "metadata": {},
     "output_type": "execute_result"
    }
   ],
   "source": [
    "svdst = '/jukebox/wang/zahra/neuroglancer/screenshots/20170204_tp_bl6_cri_1750r_03/hippocampus'\n",
    "if not os.path.exists(svdst): os.mkdir(svdst)\n",
    "with viewer.config_state.txn() as s:\n",
    "    s.show_ui_controls = True\n",
    "    s.show_panel_borders = True\n",
    "    s.viewer_size = [1000, 1000]\n",
    "ss = neuroglancer.ScreenshotSaver(viewer, svdst)\n",
    "ss.capture(index=0) "
   ]
  },
  {
   "cell_type": "markdown",
   "metadata": {},
   "source": [
    "Return viewer state to normal:"
   ]
  },
  {
   "cell_type": "code",
   "execution_count": 18,
   "metadata": {},
   "outputs": [],
   "source": [
    "with viewer.config_state.txn() as s:\n",
    "    s.viewer_size = None"
   ]
  },
  {
   "cell_type": "markdown",
   "metadata": {},
   "source": [
    "Change the view layout to show the segmentation side by side with the image, rather than overlayed.  This can also be done from the UI by dragging and dropping.  The side by side views by default have synchronized position, orientation, and zoom level, but this can be changed."
   ]
  },
  {
   "cell_type": "code",
   "execution_count": null,
   "metadata": {},
   "outputs": [],
   "source": [
    "with viewer.txn() as s:\n",
    "    s.layout = neuroglancer.row_layout(\n",
    "        [neuroglancer.LayerGroupViewer(layers=['20161205_tp_bl6_lob45_1000r_01', 'overlay']),\n",
    "         neuroglancer.LayerGroupViewer(layers=['rawatlas'])])"
   ]
  },
  {
   "cell_type": "markdown",
   "metadata": {},
   "source": [
    "Remove the overlay layer."
   ]
  },
  {
   "cell_type": "code",
   "execution_count": null,
   "metadata": {},
   "outputs": [],
   "source": [
    "with viewer.txn() as s:\n",
    "    s.layout = neuroglancer.row_layout(\n",
    "        [neuroglancer.LayerGroupViewer(layers=['20161205_tp_bl6_lob45_1000r_01']),\n",
    "         neuroglancer.LayerGroupViewer(layers=['rawatlas'])])"
   ]
  }
 ],
 "metadata": {
  "kernelspec": {
   "display_name": "lspy35",
   "language": "python",
   "name": "lspy35"
  },
  "language_info": {
   "codemirror_mode": {
    "name": "ipython",
    "version": 3
   },
   "file_extension": ".py",
   "mimetype": "text/x-python",
   "name": "python",
   "nbconvert_exporter": "python",
   "pygments_lexer": "ipython3",
   "version": "3.7.3"
  }
 },
 "nbformat": 4,
 "nbformat_minor": 2
}
