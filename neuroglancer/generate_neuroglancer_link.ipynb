{
 "cells": [
  {
   "cell_type": "code",
   "execution_count": 13,
   "metadata": {},
   "outputs": [],
   "source": [
    "import neuroglancer\n",
    "import cloudvolume\n",
    "import pandas as pd, os"
   ]
  },
  {
   "cell_type": "markdown",
   "metadata": {},
   "source": [
    "## README\n",
    "This example assumes you have precomputed datasets already made and hosted with cloudvolume.\n",
    "To host the raw data in this example that I already converted to precomputed format, open an ipython terminal and do:\n",
    "```python\n",
    "import cloudvolume\n",
    "vol = cloudvolume.CloudVolume('file:///jukebox/scratch/zmd/contra_ipsi_projection_studies_20191125/20160822_tp_bl6_crii_1500r_06/647')\n",
    "vol.viewer(port=1337) # You can choose the port here, but remember it for later\n",
    "```\n",
    "The last command will cause the window to hang -- that is the expected behavior. Do not try to do this in this jupyter notebook as it will cause your session to hang and you won't be able to run any of the following steps."
   ]
  },
  {
   "cell_type": "markdown",
   "metadata": {},
   "source": [
    "## Set the neuroglancer client you want to use. \n",
    "Default is Seung lab's which should work fine for this example"
   ]
  },
  {
   "cell_type": "code",
   "execution_count": 14,
   "metadata": {},
   "outputs": [],
   "source": [
    "neuroglancer.set_static_content_source(url='https://neuromancer-seung-import.appspot.com')"
   ]
  },
  {
   "cell_type": "markdown",
   "metadata": {},
   "source": [
    "# Load in the raw data into neuroglancer and generate the link"
   ]
  },
  {
   "cell_type": "code",
   "execution_count": 15,
   "metadata": {},
   "outputs": [
    {
     "name": "stdout",
     "output_type": "stream",
     "text": [
      "http://127.0.0.1:35777/v/e76f7f374e23390f98af98ff0d2c250d3709be97/\n"
     ]
    }
   ],
   "source": [
    "# This volume handle can be used to notify the viewer that the data has changed.\n",
    "viewer = neuroglancer.Viewer()\n",
    "\n",
    "# Load in a segmentation layer (e.g. the raw-space allen atlas) that is being hosted with cloudvolume\n",
    "with viewer.txn() as s:\n",
    "    s.layers['20160822_tp_bl6_crii_1500r_06'] = neuroglancer.ImageLayer(source='precomputed://http://localhost:1337',\n",
    "    shader = '''\n",
    "    void main() {\n",
    "  float v = toNormalized(getDataValue(0)) * 100.0;\n",
    "  float w = 1.0 - v;\n",
    "  emitRGBA(vec4(w, w, w, v));\n",
    "}\n",
    "'''                                                 \n",
    "    )    \n",
    "#loading multiple brains in the same viewer    \n",
    "    s.layers['20161205_tp_bl6_lob45_1000r_01'] = neuroglancer.ImageLayer(source='precomputed://http://localhost:1339',\n",
    "    shader = '''\n",
    "    void main() {\n",
    "  float v = toNormalized(getDataValue(0)) * 40.0;\n",
    "  float w = 1.0 - v;\n",
    "  emitRGBA(vec4(w, w, w, v));\n",
    "}\n",
    "'''                                                 \n",
    "    )\n",
    "    s.layers['20170116_tp_bl6_lob6b_lpv_07'] = neuroglancer.ImageLayer(source='precomputed://http://localhost:1340',\n",
    "    shader = '''\n",
    "    void main() {\n",
    "  float v = toNormalized(getDataValue(0)) * 15.0;\n",
    "  float w = 1.0 - v;\n",
    "  emitRGBA(vec4(w, w, w, v));\n",
    "}\n",
    "'''                                                 \n",
    "    )\n",
    "    s.layers['20170207_db_bl6_crii_1300r_02'] = neuroglancer.ImageLayer(source='precomputed://http://localhost:1341',\n",
    "    shader = '''\n",
    "    void main() {\n",
    "  float v = toNormalized(getDataValue(0)) * 40.0;\n",
    "  float w = 1.0 - v;\n",
    "  emitRGBA(vec4(w, w, w, v));\n",
    "}\n",
    "'''                                                 \n",
    "    )\n",
    "    s.layers['20170411_db_bl6_crii_mid_53hr'] = neuroglancer.ImageLayer(source='precomputed://http://localhost:1342',\n",
    "    shader = '''\n",
    "    void main() {\n",
    "  float v = toNormalized(getDataValue(0)) * 60.0;\n",
    "  float w = 1.0 - v;\n",
    "  emitRGBA(vec4(w, w, w, v));\n",
    "}\n",
    "'''                                                 \n",
    "    )\n",
    "    s.layers['20170419_db_bl6_cri_rpv_53hr'] = neuroglancer.ImageLayer(source='precomputed://http://localhost:1343',\n",
    "    shader = '''\n",
    "    void main() {\n",
    "  float v = toNormalized(getDataValue(0)) * 40.0;\n",
    "  float w = 1.0 - v;\n",
    "  emitRGBA(vec4(w, w, w, v));\n",
    "}\n",
    "'''                                                 \n",
    "    )\n",
    "print(viewer) # Click the link that is generated to see your volume displayed in Neuroglancer"
   ]
  },
  {
   "cell_type": "markdown",
   "metadata": {},
   "source": [
    "## Host the raw-space allen atlas cloudvolume"
   ]
  },
  {
   "cell_type": "markdown",
   "metadata": {},
   "source": [
    "You will need to host this with cloudvolume as was done for the raw data above. Use a different port though, e.g.\n",
    "```python\n",
    "import cloudvolume\n",
    "vol = cloudvolume.CloudVolume('file:///jukebox/scratch/zmd/contra_ipsi_projection_studies_20191125/20160822_tp_bl6_crii_1500r_06/atlas')\n",
    "vol.viewer(port=1338) # must be a different port than the raw data\n",
    "```\n",
    "Again, make sure to do this outside of this jupyter notebook"
   ]
  },
  {
   "cell_type": "markdown",
   "metadata": {},
   "source": [
    "## Load in the atlas\n",
    "Load in a segmentation layer (e.g. the raw-space allen atlas) that is being hosted with cloudvolume using the same viewer object that you already made. If you go back to the neuroglancer window after running this it should be there in a new layer"
   ]
  },
  {
   "cell_type": "code",
   "execution_count": 4,
   "metadata": {},
   "outputs": [],
   "source": [
    "with viewer.txn() as s:\n",
    "    s.layers['rawatlas_20160822_tp_bl6_crii_1500r_06'] = neuroglancer.SegmentationLayer(source='precomputed://http://localhost:1344'\n",
    "    )\n",
    "    "
   ]
  },
  {
   "cell_type": "markdown",
   "metadata": {},
   "source": [
    "Use the look-up table to make a key binding to the Neuroglancer session."
   ]
  },
  {
   "cell_type": "code",
   "execution_count": 12,
   "metadata": {},
   "outputs": [
    {
     "name": "stderr",
     "output_type": "stream",
     "text": [
      "Traceback (most recent call last):\n",
      "  File \"/home/wanglab/anaconda2/envs/lspy35/lib/python3.7/site-packages/neuroglancer/viewer_config_state.py\", line 94, in invoke\n",
      "    handler(state)\n",
      "  File \"<ipython-input-11-45f64b408d13>\", line 22, in my_action3\n",
      "    region_id = s.selected_values['rawatlas']\n",
      "  File \"/home/wanglab/anaconda2/envs/lspy35/lib/python3.7/site-packages/neuroglancer/json_wrappers.py\", line 209, in __getitem__\n",
      "    raise KeyError\n",
      "KeyError\n",
      "Traceback (most recent call last):\n",
      "  File \"/home/wanglab/anaconda2/envs/lspy35/lib/python3.7/site-packages/neuroglancer/viewer_config_state.py\", line 94, in invoke\n",
      "    handler(state)\n",
      "  File \"<ipython-input-10-45f64b408d13>\", line 22, in my_action3\n",
      "    region_id = s.selected_values['rawatlas']\n",
      "  File \"/home/wanglab/anaconda2/envs/lspy35/lib/python3.7/site-packages/neuroglancer/json_wrappers.py\", line 209, in __getitem__\n",
      "    raise KeyError\n",
      "KeyError\n"
     ]
    },
    {
     "name": "stdout",
     "output_type": "stream",
     "text": [
      "Got my-action 2\n",
      "  Layer selected values: Map({\"20180322_jg_bl6f_prv_28\": 532, \"rawatlas_20180322_jg_bl6f_prv_28\": 1107})\n"
     ]
    },
    {
     "name": "stderr",
     "output_type": "stream",
     "text": [
      "Traceback (most recent call last):\n",
      "  File \"/home/wanglab/anaconda2/envs/lspy35/lib/python3.7/site-packages/neuroglancer/viewer_config_state.py\", line 94, in invoke\n",
      "    handler(state)\n",
      "  File \"<ipython-input-11-45f64b408d13>\", line 22, in my_action3\n",
      "    region_id = s.selected_values['rawatlas']\n",
      "  File \"/home/wanglab/anaconda2/envs/lspy35/lib/python3.7/site-packages/neuroglancer/json_wrappers.py\", line 209, in __getitem__\n",
      "    raise KeyError\n",
      "KeyError\n",
      "Traceback (most recent call last):\n",
      "  File \"/home/wanglab/anaconda2/envs/lspy35/lib/python3.7/site-packages/neuroglancer/viewer_config_state.py\", line 94, in invoke\n",
      "    handler(state)\n",
      "  File \"<ipython-input-10-45f64b408d13>\", line 22, in my_action3\n",
      "    region_id = s.selected_values['rawatlas']\n",
      "  File \"/home/wanglab/anaconda2/envs/lspy35/lib/python3.7/site-packages/neuroglancer/json_wrappers.py\", line 209, in __getitem__\n",
      "    raise KeyError\n",
      "KeyError\n"
     ]
    },
    {
     "name": "stdout",
     "output_type": "stream",
     "text": [
      "Got my-action 5\n",
      "  Layer selected values: Map({\"20180322_jg_bl6f_prv_28\": 578, \"rawatlas_20180322_jg_bl6f_prv_28\": 136})\n"
     ]
    },
    {
     "name": "stderr",
     "output_type": "stream",
     "text": [
      "Traceback (most recent call last):\n",
      "  File \"/home/wanglab/anaconda2/envs/lspy35/lib/python3.7/site-packages/neuroglancer/viewer_config_state.py\", line 94, in invoke\n",
      "    handler(state)\n",
      "  File \"<ipython-input-11-45f64b408d13>\", line 22, in my_action3\n",
      "    region_id = s.selected_values['rawatlas']\n",
      "  File \"/home/wanglab/anaconda2/envs/lspy35/lib/python3.7/site-packages/neuroglancer/json_wrappers.py\", line 209, in __getitem__\n",
      "    raise KeyError\n",
      "KeyError\n",
      "Traceback (most recent call last):\n",
      "  File \"/home/wanglab/anaconda2/envs/lspy35/lib/python3.7/site-packages/neuroglancer/viewer_config_state.py\", line 94, in invoke\n",
      "    handler(state)\n",
      "  File \"<ipython-input-10-45f64b408d13>\", line 22, in my_action3\n",
      "    region_id = s.selected_values['rawatlas']\n",
      "  File \"/home/wanglab/anaconda2/envs/lspy35/lib/python3.7/site-packages/neuroglancer/json_wrappers.py\", line 209, in __getitem__\n",
      "    raise KeyError\n",
      "KeyError\n"
     ]
    },
    {
     "name": "stdout",
     "output_type": "stream",
     "text": [
      "Got my-action 8\n",
      "  Layer selected values: Map({\"20180322_jg_bl6f_prv_28\": 551, \"rawatlas_20180322_jg_bl6f_prv_28\": 1098})\n"
     ]
    },
    {
     "name": "stderr",
     "output_type": "stream",
     "text": [
      "Traceback (most recent call last):\n",
      "  File \"/home/wanglab/anaconda2/envs/lspy35/lib/python3.7/site-packages/neuroglancer/viewer_config_state.py\", line 94, in invoke\n",
      "    handler(state)\n",
      "  File \"<ipython-input-11-45f64b408d13>\", line 22, in my_action3\n",
      "    region_id = s.selected_values['rawatlas']\n",
      "  File \"/home/wanglab/anaconda2/envs/lspy35/lib/python3.7/site-packages/neuroglancer/json_wrappers.py\", line 209, in __getitem__\n",
      "    raise KeyError\n",
      "KeyError\n",
      "Traceback (most recent call last):\n",
      "  File \"/home/wanglab/anaconda2/envs/lspy35/lib/python3.7/site-packages/neuroglancer/viewer_config_state.py\", line 94, in invoke\n",
      "    handler(state)\n",
      "  File \"<ipython-input-10-45f64b408d13>\", line 22, in my_action3\n",
      "    region_id = s.selected_values['rawatlas']\n",
      "  File \"/home/wanglab/anaconda2/envs/lspy35/lib/python3.7/site-packages/neuroglancer/json_wrappers.py\", line 209, in __getitem__\n",
      "    raise KeyError\n",
      "KeyError\n"
     ]
    },
    {
     "name": "stdout",
     "output_type": "stream",
     "text": [
      "Got my-action 11\n",
      "  Layer selected values: Map({\"20180322_jg_bl6f_prv_28\": 973, \"rawatlas_20180322_jg_bl6f_prv_28\": 978})\n"
     ]
    },
    {
     "name": "stderr",
     "output_type": "stream",
     "text": [
      "Traceback (most recent call last):\n",
      "  File \"/home/wanglab/anaconda2/envs/lspy35/lib/python3.7/site-packages/neuroglancer/viewer_config_state.py\", line 94, in invoke\n",
      "    handler(state)\n",
      "  File \"<ipython-input-11-45f64b408d13>\", line 22, in my_action3\n",
      "    region_id = s.selected_values['rawatlas']\n",
      "  File \"/home/wanglab/anaconda2/envs/lspy35/lib/python3.7/site-packages/neuroglancer/json_wrappers.py\", line 209, in __getitem__\n",
      "    raise KeyError\n",
      "KeyError\n",
      "Traceback (most recent call last):\n",
      "  File \"/home/wanglab/anaconda2/envs/lspy35/lib/python3.7/site-packages/neuroglancer/viewer_config_state.py\", line 94, in invoke\n",
      "    handler(state)\n",
      "  File \"<ipython-input-10-45f64b408d13>\", line 22, in my_action3\n",
      "    region_id = s.selected_values['rawatlas']\n",
      "  File \"/home/wanglab/anaconda2/envs/lspy35/lib/python3.7/site-packages/neuroglancer/json_wrappers.py\", line 209, in __getitem__\n",
      "    raise KeyError\n",
      "KeyError\n"
     ]
    },
    {
     "name": "stdout",
     "output_type": "stream",
     "text": [
      "Got my-action 14\n",
      "  Layer selected values: Map({\"20180322_jg_bl6f_prv_28\": 867, \"rawatlas_20180322_jg_bl6f_prv_28\": 955})\n"
     ]
    },
    {
     "name": "stderr",
     "output_type": "stream",
     "text": [
      "Traceback (most recent call last):\n",
      "  File \"/home/wanglab/anaconda2/envs/lspy35/lib/python3.7/site-packages/neuroglancer/viewer_config_state.py\", line 94, in invoke\n",
      "    handler(state)\n",
      "  File \"<ipython-input-11-45f64b408d13>\", line 22, in my_action3\n",
      "    region_id = s.selected_values['rawatlas']\n",
      "  File \"/home/wanglab/anaconda2/envs/lspy35/lib/python3.7/site-packages/neuroglancer/json_wrappers.py\", line 209, in __getitem__\n",
      "    raise KeyError\n",
      "KeyError\n",
      "Traceback (most recent call last):\n",
      "  File \"/home/wanglab/anaconda2/envs/lspy35/lib/python3.7/site-packages/neuroglancer/viewer_config_state.py\", line 94, in invoke\n",
      "    handler(state)\n",
      "  File \"<ipython-input-10-45f64b408d13>\", line 22, in my_action3\n",
      "    region_id = s.selected_values['rawatlas']\n",
      "  File \"/home/wanglab/anaconda2/envs/lspy35/lib/python3.7/site-packages/neuroglancer/json_wrappers.py\", line 209, in __getitem__\n",
      "    raise KeyError\n",
      "KeyError\n"
     ]
    },
    {
     "name": "stdout",
     "output_type": "stream",
     "text": [
      "Got my-action 17\n",
      "  Layer selected values: Map({\"20180322_jg_bl6f_prv_28\": 755, \"rawatlas_20180322_jg_bl6f_prv_28\": 1107})\n"
     ]
    },
    {
     "name": "stderr",
     "output_type": "stream",
     "text": [
      "Traceback (most recent call last):\n",
      "  File \"/home/wanglab/anaconda2/envs/lspy35/lib/python3.7/site-packages/neuroglancer/viewer_config_state.py\", line 94, in invoke\n",
      "    handler(state)\n",
      "  File \"<ipython-input-11-45f64b408d13>\", line 22, in my_action3\n",
      "    region_id = s.selected_values['rawatlas']\n",
      "  File \"/home/wanglab/anaconda2/envs/lspy35/lib/python3.7/site-packages/neuroglancer/json_wrappers.py\", line 209, in __getitem__\n",
      "    raise KeyError\n",
      "KeyError\n",
      "Traceback (most recent call last):\n",
      "  File \"/home/wanglab/anaconda2/envs/lspy35/lib/python3.7/site-packages/neuroglancer/viewer_config_state.py\", line 94, in invoke\n",
      "    handler(state)\n",
      "  File \"<ipython-input-10-45f64b408d13>\", line 22, in my_action3\n",
      "    region_id = s.selected_values['rawatlas']\n",
      "  File \"/home/wanglab/anaconda2/envs/lspy35/lib/python3.7/site-packages/neuroglancer/json_wrappers.py\", line 209, in __getitem__\n",
      "    raise KeyError\n",
      "KeyError\n"
     ]
    },
    {
     "name": "stdout",
     "output_type": "stream",
     "text": [
      "Got my-action 20\n",
      "  Layer selected values: Map({\"20180322_jg_bl6f_prv_28\": 1090, \"rawatlas_20180322_jg_bl6f_prv_28\": 190})\n"
     ]
    },
    {
     "name": "stderr",
     "output_type": "stream",
     "text": [
      "Traceback (most recent call last):\n",
      "  File \"/home/wanglab/anaconda2/envs/lspy35/lib/python3.7/site-packages/neuroglancer/viewer_config_state.py\", line 94, in invoke\n",
      "    handler(state)\n",
      "  File \"<ipython-input-11-45f64b408d13>\", line 22, in my_action3\n",
      "    region_id = s.selected_values['rawatlas']\n",
      "  File \"/home/wanglab/anaconda2/envs/lspy35/lib/python3.7/site-packages/neuroglancer/json_wrappers.py\", line 209, in __getitem__\n",
      "    raise KeyError\n",
      "KeyError\n",
      "Traceback (most recent call last):\n",
      "  File \"/home/wanglab/anaconda2/envs/lspy35/lib/python3.7/site-packages/neuroglancer/viewer_config_state.py\", line 94, in invoke\n",
      "    handler(state)\n",
      "  File \"<ipython-input-10-45f64b408d13>\", line 22, in my_action3\n",
      "    region_id = s.selected_values['rawatlas']\n",
      "  File \"/home/wanglab/anaconda2/envs/lspy35/lib/python3.7/site-packages/neuroglancer/json_wrappers.py\", line 209, in __getitem__\n",
      "    raise KeyError\n",
      "KeyError\n"
     ]
    },
    {
     "name": "stdout",
     "output_type": "stream",
     "text": [
      "Got my-action 23\n",
      "  Layer selected values: Map({\"20180322_jg_bl6f_prv_28\": 1083, \"rawatlas_20180322_jg_bl6f_prv_28\": 955})\n"
     ]
    },
    {
     "name": "stderr",
     "output_type": "stream",
     "text": [
      "Traceback (most recent call last):\n",
      "  File \"/home/wanglab/anaconda2/envs/lspy35/lib/python3.7/site-packages/neuroglancer/viewer_config_state.py\", line 94, in invoke\n",
      "    handler(state)\n",
      "  File \"<ipython-input-11-45f64b408d13>\", line 22, in my_action3\n",
      "    region_id = s.selected_values['rawatlas']\n",
      "  File \"/home/wanglab/anaconda2/envs/lspy35/lib/python3.7/site-packages/neuroglancer/json_wrappers.py\", line 209, in __getitem__\n",
      "    raise KeyError\n",
      "KeyError\n",
      "Traceback (most recent call last):\n",
      "  File \"/home/wanglab/anaconda2/envs/lspy35/lib/python3.7/site-packages/neuroglancer/viewer_config_state.py\", line 94, in invoke\n",
      "    handler(state)\n",
      "  File \"<ipython-input-10-45f64b408d13>\", line 22, in my_action3\n",
      "    region_id = s.selected_values['rawatlas']\n",
      "  File \"/home/wanglab/anaconda2/envs/lspy35/lib/python3.7/site-packages/neuroglancer/json_wrappers.py\", line 209, in __getitem__\n",
      "    raise KeyError\n",
      "KeyError\n"
     ]
    },
    {
     "name": "stdout",
     "output_type": "stream",
     "text": [
      "Got my-action 26\n",
      "  Layer selected values: Map({\"20180322_jg_bl6f_prv_28\": 716, \"rawatlas_20180322_jg_bl6f_prv_28\": 852})\n"
     ]
    },
    {
     "name": "stderr",
     "output_type": "stream",
     "text": [
      "Traceback (most recent call last):\n",
      "  File \"/home/wanglab/anaconda2/envs/lspy35/lib/python3.7/site-packages/neuroglancer/viewer_config_state.py\", line 94, in invoke\n",
      "    handler(state)\n",
      "  File \"<ipython-input-11-45f64b408d13>\", line 22, in my_action3\n",
      "    region_id = s.selected_values['rawatlas']\n",
      "  File \"/home/wanglab/anaconda2/envs/lspy35/lib/python3.7/site-packages/neuroglancer/json_wrappers.py\", line 209, in __getitem__\n",
      "    raise KeyError\n",
      "KeyError\n",
      "Traceback (most recent call last):\n",
      "  File \"/home/wanglab/anaconda2/envs/lspy35/lib/python3.7/site-packages/neuroglancer/viewer_config_state.py\", line 94, in invoke\n",
      "    handler(state)\n",
      "  File \"<ipython-input-10-45f64b408d13>\", line 22, in my_action3\n",
      "    region_id = s.selected_values['rawatlas']\n",
      "  File \"/home/wanglab/anaconda2/envs/lspy35/lib/python3.7/site-packages/neuroglancer/json_wrappers.py\", line 209, in __getitem__\n",
      "    raise KeyError\n",
      "KeyError\n"
     ]
    },
    {
     "name": "stdout",
     "output_type": "stream",
     "text": [
      "Got my-action 29\n",
      "  Layer selected values: Map({\"20180322_jg_bl6f_prv_28\": 596, \"rawatlas_20180322_jg_bl6f_prv_28\": 763})\n"
     ]
    },
    {
     "name": "stderr",
     "output_type": "stream",
     "text": [
      "Traceback (most recent call last):\n",
      "  File \"/home/wanglab/anaconda2/envs/lspy35/lib/python3.7/site-packages/neuroglancer/viewer_config_state.py\", line 94, in invoke\n",
      "    handler(state)\n",
      "  File \"<ipython-input-11-45f64b408d13>\", line 22, in my_action3\n",
      "    region_id = s.selected_values['rawatlas']\n",
      "  File \"/home/wanglab/anaconda2/envs/lspy35/lib/python3.7/site-packages/neuroglancer/json_wrappers.py\", line 209, in __getitem__\n",
      "    raise KeyError\n",
      "KeyError\n",
      "Traceback (most recent call last):\n",
      "  File \"/home/wanglab/anaconda2/envs/lspy35/lib/python3.7/site-packages/neuroglancer/viewer_config_state.py\", line 94, in invoke\n",
      "    handler(state)\n",
      "  File \"<ipython-input-10-45f64b408d13>\", line 22, in my_action3\n",
      "    region_id = s.selected_values['rawatlas']\n",
      "  File \"/home/wanglab/anaconda2/envs/lspy35/lib/python3.7/site-packages/neuroglancer/json_wrappers.py\", line 209, in __getitem__\n",
      "    raise KeyError\n",
      "KeyError\n"
     ]
    },
    {
     "name": "stdout",
     "output_type": "stream",
     "text": [
      "Got my-action 32\n",
      "  Layer selected values: Map({\"20180322_jg_bl6f_prv_28\": 588, \"rawatlas_20180322_jg_bl6f_prv_28\": 967})\n"
     ]
    },
    {
     "name": "stderr",
     "output_type": "stream",
     "text": [
      "Traceback (most recent call last):\n",
      "  File \"/home/wanglab/anaconda2/envs/lspy35/lib/python3.7/site-packages/neuroglancer/viewer_config_state.py\", line 94, in invoke\n",
      "    handler(state)\n",
      "  File \"<ipython-input-11-45f64b408d13>\", line 22, in my_action3\n",
      "    region_id = s.selected_values['rawatlas']\n",
      "  File \"/home/wanglab/anaconda2/envs/lspy35/lib/python3.7/site-packages/neuroglancer/json_wrappers.py\", line 209, in __getitem__\n",
      "    raise KeyError\n",
      "KeyError\n",
      "Traceback (most recent call last):\n",
      "  File \"/home/wanglab/anaconda2/envs/lspy35/lib/python3.7/site-packages/neuroglancer/viewer_config_state.py\", line 94, in invoke\n",
      "    handler(state)\n",
      "  File \"<ipython-input-10-45f64b408d13>\", line 22, in my_action3\n",
      "    region_id = s.selected_values['rawatlas']\n",
      "  File \"/home/wanglab/anaconda2/envs/lspy35/lib/python3.7/site-packages/neuroglancer/json_wrappers.py\", line 209, in __getitem__\n",
      "    raise KeyError\n",
      "KeyError\n"
     ]
    },
    {
     "name": "stdout",
     "output_type": "stream",
     "text": [
      "Got my-action 35\n",
      "  Layer selected values: Map({\"20180322_jg_bl6f_prv_28\": 589, \"rawatlas_20180322_jg_bl6f_prv_28\": 1098})\n"
     ]
    },
    {
     "name": "stderr",
     "output_type": "stream",
     "text": [
      "Traceback (most recent call last):\n",
      "  File \"/home/wanglab/anaconda2/envs/lspy35/lib/python3.7/site-packages/neuroglancer/viewer_config_state.py\", line 94, in invoke\n",
      "    handler(state)\n",
      "  File \"<ipython-input-11-45f64b408d13>\", line 22, in my_action3\n",
      "    region_id = s.selected_values['rawatlas']\n",
      "  File \"/home/wanglab/anaconda2/envs/lspy35/lib/python3.7/site-packages/neuroglancer/json_wrappers.py\", line 209, in __getitem__\n",
      "    raise KeyError\n",
      "KeyError\n",
      "Traceback (most recent call last):\n",
      "  File \"/home/wanglab/anaconda2/envs/lspy35/lib/python3.7/site-packages/neuroglancer/viewer_config_state.py\", line 94, in invoke\n",
      "    handler(state)\n",
      "  File \"<ipython-input-10-45f64b408d13>\", line 22, in my_action3\n",
      "    region_id = s.selected_values['rawatlas']\n",
      "  File \"/home/wanglab/anaconda2/envs/lspy35/lib/python3.7/site-packages/neuroglancer/json_wrappers.py\", line 209, in __getitem__\n",
      "    raise KeyError\n",
      "KeyError\n"
     ]
    },
    {
     "name": "stdout",
     "output_type": "stream",
     "text": [
      "Got my-action 38\n",
      "  Layer selected values: Map({\"20180322_jg_bl6f_prv_28\": 767, \"rawatlas_20180322_jg_bl6f_prv_28\": 429})\n"
     ]
    },
    {
     "name": "stderr",
     "output_type": "stream",
     "text": [
      "Traceback (most recent call last):\n",
      "  File \"/home/wanglab/anaconda2/envs/lspy35/lib/python3.7/site-packages/neuroglancer/viewer_config_state.py\", line 94, in invoke\n",
      "    handler(state)\n",
      "  File \"<ipython-input-11-45f64b408d13>\", line 22, in my_action3\n",
      "    region_id = s.selected_values['rawatlas']\n",
      "  File \"/home/wanglab/anaconda2/envs/lspy35/lib/python3.7/site-packages/neuroglancer/json_wrappers.py\", line 209, in __getitem__\n",
      "    raise KeyError\n",
      "KeyError\n",
      "Traceback (most recent call last):\n",
      "  File \"/home/wanglab/anaconda2/envs/lspy35/lib/python3.7/site-packages/neuroglancer/viewer_config_state.py\", line 94, in invoke\n",
      "    handler(state)\n",
      "  File \"<ipython-input-10-45f64b408d13>\", line 22, in my_action3\n",
      "    region_id = s.selected_values['rawatlas']\n",
      "  File \"/home/wanglab/anaconda2/envs/lspy35/lib/python3.7/site-packages/neuroglancer/json_wrappers.py\", line 209, in __getitem__\n",
      "    raise KeyError\n",
      "KeyError\n"
     ]
    },
    {
     "name": "stdout",
     "output_type": "stream",
     "text": [
      "Got my-action 41\n",
      "  Layer selected values: Map({\"20180322_jg_bl6f_prv_28\": 532, \"rawatlas_20180322_jg_bl6f_prv_28\": 136})\n"
     ]
    },
    {
     "name": "stderr",
     "output_type": "stream",
     "text": [
      "Traceback (most recent call last):\n",
      "  File \"/home/wanglab/anaconda2/envs/lspy35/lib/python3.7/site-packages/neuroglancer/viewer_config_state.py\", line 94, in invoke\n",
      "    handler(state)\n",
      "  File \"<ipython-input-11-45f64b408d13>\", line 22, in my_action3\n",
      "    region_id = s.selected_values['rawatlas']\n",
      "  File \"/home/wanglab/anaconda2/envs/lspy35/lib/python3.7/site-packages/neuroglancer/json_wrappers.py\", line 209, in __getitem__\n",
      "    raise KeyError\n",
      "KeyError\n",
      "Traceback (most recent call last):\n",
      "  File \"/home/wanglab/anaconda2/envs/lspy35/lib/python3.7/site-packages/neuroglancer/viewer_config_state.py\", line 94, in invoke\n",
      "    handler(state)\n",
      "  File \"<ipython-input-10-45f64b408d13>\", line 22, in my_action3\n",
      "    region_id = s.selected_values['rawatlas']\n",
      "  File \"/home/wanglab/anaconda2/envs/lspy35/lib/python3.7/site-packages/neuroglancer/json_wrappers.py\", line 209, in __getitem__\n",
      "    raise KeyError\n",
      "KeyError\n"
     ]
    },
    {
     "name": "stdout",
     "output_type": "stream",
     "text": [
      "Got my-action 44\n",
      "  Layer selected values: Map({\"20180322_jg_bl6f_prv_28\": 546, \"rawatlas_20180322_jg_bl6f_prv_28\": 1107})\n"
     ]
    },
    {
     "name": "stderr",
     "output_type": "stream",
     "text": [
      "Traceback (most recent call last):\n",
      "  File \"/home/wanglab/anaconda2/envs/lspy35/lib/python3.7/site-packages/neuroglancer/viewer_config_state.py\", line 94, in invoke\n",
      "    handler(state)\n",
      "  File \"<ipython-input-11-45f64b408d13>\", line 22, in my_action3\n",
      "    region_id = s.selected_values['rawatlas']\n",
      "  File \"/home/wanglab/anaconda2/envs/lspy35/lib/python3.7/site-packages/neuroglancer/json_wrappers.py\", line 209, in __getitem__\n",
      "    raise KeyError\n",
      "KeyError\n",
      "Traceback (most recent call last):\n",
      "  File \"/home/wanglab/anaconda2/envs/lspy35/lib/python3.7/site-packages/neuroglancer/viewer_config_state.py\", line 94, in invoke\n",
      "    handler(state)\n",
      "  File \"<ipython-input-10-45f64b408d13>\", line 22, in my_action3\n",
      "    region_id = s.selected_values['rawatlas']\n",
      "  File \"/home/wanglab/anaconda2/envs/lspy35/lib/python3.7/site-packages/neuroglancer/json_wrappers.py\", line 209, in __getitem__\n",
      "    raise KeyError\n",
      "KeyError\n"
     ]
    },
    {
     "name": "stdout",
     "output_type": "stream",
     "text": [
      "Got my-action 47\n",
      "  Layer selected values: Map({\"20180322_jg_bl6f_prv_28\": 553, \"rawatlas_20180322_jg_bl6f_prv_28\": 1048})\n"
     ]
    },
    {
     "name": "stderr",
     "output_type": "stream",
     "text": [
      "Traceback (most recent call last):\n",
      "  File \"/home/wanglab/anaconda2/envs/lspy35/lib/python3.7/site-packages/neuroglancer/viewer_config_state.py\", line 94, in invoke\n",
      "    handler(state)\n",
      "  File \"<ipython-input-11-45f64b408d13>\", line 22, in my_action3\n",
      "    region_id = s.selected_values['rawatlas']\n",
      "  File \"/home/wanglab/anaconda2/envs/lspy35/lib/python3.7/site-packages/neuroglancer/json_wrappers.py\", line 209, in __getitem__\n",
      "    raise KeyError\n",
      "KeyError\n",
      "Traceback (most recent call last):\n",
      "  File \"/home/wanglab/anaconda2/envs/lspy35/lib/python3.7/site-packages/neuroglancer/viewer_config_state.py\", line 94, in invoke\n",
      "    handler(state)\n",
      "  File \"<ipython-input-10-45f64b408d13>\", line 22, in my_action3\n",
      "    region_id = s.selected_values['rawatlas']\n",
      "  File \"/home/wanglab/anaconda2/envs/lspy35/lib/python3.7/site-packages/neuroglancer/json_wrappers.py\", line 209, in __getitem__\n",
      "    raise KeyError\n",
      "KeyError\n"
     ]
    },
    {
     "name": "stdout",
     "output_type": "stream",
     "text": [
      "Got my-action 50\n",
      "  Layer selected values: Map({\"20180322_jg_bl6f_prv_28\": 754, \"rawatlas_20180322_jg_bl6f_prv_28\": 307})\n"
     ]
    }
   ],
   "source": [
    "# First you need to create a dictionary mapping the atlas id to the region name. \n",
    "# Here's my example\n",
    "\n",
    "csv_file = '/jukebox/LightSheetTransfer/atlas/ls_id_table_w_voxelcounts_16bit.xlsx'\n",
    "\n",
    "df = pd.read_excel(csv_file)\n",
    "\n",
    "atlas_df = df.copy()\n",
    "\n",
    "atlas_dict = {}\n",
    "for ind, row in atlas_df.iterrows():\n",
    "    atlas_dict[int(row['id'])] = row['name']\n",
    "    \n",
    "# Here is the actual code for making the key binding. Copy and paste this\n",
    "# into your jupyter notebook where you have already made the viewer() object\n",
    "\n",
    "num_actions = 0\n",
    "def my_action3(s):\n",
    "    global num_actions\n",
    "    num_actions += 1\n",
    "    with viewer.config_state.txn() as st:\n",
    "        region_id = s.selected_values['rawatlas_20180322_jg_bl6f_prv_28']\n",
    "        region_name = atlas_dict.get(region_id)\n",
    "        st.status_messages['hello'] = ('%i:%s' %\n",
    "                                    (region_id, region_name))\n",
    "\n",
    "    print('Got my-action %i' % num_actions)\n",
    "#     print('  Mouse position: %s' % (s.mouse_voxel_coordinates,))\n",
    "    print('  Layer selected values: %s' % (s.selected_values,))\n",
    "viewer.actions.add('my-action3', my_action3)\n",
    "\n",
    "with viewer.config_state.txn() as s:\n",
    "    s.input_event_bindings.viewer['keyp'] = 'my-action3'\n",
    "    s.status_messages['hello'] = 'Welcome to the segment labeling example. Press \"p\" to see region name under cursor.'"
   ]
  },
  {
   "cell_type": "markdown",
   "metadata": {},
   "source": [
    "## Load cells (optional) "
   ]
  },
  {
   "cell_type": "markdown",
   "metadata": {},
   "source": [
    "Load the cells cloud volume in the same viewer as an additional layer"
   ]
  },
  {
   "cell_type": "markdown",
   "metadata": {},
   "source": [
    "You will need to host this with cloudvolume as was done for the raw data above. Use a different port though, e.g.\n",
    "```python\n",
    "import cloudvolume\n",
    "vol = cloudvolume.CloudVolume('file:///home/wanglab/Documents/neuroglancer/20170115_tp_bl6_lob6b_ml_04/cells')\n",
    "vol.viewer(port=1339) # must be a different port than the raw data\n",
    "```\n",
    "Again, make sure to do this outside of this jupyter notebook"
   ]
  },
  {
   "cell_type": "code",
   "execution_count": 29,
   "metadata": {},
   "outputs": [
    {
     "name": "stdout",
     "output_type": "stream",
     "text": [
      "Got my-action 276\n",
      "  Layer selected values: Map({\"20170115_tp_bl6_lob6b_ml_04\": 3665, \"rawatlas\": 733, \"cells\": 0})\n",
      "Got my-action 277\n",
      "  Layer selected values: Map({\"20170115_tp_bl6_lob6b_ml_04\": 3460, \"rawatlas\": 1020, \"cells\": 0})\n",
      "Got my-action 278\n",
      "  Layer selected values: Map({\"20170115_tp_bl6_lob6b_ml_04\": 5529, \"rawatlas\": 262, \"cells\": 0})\n",
      "Got my-action 279\n",
      "  Layer selected values: Map({\"20170115_tp_bl6_lob6b_ml_04\": 1657, \"rawatlas\": 6, \"cells\": 0})\n",
      "Got my-action 280\n",
      "  Layer selected values: Map({\"20170115_tp_bl6_lob6b_ml_04\": 406, \"rawatlas\": 301, \"cells\": 0})\n",
      "Got my-action 281\n",
      "  Layer selected values: Map({\"20170115_tp_bl6_lob6b_ml_04\": 849, \"rawatlas\": 733, \"cells\": 0})\n",
      "Got my-action 282\n",
      "  Layer selected values: Map({\"20170115_tp_bl6_lob6b_ml_04\": 333, \"rawatlas\": 718, \"cells\": 0})\n"
     ]
    }
   ],
   "source": [
    "with viewer.txn() as s:\n",
    "    s.layers['cells'] = neuroglancer.SegmentationLayer(source='precomputed://http://localhost:1339',\n",
    "    )"
   ]
  },
  {
   "cell_type": "markdown",
   "metadata": {},
   "source": [
    "## Take screenshots (optional)"
   ]
  },
  {
   "cell_type": "markdown",
   "metadata": {},
   "source": [
    "Adjust the viewer and take a screenshot. Good for videos!"
   ]
  },
  {
   "cell_type": "code",
   "execution_count": 18,
   "metadata": {},
   "outputs": [],
   "source": [
    "svdst = '/jukebox/wang/zahra/neuroglancer/screenshots/20170115_tp_bl6_lob6b_ml_04/frontal_areas'\n",
    "#make sure these directories exist\n",
    "if not os.path.exists(os.path.dirname(svdst)): os.mkdir(os.path.dirname(svdst)) #brain directory\n",
    "if not os.path.exists(svdst): os.mkdir(svdst) #structure directory\n",
    "for i in range(180, 530):\n",
    "    with viewer.config_state.txn() as s:\n",
    "        s.show_ui_controls = False\n",
    "        s.show_panel_borders = False\n",
    "    with viewer.txn() as s:\n",
    "        s.voxel_coordinates = [3081, 1314,i]\n",
    "#    with viewer.config_state.txn() as s:\n",
    "#        s.viewer_size = [1000,1000]\n",
    "    ss = neuroglancer.ScreenshotSaver(viewer, svdst)\n",
    "    ss.capture(index=i)   "
   ]
  },
  {
   "cell_type": "markdown",
   "metadata": {},
   "source": [
    "Alternatively, can also take a single view screenshot of the current view."
   ]
  },
  {
   "cell_type": "code",
   "execution_count": 10,
   "metadata": {},
   "outputs": [
    {
     "data": {
      "text/plain": [
       "(0,\n",
       " '/jukebox/wang/zahra/neuroglancer/screenshots/20170115_tp_bl6_lob6b_ml_04/frontal_areas/0000000.png')"
      ]
     },
     "execution_count": 10,
     "metadata": {},
     "output_type": "execute_result"
    }
   ],
   "source": [
    "svdst = '/jukebox/wang/zahra/neuroglancer/screenshots/20170115_tp_bl6_lob6b_ml_04/frontal_areas'\n",
    "if not os.path.exists(svdst): os.mkdir(svdst)\n",
    "with viewer.config_state.txn() as s:\n",
    "    s.show_ui_controls = False\n",
    "    s.show_panel_borders = False\n",
    "    s.viewer_size = [1000, 1000]\n",
    "ss = neuroglancer.ScreenshotSaver(viewer, svdst)\n",
    "ss.capture(index=0) "
   ]
  },
  {
   "cell_type": "markdown",
   "metadata": {},
   "source": [
    "Return viewer state to normal:"
   ]
  },
  {
   "cell_type": "code",
   "execution_count": 23,
   "metadata": {},
   "outputs": [],
   "source": [
    "with viewer.config_state.txn() as s:\n",
    "    s.show_ui_controls = True\n",
    "    s.show_panel_borders = True\n",
    "    s.viewer_size = None"
   ]
  },
  {
   "cell_type": "markdown",
   "metadata": {},
   "source": [
    "Change the view layout to show the segmentation side by side with the image, rather than overlayed.  This can also be done from the UI by dragging and dropping.  The side by side views by default have synchronized position, orientation, and zoom level, but this can be changed."
   ]
  },
  {
   "cell_type": "code",
   "execution_count": 69,
   "metadata": {},
   "outputs": [],
   "source": [
    "with viewer.txn() as s:\n",
    "    s.layout = neuroglancer.row_layout(\n",
    "        [neuroglancer.LayerGroupViewer(layers=['20160822_tp_bl6_crii_1500r_06', 'overlay']),\n",
    "         neuroglancer.LayerGroupViewer(layers=['rawatlas_20160822_tp_bl6_crii_1500r_06'])])"
   ]
  },
  {
   "cell_type": "markdown",
   "metadata": {},
   "source": [
    "Remove the overlay layer."
   ]
  },
  {
   "cell_type": "code",
   "execution_count": 17,
   "metadata": {},
   "outputs": [],
   "source": [
    "with viewer.txn() as s:\n",
    "    s.layout = neuroglancer.row_layout(\n",
    "        [neuroglancer.LayerGroupViewer(layers=['20160822_tp_bl6_crii_1500r_06']),\n",
    "         neuroglancer.LayerGroupViewer(layers=['20170207_db_bl6_crii_1300r_02']),\n",
    "        #neuroglancer.LayerGroupViewer(layers=['20161205_tp_bl6_lob45_1000r_01']),\n",
    "        neuroglancer.LayerGroupViewer(layers=['20170411_db_bl6_crii_mid_53hr']),\n",
    "        neuroglancer.LayerGroupViewer(layers=['20170419_db_bl6_cri_rpv_53hr']),\n",
    "        neuroglancer.LayerGroupViewer(layers=['20170116_tp_bl6_lob6b_lpv_07']),])"
   ]
  }
 ],
 "metadata": {
  "kernelspec": {
   "display_name": "lspy35",
   "language": "python",
   "name": "lspy35"
  },
  "language_info": {
   "codemirror_mode": {
    "name": "ipython",
    "version": 3
   },
   "file_extension": ".py",
   "mimetype": "text/x-python",
   "name": "python",
   "nbconvert_exporter": "python",
   "pygments_lexer": "ipython3",
   "version": "3.7.3"
  }
 },
 "nbformat": 4,
 "nbformat_minor": 2
}
