{
 "cells": [
  {
   "cell_type": "code",
   "execution_count": 82,
   "metadata": {},
   "outputs": [],
   "source": [
    "# from scipy.ndimage.morphology import distance_transform_edt\n",
    "import numpy as np\n",
    "import tifffile\n",
    "import matplotlib.pyplot as plt\n",
    "from cloudvolume import CloudVolume\n",
    "import edt\n",
    "import struct\n",
    "%matplotlib inline"
   ]
  },
  {
   "cell_type": "markdown",
   "metadata": {},
   "source": [
    "## Demo of Seung lab's (thread-)parallelized edt function\n",
    "I don't think it uses multiple cores, but it is at least 10x faster than scipy's distance_transform_edt() function and it can be used for multiple labels, see: https://github.com/seung-lab/euclidean-distance-transform-3d"
   ]
  },
  {
   "cell_type": "code",
   "execution_count": 2,
   "metadata": {},
   "outputs": [],
   "source": [
    "labels = np.ones(shape=(687, 2560, 2160), dtype=np.uint8, order='F')"
   ]
  },
  {
   "cell_type": "code",
   "execution_count": 3,
   "metadata": {},
   "outputs": [
    {
     "name": "stdout",
     "output_type": "stream",
     "text": [
      "CPU times: user 4min 53s, sys: 12.4 s, total: 5min 5s\n",
      "Wall time: 1min 17s\n"
     ]
    }
   ],
   "source": [
    "%%time\n",
    "dt = edt.edt(\n",
    "  labels, anisotropy=(6, 6, 30), \n",
    "  black_border=True, order='F',\n",
    "  parallel=4 # number of threads, <= 0 sets to num cpu\n",
    ") "
   ]
  },
  {
   "cell_type": "code",
   "execution_count": 4,
   "metadata": {},
   "outputs": [
    {
     "name": "stdout",
     "output_type": "stream",
     "text": [
      "CPU times: user 6min 14s, sys: 33.2 s, total: 6min 48s\n",
      "Wall time: 59.3 s\n"
     ]
    }
   ],
   "source": [
    "%%time\n",
    "dt = edt.edt(\n",
    "  labels, anisotropy=(6, 6, 30), \n",
    "  black_border=True, order='F',\n",
    "  parallel=8 # number of threads, <= 0 sets to num cpu\n",
    ") "
   ]
  },
  {
   "cell_type": "code",
   "execution_count": 5,
   "metadata": {},
   "outputs": [
    {
     "name": "stdout",
     "output_type": "stream",
     "text": [
      "CPU times: user 4min 13s, sys: 8.9 s, total: 4min 22s\n",
      "Wall time: 2min 11s\n"
     ]
    }
   ],
   "source": [
    "%%time\n",
    "dt = edt.edt(\n",
    "  labels, anisotropy=(6, 6, 30), \n",
    "  black_border=True, order='F',\n",
    "  parallel=2 # number of threads, <= 0 sets to num cpu\n",
    ") "
   ]
  },
  {
   "cell_type": "code",
   "execution_count": 6,
   "metadata": {},
   "outputs": [
    {
     "name": "stdout",
     "output_type": "stream",
     "text": [
      "CPU times: user 5min 14s, sys: 16.2 s, total: 5min 30s\n",
      "Wall time: 57.4 s\n"
     ]
    }
   ],
   "source": [
    "%%time\n",
    "dt = edt.edt(\n",
    "  labels, anisotropy=(6, 6, 30), \n",
    "  black_border=True, order='F',\n",
    "  parallel=6 # number of threads, <= 0 sets to num cpu\n",
    ") "
   ]
  },
  {
   "cell_type": "markdown",
   "metadata": {},
   "source": [
    "6 threads is fastest, at least for an array of all ones"
   ]
  },
  {
   "cell_type": "markdown",
   "metadata": {},
   "source": [
    "## Raw-space PMA"
   ]
  },
  {
   "cell_type": "code",
   "execution_count": 7,
   "metadata": {},
   "outputs": [],
   "source": [
    "cv_path = '/home/ahoag/ngdemo/demo_bucket/201904_ymaze_cfos/rawatlas_an21'"
   ]
  },
  {
   "cell_type": "code",
   "execution_count": 8,
   "metadata": {},
   "outputs": [],
   "source": [
    "vol = CloudVolume(f'file://{cv_path}',parallel=True)"
   ]
  },
  {
   "cell_type": "code",
   "execution_count": 9,
   "metadata": {},
   "outputs": [
    {
     "name": "stderr",
     "output_type": "stream",
     "text": [
      "Downloading:  81%|████████  | 417/516 [00:04<00:15,  6.48it/s] \n",
      "Downloading:  84%|████████▍ | 435/516 [00:04<00:10,  7.99it/s]\n",
      "Downloading: 100%|██████████| 516/516 [00:04<00:00,  3.80it/s]\n",
      "Downloading:  85%|████████▌ | 439/516 [00:04<00:10,  7.45it/s]\n",
      "Downloading:  96%|█████████▌| 494/516 [00:05<00:02,  8.95it/s]\n",
      "Downloading:  94%|█████████▍| 485/516 [00:05<00:04,  6.81it/s]\n",
      "Downloading: 100%|██████████| 516/516 [00:05<00:00, 25.88it/s]\n",
      "Downloading: 100%|██████████| 516/516 [00:05<00:00, 25.88it/s]\n",
      "\n",
      "\n",
      "\n",
      "Downloading: 100%|██████████| 516/516 [00:05<00:00, 97.02it/s]\n"
     ]
    }
   ],
   "source": [
    "pma_ann = np.transpose(vol[:][...,0],(2,1,0))"
   ]
  },
  {
   "cell_type": "code",
   "execution_count": 10,
   "metadata": {},
   "outputs": [],
   "source": [
    "# convert to bool \n",
    "pma_ann_bool = pma_ann.astype('bool')"
   ]
  },
  {
   "cell_type": "code",
   "execution_count": 11,
   "metadata": {},
   "outputs": [
    {
     "data": {
      "text/plain": [
       "dtype('bool')"
      ]
     },
     "execution_count": 11,
     "metadata": {},
     "output_type": "execute_result"
    }
   ],
   "source": [
    "pma_ann_bool.dtype"
   ]
  },
  {
   "cell_type": "code",
   "execution_count": 12,
   "metadata": {},
   "outputs": [
    {
     "data": {
      "text/plain": [
       "(687, 2560, 2160)"
      ]
     },
     "execution_count": 12,
     "metadata": {},
     "output_type": "execute_result"
    }
   ],
   "source": [
    "pma_ann_bool.shape"
   ]
  },
  {
   "cell_type": "code",
   "execution_count": 14,
   "metadata": {},
   "outputs": [
    {
     "data": {
      "text/plain": [
       "  C_CONTIGUOUS : True\n",
       "  F_CONTIGUOUS : False\n",
       "  OWNDATA : True\n",
       "  WRITEABLE : True\n",
       "  ALIGNED : True\n",
       "  WRITEBACKIFCOPY : False\n",
       "  UPDATEIFCOPY : False"
      ]
     },
     "execution_count": 14,
     "metadata": {},
     "output_type": "execute_result"
    }
   ],
   "source": [
    "pma_ann_bool.flags"
   ]
  },
  {
   "cell_type": "code",
   "execution_count": 13,
   "metadata": {},
   "outputs": [
    {
     "data": {
      "text/plain": [
       "<matplotlib.image.AxesImage at 0x7fc61cef3240>"
      ]
     },
     "execution_count": 13,
     "metadata": {},
     "output_type": "execute_result"
    },
    {
     "data": {
      "image/png": "[encoded data removed]",
      "text/plain": [
       "<Figure size 432x288 with 1 Axes>"
      ]
     },
     "metadata": {
      "needs_background": "light"
     },
     "output_type": "display_data"
    }
   ],
   "source": [
    "fig=plt.figure()\n",
    "ax=fig.add_subplot(1,1,1)\n",
    "ax.imshow(pma_ann_bool[200])"
   ]
  },
  {
   "cell_type": "markdown",
   "metadata": {},
   "source": [
    "Good, looks like it worked."
   ]
  },
  {
   "cell_type": "code",
   "execution_count": 15,
   "metadata": {},
   "outputs": [
    {
     "name": "stdout",
     "output_type": "stream",
     "text": [
      "CPU times: user 3min 12s, sys: 13.7 s, total: 3min 25s\n",
      "Wall time: 34.9 s\n"
     ]
    }
   ],
   "source": [
    "%%time\n",
    "\n",
    "anisotropy = (5,5,10) # resolution in microns in x,y,z according to edt docs\n",
    "edt_pma_raw = edt.edt(\n",
    "  pma_ann_bool,anisotropy=anisotropy, \n",
    "  black_border=True, order='C',\n",
    "  parallel=6 # number of threads, <= 0 sets to num cpu\n",
    ") "
   ]
  },
  {
   "cell_type": "code",
   "execution_count": 16,
   "metadata": {},
   "outputs": [],
   "source": [
    "#zero out near edges\n",
    "edge_microns_to_erode = 60 # min distance from edge something will be allowed\n",
    "edge_mask = edt_pma_raw < edge_microns_to_erode"
   ]
  },
  {
   "cell_type": "code",
   "execution_count": 17,
   "metadata": {},
   "outputs": [],
   "source": [
    "eroded_ann = pma_ann.copy()"
   ]
  },
  {
   "cell_type": "code",
   "execution_count": 18,
   "metadata": {},
   "outputs": [],
   "source": [
    "eroded_ann[edge_mask] = 0"
   ]
  },
  {
   "cell_type": "code",
   "execution_count": 25,
   "metadata": {},
   "outputs": [
    {
     "data": {
      "text/plain": [
       "<matplotlib.image.AxesImage at 0x7fc71e5bf160>"
      ]
     },
     "execution_count": 25,
     "metadata": {},
     "output_type": "execute_result"
    },
    {
     "data": {
      "image/png": "[encoded data removed]",
      "text/plain": [
       "<Figure size 432x288 with 1 Axes>"
      ]
     },
     "metadata": {
      "needs_background": "light"
     },
     "output_type": "display_data"
    }
   ],
   "source": [
    "fig=plt.figure()\n",
    "ax=fig.add_subplot(1,1,1)\n",
    "ax.imshow(pma_ann[400,1000:15000,1000:15000],vmin=0,vmax=2000)"
   ]
  },
  {
   "cell_type": "code",
   "execution_count": 26,
   "metadata": {},
   "outputs": [
    {
     "data": {
      "text/plain": [
       "<matplotlib.image.AxesImage at 0x7fc71e4988d0>"
      ]
     },
     "execution_count": 26,
     "metadata": {},
     "output_type": "execute_result"
    },
    {
     "data": {
      "image/png": "[encoded data removed]",
      "text/plain": [
       "<Figure size 432x288 with 1 Axes>"
      ]
     },
     "metadata": {
      "needs_background": "light"
     },
     "output_type": "display_data"
    }
   ],
   "source": [
    "fig=plt.figure()\n",
    "ax=fig.add_subplot(1,1,1)\n",
    "ax.imshow(eroded_ann[400,1000:15000,1000:15000],vmin=0,vmax=2000)"
   ]
  },
  {
   "cell_type": "markdown",
   "metadata": {},
   "source": [
    "It does look like it slightly eroded the edges, though a little hard to tell"
   ]
  },
  {
   "cell_type": "code",
   "execution_count": 84,
   "metadata": {},
   "outputs": [],
   "source": [
    "#get ventricles - these are the values of ventricles in the annotation image (also the same as the look up file)\n",
    "# ventricle_values = [108.0, 81.0, 116.0, 129.0, 145.0, 73.0]\n",
    "ventricle_values = [108.0, 81.0, 129.0, 145.0, 73.0] # 116 has no voxels in PMA so not worth eroding near it\n",
    "ventricular_microns_to_erode = 80 # min distance from ventricle something will be allowed\n"
   ]
  },
  {
   "cell_type": "code",
   "execution_count": 85,
   "metadata": {},
   "outputs": [],
   "source": [
    "#zero out near ventricles\n",
    "# in order to do this we need a volume in which the ventricle regions are set to 0 (the reference value for the edt)\n",
    "# and all other values are set to non-zero.\n",
    "\n",
    "# First set all zero values to 1 (outside the volume either from before or from erosion in previous step)\n",
    "vann = np.copy(eroded_ann)\n",
    "vann[vann==0.0] = 1 "
   ]
  },
  {
   "cell_type": "code",
   "execution_count": 88,
   "metadata": {},
   "outputs": [],
   "source": [
    "# Now make a boolean mask finding where the ventricles are\n",
    "vmask = np.isin(eroded_ann, ventricle_values)"
   ]
  },
  {
   "cell_type": "code",
   "execution_count": 89,
   "metadata": {},
   "outputs": [],
   "source": [
    "# set values in vann where this mask applies to 0, the reference value for the edt\n",
    "vann[vmask] = 0.0 #erode out nonventricular space adjacent to ventricles"
   ]
  },
  {
   "cell_type": "code",
   "execution_count": 92,
   "metadata": {},
   "outputs": [],
   "source": [
    "# Make vann bool array so we can verify that the ventricle erosion worked\n",
    "vann_bool = vann.astype('bool')"
   ]
  },
  {
   "cell_type": "code",
   "execution_count": 93,
   "metadata": {},
   "outputs": [
    {
     "data": {
      "text/plain": [
       "<matplotlib.image.AxesImage at 0x7fc292f07128>"
      ]
     },
     "execution_count": 93,
     "metadata": {},
     "output_type": "execute_result"
    },
    {
     "data": {
      "image/png": "[encoded data removed]",
      "text/plain": [
       "<Figure size 432x288 with 1 Axes>"
      ]
     },
     "metadata": {
      "needs_background": "light"
     },
     "output_type": "display_data"
    }
   ],
   "source": [
    "fig=plt.figure()\n",
    "ax=fig.add_subplot(1,1,1)\n",
    "ax.imshow(vann_bool[400,1000:15000,1000:15000],)"
   ]
  },
  {
   "cell_type": "markdown",
   "metadata": {},
   "source": [
    "Looks good!"
   ]
  },
  {
   "cell_type": "code",
   "execution_count": 94,
   "metadata": {},
   "outputs": [
    {
     "name": "stdout",
     "output_type": "stream",
     "text": [
      "CPU times: user 5min 28s, sys: 9.69 s, total: 5min 38s\n",
      "Wall time: 57.6 s\n"
     ]
    }
   ],
   "source": [
    "%%time\n",
    "# now calculate the edt\n",
    "anisotropy = (5,5,10) # resolution in microns in x,y,z according to edt docs\n",
    "edt_ventricles_raw = edt.edt(\n",
    "  vann_bool,anisotropy=anisotropy, \n",
    "  black_border=True, order='C',\n",
    "  parallel=6 # number of threads, <= 0 sets to num cpu\n",
    ") "
   ]
  },
  {
   "cell_type": "code",
   "execution_count": 95,
   "metadata": {},
   "outputs": [],
   "source": [
    "#zero out near ventricles on the volume which we have already edge-eroded\n",
    "ventricle_mask = edt_ventricles_raw < ventricular_microns_to_erode"
   ]
  },
  {
   "cell_type": "code",
   "execution_count": 96,
   "metadata": {},
   "outputs": [],
   "source": [
    "eroded_ann[ventricle_mask] = 0 "
   ]
  },
  {
   "cell_type": "code",
   "execution_count": 97,
   "metadata": {},
   "outputs": [
    {
     "data": {
      "text/plain": [
       "<matplotlib.image.AxesImage at 0x7fc292f1b860>"
      ]
     },
     "execution_count": 97,
     "metadata": {},
     "output_type": "execute_result"
    },
    {
     "data": {
      "image/png": "[encoded data removed]",
      "text/plain": [
       "<Figure size 432x288 with 1 Axes>"
      ]
     },
     "metadata": {
      "needs_background": "light"
     },
     "output_type": "display_data"
    }
   ],
   "source": [
    "plt.imshow(pma_ann[262],vmin=0,vmax=1000)"
   ]
  },
  {
   "cell_type": "code",
   "execution_count": 98,
   "metadata": {},
   "outputs": [
    {
     "data": {
      "text/plain": [
       "<matplotlib.image.AxesImage at 0x7fc71d0b5400>"
      ]
     },
     "execution_count": 98,
     "metadata": {},
     "output_type": "execute_result"
    },
    {
     "data": {
      "image/png": "[encoded data removed]",
      "text/plain": [
       "<Figure size 432x288 with 1 Axes>"
      ]
     },
     "metadata": {
      "needs_background": "light"
     },
     "output_type": "display_data"
    }
   ],
   "source": [
    "plt.imshow(eroded_ann[262],vmin=0,vmax=1000)"
   ]
  },
  {
   "cell_type": "markdown",
   "metadata": {},
   "source": [
    "Can see that it worked. The ventricles are in the middle of the brain and are masked out and eroded in this volume. The edges also appear to be slightly eroded"
   ]
  },
  {
   "cell_type": "markdown",
   "metadata": {},
   "source": [
    "## Apply the mask to the raw cell volume"
   ]
  },
  {
   "cell_type": "code",
   "execution_count": 27,
   "metadata": {},
   "outputs": [],
   "source": [
    "cells_raw_path = \"/jukebox/wang/Jess/lightsheet_output/201904_ymaze_cfos/processed/an21/clearmap_cluster_output/cells.npy\""
   ]
  },
  {
   "cell_type": "code",
   "execution_count": 28,
   "metadata": {},
   "outputs": [],
   "source": [
    "converted_points = np.load(cells_raw_path)"
   ]
  },
  {
   "cell_type": "code",
   "execution_count": 51,
   "metadata": {},
   "outputs": [
    {
     "data": {
      "text/plain": [
       "array([[ 570, 1516,   51],\n",
       "       [ 571, 1491,   49],\n",
       "       [ 572, 1509,   51],\n",
       "       ...,\n",
       "       [1638, 1131,  629],\n",
       "       [1657, 1286,  624],\n",
       "       [1741,  671,  683]])"
      ]
     },
     "execution_count": 51,
     "metadata": {},
     "output_type": "execute_result"
    }
   ],
   "source": [
    "converted_points"
   ]
  },
  {
   "cell_type": "code",
   "execution_count": 29,
   "metadata": {},
   "outputs": [
    {
     "data": {
      "text/plain": [
       "243653"
      ]
     },
     "execution_count": 29,
     "metadata": {},
     "output_type": "execute_result"
    }
   ],
   "source": [
    "len(converted_points)"
   ]
  },
  {
   "cell_type": "code",
   "execution_count": 53,
   "metadata": {},
   "outputs": [
    {
     "data": {
      "text/plain": [
       "(243653, 3)"
      ]
     },
     "execution_count": 53,
     "metadata": {},
     "output_type": "execute_result"
    }
   ],
   "source": [
    "converted_points.shape"
   ]
  },
  {
   "cell_type": "code",
   "execution_count": 30,
   "metadata": {},
   "outputs": [],
   "source": [
    "xyz = np.asarray([(int(xx[0]), int(xx[1]), int(xx[2])) for xx in converted_points]) #cells are counted in horizontal volumes"
   ]
  },
  {
   "cell_type": "code",
   "execution_count": 35,
   "metadata": {},
   "outputs": [
    {
     "data": {
      "text/plain": [
       "243653"
      ]
     },
     "execution_count": 35,
     "metadata": {},
     "output_type": "execute_result"
    }
   ],
   "source": [
    "len(xyz)"
   ]
  },
  {
   "cell_type": "code",
   "execution_count": 32,
   "metadata": {},
   "outputs": [],
   "source": [
    "# read the cells into a volume the same size as the atlas\n",
    "# init empty vol \n",
    "cell_map = np.zeros(pma_ann.shape).astype('uint8')"
   ]
  },
  {
   "cell_type": "code",
   "execution_count": 33,
   "metadata": {},
   "outputs": [
    {
     "data": {
      "text/plain": [
       "(687, 2560, 2160)"
      ]
     },
     "execution_count": 33,
     "metadata": {},
     "output_type": "execute_result"
    }
   ],
   "source": [
    "cell_map.shape"
   ]
  },
  {
   "cell_type": "code",
   "execution_count": 34,
   "metadata": {},
   "outputs": [],
   "source": [
    "#fill volume\n",
    "for x,y,z in xyz:\n",
    "    try:\n",
    "        cell_map[z,y,x] = 1 # no dilation\n",
    "    except Exception as e:\n",
    "        # Some cells will fall outside the volume - just how clearmap works\n",
    "        print(e)"
   ]
  },
  {
   "cell_type": "code",
   "execution_count": 99,
   "metadata": {},
   "outputs": [],
   "source": [
    "# Now apply the edge and ventricle mask\n",
    "edt_mask = eroded_ann == 0\n",
    "cell_map_eroded = cell_map.copy()\n",
    "cell_map_eroded[edt_mask] = 0"
   ]
  },
  {
   "cell_type": "code",
   "execution_count": 100,
   "metadata": {},
   "outputs": [
    {
     "data": {
      "text/plain": [
       "<matplotlib.image.AxesImage at 0x7fc71e188eb8>"
      ]
     },
     "execution_count": 100,
     "metadata": {},
     "output_type": "execute_result"
    },
    {
     "data": {
      "image/png": "[encoded data removed]",
      "text/plain": [
       "<Figure size 432x288 with 1 Axes>"
      ]
     },
     "metadata": {
      "needs_background": "light"
     },
     "output_type": "display_data"
    }
   ],
   "source": [
    "plt.imshow(cell_map[262,1000:1500,1000:1500])"
   ]
  },
  {
   "cell_type": "code",
   "execution_count": 102,
   "metadata": {},
   "outputs": [
    {
     "data": {
      "text/plain": [
       "<matplotlib.image.AxesImage at 0x7fc71e129d30>"
      ]
     },
     "execution_count": 102,
     "metadata": {},
     "output_type": "execute_result"
    },
    {
     "data": {
      "image/png": "[encoded data removed]",
      "text/plain": [
       "<Figure size 432x288 with 1 Axes>"
      ]
     },
     "metadata": {
      "needs_background": "light"
     },
     "output_type": "display_data"
    }
   ],
   "source": [
    "plt.imshow(cell_map_eroded[262,1000:1500,1000:1500])"
   ]
  },
  {
   "cell_type": "markdown",
   "metadata": {},
   "source": [
    "Can see that it worked by the lack of cells near the bottom.\n",
    "Best way to verify is to make precomputed layer and check in Neuroglancer though."
   ]
  },
  {
   "cell_type": "code",
   "execution_count": 103,
   "metadata": {},
   "outputs": [
    {
     "data": {
      "text/plain": [
       "243653"
      ]
     },
     "execution_count": 103,
     "metadata": {},
     "output_type": "execute_result"
    }
   ],
   "source": [
    "np.count_nonzero(cell_map)"
   ]
  },
  {
   "cell_type": "code",
   "execution_count": 104,
   "metadata": {},
   "outputs": [
    {
     "data": {
      "text/plain": [
       "163206"
      ]
     },
     "execution_count": 104,
     "metadata": {},
     "output_type": "execute_result"
    }
   ],
   "source": [
    "n_cells_eroded=np.count_nonzero(cell_map_eroded)\n",
    "n_cells_eroded"
   ]
  },
  {
   "cell_type": "code",
   "execution_count": 105,
   "metadata": {},
   "outputs": [],
   "source": [
    "eroded_cell_coordinates = np.where(cell_map_eroded)"
   ]
  },
  {
   "cell_type": "code",
   "execution_count": 65,
   "metadata": {},
   "outputs": [
    {
     "data": {
      "text/plain": [
       "array([[  27,   29,   29, ...,  620,  623,  623],\n",
       "       [1478, 1408, 1470, ...,  973,  974,  984],\n",
       "       [ 871,  867,  867, ..., 1358, 1359, 1352]])"
      ]
     },
     "execution_count": 65,
     "metadata": {},
     "output_type": "execute_result"
    }
   ],
   "source": [
    "eroded_cell_coordinates"
   ]
  },
  {
   "cell_type": "code",
   "execution_count": 106,
   "metadata": {},
   "outputs": [],
   "source": [
    "eroded_cell_coordinates = np.array(eroded_cell_coordinates)"
   ]
  },
  {
   "cell_type": "code",
   "execution_count": 107,
   "metadata": {},
   "outputs": [
    {
     "data": {
      "text/plain": [
       "array([[  27,   29,   29, ...,  620,  623,  623],\n",
       "       [1478, 1408, 1470, ...,  973,  974,  984],\n",
       "       [ 871,  867,  867, ..., 1358, 1359, 1352]])"
      ]
     },
     "execution_count": 107,
     "metadata": {},
     "output_type": "execute_result"
    }
   ],
   "source": [
    "eroded_cell_coordinates"
   ]
  },
  {
   "cell_type": "code",
   "execution_count": 108,
   "metadata": {},
   "outputs": [],
   "source": [
    "zs_eroded=eroded_cell_coordinates[0]\n",
    "ys_eroded=eroded_cell_coordinates[1]\n",
    "xs_eroded=eroded_cell_coordinates[2]"
   ]
  },
  {
   "cell_type": "code",
   "execution_count": 109,
   "metadata": {},
   "outputs": [
    {
     "data": {
      "text/plain": [
       "array([[ 570, 1516,   51],\n",
       "       [ 571, 1491,   49],\n",
       "       [ 572, 1509,   51],\n",
       "       ...,\n",
       "       [1638, 1131,  629],\n",
       "       [1657, 1286,  624],\n",
       "       [1741,  671,  683]])"
      ]
     },
     "execution_count": 109,
     "metadata": {},
     "output_type": "execute_result"
    }
   ],
   "source": [
    "xyz"
   ]
  },
  {
   "cell_type": "code",
   "execution_count": 110,
   "metadata": {},
   "outputs": [],
   "source": [
    "xyz_eroded = np.asarray([(int(xs_eroded[ii]), int(ys_eroded[ii]), int(zs_eroded[ii])) for ii in range(n_cells_eroded)]) #cells are counted in horizontal volumes"
   ]
  },
  {
   "cell_type": "code",
   "execution_count": 111,
   "metadata": {},
   "outputs": [
    {
     "data": {
      "text/plain": [
       "array([[ 871, 1478,   27],\n",
       "       [ 867, 1408,   29],\n",
       "       [ 867, 1470,   29],\n",
       "       ...,\n",
       "       [1358,  973,  620],\n",
       "       [1359,  974,  623],\n",
       "       [1352,  984,  623]])"
      ]
     },
     "execution_count": 111,
     "metadata": {},
     "output_type": "execute_result"
    }
   ],
   "source": [
    "xyz_eroded"
   ]
  },
  {
   "cell_type": "code",
   "execution_count": 112,
   "metadata": {},
   "outputs": [
    {
     "data": {
      "text/plain": [
       "163206"
      ]
     },
     "execution_count": 112,
     "metadata": {},
     "output_type": "execute_result"
    }
   ],
   "source": [
    "len(xyz_eroded)"
   ]
  },
  {
   "cell_type": "code",
   "execution_count": 113,
   "metadata": {},
   "outputs": [
    {
     "data": {
      "text/plain": [
       "array([[1013,  776,  131],\n",
       "       [ 364, 1230,  495],\n",
       "       [ 546,  821,  481],\n",
       "       ...,\n",
       "       [ 835,  721,  149],\n",
       "       [1466, 1634,  344],\n",
       "       [1756, 1416,  510]])"
      ]
     },
     "execution_count": 113,
     "metadata": {},
     "output_type": "execute_result"
    }
   ],
   "source": [
    "np.random.shuffle(xyz_eroded)\n",
    "xyz_eroded"
   ]
  },
  {
   "cell_type": "markdown",
   "metadata": {},
   "source": [
    "## Save eroded cell coordinates to precomputed format"
   ]
  },
  {
   "cell_type": "code",
   "execution_count": 114,
   "metadata": {},
   "outputs": [],
   "source": [
    "filename = '/home/ahoag/ngdemo/demo_bucket/201904_ymaze_cfos/rawcells_an21_annotations_edge_ventricle_erosion/spatial0/0_0_0'"
   ]
  },
  {
   "cell_type": "code",
   "execution_count": 115,
   "metadata": {},
   "outputs": [
    {
     "name": "stdout",
     "output_type": "stream",
     "text": [
      "wrote /home/ahoag/ngdemo/demo_bucket/201904_ymaze_cfos/rawcells_an21_annotations_edge_ventricle_erosion/spatial0/0_0_0\n"
     ]
    }
   ],
   "source": [
    "coordinates = xyz_eroded # array like [[x1,y1,z1],[x2,y2,z2],...]\n",
    "total_count = len(coordinates)\n",
    "with open(filename,'wb') as outfile:\n",
    "    buf = struct.pack('<Q',total_count)\n",
    "    pt_buf = b''.join(struct.pack('<3f',x,y,z) for (x,y,z) in coordinates)\n",
    "    buf += pt_buf\n",
    "    id_buf = struct.pack('<%sQ' % len(coordinates), *range(len(coordinates)))\n",
    "    buf += id_buf\n",
    "    outfile.write(buf)\n",
    "print(f\"wrote {filename}\")"
   ]
  }
 ],
 "metadata": {
  "kernelspec": {
   "display_name": "ng",
   "language": "python",
   "name": "ng"
  },
  "language_info": {
   "codemirror_mode": {
    "name": "ipython",
    "version": 3
   },
   "file_extension": ".py",
   "mimetype": "text/x-python",
   "name": "python",
   "nbconvert_exporter": "python",
   "pygments_lexer": "ipython3",
   "version": "3.6.9"
  }
 },
 "nbformat": 4,
 "nbformat_minor": 2
}
