{
 "cells": [
  {
   "cell_type": "code",
   "execution_count": 1,
   "metadata": {},
   "outputs": [],
   "source": [
    "import neuroglancer as ng\n",
    "import cloudvolume"
   ]
  },
  {
   "cell_type": "markdown",
   "metadata": {},
   "source": [
    "## Set the neuroglancer client to be one that is hosted locally\n"
   ]
  },
  {
   "cell_type": "code",
   "execution_count": 5,
   "metadata": {},
   "outputs": [],
   "source": [
    "ng.set_static_content_source(url='http://localhost:8082')"
   ]
  },
  {
   "cell_type": "markdown",
   "metadata": {},
   "source": [
    "# Load in the raw data into neuroglancer and generate the link"
   ]
  },
  {
   "cell_type": "markdown",
   "metadata": {},
   "source": [
    "## Host the raw-space allen atlas cloudvolume"
   ]
  },
  {
   "cell_type": "markdown",
   "metadata": {},
   "source": [
    "You will need to host this with cloudvolume as was done for the raw data above. Use a different port though, e.g.\n",
    "```python\n",
    "import cloudvolume\n",
    "vol = cloudvolume.Cloudvolume('file:///jukebox/LightSheetTransfer/kelly/neuroglancer/201908_cfos/m61468_observ_rawatlas')\n",
    "vol.viewer(port=1338) # must be a different port than the raw data\n",
    "```\n",
    "Again, make sure to do this outside of this jupyter notebook"
   ]
  },
  {
   "cell_type": "markdown",
   "metadata": {},
   "source": [
    "## Load in the atlas\n",
    "Load in a segmentation layer (e.g. the raw-space allen atlas) that is being hosted with cloudvolume using the same viewer object that you already made. If you go back to the neuroglancer window after running this it should be there in a new layer"
   ]
  },
  {
   "cell_type": "code",
   "execution_count": 6,
   "metadata": {},
   "outputs": [],
   "source": [
    "viewer = ng.Viewer()"
   ]
  },
  {
   "cell_type": "code",
   "execution_count": 7,
   "metadata": {},
   "outputs": [
    {
     "name": "stdout",
     "output_type": "stream",
     "text": [
      "http://127.0.0.1:46412/v/2a1e1dc14b80bf38cfdfddf21abd5c49e2f239d4/\n"
     ]
    }
   ],
   "source": [
    "with viewer.txn() as s:\n",
    "    s.layers['pma'] = ng.SegmentationLayer(source='precomputed://http://localhost:1337'\n",
    "    )\n",
    "print(viewer)"
   ]
  },
  {
   "cell_type": "markdown",
   "metadata": {},
   "source": [
    "## Try Jingpeng's screenshot method"
   ]
  },
  {
   "cell_type": "code",
   "execution_count": null,
   "metadata": {},
   "outputs": [],
   "source": [
    "def create_screen_shots(groups, viewer: ng.Viewer,\n",
    "                        output_dir: str='/tmp/',\n",
    "                        interact: bool=True,\n",
    "                        separate: bool=True):\n",
    "    ss = ng.ScreenshotSaver(viewer, output_dir)\n",
    "\n",
    "    if separate:\n",
    "        print('show neuron groups separatly.')\n",
    "        with viewer.txn() as v:\n",
    "            v.layers['neurons'] = ng.SegmentationLayer(\n",
    "                source='precomputed://gs://neuroglancer/zfish_v1/atlas/neurons',\n",
    "                skeletonRendering=skeletonRendering\n",
    "            )\n",
    "        if isinstance(groups, dict):\n",
    "            # the manual sort json file is using dict with names\n",
    "            groups = [v for v in groups.values()]\n",
    "        \n",
    "        if interact:\n",
    "            while True:\n",
    "                group_id = click.prompt('Please enter a group id', type=int)\n",
    "                group = groups[group_id]\n",
    "                print('group {}: {}'.format(group_id,  group))\n",
    "                with viewer.txn() as v:\n",
    "                    v.layers['neurons'].segments = set(group)\n",
    "        else:\n",
    "            # pause to setup the background color and mesh color\n",
    "            click.pause()\n",
    "            for group_id,group in enumerate(groups):\n",
    "                # the 19th group can crash neuroglancer if I don't restart the whole thing!\n",
    "                # could be due to all neurons are stored in gpu memory, I can simply increase memory capacity\n",
    "                # to solve this problem?\n",
    "                if group_id<=19:\n",
    "                    continue\n",
    "\n",
    "                print('group {}: {}'.format(group_id,  group))\n",
    "                with viewer.txn() as v:\n",
    "                    v.layers['neurons'].segments = set(group)\n",
    "                ss.capture(index=group_id)\n",
    "                #click.pause()\n",
    "    else:\n",
    "        print('show all the neuron groups together.')\n",
    "        for group_name,group in groups.items():\n",
    "            with viewer.txn() as v:\n",
    "                v.layers[group_name] = ng.SegmentationLayer(\n",
    "                    source='precomputed://gs://neuroglancer/zfish_v1/atlas/neurons',\n",
    "                    objectColor=generate_random_color(),\n",
    "                    skeletonRendering=skeletonRendering\n",
    "                )\n",
    "                v.layers[group_name].segments = set(group)\n",
    "        # pause to setup the background color and mesh color\n",
    "    import IPython; IPython.embed()\n",
    "    ss.capture(index=10000)"
   ]
  },
  {
   "cell_type": "code",
   "execution_count": null,
   "metadata": {},
   "outputs": [],
   "source": [
    "create_screen_shots(groups=[],viewer=viewer)"
   ]
  },
  {
   "cell_type": "code",
   "execution_count": null,
   "metadata": {},
   "outputs": [],
   "source": [
    "def create_screen_shots(viewer,output_dir='/tmp'):\n",
    "    ss = ng.ScreenshotSaver(viewer, output_dir)\n",
    "#     import IPython; IPython.embed()\n",
    "    ss.capture(index=10000)"
   ]
  },
  {
   "cell_type": "code",
   "execution_count": null,
   "metadata": {},
   "outputs": [],
   "source": [
    "create_screen_shots(viewer)"
   ]
  },
  {
   "cell_type": "code",
   "execution_count": null,
   "metadata": {},
   "outputs": [],
   "source": [
    "ls /tmp/"
   ]
  },
  {
   "cell_type": "code",
   "execution_count": null,
   "metadata": {},
   "outputs": [],
   "source": [
    "ls"
   ]
  },
  {
   "cell_type": "code",
   "execution_count": 13,
   "metadata": {},
   "outputs": [
    {
     "data": {
      "text/plain": [
       "[20,\n",
       " 21,\n",
       " 22,\n",
       " 23,\n",
       " 24,\n",
       " 25,\n",
       " 26,\n",
       " 27,\n",
       " 28,\n",
       " 29,\n",
       " 30,\n",
       " 31,\n",
       " 32,\n",
       " 33,\n",
       " 34,\n",
       " 35,\n",
       " 36,\n",
       " 37,\n",
       " 38,\n",
       " 39]"
      ]
     },
     "execution_count": 13,
     "metadata": {},
     "output_type": "execute_result"
    }
   ],
   "source": [
    "n_jobs_per_process = 20\n",
    "job_array_step = 1\n",
    "[job for job in [(job_array_step*n_jobs_per_process)+x for x in range(n_jobs_per_process)] if job<105] "
   ]
  },
  {
   "cell_type": "code",
   "execution_count": 11,
   "metadata": {},
   "outputs": [
    {
     "data": {
      "text/plain": [
       "[0, 1, 2, 3, 4, 5, 6, 7, 8, 9, 10, 11, 12, 13, 14, 15, 16, 17, 18, 19]"
      ]
     },
     "execution_count": 11,
     "metadata": {},
     "output_type": "execute_result"
    }
   ],
   "source": []
  },
  {
   "cell_type": "code",
   "execution_count": null,
   "metadata": {},
   "outputs": [],
   "source": []
  }
 ],
 "metadata": {
  "kernelspec": {
   "display_name": "ng",
   "language": "python",
   "name": "ng"
  },
  "language_info": {
   "codemirror_mode": {
    "name": "ipython",
    "version": 3
   },
   "file_extension": ".py",
   "mimetype": "text/x-python",
   "name": "python",
   "nbconvert_exporter": "python",
   "pygments_lexer": "ipython3",
   "version": "3.6.9"
  }
 },
 "nbformat": 4,
 "nbformat_minor": 2
}
