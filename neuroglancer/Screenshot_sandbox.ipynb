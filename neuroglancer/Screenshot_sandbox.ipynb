{
 "cells": [
  {
   "cell_type": "code",
   "execution_count": 1,
   "metadata": {},
   "outputs": [],
   "source": [
    "import neuroglancer as ng"
   ]
  },
  {
   "cell_type": "markdown",
   "metadata": {},
   "source": [
    "## Set the neuroglancer client to be one that is hosted locally\n"
   ]
  },
  {
   "cell_type": "code",
   "execution_count": 2,
   "metadata": {},
   "outputs": [],
   "source": [
    "ng.set_static_content_source(url='http://localhost:8080')"
   ]
  },
  {
   "cell_type": "code",
   "execution_count": 56,
   "metadata": {
    "scrolled": true
   },
   "outputs": [
    {
     "name": "stdout",
     "output_type": "stream",
     "text": [
      "http://127.0.0.1:39001/v/0d929ad7070a5421c1cfc6b9d01f77bb8a568ef4/\n"
     ]
    }
   ],
   "source": [
    "viewer = ng.Viewer()\n",
    "with viewer.txn() as s:\n",
    "    s.layers['rawdata_an21'] = ng.ImageLayer(source='precomputed://http://localhost:1337'\n",
    "    )\n",
    "    s.layers['rawatlas_an21'] = ng.SegmentationLayer(source='precomputed://http://localhost:1338'\n",
    "    )\n",
    "    s.layers['rawcells_an21'] = ng.AnnotationLayer(source='precomputed://http://localhost:8088'\n",
    "    )\n",
    "print(viewer)"
   ]
  },
  {
   "cell_type": "code",
   "execution_count": 50,
   "metadata": {},
   "outputs": [],
   "source": [
    "# Set up the initial frame\n",
    "with viewer.txn() as s:\n",
    "    s.layout = 'yz-3d'\n",
    "    s.position = [1710,1290,346]\n",
    "    \n",
    "    s.cross_section_orientation = [0.7071067690849304, 0, 0, 0.7071067690849304]\n",
    "    s.cross_section_scale = 5\n",
    "    s.projection_scale = 3900\n",
    "    s.projection_orientation = [0.65080833, 0.17286249, 0.20033664, 0.7116406 ]\n",
    "    seglayer = s.layers['rawatlas_an21']\n",
    "    seglayer.segments = [549, 262, 741, 149, 629, 599, 1113, 733]\n",
    "    seglayer.segment_query = \"549, 262, 741, 149, 629, 599, 1113, 733\"\n",
    "    annotlayer = s.layers['rawcells_an21']\n",
    "    annotlayer.visible=False\n",
    "    annotlayer.shader = \"\\nvoid main() {\\n  setColor(vec4(defaultColor(), 0.5));\\n}\"\n",
    "#     s.selected_layer.layer = 'rawatlas_an21' \n",
    "#     s.selected_layer.visible = True\n",
    "#     s.selected_layer.size = 415\n",
    "#     s.layers['rawatlas_an21'].tab = \"segments\"\n",
    "    s.show_axis_lines=False\n",
    "savedst = '/home/ahoag/ngdemo/screenshots/cfos_an21'\n",
    "ss = ng.ScreenshotSaver(viewer, savedst)\n",
    "# Do the sweep through sagittal sections\n",
    "for i in range(400,1600,50):\n",
    "    with viewer.txn() as s:\n",
    "        s.position = [i,1265,359] #the xy coords here are from the neuroglancer window\n",
    "    #     with viewer.config_state.txn() as s:\n",
    "    #         s.show_ui_controls = True\n",
    "    #         s.show_panel_borders = True\n",
    "    ss.capture()\n",
    "# Turn on cells and sweep back\n",
    "with viewer.txn() as s:\n",
    "    annotlayer = s.layers['rawcells_an21']\n",
    "    annotlayer.visible=True\n",
    "for i in range(1600,200,-50):\n",
    "    with viewer.txn() as s:\n",
    "        s.position = [i,1265,359] #the xy coords here are from the neuroglancer window\n",
    "    ss.capture()"
   ]
  },
  {
   "cell_type": "code",
   "execution_count": 16,
   "metadata": {},
   "outputs": [
    {
     "name": "stdout",
     "output_type": "stream",
     "text": [
      "['__class__', '__deepcopy__', '__delattr__', '__dir__', '__doc__', '__eq__', '__format__', '__ge__', '__getattribute__', '__gt__', '__hash__', '__init__', '__init_subclass__', '__le__', '__lt__', '__module__', '__ne__', '__new__', '__reduce__', '__reduce_ex__', '__repr__', '__setattr__', '__sizeof__', '__slots__', '__str__', '__subclasshook__', '_cached_wrappers', '_get_wrapped', '_json_data', '_lock', '_readonly', '_set_wrapped', 'actions', 'credentials', 'inputEventBindings', 'input_event_bindings', 'prefetch', 'scaleBarOptions', 'scale_bar_options', 'screenshot', 'showHelpButton', 'showLayerHoverValues', 'showLayerPanel', 'showLocation', 'showPanelBorders', 'showUIControls', 'show_help_button', 'show_layer_hover_values', 'show_layer_panel', 'show_location', 'show_panel_borders', 'show_ui_controls', 'sourceGenerations', 'source_generations', 'statusMessages', 'status_messages', 'supports_readonly', 'to_json', 'viewerSize', 'viewer_size']\n"
     ]
    }
   ],
   "source": [
    "with viewer.config_state.txn() as s:\n",
    "    print(dir(s))"
   ]
  },
  {
   "cell_type": "code",
   "execution_count": 22,
   "metadata": {},
   "outputs": [],
   "source": [
    "with viewer.config_state.txn() as s:\n",
    "        s.show_ui_controls = True\n",
    "        s.show_panel_borders = True\n",
    "        s.show_layer_panel = True\n",
    "        s.show_help_button= False\n",
    "        s.show_location= True"
   ]
  },
  {
   "cell_type": "code",
   "execution_count": 35,
   "metadata": {},
   "outputs": [
    {
     "name": "stdout",
     "output_type": "stream",
     "text": [
      "ViewerState({\"dimensions\": {\"x\": [5e-06, \"m\"], \"y\": [5e-06, \"m\"], \"z\": [1e-05, \"m\"]}, \"position\": [1710, 1290, 346], \"crossSectionOrientation\": [0.7071067690849304, 0, 0, 0.7071067690849304], \"crossSectionScale\": 5, \"projectionOrientation\": [0.6508083343505859, 0.1728624850511551, 0.20033663511276245, 0.7116405963897705], \"projectionScale\": 3900, \"layers\": [{\"type\": \"image\", \"source\": \"precomputed://http://localhost:1337\", \"name\": \"rawdata_an21\"}, {\"type\": \"annotation\", \"source\": \"precomputed://http://localhost:8086\", \"tab\": \"rendering\", \"shader\": \"\\nvoid main() {\\n  setColor(vec4(defaultColor(), 0.3));\\n}\", \"name\": \"rawcells_an21\", \"visible\": false}, {\"type\": \"segmentation\", \"source\": \"precomputed://http://localhost:1338\", \"segments\": [\"1113\", \"149\", \"262\", \"549\", \"599\", \"629\", \"733\", \"741\"], \"segmentQuery\": \"549, 262, 741, 149, 629, 599, 1113, 733\", \"name\": \"rawatlas_an21\"}], \"showAxisLines\": false, \"selectedLayer\": {\"layer\": \"rawatlas_an21\"}, \"layout\": \"yz-3d\"})\n"
     ]
    }
   ],
   "source": [
    "with viewer.txn() as s:\n",
    "    initial_state=s\n",
    "    print(initial_state)"
   ]
  },
  {
   "cell_type": "code",
   "execution_count": 26,
   "metadata": {},
   "outputs": [
    {
     "name": "stdout",
     "output_type": "stream",
     "text": [
      "ManagedLayer(\"rawatlas_an21\",{\"type\": \"segmentation\", \"source\": \"precomputed://http://localhost:1338\", \"segments\": [\"1113\", \"149\", \"262\", \"549\", \"599\", \"629\", \"733\", \"741\"], \"name\": \"rawatlas_an21\"})\n"
     ]
    }
   ],
   "source": [
    "with viewer.txn() as s:\n",
    "    final_state=s\n",
    "    print(s.layers['rawatlas_an21'])\n",
    "#     print(final_state)"
   ]
  },
  {
   "cell_type": "code",
   "execution_count": 47,
   "metadata": {},
   "outputs": [],
   "source": [
    "with viewer.txn() as s:\n",
    "    "
   ]
  },
  {
   "cell_type": "code",
   "execution_count": 25,
   "metadata": {},
   "outputs": [
    {
     "name": "stdout",
     "output_type": "stream",
     "text": [
      "[0.70710677 0.         0.         0.70710677]\n"
     ]
    }
   ],
   "source": [
    "with viewer.txn() as s:\n",
    "    print(s.cross_section_orientation)"
   ]
  },
  {
   "cell_type": "code",
   "execution_count": 46,
   "metadata": {},
   "outputs": [
    {
     "name": "stdout",
     "output_type": "stream",
     "text": [
      "{549, 262, 741, 149, 629, 599, 1113, 733}\n"
     ]
    }
   ],
   "source": [
    "with viewer.txn() as s:\n",
    "    seglayer = s.layers['rawatlas_an21'].layer\n",
    "    print(seglayer.segments)"
   ]
  },
  {
   "cell_type": "code",
   "execution_count": 4,
   "metadata": {},
   "outputs": [],
   "source": [
    "with viewer.txn() as s:\n",
    "    s.projection_orientation = [0.5523173809051514, 0.161408469080925, 0.2326103150844574, 0.7840824127197266]"
   ]
  },
  {
   "cell_type": "code",
   "execution_count": 19,
   "metadata": {},
   "outputs": [
    {
     "name": "stdout",
     "output_type": "stream",
     "text": [
      "[0.65080833 0.17286249 0.20033664 0.7116406 ]\n"
     ]
    }
   ],
   "source": [
    "with viewer.txn() as s:\n",
    "    print(s.projection_orientation)"
   ]
  },
  {
   "cell_type": "code",
   "execution_count": null,
   "metadata": {},
   "outputs": [],
   "source": []
  }
 ],
 "metadata": {
  "kernelspec": {
   "display_name": "ng",
   "language": "python",
   "name": "ng"
  },
  "language_info": {
   "codemirror_mode": {
    "name": "ipython",
    "version": 3
   },
   "file_extension": ".py",
   "mimetype": "text/x-python",
   "name": "python",
   "nbconvert_exporter": "python",
   "pygments_lexer": "ipython3",
   "version": "3.6.9"
  }
 },
 "nbformat": 4,
 "nbformat_minor": 2
}
