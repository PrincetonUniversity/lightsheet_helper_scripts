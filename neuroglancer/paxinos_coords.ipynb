{
 "cells": [
  {
   "cell_type": "markdown",
   "metadata": {},
   "source": [
    "# Paxinos coords\n",
    "The purpose of this notebook is to check whether I can get the correct Paxinos coordinates to show up in Neuroglancer by using the transformation between Allen and Paxinos space"
   ]
  },
  {
   "cell_type": "code",
   "execution_count": 2,
   "metadata": {},
   "outputs": [],
   "source": [
    "import neuroglancer\n",
    "import cloudvolume\n",
    "import json, csv\n",
    "import graphviz"
   ]
  },
  {
   "cell_type": "code",
   "execution_count": 3,
   "metadata": {},
   "outputs": [
    {
     "name": "stdout",
     "output_type": "stream",
     "text": [
      "http://127.0.0.1:42964/v/2145d98c9cffc0410bcfbaabffb9b01df525b384/\n"
     ]
    }
   ],
   "source": [
    "neuroglancer.set_static_content_source(url='https://nglancer.pni.princeton.edu')\n",
    "# neuroglancer.set_static_content_source(url='http://localhost:8080')\n",
    "viewer = neuroglancer.Viewer()\n",
    "with viewer.txn() as s:\n",
    "    s.layers['atlas'] = neuroglancer.SegmentationLayer(source='precomputed://http://localhost:1338'\n",
    "    )\n",
    "print(viewer)"
   ]
  },
  {
   "cell_type": "code",
   "execution_count": 9,
   "metadata": {},
   "outputs": [],
   "source": [
    "def allenTopaxinos_AP(allenAP):\n",
    "    return(-((allenAP-214)*25-20)/1000 )\n",
    "\n",
    "def allenTopaxinos_DV(allenX):\n",
    "    return(25/1000.*allenX)\n",
    "\n",
    "def allenTopaxinos_ML(allenZ):\n",
    "    return(25/1000.*(456/2.-allenZ))"
   ]
  },
  {
   "cell_type": "code",
   "execution_count": 10,
   "metadata": {},
   "outputs": [
    {
     "name": "stdout",
     "output_type": "stream",
     "text": [
      "X,Y,Z:\n",
      "131.625 264.0 206.29298\n",
      "ML, DV, AP:\n",
      "0.5426753997802735 3.2906250000000004 -1.23\n",
      "X,Y,Z:\n",
      "63.625 264.0 189.29298\n",
      "ML, DV, AP:\n",
      "0.9676753997802735 1.5906250000000002 -1.23\n",
      "X,Y,Z:\n",
      "1.625 264.0 185.29298\n",
      "ML, DV, AP:\n",
      "1.0676753997802735 0.040625 -1.23\n"
     ]
    }
   ],
   "source": [
    "# key binding to merge segment for a region with its parent segment using the ontology\n",
    "\n",
    "num_actions = 0\n",
    "def my_action(s):\n",
    "    global num_actions\n",
    "    num_actions += 1\n",
    "    with viewer.config_state.txn() as st:  \n",
    "#         print('  Mouse position: %s' % (s.mouse_voxel_coordinates,))\n",
    "        mouse_position_tuple = s.mouse_voxel_coordinates\n",
    "        x,y,z = mouse_position_tuple\n",
    "        ML = allenTopaxinos_ML(z)\n",
    "        AP = allenTopaxinos_AP(y)\n",
    "        DV = allenTopaxinos_DV(x)\n",
    "        print(\"X,Y,Z:\")\n",
    "        print(x,y,z)\n",
    "        print(\"ML, DV, AP:\")\n",
    "        print(ML,DV,AP)\n",
    "#         print(len(mouse_position_tuple))\n",
    "#         print('  Layer selected values: %s' % (s.selected_values,))\n",
    "viewer.actions.add('my-action', my_action)\n",
    "with viewer.config_state.txn() as s:\n",
    "    s.input_event_bindings.viewer['keyp'] = 'my-action'\n",
    "#     s.status_messages['hello'] = 'Welcome to the parent merge first example. Press p to use.'\n"
   ]
  },
  {
   "cell_type": "code",
   "execution_count": 4,
   "metadata": {},
   "outputs": [
    {
     "name": "stdout",
     "output_type": "stream",
     "text": [
      "ViewerState({\"layers\": [{\"source\": \"precomputed://http://localhost:1338\", \"type\": \"segmentation\", \"skeletonRendering\": {\"mode2d\": \"lines_and_points\", \"mode3d\": \"lines\"}, \"name\": \"atlas\"}], \"navigation\": {\"pose\": {\"position\": {\"voxelSize\": [25000, 25000, 25000], \"voxelCoordinates\": [160, 264, 228]}}, \"zoomFactor\": 25000}, \"layout\": \"4panel\"})\n"
     ]
    }
   ],
   "source": [
    "with viewer.txn() as s:\n",
    "    print(s)"
   ]
  },
  {
   "cell_type": "code",
   "execution_count": 12,
   "metadata": {},
   "outputs": [],
   "source": [
    "with viewer.txn() as s:\n",
    "    s.layout = \"yz\""
   ]
  },
  {
   "cell_type": "code",
   "execution_count": null,
   "metadata": {},
   "outputs": [],
   "source": []
  }
 ],
 "metadata": {
  "kernelspec": {
   "display_name": "ng",
   "language": "python",
   "name": "ng"
  },
  "language_info": {
   "codemirror_mode": {
    "name": "ipython",
    "version": 3
   },
   "file_extension": ".py",
   "mimetype": "text/x-python",
   "name": "python",
   "nbconvert_exporter": "python",
   "pygments_lexer": "ipython3",
   "version": "3.6.9"
  }
 },
 "nbformat": 4,
 "nbformat_minor": 2
}
