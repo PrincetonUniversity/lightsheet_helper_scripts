{
 "cells": [
  {
   "cell_type": "markdown",
   "metadata": {},
   "source": [
    "# make_heatmap_volumes\n",
    "In this notebook I make the heatmap volumes where the voxel value is the number of brains with an injection at that voxel."
   ]
  },
  {
   "cell_type": "code",
   "execution_count": 33,
   "metadata": {},
   "outputs": [],
   "source": [
    "import neuroglancer as ng\n",
    "import matplotlib,os\n",
    "import numpy as np\n",
    "import tifffile\n",
    "from scipy.ndimage import gaussian_filter, binary_erosion\n",
    "import pandas as pd\n",
    "from pylab import *\n",
    "import matplotlib.pyplot as plt\n",
    "%matplotlib inline\n",
    "ng.set_static_content_source(url='https://neuroglancer-braincogs.appspot.com')"
   ]
  },
  {
   "cell_type": "code",
   "execution_count": 34,
   "metadata": {},
   "outputs": [],
   "source": [
    "# Get dicts mapping brain names to primary injection sites\n",
    "hsv_disynaptic_injection_site_file = '../data/dataframes/thal_cohort_inj_pcoun_data.csv' # HSV-H129_Disynaptic\n",
    "df_hsv_disynaptic_injection_site = pd.read_csv(hsv_disynaptic_injection_site_file)\n",
    "hsv_disynaptic_injection_site_dict = df_hsv_disynaptic_injection_site.set_index('brainname')['primary_inj_site'].to_dict()\n",
    "\n",
    "hsv_trisynaptic_injection_site_file = '../data/dataframes/nc_cohort_inj_pcount_data.csv' # HSV-H129_Trisynaptic\n",
    "df_hsv_trisynaptic_injection_site = pd.read_csv(hsv_trisynaptic_injection_site_file)\n",
    "hsv_trisynaptic_injection_site_dict = df_hsv_trisynaptic_injection_site.set_index('brainnames')['primary_inj_site'].to_dict()\n",
    "\n",
    "prv_disynaptic_injection_site_file = '../data/dataframes/prv_nc_cohort_inj_pcount_data.csv' # PRV Disynaptic\n",
    "df_prv_disynaptic_injection_site = pd.read_csv(prv_disynaptic_injection_site_file)\n",
    "prv_disynaptic_injection_site_dict = df_prv_disynaptic_injection_site.set_index('brainname')['primary_inj_site'].to_dict()\n"
   ]
  },
  {
   "cell_type": "code",
   "execution_count": 35,
   "metadata": {},
   "outputs": [],
   "source": [
    "dataset_primary_injection_dict = {\n",
    "    'HSV-H129_Disynaptic':hsv_disynaptic_injection_site_dict,\n",
    "    'HSV-H129_Trisynaptic':hsv_trisynaptic_injection_site_dict,\n",
    "    'PRV_Disynaptic':prv_disynaptic_injection_site_dict\n",
    "}"
   ]
  },
  {
   "cell_type": "code",
   "execution_count": 38,
   "metadata": {},
   "outputs": [
    {
     "name": "stdout",
     "output_type": "stream",
     "text": [
      "HSV-H129_Disynaptic\n",
      "['20170410_tp_bl6_lob6a_ml_repro_01', '20160823_tp_bl6_cri_500r_02', '20180417_jg59_bl6_cri_03', '20170207_db_bl6_crii_1300r_02', '20160622_db_bl6_unk_01', '20161205_tp_bl6_sim_750r_03', '20180410_jg51_bl6_lob6b_04', '20170419_db_bl6_cri_rpv_53hr', '20170116_tp_bl6_lob6b_lpv_07', '20170411_db_bl6_crii_mid_53hr', '20160822_tp_bl6_crii_1500r_06', '20160920_tp_bl6_lob7_500r_03', '20170207_db_bl6_crii_rpv_01', '20161205_tp_bl6_sim_250r_02', '20161207_db_bl6_lob6a_500r_53hr', '20170130_tp_bl6_sim_rlat_05', '20170115_tp_bl6_lob6b_500r_05', '20170419_db_bl6_cri_mid_53hr', '20161207_db_bl6_lob6a_850r_53hr', '20160622_db_bl6_crii_52hr_01', '20161207_db_bl6_lob6a_50rml_53d5hr', '20161205_tp_bl6_lob45_1000r_01', '20160801_db_l7_cri_01_mid_64hr']\n",
      "23\n",
      "20170410_tp_bl6_lob6a_ml_repro_01\n",
      "20160823_tp_bl6_cri_500r_02\n",
      "20180417_jg59_bl6_cri_03\n",
      "20170207_db_bl6_crii_1300r_02\n",
      "20160622_db_bl6_unk_01\n",
      "20161205_tp_bl6_sim_750r_03\n",
      "20180410_jg51_bl6_lob6b_04\n",
      "20170419_db_bl6_cri_rpv_53hr\n",
      "20170116_tp_bl6_lob6b_lpv_07\n",
      "20170411_db_bl6_crii_mid_53hr\n",
      "20160822_tp_bl6_crii_1500r_06\n",
      "20160920_tp_bl6_lob7_500r_03\n",
      "20170207_db_bl6_crii_rpv_01\n",
      "20161205_tp_bl6_sim_250r_02\n",
      "20161207_db_bl6_lob6a_500r_53hr\n",
      "20170130_tp_bl6_sim_rlat_05\n",
      "20170115_tp_bl6_lob6b_500r_05\n",
      "20170419_db_bl6_cri_mid_53hr\n",
      "20161207_db_bl6_lob6a_850r_53hr\n",
      "20160622_db_bl6_crii_52hr_01\n",
      "20161207_db_bl6_lob6a_50rml_53d5hr\n",
      "20161205_tp_bl6_lob45_1000r_01\n",
      "20160801_db_l7_cri_01_mid_64hr\n",
      "Saved ../data/heatmap_volumes/HSV-H129_Disynaptic_heatmap.tif\n",
      "HSV-H129_Trisynaptic\n",
      "['20170204_tp_bl6_cri_1750r_03', '20180416_jg56_bl6_lob8_04', '20170116_tp_bl6_lob45_ml_11', '20180410_jg52_bl6_lob7_05', '20170116_tp_bl6_lob7_1000r_10', '20180612_jg80', '20180608_jg71', '20170212_tp_bl6_crii_1000r_02', '20170115_tp_bl6_lob6a_rpv_03', '20170212_tp_bl6_crii_2000r_03', '20170130_tp_bl6_sim_1750r_03', '20170115_tp_bl6_lob6b_ml_04', '20170115_tp_bl6_lob6a_1000r_02', '20170116_tp_bl6_lob45_500r_12', '20180612_jg76', '20170115_tp_bl6_lob6a_500r_01', '20170130_tp_bl6_sim_rpv_01', '20170204_tp_bl6_cri_1000r_02', '20170212_tp_bl6_crii_250r_01', '20180409_jg46_bl6_lob6a_04', '20180608_jg75', '20180608_jg72', '20180417_jg60_bl6_cri_04', '20180409_jg44_bl6_lob6a_02', '20180410_jg49_bl6_lob45_02', '20180410_jg48_bl6_lob6a_01', '20180417_jg58_bl6_sim_02', '20180410_jg50_bl6_lob6b_03', '20180612_jg77', '20180416_jg55_bl6_lob8_03', '20180417_jg61_bl6_crii_05', '20170116_tp_bl6_lob7_ml_08', '20180409_jg47_bl6_lob6a_05']\n",
      "33\n",
      "20170204_tp_bl6_cri_1750r_03\n",
      "20180416_jg56_bl6_lob8_04\n",
      "20170116_tp_bl6_lob45_ml_11\n",
      "20180410_jg52_bl6_lob7_05\n",
      "20170116_tp_bl6_lob7_1000r_10\n",
      "20180612_jg80\n",
      "20180608_jg71\n",
      "20170212_tp_bl6_crii_1000r_02\n",
      "20170115_tp_bl6_lob6a_rpv_03\n",
      "20170212_tp_bl6_crii_2000r_03\n",
      "20170130_tp_bl6_sim_1750r_03\n",
      "20170115_tp_bl6_lob6b_ml_04\n",
      "20170115_tp_bl6_lob6a_1000r_02\n",
      "20170116_tp_bl6_lob45_500r_12\n",
      "20180612_jg76\n",
      "20170115_tp_bl6_lob6a_500r_01\n",
      "20170130_tp_bl6_sim_rpv_01\n",
      "20170204_tp_bl6_cri_1000r_02\n",
      "20170212_tp_bl6_crii_250r_01\n",
      "20180409_jg46_bl6_lob6a_04\n",
      "20180608_jg75\n",
      "20180608_jg72\n",
      "20180417_jg60_bl6_cri_04\n",
      "20180409_jg44_bl6_lob6a_02\n",
      "20180410_jg49_bl6_lob45_02\n",
      "20180410_jg48_bl6_lob6a_01\n",
      "20180417_jg58_bl6_sim_02\n",
      "20180410_jg50_bl6_lob6b_03\n",
      "20180612_jg77\n",
      "20180416_jg55_bl6_lob8_03\n",
      "20180417_jg61_bl6_crii_05\n",
      "20170116_tp_bl6_lob7_ml_08\n",
      "20180409_jg47_bl6_lob6a_05\n",
      "Saved ../data/heatmap_volumes/HSV-H129_Trisynaptic_heatmap.tif\n",
      "PRV_Disynaptic\n",
      "['20180205_jg_bl6f_prv_01', '20180205_jg_bl6f_prv_02', '20180205_jg_bl6f_prv_03', '20180205_jg_bl6f_prv_04', '20180215_jg_bl6f_prv_05', '20180215_jg_bl6f_prv_06', '20180215_jg_bl6f_prv_08', '20180215_jg_bl6f_prv_09', '20180305_jg_bl6f_prv_11', '20180305_jg_bl6f_prv_12', '20180305_jg_bl6f_prv_13', '20180306_jg_bl6f_prv_14', '20180305_jg_bl6f_prv_15', '20180312_jg_bl6f_prv_17', '20180326_jg_bl6f_prv_37', '20180313_jg_bl6f_prv_21', '20180313_jg_bl6f_prv_23', '20180313_jg_bl6f_prv_24', '20180313_jg_bl6f_prv_25', '20180322_jg_bl6f_prv_27', '20180322_jg_bl6f_prv_28', '20180323_jg_bl6f_prv_30', '20180326_jg_bl6f_prv_33', '20180326_jg_bl6f_prv_34', '20180326_jg_bl6f_prv_35']\n",
      "25\n",
      "20180205_jg_bl6f_prv_01\n",
      "Cropping, blurring and eroding\n",
      "20180205_jg_bl6f_prv_02\n",
      "Cropping, blurring and eroding\n",
      "20180205_jg_bl6f_prv_03\n",
      "Cropping, blurring and eroding\n",
      "20180205_jg_bl6f_prv_04\n",
      "Cropping, blurring and eroding\n",
      "20180215_jg_bl6f_prv_05\n",
      "Cropping, blurring and eroding\n",
      "20180215_jg_bl6f_prv_06\n",
      "Cropping, blurring and eroding\n",
      "20180215_jg_bl6f_prv_08\n",
      "Cropping, blurring and eroding\n",
      "20180215_jg_bl6f_prv_09\n",
      "Cropping, blurring and eroding\n",
      "20180305_jg_bl6f_prv_11\n",
      "Cropping, blurring and eroding\n",
      "20180305_jg_bl6f_prv_12\n",
      "Cropping, blurring and eroding\n",
      "20180305_jg_bl6f_prv_13\n",
      "Cropping, blurring and eroding\n",
      "20180306_jg_bl6f_prv_14\n",
      "Cropping, blurring and eroding\n",
      "20180305_jg_bl6f_prv_15\n",
      "Cropping, blurring and eroding\n",
      "20180312_jg_bl6f_prv_17\n",
      "Cropping, blurring and eroding\n",
      "20180326_jg_bl6f_prv_37\n",
      "Cropping, blurring and eroding\n",
      "20180313_jg_bl6f_prv_21\n",
      "Cropping, blurring and eroding\n",
      "20180313_jg_bl6f_prv_23\n",
      "Cropping, blurring and eroding\n",
      "20180313_jg_bl6f_prv_24\n",
      "Cropping, blurring and eroding\n",
      "20180313_jg_bl6f_prv_25\n",
      "Cropping, blurring and eroding\n",
      "20180322_jg_bl6f_prv_27\n",
      "Cropping, blurring and eroding\n",
      "20180322_jg_bl6f_prv_28\n",
      "Cropping, blurring and eroding\n",
      "20180323_jg_bl6f_prv_30\n",
      "Cropping, blurring and eroding\n",
      "20180326_jg_bl6f_prv_33\n",
      "Cropping, blurring and eroding\n",
      "20180326_jg_bl6f_prv_34\n",
      "Cropping, blurring and eroding\n",
      "20180326_jg_bl6f_prv_35\n",
      "Cropping, blurring and eroding\n",
      "Saved ../data/heatmap_volumes/PRV_Disynaptic_heatmap.tif\n"
     ]
    }
   ],
   "source": [
    "home_dir = '/home/ahoag/progs/pisano_etal_injections'\n",
    "viz_dir = os.path.join(home_dir,'precomputed')\n",
    "datasets = ['HSV-H129_Disynaptic','HSV-H129_Trisynaptic','PRV_Disynaptic']\n",
    "pma_shape = (540,640,352)\n",
    "for dataset in datasets:\n",
    "    print(dataset)\n",
    "    savename = f'../data/heatmap_volumes/{dataset}_heatmap.tif'\n",
    "    if os.path.exists(savename):\n",
    "        print(f\"{savename} already exists. Skipping\")\n",
    "        continue\n",
    "    heatmap_vol = np.zeros(pma_shape)\n",
    "#     dataset_dir = os.path.join(viz_dir,dataset)\n",
    "#     sample_names = [x for x in os.listdir(dataset_dir) if x!='progress_dirs' and 'merged' not in x]\n",
    "    primary_injection_dict = dataset_primary_injection_dict[dataset]\n",
    "    sample_names = list(primary_injection_dict.keys())\n",
    "    print(sample_names)\n",
    "    print(len(sample_names))\n",
    "    for sample_name in sample_names:\n",
    "        print(sample_name)\n",
    "        if dataset in ['HSV-H129_Disynaptic','HSV-H129_Trisynaptic']:\n",
    "            inj_file = os.path.join(home_dir,'data',dataset,\n",
    "                f'{sample_name}.tif.tif')\n",
    "        else:\n",
    "            inj_file = os.path.join(home_dir,'data',dataset,\n",
    "                f'{sample_name}.tif')\n",
    "        \n",
    "        image = np.array(tifffile.imread(inj_file),dtype=np.uint8, order='F')\n",
    "        if dataset in ['PRV_Disynaptic']:\n",
    "            print(\"Cropping, blurring and eroding\")\n",
    "            # Crop, then blur and erode\n",
    "            image = image[:,450:,:]\n",
    "            image = gaussian_filter(image,sigma=1)\n",
    "            image[image!=0] = 1\n",
    "            image = binary_erosion(image).astype('uint8')\n",
    "        z_dim,y_dim,x_dim = image.shape\n",
    "        voxel_offset_y = 640-y_dim\n",
    "        posmask = image!=0\n",
    "        heatmap_vol[:,voxel_offset_y:,:][posmask] += 1\n",
    "    tifffile.imsave(savename,heatmap_vol.astype('uint8'))\n",
    "    print(f\"Saved {savename}\")"
   ]
  },
  {
   "cell_type": "code",
   "execution_count": 3,
   "metadata": {},
   "outputs": [
    {
     "data": {
      "text/plain": [
       "dtype('float64')"
      ]
     },
     "execution_count": 3,
     "metadata": {},
     "output_type": "execute_result"
    }
   ],
   "source": [
    "heatmap_vol.dtype"
   ]
  },
  {
   "cell_type": "code",
   "execution_count": 26,
   "metadata": {},
   "outputs": [
    {
     "data": {
      "text/plain": [
       "array([ 0.,  1.,  2.,  3.,  4.,  5.,  6.,  7.,  8.,  9., 10., 11.])"
      ]
     },
     "execution_count": 26,
     "metadata": {},
     "output_type": "execute_result"
    }
   ],
   "source": [
    "np.unique(heatmap_vol)"
   ]
  },
  {
   "cell_type": "code",
   "execution_count": 27,
   "metadata": {},
   "outputs": [
    {
     "data": {
      "image/png": "[encoded data removed]",
      "text/plain": [
       "<Figure size 576x576 with 2 Axes>"
      ]
     },
     "metadata": {
      "needs_background": "light"
     },
     "output_type": "display_data"
    }
   ],
   "source": [
    "fig = plt.figure(figsize=(8,8))\n",
    "ax=fig.add_subplot(1,1,1)\n",
    "im = ax.imshow(heatmap_vol[240],vmin=0,vmax=3)\n",
    "cbar = fig.colorbar(im) "
   ]
  },
  {
   "cell_type": "code",
   "execution_count": 28,
   "metadata": {},
   "outputs": [],
   "source": [
    "heatmap_file = '../data/heatmap_volumes/HSV-H129_Trisynaptic_heatmap.tif'\n",
    "heatmap_vol = tifffile.imread(heatmap_file)"
   ]
  },
  {
   "cell_type": "code",
   "execution_count": 29,
   "metadata": {},
   "outputs": [
    {
     "data": {
      "text/plain": [
       "array([0, 1, 2, 3, 4, 5, 6, 7, 8], dtype=uint8)"
      ]
     },
     "execution_count": 29,
     "metadata": {},
     "output_type": "execute_result"
    }
   ],
   "source": [
    "np.unique(heatmap_vol)"
   ]
  },
  {
   "cell_type": "code",
   "execution_count": null,
   "metadata": {},
   "outputs": [],
   "source": []
  }
 ],
 "metadata": {
  "kernelspec": {
   "display_name": "ng",
   "language": "python",
   "name": "ng"
  },
  "language_info": {
   "codemirror_mode": {
    "name": "ipython",
    "version": 3
   },
   "file_extension": ".py",
   "mimetype": "text/x-python",
   "name": "python",
   "nbconvert_exporter": "python",
   "pygments_lexer": "ipython3",
   "version": "3.8.5"
  }
 },
 "nbformat": 4,
 "nbformat_minor": 4
}
