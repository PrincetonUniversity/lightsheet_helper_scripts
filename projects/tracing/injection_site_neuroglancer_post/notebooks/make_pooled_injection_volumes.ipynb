{
 "cells": [
  {
   "cell_type": "markdown",
   "metadata": {},
   "source": [
    "# make_pooled_injection_volumes\n",
    "In this notebook I make the injection volumes that combine the masks from each timepoint into a single volume"
   ]
  },
  {
   "cell_type": "code",
   "execution_count": 61,
   "metadata": {},
   "outputs": [],
   "source": [
    "import neuroglancer as ng\n",
    "import matplotlib,os\n",
    "import numpy as np\n",
    "import tifffile\n",
    "from scipy.ndimage import gaussian_filter, binary_erosion\n",
    "\n",
    "from pylab import *\n",
    "import matplotlib.pyplot as plt\n",
    "%matplotlib inline\n",
    "ng.set_static_content_source(url='https://neuroglancer-braincogs.appspot.com')"
   ]
  },
  {
   "cell_type": "code",
   "execution_count": 64,
   "metadata": {},
   "outputs": [
    {
     "name": "stdout",
     "output_type": "stream",
     "text": [
      "HSV-H129_Disynaptic\n",
      "../data/merged_volumes/HSV-H129_Disynaptic_merged.tif already exists. Skipping\n",
      "HSV-H129_Trisynaptic\n",
      "../data/merged_volumes/HSV-H129_Trisynaptic_merged.tif already exists. Skipping\n",
      "PRV_Disynaptic\n",
      "['20180205_jg_bl6f_prv_01', '20180322_jg_bl6f_prv_28', '20180312_jg_bl6f_prv_17', '20180215_jg_bl6f_prv_05', '20180326_jg_bl6f_prv_34', '20180322_jg_bl6f_prv_27', '20180305_jg_bl6f_prv_11', '20180215_jg_bl6f_prv_06', '20180205_jg_bl6f_prv_04', '20180326_jg_bl6f_prv_37', '20180205_jg_bl6f_prv_02', '20180313_jg_bl6f_prv_25', '20180322_jg_bl6f_prv_26', '20180313_jg_bl6f_prv_20', '20180323_jg_bl6f_prv_30', '20180313_jg_bl6f_prv_23', '20180305_jg_bl6f_prv_13', '20180313_jg_bl6f_prv_21', '20180306_jg_bl6f_prv_16', '20180215_jg_bl6f_prv_08', '20180215_jg_bl6f_prv_07', '20180326_jg_bl6f_prv_36', '20180306_jg_bl6f_prv_14', '20180305_jg_bl6f_prv_12', '20180305_jg_bl6f_prv_15', '20180215_jg_bl6f_prv_09', '20180326_jg_bl6f_prv_35', '20180313_jg_bl6f_prv_24', '20180326_jg_bl6f_prv_33', '20180205_jg_bl6f_prv_03', '20180215_jg_bl6f_prv_10']\n",
      "20180205_jg_bl6f_prv_01\n",
      "Cropping, blurring and eroding\n",
      "20180322_jg_bl6f_prv_28\n",
      "Cropping, blurring and eroding\n",
      "20180312_jg_bl6f_prv_17\n",
      "Cropping, blurring and eroding\n",
      "20180215_jg_bl6f_prv_05\n",
      "Cropping, blurring and eroding\n",
      "20180326_jg_bl6f_prv_34\n",
      "Cropping, blurring and eroding\n",
      "20180322_jg_bl6f_prv_27\n",
      "Cropping, blurring and eroding\n",
      "20180305_jg_bl6f_prv_11\n",
      "Cropping, blurring and eroding\n",
      "20180215_jg_bl6f_prv_06\n",
      "Cropping, blurring and eroding\n",
      "20180205_jg_bl6f_prv_04\n",
      "Cropping, blurring and eroding\n",
      "20180326_jg_bl6f_prv_37\n",
      "Cropping, blurring and eroding\n",
      "20180205_jg_bl6f_prv_02\n",
      "Cropping, blurring and eroding\n",
      "20180313_jg_bl6f_prv_25\n",
      "Cropping, blurring and eroding\n",
      "20180322_jg_bl6f_prv_26\n",
      "Cropping, blurring and eroding\n",
      "20180313_jg_bl6f_prv_20\n",
      "Cropping, blurring and eroding\n",
      "20180323_jg_bl6f_prv_30\n",
      "Cropping, blurring and eroding\n",
      "20180313_jg_bl6f_prv_23\n",
      "Cropping, blurring and eroding\n",
      "20180305_jg_bl6f_prv_13\n",
      "Cropping, blurring and eroding\n",
      "20180313_jg_bl6f_prv_21\n",
      "Cropping, blurring and eroding\n",
      "20180306_jg_bl6f_prv_16\n",
      "Cropping, blurring and eroding\n",
      "20180215_jg_bl6f_prv_08\n",
      "Cropping, blurring and eroding\n",
      "20180215_jg_bl6f_prv_07\n",
      "Cropping, blurring and eroding\n",
      "20180326_jg_bl6f_prv_36\n",
      "Cropping, blurring and eroding\n",
      "20180306_jg_bl6f_prv_14\n",
      "Cropping, blurring and eroding\n",
      "20180305_jg_bl6f_prv_12\n",
      "Cropping, blurring and eroding\n",
      "20180305_jg_bl6f_prv_15\n",
      "Cropping, blurring and eroding\n",
      "20180215_jg_bl6f_prv_09\n",
      "Cropping, blurring and eroding\n",
      "20180326_jg_bl6f_prv_35\n",
      "Cropping, blurring and eroding\n",
      "20180313_jg_bl6f_prv_24\n",
      "Cropping, blurring and eroding\n",
      "20180326_jg_bl6f_prv_33\n",
      "Cropping, blurring and eroding\n",
      "20180205_jg_bl6f_prv_03\n",
      "Cropping, blurring and eroding\n",
      "20180215_jg_bl6f_prv_10\n",
      "Cropping, blurring and eroding\n",
      "Saved ../data/merged_volumes/PRV_Disynaptic_merged.tif\n"
     ]
    }
   ],
   "source": [
    "home_dir = '/home/ahoag/progs/pisano_etal_injections'\n",
    "viz_dir = os.path.join(home_dir,'precomputed')\n",
    "datasets = ['HSV-H129_Disynaptic','HSV-H129_Trisynaptic','PRV_Disynaptic']\n",
    "pma_shape = (540,640,352)\n",
    "for dataset in datasets:\n",
    "    print(dataset)\n",
    "    savename = f'../data/merged_volumes/{dataset}_merged.tif'\n",
    "    if os.path.exists(savename):\n",
    "        print(f\"{savename} already exists. Skipping\")\n",
    "        continue\n",
    "    merged_vol = np.zeros(pma_shape)\n",
    "    dataset_dir = os.path.join(viz_dir,dataset)\n",
    "    sample_names = [x for x in os.listdir(dataset_dir) if x!='progress_dirs']\n",
    "    print(sample_names)\n",
    "    for sample_name in sample_names:\n",
    "        print(sample_name)\n",
    "        if dataset in ['HSV-H129_Disynaptic','HSV-H129_Trisynaptic']:\n",
    "            inj_file = os.path.join(home_dir,'data',dataset,\n",
    "                f'{sample_name}.tif.tif')\n",
    "        else:\n",
    "            inj_file = os.path.join(home_dir,'data',dataset,\n",
    "                f'{sample_name}.tif')\n",
    "        \n",
    "        image = np.array(tifffile.imread(inj_file),dtype=np.uint8, order='F')\n",
    "        if dataset in ['PRV_Disynaptic']:\n",
    "            print(\"Cropping, blurring and eroding\")\n",
    "            # Crop, then blur and erode\n",
    "            image = image[:,450:,:]\n",
    "            image = gaussian_filter(image,sigma=1)\n",
    "            image[image!=0] = 1\n",
    "            image = binary_erosion(image).astype('uint8')\n",
    "        z_dim,y_dim,x_dim = image.shape\n",
    "        voxel_offset_y = 640-y_dim\n",
    "#         voxel_offset=[0,voxel_offset_y,0]\n",
    "        merged_vol[:,voxel_offset_y:,:] += image\n",
    "    # Finally, anything > 0 gets set to 1\n",
    "    merged_vol[merged_vol!=0] = 1\n",
    "    tifffile.imsave(savename,merged_vol.astype('uint8'))\n",
    "    print(f\"Saved {savename}\")"
   ]
  },
  {
   "cell_type": "code",
   "execution_count": 52,
   "metadata": {},
   "outputs": [
    {
     "data": {
      "text/plain": [
       "dtype('float64')"
      ]
     },
     "execution_count": 52,
     "metadata": {},
     "output_type": "execute_result"
    }
   ],
   "source": [
    "merged_vol.dtype"
   ]
  },
  {
   "cell_type": "code",
   "execution_count": 53,
   "metadata": {},
   "outputs": [
    {
     "data": {
      "text/plain": [
       "array([0., 1.])"
      ]
     },
     "execution_count": 53,
     "metadata": {},
     "output_type": "execute_result"
    }
   ],
   "source": [
    "np.unique(merged_vol)"
   ]
  },
  {
   "cell_type": "code",
   "execution_count": 65,
   "metadata": {},
   "outputs": [
    {
     "data": {
      "text/plain": [
       "<matplotlib.image.AxesImage at 0x7fb975fd5df0>"
      ]
     },
     "execution_count": 65,
     "metadata": {},
     "output_type": "execute_result"
    },
    {
     "data": {
      "image/png": "[encoded data removed]",
      "text/plain": [
       "<Figure size 576x576 with 1 Axes>"
      ]
     },
     "metadata": {
      "needs_background": "light"
     },
     "output_type": "display_data"
    }
   ],
   "source": [
    "fig = plt.figure(figsize=(8,8))\n",
    "ax=fig.add_subplot(1,1,1)\n",
    "ax.imshow(merged_vol[260])"
   ]
  },
  {
   "cell_type": "code",
   "execution_count": null,
   "metadata": {},
   "outputs": [],
   "source": []
  }
 ],
 "metadata": {
  "kernelspec": {
   "display_name": "ng",
   "language": "python",
   "name": "ng"
  },
  "language_info": {
   "codemirror_mode": {
    "name": "ipython",
    "version": 3
   },
   "file_extension": ".py",
   "mimetype": "text/x-python",
   "name": "python",
   "nbconvert_exporter": "python",
   "pygments_lexer": "ipython3",
   "version": "3.8.5"
  }
 },
 "nbformat": 4,
 "nbformat_minor": 4
}
