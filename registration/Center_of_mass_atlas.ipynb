{
 "cells": [
  {
   "cell_type": "markdown",
   "metadata": {},
   "source": [
    "## Center_of_mass_atlas (python 3.6+)\n",
    "The purpose of this notebook is to explore center of mass calculations for ids (a.k.a \"segments\") in an annotation atlas. The application is for aligning brains in their raw space by shifting them so that the center of mass of an atlas region is aligned. The procedure for this is as follows (where the bolded step is the one we are testing out in this notebook):\n",
    "1. Each raw space brain gets a raw space atlas by back-transforming the atlas using the registration transformation parameters. \n",
    "2. One brain is chosen as the reference brain\n",
    "3. **For each brain (including reference brain), calculate the center of mass of a region on which you want to align the brains**\n",
    "4. Calculate the offset (dx,dy,dz) between the center of mass of this region between each brain and the reference brain.\n",
    "5. Apply the offset to each of the brains to align them to the reference brain. \n",
    "\n",
    "After step 5, all brains can be compared in the same coordinate system (near the region of interest)"
   ]
  },
  {
   "cell_type": "code",
   "execution_count": 1,
   "metadata": {},
   "outputs": [],
   "source": [
    "import cloudvolume\n",
    "import numpy as np\n",
    "import time\n",
    "import tifffile\n",
    "import pandas as pd\n",
    "from scipy import ndimage\n",
    "import matplotlib.pyplot as plt\n",
    "%matplotlib inline"
   ]
  },
  {
   "cell_type": "markdown",
   "metadata": {},
   "source": [
    "# Scipy implementation"
   ]
  },
  {
   "cell_type": "markdown",
   "metadata": {},
   "source": [
    "## Figure out on simple 2D array first"
   ]
  },
  {
   "cell_type": "code",
   "execution_count": 2,
   "metadata": {},
   "outputs": [],
   "source": [
    "b = np.array(([0,1,1,0],\n",
    "              [0,1,1,0],\n",
    "              [0,3,0,0],\n",
    "              [0,0,2,2],\n",
    "              [0,0,2,2]))"
   ]
  },
  {
   "cell_type": "code",
   "execution_count": 3,
   "metadata": {},
   "outputs": [
    {
     "data": {
      "text/plain": [
       "[(0.5, 1.5), (3.5, 2.5), (2.0, 1.0)]"
      ]
     },
     "execution_count": 3,
     "metadata": {},
     "output_type": "execute_result"
    }
   ],
   "source": [
    "# Calculate the x,y center of mass for ids 1,2 and 3 \n",
    "ndimage.measurements.center_of_mass(b,b,index=[1,2,3]) # returns a list of tuples (x,y) for each index (aka id)"
   ]
  },
  {
   "cell_type": "markdown",
   "metadata": {},
   "source": [
    "## Figure out in atlas space first\n",
    "Eventually, I will want to determine center of mass of each segment in the volume in the raw data space, but that will be more computationally intensive, so let's try it first in lower resolution atlas space"
   ]
  },
  {
   "cell_type": "code",
   "execution_count": 4,
   "metadata": {},
   "outputs": [],
   "source": [
    "# Use the 16-bit 2017 allen atlas\n",
    "atlas_file = '/jukebox/LightSheetTransfer/atlas/allen_atlas/annotation_2017_25um_sagittal_forDVscans_16bit.tif'\n",
    "data = tifffile.imread(atlas_file)\n",
    "segments = np.unique(data)"
   ]
  },
  {
   "cell_type": "code",
   "execution_count": 5,
   "metadata": {},
   "outputs": [
    {
     "data": {
      "text/plain": [
       "array([ 0,  1,  2,  6,  7,  9, 10, 12, 15, 17], dtype=uint16)"
      ]
     },
     "execution_count": 5,
     "metadata": {},
     "output_type": "execute_result"
    }
   ],
   "source": [
    "segments[0:10]"
   ]
  },
  {
   "cell_type": "code",
   "execution_count": 6,
   "metadata": {},
   "outputs": [
    {
     "data": {
      "text/plain": [
       "[(227.71669338815713, 359.67279854553266, 87.14533166611689)]"
      ]
     },
     "execution_count": 6,
     "metadata": {},
     "output_type": "execute_result"
    }
   ],
   "source": [
    "# Let's try it out for an index I know is in the list of segments\n",
    "ndimage.measurements.center_of_mass(data,data,index=[10])"
   ]
  },
  {
   "cell_type": "markdown",
   "metadata": {},
   "source": [
    "## Now compare to structure_centers.csv"
   ]
  },
  {
   "cell_type": "code",
   "execution_count": 7,
   "metadata": {},
   "outputs": [],
   "source": [
    "# see: http://download.alleninstitute.org/informatics-archive/current-release/mouse_ccf/annotation/ccf_2017/structure_centers.csv\n",
    "centers_file = '/home/ahoag/ngdemo/graphviz/structure_centers.csv'\n",
    "df = pd.read_csv(centers_file)"
   ]
  },
  {
   "cell_type": "code",
   "execution_count": 8,
   "metadata": {
    "scrolled": true
   },
   "outputs": [
    {
     "data": {
      "text/html": [
       "<div>\n",
       "<style scoped>\n",
       "    .dataframe tbody tr th:only-of-type {\n",
       "        vertical-align: middle;\n",
       "    }\n",
       "\n",
       "    .dataframe tbody tr th {\n",
       "        vertical-align: top;\n",
       "    }\n",
       "\n",
       "    .dataframe thead th {\n",
       "        text-align: right;\n",
       "    }\n",
       "</style>\n",
       "<table border=\"1\" class=\"dataframe\">\n",
       "  <thead>\n",
       "    <tr style=\"text-align: right;\">\n",
       "      <th></th>\n",
       "      <th>structure_id</th>\n",
       "      <th>x</th>\n",
       "      <th>y</th>\n",
       "      <th>z</th>\n",
       "      <th>reference_space_id</th>\n",
       "    </tr>\n",
       "  </thead>\n",
       "  <tbody>\n",
       "    <tr>\n",
       "      <td>164</td>\n",
       "      <td>10</td>\n",
       "      <td>8990</td>\n",
       "      <td>2170</td>\n",
       "      <td>4640</td>\n",
       "      <td>10</td>\n",
       "    </tr>\n",
       "    <tr>\n",
       "      <td>1004</td>\n",
       "      <td>10</td>\n",
       "      <td>8990</td>\n",
       "      <td>2170</td>\n",
       "      <td>6760</td>\n",
       "      <td>9</td>\n",
       "    </tr>\n",
       "  </tbody>\n",
       "</table>\n",
       "</div>"
      ],
      "text/plain": [
       "      structure_id     x     y     z  reference_space_id\n",
       "164             10  8990  2170  4640                  10\n",
       "1004            10  8990  2170  6760                   9"
      ]
     },
     "execution_count": 8,
     "metadata": {},
     "output_type": "execute_result"
    }
   ],
   "source": [
    "df[df['structure_id']==10]"
   ]
  },
  {
   "cell_type": "markdown",
   "metadata": {},
   "source": [
    "It looks like the x,y,z bounds of this file are too large so it's not the same atlas as what we have.\n",
    "\n",
    "So it looks like we will have to calculate the centers of mass ourselves. Unfortunately this is quite slow, even in just the registered space (which is much larger). "
   ]
  },
  {
   "cell_type": "code",
   "execution_count": 9,
   "metadata": {},
   "outputs": [
    {
     "name": "stdout",
     "output_type": "stream",
     "text": [
      "[(array([227.68534808, 193.34016084, 116.80082935]),), (array([227.63349642, 359.16802791, 194.92039142]),), (array([227.75691899, 229.25385442, 261.16855175]),), (array([227.69747526, 373.68714616,  98.09518455]),), (array([227.88244621, 309.02332956, 148.38346546]),), (array([227.93587873, 362.64426542, 181.08982339]),), (array([227.55374491, 240.4747728 , 256.06612347]),), (array([227.73436472, 357.54001492,  61.08353927]),), (array([227.74616123, 364.11756238, 151.76631478]),), (array([228.63179218, 178.50667302, 180.98204639]),)]\n",
      "Time elapsed: 4.427063825000005 seconds\n"
     ]
    }
   ],
   "source": [
    "t1 = time.perf_counter()\n",
    "centers=ndimage.measurements.center_of_mass(data,data,index=[segments[10:20]])\n",
    "print(centers)\n",
    "t2 = time.perf_counter()\n",
    "print(f'Time elapsed: {t2-t1} seconds')"
   ]
  },
  {
   "cell_type": "markdown",
   "metadata": {},
   "source": [
    "OK so ~5 seconds per 10 segments means ~300 seconds or 5 minutes for 600 segments\n",
    "This is in atlas space though, so we need an idea of how long it will take in raw space"
   ]
  },
  {
   "cell_type": "markdown",
   "metadata": {},
   "source": [
    "## Raw data space annotation volume"
   ]
  },
  {
   "cell_type": "code",
   "execution_count": 10,
   "metadata": {},
   "outputs": [],
   "source": [
    "# Just pick one as an example\n",
    "atlas_file_rawspace = '/jukebox/scratch/kellyms/m61467_demons_dorsal/transformed_annotations/result.tif'"
   ]
  },
  {
   "cell_type": "code",
   "execution_count": 11,
   "metadata": {},
   "outputs": [],
   "source": [
    "data_rawspace = tifffile.imread(atlas_file_rawspace)"
   ]
  },
  {
   "cell_type": "code",
   "execution_count": 12,
   "metadata": {},
   "outputs": [],
   "source": [
    "segments_rawspace = np.unique(data_rawspace)"
   ]
  },
  {
   "cell_type": "code",
   "execution_count": 13,
   "metadata": {},
   "outputs": [
    {
     "data": {
      "text/plain": [
       "{-31360,\n",
       " -27456,\n",
       " -24000,\n",
       " -21792,\n",
       " -21760,\n",
       " -21728,\n",
       " -20768,\n",
       " -20736,\n",
       " -20704,\n",
       " -20672,\n",
       " -15456,\n",
       " -15440,\n",
       " -13376,\n",
       " -11264,\n",
       " 1216,\n",
       " 2656,\n",
       " 12096,\n",
       " 12160,\n",
       " 12288,\n",
       " 14144,\n",
       " 22720,\n",
       " 28800,\n",
       " 28864}"
      ]
     },
     "execution_count": 13,
     "metadata": {},
     "output_type": "execute_result"
    }
   ],
   "source": [
    "# There are some differences due to bit conversion during transformix. Does not really matter for this example\n",
    "set(segments_rawspace).difference(set(segments))"
   ]
  },
  {
   "cell_type": "code",
   "execution_count": 14,
   "metadata": {},
   "outputs": [
    {
     "data": {
      "text/plain": [
       "array([164, 169, 171, 173, 177, 178, 180, 181, 186, 187], dtype=int16)"
      ]
     },
     "execution_count": 14,
     "metadata": {},
     "output_type": "execute_result"
    }
   ],
   "source": [
    "# Let's find some that look like reasonable IDs (i.e. non-negative and not very large)\n",
    "segments_rawspace[100:110] # These should work"
   ]
  },
  {
   "cell_type": "code",
   "execution_count": 15,
   "metadata": {},
   "outputs": [
    {
     "data": {
      "text/plain": [
       "array([164], dtype=int16)"
      ]
     },
     "execution_count": 15,
     "metadata": {},
     "output_type": "execute_result"
    }
   ],
   "source": [
    "segments_rawspace[100:101]"
   ]
  },
  {
   "cell_type": "code",
   "execution_count": 16,
   "metadata": {},
   "outputs": [
    {
     "name": "stdout",
     "output_type": "stream",
     "text": [
      "[(304.258064516129, 606.5591397849462, 274.81720430107526)]\n",
      "Time elapsed: 35.12924385699989 seconds\n"
     ]
    }
   ],
   "source": [
    "# Now time how long the look-up is in the raw space for a single ID\n",
    "t1 = time.perf_counter()\n",
    "centers=ndimage.measurements.center_of_mass(data_rawspace,data_rawspace,index=[segments_rawspace[100]])\n",
    "print(centers)\n",
    "t2 = time.perf_counter()\n",
    "print(f'Time elapsed: {t2-t1} seconds')"
   ]
  },
  {
   "cell_type": "markdown",
   "metadata": {},
   "source": [
    "That's wayyy too long for a single ID. We have ~600 IDs Let's try to implement our own function and see if it is faster"
   ]
  },
  {
   "cell_type": "markdown",
   "metadata": {},
   "source": [
    "# Custom implementation using Numpy "
   ]
  },
  {
   "cell_type": "code",
   "execution_count": 17,
   "metadata": {},
   "outputs": [],
   "source": [
    "def calc_center_of_mass2D(a,label):\n",
    "    \"\"\"\n",
    "    ---PURPOSE---\n",
    "    Calculate center of mass of a label (aka \"id\" or \"segment\")\n",
    "    in a 2D numpy array \n",
    "    ---INPUT---\n",
    "    a        2D numpy array\n",
    "    label    An integer id that is in the array\n",
    "    ---OUTPUT--\n",
    "    y_avg    Average y coordinate of the label in the array\n",
    "    x_avg    Average x coordinate of the label in the array\n",
    "             It returns them in this order (y, then x) to conform with scipy's center of mass fn\n",
    "    \"\"\"\n",
    "    y_indices,x_indices = np.where(a==label)\n",
    "    y_avg = np.mean(y_indices)\n",
    "    x_avg = np.mean(x_indices)\n",
    "    return y_avg,x_avg"
   ]
  },
  {
   "cell_type": "markdown",
   "metadata": {},
   "source": [
    "## Simple 2D case first"
   ]
  },
  {
   "cell_type": "code",
   "execution_count": 18,
   "metadata": {},
   "outputs": [],
   "source": [
    "b = np.array(([0,1,1,0],\n",
    "              [0,1,1,0],\n",
    "              [0,3,0,0],\n",
    "              [0,0,2,2],\n",
    "              [0,0,2,2]))"
   ]
  },
  {
   "cell_type": "code",
   "execution_count": 19,
   "metadata": {},
   "outputs": [
    {
     "data": {
      "text/plain": [
       "(0.5, 1.5)"
      ]
     },
     "execution_count": 19,
     "metadata": {},
     "output_type": "execute_result"
    }
   ],
   "source": [
    "calc_center_of_mass2D(b,1)"
   ]
  },
  {
   "cell_type": "markdown",
   "metadata": {},
   "source": [
    "## Now 3D case"
   ]
  },
  {
   "cell_type": "code",
   "execution_count": 20,
   "metadata": {},
   "outputs": [],
   "source": [
    "def calc_center_of_mass3D(label,a):\n",
    "    \"\"\"\n",
    "    ---PURPOSE---\n",
    "    Calculate center of mass of a label (aka \"id\" or \"segment\")\n",
    "    in a 3D numpy array. Order of inputs now switched for when I try to parallelize below.\n",
    "    ---INPUT---\n",
    "    a        3D numpy array\n",
    "    label    An integer id that is in the array\n",
    "    ---OUTPUT--\n",
    "    z_avg    Average z coordinate of the label in the array\n",
    "    y_avg    Average y coordinate of the label in the array\n",
    "    x_avg    Average x coordinate of the label in the array\n",
    "             It returns them in this order (z,y,x) to conform with output of scipy's center of mass fn\n",
    "    \"\"\"\n",
    "    z_indices,y_indices,x_indices = np.where(a==label)\n",
    "    z_avg,y_avg,x_avg = np.mean((z_indices,y_indices,x_indices),axis=1)\n",
    "    return z_avg,y_avg,x_avg"
   ]
  },
  {
   "cell_type": "code",
   "execution_count": 21,
   "metadata": {},
   "outputs": [
    {
     "name": "stdout",
     "output_type": "stream",
     "text": [
      "CPU times: user 176 ms, sys: 28 ms, total: 204 ms\n",
      "Wall time: 204 ms\n"
     ]
    },
    {
     "data": {
      "text/plain": [
       "(227.6862375898665, 266.20558028072577, 186.71175743863776)"
      ]
     },
     "execution_count": 21,
     "metadata": {},
     "output_type": "execute_result"
    }
   ],
   "source": [
    "%%time\n",
    "calc_center_of_mass3D(label=6,a=data)"
   ]
  },
  {
   "cell_type": "code",
   "execution_count": 22,
   "metadata": {},
   "outputs": [
    {
     "name": "stdout",
     "output_type": "stream",
     "text": [
      "CPU times: user 2.88 s, sys: 1.5 s, total: 4.38 s\n",
      "Wall time: 4.38 s\n"
     ]
    },
    {
     "data": {
      "text/plain": [
       "[(227.6862375898665, 266.20558028072577, 186.71175743863776)]"
      ]
     },
     "execution_count": 22,
     "metadata": {},
     "output_type": "execute_result"
    }
   ],
   "source": [
    "%%time\n",
    "# Compare to scipy function\n",
    "ndimage.measurements.center_of_mass(data,data,index=[6])"
   ]
  },
  {
   "cell_type": "markdown",
   "metadata": {},
   "source": [
    "Custom Numpy implementation is ~20 times faster than scipy's recipe"
   ]
  },
  {
   "cell_type": "markdown",
   "metadata": {},
   "source": [
    "## Now parallelize\n",
    "The look-up of center of mass is easily parallelizable because we will be looping through individual IDs and accessing the same, unchanged numpy array"
   ]
  },
  {
   "cell_type": "code",
   "execution_count": 23,
   "metadata": {},
   "outputs": [],
   "source": [
    "from multiprocessing import Pool #  Process pool\n",
    "from concurrent.futures import ProcessPoolExecutor\n",
    "from functools import partial"
   ]
  },
  {
   "cell_type": "code",
   "execution_count": 24,
   "metadata": {},
   "outputs": [
    {
     "name": "stdout",
     "output_type": "stream",
     "text": [
      "Took 2.0019356590000825 seconds\n"
     ]
    }
   ],
   "source": [
    "# Time how long 5 take in series (no parallelization) on raw-space annotation atlas\n",
    "t1 = time.perf_counter()\n",
    "all_coords = []\n",
    "for label in segments_rawspace[100:105]:\n",
    "    coords = calc_center_of_mass3D(a=data_rawspace,label=label)\n",
    "    all_coords.append(coords)\n",
    "t2 = time.perf_counter()\n",
    "print(f\"Took {t2-t1} seconds\")"
   ]
  },
  {
   "cell_type": "code",
   "execution_count": 25,
   "metadata": {},
   "outputs": [
    {
     "name": "stdout",
     "output_type": "stream",
     "text": [
      "Took 5.075326902000143 seconds\n"
     ]
    }
   ],
   "source": [
    "# Time how long 5 take in parallel\n",
    "t1 = time.perf_counter()\n",
    "partial_func = partial(calc_center_of_mass3D,a=data_rawspace) # makes a new function with the numpy array fixed (needed for map() below)\n",
    "with Pool(processes=5) as p:\n",
    "    results = p.map(partial_func, segments_rawspace[100:105])\n",
    "t2 = time.perf_counter()\n",
    "print(f\"Took {t2-t1} seconds\")"
   ]
  },
  {
   "cell_type": "markdown",
   "metadata": {},
   "source": [
    "So this is actually slower than in series! First, let's make sure it worked properly"
   ]
  },
  {
   "cell_type": "code",
   "execution_count": 26,
   "metadata": {},
   "outputs": [
    {
     "data": {
      "text/plain": [
       "True"
      ]
     },
     "execution_count": 26,
     "metadata": {},
     "output_type": "execute_result"
    }
   ],
   "source": [
    "# Check that the centers of mass are the same in series and parallel\n",
    "results == all_coords"
   ]
  },
  {
   "cell_type": "markdown",
   "metadata": {},
   "source": [
    "It gave the same result, so it's not an obvious bug. Maybe because the array is shared between all parallel processes, that is slowing things down?\n",
    "\n",
    "Let's try a slightly differently designed center of mass function."
   ]
  },
  {
   "cell_type": "code",
   "execution_count": 27,
   "metadata": {},
   "outputs": [],
   "source": [
    "def calc_center_of_mass3D_parallel(label):\n",
    "    \"\"\"\n",
    "    ---PURPOSE---\n",
    "    Calculate center of mass of a label (aka \"id\" or \"segment\")\n",
    "    in a 3D numpy array. The numpy array \"data_rawspace\" must be defined globally.\n",
    "    ---INPUT---\n",
    "    label    An integer id that is in the array\n",
    "    ---OUTPUT--\n",
    "    z_avg    Average z coordinate of the label in the array\n",
    "    y_avg    Average y coordinate of the label in the array\n",
    "    x_avg    Average x coordinate of the label in the array\n",
    "             It returns them in this order (z,y,x) to conform with output of scipy's center of mass fn\n",
    "    \"\"\"\n",
    "    z_indices,y_indices,x_indices = np.where(data_rawspace==label)\n",
    "    z_avg,y_avg,x_avg = np.mean((z_indices,y_indices,x_indices),axis=1)\n",
    "    return z_avg,y_avg,x_avg"
   ]
  },
  {
   "cell_type": "code",
   "execution_count": 28,
   "metadata": {},
   "outputs": [
    {
     "name": "stdout",
     "output_type": "stream",
     "text": [
      "Took 0.777182301999801 seconds\n"
     ]
    }
   ],
   "source": [
    "# Time how long 5 take in parallel for same ids as before, but using new function\n",
    "t1 = time.perf_counter()\n",
    "labels = segments_rawspace[100:105]\n",
    "with Pool(processes=5) as p:\n",
    "    results = p.map(calc_center_of_mass3D_parallel,labels)\n",
    "t2 = time.perf_counter()\n",
    "print(f\"Took {t2-t1} seconds\")"
   ]
  },
  {
   "cell_type": "markdown",
   "metadata": {},
   "source": [
    "This is much faster than before, and importantly much faster than the series implementation.\n",
    "\n",
    "How dependent is the time on the number of parallel processes"
   ]
  },
  {
   "cell_type": "code",
   "execution_count": 29,
   "metadata": {},
   "outputs": [],
   "source": [
    "processes_list = list(range(1,15))\n",
    "labels = segments_rawspace[100:110]\n",
    "durations = []\n",
    "for n_processes in processes_list:\n",
    "    t1 = time.perf_counter()\n",
    "    with Pool(processes=n_processes) as p:\n",
    "        results = p.map(calc_center_of_mass3D_parallel,labels)\n",
    "    t2 = time.perf_counter()\n",
    "    durations.append(t2-t1)"
   ]
  },
  {
   "cell_type": "code",
   "execution_count": 30,
   "metadata": {},
   "outputs": [
    {
     "data": {
      "text/plain": [
       "Text(0.5, 1.0, 'Execution time versus number of cores used\\nfor 10 center of mass lookups\\nin raw-space annotation volume')"
      ]
     },
     "execution_count": 30,
     "metadata": {},
     "output_type": "execute_result"
    },
    {
     "data": {
      "image/png": "[encoded data removed]",
      "text/plain": [
       "<Figure size 432x288 with 1 Axes>"
      ]
     },
     "metadata": {
      "needs_background": "light"
     },
     "output_type": "display_data"
    }
   ],
   "source": [
    "plt.scatter(processes_list,durations)\n",
    "plt.xlabel('Cores used')\n",
    "plt.ylabel('Time (s)')\n",
    "plt.title('Execution time versus number of cores used\\nfor 10 center of mass lookups\\nin raw-space annotation volume')"
   ]
  },
  {
   "cell_type": "markdown",
   "metadata": {},
   "source": [
    "There is a minimum around 10 for the desktop linux machines which have 12 cores. 10 is the case where each calculation is getting its own core. More cores is less efficient because of the overhead of launching new parallel processes. \n",
    "\n",
    "For a larger set of labels than 10, we will probably want to adopt a slightly different strategy. Also if our cpu architecture changes we will want to adopt a different strategy. "
   ]
  }
 ],
 "metadata": {
  "kernelspec": {
   "display_name": "ng",
   "language": "python",
   "name": "ng"
  },
  "language_info": {
   "codemirror_mode": {
    "name": "ipython",
    "version": 3
   },
   "file_extension": ".py",
   "mimetype": "text/x-python",
   "name": "python",
   "nbconvert_exporter": "python",
   "pygments_lexer": "ipython3",
   "version": "3.6.9"
  }
 },
 "nbformat": 4,
 "nbformat_minor": 2
}
