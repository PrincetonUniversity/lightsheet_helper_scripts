{
 "cells": [
  {
   "cell_type": "markdown",
   "metadata": {},
   "source": [
    "# brain_to_brain_inverse_registration\n",
    "The purpose of this notebook is to demonstrate how to transform clearmap2-detected points from raw space to atlas space when elastix fails during the usual transformation steps. Sometimes elastix will fail during either the affine or bspline (primarily this one) step giving an error like: \n",
    "```\n",
    "Description: itk::ERROR: AdvancedMattesMutualInformationMetric(0x20e2330): Too many samples map outside moving image buffer: 0 / 10000\n",
    "\n",
    "\n",
    "Error occurred during actual registration.\n",
    "```\n",
    "If this happens, there may still be a way to transform raw points from this brain to atlas space. One way to do this is use a different brain for which the transformations between raw space and atlas space have already been obtained. In this notebook, we will refer to this brain as the **working brain**. The trick is to find the transformation between the brain for which elastix is failing (we will call this the **faulty brain**) and the working brain, which is much less likely to fail. Let's say for the faulty brain we have a 642 nm signal channel whose raw space points we want to transform to the atlas, and we also have a 488 nm autofluorescence channel. The transformation steps to obtain faulty brain's raw points in atlas space look like:\n",
    "\n",
    "```\n",
    "\n",
    "642_faulty ->  488_faulty -> 488_working  -> atlas\n",
    "\n",
    "```\n",
    "where `488_faulty -> 488_working` is the only new transformation we should need. Note that because we are transforming points we actually need the inverse of this transformation, so:\n",
    "- moving: 488_working\n",
    "- fixed: 488_faulty\n",
    "Likewise for all of the other arrows. Once we obtain these transformations with elastix, you can run this notebook to apply the transformations to the raw space points to obtain them in atlas space.   \n",
    "\n",
    "This notebook assumes you have run ClearMap2 to obtain the points and have run the ClearMap2 pipeline: https://github.com/PrincetonUniversity/lightsheet_helper_scripts/tree/master/clearmap2/pipeline/cfos_cell_detection_pipeline\n",
    "\n",
    "If you have not, then you will need to do some modification of the paths below. The general idea of the notebook should work regardless of how you have your files organized. "
   ]
  },
  {
   "cell_type": "code",
   "execution_count": null,
   "metadata": {},
   "outputs": [],
   "source": [
    "import tifffile, glob, os, sys, json\n",
    "import numpy as np\n",
    "import matplotlib.pyplot as plt\n",
    "import cv2\n",
    "import multiprocessing as mp\n",
    "%matplotlib inline"
   ]
  },
  {
   "cell_type": "code",
   "execution_count": null,
   "metadata": {},
   "outputs": [],
   "source": [
    "sys.path.append('/jukebox/wang/ahoag/ClearMap2') # change to wherever you have clearmap2 cloned\n",
    "import ClearMap.IO.Workspace as wsp\n",
    "import ClearMap.IO.IO as io\n",
    "import ClearMap.ParallelProcessing.BlockProcessing as bp\n",
    "import ClearMap.ImageProcessing.Experts.Cells as cells\n",
    "import ClearMap.Settings as settings\n",
    "import ClearMap.Alignment.Resampling as res\n",
    "import ClearMap.Alignment.Elastix as elx   "
   ]
  },
  {
   "cell_type": "markdown",
   "metadata": {},
   "source": [
    "## Attempt to align points from one brain to another then to atlas\n",
    "In this example, we will be working with Lightserv request: zimmerman_06, sample name: zimmerman_06-352 whose elastix command failed during the inverse registration step of the atlas -> 488 channel. The elastix transformations for sample_name: zimmerman_06-354 in this same request worked, so we will be using that as the \"working brain\". "
   ]
  },
  {
   "cell_type": "code",
   "execution_count": null,
   "metadata": {},
   "outputs": [],
   "source": [
    "request_name = \"zimmerman_06\"\n",
    "faulty_brain = \"zimmerman_06-352\"\n",
    "working_brain = \"zimmerman_06-354\"\n",
    "output_rootpath = \"/jukebox/witten/Chris/data/clearmap2\" # set to rootpath of clearmap2 pipeline output files"
   ]
  },
  {
   "cell_type": "code",
   "execution_count": null,
   "metadata": {},
   "outputs": [],
   "source": [
    "faulty_clearmap_dir = os.path.join(output_rootpath,request_name,faulty_brain,'imaging_request_1','rawdata','resolution_3.6x')"
   ]
  },
  {
   "cell_type": "code",
   "execution_count": null,
   "metadata": {},
   "outputs": [],
   "source": [
    "ws_faulty = wsp.Workspace('CellMap', directory=faulty_clearmap_dir);\n",
    "ws_faulty.debug=False\n",
    "ws_faulty.info()"
   ]
  },
  {
   "cell_type": "code",
   "execution_count": null,
   "metadata": {},
   "outputs": [],
   "source": [
    "ch488_downsized_dir = os.path.join(faulty_clearmap_dir,'Ex_488_Em_0_downsized')\n",
    "ch488_downsized_file = os.path.join(ch488_downsized_dir,'downsized_for_atlas_ch488.tif')\n",
    "ch488_downsized_vol = tifffile.imread(ch488_downsized_file)\n",
    "ch642_downsized_dir = os.path.join(faulty_clearmap_dir,'Ex_642_Em_2_downsized')\n",
    "ch642_downsized_file = os.path.join(ch642_downsized_dir,'downsized_for_atlas_ch642.tif')\n",
    "ch642_downsized_vol = tifffile.imread(ch642_downsized_file)"
   ]
  },
  {
   "cell_type": "code",
   "execution_count": null,
   "metadata": {},
   "outputs": [],
   "source": [
    "working_clearmap_dir = os.path.join(output_rootpath,request_name,working_brain,'imaging_request_1','rawdata','resolution_3.6x')"
   ]
  },
  {
   "cell_type": "code",
   "execution_count": null,
   "metadata": {},
   "outputs": [],
   "source": [
    "ws_working = wsp.Workspace('CellMap', directory=working_clearmap_dir);\n",
    "ws_working.debug=False\n",
    "ws_working.info()"
   ]
  },
  {
   "cell_type": "code",
   "execution_count": null,
   "metadata": {},
   "outputs": [],
   "source": [
    "ch488_downsized_dir_working = os.path.join(working_clearmap_dir,'Ex_488_Em_0_downsized')\n",
    "ch488_downsized_file_working = os.path.join(ch488_downsized_dir_working,'downsized_for_atlas_ch488.tif')\n",
    "ch488_downsized_vol_working = tifffile.imread(ch488_downsized_file_working)"
   ]
  },
  {
   "cell_type": "code",
   "execution_count": null,
   "metadata": {},
   "outputs": [],
   "source": [
    "cells_source_faulty = ws_faulty.source('cells', postfix='raw')\n",
    "coordinates_faulty = np.hstack([cells_source_faulty[c][:,None] for c in 'xyz']);"
   ]
  },
  {
   "cell_type": "code",
   "execution_count": null,
   "metadata": {},
   "outputs": [],
   "source": [
    "# Verify that raw cells are in the right locations and we understand the x,y,z layout of these clearmap files\n",
    "zplane=1200 # just pick a z plane where we know there will be cells\n",
    "zplane_depth = 3\n",
    "minplane = max(zplane-zplane_depth,0)\n",
    "maxplane = zplane+zplane_depth\n",
    "zplane_range = range(minplane,maxplane)\n",
    "this_plane_coords = np.array([coord for coord in coordinates_faulty if coord[-1] in zplane_range])\n",
    "xs = this_plane_coords[:,0]\n",
    "ys = this_plane_coords[:,1]\n",
    "fig,axes = plt.subplots(figsize=(15,8),nrows=1,ncols=2,sharex=True,sharey=True)\n",
    "ax_tissue = axes[0]\n",
    "stitched_z_plane = ws_faulty.source('stitched')[:,:,zplane] \n",
    "ax_tissue.imshow(stitched_z_plane,vmin=0,vmax=200,cmap='viridis')\n",
    "ax_both=axes[1]\n",
    "ax_both.imshow(stitched_z_plane,vmin=0,vmax=200,cmap='viridis')\n",
    "ax_both.scatter(ys,xs,s=50,facecolors='none',edgecolors='r') # [::10] shows every 10th cell. I do this because there are so many cells that showing them all is a mess"
   ]
  },
  {
   "cell_type": "markdown",
   "metadata": {},
   "source": [
    "## Resample to faulty 642 downsized space"
   ]
  },
  {
   "cell_type": "code",
   "execution_count": null,
   "metadata": {},
   "outputs": [],
   "source": [
    "coordinates_raw_swapped_axes = np.zeros_like(coordinates_faulty)\n",
    "coordinates_raw_swapped_axes[:,0] = coordinates_faulty[:,2]\n",
    "coordinates_raw_swapped_axes[:,1] = coordinates_faulty[:,1]\n",
    "coordinates_raw_swapped_axes[:,2] = coordinates_faulty[:,0]"
   ]
  },
  {
   "cell_type": "code",
   "execution_count": null,
   "metadata": {},
   "outputs": [],
   "source": [
    "coordinates_resampled = res.resample_points(\n",
    "    coordinates_raw_swapped_axes, sink=None, orientation=None,\n",
    "    source_shape=io.shape(ws_faulty.filename('stitched'))[::-1],\n",
    "    sink_shape=io.shape(ch642_downsized_file))"
   ]
  },
  {
   "cell_type": "code",
   "execution_count": null,
   "metadata": {},
   "outputs": [],
   "source": [
    "io.shape(ch642_downsized_file) # x,y,z where z are horizontal planes"
   ]
  },
  {
   "cell_type": "code",
   "execution_count": null,
   "metadata": {},
   "outputs": [],
   "source": [
    "coordinates_resampled"
   ]
  },
  {
   "cell_type": "code",
   "execution_count": null,
   "metadata": {},
   "outputs": [],
   "source": [
    "# visually verify that the points are still in the right locations\n",
    "zplane=270 # the equivalent to z=2000 raw data that we used\n",
    "zplane_depth = 1\n",
    "minplane = max(zplane-zplane_depth,0)\n",
    "maxplane = zplane+zplane_depth\n",
    "zplane_range = range(minplane,maxplane)\n",
    "this_plane_coords_resampled = np.array([coord for coord in coordinates_resampled if int(coord[0]) in zplane_range])\n",
    "ys = this_plane_coords_resampled[:,1]\n",
    "zs = this_plane_coords_resampled[:,2]\n",
    "fig,axes = plt.subplots(figsize=(15,8),nrows=1,ncols=2,sharex=True,sharey=True)\n",
    "ax_tissue = axes[0]\n",
    "resampled_z_plane = ch642_downsized_vol[:,:,zplane]\n",
    "# resampled_z_plane_fixaxes = np.swapaxes(resampled_z_plane,0,1)\n",
    "ax_tissue.imshow(resampled_z_plane,vmin=0,vmax=200,cmap='viridis')\n",
    "ax_both=axes[1]\n",
    "ax_both.imshow(resampled_z_plane,vmin=0,vmax=200,cmap='viridis')\n",
    "ax_both.scatter(ys,zs,s=50,facecolors='none',edgecolors='r')"
   ]
  },
  {
   "cell_type": "markdown",
   "metadata": {},
   "source": [
    "This still looks good."
   ]
  },
  {
   "cell_type": "markdown",
   "metadata": {},
   "source": [
    "## Transform from faulty 642 downsized to faulty 488 downsized"
   ]
  },
  {
   "cell_type": "code",
   "execution_count": null,
   "metadata": {},
   "outputs": [],
   "source": [
    "# Transform cell coordinates from 642-space to 488-space\n",
    "elastix_inverse_dir = os.path.join(faulty_clearmap_dir,\"elastix_inverse_transform\",\"488_to_642\")\n",
    "coordinates_aligned_to_488 = elx.transform_points(\n",
    "        coordinates_resampled, sink=None,\n",
    "        transform_directory=elastix_inverse_dir,\n",
    "        temp_file='/tmp/elastix_input_pipeline.bin',\n",
    "        result_directory='/tmp/elastix_output_pipeline')\n"
   ]
  },
  {
   "cell_type": "code",
   "execution_count": null,
   "metadata": {},
   "outputs": [],
   "source": [
    "coordinates_aligned_to_488"
   ]
  },
  {
   "cell_type": "code",
   "execution_count": null,
   "metadata": {},
   "outputs": [],
   "source": [
    "# Verify that raw cells are in the right locations and we understand the x,y,z layout of these clearmap files\n",
    "zplane=270 # the equivalent to z=2000 raw data that we used\n",
    "zplane_depth = 1\n",
    "minplane = max(zplane-zplane_depth,0)\n",
    "maxplane = zplane+zplane_depth\n",
    "zplane_range = range(minplane,maxplane)\n",
    "this_plane_coords_aligned_to_488 = np.array([coord for coord in coordinates_aligned_to_488 if int(coord[0]) in zplane_range])\n",
    "ys = this_plane_coords_aligned_to_488[:,1]\n",
    "zs = this_plane_coords_aligned_to_488[:,2]\n",
    "\n",
    "fig,axes = plt.subplots(figsize=(15,8),nrows=1,ncols=2,sharex=True,sharey=True)\n",
    "ax_tissue = axes[0]\n",
    "resampled_z_plane = ch488_downsized_vol[:,:,zplane]\n",
    "# resampled_z_plane_fixaxes = np.swapaxes(resampled_z_plane,0,1)\n",
    "ax_tissue.imshow(resampled_z_plane,vmin=0,vmax=1200,cmap='viridis')\n",
    "ax_both=axes[1]\n",
    "ax_both.imshow(resampled_z_plane,vmin=0,vmax=1200,cmap='viridis')\n",
    "ax_both.scatter(ys,zs,s=50,facecolors='none',edgecolors='r')"
   ]
  },
  {
   "cell_type": "markdown",
   "metadata": {},
   "source": [
    "Still looks good. "
   ]
  },
  {
   "cell_type": "markdown",
   "metadata": {},
   "source": [
    "## Transformation from faulty 488 downsized to working 488 downsized\n",
    "This is the part that is different. Here, we need to transform between two different brains, then use the 488 -> atlas transformation from the second brain to get us all the way to atlas space. "
   ]
  },
  {
   "cell_type": "code",
   "execution_count": null,
   "metadata": {},
   "outputs": [],
   "source": [
    "# Transform cell coordinates from 488-space (faulty) to 488-space (working)\n",
    "elastix_inverse_dir_working = os.path.join(faulty_clearmap_dir,f\"elastix_inverse_transform_488_to_{working_brain}_488\")\n",
    "coordinates_aligned_to_488_working = elx.transform_points(\n",
    "        coordinates_aligned_to_488, sink=None,\n",
    "        transform_directory=elastix_inverse_dir_working,\n",
    "        temp_file='/tmp/elastix_input_pipeline.bin',\n",
    "        result_directory='/tmp/elastix_output_pipeline')"
   ]
  },
  {
   "cell_type": "code",
   "execution_count": null,
   "metadata": {},
   "outputs": [],
   "source": [
    "coordinates_aligned_to_488_working"
   ]
  },
  {
   "cell_type": "code",
   "execution_count": null,
   "metadata": {},
   "outputs": [],
   "source": [
    "zplane=270 # the equivalent to z=2000 raw data that we used\n",
    "zplane_depth = 1\n",
    "minplane = max(zplane-zplane_depth,0)\n",
    "maxplane = zplane+zplane_depth\n",
    "zplane_range = range(minplane,maxplane)\n",
    "this_plane_coords_aligned_to_488_working = np.array(\n",
    "    [coord for coord in coordinates_aligned_to_488_working if int(coord[0]) in zplane_range])\n",
    "ys = this_plane_coords_aligned_to_488_working[:,1]\n",
    "zs = this_plane_coords_aligned_to_488_working[:,2]\n",
    "\n",
    "fig,axes = plt.subplots(figsize=(15,8),nrows=1,ncols=2,sharex=True,sharey=True)\n",
    "ax_tissue = axes[0]\n",
    "resampled_z_plane = ch488_downsized_vol_working[:,:,zplane]\n",
    "# resampled_z_plane_fixaxes = np.swapaxes(resampled_z_plane,0,1)\n",
    "ax_tissue.imshow(resampled_z_plane,vmin=0,vmax=1200,cmap='viridis')\n",
    "ax_both=axes[1]\n",
    "ax_both.imshow(resampled_z_plane,vmin=0,vmax=1200,cmap='viridis')\n",
    "ax_both.scatter(ys,zs,s=50,facecolors='none',edgecolors='r')"
   ]
  },
  {
   "cell_type": "markdown",
   "metadata": {},
   "source": [
    "These don't need to overlap with the brain itself since they are coordinates from another brain warped to this space. They just need to show that they are in the right space, which they are."
   ]
  },
  {
   "cell_type": "markdown",
   "metadata": {},
   "source": [
    "## Final step: Transform working 488 downsized -> Princeton Mouse Atlas\n",
    "This is the final step and the result will be the cell coordinates of the original faulty brain aligned to the Princeton Mouse Atlas. The transform_directory here is the inverse transform directory from the working brain, i.e. the location where the results from transforming atlas -> downsized 488 working are. "
   ]
  },
  {
   "cell_type": "code",
   "execution_count": null,
   "metadata": {},
   "outputs": [],
   "source": [
    "# Transform cell coordinates from working 488-space to atlas\n",
    "elastix_inverse_dir_working_atlas = os.path.join(working_clearmap_dir,f\"elastix_inverse_transform\")\n",
    "# elastix_inverse_dir_working_atlas\n",
    "coordinates_aligned_to_atlas = elx.transform_points(\n",
    "        coordinates_aligned_to_488_working, sink=None,\n",
    "        transform_directory=elastix_inverse_dir_working_atlas,\n",
    "        temp_file='/tmp/elastix_input_pipeline.bin',\n",
    "        result_directory='/tmp/elastix_output_pipeline')"
   ]
  },
  {
   "cell_type": "code",
   "execution_count": null,
   "metadata": {},
   "outputs": [],
   "source": [
    "# Load the princeton mouse atlas tissue volume\n",
    "pma_file = '/jukebox/LightSheetTransfer/atlas/sagittal_atlas_20um_iso.tif'\n",
    "pma_vol = tifffile.imread(pma_file)"
   ]
  },
  {
   "cell_type": "code",
   "execution_count": null,
   "metadata": {},
   "outputs": [],
   "source": [
    "# Verify that cells are still in the right locations \n",
    "zplane=150\n",
    "zplane_depth = 1\n",
    "minplane = max(zplane-zplane_depth,0)\n",
    "maxplane = zplane+zplane_depth\n",
    "zplane_range = range(minplane,maxplane)\n",
    "this_plane_coords_aligned_to_atlas = np.array(\n",
    "    [coord for coord in coordinates_aligned_to_atlas if int(coord[0]) in zplane_range])\n",
    "ys = this_plane_coords_aligned_to_atlas[:,1]\n",
    "zs = this_plane_coords_aligned_to_atlas[:,2]\n",
    "\n",
    "fig,axes = plt.subplots(figsize=(15,8),nrows=1,ncols=2,sharex=True,sharey=True)\n",
    "ax_tissue = axes[0]\n",
    "atlas_z_plane = pma_vol[:,:,zplane]\n",
    "# atlas_z_plane_fixaxes = np.swapaxes(atlas_z_plane,0,1)\n",
    "ax_tissue.imshow(atlas_z_plane,vmin=0,vmax=500,cmap='viridis')\n",
    "ax_both=axes[1]\n",
    "ax_both.imshow(atlas_z_plane,vmin=0,vmax=500,cmap='viridis')\n",
    "ax_both.scatter(ys,zs,s=50,facecolors='none',edgecolors='r')\n",
    "ax_tissue.set_xlim(0,atlas_z_plane.shape[1])\n",
    "ax_tissue.set_ylim(0,atlas_z_plane.shape[0])\n",
    "plt.suptitle(f\"Points from {faulty_brain} aligned \\nvia {working_brain} transforms to atlas\",\n",
    "            fontsize=24)\n",
    "plt.tight_layout()\n",
    "savename = f'./{faulty_brain}_points_aligned_via_{working_brain}_to_atlas.png'\n",
    "plt.savefig(savename)\n",
    "print(f\"Saved {savename}\")"
   ]
  },
  {
   "cell_type": "markdown",
   "metadata": {},
   "source": [
    "Still looks good, just need to mask out points outside of the volume, which we do anyway. Ready to save these points. "
   ]
  },
  {
   "cell_type": "code",
   "execution_count": null,
   "metadata": {},
   "outputs": [],
   "source": [
    "# Load atlas files\n",
    "size_intensity = np.hstack([cells_source_faulty[c][:,None] for c in ['size','background']])\n",
    "\n",
    "eroded_atlas_file = '/jukebox/LightSheetTransfer/atlas/annotation_sagittal_atlas_20um_16bit_hierarch_labels_60um_edge_80um_vent_erosion.tif'\n",
    "segment_props_file = '/jukebox/LightSheetTransfer/atlas/PMA_16bit_hierarch_labels_segment_properties_info'\n",
    "ontology_json_file = '/jukebox/LightSheetTransfer/atlas/PMA_ontology.json'\n",
    "\n",
    "eroded_atlas_vol = np.array(tifffile.imread(eroded_atlas_file)).astype('uint16')\n",
    "atlas_segments = np.unique(eroded_atlas_vol)\n",
    "atlas_segments = np.array([x for x in atlas_segments if x!=0])\n",
    "\n",
    "with open(segment_props_file,'r') as infile:\n",
    "    segment_props_dict = json.load(infile)\n",
    "\n",
    "with open(ontology_json_file,'r') as infile:\n",
    "    ontology_dict = json.load(infile)\n",
    "\n",
    "# Record the brain region ID where a cell is detected, 0 if not in a region\n",
    "cell_regions = np.empty([len(coordinates_aligned_to_atlas), 1], dtype=int)\n",
    "xyz = np.asarray([(int(X[0]), int(X[1]), int(X[2])) for X in coordinates_aligned_to_atlas])\n",
    "for idx, val in enumerate(xyz):\n",
    "    try:\n",
    "        ID = eroded_atlas_vol[val[2],val[1],val[0]]\n",
    "        cell_regions[idx] = ID\n",
    "    except Exception as e:\n",
    "        cell_regions[idx] = 0\n",
    "        pass\n",
    "\n",
    "# Add brain region ID to transformed cell array \n",
    "cells_to_save = np.hstack((coordinates_aligned_to_atlas,size_intensity,cell_regions))\n",
    "header = ['x','y','z','size','intensity','region']\n",
    "dtypes = [int, int, int, int, float, int]\n",
    "dt = {'names' : header, 'formats' : dtypes}\n",
    "output_array = np.zeros(len(cells_to_save), dtype=dt)\n",
    "for i,h in enumerate(header):\n",
    "    output_array[h] = cells_to_save[:,i]\n",
    "# Remove cells that are outside the atlas\n",
    "output_array = np.delete(output_array,np.argwhere(cell_regions==0))\n",
    "\n",
    "# Save registered cells to cells_transformed_to_atlas.npy\n",
    "savename = ws_faulty.filename('cells',postfix='transformed_to_atlas')\n",
    "io.write(savename,output_array)\n",
    "print(f'Saving registered cell detection results to: {savename}')\n",
    "print()"
   ]
  },
  {
   "cell_type": "code",
   "execution_count": null,
   "metadata": {},
   "outputs": [],
   "source": []
  }
 ],
 "metadata": {
  "kernelspec": {
   "display_name": "cm",
   "language": "python",
   "name": "cm"
  },
  "language_info": {
   "codemirror_mode": {
    "name": "ipython",
    "version": 3
   },
   "file_extension": ".py",
   "mimetype": "text/x-python",
   "name": "python",
   "nbconvert_exporter": "python",
   "pygments_lexer": "ipython3",
   "version": "3.7.8"
  }
 },
 "nbformat": 4,
 "nbformat_minor": 4
}
