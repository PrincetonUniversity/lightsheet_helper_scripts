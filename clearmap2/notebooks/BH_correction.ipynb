{
 "cells": [
  {
   "cell_type": "code",
   "execution_count": 1,
   "metadata": {},
   "outputs": [],
   "source": [
    "import pandas as pd\n",
    "import numpy as np\n",
    "import matplotlib.pyplot as plt\n",
    "%matplotlib inline"
   ]
  },
  {
   "cell_type": "code",
   "execution_count": 2,
   "metadata": {},
   "outputs": [
    {
     "data": {
      "text/plain": [
       "'/home/ahoag/Git/lightsheet_helper_scripts/clearmap2/notebooks'"
      ]
     },
     "execution_count": 2,
     "metadata": {},
     "output_type": "execute_result"
    }
   ],
   "source": [
    "pwd"
   ]
  },
  {
   "cell_type": "code",
   "execution_count": 3,
   "metadata": {},
   "outputs": [],
   "source": [
    "data_file = '../data/LaVision-control-observer-pcounts-linreg.csv'"
   ]
  },
  {
   "cell_type": "code",
   "execution_count": 4,
   "metadata": {},
   "outputs": [],
   "source": [
    "df = pd.read_csv(data_file)"
   ]
  },
  {
   "cell_type": "code",
   "execution_count": 5,
   "metadata": {},
   "outputs": [
    {
     "data": {
      "text/html": [
       "<div>\n",
       "<style scoped>\n",
       "    .dataframe tbody tr th:only-of-type {\n",
       "        vertical-align: middle;\n",
       "    }\n",
       "\n",
       "    .dataframe tbody tr th {\n",
       "        vertical-align: top;\n",
       "    }\n",
       "\n",
       "    .dataframe thead th {\n",
       "        text-align: right;\n",
       "    }\n",
       "</style>\n",
       "<table border=\"1\" class=\"dataframe\">\n",
       "  <thead>\n",
       "    <tr style=\"text-align: right;\">\n",
       "      <th></th>\n",
       "      <th>control</th>\n",
       "      <th>treatment</th>\n",
       "      <th>region</th>\n",
       "      <th>Estimate</th>\n",
       "      <th>Std. Error</th>\n",
       "      <th>t value</th>\n",
       "      <th>Pr(&gt;|t|)</th>\n",
       "      <th>fdr_adj_pval</th>\n",
       "      <th>status</th>\n",
       "    </tr>\n",
       "  </thead>\n",
       "  <tbody>\n",
       "    <tr>\n",
       "      <th>0</th>\n",
       "      <td>control</td>\n",
       "      <td>observer</td>\n",
       "      <td>Frontal pole, layer 1</td>\n",
       "      <td>0.000027</td>\n",
       "      <td>0.000021</td>\n",
       "      <td>1.270170</td>\n",
       "      <td>0.216724</td>\n",
       "      <td>0.894225</td>\n",
       "      <td>success</td>\n",
       "    </tr>\n",
       "    <tr>\n",
       "      <th>1</th>\n",
       "      <td>control</td>\n",
       "      <td>observer</td>\n",
       "      <td>Frontal pole, layer 2/3</td>\n",
       "      <td>-0.000004</td>\n",
       "      <td>0.000007</td>\n",
       "      <td>-0.568116</td>\n",
       "      <td>0.575461</td>\n",
       "      <td>0.952124</td>\n",
       "      <td>success</td>\n",
       "    </tr>\n",
       "    <tr>\n",
       "      <th>2</th>\n",
       "      <td>control</td>\n",
       "      <td>observer</td>\n",
       "      <td>Primary motor area, Layer 2/3</td>\n",
       "      <td>-0.002362</td>\n",
       "      <td>0.001513</td>\n",
       "      <td>-1.561559</td>\n",
       "      <td>0.132048</td>\n",
       "      <td>0.879059</td>\n",
       "      <td>success</td>\n",
       "    </tr>\n",
       "    <tr>\n",
       "      <th>3</th>\n",
       "      <td>control</td>\n",
       "      <td>observer</td>\n",
       "      <td>Primary motor area, Layer 5</td>\n",
       "      <td>-0.000879</td>\n",
       "      <td>0.000794</td>\n",
       "      <td>-1.107241</td>\n",
       "      <td>0.279636</td>\n",
       "      <td>0.913933</td>\n",
       "      <td>success</td>\n",
       "    </tr>\n",
       "    <tr>\n",
       "      <th>4</th>\n",
       "      <td>control</td>\n",
       "      <td>observer</td>\n",
       "      <td>Primary motor area, Layer 6a</td>\n",
       "      <td>-0.001161</td>\n",
       "      <td>0.000896</td>\n",
       "      <td>-1.296299</td>\n",
       "      <td>0.207729</td>\n",
       "      <td>0.894225</td>\n",
       "      <td>success</td>\n",
       "    </tr>\n",
       "    <tr>\n",
       "      <th>...</th>\n",
       "      <td>...</td>\n",
       "      <td>...</td>\n",
       "      <td>...</td>\n",
       "      <td>...</td>\n",
       "      <td>...</td>\n",
       "      <td>...</td>\n",
       "      <td>...</td>\n",
       "      <td>...</td>\n",
       "      <td>...</td>\n",
       "    </tr>\n",
       "    <tr>\n",
       "      <th>461</th>\n",
       "      <td>control</td>\n",
       "      <td>observer</td>\n",
       "      <td>choroid plexus</td>\n",
       "      <td>0.000087</td>\n",
       "      <td>0.001028</td>\n",
       "      <td>0.084907</td>\n",
       "      <td>0.933070</td>\n",
       "      <td>0.970743</td>\n",
       "      <td>success</td>\n",
       "    </tr>\n",
       "    <tr>\n",
       "      <th>462</th>\n",
       "      <td>control</td>\n",
       "      <td>observer</td>\n",
       "      <td>third ventricle</td>\n",
       "      <td>0.000012</td>\n",
       "      <td>0.000193</td>\n",
       "      <td>0.062494</td>\n",
       "      <td>0.950709</td>\n",
       "      <td>0.972435</td>\n",
       "      <td>success</td>\n",
       "    </tr>\n",
       "    <tr>\n",
       "      <th>463</th>\n",
       "      <td>control</td>\n",
       "      <td>observer</td>\n",
       "      <td>cerebral aqueduct</td>\n",
       "      <td>0.000217</td>\n",
       "      <td>0.000147</td>\n",
       "      <td>1.471371</td>\n",
       "      <td>0.154742</td>\n",
       "      <td>0.894225</td>\n",
       "      <td>success</td>\n",
       "    </tr>\n",
       "    <tr>\n",
       "      <th>464</th>\n",
       "      <td>control</td>\n",
       "      <td>observer</td>\n",
       "      <td>fourth ventricle</td>\n",
       "      <td>-0.000441</td>\n",
       "      <td>0.000402</td>\n",
       "      <td>-1.098736</td>\n",
       "      <td>0.283252</td>\n",
       "      <td>0.913933</td>\n",
       "      <td>success</td>\n",
       "    </tr>\n",
       "    <tr>\n",
       "      <th>465</th>\n",
       "      <td>control</td>\n",
       "      <td>observer</td>\n",
       "      <td>lateral recess</td>\n",
       "      <td>-0.000001</td>\n",
       "      <td>0.000002</td>\n",
       "      <td>-0.825317</td>\n",
       "      <td>0.417670</td>\n",
       "      <td>0.935503</td>\n",
       "      <td>success</td>\n",
       "    </tr>\n",
       "  </tbody>\n",
       "</table>\n",
       "<p>466 rows × 9 columns</p>\n",
       "</div>"
      ],
      "text/plain": [
       "     control treatment                         region  Estimate  Std. Error  \\\n",
       "0    control  observer          Frontal pole, layer 1  0.000027    0.000021   \n",
       "1    control  observer        Frontal pole, layer 2/3 -0.000004    0.000007   \n",
       "2    control  observer  Primary motor area, Layer 2/3 -0.002362    0.001513   \n",
       "3    control  observer    Primary motor area, Layer 5 -0.000879    0.000794   \n",
       "4    control  observer   Primary motor area, Layer 6a -0.001161    0.000896   \n",
       "..       ...       ...                            ...       ...         ...   \n",
       "461  control  observer                 choroid plexus  0.000087    0.001028   \n",
       "462  control  observer                third ventricle  0.000012    0.000193   \n",
       "463  control  observer              cerebral aqueduct  0.000217    0.000147   \n",
       "464  control  observer               fourth ventricle -0.000441    0.000402   \n",
       "465  control  observer                 lateral recess -0.000001    0.000002   \n",
       "\n",
       "      t value  Pr(>|t|)  fdr_adj_pval   status  \n",
       "0    1.270170  0.216724      0.894225  success  \n",
       "1   -0.568116  0.575461      0.952124  success  \n",
       "2   -1.561559  0.132048      0.879059  success  \n",
       "3   -1.107241  0.279636      0.913933  success  \n",
       "4   -1.296299  0.207729      0.894225  success  \n",
       "..        ...       ...           ...      ...  \n",
       "461  0.084907  0.933070      0.970743  success  \n",
       "462  0.062494  0.950709      0.972435  success  \n",
       "463  1.471371  0.154742      0.894225  success  \n",
       "464 -1.098736  0.283252      0.913933  success  \n",
       "465 -0.825317  0.417670      0.935503  success  \n",
       "\n",
       "[466 rows x 9 columns]"
      ]
     },
     "execution_count": 5,
     "metadata": {},
     "output_type": "execute_result"
    }
   ],
   "source": [
    "df"
   ]
  },
  {
   "cell_type": "code",
   "execution_count": 6,
   "metadata": {},
   "outputs": [
    {
     "data": {
      "text/plain": [
       "Index(['control', 'treatment', 'region', 'Estimate', 'Std. Error', 't value',\n",
       "       'Pr(>|t|)', 'fdr_adj_pval', 'status'],\n",
       "      dtype='object')"
      ]
     },
     "execution_count": 6,
     "metadata": {},
     "output_type": "execute_result"
    }
   ],
   "source": [
    "df.columns"
   ]
  },
  {
   "cell_type": "code",
   "execution_count": 7,
   "metadata": {},
   "outputs": [],
   "source": [
    "p_values = df['Pr(>|t|)']"
   ]
  },
  {
   "cell_type": "code",
   "execution_count": 8,
   "metadata": {},
   "outputs": [
    {
     "data": {
      "text/plain": [
       "<matplotlib.collections.PathCollection at 0x7fea11a54a00>"
      ]
     },
     "execution_count": 8,
     "metadata": {},
     "output_type": "execute_result"
    },
    {
     "data": {
      "image/png": "[encoded data removed]",
      "text/plain": [
       "<Figure size 432x288 with 1 Axes>"
      ]
     },
     "metadata": {
      "needs_background": "light"
     },
     "output_type": "display_data"
    }
   ],
   "source": [
    "plt.scatter([x for x in range(len(p_values))],p_values)"
   ]
  },
  {
   "cell_type": "code",
   "execution_count": 9,
   "metadata": {},
   "outputs": [
    {
     "data": {
      "text/plain": [
       "(array([58., 46., 46., 50., 45., 42., 51., 47., 47., 34.]),\n",
       " array([0.0075887 , 0.10627441, 0.20496011, 0.30364581, 0.40233151,\n",
       "        0.50101721, 0.59970291, 0.69838861, 0.79707431, 0.89576001,\n",
       "        0.99444571]),\n",
       " <BarContainer object of 10 artists>)"
      ]
     },
     "execution_count": 9,
     "metadata": {},
     "output_type": "execute_result"
    },
    {
     "data": {
      "image/png": "[encoded data removed]",
      "text/plain": [
       "<Figure size 432x288 with 1 Axes>"
      ]
     },
     "metadata": {
      "needs_background": "light"
     },
     "output_type": "display_data"
    }
   ],
   "source": [
    "plt.hist(p_values)"
   ]
  },
  {
   "cell_type": "code",
   "execution_count": 10,
   "metadata": {},
   "outputs": [],
   "source": [
    "def bh(p_values):\n",
    "    # Benjamini-Hochberg correction of p-values\n",
    "    # Keep a dictionary that maps original index in p-vlaue li\n",
    "    # Sort\n",
    "    sorted_p_values = sorted(p_values)\n",
    "    adjusted_p_values = np.zeros_like(sorted_p_values)\n",
    "    # Fill them from highest to lowest\n",
    "    adjusted_p_values[-1] = sorted_p_values[-1]\n",
    "    for p_value_index in range(len(sorted_p_values)-2,-1,-1):\n",
    "        next_highest = adjusted_p_values[p_value_index+1]\n",
    "        rank_current = p_value_index+1\n",
    "        mod_current = sorted_p_values[p_value_index] * (len(sorted_p_values)/rank_current)\n",
    "        adjusted_p_value = min(next_highest,mod_current)\n",
    "        adjusted_p_values[p_value_index] = adjusted_p_value\n",
    "    # return them in the original order\n",
    "    \n",
    "    return adjusted_p_values"
   ]
  },
  {
   "cell_type": "code",
   "execution_count": 12,
   "metadata": {},
   "outputs": [],
   "source": [
    "my_dict_list = [\n",
    "    {'id':'A','p-value':0.9},\n",
    "    {'id':'B','p-value':0.1},\n",
    "    {'id':'C','p-value':0.2},\n",
    "    {'id':'D','p-value':0.04},\n",
    "]\n"
   ]
  },
  {
   "cell_type": "code",
   "execution_count": 15,
   "metadata": {},
   "outputs": [
    {
     "data": {
      "text/plain": [
       "[{'id': 'D', 'p-value': 0.04},\n",
       " {'id': 'B', 'p-value': 0.1},\n",
       " {'id': 'C', 'p-value': 0.2},\n",
       " {'id': 'A', 'p-value': 0.9}]"
      ]
     },
     "execution_count": 15,
     "metadata": {},
     "output_type": "execute_result"
    }
   ],
   "source": [
    "sorted_dict_list = sorted(my_dict_list,key=lambda x: x['p-value'])\n",
    "sorted_dict_list"
   ]
  },
  {
   "cell_type": "code",
   "execution_count": 17,
   "metadata": {},
   "outputs": [
    {
     "data": {
      "text/plain": [
       "array([0.16      , 0.2       , 0.26666667, 0.9       ])"
      ]
     },
     "execution_count": 17,
     "metadata": {},
     "output_type": "execute_result"
    }
   ],
   "source": [
    "sorted_p_values = [x['p-value'] for x in sorted_dict_list]\n",
    "adjusted_p_values = bh(sorted_p_values)\n",
    "adjusted_p_values"
   ]
  },
  {
   "cell_type": "code",
   "execution_count": 18,
   "metadata": {},
   "outputs": [],
   "source": [
    "for ii in range(len(sorted_dict_list)):\n",
    "    sorted_dict_list[ii]['adjusted_p-value'] = adjusted_p_values[ii]"
   ]
  },
  {
   "cell_type": "code",
   "execution_count": 19,
   "metadata": {},
   "outputs": [
    {
     "data": {
      "text/plain": [
       "[{'id': 'D', 'p-value': 0.04, 'adjusted_p-value': 0.16},\n",
       " {'id': 'B', 'p-value': 0.1, 'adjusted_p-value': 0.2},\n",
       " {'id': 'C', 'p-value': 0.2, 'adjusted_p-value': 0.26666666666666666},\n",
       " {'id': 'A', 'p-value': 0.9, 'adjusted_p-value': 0.9}]"
      ]
     },
     "execution_count": 19,
     "metadata": {},
     "output_type": "execute_result"
    }
   ],
   "source": [
    "sorted_dict_list"
   ]
  },
  {
   "cell_type": "code",
   "execution_count": 11,
   "metadata": {},
   "outputs": [],
   "source": [
    "p_values = [0.1,0.9,0.5,0.2]"
   ]
  },
  {
   "cell_type": "code",
   "execution_count": 70,
   "metadata": {},
   "outputs": [],
   "source": [
    "argsort = np.argsort(p_values)"
   ]
  },
  {
   "cell_type": "code",
   "execution_count": null,
   "metadata": {},
   "outputs": [],
   "source": []
  },
  {
   "cell_type": "code",
   "execution_count": 71,
   "metadata": {},
   "outputs": [
    {
     "data": {
      "text/plain": [
       "array([0.4       , 0.4       , 0.66666667, 0.9       ])"
      ]
     },
     "execution_count": 71,
     "metadata": {},
     "output_type": "execute_result"
    }
   ],
   "source": [
    "a=bh(p_values)\n",
    "a"
   ]
  },
  {
   "cell_type": "code",
   "execution_count": 72,
   "metadata": {},
   "outputs": [
    {
     "data": {
      "text/plain": [
       "array([0.4       , 0.9       , 0.66666667, 0.4       ])"
      ]
     },
     "execution_count": 72,
     "metadata": {},
     "output_type": "execute_result"
    }
   ],
   "source": [
    "a[argsort]"
   ]
  },
  {
   "cell_type": "code",
   "execution_count": 15,
   "metadata": {},
   "outputs": [
    {
     "data": {
      "text/plain": [
       "466"
      ]
     },
     "execution_count": 15,
     "metadata": {},
     "output_type": "execute_result"
    }
   ],
   "source": [
    "len(sorted_p_values)"
   ]
  },
  {
   "cell_type": "code",
   "execution_count": 20,
   "metadata": {},
   "outputs": [],
   "source": [
    "adjusted_p_values = np.zeros_like(sorted_p_values)"
   ]
  },
  {
   "cell_type": "code",
   "execution_count": 44,
   "metadata": {},
   "outputs": [
    {
     "data": {
      "text/plain": [
       "<matplotlib.collections.PathCollection at 0x7fbb63f61fa0>"
      ]
     },
     "execution_count": 44,
     "metadata": {},
     "output_type": "execute_result"
    },
    {
     "data": {
      "image/png": "[encoded data removed]",
      "text/plain": [
       "<Figure size 432x288 with 1 Axes>"
      ]
     },
     "metadata": {
      "needs_background": "light"
     },
     "output_type": "display_data"
    }
   ],
   "source": [
    "plt.scatter([x for x in range(len(adjusted_p_values))],adjusted_p_values)"
   ]
  },
  {
   "cell_type": "code",
   "execution_count": 45,
   "metadata": {},
   "outputs": [
    {
     "data": {
      "text/plain": [
       "(array([ 63.,   1.,  11.,  57.,  27.,  48.,  55., 162.,  36.,   6.]),\n",
       " array([0.83642324, 0.85222548, 0.86802773, 0.88382998, 0.89963223,\n",
       "        0.91543447, 0.93123672, 0.94703897, 0.96284121, 0.97864346,\n",
       "        0.99444571]),\n",
       " <BarContainer object of 10 artists>)"
      ]
     },
     "execution_count": 45,
     "metadata": {},
     "output_type": "execute_result"
    },
    {
     "data": {
      "image/png": "[encoded data removed]",
      "text/plain": [
       "<Figure size 432x288 with 1 Axes>"
      ]
     },
     "metadata": {
      "needs_background": "light"
     },
     "output_type": "display_data"
    }
   ],
   "source": [
    "plt.hist(adjusted_p_values)"
   ]
  },
  {
   "cell_type": "code",
   "execution_count": 43,
   "metadata": {},
   "outputs": [],
   "source": [
    "np.random.shuffle(adjusted_p_values)"
   ]
  },
  {
   "cell_type": "code",
   "execution_count": 78,
   "metadata": {},
   "outputs": [],
   "source": [
    "l=[1,2,4,3,0,8]\n",
    "# np.array(sorted(l))"
   ]
  },
  {
   "cell_type": "code",
   "execution_count": 79,
   "metadata": {},
   "outputs": [
    {
     "data": {
      "text/plain": [
       "[array([4, 0, 1, 3, 2, 5])]"
      ]
     },
     "execution_count": 79,
     "metadata": {},
     "output_type": "execute_result"
    }
   ],
   "source": [
    "[np.argsort(l)]"
   ]
  },
  {
   "cell_type": "code",
   "execution_count": null,
   "metadata": {},
   "outputs": [],
   "source": []
  }
 ],
 "metadata": {
  "kernelspec": {
   "display_name": "cfos",
   "language": "python",
   "name": "cfos"
  },
  "language_info": {
   "codemirror_mode": {
    "name": "ipython",
    "version": 3
   },
   "file_extension": ".py",
   "mimetype": "text/x-python",
   "name": "python",
   "nbconvert_exporter": "python",
   "pygments_lexer": "ipython3",
   "version": "3.8.11"
  }
 },
 "nbformat": 4,
 "nbformat_minor": 4
}
